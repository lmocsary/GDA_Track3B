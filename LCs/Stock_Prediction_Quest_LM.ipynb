{
 "cells": [
  {
   "cell_type": "markdown",
   "source": "### Introduction \nIn this exercise you will work with stock market data. We use the data available at [Yahoo Finance](https://finance.yahoo.com/quote/DAX/history?period1=1478390400&period2=1604534400&interval=1d&filter=history&frequency=1d&includeAdjustedClose=true)\nYou will build sequential models to predict the variations for Global X DAX Germany ETF (DAX). The goal is to predict whether the stock value is higher or lower than its actual value of previous day.",
   "metadata": {
    "id": "otl-MXUqPWAs",
    "cell_id": "00000-08c8d51d-62b1-4043-99a5-25d299dd381e",
    "deepnote_cell_type": "markdown"
   }
  },
  {
   "cell_type": "code",
   "metadata": {
    "id": "XHfBtj1tloYy",
    "cell_id": "00001-ee22df24-8a63-4a6c-b0a0-e1f742c1ef6e",
    "deepnote_to_be_reexecuted": false,
    "source_hash": "a1374096",
    "execution_start": 1637589602979,
    "execution_millis": 3238,
    "deepnote_cell_type": "code"
   },
   "source": "import numpy as np\nimport matplotlib.pyplot as plt\nimport pandas as pd\n\nfrom sklearn.preprocessing import MinMaxScaler\n\nfrom tensorflow.keras.models import Sequential\nfrom tensorflow.keras.layers import Dense\nfrom tensorflow.keras.layers import LSTM\nfrom tensorflow.keras.layers import Dropout, BatchNormalization",
   "execution_count": 1,
   "outputs": []
  },
  {
   "cell_type": "markdown",
   "source": "### Loading and Preprocessing Data",
   "metadata": {
    "id": "o9DlO6aW6fOB",
    "cell_id": "00002-5437e0da-6fb5-4fce-b264-76a1fc90f245",
    "deepnote_cell_type": "markdown"
   }
  },
  {
   "cell_type": "code",
   "metadata": {
    "id": "fbTjC8sq-sI2",
    "cell_id": "00003-4ba2aa8a-abbb-4c66-9127-e08389323159",
    "deepnote_to_be_reexecuted": false,
    "source_hash": "c4d6795",
    "execution_start": 1637589606217,
    "execution_millis": 0,
    "deepnote_cell_type": "code"
   },
   "source": "# Load dataset\n#path=\"https://github.com/murpi/wilddata/blob/master/quests/dax/\"\npath=\"https://raw.githubusercontent.com/murpi/wilddata/master/quests/dax/\"",
   "execution_count": 2,
   "outputs": []
  },
  {
   "cell_type": "code",
   "metadata": {
    "id": "pY8H6OBu6Z-F",
    "colab": {
     "base_uri": "https://localhost:8080/"
    },
    "outputId": "d2520776-f401-485e-dbdf-30421f31e656",
    "cell_id": "00004-2253dc85-c3e6-46ba-a15a-796e63d6ae4a",
    "deepnote_to_be_reexecuted": false,
    "source_hash": "471713f1",
    "execution_start": 1637589606218,
    "execution_millis": 141,
    "deepnote_output_heights": [
     607
    ],
    "deepnote_cell_type": "code"
   },
   "source": "# Loading training data\n#training_data = pd.read_csv(path + \"dax_train_2019.csv.txt\", )\nfile= path+'dax_train_2019.csv.txt'\n#file = '/work/dax_train_2019.csv'\ntraining_data = pd.read_csv(file)\nprint(f\"Training data column info:\\n {training_data.dtypes}\")\nprint(f\"Training data shape is {training_data.shape}\")",
   "execution_count": 3,
   "outputs": [
    {
     "name": "stdout",
     "text": "Training data column info:\n date          object\nopen         float64\nhigh         float64\nlow          float64\nclose        float64\nadj_close    float64\nvolume         int64\ndtype: object\nTraining data shape is (644, 7)\n",
     "output_type": "stream"
    }
   ]
  },
  {
   "cell_type": "code",
   "metadata": {
    "tags": [],
    "cell_id": "00005-32a1b2a7-ab5b-4c4b-a8e6-6421173136d8",
    "deepnote_to_be_reexecuted": false,
    "source_hash": "ef7172e4",
    "execution_start": 1637589606380,
    "execution_millis": 67,
    "deepnote_cell_type": "code"
   },
   "source": "training_data",
   "execution_count": 4,
   "outputs": [
    {
     "output_type": "execute_result",
     "execution_count": 4,
     "data": {
      "application/vnd.deepnote.dataframe.v2+json": {
       "row_count": 644,
       "column_count": 7,
       "columns": [
        {
         "name": "date",
         "dtype": "object",
         "stats": {
          "unique_count": 644,
          "nan_count": 0,
          "categories": [
           {
            "name": "2016-11-07",
            "count": 1
           },
           {
            "name": "2016-11-08",
            "count": 1
           },
           {
            "name": "642 others",
            "count": 642
           }
          ]
         }
        },
        {
         "name": "open",
         "dtype": "float64",
         "stats": {
          "unique_count": 494,
          "nan_count": 0,
          "min": "23.49",
          "max": "33.959999",
          "histogram": [
           {
            "bin_start": 23.49,
            "bin_end": 24.536999899999998,
            "count": 42
           },
           {
            "bin_start": 24.536999899999998,
            "bin_end": 25.5839998,
            "count": 80
           },
           {
            "bin_start": 25.5839998,
            "bin_end": 26.6309997,
            "count": 105
           },
           {
            "bin_start": 26.6309997,
            "bin_end": 27.6779996,
            "count": 53
           },
           {
            "bin_start": 27.6779996,
            "bin_end": 28.724999500000003,
            "count": 45
           },
           {
            "bin_start": 28.724999500000003,
            "bin_end": 29.771999400000002,
            "count": 118
           },
           {
            "bin_start": 29.771999400000002,
            "bin_end": 30.8189993,
            "count": 73
           },
           {
            "bin_start": 30.8189993,
            "bin_end": 31.865999200000005,
            "count": 104
           },
           {
            "bin_start": 31.865999200000005,
            "bin_end": 32.91299910000001,
            "count": 14
           },
           {
            "bin_start": 32.91299910000001,
            "bin_end": 33.959999,
            "count": 10
           }
          ]
         }
        },
        {
         "name": "high",
         "dtype": "float64",
         "stats": {
          "unique_count": 534,
          "nan_count": 0,
          "min": "23.49",
          "max": "34.0",
          "histogram": [
           {
            "bin_start": 23.49,
            "bin_end": 24.540999999999997,
            "count": 39
           },
           {
            "bin_start": 24.540999999999997,
            "bin_end": 25.592,
            "count": 75
           },
           {
            "bin_start": 25.592,
            "bin_end": 26.643,
            "count": 108
           },
           {
            "bin_start": 26.643,
            "bin_end": 27.694,
            "count": 56
           },
           {
            "bin_start": 27.694,
            "bin_end": 28.744999999999997,
            "count": 42
           },
           {
            "bin_start": 28.744999999999997,
            "bin_end": 29.796,
            "count": 120
           },
           {
            "bin_start": 29.796,
            "bin_end": 30.847,
            "count": 71
           },
           {
            "bin_start": 30.847,
            "bin_end": 31.898,
            "count": 107
           },
           {
            "bin_start": 31.898,
            "bin_end": 32.949,
            "count": 14
           },
           {
            "bin_start": 32.949,
            "bin_end": 34,
            "count": 12
           }
          ]
         }
        },
        {
         "name": "low",
         "dtype": "float64",
         "stats": {
          "unique_count": 516,
          "nan_count": 0,
          "min": "23.209999",
          "max": "33.669998",
          "histogram": [
           {
            "bin_start": 23.209999,
            "bin_end": 24.2559989,
            "count": 33
           },
           {
            "bin_start": 24.2559989,
            "bin_end": 25.3019988,
            "count": 75
           },
           {
            "bin_start": 25.3019988,
            "bin_end": 26.347998699999998,
            "count": 99
           },
           {
            "bin_start": 26.347998699999998,
            "bin_end": 27.3939986,
            "count": 69
           },
           {
            "bin_start": 27.3939986,
            "bin_end": 28.4399985,
            "count": 33
           },
           {
            "bin_start": 28.4399985,
            "bin_end": 29.4859984,
            "count": 123
           },
           {
            "bin_start": 29.4859984,
            "bin_end": 30.531998299999998,
            "count": 69
           },
           {
            "bin_start": 30.531998299999998,
            "bin_end": 31.5779982,
            "count": 116
           },
           {
            "bin_start": 31.5779982,
            "bin_end": 32.6239981,
            "count": 14
           },
           {
            "bin_start": 32.6239981,
            "bin_end": 33.669998,
            "count": 13
           }
          ]
         }
        },
        {
         "name": "close",
         "dtype": "float64",
         "stats": {
          "unique_count": 536,
          "nan_count": 0,
          "min": "23.25",
          "max": "33.799999",
          "histogram": [
           {
            "bin_start": 23.25,
            "bin_end": 24.3049999,
            "count": 27
           },
           {
            "bin_start": 24.3049999,
            "bin_end": 25.3599998,
            "count": 77
           },
           {
            "bin_start": 25.3599998,
            "bin_end": 26.4149997,
            "count": 104
           },
           {
            "bin_start": 26.4149997,
            "bin_end": 27.4699996,
            "count": 67
           },
           {
            "bin_start": 27.4699996,
            "bin_end": 28.5249995,
            "count": 36
           },
           {
            "bin_start": 28.5249995,
            "bin_end": 29.5799994,
            "count": 125
           },
           {
            "bin_start": 29.5799994,
            "bin_end": 30.634999299999997,
            "count": 68
           },
           {
            "bin_start": 30.634999299999997,
            "bin_end": 31.6899992,
            "count": 110
           },
           {
            "bin_start": 31.6899992,
            "bin_end": 32.7449991,
            "count": 17
           },
           {
            "bin_start": 32.7449991,
            "bin_end": 33.799999,
            "count": 13
           }
          ]
         }
        },
        {
         "name": "adj_close",
         "dtype": "float64",
         "stats": {
          "unique_count": 574,
          "nan_count": 0,
          "min": "21.367905",
          "max": "31.583763",
          "histogram": [
           {
            "bin_start": 21.367905,
            "bin_end": 22.3894908,
            "count": 23
           },
           {
            "bin_start": 22.3894908,
            "bin_end": 23.4110766,
            "count": 39
           },
           {
            "bin_start": 23.4110766,
            "bin_end": 24.4326624,
            "count": 104
           },
           {
            "bin_start": 24.4326624,
            "bin_end": 25.454248200000002,
            "count": 81
           },
           {
            "bin_start": 25.454248200000002,
            "bin_end": 26.475834,
            "count": 51
           },
           {
            "bin_start": 26.475834,
            "bin_end": 27.4974198,
            "count": 114
           },
           {
            "bin_start": 27.4974198,
            "bin_end": 28.5190056,
            "count": 77
           },
           {
            "bin_start": 28.5190056,
            "bin_end": 29.5405914,
            "count": 124
           },
           {
            "bin_start": 29.5405914,
            "bin_end": 30.5621772,
            "count": 18
           },
           {
            "bin_start": 30.5621772,
            "bin_end": 31.583763,
            "count": 13
           }
          ]
         }
        },
        {
         "name": "volume",
         "dtype": "int64",
         "stats": {
          "unique_count": 151,
          "nan_count": 0,
          "min": "0",
          "max": "177600",
          "histogram": [
           {
            "bin_start": 0,
            "bin_end": 17760,
            "count": 617
           },
           {
            "bin_start": 17760,
            "bin_end": 35520,
            "count": 20
           },
           {
            "bin_start": 35520,
            "bin_end": 53280,
            "count": 3
           },
           {
            "bin_start": 53280,
            "bin_end": 71040,
            "count": 0
           },
           {
            "bin_start": 71040,
            "bin_end": 88800,
            "count": 3
           },
           {
            "bin_start": 88800,
            "bin_end": 106560,
            "count": 0
           },
           {
            "bin_start": 106560,
            "bin_end": 124320,
            "count": 0
           },
           {
            "bin_start": 124320,
            "bin_end": 142080,
            "count": 0
           },
           {
            "bin_start": 142080,
            "bin_end": 159840,
            "count": 0
           },
           {
            "bin_start": 159840,
            "bin_end": 177600,
            "count": 1
           }
          ]
         }
        },
        {
         "name": "_deepnote_index_column",
         "dtype": "int64"
        }
       ],
       "rows_top": [
        {
         "date": "2016-11-07",
         "open": 24.34,
         "high": 24.440001,
         "low": 24.304001,
         "close": 24.4,
         "adj_close": 22.092239,
         "volume": 2700,
         "_deepnote_index_column": 0
        },
        {
         "date": "2016-11-08",
         "open": 24.559999,
         "high": 24.559999,
         "low": 24.52,
         "close": 24.530001,
         "adj_close": 22.209948,
         "volume": 1100,
         "_deepnote_index_column": 1
        },
        {
         "date": "2016-11-09",
         "open": 24.296,
         "high": 24.610001,
         "low": 24.296,
         "close": 24.59,
         "adj_close": 22.264271,
         "volume": 900,
         "_deepnote_index_column": 2
        },
        {
         "date": "2016-11-10",
         "open": 24.75,
         "high": 24.75,
         "low": 24.360001,
         "close": 24.474001,
         "adj_close": 22.159245,
         "volume": 4600,
         "_deepnote_index_column": 3
        },
        {
         "date": "2016-11-11",
         "open": 24.41,
         "high": 24.537001,
         "low": 24.41,
         "close": 24.440001,
         "adj_close": 22.128456,
         "volume": 2700,
         "_deepnote_index_column": 4
        },
        {
         "date": "2016-11-14",
         "open": 24.139999,
         "high": 24.295,
         "low": 24.139999,
         "close": 24.24,
         "adj_close": 21.947376,
         "volume": 4800,
         "_deepnote_index_column": 5
        },
        {
         "date": "2016-11-15",
         "open": 24.120001,
         "high": 24.323,
         "low": 24.120001,
         "close": 24.27,
         "adj_close": 21.974537,
         "volume": 2100,
         "_deepnote_index_column": 6
        },
        {
         "date": "2016-11-16",
         "open": 24.040001,
         "high": 24.040001,
         "low": 24.040001,
         "close": 24.040001,
         "adj_close": 21.766293,
         "volume": 500,
         "_deepnote_index_column": 7
        },
        {
         "date": "2016-11-17",
         "open": 24.049999,
         "high": 24.139999,
         "low": 24.035,
         "close": 24.059999,
         "adj_close": 21.784399,
         "volume": 4100,
         "_deepnote_index_column": 8
        },
        {
         "date": "2016-11-18",
         "open": 23.950001,
         "high": 23.950001,
         "low": 23.84,
         "close": 23.879999,
         "adj_close": 21.621424,
         "volume": 1200,
         "_deepnote_index_column": 9
        },
        {
         "date": "2016-11-21",
         "open": 24.110001,
         "high": 24.110001,
         "low": 23.948,
         "close": 23.98,
         "adj_close": 21.711964,
         "volume": 6100,
         "_deepnote_index_column": 10
        },
        {
         "date": "2016-11-22",
         "open": 23.98,
         "high": 23.98,
         "low": 23.98,
         "close": 23.98,
         "adj_close": 21.711964,
         "volume": 0,
         "_deepnote_index_column": 11
        },
        {
         "date": "2016-11-23",
         "open": 23.860001,
         "high": 23.860001,
         "low": 23.700001,
         "close": 23.781,
         "adj_close": 21.531788,
         "volume": 5700,
         "_deepnote_index_column": 12
        },
        {
         "date": "2016-11-25",
         "open": 23.809999,
         "high": 23.809999,
         "low": 23.809999,
         "close": 23.809999,
         "adj_close": 21.558043,
         "volume": 1100,
         "_deepnote_index_column": 13
        },
        {
         "date": "2016-11-28",
         "open": 23.74,
         "high": 23.74,
         "low": 23.68,
         "close": 23.690001,
         "adj_close": 21.449394,
         "volume": 1300,
         "_deepnote_index_column": 14
        },
        {
         "date": "2016-11-29",
         "open": 23.646,
         "high": 23.914,
         "low": 23.610001,
         "close": 23.914,
         "adj_close": 21.652205,
         "volume": 1800,
         "_deepnote_index_column": 15
        },
        {
         "date": "2016-11-30",
         "open": 23.799999,
         "high": 23.825001,
         "low": 23.780001,
         "close": 23.780001,
         "adj_close": 21.53088,
         "volume": 900,
         "_deepnote_index_column": 16
        },
        {
         "date": "2016-12-01",
         "open": 23.620001,
         "high": 23.65,
         "low": 23.6,
         "close": 23.6,
         "adj_close": 21.367905,
         "volume": 6300,
         "_deepnote_index_column": 17
        },
        {
         "date": "2016-12-02",
         "open": 23.68,
         "high": 23.690001,
         "low": 23.67,
         "close": 23.690001,
         "adj_close": 21.449394,
         "volume": 900,
         "_deepnote_index_column": 18
        },
        {
         "date": "2016-12-05",
         "open": 23.950001,
         "high": 24.341999,
         "low": 23.950001,
         "close": 24.323,
         "adj_close": 22.022524,
         "volume": 17200,
         "_deepnote_index_column": 19
        },
        {
         "date": "2016-12-06",
         "open": 24.35,
         "high": 24.416,
         "low": 24.35,
         "close": 24.41,
         "adj_close": 22.101294,
         "volume": 6900,
         "_deepnote_index_column": 20
        },
        {
         "date": "2016-12-07",
         "open": 24.690001,
         "high": 25.18,
         "low": 24.690001,
         "close": 25.18,
         "adj_close": 22.798468,
         "volume": 4400,
         "_deepnote_index_column": 21
        },
        {
         "date": "2016-12-08",
         "open": 25,
         "high": 25.08,
         "low": 25,
         "close": 25.049999,
         "adj_close": 22.680761,
         "volume": 4400,
         "_deepnote_index_column": 22
        },
        {
         "date": "2016-12-09",
         "open": 24.98,
         "high": 25.040001,
         "low": 24.940001,
         "close": 25.039,
         "adj_close": 22.670805,
         "volume": 5000,
         "_deepnote_index_column": 23
        },
        {
         "date": "2016-12-12",
         "open": 25,
         "high": 25.097,
         "low": 25,
         "close": 25.097,
         "adj_close": 22.723318,
         "volume": 1200,
         "_deepnote_index_column": 24
        },
        {
         "date": "2016-12-13",
         "open": 25.24,
         "high": 25.379999,
         "low": 25.24,
         "close": 25.323,
         "adj_close": 22.927944,
         "volume": 2200,
         "_deepnote_index_column": 25
        },
        {
         "date": "2016-12-14",
         "open": 25.110001,
         "high": 25.32,
         "low": 24.91,
         "close": 24.91,
         "adj_close": 22.554003,
         "volume": 5200,
         "_deepnote_index_column": 26
        },
        {
         "date": "2016-12-15",
         "open": 24.952999,
         "high": 24.98,
         "low": 24.952999,
         "close": 24.98,
         "adj_close": 22.617382,
         "volume": 4300,
         "_deepnote_index_column": 27
        },
        {
         "date": "2016-12-16",
         "open": 25.209999,
         "high": 25.209999,
         "low": 25.08,
         "close": 25.08,
         "adj_close": 22.707924,
         "volume": 200,
         "_deepnote_index_column": 28
        },
        {
         "date": "2016-12-19",
         "open": 25.24,
         "high": 25.24,
         "low": 25.02,
         "close": 25.038,
         "adj_close": 22.669899,
         "volume": 8500,
         "_deepnote_index_column": 29
        },
        {
         "date": "2016-12-20",
         "open": 25.1,
         "high": 25.139999,
         "low": 25.1,
         "close": 25.110001,
         "adj_close": 22.73509,
         "volume": 1600,
         "_deepnote_index_column": 30
        },
        {
         "date": "2016-12-21",
         "open": 24.924999,
         "high": 24.940001,
         "low": 24.889999,
         "close": 24.889999,
         "adj_close": 22.826797,
         "volume": 5600,
         "_deepnote_index_column": 31
        },
        {
         "date": "2016-12-22",
         "open": 24.93,
         "high": 24.93,
         "low": 24.879999,
         "close": 24.879999,
         "adj_close": 22.817631,
         "volume": 400,
         "_deepnote_index_column": 32
        },
        {
         "date": "2016-12-23",
         "open": 24.893,
         "high": 24.940001,
         "low": 24.889999,
         "close": 24.921,
         "adj_close": 22.855228,
         "volume": 2000,
         "_deepnote_index_column": 33
        },
        {
         "date": "2016-12-27",
         "open": 24.790001,
         "high": 25.01,
         "low": 24.790001,
         "close": 24.969999,
         "adj_close": 22.900169,
         "volume": 9900,
         "_deepnote_index_column": 34
        },
        {
         "date": "2016-12-28",
         "open": 24.858999,
         "high": 24.861,
         "low": 24.77,
         "close": 24.790001,
         "adj_close": 22.735088,
         "volume": 9500,
         "_deepnote_index_column": 35
        },
        {
         "date": "2016-12-29",
         "open": 24.790001,
         "high": 24.99,
         "low": 24.790001,
         "close": 24.98,
         "adj_close": 22.909338,
         "volume": 1500,
         "_deepnote_index_column": 36
        },
        {
         "date": "2016-12-30",
         "open": 25.120001,
         "high": 25.25,
         "low": 25.091999,
         "close": 25.1,
         "adj_close": 23.019394,
         "volume": 2900,
         "_deepnote_index_column": 37
        },
        {
         "date": "2017-01-03",
         "open": 25.1,
         "high": 25.110001,
         "low": 25.007999,
         "close": 25.1,
         "adj_close": 23.019394,
         "volume": 7900,
         "_deepnote_index_column": 38
        },
        {
         "date": "2017-01-04",
         "open": 25.01,
         "high": 25.290001,
         "low": 25.01,
         "close": 25.290001,
         "adj_close": 23.193645,
         "volume": 8100,
         "_deepnote_index_column": 39
        },
        {
         "date": "2017-01-05",
         "open": 25.219999,
         "high": 25.549999,
         "low": 25.219999,
         "close": 25.530001,
         "adj_close": 23.413748,
         "volume": 4900,
         "_deepnote_index_column": 40
        },
        {
         "date": "2017-01-06",
         "open": 25.52,
         "high": 25.52,
         "low": 25.450001,
         "close": 25.450001,
         "adj_close": 23.340382,
         "volume": 2500,
         "_deepnote_index_column": 41
        },
        {
         "date": "2017-01-09",
         "open": 25.309999,
         "high": 25.459999,
         "low": 25.309999,
         "close": 25.43,
         "adj_close": 23.322039,
         "volume": 1400,
         "_deepnote_index_column": 42
        },
        {
         "date": "2017-01-10",
         "open": 25.59,
         "high": 25.59,
         "low": 25.42,
         "close": 25.445,
         "adj_close": 23.335793,
         "volume": 1300,
         "_deepnote_index_column": 43
        },
        {
         "date": "2017-01-11",
         "open": 25.219999,
         "high": 25.650999,
         "low": 25.219999,
         "close": 25.65,
         "adj_close": 23.523802,
         "volume": 1600,
         "_deepnote_index_column": 44
        },
        {
         "date": "2017-01-12",
         "open": 25.643,
         "high": 25.655001,
         "low": 25.52,
         "close": 25.57,
         "adj_close": 23.450434,
         "volume": 4800,
         "_deepnote_index_column": 45
        },
        {
         "date": "2017-01-13",
         "open": 25.57,
         "high": 25.57,
         "low": 25.57,
         "close": 25.57,
         "adj_close": 23.450434,
         "volume": 0,
         "_deepnote_index_column": 46
        },
        {
         "date": "2017-01-17",
         "open": 25.74,
         "high": 25.763,
         "low": 25.709999,
         "close": 25.719999,
         "adj_close": 23.587997,
         "volume": 15600,
         "_deepnote_index_column": 47
        },
        {
         "date": "2017-01-18",
         "open": 25.790001,
         "high": 25.790001,
         "low": 25.790001,
         "close": 25.790001,
         "adj_close": 23.652199,
         "volume": 600,
         "_deepnote_index_column": 48
        },
        {
         "date": "2017-01-19",
         "open": 25.65,
         "high": 25.66,
         "low": 25.629999,
         "close": 25.66,
         "adj_close": 23.532972,
         "volume": 10600,
         "_deepnote_index_column": 49
        },
        {
         "date": "2017-01-20",
         "open": 25.92,
         "high": 25.92,
         "low": 25.870001,
         "close": 25.870001,
         "adj_close": 23.725565,
         "volume": 500,
         "_deepnote_index_column": 50
        },
        {
         "date": "2017-01-23",
         "open": 25.811001,
         "high": 25.844,
         "low": 25.77,
         "close": 25.83,
         "adj_close": 23.688881,
         "volume": 6800,
         "_deepnote_index_column": 51
        },
        {
         "date": "2017-01-24",
         "open": 25.891001,
         "high": 25.969999,
         "low": 25.891001,
         "close": 25.969999,
         "adj_close": 23.817274,
         "volume": 200,
         "_deepnote_index_column": 52
        },
        {
         "date": "2017-01-25",
         "open": 26.18,
         "high": 26.43,
         "low": 26.18,
         "close": 26.43,
         "adj_close": 24.239147,
         "volume": 13000,
         "_deepnote_index_column": 53
        },
        {
         "date": "2017-01-26",
         "open": 26.33,
         "high": 26.34,
         "low": 26.26,
         "close": 26.34,
         "adj_close": 24.156607,
         "volume": 3100,
         "_deepnote_index_column": 54
        },
        {
         "date": "2017-01-27",
         "open": 26.450001,
         "high": 26.450001,
         "low": 26.299999,
         "close": 26.299999,
         "adj_close": 24.119921,
         "volume": 1100,
         "_deepnote_index_column": 55
        },
        {
         "date": "2017-01-30",
         "open": 25.879999,
         "high": 25.982,
         "low": 25.879999,
         "close": 25.969999,
         "adj_close": 23.817274,
         "volume": 5900,
         "_deepnote_index_column": 56
        },
        {
         "date": "2017-01-31",
         "open": 26.055,
         "high": 26.055,
         "low": 25.940001,
         "close": 25.959999,
         "adj_close": 23.808104,
         "volume": 900,
         "_deepnote_index_column": 57
        },
        {
         "date": "2017-02-01",
         "open": 26.299999,
         "high": 26.299999,
         "low": 26.075001,
         "close": 26.15,
         "adj_close": 23.982355,
         "volume": 5200,
         "_deepnote_index_column": 58
        },
        {
         "date": "2017-02-02",
         "open": 26.24,
         "high": 26.24,
         "low": 26.24,
         "close": 26.24,
         "adj_close": 24.064894,
         "volume": 200,
         "_deepnote_index_column": 59
        },
        {
         "date": "2017-02-03",
         "open": 26.27,
         "high": 26.27,
         "low": 26.025,
         "close": 26.025,
         "adj_close": 23.867718,
         "volume": 2300,
         "_deepnote_index_column": 60
        },
        {
         "date": "2017-02-06",
         "open": 25.879999,
         "high": 25.879999,
         "low": 25.700001,
         "close": 25.700001,
         "adj_close": 23.569658,
         "volume": 3400,
         "_deepnote_index_column": 61
        },
        {
         "date": "2017-02-07",
         "open": 25.74,
         "high": 25.809999,
         "low": 25.697001,
         "close": 25.719999,
         "adj_close": 23.587997,
         "volume": 2700,
         "_deepnote_index_column": 62
        },
        {
         "date": "2017-02-08",
         "open": 25.700001,
         "high": 25.733999,
         "low": 25.6,
         "close": 25.725,
         "adj_close": 23.592587,
         "volume": 6700,
         "_deepnote_index_column": 63
        },
        {
         "date": "2017-02-09",
         "open": 25.639999,
         "high": 25.889,
         "low": 25.639999,
         "close": 25.875999,
         "adj_close": 23.73107,
         "volume": 2800,
         "_deepnote_index_column": 64
        },
        {
         "date": "2017-02-10",
         "open": 25.85,
         "high": 25.879999,
         "low": 25.85,
         "close": 25.854,
         "adj_close": 23.71089,
         "volume": 1200,
         "_deepnote_index_column": 65
        },
        {
         "date": "2017-02-13",
         "open": 26.23,
         "high": 26.23,
         "low": 26,
         "close": 26,
         "adj_close": 23.84479,
         "volume": 5000,
         "_deepnote_index_column": 66
        },
        {
         "date": "2017-02-14",
         "open": 25.969999,
         "high": 25.969999,
         "low": 25.969999,
         "close": 25.969999,
         "adj_close": 23.817274,
         "volume": 800,
         "_deepnote_index_column": 67
        },
        {
         "date": "2017-02-15",
         "open": 25.91,
         "high": 26.02,
         "low": 25.76,
         "close": 26.02,
         "adj_close": 23.863131,
         "volume": 9900,
         "_deepnote_index_column": 68
        },
        {
         "date": "2017-02-16",
         "open": 26.07,
         "high": 26.07,
         "low": 26.07,
         "close": 26.07,
         "adj_close": 23.908985,
         "volume": 1500,
         "_deepnote_index_column": 69
        },
        {
         "date": "2017-02-17",
         "open": 26.07,
         "high": 26.07,
         "low": 25.98,
         "close": 25.99,
         "adj_close": 23.835619,
         "volume": 1300,
         "_deepnote_index_column": 70
        }
       ],
       "rows_bottom": [
        {
         "date": "2019-02-20",
         "open": 25.365,
         "high": 25.434999,
         "low": 25.365,
         "close": 25.434999,
         "adj_close": 24.500956,
         "volume": 600,
         "_deepnote_index_column": 573
        },
        {
         "date": "2019-02-21",
         "open": 25.280001,
         "high": 25.290001,
         "low": 25.280001,
         "close": 25.290001,
         "adj_close": 24.36128,
         "volume": 700,
         "_deepnote_index_column": 574
        },
        {
         "date": "2019-02-22",
         "open": 25.290001,
         "high": 25.290001,
         "low": 25.290001,
         "close": 25.290001,
         "adj_close": 24.36128,
         "volume": 100,
         "_deepnote_index_column": 575
        },
        {
         "date": "2019-02-25",
         "open": 25.290001,
         "high": 25.290001,
         "low": 25.290001,
         "close": 25.290001,
         "adj_close": 24.36128,
         "volume": 200,
         "_deepnote_index_column": 576
        },
        {
         "date": "2019-02-26",
         "open": 25.52,
         "high": 25.792,
         "low": 25.52,
         "close": 25.792,
         "adj_close": 24.844847,
         "volume": 2100,
         "_deepnote_index_column": 577
        },
        {
         "date": "2019-02-27",
         "open": 25.674999,
         "high": 25.674999,
         "low": 25.594999,
         "close": 25.614,
         "adj_close": 24.673386,
         "volume": 1500,
         "_deepnote_index_column": 578
        },
        {
         "date": "2019-02-28",
         "open": 25.690001,
         "high": 25.73,
         "low": 25,
         "close": 25,
         "adj_close": 24.08193,
         "volume": 1400,
         "_deepnote_index_column": 579
        },
        {
         "date": "2019-03-01",
         "open": 25.941,
         "high": 25.952999,
         "low": 25.85,
         "close": 25.872999,
         "adj_close": 24.922871,
         "volume": 1300,
         "_deepnote_index_column": 580
        },
        {
         "date": "2019-03-04",
         "open": 25.91,
         "high": 25.91,
         "low": 25.612,
         "close": 25.700001,
         "adj_close": 24.756226,
         "volume": 2800,
         "_deepnote_index_column": 581
        },
        {
         "date": "2019-03-05",
         "open": 25.731001,
         "high": 25.731001,
         "low": 25.700001,
         "close": 25.700001,
         "adj_close": 24.756226,
         "volume": 500,
         "_deepnote_index_column": 582
        },
        {
         "date": "2019-03-06",
         "open": 25.780001,
         "high": 25.780001,
         "low": 25.65,
         "close": 25.66,
         "adj_close": 24.717693,
         "volume": 700,
         "_deepnote_index_column": 583
        },
        {
         "date": "2019-03-07",
         "open": 25.24,
         "high": 25.299999,
         "low": 25.23,
         "close": 25.231001,
         "adj_close": 24.304449,
         "volume": 7400,
         "_deepnote_index_column": 584
        },
        {
         "date": "2019-03-08",
         "open": 25.191,
         "high": 25.191,
         "low": 25.191,
         "close": 25.191,
         "adj_close": 24.265919,
         "volume": 400,
         "_deepnote_index_column": 585
        },
        {
         "date": "2019-03-11",
         "open": 25.34,
         "high": 25.344999,
         "low": 25.330999,
         "close": 25.34,
         "adj_close": 24.409445,
         "volume": 2500,
         "_deepnote_index_column": 586
        },
        {
         "date": "2019-03-12",
         "open": 25.559999,
         "high": 25.559999,
         "low": 25.440001,
         "close": 25.450001,
         "adj_close": 24.515406,
         "volume": 2100,
         "_deepnote_index_column": 587
        },
        {
         "date": "2019-03-13",
         "open": 25.5,
         "high": 25.65,
         "low": 25.5,
         "close": 25.65,
         "adj_close": 24.708061,
         "volume": 3600,
         "_deepnote_index_column": 588
        },
        {
         "date": "2019-03-14",
         "open": 25.709999,
         "high": 25.709999,
         "low": 25.610001,
         "close": 25.66,
         "adj_close": 24.717693,
         "volume": 2000,
         "_deepnote_index_column": 589
        },
        {
         "date": "2019-03-15",
         "open": 25.91,
         "high": 25.91,
         "low": 25.860001,
         "close": 25.907,
         "adj_close": 24.955626,
         "volume": 1200,
         "_deepnote_index_column": 590
        },
        {
         "date": "2019-03-18",
         "open": 25.959999,
         "high": 25.959999,
         "low": 25.809999,
         "close": 25.93,
         "adj_close": 24.977779,
         "volume": 2400,
         "_deepnote_index_column": 591
        },
        {
         "date": "2019-03-19",
         "open": 26.17,
         "high": 26.25,
         "low": 26.120001,
         "close": 26.15,
         "adj_close": 25.189699,
         "volume": 1300,
         "_deepnote_index_column": 592
        },
        {
         "date": "2019-03-20",
         "open": 25.865,
         "high": 25.865,
         "low": 25.83,
         "close": 25.844999,
         "adj_close": 24.895901,
         "volume": 600,
         "_deepnote_index_column": 593
        },
        {
         "date": "2019-03-21",
         "open": 25.639999,
         "high": 25.67,
         "low": 25.639999,
         "close": 25.67,
         "adj_close": 24.727327,
         "volume": 500,
         "_deepnote_index_column": 594
        },
        {
         "date": "2019-03-22",
         "open": 25.33,
         "high": 25.379,
         "low": 25.120001,
         "close": 25.120001,
         "adj_close": 24.197523,
         "volume": 2600,
         "_deepnote_index_column": 595
        },
        {
         "date": "2019-03-25",
         "open": 25.200001,
         "high": 25.200001,
         "low": 25.039,
         "close": 25.039,
         "adj_close": 24.119499,
         "volume": 1300,
         "_deepnote_index_column": 596
        },
        {
         "date": "2019-03-26",
         "open": 25.039,
         "high": 25.039,
         "low": 25.039,
         "close": 25.039,
         "adj_close": 24.119499,
         "volume": 100,
         "_deepnote_index_column": 597
        },
        {
         "date": "2019-03-27",
         "open": 25.09,
         "high": 25.202,
         "low": 25.09,
         "close": 25.18,
         "adj_close": 24.255322,
         "volume": 2400,
         "_deepnote_index_column": 598
        },
        {
         "date": "2019-03-28",
         "open": 25.18,
         "high": 25.290001,
         "low": 25.07,
         "close": 25.23,
         "adj_close": 24.303484,
         "volume": 45300,
         "_deepnote_index_column": 599
        },
        {
         "date": "2019-03-29",
         "open": 25.35,
         "high": 25.389999,
         "low": 25.211,
         "close": 25.389999,
         "adj_close": 24.457609,
         "volume": 4700,
         "_deepnote_index_column": 600
        },
        {
         "date": "2019-04-01",
         "open": 25.709999,
         "high": 25.709999,
         "low": 25.645,
         "close": 25.658001,
         "adj_close": 24.715767,
         "volume": 76600,
         "_deepnote_index_column": 601
        },
        {
         "date": "2019-04-02",
         "open": 25.82,
         "high": 25.84,
         "low": 25.743,
         "close": 25.84,
         "adj_close": 24.891085,
         "volume": 1600,
         "_deepnote_index_column": 602
        },
        {
         "date": "2019-04-03",
         "open": 26.1,
         "high": 26.285,
         "low": 26.1,
         "close": 26.285,
         "adj_close": 25.319742,
         "volume": 3500,
         "_deepnote_index_column": 603
        },
        {
         "date": "2019-04-04",
         "open": 26.382999,
         "high": 26.441999,
         "low": 26.275999,
         "close": 26.34,
         "adj_close": 25.372723,
         "volume": 9900,
         "_deepnote_index_column": 604
        },
        {
         "date": "2019-04-05",
         "open": 26.290001,
         "high": 26.358999,
         "low": 26.290001,
         "close": 26.32,
         "adj_close": 25.353456,
         "volume": 700,
         "_deepnote_index_column": 605
        },
        {
         "date": "2019-04-08",
         "open": 26.51,
         "high": 26.51,
         "low": 26.33,
         "close": 26.34,
         "adj_close": 25.372723,
         "volume": 1700,
         "_deepnote_index_column": 606
        },
        {
         "date": "2019-04-09",
         "open": 26.290001,
         "high": 26.290001,
         "low": 26.17,
         "close": 26.17,
         "adj_close": 25.208965,
         "volume": 1800,
         "_deepnote_index_column": 607
        },
        {
         "date": "2019-04-10",
         "open": 26.316,
         "high": 26.316,
         "low": 26.301001,
         "close": 26.301001,
         "adj_close": 25.335155,
         "volume": 400,
         "_deepnote_index_column": 608
        },
        {
         "date": "2019-04-11",
         "open": 26.25,
         "high": 26.322001,
         "low": 26.25,
         "close": 26.302999,
         "adj_close": 25.337082,
         "volume": 2900,
         "_deepnote_index_column": 609
        },
        {
         "date": "2019-04-12",
         "open": 26.559999,
         "high": 26.658001,
         "low": 26.5,
         "close": 26.6,
         "adj_close": 25.623175,
         "volume": 2400,
         "_deepnote_index_column": 610
        },
        {
         "date": "2019-04-15",
         "open": 26.57,
         "high": 26.649,
         "low": 26.542,
         "close": 26.649,
         "adj_close": 25.670376,
         "volume": 2600,
         "_deepnote_index_column": 611
        },
        {
         "date": "2019-04-16",
         "open": 26.75,
         "high": 26.82,
         "low": 26.75,
         "close": 26.799999,
         "adj_close": 25.81583,
         "volume": 700,
         "_deepnote_index_column": 612
        },
        {
         "date": "2019-04-17",
         "open": 26.9,
         "high": 26.948999,
         "low": 26.85,
         "close": 26.85,
         "adj_close": 25.863993,
         "volume": 600,
         "_deepnote_index_column": 613
        },
        {
         "date": "2019-04-18",
         "open": 26.865,
         "high": 26.969999,
         "low": 26.865,
         "close": 26.969999,
         "adj_close": 25.979588,
         "volume": 5000,
         "_deepnote_index_column": 614
        },
        {
         "date": "2019-04-22",
         "open": 27.1,
         "high": 27.1,
         "low": 26.976,
         "close": 26.99,
         "adj_close": 25.998854,
         "volume": 6900,
         "_deepnote_index_column": 615
        },
        {
         "date": "2019-04-23",
         "open": 26.785999,
         "high": 26.875,
         "low": 26.785999,
         "close": 26.875,
         "adj_close": 25.888077,
         "volume": 900,
         "_deepnote_index_column": 616
        },
        {
         "date": "2019-04-24",
         "open": 26.879999,
         "high": 26.975,
         "low": 26.84,
         "close": 26.891001,
         "adj_close": 25.90349,
         "volume": 5600,
         "_deepnote_index_column": 617
        },
        {
         "date": "2019-04-25",
         "open": 26.73,
         "high": 26.870001,
         "low": 26.73,
         "close": 26.83,
         "adj_close": 25.844728,
         "volume": 22200,
         "_deepnote_index_column": 618
        },
        {
         "date": "2019-04-26",
         "open": 26.91,
         "high": 26.969999,
         "low": 26.865999,
         "close": 26.969,
         "adj_close": 25.978624,
         "volume": 11900,
         "_deepnote_index_column": 619
        },
        {
         "date": "2019-04-29",
         "open": 26.959999,
         "high": 27,
         "low": 26.868,
         "close": 26.969,
         "adj_close": 25.978624,
         "volume": 24500,
         "_deepnote_index_column": 620
        },
        {
         "date": "2019-04-30",
         "open": 26.940001,
         "high": 27.143,
         "low": 26.940001,
         "close": 27.125999,
         "adj_close": 26.129858,
         "volume": 5200,
         "_deepnote_index_column": 621
        },
        {
         "date": "2019-05-01",
         "open": 27.23,
         "high": 27.23,
         "low": 27,
         "close": 27,
         "adj_close": 26.008486,
         "volume": 1800,
         "_deepnote_index_column": 622
        },
        {
         "date": "2019-05-02",
         "open": 27.004999,
         "high": 27.101,
         "low": 26.891001,
         "close": 26.950001,
         "adj_close": 25.960323,
         "volume": 5900,
         "_deepnote_index_column": 623
        },
        {
         "date": "2019-05-03",
         "open": 27,
         "high": 27.209999,
         "low": 27,
         "close": 27.209999,
         "adj_close": 26.210773,
         "volume": 2200,
         "_deepnote_index_column": 624
        },
        {
         "date": "2019-05-06",
         "open": 26.58,
         "high": 26.929001,
         "low": 26.58,
         "close": 26.92,
         "adj_close": 25.931423,
         "volume": 5100,
         "_deepnote_index_column": 625
        },
        {
         "date": "2019-05-07",
         "open": 26.59,
         "high": 26.59,
         "low": 26.35,
         "close": 26.429001,
         "adj_close": 25.458454,
         "volume": 2300,
         "_deepnote_index_column": 626
        },
        {
         "date": "2019-05-08",
         "open": 26.67,
         "high": 26.764999,
         "low": 26.67,
         "close": 26.674999,
         "adj_close": 25.695419,
         "volume": 1700,
         "_deepnote_index_column": 627
        },
        {
         "date": "2019-05-09",
         "open": 26.313,
         "high": 26.525999,
         "low": 26.313,
         "close": 26.525999,
         "adj_close": 25.551891,
         "volume": 3800,
         "_deepnote_index_column": 628
        },
        {
         "date": "2019-05-10",
         "open": 26.49,
         "high": 26.639999,
         "low": 26.49,
         "close": 26.639999,
         "adj_close": 25.661705,
         "volume": 900,
         "_deepnote_index_column": 629
        },
        {
         "date": "2019-05-13",
         "open": 26.08,
         "high": 26.139999,
         "low": 26.059999,
         "close": 26.061001,
         "adj_close": 25.10397,
         "volume": 2500,
         "_deepnote_index_column": 630
        },
        {
         "date": "2019-05-14",
         "open": 26.275999,
         "high": 26.309,
         "low": 26.275999,
         "close": 26.309,
         "adj_close": 25.342863,
         "volume": 900,
         "_deepnote_index_column": 631
        },
        {
         "date": "2019-05-15",
         "open": 26.504999,
         "high": 26.504999,
         "low": 26.504999,
         "close": 26.504999,
         "adj_close": 25.531662,
         "volume": 200,
         "_deepnote_index_column": 632
        },
        {
         "date": "2019-05-16",
         "open": 26.799999,
         "high": 26.82,
         "low": 26.799999,
         "close": 26.82,
         "adj_close": 25.835096,
         "volume": 800,
         "_deepnote_index_column": 633
        },
        {
         "date": "2019-05-17",
         "open": 26.6,
         "high": 26.604,
         "low": 26.572001,
         "close": 26.572001,
         "adj_close": 25.596203,
         "volume": 800,
         "_deepnote_index_column": 634
        },
        {
         "date": "2019-05-20",
         "open": 26.129999,
         "high": 26.306,
         "low": 26.129999,
         "close": 26.209999,
         "adj_close": 25.247496,
         "volume": 2000,
         "_deepnote_index_column": 635
        },
        {
         "date": "2019-05-21",
         "open": 26.379999,
         "high": 26.445,
         "low": 26.379999,
         "close": 26.385,
         "adj_close": 25.416071,
         "volume": 2000,
         "_deepnote_index_column": 636
        },
        {
         "date": "2019-05-22",
         "open": 26.385,
         "high": 26.385,
         "low": 26.385,
         "close": 26.385,
         "adj_close": 25.416071,
         "volume": 100,
         "_deepnote_index_column": 637
        },
        {
         "date": "2019-05-23",
         "open": 26,
         "high": 26.056,
         "low": 25.914,
         "close": 26.054001,
         "adj_close": 25.097227,
         "volume": 6700,
         "_deepnote_index_column": 638
        },
        {
         "date": "2019-05-24",
         "open": 26.054001,
         "high": 26.054001,
         "low": 26.054001,
         "close": 26.054001,
         "adj_close": 25.097227,
         "volume": 100,
         "_deepnote_index_column": 639
        },
        {
         "date": "2019-05-28",
         "open": 26.166,
         "high": 26.166,
         "low": 26.061001,
         "close": 26.1,
         "adj_close": 25.141537,
         "volume": 1600,
         "_deepnote_index_column": 640
        },
        {
         "date": "2019-05-29",
         "open": 25.66,
         "high": 25.799,
         "low": 25.374001,
         "close": 25.448999,
         "adj_close": 24.514442,
         "volume": 3800,
         "_deepnote_index_column": 641
        },
        {
         "date": "2019-05-30",
         "open": 25.719999,
         "high": 25.924,
         "low": 25.719999,
         "close": 25.801001,
         "adj_close": 24.853516,
         "volume": 6800,
         "_deepnote_index_column": 642
        },
        {
         "date": "2019-05-31",
         "open": 25.5,
         "high": 27.190001,
         "low": 25.469999,
         "close": 27.190001,
         "adj_close": 26.191511,
         "volume": 7000,
         "_deepnote_index_column": 643
        }
       ]
      },
      "text/plain": "           date       open       high        low      close  adj_close  volume\n0    2016-11-07  24.340000  24.440001  24.304001  24.400000  22.092239    2700\n1    2016-11-08  24.559999  24.559999  24.520000  24.530001  22.209948    1100\n2    2016-11-09  24.296000  24.610001  24.296000  24.590000  22.264271     900\n3    2016-11-10  24.750000  24.750000  24.360001  24.474001  22.159245    4600\n4    2016-11-11  24.410000  24.537001  24.410000  24.440001  22.128456    2700\n..          ...        ...        ...        ...        ...        ...     ...\n639  2019-05-24  26.054001  26.054001  26.054001  26.054001  25.097227     100\n640  2019-05-28  26.166000  26.166000  26.061001  26.100000  25.141537    1600\n641  2019-05-29  25.660000  25.799000  25.374001  25.448999  24.514442    3800\n642  2019-05-30  25.719999  25.924000  25.719999  25.801001  24.853516    6800\n643  2019-05-31  25.500000  27.190001  25.469999  27.190001  26.191511    7000\n\n[644 rows x 7 columns]",
      "text/html": "<div>\n<style scoped>\n    .dataframe tbody tr th:only-of-type {\n        vertical-align: middle;\n    }\n\n    .dataframe tbody tr th {\n        vertical-align: top;\n    }\n\n    .dataframe thead th {\n        text-align: right;\n    }\n</style>\n<table border=\"1\" class=\"dataframe\">\n  <thead>\n    <tr style=\"text-align: right;\">\n      <th></th>\n      <th>date</th>\n      <th>open</th>\n      <th>high</th>\n      <th>low</th>\n      <th>close</th>\n      <th>adj_close</th>\n      <th>volume</th>\n    </tr>\n  </thead>\n  <tbody>\n    <tr>\n      <th>0</th>\n      <td>2016-11-07</td>\n      <td>24.340000</td>\n      <td>24.440001</td>\n      <td>24.304001</td>\n      <td>24.400000</td>\n      <td>22.092239</td>\n      <td>2700</td>\n    </tr>\n    <tr>\n      <th>1</th>\n      <td>2016-11-08</td>\n      <td>24.559999</td>\n      <td>24.559999</td>\n      <td>24.520000</td>\n      <td>24.530001</td>\n      <td>22.209948</td>\n      <td>1100</td>\n    </tr>\n    <tr>\n      <th>2</th>\n      <td>2016-11-09</td>\n      <td>24.296000</td>\n      <td>24.610001</td>\n      <td>24.296000</td>\n      <td>24.590000</td>\n      <td>22.264271</td>\n      <td>900</td>\n    </tr>\n    <tr>\n      <th>3</th>\n      <td>2016-11-10</td>\n      <td>24.750000</td>\n      <td>24.750000</td>\n      <td>24.360001</td>\n      <td>24.474001</td>\n      <td>22.159245</td>\n      <td>4600</td>\n    </tr>\n    <tr>\n      <th>4</th>\n      <td>2016-11-11</td>\n      <td>24.410000</td>\n      <td>24.537001</td>\n      <td>24.410000</td>\n      <td>24.440001</td>\n      <td>22.128456</td>\n      <td>2700</td>\n    </tr>\n    <tr>\n      <th>...</th>\n      <td>...</td>\n      <td>...</td>\n      <td>...</td>\n      <td>...</td>\n      <td>...</td>\n      <td>...</td>\n      <td>...</td>\n    </tr>\n    <tr>\n      <th>639</th>\n      <td>2019-05-24</td>\n      <td>26.054001</td>\n      <td>26.054001</td>\n      <td>26.054001</td>\n      <td>26.054001</td>\n      <td>25.097227</td>\n      <td>100</td>\n    </tr>\n    <tr>\n      <th>640</th>\n      <td>2019-05-28</td>\n      <td>26.166000</td>\n      <td>26.166000</td>\n      <td>26.061001</td>\n      <td>26.100000</td>\n      <td>25.141537</td>\n      <td>1600</td>\n    </tr>\n    <tr>\n      <th>641</th>\n      <td>2019-05-29</td>\n      <td>25.660000</td>\n      <td>25.799000</td>\n      <td>25.374001</td>\n      <td>25.448999</td>\n      <td>24.514442</td>\n      <td>3800</td>\n    </tr>\n    <tr>\n      <th>642</th>\n      <td>2019-05-30</td>\n      <td>25.719999</td>\n      <td>25.924000</td>\n      <td>25.719999</td>\n      <td>25.801001</td>\n      <td>24.853516</td>\n      <td>6800</td>\n    </tr>\n    <tr>\n      <th>643</th>\n      <td>2019-05-31</td>\n      <td>25.500000</td>\n      <td>27.190001</td>\n      <td>25.469999</td>\n      <td>27.190001</td>\n      <td>26.191511</td>\n      <td>7000</td>\n    </tr>\n  </tbody>\n</table>\n<p>644 rows × 7 columns</p>\n</div>"
     },
     "metadata": {}
    }
   ]
  },
  {
   "cell_type": "code",
   "metadata": {
    "id": "TpILl8NTZ2SW",
    "colab": {
     "base_uri": "https://localhost:8080/"
    },
    "outputId": "3addb528-5b67-4dfb-e692-f3ca8ddf8390",
    "cell_id": "00005-1e87c937-2af9-4a00-949d-bccd577db176",
    "deepnote_to_be_reexecuted": false,
    "source_hash": "2e2cc17c",
    "execution_start": 1637589606496,
    "execution_millis": 127,
    "deepnote_cell_type": "code"
   },
   "source": "# Loading testing data\ntesting_data = pd.read_csv(path + \"dax_test_2019.csv.txt\", sep=\",\")\nprint(f\"Testing data column info:\\n {testing_data.dtypes}\")\nprint(f\"Testing data shape is {testing_data.shape}\")",
   "execution_count": 5,
   "outputs": [
    {
     "name": "stdout",
     "text": "Testing data column info:\n date          object\nopen         float64\nhigh         float64\nLow          float64\nclose        float64\nadj_close    float64\nvolume         int64\ndtype: object\nTesting data shape is (148, 7)\n",
     "output_type": "stream"
    }
   ]
  },
  {
   "cell_type": "markdown",
   "source": "####  Are there any NaN values in training and testing data sets?",
   "metadata": {
    "id": "CEGwqlyPyku7",
    "cell_id": "00006-aa3ab717-3470-4bbb-8cbc-28f7bb99f762",
    "deepnote_cell_type": "markdown"
   }
  },
  {
   "cell_type": "code",
   "metadata": {
    "id": "gOxUJYxm_YJS",
    "cell_id": "00007-ec8713ea-c2a0-4162-83dc-068880259b2f",
    "deepnote_to_be_reexecuted": false,
    "source_hash": "b15b0bbc",
    "execution_start": 1637589606625,
    "execution_millis": 16,
    "deepnote_output_heights": [
     21
    ],
    "deepnote_cell_type": "code"
   },
   "source": "training_data.isna().sum().sum(), testing_data.isna().sum().sum()   # there are no NaN values",
   "execution_count": 6,
   "outputs": [
    {
     "output_type": "execute_result",
     "execution_count": 6,
     "data": {
      "text/plain": "(0, 0)"
     },
     "metadata": {}
    }
   ]
  },
  {
   "cell_type": "markdown",
   "source": "#### Preprocessing the data, extracting the features, and normalising the features using `preprocessing.MinMaxScaler` function from sklearn\n\nWe have provided you with the relevant function here. But we expect you to explore the data generated. \n\nWhat are the shapes?\n\nDo a test whether features and labels correspond, i.e. whether the label for each sequence is the value following that sequence? \n\nOptional: Extend the function to include more features - and change it \nto choose a different column as target, i.e. adj_close\n",
   "metadata": {
    "id": "QMDCQsRH0xsV",
    "cell_id": "00008-e52246f4-2980-4896-8a98-f338d56701b4",
    "deepnote_cell_type": "markdown"
   }
  },
  {
   "cell_type": "code",
   "metadata": {
    "id": "eqrdEVIiFPWN",
    "cell_id": "00009-44229e00-ca6d-43e7-98ef-def547f39424",
    "deepnote_to_be_reexecuted": false,
    "source_hash": "cdef704c",
    "execution_start": 1637589606654,
    "execution_millis": 2,
    "deepnote_cell_type": "code"
   },
   "source": "# Limiting the training and testing data to \"open\" column \ntraining_data_processed = training_data.iloc[:, 1:2].values\ntesting_data_processed = testing_data.iloc[:, 1:2].values",
   "execution_count": 7,
   "outputs": []
  },
  {
   "cell_type": "code",
   "metadata": {
    "colab": {
     "base_uri": "https://localhost:8080/"
    },
    "id": "lCQeG_K_3r5P",
    "outputId": "332b1908-3ea0-4b99-a0dc-7bfd74903dcf",
    "cell_id": "00010-72ccf989-0706-4cf4-a558-e8f369330ae7",
    "deepnote_output_heights": [
     21
    ],
    "deepnote_to_be_reexecuted": false,
    "source_hash": "1ad7a088",
    "execution_start": 1637589606685,
    "execution_millis": 1,
    "deepnote_cell_type": "code"
   },
   "source": "training_data_processed.shape",
   "execution_count": 8,
   "outputs": [
    {
     "output_type": "execute_result",
     "execution_count": 8,
     "data": {
      "text/plain": "(644, 1)"
     },
     "metadata": {}
    }
   ]
  },
  {
   "cell_type": "code",
   "metadata": {
    "id": "g8bFN1AvjXA1",
    "cell_id": "00011-bfa4ec69-abdf-4238-b991-d9e43baaf488",
    "deepnote_to_be_reexecuted": false,
    "source_hash": "26675ba6",
    "execution_start": 1637589606686,
    "execution_millis": 4,
    "deepnote_cell_type": "code"
   },
   "source": "# now let's do it all in a function. extra parameter 'target_column' added\ndef create_features_labels(training_data, testing_data, scaler=MinMaxScaler(feature_range = (0, 1)), sequence_length=60, target_column='open'):\n    \"\"\"\n    Create feature and labels from training data\n    :param training_data\n    :param testing_data\n    :param sequence_length\n    :param scaler\n    :return: Features and labels sets, and labels bins\n    \"\"\"\n    features_set = []\n    labels = []\n    labels_bin = []\n    test_features = []\n    # Limiting the training and testing data to relevant column (default to \"open\" column)\n    # training_data_processed = training_data.iloc[:, 1:2].values\n \n    training_data_processed = training_data.loc[:, [target_column]].values\n    \n    # Normalization: Transform features by scaling each feature in training to be in a range of (0, 1)\n    training_data_processed = scaler.fit_transform(training_data_processed)\n    # Preparing training data features and labels\n    for i in range(sequence_length, len(training_data)):\n        features_set.append(training_data_processed[i-sequence_length:i, 0])\n        labels.append(training_data_processed[i, 0])\n        # Fill binary labels\n        if training_data_processed[i,0] > training_data_processed[i-1,0]:\n            labels_bin.append(1)\n        else:\n            labels_bin.append(0)\n    # Preparing the testing data features\n    total = pd.concat((training_data[target_column], testing_data[target_column]), axis=0)\n    test_inputs = total[len(total) - len(testing_data) - sequence_length:].values\n    test_inputs = test_inputs.reshape(-1,1)\n    test_inputs = scaler.transform(test_inputs)\n\n    for i in range(sequence_length, len(test_inputs)):\n        test_features.append(test_inputs[i-sequence_length:i, 0])\n    \n    test_features = np.array(test_features)\n    test_features = np.reshape(test_features, (test_features.shape[0], test_features.shape[1], 1))\n    features_set, labels, labels_bin = np.array(features_set), np.array(labels), np.array(labels_bin)\n    return np.reshape(features_set, (features_set.shape[0], features_set.shape[1], 1)), labels, labels_bin, test_features, scaler",
   "execution_count": 9,
   "outputs": []
  },
  {
   "cell_type": "code",
   "metadata": {
    "tags": [],
    "cell_id": "00013-307cd693-2fd7-4544-939e-4904636c369d",
    "deepnote_to_be_reexecuted": false,
    "source_hash": "4ba3f9ae",
    "execution_start": 1637589606687,
    "execution_millis": 8,
    "deepnote_cell_type": "code"
   },
   "source": "features_set, labels, labels_bin, test_features, scaler = create_features_labels(training_data, testing_data, MinMaxScaler(feature_range = (0, 1)), 60, target_column='open')\n",
   "execution_count": 10,
   "outputs": []
  },
  {
   "cell_type": "code",
   "source": "features_set.shape,labels.shape, labels_bin.shape, test_features.shape",
   "metadata": {
    "tags": [],
    "cell_id": "00014-b9184d39-5a88-4572-8da1-1d6e331c6930",
    "deepnote_to_be_reexecuted": false,
    "source_hash": "4b02fc4d",
    "execution_start": 1637589606737,
    "execution_millis": 5,
    "deepnote_cell_type": "code"
   },
   "outputs": [
    {
     "output_type": "execute_result",
     "execution_count": 11,
     "data": {
      "text/plain": "((584, 60, 1), (584,), (584,), (148, 60, 1))"
     },
     "metadata": {}
    }
   ],
   "execution_count": 11
  },
  {
   "cell_type": "code",
   "metadata": {
    "id": "ffn2FwPywslN",
    "cell_id": "00013-2832579b-8e65-43f7-9d21-cbefcc235077",
    "deepnote_to_be_reexecuted": false,
    "source_hash": "ccc89dff",
    "execution_start": 1637589606738,
    "execution_millis": 0,
    "deepnote_cell_type": "code"
   },
   "source": "# What are the shapes of the data?\n# Do a test whether features and labels correspond, i.e. whether the label for each sequence is the value following that sequence? \n\nlabel_error=False\nfor i in range(len(labels)-1):\n    if labels[i] != features_set[i+1][features_set.shape[1]-1]:\n        print(labels[i], features_set[i+1][features_set.shape[1]-1])\n        label_error = True\n\nif ~label_error:\n    print(\"labels are all good!\")\n",
   "execution_count": 12,
   "outputs": [
    {
     "name": "stdout",
     "text": "labels are all good!\n",
     "output_type": "stream"
    }
   ]
  },
  {
   "cell_type": "markdown",
   "source": "### Model\nIn this section we ask you to build and train a LSTM neural network and use it predict the stock price variations on your testing data.",
   "metadata": {
    "id": "PXPt3xbzTOfz",
    "cell_id": "00014-f3777762-5145-4a0d-baba-d0a81c4c9df9",
    "deepnote_cell_type": "markdown"
   }
  },
  {
   "cell_type": "code",
   "metadata": {
    "id": "5hJ3Y27DTPtk",
    "cell_id": "00015-5b58fbc9-e4fa-497d-a09b-bc62c10debd5",
    "deepnote_to_be_reexecuted": false,
    "source_hash": "8aa114e9",
    "execution_start": 1637589606738,
    "execution_millis": 4,
    "deepnote_cell_type": "code"
   },
   "source": "def lstm_model(input_shape):\n  #write code here\n  #for simplicity you can use the default stateful argument in the LSTM layer and not worry about this argument here\n  model = Sequential()\n  model.add(LSTM(50, input_shape=input_shape, activation='tanh'))\n  # Adding regularization (BatchNormalization + Dropout)\n  #model.add(BatchNormalization())\n  model.add(Dropout(0.2))\n\n  # Output layer (1 unit)\n  # No activation function -> this is a regression problem\n  model.add(Dense(units=1))\n\n  return model",
   "execution_count": 13,
   "outputs": []
  },
  {
   "cell_type": "code",
   "metadata": {
    "id": "UzAwhQyUzPa7",
    "cell_id": "00016-45c1f9c7-72d8-4479-8c8d-17542e8598dc",
    "deepnote_to_be_reexecuted": false,
    "source_hash": "5bc42df3",
    "execution_start": 1637589606745,
    "execution_millis": 376,
    "deepnote_cell_type": "code"
   },
   "source": "model= lstm_model(input_shape=(features_set.shape[1],1))\n\nprint(model.summary())",
   "execution_count": 14,
   "outputs": [
    {
     "name": "stdout",
     "text": "Model: \"sequential\"\n_________________________________________________________________\nLayer (type)                 Output Shape              Param #   \n=================================================================\nlstm (LSTM)                  (None, 50)                10400     \n_________________________________________________________________\ndropout (Dropout)            (None, 50)                0         \n_________________________________________________________________\ndense (Dense)                (None, 1)                 51        \n=================================================================\nTotal params: 10,451\nTrainable params: 10,451\nNon-trainable params: 0\n_________________________________________________________________\nNone\n",
     "output_type": "stream"
    }
   ]
  },
  {
   "cell_type": "markdown",
   "source": "Compile your model, train it and evaluate it. \n\nWhat is your mse - and what is your accuracy (note that you have two different types of labels readily available to you). \n\n",
   "metadata": {
    "id": "fOOzJMNVUPf6",
    "cell_id": "00018-71e63e98-78a9-412b-9713-9412b65c1d46",
    "deepnote_cell_type": "markdown"
   }
  },
  {
   "cell_type": "code",
   "metadata": {
    "id": "ZZ82NEU3C1OR",
    "cell_id": "00019-68eb795b-95f0-426a-9276-b84c9318f0f7",
    "deepnote_to_be_reexecuted": false,
    "source_hash": "e911381",
    "execution_start": 1637589607169,
    "execution_millis": 0,
    "deepnote_cell_type": "code"
   },
   "source": "# Compile Code here\n\n# =============================================================================\n# Compile and train model\n# =============================================================================\n\nfrom tensorflow.keras.optimizers import Adam\n\n# use adam with lr 0.001\noptimizer = Adam(lr=0.001)\n\n# use metrics 'mean_absolute_percentage_error'\nmetrics = [\"mean_absolute_percentage_error\"]\n\nloss = \"mean_squared_error\"\n\nmodel.compile(\n    optimizer=optimizer,\n    metrics=metrics,\n    loss=loss\n)\n",
   "execution_count": 15,
   "outputs": []
  },
  {
   "cell_type": "code",
   "metadata": {
    "id": "OkguARt__In9",
    "cell_id": "00017-cb16c035-a376-4d73-83e8-90e3189d9954",
    "deepnote_to_be_reexecuted": false,
    "source_hash": "f5279601",
    "execution_start": 1637589607169,
    "execution_millis": 48652,
    "deepnote_cell_type": "code"
   },
   "source": "# fit (train) the model\n\n# use 100 epochs, 64 batch size, \nbatch_size = 64\nepochs = 100\n\nHistory = model.fit(\n    x=features_set,\n    y=labels,\n    batch_size=batch_size,\n    epochs=epochs,\n    validation_split=0.2,\n    shuffle=False\n    )",
   "execution_count": 16,
   "outputs": [
    {
     "name": "stdout",
     "text": "Epoch 1/100\n8/8 [==============================] - 4s 276ms/step - loss: 0.2456 - mean_absolute_percentage_error: 91.0816 - val_loss: 0.0068 - val_mean_absolute_percentage_error: 754224.1250\nEpoch 2/100\n8/8 [==============================] - 0s 47ms/step - loss: 0.0480 - mean_absolute_percentage_error: 37.4294 - val_loss: 0.0103 - val_mean_absolute_percentage_error: 1549528.5000\nEpoch 3/100\n8/8 [==============================] - 0s 59ms/step - loss: 0.0128 - mean_absolute_percentage_error: 20.3713 - val_loss: 0.0143 - val_mean_absolute_percentage_error: 1620234.2500\nEpoch 4/100\n8/8 [==============================] - 0s 52ms/step - loss: 0.0088 - mean_absolute_percentage_error: 18.4797 - val_loss: 0.0059 - val_mean_absolute_percentage_error: 1281973.6250\nEpoch 5/100\n8/8 [==============================] - 0s 58ms/step - loss: 0.0095 - mean_absolute_percentage_error: 14.7847 - val_loss: 0.0053 - val_mean_absolute_percentage_error: 1226634.2500\nEpoch 6/100\n8/8 [==============================] - 0s 56ms/step - loss: 0.0090 - mean_absolute_percentage_error: 14.5699 - val_loss: 0.0073 - val_mean_absolute_percentage_error: 1296452.6250\nEpoch 7/100\n8/8 [==============================] - 0s 52ms/step - loss: 0.0071 - mean_absolute_percentage_error: 14.7125 - val_loss: 0.0074 - val_mean_absolute_percentage_error: 1275218.3750\nEpoch 8/100\n8/8 [==============================] - 0s 64ms/step - loss: 0.0067 - mean_absolute_percentage_error: 14.5295 - val_loss: 0.0054 - val_mean_absolute_percentage_error: 1157164.2500\nEpoch 9/100\n8/8 [==============================] - 0s 50ms/step - loss: 0.0069 - mean_absolute_percentage_error: 13.4141 - val_loss: 0.0045 - val_mean_absolute_percentage_error: 1083746.8750\nEpoch 10/100\n8/8 [==============================] - 0s 60ms/step - loss: 0.0065 - mean_absolute_percentage_error: 13.0221 - val_loss: 0.0043 - val_mean_absolute_percentage_error: 1042857.6250\nEpoch 11/100\n8/8 [==============================] - 0s 62ms/step - loss: 0.0057 - mean_absolute_percentage_error: 12.7383 - val_loss: 0.0037 - val_mean_absolute_percentage_error: 984265.5625\nEpoch 12/100\n8/8 [==============================] - 0s 56ms/step - loss: 0.0057 - mean_absolute_percentage_error: 12.0668 - val_loss: 0.0031 - val_mean_absolute_percentage_error: 919879.8750\nEpoch 13/100\n8/8 [==============================] - 0s 54ms/step - loss: 0.0054 - mean_absolute_percentage_error: 11.7309 - val_loss: 0.0027 - val_mean_absolute_percentage_error: 865545.6875\nEpoch 14/100\n8/8 [==============================] - 0s 56ms/step - loss: 0.0050 - mean_absolute_percentage_error: 11.4237 - val_loss: 0.0026 - val_mean_absolute_percentage_error: 835985.5000\nEpoch 15/100\n8/8 [==============================] - 0s 60ms/step - loss: 0.0051 - mean_absolute_percentage_error: 10.8535 - val_loss: 0.0023 - val_mean_absolute_percentage_error: 786815.6875\nEpoch 16/100\n8/8 [==============================] - 0s 53ms/step - loss: 0.0055 - mean_absolute_percentage_error: 10.8901 - val_loss: 0.0022 - val_mean_absolute_percentage_error: 753145.7500\nEpoch 17/100\n8/8 [==============================] - 0s 55ms/step - loss: 0.0050 - mean_absolute_percentage_error: 11.1366 - val_loss: 0.0021 - val_mean_absolute_percentage_error: 719357.3750\nEpoch 18/100\n8/8 [==============================] - 0s 55ms/step - loss: 0.0044 - mean_absolute_percentage_error: 10.3020 - val_loss: 0.0019 - val_mean_absolute_percentage_error: 665783.2500\nEpoch 19/100\n8/8 [==============================] - 0s 47ms/step - loss: 0.0054 - mean_absolute_percentage_error: 11.3018 - val_loss: 0.0019 - val_mean_absolute_percentage_error: 655523.8750\nEpoch 20/100\n8/8 [==============================] - 0s 53ms/step - loss: 0.0045 - mean_absolute_percentage_error: 10.1293 - val_loss: 0.0018 - val_mean_absolute_percentage_error: 617204.9375\nEpoch 21/100\n8/8 [==============================] - 0s 59ms/step - loss: 0.0053 - mean_absolute_percentage_error: 10.6838 - val_loss: 0.0017 - val_mean_absolute_percentage_error: 591525.5000\nEpoch 22/100\n8/8 [==============================] - 0s 61ms/step - loss: 0.0053 - mean_absolute_percentage_error: 11.5577 - val_loss: 0.0019 - val_mean_absolute_percentage_error: 625578.9375\nEpoch 23/100\n8/8 [==============================] - 0s 49ms/step - loss: 0.0051 - mean_absolute_percentage_error: 10.6864 - val_loss: 0.0017 - val_mean_absolute_percentage_error: 549885.3750\nEpoch 24/100\n8/8 [==============================] - 0s 53ms/step - loss: 0.0053 - mean_absolute_percentage_error: 11.2756 - val_loss: 0.0017 - val_mean_absolute_percentage_error: 588628.3125\nEpoch 25/100\n8/8 [==============================] - 0s 53ms/step - loss: 0.0046 - mean_absolute_percentage_error: 9.9073 - val_loss: 0.0017 - val_mean_absolute_percentage_error: 577991.6875\nEpoch 26/100\n8/8 [==============================] - 0s 54ms/step - loss: 0.0047 - mean_absolute_percentage_error: 9.7231 - val_loss: 0.0017 - val_mean_absolute_percentage_error: 576894.3750\nEpoch 27/100\n8/8 [==============================] - 0s 54ms/step - loss: 0.0042 - mean_absolute_percentage_error: 9.9855 - val_loss: 0.0017 - val_mean_absolute_percentage_error: 582669.5625\nEpoch 28/100\n8/8 [==============================] - 0s 55ms/step - loss: 0.0045 - mean_absolute_percentage_error: 10.4064 - val_loss: 0.0017 - val_mean_absolute_percentage_error: 559410.8750\nEpoch 29/100\n8/8 [==============================] - 0s 51ms/step - loss: 0.0044 - mean_absolute_percentage_error: 10.3276 - val_loss: 0.0016 - val_mean_absolute_percentage_error: 544655.9375\nEpoch 30/100\n8/8 [==============================] - 0s 59ms/step - loss: 0.0044 - mean_absolute_percentage_error: 9.9797 - val_loss: 0.0017 - val_mean_absolute_percentage_error: 571504.5625\nEpoch 31/100\n8/8 [==============================] - 0s 64ms/step - loss: 0.0046 - mean_absolute_percentage_error: 9.9262 - val_loss: 0.0016 - val_mean_absolute_percentage_error: 538112.8750\nEpoch 32/100\n8/8 [==============================] - 0s 53ms/step - loss: 0.0042 - mean_absolute_percentage_error: 9.8945 - val_loss: 0.0016 - val_mean_absolute_percentage_error: 539160.0000\nEpoch 33/100\n8/8 [==============================] - 0s 53ms/step - loss: 0.0044 - mean_absolute_percentage_error: 10.0076 - val_loss: 0.0016 - val_mean_absolute_percentage_error: 525794.1250\nEpoch 34/100\n8/8 [==============================] - 0s 60ms/step - loss: 0.0044 - mean_absolute_percentage_error: 10.2713 - val_loss: 0.0016 - val_mean_absolute_percentage_error: 533623.8125\nEpoch 35/100\n8/8 [==============================] - 1s 164ms/step - loss: 0.0042 - mean_absolute_percentage_error: 9.8695 - val_loss: 0.0016 - val_mean_absolute_percentage_error: 495537.5312\nEpoch 36/100\n8/8 [==============================] - 0s 59ms/step - loss: 0.0046 - mean_absolute_percentage_error: 10.1194 - val_loss: 0.0016 - val_mean_absolute_percentage_error: 520279.2188\nEpoch 37/100\n8/8 [==============================] - 0s 49ms/step - loss: 0.0042 - mean_absolute_percentage_error: 9.4814 - val_loss: 0.0016 - val_mean_absolute_percentage_error: 467223.9688\nEpoch 38/100\n8/8 [==============================] - 0s 54ms/step - loss: 0.0052 - mean_absolute_percentage_error: 10.7114 - val_loss: 0.0016 - val_mean_absolute_percentage_error: 473910.0938\nEpoch 39/100\n8/8 [==============================] - 0s 54ms/step - loss: 0.0045 - mean_absolute_percentage_error: 10.4456 - val_loss: 0.0015 - val_mean_absolute_percentage_error: 456991.7500\nEpoch 40/100\n8/8 [==============================] - 0s 55ms/step - loss: 0.0046 - mean_absolute_percentage_error: 10.5229 - val_loss: 0.0016 - val_mean_absolute_percentage_error: 491428.6875\nEpoch 41/100\n8/8 [==============================] - 0s 47ms/step - loss: 0.0042 - mean_absolute_percentage_error: 9.9871 - val_loss: 0.0015 - val_mean_absolute_percentage_error: 451714.8125\nEpoch 42/100\n8/8 [==============================] - 0s 62ms/step - loss: 0.0046 - mean_absolute_percentage_error: 10.5555 - val_loss: 0.0016 - val_mean_absolute_percentage_error: 502555.7500\nEpoch 43/100\n8/8 [==============================] - 0s 62ms/step - loss: 0.0039 - mean_absolute_percentage_error: 9.1130 - val_loss: 0.0015 - val_mean_absolute_percentage_error: 445253.5312\nEpoch 44/100\n8/8 [==============================] - 0s 50ms/step - loss: 0.0043 - mean_absolute_percentage_error: 9.9893 - val_loss: 0.0016 - val_mean_absolute_percentage_error: 492120.5938\nEpoch 45/100\n8/8 [==============================] - 0s 59ms/step - loss: 0.0041 - mean_absolute_percentage_error: 9.5100 - val_loss: 0.0015 - val_mean_absolute_percentage_error: 451988.2188\nEpoch 46/100\n8/8 [==============================] - 0s 52ms/step - loss: 0.0048 - mean_absolute_percentage_error: 10.1731 - val_loss: 0.0016 - val_mean_absolute_percentage_error: 481504.0312\nEpoch 47/100\n8/8 [==============================] - 0s 61ms/step - loss: 0.0038 - mean_absolute_percentage_error: 9.3353 - val_loss: 0.0015 - val_mean_absolute_percentage_error: 455905.6562\nEpoch 48/100\n8/8 [==============================] - 0s 50ms/step - loss: 0.0037 - mean_absolute_percentage_error: 8.9510 - val_loss: 0.0015 - val_mean_absolute_percentage_error: 449513.6875\nEpoch 49/100\n8/8 [==============================] - 0s 58ms/step - loss: 0.0039 - mean_absolute_percentage_error: 9.5499 - val_loss: 0.0015 - val_mean_absolute_percentage_error: 439747.0000\nEpoch 50/100\n8/8 [==============================] - 0s 54ms/step - loss: 0.0039 - mean_absolute_percentage_error: 9.6473 - val_loss: 0.0015 - val_mean_absolute_percentage_error: 437287.1562\nEpoch 51/100\n8/8 [==============================] - 0s 54ms/step - loss: 0.0044 - mean_absolute_percentage_error: 10.0686 - val_loss: 0.0015 - val_mean_absolute_percentage_error: 434240.1562\nEpoch 52/100\n8/8 [==============================] - 0s 55ms/step - loss: 0.0043 - mean_absolute_percentage_error: 10.0123 - val_loss: 0.0015 - val_mean_absolute_percentage_error: 415790.4688\nEpoch 53/100\n8/8 [==============================] - 0s 53ms/step - loss: 0.0034 - mean_absolute_percentage_error: 9.0612 - val_loss: 0.0015 - val_mean_absolute_percentage_error: 389202.4688\nEpoch 54/100\n8/8 [==============================] - 0s 51ms/step - loss: 0.0043 - mean_absolute_percentage_error: 9.8459 - val_loss: 0.0015 - val_mean_absolute_percentage_error: 412506.7812\nEpoch 55/100\n8/8 [==============================] - 0s 56ms/step - loss: 0.0035 - mean_absolute_percentage_error: 9.0453 - val_loss: 0.0015 - val_mean_absolute_percentage_error: 381263.1875\nEpoch 56/100\n8/8 [==============================] - 0s 50ms/step - loss: 0.0038 - mean_absolute_percentage_error: 9.7146 - val_loss: 0.0015 - val_mean_absolute_percentage_error: 424745.5938\nEpoch 57/100\n8/8 [==============================] - 0s 53ms/step - loss: 0.0033 - mean_absolute_percentage_error: 8.9822 - val_loss: 0.0014 - val_mean_absolute_percentage_error: 389103.3125\nEpoch 58/100\n8/8 [==============================] - 0s 52ms/step - loss: 0.0038 - mean_absolute_percentage_error: 9.4657 - val_loss: 0.0014 - val_mean_absolute_percentage_error: 384084.6250\nEpoch 59/100\n8/8 [==============================] - 0s 59ms/step - loss: 0.0039 - mean_absolute_percentage_error: 8.9799 - val_loss: 0.0014 - val_mean_absolute_percentage_error: 381779.5625\nEpoch 60/100\n8/8 [==============================] - 0s 49ms/step - loss: 0.0037 - mean_absolute_percentage_error: 9.2166 - val_loss: 0.0014 - val_mean_absolute_percentage_error: 376657.1562\nEpoch 61/100\n8/8 [==============================] - 0s 54ms/step - loss: 0.0036 - mean_absolute_percentage_error: 9.5933 - val_loss: 0.0014 - val_mean_absolute_percentage_error: 402311.1250\nEpoch 62/100\n8/8 [==============================] - 0s 53ms/step - loss: 0.0036 - mean_absolute_percentage_error: 9.0764 - val_loss: 0.0014 - val_mean_absolute_percentage_error: 369546.5000\nEpoch 63/100\n8/8 [==============================] - 0s 49ms/step - loss: 0.0040 - mean_absolute_percentage_error: 9.4422 - val_loss: 0.0014 - val_mean_absolute_percentage_error: 367702.4688\nEpoch 64/100\n8/8 [==============================] - 0s 62ms/step - loss: 0.0032 - mean_absolute_percentage_error: 8.6021 - val_loss: 0.0014 - val_mean_absolute_percentage_error: 365962.5625\nEpoch 65/100\n8/8 [==============================] - 0s 50ms/step - loss: 0.0032 - mean_absolute_percentage_error: 8.9767 - val_loss: 0.0014 - val_mean_absolute_percentage_error: 344324.5625\nEpoch 66/100\n8/8 [==============================] - 0s 60ms/step - loss: 0.0038 - mean_absolute_percentage_error: 9.8197 - val_loss: 0.0014 - val_mean_absolute_percentage_error: 326120.2812\nEpoch 67/100\n8/8 [==============================] - 1s 136ms/step - loss: 0.0036 - mean_absolute_percentage_error: 9.4055 - val_loss: 0.0014 - val_mean_absolute_percentage_error: 349774.3125\nEpoch 68/100\n8/8 [==============================] - 0s 65ms/step - loss: 0.0036 - mean_absolute_percentage_error: 8.9612 - val_loss: 0.0014 - val_mean_absolute_percentage_error: 319836.7500\nEpoch 69/100\n8/8 [==============================] - 0s 55ms/step - loss: 0.0035 - mean_absolute_percentage_error: 9.0764 - val_loss: 0.0014 - val_mean_absolute_percentage_error: 345416.8750\nEpoch 70/100\n8/8 [==============================] - 0s 52ms/step - loss: 0.0033 - mean_absolute_percentage_error: 8.8890 - val_loss: 0.0014 - val_mean_absolute_percentage_error: 320071.0312\nEpoch 71/100\n8/8 [==============================] - 0s 58ms/step - loss: 0.0032 - mean_absolute_percentage_error: 8.7379 - val_loss: 0.0014 - val_mean_absolute_percentage_error: 331171.9688\nEpoch 72/100\n8/8 [==============================] - 0s 60ms/step - loss: 0.0038 - mean_absolute_percentage_error: 9.4582 - val_loss: 0.0014 - val_mean_absolute_percentage_error: 325686.2188\nEpoch 73/100\n8/8 [==============================] - 0s 58ms/step - loss: 0.0033 - mean_absolute_percentage_error: 8.7268 - val_loss: 0.0014 - val_mean_absolute_percentage_error: 330554.1875\nEpoch 74/100\n8/8 [==============================] - 0s 60ms/step - loss: 0.0034 - mean_absolute_percentage_error: 9.1513 - val_loss: 0.0014 - val_mean_absolute_percentage_error: 314472.7188\nEpoch 75/100\n8/8 [==============================] - 0s 53ms/step - loss: 0.0032 - mean_absolute_percentage_error: 8.9836 - val_loss: 0.0014 - val_mean_absolute_percentage_error: 327797.6875\nEpoch 76/100\n8/8 [==============================] - 0s 59ms/step - loss: 0.0032 - mean_absolute_percentage_error: 8.4319 - val_loss: 0.0014 - val_mean_absolute_percentage_error: 309588.6562\nEpoch 77/100\n8/8 [==============================] - 0s 48ms/step - loss: 0.0035 - mean_absolute_percentage_error: 8.9627 - val_loss: 0.0014 - val_mean_absolute_percentage_error: 334641.4062\nEpoch 78/100\n8/8 [==============================] - 0s 54ms/step - loss: 0.0036 - mean_absolute_percentage_error: 9.3503 - val_loss: 0.0014 - val_mean_absolute_percentage_error: 268795.7500\nEpoch 79/100\n8/8 [==============================] - 0s 55ms/step - loss: 0.0038 - mean_absolute_percentage_error: 9.2850 - val_loss: 0.0014 - val_mean_absolute_percentage_error: 308473.0938\nEpoch 80/100\n8/8 [==============================] - 0s 52ms/step - loss: 0.0034 - mean_absolute_percentage_error: 9.0230 - val_loss: 0.0014 - val_mean_absolute_percentage_error: 260656.1719\nEpoch 81/100\n8/8 [==============================] - 0s 55ms/step - loss: 0.0039 - mean_absolute_percentage_error: 9.4991 - val_loss: 0.0014 - val_mean_absolute_percentage_error: 308507.0000\nEpoch 82/100\n8/8 [==============================] - 0s 51ms/step - loss: 0.0032 - mean_absolute_percentage_error: 8.5925 - val_loss: 0.0015 - val_mean_absolute_percentage_error: 252443.4531\nEpoch 83/100\n8/8 [==============================] - 0s 59ms/step - loss: 0.0040 - mean_absolute_percentage_error: 9.9242 - val_loss: 0.0014 - val_mean_absolute_percentage_error: 355261.0000\nEpoch 84/100\n8/8 [==============================] - 0s 52ms/step - loss: 0.0031 - mean_absolute_percentage_error: 8.9815 - val_loss: 0.0014 - val_mean_absolute_percentage_error: 269900.3438\nEpoch 85/100\n8/8 [==============================] - 0s 49ms/step - loss: 0.0042 - mean_absolute_percentage_error: 10.2496 - val_loss: 0.0015 - val_mean_absolute_percentage_error: 372446.8750\nEpoch 86/100\n8/8 [==============================] - 0s 59ms/step - loss: 0.0033 - mean_absolute_percentage_error: 8.8522 - val_loss: 0.0015 - val_mean_absolute_percentage_error: 248353.4062\nEpoch 87/100\n8/8 [==============================] - 0s 55ms/step - loss: 0.0046 - mean_absolute_percentage_error: 10.6334 - val_loss: 0.0015 - val_mean_absolute_percentage_error: 369505.4375\nEpoch 88/100\n8/8 [==============================] - 0s 51ms/step - loss: 0.0038 - mean_absolute_percentage_error: 9.2411 - val_loss: 0.0015 - val_mean_absolute_percentage_error: 249261.8750\nEpoch 89/100\n8/8 [==============================] - 0s 49ms/step - loss: 0.0051 - mean_absolute_percentage_error: 10.9469 - val_loss: 0.0014 - val_mean_absolute_percentage_error: 371275.5625\nEpoch 90/100\n8/8 [==============================] - 0s 57ms/step - loss: 0.0040 - mean_absolute_percentage_error: 9.7987 - val_loss: 0.0014 - val_mean_absolute_percentage_error: 267513.0625\nEpoch 91/100\n8/8 [==============================] - 0s 60ms/step - loss: 0.0045 - mean_absolute_percentage_error: 10.1471 - val_loss: 0.0014 - val_mean_absolute_percentage_error: 359242.3438\nEpoch 92/100\n8/8 [==============================] - 0s 54ms/step - loss: 0.0033 - mean_absolute_percentage_error: 8.5283 - val_loss: 0.0013 - val_mean_absolute_percentage_error: 320708.8125\nEpoch 93/100\n8/8 [==============================] - 0s 49ms/step - loss: 0.0034 - mean_absolute_percentage_error: 8.4942 - val_loss: 0.0013 - val_mean_absolute_percentage_error: 300814.6562\nEpoch 94/100\n8/8 [==============================] - 0s 64ms/step - loss: 0.0030 - mean_absolute_percentage_error: 8.5291 - val_loss: 0.0013 - val_mean_absolute_percentage_error: 326684.2812\nEpoch 95/100\n8/8 [==============================] - 0s 55ms/step - loss: 0.0035 - mean_absolute_percentage_error: 9.2296 - val_loss: 0.0013 - val_mean_absolute_percentage_error: 294508.8438\nEpoch 96/100\n8/8 [==============================] - 0s 53ms/step - loss: 0.0034 - mean_absolute_percentage_error: 8.8155 - val_loss: 0.0013 - val_mean_absolute_percentage_error: 278419.0625\nEpoch 97/100\n8/8 [==============================] - 0s 56ms/step - loss: 0.0030 - mean_absolute_percentage_error: 8.3725 - val_loss: 0.0013 - val_mean_absolute_percentage_error: 257869.7969\nEpoch 98/100\n8/8 [==============================] - 0s 55ms/step - loss: 0.0032 - mean_absolute_percentage_error: 8.8077 - val_loss: 0.0013 - val_mean_absolute_percentage_error: 260221.4531\nEpoch 99/100\n8/8 [==============================] - 0s 50ms/step - loss: 0.0027 - mean_absolute_percentage_error: 8.0207 - val_loss: 0.0013 - val_mean_absolute_percentage_error: 235295.8750\nEpoch 100/100\n8/8 [==============================] - 0s 49ms/step - loss: 0.0030 - mean_absolute_percentage_error: 8.3266 - val_loss: 0.0013 - val_mean_absolute_percentage_error: 254028.1406\n",
     "output_type": "stream"
    }
   ]
  },
  {
   "cell_type": "code",
   "metadata": {
    "id": "ke1HeEMgC1pa",
    "cell_id": "00020-4f60aef5-c10c-43b4-a263-c8ea9590435f",
    "deepnote_to_be_reexecuted": false,
    "source_hash": "4075beed",
    "execution_start": 1637589655820,
    "execution_millis": 671,
    "deepnote_cell_type": "code"
   },
   "source": "#Make predictions and inverse the scaling\n\n# finish the code \npredicted_stock_price = model.predict(test_features)\npredicted_stock_price_inverse = scaler.inverse_transform(predicted_stock_price)\n",
   "execution_count": 17,
   "outputs": []
  },
  {
   "cell_type": "code",
   "source": "#Plot predictions vs. reality on Test Data\nplt.figure(figsize=(20,10))\nplt.plot(testing_data_processed, label = 'Real Price')\nplt.plot(predicted_stock_price_inverse, label = 'Predicted Price')\n#plt.plot(testing_data_processed - predicted_stock_price_inverse, label = 'diff')\nplt.title('Stock prediction')\nplt.legend()\nplt.show()",
   "metadata": {
    "tags": [],
    "cell_id": "00025-fc9b98c4-e6d5-4380-9ca9-15f0f2298ab2",
    "deepnote_to_be_reexecuted": false,
    "source_hash": "465e8651",
    "execution_start": 1637589656539,
    "execution_millis": 428,
    "deepnote_cell_type": "code"
   },
   "outputs": [
    {
     "data": {
      "text/plain": "<Figure size 1440x720 with 1 Axes>",
      "image/png": "[encoded data removed]"
     },
     "metadata": {
      "needs_background": "light",
      "image/png": {
       "width": 1150,
       "height": 590
      }
     },
     "output_type": "display_data"
    }
   ],
   "execution_count": 18
  },
  {
   "cell_type": "code",
   "source": "# Plot the whole Stock Price time series, including train and forecasted test\n\n#Create DataFrame for easy plotting\ndf1 = pd.DataFrame(training_data_processed, columns=['Real'])\nindex = np.arange(len(training_data_processed),len(training_data_processed)+len(predicted_stock_price_inverse))\ndf2 = pd.DataFrame(predicted_stock_price_inverse, columns=['Predicted'], index=index)\ndf2['test_data'] = testing_data_processed\ndf = df1.merge(df2, how='outer', left_index=True, right_index=True)\n\n#Plot \"in time\"\nplt.figure(figsize=(20,10))\nplt.plot(df['Real'], label = 'Real Price')\nplt.plot(df['Predicted'], label = 'Predicted Price')\nplt.plot(df['test_data'], label = 'test_data (real price)')\nplt.title('Stock price prediction')\nplt.legend()\nplt.show()",
   "metadata": {
    "tags": [],
    "cell_id": "00026-6f9901cc-2189-4ebb-b647-c001d08fa4e2",
    "deepnote_to_be_reexecuted": false,
    "source_hash": "ffa8c59b",
    "execution_start": 1637589657026,
    "execution_millis": 409,
    "deepnote_cell_type": "code"
   },
   "outputs": [
    {
     "data": {
      "text/plain": "<Figure size 1440x720 with 1 Axes>",
      "image/png": "[encoded data removed]"
     },
     "metadata": {
      "needs_background": "light",
      "image/png": {
       "width": 1150,
       "height": 590
      }
     },
     "output_type": "display_data"
    }
   ],
   "execution_count": 19
  },
  {
   "cell_type": "markdown",
   "source": "Optional: Try your model with more features, try with different sequence lengths (this is a hyperparameter) - and try with the \"real\" Dax Performance Index data also provided (which reaches back longer). If you do so, you will have to split the data into training and test sets first). ",
   "metadata": {
    "id": "jiTrCOSqzRrE",
    "cell_id": "00023-eb4d175d-6b2b-4d21-abd1-f1ec7c83398d",
    "deepnote_cell_type": "markdown"
   }
  },
  {
   "cell_type": "markdown",
   "source": "<a style='text-decoration:none;line-height:16px;display:flex;color:#5B5B62;padding:10px;justify-content:end;' href='https://deepnote.com?utm_source=created-in-deepnote-cell&projectId=a109ea11-a7da-42aa-8af0-3a0cdafc917e' target=\"_blank\">\n<img alt='Created in deepnote.com' style='display:inline;max-height:16px;margin:0px;margin-right:7.5px;' src='data:image/svg+xml;base64,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' > </img>\nCreated in <span style='font-weight:600;margin-left:4px;'>Deepnote</span></a>",
   "metadata": {
    "tags": [],
    "created_in_deepnote_cell": true,
    "deepnote_cell_type": "markdown"
   }
  }
 ],
 "nbformat": 4,
 "nbformat_minor": 0,
 "metadata": {
  "colab": {
   "name": "Stock_Prediction_Quest.ipynb",
   "provenance": [],
   "collapsed_sections": []
  },
  "kernelspec": {
   "name": "python3",
   "display_name": "Python 3"
  },
  "accelerator": "GPU",
  "deepnote_notebook_id": "519765a3-5a3d-4d1a-bc91-4c4dab925407",
  "deepnote": {},
  "deepnote_execution_queue": []
 }
}