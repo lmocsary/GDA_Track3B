{
  "nbformat": 4,
  "nbformat_minor": 0,
  "metadata": {
    "colab": {
      "name": "NN_Dojo_solution.ipynb",
      "provenance": []
    },
    "kernelspec": {
      "name": "python3",
      "display_name": "Python 3"
    }
  },
  "cells": [
    {
      "cell_type": "markdown",
      "metadata": {
        "id": "DQPbhutEGd4F"
      },
      "source": [
        "## Preparation"
      ]
    },
    {
      "cell_type": "markdown",
      "metadata": {
        "id": "m7tA7ZIuGhsP"
      },
      "source": [
        "Loading the dataset about breast cancer:\n",
        "\n",
        "\n",
        "*   radius (mean of distances from center to points on the perimeter)\n",
        "*   texture (standard deviation of gray-scale values)\n",
        "\n",
        "* perimeter\n",
        "\n",
        "* area\n",
        "\n",
        "* smoothness (local variation in radius lengths)\n",
        "\n",
        "* compactness (perimeter^2 / area - 1.0)\n",
        "\n",
        "* concavity (severity of concave portions of the contour)\n",
        "\n",
        "* concave points (number of concave portions of the contour)\n",
        "\n",
        "* symmetry\n",
        "\n",
        "* fractal dimension (“coastline approximation” - 1)\n",
        "\n",
        "Features are computed from a digitized image of a fine needle aspirate (FNA) of a breast mass. They describe characteristics of the cell nuclei present in the image.\n",
        "\n"
      ]
    },
    {
      "cell_type": "code",
      "metadata": {
        "id": "utxOpPt7Gj5t"
      },
      "source": [
        "import numpy as np\n",
        "import pandas as pd\n",
        "import matplotlib.pyplot as plt\n",
        "import seaborn as sns\n",
        "sns.set_style(\"whitegrid\")\n",
        "import warnings\n",
        "warnings.simplefilter(action=\"ignore\")"
      ],
      "execution_count": null,
      "outputs": []
    },
    {
      "cell_type": "code",
      "metadata": {
        "id": "ecnfoEAeGktv"
      },
      "source": [
        "from sklearn.datasets import load_breast_cancer\n",
        "\n",
        "cancer = load_breast_cancer()\n",
        "\n",
        "df = pd.DataFrame(np.c_[cancer['data'], cancer['target']],\n",
        "                            columns=np.append(cancer['feature_names'], ['target']))"
      ],
      "execution_count": null,
      "outputs": []
    },
    {
      "cell_type": "code",
      "metadata": {
        "id": "q2ovzkD1HJvz",
        "colab": {
          "base_uri": "https://localhost:8080/",
          "height": 470
        },
        "outputId": "92deda40-73bf-4503-976f-8740aaa589aa"
      },
      "source": [
        "df"
      ],
      "execution_count": null,
      "outputs": [
        {
          "output_type": "execute_result",
          "data": {
            "text/html": [
              "<div>\n",
              "<style scoped>\n",
              "    .dataframe tbody tr th:only-of-type {\n",
              "        vertical-align: middle;\n",
              "    }\n",
              "\n",
              "    .dataframe tbody tr th {\n",
              "        vertical-align: top;\n",
              "    }\n",
              "\n",
              "    .dataframe thead th {\n",
              "        text-align: right;\n",
              "    }\n",
              "</style>\n",
              "<table border=\"1\" class=\"dataframe\">\n",
              "  <thead>\n",
              "    <tr style=\"text-align: right;\">\n",
              "      <th></th>\n",
              "      <th>mean radius</th>\n",
              "      <th>mean texture</th>\n",
              "      <th>mean perimeter</th>\n",
              "      <th>mean area</th>\n",
              "      <th>mean smoothness</th>\n",
              "      <th>mean compactness</th>\n",
              "      <th>mean concavity</th>\n",
              "      <th>mean concave points</th>\n",
              "      <th>mean symmetry</th>\n",
              "      <th>mean fractal dimension</th>\n",
              "      <th>radius error</th>\n",
              "      <th>texture error</th>\n",
              "      <th>perimeter error</th>\n",
              "      <th>area error</th>\n",
              "      <th>smoothness error</th>\n",
              "      <th>compactness error</th>\n",
              "      <th>concavity error</th>\n",
              "      <th>concave points error</th>\n",
              "      <th>symmetry error</th>\n",
              "      <th>fractal dimension error</th>\n",
              "      <th>worst radius</th>\n",
              "      <th>worst texture</th>\n",
              "      <th>worst perimeter</th>\n",
              "      <th>worst area</th>\n",
              "      <th>worst smoothness</th>\n",
              "      <th>worst compactness</th>\n",
              "      <th>worst concavity</th>\n",
              "      <th>worst concave points</th>\n",
              "      <th>worst symmetry</th>\n",
              "      <th>worst fractal dimension</th>\n",
              "      <th>target</th>\n",
              "    </tr>\n",
              "  </thead>\n",
              "  <tbody>\n",
              "    <tr>\n",
              "      <th>0</th>\n",
              "      <td>17.99</td>\n",
              "      <td>10.38</td>\n",
              "      <td>122.80</td>\n",
              "      <td>1001.0</td>\n",
              "      <td>0.11840</td>\n",
              "      <td>0.27760</td>\n",
              "      <td>0.30010</td>\n",
              "      <td>0.14710</td>\n",
              "      <td>0.2419</td>\n",
              "      <td>0.07871</td>\n",
              "      <td>1.0950</td>\n",
              "      <td>0.9053</td>\n",
              "      <td>8.589</td>\n",
              "      <td>153.40</td>\n",
              "      <td>0.006399</td>\n",
              "      <td>0.04904</td>\n",
              "      <td>0.05373</td>\n",
              "      <td>0.01587</td>\n",
              "      <td>0.03003</td>\n",
              "      <td>0.006193</td>\n",
              "      <td>25.380</td>\n",
              "      <td>17.33</td>\n",
              "      <td>184.60</td>\n",
              "      <td>2019.0</td>\n",
              "      <td>0.16220</td>\n",
              "      <td>0.66560</td>\n",
              "      <td>0.7119</td>\n",
              "      <td>0.2654</td>\n",
              "      <td>0.4601</td>\n",
              "      <td>0.11890</td>\n",
              "      <td>0.0</td>\n",
              "    </tr>\n",
              "    <tr>\n",
              "      <th>1</th>\n",
              "      <td>20.57</td>\n",
              "      <td>17.77</td>\n",
              "      <td>132.90</td>\n",
              "      <td>1326.0</td>\n",
              "      <td>0.08474</td>\n",
              "      <td>0.07864</td>\n",
              "      <td>0.08690</td>\n",
              "      <td>0.07017</td>\n",
              "      <td>0.1812</td>\n",
              "      <td>0.05667</td>\n",
              "      <td>0.5435</td>\n",
              "      <td>0.7339</td>\n",
              "      <td>3.398</td>\n",
              "      <td>74.08</td>\n",
              "      <td>0.005225</td>\n",
              "      <td>0.01308</td>\n",
              "      <td>0.01860</td>\n",
              "      <td>0.01340</td>\n",
              "      <td>0.01389</td>\n",
              "      <td>0.003532</td>\n",
              "      <td>24.990</td>\n",
              "      <td>23.41</td>\n",
              "      <td>158.80</td>\n",
              "      <td>1956.0</td>\n",
              "      <td>0.12380</td>\n",
              "      <td>0.18660</td>\n",
              "      <td>0.2416</td>\n",
              "      <td>0.1860</td>\n",
              "      <td>0.2750</td>\n",
              "      <td>0.08902</td>\n",
              "      <td>0.0</td>\n",
              "    </tr>\n",
              "    <tr>\n",
              "      <th>2</th>\n",
              "      <td>19.69</td>\n",
              "      <td>21.25</td>\n",
              "      <td>130.00</td>\n",
              "      <td>1203.0</td>\n",
              "      <td>0.10960</td>\n",
              "      <td>0.15990</td>\n",
              "      <td>0.19740</td>\n",
              "      <td>0.12790</td>\n",
              "      <td>0.2069</td>\n",
              "      <td>0.05999</td>\n",
              "      <td>0.7456</td>\n",
              "      <td>0.7869</td>\n",
              "      <td>4.585</td>\n",
              "      <td>94.03</td>\n",
              "      <td>0.006150</td>\n",
              "      <td>0.04006</td>\n",
              "      <td>0.03832</td>\n",
              "      <td>0.02058</td>\n",
              "      <td>0.02250</td>\n",
              "      <td>0.004571</td>\n",
              "      <td>23.570</td>\n",
              "      <td>25.53</td>\n",
              "      <td>152.50</td>\n",
              "      <td>1709.0</td>\n",
              "      <td>0.14440</td>\n",
              "      <td>0.42450</td>\n",
              "      <td>0.4504</td>\n",
              "      <td>0.2430</td>\n",
              "      <td>0.3613</td>\n",
              "      <td>0.08758</td>\n",
              "      <td>0.0</td>\n",
              "    </tr>\n",
              "    <tr>\n",
              "      <th>3</th>\n",
              "      <td>11.42</td>\n",
              "      <td>20.38</td>\n",
              "      <td>77.58</td>\n",
              "      <td>386.1</td>\n",
              "      <td>0.14250</td>\n",
              "      <td>0.28390</td>\n",
              "      <td>0.24140</td>\n",
              "      <td>0.10520</td>\n",
              "      <td>0.2597</td>\n",
              "      <td>0.09744</td>\n",
              "      <td>0.4956</td>\n",
              "      <td>1.1560</td>\n",
              "      <td>3.445</td>\n",
              "      <td>27.23</td>\n",
              "      <td>0.009110</td>\n",
              "      <td>0.07458</td>\n",
              "      <td>0.05661</td>\n",
              "      <td>0.01867</td>\n",
              "      <td>0.05963</td>\n",
              "      <td>0.009208</td>\n",
              "      <td>14.910</td>\n",
              "      <td>26.50</td>\n",
              "      <td>98.87</td>\n",
              "      <td>567.7</td>\n",
              "      <td>0.20980</td>\n",
              "      <td>0.86630</td>\n",
              "      <td>0.6869</td>\n",
              "      <td>0.2575</td>\n",
              "      <td>0.6638</td>\n",
              "      <td>0.17300</td>\n",
              "      <td>0.0</td>\n",
              "    </tr>\n",
              "    <tr>\n",
              "      <th>4</th>\n",
              "      <td>20.29</td>\n",
              "      <td>14.34</td>\n",
              "      <td>135.10</td>\n",
              "      <td>1297.0</td>\n",
              "      <td>0.10030</td>\n",
              "      <td>0.13280</td>\n",
              "      <td>0.19800</td>\n",
              "      <td>0.10430</td>\n",
              "      <td>0.1809</td>\n",
              "      <td>0.05883</td>\n",
              "      <td>0.7572</td>\n",
              "      <td>0.7813</td>\n",
              "      <td>5.438</td>\n",
              "      <td>94.44</td>\n",
              "      <td>0.011490</td>\n",
              "      <td>0.02461</td>\n",
              "      <td>0.05688</td>\n",
              "      <td>0.01885</td>\n",
              "      <td>0.01756</td>\n",
              "      <td>0.005115</td>\n",
              "      <td>22.540</td>\n",
              "      <td>16.67</td>\n",
              "      <td>152.20</td>\n",
              "      <td>1575.0</td>\n",
              "      <td>0.13740</td>\n",
              "      <td>0.20500</td>\n",
              "      <td>0.4000</td>\n",
              "      <td>0.1625</td>\n",
              "      <td>0.2364</td>\n",
              "      <td>0.07678</td>\n",
              "      <td>0.0</td>\n",
              "    </tr>\n",
              "    <tr>\n",
              "      <th>...</th>\n",
              "      <td>...</td>\n",
              "      <td>...</td>\n",
              "      <td>...</td>\n",
              "      <td>...</td>\n",
              "      <td>...</td>\n",
              "      <td>...</td>\n",
              "      <td>...</td>\n",
              "      <td>...</td>\n",
              "      <td>...</td>\n",
              "      <td>...</td>\n",
              "      <td>...</td>\n",
              "      <td>...</td>\n",
              "      <td>...</td>\n",
              "      <td>...</td>\n",
              "      <td>...</td>\n",
              "      <td>...</td>\n",
              "      <td>...</td>\n",
              "      <td>...</td>\n",
              "      <td>...</td>\n",
              "      <td>...</td>\n",
              "      <td>...</td>\n",
              "      <td>...</td>\n",
              "      <td>...</td>\n",
              "      <td>...</td>\n",
              "      <td>...</td>\n",
              "      <td>...</td>\n",
              "      <td>...</td>\n",
              "      <td>...</td>\n",
              "      <td>...</td>\n",
              "      <td>...</td>\n",
              "      <td>...</td>\n",
              "    </tr>\n",
              "    <tr>\n",
              "      <th>564</th>\n",
              "      <td>21.56</td>\n",
              "      <td>22.39</td>\n",
              "      <td>142.00</td>\n",
              "      <td>1479.0</td>\n",
              "      <td>0.11100</td>\n",
              "      <td>0.11590</td>\n",
              "      <td>0.24390</td>\n",
              "      <td>0.13890</td>\n",
              "      <td>0.1726</td>\n",
              "      <td>0.05623</td>\n",
              "      <td>1.1760</td>\n",
              "      <td>1.2560</td>\n",
              "      <td>7.673</td>\n",
              "      <td>158.70</td>\n",
              "      <td>0.010300</td>\n",
              "      <td>0.02891</td>\n",
              "      <td>0.05198</td>\n",
              "      <td>0.02454</td>\n",
              "      <td>0.01114</td>\n",
              "      <td>0.004239</td>\n",
              "      <td>25.450</td>\n",
              "      <td>26.40</td>\n",
              "      <td>166.10</td>\n",
              "      <td>2027.0</td>\n",
              "      <td>0.14100</td>\n",
              "      <td>0.21130</td>\n",
              "      <td>0.4107</td>\n",
              "      <td>0.2216</td>\n",
              "      <td>0.2060</td>\n",
              "      <td>0.07115</td>\n",
              "      <td>0.0</td>\n",
              "    </tr>\n",
              "    <tr>\n",
              "      <th>565</th>\n",
              "      <td>20.13</td>\n",
              "      <td>28.25</td>\n",
              "      <td>131.20</td>\n",
              "      <td>1261.0</td>\n",
              "      <td>0.09780</td>\n",
              "      <td>0.10340</td>\n",
              "      <td>0.14400</td>\n",
              "      <td>0.09791</td>\n",
              "      <td>0.1752</td>\n",
              "      <td>0.05533</td>\n",
              "      <td>0.7655</td>\n",
              "      <td>2.4630</td>\n",
              "      <td>5.203</td>\n",
              "      <td>99.04</td>\n",
              "      <td>0.005769</td>\n",
              "      <td>0.02423</td>\n",
              "      <td>0.03950</td>\n",
              "      <td>0.01678</td>\n",
              "      <td>0.01898</td>\n",
              "      <td>0.002498</td>\n",
              "      <td>23.690</td>\n",
              "      <td>38.25</td>\n",
              "      <td>155.00</td>\n",
              "      <td>1731.0</td>\n",
              "      <td>0.11660</td>\n",
              "      <td>0.19220</td>\n",
              "      <td>0.3215</td>\n",
              "      <td>0.1628</td>\n",
              "      <td>0.2572</td>\n",
              "      <td>0.06637</td>\n",
              "      <td>0.0</td>\n",
              "    </tr>\n",
              "    <tr>\n",
              "      <th>566</th>\n",
              "      <td>16.60</td>\n",
              "      <td>28.08</td>\n",
              "      <td>108.30</td>\n",
              "      <td>858.1</td>\n",
              "      <td>0.08455</td>\n",
              "      <td>0.10230</td>\n",
              "      <td>0.09251</td>\n",
              "      <td>0.05302</td>\n",
              "      <td>0.1590</td>\n",
              "      <td>0.05648</td>\n",
              "      <td>0.4564</td>\n",
              "      <td>1.0750</td>\n",
              "      <td>3.425</td>\n",
              "      <td>48.55</td>\n",
              "      <td>0.005903</td>\n",
              "      <td>0.03731</td>\n",
              "      <td>0.04730</td>\n",
              "      <td>0.01557</td>\n",
              "      <td>0.01318</td>\n",
              "      <td>0.003892</td>\n",
              "      <td>18.980</td>\n",
              "      <td>34.12</td>\n",
              "      <td>126.70</td>\n",
              "      <td>1124.0</td>\n",
              "      <td>0.11390</td>\n",
              "      <td>0.30940</td>\n",
              "      <td>0.3403</td>\n",
              "      <td>0.1418</td>\n",
              "      <td>0.2218</td>\n",
              "      <td>0.07820</td>\n",
              "      <td>0.0</td>\n",
              "    </tr>\n",
              "    <tr>\n",
              "      <th>567</th>\n",
              "      <td>20.60</td>\n",
              "      <td>29.33</td>\n",
              "      <td>140.10</td>\n",
              "      <td>1265.0</td>\n",
              "      <td>0.11780</td>\n",
              "      <td>0.27700</td>\n",
              "      <td>0.35140</td>\n",
              "      <td>0.15200</td>\n",
              "      <td>0.2397</td>\n",
              "      <td>0.07016</td>\n",
              "      <td>0.7260</td>\n",
              "      <td>1.5950</td>\n",
              "      <td>5.772</td>\n",
              "      <td>86.22</td>\n",
              "      <td>0.006522</td>\n",
              "      <td>0.06158</td>\n",
              "      <td>0.07117</td>\n",
              "      <td>0.01664</td>\n",
              "      <td>0.02324</td>\n",
              "      <td>0.006185</td>\n",
              "      <td>25.740</td>\n",
              "      <td>39.42</td>\n",
              "      <td>184.60</td>\n",
              "      <td>1821.0</td>\n",
              "      <td>0.16500</td>\n",
              "      <td>0.86810</td>\n",
              "      <td>0.9387</td>\n",
              "      <td>0.2650</td>\n",
              "      <td>0.4087</td>\n",
              "      <td>0.12400</td>\n",
              "      <td>0.0</td>\n",
              "    </tr>\n",
              "    <tr>\n",
              "      <th>568</th>\n",
              "      <td>7.76</td>\n",
              "      <td>24.54</td>\n",
              "      <td>47.92</td>\n",
              "      <td>181.0</td>\n",
              "      <td>0.05263</td>\n",
              "      <td>0.04362</td>\n",
              "      <td>0.00000</td>\n",
              "      <td>0.00000</td>\n",
              "      <td>0.1587</td>\n",
              "      <td>0.05884</td>\n",
              "      <td>0.3857</td>\n",
              "      <td>1.4280</td>\n",
              "      <td>2.548</td>\n",
              "      <td>19.15</td>\n",
              "      <td>0.007189</td>\n",
              "      <td>0.00466</td>\n",
              "      <td>0.00000</td>\n",
              "      <td>0.00000</td>\n",
              "      <td>0.02676</td>\n",
              "      <td>0.002783</td>\n",
              "      <td>9.456</td>\n",
              "      <td>30.37</td>\n",
              "      <td>59.16</td>\n",
              "      <td>268.6</td>\n",
              "      <td>0.08996</td>\n",
              "      <td>0.06444</td>\n",
              "      <td>0.0000</td>\n",
              "      <td>0.0000</td>\n",
              "      <td>0.2871</td>\n",
              "      <td>0.07039</td>\n",
              "      <td>1.0</td>\n",
              "    </tr>\n",
              "  </tbody>\n",
              "</table>\n",
              "<p>569 rows × 31 columns</p>\n",
              "</div>"
            ],
            "text/plain": [
              "     mean radius  mean texture  ...  worst fractal dimension  target\n",
              "0          17.99         10.38  ...                  0.11890     0.0\n",
              "1          20.57         17.77  ...                  0.08902     0.0\n",
              "2          19.69         21.25  ...                  0.08758     0.0\n",
              "3          11.42         20.38  ...                  0.17300     0.0\n",
              "4          20.29         14.34  ...                  0.07678     0.0\n",
              "..           ...           ...  ...                      ...     ...\n",
              "564        21.56         22.39  ...                  0.07115     0.0\n",
              "565        20.13         28.25  ...                  0.06637     0.0\n",
              "566        16.60         28.08  ...                  0.07820     0.0\n",
              "567        20.60         29.33  ...                  0.12400     0.0\n",
              "568         7.76         24.54  ...                  0.07039     1.0\n",
              "\n",
              "[569 rows x 31 columns]"
            ]
          },
          "metadata": {},
          "execution_count": 3
        }
      ]
    },
    {
      "cell_type": "markdown",
      "metadata": {
        "id": "EvXIhc6jHroe"
      },
      "source": [
        "## Data Inspection/Exploration"
      ]
    },
    {
      "cell_type": "code",
      "metadata": {
        "id": "TVL1Pa-5Ht5u"
      },
      "source": [
        "#df.replace({'target': 1}, \"benign\", inplace=True)\n",
        "#df.replace({'target': 0}, \"malignant\", inplace=True)"
      ],
      "execution_count": null,
      "outputs": []
    },
    {
      "cell_type": "code",
      "metadata": {
        "colab": {
          "base_uri": "https://localhost:8080/"
        },
        "id": "NH5K2kYQixWs",
        "outputId": "77a63b2d-a74b-47c4-e8a8-1fa441469098"
      },
      "source": [
        "df['target'].value_counts()\n"
      ],
      "execution_count": null,
      "outputs": [
        {
          "output_type": "execute_result",
          "data": {
            "text/plain": [
              "1.0    357\n",
              "0.0    212\n",
              "Name: target, dtype: int64"
            ]
          },
          "metadata": {},
          "execution_count": 5
        }
      ]
    },
    {
      "cell_type": "code",
      "metadata": {
        "id": "rfSfdKNCH-oN",
        "colab": {
          "base_uri": "https://localhost:8080/",
          "height": 295
        },
        "outputId": "a5e6a613-4c24-478a-f96d-9543e2e08049"
      },
      "source": [
        "# inspect the distribution\n",
        "\n",
        "sns.countplot(data = df, x='target')\n",
        "plt.title('Diagnosis');"
      ],
      "execution_count": null,
      "outputs": [
        {
          "output_type": "display_data",
          "data": {
            "image/png": "[encoded data removed]",
            "text/plain": [
              "<Figure size 432x288 with 1 Axes>"
            ]
          },
          "metadata": {
            "needs_background": "light"
          }
        }
      ]
    },
    {
      "cell_type": "code",
      "metadata": {
        "id": "Rty_ZwMA9sqi",
        "colab": {
          "base_uri": "https://localhost:8080/"
        },
        "outputId": "aba3e562-b9ed-415a-d42a-fcc2dc63a2d0"
      },
      "source": [
        "#inspect the data and columns\n",
        "# count number of empty values in each column\n",
        "df.isnull().sum()"
      ],
      "execution_count": null,
      "outputs": [
        {
          "output_type": "execute_result",
          "data": {
            "text/plain": [
              "mean radius                0\n",
              "mean texture               0\n",
              "mean perimeter             0\n",
              "mean area                  0\n",
              "mean smoothness            0\n",
              "mean compactness           0\n",
              "mean concavity             0\n",
              "mean concave points        0\n",
              "mean symmetry              0\n",
              "mean fractal dimension     0\n",
              "radius error               0\n",
              "texture error              0\n",
              "perimeter error            0\n",
              "area error                 0\n",
              "smoothness error           0\n",
              "compactness error          0\n",
              "concavity error            0\n",
              "concave points error       0\n",
              "symmetry error             0\n",
              "fractal dimension error    0\n",
              "worst radius               0\n",
              "worst texture              0\n",
              "worst perimeter            0\n",
              "worst area                 0\n",
              "worst smoothness           0\n",
              "worst compactness          0\n",
              "worst concavity            0\n",
              "worst concave points       0\n",
              "worst symmetry             0\n",
              "worst fractal dimension    0\n",
              "target                     0\n",
              "dtype: int64"
            ]
          },
          "metadata": {},
          "execution_count": 7
        }
      ]
    },
    {
      "cell_type": "code",
      "metadata": {
        "colab": {
          "base_uri": "https://localhost:8080/"
        },
        "id": "w3d3YOyYjxv4",
        "outputId": "a73e5ad5-82a2-47d4-fe55-2bdb1112f0e7"
      },
      "source": [
        "#look at the data types to see which columns need to be encoded\n",
        "df.dtypes\n"
      ],
      "execution_count": null,
      "outputs": [
        {
          "output_type": "execute_result",
          "data": {
            "text/plain": [
              "mean radius                float64\n",
              "mean texture               float64\n",
              "mean perimeter             float64\n",
              "mean area                  float64\n",
              "mean smoothness            float64\n",
              "mean compactness           float64\n",
              "mean concavity             float64\n",
              "mean concave points        float64\n",
              "mean symmetry              float64\n",
              "mean fractal dimension     float64\n",
              "radius error               float64\n",
              "texture error              float64\n",
              "perimeter error            float64\n",
              "area error                 float64\n",
              "smoothness error           float64\n",
              "compactness error          float64\n",
              "concavity error            float64\n",
              "concave points error       float64\n",
              "symmetry error             float64\n",
              "fractal dimension error    float64\n",
              "worst radius               float64\n",
              "worst texture              float64\n",
              "worst perimeter            float64\n",
              "worst area                 float64\n",
              "worst smoothness           float64\n",
              "worst compactness          float64\n",
              "worst concavity            float64\n",
              "worst concave points       float64\n",
              "worst symmetry             float64\n",
              "worst fractal dimension    float64\n",
              "target                     float64\n",
              "dtype: object"
            ]
          },
          "metadata": {},
          "execution_count": 8
        }
      ]
    },
    {
      "cell_type": "code",
      "metadata": {
        "id": "Egfds3xAULJF",
        "colab": {
          "base_uri": "https://localhost:8080/"
        },
        "outputId": "04ab9dbd-0e8a-4435-8a31-b851aa7536dd"
      },
      "source": [
        "#define X and y\n",
        "X=df.iloc[:,:-1]\n",
        "y=df.iloc[:,-1]\n",
        "y\n"
      ],
      "execution_count": null,
      "outputs": [
        {
          "output_type": "execute_result",
          "data": {
            "text/plain": [
              "0      0.0\n",
              "1      0.0\n",
              "2      0.0\n",
              "3      0.0\n",
              "4      0.0\n",
              "      ... \n",
              "564    0.0\n",
              "565    0.0\n",
              "566    0.0\n",
              "567    0.0\n",
              "568    1.0\n",
              "Name: target, Length: 569, dtype: float64"
            ]
          },
          "metadata": {},
          "execution_count": 9
        }
      ]
    },
    {
      "cell_type": "markdown",
      "metadata": {
        "id": "dvNTnzqJCZcf"
      },
      "source": [
        "## 1) Split the Data into Train/Test"
      ]
    },
    {
      "cell_type": "code",
      "metadata": {
        "id": "hq_mpO7LCF1j",
        "colab": {
          "base_uri": "https://localhost:8080/"
        },
        "outputId": "8c7e6bac-8c04-443b-eb70-c6d8d9c944ba"
      },
      "source": [
        "from sklearn.model_selection import train_test_split\n",
        "# use random state 42\n",
        "X_train,X_test,y_train,y_test=train_test_split(X,y,test_size=0.3,random_state=42)\n",
        "\n",
        "print(X_train.shape)\n",
        "print(X_test.shape)\n",
        "print(y_test.shape)\n",
        "print(y_train.shape)\n"
      ],
      "execution_count": null,
      "outputs": [
        {
          "output_type": "stream",
          "name": "stdout",
          "text": [
            "(398, 30)\n",
            "(171, 30)\n",
            "(171,)\n",
            "(398,)\n"
          ]
        }
      ]
    },
    {
      "cell_type": "code",
      "metadata": {
        "id": "LEu-XQIuLfE4"
      },
      "source": [
        "# feature scaling - standardscaler\n",
        "from sklearn import preprocessing\n",
        "scaler=preprocessing.StandardScaler()\n",
        "X_train=scaler.fit_transform(X_train)\n",
        "X_test=scaler.transform(X_test)\n",
        "\n",
        "# scaled arrays\n",
        "\n"
      ],
      "execution_count": null,
      "outputs": []
    },
    {
      "cell_type": "markdown",
      "metadata": {
        "id": "qnDZpY7dNGV4"
      },
      "source": [
        "## Create Classifier"
      ]
    },
    {
      "cell_type": "code",
      "metadata": {
        "id": "aKopWmrJCnK_"
      },
      "source": [
        "from tensorflow.keras.models import Sequential\n",
        "from tensorflow.keras.layers import Dense\n"
      ],
      "execution_count": null,
      "outputs": []
    },
    {
      "cell_type": "code",
      "metadata": {
        "id": "bssc7Ctlld8h"
      },
      "source": [
        ""
      ],
      "execution_count": null,
      "outputs": []
    },
    {
      "cell_type": "code",
      "metadata": {
        "id": "RqhUBrRvCsS6"
      },
      "source": [
        "\n",
        "\n",
        "#adding the input and first hidden layer\n",
        "\n",
        "model=Sequential()\n",
        "model.add(Dense(15,activation=\"relu\",input_dim=30))\n",
        "model.add(Dense(6,activation=\"relu\"))\n",
        "model.add(Dense(1,activation=\"sigmoid\"))\n",
        "\n"
      ],
      "execution_count": null,
      "outputs": []
    },
    {
      "cell_type": "code",
      "metadata": {
        "id": "Trg8k2LwCyva"
      },
      "source": [
        "#compile the model\n",
        "model.compile(optimizer=\"adam\",loss=\"binary_crossentropy\",metrics=[\"accuracy\"])\n"
      ],
      "execution_count": null,
      "outputs": []
    },
    {
      "cell_type": "code",
      "metadata": {
        "id": "EAanQbf7l5Df"
      },
      "source": [
        "\n",
        "#show model summary\n"
      ],
      "execution_count": null,
      "outputs": []
    },
    {
      "cell_type": "code",
      "metadata": {
        "colab": {
          "base_uri": "https://localhost:8080/"
        },
        "id": "HjajWIPalsAp",
        "outputId": "503ff398-98a7-4d64-c055-bf82ef1014cd"
      },
      "source": [
        "model.summary()"
      ],
      "execution_count": null,
      "outputs": [
        {
          "output_type": "stream",
          "name": "stdout",
          "text": [
            "Model: \"sequential\"\n",
            "_________________________________________________________________\n",
            " Layer (type)                Output Shape              Param #   \n",
            "=================================================================\n",
            " dense (Dense)               (None, 15)                465       \n",
            "                                                                 \n",
            " dense_1 (Dense)             (None, 6)                 96        \n",
            "                                                                 \n",
            " dense_2 (Dense)             (None, 1)                 7         \n",
            "                                                                 \n",
            "=================================================================\n",
            "Total params: 568\n",
            "Trainable params: 568\n",
            "Non-trainable params: 0\n",
            "_________________________________________________________________\n"
          ]
        }
      ]
    },
    {
      "cell_type": "code",
      "metadata": {
        "id": "B-kHOxG_ImdG",
        "colab": {
          "base_uri": "https://localhost:8080/"
        },
        "outputId": "b934d77a-26ec-441b-e0a9-56f50b7d6a8b"
      },
      "source": [
        "# see if you can reproduce the parameters from input to hidden layer:\n",
        "\n",
        "print(X_train.shape[1] * 15 + 15)\n",
        "\n",
        "#(dimension of W_1)\n",
        "\n",
        "# first hidden to second hidden layer\n",
        "print(15 *6 +6)\n",
        "#(dimension of W_2))\n",
        "\n",
        "\n",
        "# second hidden to output layer\n",
        "print(6 * 1 +1)\n",
        "#(dimension of W_3 )"
      ],
      "execution_count": null,
      "outputs": [
        {
          "output_type": "stream",
          "name": "stdout",
          "text": [
            "465\n",
            "96\n",
            "7\n"
          ]
        }
      ]
    },
    {
      "cell_type": "code",
      "metadata": {
        "id": "XRVmifMsC1lS",
        "colab": {
          "base_uri": "https://localhost:8080/"
        },
        "outputId": "d5fdac02-8a0d-4b76-c26e-afc55a3888a3"
      },
      "source": [
        "#fit the model\n",
        "model.fit(X_train,y_train,batch_size=32,epochs=100,validation_data=(X_test,y_test))\n",
        "\n"
      ],
      "execution_count": null,
      "outputs": [
        {
          "output_type": "stream",
          "name": "stdout",
          "text": [
            "Epoch 1/100\n",
            "13/13 [==============================] - 1s 19ms/step - loss: 0.7084 - accuracy: 0.6307 - val_loss: 0.6433 - val_accuracy: 0.6550\n",
            "Epoch 2/100\n",
            "13/13 [==============================] - 0s 6ms/step - loss: 0.5841 - accuracy: 0.6809 - val_loss: 0.5391 - val_accuracy: 0.7076\n",
            "Epoch 3/100\n",
            "13/13 [==============================] - 0s 5ms/step - loss: 0.5007 - accuracy: 0.7337 - val_loss: 0.4586 - val_accuracy: 0.7719\n",
            "Epoch 4/100\n",
            "13/13 [==============================] - 0s 4ms/step - loss: 0.4337 - accuracy: 0.7965 - val_loss: 0.3944 - val_accuracy: 0.8480\n",
            "Epoch 5/100\n",
            "13/13 [==============================] - 0s 6ms/step - loss: 0.3797 - accuracy: 0.8543 - val_loss: 0.3366 - val_accuracy: 0.9123\n",
            "Epoch 6/100\n",
            "13/13 [==============================] - 0s 6ms/step - loss: 0.3306 - accuracy: 0.9020 - val_loss: 0.2878 - val_accuracy: 0.9240\n",
            "Epoch 7/100\n",
            "13/13 [==============================] - 0s 5ms/step - loss: 0.2887 - accuracy: 0.9322 - val_loss: 0.2471 - val_accuracy: 0.9298\n",
            "Epoch 8/100\n",
            "13/13 [==============================] - 0s 6ms/step - loss: 0.2537 - accuracy: 0.9347 - val_loss: 0.2145 - val_accuracy: 0.9415\n",
            "Epoch 9/100\n",
            "13/13 [==============================] - 0s 4ms/step - loss: 0.2236 - accuracy: 0.9397 - val_loss: 0.1876 - val_accuracy: 0.9357\n",
            "Epoch 10/100\n",
            "13/13 [==============================] - 0s 6ms/step - loss: 0.1989 - accuracy: 0.9422 - val_loss: 0.1664 - val_accuracy: 0.9474\n",
            "Epoch 11/100\n",
            "13/13 [==============================] - 0s 5ms/step - loss: 0.1788 - accuracy: 0.9472 - val_loss: 0.1502 - val_accuracy: 0.9474\n",
            "Epoch 12/100\n",
            "13/13 [==============================] - 0s 5ms/step - loss: 0.1638 - accuracy: 0.9523 - val_loss: 0.1370 - val_accuracy: 0.9474\n",
            "Epoch 13/100\n",
            "13/13 [==============================] - 0s 5ms/step - loss: 0.1506 - accuracy: 0.9573 - val_loss: 0.1260 - val_accuracy: 0.9474\n",
            "Epoch 14/100\n",
            "13/13 [==============================] - 0s 5ms/step - loss: 0.1394 - accuracy: 0.9598 - val_loss: 0.1175 - val_accuracy: 0.9474\n",
            "Epoch 15/100\n",
            "13/13 [==============================] - 0s 6ms/step - loss: 0.1300 - accuracy: 0.9598 - val_loss: 0.1101 - val_accuracy: 0.9591\n",
            "Epoch 16/100\n",
            "13/13 [==============================] - 0s 4ms/step - loss: 0.1218 - accuracy: 0.9673 - val_loss: 0.1040 - val_accuracy: 0.9591\n",
            "Epoch 17/100\n",
            "13/13 [==============================] - 0s 4ms/step - loss: 0.1151 - accuracy: 0.9698 - val_loss: 0.0983 - val_accuracy: 0.9591\n",
            "Epoch 18/100\n",
            "13/13 [==============================] - 0s 5ms/step - loss: 0.1085 - accuracy: 0.9698 - val_loss: 0.0932 - val_accuracy: 0.9649\n",
            "Epoch 19/100\n",
            "13/13 [==============================] - 0s 5ms/step - loss: 0.1033 - accuracy: 0.9724 - val_loss: 0.0889 - val_accuracy: 0.9708\n",
            "Epoch 20/100\n",
            "13/13 [==============================] - 0s 5ms/step - loss: 0.0985 - accuracy: 0.9774 - val_loss: 0.0858 - val_accuracy: 0.9708\n",
            "Epoch 21/100\n",
            "13/13 [==============================] - 0s 6ms/step - loss: 0.0943 - accuracy: 0.9799 - val_loss: 0.0827 - val_accuracy: 0.9766\n",
            "Epoch 22/100\n",
            "13/13 [==============================] - 0s 5ms/step - loss: 0.0906 - accuracy: 0.9799 - val_loss: 0.0797 - val_accuracy: 0.9766\n",
            "Epoch 23/100\n",
            "13/13 [==============================] - 0s 6ms/step - loss: 0.0872 - accuracy: 0.9799 - val_loss: 0.0769 - val_accuracy: 0.9766\n",
            "Epoch 24/100\n",
            "13/13 [==============================] - 0s 5ms/step - loss: 0.0841 - accuracy: 0.9799 - val_loss: 0.0751 - val_accuracy: 0.9825\n",
            "Epoch 25/100\n",
            "13/13 [==============================] - 0s 5ms/step - loss: 0.0812 - accuracy: 0.9824 - val_loss: 0.0725 - val_accuracy: 0.9825\n",
            "Epoch 26/100\n",
            "13/13 [==============================] - 0s 6ms/step - loss: 0.0782 - accuracy: 0.9824 - val_loss: 0.0710 - val_accuracy: 0.9825\n",
            "Epoch 27/100\n",
            "13/13 [==============================] - 0s 6ms/step - loss: 0.0761 - accuracy: 0.9824 - val_loss: 0.0694 - val_accuracy: 0.9825\n",
            "Epoch 28/100\n",
            "13/13 [==============================] - 0s 5ms/step - loss: 0.0737 - accuracy: 0.9824 - val_loss: 0.0679 - val_accuracy: 0.9825\n",
            "Epoch 29/100\n",
            "13/13 [==============================] - 0s 5ms/step - loss: 0.0716 - accuracy: 0.9824 - val_loss: 0.0664 - val_accuracy: 0.9825\n",
            "Epoch 30/100\n",
            "13/13 [==============================] - 0s 7ms/step - loss: 0.0697 - accuracy: 0.9824 - val_loss: 0.0653 - val_accuracy: 0.9883\n",
            "Epoch 31/100\n",
            "13/13 [==============================] - 0s 5ms/step - loss: 0.0679 - accuracy: 0.9849 - val_loss: 0.0636 - val_accuracy: 0.9883\n",
            "Epoch 32/100\n",
            "13/13 [==============================] - 0s 5ms/step - loss: 0.0660 - accuracy: 0.9849 - val_loss: 0.0628 - val_accuracy: 0.9883\n",
            "Epoch 33/100\n",
            "13/13 [==============================] - 0s 6ms/step - loss: 0.0647 - accuracy: 0.9849 - val_loss: 0.0618 - val_accuracy: 0.9883\n",
            "Epoch 34/100\n",
            "13/13 [==============================] - 0s 6ms/step - loss: 0.0630 - accuracy: 0.9849 - val_loss: 0.0610 - val_accuracy: 0.9883\n",
            "Epoch 35/100\n",
            "13/13 [==============================] - 0s 5ms/step - loss: 0.0618 - accuracy: 0.9849 - val_loss: 0.0610 - val_accuracy: 0.9883\n",
            "Epoch 36/100\n",
            "13/13 [==============================] - 0s 5ms/step - loss: 0.0601 - accuracy: 0.9849 - val_loss: 0.0598 - val_accuracy: 0.9883\n",
            "Epoch 37/100\n",
            "13/13 [==============================] - 0s 5ms/step - loss: 0.0586 - accuracy: 0.9849 - val_loss: 0.0594 - val_accuracy: 0.9883\n",
            "Epoch 38/100\n",
            "13/13 [==============================] - 0s 7ms/step - loss: 0.0575 - accuracy: 0.9849 - val_loss: 0.0591 - val_accuracy: 0.9883\n",
            "Epoch 39/100\n",
            "13/13 [==============================] - 0s 5ms/step - loss: 0.0561 - accuracy: 0.9899 - val_loss: 0.0585 - val_accuracy: 0.9883\n",
            "Epoch 40/100\n",
            "13/13 [==============================] - 0s 7ms/step - loss: 0.0550 - accuracy: 0.9874 - val_loss: 0.0581 - val_accuracy: 0.9883\n",
            "Epoch 41/100\n",
            "13/13 [==============================] - 0s 5ms/step - loss: 0.0540 - accuracy: 0.9899 - val_loss: 0.0571 - val_accuracy: 0.9883\n",
            "Epoch 42/100\n",
            "13/13 [==============================] - 0s 6ms/step - loss: 0.0529 - accuracy: 0.9899 - val_loss: 0.0565 - val_accuracy: 0.9883\n",
            "Epoch 43/100\n",
            "13/13 [==============================] - 0s 5ms/step - loss: 0.0518 - accuracy: 0.9899 - val_loss: 0.0563 - val_accuracy: 0.9883\n",
            "Epoch 44/100\n",
            "13/13 [==============================] - 0s 6ms/step - loss: 0.0507 - accuracy: 0.9899 - val_loss: 0.0561 - val_accuracy: 0.9883\n",
            "Epoch 45/100\n",
            "13/13 [==============================] - 0s 8ms/step - loss: 0.0498 - accuracy: 0.9899 - val_loss: 0.0561 - val_accuracy: 0.9883\n",
            "Epoch 46/100\n",
            "13/13 [==============================] - 0s 5ms/step - loss: 0.0490 - accuracy: 0.9899 - val_loss: 0.0556 - val_accuracy: 0.9883\n",
            "Epoch 47/100\n",
            "13/13 [==============================] - 0s 6ms/step - loss: 0.0481 - accuracy: 0.9899 - val_loss: 0.0559 - val_accuracy: 0.9883\n",
            "Epoch 48/100\n",
            "13/13 [==============================] - 0s 5ms/step - loss: 0.0472 - accuracy: 0.9899 - val_loss: 0.0556 - val_accuracy: 0.9883\n",
            "Epoch 49/100\n",
            "13/13 [==============================] - 0s 5ms/step - loss: 0.0462 - accuracy: 0.9899 - val_loss: 0.0556 - val_accuracy: 0.9883\n",
            "Epoch 50/100\n",
            "13/13 [==============================] - 0s 6ms/step - loss: 0.0455 - accuracy: 0.9899 - val_loss: 0.0557 - val_accuracy: 0.9883\n",
            "Epoch 51/100\n",
            "13/13 [==============================] - 0s 6ms/step - loss: 0.0448 - accuracy: 0.9925 - val_loss: 0.0555 - val_accuracy: 0.9883\n",
            "Epoch 52/100\n",
            "13/13 [==============================] - 0s 6ms/step - loss: 0.0439 - accuracy: 0.9899 - val_loss: 0.0554 - val_accuracy: 0.9883\n",
            "Epoch 53/100\n",
            "13/13 [==============================] - 0s 6ms/step - loss: 0.0431 - accuracy: 0.9899 - val_loss: 0.0551 - val_accuracy: 0.9883\n",
            "Epoch 54/100\n",
            "13/13 [==============================] - 0s 5ms/step - loss: 0.0424 - accuracy: 0.9899 - val_loss: 0.0553 - val_accuracy: 0.9883\n",
            "Epoch 55/100\n",
            "13/13 [==============================] - 0s 5ms/step - loss: 0.0416 - accuracy: 0.9925 - val_loss: 0.0556 - val_accuracy: 0.9883\n",
            "Epoch 56/100\n",
            "13/13 [==============================] - 0s 5ms/step - loss: 0.0411 - accuracy: 0.9925 - val_loss: 0.0555 - val_accuracy: 0.9883\n",
            "Epoch 57/100\n",
            "13/13 [==============================] - 0s 7ms/step - loss: 0.0404 - accuracy: 0.9925 - val_loss: 0.0560 - val_accuracy: 0.9883\n",
            "Epoch 58/100\n",
            "13/13 [==============================] - 0s 5ms/step - loss: 0.0397 - accuracy: 0.9925 - val_loss: 0.0558 - val_accuracy: 0.9883\n",
            "Epoch 59/100\n",
            "13/13 [==============================] - 0s 6ms/step - loss: 0.0391 - accuracy: 0.9925 - val_loss: 0.0561 - val_accuracy: 0.9883\n",
            "Epoch 60/100\n",
            "13/13 [==============================] - 0s 5ms/step - loss: 0.0384 - accuracy: 0.9925 - val_loss: 0.0557 - val_accuracy: 0.9883\n",
            "Epoch 61/100\n",
            "13/13 [==============================] - 0s 4ms/step - loss: 0.0375 - accuracy: 0.9925 - val_loss: 0.0563 - val_accuracy: 0.9883\n",
            "Epoch 62/100\n",
            "13/13 [==============================] - 0s 5ms/step - loss: 0.0369 - accuracy: 0.9925 - val_loss: 0.0574 - val_accuracy: 0.9883\n",
            "Epoch 63/100\n",
            "13/13 [==============================] - 0s 5ms/step - loss: 0.0363 - accuracy: 0.9925 - val_loss: 0.0575 - val_accuracy: 0.9883\n",
            "Epoch 64/100\n",
            "13/13 [==============================] - 0s 5ms/step - loss: 0.0356 - accuracy: 0.9925 - val_loss: 0.0574 - val_accuracy: 0.9883\n",
            "Epoch 65/100\n",
            "13/13 [==============================] - 0s 6ms/step - loss: 0.0350 - accuracy: 0.9925 - val_loss: 0.0572 - val_accuracy: 0.9883\n",
            "Epoch 66/100\n",
            "13/13 [==============================] - 0s 7ms/step - loss: 0.0346 - accuracy: 0.9925 - val_loss: 0.0578 - val_accuracy: 0.9883\n",
            "Epoch 67/100\n",
            "13/13 [==============================] - 0s 5ms/step - loss: 0.0340 - accuracy: 0.9925 - val_loss: 0.0574 - val_accuracy: 0.9883\n",
            "Epoch 68/100\n",
            "13/13 [==============================] - 0s 6ms/step - loss: 0.0335 - accuracy: 0.9925 - val_loss: 0.0582 - val_accuracy: 0.9883\n",
            "Epoch 69/100\n",
            "13/13 [==============================] - 0s 5ms/step - loss: 0.0330 - accuracy: 0.9925 - val_loss: 0.0584 - val_accuracy: 0.9883\n",
            "Epoch 70/100\n",
            "13/13 [==============================] - 0s 6ms/step - loss: 0.0326 - accuracy: 0.9925 - val_loss: 0.0580 - val_accuracy: 0.9883\n",
            "Epoch 71/100\n",
            "13/13 [==============================] - 0s 5ms/step - loss: 0.0319 - accuracy: 0.9925 - val_loss: 0.0584 - val_accuracy: 0.9883\n",
            "Epoch 72/100\n",
            "13/13 [==============================] - 0s 6ms/step - loss: 0.0314 - accuracy: 0.9925 - val_loss: 0.0588 - val_accuracy: 0.9883\n",
            "Epoch 73/100\n",
            "13/13 [==============================] - 0s 5ms/step - loss: 0.0309 - accuracy: 0.9925 - val_loss: 0.0589 - val_accuracy: 0.9883\n",
            "Epoch 74/100\n",
            "13/13 [==============================] - 0s 6ms/step - loss: 0.0304 - accuracy: 0.9925 - val_loss: 0.0585 - val_accuracy: 0.9883\n",
            "Epoch 75/100\n",
            "13/13 [==============================] - 0s 4ms/step - loss: 0.0298 - accuracy: 0.9925 - val_loss: 0.0588 - val_accuracy: 0.9883\n",
            "Epoch 76/100\n",
            "13/13 [==============================] - 0s 5ms/step - loss: 0.0294 - accuracy: 0.9925 - val_loss: 0.0585 - val_accuracy: 0.9883\n",
            "Epoch 77/100\n",
            "13/13 [==============================] - 0s 6ms/step - loss: 0.0289 - accuracy: 0.9925 - val_loss: 0.0586 - val_accuracy: 0.9883\n",
            "Epoch 78/100\n",
            "13/13 [==============================] - 0s 5ms/step - loss: 0.0285 - accuracy: 0.9925 - val_loss: 0.0584 - val_accuracy: 0.9883\n",
            "Epoch 79/100\n",
            "13/13 [==============================] - 0s 6ms/step - loss: 0.0281 - accuracy: 0.9925 - val_loss: 0.0585 - val_accuracy: 0.9883\n",
            "Epoch 80/100\n",
            "13/13 [==============================] - 0s 5ms/step - loss: 0.0276 - accuracy: 0.9925 - val_loss: 0.0589 - val_accuracy: 0.9883\n",
            "Epoch 81/100\n",
            "13/13 [==============================] - 0s 5ms/step - loss: 0.0272 - accuracy: 0.9925 - val_loss: 0.0590 - val_accuracy: 0.9883\n",
            "Epoch 82/100\n",
            "13/13 [==============================] - 0s 5ms/step - loss: 0.0268 - accuracy: 0.9925 - val_loss: 0.0592 - val_accuracy: 0.9883\n",
            "Epoch 83/100\n",
            "13/13 [==============================] - 0s 5ms/step - loss: 0.0263 - accuracy: 0.9925 - val_loss: 0.0590 - val_accuracy: 0.9883\n",
            "Epoch 84/100\n",
            "13/13 [==============================] - 0s 4ms/step - loss: 0.0260 - accuracy: 0.9925 - val_loss: 0.0587 - val_accuracy: 0.9883\n",
            "Epoch 85/100\n",
            "13/13 [==============================] - 0s 6ms/step - loss: 0.0257 - accuracy: 0.9925 - val_loss: 0.0590 - val_accuracy: 0.9883\n",
            "Epoch 86/100\n",
            "13/13 [==============================] - 0s 4ms/step - loss: 0.0255 - accuracy: 0.9925 - val_loss: 0.0591 - val_accuracy: 0.9883\n",
            "Epoch 87/100\n",
            "13/13 [==============================] - 0s 6ms/step - loss: 0.0247 - accuracy: 0.9925 - val_loss: 0.0592 - val_accuracy: 0.9883\n",
            "Epoch 88/100\n",
            "13/13 [==============================] - 0s 8ms/step - loss: 0.0245 - accuracy: 0.9925 - val_loss: 0.0588 - val_accuracy: 0.9883\n",
            "Epoch 89/100\n",
            "13/13 [==============================] - 0s 5ms/step - loss: 0.0240 - accuracy: 0.9925 - val_loss: 0.0591 - val_accuracy: 0.9883\n",
            "Epoch 90/100\n",
            "13/13 [==============================] - 0s 5ms/step - loss: 0.0238 - accuracy: 0.9925 - val_loss: 0.0589 - val_accuracy: 0.9883\n",
            "Epoch 91/100\n",
            "13/13 [==============================] - 0s 5ms/step - loss: 0.0233 - accuracy: 0.9925 - val_loss: 0.0592 - val_accuracy: 0.9883\n",
            "Epoch 92/100\n",
            "13/13 [==============================] - 0s 5ms/step - loss: 0.0230 - accuracy: 0.9925 - val_loss: 0.0594 - val_accuracy: 0.9883\n",
            "Epoch 93/100\n",
            "13/13 [==============================] - 0s 5ms/step - loss: 0.0227 - accuracy: 0.9925 - val_loss: 0.0594 - val_accuracy: 0.9883\n",
            "Epoch 94/100\n",
            "13/13 [==============================] - 0s 5ms/step - loss: 0.0222 - accuracy: 0.9925 - val_loss: 0.0593 - val_accuracy: 0.9883\n",
            "Epoch 95/100\n",
            "13/13 [==============================] - 0s 5ms/step - loss: 0.0220 - accuracy: 0.9925 - val_loss: 0.0599 - val_accuracy: 0.9883\n",
            "Epoch 96/100\n",
            "13/13 [==============================] - 0s 6ms/step - loss: 0.0216 - accuracy: 0.9925 - val_loss: 0.0597 - val_accuracy: 0.9883\n",
            "Epoch 97/100\n",
            "13/13 [==============================] - 0s 6ms/step - loss: 0.0213 - accuracy: 0.9925 - val_loss: 0.0596 - val_accuracy: 0.9883\n",
            "Epoch 98/100\n",
            "13/13 [==============================] - 0s 5ms/step - loss: 0.0209 - accuracy: 0.9925 - val_loss: 0.0597 - val_accuracy: 0.9883\n",
            "Epoch 99/100\n",
            "13/13 [==============================] - 0s 4ms/step - loss: 0.0206 - accuracy: 0.9925 - val_loss: 0.0601 - val_accuracy: 0.9883\n",
            "Epoch 100/100\n",
            "13/13 [==============================] - 0s 5ms/step - loss: 0.0204 - accuracy: 0.9925 - val_loss: 0.0605 - val_accuracy: 0.9883\n"
          ]
        },
        {
          "output_type": "execute_result",
          "data": {
            "text/plain": [
              "<keras.callbacks.History at 0x7fa8d22ce710>"
            ]
          },
          "metadata": {},
          "execution_count": 18
        }
      ]
    },
    {
      "cell_type": "code",
      "metadata": {
        "id": "-qBTMOIcFLGf",
        "colab": {
          "base_uri": "https://localhost:8080/"
        },
        "outputId": "44d00aca-af01-41a9-d515-8c572a9ed847"
      },
      "source": [
        "#evaluate the model and save it into the variable score\n",
        "score = model.evaluate(X_test, y_test, verbose=0)\n",
        "score"
      ],
      "execution_count": null,
      "outputs": [
        {
          "output_type": "execute_result",
          "data": {
            "text/plain": [
              "[0.06046389415860176, 0.988304078578949]"
            ]
          },
          "metadata": {},
          "execution_count": 19
        }
      ]
    },
    {
      "cell_type": "markdown",
      "metadata": {
        "id": "y9aygjgtJUiv"
      },
      "source": [
        "The metrics that *evaluate()* gives us depend on the input argument *metrics* that we used when setting up our NN. Keras knows several other metrics (see [Keras doc. for details](https://keras.io/metrics/)) but not all known metrics are supported for training the NN. Between, you can also extend the set of metrics with customer metrics (see this [example](https://machinelearningmastery.com/custom-metrics-deep-learning-keras-python/) if interested.).\n",
        "\n",
        "We also have access to model performance results via the result of *model.fit()*, that is our variable *story*."
      ]
    },
    {
      "cell_type": "code",
      "metadata": {
        "id": "wzrrd6XLWvXg"
      },
      "source": [
        "# Now install the tensorflow addons and define the following metrics. You have AUC,Precision and Recall in Keras Metrics but F1 you will need to get it from tensorflow addons\n"
      ],
      "execution_count": null,
      "outputs": []
    },
    {
      "cell_type": "code",
      "metadata": {
        "colab": {
          "base_uri": "https://localhost:8080/"
        },
        "id": "kPRMM0usWor3",
        "outputId": "597e18e2-d7e0-47e9-f2a0-ccee9febbf90"
      },
      "source": [
        "!pip install tensorflow-addons\n",
        "\n"
      ],
      "execution_count": null,
      "outputs": [
        {
          "output_type": "stream",
          "name": "stdout",
          "text": [
            "Collecting tensorflow-addons\n",
            "  Downloading tensorflow_addons-0.14.0-cp37-cp37m-manylinux_2_12_x86_64.manylinux2010_x86_64.whl (1.1 MB)\n",
            "\u001b[K     |████████████████████████████████| 1.1 MB 4.2 MB/s \n",
            "\u001b[?25hRequirement already satisfied: typeguard>=2.7 in /usr/local/lib/python3.7/dist-packages (from tensorflow-addons) (2.7.1)\n",
            "Installing collected packages: tensorflow-addons\n",
            "Successfully installed tensorflow-addons-0.14.0\n"
          ]
        }
      ]
    },
    {
      "cell_type": "code",
      "metadata": {
        "id": "r4zWF58rWmcG"
      },
      "source": [
        "import keras\n",
        "import tensorflow as tf \n",
        "import tensorflow_addons as tfa\n",
        "\n",
        "\n",
        "metrics = [ \n",
        "    #keras.metrics.Precision(),\n",
        "    #keras.metrics.Recall(),\n",
        "    keras.metrics.AUC(),\n",
        "    #tfa.metrics.F1Score(\n",
        "    #    name=\"f1_micro\",\n",
        "    #    average=\"micro\",\n",
        "    #    num_classes=1,\n",
        "    #    threshold=0.5,\n",
        "    #),\n",
        "    #tfa.metrics.F1Score(\n",
        "    #    name=\"f1_weighted\",\n",
        "    #    average=\"weighted\",\n",
        "    #    num_classes=1,\n",
        "    #    threshold=0.5,\n",
        "    #),\n",
        "]"
      ],
      "execution_count": null,
      "outputs": []
    },
    {
      "cell_type": "code",
      "metadata": {
        "id": "xeYiEkLjW2hE",
        "colab": {
          "base_uri": "https://localhost:8080/"
        },
        "outputId": "696984fc-6e1a-44ff-f773-50fa7aac5699"
      },
      "source": [
        "# rerun the mmodel with the above defined metrics in your complie call\n",
        "model.compile(optimizer=\"adam\",loss=\"binary_crossentropy\",metrics=['accuracy', keras.metrics.AUC()])\n",
        "\n",
        "story = model.fit(X_train,y_train,batch_size=32,epochs=100,validation_data=(X_test,y_test))\n"
      ],
      "execution_count": null,
      "outputs": [
        {
          "output_type": "stream",
          "name": "stdout",
          "text": [
            "Epoch 1/100\n",
            "13/13 [==============================] - 1s 29ms/step - loss: 0.0224 - accuracy: 0.9925 - auc_1: 0.9999 - val_loss: 0.0609 - val_accuracy: 0.9883 - val_auc_1: 0.9902\n",
            "Epoch 2/100\n",
            "13/13 [==============================] - 0s 4ms/step - loss: 0.0199 - accuracy: 0.9925 - auc_1: 1.0000 - val_loss: 0.0600 - val_accuracy: 0.9883 - val_auc_1: 0.9902\n",
            "Epoch 3/100\n",
            "13/13 [==============================] - 0s 6ms/step - loss: 0.0193 - accuracy: 0.9925 - auc_1: 1.0000 - val_loss: 0.0604 - val_accuracy: 0.9883 - val_auc_1: 0.9902\n",
            "Epoch 4/100\n",
            "13/13 [==============================] - 0s 5ms/step - loss: 0.0186 - accuracy: 0.9925 - auc_1: 1.0000 - val_loss: 0.0623 - val_accuracy: 0.9825 - val_auc_1: 0.9902\n",
            "Epoch 5/100\n",
            "13/13 [==============================] - 0s 5ms/step - loss: 0.0182 - accuracy: 0.9925 - auc_1: 1.0000 - val_loss: 0.0613 - val_accuracy: 0.9883 - val_auc_1: 0.9906\n",
            "Epoch 6/100\n",
            "13/13 [==============================] - 0s 6ms/step - loss: 0.0177 - accuracy: 0.9925 - auc_1: 1.0000 - val_loss: 0.0613 - val_accuracy: 0.9883 - val_auc_1: 0.9904\n",
            "Epoch 7/100\n",
            "13/13 [==============================] - 0s 5ms/step - loss: 0.0172 - accuracy: 0.9925 - auc_1: 1.0000 - val_loss: 0.0623 - val_accuracy: 0.9825 - val_auc_1: 0.9907\n",
            "Epoch 8/100\n",
            "13/13 [==============================] - 0s 6ms/step - loss: 0.0167 - accuracy: 0.9925 - auc_1: 1.0000 - val_loss: 0.0621 - val_accuracy: 0.9825 - val_auc_1: 0.9907\n",
            "Epoch 9/100\n",
            "13/13 [==============================] - 0s 5ms/step - loss: 0.0169 - accuracy: 0.9925 - auc_1: 1.0000 - val_loss: 0.0617 - val_accuracy: 0.9825 - val_auc_1: 0.9907\n",
            "Epoch 10/100\n",
            "13/13 [==============================] - 0s 6ms/step - loss: 0.0161 - accuracy: 0.9925 - auc_1: 1.0000 - val_loss: 0.0615 - val_accuracy: 0.9883 - val_auc_1: 0.9907\n",
            "Epoch 11/100\n",
            "13/13 [==============================] - 0s 5ms/step - loss: 0.0156 - accuracy: 0.9925 - auc_1: 1.0000 - val_loss: 0.0622 - val_accuracy: 0.9942 - val_auc_1: 0.9907\n",
            "Epoch 12/100\n",
            "13/13 [==============================] - 0s 5ms/step - loss: 0.0150 - accuracy: 0.9925 - auc_1: 1.0000 - val_loss: 0.0634 - val_accuracy: 0.9825 - val_auc_1: 0.9907\n",
            "Epoch 13/100\n",
            "13/13 [==============================] - 0s 5ms/step - loss: 0.0143 - accuracy: 0.9950 - auc_1: 1.0000 - val_loss: 0.0641 - val_accuracy: 0.9825 - val_auc_1: 0.9907\n",
            "Epoch 14/100\n",
            "13/13 [==============================] - 0s 6ms/step - loss: 0.0133 - accuracy: 0.9950 - auc_1: 1.0000 - val_loss: 0.0648 - val_accuracy: 0.9825 - val_auc_1: 0.9907\n",
            "Epoch 15/100\n",
            "13/13 [==============================] - 0s 5ms/step - loss: 0.0124 - accuracy: 0.9950 - auc_1: 1.0000 - val_loss: 0.0653 - val_accuracy: 0.9825 - val_auc_1: 0.9908\n",
            "Epoch 16/100\n",
            "13/13 [==============================] - 0s 5ms/step - loss: 0.0119 - accuracy: 0.9950 - auc_1: 1.0000 - val_loss: 0.0657 - val_accuracy: 0.9825 - val_auc_1: 0.9907\n",
            "Epoch 17/100\n",
            "13/13 [==============================] - 0s 5ms/step - loss: 0.0112 - accuracy: 0.9950 - auc_1: 1.0000 - val_loss: 0.0683 - val_accuracy: 0.9825 - val_auc_1: 0.9907\n",
            "Epoch 18/100\n",
            "13/13 [==============================] - 0s 5ms/step - loss: 0.0112 - accuracy: 0.9950 - auc_1: 1.0000 - val_loss: 0.0687 - val_accuracy: 0.9825 - val_auc_1: 0.9908\n",
            "Epoch 19/100\n",
            "13/13 [==============================] - 0s 6ms/step - loss: 0.0102 - accuracy: 0.9950 - auc_1: 1.0000 - val_loss: 0.0687 - val_accuracy: 0.9883 - val_auc_1: 0.9908\n",
            "Epoch 20/100\n",
            "13/13 [==============================] - 0s 8ms/step - loss: 0.0098 - accuracy: 0.9975 - auc_1: 1.0000 - val_loss: 0.0692 - val_accuracy: 0.9883 - val_auc_1: 0.9907\n",
            "Epoch 21/100\n",
            "13/13 [==============================] - 0s 5ms/step - loss: 0.0095 - accuracy: 1.0000 - auc_1: 1.0000 - val_loss: 0.0713 - val_accuracy: 0.9883 - val_auc_1: 0.9907\n",
            "Epoch 22/100\n",
            "13/13 [==============================] - 0s 6ms/step - loss: 0.0091 - accuracy: 1.0000 - auc_1: 1.0000 - val_loss: 0.0714 - val_accuracy: 0.9883 - val_auc_1: 0.9907\n",
            "Epoch 23/100\n",
            "13/13 [==============================] - 0s 5ms/step - loss: 0.0086 - accuracy: 1.0000 - auc_1: 1.0000 - val_loss: 0.0723 - val_accuracy: 0.9883 - val_auc_1: 0.9907\n",
            "Epoch 24/100\n",
            "13/13 [==============================] - 0s 6ms/step - loss: 0.0084 - accuracy: 1.0000 - auc_1: 1.0000 - val_loss: 0.0727 - val_accuracy: 0.9825 - val_auc_1: 0.9908\n",
            "Epoch 25/100\n",
            "13/13 [==============================] - 0s 5ms/step - loss: 0.0082 - accuracy: 1.0000 - auc_1: 1.0000 - val_loss: 0.0735 - val_accuracy: 0.9883 - val_auc_1: 0.9907\n",
            "Epoch 26/100\n",
            "13/13 [==============================] - 0s 5ms/step - loss: 0.0076 - accuracy: 1.0000 - auc_1: 1.0000 - val_loss: 0.0757 - val_accuracy: 0.9825 - val_auc_1: 0.9907\n",
            "Epoch 27/100\n",
            "13/13 [==============================] - 0s 5ms/step - loss: 0.0074 - accuracy: 1.0000 - auc_1: 1.0000 - val_loss: 0.0759 - val_accuracy: 0.9825 - val_auc_1: 0.9907\n",
            "Epoch 28/100\n",
            "13/13 [==============================] - 0s 6ms/step - loss: 0.0070 - accuracy: 1.0000 - auc_1: 1.0000 - val_loss: 0.0764 - val_accuracy: 0.9825 - val_auc_1: 0.9908\n",
            "Epoch 29/100\n",
            "13/13 [==============================] - 0s 6ms/step - loss: 0.0068 - accuracy: 1.0000 - auc_1: 1.0000 - val_loss: 0.0779 - val_accuracy: 0.9825 - val_auc_1: 0.9908\n",
            "Epoch 30/100\n",
            "13/13 [==============================] - 0s 5ms/step - loss: 0.0065 - accuracy: 1.0000 - auc_1: 1.0000 - val_loss: 0.0780 - val_accuracy: 0.9825 - val_auc_1: 0.9911\n",
            "Epoch 31/100\n",
            "13/13 [==============================] - 0s 6ms/step - loss: 0.0062 - accuracy: 1.0000 - auc_1: 1.0000 - val_loss: 0.0784 - val_accuracy: 0.9825 - val_auc_1: 0.9911\n",
            "Epoch 32/100\n",
            "13/13 [==============================] - 0s 5ms/step - loss: 0.0060 - accuracy: 1.0000 - auc_1: 1.0000 - val_loss: 0.0795 - val_accuracy: 0.9825 - val_auc_1: 0.9910\n",
            "Epoch 33/100\n",
            "13/13 [==============================] - 0s 5ms/step - loss: 0.0058 - accuracy: 1.0000 - auc_1: 1.0000 - val_loss: 0.0802 - val_accuracy: 0.9825 - val_auc_1: 0.9910\n",
            "Epoch 34/100\n",
            "13/13 [==============================] - 0s 4ms/step - loss: 0.0056 - accuracy: 1.0000 - auc_1: 1.0000 - val_loss: 0.0821 - val_accuracy: 0.9766 - val_auc_1: 0.9910\n",
            "Epoch 35/100\n",
            "13/13 [==============================] - 0s 4ms/step - loss: 0.0054 - accuracy: 1.0000 - auc_1: 1.0000 - val_loss: 0.0829 - val_accuracy: 0.9766 - val_auc_1: 0.9910\n",
            "Epoch 36/100\n",
            "13/13 [==============================] - 0s 6ms/step - loss: 0.0051 - accuracy: 1.0000 - auc_1: 1.0000 - val_loss: 0.0835 - val_accuracy: 0.9766 - val_auc_1: 0.9911\n",
            "Epoch 37/100\n",
            "13/13 [==============================] - 0s 5ms/step - loss: 0.0050 - accuracy: 1.0000 - auc_1: 1.0000 - val_loss: 0.0835 - val_accuracy: 0.9825 - val_auc_1: 0.9911\n",
            "Epoch 38/100\n",
            "13/13 [==============================] - 0s 5ms/step - loss: 0.0049 - accuracy: 1.0000 - auc_1: 1.0000 - val_loss: 0.0847 - val_accuracy: 0.9825 - val_auc_1: 0.9910\n",
            "Epoch 39/100\n",
            "13/13 [==============================] - 0s 6ms/step - loss: 0.0048 - accuracy: 1.0000 - auc_1: 1.0000 - val_loss: 0.0843 - val_accuracy: 0.9825 - val_auc_1: 0.9910\n",
            "Epoch 40/100\n",
            "13/13 [==============================] - 0s 6ms/step - loss: 0.0046 - accuracy: 1.0000 - auc_1: 1.0000 - val_loss: 0.0853 - val_accuracy: 0.9825 - val_auc_1: 0.9910\n",
            "Epoch 41/100\n",
            "13/13 [==============================] - 0s 5ms/step - loss: 0.0043 - accuracy: 1.0000 - auc_1: 1.0000 - val_loss: 0.0856 - val_accuracy: 0.9825 - val_auc_1: 0.9912\n",
            "Epoch 42/100\n",
            "13/13 [==============================] - 0s 5ms/step - loss: 0.0042 - accuracy: 1.0000 - auc_1: 1.0000 - val_loss: 0.0863 - val_accuracy: 0.9825 - val_auc_1: 0.9911\n",
            "Epoch 43/100\n",
            "13/13 [==============================] - 0s 5ms/step - loss: 0.0040 - accuracy: 1.0000 - auc_1: 1.0000 - val_loss: 0.0878 - val_accuracy: 0.9825 - val_auc_1: 0.9911\n",
            "Epoch 44/100\n",
            "13/13 [==============================] - 0s 5ms/step - loss: 0.0039 - accuracy: 1.0000 - auc_1: 1.0000 - val_loss: 0.0892 - val_accuracy: 0.9825 - val_auc_1: 0.9910\n",
            "Epoch 45/100\n",
            "13/13 [==============================] - 0s 5ms/step - loss: 0.0038 - accuracy: 1.0000 - auc_1: 1.0000 - val_loss: 0.0877 - val_accuracy: 0.9825 - val_auc_1: 0.9912\n",
            "Epoch 46/100\n",
            "13/13 [==============================] - 0s 6ms/step - loss: 0.0037 - accuracy: 1.0000 - auc_1: 1.0000 - val_loss: 0.0869 - val_accuracy: 0.9825 - val_auc_1: 0.9911\n",
            "Epoch 47/100\n",
            "13/13 [==============================] - 0s 5ms/step - loss: 0.0036 - accuracy: 1.0000 - auc_1: 1.0000 - val_loss: 0.0903 - val_accuracy: 0.9825 - val_auc_1: 0.9911\n",
            "Epoch 48/100\n",
            "13/13 [==============================] - 0s 5ms/step - loss: 0.0034 - accuracy: 1.0000 - auc_1: 1.0000 - val_loss: 0.0925 - val_accuracy: 0.9825 - val_auc_1: 0.9910\n",
            "Epoch 49/100\n",
            "13/13 [==============================] - 0s 5ms/step - loss: 0.0033 - accuracy: 1.0000 - auc_1: 1.0000 - val_loss: 0.0918 - val_accuracy: 0.9825 - val_auc_1: 0.9910\n",
            "Epoch 50/100\n",
            "13/13 [==============================] - 0s 6ms/step - loss: 0.0032 - accuracy: 1.0000 - auc_1: 1.0000 - val_loss: 0.0916 - val_accuracy: 0.9825 - val_auc_1: 0.9910\n",
            "Epoch 51/100\n",
            "13/13 [==============================] - 0s 5ms/step - loss: 0.0030 - accuracy: 1.0000 - auc_1: 1.0000 - val_loss: 0.0914 - val_accuracy: 0.9825 - val_auc_1: 0.9911\n",
            "Epoch 52/100\n",
            "13/13 [==============================] - 0s 6ms/step - loss: 0.0030 - accuracy: 1.0000 - auc_1: 1.0000 - val_loss: 0.0913 - val_accuracy: 0.9825 - val_auc_1: 0.9910\n",
            "Epoch 53/100\n",
            "13/13 [==============================] - 0s 5ms/step - loss: 0.0029 - accuracy: 1.0000 - auc_1: 1.0000 - val_loss: 0.0910 - val_accuracy: 0.9825 - val_auc_1: 0.9911\n",
            "Epoch 54/100\n",
            "13/13 [==============================] - 0s 6ms/step - loss: 0.0028 - accuracy: 1.0000 - auc_1: 1.0000 - val_loss: 0.0907 - val_accuracy: 0.9825 - val_auc_1: 0.9912\n",
            "Epoch 55/100\n",
            "13/13 [==============================] - 0s 6ms/step - loss: 0.0027 - accuracy: 1.0000 - auc_1: 1.0000 - val_loss: 0.0920 - val_accuracy: 0.9825 - val_auc_1: 0.9911\n",
            "Epoch 56/100\n",
            "13/13 [==============================] - 0s 5ms/step - loss: 0.0027 - accuracy: 1.0000 - auc_1: 1.0000 - val_loss: 0.0926 - val_accuracy: 0.9825 - val_auc_1: 0.9911\n",
            "Epoch 57/100\n",
            "13/13 [==============================] - 0s 5ms/step - loss: 0.0025 - accuracy: 1.0000 - auc_1: 1.0000 - val_loss: 0.0937 - val_accuracy: 0.9825 - val_auc_1: 0.9910\n",
            "Epoch 58/100\n",
            "13/13 [==============================] - 0s 5ms/step - loss: 0.0024 - accuracy: 1.0000 - auc_1: 1.0000 - val_loss: 0.0945 - val_accuracy: 0.9825 - val_auc_1: 0.9910\n",
            "Epoch 59/100\n",
            "13/13 [==============================] - 0s 6ms/step - loss: 0.0024 - accuracy: 1.0000 - auc_1: 1.0000 - val_loss: 0.0950 - val_accuracy: 0.9825 - val_auc_1: 0.9910\n",
            "Epoch 60/100\n",
            "13/13 [==============================] - 0s 5ms/step - loss: 0.0024 - accuracy: 1.0000 - auc_1: 1.0000 - val_loss: 0.0939 - val_accuracy: 0.9825 - val_auc_1: 0.9910\n",
            "Epoch 61/100\n",
            "13/13 [==============================] - 0s 6ms/step - loss: 0.0022 - accuracy: 1.0000 - auc_1: 1.0000 - val_loss: 0.0949 - val_accuracy: 0.9825 - val_auc_1: 0.9911\n",
            "Epoch 62/100\n",
            "13/13 [==============================] - 0s 5ms/step - loss: 0.0022 - accuracy: 1.0000 - auc_1: 1.0000 - val_loss: 0.0948 - val_accuracy: 0.9825 - val_auc_1: 0.9910\n",
            "Epoch 63/100\n",
            "13/13 [==============================] - 0s 6ms/step - loss: 0.0021 - accuracy: 1.0000 - auc_1: 1.0000 - val_loss: 0.0949 - val_accuracy: 0.9825 - val_auc_1: 0.9911\n",
            "Epoch 64/100\n",
            "13/13 [==============================] - 0s 5ms/step - loss: 0.0020 - accuracy: 1.0000 - auc_1: 1.0000 - val_loss: 0.0957 - val_accuracy: 0.9825 - val_auc_1: 0.9911\n",
            "Epoch 65/100\n",
            "13/13 [==============================] - 0s 5ms/step - loss: 0.0020 - accuracy: 1.0000 - auc_1: 1.0000 - val_loss: 0.0966 - val_accuracy: 0.9825 - val_auc_1: 0.9911\n",
            "Epoch 66/100\n",
            "13/13 [==============================] - 0s 6ms/step - loss: 0.0019 - accuracy: 1.0000 - auc_1: 1.0000 - val_loss: 0.0967 - val_accuracy: 0.9825 - val_auc_1: 0.9911\n",
            "Epoch 67/100\n",
            "13/13 [==============================] - 0s 5ms/step - loss: 0.0018 - accuracy: 1.0000 - auc_1: 1.0000 - val_loss: 0.0972 - val_accuracy: 0.9825 - val_auc_1: 0.9911\n",
            "Epoch 68/100\n",
            "13/13 [==============================] - 0s 6ms/step - loss: 0.0018 - accuracy: 1.0000 - auc_1: 1.0000 - val_loss: 0.0961 - val_accuracy: 0.9825 - val_auc_1: 0.9911\n",
            "Epoch 69/100\n",
            "13/13 [==============================] - 0s 6ms/step - loss: 0.0017 - accuracy: 1.0000 - auc_1: 1.0000 - val_loss: 0.0969 - val_accuracy: 0.9825 - val_auc_1: 0.9911\n",
            "Epoch 70/100\n",
            "13/13 [==============================] - 0s 6ms/step - loss: 0.0017 - accuracy: 1.0000 - auc_1: 1.0000 - val_loss: 0.0968 - val_accuracy: 0.9825 - val_auc_1: 0.9912\n",
            "Epoch 71/100\n",
            "13/13 [==============================] - 0s 6ms/step - loss: 0.0016 - accuracy: 1.0000 - auc_1: 1.0000 - val_loss: 0.0975 - val_accuracy: 0.9825 - val_auc_1: 0.9911\n",
            "Epoch 72/100\n",
            "13/13 [==============================] - 0s 6ms/step - loss: 0.0016 - accuracy: 1.0000 - auc_1: 1.0000 - val_loss: 0.0981 - val_accuracy: 0.9825 - val_auc_1: 0.9912\n",
            "Epoch 73/100\n",
            "13/13 [==============================] - 0s 6ms/step - loss: 0.0016 - accuracy: 1.0000 - auc_1: 1.0000 - val_loss: 0.0992 - val_accuracy: 0.9825 - val_auc_1: 0.9911\n",
            "Epoch 74/100\n",
            "13/13 [==============================] - 0s 5ms/step - loss: 0.0015 - accuracy: 1.0000 - auc_1: 1.0000 - val_loss: 0.1004 - val_accuracy: 0.9825 - val_auc_1: 0.9910\n",
            "Epoch 75/100\n",
            "13/13 [==============================] - 0s 5ms/step - loss: 0.0015 - accuracy: 1.0000 - auc_1: 1.0000 - val_loss: 0.1005 - val_accuracy: 0.9825 - val_auc_1: 0.9910\n",
            "Epoch 76/100\n",
            "13/13 [==============================] - 0s 5ms/step - loss: 0.0014 - accuracy: 1.0000 - auc_1: 1.0000 - val_loss: 0.1009 - val_accuracy: 0.9825 - val_auc_1: 0.9911\n",
            "Epoch 77/100\n",
            "13/13 [==============================] - 0s 5ms/step - loss: 0.0014 - accuracy: 1.0000 - auc_1: 1.0000 - val_loss: 0.1014 - val_accuracy: 0.9825 - val_auc_1: 0.9912\n",
            "Epoch 78/100\n",
            "13/13 [==============================] - 0s 6ms/step - loss: 0.0013 - accuracy: 1.0000 - auc_1: 1.0000 - val_loss: 0.1002 - val_accuracy: 0.9825 - val_auc_1: 0.9913\n",
            "Epoch 79/100\n",
            "13/13 [==============================] - 0s 7ms/step - loss: 0.0013 - accuracy: 1.0000 - auc_1: 1.0000 - val_loss: 0.1002 - val_accuracy: 0.9825 - val_auc_1: 0.9913\n",
            "Epoch 80/100\n",
            "13/13 [==============================] - 0s 6ms/step - loss: 0.0013 - accuracy: 1.0000 - auc_1: 1.0000 - val_loss: 0.1002 - val_accuracy: 0.9825 - val_auc_1: 0.9913\n",
            "Epoch 81/100\n",
            "13/13 [==============================] - 0s 5ms/step - loss: 0.0012 - accuracy: 1.0000 - auc_1: 1.0000 - val_loss: 0.1005 - val_accuracy: 0.9825 - val_auc_1: 0.9914\n",
            "Epoch 82/100\n",
            "13/13 [==============================] - 0s 6ms/step - loss: 0.0012 - accuracy: 1.0000 - auc_1: 1.0000 - val_loss: 0.1010 - val_accuracy: 0.9825 - val_auc_1: 0.9914\n",
            "Epoch 83/100\n",
            "13/13 [==============================] - 0s 5ms/step - loss: 0.0012 - accuracy: 1.0000 - auc_1: 1.0000 - val_loss: 0.1001 - val_accuracy: 0.9825 - val_auc_1: 0.9914\n",
            "Epoch 84/100\n",
            "13/13 [==============================] - 0s 6ms/step - loss: 0.0013 - accuracy: 1.0000 - auc_1: 1.0000 - val_loss: 0.1002 - val_accuracy: 0.9766 - val_auc_1: 0.9912\n",
            "Epoch 85/100\n",
            "13/13 [==============================] - 0s 6ms/step - loss: 0.0012 - accuracy: 1.0000 - auc_1: 1.0000 - val_loss: 0.1026 - val_accuracy: 0.9825 - val_auc_1: 0.9913\n",
            "Epoch 86/100\n",
            "13/13 [==============================] - 0s 6ms/step - loss: 0.0011 - accuracy: 1.0000 - auc_1: 1.0000 - val_loss: 0.1037 - val_accuracy: 0.9825 - val_auc_1: 0.9914\n",
            "Epoch 87/100\n",
            "13/13 [==============================] - 0s 5ms/step - loss: 0.0011 - accuracy: 1.0000 - auc_1: 1.0000 - val_loss: 0.1023 - val_accuracy: 0.9825 - val_auc_1: 0.9914\n",
            "Epoch 88/100\n",
            "13/13 [==============================] - 0s 5ms/step - loss: 0.0010 - accuracy: 1.0000 - auc_1: 1.0000 - val_loss: 0.1024 - val_accuracy: 0.9825 - val_auc_1: 0.9914\n",
            "Epoch 89/100\n",
            "13/13 [==============================] - 0s 5ms/step - loss: 0.0010 - accuracy: 1.0000 - auc_1: 1.0000 - val_loss: 0.1019 - val_accuracy: 0.9825 - val_auc_1: 0.9914\n",
            "Epoch 90/100\n",
            "13/13 [==============================] - 0s 5ms/step - loss: 9.8408e-04 - accuracy: 1.0000 - auc_1: 1.0000 - val_loss: 0.1032 - val_accuracy: 0.9825 - val_auc_1: 0.9914\n",
            "Epoch 91/100\n",
            "13/13 [==============================] - 0s 6ms/step - loss: 9.6765e-04 - accuracy: 1.0000 - auc_1: 1.0000 - val_loss: 0.1041 - val_accuracy: 0.9825 - val_auc_1: 0.9914\n",
            "Epoch 92/100\n",
            "13/13 [==============================] - 0s 6ms/step - loss: 9.7880e-04 - accuracy: 1.0000 - auc_1: 1.0000 - val_loss: 0.1016 - val_accuracy: 0.9766 - val_auc_1: 0.9914\n",
            "Epoch 93/100\n",
            "13/13 [==============================] - 0s 6ms/step - loss: 9.6407e-04 - accuracy: 1.0000 - auc_1: 1.0000 - val_loss: 0.1022 - val_accuracy: 0.9825 - val_auc_1: 0.9914\n",
            "Epoch 94/100\n",
            "13/13 [==============================] - 0s 7ms/step - loss: 9.3055e-04 - accuracy: 1.0000 - auc_1: 1.0000 - val_loss: 0.1037 - val_accuracy: 0.9825 - val_auc_1: 0.9914\n",
            "Epoch 95/100\n",
            "13/13 [==============================] - 0s 5ms/step - loss: 8.8169e-04 - accuracy: 1.0000 - auc_1: 1.0000 - val_loss: 0.1050 - val_accuracy: 0.9825 - val_auc_1: 0.9914\n",
            "Epoch 96/100\n",
            "13/13 [==============================] - 0s 5ms/step - loss: 8.5101e-04 - accuracy: 1.0000 - auc_1: 1.0000 - val_loss: 0.1048 - val_accuracy: 0.9825 - val_auc_1: 0.9914\n",
            "Epoch 97/100\n",
            "13/13 [==============================] - 0s 6ms/step - loss: 8.3606e-04 - accuracy: 1.0000 - auc_1: 1.0000 - val_loss: 0.1054 - val_accuracy: 0.9825 - val_auc_1: 0.9914\n",
            "Epoch 98/100\n",
            "13/13 [==============================] - 0s 6ms/step - loss: 8.0434e-04 - accuracy: 1.0000 - auc_1: 1.0000 - val_loss: 0.1051 - val_accuracy: 0.9825 - val_auc_1: 0.9914\n",
            "Epoch 99/100\n",
            "13/13 [==============================] - 0s 6ms/step - loss: 7.8375e-04 - accuracy: 1.0000 - auc_1: 1.0000 - val_loss: 0.1057 - val_accuracy: 0.9825 - val_auc_1: 0.9914\n",
            "Epoch 100/100\n",
            "13/13 [==============================] - 0s 6ms/step - loss: 7.6491e-04 - accuracy: 1.0000 - auc_1: 1.0000 - val_loss: 0.1054 - val_accuracy: 0.9825 - val_auc_1: 0.9914\n"
          ]
        }
      ]
    },
    {
      "cell_type": "code",
      "metadata": {
        "id": "p_DLHy3BFemk",
        "colab": {
          "base_uri": "https://localhost:8080/",
          "height": 380
        },
        "outputId": "f6ecbe65-8982-48e7-dc6b-9f1f7ff877fc"
      },
      "source": [
        "# print Test Loss and Accuracy and plot the history\n",
        "import matplotlib.pyplot as plt\n",
        "\n",
        "def show_history(story):\n",
        "    fig, (ax1, ax2) = plt.subplots(1, 2)\n",
        "    fig.set_size_inches(18.5, 10.5)\n",
        "    ax1.plot(story.history['accuracy'])\n",
        "    ax1.plot(story.history['val_accuracy'])\n",
        "    ax1.set(xlabel='epoch', ylabel='accuracy')\n",
        "    ax1.legend(['train_accuracy', 'val_accuracy'], loc='best')\n",
        "    ax1.set_title('Accuracy evolution during NN training')\n",
        "    \n",
        "    ax2.plot(story.history['loss'])\n",
        "    ax2.plot(story.history['val_loss'])\n",
        "    ax2.set(xlabel='epoch', ylabel='loss')\n",
        "    ax2.legend(['train_loss', 'val_loss'], loc='best')\n",
        "    ax2.set_title('Loss evolution during NN training')\n",
        "    plt.show()\n",
        "\n",
        "show_history(story)"
      ],
      "execution_count": null,
      "outputs": [
        {
          "output_type": "display_data",
          "data": {
            "image/png": "[encoded data removed]",
            "text/plain": [
              "<Figure size 1332x756 with 2 Axes>"
            ]
          },
          "metadata": {
            "needs_background": "light"
          }
        }
      ]
    },
    {
      "cell_type": "markdown",
      "metadata": {
        "id": "jQ4AwjONFbRV"
      },
      "source": [
        ""
      ]
    },
    {
      "cell_type": "markdown",
      "metadata": {
        "id": "2JOpM-jmuO-W"
      },
      "source": [
        "Typically validation loss should be similar to but slightly higher than training loss. As long as validation loss is lower than or even equal to training loss one should keep doing more training. If training loss is reducing without increase in validation loss then again keep doing more training. If validation loss starts increasing then it is time to stop. Some over-fitting is nearly always a good thing. All that matters in the end is: is the validation loss as low as you can get it!\n",
        "\n",
        "If overall accuracy still not acceptable then review mistakes model is making and think of what can one change: More data? More / different data augmentations? Different architecture?\n",
        "\n"
      ]
    },
    {
      "cell_type": "code",
      "metadata": {
        "id": "JXFMSTVhJh02",
        "colab": {
          "base_uri": "https://localhost:8080/"
        },
        "outputId": "4712accd-0f23-4bb4-cdca-95007eaaa9bb"
      },
      "source": [
        "# Compute predictions of X_test\n",
        "yhat = model.predict(X_test)\n",
        "yhat"
      ],
      "execution_count": null,
      "outputs": [
        {
          "output_type": "execute_result",
          "data": {
            "text/plain": [
              "array([[9.9905062e-01],\n",
              "       [5.6225968e-18],\n",
              "       [1.6278195e-12],\n",
              "       [1.0000000e+00],\n",
              "       [1.0000000e+00],\n",
              "       [0.0000000e+00],\n",
              "       [6.6331809e-33],\n",
              "       [2.8600146e-08],\n",
              "       [7.5968850e-01],\n",
              "       [1.0000000e+00],\n",
              "       [6.4316201e-01],\n",
              "       [2.0022181e-08],\n",
              "       [9.9999940e-01],\n",
              "       [1.8524943e-08],\n",
              "       [1.0000000e+00],\n",
              "       [1.2428638e-16],\n",
              "       [1.0000000e+00],\n",
              "       [1.0000000e+00],\n",
              "       [1.0000000e+00],\n",
              "       [1.6285921e-24],\n",
              "       [9.9999797e-01],\n",
              "       [1.0000000e+00],\n",
              "       [2.9735537e-34],\n",
              "       [1.0000000e+00],\n",
              "       [1.0000000e+00],\n",
              "       [1.0000000e+00],\n",
              "       [1.0000000e+00],\n",
              "       [9.9999917e-01],\n",
              "       [1.0000000e+00],\n",
              "       [3.3270953e-21],\n",
              "       [9.9999982e-01],\n",
              "       [1.0000000e+00],\n",
              "       [1.0000000e+00],\n",
              "       [1.0000000e+00],\n",
              "       [1.0000000e+00],\n",
              "       [1.0000000e+00],\n",
              "       [8.5101724e-03],\n",
              "       [9.9999928e-01],\n",
              "       [2.2839539e-16],\n",
              "       [9.9966800e-01],\n",
              "       [1.0000000e+00],\n",
              "       [1.9290015e-13],\n",
              "       [1.0000000e+00],\n",
              "       [1.0000000e+00],\n",
              "       [9.9995244e-01],\n",
              "       [9.9693298e-01],\n",
              "       [1.0000000e+00],\n",
              "       [1.0000000e+00],\n",
              "       [9.9995780e-01],\n",
              "       [1.0000000e+00],\n",
              "       [1.0854814e-15],\n",
              "       [1.1833256e-27],\n",
              "       [8.0128312e-01],\n",
              "       [3.4332579e-01],\n",
              "       [1.0000000e+00],\n",
              "       [9.9999958e-01],\n",
              "       [1.0000000e+00],\n",
              "       [0.0000000e+00],\n",
              "       [3.7690286e-06],\n",
              "       [1.0000000e+00],\n",
              "       [1.0000000e+00],\n",
              "       [1.8282539e-26],\n",
              "       [1.9065833e-31],\n",
              "       [9.9911761e-01],\n",
              "       [1.0000000e+00],\n",
              "       [9.9979562e-01],\n",
              "       [7.5121212e-22],\n",
              "       [0.0000000e+00],\n",
              "       [1.0000000e+00],\n",
              "       [9.9999428e-01],\n",
              "       [7.9987227e-13],\n",
              "       [9.0279563e-13],\n",
              "       [1.0000000e+00],\n",
              "       [2.3294142e-12],\n",
              "       [1.0000000e+00],\n",
              "       [1.0000000e+00],\n",
              "       [9.9999511e-01],\n",
              "       [6.7949623e-02],\n",
              "       [1.0000000e+00],\n",
              "       [1.0000000e+00],\n",
              "       [3.4038580e-10],\n",
              "       [1.0000000e+00],\n",
              "       [2.8935075e-04],\n",
              "       [1.2030083e-31],\n",
              "       [6.6735197e-08],\n",
              "       [2.1802360e-17],\n",
              "       [5.3479868e-14],\n",
              "       [1.4728381e-16],\n",
              "       [1.0000000e+00],\n",
              "       [1.0000000e+00],\n",
              "       [1.0000000e+00],\n",
              "       [7.4778926e-01],\n",
              "       [1.0000000e+00],\n",
              "       [1.0000000e+00],\n",
              "       [1.0000000e+00],\n",
              "       [1.0000000e+00],\n",
              "       [2.0181787e-20],\n",
              "       [9.5080908e-24],\n",
              "       [1.0000000e+00],\n",
              "       [1.2335653e-13],\n",
              "       [4.7177284e-10],\n",
              "       [1.0000000e+00],\n",
              "       [3.2542893e-22],\n",
              "       [3.3681482e-15],\n",
              "       [9.9997848e-01],\n",
              "       [9.9728614e-01],\n",
              "       [1.0000000e+00],\n",
              "       [7.5127345e-34],\n",
              "       [9.9999696e-01],\n",
              "       [9.9992049e-01],\n",
              "       [8.7398540e-13],\n",
              "       [1.0000000e+00],\n",
              "       [9.9999535e-01],\n",
              "       [3.0247355e-36],\n",
              "       [1.0917243e-01],\n",
              "       [5.1630054e-35],\n",
              "       [1.0000000e+00],\n",
              "       [9.9699700e-01],\n",
              "       [1.0000000e+00],\n",
              "       [7.2186245e-17],\n",
              "       [1.0000000e+00],\n",
              "       [1.0000000e+00],\n",
              "       [9.9999976e-01],\n",
              "       [6.4015189e-18],\n",
              "       [9.9981725e-01],\n",
              "       [9.5143991e-25],\n",
              "       [5.1808908e-16],\n",
              "       [9.9999982e-01],\n",
              "       [1.0000000e+00],\n",
              "       [5.4031229e-23],\n",
              "       [9.2308460e-35],\n",
              "       [1.5162931e-20],\n",
              "       [9.9999237e-01],\n",
              "       [1.0000000e+00],\n",
              "       [1.0000000e+00],\n",
              "       [1.3745765e-15],\n",
              "       [9.8171198e-01],\n",
              "       [1.0000000e+00],\n",
              "       [7.8004384e-01],\n",
              "       [5.4497981e-13],\n",
              "       [1.0000000e+00],\n",
              "       [1.3684611e-29],\n",
              "       [1.0000000e+00],\n",
              "       [1.0000000e+00],\n",
              "       [2.5440565e-11],\n",
              "       [1.0000000e+00],\n",
              "       [7.0165130e-20],\n",
              "       [1.2415710e-22],\n",
              "       [7.6179000e-05],\n",
              "       [1.0000000e+00],\n",
              "       [4.4889712e-05],\n",
              "       [1.0000000e+00],\n",
              "       [1.0000000e+00],\n",
              "       [9.9999857e-01],\n",
              "       [9.9999940e-01],\n",
              "       [0.0000000e+00],\n",
              "       [1.2579501e-17],\n",
              "       [1.0000000e+00],\n",
              "       [1.0000000e+00],\n",
              "       [1.0000000e+00],\n",
              "       [1.0000000e+00],\n",
              "       [1.0000000e+00],\n",
              "       [1.0000000e+00],\n",
              "       [1.0000000e+00],\n",
              "       [3.6291480e-03],\n",
              "       [1.0000000e+00],\n",
              "       [1.0000000e+00],\n",
              "       [9.9200356e-01],\n",
              "       [1.0000000e+00],\n",
              "       [1.3174428e-10],\n",
              "       [1.0000000e+00]], dtype=float32)"
            ]
          },
          "metadata": {},
          "execution_count": 25
        }
      ]
    },
    {
      "cell_type": "markdown",
      "metadata": {
        "id": "32rVq2dmK76Q"
      },
      "source": [
        ""
      ]
    },
    {
      "cell_type": "code",
      "metadata": {
        "id": "9YLpHjipKbZM",
        "colab": {
          "base_uri": "https://localhost:8080/"
        },
        "outputId": "162f4ffb-8194-4b5b-a6cc-24e941ad6f80"
      },
      "source": [
        "# Finding the most probable class\n",
        "yhat_c = (yhat > 0.5)\n",
        "print(yhat_c)\n"
      ],
      "execution_count": null,
      "outputs": [
        {
          "output_type": "stream",
          "name": "stdout",
          "text": [
            "[[ True]\n",
            " [False]\n",
            " [False]\n",
            " [ True]\n",
            " [ True]\n",
            " [False]\n",
            " [False]\n",
            " [False]\n",
            " [ True]\n",
            " [ True]\n",
            " [ True]\n",
            " [False]\n",
            " [ True]\n",
            " [False]\n",
            " [ True]\n",
            " [False]\n",
            " [ True]\n",
            " [ True]\n",
            " [ True]\n",
            " [False]\n",
            " [ True]\n",
            " [ True]\n",
            " [False]\n",
            " [ True]\n",
            " [ True]\n",
            " [ True]\n",
            " [ True]\n",
            " [ True]\n",
            " [ True]\n",
            " [False]\n",
            " [ True]\n",
            " [ True]\n",
            " [ True]\n",
            " [ True]\n",
            " [ True]\n",
            " [ True]\n",
            " [False]\n",
            " [ True]\n",
            " [False]\n",
            " [ True]\n",
            " [ True]\n",
            " [False]\n",
            " [ True]\n",
            " [ True]\n",
            " [ True]\n",
            " [ True]\n",
            " [ True]\n",
            " [ True]\n",
            " [ True]\n",
            " [ True]\n",
            " [False]\n",
            " [False]\n",
            " [ True]\n",
            " [False]\n",
            " [ True]\n",
            " [ True]\n",
            " [ True]\n",
            " [False]\n",
            " [False]\n",
            " [ True]\n",
            " [ True]\n",
            " [False]\n",
            " [False]\n",
            " [ True]\n",
            " [ True]\n",
            " [ True]\n",
            " [False]\n",
            " [False]\n",
            " [ True]\n",
            " [ True]\n",
            " [False]\n",
            " [False]\n",
            " [ True]\n",
            " [False]\n",
            " [ True]\n",
            " [ True]\n",
            " [ True]\n",
            " [False]\n",
            " [ True]\n",
            " [ True]\n",
            " [False]\n",
            " [ True]\n",
            " [False]\n",
            " [False]\n",
            " [False]\n",
            " [False]\n",
            " [False]\n",
            " [False]\n",
            " [ True]\n",
            " [ True]\n",
            " [ True]\n",
            " [ True]\n",
            " [ True]\n",
            " [ True]\n",
            " [ True]\n",
            " [ True]\n",
            " [False]\n",
            " [False]\n",
            " [ True]\n",
            " [False]\n",
            " [False]\n",
            " [ True]\n",
            " [False]\n",
            " [False]\n",
            " [ True]\n",
            " [ True]\n",
            " [ True]\n",
            " [False]\n",
            " [ True]\n",
            " [ True]\n",
            " [False]\n",
            " [ True]\n",
            " [ True]\n",
            " [False]\n",
            " [False]\n",
            " [False]\n",
            " [ True]\n",
            " [ True]\n",
            " [ True]\n",
            " [False]\n",
            " [ True]\n",
            " [ True]\n",
            " [ True]\n",
            " [False]\n",
            " [ True]\n",
            " [False]\n",
            " [False]\n",
            " [ True]\n",
            " [ True]\n",
            " [False]\n",
            " [False]\n",
            " [False]\n",
            " [ True]\n",
            " [ True]\n",
            " [ True]\n",
            " [False]\n",
            " [ True]\n",
            " [ True]\n",
            " [ True]\n",
            " [False]\n",
            " [ True]\n",
            " [False]\n",
            " [ True]\n",
            " [ True]\n",
            " [False]\n",
            " [ True]\n",
            " [False]\n",
            " [False]\n",
            " [False]\n",
            " [ True]\n",
            " [False]\n",
            " [ True]\n",
            " [ True]\n",
            " [ True]\n",
            " [ True]\n",
            " [False]\n",
            " [False]\n",
            " [ True]\n",
            " [ True]\n",
            " [ True]\n",
            " [ True]\n",
            " [ True]\n",
            " [ True]\n",
            " [ True]\n",
            " [False]\n",
            " [ True]\n",
            " [ True]\n",
            " [ True]\n",
            " [ True]\n",
            " [False]\n",
            " [ True]]\n"
          ]
        }
      ]
    },
    {
      "cell_type": "code",
      "metadata": {
        "id": "Ttv8CTL9J2u9",
        "colab": {
          "base_uri": "https://localhost:8080/"
        },
        "outputId": "f3ae3d60-f337-4d39-e370-0d0be048b838"
      },
      "source": [
        "# print the confusion matrix\n",
        "\n",
        "from sklearn.metrics import confusion_matrix\n",
        "from sklearn.metrics import accuracy_score, roc_auc_score\n",
        "cm = confusion_matrix(y_test,yhat_c)\n",
        "score = accuracy_score(y_test,yhat_c)\n",
        "auc = roc_auc_score(y_test,yhat)\n",
        "print(cm)\n",
        "print('accuracy is:',score)\n",
        "print('auc is:',auc)"
      ],
      "execution_count": null,
      "outputs": [
        {
          "output_type": "stream",
          "name": "stdout",
          "text": [
            "[[ 62   1]\n",
            " [  2 106]]\n",
            "accuracy is: 0.9824561403508771\n",
            "auc is: 0.9961787184009406\n"
          ]
        }
      ]
    },
    {
      "cell_type": "code",
      "metadata": {
        "colab": {
          "base_uri": "https://localhost:8080/",
          "height": 282
        },
        "id": "nxgMUvfHI3sP",
        "outputId": "067f23f0-cf57-47f2-e808-4b22c952c97b"
      },
      "source": [
        "import seaborn as sn\n",
        "sn.heatmap(cm, annot=True)"
      ],
      "execution_count": null,
      "outputs": [
        {
          "output_type": "execute_result",
          "data": {
            "text/plain": [
              "<matplotlib.axes._subplots.AxesSubplot at 0x7fa8d22712d0>"
            ]
          },
          "metadata": {},
          "execution_count": 37
        },
        {
          "output_type": "display_data",
          "data": {
            "image/png": "[encoded data removed]",
            "text/plain": [
              "<Figure size 432x288 with 2 Axes>"
            ]
          },
          "metadata": {
            "needs_background": "light"
          }
        }
      ]
    },
    {
      "cell_type": "code",
      "metadata": {
        "id": "6y_9kW-HNogg",
        "colab": {
          "base_uri": "https://localhost:8080/"
        },
        "outputId": "01615040-1cab-4c70-e136-cad748f4b359"
      },
      "source": [
        " #print calssification report\n",
        " from sklearn.metrics import classification_report\n",
        "\n",
        " print(classification_report(y_test, yhat_c))\n",
        "\n"
      ],
      "execution_count": null,
      "outputs": [
        {
          "output_type": "stream",
          "name": "stdout",
          "text": [
            "              precision    recall  f1-score   support\n",
            "\n",
            "         0.0       0.97      0.98      0.98        63\n",
            "         1.0       0.99      0.98      0.99       108\n",
            "\n",
            "    accuracy                           0.98       171\n",
            "   macro avg       0.98      0.98      0.98       171\n",
            "weighted avg       0.98      0.98      0.98       171\n",
            "\n"
          ]
        }
      ]
    },
    {
      "cell_type": "markdown",
      "metadata": {
        "id": "ln13cS9ZL6WB"
      },
      "source": [
        "https://machinelearningmastery.com/threshold-moving-for-imbalanced-classification/"
      ]
    },
    {
      "cell_type": "markdown",
      "metadata": {
        "id": "liJvfoxrHkgr"
      },
      "source": [
        "Ok that worked out. Now remember that we were rather critical with classification accuracy in the lecture. Let's revisit why we do not like this measure.\n",
        "\n",
        "Classification accuracy is a threshold metric. It calculates model performance for one threshold or classification cut-off. If not specified, this threshold is usually set to 0.5.  However that is not what we necessarily want in an unbalanced case.\n",
        "\n",
        "A preferable approach to assess classification performance is to consider all possible thresholds. This is what receiver-operating-characteristics (ROC) analysis does. "
      ]
    },
    {
      "cell_type": "markdown",
      "metadata": {
        "id": "VXoLyU0hIhvM"
      },
      "source": [
        "Classification accuracy simply calculates the number of correct class predictions (main diagonal) over all cases. Correct predictions are twofold. We can classify a good customer as good customer and we can classify a bad customer as bad customer. Likewise, our classifier can make two errors, classifying an actually good customer as bad and classifying an actually bad customer as good. We find the numbers of these errors in the off-diagonal of the confusion matrix. Which class a model predicts depends on the classification threshold. You classify cases as BAD if $p(y=BAD|x) \\gt \\tau$, and as GOOD otherwise, whereby $\\tau$ denotes the threshold. \n",
        "\n",
        "Hence, the above **confusion table is based on one threshold**. It might look rather different for another threshold. A ROC curve considers all cut-offs $\\tau \\in [0,1]$ plotting the **True Positive Rate** and **False Positive Rate** for each threshold. Given that ROC analysis is a general tool for binary classification, and used in various domains, people came up with a standardized terminology to refer to the classes. Instead of speaking about goods and bads (i.e., credit scoring jargon) or zeros and ones (which is likely to offend members of the former group), we refer to the classes as the *positive* and the *negative* class. Thus, the TPR is the fraction cases that the classifier predicts to be of class positive, and that actually belong to that class. The true negative rate or TNR is defined alike. For the two errors we have the false positive rate (FPR) and the false negative rate (FNR). Correct interpretation of these errors is maybe a little difficult. How about false positives? The classifier predicts class positive but the prediction is false. Such a case actually belongs to the negative class. So the FPR is the fraction of cases that the classifier predicts as positives and that actually are negatives. The same argumentation goes for the FNR.  "
      ]
    },
    {
      "cell_type": "markdown",
      "metadata": {
        "id": "LEexjuunJbu0"
      },
      "source": [
        "## ROC Curve and AUC\n",
        "This is one of the most important evaluation metrics in classification analysis. Have a look at the graph below. The curve tells us how well the model differentiates the two classes, in regards to their predicted probabilities. A ROC curve has the FPR on the X-axis and TPR on the Y-axis. The curve is derived from all the different combinations of TPR and FPR (i.e., confusion tables) across all possible thresholds  0≤𝜏≤1  (assuming we have probabilistic predictions).\n",
        "\n",
        "The AUC stand for the area under the curve and is a ranking indicator. The AUC estimates the probability that a randomly chosen positive instance is correctly ranked higher than a randomly chosen negative (Hanley and McNeil, 1983). We calculate this area, as our goal is to have a FPR of 0 and a TPR of 1. This would be the perfect model. This point is in the top right corner of a ROC Curve. So the closer we get to that point, the better the model and the bigger the area under it. It is common practice to add a horizontal line to the plot. You can show that this line corresponds to a random classifier. So any serious model should give a ROC curve (much) above the horizontal line. This also implies that a classifier should display AUC (much) bigger than 0.5.\n",
        "\n"
      ]
    },
    {
      "cell_type": "code",
      "metadata": {
        "id": "iCPl_Ed-JY3a"
      },
      "source": [
        "## ROC Curve and AUC\n",
        "from sklearn.metrics import roc_auc_score, accuracy_score, roc_curve\n",
        "\n",
        "\n",
        "fpr , tpr , thresholds = roc_curve( y_test , yhat)"
      ],
      "execution_count": null,
      "outputs": []
    },
    {
      "cell_type": "code",
      "metadata": {
        "colab": {
          "base_uri": "https://localhost:8080/",
          "height": 295
        },
        "id": "-Zr-oBshLIYs",
        "outputId": "2b357714-fb71-4470-e0fa-c0071ef23c3a"
      },
      "source": [
        "def plot_roc_curve(fpr,tpr): \n",
        "  plt.plot(fpr,tpr) \n",
        "  #plt.axis([0,1,0,1]) \n",
        "  plt.xlabel('False Positive Rate') \n",
        "  plt.ylabel('True Positive Rate')\n",
        "  plt.title('ROC curve of NN model')\n",
        "  plt.plot([0, 1], [0, 1], \"r--\");  # the random benchmark we need to add manually  \n",
        "  plt.show()    \n",
        "  \n",
        "plot_roc_curve (fpr,tpr)\n"
      ],
      "execution_count": null,
      "outputs": [
        {
          "output_type": "display_data",
          "data": {
            "image/png": "[encoded data removed]",
            "text/plain": [
              "<Figure size 432x288 with 1 Axes>"
            ]
          },
          "metadata": {
            "needs_background": "light"
          }
        }
      ]
    },
    {
      "cell_type": "code",
      "metadata": {
        "colab": {
          "base_uri": "https://localhost:8080/"
        },
        "id": "ONzmU-fzLi5U",
        "outputId": "b4629535-d78f-4856-c97e-12e7f768a824"
      },
      "source": [
        "# get the best threshold for the NN model\n",
        "J = tpr - fpr\n",
        "ix = np.argmax(J)\n",
        "best_thresh = thresholds[ix]\n",
        "print('Best Threshold NN model=%f' % (best_thresh))\n"
      ],
      "execution_count": null,
      "outputs": [
        {
          "output_type": "stream",
          "name": "stdout",
          "text": [
            "Best Threshold NN model=0.109172\n"
          ]
        }
      ]
    },
    {
      "cell_type": "code",
      "metadata": {
        "id": "VwPRM0dZL_Kh"
      },
      "source": [
        "# Finding the most probable class based on the optimal threshold\n",
        "yhat_c_optimal = (yhat > 0.109172)\n",
        "print(yhat_c_optimal)"
      ],
      "execution_count": null,
      "outputs": []
    },
    {
      "cell_type": "code",
      "metadata": {
        "colab": {
          "base_uri": "https://localhost:8080/"
        },
        "id": "bn9N2fffMTsD",
        "outputId": "96953423-f7e1-435d-825e-519c8b39cbfd"
      },
      "source": [
        " print(classification_report(y_test, yhat_c_optimal))"
      ],
      "execution_count": null,
      "outputs": [
        {
          "output_type": "stream",
          "name": "stdout",
          "text": [
            "              precision    recall  f1-score   support\n",
            "\n",
            "         0.0       1.00      0.98      0.99        63\n",
            "         1.0       0.99      1.00      1.00       108\n",
            "\n",
            "    accuracy                           0.99       171\n",
            "   macro avg       1.00      0.99      0.99       171\n",
            "weighted avg       0.99      0.99      0.99       171\n",
            "\n"
          ]
        }
      ]
    },
    {
      "cell_type": "code",
      "metadata": {
        "colab": {
          "base_uri": "https://localhost:8080/"
        },
        "id": "ZHevi-RGNJW8",
        "outputId": "ce014293-cc9e-44a5-b3db-1e6de86d5abf"
      },
      "source": [
        "cm_optimal = confusion_matrix(y_test,yhat_c_optimal)\n",
        "score_optimal = accuracy_score(y_test,yhat_c_optimal)\n",
        "auc_optimal = roc_auc_score(y_test,yhat)\n",
        "print(cm_optimal)\n",
        "print('accuracy is:',score_optimal)\n"
      ],
      "execution_count": null,
      "outputs": [
        {
          "output_type": "stream",
          "name": "stdout",
          "text": [
            "[[ 62   1]\n",
            " [  0 108]]\n",
            "accuracy is: 0.9941520467836257\n"
          ]
        }
      ]
    },
    {
      "cell_type": "markdown",
      "metadata": {
        "id": "6l0Wu5DMbQDI"
      },
      "source": [
        "\n",
        "# OPTION 2\n",
        "Lets implement the same model with softmax output activation and 2 nodes. REMEMBER, the binary classification case is a special case of the multiclass classification case with 2 classes. so the softmax function with only 2 classes will give the sigmoid function. \n",
        "MEaning, when you have a binary classification problem, have 2 options\n",
        "1.  output activation sigmoid, 1 node and binary_crossentropy loss\n",
        "2. output activation softmax, 2 nodes and categorical_crossentropy loss"
      ]
    },
    {
      "cell_type": "code",
      "metadata": {
        "colab": {
          "base_uri": "https://localhost:8080/"
        },
        "id": "b8emx5bGaHoc",
        "outputId": "35db0392-4e88-4e22-8893-ee360a3fcdef"
      },
      "source": [
        "from sklearn.preprocessing import LabelEncoder\n",
        "from keras.utils import np_utils\n",
        "# Prepare the target variable\n",
        "\n",
        "# if you use categorical crossentropy loss, you have to reshape the target variable to the dimension of the classes,\n",
        "# ie. OneHot encode the Target\n",
        "# Note: you can leave the target as normal integers, but then you have to use 'sparse_categorical_crossentropy' loss\n",
        "dummy_y = np_utils.to_categorical(y)\n",
        "dummy_y"
      ],
      "execution_count": null,
      "outputs": [
        {
          "output_type": "execute_result",
          "data": {
            "text/plain": [
              "array([[1., 0.],\n",
              "       [1., 0.],\n",
              "       [1., 0.],\n",
              "       ...,\n",
              "       [1., 0.],\n",
              "       [1., 0.],\n",
              "       [0., 1.]], dtype=float32)"
            ]
          },
          "metadata": {},
          "execution_count": 109
        }
      ]
    },
    {
      "cell_type": "code",
      "metadata": {
        "colab": {
          "base_uri": "https://localhost:8080/"
        },
        "id": "Pem2hXWcafVj",
        "outputId": "38eea5e8-7476-4940-e6ba-2823c49b342e"
      },
      "source": [
        "from sklearn.model_selection import train_test_split\n",
        "# use random state 42\n",
        "X_train,X_test,y_train,y_test=train_test_split(X,dummy_y,test_size=0.3,random_state=42)\n",
        "\n",
        "print(X_train.shape)\n",
        "print(X_test.shape)\n",
        "print(y_test.shape)\n",
        "print(y_train.shape)\n"
      ],
      "execution_count": null,
      "outputs": [
        {
          "output_type": "stream",
          "name": "stdout",
          "text": [
            "(398, 30)\n",
            "(171, 30)\n",
            "(171, 2)\n",
            "(398, 2)\n"
          ]
        }
      ]
    },
    {
      "cell_type": "code",
      "metadata": {
        "id": "8PI5IWC4apTM"
      },
      "source": [
        "# feature scaling - standardscaler\n",
        "from sklearn import preprocessing\n",
        "scaler=preprocessing.StandardScaler()\n",
        "X_train=scaler.fit_transform(X_train)\n",
        "X_test=scaler.transform(X_test)\n",
        "\n",
        "# scaled arrays"
      ],
      "execution_count": null,
      "outputs": []
    },
    {
      "cell_type": "code",
      "metadata": {
        "id": "B8dJ82XAAQ9f"
      },
      "source": [
        "model=Sequential()\n",
        "model.add(Dense(15,activation=\"relu\",input_dim=30))\n",
        "model.add(Dense(6,activation=\"relu\"))\n",
        "model.add(Dense(2,activation=\"softmax\"))"
      ],
      "execution_count": null,
      "outputs": []
    },
    {
      "cell_type": "code",
      "metadata": {
        "id": "UcKPmuaTX06e"
      },
      "source": [
        "model.compile(optimizer=\"adam\",loss=\"categorical_crossentropy\",metrics=[\"accuracy\"])\n"
      ],
      "execution_count": null,
      "outputs": []
    },
    {
      "cell_type": "code",
      "metadata": {
        "colab": {
          "base_uri": "https://localhost:8080/"
        },
        "id": "mg_AkIw9YMAm",
        "outputId": "e8f3ae3b-4787-40ba-99a9-8d2dfe55f53c"
      },
      "source": [
        "#fit the model\n",
        "model.fit(X_train,y_train,batch_size=32,epochs=100,validation_data=(X_test,y_test))\n"
      ],
      "execution_count": null,
      "outputs": [
        {
          "output_type": "stream",
          "name": "stdout",
          "text": [
            "Epoch 1/100\n",
            "13/13 [==============================] - 1s 20ms/step - loss: 0.6392 - accuracy: 0.5729 - val_loss: 0.5941 - val_accuracy: 0.6667\n",
            "Epoch 2/100\n",
            "13/13 [==============================] - 0s 5ms/step - loss: 0.5263 - accuracy: 0.7990 - val_loss: 0.4885 - val_accuracy: 0.8480\n",
            "Epoch 3/100\n",
            "13/13 [==============================] - 0s 5ms/step - loss: 0.4350 - accuracy: 0.8819 - val_loss: 0.3980 - val_accuracy: 0.9006\n",
            "Epoch 4/100\n",
            "13/13 [==============================] - 0s 5ms/step - loss: 0.3638 - accuracy: 0.9045 - val_loss: 0.3260 - val_accuracy: 0.9298\n",
            "Epoch 5/100\n",
            "13/13 [==============================] - 0s 4ms/step - loss: 0.3086 - accuracy: 0.9271 - val_loss: 0.2699 - val_accuracy: 0.9415\n",
            "Epoch 6/100\n",
            "13/13 [==============================] - 0s 5ms/step - loss: 0.2677 - accuracy: 0.9397 - val_loss: 0.2270 - val_accuracy: 0.9474\n",
            "Epoch 7/100\n",
            "13/13 [==============================] - 0s 6ms/step - loss: 0.2369 - accuracy: 0.9422 - val_loss: 0.1960 - val_accuracy: 0.9532\n",
            "Epoch 8/100\n",
            "13/13 [==============================] - 0s 6ms/step - loss: 0.2145 - accuracy: 0.9472 - val_loss: 0.1729 - val_accuracy: 0.9649\n",
            "Epoch 9/100\n",
            "13/13 [==============================] - 0s 7ms/step - loss: 0.1968 - accuracy: 0.9523 - val_loss: 0.1553 - val_accuracy: 0.9649\n",
            "Epoch 10/100\n",
            "13/13 [==============================] - 0s 6ms/step - loss: 0.1818 - accuracy: 0.9573 - val_loss: 0.1410 - val_accuracy: 0.9708\n",
            "Epoch 11/100\n",
            "13/13 [==============================] - 0s 5ms/step - loss: 0.1692 - accuracy: 0.9598 - val_loss: 0.1294 - val_accuracy: 0.9708\n",
            "Epoch 12/100\n",
            "13/13 [==============================] - 0s 6ms/step - loss: 0.1587 - accuracy: 0.9623 - val_loss: 0.1193 - val_accuracy: 0.9708\n",
            "Epoch 13/100\n",
            "13/13 [==============================] - 0s 6ms/step - loss: 0.1478 - accuracy: 0.9623 - val_loss: 0.1122 - val_accuracy: 0.9708\n",
            "Epoch 14/100\n",
            "13/13 [==============================] - 0s 5ms/step - loss: 0.1379 - accuracy: 0.9623 - val_loss: 0.1065 - val_accuracy: 0.9708\n",
            "Epoch 15/100\n",
            "13/13 [==============================] - 0s 5ms/step - loss: 0.1280 - accuracy: 0.9648 - val_loss: 0.1015 - val_accuracy: 0.9708\n",
            "Epoch 16/100\n",
            "13/13 [==============================] - 0s 6ms/step - loss: 0.1188 - accuracy: 0.9673 - val_loss: 0.0961 - val_accuracy: 0.9708\n",
            "Epoch 17/100\n",
            "13/13 [==============================] - 0s 6ms/step - loss: 0.1112 - accuracy: 0.9724 - val_loss: 0.0912 - val_accuracy: 0.9649\n",
            "Epoch 18/100\n",
            "13/13 [==============================] - 0s 6ms/step - loss: 0.1050 - accuracy: 0.9724 - val_loss: 0.0871 - val_accuracy: 0.9766\n",
            "Epoch 19/100\n",
            "13/13 [==============================] - 0s 6ms/step - loss: 0.0993 - accuracy: 0.9774 - val_loss: 0.0838 - val_accuracy: 0.9766\n",
            "Epoch 20/100\n",
            "13/13 [==============================] - 0s 5ms/step - loss: 0.0943 - accuracy: 0.9799 - val_loss: 0.0810 - val_accuracy: 0.9766\n",
            "Epoch 21/100\n",
            "13/13 [==============================] - 0s 6ms/step - loss: 0.0900 - accuracy: 0.9799 - val_loss: 0.0787 - val_accuracy: 0.9766\n",
            "Epoch 22/100\n",
            "13/13 [==============================] - 0s 6ms/step - loss: 0.0861 - accuracy: 0.9799 - val_loss: 0.0769 - val_accuracy: 0.9708\n",
            "Epoch 23/100\n",
            "13/13 [==============================] - 0s 5ms/step - loss: 0.0832 - accuracy: 0.9799 - val_loss: 0.0765 - val_accuracy: 0.9708\n",
            "Epoch 24/100\n",
            "13/13 [==============================] - 0s 7ms/step - loss: 0.0795 - accuracy: 0.9799 - val_loss: 0.0758 - val_accuracy: 0.9708\n",
            "Epoch 25/100\n",
            "13/13 [==============================] - 0s 6ms/step - loss: 0.0768 - accuracy: 0.9824 - val_loss: 0.0733 - val_accuracy: 0.9708\n",
            "Epoch 26/100\n",
            "13/13 [==============================] - 0s 5ms/step - loss: 0.0743 - accuracy: 0.9824 - val_loss: 0.0722 - val_accuracy: 0.9708\n",
            "Epoch 27/100\n",
            "13/13 [==============================] - 0s 6ms/step - loss: 0.0720 - accuracy: 0.9824 - val_loss: 0.0715 - val_accuracy: 0.9708\n",
            "Epoch 28/100\n",
            "13/13 [==============================] - 0s 6ms/step - loss: 0.0700 - accuracy: 0.9824 - val_loss: 0.0709 - val_accuracy: 0.9708\n",
            "Epoch 29/100\n",
            "13/13 [==============================] - 0s 5ms/step - loss: 0.0683 - accuracy: 0.9874 - val_loss: 0.0698 - val_accuracy: 0.9708\n",
            "Epoch 30/100\n",
            "13/13 [==============================] - 0s 5ms/step - loss: 0.0666 - accuracy: 0.9874 - val_loss: 0.0693 - val_accuracy: 0.9708\n",
            "Epoch 31/100\n",
            "13/13 [==============================] - 0s 5ms/step - loss: 0.0653 - accuracy: 0.9874 - val_loss: 0.0687 - val_accuracy: 0.9708\n",
            "Epoch 32/100\n",
            "13/13 [==============================] - 0s 6ms/step - loss: 0.0638 - accuracy: 0.9874 - val_loss: 0.0677 - val_accuracy: 0.9708\n",
            "Epoch 33/100\n",
            "13/13 [==============================] - 0s 7ms/step - loss: 0.0624 - accuracy: 0.9874 - val_loss: 0.0663 - val_accuracy: 0.9708\n",
            "Epoch 34/100\n",
            "13/13 [==============================] - 0s 5ms/step - loss: 0.0610 - accuracy: 0.9874 - val_loss: 0.0666 - val_accuracy: 0.9708\n",
            "Epoch 35/100\n",
            "13/13 [==============================] - 0s 5ms/step - loss: 0.0599 - accuracy: 0.9874 - val_loss: 0.0667 - val_accuracy: 0.9708\n",
            "Epoch 36/100\n",
            "13/13 [==============================] - 0s 5ms/step - loss: 0.0588 - accuracy: 0.9874 - val_loss: 0.0660 - val_accuracy: 0.9708\n",
            "Epoch 37/100\n",
            "13/13 [==============================] - 0s 6ms/step - loss: 0.0577 - accuracy: 0.9874 - val_loss: 0.0642 - val_accuracy: 0.9766\n",
            "Epoch 38/100\n",
            "13/13 [==============================] - 0s 6ms/step - loss: 0.0566 - accuracy: 0.9874 - val_loss: 0.0648 - val_accuracy: 0.9766\n",
            "Epoch 39/100\n",
            "13/13 [==============================] - 0s 4ms/step - loss: 0.0555 - accuracy: 0.9874 - val_loss: 0.0638 - val_accuracy: 0.9708\n",
            "Epoch 40/100\n",
            "13/13 [==============================] - 0s 4ms/step - loss: 0.0544 - accuracy: 0.9874 - val_loss: 0.0630 - val_accuracy: 0.9708\n",
            "Epoch 41/100\n",
            "13/13 [==============================] - 0s 4ms/step - loss: 0.0534 - accuracy: 0.9874 - val_loss: 0.0627 - val_accuracy: 0.9708\n",
            "Epoch 42/100\n",
            "13/13 [==============================] - 0s 5ms/step - loss: 0.0524 - accuracy: 0.9874 - val_loss: 0.0618 - val_accuracy: 0.9708\n",
            "Epoch 43/100\n",
            "13/13 [==============================] - 0s 7ms/step - loss: 0.0518 - accuracy: 0.9874 - val_loss: 0.0625 - val_accuracy: 0.9708\n",
            "Epoch 44/100\n",
            "13/13 [==============================] - 0s 4ms/step - loss: 0.0506 - accuracy: 0.9874 - val_loss: 0.0613 - val_accuracy: 0.9708\n",
            "Epoch 45/100\n",
            "13/13 [==============================] - 0s 6ms/step - loss: 0.0496 - accuracy: 0.9874 - val_loss: 0.0613 - val_accuracy: 0.9708\n",
            "Epoch 46/100\n",
            "13/13 [==============================] - 0s 7ms/step - loss: 0.0489 - accuracy: 0.9874 - val_loss: 0.0607 - val_accuracy: 0.9708\n",
            "Epoch 47/100\n",
            "13/13 [==============================] - 0s 5ms/step - loss: 0.0479 - accuracy: 0.9874 - val_loss: 0.0613 - val_accuracy: 0.9708\n",
            "Epoch 48/100\n",
            "13/13 [==============================] - 0s 6ms/step - loss: 0.0471 - accuracy: 0.9874 - val_loss: 0.0612 - val_accuracy: 0.9708\n",
            "Epoch 49/100\n",
            "13/13 [==============================] - 0s 6ms/step - loss: 0.0462 - accuracy: 0.9874 - val_loss: 0.0603 - val_accuracy: 0.9708\n",
            "Epoch 50/100\n",
            "13/13 [==============================] - 0s 4ms/step - loss: 0.0458 - accuracy: 0.9874 - val_loss: 0.0592 - val_accuracy: 0.9708\n",
            "Epoch 51/100\n",
            "13/13 [==============================] - 0s 4ms/step - loss: 0.0447 - accuracy: 0.9874 - val_loss: 0.0591 - val_accuracy: 0.9708\n",
            "Epoch 52/100\n",
            "13/13 [==============================] - 0s 6ms/step - loss: 0.0439 - accuracy: 0.9874 - val_loss: 0.0590 - val_accuracy: 0.9708\n",
            "Epoch 53/100\n",
            "13/13 [==============================] - 0s 4ms/step - loss: 0.0431 - accuracy: 0.9874 - val_loss: 0.0588 - val_accuracy: 0.9708\n",
            "Epoch 54/100\n",
            "13/13 [==============================] - 0s 4ms/step - loss: 0.0422 - accuracy: 0.9874 - val_loss: 0.0590 - val_accuracy: 0.9708\n",
            "Epoch 55/100\n",
            "13/13 [==============================] - 0s 6ms/step - loss: 0.0416 - accuracy: 0.9874 - val_loss: 0.0586 - val_accuracy: 0.9708\n",
            "Epoch 56/100\n",
            "13/13 [==============================] - 0s 5ms/step - loss: 0.0406 - accuracy: 0.9874 - val_loss: 0.0579 - val_accuracy: 0.9708\n",
            "Epoch 57/100\n",
            "13/13 [==============================] - 0s 5ms/step - loss: 0.0401 - accuracy: 0.9874 - val_loss: 0.0573 - val_accuracy: 0.9708\n",
            "Epoch 58/100\n",
            "13/13 [==============================] - 0s 6ms/step - loss: 0.0396 - accuracy: 0.9874 - val_loss: 0.0582 - val_accuracy: 0.9708\n",
            "Epoch 59/100\n",
            "13/13 [==============================] - 0s 6ms/step - loss: 0.0387 - accuracy: 0.9899 - val_loss: 0.0579 - val_accuracy: 0.9708\n",
            "Epoch 60/100\n",
            "13/13 [==============================] - 0s 6ms/step - loss: 0.0382 - accuracy: 0.9925 - val_loss: 0.0577 - val_accuracy: 0.9708\n",
            "Epoch 61/100\n",
            "13/13 [==============================] - 0s 6ms/step - loss: 0.0373 - accuracy: 0.9925 - val_loss: 0.0590 - val_accuracy: 0.9708\n",
            "Epoch 62/100\n",
            "13/13 [==============================] - 0s 8ms/step - loss: 0.0364 - accuracy: 0.9925 - val_loss: 0.0590 - val_accuracy: 0.9708\n",
            "Epoch 63/100\n",
            "13/13 [==============================] - 0s 6ms/step - loss: 0.0360 - accuracy: 0.9925 - val_loss: 0.0578 - val_accuracy: 0.9708\n",
            "Epoch 64/100\n",
            "13/13 [==============================] - 0s 6ms/step - loss: 0.0349 - accuracy: 0.9925 - val_loss: 0.0594 - val_accuracy: 0.9708\n",
            "Epoch 65/100\n",
            "13/13 [==============================] - 0s 5ms/step - loss: 0.0345 - accuracy: 0.9950 - val_loss: 0.0590 - val_accuracy: 0.9708\n",
            "Epoch 66/100\n",
            "13/13 [==============================] - 0s 4ms/step - loss: 0.0338 - accuracy: 0.9950 - val_loss: 0.0587 - val_accuracy: 0.9708\n",
            "Epoch 67/100\n",
            "13/13 [==============================] - 0s 6ms/step - loss: 0.0331 - accuracy: 0.9950 - val_loss: 0.0595 - val_accuracy: 0.9708\n",
            "Epoch 68/100\n",
            "13/13 [==============================] - 0s 5ms/step - loss: 0.0325 - accuracy: 0.9950 - val_loss: 0.0600 - val_accuracy: 0.9708\n",
            "Epoch 69/100\n",
            "13/13 [==============================] - 0s 6ms/step - loss: 0.0319 - accuracy: 0.9950 - val_loss: 0.0594 - val_accuracy: 0.9708\n",
            "Epoch 70/100\n",
            "13/13 [==============================] - 0s 6ms/step - loss: 0.0312 - accuracy: 0.9950 - val_loss: 0.0585 - val_accuracy: 0.9708\n",
            "Epoch 71/100\n",
            "13/13 [==============================] - 0s 6ms/step - loss: 0.0305 - accuracy: 0.9950 - val_loss: 0.0572 - val_accuracy: 0.9708\n",
            "Epoch 72/100\n",
            "13/13 [==============================] - 0s 7ms/step - loss: 0.0297 - accuracy: 0.9950 - val_loss: 0.0577 - val_accuracy: 0.9708\n",
            "Epoch 73/100\n",
            "13/13 [==============================] - 0s 7ms/step - loss: 0.0292 - accuracy: 0.9950 - val_loss: 0.0589 - val_accuracy: 0.9708\n",
            "Epoch 74/100\n",
            "13/13 [==============================] - 0s 6ms/step - loss: 0.0285 - accuracy: 0.9950 - val_loss: 0.0580 - val_accuracy: 0.9708\n",
            "Epoch 75/100\n",
            "13/13 [==============================] - 0s 6ms/step - loss: 0.0277 - accuracy: 0.9950 - val_loss: 0.0570 - val_accuracy: 0.9708\n",
            "Epoch 76/100\n",
            "13/13 [==============================] - 0s 5ms/step - loss: 0.0272 - accuracy: 0.9950 - val_loss: 0.0572 - val_accuracy: 0.9708\n",
            "Epoch 77/100\n",
            "13/13 [==============================] - 0s 5ms/step - loss: 0.0264 - accuracy: 0.9950 - val_loss: 0.0575 - val_accuracy: 0.9708\n",
            "Epoch 78/100\n",
            "13/13 [==============================] - 0s 6ms/step - loss: 0.0259 - accuracy: 0.9950 - val_loss: 0.0580 - val_accuracy: 0.9708\n",
            "Epoch 79/100\n",
            "13/13 [==============================] - 0s 6ms/step - loss: 0.0254 - accuracy: 0.9950 - val_loss: 0.0596 - val_accuracy: 0.9708\n",
            "Epoch 80/100\n",
            "13/13 [==============================] - 0s 6ms/step - loss: 0.0248 - accuracy: 0.9950 - val_loss: 0.0593 - val_accuracy: 0.9708\n",
            "Epoch 81/100\n",
            "13/13 [==============================] - 0s 5ms/step - loss: 0.0241 - accuracy: 0.9950 - val_loss: 0.0620 - val_accuracy: 0.9708\n",
            "Epoch 82/100\n",
            "13/13 [==============================] - 0s 6ms/step - loss: 0.0235 - accuracy: 0.9950 - val_loss: 0.0625 - val_accuracy: 0.9708\n",
            "Epoch 83/100\n",
            "13/13 [==============================] - 0s 7ms/step - loss: 0.0228 - accuracy: 0.9950 - val_loss: 0.0625 - val_accuracy: 0.9708\n",
            "Epoch 84/100\n",
            "13/13 [==============================] - 0s 7ms/step - loss: 0.0223 - accuracy: 0.9950 - val_loss: 0.0637 - val_accuracy: 0.9708\n",
            "Epoch 85/100\n",
            "13/13 [==============================] - 0s 5ms/step - loss: 0.0218 - accuracy: 0.9950 - val_loss: 0.0633 - val_accuracy: 0.9708\n",
            "Epoch 86/100\n",
            "13/13 [==============================] - 0s 6ms/step - loss: 0.0213 - accuracy: 0.9950 - val_loss: 0.0638 - val_accuracy: 0.9708\n",
            "Epoch 87/100\n",
            "13/13 [==============================] - 0s 5ms/step - loss: 0.0208 - accuracy: 0.9950 - val_loss: 0.0629 - val_accuracy: 0.9708\n",
            "Epoch 88/100\n",
            "13/13 [==============================] - 0s 6ms/step - loss: 0.0203 - accuracy: 0.9950 - val_loss: 0.0640 - val_accuracy: 0.9708\n",
            "Epoch 89/100\n",
            "13/13 [==============================] - 0s 6ms/step - loss: 0.0198 - accuracy: 0.9950 - val_loss: 0.0652 - val_accuracy: 0.9708\n",
            "Epoch 90/100\n",
            "13/13 [==============================] - 0s 6ms/step - loss: 0.0193 - accuracy: 0.9950 - val_loss: 0.0664 - val_accuracy: 0.9708\n",
            "Epoch 91/100\n",
            "13/13 [==============================] - 0s 7ms/step - loss: 0.0190 - accuracy: 0.9950 - val_loss: 0.0671 - val_accuracy: 0.9708\n",
            "Epoch 92/100\n",
            "13/13 [==============================] - 0s 5ms/step - loss: 0.0188 - accuracy: 0.9950 - val_loss: 0.0656 - val_accuracy: 0.9708\n",
            "Epoch 93/100\n",
            "13/13 [==============================] - 0s 5ms/step - loss: 0.0177 - accuracy: 0.9950 - val_loss: 0.0694 - val_accuracy: 0.9708\n",
            "Epoch 94/100\n",
            "13/13 [==============================] - 0s 5ms/step - loss: 0.0176 - accuracy: 0.9950 - val_loss: 0.0687 - val_accuracy: 0.9708\n",
            "Epoch 95/100\n",
            "13/13 [==============================] - 0s 6ms/step - loss: 0.0171 - accuracy: 0.9950 - val_loss: 0.0702 - val_accuracy: 0.9708\n",
            "Epoch 96/100\n",
            "13/13 [==============================] - 0s 4ms/step - loss: 0.0166 - accuracy: 0.9950 - val_loss: 0.0699 - val_accuracy: 0.9708\n",
            "Epoch 97/100\n",
            "13/13 [==============================] - 0s 6ms/step - loss: 0.0162 - accuracy: 0.9950 - val_loss: 0.0694 - val_accuracy: 0.9708\n",
            "Epoch 98/100\n",
            "13/13 [==============================] - 0s 6ms/step - loss: 0.0160 - accuracy: 0.9950 - val_loss: 0.0685 - val_accuracy: 0.9708\n",
            "Epoch 99/100\n",
            "13/13 [==============================] - 0s 5ms/step - loss: 0.0155 - accuracy: 0.9950 - val_loss: 0.0690 - val_accuracy: 0.9708\n",
            "Epoch 100/100\n",
            "13/13 [==============================] - 0s 4ms/step - loss: 0.0150 - accuracy: 0.9950 - val_loss: 0.0710 - val_accuracy: 0.9708\n"
          ]
        },
        {
          "output_type": "execute_result",
          "data": {
            "text/plain": [
              "<keras.callbacks.History at 0x7f08339faed0>"
            ]
          },
          "metadata": {},
          "execution_count": 133
        }
      ]
    },
    {
      "cell_type": "code",
      "metadata": {
        "colab": {
          "base_uri": "https://localhost:8080/"
        },
        "id": "V_qbPYocYlzT",
        "outputId": "fb165302-f6cb-4b0b-b69a-5645b6d6f44d"
      },
      "source": [
        "# Compute predictions of X_test, here it is a 2 dimensional array: for each datapoint we get the probability of \n",
        "# it belonging to class 0 and to class 1. Note: compare the output to the previous yhat. Previously with 1 output neuron, \n",
        "#we got the prob only for class 1.  \n",
        "yhat = model.predict(X_test)\n",
        "yhat"
      ],
      "execution_count": null,
      "outputs": [
        {
          "output_type": "execute_result",
          "data": {
            "text/plain": [
              "array([[1.95391849e-02, 9.80460823e-01],\n",
              "       [1.00000000e+00, 4.18655692e-12],\n",
              "       [1.00000000e+00, 1.47374335e-08],\n",
              "       [6.29030546e-05, 9.99937057e-01],\n",
              "       [9.27261226e-06, 9.99990702e-01],\n",
              "       [1.00000000e+00, 6.60413752e-28],\n",
              "       [1.00000000e+00, 6.54429515e-22],\n",
              "       [9.99932170e-01, 6.77804637e-05],\n",
              "       [7.57163405e-01, 2.42836580e-01],\n",
              "       [4.34116737e-05, 9.99956608e-01],\n",
              "       [4.24893051e-02, 9.57510769e-01],\n",
              "       [9.99961972e-01, 3.80745587e-05],\n",
              "       [1.54742191e-03, 9.98452544e-01],\n",
              "       [9.99711096e-01, 2.88920564e-04],\n",
              "       [3.23613858e-05, 9.99967694e-01],\n",
              "       [9.99999166e-01, 8.16380066e-07],\n",
              "       [6.33589661e-05, 9.99936581e-01],\n",
              "       [4.51023652e-06, 9.99995470e-01],\n",
              "       [5.50071718e-07, 9.99999404e-01],\n",
              "       [1.00000000e+00, 3.45875607e-16],\n",
              "       [3.04132774e-02, 9.69586670e-01],\n",
              "       [2.48600822e-03, 9.97514009e-01],\n",
              "       [1.00000000e+00, 1.00184445e-22],\n",
              "       [1.08735039e-04, 9.99891281e-01],\n",
              "       [3.48434638e-04, 9.99651551e-01],\n",
              "       [1.90698302e-05, 9.99980927e-01],\n",
              "       [2.14848878e-05, 9.99978542e-01],\n",
              "       [1.39737350e-03, 9.98602688e-01],\n",
              "       [9.56545409e-04, 9.99043405e-01],\n",
              "       [1.00000000e+00, 6.49482977e-14],\n",
              "       [2.52377969e-04, 9.99747574e-01],\n",
              "       [1.39559434e-05, 9.99986053e-01],\n",
              "       [2.19948997e-04, 9.99780118e-01],\n",
              "       [9.02043481e-04, 9.99097943e-01],\n",
              "       [3.04042442e-05, 9.99969602e-01],\n",
              "       [1.26939500e-04, 9.99873042e-01],\n",
              "       [9.81027842e-01, 1.89722329e-02],\n",
              "       [1.04889681e-04, 9.99895096e-01],\n",
              "       [1.00000000e+00, 1.75126039e-10],\n",
              "       [1.51744848e-02, 9.84825552e-01],\n",
              "       [2.48255856e-05, 9.99975204e-01],\n",
              "       [1.00000000e+00, 2.74092322e-08],\n",
              "       [4.58079230e-05, 9.99954224e-01],\n",
              "       [2.40658032e-04, 9.99759376e-01],\n",
              "       [4.50532250e-02, 9.54946816e-01],\n",
              "       [1.72265675e-02, 9.82773423e-01],\n",
              "       [3.87590035e-06, 9.99996066e-01],\n",
              "       [1.91255391e-03, 9.98087466e-01],\n",
              "       [1.31193697e-02, 9.86880660e-01],\n",
              "       [2.35785083e-05, 9.99976397e-01],\n",
              "       [1.00000000e+00, 1.15316472e-10],\n",
              "       [1.00000000e+00, 6.96645618e-19],\n",
              "       [3.12099338e-01, 6.87900662e-01],\n",
              "       [4.45554182e-02, 9.55444634e-01],\n",
              "       [1.27331268e-05, 9.99987245e-01],\n",
              "       [6.74696348e-04, 9.99325275e-01],\n",
              "       [2.79546894e-05, 9.99971986e-01],\n",
              "       [1.00000000e+00, 9.56274195e-28],\n",
              "       [9.99948621e-01, 5.13879386e-05],\n",
              "       [2.81810321e-06, 9.99997139e-01],\n",
              "       [1.43500802e-03, 9.98565018e-01],\n",
              "       [1.00000000e+00, 3.17899638e-17],\n",
              "       [1.00000000e+00, 4.41519042e-21],\n",
              "       [2.59109512e-02, 9.74089026e-01],\n",
              "       [4.29679436e-04, 9.99570310e-01],\n",
              "       [9.19748768e-02, 9.08025086e-01],\n",
              "       [1.00000000e+00, 1.06546589e-14],\n",
              "       [1.00000000e+00, 3.68806371e-26],\n",
              "       [3.41961073e-04, 9.99657989e-01],\n",
              "       [1.07255392e-03, 9.98927414e-01],\n",
              "       [9.99999881e-01, 1.46678943e-07],\n",
              "       [1.00000000e+00, 4.53543336e-08],\n",
              "       [6.09132461e-04, 9.99390841e-01],\n",
              "       [1.00000000e+00, 2.26948114e-08],\n",
              "       [8.43629605e-05, 9.99915600e-01],\n",
              "       [2.09215970e-04, 9.99790847e-01],\n",
              "       [2.82574054e-02, 9.71742630e-01],\n",
              "       [9.53848064e-01, 4.61519510e-02],\n",
              "       [3.66570839e-06, 9.99996305e-01],\n",
              "       [1.43915982e-04, 9.99856114e-01],\n",
              "       [9.99999762e-01, 2.76952505e-07],\n",
              "       [1.06674270e-05, 9.99989390e-01],\n",
              "       [9.74740863e-01, 2.52591204e-02],\n",
              "       [1.00000000e+00, 3.26636721e-21],\n",
              "       [9.99939561e-01, 6.04320194e-05],\n",
              "       [1.00000000e+00, 4.14305153e-11],\n",
              "       [1.00000000e+00, 9.27604348e-13],\n",
              "       [1.00000000e+00, 3.61022723e-09],\n",
              "       [2.82148576e-05, 9.99971747e-01],\n",
              "       [1.26368040e-03, 9.98736322e-01],\n",
              "       [8.73688201e-04, 9.99126375e-01],\n",
              "       [8.52892697e-01, 1.47107333e-01],\n",
              "       [7.78848818e-03, 9.92211580e-01],\n",
              "       [3.08046612e-04, 9.99691963e-01],\n",
              "       [1.59553092e-04, 9.99840379e-01],\n",
              "       [1.67822891e-05, 9.99983191e-01],\n",
              "       [1.00000000e+00, 1.76651188e-13],\n",
              "       [1.00000000e+00, 1.25787397e-16],\n",
              "       [1.58948728e-06, 9.99998450e-01],\n",
              "       [9.99999881e-01, 6.60586679e-08],\n",
              "       [9.99998808e-01, 1.15400189e-06],\n",
              "       [5.62393403e-08, 1.00000000e+00],\n",
              "       [1.00000000e+00, 2.79241165e-14],\n",
              "       [1.00000000e+00, 1.15220899e-09],\n",
              "       [2.09726710e-02, 9.79027390e-01],\n",
              "       [1.86698303e-01, 8.13301682e-01],\n",
              "       [1.77869899e-03, 9.98221338e-01],\n",
              "       [1.00000000e+00, 6.33368772e-22],\n",
              "       [2.16883700e-03, 9.97831166e-01],\n",
              "       [3.59639414e-02, 9.64036047e-01],\n",
              "       [1.00000000e+00, 1.33925058e-08],\n",
              "       [1.18157259e-04, 9.99881864e-01],\n",
              "       [1.14221452e-02, 9.88577843e-01],\n",
              "       [1.00000000e+00, 5.36160477e-24],\n",
              "       [9.87473965e-01, 1.25260865e-02],\n",
              "       [1.00000000e+00, 6.31862281e-24],\n",
              "       [5.18248441e-07, 9.99999523e-01],\n",
              "       [4.55899052e-02, 9.54410076e-01],\n",
              "       [1.69280156e-05, 9.99983072e-01],\n",
              "       [1.00000000e+00, 1.85853177e-12],\n",
              "       [1.60839912e-02, 9.83915985e-01],\n",
              "       [2.59260614e-05, 9.99974132e-01],\n",
              "       [4.95548244e-04, 9.99504447e-01],\n",
              "       [1.00000000e+00, 7.53141716e-11],\n",
              "       [1.64138675e-02, 9.83586133e-01],\n",
              "       [1.00000000e+00, 5.03439961e-16],\n",
              "       [1.00000000e+00, 2.36182410e-11],\n",
              "       [2.02140058e-04, 9.99797881e-01],\n",
              "       [1.44348349e-04, 9.99855638e-01],\n",
              "       [1.00000000e+00, 1.70532593e-15],\n",
              "       [1.00000000e+00, 1.27704472e-23],\n",
              "       [1.00000000e+00, 2.22219441e-17],\n",
              "       [1.97522994e-03, 9.98024821e-01],\n",
              "       [2.96221318e-04, 9.99703705e-01],\n",
              "       [2.11383076e-03, 9.97886121e-01],\n",
              "       [1.00000000e+00, 4.45346121e-10],\n",
              "       [3.81489962e-01, 6.18510067e-01],\n",
              "       [1.79960299e-03, 9.98200417e-01],\n",
              "       [7.97934532e-02, 9.20206487e-01],\n",
              "       [1.00000000e+00, 1.30907740e-09],\n",
              "       [1.20689324e-03, 9.98793125e-01],\n",
              "       [1.00000000e+00, 4.08237543e-19],\n",
              "       [5.79273149e-07, 9.99999404e-01],\n",
              "       [6.34587309e-07, 9.99999404e-01],\n",
              "       [1.00000000e+00, 7.61408625e-09],\n",
              "       [5.42144553e-05, 9.99945760e-01],\n",
              "       [1.00000000e+00, 2.91181772e-14],\n",
              "       [1.00000000e+00, 9.54421902e-15],\n",
              "       [9.97149885e-01, 2.85013323e-03],\n",
              "       [7.52795677e-05, 9.99924660e-01],\n",
              "       [9.99625802e-01, 3.74164083e-04],\n",
              "       [7.03236356e-06, 9.99992967e-01],\n",
              "       [2.78023748e-07, 9.99999762e-01],\n",
              "       [1.09517444e-02, 9.89048302e-01],\n",
              "       [4.24238067e-04, 9.99575794e-01],\n",
              "       [1.00000000e+00, 2.71102724e-34],\n",
              "       [1.00000000e+00, 1.31949243e-10],\n",
              "       [3.30305484e-05, 9.99966979e-01],\n",
              "       [1.14405586e-03, 9.98855948e-01],\n",
              "       [1.44374064e-06, 9.99998569e-01],\n",
              "       [7.81789204e-05, 9.99921799e-01],\n",
              "       [7.35737149e-06, 9.99992609e-01],\n",
              "       [5.99520972e-05, 9.99940038e-01],\n",
              "       [1.21352205e-04, 9.99878645e-01],\n",
              "       [9.40215588e-01, 5.97844608e-02],\n",
              "       [3.91914509e-05, 9.99960780e-01],\n",
              "       [4.75046400e-05, 9.99952435e-01],\n",
              "       [3.39292079e-01, 6.60707891e-01],\n",
              "       [1.62223532e-05, 9.99983788e-01],\n",
              "       [9.99992251e-01, 7.68989503e-06],\n",
              "       [1.95542088e-04, 9.99804437e-01]], dtype=float32)"
            ]
          },
          "metadata": {},
          "execution_count": 128
        }
      ]
    },
    {
      "cell_type": "code",
      "metadata": {
        "colab": {
          "base_uri": "https://localhost:8080/"
        },
        "id": "wQX8vT_Ba7Oo",
        "outputId": "86937fb0-0def-4867-c017-b34c33f42e5d"
      },
      "source": [
        "# Finding the most probable class\n",
        "yhat_c = np.argmax(yhat, axis=1)\n",
        "print(yhat_c)"
      ],
      "execution_count": null,
      "outputs": [
        {
          "output_type": "stream",
          "name": "stdout",
          "text": [
            "[1 0 0 1 1 0 0 0 1 1 1 0 1 0 1 0 1 1 1 0 1 1 0 1 1 1 1 1 1 0 1 1 1 1 1 1 0\n",
            " 1 0 1 1 0 1 1 1 1 1 1 1 1 0 0 1 1 1 1 1 0 0 1 1 0 0 1 1 1 0 0 1 1 0 0 1 0\n",
            " 1 1 1 0 1 1 0 1 0 0 0 0 0 0 1 1 1 1 1 1 1 1 0 0 1 0 0 1 0 0 1 1 1 0 1 1 0\n",
            " 1 1 0 1 0 1 1 1 0 1 1 1 0 1 0 0 1 1 0 0 0 1 1 1 0 1 1 1 0 1 0 1 1 0 1 0 0\n",
            " 0 1 0 1 1 1 1 0 0 1 1 1 1 1 1 1 0 1 1 1 1 0 1]\n"
          ]
        }
      ]
    },
    {
      "cell_type": "code",
      "metadata": {
        "colab": {
          "base_uri": "https://localhost:8080/"
        },
        "id": "GN4rFkDaf6ra",
        "outputId": "f03a3662-bf6c-4d4d-dd83-0a845af719d9"
      },
      "source": [
        "y_test.shape"
      ],
      "execution_count": null,
      "outputs": [
        {
          "output_type": "execute_result",
          "data": {
            "text/plain": [
              "(171, 2)"
            ]
          },
          "metadata": {},
          "execution_count": 118
        }
      ]
    },
    {
      "cell_type": "code",
      "metadata": {
        "id": "tN-k2DKagSS0"
      },
      "source": [
        "true_label = np.argmax(y_test,axis = 1)\n"
      ],
      "execution_count": null,
      "outputs": []
    },
    {
      "cell_type": "code",
      "metadata": {
        "colab": {
          "base_uri": "https://localhost:8080/"
        },
        "id": "ySv8R9k8eCMG",
        "outputId": "66f9873e-248c-42a5-81d0-11f069d0047c"
      },
      "source": [
        "\n",
        "cm = confusion_matrix(true_label,yhat_c)\n",
        "\n",
        "score = accuracy_score(true_label,yhat_c)\n",
        "print(cm)\n",
        "print('score is:',score)\n"
      ],
      "execution_count": null,
      "outputs": [
        {
          "output_type": "stream",
          "name": "stdout",
          "text": [
            "[[ 62   1]\n",
            " [  0 108]]\n",
            "score is: 0.9941520467836257\n"
          ]
        }
      ]
    },
    {
      "cell_type": "code",
      "metadata": {
        "id": "k7haMDK_gbaX"
      },
      "source": [
        ""
      ],
      "execution_count": null,
      "outputs": []
    },
    {
      "cell_type": "code",
      "metadata": {
        "id": "psLQ4es7gtzA"
      },
      "source": [
        ""
      ],
      "execution_count": null,
      "outputs": []
    }
  ]
}