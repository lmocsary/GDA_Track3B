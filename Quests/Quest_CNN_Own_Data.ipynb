{
  "nbformat": 4,
  "nbformat_minor": 0,
  "metadata": {
    "colab": {
      "name": "Quest CNN Own Data.ipynb",
      "provenance": [],
      "collapsed_sections": []
    },
    "kernelspec": {
      "name": "python3",
      "display_name": "Python 3"
    },
    "accelerator": "GPU"
  },
  "cells": [
    {
      "cell_type": "markdown",
      "metadata": {
        "id": "uYmYJ8c7zwTf"
      },
      "source": [
        "# Preparation"
      ]
    },
    {
      "cell_type": "code",
      "metadata": {
        "id": "Ueie00-eGAB1"
      },
      "source": [
        "import pandas as pd\n",
        "import numpy as np\n",
        "import matplotlib.pyplot as plt\n",
        "import tensorflow as tf\n",
        "import os"
      ],
      "execution_count": null,
      "outputs": []
    },
    {
      "cell_type": "markdown",
      "metadata": {
        "id": "UoFTdFdDz5bH"
      },
      "source": [
        "# Tasks\n",
        "In this quest, you will be working on a classic CNN task of classifying cats and dogs images. You can access the training and testing sets [here](https://drive.google.com/drive/folders/19EL9VyYCVqxStG-O1jJtBQGa8JZpLDvO?usp=sharing) and get acquainted with the folder structure.\n",
        "\n",
        "Make sure to change your Colab runtime to GPU to ensure adequate performance.\n",
        "\n",
        "Specify 4 directories for cats and dogs images of training and testing sets respectively. You will be using them to build and train the network."
      ]
    },
    {
      "cell_type": "code",
      "metadata": {
        "id": "HfWzrYG2GzjK"
      },
      "source": [
        "# your code:\n"
      ],
      "execution_count": null,
      "outputs": []
    },
    {
      "cell_type": "markdown",
      "metadata": {
        "id": "WA-BElFI1Dp0"
      },
      "source": [
        "Initiate `ImageDataGenerator` (check the [documentation](https://keras.io/api/preprocessing/image/)). Your image generator needs to convert the image from RGB into number arrays in order for the neural network to proces them (in other words, normalize the values using the `rescale` parameter)."
      ]
    },
    {
      "cell_type": "code",
      "metadata": {
        "id": "qeamAdYNG2p7"
      },
      "source": [
        "# your code:\n"
      ],
      "execution_count": null,
      "outputs": []
    },
    {
      "cell_type": "markdown",
      "metadata": {
        "id": "2lBwOKGX_1zs"
      },
      "source": [
        "Apply the `ImageDataGenerator` you defined above using `flow_from_directory` to convert both training and testing data."
      ]
    },
    {
      "cell_type": "code",
      "metadata": {
        "id": "Q5HdRYqyG4lL"
      },
      "source": [
        "# your code:\n"
      ],
      "execution_count": null,
      "outputs": []
    },
    {
      "cell_type": "markdown",
      "metadata": {
        "id": "W2lefjC3Ag31"
      },
      "source": [
        "Build a convolutional neural network based on the [VGG16](https://neurohive.io/en/popular-networks/vgg16/) architecture."
      ]
    },
    {
      "cell_type": "code",
      "metadata": {
        "id": "_uMxeBohrhE-"
      },
      "source": [
        "# your code:\n"
      ],
      "execution_count": null,
      "outputs": []
    },
    {
      "cell_type": "markdown",
      "metadata": {
        "id": "yfKfaaQ9E6C_"
      },
      "source": [
        "Compile it using the optimizer and error metrics of your choice."
      ]
    },
    {
      "cell_type": "code",
      "metadata": {
        "id": "yKQmcixNygwu"
      },
      "source": [
        "# your code:\n"
      ],
      "execution_count": null,
      "outputs": []
    },
    {
      "cell_type": "markdown",
      "metadata": {
        "id": "Z3nYV_b8BdNs"
      },
      "source": [
        "Fit the model using `fit_generator`. This time, feel free to define the parameters according to your understanding and experiment with them to find a better solution. Be patient though, the training will take a while."
      ]
    },
    {
      "cell_type": "code",
      "metadata": {
        "id": "l3hVpkBMyovN"
      },
      "source": [
        "# your code:\n"
      ],
      "execution_count": null,
      "outputs": []
    },
    {
      "cell_type": "markdown",
      "metadata": {
        "id": "bfNnYxh7Bw6c"
      },
      "source": [
        "Plot the model accuracy."
      ]
    },
    {
      "cell_type": "code",
      "metadata": {
        "id": "oilYhnVmyrpK"
      },
      "source": [
        "# your code:\n"
      ],
      "execution_count": null,
      "outputs": []
    }
  ]
}