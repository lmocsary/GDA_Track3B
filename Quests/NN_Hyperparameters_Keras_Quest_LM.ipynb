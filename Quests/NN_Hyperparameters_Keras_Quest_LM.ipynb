{
 "cells": [
  {
   "cell_type": "markdown",
   "source": "\n\n# Neural Networks using Keras ",
   "metadata": {
    "id": "L1AyzepOkUXz",
    "cell_id": "00001-150ef71f-f76a-448f-bf38-58801ecc5565",
    "deepnote_cell_type": "markdown"
   }
  },
  {
   "cell_type": "markdown",
   "source": "\n\n### Outline\nOur goal is to tune the Apple Store NN for multi-class classification. We need to make several decisions when configuring our NN and focus on finding the optimal parameters for the\n - number of hidden layers\n - number of neurons in hidden layers\n - activation functions\n - type of weight initialization\n - learning rate and momentum\n - optimizer\n - size of batch\n - number of epochs\n - regularization (dropout)\n\n\n\nIn a first Part of this Notebook we will use Grid Search for Hyperparameter Tuning.\n\nThen in a second Part we will use Keras-Tuner",
   "metadata": {
    "id": "O-u2B8DpkUX0",
    "cell_id": "00002-84311668-e769-431a-8d38-638292dd6709",
    "deepnote_cell_type": "markdown"
   }
  },
  {
   "cell_type": "code",
   "metadata": {
    "pycharm": {
     "is_executing": false
    },
    "id": "2Y3IOLW0kUX1",
    "cell_id": "00003-1e34e965-e1f9-488f-98e3-99848d3b688f",
    "deepnote_to_be_reexecuted": false,
    "source_hash": "e91c41bd",
    "execution_start": 1636961610655,
    "execution_millis": 6182,
    "deepnote_cell_type": "code"
   },
   "source": "# Setting up the environment: import standard libraries and load the data. \nimport numpy as np\nimport matplotlib.pyplot as plt\nimport pandas as pd\nfrom sklearn.preprocessing import LabelEncoder\nfrom sklearn.model_selection import train_test_split\n\n#This package provides utilities for Keras, such as modified callbacks, data genereators, encoder, etc.\n#from keras.utils import np_utils    # it does not work now\nfrom tensorflow.keras import utils   # this works\n\n\n\n\n",
   "execution_count": 1,
   "outputs": []
  },
  {
   "cell_type": "markdown",
   "source": "##Use case: app rating analysis\nNNs often **solve classification problems with many classes**. To illustrate their functioning in a context that is more related to NLP examples,we introduce the data set concerned with app ratings. The **original data is available on Kaggle**. There, you also find a data dictionary with some information on the variables. However, the variable names are rather self-explanatory. A cleaned version of the data is available in this folder. The easiest way for you is to use the cleaned version but feel very free to play around with the version on Kaggle. You can find a Python script that starts from the original data and goes through a couple of pre-processing operations to produce the version we use below (**app_store_dpp.py**).",
   "metadata": {
    "id": "6zaqSm-UvCjK",
    "cell_id": "00004-31c44c47-bf9f-4b05-9c4b-c6a1980a208d",
    "deepnote_cell_type": "markdown"
   }
  },
  {
   "cell_type": "code",
   "metadata": {
    "colab": {
     "base_uri": "https://localhost:8080/"
    },
    "id": "_T9DhdD9vHo0",
    "outputId": "a26a8b4d-e477-4c7c-a54a-2c8ff1bf8344",
    "cell_id": "00005-6c61d59d-76f2-4e5c-8568-3e6e4638670a",
    "deepnote_to_be_reexecuted": false,
    "source_hash": "fa038d4",
    "execution_start": 1636915204852,
    "execution_millis": 434,
    "deepnote_cell_type": "code"
   },
   "source": "# Load dataset and set app name as index\n\napp = pd.read_csv(\"https://raw.githubusercontent.com/murpi/wilddata/master/quests/AppleStore_prep.csv\", \n                  index_col=False, sep='\\t', encoding='utf-8')\napp = app.set_index('track_name')\napp.info()",
   "execution_count": null,
   "outputs": [
    {
     "name": "stdout",
     "text": "<class 'pandas.core.frame.DataFrame'>\nIndex: 7197 entries, PAC-MAN Premium to Escape the Sweet Shop Series\nData columns (total 36 columns):\n #   Column                         Non-Null Count  Dtype  \n---  ------                         --------------  -----  \n 0   size_bytes                     7197 non-null   float64\n 1   price                          7197 non-null   float64\n 2   rating_count_tot               7197 non-null   float64\n 3   sup_devices.num                7197 non-null   float64\n 4   ipadSc_urls.num                7197 non-null   float64\n 5   lang.num                       7197 non-null   float64\n 6   vpp_lic                        7197 non-null   float64\n 7   currency_USD                   7197 non-null   int64  \n 8   cont_rating_12+                7197 non-null   int64  \n 9   cont_rating_17+                7197 non-null   int64  \n 10  cont_rating_4+                 7197 non-null   int64  \n 11  cont_rating_9+                 7197 non-null   int64  \n 12  prime_genre_Book               7197 non-null   int64  \n 13  prime_genre_Business           7197 non-null   int64  \n 14  prime_genre_Catalogs           7197 non-null   int64  \n 15  prime_genre_Education          7197 non-null   int64  \n 16  prime_genre_Entertainment      7197 non-null   int64  \n 17  prime_genre_Finance            7197 non-null   int64  \n 18  prime_genre_Food & Drink       7197 non-null   int64  \n 19  prime_genre_Games              7197 non-null   int64  \n 20  prime_genre_Health & Fitness   7197 non-null   int64  \n 21  prime_genre_Lifestyle          7197 non-null   int64  \n 22  prime_genre_Medical            7197 non-null   int64  \n 23  prime_genre_Music              7197 non-null   int64  \n 24  prime_genre_Navigation         7197 non-null   int64  \n 25  prime_genre_News               7197 non-null   int64  \n 26  prime_genre_Photo & Video      7197 non-null   int64  \n 27  prime_genre_Productivity       7197 non-null   int64  \n 28  prime_genre_Reference          7197 non-null   int64  \n 29  prime_genre_Shopping           7197 non-null   int64  \n 30  prime_genre_Social Networking  7197 non-null   int64  \n 31  prime_genre_Sports             7197 non-null   int64  \n 32  prime_genre_Travel             7197 non-null   int64  \n 33  prime_genre_Utilities          7197 non-null   int64  \n 34  prime_genre_Weather            7197 non-null   int64  \n 35  user_rating                    7197 non-null   float64\ndtypes: float64(8), int64(28)\nmemory usage: 2.0+ MB\n",
     "output_type": "stream"
    }
   ]
  },
  {
   "cell_type": "markdown",
   "source": "So **36 columns**, **one of which is the target variable**. We consider the **user rating as our target** and will try to set up a NN that predict the rating from the app characteristics including information on its price, genre, etc.\n\nLet's have a quick look at the target variable. Note that we that we have reduced the number of rating classes compared to the original version of the data on Kaggle (see app_store_dpp.py for details).  \n",
   "metadata": {
    "id": "ql36CaO7pRgQ",
    "cell_id": "00006-30caab83-2dfd-4d5d-bb83-57233bb1bbb6",
    "deepnote_cell_type": "markdown"
   }
  },
  {
   "cell_type": "code",
   "metadata": {
    "colab": {
     "base_uri": "https://localhost:8080/",
     "height": 338
    },
    "id": "M1xsGs-Iul2f",
    "outputId": "af34c029-d7a1-4885-deb6-db3a3edba9f8",
    "cell_id": "00007-5a4d5787-ca62-419d-aba1-50f9dbc8f2fa",
    "deepnote_to_be_reexecuted": false,
    "source_hash": "58c97889",
    "execution_start": 1636915205072,
    "execution_millis": 364,
    "deepnote_cell_type": "code"
   },
   "source": "# Inspect the target\nimport seaborn as sns\nsns.countplot(app.user_rating);",
   "execution_count": null,
   "outputs": [
    {
     "name": "stderr",
     "text": "/shared-libs/python3.7/py/lib/python3.7/site-packages/seaborn/_decorators.py:43: FutureWarning: Pass the following variable as a keyword arg: x. From version 0.12, the only valid positional argument will be `data`, and passing other arguments without an explicit keyword will result in an error or misinterpretation.\n  FutureWarning\n",
     "output_type": "stream"
    },
    {
     "data": {
      "text/plain": "<Figure size 432x288 with 1 Axes>",
      "image/png": "[encoded data removed]"
     },
     "metadata": {
      "needs_background": "light",
      "image/png": {
       "width": 395,
       "height": 263
      }
     },
     "output_type": "display_data"
    }
   ]
  },
  {
   "cell_type": "code",
   "metadata": {
    "colab": {
     "base_uri": "https://localhost:8080/"
    },
    "id": "-mjSj4z4y4yt",
    "outputId": "d218c485-e502-4711-e038-eadb1736c209",
    "cell_id": "00008-b299b4d4-0974-4b7a-ab62-f0b77da49521",
    "deepnote_to_be_reexecuted": false,
    "source_hash": "d4f1acf4",
    "execution_start": 1636915205447,
    "execution_millis": 8,
    "deepnote_cell_type": "code"
   },
   "source": "app[\"user_rating\"]",
   "execution_count": null,
   "outputs": [
    {
     "output_type": "execute_result",
     "execution_count": 4,
     "data": {
      "text/plain": "track_name\nPAC-MAN Premium                                       4.0\nEvernote - stay organized                             4.0\nWeatherBug - Local Weather, Radar, Maps, Alerts       4.0\neBay: Best App to Buy, Sell, Save! Online Shopping    4.0\nBible                                                 4.0\n                                                     ... \nKubik                                                 4.0\nVR Roller-Coaster                                     4.0\nBret Michaels Emojis + Lyric Keyboard                 4.0\nVR Roller Coaster World - Virtual Reality             4.0\nEscape the Sweet Shop Series                          5.0\nName: user_rating, Length: 7197, dtype: float64"
     },
     "metadata": {}
    }
   ]
  },
  {
   "cell_type": "code",
   "metadata": {
    "colab": {
     "base_uri": "https://localhost:8080/"
    },
    "id": "udtwVOb_uJGz",
    "outputId": "ff1472a5-afbe-4f13-ec93-2effa54ed56b",
    "cell_id": "00009-6ca787fa-7435-4c47-9cee-747475a92a44",
    "deepnote_to_be_reexecuted": false,
    "source_hash": "31323153",
    "execution_start": 1636915205457,
    "execution_millis": 10,
    "deepnote_cell_type": "code"
   },
   "source": "# Prepare the target variable\n# LabelEncoder() transforms a string vector to a num vector\nencoder = LabelEncoder()\n#fit label encoder\nencoder.fit(app[\"user_rating\"])\n#transform and return encoded labels\nencoder.transform(app[\"user_rating\"])\n\n#in this case it is not necessary, the labels are already numeric in appropriate range of 0...5\n",
   "execution_count": null,
   "outputs": [
    {
     "output_type": "execute_result",
     "execution_count": 5,
     "data": {
      "text/plain": "array([4, 4, 4, ..., 4, 4, 5])"
     },
     "metadata": {}
    }
   ]
  },
  {
   "cell_type": "code",
   "metadata": {
    "colab": {
     "base_uri": "https://localhost:8080/"
    },
    "id": "0gqhPUjryQBa",
    "outputId": "365b2026-c767-48b9-fa74-a6b967d35248",
    "cell_id": "00010-9b16f03d-1e0d-477c-b21c-1fde10211139",
    "output_cleared": true,
    "deepnote_to_be_reexecuted": false,
    "source_hash": "1eed6bad",
    "execution_start": 1636915205472,
    "execution_millis": 3,
    "deepnote_cell_type": "code"
   },
   "source": "#dummy_y = np_utils.to_categorical( encoder.transform(app[\"user_rating\"])).astype(int)\n#dummy_y",
   "execution_count": null,
   "outputs": []
  },
  {
   "cell_type": "code",
   "metadata": {
    "tags": [],
    "cell_id": "00009-422090a9-e966-4ab9-abf9-f5b17bcd2698",
    "deepnote_to_be_reexecuted": false,
    "source_hash": "3e91b535",
    "execution_start": 1636915205481,
    "execution_millis": 8,
    "deepnote_cell_type": "code"
   },
   "source": "# do the one_hot_encoding directly with the target data\ndummy_y = utils.to_categorical((app[\"user_rating\"])).astype(int)\ndummy_y",
   "execution_count": null,
   "outputs": [
    {
     "output_type": "execute_result",
     "execution_count": 7,
     "data": {
      "text/plain": "array([[0, 0, 0, 0, 1, 0],\n       [0, 0, 0, 0, 1, 0],\n       [0, 0, 0, 0, 1, 0],\n       ...,\n       [0, 0, 0, 0, 1, 0],\n       [0, 0, 0, 0, 1, 0],\n       [0, 0, 0, 0, 0, 1]])"
     },
     "metadata": {}
    }
   ]
  },
  {
   "cell_type": "code",
   "metadata": {
    "colab": {
     "base_uri": "https://localhost:8080/",
     "height": 335
    },
    "id": "nHgSuOd0uL-6",
    "outputId": "acdc6f04-6fd9-4f30-fae0-f6916715fa3e",
    "cell_id": "00011-aa9647ca-4446-43b0-b133-4772509b3854",
    "deepnote_to_be_reexecuted": false,
    "source_hash": "4ba0f743",
    "execution_start": 1636915205531,
    "execution_millis": 287,
    "deepnote_cell_type": "code"
   },
   "source": "plt.hist(dummy_y.argmax(axis=1))\nplt.xlabel('user_rating')\nplt.title('Rating distribution')\nplt.show();\n\n# Let's split our data set\n\n#Seed function is used to save the state of a random function, so that it can generate same random numbers on multiple executions of the code on the same machine or on different machines (for a specific seed value)\nseed=42\n\nX = app.iloc[:,:-1].values\ny = dummy_y\n\n# Keep in mind that this data set is already standardized, which leads to a leakage of information from train set to test set\n# When you are working with a dataset, make sure you standardize the variables in test set according to the parameters of the train set\nX_train, X_test, y_train, y_test = train_test_split(X, y, test_size=0.30, random_state=seed)\n    \nprint (X_train.shape)\nprint(y_train.shape) \n#X.head(5)",
   "execution_count": null,
   "outputs": [
    {
     "data": {
      "text/plain": "<Figure size 432x288 with 1 Axes>",
      "image/png": "[encoded data removed]"
     },
     "metadata": {
      "needs_background": "light",
      "image/png": {
       "width": 381,
       "height": 279
      }
     },
     "output_type": "display_data"
    },
    {
     "name": "stdout",
     "text": "(5037, 35)\n(5037, 6)\n",
     "output_type": "stream"
    }
   ]
  },
  {
   "cell_type": "markdown",
   "source": "### Preparing the Keras framework ###\n\nToday we will revise the architecture of our basic neural network and look more into the tuning of hyperparameters.\n\n",
   "metadata": {
    "id": "RPbvIyftkUX4",
    "cell_id": "00012-1efb79bc-6ad8-4750-b065-ebdcb636b60f",
    "deepnote_cell_type": "markdown"
   }
  },
  {
   "cell_type": "code",
   "metadata": {
    "id": "5apgYIjmpbWd",
    "cell_id": "00013-3383d6e0-ed64-4b1b-8ca0-88b39886f848",
    "deepnote_to_be_reexecuted": false,
    "source_hash": "783a218",
    "execution_start": 1636915205859,
    "execution_millis": 1,
    "deepnote_cell_type": "code"
   },
   "source": "nb_units = 128\n# And finally the outout layer\nnb_classes = y.shape[1]",
   "execution_count": null,
   "outputs": []
  },
  {
   "cell_type": "code",
   "metadata": {
    "id": "yNasuGt_kUYJ",
    "colab": {
     "base_uri": "https://localhost:8080/"
    },
    "outputId": "08ba1320-7c33-434e-fc35-b722240afd39",
    "cell_id": "00014-d343a213-d0c5-4a27-9a13-4ce11f0a19ee",
    "deepnote_to_be_reexecuted": false,
    "source_hash": "2d4a790b",
    "execution_start": 1636915205860,
    "execution_millis": 51,
    "deepnote_cell_type": "code"
   },
   "source": "# Import Keras\nfrom tensorflow import keras\nfrom tensorflow.keras.models import Sequential\nfrom tensorflow.keras.layers import Dense, Dropout\nfrom tensorflow.keras.optimizers import SGD, Adamax\n\n\nmodel = Sequential()\nmodel.add(Dense(nb_units, activation='relu',bias_initializer='zeros',kernel_initializer=keras.initializers.he_normal(seed=seed), input_shape=(X.shape[1],)))\n#model.add(Dropout(0.1))\nmodel.add(Dense(nb_units, activation='relu',bias_initializer='zeros',kernel_initializer=keras.initializers.he_normal(seed=seed)))\n#model.add(Dropout(0.1))\nmodel.add(Dense(nb_classes, activation='softmax'))\n\nmodel.summary()\n",
   "execution_count": null,
   "outputs": [
    {
     "name": "stdout",
     "text": "Model: \"sequential\"\n_________________________________________________________________\nLayer (type)                 Output Shape              Param #   \n=================================================================\ndense (Dense)                (None, 128)               4608      \n_________________________________________________________________\ndense_1 (Dense)              (None, 128)               16512     \n_________________________________________________________________\ndense_2 (Dense)              (None, 6)                 774       \n=================================================================\nTotal params: 21,894\nTrainable params: 21,894\nNon-trainable params: 0\n_________________________________________________________________\n",
     "output_type": "stream"
    }
   ]
  },
  {
   "cell_type": "code",
   "metadata": {
    "id": "yNasuGt_kUYJ",
    "colab": {
     "base_uri": "https://localhost:8080/"
    },
    "outputId": "08ba1320-7c33-434e-fc35-b722240afd39",
    "cell_id": "00015-0f0cdfea-be40-4f0f-8fcc-0ef7323524fe",
    "deepnote_to_be_reexecuted": false,
    "source_hash": "3862b5f3",
    "allow_embed": false,
    "execution_start": 1636915205913,
    "execution_millis": 7501,
    "deepnote_cell_type": "code"
   },
   "source": "\nbatch_size = 56 #1 for online SGD\n\n# example: start trining the model up until 30 epochs and plot the training loss values and validation loss values against number of epochs.\nepochs = 30\n\n\nmodel.compile(loss='categorical_crossentropy', optimizer=SGD(lr=0.01), metrics=['accuracy'])\n# Fit the model\nstory = model.fit(X_train, y_train, #name model differently\n                    batch_size=batch_size,\n                    epochs=epochs,\n                    verbose=0,\n                    validation_data=(X_test, y_test))\n                    #validation_split=0.33)#validation_data=(X_test, y_test)\n",
   "execution_count": null,
   "outputs": []
  },
  {
   "cell_type": "code",
   "metadata": {
    "id": "mXIb7e7trdMZ",
    "cell_id": "00015-2e320281-57c6-442d-924e-eca9f105d6c0",
    "deepnote_to_be_reexecuted": false,
    "source_hash": "80d1d862",
    "execution_start": 1636915213424,
    "execution_millis": 9,
    "deepnote_cell_type": "code"
   },
   "source": "def show_history(story):\n    fig, (ax1, ax2) = plt.subplots(1, 2)\n    fig.set_size_inches(18.5, 10.5)\n    ax1.plot(story.history['accuracy'])\n    ax1.plot(story.history['val_accuracy'])\n    ax1.set(xlabel='epoch', ylabel='accuracy')\n    ax1.legend(['train_accuracy', 'test_accuracy'], loc='best')\n    ax1.set_title('Accuracy evolution during NN training')\n    \n    ax2.plot(story.history['loss'])\n    ax2.plot(story.history['val_loss'])\n    ax2.set(xlabel='epoch', ylabel='loss')\n    ax2.legend(['train_loss', 'test_loss'], loc='best')\n    ax2.set_title('Loss evolution during NN training')\n    plt.show()\n",
   "execution_count": null,
   "outputs": []
  },
  {
   "cell_type": "code",
   "metadata": {
    "id": "BSgAMh3irg0j",
    "cell_id": "00016-443ef991-7f32-481e-ba24-27fe83cfd434",
    "deepnote_to_be_reexecuted": false,
    "source_hash": "7e8bec16",
    "execution_start": 1636915213437,
    "execution_millis": 134,
    "deepnote_cell_type": "code"
   },
   "source": "score = model.evaluate(X_test, y_test, verbose=0)",
   "execution_count": null,
   "outputs": []
  },
  {
   "cell_type": "code",
   "metadata": {
    "colab": {
     "base_uri": "https://localhost:8080/",
     "height": 687
    },
    "id": "eEi8cZ9okUYJ",
    "outputId": "f3f4d79e-bd6c-462c-acdb-f2b00bdb5326",
    "cell_id": "00017-6cfe04a6-c85e-4759-a31b-975a80fc880d",
    "deepnote_to_be_reexecuted": false,
    "source_hash": "42ec3e9a",
    "execution_start": 1636915213621,
    "execution_millis": 664,
    "deepnote_cell_type": "code"
   },
   "source": "print('Test loss:', score[0])\nprint('Test accuracy:', score[1])\nshow_history(story)",
   "execution_count": null,
   "outputs": [
    {
     "name": "stdout",
     "text": "Test loss: 0.9601420164108276\nTest accuracy: 0.710185170173645\n",
     "output_type": "stream"
    },
    {
     "data": {
      "text/plain": "<Figure size 1332x756 with 2 Axes>",
      "image/png": "[encoded data removed]"
     },
     "metadata": {
      "needs_background": "light",
      "image/png": {
       "width": 1089,
       "height": 632
      }
     },
     "output_type": "display_data"
    }
   ]
  },
  {
   "cell_type": "markdown",
   "source": "# Part 1: Hyperparameter optimization with Keras\n\n\n\n",
   "metadata": {
    "id": "dF8LJRKGHI9X",
    "cell_id": "00018-d02e2e77-9613-41ff-8226-8a02387f2fe1",
    "deepnote_cell_type": "markdown"
   }
  },
  {
   "cell_type": "markdown",
   "source": "We will start with the old-fashioned way with Scikit Learn and will first show you an example of how to use GridSearch with two groups of hyperparameters: batches/epochs and optimizer algorithms. ",
   "metadata": {
    "id": "b_9zHdu2s7SY",
    "cell_id": "00019-876399a2-ad3a-417d-a978-4dd18fe1390d",
    "deepnote_cell_type": "markdown"
   }
  },
  {
   "cell_type": "code",
   "metadata": {
    "id": "WP2VLXgBHBIv",
    "cell_id": "00020-c846ea8b-6cfb-42ea-a867-f33cc424955c",
    "deepnote_to_be_reexecuted": false,
    "source_hash": "c5005b3a",
    "execution_start": 1636915214240,
    "execution_millis": 6,
    "deepnote_cell_type": "code"
   },
   "source": "#import keras\nimport pandas as pd\nimport numpy as np\nfrom sklearn.model_selection import GridSearchCV\n\nfrom tensorflow.keras.models import Sequential\nfrom tensorflow.keras.layers import Dense, Dropout\nfrom tensorflow.keras.wrappers.scikit_learn import KerasClassifier\nfrom tensorflow.keras import optimizers",
   "execution_count": null,
   "outputs": []
  },
  {
   "cell_type": "markdown",
   "source": "",
   "metadata": {
    "id": "H2G3hGbsJlJL",
    "cell_id": "00021-ca93d52c-746a-4402-9d99-bf06f80d7aa6",
    "deepnote_cell_type": "markdown"
   }
  },
  {
   "cell_type": "code",
   "metadata": {
    "id": "tAobOLKBIQAo",
    "cell_id": "00022-22c16845-c372-4192-a083-475bfa36291c",
    "deepnote_to_be_reexecuted": false,
    "source_hash": "f8b52cf3",
    "execution_start": 1636915214258,
    "execution_millis": 8,
    "deepnote_cell_type": "code"
   },
   "source": "#We will use the architecture we had before and wrap it into the function called 'network ' (or whatever you want to call it)\n\ndef network():\n    \n    model = Sequential()\n    model.add(Dense(128, activation='relu',bias_initializer='zeros',kernel_initializer=keras.initializers.he_normal(seed=seed),  input_shape=(X.shape[1],)))\n    model.add(Dense(128, activation='relu',bias_initializer='zeros',kernel_initializer=keras.initializers.he_normal(seed=seed)))\n    model.add(Dense(6, activation='softmax',kernel_initializer=keras.initializers.he_normal(seed=seed)))\n    \n    model.compile(optimizer=optimizers.SGD(learning_rate=0.01), loss='categorical_crossentropy', metrics=['accuracy']) #nothing changes here\n\n    return model\n\n# Now we will plug it into Keras Classifier Wrapper \nmodel = KerasClassifier(build_fn=network, verbose=0)",
   "execution_count": null,
   "outputs": []
  },
  {
   "cell_type": "code",
   "metadata": {
    "id": "TS2OR5Y7JSQ_",
    "cell_id": "00023-355a4842-3433-4d50-910c-b7375bb606cd",
    "deepnote_to_be_reexecuted": false,
    "source_hash": "c020ad55",
    "execution_start": 1636915214273,
    "execution_millis": 4,
    "deepnote_cell_type": "code"
   },
   "source": "# Let's define the grid search parameters\nbatchsize = [32, 64, 128, 256, 512]\nepochs = [10,30,60,70]",
   "execution_count": null,
   "outputs": []
  },
  {
   "cell_type": "code",
   "metadata": {
    "colab": {
     "base_uri": "https://localhost:8080/"
    },
    "id": "PMUT_gWNJ0I4",
    "outputId": "4fc01297-4e11-4184-f118-9b364227124f",
    "cell_id": "00024-a7562fb8-98ff-46e9-bb8c-c5a98eaf8475",
    "deepnote_to_be_reexecuted": false,
    "source_hash": "cc48469b",
    "execution_start": 1636915214323,
    "execution_millis": 203,
    "deepnote_cell_type": "code"
   },
   "source": "#Set the grid\nparam_grid = dict(batch_size=batchsize, epochs=epochs)# setting a dictionary to store the results\nparam_grid ",
   "execution_count": null,
   "outputs": [
    {
     "output_type": "execute_result",
     "execution_count": 18,
     "data": {
      "text/plain": "{'batch_size': [32, 64, 128, 256, 512], 'epochs': [10, 30, 60, 70]}"
     },
     "metadata": {}
    }
   ]
  },
  {
   "cell_type": "code",
   "metadata": {
    "colab": {
     "base_uri": "https://localhost:8080/"
    },
    "id": "FXythoaQJ6De",
    "outputId": "51c2a73b-52fc-40aa-8add-4378e6abd609",
    "cell_id": "00025-6bd4dcab-4906-4a07-9642-725aced3e1bf",
    "deepnote_to_be_reexecuted": false,
    "source_hash": "5e0ee3fe",
    "execution_start": 1636915214324,
    "execution_millis": 252276,
    "deepnote_cell_type": "code"
   },
   "source": "grid = GridSearchCV(estimator=model, param_grid=param_grid, n_jobs=-1,cv=3) #parallelization, here using all processors\nresults = grid.fit(X_train, y_train) #remember that we don't want to use the test set in CV\nprint(\"Best: %f using %s\" % (results.best_score_, results.best_params_))",
   "execution_count": null,
   "outputs": [
    {
     "name": "stdout",
     "text": "Best: 0.712130 using {'batch_size': 32, 'epochs': 60}\n",
     "output_type": "stream"
    }
   ]
  },
  {
   "cell_type": "code",
   "metadata": {
    "colab": {
     "base_uri": "https://localhost:8080/"
    },
    "id": "GO9mlGfkJ534",
    "outputId": "c6c35669-9d43-4a80-cd97-d63311dab7f4",
    "cell_id": "00026-b3b728f5-062e-4a48-9de2-03d7e89bbd63",
    "deepnote_to_be_reexecuted": false,
    "source_hash": "bd781575",
    "execution_start": 1636915466721,
    "execution_millis": 215742,
    "deepnote_cell_type": "code"
   },
   "source": "#Let's now take this knowledge and apply it to our optimizers tuning\n\ndef optim_opt (optimizer='SGD'):\n    model = Sequential()\n    model.add(Dense(128, activation='relu',bias_initializer='zeros',kernel_initializer=keras.initializers.he_normal(seed=seed),  input_shape=(X.shape[1],)))\n  \n    model.add(Dense(128, activation='relu',bias_initializer='zeros',kernel_initializer=keras.initializers.he_normal(seed=seed)))\n \n    model.add(Dense(6, activation='softmax',kernel_initializer=keras.initializers.he_normal(seed=seed)))\n    \n    model.compile(optimizer=optimizer, loss='categorical_crossentropy', metrics=['accuracy']) \n    \n    return model\n\n#model = KerasClassifier(build_fn=optim, epochs=30, batch_size=64, verbose=0)\nmodel = KerasClassifier(build_fn=optim_opt, epochs=60, batch_size=32, verbose=0)\n# define the grid search parameters\noptimizers = ['SGD', 'RMSprop', 'Adagrad', 'Adadelta', 'Adam', 'Adamax', 'Nadam']\nparam_grid = dict(optimizer=optimizers) # setting a dictionary to store the results\ngrid = GridSearchCV(estimator=model, param_grid=param_grid, n_jobs=-1, cv=3)\nresults = grid.fit(X_train, y_train)\n\n# Our results (remember these are the results on the hold-out data)\nprint(\"Best: %f using %s\" % (results.best_score_, results.best_params_))",
   "execution_count": null,
   "outputs": [
    {
     "name": "stdout",
     "text": "Best: 0.710542 using {'optimizer': 'SGD'}\n",
     "output_type": "stream"
    }
   ]
  },
  {
   "cell_type": "markdown",
   "source": "Now continue using Grid Search to tune the Learning Rate and Momentum:",
   "metadata": {
    "id": "8r1N0u9csthl",
    "cell_id": "00027-881d10b6-af58-4e4d-a104-6811edf65d44",
    "deepnote_cell_type": "markdown"
   }
  },
  {
   "cell_type": "code",
   "metadata": {
    "id": "4s3A7r_8tSY2",
    "cell_id": "00028-ee50eaa9-9139-4aa7-adcd-08c9ebcfdd3e",
    "deepnote_to_be_reexecuted": false,
    "source_hash": "6b8d3722",
    "execution_start": 1636916429323,
    "execution_millis": 515489,
    "deepnote_cell_type": "code"
   },
   "source": "def optim_opt (learning_rate=0.01, momentum=0):\n    model = Sequential()\n    model.add(Dense(128, activation='relu',bias_initializer='zeros',kernel_initializer=keras.initializers.he_normal(seed=seed),  input_shape=(X.shape[1],)))\n  \n    model.add(Dense(128, activation='relu',bias_initializer='zeros',kernel_initializer=keras.initializers.he_normal(seed=seed)))\n \n    model.add(Dense(6, activation='softmax',kernel_initializer=keras.initializers.he_normal(seed=seed)))\n    optimizer = SGD(learning_rate=learning_rate, momentum=momentum)\n    model.compile(optimizer=optimizer, loss='categorical_crossentropy', metrics=['accuracy']) \n    \n    return model\n\nmodel = KerasClassifier(build_fn=optim_opt, epochs=60, batch_size=32, verbose=0)\n# define the grid search parameters\nlearning_rate = [0.1, 0.01, 0.001, 0.0001]\nmomentum = [0.0, 0.1, 0.2, 0.4, 0.8]\nparam_grid = dict(learning_rate=learning_rate, momentum=momentum) # setting a dictionary to store the results\ngrid = GridSearchCV(estimator=model, param_grid=param_grid, n_jobs=-1, cv=3)\nresults = grid.fit(X_train, y_train)\n\n# Our results (remember these are the results on the hold-out data)\nprint(\"Best: %f using %s\" % (results.best_score_, results.best_params_))",
   "execution_count": null,
   "outputs": [
    {
     "name": "stdout",
     "text": "Best: 0.709549 using {'learning_rate': 0.01, 'momentum': 0.4}\n",
     "output_type": "stream"
    }
   ]
  },
  {
   "cell_type": "markdown",
   "source": "Use Grid Search to tune the Network Weight Initialization:",
   "metadata": {
    "id": "M6c5zdwjtTUZ",
    "cell_id": "00029-17e9e890-8340-4d4d-834d-3cc6f03df835",
    "deepnote_cell_type": "markdown"
   }
  },
  {
   "cell_type": "code",
   "metadata": {
    "id": "4s3A7r_8tSY2",
    "cell_id": "00030-8b26791b-f95c-4e33-93dd-cf07a7135b0e",
    "deepnote_to_be_reexecuted": false,
    "source_hash": "28eb8ec1",
    "allow_embed": false,
    "execution_start": 1636917570364,
    "execution_millis": 213024,
    "deepnote_cell_type": "code"
   },
   "source": "def optim_init (init_mode='zero'):\n    model = Sequential()\n    model.add(Dense(128, activation='relu',bias_initializer='zeros',kernel_initializer=init_mode,  input_shape=(X.shape[1],)))\n  \n    model.add(Dense(128, activation='relu',bias_initializer='zeros',kernel_initializer=init_mode))\n \n    model.add(Dense(6, activation='softmax',kernel_initializer=init_mode,))\n    optimizer = SGD(learning_rate=0.01, momentum=0.4)\n    model.compile(optimizer=optimizer, loss='categorical_crossentropy', metrics=['accuracy']) \n    \n    return model\n\nmodel = KerasClassifier(build_fn=optim_init, epochs=60, batch_size=32, verbose=0)\n# define the grid search parameters\ninit_mode = ['uniform', 'lecun_uniform', 'normal', 'zero', 'glorot_normal', 'glorot_uniform', 'he_normal', 'he_uniform']\nparam_grid = dict(init_mode=init_mode)\ngrid = GridSearchCV(estimator=model, param_grid=param_grid, n_jobs=-1, cv=3)\nresults = grid.fit(X_train, y_train)\n\n# Our results (remember these are the results on the hold-out data)\nprint(\"Best: %f using %s\" % (results.best_score_, results.best_params_))",
   "execution_count": null,
   "outputs": [
    {
     "name": "stdout",
     "text": "Best: 0.712527 using {'init_mode': 'normal'}\n",
     "output_type": "stream"
    }
   ]
  },
  {
   "cell_type": "markdown",
   "source": "Use Grid Search to tune the Neuron Activation Function\n",
   "metadata": {
    "id": "3uN20jRXtY22",
    "cell_id": "00031-038b188c-9901-41e4-a4a0-346259402b60",
    "deepnote_cell_type": "markdown"
   }
  },
  {
   "cell_type": "code",
   "metadata": {
    "id": "4s3A7r_8tSY2",
    "cell_id": "00032-8d8c7022-2212-4d0a-8bb5-c1ef69d7a83f",
    "deepnote_to_be_reexecuted": false,
    "source_hash": "ae0678aa",
    "allow_embed": false,
    "execution_start": 1636918596726,
    "execution_millis": 234078,
    "deepnote_cell_type": "code"
   },
   "source": "def optim_act (activation='relu'):\n    model = Sequential()\n    model.add(Dense(128, activation=activation, bias_initializer='zeros',kernel_initializer='normal',  input_shape=(X.shape[1],)))\n  \n    model.add(Dense(128, activation=activation,bias_initializer='zeros',kernel_initializer='normal'))\n \n    model.add(Dense(6, activation='softmax',kernel_initializer='normal',))\n    optimizer = SGD(learning_rate=0.01, momentum=0.4)\n    model.compile(optimizer=optimizer, loss='categorical_crossentropy', metrics=['accuracy']) \n    \n    return model\n\nmodel = KerasClassifier(build_fn=optim_act, epochs=60, batch_size=32, verbose=0)\n# define the grid search parameters\nactivation = ['softmax', 'softplus', 'softsign', 'relu', 'tanh', 'sigmoid', 'hard_sigmoid', 'linear']\nparam_grid = dict(activation=activation)\ngrid = GridSearchCV(estimator=model, param_grid=param_grid, n_jobs=-1, cv=3)\nresults = grid.fit(X_train, y_train)\n\n# Our results (remember these are the results on the hold-out data)\nprint(\"Best: %f using %s\" % (results.best_score_, results.best_params_))",
   "execution_count": null,
   "outputs": [
    {
     "name": "stdout",
     "text": "Best: 0.711535 using {'activation': 'relu'}\n",
     "output_type": "stream"
    }
   ]
  },
  {
   "cell_type": "markdown",
   "source": "Use Grid Search to tune Dropout Regularization",
   "metadata": {
    "id": "llyr5gextgZa",
    "cell_id": "00033-a8988121-d9c1-4062-8893-4b13b3348e82",
    "deepnote_cell_type": "markdown"
   }
  },
  {
   "cell_type": "code",
   "metadata": {
    "id": "4s3A7r_8tSY2",
    "cell_id": "00034-4f33ba98-51c7-45da-9afb-a062eda09d02",
    "deepnote_to_be_reexecuted": false,
    "source_hash": "63e30384",
    "allow_embed": false,
    "execution_start": 1636919220157,
    "execution_millis": 307955,
    "deepnote_cell_type": "code"
   },
   "source": "def optim_drop (dropout_rate=0.0):\n    model = Sequential()\n    model.add(Dense(128, activation='relu', bias_initializer='zeros',kernel_initializer='normal',  input_shape=(X.shape[1],)))\n    model.add(Dropout(dropout_rate))\n    model.add(Dense(128, activation='relu',bias_initializer='zeros',kernel_initializer='normal'))\n    model.add(Dropout(dropout_rate))\n    model.add(Dense(6, activation='softmax',kernel_initializer='normal',))\n    optimizer = SGD(learning_rate=0.01, momentum=0.4)\n    model.compile(optimizer=optimizer, loss='categorical_crossentropy', metrics=['accuracy']) \n    \n    return model\n\nmodel = KerasClassifier(build_fn=optim_drop, epochs=60, batch_size=32, verbose=0)\n# define the grid search parameters\ndropout_rate = [0.0, 0.1, 0.2, 0.3, 0.4, 0.5, 0.6, 0.7, 0.8, 0.9]\nparam_grid = dict(dropout_rate=dropout_rate)\ngrid = GridSearchCV(estimator=model, param_grid=param_grid, n_jobs=-1, cv=3)\nresults = grid.fit(X_train, y_train)\n\n# Our results (remember these are the results on the hold-out data)\nprint(\"Best: %f using %s\" % (results.best_score_, results.best_params_))",
   "execution_count": null,
   "outputs": [
    {
     "name": "stdout",
     "text": "Best: 0.710145 using {'dropout_rate': 0.0}\n",
     "output_type": "stream"
    }
   ]
  },
  {
   "cell_type": "markdown",
   "source": "Use Grid Search to tune the Number of Neurons in the Hidden Layer",
   "metadata": {
    "id": "bNmvCdsAtkld",
    "cell_id": "00035-7be2de14-cf5e-46d8-a57a-afc88ec9001c",
    "deepnote_cell_type": "markdown"
   }
  },
  {
   "cell_type": "code",
   "metadata": {
    "id": "4s3A7r_8tSY2",
    "cell_id": "00036-09ee7cb3-7c3f-41ef-bd64-20cc485addc3",
    "deepnote_to_be_reexecuted": false,
    "source_hash": "edc2f5b5",
    "allow_embed": false,
    "execution_start": 1636920026826,
    "execution_millis": 210505,
    "deepnote_cell_type": "code"
   },
   "source": "def optim_nodes(nodes=128):\n    model = Sequential()\n    model.add(Dense(nodes, activation='relu', bias_initializer='zeros',kernel_initializer='normal',  input_shape=(X.shape[1],)))\n    model.add(Dropout(0.0))\n    model.add(Dense(nodes, activation='relu',bias_initializer='zeros',kernel_initializer='normal'))\n    model.add(Dropout(0.0))\n    model.add(Dense(6, activation='softmax',kernel_initializer='normal',))\n    optimizer = SGD(learning_rate=0.01, momentum=0.4)\n    model.compile(optimizer=optimizer, loss='categorical_crossentropy', metrics=['accuracy']) \n    \n    return model\n\nmodel = KerasClassifier(build_fn=optim_nodes, epochs=60, batch_size=32, verbose=0)\n# define the grid search parameters\nnodes = [16, 32, 35, 64,128,256]\nparam_grid = dict(nodes=nodes)\ngrid = GridSearchCV(estimator=model, param_grid=param_grid, n_jobs=-1, cv=3)\nresults = grid.fit(X_train, y_train)\n\n# Our results (remember these are the results on the hold-out data)\nprint(\"Best: %f using %s\" % (results.best_score_, results.best_params_))",
   "execution_count": null,
   "outputs": [
    {
     "name": "stdout",
     "text": "Best: 0.711932 using {'nodes': 256}\n",
     "output_type": "stream"
    }
   ]
  },
  {
   "cell_type": "markdown",
   "source": "# Part 2:  Keras Tuner",
   "metadata": {
    "id": "wtR-pZ8Wtsq-",
    "cell_id": "00037-5669c475-fdb3-4ab0-9aac-a6bff8ca354f",
    "deepnote_cell_type": "markdown"
   }
  },
  {
   "cell_type": "code",
   "metadata": {
    "id": "ZCGhRmt6uMzc",
    "cell_id": "00038-9012c7bc-23f6-434b-8201-2ecb1192bd30",
    "deepnote_to_be_reexecuted": false,
    "source_hash": "cf52882c",
    "execution_start": 1636920395170,
    "execution_millis": 7790,
    "deepnote_cell_type": "code"
   },
   "source": "pip install -U keras-tuner\n",
   "execution_count": null,
   "outputs": [
    {
     "name": "stdout",
     "text": "Collecting keras-tuner\n  Downloading keras_tuner-1.1.0-py3-none-any.whl (98 kB)\n\u001b[K     |████████████████████████████████| 98 kB 10.2 MB/s \n\u001b[?25hRequirement already satisfied, skipping upgrade: packaging in /shared-libs/python3.7/py-core/lib/python3.7/site-packages (from keras-tuner) (21.2)\nRequirement already satisfied, skipping upgrade: scipy in /shared-libs/python3.7/py/lib/python3.7/site-packages (from keras-tuner) (1.7.2)\nRequirement already satisfied, skipping upgrade: numpy in /shared-libs/python3.7/py/lib/python3.7/site-packages (from keras-tuner) (1.19.5)\nRequirement already satisfied, skipping upgrade: ipython in /shared-libs/python3.7/py-core/lib/python3.7/site-packages (from keras-tuner) (7.29.0)\nCollecting kt-legacy\n  Downloading kt_legacy-1.0.4-py3-none-any.whl (9.6 kB)\nRequirement already satisfied, skipping upgrade: tensorboard in /shared-libs/python3.7/py/lib/python3.7/site-packages (from keras-tuner) (2.7.0)\nRequirement already satisfied, skipping upgrade: requests in /shared-libs/python3.7/py/lib/python3.7/site-packages (from keras-tuner) (2.26.0)\nRequirement already satisfied, skipping upgrade: pyparsing<3,>=2.0.2 in /shared-libs/python3.7/py-core/lib/python3.7/site-packages (from packaging->keras-tuner) (2.4.7)\nRequirement already satisfied, skipping upgrade: decorator in /shared-libs/python3.7/py-core/lib/python3.7/site-packages (from ipython->keras-tuner) (5.1.0)\nRequirement already satisfied, skipping upgrade: pexpect>4.3; sys_platform != \"win32\" in /shared-libs/python3.7/py-core/lib/python3.7/site-packages (from ipython->keras-tuner) (4.8.0)\nRequirement already satisfied, skipping upgrade: matplotlib-inline in /shared-libs/python3.7/py-core/lib/python3.7/site-packages (from ipython->keras-tuner) (0.1.3)\nRequirement already satisfied, skipping upgrade: setuptools>=18.5 in /root/venv/lib/python3.7/site-packages (from ipython->keras-tuner) (47.1.0)\nRequirement already satisfied, skipping upgrade: prompt-toolkit!=3.0.0,!=3.0.1,<3.1.0,>=2.0.0 in /shared-libs/python3.7/py-core/lib/python3.7/site-packages (from ipython->keras-tuner) (3.0.22)\nRequirement already satisfied, skipping upgrade: pygments in /shared-libs/python3.7/py-core/lib/python3.7/site-packages (from ipython->keras-tuner) (2.10.0)\nRequirement already satisfied, skipping upgrade: traitlets>=4.2 in /shared-libs/python3.7/py-core/lib/python3.7/site-packages (from ipython->keras-tuner) (4.3.3)\nRequirement already satisfied, skipping upgrade: pickleshare in /shared-libs/python3.7/py-core/lib/python3.7/site-packages (from ipython->keras-tuner) (0.7.5)\nRequirement already satisfied, skipping upgrade: backcall in /shared-libs/python3.7/py-core/lib/python3.7/site-packages (from ipython->keras-tuner) (0.2.0)\nRequirement already satisfied, skipping upgrade: jedi>=0.16 in /shared-libs/python3.7/py-core/lib/python3.7/site-packages (from ipython->keras-tuner) (0.17.2)\nRequirement already satisfied, skipping upgrade: google-auth<3,>=1.6.3 in /shared-libs/python3.7/py/lib/python3.7/site-packages (from tensorboard->keras-tuner) (1.35.0)\nRequirement already satisfied, skipping upgrade: werkzeug>=0.11.15 in /shared-libs/python3.7/py/lib/python3.7/site-packages (from tensorboard->keras-tuner) (2.0.2)\nRequirement already satisfied, skipping upgrade: google-auth-oauthlib<0.5,>=0.4.1 in /shared-libs/python3.7/py/lib/python3.7/site-packages (from tensorboard->keras-tuner) (0.4.6)\nRequirement already satisfied, skipping upgrade: markdown>=2.6.8 in /shared-libs/python3.7/py/lib/python3.7/site-packages (from tensorboard->keras-tuner) (3.3.4)\nRequirement already satisfied, skipping upgrade: wheel>=0.26 in /usr/local/lib/python3.7/site-packages (from tensorboard->keras-tuner) (0.37.0)\nRequirement already satisfied, skipping upgrade: protobuf>=3.6.0 in /shared-libs/python3.7/py/lib/python3.7/site-packages (from tensorboard->keras-tuner) (3.19.1)\nRequirement already satisfied, skipping upgrade: absl-py>=0.4 in /shared-libs/python3.7/py/lib/python3.7/site-packages (from tensorboard->keras-tuner) (0.15.0)\nRequirement already satisfied, skipping upgrade: grpcio>=1.24.3 in /shared-libs/python3.7/py/lib/python3.7/site-packages (from tensorboard->keras-tuner) (1.32.0)\nRequirement already satisfied, skipping upgrade: tensorboard-plugin-wit>=1.6.0 in /shared-libs/python3.7/py/lib/python3.7/site-packages (from tensorboard->keras-tuner) (1.8.0)\nRequirement already satisfied, skipping upgrade: tensorboard-data-server<0.7.0,>=0.6.0 in /shared-libs/python3.7/py/lib/python3.7/site-packages (from tensorboard->keras-tuner) (0.6.1)\nRequirement already satisfied, skipping upgrade: urllib3<1.27,>=1.21.1 in /shared-libs/python3.7/py/lib/python3.7/site-packages (from requests->keras-tuner) (1.26.7)\nRequirement already satisfied, skipping upgrade: certifi>=2017.4.17 in /shared-libs/python3.7/py/lib/python3.7/site-packages (from requests->keras-tuner) (2021.10.8)\nRequirement already satisfied, skipping upgrade: charset-normalizer~=2.0.0; python_version >= \"3\" in /shared-libs/python3.7/py-core/lib/python3.7/site-packages (from requests->keras-tuner) (2.0.7)\nRequirement already satisfied, skipping upgrade: idna<4,>=2.5; python_version >= \"3\" in /shared-libs/python3.7/py-core/lib/python3.7/site-packages (from requests->keras-tuner) (3.3)\nRequirement already satisfied, skipping upgrade: ptyprocess>=0.5 in /shared-libs/python3.7/py-core/lib/python3.7/site-packages (from pexpect>4.3; sys_platform != \"win32\"->ipython->keras-tuner) (0.7.0)\nRequirement already satisfied, skipping upgrade: wcwidth in /shared-libs/python3.7/py-core/lib/python3.7/site-packages (from prompt-toolkit!=3.0.0,!=3.0.1,<3.1.0,>=2.0.0->ipython->keras-tuner) (0.2.5)\nRequirement already satisfied, skipping upgrade: six in /shared-libs/python3.7/py-core/lib/python3.7/site-packages (from traitlets>=4.2->ipython->keras-tuner) (1.16.0)\nRequirement already satisfied, skipping upgrade: ipython-genutils in /shared-libs/python3.7/py-core/lib/python3.7/site-packages (from traitlets>=4.2->ipython->keras-tuner) (0.2.0)\nRequirement already satisfied, skipping upgrade: parso<0.8.0,>=0.7.0 in /shared-libs/python3.7/py-core/lib/python3.7/site-packages (from jedi>=0.16->ipython->keras-tuner) (0.7.1)\nRequirement already satisfied, skipping upgrade: cachetools<5.0,>=2.0.0 in /shared-libs/python3.7/py/lib/python3.7/site-packages (from google-auth<3,>=1.6.3->tensorboard->keras-tuner) (4.2.4)\nRequirement already satisfied, skipping upgrade: rsa<5,>=3.1.4; python_version >= \"3.6\" in /shared-libs/python3.7/py/lib/python3.7/site-packages (from google-auth<3,>=1.6.3->tensorboard->keras-tuner) (4.7.2)\nRequirement already satisfied, skipping upgrade: pyasn1-modules>=0.2.1 in /shared-libs/python3.7/py/lib/python3.7/site-packages (from google-auth<3,>=1.6.3->tensorboard->keras-tuner) (0.2.8)\nRequirement already satisfied, skipping upgrade: requests-oauthlib>=0.7.0 in /shared-libs/python3.7/py/lib/python3.7/site-packages (from google-auth-oauthlib<0.5,>=0.4.1->tensorboard->keras-tuner) (1.3.0)\nRequirement already satisfied, skipping upgrade: importlib-metadata; python_version < \"3.8\" in /shared-libs/python3.7/py-core/lib/python3.7/site-packages (from markdown>=2.6.8->tensorboard->keras-tuner) (4.8.2)\nRequirement already satisfied, skipping upgrade: pyasn1>=0.1.3 in /shared-libs/python3.7/py/lib/python3.7/site-packages (from rsa<5,>=3.1.4; python_version >= \"3.6\"->google-auth<3,>=1.6.3->tensorboard->keras-tuner) (0.4.8)\nRequirement already satisfied, skipping upgrade: oauthlib>=3.0.0 in /shared-libs/python3.7/py/lib/python3.7/site-packages (from requests-oauthlib>=0.7.0->google-auth-oauthlib<0.5,>=0.4.1->tensorboard->keras-tuner) (3.1.1)\nRequirement already satisfied, skipping upgrade: typing-extensions>=3.6.4; python_version < \"3.8\" in /shared-libs/python3.7/py-core/lib/python3.7/site-packages (from importlib-metadata; python_version < \"3.8\"->markdown>=2.6.8->tensorboard->keras-tuner) (3.10.0.2)\nRequirement already satisfied, skipping upgrade: zipp>=0.5 in /shared-libs/python3.7/py-core/lib/python3.7/site-packages (from importlib-metadata; python_version < \"3.8\"->markdown>=2.6.8->tensorboard->keras-tuner) (3.6.0)\nInstalling collected packages: kt-legacy, keras-tuner\nSuccessfully installed keras-tuner-1.1.0 kt-legacy-1.0.4\n\u001b[33mWARNING: You are using pip version 20.1.1; however, version 21.3.1 is available.\nYou should consider upgrading via the '/usr/local/bin/python -m pip install --upgrade pip' command.\u001b[0m\nNote: you may need to restart the kernel to use updated packages.\n",
     "output_type": "stream"
    }
   ]
  },
  {
   "cell_type": "code",
   "metadata": {
    "id": "iSffBvDtt0m7",
    "cell_id": "00039-665b84e2-4bf3-4dbd-8983-ef41163316c5",
    "deepnote_to_be_reexecuted": false,
    "source_hash": "fd61800e",
    "execution_start": 1636920423839,
    "execution_millis": 149,
    "deepnote_cell_type": "code"
   },
   "source": "from tensorflow import keras\nfrom tensorflow.keras import layers\nfrom kerastuner.tuners import RandomSearch",
   "execution_count": null,
   "outputs": [
    {
     "name": "stderr",
     "text": "/shared-libs/python3.7/py-core/lib/python3.7/site-packages/ipykernel_launcher.py:3: DeprecationWarning: `import kerastuner` is deprecated, please use `import keras_tuner`.\n  This is separate from the ipykernel package so we can avoid doing imports until\n",
     "output_type": "stream"
    }
   ]
  },
  {
   "cell_type": "markdown",
   "source": "Read through the Keras Tuner Documentation and build a RandomSearch. This hyperparameter tuning method randomly tries a combination of hyperparameters from a given search space. To use this method in keras tuner, first define a tuner using one of the available [Tuners](https://keras-team.github.io/keras-tuner/documentation/tuners/).\n",
   "metadata": {
    "id": "Zp0n38lIue0U",
    "cell_id": "00040-948a622b-789e-40d3-8c2b-751eee3861c4",
    "deepnote_cell_type": "markdown"
   }
  },
  {
   "cell_type": "code",
   "metadata": {
    "id": "sgV8Ve3WvBQ-",
    "cell_id": "00041-858c8c20-3373-4bc3-9155-abcee17ec50e",
    "deepnote_to_be_reexecuted": true,
    "source_hash": "b623e53d",
    "deepnote_cell_type": "code"
   },
   "source": "",
   "execution_count": null,
   "outputs": []
  },
  {
   "cell_type": "markdown",
   "source": "<a style='text-decoration:none;line-height:16px;display:flex;color:#5B5B62;padding:10px;justify-content:end;' href='https://deepnote.com?utm_source=created-in-deepnote-cell&projectId=a109ea11-a7da-42aa-8af0-3a0cdafc917e' target=\"_blank\">\n<img alt='Created in deepnote.com' style='display:inline;max-height:16px;margin:0px;margin-right:7.5px;' src='data:image/svg+xml;base64,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' > </img>\nCreated in <span style='font-weight:600;margin-left:4px;'>Deepnote</span></a>",
   "metadata": {
    "tags": [],
    "created_in_deepnote_cell": true,
    "deepnote_cell_type": "markdown"
   }
  }
 ],
 "nbformat": 4,
 "nbformat_minor": 0,
 "metadata": {
  "kernelspec": {
   "display_name": "PyCharm (adams)",
   "language": "python",
   "name": "pycharm-feb95198"
  },
  "language_info": {
   "codemirror_mode": {
    "name": "ipython",
    "version": 3
   },
   "file_extension": ".py",
   "mimetype": "text/x-python",
   "name": "python",
   "nbconvert_exporter": "python",
   "pygments_lexer": "ipython3",
   "version": "3.7.6"
  },
  "pycharm": {
   "stem_cell": {
    "cell_type": "raw",
    "metadata": {
     "collapsed": false
    },
    "source": []
   }
  },
  "colab": {
   "name": "NN_Hyperparameters-Keras Quest.ipynb",
   "provenance": [],
   "collapsed_sections": []
  },
  "deepnote_notebook_id": "03d2800f-60a7-448c-a5ec-7aaf2a9ceee2",
  "deepnote": {},
  "deepnote_execution_queue": []
 }
}