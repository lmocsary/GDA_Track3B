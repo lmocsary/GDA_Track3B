{
 "cells": [
  {
   "cell_type": "markdown",
   "source": "IMPORT THE BASIC LIBRARIES YOU THINK YOU WILL USE",
   "metadata": {
    "id": "0d-nlz-2WsC2",
    "cell_id": "00000-eb170e0d-46ef-4603-a315-af6b8be375e8",
    "deepnote_cell_type": "markdown"
   }
  },
  {
   "cell_type": "code",
   "metadata": {
    "collapsed": true,
    "id": "g_D5y8OLWsC3",
    "cell_id": "00001-121342ec-61af-47ec-8151-ea1117f14211",
    "deepnote_to_be_reexecuted": false,
    "source_hash": "883d1685",
    "execution_start": 1637688658817,
    "execution_millis": 8093,
    "deepnote_cell_type": "code"
   },
   "source": "import pandas as pd\nimport numpy as np\n%matplotlib inline\nimport matplotlib.pyplot as plt\n\n!pip install statsmodels\nfrom statsmodels.tsa.seasonal import seasonal_decompose",
   "outputs": [
    {
     "name": "stdout",
     "text": "Requirement already satisfied: statsmodels in /root/venv/lib/python3.7/site-packages (0.13.1)\nRequirement already satisfied: patsy>=0.5.2 in /root/venv/lib/python3.7/site-packages (from statsmodels) (0.5.2)\nRequirement already satisfied: pandas>=0.25 in /shared-libs/python3.7/py/lib/python3.7/site-packages (from statsmodels) (1.2.5)\nRequirement already satisfied: scipy>=1.3 in /shared-libs/python3.7/py/lib/python3.7/site-packages (from statsmodels) (1.7.2)\nRequirement already satisfied: numpy>=1.17 in /shared-libs/python3.7/py/lib/python3.7/site-packages (from statsmodels) (1.19.5)\nRequirement already satisfied: six in /shared-libs/python3.7/py-core/lib/python3.7/site-packages (from patsy>=0.5.2->statsmodels) (1.16.0)\nRequirement already satisfied: pytz>=2017.3 in /shared-libs/python3.7/py/lib/python3.7/site-packages (from pandas>=0.25->statsmodels) (2021.3)\nRequirement already satisfied: python-dateutil>=2.7.3 in /shared-libs/python3.7/py-core/lib/python3.7/site-packages (from pandas>=0.25->statsmodels) (2.8.2)\n\u001b[33mWARNING: You are using pip version 20.1.1; however, version 21.3.1 is available.\nYou should consider upgrading via the '/root/venv/bin/python -m pip install --upgrade pip' command.\u001b[0m\n",
     "output_type": "stream"
    }
   ],
   "execution_count": 1
  },
  {
   "cell_type": "markdown",
   "source": "The goal of this Quest is to do a one step ahead forecast of the Miles Traveled data. \n## Data\n\nInfo about this data set: https://fred.stlouisfed.org/series/TRFVOLUSM227NFWA\n\nRead in the data set \"Miles_Traveled.csv\". Figure out how to set the date to a datetime index columns",
   "metadata": {
    "id": "WgJnz1scWsC3",
    "cell_id": "00002-7a70da72-9c49-4cb1-98f0-a5175965e47b",
    "deepnote_cell_type": "markdown"
   }
  },
  {
   "cell_type": "code",
   "metadata": {
    "collapsed": true,
    "id": "4-HQi_HcWsC4",
    "cell_id": "00003-c05817f9-d95d-496a-a3cb-30f36aa674b1",
    "deepnote_to_be_reexecuted": false,
    "source_hash": "16b1c77c",
    "execution_start": 1637690096043,
    "execution_millis": 1,
    "deepnote_cell_type": "code"
   },
   "source": "# Load dataset and set app name as index\npath=\"https://raw.githubusercontent.com/crajapax/GDAtrack3b/main/Miles_Traveled.csv\"",
   "outputs": [],
   "execution_count": 1
  },
  {
   "cell_type": "code",
   "metadata": {
    "tags": [],
    "cell_id": "00004-71db177c-ecc8-4977-ad38-20bfd602e33a",
    "deepnote_to_be_reexecuted": false,
    "source_hash": "5a172589",
    "execution_start": 1637688666950,
    "execution_millis": 144,
    "deepnote_cell_type": "code"
   },
   "source": "# read data\n# set the date as the index of our dataframe, ie. each of our datapoints correspond to a date\ndata = pd.read_csv(path, index_col=0, parse_dates=True)\n\n\ndata.index.freq = 'MS'\n",
   "outputs": [],
   "execution_count": 3
  },
  {
   "cell_type": "code",
   "metadata": {
    "collapsed": true,
    "id": "izL9jSSUWsC4",
    "cell_id": "00004-e1c13765-938b-4455-991b-af42efe37112",
    "deepnote_to_be_reexecuted": false,
    "source_hash": "6388136d",
    "execution_start": 1637688667100,
    "execution_millis": 30,
    "deepnote_cell_type": "code"
   },
   "source": "data = pd.read_csv(path, parse_dates=True)\n#set the date as the index of our dataframe, ie. each of our datapoints correspond to a date\ndata['DATE'] = pd.to_datetime(data['DATE'])\ndata.set_index('DATE', inplace= True)\ndata.index.freq = 'MS'\n",
   "outputs": [],
   "execution_count": 4
  },
  {
   "cell_type": "code",
   "metadata": {
    "id": "XF5rkbhdWsC4",
    "outputId": "3fb3ea3b-53b5-4f51-d818-5b6dabcb01ce",
    "cell_id": "00005-9ba964fb-0f3e-44b2-bdc7-113000067593",
    "deepnote_output_heights": [
     206
    ],
    "deepnote_to_be_reexecuted": false,
    "source_hash": "41313cfa",
    "execution_start": 1637688667136,
    "execution_millis": 94,
    "deepnote_cell_type": "code"
   },
   "source": "data.head()",
   "outputs": [
    {
     "output_type": "execute_result",
     "execution_count": 5,
     "data": {
      "application/vnd.deepnote.dataframe.v2+json": {
       "row_count": 5,
       "column_count": 1,
       "columns": [
        {
         "name": "TRFVOLUSM227NFWA",
         "dtype": "float64",
         "stats": {
          "unique_count": 5,
          "nan_count": 0,
          "min": "77442.0",
          "max": "97972.0",
          "histogram": [
           {
            "bin_start": 77442,
            "bin_end": 79495,
            "count": 1
           },
           {
            "bin_start": 79495,
            "bin_end": 81548,
            "count": 1
           },
           {
            "bin_start": 81548,
            "bin_end": 83601,
            "count": 0
           },
           {
            "bin_start": 83601,
            "bin_end": 85654,
            "count": 0
           },
           {
            "bin_start": 85654,
            "bin_end": 87707,
            "count": 0
           },
           {
            "bin_start": 87707,
            "bin_end": 89760,
            "count": 0
           },
           {
            "bin_start": 89760,
            "bin_end": 91813,
            "count": 2
           },
           {
            "bin_start": 91813,
            "bin_end": 93866,
            "count": 0
           },
           {
            "bin_start": 93866,
            "bin_end": 95919,
            "count": 0
           },
           {
            "bin_start": 95919,
            "bin_end": 97972,
            "count": 1
           }
          ]
         }
        },
        {
         "name": "_deepnote_index_column",
         "dtype": "datetime64[ns]"
        }
       ],
       "rows_top": [
        {
         "TRFVOLUSM227NFWA": 80173,
         "_deepnote_index_column": "1970-01-01T00:00:00.000000"
        },
        {
         "TRFVOLUSM227NFWA": 77442,
         "_deepnote_index_column": "1970-02-01T00:00:00.000000"
        },
        {
         "TRFVOLUSM227NFWA": 90223,
         "_deepnote_index_column": "1970-03-01T00:00:00.000000"
        },
        {
         "TRFVOLUSM227NFWA": 89956,
         "_deepnote_index_column": "1970-04-01T00:00:00.000000"
        },
        {
         "TRFVOLUSM227NFWA": 97972,
         "_deepnote_index_column": "1970-05-01T00:00:00.000000"
        }
       ],
       "rows_bottom": null
      },
      "text/plain": "            TRFVOLUSM227NFWA\nDATE                        \n1970-01-01           80173.0\n1970-02-01           77442.0\n1970-03-01           90223.0\n1970-04-01           89956.0\n1970-05-01           97972.0",
      "text/html": "<div>\n<style scoped>\n    .dataframe tbody tr th:only-of-type {\n        vertical-align: middle;\n    }\n\n    .dataframe tbody tr th {\n        vertical-align: top;\n    }\n\n    .dataframe thead th {\n        text-align: right;\n    }\n</style>\n<table border=\"1\" class=\"dataframe\">\n  <thead>\n    <tr style=\"text-align: right;\">\n      <th></th>\n      <th>TRFVOLUSM227NFWA</th>\n    </tr>\n    <tr>\n      <th>DATE</th>\n      <th></th>\n    </tr>\n  </thead>\n  <tbody>\n    <tr>\n      <th>1970-01-01</th>\n      <td>80173.0</td>\n    </tr>\n    <tr>\n      <th>1970-02-01</th>\n      <td>77442.0</td>\n    </tr>\n    <tr>\n      <th>1970-03-01</th>\n      <td>90223.0</td>\n    </tr>\n    <tr>\n      <th>1970-04-01</th>\n      <td>89956.0</td>\n    </tr>\n    <tr>\n      <th>1970-05-01</th>\n      <td>97972.0</td>\n    </tr>\n  </tbody>\n</table>\n</div>"
     },
     "metadata": {}
    }
   ],
   "execution_count": 5
  },
  {
   "cell_type": "markdown",
   "source": "**Task: Change the column names to Value**",
   "metadata": {
    "id": "J87vm8SyWsC5",
    "cell_id": "00006-98b548c6-e252-4dbf-8aee-c3b78e93d78a",
    "deepnote_cell_type": "markdown"
   }
  },
  {
   "cell_type": "code",
   "metadata": {
    "collapsed": true,
    "id": "FDiYMYL-WsC5",
    "cell_id": "00007-fe8f20ae-d3a1-4c10-8d4a-8f8d77d887d8",
    "deepnote_to_be_reexecuted": false,
    "source_hash": "f94b8013",
    "execution_start": 1637688667227,
    "execution_millis": 0,
    "deepnote_cell_type": "code"
   },
   "source": "# CODE HERE\ndata = data.rename(columns={\"TRFVOLUSM227NFWA\":\"Value\"})\n",
   "outputs": [],
   "execution_count": 6
  },
  {
   "cell_type": "markdown",
   "source": "**TASK: Plot out the time series**",
   "metadata": {
    "id": "mGVvQQLZWsC6",
    "cell_id": "00009-a581de3e-1613-4e45-b227-29f542e66c2c",
    "deepnote_cell_type": "markdown"
   }
  },
  {
   "cell_type": "code",
   "metadata": {
    "collapsed": true,
    "id": "4nTDWV1SWsC6",
    "cell_id": "00010-90ae111e-ce8b-4537-9465-3eec69022430",
    "deepnote_to_be_reexecuted": false,
    "source_hash": "aba3272a",
    "execution_start": 1637688667228,
    "execution_millis": 497,
    "deepnote_output_heights": [
     196
    ],
    "deepnote_cell_type": "code"
   },
   "source": "# CODE HERE\n\nplt.figure(figsize=(12,3))\nplt.plot(data, label='Value')\nplt.legend()\nplt.show()",
   "outputs": [
    {
     "data": {
      "text/plain": "<Figure size 864x216 with 1 Axes>",
      "image/png": "[encoded data removed]"
     },
     "metadata": {
      "needs_background": "light",
      "image/png": {
       "width": 728,
       "height": 194
      }
     },
     "output_type": "display_data"
    }
   ],
   "execution_count": 7
  },
  {
   "cell_type": "markdown",
   "source": "**TASK: Perform a Seasonal Decomposition on the model and plot out the ETS components**",
   "metadata": {
    "id": "KRazEO6AWsC6",
    "cell_id": "00012-fa86e12f-5122-41e1-bdc6-69a25afa9e52",
    "deepnote_cell_type": "markdown"
   }
  },
  {
   "cell_type": "code",
   "metadata": {
    "collapsed": true,
    "id": "BuIWrE-BWsC7",
    "cell_id": "00013-7046b8ec-432a-448a-b27b-29e59032c2dc",
    "deepnote_to_be_reexecuted": false,
    "source_hash": "90b3015c",
    "execution_start": 1637688667737,
    "execution_millis": 393,
    "deepnote_output_heights": [
     142
    ],
    "deepnote_cell_type": "code"
   },
   "source": "# CODE HERE\nplt.figure(figsize=(12,2))\ndata_decomp = seasonal_decompose(data)\nplt.plot(data_decomp.trend)\n\nplt.show()",
   "outputs": [
    {
     "data": {
      "text/plain": "<Figure size 864x144 with 1 Axes>",
      "image/png": "[encoded data removed]"
     },
     "metadata": {
      "needs_background": "light",
      "image/png": {
       "width": 731,
       "height": 140
      }
     },
     "output_type": "display_data"
    }
   ],
   "execution_count": 8
  },
  {
   "cell_type": "code",
   "metadata": {
    "id": "4LvbzL9IWsC8",
    "outputId": "dd847123-0ec3-44d5-97e6-79bbd22d9758",
    "cell_id": "00017-480d643e-f70f-4469-a6ff-1f4eab61a23a",
    "deepnote_output_heights": [
     142
    ],
    "deepnote_to_be_reexecuted": false,
    "source_hash": "fd9e7c0e",
    "execution_start": 1637688668150,
    "execution_millis": 389,
    "deepnote_cell_type": "code"
   },
   "source": "plt.figure(figsize=(12,2))\nplt.plot(data_decomp.seasonal)\nplt.show()",
   "outputs": [
    {
     "data": {
      "text/plain": "<Figure size 864x144 with 1 Axes>",
      "image/png": "[encoded data removed]"
     },
     "metadata": {
      "needs_background": "light",
      "image/png": {
       "width": 730,
       "height": 140
      }
     },
     "output_type": "display_data"
    }
   ],
   "execution_count": 9
  },
  {
   "cell_type": "code",
   "metadata": {
    "id": "Z7MBhlkWWsC8",
    "outputId": "a12ed33b-dff1-422b-fd49-5e5fe1feec8e",
    "cell_id": "00018-4d595a3b-0d06-4008-ab25-a506b2d774c3",
    "deepnote_output_heights": [
     142
    ],
    "deepnote_to_be_reexecuted": false,
    "source_hash": "dd367083",
    "execution_start": 1637688668544,
    "execution_millis": 345,
    "deepnote_cell_type": "code"
   },
   "source": "plt.figure(figsize=(12,2))\nplt.plot(data_decomp.resid )\n\nplt.show()",
   "outputs": [
    {
     "data": {
      "text/plain": "<Figure size 864x144 with 1 Axes>",
      "image/png": "[encoded data removed]"
     },
     "metadata": {
      "needs_background": "light",
      "image/png": {
       "width": 733,
       "height": 140
      }
     },
     "output_type": "display_data"
    }
   ],
   "execution_count": 10
  },
  {
   "cell_type": "markdown",
   "source": "## Train Test Split",
   "metadata": {
    "id": "Mp_QEnByWsC9",
    "cell_id": "00019-314cf06b-ed2f-450d-bd3b-b671ca435724",
    "deepnote_cell_type": "markdown"
   }
  },
  {
   "cell_type": "markdown",
   "source": "**TASK: Figure out the length of the data set**",
   "metadata": {
    "id": "R4ZOWZapWsC9",
    "cell_id": "00020-52048c6c-c6ce-42f2-ba6a-80e60a0a12e6",
    "deepnote_cell_type": "markdown"
   }
  },
  {
   "cell_type": "code",
   "metadata": {
    "collapsed": true,
    "id": "4L6Jht6VWsC9",
    "cell_id": "00021-e2aae956-1587-4049-83b0-19c03430a8bd",
    "deepnote_to_be_reexecuted": false,
    "source_hash": "d970c5a0",
    "execution_start": 1637688668893,
    "execution_millis": 56,
    "deepnote_output_heights": [
     21
    ],
    "deepnote_cell_type": "code"
   },
   "source": "# CODE HERE\nlen(data)",
   "outputs": [
    {
     "output_type": "execute_result",
     "execution_count": 11,
     "data": {
      "text/plain": "588"
     },
     "metadata": {}
    }
   ],
   "execution_count": 11
  },
  {
   "cell_type": "markdown",
   "source": "**TASK: Split the data into a train/test split where the test set is the last 12 months of data.**",
   "metadata": {
    "id": "yjOxTw08WsC9",
    "cell_id": "00024-7dab4c8c-f7f7-476f-8017-ab27de9635eb",
    "deepnote_cell_type": "markdown"
   }
  },
  {
   "cell_type": "code",
   "metadata": {
    "id": "ZP1lINzVWsC9",
    "outputId": "234a7615-2635-4bd5-8b45-8b51b258c92f",
    "cell_id": "00022-a75e54d5-34ff-475e-ad67-061f7bae383d",
    "deepnote_output_heights": [
     21
    ],
    "deepnote_to_be_reexecuted": false,
    "source_hash": "43ac5e5",
    "execution_start": 1637688668944,
    "execution_millis": 30,
    "deepnote_cell_type": "code"
   },
   "source": "data.tail(12)",
   "outputs": [
    {
     "output_type": "execute_result",
     "execution_count": 12,
     "data": {
      "application/vnd.deepnote.dataframe.v2+json": {
       "row_count": 12,
       "column_count": 1,
       "columns": [
        {
         "name": "Value",
         "dtype": "float64",
         "stats": {
          "unique_count": 12,
          "nan_count": 0,
          "min": "226660.0",
          "max": "288145.0",
          "histogram": [
           {
            "bin_start": 226660,
            "bin_end": 232808.5,
            "count": 1
           },
           {
            "bin_start": 232808.5,
            "bin_end": 238957,
            "count": 0
           },
           {
            "bin_start": 238957,
            "bin_end": 245105.5,
            "count": 0
           },
           {
            "bin_start": 245105.5,
            "bin_end": 251254,
            "count": 1
           },
           {
            "bin_start": 251254,
            "bin_end": 257402.5,
            "count": 0
           },
           {
            "bin_start": 257402.5,
            "bin_end": 263551,
            "count": 2
           },
           {
            "bin_start": 263551,
            "bin_end": 269699.5,
            "count": 2
           },
           {
            "bin_start": 269699.5,
            "bin_end": 275848,
            "count": 1
           },
           {
            "bin_start": 275848,
            "bin_end": 281996.5,
            "count": 1
           },
           {
            "bin_start": 281996.5,
            "bin_end": 288145,
            "count": 4
           }
          ]
         }
        },
        {
         "name": "_deepnote_index_column",
         "dtype": "datetime64[ns]"
        }
       ],
       "rows_top": [
        {
         "Value": 245695,
         "_deepnote_index_column": "2018-01-01T00:00:00.000000"
        },
        {
         "Value": 226660,
         "_deepnote_index_column": "2018-02-01T00:00:00.000000"
        },
        {
         "Value": 268480,
         "_deepnote_index_column": "2018-03-01T00:00:00.000000"
        },
        {
         "Value": 272475,
         "_deepnote_index_column": "2018-04-01T00:00:00.000000"
        },
        {
         "Value": 286164,
         "_deepnote_index_column": "2018-05-01T00:00:00.000000"
        },
        {
         "Value": 280877,
         "_deepnote_index_column": "2018-06-01T00:00:00.000000"
        },
        {
         "Value": 288145,
         "_deepnote_index_column": "2018-07-01T00:00:00.000000"
        },
        {
         "Value": 286608,
         "_deepnote_index_column": "2018-08-01T00:00:00.000000"
        },
        {
         "Value": 260595,
         "_deepnote_index_column": "2018-09-01T00:00:00.000000"
        },
        {
         "Value": 282174,
         "_deepnote_index_column": "2018-10-01T00:00:00.000000"
        },
        {
         "Value": 258590,
         "_deepnote_index_column": "2018-11-01T00:00:00.000000"
        },
        {
         "Value": 268413,
         "_deepnote_index_column": "2018-12-01T00:00:00.000000"
        }
       ],
       "rows_bottom": null
      },
      "text/plain": "               Value\nDATE                \n2018-01-01  245695.0\n2018-02-01  226660.0\n2018-03-01  268480.0\n2018-04-01  272475.0\n2018-05-01  286164.0\n2018-06-01  280877.0\n2018-07-01  288145.0\n2018-08-01  286608.0\n2018-09-01  260595.0\n2018-10-01  282174.0\n2018-11-01  258590.0\n2018-12-01  268413.0",
      "text/html": "<div>\n<style scoped>\n    .dataframe tbody tr th:only-of-type {\n        vertical-align: middle;\n    }\n\n    .dataframe tbody tr th {\n        vertical-align: top;\n    }\n\n    .dataframe thead th {\n        text-align: right;\n    }\n</style>\n<table border=\"1\" class=\"dataframe\">\n  <thead>\n    <tr style=\"text-align: right;\">\n      <th></th>\n      <th>Value</th>\n    </tr>\n    <tr>\n      <th>DATE</th>\n      <th></th>\n    </tr>\n  </thead>\n  <tbody>\n    <tr>\n      <th>2018-01-01</th>\n      <td>245695.0</td>\n    </tr>\n    <tr>\n      <th>2018-02-01</th>\n      <td>226660.0</td>\n    </tr>\n    <tr>\n      <th>2018-03-01</th>\n      <td>268480.0</td>\n    </tr>\n    <tr>\n      <th>2018-04-01</th>\n      <td>272475.0</td>\n    </tr>\n    <tr>\n      <th>2018-05-01</th>\n      <td>286164.0</td>\n    </tr>\n    <tr>\n      <th>2018-06-01</th>\n      <td>280877.0</td>\n    </tr>\n    <tr>\n      <th>2018-07-01</th>\n      <td>288145.0</td>\n    </tr>\n    <tr>\n      <th>2018-08-01</th>\n      <td>286608.0</td>\n    </tr>\n    <tr>\n      <th>2018-09-01</th>\n      <td>260595.0</td>\n    </tr>\n    <tr>\n      <th>2018-10-01</th>\n      <td>282174.0</td>\n    </tr>\n    <tr>\n      <th>2018-11-01</th>\n      <td>258590.0</td>\n    </tr>\n    <tr>\n      <th>2018-12-01</th>\n      <td>268413.0</td>\n    </tr>\n  </tbody>\n</table>\n</div>"
     },
     "metadata": {}
    }
   ],
   "execution_count": 12
  },
  {
   "cell_type": "code",
   "metadata": {
    "collapsed": true,
    "id": "Es04XHDXWsC9",
    "cell_id": "00025-89b48c93-4f0a-4474-a23c-184736f5648b",
    "deepnote_to_be_reexecuted": false,
    "source_hash": "4ddd9dbb",
    "execution_start": 1637688668994,
    "execution_millis": 2096207,
    "deepnote_output_heights": [
     21
    ],
    "deepnote_cell_type": "code"
   },
   "source": "# CODE HERE\ntest = data.tail(12)\ntrain = data.head(len(data)-len(test))\nlen(test), len(train)",
   "outputs": [
    {
     "output_type": "execute_result",
     "execution_count": 13,
     "data": {
      "text/plain": "(12, 576)"
     },
     "metadata": {}
    }
   ],
   "execution_count": 13
  },
  {
   "cell_type": "markdown",
   "source": "## Scale Data",
   "metadata": {
    "id": "HbpMSjmBWsC-",
    "cell_id": "00027-4fa7b1d1-8076-498a-92df-a83bd11d0ee7",
    "deepnote_cell_type": "markdown"
   }
  },
  {
   "cell_type": "markdown",
   "source": "**TASK: Use a MinMaxScaler to scale the train and test sets into scaled versions.**",
   "metadata": {
    "id": "SxINkfNUWsC-",
    "cell_id": "00028-b02ed051-4efb-40df-8002-3eec22fbf345",
    "deepnote_cell_type": "markdown"
   }
  },
  {
   "cell_type": "code",
   "metadata": {
    "collapsed": true,
    "id": "xzB9YZurWsC-",
    "cell_id": "00029-0cb8958c-1898-41cb-be2a-123e812b279d",
    "deepnote_to_be_reexecuted": false,
    "source_hash": "1556890d",
    "execution_start": 1637688669057,
    "execution_millis": 313,
    "deepnote_output_heights": [
     21
    ],
    "deepnote_cell_type": "code"
   },
   "source": "# CODE HERE\nfrom sklearn.preprocessing import MinMaxScaler\n\nscaler=MinMaxScaler(feature_range = (0, 1), )\nscaler.get_params()",
   "outputs": [
    {
     "output_type": "execute_result",
     "execution_count": 14,
     "data": {
      "text/plain": "{'clip': False, 'copy': True, 'feature_range': (0, 1)}"
     },
     "metadata": {}
    }
   ],
   "execution_count": 14
  },
  {
   "cell_type": "code",
   "metadata": {
    "collapsed": true,
    "id": "tuS19sF-WsC-",
    "cell_id": "00030-e22e2adb-c7bb-4dc7-b7f4-c0824444ff7d",
    "deepnote_to_be_reexecuted": false,
    "source_hash": "cdbd607a",
    "execution_start": 1637688669394,
    "execution_millis": 9,
    "deepnote_cell_type": "code"
   },
   "source": "scaler.fit(train)\nscaled_train = scaler.transform(train)\nscaled_test = scaler.transform(test)",
   "outputs": [],
   "execution_count": 15
  },
  {
   "cell_type": "code",
   "metadata": {
    "collapsed": true,
    "id": "ueAg7E9cWsC-",
    "cell_id": "00033-18bed925-a71e-4aa7-990c-7613b88bfc4d",
    "deepnote_to_be_reexecuted": false,
    "source_hash": "d390897f",
    "execution_start": 1637688669417,
    "execution_millis": 8,
    "deepnote_output_heights": [
     21
    ],
    "deepnote_cell_type": "code"
   },
   "source": "type(scaled_train), len(scaled_train)",
   "outputs": [
    {
     "output_type": "execute_result",
     "execution_count": 16,
     "data": {
      "text/plain": "(numpy.ndarray, 576)"
     },
     "metadata": {}
    }
   ],
   "execution_count": 16
  },
  {
   "cell_type": "markdown",
   "source": "# Time Series Generator\n\nWe Create a TimeSeriesGenerator object based off the scaled_train data. The n_input is up to you, but at a minimum it should be at least 12. n_input refers to the window size, ie. length of your sequence. \nWe want to do a one step ahead forecast.",
   "metadata": {
    "id": "mX27O2qfWsC-",
    "cell_id": "00034-bb016943-c485-46ea-a5bc-ea36d7578f83",
    "deepnote_cell_type": "markdown"
   }
  },
  {
   "cell_type": "code",
   "metadata": {
    "collapsed": true,
    "id": "ix00TWU_WsC-",
    "cell_id": "00035-07b82f44-842d-4750-9548-52b1575b9a3a",
    "deepnote_to_be_reexecuted": false,
    "source_hash": "98a33b2e",
    "execution_start": 1637688669437,
    "execution_millis": 8017,
    "deepnote_cell_type": "code"
   },
   "source": "from tensorflow.keras.preprocessing.sequence import TimeseriesGenerator",
   "outputs": [],
   "execution_count": 17
  },
  {
   "cell_type": "code",
   "metadata": {
    "id": "RdpCQg9lWsC-",
    "outputId": "d8f5c16e-2e95-4c85-d9d5-ae65cf5f65fb",
    "cell_id": "00036-f843c196-4de3-4036-8bea-b11a7c309b25",
    "deepnote_to_be_reexecuted": false,
    "source_hash": "7c444d7",
    "execution_start": 1637688677455,
    "execution_millis": 13,
    "deepnote_cell_type": "code"
   },
   "source": "n_input = 16 # you might need to test a variety of input values and test performance, \n#but at least 12 to capture one cycle of seasonality\n\nn_features=1 # for univariate time series always 1\n\n# Create input data from time series with generator object\n# we put in the train data 2, once as actual train data, once as target variable, specify window length =n_input\n# smaller batch sizes tend to work better \n# CAREFUL: adjust the following 'scaled_train' to the name of your train object\n\ngenerator = TimeseriesGenerator(scaled_train, scaled_train, sampling_rate=1, length=n_input, batch_size=1, )\n",
   "outputs": [],
   "execution_count": 18
  },
  {
   "cell_type": "markdown",
   "source": "TASK: inspect the output of the TimeSeriesGenerator",
   "metadata": {
    "id": "sXnJoxdQtFyq",
    "cell_id": "00037-84e7bb7c-2b65-45d5-a788-3353855646e7",
    "deepnote_cell_type": "markdown"
   }
  },
  {
   "cell_type": "code",
   "metadata": {
    "tags": [],
    "cell_id": "00030-a4b1190b-5742-4827-984a-68bcb814ac4c",
    "deepnote_to_be_reexecuted": false,
    "source_hash": "ce1dd7b9",
    "execution_start": 1637688677491,
    "execution_millis": 143,
    "deepnote_output_heights": [
     192
    ],
    "deepnote_cell_type": "code"
   },
   "source": "generator.get_config()",
   "outputs": [
    {
     "output_type": "execute_result",
     "execution_count": 19,
     "data": {
      "text/plain": "{'data': '[[0.013010895612693585], [0.0], [0.060890610335348594], [0.0596185820934631], [0.09780801425433894], [0.10763645718695958], [0.1379221633055584], [0.14067107827023217], [0.08485905260098808], [0.08992334481493658], [0.0583227330979843], [0.0594041953111229], [0.037608205773197845], [0.012748867323166657], [0.07399678896241563], [0.09844641045064101], [0.12488268278855269], [0.1333533427663518], [0.16685961477077293], [0.16769810529725915], [0.11361546633889313], [0.11949919247645319], [0.0862930619673084], [0.08610249593856151], [0.07157183624661151], [0.05159575228321922], [0.12140961691464075], [0.12289603193886645], [0.1596133415276726], [0.17066617119499194], [0.1960543303747958], [0.20233824517272425], [0.1459259365129275], [0.14958956841558646], [0.11123815513027568], [0.11242442865922508], [0.09157650511431581], [0.07205777961991605], [0.14315320079466032], [0.14615461574742383], [0.17806966141180847], [0.18302437815922745], [0.2107803202462113], [0.22383885736609166], [0.15669291713712652], [0.16982768066850562], [0.12834145621030868], [0.1020195234896451], [0.08379188284000555], [0.04280113005655045], [0.11097612684074876], [0.12928475805260575], [0.16543513370588991], [0.17363423709272463], [0.206992820424867], [0.2221428197102444], [0.15094258721968934], [0.1673646147469522], [0.13166683341194185], [0.13168589001481656], [0.09957075002024768], [0.06603589311151448], [0.13638810677414592], [0.14145239898809436], [0.18683569873416517], [0.1950729153267493], [0.22415805546424272], [0.23182833812130477], [0.16177626595394978], [0.1801230103715561], [0.14077112543532433], [0.14532088937165621], [0.11918952267973953], [0.10045688205392067], [0.1755208407773189], [0.18852697223929382], [0.218369612341056], [0.22241914045192734], [0.25463909176230703], [0.25950805379679], [0.2000419245263243], [0.20851734865484206], [0.1693846146516691], [0.16954659577610398], [0.11911806041895945], [0.11897990004811793], [0.20256216025650187], [0.20996088632259968], [0.24507744126993203], [0.24715937513399178], [0.27992720377701874], [0.28058465657619547], [0.22277645175582772], [0.23795027179479855], [0.19553980209717914], [0.184920510145259], [0.15433942668210254], [0.1409045216554471], [0.22674022515376302], [0.21581126340512913], [0.2714851287035317], [0.29271418430593477], [0.3371446539082711], [0.3431093706080486], [0.256992582217331], [0.2643531950776795], [0.220332442437149], [0.22464399883754727], [0.17585433132762585], [0.1534437663469922], [0.25709262938242317], [0.2481979599906623], [0.26179961029247123], [0.25607310112862736], [0.273514656909686], [0.2977594199170085], [0.2388459321299089], [0.25810739348550027], [0.21886031986507926], [0.21812187650368509], [0.1858971610425868], [0.14242904988542215], [0.22742626285725176], [0.2298988570802426], [0.25643994073396503], [0.2583932425286206], [0.28017017546367096], [0.29168036359998284], [0.23839810196235367], [0.26285248760129776], [0.21904612174310745], [0.22561112143343764], [0.1839295667957752], [0.15399164367963947], [0.23990357358945413], [0.24308126211880843], [0.2709039023158537], [0.2768114492070072], [0.30400522150918763], [0.31453875874817183], [0.25603975207359664], [0.2657157421832197], [0.22563970633774977], [0.22381503661249824], [0.15395353047389004], [0.14325801211047118], [0.24173300746542414], [0.24965579011057593], [0.2993839953120757], [0.3080928628258084], [0.35615837942649153], [0.36139894521703086], [0.28046078865751], [0.2922234767819115], [0.23639239450979277], [0.23676399826584915], [0.20006574527991772], [0.1638200866122601], [0.26380055359431354], [0.26345277059185046], [0.315277202109566], [0.33013658820110436], [0.3781830481989128], [0.382118236692536], [0.2977403633141338], [0.3173019661650016], [0.26802159113105706], [0.24932706371098756], [0.21480126345277062], [0.19076135892635104], [0.2852058827733074], [0.3043577686623694], [0.35066054949714387], [0.3618896527410541], [0.4014273395553142], [0.4167583765680011], [0.3269731921239061], [0.33429092762778645], [0.2850391374981539], [0.2794317321022768], [0.22239055554761533], [0.19973701888032935], [0.319112343438097], [0.3344100313957532], [0.37772092557920167], [0.3871396515500165], [0.4261008761273172], [0.4382780453642432], [0.3476972477501299], [0.36753040719196195], [0.3021900800853736], [0.3055821553970681], [0.2646771573265492], [0.2195511217192867], [0.351313238145602], [0.34699691759448503], [0.3955055002120047], [0.4046097922353872], [0.4462675261194563], [0.45990728962701466], [0.37169903907080004], [0.39062224572536575], [0.33525805022367694], [0.3439049837780668], [0.29764508029976033], [0.27896008118112825], [0.3817561612379169], [0.3923706890391184], [0.4303647910205287], [0.43060299855646234], [0.4685113458249366], [0.4761101662212186], [0.4132519616390584], [0.42588648934497697], [0.37271856732459585], [0.37226120885560343], [0.3403366348897814], [0.3063634761149304], [0.43065064006364906], [0.4257340365219794], [0.4792735622984169], [0.48236073196411644], [0.5113696456901111], [0.5100547400917576], [0.4460674317892721], [0.46705827985574155], [0.4074063487072477], [0.4161771501803231], [0.3921277173524662], [0.33010800329679235], [0.4647333743050296], [0.4615413933235192], [0.5115792683217326], [0.5081062024478207], [0.5409359650501904], [0.5561193133905985], [0.4758624303838477], [0.5009075707119071], [0.4396977622784075], [0.42919280994373543], [0.4104696976193539], [0.362632860253167], [0.48274662817232894], [0.48399483566062096], [0.5326558711011382], [0.5339993616038037], [0.5623031810234349], [0.5698638882139676], [0.4810505905164816], [0.5011505423985594], [0.4484161580935775], [0.43439049837780674], [0.38326163286501735], [0.3616419169036832], [0.48419969414152386], [0.48640073177355037], [0.5454333233286168], [0.5527605871339346], [0.5762002086698015], [0.6032415281489846], [0.5057241270884846], [0.5288350222247631], [0.4394976679482232], [0.4542141295182015], [0.4297740363314134], [0.3942906417787433], [0.5066007308207203], [0.5175154001171981], [0.5682821901753684], [0.5706976145897352], [0.6154044049337545], [0.6065287921448683], [0.5405691254448526], [0.5592827094677968], [0.4761196945226559], [0.49336115597353036], [0.44896403542622476], [0.4068679996760378], [0.526090871410808], [0.5302261542346154], [0.6123791692273977], [0.5810929914578777], [0.6307544985493161], [0.629782611802707], [0.5541803040480989], [0.5733703031429103], [0.49966412737433363], [0.5211313905126703], [0.4376920548258465], [0.4240189422632574], [0.5657333695408788], [0.5620030395281586], [0.6152995936179437], [0.6185678010109528], [0.6542894030995565], [0.655561431341442], [0.5863192647962612], [0.5975293114372967], [0.5365958237454801], [0.5509502098608392], [0.554528087050562], [0.44597691292561736], [0.5897303967108304], [0.5753712464447526], [0.6438463847242271], [0.6380531774503218], [0.6657710063315563], [0.6754327039890233], [0.6023029904574061], [0.6160189803764632], [0.5559239832111329], [0.5521603041433819], [0.5051095516457759], [0.47222261923478215], [0.6037608205773198], [0.6089108675042044], [0.6728600626009404], [0.65797209160509], [0.7035078441741582], [0.7222833621564453], [0.6201113858438025], [0.6584627991291132], [0.5821839819724537], [0.5908499721297183], [0.536843559582851], [0.5074201647443318], [0.640825913168589], [0.6376720453928282], [0.7081433628234264], [0.6899061938723494], [0.7587910491136298], [0.7434647762516615], [0.6484247335648712], [0.6849752978785237], [0.5954235568196435], [0.6187678953411371], [0.5689729920295759], [0.5227464376063001], [0.6516405352999748], [0.669263128808343], [0.7167998246792535], [0.7207731263786261], [0.7741840200856596], [0.7608396339226589], [0.6765999209150981], [0.719772654727705], [0.6371384605123367], [0.6615547329455316], [0.5533037003158632], [0.5433180404095265], [0.6828028451508092], [0.6839128922682598], [0.73055392780406], [0.7552512851296564], [0.7892959061652876], [0.7816113310560693], [0.6996822311470645], [0.7441079365986822], [0.6880100618863179], [0.6861472789553171], [0.6002829905526892], [0.580364076397921], [0.7386720406286773], [0.7158422303848004], [0.7863659534733041], [0.7885669911053306], [0.7989385472198798], [0.8117636409545452], [0.7167998246792535], [0.7577334076540845], [0.6925979390283992], [0.6714975154954002], [0.6300255834893593], [0.5880581798085764], [0.7391341632483885], [0.7387816160952068], [0.7999723679258317], [0.7911158117398203], [0.8238217064235045], [0.8376901491655591], [0.7092391174887209], [0.7794531707805108], [0.7292437863564252], [0.7248274186402162], [0.6563713369636162], [0.6231270932487221], [0.7557277002015237], [0.7612350584323087], [0.830410526867428], [0.8119351503804175], [0.8525447711063787], [0.8633784498406392], [0.7440793516943702], [0.8009204339188476], [0.7298964750048833], [0.7471045874007269], [0.6721835531988891], [0.6014025659715772], [0.7586290679891949], [0.7716637843554819], [0.8375472246439988], [0.8323114230041782], [0.8797623641621526], [0.8730067984430756], [0.7623069923440098], [0.8413776018218113], [0.7444271346968334], [0.7674856241752064], [0.6908399674132091], [0.649196525981296], [0.8287764231709234], [0.8267040176083011], [0.8565609501622193], [0.8572660444685829], [0.8981710425391018], [0.8832449583375019], [0.7911968023020377], [0.8435119413437764], [0.773478925779296], [0.7984097264901073], [0.6985674198788954], [0.6790248736309021], [0.8372518472994412], [0.8261894893306845], [0.8824922225239518], [0.8879138260418007], [0.9032019856980196], [0.8950934011748397], [0.7851225101357306], [0.8288526495824222], [0.7890100571221672], [0.8020209527348607], [0.7424452479978656], [0.6825551093134383], [0.8536452899223921], [0.8251604327754514], [0.885789014821273], [0.8877518449173658], [0.8860319865079251], [0.894535995540755], [0.8011538773040625], [0.8599149122681646], [0.7999199622679263], [0.8134549144596739], [0.7440602950914956], [0.6755089304005222], [0.8680092043391885], [0.8344552908275806], [0.9058175044425707], [0.8953363728614918], [0.903587881906232], [0.9232114187164426], [0.8028689715627844], [0.8765132133720184], [0.8020209527348607], [0.775789538877852], [0.7407206254377063], [0.6855327035126084], [0.8332547248464752], [0.8320398664132138], [0.8767180718529213], [0.8577472236911687], [0.8773564680492232], [0.8726351946870192], [0.772578501293467], [0.8499530731154212], [0.757609539735399], [0.7827499630778321], [0.7055087874760007], [0.6679386949085522], [0.8208584046764904], [0.8286382628000819], [0.861520431060357], [0.8620873649958791], [0.8910391089132497], [0.8711487796627935], [0.7838361894416892], [0.8326163286501733], [0.7614160961596181], [0.7725118031834055], [0.6831649206054282], [0.6345515266720978], [0.842282790458359], [0.84084401694132], [0.8550935917408684], [0.8701292514089976], [0.8950552879690903], [0.8880138732068927], [0.7967565661907281], [0.8525590635585347], [0.7724451050733441], [0.7782621331008428], [0.6972239293762297], [0.6480245449045026], [0.8369755265577583], [0.8200818481093468], [0.8415443470969648], [0.8618729782135388], [0.8705675532751154], [0.8722397701773694], [0.784274491307807], [0.8311727909824156], [0.7674713317230504], [0.797366377482718], [0.7150275606119076], [0.6705732702559779], [0.8514680730439588], [0.8192052443771112], [0.8734212795556], [0.8715251475695684], [0.8708962796747037], [0.890596042896413], [0.7690530297616496], [0.8391193943811608], [0.7761706709353458], [0.7683002939480994], [0.7240413337716352], [0.6591726575861954], [0.8365086397873283], [0.8319255267959658], [0.8859605242471451], [0.8696385438849743], [0.888533165635228], [0.9081376458425638], [0.7865326987484575], [0.8637691101995704], [0.774712840815432], [0.7803440669649024], [0.7097202967113068], [0.6503399221537773], [0.8384047717733598], [0.8541836389536019], [0.8994478349317059], [0.8862130242352348], [0.9176278340741588], [0.9118060418959415], [0.8110776032510565], [0.8942406181961973], [0.7813635952186984], [0.8329117059947309], [0.7434743045530989], [0.6659234591545538], [0.860286516024221], [0.8831544394738473], [0.9213724565390351], [0.9201099565985871], [0.9572608039027923], [0.927899343023616], [0.8463418468706676], [0.9100814193357822], [0.8165801973311229], [0.8669896760853928], [0.7729215201452113], [0.6935126559663842], [0.8942549106483533], [0.9157221737866899], [0.9553551436153234], [0.950681511760306], [0.9895998589811388], [0.9612674546571955], [0.8794479302147202], [0.9441022196178199], [0.8466467525166625], [0.8924969390331634], [0.7963039718724543], [0.7122643531950776], [0.9047741554351814], [0.931210427773093], [0.9838638215158575], [0.9675751902087175], [1.0], [0.9801858971610427], [0.8824684017703583], [0.9599525490588421], [0.8588334500550261], [0.9008675518458702]]',\n 'targets': '[[0.013010895612693585], [0.0], [0.060890610335348594], [0.0596185820934631], [0.09780801425433894], [0.10763645718695958], [0.1379221633055584], [0.14067107827023217], [0.08485905260098808], [0.08992334481493658], [0.0583227330979843], [0.0594041953111229], [0.037608205773197845], [0.012748867323166657], [0.07399678896241563], [0.09844641045064101], [0.12488268278855269], [0.1333533427663518], [0.16685961477077293], [0.16769810529725915], [0.11361546633889313], [0.11949919247645319], [0.0862930619673084], [0.08610249593856151], [0.07157183624661151], [0.05159575228321922], [0.12140961691464075], [0.12289603193886645], [0.1596133415276726], [0.17066617119499194], [0.1960543303747958], [0.20233824517272425], [0.1459259365129275], [0.14958956841558646], [0.11123815513027568], [0.11242442865922508], [0.09157650511431581], [0.07205777961991605], [0.14315320079466032], [0.14615461574742383], [0.17806966141180847], [0.18302437815922745], [0.2107803202462113], [0.22383885736609166], [0.15669291713712652], [0.16982768066850562], [0.12834145621030868], [0.1020195234896451], [0.08379188284000555], [0.04280113005655045], [0.11097612684074876], [0.12928475805260575], [0.16543513370588991], [0.17363423709272463], [0.206992820424867], [0.2221428197102444], [0.15094258721968934], [0.1673646147469522], [0.13166683341194185], [0.13168589001481656], [0.09957075002024768], [0.06603589311151448], [0.13638810677414592], [0.14145239898809436], [0.18683569873416517], [0.1950729153267493], [0.22415805546424272], [0.23182833812130477], [0.16177626595394978], [0.1801230103715561], [0.14077112543532433], [0.14532088937165621], [0.11918952267973953], [0.10045688205392067], [0.1755208407773189], [0.18852697223929382], [0.218369612341056], [0.22241914045192734], [0.25463909176230703], [0.25950805379679], [0.2000419245263243], [0.20851734865484206], [0.1693846146516691], [0.16954659577610398], [0.11911806041895945], [0.11897990004811793], [0.20256216025650187], [0.20996088632259968], [0.24507744126993203], [0.24715937513399178], [0.27992720377701874], [0.28058465657619547], [0.22277645175582772], [0.23795027179479855], [0.19553980209717914], [0.184920510145259], [0.15433942668210254], [0.1409045216554471], [0.22674022515376302], [0.21581126340512913], [0.2714851287035317], [0.29271418430593477], [0.3371446539082711], [0.3431093706080486], [0.256992582217331], [0.2643531950776795], [0.220332442437149], [0.22464399883754727], [0.17585433132762585], [0.1534437663469922], [0.25709262938242317], [0.2481979599906623], [0.26179961029247123], [0.25607310112862736], [0.273514656909686], [0.2977594199170085], [0.2388459321299089], [0.25810739348550027], [0.21886031986507926], [0.21812187650368509], [0.1858971610425868], [0.14242904988542215], [0.22742626285725176], [0.2298988570802426], [0.25643994073396503], [0.2583932425286206], [0.28017017546367096], [0.29168036359998284], [0.23839810196235367], [0.26285248760129776], [0.21904612174310745], [0.22561112143343764], [0.1839295667957752], [0.15399164367963947], [0.23990357358945413], [0.24308126211880843], [0.2709039023158537], [0.2768114492070072], [0.30400522150918763], [0.31453875874817183], [0.25603975207359664], [0.2657157421832197], [0.22563970633774977], [0.22381503661249824], [0.15395353047389004], [0.14325801211047118], [0.24173300746542414], [0.24965579011057593], [0.2993839953120757], [0.3080928628258084], [0.35615837942649153], [0.36139894521703086], [0.28046078865751], [0.2922234767819115], [0.23639239450979277], [0.23676399826584915], [0.20006574527991772], [0.1638200866122601], [0.26380055359431354], [0.26345277059185046], [0.315277202109566], [0.33013658820110436], [0.3781830481989128], [0.382118236692536], [0.2977403633141338], [0.3173019661650016], [0.26802159113105706], [0.24932706371098756], [0.21480126345277062], [0.19076135892635104], [0.2852058827733074], [0.3043577686623694], [0.35066054949714387], [0.3618896527410541], [0.4014273395553142], [0.4167583765680011], [0.3269731921239061], [0.33429092762778645], [0.2850391374981539], [0.2794317321022768], [0.22239055554761533], [0.19973701888032935], [0.319112343438097], [0.3344100313957532], [0.37772092557920167], [0.3871396515500165], [0.4261008761273172], [0.4382780453642432], [0.3476972477501299], [0.36753040719196195], [0.3021900800853736], [0.3055821553970681], [0.2646771573265492], [0.2195511217192867], [0.351313238145602], [0.34699691759448503], [0.3955055002120047], [0.4046097922353872], [0.4462675261194563], [0.45990728962701466], [0.37169903907080004], [0.39062224572536575], [0.33525805022367694], [0.3439049837780668], [0.29764508029976033], [0.27896008118112825], [0.3817561612379169], [0.3923706890391184], [0.4303647910205287], [0.43060299855646234], [0.4685113458249366], [0.4761101662212186], [0.4132519616390584], [0.42588648934497697], [0.37271856732459585], [0.37226120885560343], [0.3403366348897814], [0.3063634761149304], [0.43065064006364906], [0.4257340365219794], [0.4792735622984169], [0.48236073196411644], [0.5113696456901111], [0.5100547400917576], [0.4460674317892721], [0.46705827985574155], [0.4074063487072477], [0.4161771501803231], [0.3921277173524662], [0.33010800329679235], [0.4647333743050296], [0.4615413933235192], [0.5115792683217326], [0.5081062024478207], [0.5409359650501904], [0.5561193133905985], [0.4758624303838477], [0.5009075707119071], [0.4396977622784075], [0.42919280994373543], [0.4104696976193539], [0.362632860253167], [0.48274662817232894], [0.48399483566062096], [0.5326558711011382], [0.5339993616038037], [0.5623031810234349], [0.5698638882139676], [0.4810505905164816], [0.5011505423985594], [0.4484161580935775], [0.43439049837780674], [0.38326163286501735], [0.3616419169036832], [0.48419969414152386], [0.48640073177355037], [0.5454333233286168], [0.5527605871339346], [0.5762002086698015], [0.6032415281489846], [0.5057241270884846], [0.5288350222247631], [0.4394976679482232], [0.4542141295182015], [0.4297740363314134], [0.3942906417787433], [0.5066007308207203], [0.5175154001171981], [0.5682821901753684], [0.5706976145897352], [0.6154044049337545], [0.6065287921448683], [0.5405691254448526], [0.5592827094677968], [0.4761196945226559], [0.49336115597353036], [0.44896403542622476], [0.4068679996760378], [0.526090871410808], [0.5302261542346154], [0.6123791692273977], [0.5810929914578777], [0.6307544985493161], [0.629782611802707], [0.5541803040480989], [0.5733703031429103], [0.49966412737433363], [0.5211313905126703], [0.4376920548258465], [0.4240189422632574], [0.5657333695408788], [0.5620030395281586], [0.6152995936179437], [0.6185678010109528], [0.6542894030995565], [0.655561431341442], [0.5863192647962612], [0.5975293114372967], [0.5365958237454801], [0.5509502098608392], [0.554528087050562], [0.44597691292561736], [0.5897303967108304], [0.5753712464447526], [0.6438463847242271], [0.6380531774503218], [0.6657710063315563], [0.6754327039890233], [0.6023029904574061], [0.6160189803764632], [0.5559239832111329], [0.5521603041433819], [0.5051095516457759], [0.47222261923478215], [0.6037608205773198], [0.6089108675042044], [0.6728600626009404], [0.65797209160509], [0.7035078441741582], [0.7222833621564453], [0.6201113858438025], [0.6584627991291132], [0.5821839819724537], [0.5908499721297183], [0.536843559582851], [0.5074201647443318], [0.640825913168589], [0.6376720453928282], [0.7081433628234264], [0.6899061938723494], [0.7587910491136298], [0.7434647762516615], [0.6484247335648712], [0.6849752978785237], [0.5954235568196435], [0.6187678953411371], [0.5689729920295759], [0.5227464376063001], [0.6516405352999748], [0.669263128808343], [0.7167998246792535], [0.7207731263786261], [0.7741840200856596], [0.7608396339226589], [0.6765999209150981], [0.719772654727705], [0.6371384605123367], [0.6615547329455316], [0.5533037003158632], [0.5433180404095265], [0.6828028451508092], [0.6839128922682598], [0.73055392780406], [0.7552512851296564], [0.7892959061652876], [0.7816113310560693], [0.6996822311470645], [0.7441079365986822], [0.6880100618863179], [0.6861472789553171], [0.6002829905526892], [0.580364076397921], [0.7386720406286773], [0.7158422303848004], [0.7863659534733041], [0.7885669911053306], [0.7989385472198798], [0.8117636409545452], [0.7167998246792535], [0.7577334076540845], [0.6925979390283992], [0.6714975154954002], [0.6300255834893593], [0.5880581798085764], [0.7391341632483885], [0.7387816160952068], [0.7999723679258317], [0.7911158117398203], [0.8238217064235045], [0.8376901491655591], [0.7092391174887209], [0.7794531707805108], [0.7292437863564252], [0.7248274186402162], [0.6563713369636162], [0.6231270932487221], [0.7557277002015237], [0.7612350584323087], [0.830410526867428], [0.8119351503804175], [0.8525447711063787], [0.8633784498406392], [0.7440793516943702], [0.8009204339188476], [0.7298964750048833], [0.7471045874007269], [0.6721835531988891], [0.6014025659715772], [0.7586290679891949], [0.7716637843554819], [0.8375472246439988], [0.8323114230041782], [0.8797623641621526], [0.8730067984430756], [0.7623069923440098], [0.8413776018218113], [0.7444271346968334], [0.7674856241752064], [0.6908399674132091], [0.649196525981296], [0.8287764231709234], [0.8267040176083011], [0.8565609501622193], [0.8572660444685829], [0.8981710425391018], [0.8832449583375019], [0.7911968023020377], [0.8435119413437764], [0.773478925779296], [0.7984097264901073], [0.6985674198788954], [0.6790248736309021], [0.8372518472994412], [0.8261894893306845], [0.8824922225239518], [0.8879138260418007], [0.9032019856980196], [0.8950934011748397], [0.7851225101357306], [0.8288526495824222], [0.7890100571221672], [0.8020209527348607], [0.7424452479978656], [0.6825551093134383], [0.8536452899223921], [0.8251604327754514], [0.885789014821273], [0.8877518449173658], [0.8860319865079251], [0.894535995540755], [0.8011538773040625], [0.8599149122681646], [0.7999199622679263], [0.8134549144596739], [0.7440602950914956], [0.6755089304005222], [0.8680092043391885], [0.8344552908275806], [0.9058175044425707], [0.8953363728614918], [0.903587881906232], [0.9232114187164426], [0.8028689715627844], [0.8765132133720184], [0.8020209527348607], [0.775789538877852], [0.7407206254377063], [0.6855327035126084], [0.8332547248464752], [0.8320398664132138], [0.8767180718529213], [0.8577472236911687], [0.8773564680492232], [0.8726351946870192], [0.772578501293467], [0.8499530731154212], [0.757609539735399], [0.7827499630778321], [0.7055087874760007], [0.6679386949085522], [0.8208584046764904], [0.8286382628000819], [0.861520431060357], [0.8620873649958791], [0.8910391089132497], [0.8711487796627935], [0.7838361894416892], [0.8326163286501733], [0.7614160961596181], [0.7725118031834055], [0.6831649206054282], [0.6345515266720978], [0.842282790458359], [0.84084401694132], [0.8550935917408684], [0.8701292514089976], [0.8950552879690903], [0.8880138732068927], [0.7967565661907281], [0.8525590635585347], [0.7724451050733441], [0.7782621331008428], [0.6972239293762297], [0.6480245449045026], [0.8369755265577583], [0.8200818481093468], [0.8415443470969648], [0.8618729782135388], [0.8705675532751154], [0.8722397701773694], [0.784274491307807], [0.8311727909824156], [0.7674713317230504], [0.797366377482718], [0.7150275606119076], [0.6705732702559779], [0.8514680730439588], [0.8192052443771112], [0.8734212795556], [0.8715251475695684], [0.8708962796747037], [0.890596042896413], [0.7690530297616496], [0.8391193943811608], [0.7761706709353458], [0.7683002939480994], [0.7240413337716352], [0.6591726575861954], [0.8365086397873283], [0.8319255267959658], [0.8859605242471451], [0.8696385438849743], [0.888533165635228], [0.9081376458425638], [0.7865326987484575], [0.8637691101995704], [0.774712840815432], [0.7803440669649024], [0.7097202967113068], [0.6503399221537773], [0.8384047717733598], [0.8541836389536019], [0.8994478349317059], [0.8862130242352348], [0.9176278340741588], [0.9118060418959415], [0.8110776032510565], [0.8942406181961973], [0.7813635952186984], [0.8329117059947309], [0.7434743045530989], [0.6659234591545538], [0.860286516024221], [0.8831544394738473], [0.9213724565390351], [0.9201099565985871], [0.9572608039027923], [0.927899343023616], [0.8463418468706676], [0.9100814193357822], [0.8165801973311229], [0.8669896760853928], [0.7729215201452113], [0.6935126559663842], [0.8942549106483533], [0.9157221737866899], [0.9553551436153234], [0.950681511760306], [0.9895998589811388], [0.9612674546571955], [0.8794479302147202], [0.9441022196178199], [0.8466467525166625], [0.8924969390331634], [0.7963039718724543], [0.7122643531950776], [0.9047741554351814], [0.931210427773093], [0.9838638215158575], [0.9675751902087175], [1.0], [0.9801858971610427], [0.8824684017703583], [0.9599525490588421], [0.8588334500550261], [0.9008675518458702]]',\n 'length': 16,\n 'sampling_rate': 1,\n 'stride': 1,\n 'start_index': 16,\n 'end_index': 575,\n 'shuffle': False,\n 'reverse': False,\n 'batch_size': 1}"
     },
     "metadata": {}
    }
   ],
   "execution_count": 19
  },
  {
   "cell_type": "code",
   "metadata": {
    "collapsed": true,
    "id": "Hu0OhEnjWsC_",
    "cell_id": "00038-3c7b5396-0a11-41e9-891e-1ca392e46d32",
    "deepnote_to_be_reexecuted": false,
    "source_hash": "59cc72da",
    "execution_start": 1637688677556,
    "execution_millis": 80,
    "deepnote_output_heights": [
     null,
     325
    ],
    "deepnote_cell_type": "code"
   },
   "source": "# As result, we get a set of tuples (x, y) which we can enumerate and index\nprint('Length of the output is {}.'.format(len(generator)))\n\ndemo_x0 = generator[0][0]\ndemo_y0 = generator[0][1]\n\ndemo_x0, demo_y0\n",
   "outputs": [
    {
     "name": "stdout",
     "text": "Length of the output is 560.\n",
     "output_type": "stream"
    },
    {
     "output_type": "execute_result",
     "execution_count": 20,
     "data": {
      "text/plain": "(array([[[0.0130109 ],\n         [0.        ],\n         [0.06089061],\n         [0.05961858],\n         [0.09780801],\n         [0.10763646],\n         [0.13792216],\n         [0.14067108],\n         [0.08485905],\n         [0.08992334],\n         [0.05832273],\n         [0.0594042 ],\n         [0.03760821],\n         [0.01274887],\n         [0.07399679],\n         [0.09844641]]]),\n array([[0.12488268]]))"
     },
     "metadata": {}
    }
   ],
   "execution_count": 20
  },
  {
   "cell_type": "code",
   "metadata": {
    "tags": [],
    "cell_id": "00031-ae5a10aa-a9f6-4874-af5c-c2c39477d6c5",
    "deepnote_to_be_reexecuted": false,
    "source_hash": "85daa609",
    "execution_start": 1637688677684,
    "execution_millis": 4,
    "deepnote_output_heights": [
     21
    ],
    "deepnote_cell_type": "code"
   },
   "source": "generator[0][0].shape\n",
   "outputs": [
    {
     "output_type": "execute_result",
     "execution_count": 21,
     "data": {
      "text/plain": "(1, 16, 1)"
     },
     "metadata": {}
    }
   ],
   "execution_count": 21
  },
  {
   "cell_type": "markdown",
   "source": "### Create the Model\n\nCreate a Keras Sequential Model with as many LSTM units as you want and a final Dense Layer. ",
   "metadata": {
    "id": "PmSPZX85WsC_",
    "cell_id": "00039-9aee68be-0f21-4368-93ed-91c1be93988c",
    "deepnote_cell_type": "markdown"
   }
  },
  {
   "cell_type": "code",
   "metadata": {
    "tags": [],
    "cell_id": "00033-a4272646-f6fa-47cf-9f97-52756d59ab26",
    "deepnote_to_be_reexecuted": false,
    "source_hash": "9d48e58f",
    "execution_start": 1637688677712,
    "execution_millis": 1,
    "deepnote_cell_type": "code"
   },
   "source": "from tensorflow.keras.models import Sequential\nfrom tensorflow.keras.layers import Dense\nfrom tensorflow.keras.layers import LSTM\nfrom tensorflow.keras.layers import Dropout, BatchNormalization",
   "outputs": [],
   "execution_count": 22
  },
  {
   "cell_type": "code",
   "metadata": {
    "collapsed": true,
    "id": "CztPbjiHWsC_",
    "cell_id": "00040-1c28d08b-d040-44a8-a71e-45bd9790cd3c",
    "deepnote_to_be_reexecuted": false,
    "source_hash": "a2f95850",
    "execution_start": 1637688677718,
    "execution_millis": 1,
    "deepnote_cell_type": "code"
   },
   "source": "def lstm_model(input_shape):\n  #write code here\n  #for simplicity you can use the default stateful argument in the LSTM layer and not worry about this argument here\n  model = Sequential()\n  model.add(LSTM(150, input_shape=input_shape, activation='tanh'))\n  # Adding regularization (BatchNormalization + Dropout)\n  #model.add(BatchNormalization())\n  #model.add(Dropout(0.2))\n\n  # Output layer (1 unit)\n  # No activation function -> this is a regression problem\n  model.add(Dense(units=1))\n\n  return model",
   "outputs": [],
   "execution_count": 23
  },
  {
   "cell_type": "code",
   "metadata": {
    "collapsed": true,
    "id": "QXbU7ayyWsC_",
    "cell_id": "00041-bff96f27-febb-45bf-9144-186166529086",
    "deepnote_to_be_reexecuted": false,
    "source_hash": "cfd00724",
    "execution_start": 1637688677744,
    "execution_millis": 629,
    "deepnote_cell_type": "code"
   },
   "source": "model= lstm_model(input_shape=(generator[0][0].shape[1], 1))\n\nprint(model.summary())",
   "outputs": [
    {
     "name": "stdout",
     "text": "Model: \"sequential\"\n_________________________________________________________________\nLayer (type)                 Output Shape              Param #   \n=================================================================\nlstm (LSTM)                  (None, 150)               91200     \n_________________________________________________________________\ndense (Dense)                (None, 1)                 151       \n=================================================================\nTotal params: 91,351\nTrainable params: 91,351\nNon-trainable params: 0\n_________________________________________________________________\nNone\n",
     "output_type": "stream"
    }
   ],
   "execution_count": 24
  },
  {
   "cell_type": "code",
   "metadata": {
    "tags": [],
    "cell_id": "00035-6b405b4b-f808-4071-a117-8b67696e24a9",
    "deepnote_to_be_reexecuted": false,
    "source_hash": "9ce09ad6",
    "execution_start": 1637688678395,
    "execution_millis": 13,
    "deepnote_cell_type": "code"
   },
   "source": "# =============================================================================\n# Compile and train model\n# =============================================================================\n\nfrom tensorflow.keras.optimizers import Adam\n\n# use adam with lr 0.001\noptimizer = Adam(lr=0.001)\n\n# use metrics 'mean_absolute_percentage_error'\nmetrics = [\"mean_absolute_percentage_error\"]\n\nloss = \"mean_squared_error\"\n\nmodel.compile(\n    optimizer=optimizer,\n    metrics=metrics,\n    loss=loss\n)\n",
   "outputs": [],
   "execution_count": 25
  },
  {
   "cell_type": "markdown",
   "source": "Fit the model to the generator (it should be a lot of epochs, but do as many as you have the patience for! :)**",
   "metadata": {
    "id": "L66fGkEXWsC_",
    "cell_id": "00043-04cc6537-ea95-4ec8-9724-84a7ee9de8f0",
    "deepnote_cell_type": "markdown"
   }
  },
  {
   "cell_type": "code",
   "metadata": {
    "id": "tIG_HKHYWsC_",
    "outputId": "ad2da687-c2d0-4072-81f7-fdfb96c459d5",
    "cell_id": "00044-54670a63-d917-4059-8aa1-44b0b873b6b9",
    "deepnote_output_heights": [
     null,
     21
    ],
    "deepnote_to_be_reexecuted": false,
    "source_hash": "6d086830",
    "execution_start": 1637688678503,
    "execution_millis": 402785,
    "deepnote_cell_type": "code"
   },
   "source": "# fit model\nhistory = model.fit_generator(generator,epochs=30)",
   "outputs": [
    {
     "name": "stderr",
     "text": "/shared-libs/python3.7/py/lib/python3.7/site-packages/tensorflow/python/keras/engine/training.py:1844: UserWarning: `Model.fit_generator` is deprecated and will be removed in a future version. Please use `Model.fit`, which supports generators.\n  warnings.warn('`Model.fit_generator` is deprecated and '\nEpoch 1/30\n560/560 [==============================] - 17s 25ms/step - loss: 0.0317 - mean_absolute_percentage_error: 24.1333\nEpoch 2/30\n560/560 [==============================] - 14s 25ms/step - loss: 0.0054 - mean_absolute_percentage_error: 14.1117\nEpoch 3/30\n560/560 [==============================] - 14s 26ms/step - loss: 0.0028 - mean_absolute_percentage_error: 10.5175\nEpoch 4/30\n560/560 [==============================] - 12s 22ms/step - loss: 0.0029 - mean_absolute_percentage_error: 10.6415\nEpoch 5/30\n560/560 [==============================] - 14s 25ms/step - loss: 0.0024 - mean_absolute_percentage_error: 9.4909\nEpoch 6/30\n560/560 [==============================] - 15s 26ms/step - loss: 0.0027 - mean_absolute_percentage_error: 10.0403\nEpoch 7/30\n560/560 [==============================] - 12s 21ms/step - loss: 0.0024 - mean_absolute_percentage_error: 8.9996\nEpoch 8/30\n560/560 [==============================] - 12s 21ms/step - loss: 0.0024 - mean_absolute_percentage_error: 9.2861\nEpoch 9/30\n560/560 [==============================] - 13s 22ms/step - loss: 0.0024 - mean_absolute_percentage_error: 9.5452\nEpoch 10/30\n560/560 [==============================] - 12s 22ms/step - loss: 0.0025 - mean_absolute_percentage_error: 9.9516\nEpoch 11/30\n560/560 [==============================] - 15s 26ms/step - loss: 0.0021 - mean_absolute_percentage_error: 9.0221\nEpoch 12/30\n560/560 [==============================] - 13s 24ms/step - loss: 0.0022 - mean_absolute_percentage_error: 8.2951\nEpoch 13/30\n560/560 [==============================] - 13s 23ms/step - loss: 0.0019 - mean_absolute_percentage_error: 8.3793\nEpoch 14/30\n560/560 [==============================] - 15s 26ms/step - loss: 0.0019 - mean_absolute_percentage_error: 7.7136\nEpoch 15/30\n560/560 [==============================] - 13s 24ms/step - loss: 0.0018 - mean_absolute_percentage_error: 7.7182\nEpoch 16/30\n560/560 [==============================] - 13s 23ms/step - loss: 0.0022 - mean_absolute_percentage_error: 9.0695\nEpoch 17/30\n560/560 [==============================] - 12s 21ms/step - loss: 0.0018 - mean_absolute_percentage_error: 8.7181\nEpoch 18/30\n560/560 [==============================] - 12s 22ms/step - loss: 0.0016 - mean_absolute_percentage_error: 7.8956\nEpoch 19/30\n560/560 [==============================] - 13s 23ms/step - loss: 0.0016 - mean_absolute_percentage_error: 7.9411\nEpoch 20/30\n560/560 [==============================] - 12s 22ms/step - loss: 0.0017 - mean_absolute_percentage_error: 7.8427\nEpoch 21/30\n560/560 [==============================] - 14s 25ms/step - loss: 0.0014 - mean_absolute_percentage_error: 7.2488\nEpoch 22/30\n560/560 [==============================] - 14s 25ms/step - loss: 0.0015 - mean_absolute_percentage_error: 8.1362\nEpoch 23/30\n560/560 [==============================] - 13s 23ms/step - loss: 0.0013 - mean_absolute_percentage_error: 8.0256\nEpoch 24/30\n560/560 [==============================] - 13s 24ms/step - loss: 0.0014 - mean_absolute_percentage_error: 7.0094\nEpoch 25/30\n560/560 [==============================] - 13s 24ms/step - loss: 0.0012 - mean_absolute_percentage_error: 6.7675\nEpoch 26/30\n560/560 [==============================] - 13s 23ms/step - loss: 0.0014 - mean_absolute_percentage_error: 7.7244\nEpoch 27/30\n560/560 [==============================] - 13s 23ms/step - loss: 0.0014 - mean_absolute_percentage_error: 7.4251\nEpoch 28/30\n560/560 [==============================] - 13s 24ms/step - loss: 0.0011 - mean_absolute_percentage_error: 7.0234\nEpoch 29/30\n560/560 [==============================] - 16s 28ms/step - loss: 0.0010 - mean_absolute_percentage_error: 6.4481\nEpoch 30/30\n560/560 [==============================] - 12s 21ms/step - loss: 0.0014 - mean_absolute_percentage_error: 7.7208\n",
     "output_type": "stream"
    }
   ],
   "execution_count": 26
  },
  {
   "cell_type": "markdown",
   "source": "**TASK: Plot the history of the loss that occured during training.**",
   "metadata": {
    "id": "PxZl25GWWsC_",
    "cell_id": "00045-988cf513-4d96-4744-ba48-05881ae15f21",
    "deepnote_cell_type": "markdown"
   }
  },
  {
   "cell_type": "code",
   "metadata": {
    "collapsed": true,
    "id": "ejyTW57jWsC_",
    "cell_id": "00046-7ebb694f-cd82-456f-a2b4-f82c4e74b18f",
    "deepnote_to_be_reexecuted": false,
    "source_hash": "d2fdddfb",
    "execution_start": 1637689081287,
    "execution_millis": 2145258,
    "deepnote_output_heights": [
     21
    ],
    "deepnote_cell_type": "code"
   },
   "source": "# CODE HERE\nhistory.history.keys()",
   "outputs": [
    {
     "output_type": "execute_result",
     "execution_count": 27,
     "data": {
      "text/plain": "dict_keys(['loss', 'mean_absolute_percentage_error'])"
     },
     "metadata": {}
    }
   ],
   "execution_count": 27
  },
  {
   "cell_type": "code",
   "metadata": {
    "id": "ur7pOBmWWsC_",
    "outputId": "93928f67-e387-41a7-97cd-5dd84d278338",
    "cell_id": "00047-abc10867-9237-478d-8517-ff19ea23ad04",
    "deepnote_output_heights": [
     250
    ],
    "deepnote_to_be_reexecuted": false,
    "source_hash": "bf5f0829",
    "execution_start": 1637689081329,
    "execution_millis": 398,
    "deepnote_cell_type": "code"
   },
   "source": "plt.plot(history.history.get('loss'))\nplt.grid()\nplt.show()",
   "outputs": [
    {
     "data": {
      "text/plain": "<Figure size 432x288 with 1 Axes>",
      "image/png": "[encoded data removed]"
     },
     "metadata": {
      "needs_background": "light",
      "image/png": {
       "width": 386,
       "height": 248
      }
     },
     "output_type": "display_data"
    }
   ],
   "execution_count": 28
  },
  {
   "cell_type": "code",
   "metadata": {
    "id": "XlStLJj1WsC_",
    "cell_id": "00048-927cce8b-beea-4d42-98ae-729ca3e63b4e",
    "deepnote_to_be_reexecuted": false,
    "source_hash": "b623e53d",
    "execution_start": 1637689081738,
    "execution_millis": 5,
    "deepnote_cell_type": "code"
   },
   "source": "",
   "outputs": [],
   "execution_count": 28
  },
  {
   "cell_type": "markdown",
   "source": "",
   "metadata": {
    "id": "068En92yyV83",
    "cell_id": "00049-9b7f24f7-040e-4db7-b4b4-bb1a6d924d81",
    "deepnote_cell_type": "markdown"
   }
  },
  {
   "cell_type": "markdown",
   "source": "# Evaluate on Test Data\n\nBased on your test data and input size, create an appropriately sized \"first evaluation batch\"",
   "metadata": {
    "id": "f3s8wyh2WsC_",
    "cell_id": "00050-d9c11b71-2624-4230-ac69-769c2a3f9304",
    "deepnote_cell_type": "markdown"
   }
  },
  {
   "cell_type": "code",
   "metadata": {
    "collapsed": true,
    "id": "EkKSqS40WsC_",
    "cell_id": "00051-9d9a7c96-1b20-47b4-8ea2-08736a3b46cd",
    "deepnote_to_be_reexecuted": false,
    "source_hash": "506e55db",
    "execution_start": 1637689081768,
    "execution_millis": 2145105,
    "deepnote_cell_type": "code"
   },
   "source": "first_eval_batch = scaled_train[-n_input:]",
   "outputs": [],
   "execution_count": 29
  },
  {
   "cell_type": "code",
   "metadata": {
    "tags": [],
    "cell_id": "00047-1fe98b45-990d-4473-8a2b-220edecf6ddf",
    "deepnote_to_be_reexecuted": false,
    "source_hash": "7077e11",
    "execution_start": 1637689081802,
    "execution_millis": 2145079,
    "deepnote_output_heights": [
     306
    ],
    "deepnote_cell_type": "code"
   },
   "source": "first_eval_batch",
   "outputs": [
    {
     "output_type": "execute_result",
     "execution_count": 30,
     "data": {
      "text/plain": "array([[0.87944793],\n       [0.94410222],\n       [0.84664675],\n       [0.89249694],\n       [0.79630397],\n       [0.71226435],\n       [0.90477416],\n       [0.93121043],\n       [0.98386382],\n       [0.96757519],\n       [1.        ],\n       [0.9801859 ],\n       [0.8824684 ],\n       [0.95995255],\n       [0.85883345],\n       [0.90086755]])"
     },
     "metadata": {}
    }
   ],
   "execution_count": 30
  },
  {
   "cell_type": "code",
   "metadata": {
    "collapsed": true,
    "id": "NrxOcrf5WsC_",
    "cell_id": "00053-354169f6-cf2b-46cf-9342-a39e8a66d69a",
    "deepnote_to_be_reexecuted": false,
    "source_hash": "161f527",
    "execution_start": 1637689081861,
    "execution_millis": 2145093,
    "deepnote_cell_type": "code"
   },
   "source": "# reshape the data to get it into the 3 dimensional shape needed for the keras model and model.predict()\n# same dim as TimeSeriesGenerator output \nfirst_eval_batch = first_eval_batch.reshape((1, n_input, n_features))",
   "outputs": [],
   "execution_count": 31
  },
  {
   "cell_type": "markdown",
   "source": "**TASK: predict the first point of the test dataset**",
   "metadata": {
    "id": "UiSERTl5yqCd",
    "cell_id": "00054-fbd3b089-72c3-40dc-9dcb-ef088d84c7ff",
    "deepnote_cell_type": "markdown"
   }
  },
  {
   "cell_type": "code",
   "metadata": {
    "id": "yqWWrMTQysYw",
    "cell_id": "00055-1483ee31-fbc1-4107-a362-97e11784b1f9",
    "deepnote_to_be_reexecuted": false,
    "source_hash": "97c71f4e",
    "execution_start": 1637689081861,
    "execution_millis": 850,
    "deepnote_output_heights": [
     21
    ],
    "deepnote_cell_type": "code"
   },
   "source": "# Code here\np= model.predict(first_eval_batch)[0]\np",
   "outputs": [
    {
     "output_type": "execute_result",
     "execution_count": 32,
     "data": {
      "text/plain": "array([0.8105498], dtype=float32)"
     },
     "metadata": {}
    }
   ],
   "execution_count": 32
  },
  {
   "cell_type": "code",
   "metadata": {
    "tags": [],
    "cell_id": "00052-2c2e9cd5-6028-455e-bf80-5be105fb9527",
    "deepnote_to_be_reexecuted": false,
    "source_hash": "aa1e608a",
    "execution_start": 1637689082732,
    "execution_millis": 2144957,
    "deepnote_output_heights": [
     21
    ],
    "deepnote_cell_type": "code"
   },
   "source": "scaled_test[0]",
   "outputs": [
    {
     "output_type": "execute_result",
     "execution_count": 33,
     "data": {
      "text/plain": "array([0.80158265])"
     },
     "metadata": {}
    }
   ],
   "execution_count": 33
  },
  {
   "cell_type": "markdown",
   "source": "## Now let's put this logic in a for loop to predict into the future for the entire test range.\n\n\n**TASK: PAY CLOSE ATTENTION HERE TO WHAT IS BEING OUTPUTED AND IN WHAT DIMENSIONS. ADD YOUR OWN PRINT() STATEMENTS TO SEE WHAT IS TRULY GOING ON!!**",
   "metadata": {
    "id": "_FB_KeZUWsDA",
    "cell_id": "00057-d72516e5-1bc1-4687-acb0-c778b8bf042d",
    "deepnote_cell_type": "markdown"
   }
  },
  {
   "cell_type": "code",
   "metadata": {
    "collapsed": true,
    "id": "T5tl1ZB2WsDA",
    "cell_id": "00058-9d9e0fcc-a338-410c-92ed-65b4dca09cfa",
    "deepnote_to_be_reexecuted": false,
    "source_hash": "244f37d7",
    "execution_start": 1637689082755,
    "execution_millis": 1061,
    "deepnote_cell_type": "code"
   },
   "source": "# FORECAST USING RNN MODEL\n\n # list for holding predictions\ntest_predictions = []\n\ncurrent_batch = first_eval_batch\n\n# how far into future will you foreacst (here just len test) \nfor i in range(len(test)):\n    \n    # get prediction 1 time stamp ahead of historical 12 points ([0] is for grabbing just the number instead of [array])\n    current_pred = model.predict(current_batch)[0]\n    \n    # store that  prediction\n    test_predictions.append(current_pred)\n\n    #print(current_batch[-1], current_pred)\n    \n    # update current batch to now include prediction and drop first value\n    # append current prediction and this is all the code we need to forecast into the future, ie. into the testset \n    current_batch = np.append(current_batch[:,1:,:],[[current_pred]],axis=1)\n    \n    ",
   "outputs": [],
   "execution_count": 34
  },
  {
   "cell_type": "markdown",
   "source": "## Inverse Transformations and Compare\n\n**TASK: Inverse Transform your new forecasted predictions to retrieve back the original and not the scaled values**",
   "metadata": {
    "id": "UbcMGYpKWsDA",
    "cell_id": "00059-79c952b7-e225-4dc4-a8ca-b3343c504732",
    "deepnote_cell_type": "markdown"
   }
  },
  {
   "cell_type": "code",
   "metadata": {
    "tags": [],
    "cell_id": "00057-02d01e20-c663-4d6f-89c0-451f0876c8a1",
    "deepnote_to_be_reexecuted": false,
    "source_hash": "15187875",
    "execution_start": 1637689083834,
    "execution_millis": 34,
    "deepnote_output_heights": [
     230
    ],
    "deepnote_cell_type": "code"
   },
   "source": "test_predictions",
   "outputs": [
    {
     "output_type": "execute_result",
     "execution_count": 35,
     "data": {
      "text/plain": "[array([0.8105498], dtype=float32),\n array([0.71245694], dtype=float32),\n array([0.9578522], dtype=float32),\n array([0.9402555], dtype=float32),\n array([0.9824209], dtype=float32),\n array([1.0064874], dtype=float32),\n array([0.9890836], dtype=float32),\n array([0.9707524], dtype=float32),\n array([0.94893414], dtype=float32),\n array([0.932802], dtype=float32),\n array([0.91776955], dtype=float32),\n array([0.89325786], dtype=float32)]"
     },
     "metadata": {}
    }
   ],
   "execution_count": 35
  },
  {
   "cell_type": "code",
   "metadata": {
    "collapsed": true,
    "id": "L461lh9fWsDA",
    "cell_id": "00060-d7a5b438-691c-42b7-82ae-c1633a418c07",
    "deepnote_to_be_reexecuted": false,
    "source_hash": "53ccd8b1",
    "execution_start": 1637689083887,
    "execution_millis": 17,
    "deepnote_output_heights": [
     230
    ],
    "deepnote_cell_type": "code"
   },
   "source": "# invert scale to get back true predicted values! \n#CODE HERE\ntest_predictions_inverse = scaler.inverse_transform(test_predictions)\ntest_predictions_inverse",
   "outputs": [
    {
     "output_type": "execute_result",
     "execution_count": 37,
     "data": {
      "text/plain": "array([[247577.21265203],\n       [226987.42449975],\n       [278496.13143593],\n       [274802.57447612],\n       [283653.13380718],\n       [288704.70535326],\n       [285051.63423067],\n       [281203.90329927],\n       [276624.22446281],\n       [273238.0771156 ],\n       [270082.74658263],\n       [264937.71730971]])"
     },
     "metadata": {}
    }
   ],
   "execution_count": 37
  },
  {
   "cell_type": "code",
   "metadata": {
    "id": "7CEUenu_WsDA",
    "outputId": "ddb054a3-e990-4295-d718-8b05eec827bd",
    "cell_id": "00062-d6477a64-163b-4061-a736-8a18f5f11209",
    "deepnote_output_heights": [
     230
    ],
    "deepnote_to_be_reexecuted": false,
    "source_hash": "b623e53d",
    "execution_start": 1637689083918,
    "execution_millis": 1,
    "deepnote_cell_type": "code"
   },
   "source": "",
   "outputs": [],
   "execution_count": 37
  },
  {
   "cell_type": "markdown",
   "source": "**TASK: Create a new dataframe that has both the original test values and your predictions for them.**",
   "metadata": {
    "id": "ex_kcaHYWsDA",
    "cell_id": "00063-598cb93b-acfb-44f6-9db6-7c7fb2e97ed2",
    "deepnote_cell_type": "markdown"
   }
  },
  {
   "cell_type": "code",
   "metadata": {
    "id": "JmkQx8ZsWsDA",
    "cell_id": "00064-a5dc92b6-2af3-4879-847e-170a4fa9e8d4",
    "deepnote_to_be_reexecuted": false,
    "source_hash": "2131d8",
    "execution_start": 1637689083958,
    "execution_millis": 45,
    "deepnote_cell_type": "code"
   },
   "source": "# CODE HERE\n\ndf_pred = test.copy()\n\ndf_pred['Predictions'] = test_predictions_inverse.round(0)\ndf_pred",
   "outputs": [
    {
     "output_type": "execute_result",
     "execution_count": 38,
     "data": {
      "application/vnd.deepnote.dataframe.v2+json": {
       "row_count": 12,
       "column_count": 2,
       "columns": [
        {
         "name": "Value",
         "dtype": "float64",
         "stats": {
          "unique_count": 12,
          "nan_count": 0,
          "min": "226660.0",
          "max": "288145.0",
          "histogram": [
           {
            "bin_start": 226660,
            "bin_end": 232808.5,
            "count": 1
           },
           {
            "bin_start": 232808.5,
            "bin_end": 238957,
            "count": 0
           },
           {
            "bin_start": 238957,
            "bin_end": 245105.5,
            "count": 0
           },
           {
            "bin_start": 245105.5,
            "bin_end": 251254,
            "count": 1
           },
           {
            "bin_start": 251254,
            "bin_end": 257402.5,
            "count": 0
           },
           {
            "bin_start": 257402.5,
            "bin_end": 263551,
            "count": 2
           },
           {
            "bin_start": 263551,
            "bin_end": 269699.5,
            "count": 2
           },
           {
            "bin_start": 269699.5,
            "bin_end": 275848,
            "count": 1
           },
           {
            "bin_start": 275848,
            "bin_end": 281996.5,
            "count": 1
           },
           {
            "bin_start": 281996.5,
            "bin_end": 288145,
            "count": 4
           }
          ]
         }
        },
        {
         "name": "Predictions",
         "dtype": "float64",
         "stats": {
          "unique_count": 12,
          "nan_count": 0,
          "min": "226987.0",
          "max": "288705.0",
          "histogram": [
           {
            "bin_start": 226987,
            "bin_end": 233158.8,
            "count": 1
           },
           {
            "bin_start": 233158.8,
            "bin_end": 239330.6,
            "count": 0
           },
           {
            "bin_start": 239330.6,
            "bin_end": 245502.4,
            "count": 0
           },
           {
            "bin_start": 245502.4,
            "bin_end": 251674.2,
            "count": 1
           },
           {
            "bin_start": 251674.2,
            "bin_end": 257846,
            "count": 0
           },
           {
            "bin_start": 257846,
            "bin_end": 264017.8,
            "count": 0
           },
           {
            "bin_start": 264017.8,
            "bin_end": 270189.6,
            "count": 2
           },
           {
            "bin_start": 270189.6,
            "bin_end": 276361.4,
            "count": 2
           },
           {
            "bin_start": 276361.4,
            "bin_end": 282533.2,
            "count": 3
           },
           {
            "bin_start": 282533.2,
            "bin_end": 288705,
            "count": 3
           }
          ]
         }
        },
        {
         "name": "_deepnote_index_column",
         "dtype": "datetime64[ns]"
        }
       ],
       "rows_top": [
        {
         "Value": 245695,
         "Predictions": 247577,
         "_deepnote_index_column": "2018-01-01T00:00:00.000000"
        },
        {
         "Value": 226660,
         "Predictions": 226987,
         "_deepnote_index_column": "2018-02-01T00:00:00.000000"
        },
        {
         "Value": 268480,
         "Predictions": 278496,
         "_deepnote_index_column": "2018-03-01T00:00:00.000000"
        },
        {
         "Value": 272475,
         "Predictions": 274803,
         "_deepnote_index_column": "2018-04-01T00:00:00.000000"
        },
        {
         "Value": 286164,
         "Predictions": 283653,
         "_deepnote_index_column": "2018-05-01T00:00:00.000000"
        },
        {
         "Value": 280877,
         "Predictions": 288705,
         "_deepnote_index_column": "2018-06-01T00:00:00.000000"
        },
        {
         "Value": 288145,
         "Predictions": 285052,
         "_deepnote_index_column": "2018-07-01T00:00:00.000000"
        },
        {
         "Value": 286608,
         "Predictions": 281204,
         "_deepnote_index_column": "2018-08-01T00:00:00.000000"
        },
        {
         "Value": 260595,
         "Predictions": 276624,
         "_deepnote_index_column": "2018-09-01T00:00:00.000000"
        },
        {
         "Value": 282174,
         "Predictions": 273238,
         "_deepnote_index_column": "2018-10-01T00:00:00.000000"
        },
        {
         "Value": 258590,
         "Predictions": 270083,
         "_deepnote_index_column": "2018-11-01T00:00:00.000000"
        },
        {
         "Value": 268413,
         "Predictions": 264938,
         "_deepnote_index_column": "2018-12-01T00:00:00.000000"
        }
       ],
       "rows_bottom": null
      },
      "text/plain": "               Value  Predictions\nDATE                             \n2018-01-01  245695.0     247577.0\n2018-02-01  226660.0     226987.0\n2018-03-01  268480.0     278496.0\n2018-04-01  272475.0     274803.0\n2018-05-01  286164.0     283653.0\n2018-06-01  280877.0     288705.0\n2018-07-01  288145.0     285052.0\n2018-08-01  286608.0     281204.0\n2018-09-01  260595.0     276624.0\n2018-10-01  282174.0     273238.0\n2018-11-01  258590.0     270083.0\n2018-12-01  268413.0     264938.0",
      "text/html": "<div>\n<style scoped>\n    .dataframe tbody tr th:only-of-type {\n        vertical-align: middle;\n    }\n\n    .dataframe tbody tr th {\n        vertical-align: top;\n    }\n\n    .dataframe thead th {\n        text-align: right;\n    }\n</style>\n<table border=\"1\" class=\"dataframe\">\n  <thead>\n    <tr style=\"text-align: right;\">\n      <th></th>\n      <th>Value</th>\n      <th>Predictions</th>\n    </tr>\n    <tr>\n      <th>DATE</th>\n      <th></th>\n      <th></th>\n    </tr>\n  </thead>\n  <tbody>\n    <tr>\n      <th>2018-01-01</th>\n      <td>245695.0</td>\n      <td>247577.0</td>\n    </tr>\n    <tr>\n      <th>2018-02-01</th>\n      <td>226660.0</td>\n      <td>226987.0</td>\n    </tr>\n    <tr>\n      <th>2018-03-01</th>\n      <td>268480.0</td>\n      <td>278496.0</td>\n    </tr>\n    <tr>\n      <th>2018-04-01</th>\n      <td>272475.0</td>\n      <td>274803.0</td>\n    </tr>\n    <tr>\n      <th>2018-05-01</th>\n      <td>286164.0</td>\n      <td>283653.0</td>\n    </tr>\n    <tr>\n      <th>2018-06-01</th>\n      <td>280877.0</td>\n      <td>288705.0</td>\n    </tr>\n    <tr>\n      <th>2018-07-01</th>\n      <td>288145.0</td>\n      <td>285052.0</td>\n    </tr>\n    <tr>\n      <th>2018-08-01</th>\n      <td>286608.0</td>\n      <td>281204.0</td>\n    </tr>\n    <tr>\n      <th>2018-09-01</th>\n      <td>260595.0</td>\n      <td>276624.0</td>\n    </tr>\n    <tr>\n      <th>2018-10-01</th>\n      <td>282174.0</td>\n      <td>273238.0</td>\n    </tr>\n    <tr>\n      <th>2018-11-01</th>\n      <td>258590.0</td>\n      <td>270083.0</td>\n    </tr>\n    <tr>\n      <th>2018-12-01</th>\n      <td>268413.0</td>\n      <td>264938.0</td>\n    </tr>\n  </tbody>\n</table>\n</div>"
     },
     "metadata": {}
    }
   ],
   "execution_count": 38
  },
  {
   "cell_type": "markdown",
   "source": "**TASK: Plot out the test set against your own predicted values.**",
   "metadata": {
    "id": "DalVpo-9WsDA",
    "cell_id": "00066-a59b4b94-7ce5-4560-9d29-0795453bcb0c",
    "deepnote_cell_type": "markdown"
   }
  },
  {
   "cell_type": "code",
   "metadata": {
    "id": "tMM8L1q_WsDA",
    "outputId": "6abd997b-4e42-4f3b-c690-e27120fa9732",
    "cell_id": "00068-972eb688-8faa-488e-bae4-8a96ce6a9c21",
    "deepnote_output_heights": [
     375
    ],
    "deepnote_to_be_reexecuted": false,
    "source_hash": "5c8e1d4c",
    "execution_start": 1637689084002,
    "execution_millis": 614,
    "deepnote_cell_type": "code"
   },
   "source": "# CODE HERE\nplt.figure(figsize=(12,6))\nplt.title(f'Prediction with n_input={n_input}')\nplt.plot(df_pred['Value'], label='Value')\nplt.plot(df_pred['Predictions'], label='Predictions')\nplt.legend()\nplt.show()",
   "outputs": [
    {
     "data": {
      "text/plain": "<Figure size 864x432 with 1 Axes>",
      "image/png": "[encoded data removed]"
     },
     "metadata": {
      "needs_background": "light",
      "image/png": {
       "width": 728,
       "height": 373
      }
     },
     "output_type": "display_data"
    }
   ],
   "execution_count": 39
  },
  {
   "cell_type": "markdown",
   "source": "# Saving Models\n\n**TASK: Optional, Save your model!**",
   "metadata": {
    "id": "ieG0YvGuWsDA",
    "cell_id": "00069-1a2871b4-74b5-4176-82f5-de37afbfb43c",
    "deepnote_cell_type": "markdown"
   }
  },
  {
   "cell_type": "code",
   "metadata": {
    "collapsed": true,
    "id": "gO7ot9UeWsDA",
    "cell_id": "00070-e14ae3a1-018a-4f40-afc1-ecd7c257b071",
    "deepnote_to_be_reexecuted": false,
    "source_hash": "2aaa252d",
    "execution_start": 1637689084703,
    "execution_millis": 10182,
    "deepnote_cell_type": "code"
   },
   "source": "model.save(f'/work/model_{n_input}')",
   "outputs": [
    {
     "name": "stderr",
     "text": "WARNING:absl:Found untraced functions such as lstm_cell_layer_call_and_return_conditional_losses, lstm_cell_layer_call_fn, lstm_cell_layer_call_fn, lstm_cell_layer_call_and_return_conditional_losses, lstm_cell_layer_call_and_return_conditional_losses while saving (showing 5 of 5). These functions will not be directly callable after loading.\nWARNING:absl:Found untraced functions such as lstm_cell_layer_call_and_return_conditional_losses, lstm_cell_layer_call_fn, lstm_cell_layer_call_fn, lstm_cell_layer_call_and_return_conditional_losses, lstm_cell_layer_call_and_return_conditional_losses while saving (showing 5 of 5). These functions will not be directly callable after loading.\nINFO:tensorflow:Assets written to: /work/model_16/assets\nINFO:tensorflow:Assets written to: /work/model_16/assets\n",
     "output_type": "stream"
    }
   ],
   "execution_count": 40
  },
  {
   "cell_type": "markdown",
   "source": "<a style='text-decoration:none;line-height:16px;display:flex;color:#5B5B62;padding:10px;justify-content:end;' href='https://deepnote.com?utm_source=created-in-deepnote-cell&projectId=a109ea11-a7da-42aa-8af0-3a0cdafc917e' target=\"_blank\">\n<img alt='Created in deepnote.com' style='display:inline;max-height:16px;margin:0px;margin-right:7.5px;' src='data:image/svg+xml;base64,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' > </img>\nCreated in <span style='font-weight:600;margin-left:4px;'>Deepnote</span></a>",
   "metadata": {
    "tags": [],
    "created_in_deepnote_cell": true,
    "deepnote_cell_type": "markdown"
   }
  }
 ],
 "nbformat": 4,
 "nbformat_minor": 0,
 "metadata": {
  "kernelspec": {
   "display_name": "Python 3",
   "language": "python",
   "name": "python3"
  },
  "language_info": {
   "codemirror_mode": {
    "name": "ipython",
    "version": 3
   },
   "file_extension": ".py",
   "mimetype": "text/x-python",
   "name": "python",
   "nbconvert_exporter": "python",
   "pygments_lexer": "ipython3",
   "version": "3.6.6"
  },
  "colab": {
   "name": "LSTM for Miles Traveled Time Series Forecasting.ipynb",
   "provenance": [],
   "collapsed_sections": []
  },
  "deepnote_notebook_id": "a1c934c9-65a5-4991-8b29-f52e7f34afa0",
  "deepnote": {},
  "deepnote_execution_queue": []
 }
}