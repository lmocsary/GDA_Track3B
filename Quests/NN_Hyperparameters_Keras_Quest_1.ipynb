{
  "nbformat": 4,
  "nbformat_minor": 0,
  "metadata": {
    "kernelspec": {
      "display_name": "PyCharm (adams)",
      "language": "python",
      "name": "pycharm-feb95198"
    },
    "language_info": {
      "codemirror_mode": {
        "name": "ipython",
        "version": 3
      },
      "file_extension": ".py",
      "mimetype": "text/x-python",
      "name": "python",
      "nbconvert_exporter": "python",
      "pygments_lexer": "ipython3",
      "version": "3.7.6"
    },
    "pycharm": {
      "stem_cell": {
        "cell_type": "raw",
        "metadata": {
          "collapsed": false
        },
        "source": []
      }
    },
    "colab": {
      "name": "NN_Hyperparameters_Keras_Quest_LM.ipynb",
      "provenance": [],
      "collapsed_sections": []
    },
    "deepnote_notebook_id": "03d2800f-60a7-448c-a5ec-7aaf2a9ceee2",
    "deepnote": {},
    "deepnote_execution_queue": []
  },
  "cells": [
    {
      "cell_type": "markdown",
      "metadata": {
        "tags": [],
        "is_collapsed": false,
        "cell_id": "00000-d72e61ba-131c-49a9-9a95-9b3e16766eed",
        "deepnote_cell_type": "text-cell-h1",
        "id": "nwTiIZSXkKJx"
      },
      "source": [
        "# Neural Networks using Keras"
      ]
    },
    {
      "cell_type": "markdown",
      "metadata": {
        "tags": [],
        "is_collapsed": false,
        "cell_id": "00001-ba4791ec-f7ae-464e-ba2b-068f4e973984",
        "deepnote_cell_type": "text-cell-h2",
        "id": "hFe0RIPdkKJ1"
      },
      "source": [
        "## Preparing the Keras framework"
      ]
    },
    {
      "cell_type": "markdown",
      "metadata": {
        "id": "O-u2B8DpkUX0",
        "cell_id": "00002-84311668-e769-431a-8d38-638292dd6709",
        "deepnote_cell_type": "markdown"
      },
      "source": [
        "Our goal is to tune the Apple Store NN for multi-class classification. We need to make several decisions when configuring our NN and focus on finding the optimal parameters for the\n",
        " - number of hidden layers\n",
        " - number of neurons in hidden layers\n",
        " - activation functions\n",
        " - type of weight initialization\n",
        " - learning rate and momentum\n",
        " - optimizer\n",
        " - size of batch\n",
        " - number of epochs\n",
        " - regularization (dropout)\n",
        "\n",
        "\n",
        "\n",
        "In a first Part of this Notebook we will use Grid Search for Hyperparameter Tuning.\n",
        "\n",
        "Then in a second Part we will use Keras-Tuner"
      ]
    },
    {
      "cell_type": "code",
      "metadata": {
        "pycharm": {
          "is_executing": false
        },
        "id": "2Y3IOLW0kUX1",
        "cell_id": "00003-1e34e965-e1f9-488f-98e3-99848d3b688f",
        "deepnote_to_be_reexecuted": false,
        "source_hash": "a587759c",
        "execution_start": 1637068421858,
        "execution_millis": 7821,
        "deepnote_cell_type": "code"
      },
      "source": [
        "# Setting up the environment: import standard libraries and load the data. \n",
        "import numpy as np\n",
        "import matplotlib.pyplot as plt\n",
        "import pandas as pd\n",
        "from sklearn.preprocessing import LabelEncoder\n",
        "from sklearn.model_selection import train_test_split\n",
        "\n",
        "#This package provides utilities for Keras, such as modified callbacks, data genereators, encoder, etc.\n",
        "#from keras.utils import np_utils    # it does not work now with the actual version of tensorflow and keras\n",
        "from tensorflow.keras import utils   # this works\n"
      ],
      "execution_count": null,
      "outputs": []
    },
    {
      "cell_type": "markdown",
      "metadata": {
        "id": "6zaqSm-UvCjK",
        "cell_id": "00004-31c44c47-bf9f-4b05-9c4b-c6a1980a208d",
        "deepnote_cell_type": "markdown"
      },
      "source": [
        "##Use case: app rating analysis\n",
        "NNs often **solve classification problems with many classes**. To illustrate their functioning in a context that is more related to NLP examples,we introduce the data set concerned with app ratings. The **original data is available on Kaggle**. There, you also find a data dictionary with some information on the variables. However, the variable names are rather self-explanatory. A cleaned version of the data is available in this folder. The easiest way for you is to use the cleaned version but feel very free to play around with the version on Kaggle. You can find a Python script that starts from the original data and goes through a couple of pre-processing operations to produce the version we use below (**app_store_dpp.py**)."
      ]
    },
    {
      "cell_type": "code",
      "metadata": {
        "colab": {
          "base_uri": "https://localhost:8080/"
        },
        "id": "_T9DhdD9vHo0",
        "cell_id": "00005-6c61d59d-76f2-4e5c-8568-3e6e4638670a",
        "deepnote_to_be_reexecuted": false,
        "source_hash": "fa038d4",
        "execution_start": 1637068429700,
        "execution_millis": 374,
        "deepnote_cell_type": "code",
        "outputId": "a26a8b4d-e477-4c7c-a54a-2c8ff1bf8344"
      },
      "source": [
        "# Load dataset and set app name as index\n",
        "\n",
        "app = pd.read_csv(\"https://raw.githubusercontent.com/murpi/wilddata/master/quests/AppleStore_prep.csv\", \n",
        "                  index_col=False, sep='\\t', encoding='utf-8')\n",
        "app = app.set_index('track_name')\n",
        "app.info()"
      ],
      "execution_count": null,
      "outputs": [
        {
          "name": "stdout",
          "text": "<class 'pandas.core.frame.DataFrame'>\nIndex: 7197 entries, PAC-MAN Premium to Escape the Sweet Shop Series\nData columns (total 36 columns):\n #   Column                         Non-Null Count  Dtype  \n---  ------                         --------------  -----  \n 0   size_bytes                     7197 non-null   float64\n 1   price                          7197 non-null   float64\n 2   rating_count_tot               7197 non-null   float64\n 3   sup_devices.num                7197 non-null   float64\n 4   ipadSc_urls.num                7197 non-null   float64\n 5   lang.num                       7197 non-null   float64\n 6   vpp_lic                        7197 non-null   float64\n 7   currency_USD                   7197 non-null   int64  \n 8   cont_rating_12+                7197 non-null   int64  \n 9   cont_rating_17+                7197 non-null   int64  \n 10  cont_rating_4+                 7197 non-null   int64  \n 11  cont_rating_9+                 7197 non-null   int64  \n 12  prime_genre_Book               7197 non-null   int64  \n 13  prime_genre_Business           7197 non-null   int64  \n 14  prime_genre_Catalogs           7197 non-null   int64  \n 15  prime_genre_Education          7197 non-null   int64  \n 16  prime_genre_Entertainment      7197 non-null   int64  \n 17  prime_genre_Finance            7197 non-null   int64  \n 18  prime_genre_Food & Drink       7197 non-null   int64  \n 19  prime_genre_Games              7197 non-null   int64  \n 20  prime_genre_Health & Fitness   7197 non-null   int64  \n 21  prime_genre_Lifestyle          7197 non-null   int64  \n 22  prime_genre_Medical            7197 non-null   int64  \n 23  prime_genre_Music              7197 non-null   int64  \n 24  prime_genre_Navigation         7197 non-null   int64  \n 25  prime_genre_News               7197 non-null   int64  \n 26  prime_genre_Photo & Video      7197 non-null   int64  \n 27  prime_genre_Productivity       7197 non-null   int64  \n 28  prime_genre_Reference          7197 non-null   int64  \n 29  prime_genre_Shopping           7197 non-null   int64  \n 30  prime_genre_Social Networking  7197 non-null   int64  \n 31  prime_genre_Sports             7197 non-null   int64  \n 32  prime_genre_Travel             7197 non-null   int64  \n 33  prime_genre_Utilities          7197 non-null   int64  \n 34  prime_genre_Weather            7197 non-null   int64  \n 35  user_rating                    7197 non-null   float64\ndtypes: float64(8), int64(28)\nmemory usage: 2.0+ MB\n",
          "output_type": "stream"
        }
      ]
    },
    {
      "cell_type": "markdown",
      "metadata": {
        "id": "ql36CaO7pRgQ",
        "cell_id": "00006-30caab83-2dfd-4d5d-bb83-57233bb1bbb6",
        "deepnote_cell_type": "markdown"
      },
      "source": [
        "So **36 columns**, **one of which is the target variable**. We consider the **user rating as our target** and will try to set up a NN that predict the rating from the app characteristics including information on its price, genre, etc.\n",
        "\n",
        "Let's have a quick look at the target variable. Note that we that we have reduced the number of rating classes compared to the original version of the data on Kaggle (see app_store_dpp.py for details).  \n"
      ]
    },
    {
      "cell_type": "code",
      "metadata": {
        "colab": {
          "base_uri": "https://localhost:8080/",
          "height": 338
        },
        "id": "M1xsGs-Iul2f",
        "cell_id": "00007-5a4d5787-ca62-419d-aba1-50f9dbc8f2fa",
        "deepnote_to_be_reexecuted": false,
        "source_hash": "7f420a17",
        "execution_start": 1637068429956,
        "execution_millis": 362,
        "deepnote_cell_type": "code",
        "outputId": "af34c029-d7a1-4885-deb6-db3a3edba9f8"
      },
      "source": [
        "# Inspect the target\n",
        "import seaborn as sns\n",
        "sns.countplot(x=app.user_rating);"
      ],
      "execution_count": null,
      "outputs": [
        {
          "data": {
            "text/plain": "<Figure size 432x288 with 1 Axes>",
            "image/png": "[encoded data removed]"
          },
          "metadata": {
            "needs_background": "light",
            "image/png": {
              "width": 395,
              "height": 263
            }
          },
          "output_type": "display_data"
        }
      ]
    },
    {
      "cell_type": "code",
      "metadata": {
        "colab": {
          "base_uri": "https://localhost:8080/"
        },
        "id": "-mjSj4z4y4yt",
        "cell_id": "00008-b299b4d4-0974-4b7a-ab62-f0b77da49521",
        "deepnote_to_be_reexecuted": false,
        "source_hash": "d4f1acf4",
        "execution_start": 1637068430328,
        "execution_millis": 24,
        "deepnote_cell_type": "code",
        "outputId": "d218c485-e502-4711-e038-eadb1736c209"
      },
      "source": [
        "app[\"user_rating\"]"
      ],
      "execution_count": null,
      "outputs": [
        {
          "output_type": "execute_result",
          "execution_count": 4,
          "data": {
            "text/plain": "track_name\nPAC-MAN Premium                                       4.0\nEvernote - stay organized                             4.0\nWeatherBug - Local Weather, Radar, Maps, Alerts       4.0\neBay: Best App to Buy, Sell, Save! Online Shopping    4.0\nBible                                                 4.0\n                                                     ... \nKubik                                                 4.0\nVR Roller-Coaster                                     4.0\nBret Michaels Emojis + Lyric Keyboard                 4.0\nVR Roller Coaster World - Virtual Reality             4.0\nEscape the Sweet Shop Series                          5.0\nName: user_rating, Length: 7197, dtype: float64"
          },
          "metadata": {}
        }
      ]
    },
    {
      "cell_type": "code",
      "metadata": {
        "colab": {
          "base_uri": "https://localhost:8080/"
        },
        "id": "udtwVOb_uJGz",
        "cell_id": "00009-6ca787fa-7435-4c47-9cee-747475a92a44",
        "deepnote_to_be_reexecuted": false,
        "source_hash": "31323153",
        "execution_start": 1637068430403,
        "execution_millis": 3,
        "deepnote_cell_type": "code",
        "outputId": "ff1472a5-afbe-4f13-ec93-2effa54ed56b"
      },
      "source": [
        "# Prepare the target variable\n",
        "# LabelEncoder() transforms a string vector to a num vector\n",
        "encoder = LabelEncoder()\n",
        "#fit label encoder\n",
        "encoder.fit(app[\"user_rating\"])\n",
        "#transform and return encoded labels\n",
        "encoder.transform(app[\"user_rating\"])\n",
        "\n",
        "#in this case it is not necessary, the labels are already numeric in appropriate range of 0...5\n"
      ],
      "execution_count": null,
      "outputs": [
        {
          "output_type": "execute_result",
          "execution_count": 5,
          "data": {
            "text/plain": "array([4, 4, 4, ..., 4, 4, 5])"
          },
          "metadata": {}
        }
      ]
    },
    {
      "cell_type": "code",
      "metadata": {
        "id": "0gqhPUjryQBa",
        "cell_id": "00010-9b16f03d-1e0d-477c-b21c-1fde10211139",
        "output_cleared": true,
        "deepnote_to_be_reexecuted": false,
        "source_hash": "1eed6bad",
        "execution_start": 1637068430404,
        "execution_millis": 0,
        "deepnote_cell_type": "code"
      },
      "source": [
        "#dummy_y = np_utils.to_categorical( encoder.transform(app[\"user_rating\"])).astype(int)\n",
        "#dummy_y"
      ],
      "execution_count": null,
      "outputs": []
    },
    {
      "cell_type": "code",
      "metadata": {
        "tags": [],
        "cell_id": "00009-422090a9-e966-4ab9-abf9-f5b17bcd2698",
        "deepnote_to_be_reexecuted": false,
        "source_hash": "3e91b535",
        "execution_start": 1637068430405,
        "execution_millis": 43,
        "deepnote_cell_type": "code",
        "id": "Z6MsWGP6kKKD",
        "outputId": "fa7002b9-0dfd-497c-8035-555d9ef17901"
      },
      "source": [
        "# do the one_hot_encoding directly with the target data\n",
        "dummy_y = utils.to_categorical((app[\"user_rating\"])).astype(int)\n",
        "dummy_y"
      ],
      "execution_count": null,
      "outputs": [
        {
          "output_type": "execute_result",
          "execution_count": 7,
          "data": {
            "text/plain": "array([[0, 0, 0, 0, 1, 0],\n       [0, 0, 0, 0, 1, 0],\n       [0, 0, 0, 0, 1, 0],\n       ...,\n       [0, 0, 0, 0, 1, 0],\n       [0, 0, 0, 0, 1, 0],\n       [0, 0, 0, 0, 0, 1]])"
          },
          "metadata": {}
        }
      ]
    },
    {
      "cell_type": "code",
      "metadata": {
        "colab": {
          "base_uri": "https://localhost:8080/",
          "height": 335
        },
        "id": "nHgSuOd0uL-6",
        "cell_id": "00011-aa9647ca-4446-43b0-b133-4772509b3854",
        "deepnote_to_be_reexecuted": false,
        "source_hash": "4ba0f743",
        "execution_start": 1637068430448,
        "execution_millis": 257,
        "deepnote_cell_type": "code",
        "outputId": "acdc6f04-6fd9-4f30-fae0-f6916715fa3e"
      },
      "source": [
        "plt.hist(dummy_y.argmax(axis=1))\n",
        "plt.xlabel('user_rating')\n",
        "plt.title('Rating distribution')\n",
        "plt.show();\n",
        "\n",
        "# Let's split our data set\n",
        "\n",
        "#Seed function is used to save the state of a random function, so that it can generate same random numbers on multiple executions of the code on the same machine or on different machines (for a specific seed value)\n",
        "seed=42\n",
        "\n",
        "X = app.iloc[:,:-1].values\n",
        "y = dummy_y\n",
        "\n",
        "# Keep in mind that this data set is already standardized, which leads to a leakage of information from train set to test set\n",
        "# When you are working with a dataset, make sure you standardize the variables in test set according to the parameters of the train set\n",
        "X_train, X_test, y_train, y_test = train_test_split(X, y, test_size=0.30, random_state=seed)\n",
        "    \n",
        "print (X_train.shape)\n",
        "print(y_train.shape) \n",
        "#X.head(5)"
      ],
      "execution_count": null,
      "outputs": [
        {
          "data": {
            "text/plain": "<Figure size 432x288 with 1 Axes>",
            "image/png": "[encoded data removed]"
          },
          "metadata": {
            "needs_background": "light",
            "image/png": {
              "width": 381,
              "height": 279
            }
          },
          "output_type": "display_data"
        },
        {
          "name": "stdout",
          "text": "(5037, 35)\n(5037, 6)\n",
          "output_type": "stream"
        }
      ]
    },
    {
      "cell_type": "markdown",
      "metadata": {
        "tags": [],
        "is_collapsed": false,
        "cell_id": "00012-e590fb12-3333-4d38-8f78-7312c70fdffc",
        "deepnote_cell_type": "text-cell-h2",
        "id": "t2qmiIsWkKKE"
      },
      "source": [
        "## Preparing the Keras framework"
      ]
    },
    {
      "cell_type": "markdown",
      "metadata": {
        "id": "RPbvIyftkUX4",
        "cell_id": "00012-1efb79bc-6ad8-4750-b065-ebdcb636b60f",
        "deepnote_cell_type": "markdown"
      },
      "source": [
        "\n",
        "Today we will revise the architecture of our basic neural network and look more into the tuning of hyperparameters.\n",
        "\n"
      ]
    },
    {
      "cell_type": "code",
      "metadata": {
        "id": "5apgYIjmpbWd",
        "cell_id": "00013-3383d6e0-ed64-4b1b-8ca0-88b39886f848",
        "deepnote_to_be_reexecuted": false,
        "source_hash": "783a218",
        "execution_start": 1637068430710,
        "execution_millis": 24,
        "deepnote_cell_type": "code"
      },
      "source": [
        "nb_units = 128\n",
        "# And finally the outout layer\n",
        "nb_classes = y.shape[1]"
      ],
      "execution_count": null,
      "outputs": []
    },
    {
      "cell_type": "code",
      "metadata": {
        "id": "yNasuGt_kUYJ",
        "colab": {
          "base_uri": "https://localhost:8080/"
        },
        "cell_id": "00014-d343a213-d0c5-4a27-9a13-4ce11f0a19ee",
        "deepnote_to_be_reexecuted": false,
        "source_hash": "2d4a790b",
        "execution_start": 1637068430734,
        "execution_millis": 123,
        "deepnote_cell_type": "code",
        "outputId": "08ba1320-7c33-434e-fc35-b722240afd39"
      },
      "source": [
        "# Import Keras\n",
        "from tensorflow import keras\n",
        "from tensorflow.keras.models import Sequential\n",
        "from tensorflow.keras.layers import Dense, Dropout\n",
        "from tensorflow.keras.optimizers import SGD, Adamax\n",
        "\n",
        "\n",
        "model = Sequential()\n",
        "model.add(Dense(nb_units, activation='relu',bias_initializer='zeros',kernel_initializer=keras.initializers.he_normal(seed=seed), input_shape=(X.shape[1],)))\n",
        "#model.add(Dropout(0.1))\n",
        "model.add(Dense(nb_units, activation='relu',bias_initializer='zeros',kernel_initializer=keras.initializers.he_normal(seed=seed)))\n",
        "#model.add(Dropout(0.1))\n",
        "model.add(Dense(nb_classes, activation='softmax'))\n",
        "\n",
        "model.summary()\n"
      ],
      "execution_count": null,
      "outputs": [
        {
          "name": "stdout",
          "text": "Model: \"sequential\"\n_________________________________________________________________\nLayer (type)                 Output Shape              Param #   \n=================================================================\ndense (Dense)                (None, 128)               4608      \n_________________________________________________________________\ndense_1 (Dense)              (None, 128)               16512     \n_________________________________________________________________\ndense_2 (Dense)              (None, 6)                 774       \n=================================================================\nTotal params: 21,894\nTrainable params: 21,894\nNon-trainable params: 0\n_________________________________________________________________\n",
          "output_type": "stream"
        }
      ]
    },
    {
      "cell_type": "code",
      "metadata": {
        "cell_id": "00015-0f0cdfea-be40-4f0f-8fcc-0ef7323524fe",
        "deepnote_to_be_reexecuted": false,
        "source_hash": "3862b5f3",
        "allow_embed": false,
        "execution_start": 1637068430906,
        "execution_millis": 12128,
        "deepnote_cell_type": "code",
        "id": "SnjviZphkKKG"
      },
      "source": [
        "\n",
        "batch_size = 56 #1 for online SGD\n",
        "\n",
        "# example: start trining the model up until 30 epochs and plot the training loss values and validation loss values against number of epochs.\n",
        "epochs = 30\n",
        "\n",
        "\n",
        "model.compile(loss='categorical_crossentropy', optimizer=SGD(lr=0.01), metrics=['accuracy'])\n",
        "# Fit the model\n",
        "story = model.fit(X_train, y_train, #name model differently\n",
        "                    batch_size=batch_size,\n",
        "                    epochs=epochs,\n",
        "                    verbose=0,\n",
        "                    validation_data=(X_test, y_test))\n",
        "                    #validation_split=0.33)#validation_data=(X_test, y_test)\n"
      ],
      "execution_count": null,
      "outputs": []
    },
    {
      "cell_type": "code",
      "metadata": {
        "id": "mXIb7e7trdMZ",
        "cell_id": "00015-2e320281-57c6-442d-924e-eca9f105d6c0",
        "deepnote_to_be_reexecuted": false,
        "source_hash": "80d1d862",
        "execution_start": 1637068443070,
        "execution_millis": 17825992,
        "deepnote_cell_type": "code"
      },
      "source": [
        "def show_history(story):\n",
        "    fig, (ax1, ax2) = plt.subplots(1, 2)\n",
        "    fig.set_size_inches(18.5, 10.5)\n",
        "    ax1.plot(story.history['accuracy'])\n",
        "    ax1.plot(story.history['val_accuracy'])\n",
        "    ax1.set(xlabel='epoch', ylabel='accuracy')\n",
        "    ax1.legend(['train_accuracy', 'test_accuracy'], loc='best')\n",
        "    ax1.set_title('Accuracy evolution during NN training')\n",
        "    \n",
        "    ax2.plot(story.history['loss'])\n",
        "    ax2.plot(story.history['val_loss'])\n",
        "    ax2.set(xlabel='epoch', ylabel='loss')\n",
        "    ax2.legend(['train_loss', 'test_loss'], loc='best')\n",
        "    ax2.set_title('Loss evolution during NN training')\n",
        "    plt.show()\n"
      ],
      "execution_count": null,
      "outputs": []
    },
    {
      "cell_type": "code",
      "metadata": {
        "id": "BSgAMh3irg0j",
        "cell_id": "00016-443ef991-7f32-481e-ba24-27fe83cfd434",
        "deepnote_to_be_reexecuted": false,
        "source_hash": "7e8bec16",
        "execution_start": 1637068443076,
        "execution_millis": 164,
        "deepnote_cell_type": "code"
      },
      "source": [
        "score = model.evaluate(X_test, y_test, verbose=0)"
      ],
      "execution_count": null,
      "outputs": []
    },
    {
      "cell_type": "code",
      "metadata": {
        "colab": {
          "base_uri": "https://localhost:8080/",
          "height": 687
        },
        "id": "eEi8cZ9okUYJ",
        "cell_id": "00017-6cfe04a6-c85e-4759-a31b-975a80fc880d",
        "deepnote_to_be_reexecuted": false,
        "source_hash": "42ec3e9a",
        "execution_start": 1637068443249,
        "execution_millis": 1312,
        "deepnote_cell_type": "code",
        "outputId": "f3f4d79e-bd6c-462c-acdb-f2b00bdb5326"
      },
      "source": [
        "print('Test loss:', score[0])\n",
        "print('Test accuracy:', score[1])\n",
        "show_history(story)"
      ],
      "execution_count": null,
      "outputs": [
        {
          "name": "stdout",
          "text": "Test loss: 0.9580324292182922\nTest accuracy: 0.7074074149131775\n",
          "output_type": "stream"
        },
        {
          "data": {
            "text/plain": "<Figure size 1332x756 with 2 Axes>",
            "image/png": "[encoded data removed]"
          },
          "metadata": {
            "needs_background": "light",
            "image/png": {
              "width": 1096,
              "height": 632
            }
          },
          "output_type": "display_data"
        }
      ]
    },
    {
      "cell_type": "markdown",
      "metadata": {
        "tags": [],
        "is_collapsed": false,
        "cell_id": "00019-e0353714-a841-4d2e-9d78-83b0c06a77ae",
        "deepnote_cell_type": "text-cell-h1",
        "id": "bScFyssAkKKH"
      },
      "source": [
        "# Part 1: Hyperparameter optimization with Keras"
      ]
    },
    {
      "cell_type": "markdown",
      "metadata": {
        "id": "b_9zHdu2s7SY",
        "cell_id": "00019-876399a2-ad3a-417d-a978-4dd18fe1390d",
        "deepnote_cell_type": "markdown"
      },
      "source": [
        "We will start with the old-fashioned way with Scikit Learn and will first show you an example of how to use GridSearch with two groups of hyperparameters: batches/epochs and optimizer algorithms. "
      ]
    },
    {
      "cell_type": "code",
      "metadata": {
        "id": "WP2VLXgBHBIv",
        "cell_id": "00020-c846ea8b-6cfb-42ea-a867-f33cc424955c",
        "deepnote_to_be_reexecuted": false,
        "source_hash": "c5005b3a",
        "execution_start": 1637068444586,
        "execution_millis": 14,
        "deepnote_cell_type": "code"
      },
      "source": [
        "#import keras\n",
        "import pandas as pd\n",
        "import numpy as np\n",
        "from sklearn.model_selection import GridSearchCV\n",
        "\n",
        "from tensorflow.keras.models import Sequential\n",
        "from tensorflow.keras.layers import Dense, Dropout\n",
        "from tensorflow.keras.wrappers.scikit_learn import KerasClassifier\n",
        "from tensorflow.keras import optimizers"
      ],
      "execution_count": null,
      "outputs": []
    },
    {
      "cell_type": "markdown",
      "metadata": {
        "id": "H2G3hGbsJlJL",
        "cell_id": "00021-ca93d52c-746a-4402-9d99-bf06f80d7aa6",
        "deepnote_cell_type": "markdown"
      },
      "source": [
        ""
      ]
    },
    {
      "cell_type": "code",
      "metadata": {
        "id": "tAobOLKBIQAo",
        "cell_id": "00022-22c16845-c372-4192-a083-475bfa36291c",
        "deepnote_to_be_reexecuted": false,
        "source_hash": "f8b52cf3",
        "execution_start": 1637068444613,
        "execution_millis": 60,
        "deepnote_cell_type": "code"
      },
      "source": [
        "#We will use the architecture we had before and wrap it into the function called 'network ' (or whatever you want to call it)\n",
        "\n",
        "def network():\n",
        "    \n",
        "    model = Sequential()\n",
        "    model.add(Dense(128, activation='relu',bias_initializer='zeros',kernel_initializer=keras.initializers.he_normal(seed=seed),  input_shape=(X.shape[1],)))\n",
        "    model.add(Dense(128, activation='relu',bias_initializer='zeros',kernel_initializer=keras.initializers.he_normal(seed=seed)))\n",
        "    model.add(Dense(6, activation='softmax',kernel_initializer=keras.initializers.he_normal(seed=seed)))\n",
        "    \n",
        "    model.compile(optimizer=optimizers.SGD(learning_rate=0.01), loss='categorical_crossentropy', metrics=['accuracy']) #nothing changes here\n",
        "\n",
        "    return model\n",
        "\n",
        "# Now we will plug it into Keras Classifier Wrapper \n",
        "model = KerasClassifier(build_fn=network, verbose=0)"
      ],
      "execution_count": null,
      "outputs": []
    },
    {
      "cell_type": "code",
      "metadata": {
        "id": "TS2OR5Y7JSQ_",
        "cell_id": "00023-355a4842-3433-4d50-910c-b7375bb606cd",
        "deepnote_to_be_reexecuted": false,
        "source_hash": "c020ad55",
        "execution_start": 1637068444674,
        "execution_millis": 0,
        "deepnote_cell_type": "code"
      },
      "source": [
        "# Let's define the grid search parameters\n",
        "batchsize = [32, 64, 128, 256, 512]\n",
        "epochs = [10,30,60,70]"
      ],
      "execution_count": null,
      "outputs": []
    },
    {
      "cell_type": "code",
      "metadata": {
        "colab": {
          "base_uri": "https://localhost:8080/"
        },
        "id": "PMUT_gWNJ0I4",
        "cell_id": "00024-a7562fb8-98ff-46e9-bb8c-c5a98eaf8475",
        "deepnote_to_be_reexecuted": false,
        "source_hash": "cc48469b",
        "execution_start": 1637068444675,
        "execution_millis": 15430324,
        "deepnote_cell_type": "code",
        "outputId": "4fc01297-4e11-4184-f118-9b364227124f"
      },
      "source": [
        "#Set the grid\n",
        "param_grid = dict(batch_size=batchsize, epochs=epochs)# setting a dictionary to store the results\n",
        "param_grid "
      ],
      "execution_count": null,
      "outputs": [
        {
          "output_type": "execute_result",
          "execution_count": 18,
          "data": {
            "text/plain": "{'batch_size': [32, 64, 128, 256, 512], 'epochs': [10, 30, 60, 70]}"
          },
          "metadata": {}
        }
      ]
    },
    {
      "cell_type": "code",
      "metadata": {
        "colab": {
          "base_uri": "https://localhost:8080/"
        },
        "id": "FXythoaQJ6De",
        "cell_id": "00025-6bd4dcab-4906-4a07-9642-725aced3e1bf",
        "deepnote_to_be_reexecuted": false,
        "source_hash": "5e0ee3fe",
        "execution_start": 1637068444752,
        "execution_millis": 212760,
        "deepnote_cell_type": "code",
        "outputId": "51c2a73b-52fc-40aa-8add-4378e6abd609"
      },
      "source": [
        "grid = GridSearchCV(estimator=model, param_grid=param_grid, n_jobs=-1,cv=3) #parallelization, here using all processors\n",
        "results = grid.fit(X_train, y_train) #remember that we don't want to use the test set in CV\n",
        "print(\"Best: %f using %s\" % (results.best_score_, results.best_params_))"
      ],
      "execution_count": null,
      "outputs": [
        {
          "name": "stdout",
          "text": "Best: 0.709748 using {'batch_size': 32, 'epochs': 60}\n",
          "output_type": "stream"
        }
      ]
    },
    {
      "cell_type": "code",
      "metadata": {
        "tags": [],
        "cell_id": "00029-5ed72805-6897-4348-9580-08ed3174ecd4",
        "deepnote_to_be_reexecuted": false,
        "source_hash": "fdc0d9ad",
        "execution_start": 1637068657513,
        "execution_millis": 0,
        "deepnote_cell_type": "code",
        "id": "OcNZpoCKkKKL"
      },
      "source": [
        "best_epochs = results.best_params_.get('epochs')\n",
        "best_batch_size = results.best_params_.get('batch_size')"
      ],
      "execution_count": null,
      "outputs": []
    },
    {
      "cell_type": "code",
      "metadata": {
        "tags": [],
        "cell_id": "00029-2a840e71-b2f2-440d-9a5c-bc8b81f7775e",
        "deepnote_to_be_reexecuted": false,
        "source_hash": "822c271",
        "execution_start": 1637068657513,
        "execution_millis": 0,
        "deepnote_cell_type": "code",
        "id": "mSaWifCBkKKL"
      },
      "source": [
        "def optim_gen (optimizer='SGD', activation='relu', nodes=128, learning_rate=0.01, momentum=0, init_mode='zero', dropout_rate=0.0):\n",
        "    model = Sequential()\n",
        "    model.add(Dense(nodes, activation=activation, bias_initializer='zeros', kernel_initializer=init_mode, input_shape=(X.shape[1],)))\n",
        "    model.add(Dropout(dropout_rate))\n",
        "    model.add(Dense(nodes, activation=activation, bias_initializer='zeros', kernel_initializer=init_mode))\n",
        "    model.add(Dropout(dropout_rate))\n",
        "    model.add(Dense(6, activation='softmax',kernel_initializer=init_mode))\n",
        "    \n",
        "    model.compile(optimizer=optimizer, loss='categorical_crossentropy', metrics=['accuracy']) \n",
        "    \n",
        "    return model"
      ],
      "execution_count": null,
      "outputs": []
    },
    {
      "cell_type": "code",
      "metadata": {
        "colab": {
          "base_uri": "https://localhost:8080/"
        },
        "id": "GO9mlGfkJ534",
        "cell_id": "00026-b3b728f5-062e-4a48-9de2-03d7e89bbd63",
        "deepnote_to_be_reexecuted": false,
        "source_hash": "6ee1eec8",
        "execution_start": 1637068657515,
        "execution_millis": 198706,
        "deepnote_cell_type": "code",
        "outputId": "c6c35669-9d43-4a80-cd97-d63311dab7f4"
      },
      "source": [
        "#Let's now take this knowledge and apply it to our optimizers tuning\n",
        "\n",
        "model = KerasClassifier(build_fn=optim_gen, epochs=best_epochs, batch_size=best_batch_size, verbose=0)\n",
        "\n",
        "# define the grid search parameters\n",
        "optimizers = ['SGD', 'RMSprop', 'Adagrad', 'Adadelta', 'Adam', 'Adamax', 'Nadam']\n",
        "param_grid = dict(optimizer=optimizers) # setting a dictionary to store the results\n",
        "grid = GridSearchCV(estimator=model, param_grid=param_grid, n_jobs=-1, cv=3)\n",
        "results = grid.fit(X_train, y_train)\n",
        "\n",
        "# Our results (remember these are the results on the hold-out data)\n",
        "print(\"Best: %f using %s\" % (results.best_score_, results.best_params_))"
      ],
      "execution_count": null,
      "outputs": [
        {
          "name": "stdout",
          "text": "Best: 0.695255 using {'optimizer': 'SGD'}\n",
          "output_type": "stream"
        }
      ]
    },
    {
      "cell_type": "code",
      "metadata": {
        "tags": [],
        "cell_id": "00032-ab62e4eb-0e65-4b68-bdb1-800cf1f6abb4",
        "deepnote_to_be_reexecuted": false,
        "source_hash": "b51c17f9",
        "execution_start": 1637069648131,
        "execution_millis": 0,
        "deepnote_cell_type": "code",
        "id": "-j8a4Tp2kKKM"
      },
      "source": [
        "best_optimizer = results.best_params_.get('optimizer')"
      ],
      "execution_count": null,
      "outputs": []
    },
    {
      "cell_type": "markdown",
      "metadata": {
        "id": "8r1N0u9csthl",
        "cell_id": "00027-881d10b6-af58-4e4d-a104-6811edf65d44",
        "deepnote_cell_type": "markdown"
      },
      "source": [
        "Now continue using Grid Search to tune the Learning Rate and Momentum:"
      ]
    },
    {
      "cell_type": "code",
      "metadata": {
        "id": "4s3A7r_8tSY2",
        "cell_id": "00028-ee50eaa9-9139-4aa7-adcd-08c9ebcfdd3e",
        "deepnote_to_be_reexecuted": false,
        "source_hash": "9277e10e",
        "execution_start": 1637070047762,
        "execution_millis": 505230,
        "deepnote_cell_type": "code",
        "outputId": "6ba8bf66-5cb2-472c-9ff2-f4bd985e852a"
      },
      "source": [
        "model = KerasClassifier(build_fn=optim_gen, epochs=best_epochs, batch_size=best_batch_size, optimizer = best_optimizer, verbose=0)\n",
        "#model = KerasClassifier(build_fn=optim_opt, epochs=60, batch_size=32, verbose=0)\n",
        "# define the grid search parameters\n",
        "\n",
        "learning_rate = [0.1, 0.01, 0.001, 0.0001]\n",
        "momentum = [0.0, 0.1, 0.2, 0.4, 0.8]\n",
        "param_grid = dict(learning_rate=learning_rate, momentum=momentum) # setting a dictionary to store the results\n",
        "grid = GridSearchCV(estimator=model, param_grid=param_grid, n_jobs=-1, cv=3)\n",
        "results = grid.fit(X_train, y_train)\n",
        "\n",
        "# Our results (remember these are the results on the hold-out data)\n",
        "print(\"Best: %f using %s\" % (results.best_score_, results.best_params_))"
      ],
      "execution_count": null,
      "outputs": [
        {
          "name": "stdout",
          "text": "Best: 0.695255 using {'learning_rate': 0.1, 'momentum': 0.0}\n",
          "output_type": "stream"
        }
      ]
    },
    {
      "cell_type": "code",
      "metadata": {
        "tags": [],
        "cell_id": "00035-31b3b5ef-085b-49c2-abab-9f9b0cd6c986",
        "deepnote_to_be_reexecuted": false,
        "source_hash": "265cfa6c",
        "execution_start": 1637070802459,
        "execution_millis": 4,
        "output_cleared": true,
        "deepnote_cell_type": "code",
        "id": "eFsvdUaWkKKN"
      },
      "source": [
        "best_learning_rate = results.best_params_.get('learning_rate')\n",
        "best_momentum = results.best_params_.get('momentum')"
      ],
      "execution_count": null,
      "outputs": []
    },
    {
      "cell_type": "markdown",
      "metadata": {
        "id": "M6c5zdwjtTUZ",
        "cell_id": "00029-17e9e890-8340-4d4d-834d-3cc6f03df835",
        "deepnote_cell_type": "markdown"
      },
      "source": [
        "Use Grid Search to tune the Network Weight Initialization:"
      ]
    },
    {
      "cell_type": "code",
      "metadata": {
        "cell_id": "00030-8b26791b-f95c-4e33-93dd-cf07a7135b0e",
        "deepnote_to_be_reexecuted": false,
        "source_hash": "dd326cc4",
        "allow_embed": false,
        "execution_start": 1637070833298,
        "execution_millis": 198545,
        "deepnote_cell_type": "code",
        "id": "USg2JX4-kKKO",
        "outputId": "efbd888c-26f4-41c2-fab8-d07c2bfeac86"
      },
      "source": [
        "model = KerasClassifier(build_fn=optim_gen, epochs=best_epochs, batch_size=best_batch_size, optimizer = best_optimizer,\n",
        "                        learning_rate=best_learning_rate, momentum=best_momentum, verbose=0)\n",
        "\n",
        "# define the grid search parameters\n",
        "init_mode = ['uniform', 'lecun_uniform', 'normal', 'zero', 'glorot_normal', 'glorot_uniform', 'he_normal', 'he_uniform']\n",
        "param_grid = dict(init_mode=init_mode)\n",
        "grid = GridSearchCV(estimator=model, param_grid=param_grid, n_jobs=-1, cv=3)\n",
        "results = grid.fit(X_train, y_train)\n",
        "\n",
        "# Our results (remember these are the results on the hold-out data)\n",
        "print(\"Best: %f using %s\" % (results.best_score_, results.best_params_))"
      ],
      "execution_count": null,
      "outputs": [
        {
          "name": "stdout",
          "text": "Best: 0.711932 using {'init_mode': 'glorot_normal'}\n",
          "output_type": "stream"
        }
      ]
    },
    {
      "cell_type": "code",
      "metadata": {
        "tags": [],
        "cell_id": "00038-accd8162-f625-4fc1-be5b-657ccd2e66c4",
        "deepnote_to_be_reexecuted": false,
        "source_hash": "dd37ed1b",
        "execution_start": 1637071218213,
        "execution_millis": 1,
        "deepnote_cell_type": "code",
        "id": "w47VirmnkKKO"
      },
      "source": [
        "best_init_mode = results.best_params_.get('init_mode')"
      ],
      "execution_count": null,
      "outputs": []
    },
    {
      "cell_type": "markdown",
      "metadata": {
        "id": "3uN20jRXtY22",
        "cell_id": "00031-038b188c-9901-41e4-a4a0-346259402b60",
        "deepnote_cell_type": "markdown"
      },
      "source": [
        "Use Grid Search to tune the Neuron Activation Function\n"
      ]
    },
    {
      "cell_type": "code",
      "metadata": {
        "cell_id": "00032-8d8c7022-2212-4d0a-8bb5-c1ef69d7a83f",
        "deepnote_to_be_reexecuted": false,
        "source_hash": "496868ca",
        "allow_embed": false,
        "execution_start": 1637071575862,
        "execution_millis": 242554,
        "deepnote_cell_type": "code",
        "id": "fowtF8TqkKKP",
        "outputId": "3296d430-d781-428a-d746-c60498cb7579"
      },
      "source": [
        "model = KerasClassifier(build_fn=optim_gen, epochs=best_epochs, batch_size=best_batch_size, optimizer = best_optimizer,\n",
        "                        learning_rate=best_learning_rate, momentum=best_momentum, init_mode=best_init_mode, verbose=0)\n",
        "\n",
        "# define the grid search parameters\n",
        "activation = ['softmax', 'softplus', 'softsign', 'relu', 'tanh', 'sigmoid', 'hard_sigmoid', 'linear']\n",
        "param_grid = dict(activation=activation)\n",
        "grid = GridSearchCV(estimator=model, param_grid=param_grid, n_jobs=-1, cv=3)\n",
        "results = grid.fit(X_train, y_train)\n",
        "\n",
        "# Our results (remember these are the results on the hold-out data)\n",
        "print(\"Best: %f using %s\" % (results.best_score_, results.best_params_))"
      ],
      "execution_count": null,
      "outputs": [
        {
          "name": "stdout",
          "text": "Best: 0.708557 using {'activation': 'tanh'}\n",
          "output_type": "stream"
        }
      ]
    },
    {
      "cell_type": "code",
      "metadata": {
        "tags": [],
        "cell_id": "00041-0f519e27-4395-45c4-8c0d-94478a4f9e66",
        "deepnote_to_be_reexecuted": false,
        "source_hash": "6a1d44dd",
        "execution_start": 1637071881619,
        "execution_millis": 0,
        "deepnote_cell_type": "code",
        "id": "2M9_se7rkKKQ"
      },
      "source": [
        "best_activation = results.best_params_.get('activation')"
      ],
      "execution_count": null,
      "outputs": []
    },
    {
      "cell_type": "markdown",
      "metadata": {
        "id": "llyr5gextgZa",
        "cell_id": "00033-a8988121-d9c1-4062-8893-4b13b3348e82",
        "deepnote_cell_type": "markdown"
      },
      "source": [
        "Use Grid Search to tune Dropout Regularization"
      ]
    },
    {
      "cell_type": "code",
      "metadata": {
        "cell_id": "00034-4f33ba98-51c7-45da-9afb-a062eda09d02",
        "deepnote_to_be_reexecuted": false,
        "source_hash": "b65c392d",
        "allow_embed": false,
        "execution_start": 1637071908867,
        "execution_millis": 254681,
        "deepnote_cell_type": "code",
        "id": "I4TCFWudkKKQ",
        "outputId": "6638a24b-0155-4fff-8335-5242278841db"
      },
      "source": [
        "model = KerasClassifier(build_fn=optim_gen, epochs=best_epochs, batch_size=best_batch_size, optimizer = best_optimizer,\n",
        "                        learning_rate=best_learning_rate, momentum=best_momentum, init_mode=best_init_mode,\n",
        "                        activation=best_activation, verbose=0)\n",
        "\n",
        "# define the grid search parameters\n",
        "dropout_rate = [0.0, 0.1, 0.2, 0.3, 0.4, 0.5, 0.6, 0.7, 0.8, 0.9]\n",
        "param_grid = dict(dropout_rate=dropout_rate)\n",
        "grid = GridSearchCV(estimator=model, param_grid=param_grid, n_jobs=-1, cv=3)\n",
        "results = grid.fit(X_train, y_train)\n",
        "\n",
        "# Our results (remember these are the results on the hold-out data)\n",
        "print(\"Best: %f using %s\" % (results.best_score_, results.best_params_))"
      ],
      "execution_count": null,
      "outputs": [
        {
          "name": "stdout",
          "text": "Best: 0.707961 using {'dropout_rate': 0.0}\n",
          "output_type": "stream"
        }
      ]
    },
    {
      "cell_type": "code",
      "metadata": {
        "tags": [],
        "cell_id": "00044-d180cea6-66d1-4ff0-a890-f5ff12695243",
        "deepnote_to_be_reexecuted": false,
        "source_hash": "8ad1bd20",
        "execution_start": 1637072331243,
        "execution_millis": 1,
        "deepnote_cell_type": "code",
        "id": "2sOv92JakKKQ"
      },
      "source": [
        "best_dropout_rate = results.best_params_.get('dropout_rate')"
      ],
      "execution_count": null,
      "outputs": []
    },
    {
      "cell_type": "markdown",
      "metadata": {
        "id": "bNmvCdsAtkld",
        "cell_id": "00035-7be2de14-cf5e-46d8-a57a-afc88ec9001c",
        "deepnote_cell_type": "markdown"
      },
      "source": [
        "Use Grid Search to tune the Number of Neurons in the Hidden Layer"
      ]
    },
    {
      "cell_type": "code",
      "metadata": {
        "cell_id": "00036-09ee7cb3-7c3f-41ef-bd64-20cc485addc3",
        "deepnote_to_be_reexecuted": false,
        "source_hash": "695d2803",
        "allow_embed": false,
        "execution_start": 1637072459706,
        "execution_millis": 187307,
        "deepnote_cell_type": "code",
        "id": "7P5_His_kKKR",
        "outputId": "38cb13a8-8814-4521-8eb7-a515bbbc27c9"
      },
      "source": [
        "model = KerasClassifier(build_fn=optim_gen, epochs=best_epochs, batch_size=best_batch_size, optimizer = best_optimizer,\n",
        "                        learning_rate=best_learning_rate, momentum=best_momentum, init_mode=best_init_mode,\n",
        "                        activation=best_activation, dropout_rate = best_dropout_rate, verbose=0)\n",
        "\n",
        "# define the grid search parameters\n",
        "nodes = [16, 32, 35, 64,128, 256]\n",
        "param_grid = dict(nodes=nodes)\n",
        "grid = GridSearchCV(estimator=model, param_grid=param_grid, n_jobs=-1, cv=3)\n",
        "results = grid.fit(X_train, y_train)\n",
        "\n",
        "# Our results (remember these are the results on the hold-out data)\n",
        "print(\"Best: %f using %s\" % (results.best_score_, results.best_params_))"
      ],
      "execution_count": null,
      "outputs": [
        {
          "name": "stdout",
          "text": "Best: 0.709549 using {'nodes': 128}\n",
          "output_type": "stream"
        }
      ]
    },
    {
      "cell_type": "code",
      "metadata": {
        "tags": [],
        "cell_id": "00047-2753c58f-cee8-4532-bf88-b60a795b5308",
        "deepnote_to_be_reexecuted": false,
        "source_hash": "18128d8",
        "execution_start": 1637072737423,
        "execution_millis": 0,
        "deepnote_cell_type": "code",
        "id": "7o_nn1g9kKKR"
      },
      "source": [
        "best_nodes = results.best_params_.get('nodes')"
      ],
      "execution_count": null,
      "outputs": []
    },
    {
      "cell_type": "code",
      "metadata": {
        "tags": [],
        "cell_id": "00047-92ee931f-586c-4fda-b831-fe1af62c8536",
        "deepnote_to_be_reexecuted": false,
        "source_hash": "d10458bc",
        "execution_start": 1637074491238,
        "execution_millis": 2,
        "deepnote_cell_type": "code",
        "id": "vhypKqmdkKKS",
        "outputId": "51dbfb6e-977c-4551-87ff-9a9582c09e8f"
      },
      "source": [
        "# summarize grid search results:\n",
        "print(f'optimizer: {best_optimizer}')\n",
        "print(f'epochs: {best_epochs}')\n",
        "print(f'batch_size: {best_batch_size}')\n",
        "print(f'init mode: {best_init_mode}')\n",
        "print(f'nodes: {best_nodes}')\n",
        "print(f'activation: {best_activation}')\n",
        "print(f'learning_rate: {best_learning_rate}')\n",
        "print(f'momentum: {best_momentum}')\n",
        "print(f'dropout_rate: {best_dropout_rate}')\n"
      ],
      "execution_count": null,
      "outputs": [
        {
          "name": "stdout",
          "text": "optimizer: SGD\nepochs: 60\nbatch_size: 32\ninit mode: glorot_normal\nnodes: 128\nactivation: tanh\nlearning_rate: 0.1\nmomentum: 0.0\ndropout_rate: 0.0\n",
          "output_type": "stream"
        }
      ]
    }
  ]
}