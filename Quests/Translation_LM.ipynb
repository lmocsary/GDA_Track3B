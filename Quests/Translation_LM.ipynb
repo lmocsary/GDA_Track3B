{
 "cells": [
  {
   "cell_type": "markdown",
   "source": "### Introduction\nIn this exercise you will build three (optionally four) different networks to experiment with one of the applications of recurrent neural networks called Machine Translation. The preprocessing pipeline that prepares the input data for feeding into the neural network models is provided to you. Therefore, in this excercise you focus on building and experimenting with different network architectures. \n\nOptional: To learn more about recurrent neural networks (such as RNN, GRU, and LSTM) their architectures, the differences between them and their applications you can watch this free tutorial: [Sequences and Recurrent networks Tutorial](https://www.youtube.com/watch?v=87kLfzmYBy8&ab_channel=DeepMind)\n\n[Find a good descripton here](https://towardsdatascience.com/language-translation-with-rnns-d84d43b40571)",
   "metadata": {
    "id": "aAgbCF4OFgv9",
    "cell_id": "00000-a1ac7ad0-0699-4112-b6b8-e16a28e469da",
    "deepnote_cell_type": "markdown"
   }
  },
  {
   "cell_type": "code",
   "metadata": {
    "id": "MGrOSRpUxG9L",
    "cell_id": "00001-797ab648-cb99-4800-91e9-82c2b8fd6738",
    "deepnote_to_be_reexecuted": false,
    "source_hash": "15fa2bca",
    "execution_start": 1638444875945,
    "execution_millis": 10260952,
    "deepnote_cell_type": "code"
   },
   "source": "# You may want to upgrade the tensorflow package to the latest verion (currently version 2.3) if you have the proper infrastructure\n# !pip install --upgrade tensorflow",
   "execution_count": 2,
   "outputs": []
  },
  {
   "cell_type": "markdown",
   "source": "### Setup\n",
   "metadata": {
    "id": "pMzRkuZbgt3k",
    "cell_id": "00003-11947f62-2cb8-4316-89bc-7c7ec7a4024e",
    "deepnote_cell_type": "markdown"
   }
  },
  {
   "cell_type": "code",
   "metadata": {
    "id": "fobJjbQhBuju",
    "colab": {
     "base_uri": "https://localhost:8080/",
     "height": 35
    },
    "outputId": "0917a481-a487-4b29-b90f-c47b2d3cb974",
    "cell_id": "00004-a79b92e1-a260-475c-9bd7-210a478e17f8",
    "deepnote_output_heights": [
     21.078125
    ],
    "deepnote_to_be_reexecuted": false,
    "source_hash": "ffbeaf2a",
    "execution_start": 1638444875946,
    "execution_millis": 7144,
    "deepnote_cell_type": "code"
   },
   "source": "# To get access to a GPU instance you can use the `change runtime type` and set the option to `GPU` from the `Runtime` tab  in the notebook\n# Checking the GPU availability for the notebook\nimport tensorflow\ntensorflow.test.gpu_device_name()",
   "execution_count": 3,
   "outputs": [
    {
     "output_type": "execute_result",
     "execution_count": 3,
     "data": {
      "text/plain": "''"
     },
     "metadata": {}
    }
   ]
  },
  {
   "cell_type": "code",
   "metadata": {
    "id": "cD0z5tl4dVOM",
    "cell_id": "00005-9c8905f4-c99a-4970-a646-a05b8468be45",
    "deepnote_to_be_reexecuted": false,
    "source_hash": "96942131",
    "execution_start": 1638444882888,
    "execution_millis": 23,
    "deepnote_cell_type": "code"
   },
   "source": "# import collection\nimport io\nimport pandas as pd\nimport numpy as np\nfrom typing import List \nfrom tensorflow.keras.preprocessing.text import Tokenizer\nfrom tensorflow.keras.preprocessing.sequence import pad_sequences\nfrom tensorflow.keras.models import Model\nfrom tensorflow.keras.layers import GRU, Input, Dense, TimeDistributed, Activation, RepeatVector, Bidirectional\nfrom tensorflow.keras.layers import Embedding\nfrom tensorflow.keras.optimizers import Adam\nfrom tensorflow.keras.losses import sparse_categorical_crossentropy",
   "execution_count": 4,
   "outputs": []
  },
  {
   "cell_type": "markdown",
   "source": "### Loading and Preprocessing the Data",
   "metadata": {
    "id": "wu1mXD8unuu9",
    "cell_id": "00006-fca0498f-3d72-44d8-99a2-cd4755f93dd6",
    "deepnote_cell_type": "markdown"
   }
  },
  {
   "cell_type": "markdown",
   "source": "#### Reading CSV data files as a list of strings, where each string represents a single line from the text\n",
   "metadata": {
    "id": "zPqbg_C09G6s",
    "cell_id": "00007-aeda754b-26fc-4739-8b72-e0712856111b",
    "deepnote_cell_type": "markdown"
   }
  },
  {
   "cell_type": "code",
   "metadata": {
    "id": "CHuc68kPoSqo",
    "cell_id": "00008-5714f6dd-b30c-410b-bf3b-4eea69f616b6",
    "deepnote_to_be_reexecuted": false,
    "source_hash": "b9414f2f",
    "execution_start": 1638444882920,
    "execution_millis": 15,
    "deepnote_cell_type": "code"
   },
   "source": "import csv\nfrom io import TextIOWrapper\nfrom zipfile import ZipFile",
   "execution_count": 5,
   "outputs": []
  },
  {
   "cell_type": "code",
   "metadata": {
    "colab": {
     "base_uri": "https://localhost:8080/"
    },
    "id": "h_Kh3XXt2GGb",
    "outputId": "f5c31e6d-3a83-4310-bd51-95aa72e2bfb9",
    "cell_id": "00009-29284b70-a0a9-4fe6-9ec4-e55ac9f375fc",
    "deepnote_output_heights": [
     21.078125
    ],
    "deepnote_to_be_reexecuted": false,
    "source_hash": "a9ef067b",
    "execution_start": 1638444882951,
    "execution_millis": 933,
    "deepnote_cell_type": "code"
   },
   "source": "import requests\n\n\nurl = 'https://github.com/murpi/wilddata/blob/master/quests/small_vocab_en.csv.zip?raw=true'\nr = requests.get(url, allow_redirects=True)\n\nopen('small_vocab_en.csv.zip', 'wb').write(r.content)\n\nurl = 'https://github.com/murpi/wilddata/blob/master/quests/small_vocab_fr.csv.zip?raw=true'\nr = requests.get(url, allow_redirects=True)\n\nopen('small_vocab_fr.csv.zip', 'wb').write(r.content)",
   "execution_count": 6,
   "outputs": [
    {
     "output_type": "execute_result",
     "execution_count": 6,
     "data": {
      "text/plain": "1367852"
     },
     "metadata": {}
    }
   ]
  },
  {
   "cell_type": "code",
   "metadata": {
    "id": "oGBtz_Lt39XM",
    "colab": {
     "base_uri": "https://localhost:8080/"
    },
    "outputId": "80489b7b-0055-4594-bc2e-4ac4145ff177",
    "cell_id": "00010-726becfd-c139-4fb7-944d-084b0c882b49",
    "deepnote_to_be_reexecuted": false,
    "source_hash": "87e5f51e",
    "execution_start": 1638444883894,
    "execution_millis": 529,
    "deepnote_cell_type": "code"
   },
   "source": "with ZipFile('small_vocab_en.csv.zip') as zf:\n    with zf.open('small_vocab_en.csv', 'r') as infile:\n        reader = csv.reader(TextIOWrapper(infile, 'utf-8'), delimiter='\\n' )\n        english_text = [item for sublist in reader for item in sublist]\n        print(f\"English text samples: {english_text[0:2]}\")",
   "execution_count": 7,
   "outputs": [
    {
     "name": "stdout",
     "text": "English text samples: ['new jersey is sometimes quiet during autumn , and it is snowy in april .', 'the united states is usually chilly during july , and it is usually freezing in november .']\n",
     "output_type": "stream"
    }
   ]
  },
  {
   "cell_type": "code",
   "metadata": {
    "id": "1vVS_nH-4y6J",
    "colab": {
     "base_uri": "https://localhost:8080/"
    },
    "outputId": "3e51ae4d-c603-4091-a22b-6fb5f1d4ad81",
    "cell_id": "00011-2ac6c09e-ee7b-4d9e-8524-4adfa6384714",
    "deepnote_to_be_reexecuted": false,
    "source_hash": "85635435",
    "execution_start": 1638444884450,
    "execution_millis": 558,
    "deepnote_cell_type": "code"
   },
   "source": "with ZipFile('small_vocab_fr.csv.zip') as zf:\n    with zf.open('small_vocab_fr.csv', 'r') as infile:\n        reader = csv.reader(TextIOWrapper(infile, 'utf-8'), delimiter='\\n' )\n        french_text = [item for sublist in reader for item in sublist]\n        print(f\"French translation text samples: {french_text[0:2]}\")\n",
   "execution_count": 8,
   "outputs": [
    {
     "name": "stdout",
     "text": "French translation text samples: [\"new jersey est parfois calme pendant l' automne , et il est neigeux en avril .\", 'les états-unis est généralement froid en juillet , et il gèle habituellement en novembre .']\n",
     "output_type": "stream"
    }
   ]
  },
  {
   "cell_type": "code",
   "metadata": {
    "tags": [],
    "cell_id": "00012-15cc280c-7276-4cb3-a7ea-9a29490568af",
    "deepnote_to_be_reexecuted": false,
    "source_hash": "3cc6aaa0",
    "execution_start": 1638444884978,
    "execution_millis": 1808,
    "deepnote_output_heights": [
     20.5
    ],
    "deepnote_cell_type": "code"
   },
   "source": "# TODO: Data exploration -> calculate and print some statistics on data\n\nw_en_count = 0\nw_en_set = set()\nfor i in english_text:\n    i = i.replace(',', ' ')\n    w_en_count += len(i.split())\n    w_en_set.update(i.strip('.?').split())\n\nw_fr_count = 0\nw_fr_set = set()\nfor i in french_text:\n    i = i.replace(',', ' ')\n    w_fr_count += len(i.split())\n    w_fr_set.update(i.strip('.?').split())\n",
   "execution_count": 9,
   "outputs": []
  },
  {
   "cell_type": "code",
   "metadata": {
    "id": "j5y0rPhaH66T",
    "cell_id": "00012-33a9a617-47cc-4971-b80f-2b4fe802e9bc",
    "deepnote_to_be_reexecuted": false,
    "source_hash": "54224e2a",
    "execution_start": 1638444886792,
    "execution_millis": 15,
    "deepnote_output_heights": [
     610.984375
    ],
    "deepnote_cell_type": "code"
   },
   "source": "print (f\"number of english_text items: {len(english_text)}\")\nprint (f\"number of french_text items: {len(french_text)}\")\nprint (f\"number of words in the english_text: {w_en_count}\")\nprint (f\"number of words in the french_text: {w_fr_count}\")\nprint (f\"number of unique words in the english_text: {len(w_en_set)}\")\nprint (f\"number of unique words in the french_text: {len(w_fr_set)}\")",
   "execution_count": 10,
   "outputs": [
    {
     "name": "stdout",
     "text": "number of english_text items: 137860\nnumber of french_text items: 137860\nnumber of words in the english_text: 1682353\nnumber of words in the french_text: 1838160\nnumber of unique words in the english_text: 199\nnumber of unique words in the french_text: 350\n",
     "output_type": "stream"
    }
   ]
  },
  {
   "cell_type": "markdown",
   "source": "#### Tokenizing the data\n\nSince the input data to neural networks needs to be in numerical format, we first turn each sentence into a sequence of word ids using `Tokenizer` function from Keras. Word ids are numerical presentations for words. ",
   "metadata": {
    "id": "wQ8zEtacK08P",
    "cell_id": "00013-2bb62f40-e706-47f3-83d4-756000ef543d",
    "deepnote_cell_type": "markdown"
   }
  },
  {
   "cell_type": "code",
   "metadata": {
    "id": "K6s5iwnMKzT4",
    "colab": {
     "base_uri": "https://localhost:8080/"
    },
    "outputId": "75cb7311-9d7e-4a33-cb54-a3451b2105d4",
    "cell_id": "00014-ca685dc0-d166-4bdc-9209-0b0c89ad9e9f",
    "deepnote_to_be_reexecuted": false,
    "source_hash": "7c2d607",
    "execution_start": 1638444886815,
    "execution_millis": 19,
    "deepnote_cell_type": "code"
   },
   "source": "def tokenize(x: List[str]):\n  \"\"\"Tokenizes sentences into word ids.\n    Tokenize x\n    :param x: List of sentences/strings to be tokenized\n    :return: Tuple of (tokenized x data, tokenizer used to tokenize x)\n\n  \"\"\"\n  tokenizer=Tokenizer()\n  tokenizer.fit_on_texts(x)\n  t=tokenizer.texts_to_sequences(x)\n  return t, tokenizer\n\n# Tokenize Example output\ntext_sentences = [\n    'The quick brown fox jumps over the lazy dog .',\n    'By Jove , my quick study of lexicography won a prize .',\n    'This is a short sentence .']\ntext_tokenized, text_tokenizer = tokenize(text_sentences)\nprint(text_tokenizer.word_index)\nfor sample_i, (sent, token_sent) in enumerate(zip(text_sentences, text_tokenized)):\n    print('Sequence {} in x'.format(sample_i + 1))\n    print('  Input:  {}'.format(sent))\n    print('  Output: {}'.format(token_sent)) ",
   "execution_count": 11,
   "outputs": [
    {
     "name": "stdout",
     "text": "{'the': 1, 'quick': 2, 'a': 3, 'brown': 4, 'fox': 5, 'jumps': 6, 'over': 7, 'lazy': 8, 'dog': 9, 'by': 10, 'jove': 11, 'my': 12, 'study': 13, 'of': 14, 'lexicography': 15, 'won': 16, 'prize': 17, 'this': 18, 'is': 19, 'short': 20, 'sentence': 21}\nSequence 1 in x\n  Input:  The quick brown fox jumps over the lazy dog .\n  Output: [1, 2, 4, 5, 6, 7, 1, 8, 9]\nSequence 2 in x\n  Input:  By Jove , my quick study of lexicography won a prize .\n  Output: [10, 11, 12, 2, 13, 14, 15, 16, 3, 17]\nSequence 3 in x\n  Input:  This is a short sentence .\n  Output: [18, 19, 3, 20, 21]\n",
     "output_type": "stream"
    }
   ]
  },
  {
   "cell_type": "markdown",
   "source": "#### Padding Sequences\n\nTo be able to batch the sequences of word ids together, all sequences need to be of the same length. Therefore, as a second preprocessing step we make sure that all the English sentences have the same length as their respective French translations using `pad_sequence` function form Keras.",
   "metadata": {
    "id": "RfffhgywsXMN",
    "cell_id": "00015-b6ad3b59-1c3b-4052-929d-bf0ced7e1637",
    "deepnote_cell_type": "markdown"
   }
  },
  {
   "cell_type": "code",
   "metadata": {
    "id": "WsB7MNttVYVS",
    "colab": {
     "base_uri": "https://localhost:8080/"
    },
    "outputId": "e0fb6cda-e522-41d7-e5b9-9e5d301ce485",
    "cell_id": "00016-27c1ce5b-276d-4cee-8435-ab9d71f0af0a",
    "deepnote_to_be_reexecuted": false,
    "source_hash": "5ba079f2",
    "execution_start": 1638444886841,
    "execution_millis": 22,
    "deepnote_cell_type": "code"
   },
   "source": "def pad(x, length=None):\n    \"\"\"\n    Pad x\n    :param x: List of sequences.\n    :param length: Length to pad the sequence to.  If None, use length of longest sequence in x.\n    :return: Padded numpy array of sequences\n    \"\"\"\n    padding=pad_sequences(x,padding='post',maxlen=length)\n    return padding\n\n# Pad Tokenized output\ntest_pad = pad(text_tokenized)\nfor sample_i, (token_sent, pad_sent) in enumerate(zip(text_tokenized, test_pad)):\n    print('Sequence {} in x'.format(sample_i + 1))\n    print('  Input:  {}'.format(np.array(token_sent)))\n    print('  Output: {}'.format(pad_sent))",
   "execution_count": 12,
   "outputs": [
    {
     "name": "stdout",
     "text": "Sequence 1 in x\n  Input:  [1 2 4 5 6 7 1 8 9]\n  Output: [1 2 4 5 6 7 1 8 9 0]\nSequence 2 in x\n  Input:  [10 11 12  2 13 14 15 16  3 17]\n  Output: [10 11 12  2 13 14 15 16  3 17]\nSequence 3 in x\n  Input:  [18 19  3 20 21]\n  Output: [18 19  3 20 21  0  0  0  0  0]\n",
     "output_type": "stream"
    }
   ]
  },
  {
   "cell_type": "markdown",
   "source": "#### Preprocessing Pipeline\n\nAs mentioned in the introduction section in this excercise your focus is on building different recurrent neural network architectures. Threfore, in the following cell we provide you with a preprocessing pipeline. You can apply this function to the input data to prepare the data for using in neural networks.",
   "metadata": {
    "id": "NzZF_s8TuGqw",
    "cell_id": "00017-ad47c016-d6e3-4dd6-84ef-93243cedcfbd",
    "deepnote_cell_type": "markdown"
   }
  },
  {
   "cell_type": "code",
   "metadata": {
    "id": "B158-HbGqMwd",
    "colab": {
     "base_uri": "https://localhost:8080/"
    },
    "outputId": "941fc699-b8b6-4c2c-b04f-0e4fbaa7ed75",
    "cell_id": "00018-36bfbf6d-539b-455e-8725-dc22b87eaacc",
    "deepnote_to_be_reexecuted": false,
    "source_hash": "22b849b1",
    "execution_start": 1638444886875,
    "execution_millis": 23945,
    "deepnote_cell_type": "code"
   },
   "source": "def preprocess(x, y):\n    \"\"\"\n     Preprocess input (x) and target (y)\n    :param x: Feature List of sentences\n    :param y: Label List of sentences\n    :return: Tuple of (Preprocessed x, Preprocessed y, x tokenizer, y tokenizer)\n    \"\"\"\n    preprocess_x, x_tk = tokenize(x)\n    preprocess_y, y_tk = tokenize(y)\n\n    preprocess_x = pad(preprocess_x)\n    preprocess_y = pad(preprocess_y)\n\n    # Keras's sparse_categorical_crossentropy function requires the labels to be in 3 dimensions\n    preprocess_y = preprocess_y.reshape(*preprocess_y.shape, 1)\n\n    return preprocess_x, preprocess_y, x_tk, y_tk\n\npreproc_english_sentences, preproc_french_sentences, english_tokenizer, french_tokenizer =\\\n    preprocess(english_text, french_text)\n    \nmax_english_sequence_length = preproc_english_sentences.shape[1]\nmax_french_sequence_length = preproc_french_sentences.shape[1]\nenglish_vocab_size = len(english_tokenizer.word_index)\nfrench_vocab_size = len(french_tokenizer.word_index)\n\nprint('Preprocessed Data Info')\nprint(\"Max English sentence length:\", max_english_sequence_length)\nprint(\"Max French sentence length:\", max_french_sequence_length)\nprint(\"English vocabulary size:\", english_vocab_size)\nprint(\"French vocabulary size:\", french_vocab_size)",
   "execution_count": 13,
   "outputs": [
    {
     "name": "stdout",
     "text": "Preprocessed Data Info\nMax English sentence length: 15\nMax French sentence length: 21\nEnglish vocabulary size: 199\nFrench vocabulary size: 344\n",
     "output_type": "stream"
    }
   ]
  },
  {
   "cell_type": "markdown",
   "source": "### Models\n\nIn this section we ask you to build and train Three (optionally four) different neural networks and use them to predict the French Translation of the English sentences.\n\nMake use of the `logits_to_text()` function to transform the logits from output of your networks to a French translation. This helps you to better understand the output of the neural network.",
   "metadata": {
    "id": "J_fCUxliHXwO",
    "cell_id": "00019-1f925a28-f37d-40c7-a3c6-cd6656ea05de",
    "deepnote_cell_type": "markdown"
   }
  },
  {
   "cell_type": "code",
   "metadata": {
    "id": "2CrRvXm91nhd",
    "colab": {
     "base_uri": "https://localhost:8080/"
    },
    "outputId": "cdbd2a6b-39e0-460a-8667-f6ba9aa79aa4",
    "cell_id": "00020-d9f100fd-e49d-4045-ada1-c54f566f88f0",
    "deepnote_to_be_reexecuted": false,
    "source_hash": "4676da1c",
    "execution_start": 1638444910827,
    "execution_millis": 16,
    "deepnote_cell_type": "code"
   },
   "source": "def logits_to_text(logits, tokenizer):\n    \"\"\"\n    Turn logits from a neural network into text using the tokenizer\n    :param logits: Logits from a neural network\n    :param tokenizer: Keras Tokenizer fit on the labels\n    :return: String that represents the text of the logits\n    \"\"\"\n    index_to_words = {id: word for word, id in tokenizer.word_index.items()}\n    index_to_words[0] = '<PAD>'\n\n    return ' '.join([index_to_words[prediction] for prediction in np.argmax(logits, 1)])\n\nprint('`logits_to_text` function loaded.')",
   "execution_count": 14,
   "outputs": [
    {
     "name": "stdout",
     "text": "`logits_to_text` function loaded.\n",
     "output_type": "stream"
    }
   ]
  },
  {
   "cell_type": "markdown",
   "source": "#### Model 1: Implement a simple RNN network and train the network. \n",
   "metadata": {
    "id": "BhYC7lJmxpdd",
    "cell_id": "00021-b5819d08-dbc5-4190-a071-b32cf126f2ef",
    "deepnote_cell_type": "markdown"
   }
  },
  {
   "cell_type": "code",
   "metadata": {
    "id": "_VcO7xkUlJyU",
    "cell_id": "00022-02b373f8-ad51-4781-808f-f9e95616516f",
    "deepnote_to_be_reexecuted": false,
    "source_hash": "8afab57c",
    "execution_start": 1638444910858,
    "execution_millis": 3,
    "deepnote_cell_type": "code"
   },
   "source": "from tensorflow.keras.layers import Input\nfrom tensorflow.keras.models import Sequential\nfrom tensorflow.keras.layers import GRU, Input,InputLayer, Dense, TimeDistributed, Activation, RepeatVector, Bidirectional\nfrom tensorflow.keras.callbacks import EarlyStopping",
   "execution_count": 15,
   "outputs": []
  },
  {
   "cell_type": "code",
   "metadata": {
    "tags": [],
    "cell_id": "00024-36f3c4c1-3fd9-486f-9443-f7545f3080f2",
    "deepnote_to_be_reexecuted": false,
    "source_hash": "aa5df87e",
    "execution_start": 1638444973105,
    "execution_millis": 577,
    "deepnote_output_heights": [
     20.5
    ],
    "deepnote_cell_type": "code"
   },
   "source": "# this step is necessary in order to set the length of the input sequences not shorter than the output length\nprint(\"Before: \",preproc_english_sentences.shape)\npreproc_english_sentences = pad(preproc_english_sentences, length=max_french_sequence_length)\nprint(\"After: \",preproc_english_sentences.shape)",
   "execution_count": 16,
   "outputs": [
    {
     "name": "stdout",
     "text": "Before:  (137860, 15)\nAfter:  (137860, 21)\n",
     "output_type": "stream"
    }
   ]
  },
  {
   "cell_type": "code",
   "metadata": {
    "id": "JQB93125ldUo",
    "cell_id": "00023-f144d593-6e7c-47b3-8c81-07a8ff9b1bb6",
    "deepnote_to_be_reexecuted": false,
    "source_hash": "3cfd2952",
    "execution_start": 1638434642441,
    "execution_millis": 412,
    "deepnote_cell_type": "code"
   },
   "source": "# Model 1: simple RNN model\nEarlyStoping = EarlyStopping(monitor=\"val_loss\",verbose=1,mode='min',patience=3)\n\n\ndef rnn_model(input_shape, output_sequence_length, english_vocab_size, french_vocab_size):\n    \"\"\"\n    Build and train a basic RNN on x and y\n    :param input_shape: Tuple of input shape\n    :param output_sequence_length: Length of output sequence\n    :param english_vocab_size: Number of unique English words in the dataset\n    :param french_vocab_size: Number of unique French words in the dataset\n    :return: Keras model built, but not trained\n    \"\"\"\n    # TODO: Build the layers and compile the model. (Hint: Use a GRU network followed by a TimeDistributed dense layer from tensorflow.keras.layers module)\n    # What is the input shape of your model? Which activation function do you choose for the dense layer?\n    \n    model = Sequential() # Complete here\n    \n    model.add(GRU(64, input_shape=input_shape, return_sequences=True))\n    model.add(TimeDistributed(Dense(french_vocab_size, activation='softmax')))\n\n    return model\n\n\n# model = rnn_model(preproc_english_sentences_21.shape,max_french_sequence_length,english_vocab_size+1,french_vocab_size+1)\nmodel_rnn = rnn_model((preproc_english_sentences.shape[1], 1), max_french_sequence_length,english_vocab_size+1,french_vocab_size+1)\n\nmodel_rnn.summary()",
   "outputs": [
    {
     "name": "stdout",
     "text": "Model: \"sequential\"\n_________________________________________________________________\nLayer (type)                 Output Shape              Param #   \n=================================================================\ngru (GRU)                    (None, 21, 64)            12864     \n_________________________________________________________________\ntime_distributed (TimeDistri (None, 21, 345)           22425     \n=================================================================\nTotal params: 35,289\nTrainable params: 35,289\nNon-trainable params: 0\n_________________________________________________________________\n",
     "output_type": "stream"
    }
   ],
   "execution_count": null
  },
  {
   "cell_type": "code",
   "metadata": {
    "tags": [],
    "cell_id": "00027-6af830f1-63b2-4a19-b0fb-f01e55a183d8",
    "deepnote_to_be_reexecuted": false,
    "source_hash": "e80e50ce",
    "execution_start": 1638434642859,
    "execution_millis": 50033963,
    "deepnote_output_heights": [
     40.171875
    ],
    "deepnote_cell_type": "code"
   },
   "source": "preproc_english_sentences[5]",
   "outputs": [
    {
     "output_type": "execute_result",
     "execution_count": 19,
     "data": {
      "text/plain": "array([31, 11, 13,  1,  5, 84,  6, 30, 11,  1,  5, 82,  0,  0,  0,  0,  0,\n        0,  0,  0,  0], dtype=int32)"
     },
     "metadata": {}
    }
   ],
   "execution_count": null
  },
  {
   "cell_type": "code",
   "metadata": {
    "tags": [],
    "cell_id": "00026-f06a18af-ef12-489a-a5fd-d56562597b38",
    "deepnote_to_be_reexecuted": false,
    "source_hash": "572efe93",
    "execution_start": 1638434642891,
    "execution_millis": 662134,
    "deepnote_output_heights": [
     20.5
    ],
    "deepnote_cell_type": "code"
   },
   "source": "model_rnn.compile(loss=sparse_categorical_crossentropy,\n              optimizer=Adam(0.005),\n              metrics=['accuracy'])\n\n# TODO: Preprocess and reshape the input to work with a basic RNN. (Hint: Use preproc_english_sentences, preproc_french_sentences and reshape function from keras)\nX, y = preproc_english_sentences, preproc_french_sentences\nX  = X.reshape(-1, X.shape[1], 1)\nprint(X.shape, y.shape)\n\n# TODO: Train the network you built in rnn_model. What size do you choose for the epochs, batch_size and validation_split?\nhistory = model_rnn.fit(X, y, epochs=10, batch_size=1000, validation_split=0.2, callbacks=[EarlyStoping])",
   "outputs": [
    {
     "name": "stdout",
     "text": "(137860, 21, 1) (137860, 21, 1)\nEpoch 1/10\n111/111 [==============================] - 71s 618ms/step - loss: 3.2674 - accuracy: 0.4284 - val_loss: 1.9049 - val_accuracy: 0.5616\nEpoch 2/10\n111/111 [==============================] - 68s 613ms/step - loss: 1.7783 - accuracy: 0.5743 - val_loss: 1.5402 - val_accuracy: 0.5967\nEpoch 3/10\n111/111 [==============================] - 66s 599ms/step - loss: 1.4959 - accuracy: 0.6032 - val_loss: 1.3896 - val_accuracy: 0.6180\nEpoch 4/10\n111/111 [==============================] - 66s 598ms/step - loss: 1.3642 - accuracy: 0.6249 - val_loss: 1.2994 - val_accuracy: 0.6404\nEpoch 5/10\n111/111 [==============================] - 65s 584ms/step - loss: 1.2822 - accuracy: 0.6392 - val_loss: 1.2279 - val_accuracy: 0.6431\nEpoch 6/10\n111/111 [==============================] - 65s 589ms/step - loss: 1.2174 - accuracy: 0.6491 - val_loss: 1.1934 - val_accuracy: 0.6568\nEpoch 7/10\n111/111 [==============================] - 66s 593ms/step - loss: 1.1732 - accuracy: 0.6541 - val_loss: 1.1452 - val_accuracy: 0.6569\nEpoch 8/10\n111/111 [==============================] - 66s 595ms/step - loss: 1.1379 - accuracy: 0.6579 - val_loss: 1.1244 - val_accuracy: 0.6584\nEpoch 9/10\n111/111 [==============================] - 64s 577ms/step - loss: 1.1139 - accuracy: 0.6611 - val_loss: 1.0961 - val_accuracy: 0.6646\nEpoch 10/10\n111/111 [==============================] - 64s 580ms/step - loss: 1.0923 - accuracy: 0.6649 - val_loss: 1.0778 - val_accuracy: 0.6703\n",
     "output_type": "stream"
    }
   ],
   "execution_count": null
  },
  {
   "cell_type": "code",
   "metadata": {
    "colab": {
     "base_uri": "https://localhost:8080/",
     "height": 35
    },
    "id": "7nwogKT2Y2Lp",
    "outputId": "5cbb73b2-2c4a-4f2a-f79c-ab5338e179af",
    "cell_id": "00024-c8180ccd-8537-4314-8192-c0687f87c2a2",
    "deepnote_output_heights": [
     20.5
    ],
    "deepnote_to_be_reexecuted": false,
    "source_hash": "b4075f6c",
    "execution_start": 1638435305028,
    "execution_millis": 896,
    "deepnote_cell_type": "code"
   },
   "source": "# TODO: Print prediction(s) for one or more of the English sentences. Hint: Make use of the `logits_to_text` function for transforming output logits to text. \n\ns_list = [63, 69, 79, 245]      # list of sentences randomly chosen by me\nindex_to_e_words = {id: word for word, id in english_tokenizer.word_index.items()}   # dict of english words\nindex_to_e_words[0] = '<PAD>'                                                        # add PAD to the list\nindex_to_fr_words = {id: word for word, id in french_tokenizer.word_index.items()}   # dict of french words\nindex_to_fr_words[0] = '<PAD>'                                                       # add PAD to the list\n\n\nfor s in s_list:\n    print(f\"English: {' '.join([index_to_e_words[word] for word in X[s].reshape(21)])}\")\n    print(f\"Fr_true: {' '.join([index_to_fr_words[word] for word in y[s].reshape(21)])}\")\n    print(f\"Fr_pred: {(logits_to_text(model_rnn.predict(X[s:(s+1)])[0], french_tokenizer))}\\n\")",
   "outputs": [
    {
     "name": "stdout",
     "text": "English: the lemon is my most loved fruit but the strawberry is our most loved <PAD> <PAD> <PAD> <PAD> <PAD> <PAD> <PAD>\nFr_true: le citron est mon fruit le plus aimé mais la fraise est notre plus aimé <PAD> <PAD> <PAD> <PAD> <PAD> <PAD>\nFr_pred: les chaux est son fruit le plus aimé mais la est est notre plus aimé <PAD> <PAD> <PAD> <PAD> <PAD> <PAD>\n\nEnglish: he dislikes apples mangoes and strawberries <PAD> <PAD> <PAD> <PAD> <PAD> <PAD> <PAD> <PAD> <PAD> <PAD> <PAD> <PAD> <PAD> <PAD> <PAD>\nFr_true: il déteste les pommes les mangues et les fraises <PAD> <PAD> <PAD> <PAD> <PAD> <PAD> <PAD> <PAD> <PAD> <PAD> <PAD> <PAD>\nFr_pred: elle aime les les les et et les <PAD> <PAD> <PAD> <PAD> <PAD> <PAD> <PAD> <PAD> <PAD> <PAD> <PAD> <PAD> <PAD>\n\nEnglish: the strawberry is their least favorite fruit but the apple is our least favorite <PAD> <PAD> <PAD> <PAD> <PAD> <PAD> <PAD>\nFr_true: la fraise est leur fruit préféré moins mais la pomme est notre moins préféré <PAD> <PAD> <PAD> <PAD> <PAD> <PAD> <PAD>\nFr_pred: les chaux est notre fruit préféré moins mais la est est notre moins préféré <PAD> <PAD> <PAD> <PAD> <PAD> <PAD> <PAD>\n\nEnglish: india is sometimes quiet during december but it is never nice in winter <PAD> <PAD> <PAD> <PAD> <PAD> <PAD> <PAD> <PAD>\nFr_true: l' inde est parfois calme en décembre mais il est jamais agréable en hiver <PAD> <PAD> <PAD> <PAD> <PAD> <PAD> <PAD>\nFr_pred: paris est parfois parfois en en mais il est jamais jamais en en <PAD> <PAD> <PAD> <PAD> <PAD> <PAD> <PAD> <PAD>\n\n",
     "output_type": "stream"
    }
   ],
   "execution_count": null
  },
  {
   "cell_type": "markdown",
   "source": "#### Model 2: Implement an RNN model using word embeddings\n\nEmbeddings are better representation of words. An embedding is a vector representation of a word in n-dimensional space, where n represents the size of the embedding vector.\n",
   "metadata": {
    "id": "MQacJtFZ3Zic",
    "cell_id": "00025-1733b5c6-1346-4ccc-a95d-719a71e62bd7",
    "deepnote_cell_type": "markdown"
   }
  },
  {
   "cell_type": "code",
   "metadata": {
    "id": "Ropzm7KD8juF",
    "cell_id": "00026-39e2f0ac-e7ac-4443-a3e1-7ad02aa2d587",
    "deepnote_to_be_reexecuted": false,
    "source_hash": "395c5725",
    "execution_start": 1638435305790,
    "execution_millis": 345,
    "deepnote_cell_type": "code"
   },
   "source": "# Model 2: Embedding\nEarlyStoping = EarlyStopping(monitor=\"val_loss\",verbose=1,mode='min',patience=3)\n\ndef embed_model(input_shape, output_sequence_length, english_vocab_size, french_vocab_size):\n    \"\"\"\n    Build and train a RNN model using word embedding on x and y\n    :param input_shape: Tuple of input shape\n    :param output_sequence_length: Length of output sequence\n    :param english_vocab_size: Number of unique English words in the dataset\n    :param french_vocab_size: Number of unique French words in the dataset\n    :return: Keras model built, but not trained\n    \"\"\"\n    # TODO: Build the layers and compile the model. (Hint: Similar to the first model use a GRU network followed by a TimeDistributed dense layer from tensorflow.keras.layers module. \n    # And this time make use of Embedding as well!)\n    # What is the input shape of your model? Which activation function do you choose for the dense layer?\n    embedding_size = 128  # a common choice but fully arbitrary chosen here \n    model = Sequential() \n    # Complete here\n    model.add(Embedding(english_vocab_size, 64, input_shape=input_shape))\n    model.add(GRU(64, return_sequences=True))                   \n    model.add(TimeDistributed(Dense(french_vocab_size, activation=\"softmax\")))\n                       \n    return model\n\nmodel_embeding = embed_model((preproc_english_sentences.shape[1], ),max_french_sequence_length,english_vocab_size+1,french_vocab_size+1) \nmodel_embeding.summary()\n",
   "outputs": [
    {
     "name": "stdout",
     "text": "Model: \"sequential_1\"\n_________________________________________________________________\nLayer (type)                 Output Shape              Param #   \n=================================================================\nembedding (Embedding)        (None, 21, 64)            12800     \n_________________________________________________________________\ngru_1 (GRU)                  (None, 21, 64)            24960     \n_________________________________________________________________\ntime_distributed_1 (TimeDist (None, 21, 345)           22425     \n=================================================================\nTotal params: 60,185\nTrainable params: 60,185\nNon-trainable params: 0\n_________________________________________________________________\n",
     "output_type": "stream"
    }
   ],
   "execution_count": null
  },
  {
   "cell_type": "code",
   "metadata": {
    "tags": [],
    "cell_id": "00031-dc3cf82d-d793-493d-8cdd-174e1b8f00a4",
    "deepnote_to_be_reexecuted": false,
    "source_hash": "60497576",
    "execution_start": 1638435306100,
    "execution_millis": 714323,
    "deepnote_cell_type": "code"
   },
   "source": "model_embeding.compile(loss=sparse_categorical_crossentropy,\n              optimizer=Adam(0.005),\n              metrics=['accuracy'])\n              \n# TODO: Preprocess and reshape the input to work with a basic RNN. (Hint: Use preproc_english_sentences, preproc_french_sentences and reshape function from keras)\nX, y = preproc_english_sentences, preproc_french_sentences\nX  = X.reshape(-1, X.shape[1], 1)\nprint(X.shape, y.shape)\n\n# TODO: Train the network you built in rnn_model. What size do you choose for the epochs, batch_size and validation_split?\nhistemb=model_embeding.fit(X, y, validation_split=0.2, epochs=10, batch_size=1000, verbose=1,callbacks=[EarlyStoping])\n",
   "outputs": [
    {
     "name": "stdout",
     "text": "(137860, 21, 1) (137860, 21, 1)\nEpoch 1/10\n111/111 [==============================] - 72s 630ms/step - loss: 3.5734 - accuracy: 0.4150 - val_loss: 1.4906 - val_accuracy: 0.6160\nEpoch 2/10\n111/111 [==============================] - 69s 626ms/step - loss: 1.2476 - accuracy: 0.6773 - val_loss: 0.7516 - val_accuracy: 0.7842\nEpoch 3/10\n111/111 [==============================] - 69s 624ms/step - loss: 0.6814 - accuracy: 0.8034 - val_loss: 0.5369 - val_accuracy: 0.8393\nEpoch 4/10\n111/111 [==============================] - 70s 631ms/step - loss: 0.5104 - accuracy: 0.8457 - val_loss: 0.4443 - val_accuracy: 0.8658\nEpoch 5/10\n111/111 [==============================] - 72s 655ms/step - loss: 0.4241 - accuracy: 0.8720 - val_loss: 0.3832 - val_accuracy: 0.8835\nEpoch 6/10\n111/111 [==============================] - 75s 678ms/step - loss: 0.3706 - accuracy: 0.8879 - val_loss: 0.3460 - val_accuracy: 0.8954\nEpoch 7/10\n111/111 [==============================] - 73s 659ms/step - loss: 0.3353 - accuracy: 0.8978 - val_loss: 0.3310 - val_accuracy: 0.8990\nEpoch 8/10\n111/111 [==============================] - 71s 642ms/step - loss: 0.3135 - accuracy: 0.9038 - val_loss: 0.3021 - val_accuracy: 0.9077\nEpoch 9/10\n111/111 [==============================] - 70s 631ms/step - loss: 0.2936 - accuracy: 0.9097 - val_loss: 0.2964 - val_accuracy: 0.9088\nEpoch 10/10\n111/111 [==============================] - 71s 645ms/step - loss: 0.2817 - accuracy: 0.9127 - val_loss: 0.2823 - val_accuracy: 0.9127\n",
     "output_type": "stream"
    }
   ],
   "execution_count": null
  },
  {
   "cell_type": "code",
   "metadata": {
    "id": "rhmKgzbjbrkx",
    "cell_id": "00027-82d5a89f-7cf5-45bc-b039-c8412a150ca3",
    "deepnote_to_be_reexecuted": false,
    "source_hash": "1561adde",
    "execution_start": 1638436020199,
    "execution_millis": 714,
    "deepnote_cell_type": "code"
   },
   "source": "# TODO: Print prediction(s) for one or more of the English sentences. Hint: Make use of the `logits_to_text` function for transforming output logits to text. \n# (Hint: If you predict on the same sentence you can compare the result of different model on that specific sentence with each other.)\n\nfor s in s_list:\n    print(f\"English: {' '.join([index_to_e_words[word] for word in X[s].reshape(21)])}\")\n    print(f\"Fr_true: {' '.join([index_to_fr_words[word] for word in y[s].reshape(21)])}\")\n    print(f\"Fr_pred: {(logits_to_text(model_embeding.predict(X[s:(s+1)])[0], french_tokenizer))}\\n\")",
   "outputs": [
    {
     "name": "stdout",
     "text": "English: the lemon is my most loved fruit but the strawberry is our most loved <PAD> <PAD> <PAD> <PAD> <PAD> <PAD> <PAD>\nFr_true: le citron est mon fruit le plus aimé mais la fraise est notre plus aimé <PAD> <PAD> <PAD> <PAD> <PAD> <PAD>\nFr_pred: les citron est mon fruit le plus cher mais la fraise est notre plus aimé <PAD> <PAD> <PAD> <PAD> <PAD> <PAD>\n\nEnglish: he dislikes apples mangoes and strawberries <PAD> <PAD> <PAD> <PAD> <PAD> <PAD> <PAD> <PAD> <PAD> <PAD> <PAD> <PAD> <PAD> <PAD> <PAD>\nFr_true: il déteste les pommes les mangues et les fraises <PAD> <PAD> <PAD> <PAD> <PAD> <PAD> <PAD> <PAD> <PAD> <PAD> <PAD> <PAD>\nFr_pred: il n'aime les pommes les mangues et les fraises <PAD> <PAD> <PAD> <PAD> <PAD> <PAD> <PAD> <PAD> <PAD> <PAD> <PAD> <PAD>\n\nEnglish: the strawberry is their least favorite fruit but the apple is our least favorite <PAD> <PAD> <PAD> <PAD> <PAD> <PAD> <PAD>\nFr_true: la fraise est leur fruit préféré moins mais la pomme est notre moins préféré <PAD> <PAD> <PAD> <PAD> <PAD> <PAD> <PAD>\nFr_pred: les fraise est leur fruit préféré moins mais la pomme est notre moins préféré <PAD> <PAD> <PAD> <PAD> <PAD> <PAD> <PAD>\n\nEnglish: india is sometimes quiet during december but it is never nice in winter <PAD> <PAD> <PAD> <PAD> <PAD> <PAD> <PAD> <PAD>\nFr_true: l' inde est parfois calme en décembre mais il est jamais agréable en hiver <PAD> <PAD> <PAD> <PAD> <PAD> <PAD> <PAD>\nFr_pred: l' inde est parfois calme en décembre mais il est jamais agréable en hiver <PAD> <PAD> <PAD> <PAD> <PAD> <PAD> <PAD>\n\n",
     "output_type": "stream"
    }
   ],
   "execution_count": null
  },
  {
   "cell_type": "markdown",
   "source": "#### Model 3: Implement a Bidirectional RNN network.\n\nOne of the restrictions of RNN networks is that they only see the data from past. However, Bidirectional RNNs can see the data in both directions past and future. Make use of Bidirectionality and experiment if this feature enhances your network's performance or not.",
   "metadata": {
    "id": "LqMHh7Hw3X_z",
    "cell_id": "00028-32461da4-04ec-413f-a075-3b81e504e37d",
    "deepnote_cell_type": "markdown"
   }
  },
  {
   "cell_type": "code",
   "metadata": {
    "id": "Z_ZqZ7PqEWSM",
    "cell_id": "00029-de3224a5-0c3f-4f29-9e0b-ca86dcceb2ba",
    "deepnote_to_be_reexecuted": false,
    "source_hash": "fbc98bc7",
    "execution_start": 1638436020918,
    "execution_millis": 613,
    "deepnote_cell_type": "code"
   },
   "source": "# Model 3: Bidirectional RNNs\nEarlyStoping = EarlyStopping(monitor=\"val_loss\",verbose=1,mode='min',patience=3)\n\ndef bd_model(input_shape, output_sequence_length, english_vocab_size, french_vocab_size):\n    \"\"\"\n    Build and train a bidirectional RNN model on x and y\n    :param input_shape: Tuple of input shape\n    :param output_sequence_length: Length of output sequence\n    :param english_vocab_size: Number of unique English words in the dataset\n    :param french_vocab_size: Number of unique French words in the dataset\n    :return: Keras model built, but not trained\n    \"\"\"\n    # TODO:  Build the layers and compile the model. (Hint: Similar to the first model use a GRU network followed by a TimeDistributed dense layer from tensorflow.keras.layers module. \n    # Don't forget to make your network bidirectional!)\n\n    model = Sequential()\n    # Complete here\n    model.add(Embedding(english_vocab_size, 64, input_shape=input_shape))\n    model.add(Bidirectional(GRU(64, return_sequences=True)))\n    #model.add(TimeDistributed(Dense(256, activation=\"relu\")))      \n    model.add(TimeDistributed(Dense(french_vocab_size, activation=\"softmax\"))                  )\n\n    return model\n\nmodel_bd = bd_model((preproc_english_sentences.shape[1], ),max_french_sequence_length,english_vocab_size+1,french_vocab_size+1) \nmodel_bd.summary()\n#histbd=model_bidirectional.fit(preproc_english_sentences,preproc_french_sentences,validation_split=0.2, epochs=100, verbose=1,callbacks=[EarlyStoping])\n",
   "outputs": [
    {
     "name": "stdout",
     "text": "Model: \"sequential_2\"\n_________________________________________________________________\nLayer (type)                 Output Shape              Param #   \n=================================================================\nembedding_1 (Embedding)      (None, 21, 64)            12800     \n_________________________________________________________________\nbidirectional (Bidirectional (None, 21, 128)           49920     \n_________________________________________________________________\ntime_distributed_2 (TimeDist (None, 21, 345)           44505     \n=================================================================\nTotal params: 107,225\nTrainable params: 107,225\nNon-trainable params: 0\n_________________________________________________________________\n",
     "output_type": "stream"
    }
   ],
   "execution_count": null
  },
  {
   "cell_type": "code",
   "metadata": {
    "tags": [],
    "cell_id": "00035-f47f9f2f-f73a-4112-bfd3-b5681eaee2d8",
    "deepnote_to_be_reexecuted": false,
    "source_hash": "af475752",
    "execution_start": 1638436021534,
    "execution_millis": 1005934,
    "deepnote_cell_type": "code"
   },
   "source": "model_bd.compile(loss=sparse_categorical_crossentropy,\n              optimizer=Adam(0.005),\n              metrics=['accuracy'])\n              \n# TODO: Preprocess and reshape the input to work with a basic RNN. (Hint: Use preproc_english_sentences, preproc_french_sentences and reshape function from keras)\nX, y = preproc_english_sentences, preproc_french_sentences\nX  = X.reshape(-1, X.shape[1], 1)\nprint(X.shape, y.shape)\n\n# TODO: Train the network you built in rnn_model. What size do you choose for the epochs, batch_size and validation_split?\nhistbd=model_bd.fit(X, y, validation_split=0.2, epochs=10, batch_size=1000, verbose=1,callbacks=[EarlyStoping])",
   "outputs": [
    {
     "name": "stdout",
     "text": "(137860, 21, 1) (137860, 21, 1)\nEpoch 1/10\n111/111 [==============================] - 105s 912ms/step - loss: 3.1403 - accuracy: 0.4614 - val_loss: 1.0622 - val_accuracy: 0.7133\nEpoch 2/10\n111/111 [==============================] - 100s 899ms/step - loss: 0.8880 - accuracy: 0.7464 - val_loss: 0.5379 - val_accuracy: 0.8396\nEpoch 3/10\n111/111 [==============================] - 103s 930ms/step - loss: 0.4883 - accuracy: 0.8525 - val_loss: 0.3731 - val_accuracy: 0.8870\nEpoch 4/10\n111/111 [==============================] - 99s 893ms/step - loss: 0.3452 - accuracy: 0.8963 - val_loss: 0.2928 - val_accuracy: 0.9138\nEpoch 5/10\n111/111 [==============================] - 100s 899ms/step - loss: 0.2762 - accuracy: 0.9186 - val_loss: 0.2427 - val_accuracy: 0.9291\nEpoch 6/10\n111/111 [==============================] - 100s 901ms/step - loss: 0.2269 - accuracy: 0.9346 - val_loss: 0.2069 - val_accuracy: 0.9403\nEpoch 7/10\n111/111 [==============================] - 98s 880ms/step - loss: 0.1968 - accuracy: 0.9438 - val_loss: 0.1857 - val_accuracy: 0.9469\nEpoch 8/10\n111/111 [==============================] - 99s 895ms/step - loss: 0.1751 - accuracy: 0.9501 - val_loss: 0.1715 - val_accuracy: 0.9508\nEpoch 9/10\n111/111 [==============================] - 103s 933ms/step - loss: 0.1591 - accuracy: 0.9547 - val_loss: 0.1586 - val_accuracy: 0.9549\nEpoch 10/10\n111/111 [==============================] - 99s 892ms/step - loss: 0.1435 - accuracy: 0.9591 - val_loss: 0.1492 - val_accuracy: 0.9580\n",
     "output_type": "stream"
    }
   ],
   "execution_count": null
  },
  {
   "cell_type": "code",
   "metadata": {
    "id": "q8Q2AVwqeCUP",
    "cell_id": "00030-f2cf29b0-21ea-408b-947f-8d88343878fc",
    "deepnote_to_be_reexecuted": false,
    "source_hash": "e5c68e3d",
    "execution_start": 1638437027472,
    "execution_millis": 889,
    "deepnote_cell_type": "code"
   },
   "source": "# TODO: Print prediction(s) for one or more of the English sentences. Hint: Make use of the `logits_to_text` function for transforming output logits to text.\n# (Hint: If you predict on the same sentence you can compare the result of different model on that specific sentence with each other.)\nfor s in s_list:\n    print(f\"English: {' '.join([index_to_e_words[word] for word in X[s].reshape(21)])}\")\n    print(f\"Fr_true: {' '.join([index_to_fr_words[word] for word in y[s].reshape(21)])}\")\n    print(f\"Fr_pred: {(logits_to_text(model_bd.predict(X[s:(s+1)])[0], french_tokenizer))}\\n\")",
   "outputs": [
    {
     "name": "stdout",
     "text": "English: the lemon is my most loved fruit but the strawberry is our most loved <PAD> <PAD> <PAD> <PAD> <PAD> <PAD> <PAD>\nFr_true: le citron est mon fruit le plus aimé mais la fraise est notre plus aimé <PAD> <PAD> <PAD> <PAD> <PAD> <PAD>\nFr_pred: le citron est mon fruit le plus aimé mais la fraise est notre plus aimé <PAD> <PAD> <PAD> <PAD> <PAD> <PAD>\n\nEnglish: he dislikes apples mangoes and strawberries <PAD> <PAD> <PAD> <PAD> <PAD> <PAD> <PAD> <PAD> <PAD> <PAD> <PAD> <PAD> <PAD> <PAD> <PAD>\nFr_true: il déteste les pommes les mangues et les fraises <PAD> <PAD> <PAD> <PAD> <PAD> <PAD> <PAD> <PAD> <PAD> <PAD> <PAD> <PAD>\nFr_pred: il déteste les les les mangues et les fraises <PAD> <PAD> <PAD> <PAD> <PAD> <PAD> <PAD> <PAD> <PAD> <PAD> <PAD> <PAD>\n\nEnglish: the strawberry is their least favorite fruit but the apple is our least favorite <PAD> <PAD> <PAD> <PAD> <PAD> <PAD> <PAD>\nFr_true: la fraise est leur fruit préféré moins mais la pomme est notre moins préféré <PAD> <PAD> <PAD> <PAD> <PAD> <PAD> <PAD>\nFr_pred: la fraise est leur fruit préféré moins mais la pomme est notre moins préféré <PAD> <PAD> <PAD> <PAD> <PAD> <PAD> <PAD>\n\nEnglish: india is sometimes quiet during december but it is never nice in winter <PAD> <PAD> <PAD> <PAD> <PAD> <PAD> <PAD> <PAD>\nFr_true: l' inde est parfois calme en décembre mais il est jamais agréable en hiver <PAD> <PAD> <PAD> <PAD> <PAD> <PAD> <PAD>\nFr_pred: l' inde est parfois calme en décembre mais il est jamais agréable en hiver <PAD> <PAD> <PAD> <PAD> <PAD> <PAD> <PAD>\n\n",
     "output_type": "stream"
    }
   ],
   "execution_count": null
  },
  {
   "cell_type": "code",
   "source": "tensorflow.keras.backend.clear_session()   # Resets all state generated by Keras",
   "metadata": {
    "tags": [],
    "cell_id": "00036-9596f8c5-a56a-4061-a398-f8e7a69fce26",
    "deepnote_to_be_reexecuted": false,
    "source_hash": "82004a8d",
    "execution_start": 1638437056196,
    "execution_millis": 19,
    "deepnote_cell_type": "code"
   },
   "outputs": [],
   "execution_count": null
  },
  {
   "cell_type": "markdown",
   "source": "First I tried to apply the bidirectional layer on the basic RNN model. The results were almost identical as with the basic model. After that I combined the bidirectional layer with word embedding (what is actually the  optional task, see below). With that model the improvement (measured by accuracy) is significant",
   "metadata": {
    "tags": [],
    "is_collapsed": false,
    "cell_id": "00036-176130ad-05db-4679-be76-1a3bef1f1b58",
    "deepnote_cell_type": "text-cell-p"
   }
  },
  {
   "cell_type": "markdown",
   "source": "#### Model 4: Implement an Encoder-Decoder model (Optional)",
   "metadata": {
    "id": "WVgbz1IGLbTn",
    "cell_id": "00031-f8d1ca45-e77c-4472-8350-3284d17a98f5",
    "deepnote_cell_type": "markdown"
   }
  },
  {
   "cell_type": "code",
   "metadata": {
    "id": "Qgj43NvjKZDO",
    "cell_id": "00032-de0a1f97-e1d6-49fb-9b6d-8db5f2679c08",
    "deepnote_to_be_reexecuted": false,
    "source_hash": "bbe36f97",
    "execution_start": 1638437088475,
    "execution_millis": 1177,
    "deepnote_cell_type": "code"
   },
   "source": "\ndef encdec_model(input_shape, output_sequence_length, english_vocab_size, french_vocab_size):\n    \"\"\"\n    Build and train an encoder-decoder model on x and y\n    :param input_shape: Tuple of input shape\n    :param output_sequence_length: Length of output sequence\n    :param english_vocab_size: Number of unique English words in the dataset\n    :param french_vocab_size: Number of unique French words in the dataset\n    :return: Keras model built, but not trained\n    \"\"\"\n    # OPTIONAL: Implement\n    model = Sequential()\n    model.add(Embedding(english_vocab_size, 64, input_shape=input_shape))\n    # Encoder\n    model.add(Bidirectional(GRU(64, return_sequences = False)))\n    model.add(RepeatVector(output_sequence_length))\n    # Decoder\n    model.add(Bidirectional(GRU(64, return_sequences=True)))\n    model.add(TimeDistributed(Dense(french_vocab_size, activation=\"softmax\"))                  )\n\n    return model\n\nmodel_encdec = encdec_model((preproc_english_sentences.shape[1], ),max_french_sequence_length,english_vocab_size+1,french_vocab_size+1) \nmodel_encdec.summary()\n",
   "outputs": [
    {
     "name": "stdout",
     "text": "Model: \"sequential\"\n_________________________________________________________________\nLayer (type)                 Output Shape              Param #   \n=================================================================\nembedding (Embedding)        (None, 21, 64)            12800     \n_________________________________________________________________\nbidirectional (Bidirectional (None, 128)               49920     \n_________________________________________________________________\nrepeat_vector (RepeatVector) (None, 21, 128)           0         \n_________________________________________________________________\nbidirectional_1 (Bidirection (None, 21, 128)           74496     \n_________________________________________________________________\ntime_distributed (TimeDistri (None, 21, 345)           44505     \n=================================================================\nTotal params: 181,721\nTrainable params: 181,721\nNon-trainable params: 0\n_________________________________________________________________\n",
     "output_type": "stream"
    }
   ],
   "execution_count": null
  },
  {
   "cell_type": "code",
   "source": "# OPTIONAL: Train and Print prediction(s)\n\nmodel_encdec.compile(loss=sparse_categorical_crossentropy,\n              optimizer=Adam(0.005),\n              metrics=['accuracy'])\n              \n# TODO: Preprocess and reshape the input to work with a basic RNN. (Hint: Use preproc_english_sentences, preproc_french_sentences and reshape function from keras)\nX, y = preproc_english_sentences, preproc_french_sentences\nX  = X.reshape(-1, X.shape[1], 1)\nprint(X.shape, y.shape)\n\n# TODO: Train the network you built in rnn_model. What size do you choose for the epochs, batch_size and validation_split?\nhistencdec = model_encdec.fit(X, y, validation_split=0.2, epochs=10, batch_size=1000, verbose=1,callbacks=[EarlyStoping])\n",
   "metadata": {
    "tags": [],
    "cell_id": "00039-ff1cf9fc-5ecd-4ffe-883d-1b7fb5276646",
    "deepnote_to_be_reexecuted": false,
    "source_hash": "a3b0bf19",
    "execution_start": 1638437110040,
    "execution_millis": 1466285,
    "deepnote_cell_type": "code"
   },
   "outputs": [
    {
     "name": "stdout",
     "text": "(137860, 21, 1) (137860, 21, 1)\nEpoch 1/10\n111/111 [==============================] - 154s 1s/step - loss: 3.2528 - accuracy: 0.4169 - val_loss: 1.9401 - val_accuracy: 0.5169\nEpoch 2/10\n111/111 [==============================] - 150s 1s/step - loss: 1.8161 - accuracy: 0.5375 - val_loss: 1.4817 - val_accuracy: 0.6120\nEpoch 3/10\n111/111 [==============================] - 158s 1s/step - loss: 1.4174 - accuracy: 0.6256 - val_loss: 1.2010 - val_accuracy: 0.6682\nEpoch 4/10\n111/111 [==============================] - 150s 1s/step - loss: 1.1479 - accuracy: 0.6820 - val_loss: 0.9997 - val_accuracy: 0.7167\nEpoch 5/10\n111/111 [==============================] - 141s 1s/step - loss: 0.9642 - accuracy: 0.7237 - val_loss: 0.8614 - val_accuracy: 0.7472\nEpoch 6/10\n111/111 [==============================] - 141s 1s/step - loss: 0.8284 - accuracy: 0.7573 - val_loss: 0.7532 - val_accuracy: 0.7800\nEpoch 7/10\n111/111 [==============================] - 148s 1s/step - loss: 0.7372 - accuracy: 0.7836 - val_loss: 0.8193 - val_accuracy: 0.7666\nEpoch 8/10\n111/111 [==============================] - 142s 1s/step - loss: 0.6996 - accuracy: 0.7939 - val_loss: 0.5666 - val_accuracy: 0.8324\nEpoch 9/10\n111/111 [==============================] - 144s 1s/step - loss: 0.5515 - accuracy: 0.8350 - val_loss: 0.5193 - val_accuracy: 0.8434\nEpoch 10/10\n111/111 [==============================] - 139s 1s/step - loss: 0.4852 - accuracy: 0.8557 - val_loss: 0.4593 - val_accuracy: 0.8659\n",
     "output_type": "stream"
    }
   ],
   "execution_count": null
  },
  {
   "cell_type": "code",
   "source": "# Print predictions\nfor s in s_list:\n    print(f\"English: {' '.join([index_to_e_words[word] for word in X[s].reshape(21)])}\")\n    print(f\"Fr_true: {' '.join([index_to_fr_words[word] for word in y[s].reshape(21)])}\")\n    print(f\"Fr_pred: {(logits_to_text(model_encdec.predict(X[s:(s+1)])[0], french_tokenizer))}\\n\")",
   "metadata": {
    "tags": [],
    "cell_id": "00040-eb6db4c9-936b-45f0-bae4-349227596b7e",
    "deepnote_to_be_reexecuted": false,
    "source_hash": "c9914f42",
    "execution_start": 1638438594883,
    "execution_millis": 1815,
    "deepnote_cell_type": "code"
   },
   "outputs": [
    {
     "name": "stdout",
     "text": "English: the lemon is my most loved fruit but the strawberry is our most loved <PAD> <PAD> <PAD> <PAD> <PAD> <PAD> <PAD>\nFr_true: le citron est mon fruit le plus aimé mais la fraise est notre plus aimé <PAD> <PAD> <PAD> <PAD> <PAD> <PAD>\nFr_pred: le citron est son fruit le plus cher mais la mangue est votre plus aimé <PAD> <PAD> <PAD> <PAD> <PAD> <PAD>\n\nEnglish: he dislikes apples mangoes and strawberries <PAD> <PAD> <PAD> <PAD> <PAD> <PAD> <PAD> <PAD> <PAD> <PAD> <PAD> <PAD> <PAD> <PAD> <PAD>\nFr_true: il déteste les pommes les mangues et les fraises <PAD> <PAD> <PAD> <PAD> <PAD> <PAD> <PAD> <PAD> <PAD> <PAD> <PAD> <PAD>\nFr_pred: il déteste les les les raisins et les fraises <PAD> <PAD> <PAD> <PAD> <PAD> <PAD> <PAD> <PAD> <PAD> <PAD> <PAD> <PAD>\n\nEnglish: the strawberry is their least favorite fruit but the apple is our least favorite <PAD> <PAD> <PAD> <PAD> <PAD> <PAD> <PAD>\nFr_true: la fraise est leur fruit préféré moins mais la pomme est notre moins préféré <PAD> <PAD> <PAD> <PAD> <PAD> <PAD> <PAD>\nFr_pred: la fraise est notre fruit préféré moins mais la pomme est notre préféré préféré <PAD> <PAD> <PAD> <PAD> <PAD> <PAD> <PAD>\n\nEnglish: india is sometimes quiet during december but it is never nice in winter <PAD> <PAD> <PAD> <PAD> <PAD> <PAD> <PAD> <PAD>\nFr_true: l' inde est parfois calme en décembre mais il est jamais agréable en hiver <PAD> <PAD> <PAD> <PAD> <PAD> <PAD> <PAD>\nFr_pred: l' inde est parfois calme en décembre mais il est jamais agréable en hiver <PAD> <PAD> <PAD> <PAD> <PAD> <PAD> <PAD>\n\n",
     "output_type": "stream"
    }
   ],
   "execution_count": null
  },
  {
   "cell_type": "markdown",
   "source": "#### Finally, you can use all the models you built in this exercise to create a model that incorporates embedding and bidirectionality into one model. (Optional)",
   "metadata": {
    "id": "63Z7VO2cNHSD",
    "cell_id": "00033-f28abd63-e017-411f-aa21-17085b148f3d",
    "deepnote_cell_type": "markdown"
   }
  },
  {
   "cell_type": "markdown",
   "source": "It has been already done by implementing model 3 (and 4)",
   "metadata": {
    "tags": [],
    "is_collapsed": false,
    "cell_id": "00037-de2fb011-b605-438a-a734-44a3f4b1e858",
    "deepnote_cell_type": "text-cell-p"
   }
  },
  {
   "cell_type": "code",
   "metadata": {
    "id": "54Mj9eDjMDwX",
    "cell_id": "00034-172f4168-54c4-4f06-9646-f90e740cf7bb",
    "deepnote_cell_type": "code"
   },
   "source": "\ndef model_final(input_shape, output_sequence_length, english_vocab_size, french_vocab_size):\n    \"\"\"\n    Build and train a model that incorporates embedding, encoder-decoder, and bidirectional RNN on x and y\n    :param input_shape: Tuple of input shape\n    :param output_sequence_length: Length of output sequence\n    :param english_vocab_size: Number of unique English words in the dataset\n    :param french_vocab_size: Number of unique French words in the dataset\n    :return: Keras model built, but not trained\n    \"\"\"\n    # TODO: Implement\n\n    return model\n# OPTIONAL: Train and Print prediction(s)",
   "execution_count": null,
   "outputs": []
  },
  {
   "cell_type": "markdown",
   "source": "### Final Notes and TODOs\n\n\n\n\n*   In this exercise we focus on  learning different recurrent network architectures for machine translation, However we don't evaluate the models on a separate test set. To follow best machine learning practices, you can make use of the `sklearn.model_selecttion.train_test_split()` function to create separate training and test datasets. You can then retrain each of the models on the training set and evaluate the prediction accuracy using the hold out set. Observe how the best model performance might change.\n* If you don't have any idea about French (like me :D) you can use a translater like [google translat](https://translate.google.com/) to compare the prediction(s) from your models with the respective original English sentence(s).\n*   TODO: Finally, you can also try to train and predict your models on other language pairs. As a convenient example, you can use your models to translate from French to English since you already have the data available.\n\n\n\n",
   "metadata": {
    "id": "kiXZThFkN07F",
    "cell_id": "00035-627cd95e-7ee8-4b45-9e01-c44313d4a3d5",
    "deepnote_cell_type": "markdown"
   }
  },
  {
   "cell_type": "markdown",
   "source": "## Reverse translation (French to English)",
   "metadata": {
    "tags": [],
    "is_collapsed": false,
    "cell_id": "00046-deb53262-e41a-4264-b439-001571492523",
    "deepnote_cell_type": "text-cell-h2"
   }
  },
  {
   "cell_type": "code",
   "source": "# apply the \"best\" model to a reverse translation, i.e. translate from French to English.",
   "metadata": {
    "tags": [],
    "cell_id": "00046-f8d8e92f-e425-4823-814e-aebe94705cea",
    "deepnote_cell_type": "code"
   },
   "outputs": [],
   "execution_count": null
  },
  {
   "cell_type": "code",
   "source": "import matplotlib.pyplot as plt\n\n# histbd.history.\nplt.figure(figsize=(12,5))\nplt.subplot(121)\nplt.plot(history.history.get('val_loss'), label='RNN')\nplt.plot(histbd.history.get('val_loss'), label='BIDI')\nplt.plot(histemb.history.get('val_loss'), label='EMBED')\nplt.plot(histencdec.history.get('val_loss'), label='ENDE')\nplt.xlabel('epochs')\nplt.ylabel('val_loss')\nplt.grid()\nplt.legend()\nplt.subplot(122)\nplt.plot(history.history.get('val_accuracy'), label='RNN')\nplt.plot(histbd.history.get('val_accuracy'), label='BIDI')\nplt.plot(histemb.history.get('val_accuracy'), label='EMBED')\nplt.plot(histencdec.history.get('val_accuracy'), label='ENDE')\nplt.xlabel('epochs')\nplt.ylabel('val_accuracy')\nplt.grid()\nplt.legend()\nplt.show()",
   "metadata": {
    "tags": [],
    "cell_id": "00047-1b3e9d4d-bd62-4544-aff0-5e12db3944ee",
    "deepnote_to_be_reexecuted": false,
    "source_hash": "d347f5e9",
    "execution_start": 1638439963234,
    "execution_millis": 588,
    "deepnote_output_heights": [
     318.96875,
     20.875
    ],
    "deepnote_cell_type": "code"
   },
   "outputs": [
    {
     "data": {
      "text/plain": "<Figure size 864x360 with 2 Axes>",
      "image/png": "[encoded data removed]"
     },
     "metadata": {
      "needs_background": "light",
      "image/png": {
       "width": 728,
       "height": 317
      }
     },
     "output_type": "display_data"
    }
   ],
   "execution_count": null
  },
  {
   "cell_type": "code",
   "source": "# execute a new preprocessing with exchanged input/output languages\n\npreproc_french_sentences, preproc_english_sentences, french_tokenizer, english_tokenizer =\\\n    preprocess(french_text, english_text)\n    \nmax_french_sequence_length = preproc_french_sentences.shape[1]\nmax_english_sequence_length = preproc_english_sentences.shape[1]\nfrench_vocab_size = len(french_tokenizer.word_index)\nenglish_vocab_size = len(english_tokenizer.word_index)\n\nprint('Preprocessed Data Info')\nprint(\"Max French sentence length:\", max_french_sequence_length)\nprint(\"Max English sentence length:\", max_english_sequence_length)\nprint(\"French vocabulary size:\", french_vocab_size)\nprint(\"English vocabulary size:\", english_vocab_size)\n",
   "metadata": {
    "tags": [],
    "cell_id": "00048-f81b147d-b160-4d1d-8f49-c06e12472dde",
    "deepnote_to_be_reexecuted": false,
    "source_hash": "76f37700",
    "execution_start": 1638441907178,
    "execution_millis": 17433,
    "deepnote_cell_type": "code"
   },
   "outputs": [
    {
     "name": "stdout",
     "text": "Preprocessed Data Info\nMax French sentence length: 21\nMax English sentence length: 15\nFrench vocabulary size: 344\nEnglish vocabulary size: 199\n",
     "output_type": "stream"
    }
   ],
   "execution_count": null
  },
  {
   "cell_type": "code",
   "source": "#the \"best\" model is BIDI. Compile and fit the model with exchanged x and y\n\nEarlyStoping = EarlyStopping(monitor=\"val_loss\",verbose=1,mode='min',patience=3)\n\n\ndef bd_model_rev(input_shape, output_sequence_length, french_vocab_size, english_vocab_size):\n    \"\"\"\n    Build and train a bidirectional RNN model on x and y\n    :param input_shape: Tuple of input shape\n    :param output_sequence_length: Length of output sequence\n    :param english_vocab_size: Number of unique English words in the dataset\n    :param french_vocab_size: Number of unique French words in the dataset\n    :return: Keras model built, but not trained\n    \"\"\"\n    # TODO:  Build the layers and compile the model. (Hint: Similar to the first model use a GRU network followed by a TimeDistributed dense layer from tensorflow.keras.layers module. \n    # Don't forget to make your network bidirectional!)\n\n    model = Sequential()\n    # Complete here\n    model.add(Embedding(french_vocab_size, 64, input_shape=input_shape))\n    model.add(Bidirectional(GRU(64, return_sequences=True)))\n    #model.add(TimeDistributed(Dense(256, activation=\"relu\")))      \n    model.add(TimeDistributed(Dense(english_vocab_size, activation=\"softmax\"))                  )\n\n    return model\n\nmodel_bd_rev = bd_model_rev((preproc_french_sentences.shape[1], ),max_french_sequence_length, french_vocab_size+1, english_vocab_size+1 ) \nmodel_bd_rev.summary()\n\n",
   "metadata": {
    "tags": [],
    "cell_id": "00048-1e4a5b56-f173-4a4f-90fa-d07f77412d7d",
    "deepnote_to_be_reexecuted": false,
    "source_hash": "7cc5b118",
    "execution_start": 1638447114401,
    "execution_millis": 488,
    "deepnote_cell_type": "code"
   },
   "outputs": [
    {
     "name": "stdout",
     "text": "Model: \"sequential_4\"\n_________________________________________________________________\nLayer (type)                 Output Shape              Param #   \n=================================================================\nembedding_4 (Embedding)      (None, 21, 64)            22080     \n_________________________________________________________________\nbidirectional_4 (Bidirection (None, 21, 128)           49920     \n_________________________________________________________________\ntime_distributed_4 (TimeDist (None, 21, 200)           25800     \n=================================================================\nTotal params: 97,800\nTrainable params: 97,800\nNon-trainable params: 0\n_________________________________________________________________\n",
     "output_type": "stream"
    }
   ],
   "execution_count": 35
  },
  {
   "cell_type": "code",
   "source": "preproc_english_sentences.shape",
   "metadata": {
    "tags": [],
    "cell_id": "00049-0c49cc0b-fbfd-4f0c-a91d-88b25b318ed6",
    "deepnote_to_be_reexecuted": false,
    "source_hash": "be92a7ad",
    "execution_start": 1638445323492,
    "execution_millis": 1,
    "deepnote_output_heights": [
     21.078125
    ],
    "deepnote_cell_type": "code"
   },
   "outputs": [
    {
     "output_type": "execute_result",
     "execution_count": 28,
     "data": {
      "text/plain": "(137860, 21)"
     },
     "metadata": {}
    }
   ],
   "execution_count": 28
  },
  {
   "cell_type": "code",
   "source": "# pad it equal to the french_sentences max. length\npreproc_english_sentences = pad(preproc_english_sentences, length=max_french_sequence_length)",
   "metadata": {
    "tags": [],
    "cell_id": "00051-2fb95f10-5cf3-499a-8955-60869fd59452",
    "deepnote_to_be_reexecuted": false,
    "source_hash": "9eb6db7b",
    "execution_start": 1638445326005,
    "execution_millis": 597,
    "deepnote_cell_type": "code"
   },
   "outputs": [],
   "execution_count": 29
  },
  {
   "cell_type": "code",
   "source": "# do it this time with separated train/test data sets!\n\nfrom sklearn.model_selection import train_test_split\n\n\nmodel_bd_rev.compile(loss=sparse_categorical_crossentropy,\n              optimizer=Adam(0.005),\n              metrics=['accuracy'])\n              \n\nx, y =  preproc_french_sentences, preproc_english_sentences  # this time in reverse order!\nx  = x.reshape(-1, x.shape[1], 1)\n\nx_train, x_test, y_train, y_test = train_test_split(x, y, test_size=0.2, random_state=42)\nprint(x_train.shape, y_train.shape)\n\nhistbd_reverse = model_bd_rev.fit(x_train, y_train, validation_split=0.2, epochs=10, batch_size=1000, verbose=1, callbacks=[EarlyStoping])",
   "metadata": {
    "tags": [],
    "cell_id": "00049-fc502985-fc4b-4ed2-982c-590db465bee3",
    "deepnote_to_be_reexecuted": false,
    "source_hash": "afaaef97",
    "execution_start": 1638447355566,
    "execution_millis": 641604,
    "deepnote_cell_type": "code"
   },
   "outputs": [
    {
     "name": "stdout",
     "text": "(110288, 21, 1) (110288, 21)\nEpoch 1/10\n89/89 [==============================] - 68s 722ms/step - loss: 2.1764 - accuracy: 0.5360 - val_loss: 0.7376 - val_accuracy: 0.8072\nEpoch 2/10\n89/89 [==============================] - 63s 710ms/step - loss: 0.5314 - accuracy: 0.8588 - val_loss: 0.2268 - val_accuracy: 0.9372\nEpoch 3/10\n89/89 [==============================] - 63s 714ms/step - loss: 0.1904 - accuracy: 0.9464 - val_loss: 0.1190 - val_accuracy: 0.9630\nEpoch 4/10\n89/89 [==============================] - 64s 718ms/step - loss: 0.1043 - accuracy: 0.9676 - val_loss: 0.0783 - val_accuracy: 0.9736\nEpoch 5/10\n89/89 [==============================] - 63s 708ms/step - loss: 0.0714 - accuracy: 0.9755 - val_loss: 0.0616 - val_accuracy: 0.9776\nEpoch 6/10\n89/89 [==============================] - 64s 725ms/step - loss: 0.0570 - accuracy: 0.9791 - val_loss: 0.0513 - val_accuracy: 0.9805\nEpoch 7/10\n89/89 [==============================] - 64s 719ms/step - loss: 0.0479 - accuracy: 0.9815 - val_loss: 0.0447 - val_accuracy: 0.9822\nEpoch 8/10\n89/89 [==============================] - 63s 710ms/step - loss: 0.0423 - accuracy: 0.9829 - val_loss: 0.0402 - val_accuracy: 0.9832\nEpoch 9/10\n89/89 [==============================] - 65s 735ms/step - loss: 0.0375 - accuracy: 0.9840 - val_loss: 0.0371 - val_accuracy: 0.9838\nEpoch 10/10\n89/89 [==============================] - 63s 709ms/step - loss: 0.0349 - accuracy: 0.9845 - val_loss: 0.0355 - val_accuracy: 0.9842\n",
     "output_type": "stream"
    }
   ],
   "execution_count": 39
  },
  {
   "cell_type": "code",
   "source": "x_test.shape",
   "metadata": {
    "tags": [],
    "cell_id": "00054-28b9d9a9-823a-4543-b535-edeedf2ff7e6",
    "deepnote_to_be_reexecuted": false,
    "source_hash": "692ae804",
    "execution_start": 1638448028701,
    "execution_millis": 16,
    "deepnote_output_heights": [
     21.078125
    ],
    "deepnote_cell_type": "code"
   },
   "outputs": [
    {
     "output_type": "execute_result",
     "execution_count": 41,
     "data": {
      "text/plain": "(27572, 21, 1)"
     },
     "metadata": {}
    }
   ],
   "execution_count": 41
  },
  {
   "cell_type": "code",
   "source": "# TODO: Print prediction(s) for one or more of the French sentences. Hint: Make use of the `logits_to_text` function for transforming output logits to text. \n\nimport random\n\ns_list = [random.randint(1, x_test.shape[0]) for i in range(3)]                   # list of random sentences\nindex_to_e_words = {id: word for word, id in english_tokenizer.word_index.items()}    # dict of french words\nindex_to_e_words[0] = '<PAD>'                                                        # add PAD to the list\nindex_to_fr_words = {id: word for word, id in french_tokenizer.word_index.items()}  # dict of english words\nindex_to_fr_words[0] = '<PAD>'                                                       # add PAD to the list\n\n\nfor s in s_list:\n    print(s)\n    print(f\"French: {' '.join([index_to_fr_words[word] for word in x_test[s].reshape(21)])}\")\n    print(f\"En_true: {' '.join([index_to_e_words[word] for word in y_test[s].reshape(21)])}\")\n    print(f\"En_pred: {(logits_to_text(model_bd_rev.predict(x_test[s:(s+1)])[0], english_tokenizer))}\\n\")",
   "metadata": {
    "tags": [],
    "cell_id": "00053-adaef93b-96a5-4545-828f-bd1db7236522",
    "deepnote_to_be_reexecuted": false,
    "source_hash": "ca7115fc",
    "execution_start": 1638448793037,
    "execution_millis": 119,
    "deepnote_output_heights": [
     20.875
    ],
    "deepnote_cell_type": "code"
   },
   "outputs": [
    {
     "name": "stdout",
     "text": "7665\nFrench: france est calme pendant l' été et il est parfois humide en hiver <PAD> <PAD> <PAD> <PAD> <PAD> <PAD> <PAD> <PAD>\nEn_true: france is quiet during summer and it is sometimes wet in winter <PAD> <PAD> <PAD> <PAD> <PAD> <PAD> <PAD> <PAD> <PAD>\nEn_pred: france is quiet during summer and it is sometimes wet in winter <PAD> <PAD> <PAD> <PAD> <PAD> <PAD> <PAD> <PAD> <PAD>\n\n26811\nFrench: les états unis est généralement froid au mois de mai mais il est généralement humide en été <PAD> <PAD> <PAD> <PAD>\nEn_true: the united states is usually chilly during may but it is usually wet in summer <PAD> <PAD> <PAD> <PAD> <PAD> <PAD>\nEn_pred: the united states is usually cold during may but it is usually wet in summer <PAD> <PAD> <PAD> <PAD> <PAD> <PAD>\n\n19298\nFrench: notre fruit préféré est l'orange mais leur favori est le raisin <PAD> <PAD> <PAD> <PAD> <PAD> <PAD> <PAD> <PAD> <PAD> <PAD>\nEn_true: our favorite fruit is the orange but their favorite is the grape <PAD> <PAD> <PAD> <PAD> <PAD> <PAD> <PAD> <PAD> <PAD>\nEn_pred: our favorite fruit is the orange but their favorite is the grape <PAD> <PAD> <PAD> <PAD> <PAD> <PAD> <PAD> <PAD> <PAD>\n\n",
     "output_type": "stream"
    }
   ],
   "execution_count": 54
  },
  {
   "cell_type": "markdown",
   "source": "<a style='text-decoration:none;line-height:16px;display:flex;color:#5B5B62;padding:10px;justify-content:end;' href='https://deepnote.com?utm_source=created-in-deepnote-cell&projectId=a109ea11-a7da-42aa-8af0-3a0cdafc917e' target=\"_blank\">\n<img alt='Created in deepnote.com' style='display:inline;max-height:16px;margin:0px;margin-right:7.5px;' src='data:image/svg+xml;base64,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' > </img>\nCreated in <span style='font-weight:600;margin-left:4px;'>Deepnote</span></a>",
   "metadata": {
    "tags": [],
    "created_in_deepnote_cell": true,
    "deepnote_cell_type": "markdown"
   }
  }
 ],
 "nbformat": 4,
 "nbformat_minor": 0,
 "metadata": {
  "colab": {
   "name": "Translation.ipynb",
   "provenance": [],
   "collapsed_sections": []
  },
  "kernelspec": {
   "name": "python3",
   "display_name": "Python 3"
  },
  "accelerator": "GPU",
  "deepnote_notebook_id": "86526b81-e2b4-41e3-8d6c-819ef7205b83",
  "deepnote": {},
  "deepnote_execution_queue": []
 }
}