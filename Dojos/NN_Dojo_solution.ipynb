{
  "nbformat": 4,
  "nbformat_minor": 0,
  "metadata": {
    "colab": {
      "name": "NN_Dojo_solution.ipynb",
      "provenance": []
    },
    "kernelspec": {
      "name": "python3",
      "display_name": "Python 3"
    }
  },
  "cells": [
    {
      "cell_type": "markdown",
      "metadata": {
        "id": "DQPbhutEGd4F"
      },
      "source": [
        "## Preparation"
      ]
    },
    {
      "cell_type": "markdown",
      "metadata": {
        "id": "m7tA7ZIuGhsP"
      },
      "source": [
        "Loading the dataset about breast cancer:\n",
        "\n",
        "\n",
        "*   radius (mean of distances from center to points on the perimeter)\n",
        "*   texture (standard deviation of gray-scale values)\n",
        "\n",
        "* perimeter\n",
        "\n",
        "* area\n",
        "\n",
        "* smoothness (local variation in radius lengths)\n",
        "\n",
        "* compactness (perimeter^2 / area - 1.0)\n",
        "\n",
        "* concavity (severity of concave portions of the contour)\n",
        "\n",
        "* concave points (number of concave portions of the contour)\n",
        "\n",
        "* symmetry\n",
        "\n",
        "* fractal dimension (“coastline approximation” - 1)\n",
        "\n",
        "Features are computed from a digitized image of a fine needle aspirate (FNA) of a breast mass. They describe characteristics of the cell nuclei present in the image.\n",
        "\n"
      ]
    },
    {
      "cell_type": "code",
      "metadata": {
        "id": "utxOpPt7Gj5t"
      },
      "source": [
        "import numpy as np\n",
        "import pandas as pd\n",
        "import matplotlib.pyplot as plt\n",
        "import seaborn as sns\n",
        "sns.set_style(\"whitegrid\")\n",
        "import warnings\n",
        "warnings.simplefilter(action=\"ignore\")"
      ],
      "execution_count": 79,
      "outputs": []
    },
    {
      "cell_type": "code",
      "metadata": {
        "id": "ecnfoEAeGktv"
      },
      "source": [
        "from sklearn.datasets import load_breast_cancer\n",
        "\n",
        "cancer = load_breast_cancer()\n",
        "\n",
        "df = pd.DataFrame(np.c_[cancer['data'], cancer['target']],\n",
        "                            columns=np.append(cancer['feature_names'], ['target']))"
      ],
      "execution_count": 80,
      "outputs": []
    },
    {
      "cell_type": "code",
      "metadata": {
        "id": "q2ovzkD1HJvz",
        "colab": {
          "base_uri": "https://localhost:8080/",
          "height": 470
        },
        "outputId": "218785ec-cccb-470f-842c-595ef8f8ab2b"
      },
      "source": [
        "df"
      ],
      "execution_count": 81,
      "outputs": [
        {
          "output_type": "execute_result",
          "data": {
            "text/html": [
              "<div>\n",
              "<style scoped>\n",
              "    .dataframe tbody tr th:only-of-type {\n",
              "        vertical-align: middle;\n",
              "    }\n",
              "\n",
              "    .dataframe tbody tr th {\n",
              "        vertical-align: top;\n",
              "    }\n",
              "\n",
              "    .dataframe thead th {\n",
              "        text-align: right;\n",
              "    }\n",
              "</style>\n",
              "<table border=\"1\" class=\"dataframe\">\n",
              "  <thead>\n",
              "    <tr style=\"text-align: right;\">\n",
              "      <th></th>\n",
              "      <th>mean radius</th>\n",
              "      <th>mean texture</th>\n",
              "      <th>mean perimeter</th>\n",
              "      <th>mean area</th>\n",
              "      <th>mean smoothness</th>\n",
              "      <th>mean compactness</th>\n",
              "      <th>mean concavity</th>\n",
              "      <th>mean concave points</th>\n",
              "      <th>mean symmetry</th>\n",
              "      <th>mean fractal dimension</th>\n",
              "      <th>radius error</th>\n",
              "      <th>texture error</th>\n",
              "      <th>perimeter error</th>\n",
              "      <th>area error</th>\n",
              "      <th>smoothness error</th>\n",
              "      <th>compactness error</th>\n",
              "      <th>concavity error</th>\n",
              "      <th>concave points error</th>\n",
              "      <th>symmetry error</th>\n",
              "      <th>fractal dimension error</th>\n",
              "      <th>worst radius</th>\n",
              "      <th>worst texture</th>\n",
              "      <th>worst perimeter</th>\n",
              "      <th>worst area</th>\n",
              "      <th>worst smoothness</th>\n",
              "      <th>worst compactness</th>\n",
              "      <th>worst concavity</th>\n",
              "      <th>worst concave points</th>\n",
              "      <th>worst symmetry</th>\n",
              "      <th>worst fractal dimension</th>\n",
              "      <th>target</th>\n",
              "    </tr>\n",
              "  </thead>\n",
              "  <tbody>\n",
              "    <tr>\n",
              "      <th>0</th>\n",
              "      <td>17.99</td>\n",
              "      <td>10.38</td>\n",
              "      <td>122.80</td>\n",
              "      <td>1001.0</td>\n",
              "      <td>0.11840</td>\n",
              "      <td>0.27760</td>\n",
              "      <td>0.30010</td>\n",
              "      <td>0.14710</td>\n",
              "      <td>0.2419</td>\n",
              "      <td>0.07871</td>\n",
              "      <td>1.0950</td>\n",
              "      <td>0.9053</td>\n",
              "      <td>8.589</td>\n",
              "      <td>153.40</td>\n",
              "      <td>0.006399</td>\n",
              "      <td>0.04904</td>\n",
              "      <td>0.05373</td>\n",
              "      <td>0.01587</td>\n",
              "      <td>0.03003</td>\n",
              "      <td>0.006193</td>\n",
              "      <td>25.380</td>\n",
              "      <td>17.33</td>\n",
              "      <td>184.60</td>\n",
              "      <td>2019.0</td>\n",
              "      <td>0.16220</td>\n",
              "      <td>0.66560</td>\n",
              "      <td>0.7119</td>\n",
              "      <td>0.2654</td>\n",
              "      <td>0.4601</td>\n",
              "      <td>0.11890</td>\n",
              "      <td>0.0</td>\n",
              "    </tr>\n",
              "    <tr>\n",
              "      <th>1</th>\n",
              "      <td>20.57</td>\n",
              "      <td>17.77</td>\n",
              "      <td>132.90</td>\n",
              "      <td>1326.0</td>\n",
              "      <td>0.08474</td>\n",
              "      <td>0.07864</td>\n",
              "      <td>0.08690</td>\n",
              "      <td>0.07017</td>\n",
              "      <td>0.1812</td>\n",
              "      <td>0.05667</td>\n",
              "      <td>0.5435</td>\n",
              "      <td>0.7339</td>\n",
              "      <td>3.398</td>\n",
              "      <td>74.08</td>\n",
              "      <td>0.005225</td>\n",
              "      <td>0.01308</td>\n",
              "      <td>0.01860</td>\n",
              "      <td>0.01340</td>\n",
              "      <td>0.01389</td>\n",
              "      <td>0.003532</td>\n",
              "      <td>24.990</td>\n",
              "      <td>23.41</td>\n",
              "      <td>158.80</td>\n",
              "      <td>1956.0</td>\n",
              "      <td>0.12380</td>\n",
              "      <td>0.18660</td>\n",
              "      <td>0.2416</td>\n",
              "      <td>0.1860</td>\n",
              "      <td>0.2750</td>\n",
              "      <td>0.08902</td>\n",
              "      <td>0.0</td>\n",
              "    </tr>\n",
              "    <tr>\n",
              "      <th>2</th>\n",
              "      <td>19.69</td>\n",
              "      <td>21.25</td>\n",
              "      <td>130.00</td>\n",
              "      <td>1203.0</td>\n",
              "      <td>0.10960</td>\n",
              "      <td>0.15990</td>\n",
              "      <td>0.19740</td>\n",
              "      <td>0.12790</td>\n",
              "      <td>0.2069</td>\n",
              "      <td>0.05999</td>\n",
              "      <td>0.7456</td>\n",
              "      <td>0.7869</td>\n",
              "      <td>4.585</td>\n",
              "      <td>94.03</td>\n",
              "      <td>0.006150</td>\n",
              "      <td>0.04006</td>\n",
              "      <td>0.03832</td>\n",
              "      <td>0.02058</td>\n",
              "      <td>0.02250</td>\n",
              "      <td>0.004571</td>\n",
              "      <td>23.570</td>\n",
              "      <td>25.53</td>\n",
              "      <td>152.50</td>\n",
              "      <td>1709.0</td>\n",
              "      <td>0.14440</td>\n",
              "      <td>0.42450</td>\n",
              "      <td>0.4504</td>\n",
              "      <td>0.2430</td>\n",
              "      <td>0.3613</td>\n",
              "      <td>0.08758</td>\n",
              "      <td>0.0</td>\n",
              "    </tr>\n",
              "    <tr>\n",
              "      <th>3</th>\n",
              "      <td>11.42</td>\n",
              "      <td>20.38</td>\n",
              "      <td>77.58</td>\n",
              "      <td>386.1</td>\n",
              "      <td>0.14250</td>\n",
              "      <td>0.28390</td>\n",
              "      <td>0.24140</td>\n",
              "      <td>0.10520</td>\n",
              "      <td>0.2597</td>\n",
              "      <td>0.09744</td>\n",
              "      <td>0.4956</td>\n",
              "      <td>1.1560</td>\n",
              "      <td>3.445</td>\n",
              "      <td>27.23</td>\n",
              "      <td>0.009110</td>\n",
              "      <td>0.07458</td>\n",
              "      <td>0.05661</td>\n",
              "      <td>0.01867</td>\n",
              "      <td>0.05963</td>\n",
              "      <td>0.009208</td>\n",
              "      <td>14.910</td>\n",
              "      <td>26.50</td>\n",
              "      <td>98.87</td>\n",
              "      <td>567.7</td>\n",
              "      <td>0.20980</td>\n",
              "      <td>0.86630</td>\n",
              "      <td>0.6869</td>\n",
              "      <td>0.2575</td>\n",
              "      <td>0.6638</td>\n",
              "      <td>0.17300</td>\n",
              "      <td>0.0</td>\n",
              "    </tr>\n",
              "    <tr>\n",
              "      <th>4</th>\n",
              "      <td>20.29</td>\n",
              "      <td>14.34</td>\n",
              "      <td>135.10</td>\n",
              "      <td>1297.0</td>\n",
              "      <td>0.10030</td>\n",
              "      <td>0.13280</td>\n",
              "      <td>0.19800</td>\n",
              "      <td>0.10430</td>\n",
              "      <td>0.1809</td>\n",
              "      <td>0.05883</td>\n",
              "      <td>0.7572</td>\n",
              "      <td>0.7813</td>\n",
              "      <td>5.438</td>\n",
              "      <td>94.44</td>\n",
              "      <td>0.011490</td>\n",
              "      <td>0.02461</td>\n",
              "      <td>0.05688</td>\n",
              "      <td>0.01885</td>\n",
              "      <td>0.01756</td>\n",
              "      <td>0.005115</td>\n",
              "      <td>22.540</td>\n",
              "      <td>16.67</td>\n",
              "      <td>152.20</td>\n",
              "      <td>1575.0</td>\n",
              "      <td>0.13740</td>\n",
              "      <td>0.20500</td>\n",
              "      <td>0.4000</td>\n",
              "      <td>0.1625</td>\n",
              "      <td>0.2364</td>\n",
              "      <td>0.07678</td>\n",
              "      <td>0.0</td>\n",
              "    </tr>\n",
              "    <tr>\n",
              "      <th>...</th>\n",
              "      <td>...</td>\n",
              "      <td>...</td>\n",
              "      <td>...</td>\n",
              "      <td>...</td>\n",
              "      <td>...</td>\n",
              "      <td>...</td>\n",
              "      <td>...</td>\n",
              "      <td>...</td>\n",
              "      <td>...</td>\n",
              "      <td>...</td>\n",
              "      <td>...</td>\n",
              "      <td>...</td>\n",
              "      <td>...</td>\n",
              "      <td>...</td>\n",
              "      <td>...</td>\n",
              "      <td>...</td>\n",
              "      <td>...</td>\n",
              "      <td>...</td>\n",
              "      <td>...</td>\n",
              "      <td>...</td>\n",
              "      <td>...</td>\n",
              "      <td>...</td>\n",
              "      <td>...</td>\n",
              "      <td>...</td>\n",
              "      <td>...</td>\n",
              "      <td>...</td>\n",
              "      <td>...</td>\n",
              "      <td>...</td>\n",
              "      <td>...</td>\n",
              "      <td>...</td>\n",
              "      <td>...</td>\n",
              "    </tr>\n",
              "    <tr>\n",
              "      <th>564</th>\n",
              "      <td>21.56</td>\n",
              "      <td>22.39</td>\n",
              "      <td>142.00</td>\n",
              "      <td>1479.0</td>\n",
              "      <td>0.11100</td>\n",
              "      <td>0.11590</td>\n",
              "      <td>0.24390</td>\n",
              "      <td>0.13890</td>\n",
              "      <td>0.1726</td>\n",
              "      <td>0.05623</td>\n",
              "      <td>1.1760</td>\n",
              "      <td>1.2560</td>\n",
              "      <td>7.673</td>\n",
              "      <td>158.70</td>\n",
              "      <td>0.010300</td>\n",
              "      <td>0.02891</td>\n",
              "      <td>0.05198</td>\n",
              "      <td>0.02454</td>\n",
              "      <td>0.01114</td>\n",
              "      <td>0.004239</td>\n",
              "      <td>25.450</td>\n",
              "      <td>26.40</td>\n",
              "      <td>166.10</td>\n",
              "      <td>2027.0</td>\n",
              "      <td>0.14100</td>\n",
              "      <td>0.21130</td>\n",
              "      <td>0.4107</td>\n",
              "      <td>0.2216</td>\n",
              "      <td>0.2060</td>\n",
              "      <td>0.07115</td>\n",
              "      <td>0.0</td>\n",
              "    </tr>\n",
              "    <tr>\n",
              "      <th>565</th>\n",
              "      <td>20.13</td>\n",
              "      <td>28.25</td>\n",
              "      <td>131.20</td>\n",
              "      <td>1261.0</td>\n",
              "      <td>0.09780</td>\n",
              "      <td>0.10340</td>\n",
              "      <td>0.14400</td>\n",
              "      <td>0.09791</td>\n",
              "      <td>0.1752</td>\n",
              "      <td>0.05533</td>\n",
              "      <td>0.7655</td>\n",
              "      <td>2.4630</td>\n",
              "      <td>5.203</td>\n",
              "      <td>99.04</td>\n",
              "      <td>0.005769</td>\n",
              "      <td>0.02423</td>\n",
              "      <td>0.03950</td>\n",
              "      <td>0.01678</td>\n",
              "      <td>0.01898</td>\n",
              "      <td>0.002498</td>\n",
              "      <td>23.690</td>\n",
              "      <td>38.25</td>\n",
              "      <td>155.00</td>\n",
              "      <td>1731.0</td>\n",
              "      <td>0.11660</td>\n",
              "      <td>0.19220</td>\n",
              "      <td>0.3215</td>\n",
              "      <td>0.1628</td>\n",
              "      <td>0.2572</td>\n",
              "      <td>0.06637</td>\n",
              "      <td>0.0</td>\n",
              "    </tr>\n",
              "    <tr>\n",
              "      <th>566</th>\n",
              "      <td>16.60</td>\n",
              "      <td>28.08</td>\n",
              "      <td>108.30</td>\n",
              "      <td>858.1</td>\n",
              "      <td>0.08455</td>\n",
              "      <td>0.10230</td>\n",
              "      <td>0.09251</td>\n",
              "      <td>0.05302</td>\n",
              "      <td>0.1590</td>\n",
              "      <td>0.05648</td>\n",
              "      <td>0.4564</td>\n",
              "      <td>1.0750</td>\n",
              "      <td>3.425</td>\n",
              "      <td>48.55</td>\n",
              "      <td>0.005903</td>\n",
              "      <td>0.03731</td>\n",
              "      <td>0.04730</td>\n",
              "      <td>0.01557</td>\n",
              "      <td>0.01318</td>\n",
              "      <td>0.003892</td>\n",
              "      <td>18.980</td>\n",
              "      <td>34.12</td>\n",
              "      <td>126.70</td>\n",
              "      <td>1124.0</td>\n",
              "      <td>0.11390</td>\n",
              "      <td>0.30940</td>\n",
              "      <td>0.3403</td>\n",
              "      <td>0.1418</td>\n",
              "      <td>0.2218</td>\n",
              "      <td>0.07820</td>\n",
              "      <td>0.0</td>\n",
              "    </tr>\n",
              "    <tr>\n",
              "      <th>567</th>\n",
              "      <td>20.60</td>\n",
              "      <td>29.33</td>\n",
              "      <td>140.10</td>\n",
              "      <td>1265.0</td>\n",
              "      <td>0.11780</td>\n",
              "      <td>0.27700</td>\n",
              "      <td>0.35140</td>\n",
              "      <td>0.15200</td>\n",
              "      <td>0.2397</td>\n",
              "      <td>0.07016</td>\n",
              "      <td>0.7260</td>\n",
              "      <td>1.5950</td>\n",
              "      <td>5.772</td>\n",
              "      <td>86.22</td>\n",
              "      <td>0.006522</td>\n",
              "      <td>0.06158</td>\n",
              "      <td>0.07117</td>\n",
              "      <td>0.01664</td>\n",
              "      <td>0.02324</td>\n",
              "      <td>0.006185</td>\n",
              "      <td>25.740</td>\n",
              "      <td>39.42</td>\n",
              "      <td>184.60</td>\n",
              "      <td>1821.0</td>\n",
              "      <td>0.16500</td>\n",
              "      <td>0.86810</td>\n",
              "      <td>0.9387</td>\n",
              "      <td>0.2650</td>\n",
              "      <td>0.4087</td>\n",
              "      <td>0.12400</td>\n",
              "      <td>0.0</td>\n",
              "    </tr>\n",
              "    <tr>\n",
              "      <th>568</th>\n",
              "      <td>7.76</td>\n",
              "      <td>24.54</td>\n",
              "      <td>47.92</td>\n",
              "      <td>181.0</td>\n",
              "      <td>0.05263</td>\n",
              "      <td>0.04362</td>\n",
              "      <td>0.00000</td>\n",
              "      <td>0.00000</td>\n",
              "      <td>0.1587</td>\n",
              "      <td>0.05884</td>\n",
              "      <td>0.3857</td>\n",
              "      <td>1.4280</td>\n",
              "      <td>2.548</td>\n",
              "      <td>19.15</td>\n",
              "      <td>0.007189</td>\n",
              "      <td>0.00466</td>\n",
              "      <td>0.00000</td>\n",
              "      <td>0.00000</td>\n",
              "      <td>0.02676</td>\n",
              "      <td>0.002783</td>\n",
              "      <td>9.456</td>\n",
              "      <td>30.37</td>\n",
              "      <td>59.16</td>\n",
              "      <td>268.6</td>\n",
              "      <td>0.08996</td>\n",
              "      <td>0.06444</td>\n",
              "      <td>0.0000</td>\n",
              "      <td>0.0000</td>\n",
              "      <td>0.2871</td>\n",
              "      <td>0.07039</td>\n",
              "      <td>1.0</td>\n",
              "    </tr>\n",
              "  </tbody>\n",
              "</table>\n",
              "<p>569 rows × 31 columns</p>\n",
              "</div>"
            ],
            "text/plain": [
              "     mean radius  mean texture  ...  worst fractal dimension  target\n",
              "0          17.99         10.38  ...                  0.11890     0.0\n",
              "1          20.57         17.77  ...                  0.08902     0.0\n",
              "2          19.69         21.25  ...                  0.08758     0.0\n",
              "3          11.42         20.38  ...                  0.17300     0.0\n",
              "4          20.29         14.34  ...                  0.07678     0.0\n",
              "..           ...           ...  ...                      ...     ...\n",
              "564        21.56         22.39  ...                  0.07115     0.0\n",
              "565        20.13         28.25  ...                  0.06637     0.0\n",
              "566        16.60         28.08  ...                  0.07820     0.0\n",
              "567        20.60         29.33  ...                  0.12400     0.0\n",
              "568         7.76         24.54  ...                  0.07039     1.0\n",
              "\n",
              "[569 rows x 31 columns]"
            ]
          },
          "metadata": {},
          "execution_count": 81
        }
      ]
    },
    {
      "cell_type": "markdown",
      "metadata": {
        "id": "EvXIhc6jHroe"
      },
      "source": [
        "## Data Inspection/Exploration"
      ]
    },
    {
      "cell_type": "code",
      "metadata": {
        "id": "TVL1Pa-5Ht5u"
      },
      "source": [
        "#df.replace({'target': 1}, \"benign\", inplace=True)\n",
        "#df.replace({'target': 0}, \"malignant\", inplace=True)"
      ],
      "execution_count": 82,
      "outputs": []
    },
    {
      "cell_type": "code",
      "metadata": {
        "colab": {
          "base_uri": "https://localhost:8080/"
        },
        "id": "NH5K2kYQixWs",
        "outputId": "836e2c4b-c2d9-4e9c-c2ce-8797cc34a7ec"
      },
      "source": [
        "df['target'].value_counts()\n"
      ],
      "execution_count": 83,
      "outputs": [
        {
          "output_type": "execute_result",
          "data": {
            "text/plain": [
              "1.0    357\n",
              "0.0    212\n",
              "Name: target, dtype: int64"
            ]
          },
          "metadata": {},
          "execution_count": 83
        }
      ]
    },
    {
      "cell_type": "code",
      "metadata": {
        "id": "rfSfdKNCH-oN",
        "colab": {
          "base_uri": "https://localhost:8080/",
          "height": 295
        },
        "outputId": "e77e2385-1c6f-40c9-be3b-58b8a3563a25"
      },
      "source": [
        "# inspect the distribution\n",
        "\n",
        "sns.countplot(data = df, x='target')\n",
        "plt.title('Diagnosis');"
      ],
      "execution_count": 84,
      "outputs": [
        {
          "output_type": "display_data",
          "data": {
            "image/png": "[encoded data removed]",
            "text/plain": [
              "<Figure size 432x288 with 1 Axes>"
            ]
          },
          "metadata": {}
        }
      ]
    },
    {
      "cell_type": "code",
      "metadata": {
        "id": "Rty_ZwMA9sqi",
        "colab": {
          "base_uri": "https://localhost:8080/"
        },
        "outputId": "85e92ca3-4100-48d7-b936-a02e72ff3fb8"
      },
      "source": [
        "#inspect the data and columns\n",
        "# count number of empty values in each column\n",
        "df.isnull().sum()"
      ],
      "execution_count": 85,
      "outputs": [
        {
          "output_type": "execute_result",
          "data": {
            "text/plain": [
              "mean radius                0\n",
              "mean texture               0\n",
              "mean perimeter             0\n",
              "mean area                  0\n",
              "mean smoothness            0\n",
              "mean compactness           0\n",
              "mean concavity             0\n",
              "mean concave points        0\n",
              "mean symmetry              0\n",
              "mean fractal dimension     0\n",
              "radius error               0\n",
              "texture error              0\n",
              "perimeter error            0\n",
              "area error                 0\n",
              "smoothness error           0\n",
              "compactness error          0\n",
              "concavity error            0\n",
              "concave points error       0\n",
              "symmetry error             0\n",
              "fractal dimension error    0\n",
              "worst radius               0\n",
              "worst texture              0\n",
              "worst perimeter            0\n",
              "worst area                 0\n",
              "worst smoothness           0\n",
              "worst compactness          0\n",
              "worst concavity            0\n",
              "worst concave points       0\n",
              "worst symmetry             0\n",
              "worst fractal dimension    0\n",
              "target                     0\n",
              "dtype: int64"
            ]
          },
          "metadata": {},
          "execution_count": 85
        }
      ]
    },
    {
      "cell_type": "code",
      "metadata": {
        "colab": {
          "base_uri": "https://localhost:8080/"
        },
        "id": "w3d3YOyYjxv4",
        "outputId": "67a2ad94-0fff-4c7d-b225-afa8dc06a5fb"
      },
      "source": [
        "#look at the data types to see which columns need to be encoded\n",
        "df.dtypes\n"
      ],
      "execution_count": 86,
      "outputs": [
        {
          "output_type": "execute_result",
          "data": {
            "text/plain": [
              "mean radius                float64\n",
              "mean texture               float64\n",
              "mean perimeter             float64\n",
              "mean area                  float64\n",
              "mean smoothness            float64\n",
              "mean compactness           float64\n",
              "mean concavity             float64\n",
              "mean concave points        float64\n",
              "mean symmetry              float64\n",
              "mean fractal dimension     float64\n",
              "radius error               float64\n",
              "texture error              float64\n",
              "perimeter error            float64\n",
              "area error                 float64\n",
              "smoothness error           float64\n",
              "compactness error          float64\n",
              "concavity error            float64\n",
              "concave points error       float64\n",
              "symmetry error             float64\n",
              "fractal dimension error    float64\n",
              "worst radius               float64\n",
              "worst texture              float64\n",
              "worst perimeter            float64\n",
              "worst area                 float64\n",
              "worst smoothness           float64\n",
              "worst compactness          float64\n",
              "worst concavity            float64\n",
              "worst concave points       float64\n",
              "worst symmetry             float64\n",
              "worst fractal dimension    float64\n",
              "target                     float64\n",
              "dtype: object"
            ]
          },
          "metadata": {},
          "execution_count": 86
        }
      ]
    },
    {
      "cell_type": "code",
      "metadata": {
        "id": "Egfds3xAULJF",
        "colab": {
          "base_uri": "https://localhost:8080/"
        },
        "outputId": "983fe311-1b59-40a3-ee10-ce9203a9673e"
      },
      "source": [
        "#define X and y\n",
        "X=df.iloc[:,:-1]\n",
        "y=df.iloc[:,-1]\n",
        "y\n"
      ],
      "execution_count": 87,
      "outputs": [
        {
          "output_type": "execute_result",
          "data": {
            "text/plain": [
              "0      0.0\n",
              "1      0.0\n",
              "2      0.0\n",
              "3      0.0\n",
              "4      0.0\n",
              "      ... \n",
              "564    0.0\n",
              "565    0.0\n",
              "566    0.0\n",
              "567    0.0\n",
              "568    1.0\n",
              "Name: target, Length: 569, dtype: float64"
            ]
          },
          "metadata": {},
          "execution_count": 87
        }
      ]
    },
    {
      "cell_type": "markdown",
      "metadata": {
        "id": "dvNTnzqJCZcf"
      },
      "source": [
        "## 1) Split the Data into Train/Test"
      ]
    },
    {
      "cell_type": "code",
      "metadata": {
        "id": "hq_mpO7LCF1j",
        "colab": {
          "base_uri": "https://localhost:8080/"
        },
        "outputId": "d59fa54c-9aec-417a-f19f-ec5c81bade69"
      },
      "source": [
        "from sklearn.model_selection import train_test_split\n",
        "# use random state 42\n",
        "X_train,X_test,y_train,y_test=train_test_split(X,y,test_size=0.3,random_state=42)\n",
        "\n",
        "print(X_train.shape)\n",
        "print(X_test.shape)\n",
        "print(y_test.shape)\n",
        "print(y_train.shape)\n"
      ],
      "execution_count": 88,
      "outputs": [
        {
          "output_type": "stream",
          "name": "stdout",
          "text": [
            "(398, 30)\n",
            "(171, 30)\n",
            "(171,)\n",
            "(398,)\n"
          ]
        }
      ]
    },
    {
      "cell_type": "code",
      "metadata": {
        "id": "LEu-XQIuLfE4"
      },
      "source": [
        "# feature scaling - standardscaler\n",
        "from sklearn import preprocessing\n",
        "scaler=preprocessing.StandardScaler()\n",
        "X_train=scaler.fit_transform(X_train)\n",
        "X_test=scaler.transform(X_test)\n",
        "\n",
        "# scaled arrays\n",
        "\n"
      ],
      "execution_count": 89,
      "outputs": []
    },
    {
      "cell_type": "markdown",
      "metadata": {
        "id": "qnDZpY7dNGV4"
      },
      "source": [
        "## Create Classifier"
      ]
    },
    {
      "cell_type": "code",
      "metadata": {
        "id": "aKopWmrJCnK_"
      },
      "source": [
        "from tensorflow.keras.models import Sequential\n",
        "from tensorflow.keras.layers import Dense\n"
      ],
      "execution_count": 90,
      "outputs": []
    },
    {
      "cell_type": "code",
      "metadata": {
        "id": "bssc7Ctlld8h"
      },
      "source": [
        ""
      ],
      "execution_count": 90,
      "outputs": []
    },
    {
      "cell_type": "code",
      "metadata": {
        "id": "RqhUBrRvCsS6"
      },
      "source": [
        "\n",
        "#adding the input and first hidden layer\n",
        "\n",
        "model=Sequential()\n",
        "model.add(Dense(15,activation=\"relu\",input_dim=30))\n",
        "model.add(Dense(6,activation=\"relu\"))\n",
        "model.add(Dense(1,activation=\"sigmoid\"))\n",
        "\n"
      ],
      "execution_count": 103,
      "outputs": []
    },
    {
      "cell_type": "code",
      "metadata": {
        "id": "Trg8k2LwCyva"
      },
      "source": [
        "#compile the model\n",
        "model.compile(optimizer=\"adam\",loss=\"binary_crossentropy\",metrics=[\"accuracy\"])\n"
      ],
      "execution_count": 92,
      "outputs": []
    },
    {
      "cell_type": "code",
      "metadata": {
        "id": "EAanQbf7l5Df"
      },
      "source": [
        "#show model summary\n"
      ],
      "execution_count": 93,
      "outputs": []
    },
    {
      "cell_type": "code",
      "metadata": {
        "colab": {
          "base_uri": "https://localhost:8080/"
        },
        "id": "HjajWIPalsAp",
        "outputId": "c16a009b-3185-40e1-8f7c-facde68d522d"
      },
      "source": [
        "model.summary()"
      ],
      "execution_count": 94,
      "outputs": [
        {
          "output_type": "stream",
          "name": "stdout",
          "text": [
            "Model: \"sequential_5\"\n",
            "_________________________________________________________________\n",
            "Layer (type)                 Output Shape              Param #   \n",
            "=================================================================\n",
            "dense_15 (Dense)             (None, 15)                465       \n",
            "_________________________________________________________________\n",
            "dense_16 (Dense)             (None, 6)                 96        \n",
            "_________________________________________________________________\n",
            "dense_17 (Dense)             (None, 1)                 7         \n",
            "=================================================================\n",
            "Total params: 568\n",
            "Trainable params: 568\n",
            "Non-trainable params: 0\n",
            "_________________________________________________________________\n"
          ]
        }
      ]
    },
    {
      "cell_type": "code",
      "metadata": {
        "id": "B-kHOxG_ImdG",
        "colab": {
          "base_uri": "https://localhost:8080/"
        },
        "outputId": "049a866d-2f7f-4bad-c1b5-52b6591a9998"
      },
      "source": [
        "# see if you can reproduce the parameters from input to hidden layer:\n",
        "\n",
        "print(X_train.shape[1] * 15 + 15)\n",
        "\n",
        "#(dimension of W_1)\n",
        "\n",
        "# first hidden to second hidden layer\n",
        "print(15 *6 +6)\n",
        "#(dimension of W_2))\n",
        "\n",
        "\n",
        "# second hidden to output layer\n",
        "print(6 * 1 +1)\n",
        "#(dimension of W_3 )"
      ],
      "execution_count": 95,
      "outputs": [
        {
          "output_type": "stream",
          "name": "stdout",
          "text": [
            "465\n",
            "96\n",
            "7\n"
          ]
        }
      ]
    },
    {
      "cell_type": "code",
      "metadata": {
        "id": "XRVmifMsC1lS",
        "colab": {
          "base_uri": "https://localhost:8080/"
        },
        "outputId": "84617ee9-dec9-4be2-a79b-91adcb3f586c"
      },
      "source": [
        "#fit the model\n",
        "model.fit(X_train,y_train,batch_size=32,epochs=100,validation_data=(X_test,y_test))\n",
        "\n"
      ],
      "execution_count": 96,
      "outputs": [
        {
          "output_type": "stream",
          "name": "stdout",
          "text": [
            "Epoch 1/100\n",
            "13/13 [==============================] - 1s 15ms/step - loss: 0.6693 - accuracy: 0.6332 - val_loss: 0.6060 - val_accuracy: 0.6491\n",
            "Epoch 2/100\n",
            "13/13 [==============================] - 0s 4ms/step - loss: 0.5580 - accuracy: 0.6583 - val_loss: 0.5143 - val_accuracy: 0.7018\n",
            "Epoch 3/100\n",
            "13/13 [==============================] - 0s 4ms/step - loss: 0.4863 - accuracy: 0.7186 - val_loss: 0.4484 - val_accuracy: 0.7544\n",
            "Epoch 4/100\n",
            "13/13 [==============================] - 0s 4ms/step - loss: 0.4347 - accuracy: 0.7839 - val_loss: 0.3998 - val_accuracy: 0.8012\n",
            "Epoch 5/100\n",
            "13/13 [==============================] - 0s 4ms/step - loss: 0.3967 - accuracy: 0.8392 - val_loss: 0.3619 - val_accuracy: 0.8596\n",
            "Epoch 6/100\n",
            "13/13 [==============================] - 0s 5ms/step - loss: 0.3679 - accuracy: 0.8693 - val_loss: 0.3344 - val_accuracy: 0.9064\n",
            "Epoch 7/100\n",
            "13/13 [==============================] - 0s 3ms/step - loss: 0.3439 - accuracy: 0.8844 - val_loss: 0.3096 - val_accuracy: 0.9181\n",
            "Epoch 8/100\n",
            "13/13 [==============================] - 0s 3ms/step - loss: 0.3209 - accuracy: 0.9146 - val_loss: 0.2858 - val_accuracy: 0.9474\n",
            "Epoch 9/100\n",
            "13/13 [==============================] - 0s 3ms/step - loss: 0.2986 - accuracy: 0.9347 - val_loss: 0.2636 - val_accuracy: 0.9591\n",
            "Epoch 10/100\n",
            "13/13 [==============================] - 0s 4ms/step - loss: 0.2768 - accuracy: 0.9372 - val_loss: 0.2420 - val_accuracy: 0.9708\n",
            "Epoch 11/100\n",
            "13/13 [==============================] - 0s 3ms/step - loss: 0.2552 - accuracy: 0.9598 - val_loss: 0.2214 - val_accuracy: 0.9766\n",
            "Epoch 12/100\n",
            "13/13 [==============================] - 0s 5ms/step - loss: 0.2348 - accuracy: 0.9698 - val_loss: 0.2022 - val_accuracy: 0.9708\n",
            "Epoch 13/100\n",
            "13/13 [==============================] - 0s 5ms/step - loss: 0.2161 - accuracy: 0.9698 - val_loss: 0.1844 - val_accuracy: 0.9649\n",
            "Epoch 14/100\n",
            "13/13 [==============================] - 0s 4ms/step - loss: 0.1984 - accuracy: 0.9724 - val_loss: 0.1685 - val_accuracy: 0.9649\n",
            "Epoch 15/100\n",
            "13/13 [==============================] - 0s 5ms/step - loss: 0.1824 - accuracy: 0.9724 - val_loss: 0.1540 - val_accuracy: 0.9649\n",
            "Epoch 16/100\n",
            "13/13 [==============================] - 0s 5ms/step - loss: 0.1682 - accuracy: 0.9749 - val_loss: 0.1410 - val_accuracy: 0.9708\n",
            "Epoch 17/100\n",
            "13/13 [==============================] - 0s 4ms/step - loss: 0.1549 - accuracy: 0.9749 - val_loss: 0.1303 - val_accuracy: 0.9766\n",
            "Epoch 18/100\n",
            "13/13 [==============================] - 0s 6ms/step - loss: 0.1436 - accuracy: 0.9749 - val_loss: 0.1209 - val_accuracy: 0.9766\n",
            "Epoch 19/100\n",
            "13/13 [==============================] - 0s 4ms/step - loss: 0.1335 - accuracy: 0.9774 - val_loss: 0.1130 - val_accuracy: 0.9766\n",
            "Epoch 20/100\n",
            "13/13 [==============================] - 0s 4ms/step - loss: 0.1247 - accuracy: 0.9774 - val_loss: 0.1060 - val_accuracy: 0.9708\n",
            "Epoch 21/100\n",
            "13/13 [==============================] - 0s 4ms/step - loss: 0.1171 - accuracy: 0.9799 - val_loss: 0.0998 - val_accuracy: 0.9766\n",
            "Epoch 22/100\n",
            "13/13 [==============================] - 0s 3ms/step - loss: 0.1102 - accuracy: 0.9799 - val_loss: 0.0946 - val_accuracy: 0.9825\n",
            "Epoch 23/100\n",
            "13/13 [==============================] - 0s 5ms/step - loss: 0.1043 - accuracy: 0.9799 - val_loss: 0.0900 - val_accuracy: 0.9825\n",
            "Epoch 24/100\n",
            "13/13 [==============================] - 0s 3ms/step - loss: 0.0991 - accuracy: 0.9799 - val_loss: 0.0862 - val_accuracy: 0.9883\n",
            "Epoch 25/100\n",
            "13/13 [==============================] - 0s 4ms/step - loss: 0.0945 - accuracy: 0.9799 - val_loss: 0.0823 - val_accuracy: 0.9883\n",
            "Epoch 26/100\n",
            "13/13 [==============================] - 0s 3ms/step - loss: 0.0902 - accuracy: 0.9799 - val_loss: 0.0796 - val_accuracy: 0.9883\n",
            "Epoch 27/100\n",
            "13/13 [==============================] - 0s 3ms/step - loss: 0.0864 - accuracy: 0.9799 - val_loss: 0.0769 - val_accuracy: 0.9883\n",
            "Epoch 28/100\n",
            "13/13 [==============================] - 0s 3ms/step - loss: 0.0833 - accuracy: 0.9799 - val_loss: 0.0743 - val_accuracy: 0.9883\n",
            "Epoch 29/100\n",
            "13/13 [==============================] - 0s 6ms/step - loss: 0.0802 - accuracy: 0.9799 - val_loss: 0.0728 - val_accuracy: 0.9825\n",
            "Epoch 30/100\n",
            "13/13 [==============================] - 0s 3ms/step - loss: 0.0775 - accuracy: 0.9799 - val_loss: 0.0707 - val_accuracy: 0.9825\n",
            "Epoch 31/100\n",
            "13/13 [==============================] - 0s 4ms/step - loss: 0.0748 - accuracy: 0.9799 - val_loss: 0.0689 - val_accuracy: 0.9825\n",
            "Epoch 32/100\n",
            "13/13 [==============================] - 0s 4ms/step - loss: 0.0726 - accuracy: 0.9799 - val_loss: 0.0681 - val_accuracy: 0.9825\n",
            "Epoch 33/100\n",
            "13/13 [==============================] - 0s 5ms/step - loss: 0.0704 - accuracy: 0.9799 - val_loss: 0.0666 - val_accuracy: 0.9825\n",
            "Epoch 34/100\n",
            "13/13 [==============================] - 0s 4ms/step - loss: 0.0683 - accuracy: 0.9799 - val_loss: 0.0656 - val_accuracy: 0.9825\n",
            "Epoch 35/100\n",
            "13/13 [==============================] - 0s 6ms/step - loss: 0.0665 - accuracy: 0.9799 - val_loss: 0.0646 - val_accuracy: 0.9825\n",
            "Epoch 36/100\n",
            "13/13 [==============================] - 0s 5ms/step - loss: 0.0644 - accuracy: 0.9799 - val_loss: 0.0632 - val_accuracy: 0.9825\n",
            "Epoch 37/100\n",
            "13/13 [==============================] - 0s 4ms/step - loss: 0.0627 - accuracy: 0.9799 - val_loss: 0.0619 - val_accuracy: 0.9825\n",
            "Epoch 38/100\n",
            "13/13 [==============================] - 0s 4ms/step - loss: 0.0613 - accuracy: 0.9799 - val_loss: 0.0611 - val_accuracy: 0.9825\n",
            "Epoch 39/100\n",
            "13/13 [==============================] - 0s 4ms/step - loss: 0.0597 - accuracy: 0.9824 - val_loss: 0.0599 - val_accuracy: 0.9825\n",
            "Epoch 40/100\n",
            "13/13 [==============================] - 0s 5ms/step - loss: 0.0584 - accuracy: 0.9824 - val_loss: 0.0594 - val_accuracy: 0.9825\n",
            "Epoch 41/100\n",
            "13/13 [==============================] - 0s 5ms/step - loss: 0.0570 - accuracy: 0.9824 - val_loss: 0.0583 - val_accuracy: 0.9883\n",
            "Epoch 42/100\n",
            "13/13 [==============================] - 0s 5ms/step - loss: 0.0559 - accuracy: 0.9824 - val_loss: 0.0576 - val_accuracy: 0.9883\n",
            "Epoch 43/100\n",
            "13/13 [==============================] - 0s 3ms/step - loss: 0.0545 - accuracy: 0.9849 - val_loss: 0.0571 - val_accuracy: 0.9883\n",
            "Epoch 44/100\n",
            "13/13 [==============================] - 0s 4ms/step - loss: 0.0534 - accuracy: 0.9824 - val_loss: 0.0573 - val_accuracy: 0.9883\n",
            "Epoch 45/100\n",
            "13/13 [==============================] - 0s 5ms/step - loss: 0.0525 - accuracy: 0.9824 - val_loss: 0.0571 - val_accuracy: 0.9883\n",
            "Epoch 46/100\n",
            "13/13 [==============================] - 0s 4ms/step - loss: 0.0510 - accuracy: 0.9849 - val_loss: 0.0562 - val_accuracy: 0.9883\n",
            "Epoch 47/100\n",
            "13/13 [==============================] - 0s 5ms/step - loss: 0.0498 - accuracy: 0.9874 - val_loss: 0.0558 - val_accuracy: 0.9883\n",
            "Epoch 48/100\n",
            "13/13 [==============================] - 0s 5ms/step - loss: 0.0489 - accuracy: 0.9849 - val_loss: 0.0557 - val_accuracy: 0.9883\n",
            "Epoch 49/100\n",
            "13/13 [==============================] - 0s 4ms/step - loss: 0.0479 - accuracy: 0.9849 - val_loss: 0.0553 - val_accuracy: 0.9883\n",
            "Epoch 50/100\n",
            "13/13 [==============================] - 0s 4ms/step - loss: 0.0469 - accuracy: 0.9849 - val_loss: 0.0550 - val_accuracy: 0.9883\n",
            "Epoch 51/100\n",
            "13/13 [==============================] - 0s 3ms/step - loss: 0.0458 - accuracy: 0.9874 - val_loss: 0.0546 - val_accuracy: 0.9883\n",
            "Epoch 52/100\n",
            "13/13 [==============================] - 0s 3ms/step - loss: 0.0453 - accuracy: 0.9899 - val_loss: 0.0539 - val_accuracy: 0.9883\n",
            "Epoch 53/100\n",
            "13/13 [==============================] - 0s 4ms/step - loss: 0.0441 - accuracy: 0.9899 - val_loss: 0.0540 - val_accuracy: 0.9883\n",
            "Epoch 54/100\n",
            "13/13 [==============================] - 0s 4ms/step - loss: 0.0433 - accuracy: 0.9925 - val_loss: 0.0541 - val_accuracy: 0.9883\n",
            "Epoch 55/100\n",
            "13/13 [==============================] - 0s 4ms/step - loss: 0.0423 - accuracy: 0.9925 - val_loss: 0.0539 - val_accuracy: 0.9883\n",
            "Epoch 56/100\n",
            "13/13 [==============================] - 0s 5ms/step - loss: 0.0416 - accuracy: 0.9925 - val_loss: 0.0534 - val_accuracy: 0.9883\n",
            "Epoch 57/100\n",
            "13/13 [==============================] - 0s 5ms/step - loss: 0.0408 - accuracy: 0.9899 - val_loss: 0.0532 - val_accuracy: 0.9883\n",
            "Epoch 58/100\n",
            "13/13 [==============================] - 0s 5ms/step - loss: 0.0399 - accuracy: 0.9925 - val_loss: 0.0531 - val_accuracy: 0.9883\n",
            "Epoch 59/100\n",
            "13/13 [==============================] - 0s 4ms/step - loss: 0.0391 - accuracy: 0.9925 - val_loss: 0.0537 - val_accuracy: 0.9883\n",
            "Epoch 60/100\n",
            "13/13 [==============================] - 0s 5ms/step - loss: 0.0383 - accuracy: 0.9925 - val_loss: 0.0536 - val_accuracy: 0.9883\n",
            "Epoch 61/100\n",
            "13/13 [==============================] - 0s 5ms/step - loss: 0.0375 - accuracy: 0.9925 - val_loss: 0.0534 - val_accuracy: 0.9883\n",
            "Epoch 62/100\n",
            "13/13 [==============================] - 0s 4ms/step - loss: 0.0367 - accuracy: 0.9925 - val_loss: 0.0532 - val_accuracy: 0.9883\n",
            "Epoch 63/100\n",
            "13/13 [==============================] - 0s 4ms/step - loss: 0.0361 - accuracy: 0.9925 - val_loss: 0.0534 - val_accuracy: 0.9883\n",
            "Epoch 64/100\n",
            "13/13 [==============================] - 0s 5ms/step - loss: 0.0352 - accuracy: 0.9925 - val_loss: 0.0531 - val_accuracy: 0.9883\n",
            "Epoch 65/100\n",
            "13/13 [==============================] - 0s 5ms/step - loss: 0.0345 - accuracy: 0.9925 - val_loss: 0.0540 - val_accuracy: 0.9883\n",
            "Epoch 66/100\n",
            "13/13 [==============================] - 0s 5ms/step - loss: 0.0337 - accuracy: 0.9925 - val_loss: 0.0540 - val_accuracy: 0.9883\n",
            "Epoch 67/100\n",
            "13/13 [==============================] - 0s 4ms/step - loss: 0.0331 - accuracy: 0.9925 - val_loss: 0.0534 - val_accuracy: 0.9883\n",
            "Epoch 68/100\n",
            "13/13 [==============================] - 0s 4ms/step - loss: 0.0325 - accuracy: 0.9925 - val_loss: 0.0540 - val_accuracy: 0.9883\n",
            "Epoch 69/100\n",
            "13/13 [==============================] - 0s 3ms/step - loss: 0.0318 - accuracy: 0.9925 - val_loss: 0.0543 - val_accuracy: 0.9883\n",
            "Epoch 70/100\n",
            "13/13 [==============================] - 0s 5ms/step - loss: 0.0309 - accuracy: 0.9925 - val_loss: 0.0539 - val_accuracy: 0.9883\n",
            "Epoch 71/100\n",
            "13/13 [==============================] - 0s 4ms/step - loss: 0.0303 - accuracy: 0.9925 - val_loss: 0.0539 - val_accuracy: 0.9883\n",
            "Epoch 72/100\n",
            "13/13 [==============================] - 0s 3ms/step - loss: 0.0298 - accuracy: 0.9925 - val_loss: 0.0537 - val_accuracy: 0.9883\n",
            "Epoch 73/100\n",
            "13/13 [==============================] - 0s 5ms/step - loss: 0.0290 - accuracy: 0.9925 - val_loss: 0.0535 - val_accuracy: 0.9883\n",
            "Epoch 74/100\n",
            "13/13 [==============================] - 0s 4ms/step - loss: 0.0283 - accuracy: 0.9925 - val_loss: 0.0537 - val_accuracy: 0.9883\n",
            "Epoch 75/100\n",
            "13/13 [==============================] - 0s 6ms/step - loss: 0.0277 - accuracy: 0.9925 - val_loss: 0.0540 - val_accuracy: 0.9883\n",
            "Epoch 76/100\n",
            "13/13 [==============================] - 0s 4ms/step - loss: 0.0271 - accuracy: 0.9925 - val_loss: 0.0539 - val_accuracy: 0.9883\n",
            "Epoch 77/100\n",
            "13/13 [==============================] - 0s 4ms/step - loss: 0.0264 - accuracy: 0.9925 - val_loss: 0.0540 - val_accuracy: 0.9883\n",
            "Epoch 78/100\n",
            "13/13 [==============================] - 0s 6ms/step - loss: 0.0260 - accuracy: 0.9925 - val_loss: 0.0539 - val_accuracy: 0.9883\n",
            "Epoch 79/100\n",
            "13/13 [==============================] - 0s 5ms/step - loss: 0.0254 - accuracy: 0.9925 - val_loss: 0.0561 - val_accuracy: 0.9883\n",
            "Epoch 80/100\n",
            "13/13 [==============================] - 0s 4ms/step - loss: 0.0248 - accuracy: 0.9925 - val_loss: 0.0562 - val_accuracy: 0.9883\n",
            "Epoch 81/100\n",
            "13/13 [==============================] - 0s 6ms/step - loss: 0.0245 - accuracy: 0.9925 - val_loss: 0.0560 - val_accuracy: 0.9883\n",
            "Epoch 82/100\n",
            "13/13 [==============================] - 0s 5ms/step - loss: 0.0239 - accuracy: 0.9925 - val_loss: 0.0566 - val_accuracy: 0.9883\n",
            "Epoch 83/100\n",
            "13/13 [==============================] - 0s 4ms/step - loss: 0.0235 - accuracy: 0.9925 - val_loss: 0.0572 - val_accuracy: 0.9825\n",
            "Epoch 84/100\n",
            "13/13 [==============================] - 0s 5ms/step - loss: 0.0226 - accuracy: 0.9925 - val_loss: 0.0576 - val_accuracy: 0.9825\n",
            "Epoch 85/100\n",
            "13/13 [==============================] - 0s 4ms/step - loss: 0.0222 - accuracy: 0.9925 - val_loss: 0.0573 - val_accuracy: 0.9825\n",
            "Epoch 86/100\n",
            "13/13 [==============================] - 0s 4ms/step - loss: 0.0218 - accuracy: 0.9925 - val_loss: 0.0575 - val_accuracy: 0.9825\n",
            "Epoch 87/100\n",
            "13/13 [==============================] - 0s 4ms/step - loss: 0.0211 - accuracy: 0.9925 - val_loss: 0.0597 - val_accuracy: 0.9825\n",
            "Epoch 88/100\n",
            "13/13 [==============================] - 0s 4ms/step - loss: 0.0206 - accuracy: 0.9925 - val_loss: 0.0615 - val_accuracy: 0.9825\n",
            "Epoch 89/100\n",
            "13/13 [==============================] - 0s 4ms/step - loss: 0.0201 - accuracy: 0.9925 - val_loss: 0.0617 - val_accuracy: 0.9825\n",
            "Epoch 90/100\n",
            "13/13 [==============================] - 0s 5ms/step - loss: 0.0199 - accuracy: 0.9950 - val_loss: 0.0614 - val_accuracy: 0.9825\n",
            "Epoch 91/100\n",
            "13/13 [==============================] - 0s 5ms/step - loss: 0.0193 - accuracy: 0.9950 - val_loss: 0.0629 - val_accuracy: 0.9825\n",
            "Epoch 92/100\n",
            "13/13 [==============================] - 0s 4ms/step - loss: 0.0189 - accuracy: 0.9925 - val_loss: 0.0632 - val_accuracy: 0.9825\n",
            "Epoch 93/100\n",
            "13/13 [==============================] - 0s 5ms/step - loss: 0.0184 - accuracy: 0.9950 - val_loss: 0.0628 - val_accuracy: 0.9825\n",
            "Epoch 94/100\n",
            "13/13 [==============================] - 0s 4ms/step - loss: 0.0181 - accuracy: 0.9925 - val_loss: 0.0628 - val_accuracy: 0.9825\n",
            "Epoch 95/100\n",
            "13/13 [==============================] - 0s 5ms/step - loss: 0.0177 - accuracy: 0.9950 - val_loss: 0.0640 - val_accuracy: 0.9825\n",
            "Epoch 96/100\n",
            "13/13 [==============================] - 0s 5ms/step - loss: 0.0172 - accuracy: 0.9950 - val_loss: 0.0647 - val_accuracy: 0.9825\n",
            "Epoch 97/100\n",
            "13/13 [==============================] - 0s 5ms/step - loss: 0.0169 - accuracy: 0.9925 - val_loss: 0.0646 - val_accuracy: 0.9825\n",
            "Epoch 98/100\n",
            "13/13 [==============================] - 0s 4ms/step - loss: 0.0164 - accuracy: 0.9950 - val_loss: 0.0655 - val_accuracy: 0.9825\n",
            "Epoch 99/100\n",
            "13/13 [==============================] - 0s 4ms/step - loss: 0.0161 - accuracy: 0.9950 - val_loss: 0.0657 - val_accuracy: 0.9825\n",
            "Epoch 100/100\n",
            "13/13 [==============================] - 0s 4ms/step - loss: 0.0157 - accuracy: 0.9950 - val_loss: 0.0661 - val_accuracy: 0.9825\n"
          ]
        },
        {
          "output_type": "execute_result",
          "data": {
            "text/plain": [
              "<keras.callbacks.History at 0x7f0899e9ce50>"
            ]
          },
          "metadata": {},
          "execution_count": 96
        }
      ]
    },
    {
      "cell_type": "code",
      "metadata": {
        "id": "-qBTMOIcFLGf",
        "colab": {
          "base_uri": "https://localhost:8080/"
        },
        "outputId": "3b8abfc0-60ff-4963-a272-646daccf00b6"
      },
      "source": [
        "#evaluate the model and save it into the variable score\n",
        "score = model.evaluate(X_test, y_test, verbose=0)\n",
        "score"
      ],
      "execution_count": 97,
      "outputs": [
        {
          "output_type": "execute_result",
          "data": {
            "text/plain": [
              "[0.06605783104896545, 0.9824561476707458]"
            ]
          },
          "metadata": {},
          "execution_count": 97
        }
      ]
    },
    {
      "cell_type": "markdown",
      "metadata": {
        "id": "y9aygjgtJUiv"
      },
      "source": [
        "The metrics that *evaluate()* gives us depend on the input argument *metrics* that we used when setting up our NN. Keras knows several other metrics (see [Keras doc. for details](https://keras.io/metrics/)) but not all known metrics are supported for training the NN. Between, you can also extend the set of metrics with customer metrics (see this [example](https://machinelearningmastery.com/custom-metrics-deep-learning-keras-python/) if interested.).\n",
        "\n",
        "We also have access to model performance results via the result of *model.fit()*, that is our variable *story*."
      ]
    },
    {
      "cell_type": "code",
      "metadata": {
        "id": "wzrrd6XLWvXg"
      },
      "source": [
        "# Now install the tensorflow addons and define the following metrics. You have AUC,Precision and Recall in Keras Metrics but F1 you will need to get it from tensorflow addons\n"
      ],
      "execution_count": 98,
      "outputs": []
    },
    {
      "cell_type": "code",
      "metadata": {
        "colab": {
          "base_uri": "https://localhost:8080/"
        },
        "id": "kPRMM0usWor3",
        "outputId": "6d57198f-2d0f-48e2-eed5-7924dd502195"
      },
      "source": [
        "!pip install tensorflow-addons\n",
        "\n"
      ],
      "execution_count": 99,
      "outputs": [
        {
          "output_type": "stream",
          "name": "stdout",
          "text": [
            "Requirement already satisfied: tensorflow-addons in /usr/local/lib/python3.7/dist-packages (0.14.0)\n",
            "Requirement already satisfied: typeguard>=2.7 in /usr/local/lib/python3.7/dist-packages (from tensorflow-addons) (2.7.1)\n"
          ]
        }
      ]
    },
    {
      "cell_type": "code",
      "metadata": {
        "id": "r4zWF58rWmcG"
      },
      "source": [
        "import keras\n",
        "import tensorflow as tf \n",
        "import tensorflow_addons as tfa\n",
        "\n",
        "\n",
        "metrics = [ \n",
        "    #keras.metrics.Precision(),\n",
        "    #keras.metrics.Recall(),\n",
        "    keras.metrics.AUC(),\n",
        "    #tfa.metrics.F1Score(\n",
        "    #    name=\"f1_micro\",\n",
        "    #    average=\"micro\",\n",
        "    #    num_classes=1,\n",
        "    #    threshold=0.5,\n",
        "    #),\n",
        "    #tfa.metrics.F1Score(\n",
        "    #    name=\"f1_weighted\",\n",
        "    #    average=\"weighted\",\n",
        "    #    num_classes=1,\n",
        "    #    threshold=0.5,\n",
        "    #),\n",
        "]"
      ],
      "execution_count": 100,
      "outputs": []
    },
    {
      "cell_type": "code",
      "metadata": {
        "id": "xeYiEkLjW2hE",
        "colab": {
          "base_uri": "https://localhost:8080/"
        },
        "outputId": "5ccc57bf-9dcf-4f7d-a6c6-9f2d2bdc18b0"
      },
      "source": [
        "# rerun the mmodel with the above defined metrics in your complie call\n",
        "model.compile(optimizer=\"adam\",loss=\"binary_crossentropy\",metrics=['accuracy', keras.metrics.AUC()])\n",
        "\n",
        "story = model.fit(X_train,y_train,batch_size=32,epochs=100,validation_data=(X_test,y_test))\n"
      ],
      "execution_count": 104,
      "outputs": [
        {
          "output_type": "stream",
          "name": "stdout",
          "text": [
            "Epoch 1/100\n",
            "13/13 [==============================] - 1s 26ms/step - loss: 0.6746 - accuracy: 0.5176 - auc_4: 0.6663 - val_loss: 0.5976 - val_accuracy: 0.6725 - val_auc_4: 0.7925\n",
            "Epoch 2/100\n",
            "13/13 [==============================] - 0s 4ms/step - loss: 0.5510 - accuracy: 0.7161 - auc_4: 0.8505 - val_loss: 0.4985 - val_accuracy: 0.8480 - val_auc_4: 0.9347\n",
            "Epoch 3/100\n",
            "13/13 [==============================] - 0s 6ms/step - loss: 0.4681 - accuracy: 0.8593 - auc_4: 0.9384 - val_loss: 0.4258 - val_accuracy: 0.9298 - val_auc_4: 0.9706\n",
            "Epoch 4/100\n",
            "13/13 [==============================] - 0s 6ms/step - loss: 0.3920 - accuracy: 0.9171 - auc_4: 0.9704 - val_loss: 0.3531 - val_accuracy: 0.9357 - val_auc_4: 0.9787\n",
            "Epoch 5/100\n",
            "13/13 [==============================] - 0s 5ms/step - loss: 0.3237 - accuracy: 0.9271 - auc_4: 0.9765 - val_loss: 0.2895 - val_accuracy: 0.9474 - val_auc_4: 0.9832\n",
            "Epoch 6/100\n",
            "13/13 [==============================] - 0s 4ms/step - loss: 0.2688 - accuracy: 0.9372 - auc_4: 0.9789 - val_loss: 0.2417 - val_accuracy: 0.9474 - val_auc_4: 0.9861\n",
            "Epoch 7/100\n",
            "13/13 [==============================] - 0s 4ms/step - loss: 0.2298 - accuracy: 0.9447 - auc_4: 0.9822 - val_loss: 0.2058 - val_accuracy: 0.9415 - val_auc_4: 0.9892\n",
            "Epoch 8/100\n",
            "13/13 [==============================] - 0s 4ms/step - loss: 0.2016 - accuracy: 0.9447 - auc_4: 0.9840 - val_loss: 0.1815 - val_accuracy: 0.9415 - val_auc_4: 0.9902\n",
            "Epoch 9/100\n",
            "13/13 [==============================] - 0s 4ms/step - loss: 0.1813 - accuracy: 0.9523 - auc_4: 0.9854 - val_loss: 0.1625 - val_accuracy: 0.9415 - val_auc_4: 0.9915\n",
            "Epoch 10/100\n",
            "13/13 [==============================] - 0s 5ms/step - loss: 0.1650 - accuracy: 0.9523 - auc_4: 0.9874 - val_loss: 0.1475 - val_accuracy: 0.9415 - val_auc_4: 0.9927\n",
            "Epoch 11/100\n",
            "13/13 [==============================] - 0s 4ms/step - loss: 0.1520 - accuracy: 0.9523 - auc_4: 0.9884 - val_loss: 0.1352 - val_accuracy: 0.9474 - val_auc_4: 0.9936\n",
            "Epoch 12/100\n",
            "13/13 [==============================] - 0s 5ms/step - loss: 0.1413 - accuracy: 0.9523 - auc_4: 0.9892 - val_loss: 0.1249 - val_accuracy: 0.9532 - val_auc_4: 0.9940\n",
            "Epoch 13/100\n",
            "13/13 [==============================] - 0s 5ms/step - loss: 0.1320 - accuracy: 0.9523 - auc_4: 0.9900 - val_loss: 0.1165 - val_accuracy: 0.9532 - val_auc_4: 0.9949\n",
            "Epoch 14/100\n",
            "13/13 [==============================] - 0s 5ms/step - loss: 0.1240 - accuracy: 0.9573 - auc_4: 0.9906 - val_loss: 0.1088 - val_accuracy: 0.9532 - val_auc_4: 0.9953\n",
            "Epoch 15/100\n",
            "13/13 [==============================] - 0s 4ms/step - loss: 0.1171 - accuracy: 0.9573 - auc_4: 0.9915 - val_loss: 0.1025 - val_accuracy: 0.9591 - val_auc_4: 0.9954\n",
            "Epoch 16/100\n",
            "13/13 [==============================] - 0s 5ms/step - loss: 0.1105 - accuracy: 0.9598 - auc_4: 0.9920 - val_loss: 0.0971 - val_accuracy: 0.9649 - val_auc_4: 0.9959\n",
            "Epoch 17/100\n",
            "13/13 [==============================] - 0s 4ms/step - loss: 0.1054 - accuracy: 0.9623 - auc_4: 0.9923 - val_loss: 0.0929 - val_accuracy: 0.9591 - val_auc_4: 0.9957\n",
            "Epoch 18/100\n",
            "13/13 [==============================] - 0s 4ms/step - loss: 0.1005 - accuracy: 0.9673 - auc_4: 0.9929 - val_loss: 0.0892 - val_accuracy: 0.9591 - val_auc_4: 0.9959\n",
            "Epoch 19/100\n",
            "13/13 [==============================] - 0s 5ms/step - loss: 0.0961 - accuracy: 0.9673 - auc_4: 0.9935 - val_loss: 0.0865 - val_accuracy: 0.9591 - val_auc_4: 0.9963\n",
            "Epoch 20/100\n",
            "13/13 [==============================] - 0s 4ms/step - loss: 0.0922 - accuracy: 0.9749 - auc_4: 0.9940 - val_loss: 0.0833 - val_accuracy: 0.9649 - val_auc_4: 0.9964\n",
            "Epoch 21/100\n",
            "13/13 [==============================] - 0s 5ms/step - loss: 0.0886 - accuracy: 0.9749 - auc_4: 0.9945 - val_loss: 0.0799 - val_accuracy: 0.9649 - val_auc_4: 0.9968\n",
            "Epoch 22/100\n",
            "13/13 [==============================] - 0s 4ms/step - loss: 0.0855 - accuracy: 0.9749 - auc_4: 0.9947 - val_loss: 0.0773 - val_accuracy: 0.9649 - val_auc_4: 0.9971\n",
            "Epoch 23/100\n",
            "13/13 [==============================] - 0s 5ms/step - loss: 0.0828 - accuracy: 0.9749 - auc_4: 0.9948 - val_loss: 0.0750 - val_accuracy: 0.9649 - val_auc_4: 0.9973\n",
            "Epoch 24/100\n",
            "13/13 [==============================] - 0s 5ms/step - loss: 0.0801 - accuracy: 0.9749 - auc_4: 0.9952 - val_loss: 0.0734 - val_accuracy: 0.9708 - val_auc_4: 0.9973\n",
            "Epoch 25/100\n",
            "13/13 [==============================] - 0s 4ms/step - loss: 0.0775 - accuracy: 0.9774 - auc_4: 0.9956 - val_loss: 0.0720 - val_accuracy: 0.9708 - val_auc_4: 0.9972\n",
            "Epoch 26/100\n",
            "13/13 [==============================] - 0s 4ms/step - loss: 0.0755 - accuracy: 0.9774 - auc_4: 0.9959 - val_loss: 0.0706 - val_accuracy: 0.9708 - val_auc_4: 0.9972\n",
            "Epoch 27/100\n",
            "13/13 [==============================] - 0s 5ms/step - loss: 0.0736 - accuracy: 0.9774 - auc_4: 0.9958 - val_loss: 0.0694 - val_accuracy: 0.9708 - val_auc_4: 0.9975\n",
            "Epoch 28/100\n",
            "13/13 [==============================] - 0s 4ms/step - loss: 0.0716 - accuracy: 0.9774 - auc_4: 0.9960 - val_loss: 0.0682 - val_accuracy: 0.9708 - val_auc_4: 0.9974\n",
            "Epoch 29/100\n",
            "13/13 [==============================] - 0s 4ms/step - loss: 0.0697 - accuracy: 0.9774 - auc_4: 0.9962 - val_loss: 0.0669 - val_accuracy: 0.9708 - val_auc_4: 0.9972\n",
            "Epoch 30/100\n",
            "13/13 [==============================] - 0s 5ms/step - loss: 0.0677 - accuracy: 0.9799 - auc_4: 0.9964 - val_loss: 0.0659 - val_accuracy: 0.9708 - val_auc_4: 0.9978\n",
            "Epoch 31/100\n",
            "13/13 [==============================] - 0s 5ms/step - loss: 0.0658 - accuracy: 0.9799 - auc_4: 0.9965 - val_loss: 0.0657 - val_accuracy: 0.9708 - val_auc_4: 0.9980\n",
            "Epoch 32/100\n",
            "13/13 [==============================] - 0s 5ms/step - loss: 0.0641 - accuracy: 0.9824 - auc_4: 0.9967 - val_loss: 0.0651 - val_accuracy: 0.9708 - val_auc_4: 0.9978\n",
            "Epoch 33/100\n",
            "13/13 [==============================] - 0s 5ms/step - loss: 0.0627 - accuracy: 0.9824 - auc_4: 0.9969 - val_loss: 0.0646 - val_accuracy: 0.9708 - val_auc_4: 0.9977\n",
            "Epoch 34/100\n",
            "13/13 [==============================] - 0s 4ms/step - loss: 0.0610 - accuracy: 0.9824 - auc_4: 0.9969 - val_loss: 0.0640 - val_accuracy: 0.9708 - val_auc_4: 0.9976\n",
            "Epoch 35/100\n",
            "13/13 [==============================] - 0s 5ms/step - loss: 0.0596 - accuracy: 0.9824 - auc_4: 0.9971 - val_loss: 0.0637 - val_accuracy: 0.9708 - val_auc_4: 0.9979\n",
            "Epoch 36/100\n",
            "13/13 [==============================] - 0s 4ms/step - loss: 0.0584 - accuracy: 0.9824 - auc_4: 0.9971 - val_loss: 0.0636 - val_accuracy: 0.9708 - val_auc_4: 0.9976\n",
            "Epoch 37/100\n",
            "13/13 [==============================] - 0s 5ms/step - loss: 0.0569 - accuracy: 0.9849 - auc_4: 0.9972 - val_loss: 0.0628 - val_accuracy: 0.9708 - val_auc_4: 0.9978\n",
            "Epoch 38/100\n",
            "13/13 [==============================] - 0s 5ms/step - loss: 0.0557 - accuracy: 0.9849 - auc_4: 0.9973 - val_loss: 0.0623 - val_accuracy: 0.9766 - val_auc_4: 0.9978\n",
            "Epoch 39/100\n",
            "13/13 [==============================] - 0s 5ms/step - loss: 0.0544 - accuracy: 0.9849 - auc_4: 0.9974 - val_loss: 0.0623 - val_accuracy: 0.9766 - val_auc_4: 0.9979\n",
            "Epoch 40/100\n",
            "13/13 [==============================] - 0s 5ms/step - loss: 0.0534 - accuracy: 0.9849 - auc_4: 0.9975 - val_loss: 0.0626 - val_accuracy: 0.9708 - val_auc_4: 0.9978\n",
            "Epoch 41/100\n",
            "13/13 [==============================] - 0s 4ms/step - loss: 0.0522 - accuracy: 0.9849 - auc_4: 0.9976 - val_loss: 0.0620 - val_accuracy: 0.9708 - val_auc_4: 0.9979\n",
            "Epoch 42/100\n",
            "13/13 [==============================] - 0s 4ms/step - loss: 0.0514 - accuracy: 0.9849 - auc_4: 0.9976 - val_loss: 0.0619 - val_accuracy: 0.9766 - val_auc_4: 0.9979\n",
            "Epoch 43/100\n",
            "13/13 [==============================] - 0s 5ms/step - loss: 0.0502 - accuracy: 0.9849 - auc_4: 0.9980 - val_loss: 0.0615 - val_accuracy: 0.9766 - val_auc_4: 0.9978\n",
            "Epoch 44/100\n",
            "13/13 [==============================] - 0s 5ms/step - loss: 0.0493 - accuracy: 0.9849 - auc_4: 0.9980 - val_loss: 0.0611 - val_accuracy: 0.9766 - val_auc_4: 0.9977\n",
            "Epoch 45/100\n",
            "13/13 [==============================] - 0s 5ms/step - loss: 0.0482 - accuracy: 0.9849 - auc_4: 0.9981 - val_loss: 0.0607 - val_accuracy: 0.9766 - val_auc_4: 0.9977\n",
            "Epoch 46/100\n",
            "13/13 [==============================] - 0s 6ms/step - loss: 0.0471 - accuracy: 0.9849 - auc_4: 0.9982 - val_loss: 0.0603 - val_accuracy: 0.9766 - val_auc_4: 0.9976\n",
            "Epoch 47/100\n",
            "13/13 [==============================] - 0s 5ms/step - loss: 0.0461 - accuracy: 0.9849 - auc_4: 0.9984 - val_loss: 0.0598 - val_accuracy: 0.9766 - val_auc_4: 0.9977\n",
            "Epoch 48/100\n",
            "13/13 [==============================] - 0s 5ms/step - loss: 0.0453 - accuracy: 0.9849 - auc_4: 0.9984 - val_loss: 0.0599 - val_accuracy: 0.9766 - val_auc_4: 0.9976\n",
            "Epoch 49/100\n",
            "13/13 [==============================] - 0s 5ms/step - loss: 0.0442 - accuracy: 0.9874 - auc_4: 0.9984 - val_loss: 0.0594 - val_accuracy: 0.9766 - val_auc_4: 0.9976\n",
            "Epoch 50/100\n",
            "13/13 [==============================] - 0s 4ms/step - loss: 0.0433 - accuracy: 0.9874 - auc_4: 0.9985 - val_loss: 0.0589 - val_accuracy: 0.9766 - val_auc_4: 0.9976\n",
            "Epoch 51/100\n",
            "13/13 [==============================] - 0s 5ms/step - loss: 0.0425 - accuracy: 0.9874 - auc_4: 0.9986 - val_loss: 0.0575 - val_accuracy: 0.9766 - val_auc_4: 0.9976\n",
            "Epoch 52/100\n",
            "13/13 [==============================] - 0s 5ms/step - loss: 0.0415 - accuracy: 0.9874 - auc_4: 0.9986 - val_loss: 0.0574 - val_accuracy: 0.9766 - val_auc_4: 0.9976\n",
            "Epoch 53/100\n",
            "13/13 [==============================] - 0s 5ms/step - loss: 0.0408 - accuracy: 0.9874 - auc_4: 0.9986 - val_loss: 0.0570 - val_accuracy: 0.9766 - val_auc_4: 0.9976\n",
            "Epoch 54/100\n",
            "13/13 [==============================] - 0s 5ms/step - loss: 0.0401 - accuracy: 0.9874 - auc_4: 0.9987 - val_loss: 0.0575 - val_accuracy: 0.9766 - val_auc_4: 0.9978\n",
            "Epoch 55/100\n",
            "13/13 [==============================] - 0s 4ms/step - loss: 0.0392 - accuracy: 0.9899 - auc_4: 0.9987 - val_loss: 0.0573 - val_accuracy: 0.9766 - val_auc_4: 0.9977\n",
            "Epoch 56/100\n",
            "13/13 [==============================] - 0s 4ms/step - loss: 0.0385 - accuracy: 0.9925 - auc_4: 0.9988 - val_loss: 0.0570 - val_accuracy: 0.9766 - val_auc_4: 0.9979\n",
            "Epoch 57/100\n",
            "13/13 [==============================] - 0s 4ms/step - loss: 0.0377 - accuracy: 0.9925 - auc_4: 0.9988 - val_loss: 0.0568 - val_accuracy: 0.9766 - val_auc_4: 0.9978\n",
            "Epoch 58/100\n",
            "13/13 [==============================] - 0s 5ms/step - loss: 0.0369 - accuracy: 0.9925 - auc_4: 0.9988 - val_loss: 0.0572 - val_accuracy: 0.9766 - val_auc_4: 0.9979\n",
            "Epoch 59/100\n",
            "13/13 [==============================] - 0s 4ms/step - loss: 0.0363 - accuracy: 0.9925 - auc_4: 0.9990 - val_loss: 0.0569 - val_accuracy: 0.9766 - val_auc_4: 0.9979\n",
            "Epoch 60/100\n",
            "13/13 [==============================] - 0s 5ms/step - loss: 0.0356 - accuracy: 0.9925 - auc_4: 0.9990 - val_loss: 0.0561 - val_accuracy: 0.9766 - val_auc_4: 0.9979\n",
            "Epoch 61/100\n",
            "13/13 [==============================] - 0s 5ms/step - loss: 0.0350 - accuracy: 0.9925 - auc_4: 0.9991 - val_loss: 0.0560 - val_accuracy: 0.9825 - val_auc_4: 0.9979\n",
            "Epoch 62/100\n",
            "13/13 [==============================] - 0s 4ms/step - loss: 0.0344 - accuracy: 0.9925 - auc_4: 0.9991 - val_loss: 0.0567 - val_accuracy: 0.9766 - val_auc_4: 0.9979\n",
            "Epoch 63/100\n",
            "13/13 [==============================] - 0s 5ms/step - loss: 0.0337 - accuracy: 0.9925 - auc_4: 0.9991 - val_loss: 0.0568 - val_accuracy: 0.9825 - val_auc_4: 0.9978\n",
            "Epoch 64/100\n",
            "13/13 [==============================] - 0s 5ms/step - loss: 0.0331 - accuracy: 0.9925 - auc_4: 0.9992 - val_loss: 0.0575 - val_accuracy: 0.9825 - val_auc_4: 0.9977\n",
            "Epoch 65/100\n",
            "13/13 [==============================] - 0s 4ms/step - loss: 0.0325 - accuracy: 0.9925 - auc_4: 0.9992 - val_loss: 0.0572 - val_accuracy: 0.9825 - val_auc_4: 0.9978\n",
            "Epoch 66/100\n",
            "13/13 [==============================] - 0s 5ms/step - loss: 0.0318 - accuracy: 0.9925 - auc_4: 0.9993 - val_loss: 0.0580 - val_accuracy: 0.9825 - val_auc_4: 0.9978\n",
            "Epoch 67/100\n",
            "13/13 [==============================] - 0s 4ms/step - loss: 0.0312 - accuracy: 0.9925 - auc_4: 0.9993 - val_loss: 0.0584 - val_accuracy: 0.9825 - val_auc_4: 0.9978\n",
            "Epoch 68/100\n",
            "13/13 [==============================] - 0s 4ms/step - loss: 0.0307 - accuracy: 0.9925 - auc_4: 0.9994 - val_loss: 0.0591 - val_accuracy: 0.9825 - val_auc_4: 0.9978\n",
            "Epoch 69/100\n",
            "13/13 [==============================] - 0s 6ms/step - loss: 0.0301 - accuracy: 0.9925 - auc_4: 0.9994 - val_loss: 0.0597 - val_accuracy: 0.9825 - val_auc_4: 0.9977\n",
            "Epoch 70/100\n",
            "13/13 [==============================] - 0s 6ms/step - loss: 0.0294 - accuracy: 0.9925 - auc_4: 0.9994 - val_loss: 0.0590 - val_accuracy: 0.9825 - val_auc_4: 0.9977\n",
            "Epoch 71/100\n",
            "13/13 [==============================] - 0s 4ms/step - loss: 0.0291 - accuracy: 0.9925 - auc_4: 0.9995 - val_loss: 0.0607 - val_accuracy: 0.9766 - val_auc_4: 0.9977\n",
            "Epoch 72/100\n",
            "13/13 [==============================] - 0s 5ms/step - loss: 0.0284 - accuracy: 0.9925 - auc_4: 0.9995 - val_loss: 0.0598 - val_accuracy: 0.9825 - val_auc_4: 0.9976\n",
            "Epoch 73/100\n",
            "13/13 [==============================] - 0s 4ms/step - loss: 0.0279 - accuracy: 0.9925 - auc_4: 0.9995 - val_loss: 0.0600 - val_accuracy: 0.9825 - val_auc_4: 0.9976\n",
            "Epoch 74/100\n",
            "13/13 [==============================] - 0s 5ms/step - loss: 0.0275 - accuracy: 0.9925 - auc_4: 0.9995 - val_loss: 0.0598 - val_accuracy: 0.9766 - val_auc_4: 0.9977\n",
            "Epoch 75/100\n",
            "13/13 [==============================] - 0s 4ms/step - loss: 0.0270 - accuracy: 0.9925 - auc_4: 0.9996 - val_loss: 0.0593 - val_accuracy: 0.9766 - val_auc_4: 0.9976\n",
            "Epoch 76/100\n",
            "13/13 [==============================] - 0s 4ms/step - loss: 0.0265 - accuracy: 0.9925 - auc_4: 0.9996 - val_loss: 0.0589 - val_accuracy: 0.9766 - val_auc_4: 0.9976\n",
            "Epoch 77/100\n",
            "13/13 [==============================] - 0s 5ms/step - loss: 0.0260 - accuracy: 0.9925 - auc_4: 0.9996 - val_loss: 0.0604 - val_accuracy: 0.9766 - val_auc_4: 0.9976\n",
            "Epoch 78/100\n",
            "13/13 [==============================] - 0s 4ms/step - loss: 0.0259 - accuracy: 0.9925 - auc_4: 0.9996 - val_loss: 0.0613 - val_accuracy: 0.9766 - val_auc_4: 0.9974\n",
            "Epoch 79/100\n",
            "13/13 [==============================] - 0s 4ms/step - loss: 0.0250 - accuracy: 0.9925 - auc_4: 0.9997 - val_loss: 0.0613 - val_accuracy: 0.9766 - val_auc_4: 0.9975\n",
            "Epoch 80/100\n",
            "13/13 [==============================] - 0s 5ms/step - loss: 0.0246 - accuracy: 0.9925 - auc_4: 0.9997 - val_loss: 0.0616 - val_accuracy: 0.9766 - val_auc_4: 0.9971\n",
            "Epoch 81/100\n",
            "13/13 [==============================] - 0s 4ms/step - loss: 0.0242 - accuracy: 0.9925 - auc_4: 0.9997 - val_loss: 0.0616 - val_accuracy: 0.9766 - val_auc_4: 0.9971\n",
            "Epoch 82/100\n",
            "13/13 [==============================] - 0s 5ms/step - loss: 0.0238 - accuracy: 0.9925 - auc_4: 0.9997 - val_loss: 0.0615 - val_accuracy: 0.9766 - val_auc_4: 0.9971\n",
            "Epoch 83/100\n",
            "13/13 [==============================] - 0s 4ms/step - loss: 0.0234 - accuracy: 0.9925 - auc_4: 0.9997 - val_loss: 0.0618 - val_accuracy: 0.9766 - val_auc_4: 0.9971\n",
            "Epoch 84/100\n",
            "13/13 [==============================] - 0s 5ms/step - loss: 0.0230 - accuracy: 0.9950 - auc_4: 0.9997 - val_loss: 0.0624 - val_accuracy: 0.9766 - val_auc_4: 0.9969\n",
            "Epoch 85/100\n",
            "13/13 [==============================] - 0s 5ms/step - loss: 0.0225 - accuracy: 0.9925 - auc_4: 0.9998 - val_loss: 0.0635 - val_accuracy: 0.9766 - val_auc_4: 0.9968\n",
            "Epoch 86/100\n",
            "13/13 [==============================] - 0s 5ms/step - loss: 0.0222 - accuracy: 0.9950 - auc_4: 0.9998 - val_loss: 0.0634 - val_accuracy: 0.9766 - val_auc_4: 0.9966\n",
            "Epoch 87/100\n",
            "13/13 [==============================] - 0s 5ms/step - loss: 0.0217 - accuracy: 0.9950 - auc_4: 0.9998 - val_loss: 0.0645 - val_accuracy: 0.9766 - val_auc_4: 0.9968\n",
            "Epoch 88/100\n",
            "13/13 [==============================] - 0s 6ms/step - loss: 0.0213 - accuracy: 0.9950 - auc_4: 0.9998 - val_loss: 0.0637 - val_accuracy: 0.9766 - val_auc_4: 0.9968\n",
            "Epoch 89/100\n",
            "13/13 [==============================] - 0s 6ms/step - loss: 0.0210 - accuracy: 0.9950 - auc_4: 0.9998 - val_loss: 0.0665 - val_accuracy: 0.9766 - val_auc_4: 0.9965\n",
            "Epoch 90/100\n",
            "13/13 [==============================] - 0s 5ms/step - loss: 0.0207 - accuracy: 0.9950 - auc_4: 0.9998 - val_loss: 0.0668 - val_accuracy: 0.9766 - val_auc_4: 0.9967\n",
            "Epoch 91/100\n",
            "13/13 [==============================] - 0s 5ms/step - loss: 0.0203 - accuracy: 0.9950 - auc_4: 0.9998 - val_loss: 0.0662 - val_accuracy: 0.9766 - val_auc_4: 0.9964\n",
            "Epoch 92/100\n",
            "13/13 [==============================] - 0s 4ms/step - loss: 0.0198 - accuracy: 0.9950 - auc_4: 0.9998 - val_loss: 0.0661 - val_accuracy: 0.9766 - val_auc_4: 0.9965\n",
            "Epoch 93/100\n",
            "13/13 [==============================] - 0s 5ms/step - loss: 0.0193 - accuracy: 0.9950 - auc_4: 0.9999 - val_loss: 0.0669 - val_accuracy: 0.9766 - val_auc_4: 0.9965\n",
            "Epoch 94/100\n",
            "13/13 [==============================] - 0s 5ms/step - loss: 0.0191 - accuracy: 0.9950 - auc_4: 0.9999 - val_loss: 0.0664 - val_accuracy: 0.9766 - val_auc_4: 0.9965\n",
            "Epoch 95/100\n",
            "13/13 [==============================] - 0s 5ms/step - loss: 0.0187 - accuracy: 0.9950 - auc_4: 0.9999 - val_loss: 0.0669 - val_accuracy: 0.9766 - val_auc_4: 0.9965\n",
            "Epoch 96/100\n",
            "13/13 [==============================] - 0s 5ms/step - loss: 0.0184 - accuracy: 0.9950 - auc_4: 0.9999 - val_loss: 0.0682 - val_accuracy: 0.9766 - val_auc_4: 0.9965\n",
            "Epoch 97/100\n",
            "13/13 [==============================] - 0s 6ms/step - loss: 0.0181 - accuracy: 0.9950 - auc_4: 0.9999 - val_loss: 0.0676 - val_accuracy: 0.9766 - val_auc_4: 0.9965\n",
            "Epoch 98/100\n",
            "13/13 [==============================] - 0s 4ms/step - loss: 0.0177 - accuracy: 0.9950 - auc_4: 0.9999 - val_loss: 0.0692 - val_accuracy: 0.9766 - val_auc_4: 0.9966\n",
            "Epoch 99/100\n",
            "13/13 [==============================] - 0s 5ms/step - loss: 0.0176 - accuracy: 0.9950 - auc_4: 0.9999 - val_loss: 0.0686 - val_accuracy: 0.9766 - val_auc_4: 0.9963\n",
            "Epoch 100/100\n",
            "13/13 [==============================] - 0s 4ms/step - loss: 0.0174 - accuracy: 0.9950 - auc_4: 0.9999 - val_loss: 0.0688 - val_accuracy: 0.9766 - val_auc_4: 0.9963\n"
          ]
        }
      ]
    },
    {
      "cell_type": "code",
      "metadata": {
        "id": "p_DLHy3BFemk",
        "colab": {
          "base_uri": "https://localhost:8080/",
          "height": 625
        },
        "outputId": "487423d1-d704-44c9-ad36-e2f6ab2d6875"
      },
      "source": [
        "# print Test Loss and Accuracy and plot the history\n",
        "import matplotlib.pyplot as plt\n",
        "\n",
        "def show_history(story):\n",
        "    fig, (ax1, ax2) = plt.subplots(1, 2)\n",
        "    fig.set_size_inches(18.5, 10.5)\n",
        "    ax1.plot(story.history['accuracy'])\n",
        "    ax1.plot(story.history['val_accuracy'])\n",
        "    ax1.set(xlabel='epoch', ylabel='accuracy')\n",
        "    ax1.legend(['train_accuracy', 'val_accuracy'], loc='best')\n",
        "    ax1.set_title('Accuracy evolution during NN training')\n",
        "    \n",
        "    ax2.plot(story.history['loss'])\n",
        "    ax2.plot(story.history['val_loss'])\n",
        "    ax2.set(xlabel='epoch', ylabel='loss')\n",
        "    ax2.legend(['train_loss', 'val_loss'], loc='best')\n",
        "    ax2.set_title('Loss evolution during NN training')\n",
        "    plt.show()\n",
        "\n",
        "show_history(story)"
      ],
      "execution_count": 105,
      "outputs": [
        {
          "output_type": "display_data",
          "data": {
            "image/png": "[encoded data removed]",
            "text/plain": [
              "<Figure size 1332x756 with 2 Axes>"
            ]
          },
          "metadata": {}
        }
      ]
    },
    {
      "cell_type": "markdown",
      "metadata": {
        "id": "jQ4AwjONFbRV"
      },
      "source": [
        ""
      ]
    },
    {
      "cell_type": "markdown",
      "metadata": {
        "id": "2JOpM-jmuO-W"
      },
      "source": [
        "Typically validation loss should be similar to but slightly higher than training loss. As long as validation loss is lower than or even equal to training loss one should keep doing more training. If training loss is reducing without increase in validation loss then again keep doing more training. If validation loss starts increasing then it is time to stop. Some over-fitting is nearly always a good thing. All that matters in the end is: is the validation loss as low as you can get it!\n",
        "\n",
        "If overall accuracy still not acceptable then review mistakes model is making and think of what can one change: More data? More / different data augmentations? Different architecture?\n",
        "\n"
      ]
    },
    {
      "cell_type": "code",
      "metadata": {
        "id": "JXFMSTVhJh02",
        "colab": {
          "base_uri": "https://localhost:8080/"
        },
        "outputId": "211f1bc2-445b-40d9-bf6c-881bb3499e7c"
      },
      "source": [
        "# Compute predictions of X_test\n",
        "yhat = model.predict(X_test)\n",
        "yhat"
      ],
      "execution_count": 106,
      "outputs": [
        {
          "output_type": "execute_result",
          "data": {
            "text/plain": [
              "array([[9.58005786e-01],\n",
              "       [2.42273011e-08],\n",
              "       [8.80501102e-05],\n",
              "       [9.99769688e-01],\n",
              "       [9.99946594e-01],\n",
              "       [4.60487175e-15],\n",
              "       [2.69571637e-13],\n",
              "       [5.78492880e-04],\n",
              "       [2.61843026e-01],\n",
              "       [9.99860048e-01],\n",
              "       [6.90617800e-01],\n",
              "       [6.56604767e-04],\n",
              "       [9.96563256e-01],\n",
              "       [1.86347961e-03],\n",
              "       [9.99834180e-01],\n",
              "       [1.46089201e-06],\n",
              "       [9.99746561e-01],\n",
              "       [9.99976277e-01],\n",
              "       [9.99998927e-01],\n",
              "       [2.39539877e-09],\n",
              "       [9.80181575e-01],\n",
              "       [9.95892048e-01],\n",
              "       [3.33773590e-13],\n",
              "       [9.99690771e-01],\n",
              "       [9.99325037e-01],\n",
              "       [9.99775529e-01],\n",
              "       [9.99849558e-01],\n",
              "       [9.99063849e-01],\n",
              "       [9.97559667e-01],\n",
              "       [1.89319316e-09],\n",
              "       [9.99274194e-01],\n",
              "       [9.99948144e-01],\n",
              "       [9.98904347e-01],\n",
              "       [9.98590827e-01],\n",
              "       [9.99903619e-01],\n",
              "       [9.98852015e-01],\n",
              "       [6.90257549e-03],\n",
              "       [9.98767972e-01],\n",
              "       [3.65681331e-07],\n",
              "       [9.67260718e-01],\n",
              "       [9.99818742e-01],\n",
              "       [1.28112697e-05],\n",
              "       [9.99296665e-01],\n",
              "       [9.99230266e-01],\n",
              "       [9.65589881e-01],\n",
              "       [9.60521698e-01],\n",
              "       [9.99981761e-01],\n",
              "       [9.98188317e-01],\n",
              "       [9.69446898e-01],\n",
              "       [9.99353528e-01],\n",
              "       [7.77927653e-07],\n",
              "       [3.14727355e-10],\n",
              "       [8.73848319e-01],\n",
              "       [9.27173793e-01],\n",
              "       [9.99993920e-01],\n",
              "       [9.98418272e-01],\n",
              "       [9.99974370e-01],\n",
              "       [1.36807349e-16],\n",
              "       [1.35636330e-03],\n",
              "       [9.99955773e-01],\n",
              "       [9.96524155e-01],\n",
              "       [8.32120414e-11],\n",
              "       [2.69508916e-13],\n",
              "       [9.80694234e-01],\n",
              "       [9.99150515e-01],\n",
              "       [9.78035212e-01],\n",
              "       [1.95732959e-08],\n",
              "       [6.91983526e-13],\n",
              "       [9.99521494e-01],\n",
              "       [9.96662498e-01],\n",
              "       [4.35157381e-05],\n",
              "       [4.23375104e-06],\n",
              "       [9.99251962e-01],\n",
              "       [2.63382353e-05],\n",
              "       [9.99938726e-01],\n",
              "       [9.99046206e-01],\n",
              "       [9.76833880e-01],\n",
              "       [3.75349790e-01],\n",
              "       [9.99937892e-01],\n",
              "       [9.98136103e-01],\n",
              "       [4.28348780e-04],\n",
              "       [9.99958158e-01],\n",
              "       [2.42894620e-01],\n",
              "       [4.28012790e-12],\n",
              "       [2.73823738e-04],\n",
              "       [4.74431914e-07],\n",
              "       [3.15799070e-07],\n",
              "       [1.74096895e-05],\n",
              "       [9.99982595e-01],\n",
              "       [9.98804808e-01],\n",
              "       [9.96063709e-01],\n",
              "       [2.33360946e-01],\n",
              "       [9.87329483e-01],\n",
              "       [9.94661570e-01],\n",
              "       [9.99828815e-01],\n",
              "       [9.99937296e-01],\n",
              "       [1.16227454e-08],\n",
              "       [1.43046153e-09],\n",
              "       [9.99975920e-01],\n",
              "       [6.07192942e-06],\n",
              "       [3.72990144e-05],\n",
              "       [9.99998808e-01],\n",
              "       [4.61270089e-09],\n",
              "       [1.84177884e-06],\n",
              "       [9.89630997e-01],\n",
              "       [9.63201165e-01],\n",
              "       [9.98630881e-01],\n",
              "       [2.69276898e-15],\n",
              "       [9.91009712e-01],\n",
              "       [9.84467506e-01],\n",
              "       [1.33688172e-05],\n",
              "       [9.99198556e-01],\n",
              "       [9.84035850e-01],\n",
              "       [6.32728318e-16],\n",
              "       [1.39405072e-01],\n",
              "       [1.17612910e-13],\n",
              "       [9.99998212e-01],\n",
              "       [8.65849137e-01],\n",
              "       [9.99955177e-01],\n",
              "       [2.20155059e-07],\n",
              "       [9.99996305e-01],\n",
              "       [9.99713659e-01],\n",
              "       [9.96820569e-01],\n",
              "       [1.53018647e-07],\n",
              "       [9.83212590e-01],\n",
              "       [6.36822192e-11],\n",
              "       [1.97007921e-06],\n",
              "       [9.99177158e-01],\n",
              "       [9.99549270e-01],\n",
              "       [1.54136726e-09],\n",
              "       [8.34516429e-13],\n",
              "       [7.33745198e-09],\n",
              "       [9.97932792e-01],\n",
              "       [9.98787045e-01],\n",
              "       [9.99160886e-01],\n",
              "       [6.52801100e-06],\n",
              "       [7.91080832e-01],\n",
              "       [9.98006046e-01],\n",
              "       [6.94866180e-01],\n",
              "       [7.73841384e-06],\n",
              "       [9.98188734e-01],\n",
              "       [4.34407989e-13],\n",
              "       [9.99989271e-01],\n",
              "       [9.99993682e-01],\n",
              "       [1.03468454e-04],\n",
              "       [9.99796271e-01],\n",
              "       [3.85278653e-08],\n",
              "       [3.07241055e-09],\n",
              "       [4.30807769e-02],\n",
              "       [9.99732137e-01],\n",
              "       [3.47897410e-03],\n",
              "       [9.99879241e-01],\n",
              "       [9.99993980e-01],\n",
              "       [9.88107920e-01],\n",
              "       [9.98661280e-01],\n",
              "       [5.26440034e-18],\n",
              "       [1.48178083e-06],\n",
              "       [9.99943852e-01],\n",
              "       [9.98543024e-01],\n",
              "       [9.99972522e-01],\n",
              "       [9.99992788e-01],\n",
              "       [9.99943256e-01],\n",
              "       [9.99836445e-01],\n",
              "       [9.98437524e-01],\n",
              "       [4.85669374e-02],\n",
              "       [9.99852598e-01],\n",
              "       [9.99546766e-01],\n",
              "       [6.38934612e-01],\n",
              "       [9.99997377e-01],\n",
              "       [2.12669373e-04],\n",
              "       [9.99201655e-01]], dtype=float32)"
            ]
          },
          "metadata": {},
          "execution_count": 106
        }
      ]
    },
    {
      "cell_type": "markdown",
      "metadata": {
        "id": "32rVq2dmK76Q"
      },
      "source": [
        ""
      ]
    },
    {
      "cell_type": "code",
      "metadata": {
        "id": "9YLpHjipKbZM",
        "colab": {
          "base_uri": "https://localhost:8080/"
        },
        "outputId": "633e93df-7d69-429e-edc6-8c55ba5f6105"
      },
      "source": [
        "# Finding the most probable class\n",
        "yhat_c = (yhat > 0.5)\n",
        "print(yhat_c)\n"
      ],
      "execution_count": 107,
      "outputs": [
        {
          "output_type": "stream",
          "name": "stdout",
          "text": [
            "[[ True]\n",
            " [False]\n",
            " [False]\n",
            " [ True]\n",
            " [ True]\n",
            " [False]\n",
            " [False]\n",
            " [False]\n",
            " [False]\n",
            " [ True]\n",
            " [ True]\n",
            " [False]\n",
            " [ True]\n",
            " [False]\n",
            " [ True]\n",
            " [False]\n",
            " [ True]\n",
            " [ True]\n",
            " [ True]\n",
            " [False]\n",
            " [ True]\n",
            " [ True]\n",
            " [False]\n",
            " [ True]\n",
            " [ True]\n",
            " [ True]\n",
            " [ True]\n",
            " [ True]\n",
            " [ True]\n",
            " [False]\n",
            " [ True]\n",
            " [ True]\n",
            " [ True]\n",
            " [ True]\n",
            " [ True]\n",
            " [ True]\n",
            " [False]\n",
            " [ True]\n",
            " [False]\n",
            " [ True]\n",
            " [ True]\n",
            " [False]\n",
            " [ True]\n",
            " [ True]\n",
            " [ True]\n",
            " [ True]\n",
            " [ True]\n",
            " [ True]\n",
            " [ True]\n",
            " [ True]\n",
            " [False]\n",
            " [False]\n",
            " [ True]\n",
            " [ True]\n",
            " [ True]\n",
            " [ True]\n",
            " [ True]\n",
            " [False]\n",
            " [False]\n",
            " [ True]\n",
            " [ True]\n",
            " [False]\n",
            " [False]\n",
            " [ True]\n",
            " [ True]\n",
            " [ True]\n",
            " [False]\n",
            " [False]\n",
            " [ True]\n",
            " [ True]\n",
            " [False]\n",
            " [False]\n",
            " [ True]\n",
            " [False]\n",
            " [ True]\n",
            " [ True]\n",
            " [ True]\n",
            " [False]\n",
            " [ True]\n",
            " [ True]\n",
            " [False]\n",
            " [ True]\n",
            " [False]\n",
            " [False]\n",
            " [False]\n",
            " [False]\n",
            " [False]\n",
            " [False]\n",
            " [ True]\n",
            " [ True]\n",
            " [ True]\n",
            " [False]\n",
            " [ True]\n",
            " [ True]\n",
            " [ True]\n",
            " [ True]\n",
            " [False]\n",
            " [False]\n",
            " [ True]\n",
            " [False]\n",
            " [False]\n",
            " [ True]\n",
            " [False]\n",
            " [False]\n",
            " [ True]\n",
            " [ True]\n",
            " [ True]\n",
            " [False]\n",
            " [ True]\n",
            " [ True]\n",
            " [False]\n",
            " [ True]\n",
            " [ True]\n",
            " [False]\n",
            " [False]\n",
            " [False]\n",
            " [ True]\n",
            " [ True]\n",
            " [ True]\n",
            " [False]\n",
            " [ True]\n",
            " [ True]\n",
            " [ True]\n",
            " [False]\n",
            " [ True]\n",
            " [False]\n",
            " [False]\n",
            " [ True]\n",
            " [ True]\n",
            " [False]\n",
            " [False]\n",
            " [False]\n",
            " [ True]\n",
            " [ True]\n",
            " [ True]\n",
            " [False]\n",
            " [ True]\n",
            " [ True]\n",
            " [ True]\n",
            " [False]\n",
            " [ True]\n",
            " [False]\n",
            " [ True]\n",
            " [ True]\n",
            " [False]\n",
            " [ True]\n",
            " [False]\n",
            " [False]\n",
            " [False]\n",
            " [ True]\n",
            " [False]\n",
            " [ True]\n",
            " [ True]\n",
            " [ True]\n",
            " [ True]\n",
            " [False]\n",
            " [False]\n",
            " [ True]\n",
            " [ True]\n",
            " [ True]\n",
            " [ True]\n",
            " [ True]\n",
            " [ True]\n",
            " [ True]\n",
            " [False]\n",
            " [ True]\n",
            " [ True]\n",
            " [ True]\n",
            " [ True]\n",
            " [False]\n",
            " [ True]]\n"
          ]
        }
      ]
    },
    {
      "cell_type": "code",
      "metadata": {
        "id": "Ttv8CTL9J2u9",
        "colab": {
          "base_uri": "https://localhost:8080/"
        },
        "outputId": "aad4e6a0-6f22-49a2-e1d2-24c95b83bafc"
      },
      "source": [
        "# print the confusion matrix\n",
        "\n",
        "from sklearn.metrics import confusion_matrix\n",
        "from sklearn.metrics import accuracy_score\n",
        "cm = confusion_matrix(y_test,yhat_c)\n",
        "score = accuracy_score(y_test,yhat_c)\n",
        "print(cm)\n",
        "print('score is:',score)\n"
      ],
      "execution_count": 108,
      "outputs": [
        {
          "output_type": "stream",
          "name": "stdout",
          "text": [
            "[[ 62   1]\n",
            " [  3 105]]\n",
            "score is: 0.9766081871345029\n"
          ]
        }
      ]
    },
    {
      "cell_type": "code",
      "metadata": {
        "id": "6y_9kW-HNogg",
        "colab": {
          "base_uri": "https://localhost:8080/"
        },
        "outputId": "5bd34520-af75-4f56-c220-bb13bf88334d"
      },
      "source": [
        " #print calssification report\n",
        " from sklearn.metrics import classification_report\n",
        "\n",
        " print(classification_report(y_test, yhat_c))\n",
        "\n"
      ],
      "execution_count": 72,
      "outputs": [
        {
          "output_type": "stream",
          "name": "stdout",
          "text": [
            "              precision    recall  f1-score   support\n",
            "\n",
            "           0       0.98      0.97      0.98        63\n",
            "           1       0.98      0.99      0.99       108\n",
            "\n",
            "   micro avg       0.98      0.98      0.98       171\n",
            "   macro avg       0.98      0.98      0.98       171\n",
            "weighted avg       0.98      0.98      0.98       171\n",
            " samples avg       0.98      0.98      0.98       171\n",
            "\n"
          ]
        }
      ]
    },
    {
      "cell_type": "code",
      "metadata": {
        "id": "isYWxE5ibO7a"
      },
      "source": [
        ""
      ],
      "execution_count": null,
      "outputs": []
    },
    {
      "cell_type": "markdown",
      "metadata": {
        "id": "6l0Wu5DMbQDI"
      },
      "source": [
        "\n",
        "# OPTION 2\n",
        "Lets implement the same model with softmax output activation and 2 nodes. REMEMBER, the binary classification case is a special case of the multiclass classification case with 2 classes. so the softmax function with only 2 classes will give the sigmoid function. \n",
        "MEaning, when you have a binary classification problem, have 2 options\n",
        "1.  output activation sigmoid, 1 node and binary_crossentropy loss\n",
        "2. output activation softmax, 2 nodes and categorical_crossentropy loss"
      ]
    },
    {
      "cell_type": "code",
      "metadata": {
        "colab": {
          "base_uri": "https://localhost:8080/"
        },
        "id": "b8emx5bGaHoc",
        "outputId": "35db0392-4e88-4e22-8893-ee360a3fcdef"
      },
      "source": [
        "from sklearn.preprocessing import LabelEncoder\n",
        "from keras.utils import np_utils\n",
        "# Prepare the target variable\n",
        "\n",
        "# if you use categorical crossentropy loss, you have to reshape the target variable to the dimension of the classes,\n",
        "# ie. OneHot encode the Target\n",
        "# Note: you can leave the target as normal integers, but then you have to use 'sparse_categorical_crossentropy' loss\n",
        "dummy_y = np_utils.to_categorical(y)\n",
        "dummy_y"
      ],
      "execution_count": 109,
      "outputs": [
        {
          "output_type": "execute_result",
          "data": {
            "text/plain": [
              "array([[1., 0.],\n",
              "       [1., 0.],\n",
              "       [1., 0.],\n",
              "       ...,\n",
              "       [1., 0.],\n",
              "       [1., 0.],\n",
              "       [0., 1.]], dtype=float32)"
            ]
          },
          "metadata": {},
          "execution_count": 109
        }
      ]
    },
    {
      "cell_type": "code",
      "metadata": {
        "colab": {
          "base_uri": "https://localhost:8080/"
        },
        "id": "Pem2hXWcafVj",
        "outputId": "231807a3-f4da-4400-fdad-cb8f4018fa19"
      },
      "source": [
        "from sklearn.model_selection import train_test_split\n",
        "# use random state 42\n",
        "X_train,X_test,y_train,y_test=train_test_split(X,y,test_size=0.3,random_state=42)\n",
        "\n",
        "print(X_train.shape)\n",
        "print(X_test.shape)\n",
        "print(y_test.shape)\n",
        "print(y_train.shape)\n"
      ],
      "execution_count": 123,
      "outputs": [
        {
          "output_type": "stream",
          "name": "stdout",
          "text": [
            "(398, 30)\n",
            "(171, 30)\n",
            "(171,)\n",
            "(398,)\n"
          ]
        }
      ]
    },
    {
      "cell_type": "code",
      "metadata": {
        "id": "8PI5IWC4apTM"
      },
      "source": [
        "# feature scaling - standardscaler\n",
        "from sklearn import preprocessing\n",
        "scaler=preprocessing.StandardScaler()\n",
        "X_train=scaler.fit_transform(X_train)\n",
        "X_test=scaler.transform(X_test)\n",
        "\n",
        "# scaled arrays"
      ],
      "execution_count": 124,
      "outputs": []
    },
    {
      "cell_type": "code",
      "metadata": {
        "id": "B8dJ82XAAQ9f"
      },
      "source": [
        "model=Sequential()\n",
        "model.add(Dense(15,activation=\"relu\",input_dim=30))\n",
        "model.add(Dense(6,activation=\"relu\"))\n",
        "model.add(Dense(2,activation=\"softmax\"))"
      ],
      "execution_count": 125,
      "outputs": []
    },
    {
      "cell_type": "code",
      "metadata": {
        "id": "UcKPmuaTX06e"
      },
      "source": [
        "model.compile(optimizer=\"adam\",loss=\"sparse_categorical_crossentropy\",metrics=[\"accuracy\"])\n"
      ],
      "execution_count": 126,
      "outputs": []
    },
    {
      "cell_type": "code",
      "metadata": {
        "colab": {
          "base_uri": "https://localhost:8080/"
        },
        "id": "mg_AkIw9YMAm",
        "outputId": "28cd23ae-6cfa-477d-8bbb-08b66b6169b0"
      },
      "source": [
        "#fit the model\n",
        "model.fit(X_train,y_train,batch_size=32,epochs=100,validation_data=(X_test,y_test))\n"
      ],
      "execution_count": 127,
      "outputs": [
        {
          "output_type": "stream",
          "name": "stdout",
          "text": [
            "Epoch 1/100\n",
            "13/13 [==============================] - 1s 15ms/step - loss: 0.6824 - accuracy: 0.5854 - val_loss: 0.5961 - val_accuracy: 0.7193\n",
            "Epoch 2/100\n",
            "13/13 [==============================] - 0s 4ms/step - loss: 0.5074 - accuracy: 0.7940 - val_loss: 0.4558 - val_accuracy: 0.8304\n",
            "Epoch 3/100\n",
            "13/13 [==============================] - 0s 5ms/step - loss: 0.4038 - accuracy: 0.8744 - val_loss: 0.3688 - val_accuracy: 0.8947\n",
            "Epoch 4/100\n",
            "13/13 [==============================] - 0s 5ms/step - loss: 0.3377 - accuracy: 0.8970 - val_loss: 0.3061 - val_accuracy: 0.9064\n",
            "Epoch 5/100\n",
            "13/13 [==============================] - 0s 4ms/step - loss: 0.2882 - accuracy: 0.9070 - val_loss: 0.2581 - val_accuracy: 0.9123\n",
            "Epoch 6/100\n",
            "13/13 [==============================] - 0s 5ms/step - loss: 0.2497 - accuracy: 0.9221 - val_loss: 0.2210 - val_accuracy: 0.9357\n",
            "Epoch 7/100\n",
            "13/13 [==============================] - 0s 5ms/step - loss: 0.2198 - accuracy: 0.9372 - val_loss: 0.1915 - val_accuracy: 0.9474\n",
            "Epoch 8/100\n",
            "13/13 [==============================] - 0s 5ms/step - loss: 0.1954 - accuracy: 0.9397 - val_loss: 0.1688 - val_accuracy: 0.9532\n",
            "Epoch 9/100\n",
            "13/13 [==============================] - 0s 5ms/step - loss: 0.1767 - accuracy: 0.9447 - val_loss: 0.1497 - val_accuracy: 0.9532\n",
            "Epoch 10/100\n",
            "13/13 [==============================] - 0s 4ms/step - loss: 0.1603 - accuracy: 0.9548 - val_loss: 0.1339 - val_accuracy: 0.9532\n",
            "Epoch 11/100\n",
            "13/13 [==============================] - 0s 6ms/step - loss: 0.1472 - accuracy: 0.9573 - val_loss: 0.1217 - val_accuracy: 0.9649\n",
            "Epoch 12/100\n",
            "13/13 [==============================] - 0s 4ms/step - loss: 0.1360 - accuracy: 0.9523 - val_loss: 0.1114 - val_accuracy: 0.9708\n",
            "Epoch 13/100\n",
            "13/13 [==============================] - 0s 4ms/step - loss: 0.1260 - accuracy: 0.9523 - val_loss: 0.1027 - val_accuracy: 0.9766\n",
            "Epoch 14/100\n",
            "13/13 [==============================] - 0s 4ms/step - loss: 0.1178 - accuracy: 0.9573 - val_loss: 0.0948 - val_accuracy: 0.9766\n",
            "Epoch 15/100\n",
            "13/13 [==============================] - 0s 6ms/step - loss: 0.1106 - accuracy: 0.9623 - val_loss: 0.0892 - val_accuracy: 0.9766\n",
            "Epoch 16/100\n",
            "13/13 [==============================] - 0s 4ms/step - loss: 0.1040 - accuracy: 0.9673 - val_loss: 0.0837 - val_accuracy: 0.9766\n",
            "Epoch 17/100\n",
            "13/13 [==============================] - 0s 4ms/step - loss: 0.0986 - accuracy: 0.9673 - val_loss: 0.0789 - val_accuracy: 0.9766\n",
            "Epoch 18/100\n",
            "13/13 [==============================] - 0s 6ms/step - loss: 0.0939 - accuracy: 0.9698 - val_loss: 0.0767 - val_accuracy: 0.9708\n",
            "Epoch 19/100\n",
            "13/13 [==============================] - 0s 4ms/step - loss: 0.0894 - accuracy: 0.9698 - val_loss: 0.0739 - val_accuracy: 0.9708\n",
            "Epoch 20/100\n",
            "13/13 [==============================] - 0s 4ms/step - loss: 0.0856 - accuracy: 0.9698 - val_loss: 0.0709 - val_accuracy: 0.9708\n",
            "Epoch 21/100\n",
            "13/13 [==============================] - 0s 4ms/step - loss: 0.0822 - accuracy: 0.9724 - val_loss: 0.0679 - val_accuracy: 0.9708\n",
            "Epoch 22/100\n",
            "13/13 [==============================] - 0s 5ms/step - loss: 0.0791 - accuracy: 0.9774 - val_loss: 0.0657 - val_accuracy: 0.9708\n",
            "Epoch 23/100\n",
            "13/13 [==============================] - 0s 5ms/step - loss: 0.0762 - accuracy: 0.9749 - val_loss: 0.0632 - val_accuracy: 0.9825\n",
            "Epoch 24/100\n",
            "13/13 [==============================] - 0s 4ms/step - loss: 0.0736 - accuracy: 0.9749 - val_loss: 0.0612 - val_accuracy: 0.9825\n",
            "Epoch 25/100\n",
            "13/13 [==============================] - 0s 5ms/step - loss: 0.0712 - accuracy: 0.9774 - val_loss: 0.0601 - val_accuracy: 0.9825\n",
            "Epoch 26/100\n",
            "13/13 [==============================] - 0s 5ms/step - loss: 0.0689 - accuracy: 0.9774 - val_loss: 0.0596 - val_accuracy: 0.9825\n",
            "Epoch 27/100\n",
            "13/13 [==============================] - 0s 5ms/step - loss: 0.0667 - accuracy: 0.9799 - val_loss: 0.0583 - val_accuracy: 0.9825\n",
            "Epoch 28/100\n",
            "13/13 [==============================] - 0s 5ms/step - loss: 0.0648 - accuracy: 0.9824 - val_loss: 0.0575 - val_accuracy: 0.9825\n",
            "Epoch 29/100\n",
            "13/13 [==============================] - 0s 5ms/step - loss: 0.0626 - accuracy: 0.9824 - val_loss: 0.0576 - val_accuracy: 0.9766\n",
            "Epoch 30/100\n",
            "13/13 [==============================] - 0s 4ms/step - loss: 0.0607 - accuracy: 0.9799 - val_loss: 0.0568 - val_accuracy: 0.9708\n",
            "Epoch 31/100\n",
            "13/13 [==============================] - 0s 6ms/step - loss: 0.0588 - accuracy: 0.9824 - val_loss: 0.0557 - val_accuracy: 0.9708\n",
            "Epoch 32/100\n",
            "13/13 [==============================] - 0s 4ms/step - loss: 0.0574 - accuracy: 0.9824 - val_loss: 0.0544 - val_accuracy: 0.9825\n",
            "Epoch 33/100\n",
            "13/13 [==============================] - 0s 5ms/step - loss: 0.0557 - accuracy: 0.9824 - val_loss: 0.0535 - val_accuracy: 0.9766\n",
            "Epoch 34/100\n",
            "13/13 [==============================] - 0s 4ms/step - loss: 0.0542 - accuracy: 0.9849 - val_loss: 0.0531 - val_accuracy: 0.9825\n",
            "Epoch 35/100\n",
            "13/13 [==============================] - 0s 5ms/step - loss: 0.0531 - accuracy: 0.9849 - val_loss: 0.0522 - val_accuracy: 0.9825\n",
            "Epoch 36/100\n",
            "13/13 [==============================] - 0s 5ms/step - loss: 0.0515 - accuracy: 0.9874 - val_loss: 0.0537 - val_accuracy: 0.9766\n",
            "Epoch 37/100\n",
            "13/13 [==============================] - 0s 5ms/step - loss: 0.0503 - accuracy: 0.9849 - val_loss: 0.0534 - val_accuracy: 0.9766\n",
            "Epoch 38/100\n",
            "13/13 [==============================] - 0s 5ms/step - loss: 0.0491 - accuracy: 0.9849 - val_loss: 0.0526 - val_accuracy: 0.9766\n",
            "Epoch 39/100\n",
            "13/13 [==============================] - 0s 4ms/step - loss: 0.0481 - accuracy: 0.9849 - val_loss: 0.0528 - val_accuracy: 0.9766\n",
            "Epoch 40/100\n",
            "13/13 [==============================] - 0s 5ms/step - loss: 0.0466 - accuracy: 0.9874 - val_loss: 0.0516 - val_accuracy: 0.9766\n",
            "Epoch 41/100\n",
            "13/13 [==============================] - 0s 6ms/step - loss: 0.0458 - accuracy: 0.9874 - val_loss: 0.0520 - val_accuracy: 0.9766\n",
            "Epoch 42/100\n",
            "13/13 [==============================] - 0s 6ms/step - loss: 0.0442 - accuracy: 0.9874 - val_loss: 0.0514 - val_accuracy: 0.9766\n",
            "Epoch 43/100\n",
            "13/13 [==============================] - 0s 5ms/step - loss: 0.0434 - accuracy: 0.9899 - val_loss: 0.0507 - val_accuracy: 0.9825\n",
            "Epoch 44/100\n",
            "13/13 [==============================] - 0s 4ms/step - loss: 0.0423 - accuracy: 0.9899 - val_loss: 0.0505 - val_accuracy: 0.9825\n",
            "Epoch 45/100\n",
            "13/13 [==============================] - 0s 4ms/step - loss: 0.0412 - accuracy: 0.9899 - val_loss: 0.0495 - val_accuracy: 0.9825\n",
            "Epoch 46/100\n",
            "13/13 [==============================] - 0s 4ms/step - loss: 0.0405 - accuracy: 0.9899 - val_loss: 0.0501 - val_accuracy: 0.9825\n",
            "Epoch 47/100\n",
            "13/13 [==============================] - 0s 5ms/step - loss: 0.0393 - accuracy: 0.9899 - val_loss: 0.0507 - val_accuracy: 0.9766\n",
            "Epoch 48/100\n",
            "13/13 [==============================] - 0s 5ms/step - loss: 0.0384 - accuracy: 0.9899 - val_loss: 0.0504 - val_accuracy: 0.9766\n",
            "Epoch 49/100\n",
            "13/13 [==============================] - 0s 4ms/step - loss: 0.0376 - accuracy: 0.9899 - val_loss: 0.0506 - val_accuracy: 0.9766\n",
            "Epoch 50/100\n",
            "13/13 [==============================] - 0s 4ms/step - loss: 0.0367 - accuracy: 0.9899 - val_loss: 0.0500 - val_accuracy: 0.9825\n",
            "Epoch 51/100\n",
            "13/13 [==============================] - 0s 4ms/step - loss: 0.0363 - accuracy: 0.9899 - val_loss: 0.0505 - val_accuracy: 0.9766\n",
            "Epoch 52/100\n",
            "13/13 [==============================] - 0s 4ms/step - loss: 0.0352 - accuracy: 0.9899 - val_loss: 0.0497 - val_accuracy: 0.9825\n",
            "Epoch 53/100\n",
            "13/13 [==============================] - 0s 4ms/step - loss: 0.0343 - accuracy: 0.9899 - val_loss: 0.0505 - val_accuracy: 0.9766\n",
            "Epoch 54/100\n",
            "13/13 [==============================] - 0s 5ms/step - loss: 0.0336 - accuracy: 0.9899 - val_loss: 0.0511 - val_accuracy: 0.9766\n",
            "Epoch 55/100\n",
            "13/13 [==============================] - 0s 6ms/step - loss: 0.0329 - accuracy: 0.9899 - val_loss: 0.0515 - val_accuracy: 0.9766\n",
            "Epoch 56/100\n",
            "13/13 [==============================] - 0s 4ms/step - loss: 0.0322 - accuracy: 0.9899 - val_loss: 0.0514 - val_accuracy: 0.9766\n",
            "Epoch 57/100\n",
            "13/13 [==============================] - 0s 4ms/step - loss: 0.0313 - accuracy: 0.9899 - val_loss: 0.0520 - val_accuracy: 0.9766\n",
            "Epoch 58/100\n",
            "13/13 [==============================] - 0s 4ms/step - loss: 0.0308 - accuracy: 0.9899 - val_loss: 0.0528 - val_accuracy: 0.9766\n",
            "Epoch 59/100\n",
            "13/13 [==============================] - 0s 5ms/step - loss: 0.0302 - accuracy: 0.9925 - val_loss: 0.0524 - val_accuracy: 0.9766\n",
            "Epoch 60/100\n",
            "13/13 [==============================] - 0s 5ms/step - loss: 0.0298 - accuracy: 0.9899 - val_loss: 0.0526 - val_accuracy: 0.9825\n",
            "Epoch 61/100\n",
            "13/13 [==============================] - 0s 5ms/step - loss: 0.0290 - accuracy: 0.9899 - val_loss: 0.0542 - val_accuracy: 0.9766\n",
            "Epoch 62/100\n",
            "13/13 [==============================] - 0s 4ms/step - loss: 0.0283 - accuracy: 0.9925 - val_loss: 0.0539 - val_accuracy: 0.9766\n",
            "Epoch 63/100\n",
            "13/13 [==============================] - 0s 5ms/step - loss: 0.0278 - accuracy: 0.9925 - val_loss: 0.0543 - val_accuracy: 0.9766\n",
            "Epoch 64/100\n",
            "13/13 [==============================] - 0s 5ms/step - loss: 0.0274 - accuracy: 0.9925 - val_loss: 0.0551 - val_accuracy: 0.9766\n",
            "Epoch 65/100\n",
            "13/13 [==============================] - 0s 4ms/step - loss: 0.0267 - accuracy: 0.9925 - val_loss: 0.0557 - val_accuracy: 0.9766\n",
            "Epoch 66/100\n",
            "13/13 [==============================] - 0s 5ms/step - loss: 0.0263 - accuracy: 0.9925 - val_loss: 0.0567 - val_accuracy: 0.9766\n",
            "Epoch 67/100\n",
            "13/13 [==============================] - 0s 5ms/step - loss: 0.0257 - accuracy: 0.9925 - val_loss: 0.0554 - val_accuracy: 0.9766\n",
            "Epoch 68/100\n",
            "13/13 [==============================] - 0s 5ms/step - loss: 0.0252 - accuracy: 0.9925 - val_loss: 0.0554 - val_accuracy: 0.9766\n",
            "Epoch 69/100\n",
            "13/13 [==============================] - 0s 5ms/step - loss: 0.0248 - accuracy: 0.9925 - val_loss: 0.0575 - val_accuracy: 0.9766\n",
            "Epoch 70/100\n",
            "13/13 [==============================] - 0s 5ms/step - loss: 0.0246 - accuracy: 0.9925 - val_loss: 0.0574 - val_accuracy: 0.9708\n",
            "Epoch 71/100\n",
            "13/13 [==============================] - 0s 4ms/step - loss: 0.0238 - accuracy: 0.9950 - val_loss: 0.0592 - val_accuracy: 0.9766\n",
            "Epoch 72/100\n",
            "13/13 [==============================] - 0s 5ms/step - loss: 0.0233 - accuracy: 0.9950 - val_loss: 0.0588 - val_accuracy: 0.9766\n",
            "Epoch 73/100\n",
            "13/13 [==============================] - 0s 5ms/step - loss: 0.0226 - accuracy: 0.9950 - val_loss: 0.0591 - val_accuracy: 0.9766\n",
            "Epoch 74/100\n",
            "13/13 [==============================] - 0s 7ms/step - loss: 0.0222 - accuracy: 0.9950 - val_loss: 0.0588 - val_accuracy: 0.9766\n",
            "Epoch 75/100\n",
            "13/13 [==============================] - 0s 4ms/step - loss: 0.0218 - accuracy: 0.9950 - val_loss: 0.0619 - val_accuracy: 0.9766\n",
            "Epoch 76/100\n",
            "13/13 [==============================] - 0s 4ms/step - loss: 0.0214 - accuracy: 0.9950 - val_loss: 0.0655 - val_accuracy: 0.9766\n",
            "Epoch 77/100\n",
            "13/13 [==============================] - 0s 4ms/step - loss: 0.0209 - accuracy: 0.9950 - val_loss: 0.0663 - val_accuracy: 0.9766\n",
            "Epoch 78/100\n",
            "13/13 [==============================] - 0s 5ms/step - loss: 0.0206 - accuracy: 0.9950 - val_loss: 0.0647 - val_accuracy: 0.9766\n",
            "Epoch 79/100\n",
            "13/13 [==============================] - 0s 4ms/step - loss: 0.0200 - accuracy: 0.9950 - val_loss: 0.0648 - val_accuracy: 0.9766\n",
            "Epoch 80/100\n",
            "13/13 [==============================] - 0s 4ms/step - loss: 0.0197 - accuracy: 0.9950 - val_loss: 0.0654 - val_accuracy: 0.9766\n",
            "Epoch 81/100\n",
            "13/13 [==============================] - 0s 4ms/step - loss: 0.0194 - accuracy: 0.9950 - val_loss: 0.0646 - val_accuracy: 0.9766\n",
            "Epoch 82/100\n",
            "13/13 [==============================] - 0s 6ms/step - loss: 0.0189 - accuracy: 0.9950 - val_loss: 0.0654 - val_accuracy: 0.9766\n",
            "Epoch 83/100\n",
            "13/13 [==============================] - 0s 5ms/step - loss: 0.0187 - accuracy: 0.9950 - val_loss: 0.0647 - val_accuracy: 0.9766\n",
            "Epoch 84/100\n",
            "13/13 [==============================] - 0s 5ms/step - loss: 0.0184 - accuracy: 0.9950 - val_loss: 0.0665 - val_accuracy: 0.9766\n",
            "Epoch 85/100\n",
            "13/13 [==============================] - 0s 5ms/step - loss: 0.0179 - accuracy: 0.9950 - val_loss: 0.0675 - val_accuracy: 0.9766\n",
            "Epoch 86/100\n",
            "13/13 [==============================] - 0s 6ms/step - loss: 0.0178 - accuracy: 0.9950 - val_loss: 0.0684 - val_accuracy: 0.9766\n",
            "Epoch 87/100\n",
            "13/13 [==============================] - 0s 5ms/step - loss: 0.0174 - accuracy: 0.9950 - val_loss: 0.0686 - val_accuracy: 0.9766\n",
            "Epoch 88/100\n",
            "13/13 [==============================] - 0s 4ms/step - loss: 0.0169 - accuracy: 0.9950 - val_loss: 0.0692 - val_accuracy: 0.9766\n",
            "Epoch 89/100\n",
            "13/13 [==============================] - 0s 5ms/step - loss: 0.0166 - accuracy: 0.9950 - val_loss: 0.0692 - val_accuracy: 0.9766\n",
            "Epoch 90/100\n",
            "13/13 [==============================] - 0s 5ms/step - loss: 0.0164 - accuracy: 0.9950 - val_loss: 0.0699 - val_accuracy: 0.9766\n",
            "Epoch 91/100\n",
            "13/13 [==============================] - 0s 5ms/step - loss: 0.0162 - accuracy: 0.9950 - val_loss: 0.0701 - val_accuracy: 0.9766\n",
            "Epoch 92/100\n",
            "13/13 [==============================] - 0s 4ms/step - loss: 0.0158 - accuracy: 0.9950 - val_loss: 0.0698 - val_accuracy: 0.9766\n",
            "Epoch 93/100\n",
            "13/13 [==============================] - 0s 5ms/step - loss: 0.0154 - accuracy: 0.9950 - val_loss: 0.0707 - val_accuracy: 0.9766\n",
            "Epoch 94/100\n",
            "13/13 [==============================] - 0s 5ms/step - loss: 0.0152 - accuracy: 0.9975 - val_loss: 0.0732 - val_accuracy: 0.9766\n",
            "Epoch 95/100\n",
            "13/13 [==============================] - 0s 4ms/step - loss: 0.0149 - accuracy: 0.9975 - val_loss: 0.0739 - val_accuracy: 0.9766\n",
            "Epoch 96/100\n",
            "13/13 [==============================] - 0s 4ms/step - loss: 0.0146 - accuracy: 0.9975 - val_loss: 0.0751 - val_accuracy: 0.9766\n",
            "Epoch 97/100\n",
            "13/13 [==============================] - 0s 4ms/step - loss: 0.0144 - accuracy: 0.9975 - val_loss: 0.0749 - val_accuracy: 0.9766\n",
            "Epoch 98/100\n",
            "13/13 [==============================] - 0s 4ms/step - loss: 0.0141 - accuracy: 0.9975 - val_loss: 0.0756 - val_accuracy: 0.9766\n",
            "Epoch 99/100\n",
            "13/13 [==============================] - 0s 5ms/step - loss: 0.0139 - accuracy: 0.9975 - val_loss: 0.0773 - val_accuracy: 0.9766\n",
            "Epoch 100/100\n",
            "13/13 [==============================] - 0s 4ms/step - loss: 0.0136 - accuracy: 0.9975 - val_loss: 0.0788 - val_accuracy: 0.9766\n"
          ]
        },
        {
          "output_type": "execute_result",
          "data": {
            "text/plain": [
              "<keras.callbacks.History at 0x7f0899808650>"
            ]
          },
          "metadata": {},
          "execution_count": 127
        }
      ]
    },
    {
      "cell_type": "code",
      "metadata": {
        "colab": {
          "base_uri": "https://localhost:8080/"
        },
        "id": "V_qbPYocYlzT",
        "outputId": "fb165302-f6cb-4b0b-b69a-5645b6d6f44d"
      },
      "source": [
        "# Compute predictions of X_test, here it is a 2 dimensional array: for each datapoint we get the probability of \n",
        "# it belonging to class 0 and to class 1. Note: compare the output to the previous yhat. Previously with 1 output neuron, \n",
        "#we got the prob only for class 1.  \n",
        "yhat = model.predict(X_test)\n",
        "yhat"
      ],
      "execution_count": 128,
      "outputs": [
        {
          "output_type": "execute_result",
          "data": {
            "text/plain": [
              "array([[1.95391849e-02, 9.80460823e-01],\n",
              "       [1.00000000e+00, 4.18655692e-12],\n",
              "       [1.00000000e+00, 1.47374335e-08],\n",
              "       [6.29030546e-05, 9.99937057e-01],\n",
              "       [9.27261226e-06, 9.99990702e-01],\n",
              "       [1.00000000e+00, 6.60413752e-28],\n",
              "       [1.00000000e+00, 6.54429515e-22],\n",
              "       [9.99932170e-01, 6.77804637e-05],\n",
              "       [7.57163405e-01, 2.42836580e-01],\n",
              "       [4.34116737e-05, 9.99956608e-01],\n",
              "       [4.24893051e-02, 9.57510769e-01],\n",
              "       [9.99961972e-01, 3.80745587e-05],\n",
              "       [1.54742191e-03, 9.98452544e-01],\n",
              "       [9.99711096e-01, 2.88920564e-04],\n",
              "       [3.23613858e-05, 9.99967694e-01],\n",
              "       [9.99999166e-01, 8.16380066e-07],\n",
              "       [6.33589661e-05, 9.99936581e-01],\n",
              "       [4.51023652e-06, 9.99995470e-01],\n",
              "       [5.50071718e-07, 9.99999404e-01],\n",
              "       [1.00000000e+00, 3.45875607e-16],\n",
              "       [3.04132774e-02, 9.69586670e-01],\n",
              "       [2.48600822e-03, 9.97514009e-01],\n",
              "       [1.00000000e+00, 1.00184445e-22],\n",
              "       [1.08735039e-04, 9.99891281e-01],\n",
              "       [3.48434638e-04, 9.99651551e-01],\n",
              "       [1.90698302e-05, 9.99980927e-01],\n",
              "       [2.14848878e-05, 9.99978542e-01],\n",
              "       [1.39737350e-03, 9.98602688e-01],\n",
              "       [9.56545409e-04, 9.99043405e-01],\n",
              "       [1.00000000e+00, 6.49482977e-14],\n",
              "       [2.52377969e-04, 9.99747574e-01],\n",
              "       [1.39559434e-05, 9.99986053e-01],\n",
              "       [2.19948997e-04, 9.99780118e-01],\n",
              "       [9.02043481e-04, 9.99097943e-01],\n",
              "       [3.04042442e-05, 9.99969602e-01],\n",
              "       [1.26939500e-04, 9.99873042e-01],\n",
              "       [9.81027842e-01, 1.89722329e-02],\n",
              "       [1.04889681e-04, 9.99895096e-01],\n",
              "       [1.00000000e+00, 1.75126039e-10],\n",
              "       [1.51744848e-02, 9.84825552e-01],\n",
              "       [2.48255856e-05, 9.99975204e-01],\n",
              "       [1.00000000e+00, 2.74092322e-08],\n",
              "       [4.58079230e-05, 9.99954224e-01],\n",
              "       [2.40658032e-04, 9.99759376e-01],\n",
              "       [4.50532250e-02, 9.54946816e-01],\n",
              "       [1.72265675e-02, 9.82773423e-01],\n",
              "       [3.87590035e-06, 9.99996066e-01],\n",
              "       [1.91255391e-03, 9.98087466e-01],\n",
              "       [1.31193697e-02, 9.86880660e-01],\n",
              "       [2.35785083e-05, 9.99976397e-01],\n",
              "       [1.00000000e+00, 1.15316472e-10],\n",
              "       [1.00000000e+00, 6.96645618e-19],\n",
              "       [3.12099338e-01, 6.87900662e-01],\n",
              "       [4.45554182e-02, 9.55444634e-01],\n",
              "       [1.27331268e-05, 9.99987245e-01],\n",
              "       [6.74696348e-04, 9.99325275e-01],\n",
              "       [2.79546894e-05, 9.99971986e-01],\n",
              "       [1.00000000e+00, 9.56274195e-28],\n",
              "       [9.99948621e-01, 5.13879386e-05],\n",
              "       [2.81810321e-06, 9.99997139e-01],\n",
              "       [1.43500802e-03, 9.98565018e-01],\n",
              "       [1.00000000e+00, 3.17899638e-17],\n",
              "       [1.00000000e+00, 4.41519042e-21],\n",
              "       [2.59109512e-02, 9.74089026e-01],\n",
              "       [4.29679436e-04, 9.99570310e-01],\n",
              "       [9.19748768e-02, 9.08025086e-01],\n",
              "       [1.00000000e+00, 1.06546589e-14],\n",
              "       [1.00000000e+00, 3.68806371e-26],\n",
              "       [3.41961073e-04, 9.99657989e-01],\n",
              "       [1.07255392e-03, 9.98927414e-01],\n",
              "       [9.99999881e-01, 1.46678943e-07],\n",
              "       [1.00000000e+00, 4.53543336e-08],\n",
              "       [6.09132461e-04, 9.99390841e-01],\n",
              "       [1.00000000e+00, 2.26948114e-08],\n",
              "       [8.43629605e-05, 9.99915600e-01],\n",
              "       [2.09215970e-04, 9.99790847e-01],\n",
              "       [2.82574054e-02, 9.71742630e-01],\n",
              "       [9.53848064e-01, 4.61519510e-02],\n",
              "       [3.66570839e-06, 9.99996305e-01],\n",
              "       [1.43915982e-04, 9.99856114e-01],\n",
              "       [9.99999762e-01, 2.76952505e-07],\n",
              "       [1.06674270e-05, 9.99989390e-01],\n",
              "       [9.74740863e-01, 2.52591204e-02],\n",
              "       [1.00000000e+00, 3.26636721e-21],\n",
              "       [9.99939561e-01, 6.04320194e-05],\n",
              "       [1.00000000e+00, 4.14305153e-11],\n",
              "       [1.00000000e+00, 9.27604348e-13],\n",
              "       [1.00000000e+00, 3.61022723e-09],\n",
              "       [2.82148576e-05, 9.99971747e-01],\n",
              "       [1.26368040e-03, 9.98736322e-01],\n",
              "       [8.73688201e-04, 9.99126375e-01],\n",
              "       [8.52892697e-01, 1.47107333e-01],\n",
              "       [7.78848818e-03, 9.92211580e-01],\n",
              "       [3.08046612e-04, 9.99691963e-01],\n",
              "       [1.59553092e-04, 9.99840379e-01],\n",
              "       [1.67822891e-05, 9.99983191e-01],\n",
              "       [1.00000000e+00, 1.76651188e-13],\n",
              "       [1.00000000e+00, 1.25787397e-16],\n",
              "       [1.58948728e-06, 9.99998450e-01],\n",
              "       [9.99999881e-01, 6.60586679e-08],\n",
              "       [9.99998808e-01, 1.15400189e-06],\n",
              "       [5.62393403e-08, 1.00000000e+00],\n",
              "       [1.00000000e+00, 2.79241165e-14],\n",
              "       [1.00000000e+00, 1.15220899e-09],\n",
              "       [2.09726710e-02, 9.79027390e-01],\n",
              "       [1.86698303e-01, 8.13301682e-01],\n",
              "       [1.77869899e-03, 9.98221338e-01],\n",
              "       [1.00000000e+00, 6.33368772e-22],\n",
              "       [2.16883700e-03, 9.97831166e-01],\n",
              "       [3.59639414e-02, 9.64036047e-01],\n",
              "       [1.00000000e+00, 1.33925058e-08],\n",
              "       [1.18157259e-04, 9.99881864e-01],\n",
              "       [1.14221452e-02, 9.88577843e-01],\n",
              "       [1.00000000e+00, 5.36160477e-24],\n",
              "       [9.87473965e-01, 1.25260865e-02],\n",
              "       [1.00000000e+00, 6.31862281e-24],\n",
              "       [5.18248441e-07, 9.99999523e-01],\n",
              "       [4.55899052e-02, 9.54410076e-01],\n",
              "       [1.69280156e-05, 9.99983072e-01],\n",
              "       [1.00000000e+00, 1.85853177e-12],\n",
              "       [1.60839912e-02, 9.83915985e-01],\n",
              "       [2.59260614e-05, 9.99974132e-01],\n",
              "       [4.95548244e-04, 9.99504447e-01],\n",
              "       [1.00000000e+00, 7.53141716e-11],\n",
              "       [1.64138675e-02, 9.83586133e-01],\n",
              "       [1.00000000e+00, 5.03439961e-16],\n",
              "       [1.00000000e+00, 2.36182410e-11],\n",
              "       [2.02140058e-04, 9.99797881e-01],\n",
              "       [1.44348349e-04, 9.99855638e-01],\n",
              "       [1.00000000e+00, 1.70532593e-15],\n",
              "       [1.00000000e+00, 1.27704472e-23],\n",
              "       [1.00000000e+00, 2.22219441e-17],\n",
              "       [1.97522994e-03, 9.98024821e-01],\n",
              "       [2.96221318e-04, 9.99703705e-01],\n",
              "       [2.11383076e-03, 9.97886121e-01],\n",
              "       [1.00000000e+00, 4.45346121e-10],\n",
              "       [3.81489962e-01, 6.18510067e-01],\n",
              "       [1.79960299e-03, 9.98200417e-01],\n",
              "       [7.97934532e-02, 9.20206487e-01],\n",
              "       [1.00000000e+00, 1.30907740e-09],\n",
              "       [1.20689324e-03, 9.98793125e-01],\n",
              "       [1.00000000e+00, 4.08237543e-19],\n",
              "       [5.79273149e-07, 9.99999404e-01],\n",
              "       [6.34587309e-07, 9.99999404e-01],\n",
              "       [1.00000000e+00, 7.61408625e-09],\n",
              "       [5.42144553e-05, 9.99945760e-01],\n",
              "       [1.00000000e+00, 2.91181772e-14],\n",
              "       [1.00000000e+00, 9.54421902e-15],\n",
              "       [9.97149885e-01, 2.85013323e-03],\n",
              "       [7.52795677e-05, 9.99924660e-01],\n",
              "       [9.99625802e-01, 3.74164083e-04],\n",
              "       [7.03236356e-06, 9.99992967e-01],\n",
              "       [2.78023748e-07, 9.99999762e-01],\n",
              "       [1.09517444e-02, 9.89048302e-01],\n",
              "       [4.24238067e-04, 9.99575794e-01],\n",
              "       [1.00000000e+00, 2.71102724e-34],\n",
              "       [1.00000000e+00, 1.31949243e-10],\n",
              "       [3.30305484e-05, 9.99966979e-01],\n",
              "       [1.14405586e-03, 9.98855948e-01],\n",
              "       [1.44374064e-06, 9.99998569e-01],\n",
              "       [7.81789204e-05, 9.99921799e-01],\n",
              "       [7.35737149e-06, 9.99992609e-01],\n",
              "       [5.99520972e-05, 9.99940038e-01],\n",
              "       [1.21352205e-04, 9.99878645e-01],\n",
              "       [9.40215588e-01, 5.97844608e-02],\n",
              "       [3.91914509e-05, 9.99960780e-01],\n",
              "       [4.75046400e-05, 9.99952435e-01],\n",
              "       [3.39292079e-01, 6.60707891e-01],\n",
              "       [1.62223532e-05, 9.99983788e-01],\n",
              "       [9.99992251e-01, 7.68989503e-06],\n",
              "       [1.95542088e-04, 9.99804437e-01]], dtype=float32)"
            ]
          },
          "metadata": {},
          "execution_count": 128
        }
      ]
    },
    {
      "cell_type": "code",
      "metadata": {
        "colab": {
          "base_uri": "https://localhost:8080/"
        },
        "id": "wQX8vT_Ba7Oo",
        "outputId": "86937fb0-0def-4867-c017-b34c33f42e5d"
      },
      "source": [
        "# Finding the most probable class\n",
        "yhat_c = np.argmax(yhat, axis=1)\n",
        "print(yhat_c)"
      ],
      "execution_count": 116,
      "outputs": [
        {
          "output_type": "stream",
          "name": "stdout",
          "text": [
            "[1 0 0 1 1 0 0 0 1 1 1 0 1 0 1 0 1 1 1 0 1 1 0 1 1 1 1 1 1 0 1 1 1 1 1 1 0\n",
            " 1 0 1 1 0 1 1 1 1 1 1 1 1 0 0 1 1 1 1 1 0 0 1 1 0 0 1 1 1 0 0 1 1 0 0 1 0\n",
            " 1 1 1 0 1 1 0 1 0 0 0 0 0 0 1 1 1 1 1 1 1 1 0 0 1 0 0 1 0 0 1 1 1 0 1 1 0\n",
            " 1 1 0 1 0 1 1 1 0 1 1 1 0 1 0 0 1 1 0 0 0 1 1 1 0 1 1 1 0 1 0 1 1 0 1 0 0\n",
            " 0 1 0 1 1 1 1 0 0 1 1 1 1 1 1 1 0 1 1 1 1 0 1]\n"
          ]
        }
      ]
    },
    {
      "cell_type": "code",
      "metadata": {
        "colab": {
          "base_uri": "https://localhost:8080/"
        },
        "id": "GN4rFkDaf6ra",
        "outputId": "f03a3662-bf6c-4d4d-dd83-0a845af719d9"
      },
      "source": [
        "y_test.shape"
      ],
      "execution_count": 118,
      "outputs": [
        {
          "output_type": "execute_result",
          "data": {
            "text/plain": [
              "(171, 2)"
            ]
          },
          "metadata": {},
          "execution_count": 118
        }
      ]
    },
    {
      "cell_type": "code",
      "metadata": {
        "id": "tN-k2DKagSS0"
      },
      "source": [
        "true_label = np.argmax(y_test,axis = 1)\n"
      ],
      "execution_count": 119,
      "outputs": []
    },
    {
      "cell_type": "code",
      "metadata": {
        "colab": {
          "base_uri": "https://localhost:8080/"
        },
        "id": "ySv8R9k8eCMG",
        "outputId": "66f9873e-248c-42a5-81d0-11f069d0047c"
      },
      "source": [
        "\n",
        "cm = confusion_matrix(true_label,yhat_c)\n",
        "\n",
        "score = accuracy_score(true_label,yhat_c)\n",
        "print(cm)\n",
        "print('score is:',score)\n"
      ],
      "execution_count": 120,
      "outputs": [
        {
          "output_type": "stream",
          "name": "stdout",
          "text": [
            "[[ 62   1]\n",
            " [  0 108]]\n",
            "score is: 0.9941520467836257\n"
          ]
        }
      ]
    },
    {
      "cell_type": "code",
      "metadata": {
        "id": "k7haMDK_gbaX"
      },
      "source": [
        ""
      ],
      "execution_count": null,
      "outputs": []
    },
    {
      "cell_type": "code",
      "metadata": {
        "id": "psLQ4es7gtzA"
      },
      "source": [
        ""
      ],
      "execution_count": null,
      "outputs": []
    }
  ]
}
