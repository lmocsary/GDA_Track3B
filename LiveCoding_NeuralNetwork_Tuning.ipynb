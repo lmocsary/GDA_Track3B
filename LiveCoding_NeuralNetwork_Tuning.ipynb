{
  "nbformat": 4,
  "nbformat_minor": 0,
  "metadata": {
    "colab": {
      "name": "LiveCoding_NeuralNetwork_Tuning.ipynb",
      "provenance": []
    },
    "kernelspec": {
      "name": "python3",
      "display_name": "Python 3"
    },
    "language_info": {
      "name": "python"
    }
  },
  "cells": [
    {
      "cell_type": "markdown",
      "metadata": {
        "id": "ODd9tapofttG"
      },
      "source": [
        "Using NN for the Classification Task of handwritten digits"
      ]
    },
    {
      "cell_type": "code",
      "metadata": {
        "colab": {
          "base_uri": "https://localhost:8080/"
        },
        "id": "gpNAPcrGdSVT",
        "outputId": "0a2e0e4d-a6cc-411a-96bf-ab8563d6a1f4"
      },
      "source": [
        "# hand written digits\n",
        "from google.colab import drive\n",
        "drive.mount('/content/drive')\n",
        "import numpy as np"
      ],
      "execution_count": 2,
      "outputs": [
        {
          "output_type": "stream",
          "name": "stdout",
          "text": [
            "Mounted at /content/drive\n"
          ]
        }
      ]
    },
    {
      "cell_type": "code",
      "metadata": {
        "id": "jfJUn1Zze_jE"
      },
      "source": [
        "path=\"/content/drive/My Drive/Colab Notebooks/WCS/\""
      ],
      "execution_count": 3,
      "outputs": []
    },
    {
      "cell_type": "code",
      "metadata": {
        "colab": {
          "base_uri": "https://localhost:8080/",
          "height": 437
        },
        "id": "J_pg776_fKb7",
        "outputId": "209c8275-7f9a-4c3f-bd46-f6a5d8bc1b2e"
      },
      "source": [
        "import pandas as pd\n",
        "train_data = pd.read_csv(path+'mnist_train_100.csv', header = None)\n",
        "#train_data.iloc[0]\n",
        "train_data"
      ],
      "execution_count": 4,
      "outputs": [
        {
          "output_type": "execute_result",
          "data": {
            "text/html": [
              "<div>\n",
              "<style scoped>\n",
              "    .dataframe tbody tr th:only-of-type {\n",
              "        vertical-align: middle;\n",
              "    }\n",
              "\n",
              "    .dataframe tbody tr th {\n",
              "        vertical-align: top;\n",
              "    }\n",
              "\n",
              "    .dataframe thead th {\n",
              "        text-align: right;\n",
              "    }\n",
              "</style>\n",
              "<table border=\"1\" class=\"dataframe\">\n",
              "  <thead>\n",
              "    <tr style=\"text-align: right;\">\n",
              "      <th></th>\n",
              "      <th>0</th>\n",
              "      <th>1</th>\n",
              "      <th>2</th>\n",
              "      <th>3</th>\n",
              "      <th>4</th>\n",
              "      <th>5</th>\n",
              "      <th>6</th>\n",
              "      <th>7</th>\n",
              "      <th>8</th>\n",
              "      <th>9</th>\n",
              "      <th>10</th>\n",
              "      <th>11</th>\n",
              "      <th>12</th>\n",
              "      <th>13</th>\n",
              "      <th>14</th>\n",
              "      <th>15</th>\n",
              "      <th>16</th>\n",
              "      <th>17</th>\n",
              "      <th>18</th>\n",
              "      <th>19</th>\n",
              "      <th>20</th>\n",
              "      <th>21</th>\n",
              "      <th>22</th>\n",
              "      <th>23</th>\n",
              "      <th>24</th>\n",
              "      <th>25</th>\n",
              "      <th>26</th>\n",
              "      <th>27</th>\n",
              "      <th>28</th>\n",
              "      <th>29</th>\n",
              "      <th>30</th>\n",
              "      <th>31</th>\n",
              "      <th>32</th>\n",
              "      <th>33</th>\n",
              "      <th>34</th>\n",
              "      <th>35</th>\n",
              "      <th>36</th>\n",
              "      <th>37</th>\n",
              "      <th>38</th>\n",
              "      <th>39</th>\n",
              "      <th>...</th>\n",
              "      <th>745</th>\n",
              "      <th>746</th>\n",
              "      <th>747</th>\n",
              "      <th>748</th>\n",
              "      <th>749</th>\n",
              "      <th>750</th>\n",
              "      <th>751</th>\n",
              "      <th>752</th>\n",
              "      <th>753</th>\n",
              "      <th>754</th>\n",
              "      <th>755</th>\n",
              "      <th>756</th>\n",
              "      <th>757</th>\n",
              "      <th>758</th>\n",
              "      <th>759</th>\n",
              "      <th>760</th>\n",
              "      <th>761</th>\n",
              "      <th>762</th>\n",
              "      <th>763</th>\n",
              "      <th>764</th>\n",
              "      <th>765</th>\n",
              "      <th>766</th>\n",
              "      <th>767</th>\n",
              "      <th>768</th>\n",
              "      <th>769</th>\n",
              "      <th>770</th>\n",
              "      <th>771</th>\n",
              "      <th>772</th>\n",
              "      <th>773</th>\n",
              "      <th>774</th>\n",
              "      <th>775</th>\n",
              "      <th>776</th>\n",
              "      <th>777</th>\n",
              "      <th>778</th>\n",
              "      <th>779</th>\n",
              "      <th>780</th>\n",
              "      <th>781</th>\n",
              "      <th>782</th>\n",
              "      <th>783</th>\n",
              "      <th>784</th>\n",
              "    </tr>\n",
              "  </thead>\n",
              "  <tbody>\n",
              "    <tr>\n",
              "      <th>0</th>\n",
              "      <td>5</td>\n",
              "      <td>0</td>\n",
              "      <td>0</td>\n",
              "      <td>0</td>\n",
              "      <td>0</td>\n",
              "      <td>0</td>\n",
              "      <td>0</td>\n",
              "      <td>0</td>\n",
              "      <td>0</td>\n",
              "      <td>0</td>\n",
              "      <td>0</td>\n",
              "      <td>0</td>\n",
              "      <td>0</td>\n",
              "      <td>0</td>\n",
              "      <td>0</td>\n",
              "      <td>0</td>\n",
              "      <td>0</td>\n",
              "      <td>0</td>\n",
              "      <td>0</td>\n",
              "      <td>0</td>\n",
              "      <td>0</td>\n",
              "      <td>0</td>\n",
              "      <td>0</td>\n",
              "      <td>0</td>\n",
              "      <td>0</td>\n",
              "      <td>0</td>\n",
              "      <td>0</td>\n",
              "      <td>0</td>\n",
              "      <td>0</td>\n",
              "      <td>0</td>\n",
              "      <td>0</td>\n",
              "      <td>0</td>\n",
              "      <td>0</td>\n",
              "      <td>0</td>\n",
              "      <td>0</td>\n",
              "      <td>0</td>\n",
              "      <td>0</td>\n",
              "      <td>0</td>\n",
              "      <td>0</td>\n",
              "      <td>0</td>\n",
              "      <td>...</td>\n",
              "      <td>0</td>\n",
              "      <td>0</td>\n",
              "      <td>0</td>\n",
              "      <td>0</td>\n",
              "      <td>0</td>\n",
              "      <td>0</td>\n",
              "      <td>0</td>\n",
              "      <td>0</td>\n",
              "      <td>0</td>\n",
              "      <td>0</td>\n",
              "      <td>0</td>\n",
              "      <td>0</td>\n",
              "      <td>0</td>\n",
              "      <td>0</td>\n",
              "      <td>0</td>\n",
              "      <td>0</td>\n",
              "      <td>0</td>\n",
              "      <td>0</td>\n",
              "      <td>0</td>\n",
              "      <td>0</td>\n",
              "      <td>0</td>\n",
              "      <td>0</td>\n",
              "      <td>0</td>\n",
              "      <td>0</td>\n",
              "      <td>0</td>\n",
              "      <td>0</td>\n",
              "      <td>0</td>\n",
              "      <td>0</td>\n",
              "      <td>0</td>\n",
              "      <td>0</td>\n",
              "      <td>0</td>\n",
              "      <td>0</td>\n",
              "      <td>0</td>\n",
              "      <td>0</td>\n",
              "      <td>0</td>\n",
              "      <td>0</td>\n",
              "      <td>0</td>\n",
              "      <td>0</td>\n",
              "      <td>0</td>\n",
              "      <td>0</td>\n",
              "    </tr>\n",
              "    <tr>\n",
              "      <th>1</th>\n",
              "      <td>0</td>\n",
              "      <td>0</td>\n",
              "      <td>0</td>\n",
              "      <td>0</td>\n",
              "      <td>0</td>\n",
              "      <td>0</td>\n",
              "      <td>0</td>\n",
              "      <td>0</td>\n",
              "      <td>0</td>\n",
              "      <td>0</td>\n",
              "      <td>0</td>\n",
              "      <td>0</td>\n",
              "      <td>0</td>\n",
              "      <td>0</td>\n",
              "      <td>0</td>\n",
              "      <td>0</td>\n",
              "      <td>0</td>\n",
              "      <td>0</td>\n",
              "      <td>0</td>\n",
              "      <td>0</td>\n",
              "      <td>0</td>\n",
              "      <td>0</td>\n",
              "      <td>0</td>\n",
              "      <td>0</td>\n",
              "      <td>0</td>\n",
              "      <td>0</td>\n",
              "      <td>0</td>\n",
              "      <td>0</td>\n",
              "      <td>0</td>\n",
              "      <td>0</td>\n",
              "      <td>0</td>\n",
              "      <td>0</td>\n",
              "      <td>0</td>\n",
              "      <td>0</td>\n",
              "      <td>0</td>\n",
              "      <td>0</td>\n",
              "      <td>0</td>\n",
              "      <td>0</td>\n",
              "      <td>0</td>\n",
              "      <td>0</td>\n",
              "      <td>...</td>\n",
              "      <td>0</td>\n",
              "      <td>0</td>\n",
              "      <td>0</td>\n",
              "      <td>0</td>\n",
              "      <td>0</td>\n",
              "      <td>0</td>\n",
              "      <td>0</td>\n",
              "      <td>0</td>\n",
              "      <td>0</td>\n",
              "      <td>0</td>\n",
              "      <td>0</td>\n",
              "      <td>0</td>\n",
              "      <td>0</td>\n",
              "      <td>0</td>\n",
              "      <td>0</td>\n",
              "      <td>0</td>\n",
              "      <td>0</td>\n",
              "      <td>0</td>\n",
              "      <td>0</td>\n",
              "      <td>0</td>\n",
              "      <td>0</td>\n",
              "      <td>0</td>\n",
              "      <td>0</td>\n",
              "      <td>0</td>\n",
              "      <td>0</td>\n",
              "      <td>0</td>\n",
              "      <td>0</td>\n",
              "      <td>0</td>\n",
              "      <td>0</td>\n",
              "      <td>0</td>\n",
              "      <td>0</td>\n",
              "      <td>0</td>\n",
              "      <td>0</td>\n",
              "      <td>0</td>\n",
              "      <td>0</td>\n",
              "      <td>0</td>\n",
              "      <td>0</td>\n",
              "      <td>0</td>\n",
              "      <td>0</td>\n",
              "      <td>0</td>\n",
              "    </tr>\n",
              "    <tr>\n",
              "      <th>2</th>\n",
              "      <td>4</td>\n",
              "      <td>0</td>\n",
              "      <td>0</td>\n",
              "      <td>0</td>\n",
              "      <td>0</td>\n",
              "      <td>0</td>\n",
              "      <td>0</td>\n",
              "      <td>0</td>\n",
              "      <td>0</td>\n",
              "      <td>0</td>\n",
              "      <td>0</td>\n",
              "      <td>0</td>\n",
              "      <td>0</td>\n",
              "      <td>0</td>\n",
              "      <td>0</td>\n",
              "      <td>0</td>\n",
              "      <td>0</td>\n",
              "      <td>0</td>\n",
              "      <td>0</td>\n",
              "      <td>0</td>\n",
              "      <td>0</td>\n",
              "      <td>0</td>\n",
              "      <td>0</td>\n",
              "      <td>0</td>\n",
              "      <td>0</td>\n",
              "      <td>0</td>\n",
              "      <td>0</td>\n",
              "      <td>0</td>\n",
              "      <td>0</td>\n",
              "      <td>0</td>\n",
              "      <td>0</td>\n",
              "      <td>0</td>\n",
              "      <td>0</td>\n",
              "      <td>0</td>\n",
              "      <td>0</td>\n",
              "      <td>0</td>\n",
              "      <td>0</td>\n",
              "      <td>0</td>\n",
              "      <td>0</td>\n",
              "      <td>0</td>\n",
              "      <td>...</td>\n",
              "      <td>0</td>\n",
              "      <td>0</td>\n",
              "      <td>0</td>\n",
              "      <td>0</td>\n",
              "      <td>0</td>\n",
              "      <td>0</td>\n",
              "      <td>0</td>\n",
              "      <td>0</td>\n",
              "      <td>0</td>\n",
              "      <td>0</td>\n",
              "      <td>0</td>\n",
              "      <td>0</td>\n",
              "      <td>0</td>\n",
              "      <td>0</td>\n",
              "      <td>0</td>\n",
              "      <td>0</td>\n",
              "      <td>0</td>\n",
              "      <td>0</td>\n",
              "      <td>0</td>\n",
              "      <td>0</td>\n",
              "      <td>0</td>\n",
              "      <td>0</td>\n",
              "      <td>0</td>\n",
              "      <td>0</td>\n",
              "      <td>0</td>\n",
              "      <td>0</td>\n",
              "      <td>0</td>\n",
              "      <td>0</td>\n",
              "      <td>0</td>\n",
              "      <td>0</td>\n",
              "      <td>0</td>\n",
              "      <td>0</td>\n",
              "      <td>0</td>\n",
              "      <td>0</td>\n",
              "      <td>0</td>\n",
              "      <td>0</td>\n",
              "      <td>0</td>\n",
              "      <td>0</td>\n",
              "      <td>0</td>\n",
              "      <td>0</td>\n",
              "    </tr>\n",
              "    <tr>\n",
              "      <th>3</th>\n",
              "      <td>1</td>\n",
              "      <td>0</td>\n",
              "      <td>0</td>\n",
              "      <td>0</td>\n",
              "      <td>0</td>\n",
              "      <td>0</td>\n",
              "      <td>0</td>\n",
              "      <td>0</td>\n",
              "      <td>0</td>\n",
              "      <td>0</td>\n",
              "      <td>0</td>\n",
              "      <td>0</td>\n",
              "      <td>0</td>\n",
              "      <td>0</td>\n",
              "      <td>0</td>\n",
              "      <td>0</td>\n",
              "      <td>0</td>\n",
              "      <td>0</td>\n",
              "      <td>0</td>\n",
              "      <td>0</td>\n",
              "      <td>0</td>\n",
              "      <td>0</td>\n",
              "      <td>0</td>\n",
              "      <td>0</td>\n",
              "      <td>0</td>\n",
              "      <td>0</td>\n",
              "      <td>0</td>\n",
              "      <td>0</td>\n",
              "      <td>0</td>\n",
              "      <td>0</td>\n",
              "      <td>0</td>\n",
              "      <td>0</td>\n",
              "      <td>0</td>\n",
              "      <td>0</td>\n",
              "      <td>0</td>\n",
              "      <td>0</td>\n",
              "      <td>0</td>\n",
              "      <td>0</td>\n",
              "      <td>0</td>\n",
              "      <td>0</td>\n",
              "      <td>...</td>\n",
              "      <td>0</td>\n",
              "      <td>0</td>\n",
              "      <td>0</td>\n",
              "      <td>0</td>\n",
              "      <td>0</td>\n",
              "      <td>0</td>\n",
              "      <td>0</td>\n",
              "      <td>0</td>\n",
              "      <td>0</td>\n",
              "      <td>0</td>\n",
              "      <td>0</td>\n",
              "      <td>0</td>\n",
              "      <td>0</td>\n",
              "      <td>0</td>\n",
              "      <td>0</td>\n",
              "      <td>0</td>\n",
              "      <td>0</td>\n",
              "      <td>0</td>\n",
              "      <td>0</td>\n",
              "      <td>0</td>\n",
              "      <td>0</td>\n",
              "      <td>0</td>\n",
              "      <td>0</td>\n",
              "      <td>0</td>\n",
              "      <td>0</td>\n",
              "      <td>0</td>\n",
              "      <td>0</td>\n",
              "      <td>0</td>\n",
              "      <td>0</td>\n",
              "      <td>0</td>\n",
              "      <td>0</td>\n",
              "      <td>0</td>\n",
              "      <td>0</td>\n",
              "      <td>0</td>\n",
              "      <td>0</td>\n",
              "      <td>0</td>\n",
              "      <td>0</td>\n",
              "      <td>0</td>\n",
              "      <td>0</td>\n",
              "      <td>0</td>\n",
              "    </tr>\n",
              "    <tr>\n",
              "      <th>4</th>\n",
              "      <td>9</td>\n",
              "      <td>0</td>\n",
              "      <td>0</td>\n",
              "      <td>0</td>\n",
              "      <td>0</td>\n",
              "      <td>0</td>\n",
              "      <td>0</td>\n",
              "      <td>0</td>\n",
              "      <td>0</td>\n",
              "      <td>0</td>\n",
              "      <td>0</td>\n",
              "      <td>0</td>\n",
              "      <td>0</td>\n",
              "      <td>0</td>\n",
              "      <td>0</td>\n",
              "      <td>0</td>\n",
              "      <td>0</td>\n",
              "      <td>0</td>\n",
              "      <td>0</td>\n",
              "      <td>0</td>\n",
              "      <td>0</td>\n",
              "      <td>0</td>\n",
              "      <td>0</td>\n",
              "      <td>0</td>\n",
              "      <td>0</td>\n",
              "      <td>0</td>\n",
              "      <td>0</td>\n",
              "      <td>0</td>\n",
              "      <td>0</td>\n",
              "      <td>0</td>\n",
              "      <td>0</td>\n",
              "      <td>0</td>\n",
              "      <td>0</td>\n",
              "      <td>0</td>\n",
              "      <td>0</td>\n",
              "      <td>0</td>\n",
              "      <td>0</td>\n",
              "      <td>0</td>\n",
              "      <td>0</td>\n",
              "      <td>0</td>\n",
              "      <td>...</td>\n",
              "      <td>147</td>\n",
              "      <td>252</td>\n",
              "      <td>42</td>\n",
              "      <td>0</td>\n",
              "      <td>0</td>\n",
              "      <td>0</td>\n",
              "      <td>0</td>\n",
              "      <td>0</td>\n",
              "      <td>0</td>\n",
              "      <td>0</td>\n",
              "      <td>0</td>\n",
              "      <td>0</td>\n",
              "      <td>0</td>\n",
              "      <td>0</td>\n",
              "      <td>0</td>\n",
              "      <td>0</td>\n",
              "      <td>0</td>\n",
              "      <td>0</td>\n",
              "      <td>0</td>\n",
              "      <td>0</td>\n",
              "      <td>0</td>\n",
              "      <td>0</td>\n",
              "      <td>0</td>\n",
              "      <td>0</td>\n",
              "      <td>0</td>\n",
              "      <td>0</td>\n",
              "      <td>0</td>\n",
              "      <td>0</td>\n",
              "      <td>0</td>\n",
              "      <td>0</td>\n",
              "      <td>0</td>\n",
              "      <td>0</td>\n",
              "      <td>0</td>\n",
              "      <td>0</td>\n",
              "      <td>0</td>\n",
              "      <td>0</td>\n",
              "      <td>0</td>\n",
              "      <td>0</td>\n",
              "      <td>0</td>\n",
              "      <td>0</td>\n",
              "    </tr>\n",
              "    <tr>\n",
              "      <th>...</th>\n",
              "      <td>...</td>\n",
              "      <td>...</td>\n",
              "      <td>...</td>\n",
              "      <td>...</td>\n",
              "      <td>...</td>\n",
              "      <td>...</td>\n",
              "      <td>...</td>\n",
              "      <td>...</td>\n",
              "      <td>...</td>\n",
              "      <td>...</td>\n",
              "      <td>...</td>\n",
              "      <td>...</td>\n",
              "      <td>...</td>\n",
              "      <td>...</td>\n",
              "      <td>...</td>\n",
              "      <td>...</td>\n",
              "      <td>...</td>\n",
              "      <td>...</td>\n",
              "      <td>...</td>\n",
              "      <td>...</td>\n",
              "      <td>...</td>\n",
              "      <td>...</td>\n",
              "      <td>...</td>\n",
              "      <td>...</td>\n",
              "      <td>...</td>\n",
              "      <td>...</td>\n",
              "      <td>...</td>\n",
              "      <td>...</td>\n",
              "      <td>...</td>\n",
              "      <td>...</td>\n",
              "      <td>...</td>\n",
              "      <td>...</td>\n",
              "      <td>...</td>\n",
              "      <td>...</td>\n",
              "      <td>...</td>\n",
              "      <td>...</td>\n",
              "      <td>...</td>\n",
              "      <td>...</td>\n",
              "      <td>...</td>\n",
              "      <td>...</td>\n",
              "      <td>...</td>\n",
              "      <td>...</td>\n",
              "      <td>...</td>\n",
              "      <td>...</td>\n",
              "      <td>...</td>\n",
              "      <td>...</td>\n",
              "      <td>...</td>\n",
              "      <td>...</td>\n",
              "      <td>...</td>\n",
              "      <td>...</td>\n",
              "      <td>...</td>\n",
              "      <td>...</td>\n",
              "      <td>...</td>\n",
              "      <td>...</td>\n",
              "      <td>...</td>\n",
              "      <td>...</td>\n",
              "      <td>...</td>\n",
              "      <td>...</td>\n",
              "      <td>...</td>\n",
              "      <td>...</td>\n",
              "      <td>...</td>\n",
              "      <td>...</td>\n",
              "      <td>...</td>\n",
              "      <td>...</td>\n",
              "      <td>...</td>\n",
              "      <td>...</td>\n",
              "      <td>...</td>\n",
              "      <td>...</td>\n",
              "      <td>...</td>\n",
              "      <td>...</td>\n",
              "      <td>...</td>\n",
              "      <td>...</td>\n",
              "      <td>...</td>\n",
              "      <td>...</td>\n",
              "      <td>...</td>\n",
              "      <td>...</td>\n",
              "      <td>...</td>\n",
              "      <td>...</td>\n",
              "      <td>...</td>\n",
              "      <td>...</td>\n",
              "      <td>...</td>\n",
              "    </tr>\n",
              "    <tr>\n",
              "      <th>95</th>\n",
              "      <td>0</td>\n",
              "      <td>0</td>\n",
              "      <td>0</td>\n",
              "      <td>0</td>\n",
              "      <td>0</td>\n",
              "      <td>0</td>\n",
              "      <td>0</td>\n",
              "      <td>0</td>\n",
              "      <td>0</td>\n",
              "      <td>0</td>\n",
              "      <td>0</td>\n",
              "      <td>0</td>\n",
              "      <td>0</td>\n",
              "      <td>0</td>\n",
              "      <td>0</td>\n",
              "      <td>0</td>\n",
              "      <td>0</td>\n",
              "      <td>0</td>\n",
              "      <td>0</td>\n",
              "      <td>0</td>\n",
              "      <td>0</td>\n",
              "      <td>0</td>\n",
              "      <td>0</td>\n",
              "      <td>0</td>\n",
              "      <td>0</td>\n",
              "      <td>0</td>\n",
              "      <td>0</td>\n",
              "      <td>0</td>\n",
              "      <td>0</td>\n",
              "      <td>0</td>\n",
              "      <td>0</td>\n",
              "      <td>0</td>\n",
              "      <td>0</td>\n",
              "      <td>0</td>\n",
              "      <td>0</td>\n",
              "      <td>0</td>\n",
              "      <td>0</td>\n",
              "      <td>0</td>\n",
              "      <td>0</td>\n",
              "      <td>0</td>\n",
              "      <td>...</td>\n",
              "      <td>0</td>\n",
              "      <td>0</td>\n",
              "      <td>0</td>\n",
              "      <td>0</td>\n",
              "      <td>0</td>\n",
              "      <td>0</td>\n",
              "      <td>0</td>\n",
              "      <td>0</td>\n",
              "      <td>0</td>\n",
              "      <td>0</td>\n",
              "      <td>0</td>\n",
              "      <td>0</td>\n",
              "      <td>0</td>\n",
              "      <td>0</td>\n",
              "      <td>0</td>\n",
              "      <td>0</td>\n",
              "      <td>0</td>\n",
              "      <td>0</td>\n",
              "      <td>0</td>\n",
              "      <td>0</td>\n",
              "      <td>0</td>\n",
              "      <td>0</td>\n",
              "      <td>0</td>\n",
              "      <td>0</td>\n",
              "      <td>0</td>\n",
              "      <td>0</td>\n",
              "      <td>0</td>\n",
              "      <td>0</td>\n",
              "      <td>0</td>\n",
              "      <td>0</td>\n",
              "      <td>0</td>\n",
              "      <td>0</td>\n",
              "      <td>0</td>\n",
              "      <td>0</td>\n",
              "      <td>0</td>\n",
              "      <td>0</td>\n",
              "      <td>0</td>\n",
              "      <td>0</td>\n",
              "      <td>0</td>\n",
              "      <td>0</td>\n",
              "    </tr>\n",
              "    <tr>\n",
              "      <th>96</th>\n",
              "      <td>7</td>\n",
              "      <td>0</td>\n",
              "      <td>0</td>\n",
              "      <td>0</td>\n",
              "      <td>0</td>\n",
              "      <td>0</td>\n",
              "      <td>0</td>\n",
              "      <td>0</td>\n",
              "      <td>0</td>\n",
              "      <td>0</td>\n",
              "      <td>0</td>\n",
              "      <td>0</td>\n",
              "      <td>0</td>\n",
              "      <td>0</td>\n",
              "      <td>0</td>\n",
              "      <td>0</td>\n",
              "      <td>0</td>\n",
              "      <td>0</td>\n",
              "      <td>0</td>\n",
              "      <td>0</td>\n",
              "      <td>0</td>\n",
              "      <td>0</td>\n",
              "      <td>0</td>\n",
              "      <td>0</td>\n",
              "      <td>0</td>\n",
              "      <td>0</td>\n",
              "      <td>0</td>\n",
              "      <td>0</td>\n",
              "      <td>0</td>\n",
              "      <td>0</td>\n",
              "      <td>0</td>\n",
              "      <td>0</td>\n",
              "      <td>0</td>\n",
              "      <td>0</td>\n",
              "      <td>0</td>\n",
              "      <td>0</td>\n",
              "      <td>0</td>\n",
              "      <td>0</td>\n",
              "      <td>0</td>\n",
              "      <td>0</td>\n",
              "      <td>...</td>\n",
              "      <td>0</td>\n",
              "      <td>0</td>\n",
              "      <td>0</td>\n",
              "      <td>0</td>\n",
              "      <td>0</td>\n",
              "      <td>0</td>\n",
              "      <td>0</td>\n",
              "      <td>0</td>\n",
              "      <td>0</td>\n",
              "      <td>0</td>\n",
              "      <td>0</td>\n",
              "      <td>0</td>\n",
              "      <td>0</td>\n",
              "      <td>0</td>\n",
              "      <td>0</td>\n",
              "      <td>0</td>\n",
              "      <td>0</td>\n",
              "      <td>0</td>\n",
              "      <td>0</td>\n",
              "      <td>0</td>\n",
              "      <td>0</td>\n",
              "      <td>0</td>\n",
              "      <td>0</td>\n",
              "      <td>0</td>\n",
              "      <td>0</td>\n",
              "      <td>0</td>\n",
              "      <td>0</td>\n",
              "      <td>0</td>\n",
              "      <td>0</td>\n",
              "      <td>0</td>\n",
              "      <td>0</td>\n",
              "      <td>0</td>\n",
              "      <td>0</td>\n",
              "      <td>0</td>\n",
              "      <td>0</td>\n",
              "      <td>0</td>\n",
              "      <td>0</td>\n",
              "      <td>0</td>\n",
              "      <td>0</td>\n",
              "      <td>0</td>\n",
              "    </tr>\n",
              "    <tr>\n",
              "      <th>97</th>\n",
              "      <td>8</td>\n",
              "      <td>0</td>\n",
              "      <td>0</td>\n",
              "      <td>0</td>\n",
              "      <td>0</td>\n",
              "      <td>0</td>\n",
              "      <td>0</td>\n",
              "      <td>0</td>\n",
              "      <td>0</td>\n",
              "      <td>0</td>\n",
              "      <td>0</td>\n",
              "      <td>0</td>\n",
              "      <td>0</td>\n",
              "      <td>0</td>\n",
              "      <td>0</td>\n",
              "      <td>0</td>\n",
              "      <td>0</td>\n",
              "      <td>0</td>\n",
              "      <td>0</td>\n",
              "      <td>0</td>\n",
              "      <td>0</td>\n",
              "      <td>0</td>\n",
              "      <td>0</td>\n",
              "      <td>0</td>\n",
              "      <td>0</td>\n",
              "      <td>0</td>\n",
              "      <td>0</td>\n",
              "      <td>0</td>\n",
              "      <td>0</td>\n",
              "      <td>0</td>\n",
              "      <td>0</td>\n",
              "      <td>0</td>\n",
              "      <td>0</td>\n",
              "      <td>0</td>\n",
              "      <td>0</td>\n",
              "      <td>0</td>\n",
              "      <td>0</td>\n",
              "      <td>0</td>\n",
              "      <td>0</td>\n",
              "      <td>0</td>\n",
              "      <td>...</td>\n",
              "      <td>0</td>\n",
              "      <td>0</td>\n",
              "      <td>0</td>\n",
              "      <td>0</td>\n",
              "      <td>0</td>\n",
              "      <td>0</td>\n",
              "      <td>0</td>\n",
              "      <td>0</td>\n",
              "      <td>0</td>\n",
              "      <td>0</td>\n",
              "      <td>0</td>\n",
              "      <td>0</td>\n",
              "      <td>0</td>\n",
              "      <td>0</td>\n",
              "      <td>0</td>\n",
              "      <td>0</td>\n",
              "      <td>0</td>\n",
              "      <td>0</td>\n",
              "      <td>0</td>\n",
              "      <td>0</td>\n",
              "      <td>0</td>\n",
              "      <td>0</td>\n",
              "      <td>0</td>\n",
              "      <td>0</td>\n",
              "      <td>0</td>\n",
              "      <td>0</td>\n",
              "      <td>0</td>\n",
              "      <td>0</td>\n",
              "      <td>0</td>\n",
              "      <td>0</td>\n",
              "      <td>0</td>\n",
              "      <td>0</td>\n",
              "      <td>0</td>\n",
              "      <td>0</td>\n",
              "      <td>0</td>\n",
              "      <td>0</td>\n",
              "      <td>0</td>\n",
              "      <td>0</td>\n",
              "      <td>0</td>\n",
              "      <td>0</td>\n",
              "    </tr>\n",
              "    <tr>\n",
              "      <th>98</th>\n",
              "      <td>3</td>\n",
              "      <td>0</td>\n",
              "      <td>0</td>\n",
              "      <td>0</td>\n",
              "      <td>0</td>\n",
              "      <td>0</td>\n",
              "      <td>0</td>\n",
              "      <td>0</td>\n",
              "      <td>0</td>\n",
              "      <td>0</td>\n",
              "      <td>0</td>\n",
              "      <td>0</td>\n",
              "      <td>0</td>\n",
              "      <td>0</td>\n",
              "      <td>0</td>\n",
              "      <td>0</td>\n",
              "      <td>0</td>\n",
              "      <td>0</td>\n",
              "      <td>0</td>\n",
              "      <td>0</td>\n",
              "      <td>0</td>\n",
              "      <td>0</td>\n",
              "      <td>0</td>\n",
              "      <td>0</td>\n",
              "      <td>0</td>\n",
              "      <td>0</td>\n",
              "      <td>0</td>\n",
              "      <td>0</td>\n",
              "      <td>0</td>\n",
              "      <td>0</td>\n",
              "      <td>0</td>\n",
              "      <td>0</td>\n",
              "      <td>0</td>\n",
              "      <td>0</td>\n",
              "      <td>0</td>\n",
              "      <td>0</td>\n",
              "      <td>0</td>\n",
              "      <td>0</td>\n",
              "      <td>0</td>\n",
              "      <td>0</td>\n",
              "      <td>...</td>\n",
              "      <td>0</td>\n",
              "      <td>0</td>\n",
              "      <td>0</td>\n",
              "      <td>0</td>\n",
              "      <td>0</td>\n",
              "      <td>0</td>\n",
              "      <td>0</td>\n",
              "      <td>0</td>\n",
              "      <td>0</td>\n",
              "      <td>0</td>\n",
              "      <td>0</td>\n",
              "      <td>0</td>\n",
              "      <td>0</td>\n",
              "      <td>0</td>\n",
              "      <td>0</td>\n",
              "      <td>0</td>\n",
              "      <td>0</td>\n",
              "      <td>0</td>\n",
              "      <td>0</td>\n",
              "      <td>0</td>\n",
              "      <td>0</td>\n",
              "      <td>0</td>\n",
              "      <td>0</td>\n",
              "      <td>0</td>\n",
              "      <td>0</td>\n",
              "      <td>0</td>\n",
              "      <td>0</td>\n",
              "      <td>0</td>\n",
              "      <td>0</td>\n",
              "      <td>0</td>\n",
              "      <td>0</td>\n",
              "      <td>0</td>\n",
              "      <td>0</td>\n",
              "      <td>0</td>\n",
              "      <td>0</td>\n",
              "      <td>0</td>\n",
              "      <td>0</td>\n",
              "      <td>0</td>\n",
              "      <td>0</td>\n",
              "      <td>0</td>\n",
              "    </tr>\n",
              "    <tr>\n",
              "      <th>99</th>\n",
              "      <td>1</td>\n",
              "      <td>0</td>\n",
              "      <td>0</td>\n",
              "      <td>0</td>\n",
              "      <td>0</td>\n",
              "      <td>0</td>\n",
              "      <td>0</td>\n",
              "      <td>0</td>\n",
              "      <td>0</td>\n",
              "      <td>0</td>\n",
              "      <td>0</td>\n",
              "      <td>0</td>\n",
              "      <td>0</td>\n",
              "      <td>0</td>\n",
              "      <td>0</td>\n",
              "      <td>0</td>\n",
              "      <td>0</td>\n",
              "      <td>0</td>\n",
              "      <td>0</td>\n",
              "      <td>0</td>\n",
              "      <td>0</td>\n",
              "      <td>0</td>\n",
              "      <td>0</td>\n",
              "      <td>0</td>\n",
              "      <td>0</td>\n",
              "      <td>0</td>\n",
              "      <td>0</td>\n",
              "      <td>0</td>\n",
              "      <td>0</td>\n",
              "      <td>0</td>\n",
              "      <td>0</td>\n",
              "      <td>0</td>\n",
              "      <td>0</td>\n",
              "      <td>0</td>\n",
              "      <td>0</td>\n",
              "      <td>0</td>\n",
              "      <td>0</td>\n",
              "      <td>0</td>\n",
              "      <td>0</td>\n",
              "      <td>0</td>\n",
              "      <td>...</td>\n",
              "      <td>0</td>\n",
              "      <td>0</td>\n",
              "      <td>0</td>\n",
              "      <td>0</td>\n",
              "      <td>0</td>\n",
              "      <td>0</td>\n",
              "      <td>0</td>\n",
              "      <td>0</td>\n",
              "      <td>0</td>\n",
              "      <td>0</td>\n",
              "      <td>0</td>\n",
              "      <td>0</td>\n",
              "      <td>0</td>\n",
              "      <td>0</td>\n",
              "      <td>0</td>\n",
              "      <td>0</td>\n",
              "      <td>0</td>\n",
              "      <td>0</td>\n",
              "      <td>0</td>\n",
              "      <td>0</td>\n",
              "      <td>0</td>\n",
              "      <td>0</td>\n",
              "      <td>0</td>\n",
              "      <td>0</td>\n",
              "      <td>0</td>\n",
              "      <td>0</td>\n",
              "      <td>0</td>\n",
              "      <td>0</td>\n",
              "      <td>0</td>\n",
              "      <td>0</td>\n",
              "      <td>0</td>\n",
              "      <td>0</td>\n",
              "      <td>0</td>\n",
              "      <td>0</td>\n",
              "      <td>0</td>\n",
              "      <td>0</td>\n",
              "      <td>0</td>\n",
              "      <td>0</td>\n",
              "      <td>0</td>\n",
              "      <td>0</td>\n",
              "    </tr>\n",
              "  </tbody>\n",
              "</table>\n",
              "<p>100 rows × 785 columns</p>\n",
              "</div>"
            ],
            "text/plain": [
              "    0    1    2    3    4    5    6    ...  778  779  780  781  782  783  784\n",
              "0     5    0    0    0    0    0    0  ...    0    0    0    0    0    0    0\n",
              "1     0    0    0    0    0    0    0  ...    0    0    0    0    0    0    0\n",
              "2     4    0    0    0    0    0    0  ...    0    0    0    0    0    0    0\n",
              "3     1    0    0    0    0    0    0  ...    0    0    0    0    0    0    0\n",
              "4     9    0    0    0    0    0    0  ...    0    0    0    0    0    0    0\n",
              "..  ...  ...  ...  ...  ...  ...  ...  ...  ...  ...  ...  ...  ...  ...  ...\n",
              "95    0    0    0    0    0    0    0  ...    0    0    0    0    0    0    0\n",
              "96    7    0    0    0    0    0    0  ...    0    0    0    0    0    0    0\n",
              "97    8    0    0    0    0    0    0  ...    0    0    0    0    0    0    0\n",
              "98    3    0    0    0    0    0    0  ...    0    0    0    0    0    0    0\n",
              "99    1    0    0    0    0    0    0  ...    0    0    0    0    0    0    0\n",
              "\n",
              "[100 rows x 785 columns]"
            ]
          },
          "metadata": {},
          "execution_count": 4
        }
      ]
    },
    {
      "cell_type": "code",
      "metadata": {
        "id": "N3iTJ4CkfL4i"
      },
      "source": [
        "# Load the data:\n",
        "raw_data = open(path + \"mnist_train_100.csv\", 'r') # \"r\" stands for \"read only\" mode.\n",
        "data = raw_data.readlines() # read all the lines of a file in a list.\n",
        "raw_data.close() # remove temporal file from the environment in order to save memory."
      ],
      "execution_count": 5,
      "outputs": []
    },
    {
      "cell_type": "code",
      "metadata": {
        "colab": {
          "base_uri": "https://localhost:8080/"
        },
        "id": "VdkPCyOjfZ5M",
        "outputId": "5ec5852c-21fc-48aa-cd96-6c26b2586a3a"
      },
      "source": [
        "type(data)"
      ],
      "execution_count": 6,
      "outputs": [
        {
          "output_type": "execute_result",
          "data": {
            "text/plain": [
              "list"
            ]
          },
          "metadata": {},
          "execution_count": 6
        }
      ]
    },
    {
      "cell_type": "code",
      "metadata": {
        "colab": {
          "base_uri": "https://localhost:8080/"
        },
        "id": "a4um8FiAfQhp",
        "outputId": "ed7bd29a-f5b8-4ddf-c95e-cccc26685a77"
      },
      "source": [
        "# Inspect the data - check the number of observations:\n",
        "len(data) # length of the object."
      ],
      "execution_count": 7,
      "outputs": [
        {
          "output_type": "execute_result",
          "data": {
            "text/plain": [
              "100"
            ]
          },
          "metadata": {},
          "execution_count": 7
        }
      ]
    },
    {
      "cell_type": "code",
      "metadata": {
        "colab": {
          "base_uri": "https://localhost:8080/",
          "height": 170
        },
        "id": "azwhjnSmfTNG",
        "outputId": "65d8efb6-5b8b-4516-fa82-eafb114580e4"
      },
      "source": [
        "# Inspect a particular observation of the data:\n",
        "data[0] # show observation number 0 from the list (remember that in Python numbering starts from 0).\n"
      ],
      "execution_count": 8,
      "outputs": [
        {
          "output_type": "execute_result",
          "data": {
            "application/vnd.google.colaboratory.intrinsic+json": {
              "type": "string"
            },
            "text/plain": [
              "'5,0,0,0,0,0,0,0,0,0,0,0,0,0,0,0,0,0,0,0,0,0,0,0,0,0,0,0,0,0,0,0,0,0,0,0,0,0,0,0,0,0,0,0,0,0,0,0,0,0,0,0,0,0,0,0,0,0,0,0,0,0,0,0,0,0,0,0,0,0,0,0,0,0,0,0,0,0,0,0,0,0,0,0,0,0,0,0,0,0,0,0,0,0,0,0,0,0,0,0,0,0,0,0,0,0,0,0,0,0,0,0,0,0,0,0,0,0,0,0,0,0,0,0,0,0,0,0,0,0,0,0,0,0,0,0,0,0,0,0,0,0,0,0,0,0,0,0,0,0,0,0,0,3,18,18,18,126,136,175,26,166,255,247,127,0,0,0,0,0,0,0,0,0,0,0,0,30,36,94,154,170,253,253,253,253,253,225,172,253,242,195,64,0,0,0,0,0,0,0,0,0,0,0,49,238,253,253,253,253,253,253,253,253,251,93,82,82,56,39,0,0,0,0,0,0,0,0,0,0,0,0,18,219,253,253,253,253,253,198,182,247,241,0,0,0,0,0,0,0,0,0,0,0,0,0,0,0,0,0,0,80,156,107,253,253,205,11,0,43,154,0,0,0,0,0,0,0,0,0,0,0,0,0,0,0,0,0,0,0,14,1,154,253,90,0,0,0,0,0,0,0,0,0,0,0,0,0,0,0,0,0,0,0,0,0,0,0,0,0,139,253,190,2,0,0,0,0,0,0,0,0,0,0,0,0,0,0,0,0,0,0,0,0,0,0,0,0,11,190,253,70,0,0,0,0,0,0,0,0,0,0,0,0,0,0,0,0,0,0,0,0,0,0,0,0,0,35,241,225,160,108,1,0,0,0,0,0,0,0,0,0,0,0,0,0,0,0,0,0,0,0,0,0,0,0,81,240,253,253,119,25,0,0,0,0,0,0,0,0,0,0,0,0,0,0,0,0,0,0,0,0,0,0,0,45,186,253,253,150,27,0,0,0,0,0,0,0,0,0,0,0,0,0,0,0,0,0,0,0,0,0,0,0,16,93,252,253,187,0,0,0,0,0,0,0,0,0,0,0,0,0,0,0,0,0,0,0,0,0,0,0,0,0,249,253,249,64,0,0,0,0,0,0,0,0,0,0,0,0,0,0,0,0,0,0,0,0,0,46,130,183,253,253,207,2,0,0,0,0,0,0,0,0,0,0,0,0,0,0,0,0,0,0,0,39,148,229,253,253,253,250,182,0,0,0,0,0,0,0,0,0,0,0,0,0,0,0,0,0,0,24,114,221,253,253,253,253,201,78,0,0,0,0,0,0,0,0,0,0,0,0,0,0,0,0,0,23,66,213,253,253,253,253,198,81,2,0,0,0,0,0,0,0,0,0,0,0,0,0,0,0,0,18,171,219,253,253,253,253,195,80,9,0,0,0,0,0,0,0,0,0,0,0,0,0,0,0,0,55,172,226,253,253,253,253,244,133,11,0,0,0,0,0,0,0,0,0,0,0,0,0,0,0,0,0,0,136,253,253,253,212,135,132,16,0,0,0,0,0,0,0,0,0,0,0,0,0,0,0,0,0,0,0,0,0,0,0,0,0,0,0,0,0,0,0,0,0,0,0,0,0,0,0,0,0,0,0,0,0,0,0,0,0,0,0,0,0,0,0,0,0,0,0,0,0,0,0,0,0,0,0,0,0,0,0,0,0,0,0,0,0,0,0,0,0,0,0,0,0,0,0,0,0,0,0,0,0,0,0,0,0,0,0,0\\n'"
            ]
          },
          "metadata": {},
          "execution_count": 8
        }
      ]
    },
    {
      "cell_type": "markdown",
      "metadata": {
        "id": "hVtx74bMgQqA"
      },
      "source": [
        "- A particular observation looks like a string of 785 elements (label of the \n",
        "image + 784 elements for each pixels of a 28x28 image).\n",
        "- Each element representing a pixel is a number from 0 to 255 (from white to black color).\n",
        "- The first element in the line is the label of the image and therefore is a number from 0 to 9.\n",
        "\n",
        "Using matplotlib, we can also reconstruct the original image based on the data about each pixel in the string.\n"
      ]
    },
    {
      "cell_type": "code",
      "metadata": {
        "id": "PDBNPXJOfet2"
      },
      "source": [
        "# Load the package to plot the data:\n",
        "import matplotlib.pyplot as mpp\n",
        "%matplotlib inline"
      ],
      "execution_count": 9,
      "outputs": []
    },
    {
      "cell_type": "code",
      "metadata": {
        "colab": {
          "base_uri": "https://localhost:8080/",
          "height": 282
        },
        "id": "hbdfrFbggeAZ",
        "outputId": "25ac0d4a-911d-44f8-9c3b-2f705c447afe"
      },
      "source": [
        "# Plot the data:\n",
        "observation = data[0].split(',') # break down observation number 0 (comma is used to identify each element).\n",
        "image = np.asfarray(observation[1:]).reshape((28,28)) #asfarray returns an array converted as float\n",
        "#print(image)\n",
        "# take all the elements starting from the element 1\n",
        "# (exclude element number 0, that corresponds to the label) and reshape them as an array with dimension 28 by 28.\n",
        "mpp.imshow(image, cmap='Blues') # show the plot of this array using blue pallete."
      ],
      "execution_count": 10,
      "outputs": [
        {
          "output_type": "execute_result",
          "data": {
            "text/plain": [
              "<matplotlib.image.AxesImage at 0x7ff85bc93e90>"
            ]
          },
          "metadata": {},
          "execution_count": 10
        },
        {
          "output_type": "display_data",
          "data": {
            "image/png": "[encoded data removed]",
            "text/plain": [
              "<Figure size 432x288 with 1 Axes>"
            ]
          },
          "metadata": {
            "needs_background": "light"
          }
        }
      ]
    },
    {
      "cell_type": "markdown",
      "metadata": {
        "id": "bjxezTuVg6Cb"
      },
      "source": [
        "For each observation we have 784 elements/features as an input (label element is excluded). Accordingly,  we should have 784 iput nodes.\n",
        "Similarly, as we have 10 different options for the outcome (handwritten numbers are labeled from 0 to 9) the number of output nodes should be 10 .\n",
        "As the number of hidden nodes from we could start by using 90. Such a number has been assigned based on some proportionality assumptions which will be checked later: 90 is 9 times higher than 10 and approximately 9 times smaller than 784."
      ]
    },
    {
      "cell_type": "markdown",
      "metadata": {
        "id": "c_Y9TGdhot72"
      },
      "source": [
        "We are now going to  implement the  neural network with the Keras framework. Keras is an open source neural network library written in Python. \n",
        "https://keras.io/api/models/model_training_apis/\n"
      ]
    },
    {
      "cell_type": "code",
      "metadata": {
        "id": "VDTrTlPBgffi"
      },
      "source": [
        "import numpy as np\n",
        "from keras.models import Sequential\n",
        "from keras.layers import Dense\n",
        "from keras.utils import np_utils\n",
        "import pandas as pd"
      ],
      "execution_count": 11,
      "outputs": []
    },
    {
      "cell_type": "code",
      "metadata": {
        "id": "6G0gHt7jlxwu"
      },
      "source": [
        "names = [\"y\"] + list(range(1,785))\n",
        "\n",
        "\n",
        "df = pd.read_csv(path+\"mnist_train.csv\",\n",
        "                 names=names)\n",
        "\n",
        "df_test = pd.read_csv(path+\"mnist_test.csv\",\n",
        "                     names=names)"
      ],
      "execution_count": 12,
      "outputs": []
    },
    {
      "cell_type": "code",
      "metadata": {
        "colab": {
          "base_uri": "https://localhost:8080/"
        },
        "id": "yjszX__rpA8u",
        "outputId": "18614d00-50f7-4edb-aa12-59a4a9e3a4c0"
      },
      "source": [
        "df.shape"
      ],
      "execution_count": 13,
      "outputs": [
        {
          "output_type": "execute_result",
          "data": {
            "text/plain": [
              "(60000, 785)"
            ]
          },
          "metadata": {},
          "execution_count": 13
        }
      ]
    },
    {
      "cell_type": "code",
      "metadata": {
        "colab": {
          "base_uri": "https://localhost:8080/"
        },
        "id": "sca2vyf4pCdg",
        "outputId": "274a6fff-bda6-43f7-cc5a-dfd662da3062"
      },
      "source": [
        "df_test.shape"
      ],
      "execution_count": 14,
      "outputs": [
        {
          "output_type": "execute_result",
          "data": {
            "text/plain": [
              "(10000, 785)"
            ]
          },
          "metadata": {},
          "execution_count": 14
        }
      ]
    },
    {
      "cell_type": "markdown",
      "metadata": {
        "id": "adQrQMofpMmi"
      },
      "source": [
        "Next we separate labels from features in both train and test set and transform them from dataframes to numpy arrays, which are better suited for modeling."
      ]
    },
    {
      "cell_type": "code",
      "metadata": {
        "colab": {
          "base_uri": "https://localhost:8080/",
          "height": 252
        },
        "id": "QQbYELiTpEUy",
        "outputId": "a0b98785-a23b-4740-ed2c-f8804e9bf2d1"
      },
      "source": [
        "df.head()"
      ],
      "execution_count": 15,
      "outputs": [
        {
          "output_type": "execute_result",
          "data": {
            "text/html": [
              "<div>\n",
              "<style scoped>\n",
              "    .dataframe tbody tr th:only-of-type {\n",
              "        vertical-align: middle;\n",
              "    }\n",
              "\n",
              "    .dataframe tbody tr th {\n",
              "        vertical-align: top;\n",
              "    }\n",
              "\n",
              "    .dataframe thead th {\n",
              "        text-align: right;\n",
              "    }\n",
              "</style>\n",
              "<table border=\"1\" class=\"dataframe\">\n",
              "  <thead>\n",
              "    <tr style=\"text-align: right;\">\n",
              "      <th></th>\n",
              "      <th>y</th>\n",
              "      <th>1</th>\n",
              "      <th>2</th>\n",
              "      <th>3</th>\n",
              "      <th>4</th>\n",
              "      <th>5</th>\n",
              "      <th>6</th>\n",
              "      <th>7</th>\n",
              "      <th>8</th>\n",
              "      <th>9</th>\n",
              "      <th>10</th>\n",
              "      <th>11</th>\n",
              "      <th>12</th>\n",
              "      <th>13</th>\n",
              "      <th>14</th>\n",
              "      <th>15</th>\n",
              "      <th>16</th>\n",
              "      <th>17</th>\n",
              "      <th>18</th>\n",
              "      <th>19</th>\n",
              "      <th>20</th>\n",
              "      <th>21</th>\n",
              "      <th>22</th>\n",
              "      <th>23</th>\n",
              "      <th>24</th>\n",
              "      <th>25</th>\n",
              "      <th>26</th>\n",
              "      <th>27</th>\n",
              "      <th>28</th>\n",
              "      <th>29</th>\n",
              "      <th>30</th>\n",
              "      <th>31</th>\n",
              "      <th>32</th>\n",
              "      <th>33</th>\n",
              "      <th>34</th>\n",
              "      <th>35</th>\n",
              "      <th>36</th>\n",
              "      <th>37</th>\n",
              "      <th>38</th>\n",
              "      <th>39</th>\n",
              "      <th>...</th>\n",
              "      <th>745</th>\n",
              "      <th>746</th>\n",
              "      <th>747</th>\n",
              "      <th>748</th>\n",
              "      <th>749</th>\n",
              "      <th>750</th>\n",
              "      <th>751</th>\n",
              "      <th>752</th>\n",
              "      <th>753</th>\n",
              "      <th>754</th>\n",
              "      <th>755</th>\n",
              "      <th>756</th>\n",
              "      <th>757</th>\n",
              "      <th>758</th>\n",
              "      <th>759</th>\n",
              "      <th>760</th>\n",
              "      <th>761</th>\n",
              "      <th>762</th>\n",
              "      <th>763</th>\n",
              "      <th>764</th>\n",
              "      <th>765</th>\n",
              "      <th>766</th>\n",
              "      <th>767</th>\n",
              "      <th>768</th>\n",
              "      <th>769</th>\n",
              "      <th>770</th>\n",
              "      <th>771</th>\n",
              "      <th>772</th>\n",
              "      <th>773</th>\n",
              "      <th>774</th>\n",
              "      <th>775</th>\n",
              "      <th>776</th>\n",
              "      <th>777</th>\n",
              "      <th>778</th>\n",
              "      <th>779</th>\n",
              "      <th>780</th>\n",
              "      <th>781</th>\n",
              "      <th>782</th>\n",
              "      <th>783</th>\n",
              "      <th>784</th>\n",
              "    </tr>\n",
              "  </thead>\n",
              "  <tbody>\n",
              "    <tr>\n",
              "      <th>0</th>\n",
              "      <td>5</td>\n",
              "      <td>0</td>\n",
              "      <td>0</td>\n",
              "      <td>0</td>\n",
              "      <td>0</td>\n",
              "      <td>0</td>\n",
              "      <td>0</td>\n",
              "      <td>0</td>\n",
              "      <td>0</td>\n",
              "      <td>0</td>\n",
              "      <td>0</td>\n",
              "      <td>0</td>\n",
              "      <td>0</td>\n",
              "      <td>0</td>\n",
              "      <td>0</td>\n",
              "      <td>0</td>\n",
              "      <td>0</td>\n",
              "      <td>0</td>\n",
              "      <td>0</td>\n",
              "      <td>0</td>\n",
              "      <td>0</td>\n",
              "      <td>0</td>\n",
              "      <td>0</td>\n",
              "      <td>0</td>\n",
              "      <td>0</td>\n",
              "      <td>0</td>\n",
              "      <td>0</td>\n",
              "      <td>0</td>\n",
              "      <td>0</td>\n",
              "      <td>0</td>\n",
              "      <td>0</td>\n",
              "      <td>0</td>\n",
              "      <td>0</td>\n",
              "      <td>0</td>\n",
              "      <td>0</td>\n",
              "      <td>0</td>\n",
              "      <td>0</td>\n",
              "      <td>0</td>\n",
              "      <td>0</td>\n",
              "      <td>0</td>\n",
              "      <td>...</td>\n",
              "      <td>0</td>\n",
              "      <td>0</td>\n",
              "      <td>0</td>\n",
              "      <td>0</td>\n",
              "      <td>0</td>\n",
              "      <td>0</td>\n",
              "      <td>0</td>\n",
              "      <td>0</td>\n",
              "      <td>0</td>\n",
              "      <td>0</td>\n",
              "      <td>0</td>\n",
              "      <td>0</td>\n",
              "      <td>0</td>\n",
              "      <td>0</td>\n",
              "      <td>0</td>\n",
              "      <td>0</td>\n",
              "      <td>0</td>\n",
              "      <td>0</td>\n",
              "      <td>0</td>\n",
              "      <td>0</td>\n",
              "      <td>0</td>\n",
              "      <td>0</td>\n",
              "      <td>0</td>\n",
              "      <td>0</td>\n",
              "      <td>0</td>\n",
              "      <td>0</td>\n",
              "      <td>0</td>\n",
              "      <td>0</td>\n",
              "      <td>0</td>\n",
              "      <td>0</td>\n",
              "      <td>0</td>\n",
              "      <td>0</td>\n",
              "      <td>0</td>\n",
              "      <td>0</td>\n",
              "      <td>0</td>\n",
              "      <td>0</td>\n",
              "      <td>0</td>\n",
              "      <td>0</td>\n",
              "      <td>0</td>\n",
              "      <td>0</td>\n",
              "    </tr>\n",
              "    <tr>\n",
              "      <th>1</th>\n",
              "      <td>0</td>\n",
              "      <td>0</td>\n",
              "      <td>0</td>\n",
              "      <td>0</td>\n",
              "      <td>0</td>\n",
              "      <td>0</td>\n",
              "      <td>0</td>\n",
              "      <td>0</td>\n",
              "      <td>0</td>\n",
              "      <td>0</td>\n",
              "      <td>0</td>\n",
              "      <td>0</td>\n",
              "      <td>0</td>\n",
              "      <td>0</td>\n",
              "      <td>0</td>\n",
              "      <td>0</td>\n",
              "      <td>0</td>\n",
              "      <td>0</td>\n",
              "      <td>0</td>\n",
              "      <td>0</td>\n",
              "      <td>0</td>\n",
              "      <td>0</td>\n",
              "      <td>0</td>\n",
              "      <td>0</td>\n",
              "      <td>0</td>\n",
              "      <td>0</td>\n",
              "      <td>0</td>\n",
              "      <td>0</td>\n",
              "      <td>0</td>\n",
              "      <td>0</td>\n",
              "      <td>0</td>\n",
              "      <td>0</td>\n",
              "      <td>0</td>\n",
              "      <td>0</td>\n",
              "      <td>0</td>\n",
              "      <td>0</td>\n",
              "      <td>0</td>\n",
              "      <td>0</td>\n",
              "      <td>0</td>\n",
              "      <td>0</td>\n",
              "      <td>...</td>\n",
              "      <td>0</td>\n",
              "      <td>0</td>\n",
              "      <td>0</td>\n",
              "      <td>0</td>\n",
              "      <td>0</td>\n",
              "      <td>0</td>\n",
              "      <td>0</td>\n",
              "      <td>0</td>\n",
              "      <td>0</td>\n",
              "      <td>0</td>\n",
              "      <td>0</td>\n",
              "      <td>0</td>\n",
              "      <td>0</td>\n",
              "      <td>0</td>\n",
              "      <td>0</td>\n",
              "      <td>0</td>\n",
              "      <td>0</td>\n",
              "      <td>0</td>\n",
              "      <td>0</td>\n",
              "      <td>0</td>\n",
              "      <td>0</td>\n",
              "      <td>0</td>\n",
              "      <td>0</td>\n",
              "      <td>0</td>\n",
              "      <td>0</td>\n",
              "      <td>0</td>\n",
              "      <td>0</td>\n",
              "      <td>0</td>\n",
              "      <td>0</td>\n",
              "      <td>0</td>\n",
              "      <td>0</td>\n",
              "      <td>0</td>\n",
              "      <td>0</td>\n",
              "      <td>0</td>\n",
              "      <td>0</td>\n",
              "      <td>0</td>\n",
              "      <td>0</td>\n",
              "      <td>0</td>\n",
              "      <td>0</td>\n",
              "      <td>0</td>\n",
              "    </tr>\n",
              "    <tr>\n",
              "      <th>2</th>\n",
              "      <td>4</td>\n",
              "      <td>0</td>\n",
              "      <td>0</td>\n",
              "      <td>0</td>\n",
              "      <td>0</td>\n",
              "      <td>0</td>\n",
              "      <td>0</td>\n",
              "      <td>0</td>\n",
              "      <td>0</td>\n",
              "      <td>0</td>\n",
              "      <td>0</td>\n",
              "      <td>0</td>\n",
              "      <td>0</td>\n",
              "      <td>0</td>\n",
              "      <td>0</td>\n",
              "      <td>0</td>\n",
              "      <td>0</td>\n",
              "      <td>0</td>\n",
              "      <td>0</td>\n",
              "      <td>0</td>\n",
              "      <td>0</td>\n",
              "      <td>0</td>\n",
              "      <td>0</td>\n",
              "      <td>0</td>\n",
              "      <td>0</td>\n",
              "      <td>0</td>\n",
              "      <td>0</td>\n",
              "      <td>0</td>\n",
              "      <td>0</td>\n",
              "      <td>0</td>\n",
              "      <td>0</td>\n",
              "      <td>0</td>\n",
              "      <td>0</td>\n",
              "      <td>0</td>\n",
              "      <td>0</td>\n",
              "      <td>0</td>\n",
              "      <td>0</td>\n",
              "      <td>0</td>\n",
              "      <td>0</td>\n",
              "      <td>0</td>\n",
              "      <td>...</td>\n",
              "      <td>0</td>\n",
              "      <td>0</td>\n",
              "      <td>0</td>\n",
              "      <td>0</td>\n",
              "      <td>0</td>\n",
              "      <td>0</td>\n",
              "      <td>0</td>\n",
              "      <td>0</td>\n",
              "      <td>0</td>\n",
              "      <td>0</td>\n",
              "      <td>0</td>\n",
              "      <td>0</td>\n",
              "      <td>0</td>\n",
              "      <td>0</td>\n",
              "      <td>0</td>\n",
              "      <td>0</td>\n",
              "      <td>0</td>\n",
              "      <td>0</td>\n",
              "      <td>0</td>\n",
              "      <td>0</td>\n",
              "      <td>0</td>\n",
              "      <td>0</td>\n",
              "      <td>0</td>\n",
              "      <td>0</td>\n",
              "      <td>0</td>\n",
              "      <td>0</td>\n",
              "      <td>0</td>\n",
              "      <td>0</td>\n",
              "      <td>0</td>\n",
              "      <td>0</td>\n",
              "      <td>0</td>\n",
              "      <td>0</td>\n",
              "      <td>0</td>\n",
              "      <td>0</td>\n",
              "      <td>0</td>\n",
              "      <td>0</td>\n",
              "      <td>0</td>\n",
              "      <td>0</td>\n",
              "      <td>0</td>\n",
              "      <td>0</td>\n",
              "    </tr>\n",
              "    <tr>\n",
              "      <th>3</th>\n",
              "      <td>1</td>\n",
              "      <td>0</td>\n",
              "      <td>0</td>\n",
              "      <td>0</td>\n",
              "      <td>0</td>\n",
              "      <td>0</td>\n",
              "      <td>0</td>\n",
              "      <td>0</td>\n",
              "      <td>0</td>\n",
              "      <td>0</td>\n",
              "      <td>0</td>\n",
              "      <td>0</td>\n",
              "      <td>0</td>\n",
              "      <td>0</td>\n",
              "      <td>0</td>\n",
              "      <td>0</td>\n",
              "      <td>0</td>\n",
              "      <td>0</td>\n",
              "      <td>0</td>\n",
              "      <td>0</td>\n",
              "      <td>0</td>\n",
              "      <td>0</td>\n",
              "      <td>0</td>\n",
              "      <td>0</td>\n",
              "      <td>0</td>\n",
              "      <td>0</td>\n",
              "      <td>0</td>\n",
              "      <td>0</td>\n",
              "      <td>0</td>\n",
              "      <td>0</td>\n",
              "      <td>0</td>\n",
              "      <td>0</td>\n",
              "      <td>0</td>\n",
              "      <td>0</td>\n",
              "      <td>0</td>\n",
              "      <td>0</td>\n",
              "      <td>0</td>\n",
              "      <td>0</td>\n",
              "      <td>0</td>\n",
              "      <td>0</td>\n",
              "      <td>...</td>\n",
              "      <td>0</td>\n",
              "      <td>0</td>\n",
              "      <td>0</td>\n",
              "      <td>0</td>\n",
              "      <td>0</td>\n",
              "      <td>0</td>\n",
              "      <td>0</td>\n",
              "      <td>0</td>\n",
              "      <td>0</td>\n",
              "      <td>0</td>\n",
              "      <td>0</td>\n",
              "      <td>0</td>\n",
              "      <td>0</td>\n",
              "      <td>0</td>\n",
              "      <td>0</td>\n",
              "      <td>0</td>\n",
              "      <td>0</td>\n",
              "      <td>0</td>\n",
              "      <td>0</td>\n",
              "      <td>0</td>\n",
              "      <td>0</td>\n",
              "      <td>0</td>\n",
              "      <td>0</td>\n",
              "      <td>0</td>\n",
              "      <td>0</td>\n",
              "      <td>0</td>\n",
              "      <td>0</td>\n",
              "      <td>0</td>\n",
              "      <td>0</td>\n",
              "      <td>0</td>\n",
              "      <td>0</td>\n",
              "      <td>0</td>\n",
              "      <td>0</td>\n",
              "      <td>0</td>\n",
              "      <td>0</td>\n",
              "      <td>0</td>\n",
              "      <td>0</td>\n",
              "      <td>0</td>\n",
              "      <td>0</td>\n",
              "      <td>0</td>\n",
              "    </tr>\n",
              "    <tr>\n",
              "      <th>4</th>\n",
              "      <td>9</td>\n",
              "      <td>0</td>\n",
              "      <td>0</td>\n",
              "      <td>0</td>\n",
              "      <td>0</td>\n",
              "      <td>0</td>\n",
              "      <td>0</td>\n",
              "      <td>0</td>\n",
              "      <td>0</td>\n",
              "      <td>0</td>\n",
              "      <td>0</td>\n",
              "      <td>0</td>\n",
              "      <td>0</td>\n",
              "      <td>0</td>\n",
              "      <td>0</td>\n",
              "      <td>0</td>\n",
              "      <td>0</td>\n",
              "      <td>0</td>\n",
              "      <td>0</td>\n",
              "      <td>0</td>\n",
              "      <td>0</td>\n",
              "      <td>0</td>\n",
              "      <td>0</td>\n",
              "      <td>0</td>\n",
              "      <td>0</td>\n",
              "      <td>0</td>\n",
              "      <td>0</td>\n",
              "      <td>0</td>\n",
              "      <td>0</td>\n",
              "      <td>0</td>\n",
              "      <td>0</td>\n",
              "      <td>0</td>\n",
              "      <td>0</td>\n",
              "      <td>0</td>\n",
              "      <td>0</td>\n",
              "      <td>0</td>\n",
              "      <td>0</td>\n",
              "      <td>0</td>\n",
              "      <td>0</td>\n",
              "      <td>0</td>\n",
              "      <td>...</td>\n",
              "      <td>147</td>\n",
              "      <td>252</td>\n",
              "      <td>42</td>\n",
              "      <td>0</td>\n",
              "      <td>0</td>\n",
              "      <td>0</td>\n",
              "      <td>0</td>\n",
              "      <td>0</td>\n",
              "      <td>0</td>\n",
              "      <td>0</td>\n",
              "      <td>0</td>\n",
              "      <td>0</td>\n",
              "      <td>0</td>\n",
              "      <td>0</td>\n",
              "      <td>0</td>\n",
              "      <td>0</td>\n",
              "      <td>0</td>\n",
              "      <td>0</td>\n",
              "      <td>0</td>\n",
              "      <td>0</td>\n",
              "      <td>0</td>\n",
              "      <td>0</td>\n",
              "      <td>0</td>\n",
              "      <td>0</td>\n",
              "      <td>0</td>\n",
              "      <td>0</td>\n",
              "      <td>0</td>\n",
              "      <td>0</td>\n",
              "      <td>0</td>\n",
              "      <td>0</td>\n",
              "      <td>0</td>\n",
              "      <td>0</td>\n",
              "      <td>0</td>\n",
              "      <td>0</td>\n",
              "      <td>0</td>\n",
              "      <td>0</td>\n",
              "      <td>0</td>\n",
              "      <td>0</td>\n",
              "      <td>0</td>\n",
              "      <td>0</td>\n",
              "    </tr>\n",
              "  </tbody>\n",
              "</table>\n",
              "<p>5 rows × 785 columns</p>\n",
              "</div>"
            ],
            "text/plain": [
              "   y  1  2  3  4  5  6  7  8  ...  776  777  778  779  780  781  782  783  784\n",
              "0  5  0  0  0  0  0  0  0  0  ...    0    0    0    0    0    0    0    0    0\n",
              "1  0  0  0  0  0  0  0  0  0  ...    0    0    0    0    0    0    0    0    0\n",
              "2  4  0  0  0  0  0  0  0  0  ...    0    0    0    0    0    0    0    0    0\n",
              "3  1  0  0  0  0  0  0  0  0  ...    0    0    0    0    0    0    0    0    0\n",
              "4  9  0  0  0  0  0  0  0  0  ...    0    0    0    0    0    0    0    0    0\n",
              "\n",
              "[5 rows x 785 columns]"
            ]
          },
          "metadata": {},
          "execution_count": 15
        }
      ]
    },
    {
      "cell_type": "code",
      "metadata": {
        "colab": {
          "base_uri": "https://localhost:8080/"
        },
        "id": "jpK5-9yHpPW_",
        "outputId": "25dee26b-1428-499f-84f8-c98a913b5f63"
      },
      "source": [
        "y_train = df['y'].values\n",
        "# normalizing the data and making sure to not have only 0\n",
        "# Our values in our input vector are in the range from 0 to 255. Therefore we should divide input vector by 255,\n",
        "# multiply it by 0,99 and add 0,01 in order to get values in the range from 0,01 to 1.\n",
        "X_train = df.iloc[:, 1:].values/255*0.99+0.01\n",
        "\n",
        "y_test = df_test['y'].values\n",
        "X_test = df_test.iloc[:, 1:].values/255*0.99+0.01\n",
        "\n",
        "[y_train, y_test, X_train, X_test]"
      ],
      "execution_count": 16,
      "outputs": [
        {
          "output_type": "execute_result",
          "data": {
            "text/plain": [
              "[array([5, 0, 4, ..., 5, 6, 8]),\n",
              " array([7, 2, 1, ..., 4, 5, 6]),\n",
              " array([[0.01, 0.01, 0.01, ..., 0.01, 0.01, 0.01],\n",
              "        [0.01, 0.01, 0.01, ..., 0.01, 0.01, 0.01],\n",
              "        [0.01, 0.01, 0.01, ..., 0.01, 0.01, 0.01],\n",
              "        ...,\n",
              "        [0.01, 0.01, 0.01, ..., 0.01, 0.01, 0.01],\n",
              "        [0.01, 0.01, 0.01, ..., 0.01, 0.01, 0.01],\n",
              "        [0.01, 0.01, 0.01, ..., 0.01, 0.01, 0.01]]),\n",
              " array([[0.01, 0.01, 0.01, ..., 0.01, 0.01, 0.01],\n",
              "        [0.01, 0.01, 0.01, ..., 0.01, 0.01, 0.01],\n",
              "        [0.01, 0.01, 0.01, ..., 0.01, 0.01, 0.01],\n",
              "        ...,\n",
              "        [0.01, 0.01, 0.01, ..., 0.01, 0.01, 0.01],\n",
              "        [0.01, 0.01, 0.01, ..., 0.01, 0.01, 0.01],\n",
              "        [0.01, 0.01, 0.01, ..., 0.01, 0.01, 0.01]])]"
            ]
          },
          "metadata": {},
          "execution_count": 16
        }
      ]
    },
    {
      "cell_type": "markdown",
      "metadata": {
        "id": "ORKcQsnSpddj"
      },
      "source": [
        "We now check if the shape of the arrays correspond to the expected. In fact, the shape is correct. We have 60 thousand observations in the train set and 10 thousand in the test set.\n",
        "\n"
      ]
    },
    {
      "cell_type": "code",
      "metadata": {
        "colab": {
          "base_uri": "https://localhost:8080/"
        },
        "id": "NedyZoD5pRR4",
        "outputId": "8c01ed8c-0161-41c8-b211-2a15023a46e2"
      },
      "source": [
        "[y_train.shape, X_train.shape, y_test.shape, X_test.shape]\n"
      ],
      "execution_count": 17,
      "outputs": [
        {
          "output_type": "execute_result",
          "data": {
            "text/plain": [
              "[(60000,), (60000, 784), (10000,), (10000, 784)]"
            ]
          },
          "metadata": {},
          "execution_count": 17
        }
      ]
    },
    {
      "cell_type": "code",
      "metadata": {
        "colab": {
          "base_uri": "https://localhost:8080/"
        },
        "id": "xAQtI_a4pfvu",
        "outputId": "7d2aed63-067c-4483-9bcc-695f598eccd4"
      },
      "source": [
        "y_train"
      ],
      "execution_count": 18,
      "outputs": [
        {
          "output_type": "execute_result",
          "data": {
            "text/plain": [
              "array([5, 0, 4, ..., 5, 6, 8])"
            ]
          },
          "metadata": {},
          "execution_count": 18
        }
      ]
    },
    {
      "cell_type": "markdown",
      "metadata": {
        "id": "GvH6ZgIJpkdC"
      },
      "source": [
        "Before defining the model, one extra step is necessary: transform the labels so they are one-hot encoded. One-hot encoding a vector means transforming it into a matrix of ones and zeroes only with as many columns as the number of different values in the vector. In the specific case, the label vector becomes a ten-column array, each column representing one digit. If the label of the observation is 2, it will have zeroes in columns expect in the third column, which will have a one. The number of rows remains the same.\n",
        "\n",
        "https://machinelearningmastery.com/one-hot-encoding-for-categorical-data/"
      ]
    },
    {
      "cell_type": "markdown",
      "metadata": {
        "id": "0Pa9ZFNg4_aX"
      },
      "source": [
        " **NOTE**\n",
        "important for Loss function:\n",
        "If your labels are one hot encoded then you should use \"categorical_crossentropy\" loss\n",
        "If your labels are encoded as numbers (0 to n-1 for n class classification) then you should use \"sparse_categorical_crossentropy\" loss\n"
      ]
    },
    {
      "cell_type": "code",
      "metadata": {
        "colab": {
          "base_uri": "https://localhost:8080/"
        },
        "id": "ya1MyNL1pg7Q",
        "outputId": "55af101f-53c5-40b1-c982-213746af7423"
      },
      "source": [
        "# you can One Hot encode in different ways\n",
        "# 1. with np_utils.to_categorical (works here cause its already an int var)\n",
        "# 2. with pandas.get_dummies if it is applied on the initial pandas dataframe\n",
        "# 3. with 'from sklearn.preprocessing import OneHotEncoder OR LabelEncoder' \n",
        "\n",
        "y_train = np_utils.to_categorical(y_train)\n",
        "y_test = np_utils.to_categorical(y_test)\n",
        "\n",
        "[y_test.shape, y_train.shape]"
      ],
      "execution_count": 19,
      "outputs": [
        {
          "output_type": "execute_result",
          "data": {
            "text/plain": [
              "[(10000, 10), (60000, 10)]"
            ]
          },
          "metadata": {},
          "execution_count": 19
        }
      ]
    },
    {
      "cell_type": "code",
      "metadata": {
        "colab": {
          "base_uri": "https://localhost:8080/"
        },
        "id": "Vgx6_wH1prUf",
        "outputId": "91ac403d-e535-4a18-cd75-74430097648c"
      },
      "source": [
        "y_train.shape\n"
      ],
      "execution_count": 20,
      "outputs": [
        {
          "output_type": "execute_result",
          "data": {
            "text/plain": [
              "(60000, 10)"
            ]
          },
          "metadata": {},
          "execution_count": 20
        }
      ]
    },
    {
      "cell_type": "code",
      "metadata": {
        "colab": {
          "base_uri": "https://localhost:8080/"
        },
        "id": "_fx4yTbowGYk",
        "outputId": "6dbf508b-2df3-4cc3-a694-9fec497ca49f"
      },
      "source": [
        "y_train[0]"
      ],
      "execution_count": 21,
      "outputs": [
        {
          "output_type": "execute_result",
          "data": {
            "text/plain": [
              "array([0., 0., 0., 0., 0., 1., 0., 0., 0., 0.], dtype=float32)"
            ]
          },
          "metadata": {},
          "execution_count": 21
        }
      ]
    },
    {
      "cell_type": "markdown",
      "metadata": {
        "id": "1i_Kmcs9qRgo"
      },
      "source": [
        "##Define the model\n",
        "\n",
        "The model in question consists of one input, one hidden and one output layer. The activation function of the hidden layer is a ReLU. And we use as the optimizer Stochastic Gradient Descent.\n",
        "\n",
        "Once the activation function and optimizers are selected, it is time to determine the structure of the NN. Keras makes it very simple to add new layers. One needs only to call the add method on the model and pass the layer with its specifications. As you can see, the number of inputs needs to be specified only in the first layer. Keras infers the input number of a layer by looking at the number of outputs of its predecessor.\n",
        "\n",
        "For this neural network, we will only use dense layers, which are layers with all nodes fully connected to each other. Keras, however, allows you to arbitrarily build your neural networks by providing different types of layers, such as convolutional and pooling layers."
      ]
    },
    {
      "cell_type": "markdown",
      "metadata": {
        "id": "_9zWk9ILtfCk"
      },
      "source": [
        "## Let's put down what we have decided on already: ##\n",
        "Keras offer you **two \"styles\" of setting up the structure of your network** (they call it two types of model): **sequential and functional API** https://www.analyticsvidhya.com/blog/2021/07/understanding-sequential-vs-functional-api-in-keras/. It's a matter of preference in most cases, we will stick to **sequential** when the layers follow sequentially one after the other as it is slightly leaner in notation.\n"
      ]
    },
    {
      "cell_type": "code",
      "metadata": {
        "id": "qQmvjMUvvSbG"
      },
      "source": [
        "# Import Keras\n",
        "import keras\n",
        "from keras.models import Sequential\n",
        "from keras.layers import Dense\n"
      ],
      "execution_count": 22,
      "outputs": []
    },
    {
      "cell_type": "code",
      "metadata": {
        "id": "CConlIgMuohm"
      },
      "source": [
        "num_input_units = X_train.shape[1] # 784\n",
        "num_classes = y_train.shape[1] #10\n",
        "num_hidden_n =  90\n",
        "\n",
        "optimizer = 'sgd'\n",
        "\n",
        "#OR \n",
        "#from keras import optimizers\n",
        "# there are many more parameters that we could be adding here\n",
        "# optimizer = keras.optimizers.SGD(lr=0.01, decay=0.1, momentum=0.1)\n",
        "# learning rate is set in the optimizer\n",
        "# learning rates 0.1,0.01,0.001 are good values to test and start with\n"
      ],
      "execution_count": 23,
      "outputs": []
    },
    {
      "cell_type": "code",
      "metadata": {
        "id": "lkYI8bNGpsz6"
      },
      "source": [
        "model = Sequential()\n",
        "    #first hidden layer\n",
        "model.add(Dense(num_hidden_n, input_dim=num_input_units, kernel_initializer='normal', activation='relu'))\n",
        "   \n",
        "   \n",
        "# Start adding layers one by one: \n",
        "#model.add(Dense(nb_units,  #number of neurons/nodes/units in hidden layer\n",
        "         #       activation='relu',  #activation function\n",
        "          #      kernel_initializer=keras.initializers.he_normal(seed=seed),  #initialisation of weights; check doc for more options\n",
        "           #     bias_initializer='zeros', #initialization of biases, will also be done by default\n",
        "            #    input_shape=(X.shape[1],))) #number of input features in your dataset, i.e number of nodes in your input layer, i.e. number of features\n",
        "\n",
        "#you can add more hidden layers etc.\n",
        "#model.add(Dense(50, input_dim=num_pixels, kernel_initializer='normal', activation='relu'))\n",
        "#output layer\n",
        "model.add(Dense(num_classes, kernel_initializer='normal', activation='softmax'))\n",
        "\n",
        "# Compile model\n",
        "model.compile(loss='categorical_crossentropy', # loss function is defined by the task \n",
        "                  optimizer=optimizer,\n",
        "                  metrics=['accuracy', 'auc'])\n",
        "  "
      ],
      "execution_count": 24,
      "outputs": []
    },
    {
      "cell_type": "code",
      "metadata": {
        "colab": {
          "base_uri": "https://localhost:8080/"
        },
        "id": "AuOMY-CW7vH5",
        "outputId": "97b926cc-78d8-4344-e6d1-a96a353da538"
      },
      "source": [
        "num_classes"
      ],
      "execution_count": 25,
      "outputs": [
        {
          "output_type": "execute_result",
          "data": {
            "text/plain": [
              "10"
            ]
          },
          "metadata": {},
          "execution_count": 25
        }
      ]
    },
    {
      "cell_type": "code",
      "metadata": {
        "id": "HR73pv5NB4p9"
      },
      "source": [
        "# we can also write it all in a function \n",
        "def baseline_model(num_hidden_n, num_input_units, num_classes, optimizer):\n",
        "    model = Sequential()\n",
        "    #first hidden layer\n",
        "    model.add(Dense(num_hidden_n, input_dim=num_input_units, kernel_initializer='normal', activation='relu'))\n",
        "    #           kernel_initializer=keras.initializers.he_normal(seed=seed),  #initialisation of weights; check doc for more options\n",
        "\n",
        "    #you can add more hidden layers etc.\n",
        "    #model.add(Dense(50, input_dim=num_input_units, kernel_initializer='normal', activation='relu'))\n",
        "    #output layer\n",
        "    model.add(Dense(num_classes, kernel_initializer='normal', activation='softmax'))\n",
        "\n",
        "    # Compile model\n",
        "    model.compile(loss='categorical_crossentropy',\n",
        "                  optimizer=optimizer,\n",
        "                  metrics=['accuracy'])\n",
        "    return model"
      ],
      "execution_count": 26,
      "outputs": []
    },
    {
      "cell_type": "markdown",
      "metadata": {
        "id": "wuAf6143qlEk"
      },
      "source": [
        "##Instantiate the model\n",
        "Having defined the structure of the model, we can now instantiate a concrete version of it by picking the relevant parameters and calling the function that returns the model object.\n",
        "\n",
        "Here we have chosen the hidden layers to have 90 nodes, while input and output layers have 784 and 10 nodes respectively."
      ]
    },
    {
      "cell_type": "code",
      "metadata": {
        "colab": {
          "base_uri": "https://localhost:8080/"
        },
        "id": "lG36CQ5otSJ5",
        "outputId": "89efb561-3b6a-4576-dc86-864695a52533"
      },
      "source": [
        "model = baseline_model(num_hidden_n, num_input_units, num_classes, optimizer)\n",
        "model.summary()"
      ],
      "execution_count": 27,
      "outputs": [
        {
          "output_type": "stream",
          "name": "stdout",
          "text": [
            "Model: \"sequential_1\"\n",
            "_________________________________________________________________\n",
            "Layer (type)                 Output Shape              Param #   \n",
            "=================================================================\n",
            "dense_2 (Dense)              (None, 90)                70650     \n",
            "_________________________________________________________________\n",
            "dense_3 (Dense)              (None, 10)                910       \n",
            "=================================================================\n",
            "Total params: 71,560\n",
            "Trainable params: 71,560\n",
            "Non-trainable params: 0\n",
            "_________________________________________________________________\n"
          ]
        }
      ]
    },
    {
      "cell_type": "code",
      "metadata": {
        "colab": {
          "base_uri": "https://localhost:8080/"
        },
        "id": "ZxZWHCkFt09E",
        "outputId": "9d4d125a-5b38-45c0-b61f-d4d88c9757f9"
      },
      "source": [
        "# lets recreate the parameters\n",
        "# input to hidden layer:\n",
        "\n",
        "print(X_train.shape[1] * num_hidden_n + num_hidden_n)\n",
        "#(dimension of W_h_i, number of features X.shape[1] * number hidden layer neuron + bias vector size)\n",
        "\n",
        "\n",
        "# hidden to output layer\n",
        "print(num_hidden_n * num_classes + num_classes)\n",
        "#(dimension of W_h_o , bias parameters)"
      ],
      "execution_count": 28,
      "outputs": [
        {
          "output_type": "stream",
          "name": "stdout",
          "text": [
            "70650\n",
            "910\n"
          ]
        }
      ]
    },
    {
      "cell_type": "code",
      "metadata": {
        "colab": {
          "base_uri": "https://localhost:8080/"
        },
        "id": "6kDEAt6ruQQB",
        "outputId": "753d27b8-27fc-491c-d8c7-bf2459e34ba4"
      },
      "source": [
        "# Functional API analogue\n",
        "from keras.layers import Input, Dense\n",
        "from keras.models import Model\n",
        "\n",
        "inputs = Input(shape=(X_train.shape[1],))\n",
        "layer1 = Dense(num_hidden_n,  activation='relu', #activation function\n",
        "                kernel_initializer='normal', #initialisation of weights, \n",
        "                bias_initializer='zeros')(inputs)\n",
        "layer2 = Dense(num_hidden_n,activation='relu',kernel_initializer='normal',bias_initializer='zeros')(layer1)\n",
        "predictions = Dense(num_classes, activation='softmax')(layer2)\n",
        "\n",
        "model2 = Model(inputs=inputs, outputs=predictions)\n",
        "model2.summary()"
      ],
      "execution_count": 29,
      "outputs": [
        {
          "output_type": "stream",
          "name": "stdout",
          "text": [
            "Model: \"model\"\n",
            "_________________________________________________________________\n",
            "Layer (type)                 Output Shape              Param #   \n",
            "=================================================================\n",
            "input_1 (InputLayer)         [(None, 784)]             0         \n",
            "_________________________________________________________________\n",
            "dense_4 (Dense)              (None, 90)                70650     \n",
            "_________________________________________________________________\n",
            "dense_5 (Dense)              (None, 90)                8190      \n",
            "_________________________________________________________________\n",
            "dense_6 (Dense)              (None, 10)                910       \n",
            "=================================================================\n",
            "Total params: 79,750\n",
            "Trainable params: 79,750\n",
            "Non-trainable params: 0\n",
            "_________________________________________________________________\n"
          ]
        }
      ]
    },
    {
      "cell_type": "code",
      "metadata": {
        "colab": {
          "base_uri": "https://localhost:8080/"
        },
        "id": "1nRj3PL234cI",
        "outputId": "4f798967-6ac5-4f5d-f856-a9ad84fc1e8f"
      },
      "source": [
        "# input to hidden layer:\n",
        "\n",
        "print(X_train.shape[1] * num_hidden_n + num_hidden_n)\n",
        "#(dimension of W_h_i, number of features X.shape[1] * number hidden layer neuron + bias vector size)\n",
        "\n",
        "# first hidden to second hidden layer\n",
        "print(num_hidden_n * num_hidden_n + num_hidden_n)\n",
        "#(number hidden layers neuron from first hidden layer *number of hidden layers neuron second hidden layer\n",
        "# + (number of hidden layer nerons second hidden layer =number of bias terms))\n",
        "\n",
        "# second hidden to output layer\n",
        "print(num_hidden_n * num_classes + num_classes)\n",
        "#(dimension of W_h_o + bias parameters)"
      ],
      "execution_count": 30,
      "outputs": [
        {
          "output_type": "stream",
          "name": "stdout",
          "text": [
            "70650\n",
            "8190\n",
            "910\n"
          ]
        }
      ]
    },
    {
      "cell_type": "markdown",
      "metadata": {
        "id": "sV0605d8qqpf"
      },
      "source": [
        "##Train and evaluate the model\n",
        "With the model instantiated, we can finally call the fit method on it using the data set we prepared before.\n",
        "\n",
        "After training the model we evaluate its performance by looking at its accuracy."
      ]
    },
    {
      "cell_type": "code",
      "metadata": {
        "colab": {
          "base_uri": "https://localhost:8080/"
        },
        "id": "l8BUfrIsqqdp",
        "outputId": "f5e0840a-0327-432a-cbd1-79fa85f57ee2"
      },
      "source": [
        "X_train.shape"
      ],
      "execution_count": 31,
      "outputs": [
        {
          "output_type": "execute_result",
          "data": {
            "text/plain": [
              "(60000, 784)"
            ]
          },
          "metadata": {},
          "execution_count": 31
        }
      ]
    },
    {
      "cell_type": "markdown",
      "metadata": {
        "id": "9W4m0KvYEgA_"
      },
      "source": [
        "Batch size determines how many examples you look at before making a weight update. The lower it is, the noisier the training signal is going to be, the higher it is, the longer it will take to compute the gradient for each step.\n",
        "\n",
        "\n",
        "To understand what the batch size should be, it's important to see the relationship between batch gradient descent, online SGD, and mini-batch SGD. Here's the general formula for the weight update step in mini-batch SGD, which is a generalization of all three types.\n",
        "assume |𝑥| to be the number of datapoints \n",
        "1. Batch gradient descent, 𝐵=|𝑥|\n",
        "2. Online stochastic gradient descent: 𝐵=1\n",
        "3. Mini-batch stochastic gradient descent: 𝐵>1 but 𝐵<|𝑥|.\n",
        "\n",
        "Batch gradient descent updates the weights using the gradients of the entire dataset 𝑥; whereas SGD updates the weights using an average of the gradients for a mini-batch 𝑚. (Using the average as opposed to a sum prevents the algorithm from taking steps that are too large if the dataset is very large.\n"
      ]
    },
    {
      "cell_type": "code",
      "metadata": {
        "colab": {
          "base_uri": "https://localhost:8080/"
        },
        "id": "wazsQP0A2Aza",
        "outputId": "3eb96735-d967-42e7-920f-f802c65f96ba"
      },
      "source": [
        "y_test.shape"
      ],
      "execution_count": 32,
      "outputs": [
        {
          "output_type": "execute_result",
          "data": {
            "text/plain": [
              "(10000, 10)"
            ]
          },
          "metadata": {},
          "execution_count": 32
        }
      ]
    },
    {
      "cell_type": "code",
      "metadata": {
        "colab": {
          "base_uri": "https://localhost:8080/"
        },
        "id": "u0VTedulEX4E",
        "outputId": "560f075b-4b96-4db6-bb85-9be11b17d03e"
      },
      "source": [
        "\n",
        "# by defining the batch size, keras will automatically use the gradient descent related to it\n",
        "model.fit(X_train,\n",
        "          y_train,\n",
        "          epochs=5,\n",
        "          batch_size=200, # if unspecified defaulted to 32\n",
        "          verbose=1\n",
        "          #validation_data=(X_test, y_test) #OR validation_split=0.3 \n",
        "          )\n",
        "\n",
        "scores = model.evaluate(X_test, y_test, verbose=1)\n",
        "print(\"Error Rate: %.2f%%\" % (100-scores[1]*100))"
      ],
      "execution_count": 33,
      "outputs": [
        {
          "output_type": "stream",
          "name": "stdout",
          "text": [
            "Epoch 1/5\n",
            "300/300 [==============================] - 2s 3ms/step - loss: 1.9641 - accuracy: 0.5144\n",
            "Epoch 2/5\n",
            "300/300 [==============================] - 1s 3ms/step - loss: 1.1509 - accuracy: 0.7645\n",
            "Epoch 3/5\n",
            "300/300 [==============================] - 1s 3ms/step - loss: 0.7506 - accuracy: 0.8289\n",
            "Epoch 4/5\n",
            "300/300 [==============================] - 1s 3ms/step - loss: 0.5928 - accuracy: 0.8545\n",
            "Epoch 5/5\n",
            "300/300 [==============================] - 1s 3ms/step - loss: 0.5120 - accuracy: 0.8691\n",
            "313/313 [==============================] - 1s 1ms/step - loss: 0.4628 - accuracy: 0.8820\n",
            "Error Rate: 11.80%\n"
          ]
        }
      ]
    },
    {
      "cell_type": "code",
      "metadata": {
        "colab": {
          "base_uri": "https://localhost:8080/"
        },
        "id": "vNRDaq_DHLHY",
        "outputId": "b592f8dd-ec4c-44fe-fe60-5a5e9b82c7ef"
      },
      "source": [
        "scores"
      ],
      "execution_count": 34,
      "outputs": [
        {
          "output_type": "execute_result",
          "data": {
            "text/plain": [
              "[0.4628397524356842, 0.8820000290870667]"
            ]
          },
          "metadata": {},
          "execution_count": 34
        }
      ]
    },
    {
      "cell_type": "markdown",
      "metadata": {
        "id": "nsuBI_jbqzae"
      },
      "source": [
        "\n",
        "The error rate does not seem very good. Maybe we could try a different optimizer. We have already learned about one - stochastic gradient descent, it is considered the basic one. Improved performance can be achieved by using optimizers like Rmsprop, Adagrad, Adam, etc that use adjusted learning rate shedule.\n",
        "\n",
        "We will instantiate and fit the model again with the adam optimization algorithm. By using Keras, the only thing you need to do is to pass a different argument to the model.\n",
        "\n",
        "[ ]"
      ]
    },
    {
      "cell_type": "code",
      "metadata": {
        "id": "rby7W4c9CU29"
      },
      "source": [
        "model = baseline_model(num_hidden_n,\n",
        "                       num_input_units,\n",
        "                       num_classes,\n",
        "                       optimizer = \"adam\")"
      ],
      "execution_count": 35,
      "outputs": []
    },
    {
      "cell_type": "code",
      "metadata": {
        "colab": {
          "base_uri": "https://localhost:8080/"
        },
        "id": "g0NRt5Ub7qif",
        "outputId": "5e0a863b-838a-475b-cae5-fc8d25e27e05"
      },
      "source": [
        "#Compile model\n",
        "#model.compile(loss='categorical_crossentropy',\n",
        " #                 optimizer='adam',\n",
        "  #                metrics=['accuracy'])\n",
        "\n",
        "model.summary()"
      ],
      "execution_count": 36,
      "outputs": [
        {
          "output_type": "stream",
          "name": "stdout",
          "text": [
            "Model: \"sequential_2\"\n",
            "_________________________________________________________________\n",
            "Layer (type)                 Output Shape              Param #   \n",
            "=================================================================\n",
            "dense_7 (Dense)              (None, 90)                70650     \n",
            "_________________________________________________________________\n",
            "dense_8 (Dense)              (None, 10)                910       \n",
            "=================================================================\n",
            "Total params: 71,560\n",
            "Trainable params: 71,560\n",
            "Non-trainable params: 0\n",
            "_________________________________________________________________\n"
          ]
        }
      ]
    },
    {
      "cell_type": "code",
      "metadata": {
        "colab": {
          "base_uri": "https://localhost:8080/"
        },
        "id": "Eaf9Vu5JqwNR",
        "outputId": "44af2635-a9eb-4502-cfa7-4454d3f73292"
      },
      "source": [
        "story = model.fit(X_train,\n",
        "          y_train,\n",
        "          epochs=5,\n",
        "          batch_size=200,\n",
        "          validation_split=0.2,\n",
        "          verbose=1)"
      ],
      "execution_count": 37,
      "outputs": [
        {
          "output_type": "stream",
          "name": "stdout",
          "text": [
            "Epoch 1/5\n",
            "240/240 [==============================] - 2s 5ms/step - loss: 0.6028 - accuracy: 0.8508 - val_loss: 0.2917 - val_accuracy: 0.9183\n",
            "Epoch 2/5\n",
            "240/240 [==============================] - 1s 4ms/step - loss: 0.2785 - accuracy: 0.9202 - val_loss: 0.2414 - val_accuracy: 0.9317\n",
            "Epoch 3/5\n",
            "240/240 [==============================] - 1s 4ms/step - loss: 0.2249 - accuracy: 0.9354 - val_loss: 0.2001 - val_accuracy: 0.9442\n",
            "Epoch 4/5\n",
            "240/240 [==============================] - 1s 4ms/step - loss: 0.1842 - accuracy: 0.9471 - val_loss: 0.1732 - val_accuracy: 0.9515\n",
            "Epoch 5/5\n",
            "240/240 [==============================] - 1s 4ms/step - loss: 0.1548 - accuracy: 0.9554 - val_loss: 0.1547 - val_accuracy: 0.9560\n"
          ]
        }
      ]
    },
    {
      "cell_type": "code",
      "metadata": {
        "colab": {
          "base_uri": "https://localhost:8080/"
        },
        "id": "_5tEyh_u6ZTy",
        "outputId": "54e3cb51-8795-4f44-a61a-3b0a0b796742"
      },
      "source": [
        "X_test.shape"
      ],
      "execution_count": 38,
      "outputs": [
        {
          "output_type": "execute_result",
          "data": {
            "text/plain": [
              "(10000, 784)"
            ]
          },
          "metadata": {},
          "execution_count": 38
        }
      ]
    },
    {
      "cell_type": "code",
      "metadata": {
        "colab": {
          "base_uri": "https://localhost:8080/"
        },
        "id": "rD4YYQow5lNO",
        "outputId": "d40c99ff-b5e4-4906-e047-8c3471df3b2e"
      },
      "source": [
        "\n",
        "scores = model.evaluate(X_test, y_test, verbose = 2)\n",
        "print(\"Error Rate: %.2f%%\" % (100-scores[1]*100))"
      ],
      "execution_count": 39,
      "outputs": [
        {
          "output_type": "stream",
          "name": "stdout",
          "text": [
            "313/313 - 1s - loss: 0.1527 - accuracy: 0.9543\n",
            "Error Rate: 4.57%\n"
          ]
        }
      ]
    },
    {
      "cell_type": "code",
      "metadata": {
        "colab": {
          "base_uri": "https://localhost:8080/"
        },
        "id": "fU2Pv8nXq2Lv",
        "outputId": "52d9a0c2-45c9-446d-e244-f5fd0113e879"
      },
      "source": [
        "score = model.evaluate(X_test, y_test, verbose=0)\n",
        "print('Test loss:', score[0])\n",
        "print('Test accuracy:', score[1])"
      ],
      "execution_count": 40,
      "outputs": [
        {
          "output_type": "stream",
          "name": "stdout",
          "text": [
            "Test loss: 0.15271173417568207\n",
            "Test accuracy: 0.9542999863624573\n"
          ]
        }
      ]
    },
    {
      "cell_type": "code",
      "metadata": {
        "colab": {
          "base_uri": "https://localhost:8080/"
        },
        "id": "Pa60mIbBI4JF",
        "outputId": "c32cbcef-b92c-4c3f-87d6-a5a42d28013d"
      },
      "source": [
        "\n",
        "# loss and accuracy for train set, if you set validation set then you ll also see those\n",
        "story.history.keys()"
      ],
      "execution_count": 41,
      "outputs": [
        {
          "output_type": "execute_result",
          "data": {
            "text/plain": [
              "dict_keys(['loss', 'accuracy', 'val_loss', 'val_accuracy'])"
            ]
          },
          "metadata": {},
          "execution_count": 41
        }
      ]
    },
    {
      "cell_type": "code",
      "metadata": {
        "colab": {
          "base_uri": "https://localhost:8080/"
        },
        "id": "187l9JTZ4-WT",
        "outputId": "a110ee73-f44d-4593-b10f-7e7928842916"
      },
      "source": [
        "story.history['accuracy']"
      ],
      "execution_count": 42,
      "outputs": [
        {
          "output_type": "execute_result",
          "data": {
            "text/plain": [
              "[0.8507500290870667,\n",
              " 0.9202291369438171,\n",
              " 0.9353749752044678,\n",
              " 0.9471250176429749,\n",
              " 0.9554374814033508]"
            ]
          },
          "metadata": {},
          "execution_count": 42
        }
      ]
    },
    {
      "cell_type": "code",
      "metadata": {
        "colab": {
          "base_uri": "https://localhost:8080/",
          "height": 590
        },
        "id": "eV1Xuh9pI-p0",
        "outputId": "cad0958c-b6be-441a-87af-026658fd1df1"
      },
      "source": [
        "import matplotlib.pyplot as plt\n",
        "\n",
        "def show_history(story):\n",
        "    fig, (ax1, ax2) = plt.subplots(1, 2)\n",
        "    fig.set_size_inches(18.5, 10.5)\n",
        "    ax1.plot(story.history['accuracy'])\n",
        "    ax1.plot(story.history['val_accuracy'])\n",
        "    ax1.set(xlabel='epoch', ylabel='accuracy')\n",
        "    ax1.legend(['train_accuracy', 'val_accuracy'], loc='best')\n",
        "    ax1.set_title('Accuracy evolution during NN training')\n",
        "    \n",
        "    ax2.plot(story.history['loss'])\n",
        "    ax2.plot(story.history['val_loss'])\n",
        "    ax2.set(xlabel='epoch', ylabel='loss')\n",
        "    ax2.legend(['train_loss', 'val_loss'], loc='best')\n",
        "    ax2.set_title('Loss evolution during NN training')\n",
        "    plt.show()\n",
        "\n",
        "show_history(story)"
      ],
      "execution_count": 43,
      "outputs": [
        {
          "output_type": "display_data",
          "data": {
            "image/png": "[encoded data removed]",
            "text/plain": [
              "<Figure size 1332x756 with 2 Axes>"
            ]
          },
          "metadata": {
            "needs_background": "light"
          }
        }
      ]
    },
    {
      "cell_type": "markdown",
      "metadata": {
        "id": "0stYo8jrKtKx"
      },
      "source": [
        "If validation loss >> training loss you can call it overfitting.\n",
        "\n",
        "If validation loss  > training loss you can call it some overfitting.\n",
        "\n",
        "If validation loss  < training loss you can call it some underfitting.\n",
        "\n",
        "If validation loss << training loss you can call it underfitting.\n",
        "\n",
        "Just right if training loss ~ validation loss\n",
        "https://towardsdatascience.com/dont-overfit-how-to-prevent-overfitting-in-your-deep-learning-models-63274e552323"
      ]
    },
    {
      "cell_type": "markdown",
      "metadata": {
        "id": "0D-A0Hy1t9Xz"
      },
      "source": [
        ""
      ]
    },
    {
      "cell_type": "code",
      "metadata": {
        "colab": {
          "base_uri": "https://localhost:8080/"
        },
        "id": "y9U14_aGKs8D",
        "outputId": "e9474c88-e4a1-4b15-f713-28f39a12a906"
      },
      "source": [
        "# Compute predictions\n",
        "yhat = model.predict(X_test)\n",
        "yhat.shape"
      ],
      "execution_count": 44,
      "outputs": [
        {
          "output_type": "execute_result",
          "data": {
            "text/plain": [
              "(10000, 10)"
            ]
          },
          "metadata": {},
          "execution_count": 44
        }
      ]
    },
    {
      "cell_type": "code",
      "metadata": {
        "colab": {
          "base_uri": "https://localhost:8080/"
        },
        "id": "S-QXrf-7LXbd",
        "outputId": "5f11459f-2df3-4174-ee28-cf2053905aac"
      },
      "source": [
        "yhat"
      ],
      "execution_count": 45,
      "outputs": [
        {
          "output_type": "execute_result",
          "data": {
            "text/plain": [
              "array([[1.30020435e-05, 8.01213318e-09, 3.02557339e-04, ...,\n",
              "        9.92801309e-01, 6.86231306e-06, 1.41632787e-04],\n",
              "       [4.60627380e-05, 2.16451939e-04, 9.94704783e-01, ...,\n",
              "        2.90306973e-10, 2.39499896e-05, 4.07842614e-11],\n",
              "       [2.52499503e-05, 9.91335213e-01, 2.41211709e-03, ...,\n",
              "        2.28936714e-03, 1.41980872e-03, 7.92643914e-05],\n",
              "       ...,\n",
              "       [3.49054005e-07, 1.29077591e-07, 1.52703033e-05, ...,\n",
              "        1.21111276e-04, 2.82045174e-03, 1.11477440e-02],\n",
              "       [1.25626585e-07, 5.07923801e-07, 1.91305283e-08, ...,\n",
              "        2.97237746e-09, 3.58577759e-04, 1.02474926e-08],\n",
              "       [4.93916741e-06, 8.96497321e-10, 1.01468977e-04, ...,\n",
              "        6.06428074e-10, 4.21509512e-08, 1.55893465e-09]], dtype=float32)"
            ]
          },
          "metadata": {},
          "execution_count": 45
        }
      ]
    },
    {
      "cell_type": "code",
      "metadata": {
        "colab": {
          "base_uri": "https://localhost:8080/"
        },
        "id": "zDIfPLk-J8IN",
        "outputId": "248a23cc-ad9c-4773-bbfe-f5c6b59998aa"
      },
      "source": [
        "# Finding the most probable class\n",
        "yhat_c = np.argmax(yhat, axis=1)\n",
        "print(yhat_c)"
      ],
      "execution_count": 46,
      "outputs": [
        {
          "output_type": "stream",
          "name": "stdout",
          "text": [
            "[7 2 1 ... 4 5 6]\n"
          ]
        }
      ]
    },
    {
      "cell_type": "code",
      "metadata": {
        "colab": {
          "base_uri": "https://localhost:8080/"
        },
        "id": "vt2KNTnnLcnW",
        "outputId": "8e15ca02-adf7-4339-f787-c50c1db6bb19"
      },
      "source": [
        "yhat_c[0]"
      ],
      "execution_count": 47,
      "outputs": [
        {
          "output_type": "execute_result",
          "data": {
            "text/plain": [
              "7"
            ]
          },
          "metadata": {},
          "execution_count": 47
        }
      ]
    },
    {
      "cell_type": "code",
      "metadata": {
        "colab": {
          "base_uri": "https://localhost:8080/"
        },
        "id": "15kGAWYnK13h",
        "outputId": "13e481b1-49f6-4226-d124-7bc5e0c190e5"
      },
      "source": [
        "from sklearn.metrics import classification_report\n",
        "target_names = [\"0\",\"1\",\"2\",\"3\",\"4\",\"5\", \"6\",\"7\",\"8\",\"9\"]\n",
        "true_label = np.argmax(y_test,axis = 1)\n",
        "print ('\\nClasification report:\\n', classification_report(true_label, yhat_c, target_names=target_names))"
      ],
      "execution_count": 48,
      "outputs": [
        {
          "output_type": "stream",
          "name": "stdout",
          "text": [
            "\n",
            "Clasification report:\n",
            "               precision    recall  f1-score   support\n",
            "\n",
            "           0       0.97      0.98      0.98       980\n",
            "           1       0.97      0.99      0.98      1135\n",
            "           2       0.96      0.95      0.96      1032\n",
            "           3       0.90      0.96      0.93      1010\n",
            "           4       0.95      0.95      0.95       982\n",
            "           5       0.94      0.94      0.94       892\n",
            "           6       0.96      0.96      0.96       958\n",
            "           7       0.96      0.95      0.95      1028\n",
            "           8       0.97      0.91      0.94       974\n",
            "           9       0.95      0.94      0.94      1009\n",
            "\n",
            "    accuracy                           0.95     10000\n",
            "   macro avg       0.95      0.95      0.95     10000\n",
            "weighted avg       0.95      0.95      0.95     10000\n",
            "\n"
          ]
        }
      ]
    },
    {
      "cell_type": "code",
      "metadata": {
        "colab": {
          "base_uri": "https://localhost:8080/"
        },
        "id": "DaZIqMYgL8qn",
        "outputId": "7d0b2019-f722-49a3-9578-90d43ed86ade"
      },
      "source": [
        "!pip install tensorflow-addons"
      ],
      "execution_count": 49,
      "outputs": [
        {
          "output_type": "stream",
          "name": "stdout",
          "text": [
            "Collecting tensorflow-addons\n",
            "  Downloading tensorflow_addons-0.14.0-cp37-cp37m-manylinux_2_12_x86_64.manylinux2010_x86_64.whl (1.1 MB)\n",
            "\u001b[?25l\r\u001b[K     |▎                               | 10 kB 26.2 MB/s eta 0:00:01\r\u001b[K     |▋                               | 20 kB 29.9 MB/s eta 0:00:01\r\u001b[K     |▉                               | 30 kB 13.7 MB/s eta 0:00:01\r\u001b[K     |█▏                              | 40 kB 10.3 MB/s eta 0:00:01\r\u001b[K     |█▌                              | 51 kB 7.9 MB/s eta 0:00:01\r\u001b[K     |█▊                              | 61 kB 8.0 MB/s eta 0:00:01\r\u001b[K     |██                              | 71 kB 6.5 MB/s eta 0:00:01\r\u001b[K     |██▍                             | 81 kB 7.2 MB/s eta 0:00:01\r\u001b[K     |██▋                             | 92 kB 7.5 MB/s eta 0:00:01\r\u001b[K     |███                             | 102 kB 7.4 MB/s eta 0:00:01\r\u001b[K     |███▎                            | 112 kB 7.4 MB/s eta 0:00:01\r\u001b[K     |███▌                            | 122 kB 7.4 MB/s eta 0:00:01\r\u001b[K     |███▉                            | 133 kB 7.4 MB/s eta 0:00:01\r\u001b[K     |████▏                           | 143 kB 7.4 MB/s eta 0:00:01\r\u001b[K     |████▍                           | 153 kB 7.4 MB/s eta 0:00:01\r\u001b[K     |████▊                           | 163 kB 7.4 MB/s eta 0:00:01\r\u001b[K     |█████                           | 174 kB 7.4 MB/s eta 0:00:01\r\u001b[K     |█████▎                          | 184 kB 7.4 MB/s eta 0:00:01\r\u001b[K     |█████▋                          | 194 kB 7.4 MB/s eta 0:00:01\r\u001b[K     |██████                          | 204 kB 7.4 MB/s eta 0:00:01\r\u001b[K     |██████▏                         | 215 kB 7.4 MB/s eta 0:00:01\r\u001b[K     |██████▌                         | 225 kB 7.4 MB/s eta 0:00:01\r\u001b[K     |██████▉                         | 235 kB 7.4 MB/s eta 0:00:01\r\u001b[K     |███████                         | 245 kB 7.4 MB/s eta 0:00:01\r\u001b[K     |███████▍                        | 256 kB 7.4 MB/s eta 0:00:01\r\u001b[K     |███████▊                        | 266 kB 7.4 MB/s eta 0:00:01\r\u001b[K     |████████                        | 276 kB 7.4 MB/s eta 0:00:01\r\u001b[K     |████████▎                       | 286 kB 7.4 MB/s eta 0:00:01\r\u001b[K     |████████▋                       | 296 kB 7.4 MB/s eta 0:00:01\r\u001b[K     |████████▉                       | 307 kB 7.4 MB/s eta 0:00:01\r\u001b[K     |█████████▏                      | 317 kB 7.4 MB/s eta 0:00:01\r\u001b[K     |█████████▌                      | 327 kB 7.4 MB/s eta 0:00:01\r\u001b[K     |█████████▊                      | 337 kB 7.4 MB/s eta 0:00:01\r\u001b[K     |██████████                      | 348 kB 7.4 MB/s eta 0:00:01\r\u001b[K     |██████████▍                     | 358 kB 7.4 MB/s eta 0:00:01\r\u001b[K     |██████████▋                     | 368 kB 7.4 MB/s eta 0:00:01\r\u001b[K     |███████████                     | 378 kB 7.4 MB/s eta 0:00:01\r\u001b[K     |███████████▎                    | 389 kB 7.4 MB/s eta 0:00:01\r\u001b[K     |███████████▌                    | 399 kB 7.4 MB/s eta 0:00:01\r\u001b[K     |███████████▉                    | 409 kB 7.4 MB/s eta 0:00:01\r\u001b[K     |████████████▏                   | 419 kB 7.4 MB/s eta 0:00:01\r\u001b[K     |████████████▍                   | 430 kB 7.4 MB/s eta 0:00:01\r\u001b[K     |████████████▊                   | 440 kB 7.4 MB/s eta 0:00:01\r\u001b[K     |█████████████                   | 450 kB 7.4 MB/s eta 0:00:01\r\u001b[K     |█████████████▎                  | 460 kB 7.4 MB/s eta 0:00:01\r\u001b[K     |█████████████▋                  | 471 kB 7.4 MB/s eta 0:00:01\r\u001b[K     |██████████████                  | 481 kB 7.4 MB/s eta 0:00:01\r\u001b[K     |██████████████▏                 | 491 kB 7.4 MB/s eta 0:00:01\r\u001b[K     |██████████████▌                 | 501 kB 7.4 MB/s eta 0:00:01\r\u001b[K     |██████████████▉                 | 512 kB 7.4 MB/s eta 0:00:01\r\u001b[K     |███████████████                 | 522 kB 7.4 MB/s eta 0:00:01\r\u001b[K     |███████████████▍                | 532 kB 7.4 MB/s eta 0:00:01\r\u001b[K     |███████████████▊                | 542 kB 7.4 MB/s eta 0:00:01\r\u001b[K     |████████████████                | 552 kB 7.4 MB/s eta 0:00:01\r\u001b[K     |████████████████▎               | 563 kB 7.4 MB/s eta 0:00:01\r\u001b[K     |████████████████▋               | 573 kB 7.4 MB/s eta 0:00:01\r\u001b[K     |████████████████▉               | 583 kB 7.4 MB/s eta 0:00:01\r\u001b[K     |█████████████████▏              | 593 kB 7.4 MB/s eta 0:00:01\r\u001b[K     |█████████████████▌              | 604 kB 7.4 MB/s eta 0:00:01\r\u001b[K     |█████████████████▊              | 614 kB 7.4 MB/s eta 0:00:01\r\u001b[K     |██████████████████              | 624 kB 7.4 MB/s eta 0:00:01\r\u001b[K     |██████████████████▍             | 634 kB 7.4 MB/s eta 0:00:01\r\u001b[K     |██████████████████▋             | 645 kB 7.4 MB/s eta 0:00:01\r\u001b[K     |███████████████████             | 655 kB 7.4 MB/s eta 0:00:01\r\u001b[K     |███████████████████▎            | 665 kB 7.4 MB/s eta 0:00:01\r\u001b[K     |███████████████████▌            | 675 kB 7.4 MB/s eta 0:00:01\r\u001b[K     |███████████████████▉            | 686 kB 7.4 MB/s eta 0:00:01\r\u001b[K     |████████████████████▏           | 696 kB 7.4 MB/s eta 0:00:01\r\u001b[K     |████████████████████▍           | 706 kB 7.4 MB/s eta 0:00:01\r\u001b[K     |████████████████████▊           | 716 kB 7.4 MB/s eta 0:00:01\r\u001b[K     |█████████████████████           | 727 kB 7.4 MB/s eta 0:00:01\r\u001b[K     |█████████████████████▎          | 737 kB 7.4 MB/s eta 0:00:01\r\u001b[K     |█████████████████████▋          | 747 kB 7.4 MB/s eta 0:00:01\r\u001b[K     |██████████████████████          | 757 kB 7.4 MB/s eta 0:00:01\r\u001b[K     |██████████████████████▏         | 768 kB 7.4 MB/s eta 0:00:01\r\u001b[K     |██████████████████████▌         | 778 kB 7.4 MB/s eta 0:00:01\r\u001b[K     |██████████████████████▉         | 788 kB 7.4 MB/s eta 0:00:01\r\u001b[K     |███████████████████████         | 798 kB 7.4 MB/s eta 0:00:01\r\u001b[K     |███████████████████████▍        | 808 kB 7.4 MB/s eta 0:00:01\r\u001b[K     |███████████████████████▊        | 819 kB 7.4 MB/s eta 0:00:01\r\u001b[K     |████████████████████████        | 829 kB 7.4 MB/s eta 0:00:01\r\u001b[K     |████████████████████████▎       | 839 kB 7.4 MB/s eta 0:00:01\r\u001b[K     |████████████████████████▋       | 849 kB 7.4 MB/s eta 0:00:01\r\u001b[K     |████████████████████████▉       | 860 kB 7.4 MB/s eta 0:00:01\r\u001b[K     |█████████████████████████▏      | 870 kB 7.4 MB/s eta 0:00:01\r\u001b[K     |█████████████████████████▍      | 880 kB 7.4 MB/s eta 0:00:01\r\u001b[K     |█████████████████████████▊      | 890 kB 7.4 MB/s eta 0:00:01\r\u001b[K     |██████████████████████████      | 901 kB 7.4 MB/s eta 0:00:01\r\u001b[K     |██████████████████████████▎     | 911 kB 7.4 MB/s eta 0:00:01\r\u001b[K     |██████████████████████████▋     | 921 kB 7.4 MB/s eta 0:00:01\r\u001b[K     |███████████████████████████     | 931 kB 7.4 MB/s eta 0:00:01\r\u001b[K     |███████████████████████████▏    | 942 kB 7.4 MB/s eta 0:00:01\r\u001b[K     |███████████████████████████▌    | 952 kB 7.4 MB/s eta 0:00:01\r\u001b[K     |███████████████████████████▉    | 962 kB 7.4 MB/s eta 0:00:01\r\u001b[K     |████████████████████████████    | 972 kB 7.4 MB/s eta 0:00:01\r\u001b[K     |████████████████████████████▍   | 983 kB 7.4 MB/s eta 0:00:01\r\u001b[K     |████████████████████████████▊   | 993 kB 7.4 MB/s eta 0:00:01\r\u001b[K     |█████████████████████████████   | 1.0 MB 7.4 MB/s eta 0:00:01\r\u001b[K     |█████████████████████████████▎  | 1.0 MB 7.4 MB/s eta 0:00:01\r\u001b[K     |█████████████████████████████▋  | 1.0 MB 7.4 MB/s eta 0:00:01\r\u001b[K     |█████████████████████████████▉  | 1.0 MB 7.4 MB/s eta 0:00:01\r\u001b[K     |██████████████████████████████▏ | 1.0 MB 7.4 MB/s eta 0:00:01\r\u001b[K     |██████████████████████████████▌ | 1.1 MB 7.4 MB/s eta 0:00:01\r\u001b[K     |██████████████████████████████▊ | 1.1 MB 7.4 MB/s eta 0:00:01\r\u001b[K     |███████████████████████████████ | 1.1 MB 7.4 MB/s eta 0:00:01\r\u001b[K     |███████████████████████████████▍| 1.1 MB 7.4 MB/s eta 0:00:01\r\u001b[K     |███████████████████████████████▋| 1.1 MB 7.4 MB/s eta 0:00:01\r\u001b[K     |████████████████████████████████| 1.1 MB 7.4 MB/s eta 0:00:01\r\u001b[K     |████████████████████████████████| 1.1 MB 7.4 MB/s \n",
            "\u001b[?25hRequirement already satisfied: typeguard>=2.7 in /usr/local/lib/python3.7/dist-packages (from tensorflow-addons) (2.7.1)\n",
            "Installing collected packages: tensorflow-addons\n",
            "Successfully installed tensorflow-addons-0.14.0\n"
          ]
        }
      ]
    },
    {
      "cell_type": "code",
      "metadata": {
        "id": "Lw815DG1L_fj"
      },
      "source": [
        "import keras\n",
        "import tensorflow as tf \n",
        "import tensorflow_addons as tfa\n",
        "\n",
        "\n",
        "metrics = [ \n",
        "    #keras.metrics.Precision(),\n",
        "    #keras.metrics.Recall(),\n",
        "    keras.metrics.AUC(),\n",
        "    #tfa.metrics.F1Score(\n",
        "    #    name=\"f1_micro\",\n",
        "    #    average=\"micro\",\n",
        "    #    num_classes=1,\n",
        "    #    threshold=0.5,\n",
        "    #),\n",
        "    #tfa.metrics.F1Score(\n",
        "    #    name=\"f1_weighted\",\n",
        "    #    average=\"weighted\",\n",
        "    #    num_classes=1,\n",
        "    #    threshold=0.5,\n",
        "    #),\n",
        "]"
      ],
      "execution_count": 51,
      "outputs": []
    },
    {
      "cell_type": "code",
      "metadata": {
        "colab": {
          "base_uri": "https://localhost:8080/"
        },
        "id": "4t2VwCXnMCTo",
        "outputId": "230c1c6f-bd29-47ee-a7ec-48eb793b3f79"
      },
      "source": [
        "# rerun the mmodel with the above defined metrics in your complie call\n",
        "model.compile(optimizer=\"adam\",loss=\"categorical_crossentropy\",metrics=['accuracy', keras.metrics.AUC()])\n",
        "\n",
        "model.fit(X_train,\n",
        "          y_train,\n",
        "          epochs=5,\n",
        "          batch_size=200,\n",
        "          validation_split=0.2,\n",
        "          verbose=1)"
      ],
      "execution_count": 52,
      "outputs": [
        {
          "output_type": "stream",
          "name": "stdout",
          "text": [
            "Epoch 1/5\n",
            "240/240 [==============================] - 2s 5ms/step - loss: 0.1336 - accuracy: 0.9613 - auc_2: 0.9980 - val_loss: 0.1357 - val_accuracy: 0.9609 - val_auc_2: 0.9977\n",
            "Epoch 2/5\n",
            "240/240 [==============================] - 1s 4ms/step - loss: 0.1144 - accuracy: 0.9667 - auc_2: 0.9985 - val_loss: 0.1251 - val_accuracy: 0.9638 - val_auc_2: 0.9978\n",
            "Epoch 3/5\n",
            "240/240 [==============================] - 1s 4ms/step - loss: 0.1005 - accuracy: 0.9710 - auc_2: 0.9988 - val_loss: 0.1185 - val_accuracy: 0.9657 - val_auc_2: 0.9978\n",
            "Epoch 4/5\n",
            "240/240 [==============================] - 1s 4ms/step - loss: 0.0884 - accuracy: 0.9751 - auc_2: 0.9989 - val_loss: 0.1100 - val_accuracy: 0.9670 - val_auc_2: 0.9983\n",
            "Epoch 5/5\n",
            "240/240 [==============================] - 1s 4ms/step - loss: 0.0779 - accuracy: 0.9779 - auc_2: 0.9992 - val_loss: 0.1080 - val_accuracy: 0.9663 - val_auc_2: 0.9984\n"
          ]
        },
        {
          "output_type": "execute_result",
          "data": {
            "text/plain": [
              "<keras.callbacks.History at 0x7ff854aa3e50>"
            ]
          },
          "metadata": {},
          "execution_count": 52
        }
      ]
    },
    {
      "cell_type": "markdown",
      "metadata": {
        "id": "6n0W4tt9j8H5"
      },
      "source": [
        "# Dropout\n",
        "\n",
        "https://machinelearningmastery.com/dropout-regularization-deep-learning-models-keras/\n",
        "\n",
        "https://keras.io/api/layers/regularization_layers/dropout/\n",
        "\n",
        "REcommendations for using Dropout🇰\n",
        "- use a small dropout value of 20%-50% of neurons with 20% starting point. \n",
        "- Use a larger network\n",
        "- Application of dropout at each layer of the network has shown good results\n",
        "- use a higher learning rate \n",
        "(as recommended in the original paper)"
      ]
    },
    {
      "cell_type": "code",
      "metadata": {
        "id": "2CEucfOPnkEP"
      },
      "source": [
        "num_input_units = X_train.shape[1] # 784\n",
        "num_classes = y_train.shape[1] #10\n",
        "num_hidden_n =  90\n",
        "optimizer = 'adam'\n",
        "\n",
        "seed = 42"
      ],
      "execution_count": 55,
      "outputs": []
    },
    {
      "cell_type": "code",
      "metadata": {
        "id": "PkywRjaLoGx8"
      },
      "source": [
        "from keras.layers import Dropout"
      ],
      "execution_count": 56,
      "outputs": []
    },
    {
      "cell_type": "code",
      "metadata": {
        "id": "GV2ZeZ6Jj7o4"
      },
      "source": [
        "#Let's rebuild the model and add 2 dropout layers after each Hidden Layer with a drop out rate of 0.1 (we can leave the bias setting to default this time)\n",
        "# we can also write it all in a function \n",
        "def dropout_model():\n",
        "    model = Sequential()\n",
        "    #first hidden layer\n",
        "    model.add(Dense(num_hidden_n, input_dim=num_input_units, kernel_initializer=keras.initializers.he_normal(seed=seed), activation='relu'))\n",
        "    # normally use dropout btw. 0.2- 0.5 , start with a small dropout rate, then \n",
        "    model.add(Dropout(0.5))\n",
        "    model.add(Dense(50, kernel_initializer=keras.initializers.he_normal(seed=seed), activation='relu'))\n",
        "    model.add(Dropout(0.5))\n",
        "    #output layer\n",
        "    model.add(Dense(num_classes, kernel_initializer='normal', activation='softmax'))\n",
        "\n",
        "    # Compile model\n",
        "    model.compile(loss='categorical_crossentropy',\n",
        "                  optimizer=optimizer,\n",
        "                  metrics=['accuracy'])\n",
        "    return model"
      ],
      "execution_count": 69,
      "outputs": []
    },
    {
      "cell_type": "code",
      "metadata": {
        "id": "hUMrV3DwpAZb"
      },
      "source": [
        "model = dropout_model()"
      ],
      "execution_count": 70,
      "outputs": []
    },
    {
      "cell_type": "code",
      "metadata": {
        "colab": {
          "base_uri": "https://localhost:8080/"
        },
        "id": "lvUIlENYon30",
        "outputId": "8324f69a-9a18-4fa7-b882-c9368b21cc14"
      },
      "source": [
        "model.summary()"
      ],
      "execution_count": 71,
      "outputs": [
        {
          "output_type": "stream",
          "name": "stdout",
          "text": [
            "Model: \"sequential_6\"\n",
            "_________________________________________________________________\n",
            "Layer (type)                 Output Shape              Param #   \n",
            "=================================================================\n",
            "dense_15 (Dense)             (None, 90)                70650     \n",
            "_________________________________________________________________\n",
            "dropout_4 (Dropout)          (None, 90)                0         \n",
            "_________________________________________________________________\n",
            "dense_16 (Dense)             (None, 50)                4550      \n",
            "_________________________________________________________________\n",
            "dropout_5 (Dropout)          (None, 50)                0         \n",
            "_________________________________________________________________\n",
            "dense_17 (Dense)             (None, 10)                510       \n",
            "=================================================================\n",
            "Total params: 75,710\n",
            "Trainable params: 75,710\n",
            "Non-trainable params: 0\n",
            "_________________________________________________________________\n"
          ]
        }
      ]
    },
    {
      "cell_type": "code",
      "metadata": {
        "colab": {
          "base_uri": "https://localhost:8080/"
        },
        "id": "FlFuVcuhpHkZ",
        "outputId": "fe599e12-f9ee-4115-9bf8-30abb2c56e33"
      },
      "source": [
        "story = model.fit(X_train,\n",
        "          y_train,\n",
        "          epochs=15,\n",
        "          batch_size=200,\n",
        "          validation_split=0.2,\n",
        "          verbose=1)"
      ],
      "execution_count": 72,
      "outputs": [
        {
          "output_type": "stream",
          "name": "stdout",
          "text": [
            "Epoch 1/15\n",
            "240/240 [==============================] - 2s 6ms/step - loss: 1.0956 - accuracy: 0.6397 - val_loss: 0.3460 - val_accuracy: 0.9055\n",
            "Epoch 2/15\n",
            "240/240 [==============================] - 1s 5ms/step - loss: 0.5471 - accuracy: 0.8384 - val_loss: 0.2493 - val_accuracy: 0.9279\n",
            "Epoch 3/15\n",
            "240/240 [==============================] - 1s 5ms/step - loss: 0.4476 - accuracy: 0.8704 - val_loss: 0.2251 - val_accuracy: 0.9347\n",
            "Epoch 4/15\n",
            "240/240 [==============================] - 1s 5ms/step - loss: 0.3983 - accuracy: 0.8880 - val_loss: 0.1973 - val_accuracy: 0.9442\n",
            "Epoch 5/15\n",
            "240/240 [==============================] - 1s 5ms/step - loss: 0.3645 - accuracy: 0.8947 - val_loss: 0.1857 - val_accuracy: 0.9487\n",
            "Epoch 6/15\n",
            "240/240 [==============================] - 1s 5ms/step - loss: 0.3359 - accuracy: 0.9052 - val_loss: 0.1745 - val_accuracy: 0.9507\n",
            "Epoch 7/15\n",
            "240/240 [==============================] - 1s 5ms/step - loss: 0.3194 - accuracy: 0.9107 - val_loss: 0.1671 - val_accuracy: 0.9545\n",
            "Epoch 8/15\n",
            "240/240 [==============================] - 1s 5ms/step - loss: 0.3019 - accuracy: 0.9155 - val_loss: 0.1570 - val_accuracy: 0.9563\n",
            "Epoch 9/15\n",
            "240/240 [==============================] - 1s 5ms/step - loss: 0.2904 - accuracy: 0.9203 - val_loss: 0.1506 - val_accuracy: 0.9588\n",
            "Epoch 10/15\n",
            "240/240 [==============================] - 1s 5ms/step - loss: 0.2817 - accuracy: 0.9214 - val_loss: 0.1470 - val_accuracy: 0.9592\n",
            "Epoch 11/15\n",
            "240/240 [==============================] - 1s 5ms/step - loss: 0.2661 - accuracy: 0.9268 - val_loss: 0.1428 - val_accuracy: 0.9622\n",
            "Epoch 12/15\n",
            "240/240 [==============================] - 1s 5ms/step - loss: 0.2594 - accuracy: 0.9271 - val_loss: 0.1424 - val_accuracy: 0.9603\n",
            "Epoch 13/15\n",
            "240/240 [==============================] - 1s 5ms/step - loss: 0.2512 - accuracy: 0.9296 - val_loss: 0.1379 - val_accuracy: 0.9619\n",
            "Epoch 14/15\n",
            "240/240 [==============================] - 1s 5ms/step - loss: 0.2456 - accuracy: 0.9302 - val_loss: 0.1373 - val_accuracy: 0.9624\n",
            "Epoch 15/15\n",
            "240/240 [==============================] - 1s 5ms/step - loss: 0.2411 - accuracy: 0.9333 - val_loss: 0.1367 - val_accuracy: 0.9634\n"
          ]
        }
      ]
    },
    {
      "cell_type": "code",
      "metadata": {
        "colab": {
          "base_uri": "https://localhost:8080/",
          "height": 590
        },
        "id": "NePn29jBqTa9",
        "outputId": "17e811b2-a90f-4fa7-e4a8-a27b46ddd5d8"
      },
      "source": [
        "show_history(story)"
      ],
      "execution_count": 73,
      "outputs": [
        {
          "output_type": "display_data",
          "data": {
            "image/png": "[encoded data removed]",
            "text/plain": [
              "<Figure size 1332x756 with 2 Axes>"
            ]
          },
          "metadata": {
            "needs_background": "light"
          }
        }
      ]
    },
    {
      "cell_type": "markdown",
      "metadata": {
        "id": "c0Pj3ZZ-qzta"
      },
      "source": [
        "# Earlystopping\n",
        "\n",
        "https://machinelearningmastery.com/how-to-stop-training-deep-neural-networks-at-the-right-time-using-early-stopping/\n",
        "\n",
        "Callbacks: https://keras.io/api/callbacks/\n",
        "\n",
        "https://keras.io/api/callbacks/early_stopping/"
      ]
    },
    {
      "cell_type": "code",
      "metadata": {
        "colab": {
          "base_uri": "https://localhost:8080/"
        },
        "id": "JkACE1sWpcLJ",
        "outputId": "35535134-f1fb-4f7d-ac01-b51303ad9cbc"
      },
      "source": [
        "from keras.callbacks import EarlyStopping\n",
        "# define a Callback in teh following way\n",
        "cb=EarlyStopping(monitor='val_loss', min_delta=0.1, verbose=0, patience=3, restore_best_weights=True) \n",
        "#difference of loss is below min_delta, it is quantified as no improvement\n",
        "# patience: Number of epochs with no improvement after which training will be stopped\n",
        "# restore_best_weights: training will run for patience epochs and restore weights from the best epoch in that set.\n",
        "#fit the previous model using the above defined callback \n",
        "story = model.fit(X_train,\n",
        "          y_train,\n",
        "          epochs=15,\n",
        "          batch_size=200,\n",
        "          validation_split=0.2,\n",
        "          verbose=1, \n",
        "          callbacks = [cb, mc])\n",
        "# evaluate the model"
      ],
      "execution_count": 68,
      "outputs": [
        {
          "output_type": "stream",
          "name": "stdout",
          "text": [
            "Epoch 1/15\n",
            "240/240 [==============================] - 1s 5ms/step - loss: 0.0799 - accuracy: 0.9749 - val_loss: 0.0838 - val_accuracy: 0.9738\n",
            "Epoch 2/15\n",
            "240/240 [==============================] - 1s 5ms/step - loss: 0.0759 - accuracy: 0.9759 - val_loss: 0.0874 - val_accuracy: 0.9744\n",
            "Epoch 3/15\n",
            "240/240 [==============================] - 1s 5ms/step - loss: 0.0733 - accuracy: 0.9772 - val_loss: 0.0830 - val_accuracy: 0.9769\n",
            "Epoch 4/15\n",
            "240/240 [==============================] - 1s 5ms/step - loss: 0.0710 - accuracy: 0.9779 - val_loss: 0.0840 - val_accuracy: 0.9747\n"
          ]
        }
      ]
    },
    {
      "cell_type": "markdown",
      "metadata": {
        "id": "1NUnoMoLFGu6"
      },
      "source": [
        "The ModelCheckpoint callback is flexible in the way it can be used, but in this case we will use it only to save the best model observed during training as defined by a chosen performance measure on the validation dataset.\n",
        "\n"
      ]
    },
    {
      "cell_type": "code",
      "metadata": {
        "id": "CWgUpah9E9QB"
      },
      "source": [
        "from keras.callbacks import ModelCheckpoint\n",
        "mc = ModelCheckpoint('best_model.h5', monitor='val_loss', verbose=1, save_best_only=True)"
      ],
      "execution_count": null,
      "outputs": []
    },
    {
      "cell_type": "code",
      "metadata": {
        "id": "-bh7dzK9FVwL"
      },
      "source": [
        "# load a saved model\n",
        "from keras.models import load_model\n",
        "saved_model = load_model('best_model.h5')"
      ],
      "execution_count": null,
      "outputs": []
    },
    {
      "cell_type": "markdown",
      "metadata": {
        "id": "ga2Zb61TrpvT"
      },
      "source": [
        "# Batch Normalization \n",
        "- https://machinelearningmastery.com/how-to-accelerate-learning-of-deep-neural-networks-with-batch-normalization/\n",
        "\n",
        "- https://machinelearningmastery.com/batch-normalization-for-training-of-deep-neural-networks/\n",
        "\n",
        "Batch normalization can be implemented during training by calculating the mean and standard deviation of each input to a layer per mini-batch and using these statistics to perform the standardization.\n",
        "\n",
        "- higher learning rate might be fine when using Batch Normalization \n",
        "\n"
      ]
    },
    {
      "cell_type": "code",
      "metadata": {
        "id": "zN9v8f9dshC-"
      },
      "source": [
        "from keras.layers import BatchNormalization"
      ],
      "execution_count": 76,
      "outputs": []
    },
    {
      "cell_type": "code",
      "metadata": {
        "id": "1cuO9JrLsLON"
      },
      "source": [
        "#Let's rebuild the model and add a batch normalization layers after each Hidden Layer \n",
        "# we can also write it all in a function \n",
        "def batchnorm_model():\n",
        "    model = Sequential()\n",
        "    #first hidden layer\n",
        "    model.add(Dense(num_hidden_n, input_dim=num_input_units, kernel_initializer=keras.initializers.he_normal(seed=seed), activation='relu'))\n",
        "    model.add(BatchNormalization())\n",
        "    model.add(Dense(50, kernel_initializer=keras.initializers.he_normal(seed=seed), activation='relu'))\n",
        "    model.add(BatchNormalization())\n",
        "    #output layer\n",
        "    model.add(Dense(num_classes, kernel_initializer='normal', activation='softmax'))\n",
        "\n",
        "    # Compile model\n",
        "    model.compile(loss='categorical_crossentropy',\n",
        "                  optimizer=optimizer,\n",
        "                  metrics=['accuracy'])\n",
        "    return model"
      ],
      "execution_count": 77,
      "outputs": []
    },
    {
      "cell_type": "code",
      "metadata": {
        "colab": {
          "base_uri": "https://localhost:8080/"
        },
        "id": "hWV0dJiNsijX",
        "outputId": "33041795-ae87-427d-9a14-8a748150dbd5"
      },
      "source": [
        "model = batchnorm_model()\n",
        "model.summary()\n",
        "# a batch normalization layer has 4 trainable parameters saved as part of the state of teh Batch Norm layer \n",
        "# 2 learnable parameters, a “standard deviation” parameter (gamma) and a “mean” parameter (beta)\n",
        "# 2 non learnable parameters (mean moving average and variance moving average)\n",
        "# so in total for each hidden layer node, there are 4 learnable parameters"
      ],
      "execution_count": 78,
      "outputs": [
        {
          "output_type": "stream",
          "name": "stdout",
          "text": [
            "Model: \"sequential_8\"\n",
            "_________________________________________________________________\n",
            "Layer (type)                 Output Shape              Param #   \n",
            "=================================================================\n",
            "dense_19 (Dense)             (None, 90)                70650     \n",
            "_________________________________________________________________\n",
            "batch_normalization (BatchNo (None, 90)                360       \n",
            "_________________________________________________________________\n",
            "dense_20 (Dense)             (None, 50)                4550      \n",
            "_________________________________________________________________\n",
            "batch_normalization_1 (Batch (None, 50)                200       \n",
            "_________________________________________________________________\n",
            "dense_21 (Dense)             (None, 10)                510       \n",
            "=================================================================\n",
            "Total params: 76,270\n",
            "Trainable params: 75,990\n",
            "Non-trainable params: 280\n",
            "_________________________________________________________________\n"
          ]
        }
      ]
    },
    {
      "cell_type": "code",
      "metadata": {
        "colab": {
          "base_uri": "https://localhost:8080/"
        },
        "id": "iIvXZcUMsqn3",
        "outputId": "fc22036a-b3b7-4cb6-e2d1-fe7815ef4711"
      },
      "source": [
        "story = model.fit(X_train,\n",
        "          y_train,\n",
        "          epochs=15,\n",
        "          batch_size=200,\n",
        "          validation_split=0.2,\n",
        "          verbose=1)"
      ],
      "execution_count": 79,
      "outputs": [
        {
          "output_type": "stream",
          "name": "stdout",
          "text": [
            "Epoch 1/15\n",
            "240/240 [==============================] - 2s 6ms/step - loss: 0.5440 - accuracy: 0.8777 - val_loss: 0.2742 - val_accuracy: 0.9441\n",
            "Epoch 2/15\n",
            "240/240 [==============================] - 1s 5ms/step - loss: 0.1502 - accuracy: 0.9593 - val_loss: 0.1514 - val_accuracy: 0.9568\n",
            "Epoch 3/15\n",
            "240/240 [==============================] - 1s 5ms/step - loss: 0.0986 - accuracy: 0.9721 - val_loss: 0.1150 - val_accuracy: 0.9657\n",
            "Epoch 4/15\n",
            "240/240 [==============================] - 1s 5ms/step - loss: 0.0722 - accuracy: 0.9788 - val_loss: 0.1020 - val_accuracy: 0.9700\n",
            "Epoch 5/15\n",
            "240/240 [==============================] - 1s 5ms/step - loss: 0.0532 - accuracy: 0.9845 - val_loss: 0.1014 - val_accuracy: 0.9694\n",
            "Epoch 6/15\n",
            "240/240 [==============================] - 1s 5ms/step - loss: 0.0423 - accuracy: 0.9881 - val_loss: 0.0955 - val_accuracy: 0.9712\n",
            "Epoch 7/15\n",
            "240/240 [==============================] - 1s 5ms/step - loss: 0.0331 - accuracy: 0.9906 - val_loss: 0.1237 - val_accuracy: 0.9647\n",
            "Epoch 8/15\n",
            "240/240 [==============================] - 1s 5ms/step - loss: 0.0290 - accuracy: 0.9913 - val_loss: 0.0964 - val_accuracy: 0.9730\n",
            "Epoch 9/15\n",
            "240/240 [==============================] - 1s 5ms/step - loss: 0.0227 - accuracy: 0.9933 - val_loss: 0.0967 - val_accuracy: 0.9728\n",
            "Epoch 10/15\n",
            "240/240 [==============================] - 1s 5ms/step - loss: 0.0191 - accuracy: 0.9948 - val_loss: 0.0906 - val_accuracy: 0.9732\n",
            "Epoch 11/15\n",
            "240/240 [==============================] - 1s 5ms/step - loss: 0.0185 - accuracy: 0.9943 - val_loss: 0.1032 - val_accuracy: 0.9727\n",
            "Epoch 12/15\n",
            "240/240 [==============================] - 1s 5ms/step - loss: 0.0135 - accuracy: 0.9967 - val_loss: 0.1040 - val_accuracy: 0.9724\n",
            "Epoch 13/15\n",
            "240/240 [==============================] - 1s 5ms/step - loss: 0.0103 - accuracy: 0.9975 - val_loss: 0.1085 - val_accuracy: 0.9712\n",
            "Epoch 14/15\n",
            "240/240 [==============================] - 1s 5ms/step - loss: 0.0099 - accuracy: 0.9974 - val_loss: 0.1175 - val_accuracy: 0.9718\n",
            "Epoch 15/15\n",
            "240/240 [==============================] - 1s 5ms/step - loss: 0.0092 - accuracy: 0.9977 - val_loss: 0.1177 - val_accuracy: 0.9713\n"
          ]
        }
      ]
    },
    {
      "cell_type": "code",
      "metadata": {
        "colab": {
          "base_uri": "https://localhost:8080/",
          "height": 590
        },
        "id": "GBvhYLH8udgG",
        "outputId": "ce991e02-df7b-42a4-b07e-2f164b1edcb8"
      },
      "source": [
        "show_history(story)"
      ],
      "execution_count": 80,
      "outputs": [
        {
          "output_type": "display_data",
          "data": {
            "image/png": "[encoded data removed]",
            "text/plain": [
              "<Figure size 1332x756 with 2 Axes>"
            ]
          },
          "metadata": {
            "needs_background": "light"
          }
        }
      ]
    },
    {
      "cell_type": "markdown",
      "metadata": {
        "id": "vicKcbrqf3-D"
      },
      "source": [
        "# Hyperparameter Tuning with Random Search\n",
        "\n",
        "https://keras.io/guides/keras_tuner/getting_started/\n",
        "\n",
        "https://medium.com/swlh/hyperparameter-tuning-in-keras-tensorflow-2-with-keras-tuner-randomsearch-hyperband-3e212647778f"
      ]
    },
    {
      "cell_type": "code",
      "metadata": {
        "colab": {
          "base_uri": "https://localhost:8080/"
        },
        "id": "LG9StVD0LDSq",
        "outputId": "fa309b71-5437-4b24-e905-80436322951b"
      },
      "source": [
        "pip install -U keras-tuner"
      ],
      "execution_count": 81,
      "outputs": [
        {
          "output_type": "stream",
          "name": "stdout",
          "text": [
            "Collecting keras-tuner\n",
            "  Downloading keras_tuner-1.1.0-py3-none-any.whl (98 kB)\n",
            "\u001b[?25l\r\u001b[K     |███▍                            | 10 kB 24.8 MB/s eta 0:00:01\r\u001b[K     |██████▊                         | 20 kB 26.7 MB/s eta 0:00:01\r\u001b[K     |██████████                      | 30 kB 17.4 MB/s eta 0:00:01\r\u001b[K     |█████████████▍                  | 40 kB 15.0 MB/s eta 0:00:01\r\u001b[K     |████████████████▊               | 51 kB 7.3 MB/s eta 0:00:01\r\u001b[K     |████████████████████            | 61 kB 7.1 MB/s eta 0:00:01\r\u001b[K     |███████████████████████▍        | 71 kB 7.4 MB/s eta 0:00:01\r\u001b[K     |██████████████████████████▊     | 81 kB 8.2 MB/s eta 0:00:01\r\u001b[K     |██████████████████████████████  | 92 kB 8.7 MB/s eta 0:00:01\r\u001b[K     |████████████████████████████████| 98 kB 4.5 MB/s \n",
            "\u001b[?25hRequirement already satisfied: ipython in /usr/local/lib/python3.7/dist-packages (from keras-tuner) (5.5.0)\n",
            "Requirement already satisfied: scipy in /usr/local/lib/python3.7/dist-packages (from keras-tuner) (1.4.1)\n",
            "Requirement already satisfied: packaging in /usr/local/lib/python3.7/dist-packages (from keras-tuner) (21.0)\n",
            "Requirement already satisfied: requests in /usr/local/lib/python3.7/dist-packages (from keras-tuner) (2.23.0)\n",
            "Requirement already satisfied: numpy in /usr/local/lib/python3.7/dist-packages (from keras-tuner) (1.19.5)\n",
            "Requirement already satisfied: tensorboard in /usr/local/lib/python3.7/dist-packages (from keras-tuner) (2.6.0)\n",
            "Collecting kt-legacy\n",
            "  Downloading kt_legacy-1.0.4-py3-none-any.whl (9.6 kB)\n",
            "Requirement already satisfied: prompt-toolkit<2.0.0,>=1.0.4 in /usr/local/lib/python3.7/dist-packages (from ipython->keras-tuner) (1.0.18)\n",
            "Requirement already satisfied: pickleshare in /usr/local/lib/python3.7/dist-packages (from ipython->keras-tuner) (0.7.5)\n",
            "Requirement already satisfied: traitlets>=4.2 in /usr/local/lib/python3.7/dist-packages (from ipython->keras-tuner) (5.1.0)\n",
            "Requirement already satisfied: pexpect in /usr/local/lib/python3.7/dist-packages (from ipython->keras-tuner) (4.8.0)\n",
            "Requirement already satisfied: setuptools>=18.5 in /usr/local/lib/python3.7/dist-packages (from ipython->keras-tuner) (57.4.0)\n",
            "Requirement already satisfied: simplegeneric>0.8 in /usr/local/lib/python3.7/dist-packages (from ipython->keras-tuner) (0.8.1)\n",
            "Requirement already satisfied: decorator in /usr/local/lib/python3.7/dist-packages (from ipython->keras-tuner) (4.4.2)\n",
            "Requirement already satisfied: pygments in /usr/local/lib/python3.7/dist-packages (from ipython->keras-tuner) (2.6.1)\n",
            "Requirement already satisfied: six>=1.9.0 in /usr/local/lib/python3.7/dist-packages (from prompt-toolkit<2.0.0,>=1.0.4->ipython->keras-tuner) (1.15.0)\n",
            "Requirement already satisfied: wcwidth in /usr/local/lib/python3.7/dist-packages (from prompt-toolkit<2.0.0,>=1.0.4->ipython->keras-tuner) (0.2.5)\n",
            "Requirement already satisfied: pyparsing>=2.0.2 in /usr/local/lib/python3.7/dist-packages (from packaging->keras-tuner) (2.4.7)\n",
            "Requirement already satisfied: ptyprocess>=0.5 in /usr/local/lib/python3.7/dist-packages (from pexpect->ipython->keras-tuner) (0.7.0)\n",
            "Requirement already satisfied: chardet<4,>=3.0.2 in /usr/local/lib/python3.7/dist-packages (from requests->keras-tuner) (3.0.4)\n",
            "Requirement already satisfied: certifi>=2017.4.17 in /usr/local/lib/python3.7/dist-packages (from requests->keras-tuner) (2021.5.30)\n",
            "Requirement already satisfied: idna<3,>=2.5 in /usr/local/lib/python3.7/dist-packages (from requests->keras-tuner) (2.10)\n",
            "Requirement already satisfied: urllib3!=1.25.0,!=1.25.1,<1.26,>=1.21.1 in /usr/local/lib/python3.7/dist-packages (from requests->keras-tuner) (1.24.3)\n",
            "Requirement already satisfied: tensorboard-data-server<0.7.0,>=0.6.0 in /usr/local/lib/python3.7/dist-packages (from tensorboard->keras-tuner) (0.6.1)\n",
            "Requirement already satisfied: wheel>=0.26 in /usr/local/lib/python3.7/dist-packages (from tensorboard->keras-tuner) (0.37.0)\n",
            "Requirement already satisfied: absl-py>=0.4 in /usr/local/lib/python3.7/dist-packages (from tensorboard->keras-tuner) (0.12.0)\n",
            "Requirement already satisfied: tensorboard-plugin-wit>=1.6.0 in /usr/local/lib/python3.7/dist-packages (from tensorboard->keras-tuner) (1.8.0)\n",
            "Requirement already satisfied: protobuf>=3.6.0 in /usr/local/lib/python3.7/dist-packages (from tensorboard->keras-tuner) (3.17.3)\n",
            "Requirement already satisfied: werkzeug>=0.11.15 in /usr/local/lib/python3.7/dist-packages (from tensorboard->keras-tuner) (1.0.1)\n",
            "Requirement already satisfied: google-auth-oauthlib<0.5,>=0.4.1 in /usr/local/lib/python3.7/dist-packages (from tensorboard->keras-tuner) (0.4.6)\n",
            "Requirement already satisfied: google-auth<2,>=1.6.3 in /usr/local/lib/python3.7/dist-packages (from tensorboard->keras-tuner) (1.35.0)\n",
            "Requirement already satisfied: markdown>=2.6.8 in /usr/local/lib/python3.7/dist-packages (from tensorboard->keras-tuner) (3.3.4)\n",
            "Requirement already satisfied: grpcio>=1.24.3 in /usr/local/lib/python3.7/dist-packages (from tensorboard->keras-tuner) (1.41.0)\n",
            "Requirement already satisfied: pyasn1-modules>=0.2.1 in /usr/local/lib/python3.7/dist-packages (from google-auth<2,>=1.6.3->tensorboard->keras-tuner) (0.2.8)\n",
            "Requirement already satisfied: rsa<5,>=3.1.4 in /usr/local/lib/python3.7/dist-packages (from google-auth<2,>=1.6.3->tensorboard->keras-tuner) (4.7.2)\n",
            "Requirement already satisfied: cachetools<5.0,>=2.0.0 in /usr/local/lib/python3.7/dist-packages (from google-auth<2,>=1.6.3->tensorboard->keras-tuner) (4.2.4)\n",
            "Requirement already satisfied: requests-oauthlib>=0.7.0 in /usr/local/lib/python3.7/dist-packages (from google-auth-oauthlib<0.5,>=0.4.1->tensorboard->keras-tuner) (1.3.0)\n",
            "Requirement already satisfied: importlib-metadata in /usr/local/lib/python3.7/dist-packages (from markdown>=2.6.8->tensorboard->keras-tuner) (4.8.1)\n",
            "Requirement already satisfied: pyasn1<0.5.0,>=0.4.6 in /usr/local/lib/python3.7/dist-packages (from pyasn1-modules>=0.2.1->google-auth<2,>=1.6.3->tensorboard->keras-tuner) (0.4.8)\n",
            "Requirement already satisfied: oauthlib>=3.0.0 in /usr/local/lib/python3.7/dist-packages (from requests-oauthlib>=0.7.0->google-auth-oauthlib<0.5,>=0.4.1->tensorboard->keras-tuner) (3.1.1)\n",
            "Requirement already satisfied: zipp>=0.5 in /usr/local/lib/python3.7/dist-packages (from importlib-metadata->markdown>=2.6.8->tensorboard->keras-tuner) (3.6.0)\n",
            "Requirement already satisfied: typing-extensions>=3.6.4 in /usr/local/lib/python3.7/dist-packages (from importlib-metadata->markdown>=2.6.8->tensorboard->keras-tuner) (3.7.4.3)\n",
            "Installing collected packages: kt-legacy, keras-tuner\n",
            "Successfully installed keras-tuner-1.1.0 kt-legacy-1.0.4\n"
          ]
        }
      ]
    },
    {
      "cell_type": "markdown",
      "metadata": {
        "id": "EBAKB_uigBS-"
      },
      "source": [
        "[Keras Tuner](https://keras-team.github.io/keras-tuner/) offers the main hyperparameter tuning methods: [random search](https://www.sicara.ai/blog/hyperparameter-tuning-keras-tuner), Hyperband, and [Bayesian](https://www.sicara.ai/blog/2019-14-07-determine-network-hyper-parameters-with-bayesian-optimization) optimization.\n",
        "The most intuitive way to perform hyperparameter tuning is to randomly sample hyperparameter combinations and test them out. This is exactly what the RandomSearch tuner does!"
      ]
    },
    {
      "cell_type": "code",
      "metadata": {
        "colab": {
          "base_uri": "https://localhost:8080/"
        },
        "id": "wDPLo1Vvf9as",
        "outputId": "63d21a42-be44-45cb-c875-1d7daf98941b"
      },
      "source": [
        "from tensorflow import keras\n",
        "from tensorflow.keras import layers\n",
        "from kerastuner.tuners import RandomSearch\n",
        "#Keras Tuner offers the main hyperparameter tuning methods: random search, Hyperband, and Bayesian optimization.\n",
        "#we define a model-building function\n",
        "# It takes an   an hp argument from which you can sample hyperparameters\n",
        "def build_model(hp):\n",
        "    model = keras.Sequential()\n",
        "    #hp.int specifies its an integer number, you say min, max and a step size, first value it will check is 32, then 160 etc.\n",
        "    # you can vary activation function as well\n",
        "    model.add(layers.Dense(units=hp.Int('units',\n",
        "                                        min_value=32,\n",
        "                                        max_value=512,\n",
        "                                        step=128),\n",
        "                           activation='relu'))\n",
        "    # Alternatively instead of using hp.Int, you could use hp.Choice:\n",
        "    #model.add(layers.Dense(units=hp.Choice('units',[32,160]),\n",
        "     #                      activation='relu'))\n",
        " \n",
        "    model.add(layers.Dense(10, activation='softmax'))\n",
        "\n",
        "    # hp.choice when you want to try different choices\n",
        "    model.compile(\n",
        "        optimizer=keras.optimizers.Adam(\n",
        "            hp.Choice('learning_rate',\n",
        "                      values=[1e-2, 1e-3, 1e-4])),\n",
        "                  # or hp.Float() for learning rate or dropout\n",
        "        loss='categorical_crossentropy',\n",
        "        metrics=['accuracy'])\n",
        "    return model"
      ],
      "execution_count": 82,
      "outputs": [
        {
          "output_type": "stream",
          "name": "stderr",
          "text": [
            "/usr/local/lib/python3.7/dist-packages/ipykernel_launcher.py:3: DeprecationWarning: `import kerastuner` is deprecated, please use `import keras_tuner`.\n",
            "  This is separate from the ipykernel package so we can avoid doing imports until\n"
          ]
        }
      ]
    },
    {
      "cell_type": "markdown",
      "metadata": {
        "id": "yLZQlENyLTQo"
      },
      "source": [
        "Next, let's instantiate a tuner. You should specify the model-building function, the name of the objective to optimize (whether to minimize or maximize is automatically inferred for built-in metrics), the total number of trials (max_trials) to test, and the number of models that should be built and fit for each trial (executions_per_trial).\n",
        "\n",
        "\n",
        "\n",
        "Note: the purpose of having multiple executions per trial is to reduce results variance and therefore be able to more accurately assess the performance of a model. If you want to get results faster, you could set executions_per_trial=1 (single round of training for each model configuration).\n",
        "\n"
      ]
    },
    {
      "cell_type": "code",
      "metadata": {
        "id": "K5MfaeOqgI7J"
      },
      "source": [
        "tuner = RandomSearch(\n",
        "    #provide it the build_model function\n",
        "    build_model,\n",
        "    #The objective is the function to optimize. \n",
        "    #The tuner infers if it is a maximization or a minimization problem based on its value.\n",
        "    objective='val_accuracy',\n",
        "    #max_trials represents the number of hyperparameter combinations that will be tested by the tuner, \n",
        "    #max number of trials = model config to test at most\n",
        "    #while execution_per_trial is the number of models that should be built and fit for each trial for robustness purposes.\n",
        "    max_trials=5,\n",
        "    # in each trial will do 3 different models\n",
        "    # the number of models that should be built and fit for each trial\n",
        "    # the higher number of trials the better, but depends on your time and resources\n",
        "    executions_per_trial=3,\n",
        "    directory='my_dir',\n",
        "    project_name='helloworld3')"
      ],
      "execution_count": 83,
      "outputs": []
    },
    {
      "cell_type": "code",
      "metadata": {
        "colab": {
          "base_uri": "https://localhost:8080/"
        },
        "id": "rWIIasxsgowA",
        "outputId": "b4f21d05-8abd-4930-dd38-dc87bcb0b77e"
      },
      "source": [
        "# tells you how many hyperparameters you are looking for ,\n",
        "# 2 for hidden unit params and learning rate\n",
        "tuner.search_space_summary()"
      ],
      "execution_count": 51,
      "outputs": [
        {
          "output_type": "stream",
          "name": "stdout",
          "text": [
            "Search space summary\n",
            "Default search space size: 2\n",
            "units (Int)\n",
            "{'default': None, 'conditions': [], 'min_value': 32, 'max_value': 512, 'step': 128, 'sampling': None}\n",
            "learning_rate (Choice)\n",
            "{'default': 0.01, 'conditions': [], 'values': [0.01, 0.001, 0.0001], 'ordered': True}\n"
          ]
        }
      ]
    },
    {
      "cell_type": "markdown",
      "metadata": {
        "id": "b3q7M7kIhTWP"
      },
      "source": [
        "Regarding the number of epochs, it's best if you know how many epochs your model needs to converge. You can also use early-stopping to prevent overfitting."
      ]
    },
    {
      "cell_type": "code",
      "metadata": {
        "colab": {
          "base_uri": "https://localhost:8080/"
        },
        "id": "M38G6nQnhVZ6",
        "outputId": "91e1baed-1d03-47fa-dabb-2e3d8e947fea"
      },
      "source": [
        "# now we fit data, tuner.search is aq to model.fit\n",
        "#Here's what happens in search: models are built iteratively by calling the model-building function, \n",
        "#which populates the hyperparameter space (search space) tracked by the hp object.\n",
        "# The tuner progressively explores the space, recording metrics for each configuration.\n",
        "tuner.search(X_train, y_train,\n",
        "             epochs=5,\n",
        "             validation_data=(X_test,y_test))\n",
        "             #callback = cb)"
      ],
      "execution_count": 85,
      "outputs": [
        {
          "output_type": "stream",
          "name": "stdout",
          "text": [
            "Trial 5 Complete [00h 01m 56s]\n",
            "val_accuracy: 0.963099996248881\n",
            "\n",
            "Best val_accuracy So Far: 0.9794666767120361\n",
            "Total elapsed time: 00h 07m 53s\n",
            "INFO:tensorflow:Oracle triggered exit\n"
          ]
        }
      ]
    },
    {
      "cell_type": "code",
      "metadata": {
        "colab": {
          "base_uri": "https://localhost:8080/"
        },
        "id": "MAv1nIZZhX6D",
        "outputId": "b7cc2cec-60aa-4150-97ee-e828af38a76e"
      },
      "source": [
        "#shows hyperparameters and accuracy\n",
        "tuner.results_summary()"
      ],
      "execution_count": 86,
      "outputs": [
        {
          "output_type": "stream",
          "name": "stdout",
          "text": [
            "Results summary\n",
            "Results in my_dir/helloworld3\n",
            "Showing 10 best trials\n",
            "Objective(name='val_accuracy', direction='max')\n",
            "Trial summary\n",
            "Hyperparameters:\n",
            "units: 416\n",
            "learning_rate: 0.001\n",
            "Score: 0.9794666767120361\n",
            "Trial summary\n",
            "Hyperparameters:\n",
            "units: 160\n",
            "learning_rate: 0.001\n",
            "Score: 0.9769999980926514\n",
            "Trial summary\n",
            "Hyperparameters:\n",
            "units: 416\n",
            "learning_rate: 0.01\n",
            "Score: 0.963099996248881\n",
            "Trial summary\n",
            "Hyperparameters:\n",
            "units: 160\n",
            "learning_rate: 0.0001\n",
            "Score: 0.9523999889691671\n",
            "Trial summary\n",
            "Hyperparameters:\n",
            "units: 32\n",
            "learning_rate: 0.0001\n",
            "Score: 0.9266666571299235\n"
          ]
        }
      ]
    },
    {
      "cell_type": "code",
      "metadata": {
        "colab": {
          "base_uri": "https://localhost:8080/"
        },
        "id": "dbcpU_tpxUrY",
        "outputId": "9c245051-9bfe-447b-89f2-fb51d005fa02"
      },
      "source": [
        "tuner.get_best_models()"
      ],
      "execution_count": 88,
      "outputs": [
        {
          "output_type": "execute_result",
          "data": {
            "text/plain": [
              "<keras.engine.sequential.Sequential at 0x7ff8553b7410>"
            ]
          },
          "metadata": {},
          "execution_count": 88
        }
      ]
    },
    {
      "cell_type": "code",
      "metadata": {
        "id": "bU5JC0OwLCOy"
      },
      "source": [
        "best_model = tuner.get_best_models()[0]"
      ],
      "execution_count": null,
      "outputs": []
    },
    {
      "cell_type": "markdown",
      "metadata": {
        "id": "pste228JiVBe"
      },
      "source": [
        "EXample with different number of Hidden Layers"
      ]
    },
    {
      "cell_type": "code",
      "metadata": {
        "id": "lVCRN7y0iYcS"
      },
      "source": [
        "# different numbers of hidden layers\n",
        "def build_model_2(hp):\n",
        "    model = keras.Sequential()\n",
        "    #hp.int specifies its an integer number, vary btw 2 and 6 hidden layers, step size is 1 by default\n",
        "    for i in range(hp.Int('layers',2,6)):\n",
        "      model.add(layers.Dense(units=hp.Int('units_' + str(i),# prints units for each hidden layer\n",
        "                                        min_value=50, # number of nodes in each layer\n",
        "                                        max_value=100,\n",
        "                                        step=10),\n",
        "                             # activation function can be a list of choices:\n",
        "                           activation= hp.Choice('act_' + str(i),['relu','tanh'])))\n",
        "    #output stays out of for loop\n",
        "    model.add(layers.Dense(10, activation='softmax'))\n",
        "\n",
        "    # hp.choice when you want to try different choices\n",
        "    model.compile(\n",
        "        optimizer=keras.optimizers.Adam(),\n",
        "        loss='categorical_crossentropy',\n",
        "        metrics=['accuracy'])\n",
        "    return model"
      ],
      "execution_count": 53,
      "outputs": []
    },
    {
      "cell_type": "code",
      "metadata": {
        "id": "JSWuAOSHihWg"
      },
      "source": [
        "# create instance of RandomSearch\n",
        "tuner2 = RandomSearch(\n",
        "    #provide it the build_model function\n",
        "    build_model_2,\n",
        "    objective='val_accuracy',\n",
        "    #max number of trials,  model config to test at most\n",
        "    max_trials=4,\n",
        "    # in each trial will do 1 different models\n",
        "    executions_per_trial=1,\n",
        "    directory='my_dir',\n",
        "    project_name='helloworld2')"
      ],
      "execution_count": 54,
      "outputs": []
    },
    {
      "cell_type": "code",
      "metadata": {
        "colab": {
          "base_uri": "https://localhost:8080/"
        },
        "id": "Jq0nQKXhiiKI",
        "outputId": "1fec7157-19f4-4995-d308-81fb0b4e0ef3"
      },
      "source": [
        "tuner2.search_space_summary()\n",
        "#default search space is 5, when you do a for loop, number of 2 to 6, \n",
        "# by default it considers number of layers to be 2 , so total search space sums up to 5\n",
        "#layers/ units in 0/ acti in 0 /units in 1 / act in 1 --> sums search space size to 5\n",
        "# later it will change number of layer to 3/4/6"
      ],
      "execution_count": 55,
      "outputs": [
        {
          "output_type": "stream",
          "name": "stdout",
          "text": [
            "Search space summary\n",
            "Default search space size: 5\n",
            "layers (Int)\n",
            "{'default': None, 'conditions': [], 'min_value': 2, 'max_value': 6, 'step': 1, 'sampling': None}\n",
            "units_0 (Int)\n",
            "{'default': None, 'conditions': [], 'min_value': 50, 'max_value': 100, 'step': 10, 'sampling': None}\n",
            "act_0 (Choice)\n",
            "{'default': 'relu', 'conditions': [], 'values': ['relu', 'tanh'], 'ordered': False}\n",
            "units_1 (Int)\n",
            "{'default': None, 'conditions': [], 'min_value': 50, 'max_value': 100, 'step': 10, 'sampling': None}\n",
            "act_1 (Choice)\n",
            "{'default': 'relu', 'conditions': [], 'values': ['relu', 'tanh'], 'ordered': False}\n"
          ]
        }
      ]
    },
    {
      "cell_type": "code",
      "metadata": {
        "colab": {
          "base_uri": "https://localhost:8080/"
        },
        "id": "L3eaRSypilOe",
        "outputId": "ce825b38-708b-42d1-f4bb-d739e13f709e"
      },
      "source": [
        "# now we fit data, tuner.search is aq to model.fit\n",
        "tuner2.search(X_train, y_train,\n",
        "             epochs=5,\n",
        "             validation_data=(X_test,y_test))"
      ],
      "execution_count": 56,
      "outputs": [
        {
          "output_type": "stream",
          "name": "stdout",
          "text": [
            "Trial 4 Complete [00h 00m 41s]\n",
            "val_accuracy: 0.9767000079154968\n",
            "\n",
            "Best val_accuracy So Far: 0.9767000079154968\n",
            "Total elapsed time: 00h 02m 22s\n",
            "INFO:tensorflow:Oracle triggered exit\n"
          ]
        }
      ]
    },
    {
      "cell_type": "code",
      "metadata": {
        "id": "sdkFwVxcinar"
      },
      "source": [
        "#showing 10 best trials, but here only 4 cause we set max trials to 4\n",
        "# this would have taken a lot of time manually\n",
        "tuner2.results_summary()"
      ],
      "execution_count": null,
      "outputs": []
    },
    {
      "cell_type": "markdown",
      "metadata": {
        "id": "tzku8-CJORhL"
      },
      "source": [
        "**Hyperband Concept:**\n",
        "This technique tries to remove one of the problems in random, which is that it may pick some values which are very obviously bad and will do full training and evaluation on it, which is wasteful. \n",
        "Hyperband Solution: Randomly sample all the combinations of hyperparameter and now instead of running full training and evaluation on it, train the **model for few epochs (less than max_epochs)** with these combinations and select the best candidates based on the results on these few epochs. It does this iteratively and finally runs full training and evaluation on the final chosen candidates. The number of iterations done depends on parameter ‘hyperband_iterations’ and number of epochs in each iteration are less than ‘max_epochs’.\n",
        "\n",
        "**Bayesian Optimization** tuner Concept:\n",
        "This techniques addresses a common problem in RandomSearch and Hyperband, which is that All the hyperparameter combinations are chosen randomly. Choosing hyperparameters randomly helps to explore the hyperparameter space but does not guarantee absolute optimal hyperparameters. Solution provided by BayesianOptimization tuner: Instead of all combinations being random, it chooses first few randomly, then based on the performance on these hyperparameters it chooses the next best possible hyperparameters. Hence it takes into account the history of the hyperparameters which were tried. The iterations of choosing next set of hyperparameters based on history and evaluating performance continues till the tuner reaches optimal hyperparameters or exhausts maximum number of allowed trails. "
      ]
    },
    {
      "cell_type": "markdown",
      "metadata": {
        "id": "zuYPuR5Xuzux"
      },
      "source": [
        "# Hyperparameter Tuning with GridSearch\n",
        "\n",
        "https://machinelearningmastery.com/grid-search-hyperparameters-deep-learning-models-python-keras/"
      ]
    },
    {
      "cell_type": "code",
      "metadata": {
        "id": "DLQ4psakjhLl"
      },
      "source": [
        "from sklearn.model_selection import GridSearchCV\n",
        "from keras.wrappers.scikit_learn import KerasClassifier\n",
        "# careful Keras wrapper does not work with tensorflow layers\n",
        "import keras\n",
        "import pandas as pd\n",
        "import numpy as np\n",
        "\n",
        "from keras.models import Sequential\n",
        "from keras.layers import Dense, Dropout\n",
        "from keras import optimizers"
      ],
      "execution_count": 109,
      "outputs": []
    },
    {
      "cell_type": "code",
      "metadata": {
        "id": "ub1Zmj33yfvT"
      },
      "source": [
        "def optim (optimizer='SGD'):\n",
        "    model = Sequential()\n",
        "    model.add(Dense(784, activation='relu',kernel_initializer=keras.initializers.he_normal(seed=seed),  input_shape=(X_train.shape[1],)))\n",
        "  \n",
        "    model.add(Dense(90, activation='relu',kernel_initializer=keras.initializers.he_normal(seed=seed)))\n",
        " \n",
        "    model.add(Dense(10, activation='softmax',kernel_initializer=keras.initializers.he_normal(seed=seed)))\n",
        "    \n",
        "    model.compile(optimizer=optimizer, loss='categorical_crossentropy', metrics=['accuracy']) \n",
        "    \n",
        "    return model"
      ],
      "execution_count": 114,
      "outputs": []
    },
    {
      "cell_type": "code",
      "metadata": {
        "id": "eRk9R7JuwM9A"
      },
      "source": [
        "#  plug it into Keras Classifier Wrapper \n",
        "model = KerasClassifier(build_fn=optim, verbose=0)"
      ],
      "execution_count": 115,
      "outputs": []
    },
    {
      "cell_type": "code",
      "metadata": {
        "colab": {
          "base_uri": "https://localhost:8080/"
        },
        "id": "u_99qwhfwTQO",
        "outputId": "6cb7bfd4-2abe-4cd7-d8cb-6864daf32841"
      },
      "source": [
        "# Let's define the grid search parameters\n",
        "batchsize = [32, 64, 128, 256, 512]\n",
        "epochs = [10,30,60,70]\n",
        "optimizers = ['SGD', 'Adam']\n",
        "param_grid = dict(batch_size=batchsize, epochs=epochs, optimizer = optimizers ) # setting a dictionary to store the results\n",
        "param_grid "
      ],
      "execution_count": 116,
      "outputs": [
        {
          "output_type": "execute_result",
          "data": {
            "text/plain": [
              "{'batch_size': [32, 64, 128, 256, 512], 'epochs': [10, 30, 60, 70]}"
            ]
          },
          "metadata": {},
          "execution_count": 116
        }
      ]
    },
    {
      "cell_type": "code",
      "metadata": {
        "id": "S-GNxAVrwmCZ"
      },
      "source": [
        "grid = GridSearchCV(estimator=model, param_grid=param_grid, n_jobs=-1,cv=3) #parallelization, here using all processors\n",
        "results = grid.fit(X_train, y_train) #remember that we don't want to use the test set in CV\n",
        "print(\"Best: %f using %s\" % (results.best_score_, results.best_params_))"
      ],
      "execution_count": null,
      "outputs": []
    },
    {
      "cell_type": "markdown",
      "metadata": {
        "id": "_F4DcRw8jjaY"
      },
      "source": [
        "## Save the model\n",
        "Once trained, you might want to use the model in the future. You can do so by saving it to a file for later use. Keras comes equipped with the save method, which allows you to easily save your trained model to the disk.\n",
        "\n",
        "We are going to save the model into a file called model.h5 and delete it from memory.\n",
        "\n",
        "For more infoa on how to save a keras model, see this [link](https://machinelearningmastery.com/save-load-keras-deep-learning-models//) \n"
      ]
    },
    {
      "cell_type": "code",
      "metadata": {
        "id": "Frli6GekjkK-"
      },
      "source": [
        "model.save(\"model.h5\")\n",
        "del model"
      ],
      "execution_count": null,
      "outputs": []
    },
    {
      "cell_type": "markdown",
      "metadata": {
        "id": "inEdU4SAjn60"
      },
      "source": [
        "Then we load the model from the file we just created and evaluate it again to make sure that during the saving process, the model hasn’t been corrupted. The error rate is the same: the model has been successfully saved and can be shared with third-parties.\n",
        "\n",
        "["
      ]
    },
    {
      "cell_type": "code",
      "metadata": {
        "id": "7aBy1kD4jmRE"
      },
      "source": [
        "from keras.models import load_model\n",
        "\n",
        "model2 = load_model(\"model.h5\")\n",
        "\n",
        "scores2 = model2.evaluate(X_test, y_test, verbose=0)\n",
        "print(\"Error Rate: %.2f%%\" % (100-scores2[1]*100))"
      ],
      "execution_count": null,
      "outputs": []
    },
    {
      "cell_type": "code",
      "metadata": {
        "id": "9RucAYoiwucu"
      },
      "source": [
        "# remark on ModelCheckpoint \n"
      ],
      "execution_count": null,
      "outputs": []
    }
  ]
}