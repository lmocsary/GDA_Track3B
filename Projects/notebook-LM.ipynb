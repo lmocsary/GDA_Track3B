{
 "cells": [
  {
   "cell_type": "markdown",
   "source": "# Hate Speech Project",
   "metadata": {
    "tags": [],
    "is_collapsed": false,
    "cell_id": "00000-fabb7dec-0c4d-47a7-b770-94cf66e4add8",
    "deepnote_cell_type": "text-cell-h1"
   }
  },
  {
   "cell_type": "markdown",
   "source": "## Introduction",
   "metadata": {
    "tags": [],
    "is_collapsed": false,
    "cell_id": "00001-83de28dc-7009-4dc1-91f6-34f37e192d9a",
    "deepnote_cell_type": "text-cell-h2"
   }
  },
  {
   "cell_type": "markdown",
   "source": "__Hate speech__ is defined by the _Cambridge Dictionary_ as \"_public speech that expresses hate or encourages violence towards a person or group based on something such as race, religion, sex, or sexual orientation_\".[[1](https://dictionary.cambridge.org/us/dictionary/english/hate-speech)]  \nHate speech is \"_usually thought to include communications of animosity or disparagement of an individual or a group on account of a group characteristic such as race, colour, national origin, sex, disability, religion, or sexual orientation_\".[[2](http://southernlibrarianship.icaap.org/content/v09n02/brown-sica_m01.html#_edn2)]  \nA legal definition of hate speech varies from country to country.\n\nSource: [Wikipedia article on \"Hate speech\"](https://en.wikipedia.org/wiki/Hate_speech)\n\nGiven the huge amount of user-generated contents on Twitter, the problem of detecting, and therefore possibly contrasting the HS diffusion, is becoming fundamental, for instance for fighting against misogyny and xenophobia. To this end, in this task, we aim at identifying possible hate speech spreaders on Twitter as a first step towards preventing hate speech from being propagated among online users.  \n\nThe project's idea is __to develop a model that can determine whether its author spreads hate speech, given a Twitter feed__.",
   "metadata": {
    "tags": [],
    "cell_id": "00002-8ff5ca3f-7852-4c2d-bec5-d464be82eaee",
    "deepnote_cell_type": "markdown"
   }
  },
  {
   "cell_type": "markdown",
   "source": "## Dataset description",
   "metadata": {
    "tags": [],
    "is_collapsed": false,
    "cell_id": "00003-8c494d22-6e99-4625-a80e-59d98808ebb9",
    "deepnote_cell_type": "text-cell-h2"
   }
  },
  {
   "cell_type": "markdown",
   "source": "The dataset contains timelines of users sharing hate speech towards, for instance, immigrants and women, __100 training cases / authors__ each (with __100 tweets per author__).\n\nThe data directory contains __a XML file per author (Twitter user)__.\n\nThe name of the XML file corresponds to the unique autor id.\n\nMoreover, a `truth.txt` file with the list of authors and the ground truth. The format of the XML files and the `truth.txt` are as follows:\n\n__Author file (XML)__:\n```xml\n<author lang=\"en>\n    <documents>\n        <document>Tweet 1 textual contents</document>\n        <document>Tweet 2 textual contents</document>\n        ...\n    </documents>\n</author>\n```\n\n__Truth file__:\n```\n639b8e5e6a527d494c85d8f5704b1a01:::0\nf2b1fc84c500c38a93522efbd422b559:::0\n10b2d013382e1fb3c9414ea28329f258:::0\n26644d1348fc1122e8c5ef45d6bc84fa:::0\n4d4c5dcbfe38d0d33a0d1b1419952ca8:::0\n86a7f84c2dd126dac46270b6c912952c:::0\n88d8ac4ae2d91e681ee8a8d3b60fd911:::0\n2a9776a2909ba5e27043faf2d57ba410:::0\nfdb47a3f65091b9a5b989e1722c9fac4:::0\n5625ca3bc44c89d763221b663f7c0987:::0\n```",
   "metadata": {
    "tags": [],
    "cell_id": "00004-c2c9ba28-0610-4398-bda1-86916555c126",
    "deepnote_cell_type": "markdown"
   }
  },
  {
   "cell_type": "markdown",
   "source": "## Mission",
   "metadata": {
    "tags": [],
    "is_collapsed": false,
    "cell_id": "00005-8bf668e5-8d50-4ca0-8396-8f3919d29ee3",
    "deepnote_cell_type": "text-cell-h2"
   }
  },
  {
   "cell_type": "markdown",
   "source": "__The final objective is to build a system that can predict if a user in social media is a hate speech spreader or not.__\n\nThe output of the system can be used as a filtering module in online social media.",
   "metadata": {
    "tags": [],
    "cell_id": "00006-c7d9d431-88d0-4e60-9b71-c6471d880115",
    "deepnote_cell_type": "markdown"
   }
  },
  {
   "cell_type": "markdown",
   "source": "## Tasks",
   "metadata": {
    "tags": [],
    "is_collapsed": false,
    "cell_id": "00007-19162656-60e5-41fe-b950-a1adc356b9fd",
    "deepnote_cell_type": "text-cell-h2"
   }
  },
  {
   "cell_type": "markdown",
   "source": "Following tasks need to be accomplished:\n1. Understand the content that is available in the dataset .\n2. Pre-process the data to improve the final results.\n3. Baseline model\n4. LSTM model\n5. Compare the results of both models using the F1 measure.\n6. _(Optional)_ Think about further steps to improve your performance, such as pre processing, feature embeddings, post processing etc. and try them out if you have time.",
   "metadata": {
    "tags": [],
    "cell_id": "00008-8c4c7c29-d6bf-4adc-b752-f58f5e9dcdee",
    "deepnote_cell_type": "markdown"
   }
  },
  {
   "cell_type": "markdown",
   "source": "# Python imports",
   "metadata": {
    "tags": [],
    "is_collapsed": false,
    "cell_id": "00009-009fc34e-c7d9-48c9-9d40-b5e7bdd24ef1",
    "deepnote_cell_type": "text-cell-h1"
   }
  },
  {
   "cell_type": "code",
   "metadata": {
    "tags": [],
    "deepnote_to_be_reexecuted": false,
    "source_hash": "42f22cc8",
    "execution_start": 1637777861704,
    "execution_millis": 1083,
    "cell_id": "00010-b290d2b3-9fcb-4cd1-9861-fd0b4ab28c21",
    "deepnote_cell_type": "code"
   },
   "source": "# Data loading\nimport os\nimport pandas as pd\nimport re\n\n# Data parsing\nfrom tqdm import tqdm\nfrom xml.dom import minidom\n\n# EDA\nimport matplotlib.pyplot as plt\nimport seaborn as sns\n",
   "outputs": [],
   "execution_count": 1
  },
  {
   "cell_type": "markdown",
   "source": "# Data loading",
   "metadata": {
    "tags": [],
    "is_collapsed": false,
    "cell_id": "00011-6e20e6ff-bcf2-484b-904e-6e92538a9003",
    "deepnote_cell_type": "text-cell-h1"
   }
  },
  {
   "cell_type": "markdown",
   "source": "We need to parse lots of XML files and add everything into a huge pandas DataFrame.  \nSo the idea is as follows:\n* for each language `(\"en\", \"es\")`\n* for each author / file\n* read all tweets",
   "metadata": {
    "tags": [],
    "cell_id": "00012-5bc110b4-a670-40b3-bde2-12994958e236",
    "deepnote_cell_type": "markdown"
   }
  },
  {
   "cell_type": "code",
   "metadata": {
    "tags": [],
    "deepnote_to_be_reexecuted": false,
    "source_hash": "f47525c4",
    "execution_start": 1637777862789,
    "execution_millis": 18,
    "cell_id": "00013-bab2895f-ea94-4d40-825e-abca685bb28d",
    "deepnote_cell_type": "code"
   },
   "source": "data_dir=\"/work/data\"",
   "outputs": [],
   "execution_count": 2
  },
  {
   "cell_type": "markdown",
   "source": "## Reading tweets from a given file",
   "metadata": {
    "tags": [],
    "is_collapsed": false,
    "cell_id": "00014-80ff6ad2-d0c7-47cf-bc78-e447b8c34b44",
    "deepnote_cell_type": "text-cell-h2"
   }
  },
  {
   "cell_type": "code",
   "metadata": {
    "tags": [],
    "deepnote_to_be_reexecuted": false,
    "source_hash": "12067889",
    "execution_start": 1637777862808,
    "execution_millis": 48,
    "cell_id": "00015-cc9e25c2-fd90-4cf4-bda4-fad6812c3ba2",
    "deepnote_cell_type": "code"
   },
   "source": "# Testing the XML parsing of a file\nxml_file=open(data_dir + \"/en/043e2766cc6d22ae4e447ca5f2885a2a.xml\")\n\n# Setting up parser for the file\nparser = minidom.parse(xml_file)",
   "outputs": [],
   "execution_count": 3
  },
  {
   "cell_type": "code",
   "metadata": {
    "tags": [],
    "deepnote_to_be_reexecuted": false,
    "source_hash": "1329a40d",
    "execution_start": 1637777862856,
    "execution_millis": 0,
    "cell_id": "00016-ffda9076-becc-475e-8087-b8893f34f60c",
    "deepnote_cell_type": "code"
   },
   "source": "# Using the parser to get first [0] tweet\ntweet = parser.getElementsByTagName('document')[0].firstChild.wholeText\n\nprint(tweet)",
   "outputs": [
    {
     "name": "stdout",
     "text": "Fuck New York #URL#\n",
     "output_type": "stream"
    }
   ],
   "execution_count": 4
  },
  {
   "cell_type": "code",
   "metadata": {
    "tags": [],
    "deepnote_to_be_reexecuted": false,
    "source_hash": "aed473dc",
    "execution_start": 1637777862857,
    "execution_millis": 32,
    "cell_id": "00017-dfab4a0e-d862-4d79-8945-75d98adb476a",
    "deepnote_cell_type": "code"
   },
   "source": "tweets = parser.getElementsByTagName('document')\n\nfor tweet in tweets:\n    print(tweet.firstChild.wholeText)",
   "outputs": [
    {
     "name": "stdout",
     "text": "Fuck New York #URL#\n#USER# #USER# I think I'm in love\nTrump is awesome #URL#\n#USER# You have the greatest tweets sweetheart #USER#\n#USER# It's free pizza Hun, just free food\n#USER# Love you Joy\nCan I help CNN, I can piss on ya #URL#\nShe IS a wet potato sack #URL#\n#USER# Long gone darlin\nI like them too #URL#\nRT #USER#: RETWEET if you think Michael Moore is a worthless Loser! #URL#\nRT #USER#: Did CNN just re-unite the alt-right &amp; the new right in a common cause? 🤔 #URL#\nOh, a willnot #URL#\nRT #USER#: Hey #USER#! Just saw a 12 year old with a video camera and a Trump t-shirt, might want to pay this clown a visit\n#USER# is so low, he can crawl under a snake and not alert it, better yet, he's a goof #URL#\nLet me get that for ya honey #URL#\nI'll eat what the fuck I want #URL#\n#USER# you mean this asshole, yep you nailed it, he is an asshole #URL#\nWow #USER# at those jeans #URL#\nWhat USA looks like today #URL#\nRT #USER#: TV RATINGS: Fox News has 14 of the top 20 cable news shows in total viewers this quarter — #URL#\nRT #USER#: Ivanka will be our next Woman President! #URL#\nRT #USER#: Want to stop Illegals From Voting in 2018 Wear an ICE jacket when you vote #URL#\nMore drug addicts, ya, what a way to go #URL#\nAin't blacks the greatest, white people suck #URL#\nRT #USER#: #USER# you cocksucking whore\n#USER# you cocksucking whore\nThere clowns, everybody hates clowns #URL#\nIvanka is such a beautiful women, how dare she #URL#\n#USER# 181 followers, you like me, you really really like me\nNice table cloth Hillary, what diner did you steal that out of, egad #URL#\nGeez, be careful down there yanks, we Canucks have 35 million people, every 8 hours we're wiped out #URL#\nRT #USER#: President Trump controls the Treasury &amp; should STOP payment of Congressional salaries until they actually WORK! #HASHTAG#\n#USER# Hang in there beautiful, you'll be fine\nAs long as it ain't Rosie's aroma I'm fine #URL#\n#USER# #USER# They should be encouraging Antifa\n#USER# #USER# is a complete idiot Liz, crack smoking asshole if I remember correctly\n#USER#, fuckin idiot #URL#\nHad the best Father's Day with my daughter, I'm so proud of her #USER# love you\n#USER# your an idiot\n#USER# Is going on yanks, pull your socks up. Dems are running your country into the ground\nRT #USER#: Heads up to the gun grabbers ( aint gonna happen) #URL#\nRT #USER#: The truth if I ever seen it! #URL#\nI thought cheerleaders were females #URL#\nThe LEFT is mad max #URL#\nRT #USER#: This year trip to DC has been phenomenal! I'm so grateful! Thank you God for your many blessings! #URL#\nAin't she a beaut, what a piece of shit #URL#\nAs if anyone ver needed a reason #URL#\nI love lori #URL#\nRT #USER#: RETWEET if you think that Obama lackey Loretta Lynch should be INDICTED #URL#\n#USER# #USER# You mean like, hey bud stop walkin, I gotta have a shit, that sorta thing? That's nice\nRT #USER#: This guy mouthed \"terrorist sympathiser\" behind Corbyn... #URL#\nRT #USER#: If you think #USER# is a piece of shit, is there anything he could do that would change your mind?\nTissue anyone, egad, cry me a river. I guess its plan z1a2, grow the F up lobs #URL#\nGod meant Mars global warming, hurry up Al the next flight is about to leave, ya putz #URL#\nRT #USER#: #USER# What isn't wrong washed 👆 she just rambles on and has the wrong person she's rambling about. 🤔🤔🤔\nRT #USER#: Liars!! I will never vote DemocRat again #URL#\nWell, that's Reality #URL#\nRT #USER#: 71% Of People In Poland Want To Ban Muslim Immigration #URL#\nHow the West can weather the loss of U.S. leadership /via #USER# #URL# the globe&amp;email is a rag, oh it's free too\nRT #USER#: Let's salute the courageous female #HASHTAG# snipers as they force #HASHTAG# to retreat from #HASHTAG#\n#USER# #USER# Is this her #URL#\nRT #USER#: Grande to return to stage Sunday for Manchester benefit show #URL# #URL#\nRT #USER#: Theresa May wants longer prison sentences for terrorists. I'm sure this will deter suicide bombers.\nRT #USER#: Better pace yourself 😉 #HASHTAG# #URL#\n#USER# #USER# what a loser haha #URL#\nHow's that jello pudding taste now ya fuckin piece of shit Cosby, tell O J I said hello, sick fuck #URL#\nI thought he threw the dog at the tv, my mistake #URL#\nRT #USER#: Trump has tweets for every occasion. #URL#\n#USER# #USER# #USER# luck Larry that is\n#USER# #USER# Very well said\n#USER# Yes thank you bill and kat\nBecause she can.... #URL#\n#USER# #USER# R u fucked\n#USER# #USER# But he puts it back with natural gas that he spews\nSurfboards? Check the speedo's they're wearing, I gotta get me one #URL#\nBut it has solar powered nose hair trimmers #URL#\n#USER# cereal, comes with free enema #URL#\nRT #USER#: Yo #USER# you gon be cancelled by tomorrow. Black Twitter bout to get you fired and find your address.\nWow, and it's Breaking, NBC must be hard at work snoring over the all investigation docs they've uncovered #URL#\nWhen did madcow get the scar #URL#\n#USER# #USER# #USER# Hey Kathy, If your looking for work, I could use my scrotum scrubbed, fuckin skank #USER#\n#USER# Lol, you kill me Liz\nI love it, must watch #URL#\n#USER#, please dont put pics like this anymore, egad I'm going to be sick, oh wow, I covfefe'd myself #URL#\nRT #USER#: #USER# #USER# Terrorist check list: Plan in advance Announce in advance Commit act Claim victim hood\n#USER# #USER# Barron would kick the shit out of her, you know libs, they think there tough and run when they're stood up to\nRT #USER#: Kathy Griffin just earned thousands of votes for President Trump. Kathy is your democrat party. Well done. #HASHTAG#\nRT #USER#: Please raise your boys to be real men in a world where society urges you to raise a feminist son!! 👇🏻😵 #URL#\n#USER# #USER# #USER# What about the goats you sleep with linda\nRT #USER#: The moment she learned a formidable candidate is competing for her Congressional seat. #URL#\nRT #USER#: After Hillary's speech today, remember this--&gt; Cash Flowed to Clinton Foundation Amid Russian Uranium Deal\nI love these two #URL#\nAsk the dems #URL#\nChildren's book author, who was his dad, Caligula, what a goof, #USER# POS #URL#\nHurry up and ie #USER#, nobody would care, loser #URL#\n#USER# is a disgusting pile of shit, #URL#\n#USER# #USER# Well Chuck, it's like this, they're stupid.\nDon't hold back #URL#\nRT #USER#: You have to admire his honesty. #URL#\nYa George, STFU and quit being a crybaby #URL#\nLove the way the snowflakes fall and make an ass of themselves #URL#\nOUT OF TOUCK, AH, MORE OUT OF THERE MINDS #URL#\nHaha, good one #URL#\nRT #USER#: #USER# wore it better #URL#\n#USER# wore it better #URL#\n#USER# #USER# #USER# #USER# #USER# Not to mention your gorgeous\nWhen you think of idiot, think of #USER#, trust me, he's an idiot\nWho's the idiot on the right, what an asshole #URL#\nWow, hangings to good for em, oh the humanity #URL#\n#USER# #USER# Did he just say college campuses aren't a free speech area, I'm confused\nI like that girl #URL#\nYep, he did same to me #URL#\nRT #USER#: Mainstream media COMPLETELY silent on this story. #URL#\nShe's fucked up #URL#\nHere we go with the racist shit again #URL#\n#USER# Oye that Michael Oboma is one ugly dude\n#USER# I'm boycotting any product that has a Hollywood celebrity in its commercial, who's with me\nRT #USER#: Doing the (wrong) math #HASHTAG# #URL#\n#USER# You have to be the dumbest blondes ive ever had to endure to listen to, egad go back to school\nI think stucky is stuck on stupid #URL#\nRT #USER#: \"If every repub candidate picked up a reporter n slammed them I would go bankrupt donating to them\" 🤣😭🤣😂\nI need a tissue #URL#\nRT #USER#: I SUPPORT, I WILL LEAVE TOO #URL#\nWho did you ask #USER# a majority of 4 year olds #URL#\nRT #USER#: Busted you Asshole, guess what! No special prosecutor. #URL#\nRT #USER#: When your mouth becomes full of 🐂💩 it's good to keep a refreshing drink nearby‼️👊🏻 #URL#\nRT #USER#: The real Scoop.. F you you Twerp, and I,m being nice! #URL#\n#USER# #USER# #USER# #USER# very well said\nRT #USER#: Is this what it is coming to before Liberals get it! #URL#\n#USER# #USER# Well said Cassandra\nRT #USER#: If you had any doubt, this should confirm that ISIS is responsible for the Manchester attack. #URL#\nRT #USER#: Our beautiful First Lady touches the sacred and holy Western Wall. I love our #USER# #URL#\nGeorge Harrison - Blow Away #USER# away hillary #URL#\nWhy aren't they going after Hillary, fuck I'm sick of this shit #URL#\nSarcasm, I hope #URL#\n#USER# #USER# #USER# #USER# #USER# #USER# #USER# #USER# Same pant suit, same freak\nSlick Willy did it #URL#\nNot true, she 12 and a half #URL#\n#USER# I hope you do\nI love you ❤️ #URL#\n#USER# #USER# He can't act, shit just lays there\nDon't ever come back to Canada you piece of shit, goof#USER# #URL#\nRT #USER#: C'mon media STOP hiding this story...Americans deserve to know the TRUTH !!😡 #URL#\nHappy Mothers Day to every beautiful mom out there, wish I could hug every one of you\nI love you too #URL#\n#USER# #USER# More like a hall monitor\nTo bad OJ didn't die 31 years ago #URL#\nRT #USER#: Facts are tough on #HASHTAG#... #URL#\n#USER# #USER# #USER# Hahaha, #USER# is the funniest idiots in the universe, what a clown\nRT #USER#: Boom 👊 I ❤️ watching Sarah Huckabee Sanders call out hypocritical democrats in the WH Press Briefing! #URL#\n#USER# why does it take a liberal an hour and a half to watch #USER#\nRT #USER#: Oh, These poor things.. #HASHTAG# soon they'll run outta other peoples money😎 #URL#\nYou go girl, well done #URL#\nRT #USER#: If #HASHTAG# isn't KILLING, Why is it considered a #HASHTAG# When a #HASHTAG# is Murdered? #HASHTAG#\n#USER# #USER# We all noticed\n#USER# #USER# #USER# I can't believe the asshole lasted as long as he did\nWhy doesn't he just come out and get it over with. We know Colbert, your gay, we get it, now shut up already... goof #URL#\nEew, yuck, who let the pigpen door open, my god, what do you feed something like that #URL#\nNo offence but, Pocahontas, women like you will make sure there never will be a woman Prez. Idiot #URL#\nRT #USER#: President Trump is right about Andrew Jackson and the Civil War, the morons on cable news are wrong.\nRT #USER#: Jesus loves you. But everyone else thinks you are an asshole 👌🏽 #HASHTAG#\n#USER# #USER# What's google, must be another Trump hater\n#USER# #USER# #USER# Really, tax returns, that's all you got. Get over it cry baby\nHaha, cry babies #URL#\nRT #USER#: Convicted terrorist who helped organize \"A Day Without A Woman\" strike pleads guilty to immigration fraud\n#USER# Happy Birthday Lori\n#USER# I'm sure the big-wigs have there homes built now so that's it, no more mansions\nRT #USER#: 300 guitars for sale: A story of a manic buying spree #URL# #URL#\nRT #USER#: Andrew Lumish, dedicates his one day off a week to restoring veteran's tombstones in Tampa, Florida! #URL#\n#USER# Exactly #USER# its getting old real fast\nShoot him again #URL#\nI love Easter #URL#\n#USER# #USER# Would you like a nice cold beer mr. Prez\nRT #USER#: William Wilberforce, bitches. #URL#\nMaybe your world #URL#\n#USER# #USER# I'd love to warm her butt pads, I love her\nRT #USER#: Hamilton judge who wore Trump hat in court to face disciplinary hearing #URL#\nRT #USER#: Wow #USER# , that is a man's handshake if I ever saw one ! 😂😂😭 #HASHTAG# #HASHTAG# #URL#\nRT #USER#: Imagine the hater's face when they realize how I continue to utterly dominate them. 😄 #URL#\n#USER# #USER# #USER# #USER# or spend some money on that ugly mugg of hers\nRT #USER#: 39% of young people in France aged 18-24 support Marine Le Pen. Populism is the new punk! #URL#\nRT #USER#: Justice Ruth Bader Ginsburg, who insists that Trump is unfit for his job. #URL#\nRT #USER#: Dear Muslims, Before Trying to FAKE CIVILIAN DEATHS, Make Sure The CAMERAS Are NOT ROLLING! [VIDEO] – Liberty i\nPretty much nailed it Lizzy #URL#\nUn-Fuckin Believable, what the fuck. Fuck I hate Muslims #URL#\nRT #USER#: Miracles do exist! Gloria being investigated for misconduct 👏👏👏👏👏👏👏 #URL#\nGood luck with that #URL#\nYikes, I'm poor and I wouldn't do that thing, why would Trump #URL#\n#USER# oh I'm beginning to like you, 😘\n#USER# #USER# that's nice, don't forget, your stupid too\n#USER# #USER# #USER# you left out a couple words, like kill non-believers and shit like that, losers\n#USER# I'll remember that, thanks Stupid\n#USER# #USER# #USER# do you like to beat your wife and kids?\nThat's the best ever tweet #URL#\nRT #USER#: YouTube Ad Boycott #URL#\nYa, and boy O boy they're gunna pay, fuck, give me a break #URL#\nJust call #USER# stupid, he goes by that name #URL#\nThat guy is the scariest, I'd break his fuckin face if he ever went near my child #URL#\nI knew she was #URL#\n",
     "output_type": "stream"
    }
   ],
   "execution_count": 5
  },
  {
   "cell_type": "markdown",
   "source": "## Getting languages and file list",
   "metadata": {
    "tags": [],
    "is_collapsed": false,
    "cell_id": "00018-9da68a3e-5c79-4e0d-9e1e-15fcb415414d",
    "deepnote_cell_type": "text-cell-h2"
   }
  },
  {
   "cell_type": "markdown",
   "source": "We need to list a content of the data dictionary and assume everything found is a \"language\" subfolder.  \n  \n```\n(venv) root@deepnote:~/work # ls data\nen  es\n```  \n</br>  \nThese are two subfolders for English (`\"en\"`) and Spanish ('\"es\"`) users.",
   "metadata": {
    "tags": [],
    "cell_id": "00019-04a0e90f-05c9-4ca6-8c8b-64dfb15cbe25",
    "deepnote_cell_type": "markdown"
   }
  },
  {
   "cell_type": "code",
   "metadata": {
    "tags": [],
    "deepnote_to_be_reexecuted": false,
    "source_hash": "668d53d3",
    "execution_start": 1637777862930,
    "execution_millis": 3,
    "cell_id": "00020-384b723e-6291-4b96-969b-07fc84e7d98b",
    "deepnote_cell_type": "code"
   },
   "source": "# We will store the available languages into this \"langs\" list\nlangs = []\n\n# Iterate through the data_dir content:\nfor item in os.listdir(data_dir):\n    print(item)\n    langs.append(item)",
   "outputs": [
    {
     "name": "stdout",
     "text": "es\nen\n",
     "output_type": "stream"
    }
   ],
   "execution_count": 6
  },
  {
   "cell_type": "code",
   "metadata": {
    "tags": [],
    "deepnote_to_be_reexecuted": false,
    "source_hash": "eee368f2",
    "execution_start": 1637777862930,
    "execution_millis": 3,
    "deepnote_output_heights": [
     20.5
    ],
    "cell_id": "00021-02c96e91-8544-4ddf-a3ba-0183113f4e89",
    "deepnote_cell_type": "code"
   },
   "source": "langs",
   "outputs": [
    {
     "output_type": "execute_result",
     "execution_count": 7,
     "data": {
      "text/plain": "['es', 'en']"
     },
     "metadata": {}
    }
   ],
   "execution_count": 7
  },
  {
   "cell_type": "markdown",
   "source": "## Loading tweets",
   "metadata": {
    "tags": [],
    "is_collapsed": false,
    "cell_id": "00022-774df7f9-430f-43db-b0b2-b40bad56afa0",
    "deepnote_cell_type": "text-cell-h2"
   }
  },
  {
   "cell_type": "markdown",
   "source": "Following block will:\n  - scan through the `data` directory and for each language found\n  - scan all the files (taking only the XML files)\n  - read all the tweets\n  - append this all into a huge pandas DataFrame  ",
   "metadata": {
    "tags": [],
    "cell_id": "00023-4a82ff97-7ebd-4307-92a6-8fca4d230b94",
    "deepnote_cell_type": "markdown"
   }
  },
  {
   "cell_type": "code",
   "metadata": {
    "tags": [],
    "deepnote_to_be_reexecuted": false,
    "source_hash": "dcb48e94",
    "execution_start": 1637777862931,
    "execution_millis": 265661,
    "cell_id": "00024-4a43e279-bad0-40a1-abbd-0ea2d7e42301",
    "output_cleared": false,
    "deepnote_cell_type": "code"
   },
   "source": "# Create empty dataframe with specified columns\nuserid_pattern = \"[a-z0-9]{32}\"\ntwitter_file_pattern = userid_pattern + \"\\.xml\"\ncolumns = [\"lang\", \"userid\", \"tweet\"]\ndata = pd.DataFrame(columns=columns)\n\n# Scan data directory for languages and XML files\nfor lang in os.listdir(data_dir):\n    \n    # Scan files in language directory\n    for item in tqdm(os.listdir(data_dir + \"/\" + lang), desc=f\"Loading files [{lang}]...\"):\n        \n        # Twitter XML file filter:\n        if re.search(twitter_file_pattern, item):\n\n            # Extract userid from file name\n            userid = item[:-4]\n\n            # Open XML file and setup parser\n            xml_file = open(data_dir + \"/\" + lang + \"/\" + item)\n            parser = minidom.parse(xml_file)\n\n            # Parse tweets\n            tweets = parser.getElementsByTagName('document')\n\n            # Add each tweet to a dataframe\n            for tweet in tweets:\n                addition = pd.DataFrame([[lang, userid, tweet.firstChild.wholeText]], columns=columns)\n                data = data.append(addition, ignore_index=True)",
   "outputs": [
    {
     "name": "stderr",
     "text": "Loading files [es]...: 100%|██████████| 201/201 [01:23<00:00,  2.41it/s]\nLoading files [en]...: 100%|██████████| 201/201 [03:02<00:00,  1.10it/s]\n",
     "output_type": "stream"
    }
   ],
   "execution_count": 8
  },
  {
   "cell_type": "markdown",
   "source": "The processing of the XML files took ~5 minutes. To save time I decided to store it later to a CSV file, so next time we can load it very quickly.",
   "metadata": {
    "tags": [],
    "cell_id": "00025-15056199-a3fe-4bbd-a693-c7393caf2799",
    "deepnote_cell_type": "markdown"
   }
  },
  {
   "cell_type": "code",
   "source": "data = pd.read_csv(\"/work/data.csv\")",
   "metadata": {
    "tags": [],
    "cell_id": "00026-88d78fe1-83d1-4ca5-9f6a-92108532e359",
    "deepnote_to_be_reexecuted": false,
    "source_hash": "5090142",
    "execution_start": 1637778128595,
    "execution_millis": 216,
    "deepnote_cell_type": "code"
   },
   "outputs": [],
   "execution_count": 9
  },
  {
   "cell_type": "code",
   "metadata": {
    "tags": [],
    "deepnote_to_be_reexecuted": false,
    "source_hash": "41313cfa",
    "execution_start": 1637778128836,
    "execution_millis": 30,
    "deepnote_output_heights": [
     175.65625
    ],
    "cell_id": "00026-6e80a704-da52-482a-94f2-2d7bce7a527b",
    "deepnote_cell_type": "code"
   },
   "source": "data.head()",
   "outputs": [
    {
     "output_type": "execute_result",
     "execution_count": 10,
     "data": {
      "application/vnd.deepnote.dataframe.v2+json": {
       "row_count": 5,
       "column_count": 4,
       "columns": [
        {
         "name": "Unnamed: 0",
         "dtype": "int64",
         "stats": {
          "unique_count": 5,
          "nan_count": 0,
          "min": "0",
          "max": "4",
          "histogram": [
           {
            "bin_start": 0,
            "bin_end": 0.4,
            "count": 1
           },
           {
            "bin_start": 0.4,
            "bin_end": 0.8,
            "count": 0
           },
           {
            "bin_start": 0.8,
            "bin_end": 1.2000000000000002,
            "count": 1
           },
           {
            "bin_start": 1.2000000000000002,
            "bin_end": 1.6,
            "count": 0
           },
           {
            "bin_start": 1.6,
            "bin_end": 2,
            "count": 0
           },
           {
            "bin_start": 2,
            "bin_end": 2.4000000000000004,
            "count": 1
           },
           {
            "bin_start": 2.4000000000000004,
            "bin_end": 2.8000000000000003,
            "count": 0
           },
           {
            "bin_start": 2.8000000000000003,
            "bin_end": 3.2,
            "count": 1
           },
           {
            "bin_start": 3.2,
            "bin_end": 3.6,
            "count": 0
           },
           {
            "bin_start": 3.6,
            "bin_end": 4,
            "count": 1
           }
          ]
         }
        },
        {
         "name": "lang",
         "dtype": "object",
         "stats": {
          "unique_count": 1,
          "nan_count": 0,
          "categories": [
           {
            "name": "es",
            "count": 5
           }
          ]
         }
        },
        {
         "name": "userid",
         "dtype": "object",
         "stats": {
          "unique_count": 1,
          "nan_count": 0,
          "categories": [
           {
            "name": "223d8277fe1f9895a83a385010218989",
            "count": 5
           }
          ]
         }
        },
        {
         "name": "tweet",
         "dtype": "object",
         "stats": {
          "unique_count": 5,
          "nan_count": 0,
          "categories": [
           {
            "name": "#USER# #USER# Me gusta la VALENCIANA, es mucha mujer ¡",
            "count": 1
           },
           {
            "name": "RT #USER#: La crítica de Pablo Echenique a Isabel Díaz Ayuso que se le ha vuelto en contra #URL#",
            "count": 1
           },
           {
            "name": "3 others",
            "count": 3
           }
          ]
         }
        },
        {
         "name": "_deepnote_index_column",
         "dtype": "int64"
        }
       ],
       "rows_top": [
        {
         "Unnamed: 0": 0,
         "lang": "es",
         "userid": "223d8277fe1f9895a83a385010218989",
         "tweet": "#USER# #USER# Me gusta la VALENCIANA, es mucha mujer ¡",
         "_deepnote_index_column": 0
        },
        {
         "Unnamed: 0": 1,
         "lang": "es",
         "userid": "223d8277fe1f9895a83a385010218989",
         "tweet": "RT #USER#: La crítica de Pablo Echenique a Isabel Díaz Ayuso que se le ha vuelto en contra #URL#",
         "_deepnote_index_column": 1
        },
        {
         "Unnamed: 0": 2,
         "lang": "es",
         "userid": "223d8277fe1f9895a83a385010218989",
         "tweet": "RT #USER#: Errejón se prepara la moción 😂😂😂😂😂😂😂 #URL#",
         "_deepnote_index_column": 2
        },
        {
         "Unnamed: 0": 3,
         "lang": "es",
         "userid": "223d8277fe1f9895a83a385010218989",
         "tweet": "#USER# #USER# #USER# #USER# #USER# Y esos insultos ? Soy muchas cosas ,pero gili no.",
         "_deepnote_index_column": 3
        },
        {
         "Unnamed: 0": 4,
         "lang": "es",
         "userid": "223d8277fe1f9895a83a385010218989",
         "tweet": "RT #USER#: #USER# #USER# #USER# Sí Sí igual que en Madrid. No se dicen medias verdades. #URL#",
         "_deepnote_index_column": 4
        }
       ],
       "rows_bottom": null
      },
      "text/plain": "   Unnamed: 0 lang                            userid  \\\n0           0   es  223d8277fe1f9895a83a385010218989   \n1           1   es  223d8277fe1f9895a83a385010218989   \n2           2   es  223d8277fe1f9895a83a385010218989   \n3           3   es  223d8277fe1f9895a83a385010218989   \n4           4   es  223d8277fe1f9895a83a385010218989   \n\n                                               tweet  \n0  #USER# #USER# Me gusta la VALENCIANA, es mucha...  \n1  RT #USER#: La crítica de Pablo Echenique a Isa...  \n2  RT #USER#: Errejón se prepara la moción 😂😂😂😂😂😂...  \n3  #USER# #USER# #USER# #USER# #USER# Y esos insu...  \n4  RT #USER#: #USER# #USER# #USER# Sí Sí igual qu...  ",
      "text/html": "<div>\n<style scoped>\n    .dataframe tbody tr th:only-of-type {\n        vertical-align: middle;\n    }\n\n    .dataframe tbody tr th {\n        vertical-align: top;\n    }\n\n    .dataframe thead th {\n        text-align: right;\n    }\n</style>\n<table border=\"1\" class=\"dataframe\">\n  <thead>\n    <tr style=\"text-align: right;\">\n      <th></th>\n      <th>Unnamed: 0</th>\n      <th>lang</th>\n      <th>userid</th>\n      <th>tweet</th>\n    </tr>\n  </thead>\n  <tbody>\n    <tr>\n      <th>0</th>\n      <td>0</td>\n      <td>es</td>\n      <td>223d8277fe1f9895a83a385010218989</td>\n      <td>#USER# #USER# Me gusta la VALENCIANA, es mucha...</td>\n    </tr>\n    <tr>\n      <th>1</th>\n      <td>1</td>\n      <td>es</td>\n      <td>223d8277fe1f9895a83a385010218989</td>\n      <td>RT #USER#: La crítica de Pablo Echenique a Isa...</td>\n    </tr>\n    <tr>\n      <th>2</th>\n      <td>2</td>\n      <td>es</td>\n      <td>223d8277fe1f9895a83a385010218989</td>\n      <td>RT #USER#: Errejón se prepara la moción 😂😂😂😂😂😂...</td>\n    </tr>\n    <tr>\n      <th>3</th>\n      <td>3</td>\n      <td>es</td>\n      <td>223d8277fe1f9895a83a385010218989</td>\n      <td>#USER# #USER# #USER# #USER# #USER# Y esos insu...</td>\n    </tr>\n    <tr>\n      <th>4</th>\n      <td>4</td>\n      <td>es</td>\n      <td>223d8277fe1f9895a83a385010218989</td>\n      <td>RT #USER#: #USER# #USER# #USER# Sí Sí igual qu...</td>\n    </tr>\n  </tbody>\n</table>\n</div>"
     },
     "metadata": {}
    }
   ],
   "execution_count": 10
  },
  {
   "cell_type": "markdown",
   "source": "## Loading truth",
   "metadata": {
    "tags": [],
    "is_collapsed": false,
    "cell_id": "00027-b8411069-136b-473b-bee8-fafa1c06f64c",
    "deepnote_cell_type": "text-cell-h2"
   }
  },
  {
   "cell_type": "code",
   "metadata": {
    "tags": [],
    "deepnote_to_be_reexecuted": false,
    "source_hash": "aafdc0f4",
    "execution_start": 1637778128877,
    "execution_millis": 2,
    "deepnote_output_heights": [
     20.5
    ],
    "cell_id": "00028-4a67fcfa-e877-4f59-98e8-acea242fa47f",
    "deepnote_cell_type": "code"
   },
   "source": "# Testing for presence of a \"truth.txt\" file\n[item for item in os.listdir(data_dir + \"/\" + lang) if item==\"truth.txt\"]",
   "outputs": [
    {
     "output_type": "execute_result",
     "execution_count": 11,
     "data": {
      "text/plain": "['truth.txt']"
     },
     "metadata": {}
    }
   ],
   "execution_count": 11
  },
  {
   "cell_type": "markdown",
   "source": "Following block will load all truth files:",
   "metadata": {
    "tags": [],
    "cell_id": "00029-79ad8d66-2901-4081-9740-cddf0740e2a5",
    "deepnote_cell_type": "markdown"
   }
  },
  {
   "cell_type": "code",
   "metadata": {
    "tags": [],
    "deepnote_to_be_reexecuted": false,
    "source_hash": "9c95a0af",
    "execution_start": 1637778128898,
    "execution_millis": 39,
    "cell_id": "00030-3576d74f-18ef-49f3-b6df-dc2094492946",
    "deepnote_cell_type": "code"
   },
   "source": "# Create empty dataframe with specified columns\ntruth_file_name = \"truth.txt\"\ncolumns = [\"userid\", \"truth\"]\ntruth = pd.DataFrame(columns=columns)\n\n# Scan data directory for languages and XML files\nfor lang in langs:\n    \n    # Scan files in language directory\n    for item in tqdm(\n        [item for item in os.listdir(data_dir + \"/\" + lang) if item==\"truth.txt\"],\n        desc=f\"Loading truth files [{lang}]...\"):\n        \n        addition = pd.read_csv((data_dir + \"/\" + lang + \"/\" + item), sep=\":\", index_col=False, usecols=[0,3], names=columns)\n\n        truth = truth.append(addition, ignore_index=True)",
   "outputs": [
    {
     "name": "stderr",
     "text": "Loading truth files [es]...: 100%|██████████| 1/1 [00:00<00:00, 166.95it/s]\nLoading truth files [en]...: 100%|██████████| 1/1 [00:00<00:00, 159.22it/s]\n",
     "output_type": "stream"
    }
   ],
   "execution_count": 12
  },
  {
   "cell_type": "code",
   "metadata": {
    "tags": [],
    "deepnote_to_be_reexecuted": false,
    "source_hash": "71697975",
    "execution_start": 1637778128948,
    "execution_millis": 40,
    "cell_id": "00031-6c88fb4c-50bf-443e-8124-cb356355573f",
    "deepnote_cell_type": "code"
   },
   "source": "truth",
   "outputs": [
    {
     "output_type": "execute_result",
     "execution_count": 13,
     "data": {
      "application/vnd.deepnote.dataframe.v2+json": {
       "row_count": 400,
       "column_count": 2,
       "columns": [
        {
         "name": "userid",
         "dtype": "object",
         "stats": {
          "unique_count": 400,
          "nan_count": 0,
          "categories": [
           {
            "name": "1a698d93874644625d83a76b206c7aa3",
            "count": 1
           },
           {
            "name": "b7200193802bde3769f4daa371b5305b",
            "count": 1
           },
           {
            "name": "398 others",
            "count": 398
           }
          ]
         }
        },
        {
         "name": "truth",
         "dtype": "object",
         "stats": {
          "unique_count": 2,
          "nan_count": 0,
          "categories": [
           {
            "name": "0",
            "count": 200
           },
           {
            "name": "1",
            "count": 200
           }
          ]
         }
        },
        {
         "name": "_deepnote_index_column",
         "dtype": "int64"
        }
       ],
       "rows_top": [
        {
         "userid": "1a698d93874644625d83a76b206c7aa3",
         "truth": "0",
         "_deepnote_index_column": 0
        },
        {
         "userid": "b7200193802bde3769f4daa371b5305b",
         "truth": "0",
         "_deepnote_index_column": 1
        },
        {
         "userid": "7ffb758291340303c2162fcee25e2780",
         "truth": "0",
         "_deepnote_index_column": 2
        },
        {
         "userid": "e309e9e2516824370310661c919dd5d8",
         "truth": "0",
         "_deepnote_index_column": 3
        },
        {
         "userid": "b523abc590889dfaf69a1c8470ef314d",
         "truth": "0",
         "_deepnote_index_column": 4
        },
        {
         "userid": "0d5bc439846845ca0282d30f26b92eee",
         "truth": "0",
         "_deepnote_index_column": 5
        },
        {
         "userid": "5a079a4ef5989015391fbb1b2ebc5145",
         "truth": "0",
         "_deepnote_index_column": 6
        },
        {
         "userid": "f558a21dd8e02f2f7d4e5d5c3ea24195",
         "truth": "0",
         "_deepnote_index_column": 7
        },
        {
         "userid": "18e97b887f9f73ebfc07e87e6f5748d8",
         "truth": "0",
         "_deepnote_index_column": 8
        },
        {
         "userid": "05637e07406ea8532afc02fb024f9301",
         "truth": "0",
         "_deepnote_index_column": 9
        },
        {
         "userid": "4ce8e0e81ba985fd28cea7cc0c578ef4",
         "truth": "0",
         "_deepnote_index_column": 10
        },
        {
         "userid": "f46ab3d2949d86b20afc5de5223370bd",
         "truth": "0",
         "_deepnote_index_column": 11
        },
        {
         "userid": "7f611faa4c6f261cf09f06bf04031bf5",
         "truth": "0",
         "_deepnote_index_column": 12
        },
        {
         "userid": "e9016dfcf52be3d6cb7ef3b90812bc60",
         "truth": "0",
         "_deepnote_index_column": 13
        },
        {
         "userid": "64a391a27ac7ff3b5dc9d51182fe4ceb",
         "truth": "0",
         "_deepnote_index_column": 14
        },
        {
         "userid": "4bfcb52ec1961cb695e6facb6f02a99f",
         "truth": "0",
         "_deepnote_index_column": 15
        },
        {
         "userid": "a674abae1b9f6875e88aab47281feee0",
         "truth": "0",
         "_deepnote_index_column": 16
        },
        {
         "userid": "295f7913f5238dc9c0c341d6d74437ef",
         "truth": "0",
         "_deepnote_index_column": 17
        },
        {
         "userid": "fa5be6e6c139255df5fabafa5812a062",
         "truth": "0",
         "_deepnote_index_column": 18
        },
        {
         "userid": "2ed31d51508fbfa1416c55508ab799ae",
         "truth": "0",
         "_deepnote_index_column": 19
        },
        {
         "userid": "aff0f4c434bf985b64c6ca051cdbe886",
         "truth": "0",
         "_deepnote_index_column": 20
        },
        {
         "userid": "49429290b9c03e657f6038884b0278ef",
         "truth": "0",
         "_deepnote_index_column": 21
        },
        {
         "userid": "ad67ab8fb7fc94a737bced7f92699801",
         "truth": "0",
         "_deepnote_index_column": 22
        },
        {
         "userid": "9901087f781c97976d8af765bb14f80e",
         "truth": "0",
         "_deepnote_index_column": 23
        },
        {
         "userid": "8930788ee9b491e35b53d55f688c829b",
         "truth": "0",
         "_deepnote_index_column": 24
        },
        {
         "userid": "55225a39f4d2affd7494625a26f7dab2",
         "truth": "0",
         "_deepnote_index_column": 25
        },
        {
         "userid": "31cf254cc1a3902a37a6da8312df4f34",
         "truth": "0",
         "_deepnote_index_column": 26
        },
        {
         "userid": "0e4a0376e41eb7d90b28cd08cdb4a844",
         "truth": "0",
         "_deepnote_index_column": 27
        },
        {
         "userid": "b335bf6f5f8eda9979c489f28c3f48bc",
         "truth": "0",
         "_deepnote_index_column": 28
        },
        {
         "userid": "6d76e63dae6216b762bfa67034586663",
         "truth": "0",
         "_deepnote_index_column": 29
        },
        {
         "userid": "55004f65c53197a646d25890ac99390f",
         "truth": "0",
         "_deepnote_index_column": 30
        },
        {
         "userid": "e8499000a6f5e3845ee4d99803704812",
         "truth": "0",
         "_deepnote_index_column": 31
        },
        {
         "userid": "420d42a731219b12356434547a67eee1",
         "truth": "0",
         "_deepnote_index_column": 32
        },
        {
         "userid": "e6204582e8bf04a62fbde859631c03c5",
         "truth": "0",
         "_deepnote_index_column": 33
        },
        {
         "userid": "7febf4c0b4c1d6f07be4caeb75e2250c",
         "truth": "0",
         "_deepnote_index_column": 34
        },
        {
         "userid": "eb011ed1867f1d2998060514d0812fe9",
         "truth": "0",
         "_deepnote_index_column": 35
        },
        {
         "userid": "3ceae5710cb0e6131842a3ad9b3ed5de",
         "truth": "0",
         "_deepnote_index_column": 36
        },
        {
         "userid": "dd7364fed881e5ecba9b0d2ec954384b",
         "truth": "0",
         "_deepnote_index_column": 37
        },
        {
         "userid": "ae006f842c3d2bfcd587dc62ae52a9f0",
         "truth": "0",
         "_deepnote_index_column": 38
        },
        {
         "userid": "8dd7929234ef21468bdb8fdbd2d411a1",
         "truth": "0",
         "_deepnote_index_column": 39
        },
        {
         "userid": "8e4e83695f93d385b31a2e50eb595085",
         "truth": "0",
         "_deepnote_index_column": 40
        },
        {
         "userid": "a802b5de3017f496053306f6d8be96b9",
         "truth": "0",
         "_deepnote_index_column": 41
        },
        {
         "userid": "a1033e16a58d5716cd6af3088aafe6fc",
         "truth": "0",
         "_deepnote_index_column": 42
        },
        {
         "userid": "42c8836203a6a63c4fa22ea2178ba921",
         "truth": "0",
         "_deepnote_index_column": 43
        },
        {
         "userid": "94f63650311828db7204124ac0c7e2d9",
         "truth": "0",
         "_deepnote_index_column": 44
        },
        {
         "userid": "26d6b9b7ea67c30f8c6c036b536d1d5c",
         "truth": "0",
         "_deepnote_index_column": 45
        },
        {
         "userid": "8f1c56571cd45149298c92ce5d0bdd01",
         "truth": "0",
         "_deepnote_index_column": 46
        },
        {
         "userid": "bf8e829c0f62af2f3463064247bd958e",
         "truth": "0",
         "_deepnote_index_column": 47
        },
        {
         "userid": "4adb592ec058997b0b2ce078b56693ad",
         "truth": "0",
         "_deepnote_index_column": 48
        },
        {
         "userid": "971739a1bddc1bb5af293780dcbf2fd2",
         "truth": "0",
         "_deepnote_index_column": 49
        },
        {
         "userid": "7e0567224eccdc6df3413468320c3037",
         "truth": "0",
         "_deepnote_index_column": 50
        },
        {
         "userid": "017dda89bbe1c2eac6fa75596b6a80f9",
         "truth": "0",
         "_deepnote_index_column": 51
        },
        {
         "userid": "461a5ba9ae0a8bb122bef9e6874f5359",
         "truth": "0",
         "_deepnote_index_column": 52
        },
        {
         "userid": "9d20fcf917f4a4ab258eecc16c1f22e4",
         "truth": "0",
         "_deepnote_index_column": 53
        },
        {
         "userid": "34e18cf8677b8314d44e5920c7c782c8",
         "truth": "0",
         "_deepnote_index_column": 54
        },
        {
         "userid": "d5b5ec610c61c3ab48c38e554c0b3d5a",
         "truth": "0",
         "_deepnote_index_column": 55
        },
        {
         "userid": "09243489278fefacecb071266d5786d3",
         "truth": "0",
         "_deepnote_index_column": 56
        },
        {
         "userid": "705a2897e2941ab1e325ea80d2db9454",
         "truth": "0",
         "_deepnote_index_column": 57
        },
        {
         "userid": "e630dc1bc8689950756686cf8e98d40e",
         "truth": "0",
         "_deepnote_index_column": 58
        },
        {
         "userid": "6a98247ce61e220044aca984feda1748",
         "truth": "0",
         "_deepnote_index_column": 59
        },
        {
         "userid": "730bf4b2f785c157b463084cd774a550",
         "truth": "0",
         "_deepnote_index_column": 60
        },
        {
         "userid": "46fa926d8095dabf75c2f834f999ce2d",
         "truth": "0",
         "_deepnote_index_column": 61
        },
        {
         "userid": "59cf4b5e71a135390f900eadd47a0602",
         "truth": "0",
         "_deepnote_index_column": 62
        },
        {
         "userid": "307665c82a5b2fd41acff99f81797fa1",
         "truth": "0",
         "_deepnote_index_column": 63
        },
        {
         "userid": "49ad53dd346c5212507b9c477eb53c03",
         "truth": "0",
         "_deepnote_index_column": 64
        },
        {
         "userid": "93a3150a057d6370dd9523893ae6350d",
         "truth": "0",
         "_deepnote_index_column": 65
        },
        {
         "userid": "e631eaccaa8f1834e3637c7235334b0f",
         "truth": "0",
         "_deepnote_index_column": 66
        },
        {
         "userid": "50d64f198ffd8ebae3c807dde67cbfc9",
         "truth": "0",
         "_deepnote_index_column": 67
        },
        {
         "userid": "e6bb7dfe02b95ed3c147e805b766a668",
         "truth": "0",
         "_deepnote_index_column": 68
        },
        {
         "userid": "fc88d965895e24ffd33ff9502dc514dd",
         "truth": "0",
         "_deepnote_index_column": 69
        },
        {
         "userid": "3c475c0d33a358873b88ed845e5e3039",
         "truth": "0",
         "_deepnote_index_column": 70
        },
        {
         "userid": "9b1797f34d009b6386823678a3af779a",
         "truth": "0",
         "_deepnote_index_column": 71
        },
        {
         "userid": "88cf4c881e19ba3a02c4e84521db65cc",
         "truth": "0",
         "_deepnote_index_column": 72
        },
        {
         "userid": "3513fd8fef887f0569151f9ce534acde",
         "truth": "0",
         "_deepnote_index_column": 73
        },
        {
         "userid": "76933bc2ed106b7c9a31019b7552a497",
         "truth": "0",
         "_deepnote_index_column": 74
        },
        {
         "userid": "9feeee31ecafcc67fe5b3ba58f263c25",
         "truth": "0",
         "_deepnote_index_column": 75
        },
        {
         "userid": "d668557dd589b71c9bda2c5ab2640f46",
         "truth": "0",
         "_deepnote_index_column": 76
        },
        {
         "userid": "59d66379e5c9b4a089c7d31e916a4c31",
         "truth": "0",
         "_deepnote_index_column": 77
        },
        {
         "userid": "a8e9707dc9d36def45ff551169c6a08b",
         "truth": "0",
         "_deepnote_index_column": 78
        },
        {
         "userid": "f1340d126e07a1ed062faabd917cbc8e",
         "truth": "0",
         "_deepnote_index_column": 79
        },
        {
         "userid": "0a15953f63e4f4ddd8ba43680b74bcc1",
         "truth": "0",
         "_deepnote_index_column": 80
        },
        {
         "userid": "fcbf05edac41e047fdb8d721065ec41f",
         "truth": "0",
         "_deepnote_index_column": 81
        },
        {
         "userid": "ca3d3b571a4f77d512a95afc96a27a4f",
         "truth": "0",
         "_deepnote_index_column": 82
        },
        {
         "userid": "f3e5358134f444eb81221292b36b8e43",
         "truth": "0",
         "_deepnote_index_column": 83
        },
        {
         "userid": "6939c1bcf2049fc190824a50dfc3dbbd",
         "truth": "0",
         "_deepnote_index_column": 84
        },
        {
         "userid": "0af3ad19d2571df4cbca1948aba1019e",
         "truth": "0",
         "_deepnote_index_column": 85
        },
        {
         "userid": "0035a3060d075506f5b9b978a910aa1f",
         "truth": "0",
         "_deepnote_index_column": 86
        },
        {
         "userid": "f435f5374a2f0e1554863203f33477ba",
         "truth": "0",
         "_deepnote_index_column": 87
        },
        {
         "userid": "f57200aa111b8f2c26ed8d3fed2d7ea3",
         "truth": "0",
         "_deepnote_index_column": 88
        },
        {
         "userid": "0619b86cbc76d49467e11abc75e87577",
         "truth": "0",
         "_deepnote_index_column": 89
        },
        {
         "userid": "bea28ee048c625c025e5955c2c03ecc1",
         "truth": "0",
         "_deepnote_index_column": 90
        },
        {
         "userid": "73f77721bb14a116951e65daa1bc1d4a",
         "truth": "0",
         "_deepnote_index_column": 91
        },
        {
         "userid": "3394b16b88fdf002c2fcaf68e6dde9e3",
         "truth": "0",
         "_deepnote_index_column": 92
        },
        {
         "userid": "4b0b48d4eb6dc35c2ae12f32e8609092",
         "truth": "0",
         "_deepnote_index_column": 93
        },
        {
         "userid": "4c4a40070a6976a7b122e721b492b135",
         "truth": "0",
         "_deepnote_index_column": 94
        },
        {
         "userid": "cf3ca531bb48f1f4aa47460ad925d3d0",
         "truth": "0",
         "_deepnote_index_column": 95
        },
        {
         "userid": "20485577456acd57453192424391aae3",
         "truth": "0",
         "_deepnote_index_column": 96
        },
        {
         "userid": "8defff9045e2b356100be0f13db575d5",
         "truth": "0",
         "_deepnote_index_column": 97
        },
        {
         "userid": "3039d2d4e419113e7e56136719ec8cab",
         "truth": "0",
         "_deepnote_index_column": 98
        },
        {
         "userid": "d81d5b91c4fcd6eacdb3b120d8fc3c51",
         "truth": "0",
         "_deepnote_index_column": 99
        },
        {
         "userid": "0be5629563e9fc50285e87303cd1d69d",
         "truth": "1",
         "_deepnote_index_column": 100
        },
        {
         "userid": "879a18d0695eef3d0bd1d691d1404eb4",
         "truth": "1",
         "_deepnote_index_column": 101
        },
        {
         "userid": "a0e9166d4ec462189d43fbab37c6e1c6",
         "truth": "1",
         "_deepnote_index_column": 102
        },
        {
         "userid": "00c1418fce0e39063eee22ec3e5179ec",
         "truth": "1",
         "_deepnote_index_column": 103
        },
        {
         "userid": "d2b61a2d9c94abe26d43df5ca6d86bd1",
         "truth": "1",
         "_deepnote_index_column": 104
        },
        {
         "userid": "0fab59fda6ff79ea1fea239e07549d58",
         "truth": "1",
         "_deepnote_index_column": 105
        },
        {
         "userid": "e530393548f20c56776bc27ae046e00c",
         "truth": "1",
         "_deepnote_index_column": 106
        },
        {
         "userid": "c67918dd9d3d9f271faf2ddc2622e1ce",
         "truth": "1",
         "_deepnote_index_column": 107
        },
        {
         "userid": "9f22eaf2ebebccca9f6ae4cf5ce4c4ea",
         "truth": "1",
         "_deepnote_index_column": 108
        },
        {
         "userid": "f1e3909ba33e6fa7d1be306a54372683",
         "truth": "1",
         "_deepnote_index_column": 109
        },
        {
         "userid": "941b247a51c8afb4bf29d68fe80a94cc",
         "truth": "1",
         "_deepnote_index_column": 110
        },
        {
         "userid": "2d61e7b93f988b3747bc50a8cea4de88",
         "truth": "1",
         "_deepnote_index_column": 111
        },
        {
         "userid": "2b46328a444365033d4522cf9a0b1a31",
         "truth": "1",
         "_deepnote_index_column": 112
        },
        {
         "userid": "c0a3be27e32c6ad08670e0f2467e0e4d",
         "truth": "1",
         "_deepnote_index_column": 113
        },
        {
         "userid": "c2b7483d4f86610b7230ba2bf090bfbf",
         "truth": "1",
         "_deepnote_index_column": 114
        },
        {
         "userid": "b82c9e4dbedde6c5a29b9bb9fe0e5550",
         "truth": "1",
         "_deepnote_index_column": 115
        },
        {
         "userid": "c48428ff4eb8b80656633d11d517390b",
         "truth": "1",
         "_deepnote_index_column": 116
        },
        {
         "userid": "b748036830a9cdedcc5df90060a00d3e",
         "truth": "1",
         "_deepnote_index_column": 117
        },
        {
         "userid": "47fb97d3f4972fe326ec8f20d0b32004",
         "truth": "1",
         "_deepnote_index_column": 118
        },
        {
         "userid": "e54a7c0617f45cf38ac0bff992a416e9",
         "truth": "1",
         "_deepnote_index_column": 119
        },
        {
         "userid": "4304a614d32b50110dfd1b5ba3b80997",
         "truth": "1",
         "_deepnote_index_column": 120
        },
        {
         "userid": "6291130776b4cab72300d22de8523a1f",
         "truth": "1",
         "_deepnote_index_column": 121
        },
        {
         "userid": "6e3b4f88ca38d04437d315e3ec6e691f",
         "truth": "1",
         "_deepnote_index_column": 122
        },
        {
         "userid": "84d119b97f2021e0aedd3a29befded9e",
         "truth": "1",
         "_deepnote_index_column": 123
        },
        {
         "userid": "52bb592ba4afc50f0d5deb9261067aec",
         "truth": "1",
         "_deepnote_index_column": 124
        },
        {
         "userid": "179e1711b154c1d5dc51113784ad8a6b",
         "truth": "1",
         "_deepnote_index_column": 125
        },
        {
         "userid": "9ba85813abc8a8e5ba071d33a9a619a5",
         "truth": "1",
         "_deepnote_index_column": 126
        },
        {
         "userid": "54633fd7ffbc02a7760ef06bf224f5ef",
         "truth": "1",
         "_deepnote_index_column": 127
        },
        {
         "userid": "409136cf62565da8a3fa385803dad035",
         "truth": "1",
         "_deepnote_index_column": 128
        },
        {
         "userid": "752b6da72c1f974110a617bd120f2f3c",
         "truth": "1",
         "_deepnote_index_column": 129
        },
        {
         "userid": "b1cc79d04a528350ead3b581b2ed0448",
         "truth": "1",
         "_deepnote_index_column": 130
        },
        {
         "userid": "77c1ed6e270c9190449749576d2836e9",
         "truth": "1",
         "_deepnote_index_column": 131
        },
        {
         "userid": "da8d566ba2356bc13a90f7275b53c061",
         "truth": "1",
         "_deepnote_index_column": 132
        },
        {
         "userid": "9de5c8845df952929ab20ff25ded25c3",
         "truth": "1",
         "_deepnote_index_column": 133
        },
        {
         "userid": "25db6e8e1673898d740e7fe89575ee70",
         "truth": "1",
         "_deepnote_index_column": 134
        },
        {
         "userid": "78fc78e23ce6bcb8adff23f1eb536e11",
         "truth": "1",
         "_deepnote_index_column": 135
        },
        {
         "userid": "e171cf0b048f2f96653b6a227cd28c54",
         "truth": "1",
         "_deepnote_index_column": 136
        },
        {
         "userid": "07ae51045380144ff1e887ce150153b6",
         "truth": "1",
         "_deepnote_index_column": 137
        },
        {
         "userid": "fa1a735295b654d2fceeead34dd71d96",
         "truth": "1",
         "_deepnote_index_column": 138
        },
        {
         "userid": "7775117dbeb75838fbb7a21d5bf56eac",
         "truth": "1",
         "_deepnote_index_column": 139
        },
        {
         "userid": "1f06b1ad7d08cab391d4b9d56e31093b",
         "truth": "1",
         "_deepnote_index_column": 140
        },
        {
         "userid": "61b8736bbe890d488f44058b64736228",
         "truth": "1",
         "_deepnote_index_column": 141
        },
        {
         "userid": "b64385c12fad39e73e7018da60161db6",
         "truth": "1",
         "_deepnote_index_column": 142
        },
        {
         "userid": "6c71f6ba9ae43136f4f751b9d291ba52",
         "truth": "1",
         "_deepnote_index_column": 143
        },
        {
         "userid": "974d8bc3ca83ce55823ce084fe58efd6",
         "truth": "1",
         "_deepnote_index_column": 144
        },
        {
         "userid": "0c9577ea74ca95b88bee2a0d546dcc9d",
         "truth": "1",
         "_deepnote_index_column": 145
        },
        {
         "userid": "166d1f039439a259ae50c9692f7b4b71",
         "truth": "1",
         "_deepnote_index_column": 146
        },
        {
         "userid": "51e66727cd5c9093078d39d911a2e902",
         "truth": "1",
         "_deepnote_index_column": 147
        },
        {
         "userid": "f8bb47823624cb93d3ee1faa0361e161",
         "truth": "1",
         "_deepnote_index_column": 148
        },
        {
         "userid": "d2f55b018c8dac971c33c8dcfc6b9b48",
         "truth": "1",
         "_deepnote_index_column": 149
        },
        {
         "userid": "66fb5f0dae58b3cdbb97791149f8b48f",
         "truth": "1",
         "_deepnote_index_column": 150
        },
        {
         "userid": "43a1b25e0fac45a86b5db1214e52fa28",
         "truth": "1",
         "_deepnote_index_column": 151
        },
        {
         "userid": "3141431f380d4bc42565585f89de0d57",
         "truth": "1",
         "_deepnote_index_column": 152
        },
        {
         "userid": "223d8277fe1f9895a83a385010218989",
         "truth": "1",
         "_deepnote_index_column": 153
        },
        {
         "userid": "d0feaf7314acfc9272b75f936e12de3c",
         "truth": "1",
         "_deepnote_index_column": 154
        },
        {
         "userid": "164fab19cb3590ed20557918f2be4cf6",
         "truth": "1",
         "_deepnote_index_column": 155
        },
        {
         "userid": "4346d89d5e4c5ff2bffc76ef1b543457",
         "truth": "1",
         "_deepnote_index_column": 156
        },
        {
         "userid": "d7607709b297012641a46c534790785f",
         "truth": "1",
         "_deepnote_index_column": 157
        },
        {
         "userid": "3f34d6c3ee1b69d617db2b7fd928f5d2",
         "truth": "1",
         "_deepnote_index_column": 158
        },
        {
         "userid": "db113da217a1b5245673e02297b758e5",
         "truth": "1",
         "_deepnote_index_column": 159
        },
        {
         "userid": "f64442357f9cdaacf93d5c29aca6088d",
         "truth": "1",
         "_deepnote_index_column": 160
        },
        {
         "userid": "3688ad73102afe52d9f4276dd6088982",
         "truth": "1",
         "_deepnote_index_column": 161
        },
        {
         "userid": "5c99a0013236d189a18ca6269ea75d10",
         "truth": "1",
         "_deepnote_index_column": 162
        },
        {
         "userid": "33d50f8630b76ae7655951449ee07b6b",
         "truth": "1",
         "_deepnote_index_column": 163
        },
        {
         "userid": "73d27667ca07f3857b495aed5282ec52",
         "truth": "1",
         "_deepnote_index_column": 164
        },
        {
         "userid": "fde1d7437a12068e0e39505af6948f99",
         "truth": "1",
         "_deepnote_index_column": 165
        },
        {
         "userid": "7fa21235e3d68aa94d4eda85115e3f3f",
         "truth": "1",
         "_deepnote_index_column": 166
        },
        {
         "userid": "b39f0bb112eff00b24767b2e0fcb8276",
         "truth": "1",
         "_deepnote_index_column": 167
        },
        {
         "userid": "0cc24f8fbc79eaf6dae74b1d42e365da",
         "truth": "1",
         "_deepnote_index_column": 168
        },
        {
         "userid": "1637f6e0249b47f2e8aa1ea5348fe4c4",
         "truth": "1",
         "_deepnote_index_column": 169
        },
        {
         "userid": "c69cd94c9f17dbeaf285b5bfe960c25d",
         "truth": "1",
         "_deepnote_index_column": 170
        },
        {
         "userid": "275c4b3937afb24a190af1f97f4e35d0",
         "truth": "1",
         "_deepnote_index_column": 171
        },
        {
         "userid": "3e08a019827cd80b6d0756bf96663065",
         "truth": "1",
         "_deepnote_index_column": 172
        },
        {
         "userid": "f06e89ee2aea324cd4bbf938b0f95c07",
         "truth": "1",
         "_deepnote_index_column": 173
        },
        {
         "userid": "5b3d83e869a72cee01128fc5a5970058",
         "truth": "1",
         "_deepnote_index_column": 174
        },
        {
         "userid": "6483bd3397306427d9e47497be2fedf0",
         "truth": "1",
         "_deepnote_index_column": 175
        },
        {
         "userid": "53c21fa5d21bbc926ffcf3ac87d27eac",
         "truth": "1",
         "_deepnote_index_column": 176
        },
        {
         "userid": "06579b519c2932ce09aa356b5f131931",
         "truth": "1",
         "_deepnote_index_column": 177
        },
        {
         "userid": "38b1490646422a7cce90c7d4e4f57658",
         "truth": "1",
         "_deepnote_index_column": 178
        },
        {
         "userid": "3aa4b834fe7b436ed6b11f3c31d34c28",
         "truth": "1",
         "_deepnote_index_column": 179
        },
        {
         "userid": "a0535c6e71eaeccc46c55eec2033c422",
         "truth": "1",
         "_deepnote_index_column": 180
        },
        {
         "userid": "33902a860918dd1b1ba9eaac62fd1e36",
         "truth": "1",
         "_deepnote_index_column": 181
        },
        {
         "userid": "337a3cbd935dcb200d397ba9ed8cbc2e",
         "truth": "1",
         "_deepnote_index_column": 182
        },
        {
         "userid": "9cdb7e11bec43dfda9091398bd9383b3",
         "truth": "1",
         "_deepnote_index_column": 183
        },
        {
         "userid": "6086bf45951e0b2f8501be9bc5121571",
         "truth": "1",
         "_deepnote_index_column": 184
        },
        {
         "userid": "52b6bbc517555761a04f80736adf3686",
         "truth": "1",
         "_deepnote_index_column": 185
        },
        {
         "userid": "4d928f8cab5ac168dc4ae0acf866f27e",
         "truth": "1",
         "_deepnote_index_column": 186
        },
        {
         "userid": "06892db25ad97ed54f63b3da81d03f51",
         "truth": "1",
         "_deepnote_index_column": 187
        },
        {
         "userid": "1bd8a56c0fed859219f7938487493e71",
         "truth": "1",
         "_deepnote_index_column": 188
        },
        {
         "userid": "9151a34f406a463711a1f5e61e80a219",
         "truth": "1",
         "_deepnote_index_column": 189
        },
        {
         "userid": "cbe629e3ff825964b16cef777492009d",
         "truth": "1",
         "_deepnote_index_column": 190
        },
        {
         "userid": "7fac4b2a0357eb17c50e8ff47b1b124a",
         "truth": "1",
         "_deepnote_index_column": 191
        },
        {
         "userid": "6d23c69b60b3c0dddf9f66875c0dce83",
         "truth": "1",
         "_deepnote_index_column": 192
        },
        {
         "userid": "40cc6540f20f2c777bf8dc8dadb9d285",
         "truth": "1",
         "_deepnote_index_column": 193
        },
        {
         "userid": "868685f77c0016f020a8c9304fd8d8ca",
         "truth": "1",
         "_deepnote_index_column": 194
        },
        {
         "userid": "f6e5aa0680067099eb98284c829b5e7d",
         "truth": "1",
         "_deepnote_index_column": 195
        },
        {
         "userid": "907d003e96df671789a5d3e87ae5f577",
         "truth": "1",
         "_deepnote_index_column": 196
        },
        {
         "userid": "a61fa7fce7da9661e9d927b78336e378",
         "truth": "1",
         "_deepnote_index_column": 197
        },
        {
         "userid": "5a941b52200e91c095064b9cc63a573a",
         "truth": "1",
         "_deepnote_index_column": 198
        },
        {
         "userid": "76615cdd3bb3cf263336b45b3d829828",
         "truth": "1",
         "_deepnote_index_column": 199
        },
        {
         "userid": "639b8e5e6a527d494c85d8f5704b1a01",
         "truth": "0",
         "_deepnote_index_column": 200
        },
        {
         "userid": "f2b1fc84c500c38a93522efbd422b559",
         "truth": "0",
         "_deepnote_index_column": 201
        },
        {
         "userid": "10b2d013382e1fb3c9414ea28329f258",
         "truth": "0",
         "_deepnote_index_column": 202
        },
        {
         "userid": "26644d1348fc1122e8c5ef45d6bc84fa",
         "truth": "0",
         "_deepnote_index_column": 203
        },
        {
         "userid": "4d4c5dcbfe38d0d33a0d1b1419952ca8",
         "truth": "0",
         "_deepnote_index_column": 204
        },
        {
         "userid": "86a7f84c2dd126dac46270b6c912952c",
         "truth": "0",
         "_deepnote_index_column": 205
        },
        {
         "userid": "88d8ac4ae2d91e681ee8a8d3b60fd911",
         "truth": "0",
         "_deepnote_index_column": 206
        },
        {
         "userid": "2a9776a2909ba5e27043faf2d57ba410",
         "truth": "0",
         "_deepnote_index_column": 207
        },
        {
         "userid": "fdb47a3f65091b9a5b989e1722c9fac4",
         "truth": "0",
         "_deepnote_index_column": 208
        },
        {
         "userid": "5625ca3bc44c89d763221b663f7c0987",
         "truth": "0",
         "_deepnote_index_column": 209
        },
        {
         "userid": "9d08913250938aadcf6c18d0c89a0d14",
         "truth": "0",
         "_deepnote_index_column": 210
        },
        {
         "userid": "5027d4e88fc5179e027a12872dfe6835",
         "truth": "0",
         "_deepnote_index_column": 211
        },
        {
         "userid": "e30577895cbb4d8f073e4dbb2f3be6d1",
         "truth": "0",
         "_deepnote_index_column": 212
        },
        {
         "userid": "06893abba0bb8f94fed7562350233ed7",
         "truth": "0",
         "_deepnote_index_column": 213
        },
        {
         "userid": "6fd5e2e31d6c2b2eb4b5dc07280636a7",
         "truth": "0",
         "_deepnote_index_column": 214
        },
        {
         "userid": "8b525999b04b19255b32365e49b281ac",
         "truth": "0",
         "_deepnote_index_column": 215
        },
        {
         "userid": "58584745632b5367da1c7a9af746222b",
         "truth": "0",
         "_deepnote_index_column": 216
        },
        {
         "userid": "9d58d6313bfb2fba9e1e45bb9d65cf0b",
         "truth": "0",
         "_deepnote_index_column": 217
        },
        {
         "userid": "e6e216a24993a72629629da7c182c3af",
         "truth": "0",
         "_deepnote_index_column": 218
        },
        {
         "userid": "94b5cb02328011bbecaf78d79d2c1ff5",
         "truth": "0",
         "_deepnote_index_column": 219
        },
        {
         "userid": "6d3988b400f07e05521f71b0ee8111e6",
         "truth": "0",
         "_deepnote_index_column": 220
        },
        {
         "userid": "78b27238932fc8e666c5bf84681b460e",
         "truth": "0",
         "_deepnote_index_column": 221
        },
        {
         "userid": "54f81e27af90ed7c1c9409c332f0ca37",
         "truth": "0",
         "_deepnote_index_column": 222
        },
        {
         "userid": "1785358a4976f921226d1a7604c57737",
         "truth": "0",
         "_deepnote_index_column": 223
        },
        {
         "userid": "a8e2397021acef98cc32729cbda96910",
         "truth": "0",
         "_deepnote_index_column": 224
        },
        {
         "userid": "efd470e6959c076c9c0456b33509e8bd",
         "truth": "0",
         "_deepnote_index_column": 225
        },
        {
         "userid": "27e3e134eb8a0069e220bc201cda8eb9",
         "truth": "0",
         "_deepnote_index_column": 226
        },
        {
         "userid": "7c18d72ba1eb9c787f166df788e1b521",
         "truth": "0",
         "_deepnote_index_column": 227
        },
        {
         "userid": "e46a97a03fd592113aa233d1637ed0fd",
         "truth": "0",
         "_deepnote_index_column": 228
        },
        {
         "userid": "d2e0f4f0244b9b8b3bbd8b1654be5b74",
         "truth": "0",
         "_deepnote_index_column": 229
        },
        {
         "userid": "7f269488a6576c9dc21085c1e2854142",
         "truth": "0",
         "_deepnote_index_column": 230
        },
        {
         "userid": "4ae4ddc8cb2774c92398e3102c3da5b2",
         "truth": "0",
         "_deepnote_index_column": 231
        },
        {
         "userid": "76e152a7732922e7a6da39880486107f",
         "truth": "0",
         "_deepnote_index_column": 232
        },
        {
         "userid": "5b50fcecc61c850e961ff307bdce67a0",
         "truth": "0",
         "_deepnote_index_column": 233
        },
        {
         "userid": "34e9918b10fe1fdd757855b62abc0efc",
         "truth": "0",
         "_deepnote_index_column": 234
        },
        {
         "userid": "4253c341c1069eded30b6efd2df89ddc",
         "truth": "0",
         "_deepnote_index_column": 235
        },
        {
         "userid": "95ccf1511784da6b392971bc1efbca19",
         "truth": "0",
         "_deepnote_index_column": 236
        },
        {
         "userid": "9cff4936f8479d53fcbb63f2524c5ad8",
         "truth": "0",
         "_deepnote_index_column": 237
        },
        {
         "userid": "da28bc4cb0849abd43cc116509b3485c",
         "truth": "0",
         "_deepnote_index_column": 238
        },
        {
         "userid": "b5fc924814e26ca9e4f64c42c3f6dd90",
         "truth": "0",
         "_deepnote_index_column": 239
        },
        {
         "userid": "aa917a8c5a4420b024274672667c7dc1",
         "truth": "0",
         "_deepnote_index_column": 240
        },
        {
         "userid": "365eb1e3abc5cd5394fec8fc162bfbc5",
         "truth": "0",
         "_deepnote_index_column": 241
        },
        {
         "userid": "8e5a604d6328d4b15d119b9601f5d3c2",
         "truth": "0",
         "_deepnote_index_column": 242
        },
        {
         "userid": "98b4a082eba0660ee1360aac24f162ef",
         "truth": "0",
         "_deepnote_index_column": 243
        },
        {
         "userid": "47af667ddc145dd68323c9bef1408e0d",
         "truth": "0",
         "_deepnote_index_column": 244
        },
        {
         "userid": "99cb2cd23f7cf613d394502d17dedad0",
         "truth": "0",
         "_deepnote_index_column": 245
        },
        {
         "userid": "98c59ff3e2cfc56b96ee3c49b3d46296",
         "truth": "0",
         "_deepnote_index_column": 246
        },
        {
         "userid": "4a1baf66990e0e540effd01f4b105f44",
         "truth": "0",
         "_deepnote_index_column": 247
        },
        {
         "userid": "3b2d9429387f770b388edbefd881fc38",
         "truth": "0",
         "_deepnote_index_column": 248
        },
        {
         "userid": "3770a07b212c1096c26e5a1f1556fbd1",
         "truth": "0",
         "_deepnote_index_column": 249
        },
        {
         "userid": "3de62c6202ee8e06c74c3a6d4833e068",
         "truth": "0",
         "_deepnote_index_column": 250
        },
        {
         "userid": "1005765475f523b3436d795b2e229174",
         "truth": "0",
         "_deepnote_index_column": 251
        },
        {
         "userid": "a887ec85088a87e550015e2770a6e309",
         "truth": "0",
         "_deepnote_index_column": 252
        },
        {
         "userid": "d9a3d6cfc4e58f3ea9e9e5959d0d0324",
         "truth": "0",
         "_deepnote_index_column": 253
        },
        {
         "userid": "4f496db1408c402eb21d29e536667205",
         "truth": "0",
         "_deepnote_index_column": 254
        },
        {
         "userid": "b4030e7f9f049a602defab723599fdeb",
         "truth": "0",
         "_deepnote_index_column": 255
        },
        {
         "userid": "d76b28431fa2c177afab54c4eeeb3eca",
         "truth": "0",
         "_deepnote_index_column": 256
        },
        {
         "userid": "0e86e9b6ba971cbc5a117c4af6fad9a2",
         "truth": "0",
         "_deepnote_index_column": 257
        },
        {
         "userid": "3df768933d03108ea4c6583d49c85c46",
         "truth": "0",
         "_deepnote_index_column": 258
        },
        {
         "userid": "192146b688c17b6b475dbe4235aa0a59",
         "truth": "0",
         "_deepnote_index_column": 259
        },
        {
         "userid": "d81a16601a13f675b49c986c3e6cb974",
         "truth": "0",
         "_deepnote_index_column": 260
        },
        {
         "userid": "135cc1b889864768b5c755eb6210d358",
         "truth": "0",
         "_deepnote_index_column": 261
        },
        {
         "userid": "30be488aa93e8000aadb952a9cd5143c",
         "truth": "0",
         "_deepnote_index_column": 262
        },
        {
         "userid": "f207e0510b20e6cb0e4485a9f9be7eb9",
         "truth": "0",
         "_deepnote_index_column": 263
        },
        {
         "userid": "258ba7b57bc38e4987f9f3cf23700ece",
         "truth": "0",
         "_deepnote_index_column": 264
        },
        {
         "userid": "ed940505af044f823b90d44d5ebad88e",
         "truth": "0",
         "_deepnote_index_column": 265
        },
        {
         "userid": "1df25475b1cb684b7937bd49afb79fc0",
         "truth": "0",
         "_deepnote_index_column": 266
        },
        {
         "userid": "f11ca441819610286438d812af4e5e52",
         "truth": "0",
         "_deepnote_index_column": 267
        },
        {
         "userid": "e8b833650d2e91d234d621f4dd0c1031",
         "truth": "0",
         "_deepnote_index_column": 268
        },
        {
         "userid": "fdef657f264ca50bc7b21574b24f82ab",
         "truth": "0",
         "_deepnote_index_column": 269
        },
        {
         "userid": "e4c296ef32aaf5ca9f293fa3a62a3694",
         "truth": "0",
         "_deepnote_index_column": 270
        },
        {
         "userid": "748c4b31797d62bcce99de35a681b484",
         "truth": "0",
         "_deepnote_index_column": 271
        },
        {
         "userid": "b8924a54bb6043c56969e20a328b76b3",
         "truth": "0",
         "_deepnote_index_column": 272
        },
        {
         "userid": "6fe4ed1ee7f13da10a62d3cd1a6cba07",
         "truth": "0",
         "_deepnote_index_column": 273
        },
        {
         "userid": "feab35da86bf5f84085fb670cb2866e4",
         "truth": "0",
         "_deepnote_index_column": 274
        },
        {
         "userid": "d0c3083a5ff95c520df956229dbd4423",
         "truth": "0",
         "_deepnote_index_column": 275
        },
        {
         "userid": "aa14b4634d37596c9ed9827f077194b9",
         "truth": "0",
         "_deepnote_index_column": 276
        },
        {
         "userid": "9618c0b40aab7e9be3297e333a6270b5",
         "truth": "0",
         "_deepnote_index_column": 277
        },
        {
         "userid": "f30abea44b6c4144c0690f98459428a6",
         "truth": "0",
         "_deepnote_index_column": 278
        },
        {
         "userid": "1e1e4967d09dd4928b2be2a3845cf604",
         "truth": "0",
         "_deepnote_index_column": 279
        },
        {
         "userid": "67292c0455e9f73c6c9531e53db14e70",
         "truth": "0",
         "_deepnote_index_column": 280
        },
        {
         "userid": "1a91d52030d1a433d35055fbeb6bdf3b",
         "truth": "0",
         "_deepnote_index_column": 281
        },
        {
         "userid": "45bb70e3f298f2c62d683e3971481552",
         "truth": "0",
         "_deepnote_index_column": 282
        },
        {
         "userid": "4ab73bdea1111e16bf6ef8b34e3f121b",
         "truth": "0",
         "_deepnote_index_column": 283
        },
        {
         "userid": "43641af5b9182e88190638f972eb97eb",
         "truth": "0",
         "_deepnote_index_column": 284
        },
        {
         "userid": "6711ef348ffcb3e45d2957396a4c8026",
         "truth": "0",
         "_deepnote_index_column": 285
        },
        {
         "userid": "562b522eacbcf4484566f658aed140aa",
         "truth": "0",
         "_deepnote_index_column": 286
        },
        {
         "userid": "f5f036b8acf96cd1273e7c08a1350adc",
         "truth": "0",
         "_deepnote_index_column": 287
        },
        {
         "userid": "b5c35f78bd8c275b97532cd63ccd6ad8",
         "truth": "0",
         "_deepnote_index_column": 288
        },
        {
         "userid": "41eff6afb1ced61ab38e4d86d56825e0",
         "truth": "0",
         "_deepnote_index_column": 289
        },
        {
         "userid": "e5f932198bf18fe7a51d131fceb81707",
         "truth": "0",
         "_deepnote_index_column": 290
        },
        {
         "userid": "d15ec49115f2e8febee7fda9d1893fa4",
         "truth": "0",
         "_deepnote_index_column": 291
        },
        {
         "userid": "4cbee4f8451fb69d309b7a6ccf7709f9",
         "truth": "0",
         "_deepnote_index_column": 292
        },
        {
         "userid": "f3eecd0eedab3b77558d93b1b92579a4",
         "truth": "0",
         "_deepnote_index_column": 293
        },
        {
         "userid": "4643c543b666aedb6157ae37e92ccc75",
         "truth": "0",
         "_deepnote_index_column": 294
        },
        {
         "userid": "b496caf332cb0ba97d2acefc44f153ac",
         "truth": "0",
         "_deepnote_index_column": 295
        },
        {
         "userid": "cdd7c2ee215205a4859a83c676750d05",
         "truth": "0",
         "_deepnote_index_column": 296
        },
        {
         "userid": "450d7d3b3873914d5ebf3fe4782d20bd",
         "truth": "0",
         "_deepnote_index_column": 297
        },
        {
         "userid": "bd0d6b9c924fdc0eb8274bbe7b7a6e2c",
         "truth": "0",
         "_deepnote_index_column": 298
        },
        {
         "userid": "91aef160991f1aec1b61550d6cd71abb",
         "truth": "0",
         "_deepnote_index_column": 299
        },
        {
         "userid": "f3124b62d50000cafbee9ce81f7c9e6d",
         "truth": "1",
         "_deepnote_index_column": 300
        },
        {
         "userid": "cc42228c1ba6c289b56acb78eccb0e7e",
         "truth": "1",
         "_deepnote_index_column": 301
        },
        {
         "userid": "043e2766cc6d22ae4e447ca5f2885a2a",
         "truth": "1",
         "_deepnote_index_column": 302
        },
        {
         "userid": "77822fc7312f39c95643c383702d9546",
         "truth": "1",
         "_deepnote_index_column": 303
        },
        {
         "userid": "b9a46d0b178f190985de7145d5854810",
         "truth": "1",
         "_deepnote_index_column": 304
        },
        {
         "userid": "241be75a5da1d1c6533cfde9657e829c",
         "truth": "1",
         "_deepnote_index_column": 305
        },
        {
         "userid": "bb824be390d6e87696fb803bbee77833",
         "truth": "1",
         "_deepnote_index_column": 306
        },
        {
         "userid": "6f14063ff747e2b6ed0d6b2faf3122e3",
         "truth": "1",
         "_deepnote_index_column": 307
        },
        {
         "userid": "a37a032f4a0c42bc3ba3663db6907bfb",
         "truth": "1",
         "_deepnote_index_column": 308
        },
        {
         "userid": "aba7a9ab2d9d07953cabcaf6793be635",
         "truth": "1",
         "_deepnote_index_column": 309
        },
        {
         "userid": "1b10072ed58f20f27d8fe35580ad26d4",
         "truth": "1",
         "_deepnote_index_column": 310
        },
        {
         "userid": "f91fa8ecdd2440eb163516769573f24a",
         "truth": "1",
         "_deepnote_index_column": 311
        },
        {
         "userid": "97649196de83fa52ecb9312beb7e50e9",
         "truth": "1",
         "_deepnote_index_column": 312
        },
        {
         "userid": "e07fa74c2ce94aaf2bc43b0b313d02da",
         "truth": "1",
         "_deepnote_index_column": 313
        },
        {
         "userid": "63a133c55e234d7ccb1f4ce9ded79f91",
         "truth": "1",
         "_deepnote_index_column": 314
        },
        {
         "userid": "56498bda31b85f3ed955dfb8ab47a909",
         "truth": "1",
         "_deepnote_index_column": 315
        },
        {
         "userid": "6ea97aacfeaa4684acc0fcbc30e998d6",
         "truth": "1",
         "_deepnote_index_column": 316
        },
        {
         "userid": "c50505ec1514ce8b7ed8e9bc92eb43b1",
         "truth": "1",
         "_deepnote_index_column": 317
        },
        {
         "userid": "5b5c08b665052e695064f2f2b04bdea7",
         "truth": "1",
         "_deepnote_index_column": 318
        },
        {
         "userid": "79e31985e8676475dddead19f3deaee6",
         "truth": "1",
         "_deepnote_index_column": 319
        },
        {
         "userid": "f6ccc99dd7a54cb2d692f4aa3049efc1",
         "truth": "1",
         "_deepnote_index_column": 320
        },
        {
         "userid": "2c38fc584f7566f7010d220c102d6b56",
         "truth": "1",
         "_deepnote_index_column": 321
        },
        {
         "userid": "0a6700c6023c6249bcc5820e2f5ee0de",
         "truth": "1",
         "_deepnote_index_column": 322
        },
        {
         "userid": "2e1bdf04f415dd3bf3ffcd950ad1c541",
         "truth": "1",
         "_deepnote_index_column": 323
        },
        {
         "userid": "b7f4ead8c975203082dcea622621d2c3",
         "truth": "1",
         "_deepnote_index_column": 324
        },
        {
         "userid": "c343cb70d741dc3ee88d26d0fc04be60",
         "truth": "1",
         "_deepnote_index_column": 325
        },
        {
         "userid": "a63fc743cd9e06a05bb6cc6fb2a577fa",
         "truth": "1",
         "_deepnote_index_column": 326
        },
        {
         "userid": "e8a408c9e9859d68a499324449b80c65",
         "truth": "1",
         "_deepnote_index_column": 327
        },
        {
         "userid": "6b6eb2370271fbf26dcc73195218edcb",
         "truth": "1",
         "_deepnote_index_column": 328
        },
        {
         "userid": "b34dcc081342bfadb3a82039d4e4eede",
         "truth": "1",
         "_deepnote_index_column": 329
        },
        {
         "userid": "f6f5aedf8282f8f7c00a7d7dc8df2232",
         "truth": "1",
         "_deepnote_index_column": 330
        },
        {
         "userid": "2f3e55e23c53a4572fe496d34109070a",
         "truth": "1",
         "_deepnote_index_column": 331
        },
        {
         "userid": "89866dca3febf2d6b97c796250528a8d",
         "truth": "1",
         "_deepnote_index_column": 332
        },
        {
         "userid": "b0010dd785bc4109ce40b94126a2811b",
         "truth": "1",
         "_deepnote_index_column": 333
        },
        {
         "userid": "5c8c5dde745f6b4d478f6fb619b24b95",
         "truth": "1",
         "_deepnote_index_column": 334
        },
        {
         "userid": "5d4a0908d433733c14c38261fc4f4250",
         "truth": "1",
         "_deepnote_index_column": 335
        },
        {
         "userid": "342a27905d2291b55486c257d77265b4",
         "truth": "1",
         "_deepnote_index_column": 336
        },
        {
         "userid": "5002d161db83e49e179af61703bccfc8",
         "truth": "1",
         "_deepnote_index_column": 337
        },
        {
         "userid": "b9174ee0c8db418fdcfae6e5aa55f71f",
         "truth": "1",
         "_deepnote_index_column": 338
        },
        {
         "userid": "69dd2e9ef1897355337376a7d574e882",
         "truth": "1",
         "_deepnote_index_column": 339
        },
        {
         "userid": "e30b87c8fa34a1ac077d7b286000bc06",
         "truth": "1",
         "_deepnote_index_column": 340
        },
        {
         "userid": "46df8a13b82d12b2d5f453cc63612298",
         "truth": "1",
         "_deepnote_index_column": 341
        },
        {
         "userid": "83509a9da9ef01b1255d826abd587a93",
         "truth": "1",
         "_deepnote_index_column": 342
        },
        {
         "userid": "5a9bd66e0c4b8f2ab3f495f1e0416218",
         "truth": "1",
         "_deepnote_index_column": 343
        },
        {
         "userid": "d2a222ef792ca0667f2af63dcd1baf34",
         "truth": "1",
         "_deepnote_index_column": 344
        },
        {
         "userid": "62a6b5a0c5f53790c114639c7ec0a3ab",
         "truth": "1",
         "_deepnote_index_column": 345
        },
        {
         "userid": "f6b4231dfadff637ebee124079bdce3e",
         "truth": "1",
         "_deepnote_index_column": 346
        },
        {
         "userid": "cc40716d2f9ca1b14b8ac542a5ac8eef",
         "truth": "1",
         "_deepnote_index_column": 347
        },
        {
         "userid": "e9f06b27f1108050bd27937cbacb1d5e",
         "truth": "1",
         "_deepnote_index_column": 348
        },
        {
         "userid": "0d02a3f644c9313315ecc6655ccfa3b9",
         "truth": "1",
         "_deepnote_index_column": 349
        },
        {
         "userid": "a41db55c14ec3878c055eb1ece4e5866",
         "truth": "1",
         "_deepnote_index_column": 350
        },
        {
         "userid": "4bde12da41b2ded3de456ce8f334039c",
         "truth": "1",
         "_deepnote_index_column": 351
        },
        {
         "userid": "ca1c941118dcde7855423d0101a637c6",
         "truth": "1",
         "_deepnote_index_column": 352
        },
        {
         "userid": "d28b60028cf7bcf8a9f145193e261ecf",
         "truth": "1",
         "_deepnote_index_column": 353
        },
        {
         "userid": "cb7b2b7612c3d7ca299387a47393f7e9",
         "truth": "1",
         "_deepnote_index_column": 354
        },
        {
         "userid": "3ee86d6c74ee383b280993044a70f3e5",
         "truth": "1",
         "_deepnote_index_column": 355
        },
        {
         "userid": "74234d3105c22f51e4ad3d133f5eb8ba",
         "truth": "1",
         "_deepnote_index_column": 356
        },
        {
         "userid": "c8006e782052410e43cdcdda668d11c4",
         "truth": "1",
         "_deepnote_index_column": 357
        },
        {
         "userid": "e1f66f003824f12344cf1ace242adf0e",
         "truth": "1",
         "_deepnote_index_column": 358
        },
        {
         "userid": "afe04507770754d25fcdaa901841d440",
         "truth": "1",
         "_deepnote_index_column": 359
        },
        {
         "userid": "f8c996ef2325dddab520230237fdfa80",
         "truth": "1",
         "_deepnote_index_column": 360
        },
        {
         "userid": "46dc7954a1dae6630bef96513f4684ec",
         "truth": "1",
         "_deepnote_index_column": 361
        },
        {
         "userid": "d47a4b83cd692b1c0c5e8444bf1bc2a5",
         "truth": "1",
         "_deepnote_index_column": 362
        },
        {
         "userid": "8b7608a503048538181399629fe67913",
         "truth": "1",
         "_deepnote_index_column": 363
        },
        {
         "userid": "b67d6746fefbe67981ca8454faa82988",
         "truth": "1",
         "_deepnote_index_column": 364
        },
        {
         "userid": "e886cf9468db977abd24c7a068234609",
         "truth": "1",
         "_deepnote_index_column": 365
        },
        {
         "userid": "78537787441ed0d11da43122f9b0520a",
         "truth": "1",
         "_deepnote_index_column": 366
        },
        {
         "userid": "fdb9f16899e3097e6db1f6a13d3572f8",
         "truth": "1",
         "_deepnote_index_column": 367
        },
        {
         "userid": "e7eac8cda5ce98bd3443c68006d8b9a7",
         "truth": "1",
         "_deepnote_index_column": 368
        },
        {
         "userid": "9e3b14eef764e6c0a2cd488a5ab2e2be",
         "truth": "1",
         "_deepnote_index_column": 369
        },
        {
         "userid": "16252bfc43f2facd313ce084d412b592",
         "truth": "1",
         "_deepnote_index_column": 370
        },
        {
         "userid": "1cb7af9f85f4cb41b33d105334173862",
         "truth": "1",
         "_deepnote_index_column": 371
        },
        {
         "userid": "f00627537c48b43bf2045b98b3508d94",
         "truth": "1",
         "_deepnote_index_column": 372
        },
        {
         "userid": "f902c0eaa0ff3818f6c22ebfae52ab43",
         "truth": "1",
         "_deepnote_index_column": 373
        },
        {
         "userid": "501a0adf8d2f2a8454d6273179d035c1",
         "truth": "1",
         "_deepnote_index_column": 374
        },
        {
         "userid": "ad7eaa2c1d5daa1aa71719be4357c428",
         "truth": "1",
         "_deepnote_index_column": 375
        },
        {
         "userid": "6f964e5458b4879513ebd14784180798",
         "truth": "1",
         "_deepnote_index_column": 376
        },
        {
         "userid": "bbd46b0659de5a173339aaebac2523fa",
         "truth": "1",
         "_deepnote_index_column": 377
        },
        {
         "userid": "84e5913dcdef5eba6bf97669fe47fa4e",
         "truth": "1",
         "_deepnote_index_column": 378
        },
        {
         "userid": "1e1b776e17efbdd65e93ce1d350e9d21",
         "truth": "1",
         "_deepnote_index_column": 379
        },
        {
         "userid": "44e25d1ec3f786a696e0eb5b33b8325b",
         "truth": "1",
         "_deepnote_index_column": 380
        },
        {
         "userid": "f8bce0042a6c8fcfdb585a052e998afb",
         "truth": "1",
         "_deepnote_index_column": 381
        },
        {
         "userid": "5e47f30caa62ab081b1a2dcb8d3caf30",
         "truth": "1",
         "_deepnote_index_column": 382
        },
        {
         "userid": "f63c22363b3db5f3d76db1f2417adb39",
         "truth": "1",
         "_deepnote_index_column": 383
        },
        {
         "userid": "c129b2cf075e1872a86ce8f7473819af",
         "truth": "1",
         "_deepnote_index_column": 384
        },
        {
         "userid": "0f1974d237ad2265fa0eb09193fa42f4",
         "truth": "1",
         "_deepnote_index_column": 385
        },
        {
         "userid": "6775fc8b35f0b4362f246bbc8348ee6e",
         "truth": "1",
         "_deepnote_index_column": 386
        },
        {
         "userid": "6f7077fae955df369bbc5f7673632dcd",
         "truth": "1",
         "_deepnote_index_column": 387
        },
        {
         "userid": "0a3ce42bea89e2a92a28f685735e605e",
         "truth": "1",
         "_deepnote_index_column": 388
        },
        {
         "userid": "98e4c6520892b0218ab13ca7369785be",
         "truth": "1",
         "_deepnote_index_column": 389
        },
        {
         "userid": "db83cb088416759db148c17b256a9652",
         "truth": "1",
         "_deepnote_index_column": 390
        },
        {
         "userid": "e5cc453c1de4371b8d668c3ab50126f1",
         "truth": "1",
         "_deepnote_index_column": 391
        },
        {
         "userid": "cecc9d84dbc069af5579b55577d0e83e",
         "truth": "1",
         "_deepnote_index_column": 392
        },
        {
         "userid": "65042b6a94addf20c6fafd782c5d4347",
         "truth": "1",
         "_deepnote_index_column": 393
        },
        {
         "userid": "b264ae3f49a660c4dbd63d654175471b",
         "truth": "1",
         "_deepnote_index_column": 394
        },
        {
         "userid": "833ffc26e9f1a81265e3e97513cefb86",
         "truth": "1",
         "_deepnote_index_column": 395
        },
        {
         "userid": "dead14502e55f545546f666ab6d91558",
         "truth": "1",
         "_deepnote_index_column": 396
        },
        {
         "userid": "e608b622e6a3085290fc279b55fa821c",
         "truth": "1",
         "_deepnote_index_column": 397
        },
        {
         "userid": "a7d4e6f2aa8543a448b5a07feab9fc49",
         "truth": "1",
         "_deepnote_index_column": 398
        },
        {
         "userid": "41501686277ace6b5fd7dcfe9284fe1d",
         "truth": "1",
         "_deepnote_index_column": 399
        }
       ],
       "rows_bottom": null
      },
      "text/plain": "                               userid truth\n0    1a698d93874644625d83a76b206c7aa3     0\n1    b7200193802bde3769f4daa371b5305b     0\n2    7ffb758291340303c2162fcee25e2780     0\n3    e309e9e2516824370310661c919dd5d8     0\n4    b523abc590889dfaf69a1c8470ef314d     0\n..                                ...   ...\n395  833ffc26e9f1a81265e3e97513cefb86     1\n396  dead14502e55f545546f666ab6d91558     1\n397  e608b622e6a3085290fc279b55fa821c     1\n398  a7d4e6f2aa8543a448b5a07feab9fc49     1\n399  41501686277ace6b5fd7dcfe9284fe1d     1\n\n[400 rows x 2 columns]",
      "text/html": "<div>\n<style scoped>\n    .dataframe tbody tr th:only-of-type {\n        vertical-align: middle;\n    }\n\n    .dataframe tbody tr th {\n        vertical-align: top;\n    }\n\n    .dataframe thead th {\n        text-align: right;\n    }\n</style>\n<table border=\"1\" class=\"dataframe\">\n  <thead>\n    <tr style=\"text-align: right;\">\n      <th></th>\n      <th>userid</th>\n      <th>truth</th>\n    </tr>\n  </thead>\n  <tbody>\n    <tr>\n      <th>0</th>\n      <td>1a698d93874644625d83a76b206c7aa3</td>\n      <td>0</td>\n    </tr>\n    <tr>\n      <th>1</th>\n      <td>b7200193802bde3769f4daa371b5305b</td>\n      <td>0</td>\n    </tr>\n    <tr>\n      <th>2</th>\n      <td>7ffb758291340303c2162fcee25e2780</td>\n      <td>0</td>\n    </tr>\n    <tr>\n      <th>3</th>\n      <td>e309e9e2516824370310661c919dd5d8</td>\n      <td>0</td>\n    </tr>\n    <tr>\n      <th>4</th>\n      <td>b523abc590889dfaf69a1c8470ef314d</td>\n      <td>0</td>\n    </tr>\n    <tr>\n      <th>...</th>\n      <td>...</td>\n      <td>...</td>\n    </tr>\n    <tr>\n      <th>395</th>\n      <td>833ffc26e9f1a81265e3e97513cefb86</td>\n      <td>1</td>\n    </tr>\n    <tr>\n      <th>396</th>\n      <td>dead14502e55f545546f666ab6d91558</td>\n      <td>1</td>\n    </tr>\n    <tr>\n      <th>397</th>\n      <td>e608b622e6a3085290fc279b55fa821c</td>\n      <td>1</td>\n    </tr>\n    <tr>\n      <th>398</th>\n      <td>a7d4e6f2aa8543a448b5a07feab9fc49</td>\n      <td>1</td>\n    </tr>\n    <tr>\n      <th>399</th>\n      <td>41501686277ace6b5fd7dcfe9284fe1d</td>\n      <td>1</td>\n    </tr>\n  </tbody>\n</table>\n<p>400 rows × 2 columns</p>\n</div>"
     },
     "metadata": {}
    }
   ],
   "execution_count": 13
  },
  {
   "cell_type": "markdown",
   "source": "The point is that the label (truth) is 1 per each _author_, not per _tweet_. We have think about how to organize the data for the NN classifier.",
   "metadata": {
    "tags": [],
    "cell_id": "00032-aecec4c9-88d1-4f12-9d49-c8a2bb80646b",
    "deepnote_cell_type": "markdown"
   }
  },
  {
   "cell_type": "markdown",
   "source": "If we ever needed to merge `data` and `truth` dataframes together, this is how we could do it:",
   "metadata": {
    "tags": [],
    "cell_id": "00033-54b4f8b2-6031-4da9-a094-690d72972e3b",
    "deepnote_cell_type": "markdown"
   }
  },
  {
   "cell_type": "code",
   "metadata": {
    "tags": [],
    "deepnote_to_be_reexecuted": false,
    "source_hash": "36a4245a",
    "execution_start": 1637778129022,
    "execution_millis": 27326490,
    "cell_id": "00034-5b026ee3-8e29-4b8d-98ee-bf78a79e906b",
    "deepnote_cell_type": "code"
   },
   "source": "# data = data.merge(right=truth, how=\"left\", on=\"userid\")",
   "outputs": [],
   "execution_count": 14
  },
  {
   "cell_type": "markdown",
   "source": "Now I will save the DataFrames, so we can load them up much quicker after the hardware resets.",
   "metadata": {
    "tags": [],
    "cell_id": "00035-e4373dfc-3eb3-417d-84bf-e9d0bf124e90",
    "deepnote_cell_type": "markdown"
   }
  },
  {
   "cell_type": "code",
   "metadata": {
    "tags": [],
    "deepnote_to_be_reexecuted": false,
    "source_hash": "ec58271c",
    "execution_start": 1637778129032,
    "execution_millis": 27322159,
    "cell_id": "00036-661b7dff-66de-4b89-b737-f7535d5179f4",
    "deepnote_cell_type": "code"
   },
   "source": "# Commented out after controlled run, so we have done the files right\n# data.to_csv(\"data.csv\")\n# truth.to_csv(\"truth.csv\")",
   "outputs": [],
   "execution_count": 15
  },
  {
   "cell_type": "markdown",
   "source": "# Exploratory Data Analysis",
   "metadata": {
    "tags": [],
    "is_collapsed": false,
    "cell_id": "00041-3c9744b7-0777-4ea5-9dcb-2bbb43a7d363",
    "deepnote_cell_type": "text-cell-h1"
   }
  },
  {
   "cell_type": "markdown",
   "source": "## Re-loading both data sets",
   "metadata": {
    "tags": [],
    "is_collapsed": false,
    "cell_id": "00037-c935f2b8-53c4-460f-8fe9-b9bed3f97c66",
    "deepnote_cell_type": "text-cell-h2"
   }
  },
  {
   "cell_type": "code",
   "metadata": {
    "tags": [],
    "deepnote_to_be_reexecuted": false,
    "source_hash": "53b782ba",
    "execution_start": 1637778129043,
    "execution_millis": 242,
    "cell_id": "00038-30972105-5938-4fad-ae8f-ea91bbdffc74",
    "deepnote_cell_type": "code"
   },
   "source": "data = pd.read_csv(\"data.csv\", index_col=0)\ntruth = pd.read_csv(\"truth.csv\", index_col=0)",
   "outputs": [],
   "execution_count": 16
  },
  {
   "cell_type": "code",
   "metadata": {
    "tags": [],
    "deepnote_to_be_reexecuted": false,
    "source_hash": "e6928a8f",
    "execution_start": 1637778129303,
    "execution_millis": 103,
    "cell_id": "00039-bb0cad05-acd2-4879-ad79-f1eeeeb2ed6a",
    "deepnote_cell_type": "code"
   },
   "source": "data",
   "outputs": [
    {
     "output_type": "execute_result",
     "execution_count": 17,
     "data": {
      "application/vnd.deepnote.dataframe.v2+json": {
       "row_count": 80000,
       "column_count": 3,
       "columns": [
        {
         "name": "lang",
         "dtype": "object",
         "stats": {
          "unique_count": 2,
          "nan_count": 0,
          "categories": [
           {
            "name": "es",
            "count": 40000
           },
           {
            "name": "en",
            "count": 40000
           }
          ]
         }
        },
        {
         "name": "userid",
         "dtype": "object"
        },
        {
         "name": "tweet",
         "dtype": "object"
        },
        {
         "name": "_deepnote_index_column",
         "dtype": "int64"
        }
       ],
       "rows_top": [
        {
         "lang": "es",
         "userid": "223d8277fe1f9895a83a385010218989",
         "tweet": "#USER# #USER# Me gusta la VALENCIANA, es mucha mujer ¡",
         "_deepnote_index_column": 0
        },
        {
         "lang": "es",
         "userid": "223d8277fe1f9895a83a385010218989",
         "tweet": "RT #USER#: La crítica de Pablo Echenique a Isabel Díaz Ayuso que se le ha vuelto en contra #URL#",
         "_deepnote_index_column": 1
        },
        {
         "lang": "es",
         "userid": "223d8277fe1f9895a83a385010218989",
         "tweet": "RT #USER#: Errejón se prepara la moción 😂😂😂😂😂😂😂 #URL#",
         "_deepnote_index_column": 2
        },
        {
         "lang": "es",
         "userid": "223d8277fe1f9895a83a385010218989",
         "tweet": "#USER# #USER# #USER# #USER# #USER# Y esos insultos ? Soy muchas cosas ,pero gili no.",
         "_deepnote_index_column": 3
        },
        {
         "lang": "es",
         "userid": "223d8277fe1f9895a83a385010218989",
         "tweet": "RT #USER#: #USER# #USER# #USER# Sí Sí igual que en Madrid. No se dicen medias verdades. #URL#",
         "_deepnote_index_column": 4
        },
        {
         "lang": "es",
         "userid": "223d8277fe1f9895a83a385010218989",
         "tweet": "RT #USER#: Ves a la novia de Antonio Baños y entiendes su gusto por el sexo escatológico #URL#",
         "_deepnote_index_column": 5
        },
        {
         "lang": "es",
         "userid": "223d8277fe1f9895a83a385010218989",
         "tweet": "RT #USER#: #HASHTAG# | 27 millones de dólares pagará EE UU a la familia de George Floyd #URL#",
         "_deepnote_index_column": 6
        },
        {
         "lang": "es",
         "userid": "223d8277fe1f9895a83a385010218989",
         "tweet": "#USER# #USER# A mi me parece que no debería ser legal ..",
         "_deepnote_index_column": 7
        },
        {
         "lang": "es",
         "userid": "223d8277fe1f9895a83a385010218989",
         "tweet": "RT #USER#: Interior acerca al País Vasco al asesino de Carpena y Portero #URL#",
         "_deepnote_index_column": 8
        },
        {
         "lang": "es",
         "userid": "223d8277fe1f9895a83a385010218989",
         "tweet": "RT #USER#: Sánchez rescata con 53 millones de dinero Público Español a Chiringuito de Nicolás Madur…",
         "_deepnote_index_column": 9
        },
        {
         "lang": "es",
         "userid": "223d8277fe1f9895a83a385010218989",
         "tweet": "RT #USER#: #USER# Ya no quiere ser Fallera Mayor Infantil ? #URL#",
         "_deepnote_index_column": 10
        },
        {
         "lang": "es",
         "userid": "223d8277fe1f9895a83a385010218989",
         "tweet": "Errejón se prepara la moción 😂😂😂😂😂😂😂 #URL#",
         "_deepnote_index_column": 11
        },
        {
         "lang": "es",
         "userid": "223d8277fe1f9895a83a385010218989",
         "tweet": "Biden parece estar loco ,comenta Ian Miles Cheong #URL#",
         "_deepnote_index_column": 12
        },
        {
         "lang": "es",
         "userid": "223d8277fe1f9895a83a385010218989",
         "tweet": "RT #USER#: Doña Inés cayó en manos de Don Juan Sánchez ??? Que romántico todo ¡ ..uffff #URL#",
         "_deepnote_index_column": 13
        },
        {
         "lang": "es",
         "userid": "223d8277fe1f9895a83a385010218989",
         "tweet": "RT #USER#: Es bastante agotador que Carlota Corredera nos quiera “educar” a todos en su mantra ideo…",
         "_deepnote_index_column": 14
        },
        {
         "lang": "es",
         "userid": "223d8277fe1f9895a83a385010218989",
         "tweet": "RT #USER#: Mañana va a dar gusto leer la prensa. #URL#",
         "_deepnote_index_column": 15
        },
        {
         "lang": "es",
         "userid": "223d8277fe1f9895a83a385010218989",
         "tweet": "RT #USER#: Yo creo que hasta le van a votar",
         "_deepnote_index_column": 16
        },
        {
         "lang": "es",
         "userid": "223d8277fe1f9895a83a385010218989",
         "tweet": "#USER# Monasterio, vox Madrid , no ha dejado de obstaculizar la labor de Ayuso desde el principio.",
         "_deepnote_index_column": 17
        },
        {
         "lang": "es",
         "userid": "223d8277fe1f9895a83a385010218989",
         "tweet": "#USER# A Bernardo ,como sigan así lo rematan ..",
         "_deepnote_index_column": 18
        },
        {
         "lang": "es",
         "userid": "223d8277fe1f9895a83a385010218989",
         "tweet": "RT #USER#: A este dicen que lo han visto por Murcia. Por si cae algo... #URL#",
         "_deepnote_index_column": 19
        },
        {
         "lang": "es",
         "userid": "223d8277fe1f9895a83a385010218989",
         "tweet": "#USER# Eres tan racanilla como Iker ???",
         "_deepnote_index_column": 20
        },
        {
         "lang": "es",
         "userid": "223d8277fe1f9895a83a385010218989",
         "tweet": "#USER# Ohhhhhh jajajaaa ,pues entonces sigue y no mires atrás , lo mejor siempre es lo que vendrá .…",
         "_deepnote_index_column": 21
        },
        {
         "lang": "es",
         "userid": "223d8277fe1f9895a83a385010218989",
         "tweet": "RT #USER#: Catalanes: os dan permiso para hablar castellano en casa, dad las gracias #URL#",
         "_deepnote_index_column": 22
        },
        {
         "lang": "es",
         "userid": "223d8277fe1f9895a83a385010218989",
         "tweet": "RT #USER#: 🔵Encuesta elecciones #HASHTAG# : Ayuso arrasará el 4-M, aunque necesitará a Vox para gob…",
         "_deepnote_index_column": 23
        },
        {
         "lang": "es",
         "userid": "223d8277fe1f9895a83a385010218989",
         "tweet": "RT #USER#: «No diré que te lo dije, pero I told you...» #URL#",
         "_deepnote_index_column": 24
        },
        {
         "lang": "es",
         "userid": "223d8277fe1f9895a83a385010218989",
         "tweet": "RT #USER#: Para el que no sepa de lo que hablo. Aquí Azarías Iglesias. Los Santos Inocentes. ¡Milan…",
         "_deepnote_index_column": 25
        },
        {
         "lang": "es",
         "userid": "223d8277fe1f9895a83a385010218989",
         "tweet": "#USER# Jajajaaa pues por eso. Dales cariñito .",
         "_deepnote_index_column": 26
        },
        {
         "lang": "es",
         "userid": "223d8277fe1f9895a83a385010218989",
         "tweet": "#USER# El PSOE es el poder y tiene despachos oscuros para todos ,esta pava les ha creído. Se siente.",
         "_deepnote_index_column": 27
        },
        {
         "lang": "es",
         "userid": "223d8277fe1f9895a83a385010218989",
         "tweet": "RT #USER#: Entonces!!! ¿Ya soy presidente de Murcia? #URL#",
         "_deepnote_index_column": 28
        },
        {
         "lang": "es",
         "userid": "223d8277fe1f9895a83a385010218989",
         "tweet": "RT #USER#: Ayuso : Perseverancia y valentía. Arrimadas : Traición y desidia. Este es el sentir de l…",
         "_deepnote_index_column": 29
        },
        {
         "lang": "es",
         "userid": "223d8277fe1f9895a83a385010218989",
         "tweet": "RT #USER#: #USER# No guapi.. Sanchez Kent ...el bello Te la ha pegao ¡ Eres muuuuu pava ¡¡ Todas la…",
         "_deepnote_index_column": 30
        },
        {
         "lang": "es",
         "userid": "223d8277fe1f9895a83a385010218989",
         "tweet": "#USER# No guapi.. Sanchez Kent ...el bello Te la ha pegao ¡ Eres muuuuu pava ¡¡ Todas las mansitas …",
         "_deepnote_index_column": 31
        },
        {
         "lang": "es",
         "userid": "223d8277fe1f9895a83a385010218989",
         "tweet": "RT #USER#: Arrimadas quería hacer mociones en cadena según ABC. #URL#",
         "_deepnote_index_column": 32
        },
        {
         "lang": "es",
         "userid": "223d8277fe1f9895a83a385010218989",
         "tweet": "RT #USER#: Esta es catalana.. Es indepe ???? #URL#",
         "_deepnote_index_column": 33
        },
        {
         "lang": "es",
         "userid": "223d8277fe1f9895a83a385010218989",
         "tweet": "RT #USER#: Que forma de humillarse ante un cretino...",
         "_deepnote_index_column": 34
        },
        {
         "lang": "es",
         "userid": "223d8277fe1f9895a83a385010218989",
         "tweet": "RT #USER#: #USER# #USER# Gracias #USER# #HASHTAG# #HASHTAG# #HASHTAG# #URL#",
         "_deepnote_index_column": 35
        },
        {
         "lang": "es",
         "userid": "223d8277fe1f9895a83a385010218989",
         "tweet": "RT #USER#: #USER# #USER# Su proximo destino, creo que será Supervivientes jejejeje",
         "_deepnote_index_column": 36
        },
        {
         "lang": "es",
         "userid": "223d8277fe1f9895a83a385010218989",
         "tweet": "Esta es catalana.. Es indepe ???? #URL#",
         "_deepnote_index_column": 37
        },
        {
         "lang": "es",
         "userid": "223d8277fe1f9895a83a385010218989",
         "tweet": "RT #USER#: Mira a ver que la moción que pusisteis lleváis a un imputado por prevaricación. El gobie…",
         "_deepnote_index_column": 38
        },
        {
         "lang": "es",
         "userid": "223d8277fe1f9895a83a385010218989",
         "tweet": "RT #USER#: 🔵Gracias #USER# 👉siempre con #USER# #URL#",
         "_deepnote_index_column": 39
        },
        {
         "lang": "es",
         "userid": "223d8277fe1f9895a83a385010218989",
         "tweet": "RT #USER#: ¿SOCIALISMO o LIBERTAD? Yo lo tengo claro #USER#. #URL#",
         "_deepnote_index_column": 40
        },
        {
         "lang": "es",
         "userid": "223d8277fe1f9895a83a385010218989",
         "tweet": "RT #USER#: #USER# #USER# Ésta cada vez que habla sube el pan ,y se ven las TRIPAS del PSOE",
         "_deepnote_index_column": 41
        },
        {
         "lang": "es",
         "userid": "223d8277fe1f9895a83a385010218989",
         "tweet": "RT #USER#: Está pasmada, ojiplática. Aún no entiende como le han tomado el pelo. Pero el killer no …",
         "_deepnote_index_column": 42
        },
        {
         "lang": "es",
         "userid": "223d8277fe1f9895a83a385010218989",
         "tweet": "#USER# Ni yo...lo he decidido ya",
         "_deepnote_index_column": 43
        },
        {
         "lang": "es",
         "userid": "223d8277fe1f9895a83a385010218989",
         "tweet": "RT #USER#: Dice Simon que solo habrá 1 o 2 afectados por la vacuna Astrazeneca.......",
         "_deepnote_index_column": 44
        },
        {
         "lang": "es",
         "userid": "223d8277fe1f9895a83a385010218989",
         "tweet": "RT #USER#: Imágenes exclusivas del entierro de Ciudadanos #URL# vía #USER#",
         "_deepnote_index_column": 45
        },
        {
         "lang": "es",
         "userid": "223d8277fe1f9895a83a385010218989",
         "tweet": "#USER# Sánchez el bello ,las seduce ???? Cómo lo hace ??? Quiero saber ¡ Jjjjj",
         "_deepnote_index_column": 46
        },
        {
         "lang": "es",
         "userid": "223d8277fe1f9895a83a385010218989",
         "tweet": "#USER# #USER# #USER# #USER# Soy de la provincia de Alicante..",
         "_deepnote_index_column": 47
        },
        {
         "lang": "es",
         "userid": "223d8277fe1f9895a83a385010218989",
         "tweet": "RT #USER#: Las mansas ...Topan.. Todos los Refranes se cumplen. 👇😂😂",
         "_deepnote_index_column": 48
        },
        {
         "lang": "es",
         "userid": "223d8277fe1f9895a83a385010218989",
         "tweet": "RT #USER#: En Murcia: Sánchez 0, Democracia 1",
         "_deepnote_index_column": 49
        },
        {
         "lang": "es",
         "userid": "223d8277fe1f9895a83a385010218989",
         "tweet": "RT #USER#: Chica, qué obediente. Menos mal que Bildu no te pidió nada.",
         "_deepnote_index_column": 50
        },
        {
         "lang": "es",
         "userid": "223d8277fe1f9895a83a385010218989",
         "tweet": "RT #USER#: Menuda pieza tiene Sánchez Castejon Lean, lean.... #URL# #URL#",
         "_deepnote_index_column": 51
        },
        {
         "lang": "es",
         "userid": "223d8277fe1f9895a83a385010218989",
         "tweet": "#USER# Como te pones los viernes Sor ¡ jajajaaa",
         "_deepnote_index_column": 52
        },
        {
         "lang": "es",
         "userid": "223d8277fe1f9895a83a385010218989",
         "tweet": "#USER# #USER# #USER# #USER# No...de la provincia de Alicante. Muy cerquita .",
         "_deepnote_index_column": 53
        },
        {
         "lang": "es",
         "userid": "223d8277fe1f9895a83a385010218989",
         "tweet": "RT #USER#: Inda: «Judas Arrimadas ha hecho el ridículo»: #URL#",
         "_deepnote_index_column": 54
        },
        {
         "lang": "es",
         "userid": "223d8277fe1f9895a83a385010218989",
         "tweet": "#USER# Hombre...pa huevos ¡ Las mujeres del PP.",
         "_deepnote_index_column": 55
        },
        {
         "lang": "es",
         "userid": "223d8277fe1f9895a83a385010218989",
         "tweet": "#USER# #USER# Lo mismo hice yo ,jamás me volverán a engañar",
         "_deepnote_index_column": 56
        },
        {
         "lang": "es",
         "userid": "223d8277fe1f9895a83a385010218989",
         "tweet": "#USER# #USER# #USER# Aguado ...métete en un agujero anda traidor ¡¡¡",
         "_deepnote_index_column": 57
        },
        {
         "lang": "es",
         "userid": "223d8277fe1f9895a83a385010218989",
         "tweet": "#USER# #USER# #USER# #USER# Eres de Granada ?? Me encanta, mi segunda ciudad de España...❤",
         "_deepnote_index_column": 58
        },
        {
         "lang": "es",
         "userid": "223d8277fe1f9895a83a385010218989",
         "tweet": "RT #USER#: Sara Carbonero confirma su separación de Iker Casillas: \"Nuestro amor toma caminos disti…",
         "_deepnote_index_column": 59
        },
        {
         "lang": "es",
         "userid": "223d8277fe1f9895a83a385010218989",
         "tweet": "Las mansas ...Topan.. Todos los Refranes se cumplen. 👇😂😂 #URL#",
         "_deepnote_index_column": 60
        },
        {
         "lang": "es",
         "userid": "223d8277fe1f9895a83a385010218989",
         "tweet": "RT #USER#: La estrategia de la izquierda de insultar a Ayuso va muy bien. #URL#",
         "_deepnote_index_column": 61
        },
        {
         "lang": "es",
         "userid": "223d8277fe1f9895a83a385010218989",
         "tweet": "RT #USER#: Os recuerdo que la estrategia era de Pedro Sánchez y se cerró en Moncloa. Socialismo o l…",
         "_deepnote_index_column": 62
        },
        {
         "lang": "es",
         "userid": "223d8277fe1f9895a83a385010218989",
         "tweet": "#USER# De Sánchez me esperaba eso y cosas peores ,pero de la carita de dulce de Arrimadas ???? Toda…",
         "_deepnote_index_column": 63
        },
        {
         "lang": "es",
         "userid": "223d8277fe1f9895a83a385010218989",
         "tweet": "#USER# #USER# #USER# #USER# Tierra de verduras y viandas muy ricas ...",
         "_deepnote_index_column": 64
        },
        {
         "lang": "es",
         "userid": "223d8277fe1f9895a83a385010218989",
         "tweet": "RT #USER#: Ejemplo de “Supremacismo Toledano” #HASHTAG# #HASHTAG# #HASHTAG# #HASHTAG# 🇪🇸❌ #URL#",
         "_deepnote_index_column": 65
        },
        {
         "lang": "es",
         "userid": "223d8277fe1f9895a83a385010218989",
         "tweet": "RT #USER#: Ayuso llama a \"conocer\" el centro de Madrid durante Semana Santa y apoyar a sus comercio…",
         "_deepnote_index_column": 66
        },
        {
         "lang": "es",
         "userid": "223d8277fe1f9895a83a385010218989",
         "tweet": "#USER# #USER# Ésta cada vez que habla sube el pan ,y se ven las TRIPAS del PSOE",
         "_deepnote_index_column": 67
        },
        {
         "lang": "es",
         "userid": "223d8277fe1f9895a83a385010218989",
         "tweet": "#USER# Creo que es Nuevo orden mundial... Quieren destruir todo , después implantar COMUNISMO ..",
         "_deepnote_index_column": 68
        },
        {
         "lang": "es",
         "userid": "223d8277fe1f9895a83a385010218989",
         "tweet": "#USER# Si la haces poniéndoselas a un bizcocho verás que rico.",
         "_deepnote_index_column": 69
        },
        {
         "lang": "es",
         "userid": "223d8277fe1f9895a83a385010218989",
         "tweet": "#USER# Éstas las hacía mi madre con la receta de las medidas de yogur 😋😋",
         "_deepnote_index_column": 70
        },
        {
         "lang": "es",
         "userid": "223d8277fe1f9895a83a385010218989",
         "tweet": "#USER# Dios ¡¡¡ impresionante. Quién pudiera . De valor incalculable. Y precioso ¡",
         "_deepnote_index_column": 71
        },
        {
         "lang": "es",
         "userid": "223d8277fe1f9895a83a385010218989",
         "tweet": "#USER# #USER# #USER# #USER# No conoces Murcia ??? Yo siiiiiiii y sus pasteles de carne 😋😋😋😋",
         "_deepnote_index_column": 72
        },
        {
         "lang": "es",
         "userid": "223d8277fe1f9895a83a385010218989",
         "tweet": "RT #USER#: El PSOE usó a Arrimadas: planeó la voladura del Gobierno de Murcia para desestabilizar a…",
         "_deepnote_index_column": 73
        },
        {
         "lang": "es",
         "userid": "223d8277fe1f9895a83a385010218989",
         "tweet": "RT #USER#: Eran los mismos que no querían reconocer que Ayuso fue la apuesta personal de Pablo Casa…",
         "_deepnote_index_column": 74
        },
        {
         "lang": "es",
         "userid": "223d8277fe1f9895a83a385010218989",
         "tweet": "#USER# Sí ,los SOCIALISTAS que marrullean en despachos",
         "_deepnote_index_column": 75
        },
        {
         "lang": "es",
         "userid": "223d8277fe1f9895a83a385010218989",
         "tweet": "RT #USER#: Seguid llamando loca a Ayuso. #URL#",
         "_deepnote_index_column": 76
        },
        {
         "lang": "es",
         "userid": "223d8277fe1f9895a83a385010218989",
         "tweet": "RT #USER#: Pedro Cavadas, sobre el coronavirus: «Si encierras a la gente en su casa tienes incidenc…",
         "_deepnote_index_column": 77
        },
        {
         "lang": "es",
         "userid": "223d8277fe1f9895a83a385010218989",
         "tweet": "RT #USER#: ❌ Omitir información esencial para tratar de engañar al TSJM es gravísimo ❗❗❗ #URL# vía …",
         "_deepnote_index_column": 78
        },
        {
         "lang": "es",
         "userid": "223d8277fe1f9895a83a385010218989",
         "tweet": "RT #USER#: ¿Ha dimitido ya Inés Arrimadas? #URL#",
         "_deepnote_index_column": 79
        },
        {
         "lang": "es",
         "userid": "223d8277fe1f9895a83a385010218989",
         "tweet": "RT #USER#: VOX también está detrás de las mociones? Parece que si, según este ciudadano #USER#",
         "_deepnote_index_column": 80
        },
        {
         "lang": "es",
         "userid": "223d8277fe1f9895a83a385010218989",
         "tweet": "RT #USER#: Adriana Lastra nunca quiere que la respondas...",
         "_deepnote_index_column": 81
        },
        {
         "lang": "es",
         "userid": "223d8277fe1f9895a83a385010218989",
         "tweet": "RT #USER#: Fracasada la moción de censura en Murcia. Vox carga contra Ayuso.",
         "_deepnote_index_column": 82
        },
        {
         "lang": "es",
         "userid": "223d8277fe1f9895a83a385010218989",
         "tweet": "RT #USER#: Bufffffff que tropa . Que pelaje tienen los que vienen de Vox ¡",
         "_deepnote_index_column": 83
        },
        {
         "lang": "es",
         "userid": "223d8277fe1f9895a83a385010218989",
         "tweet": "RT #USER#: #USER# A ti te \"convencieron\" en la universidad también, no? O lo de cobrar sin trabajar…",
         "_deepnote_index_column": 84
        },
        {
         "lang": "es",
         "userid": "223d8277fe1f9895a83a385010218989",
         "tweet": "RT #USER#: #USER# Más menos lo mismo que le ofreció a VOX para que le regalara 140mil millones para…",
         "_deepnote_index_column": 85
        },
        {
         "lang": "es",
         "userid": "223d8277fe1f9895a83a385010218989",
         "tweet": "RT #USER#: #USER# Siempre está viendo series de Netflix, como Errejón su compañero de juergas cuand…",
         "_deepnote_index_column": 86
        },
        {
         "lang": "es",
         "userid": "223d8277fe1f9895a83a385010218989",
         "tweet": "#USER# Siempre está viendo series de Netflix, como Errejón su compañero de juergas cuando estudiaba…",
         "_deepnote_index_column": 87
        },
        {
         "lang": "es",
         "userid": "223d8277fe1f9895a83a385010218989",
         "tweet": "Bufffffff que tropa . Que pelaje tienen los que vienen de Vox ¡ #URL#",
         "_deepnote_index_column": 88
        },
        {
         "lang": "es",
         "userid": "223d8277fe1f9895a83a385010218989",
         "tweet": "RT #USER#: Los de Vox siempre carroñeando poder.. Así son ,la mayoría ,antiguos votantes de izquier…",
         "_deepnote_index_column": 89
        },
        {
         "lang": "es",
         "userid": "223d8277fe1f9895a83a385010218989",
         "tweet": "RT #USER#: La URSULINA Monasterio ha metido muchas zancadillas a Ayuso de siempre, es una traidora ¡",
         "_deepnote_index_column": 90
        },
        {
         "lang": "es",
         "userid": "223d8277fe1f9895a83a385010218989",
         "tweet": "#USER# Perroflautas del 15 M todavía quedan.",
         "_deepnote_index_column": 91
        },
        {
         "lang": "es",
         "userid": "223d8277fe1f9895a83a385010218989",
         "tweet": "RT #USER#: #USER# El Gobierno lo hace por la puerta de atrás de Moncloa",
         "_deepnote_index_column": 92
        },
        {
         "lang": "es",
         "userid": "223d8277fe1f9895a83a385010218989",
         "tweet": "#USER# El Gobierno lo hace por la puerta de atrás de Moncloa",
         "_deepnote_index_column": 93
        },
        {
         "lang": "es",
         "userid": "223d8277fe1f9895a83a385010218989",
         "tweet": "Doña Inés cayó en manos de Don Juan Sánchez ??? Que romántico todo ¡ ..uffff #URL#",
         "_deepnote_index_column": 94
        },
        {
         "lang": "es",
         "userid": "223d8277fe1f9895a83a385010218989",
         "tweet": "RT #USER#: La Portada de #USER# Linda Galmor en #HASHTAG# : El traidor de las treinta monedas #URL#",
         "_deepnote_index_column": 95
        },
        {
         "lang": "es",
         "userid": "223d8277fe1f9895a83a385010218989",
         "tweet": "Los de Vox siempre carroñeando poder.. Así son ,la mayoría ,antiguos votantes de izquierdas 👇👇🤬 #UR…",
         "_deepnote_index_column": 96
        },
        {
         "lang": "es",
         "userid": "223d8277fe1f9895a83a385010218989",
         "tweet": "RT #USER#: — Antonio, ¿has visto la cagada de Inés Arrimadas? — ¿¿¿Dónde, Dóndeeeee??? #URL#",
         "_deepnote_index_column": 97
        },
        {
         "lang": "es",
         "userid": "223d8277fe1f9895a83a385010218989",
         "tweet": "RT #USER#: Anda mira, a lo mejor VOX deja de ser ultraderecha para el PSOE en un rato",
         "_deepnote_index_column": 98
        },
        {
         "lang": "es",
         "userid": "223d8277fe1f9895a83a385010218989",
         "tweet": "RT #USER#: #USER# #USER# Porque la mitad de ese partido POPULISTA vox, son arrepentidos izquierdist…",
         "_deepnote_index_column": 99
        },
        {
         "lang": "es",
         "userid": "223d8277fe1f9895a83a385010218989",
         "tweet": "RT #USER#: #USER# Tamayazo ? Jajajaaajaaaaa El de Sánchez ( Moncloa) con la miserable ARIMADAS . Al…",
         "_deepnote_index_column": 100
        },
        {
         "lang": "es",
         "userid": "223d8277fe1f9895a83a385010218989",
         "tweet": "RT #USER#: Doña Inés cayó en manos de Don Juan Sánchez ??? Que romántico todo ¡ ..uffff",
         "_deepnote_index_column": 101
        },
        {
         "lang": "es",
         "userid": "223d8277fe1f9895a83a385010218989",
         "tweet": "RT #USER#: Interior traslada a un etarra condenado por tres asesinatos en contra del criterio de la…",
         "_deepnote_index_column": 102
        },
        {
         "lang": "es",
         "userid": "223d8277fe1f9895a83a385010218989",
         "tweet": "#USER# Pero es que el jefe Abascal recurre a llamadas en red para hacerse luego fotitos 👇👇 #URL#",
         "_deepnote_index_column": 103
        },
        {
         "lang": "es",
         "userid": "223d8277fe1f9895a83a385010218989",
         "tweet": "#USER# Este populista siempre saca partido de agresiones ..buffff Sólo existe el Rey sol ??",
         "_deepnote_index_column": 104
        },
        {
         "lang": "es",
         "userid": "223d8277fe1f9895a83a385010218989",
         "tweet": "Doña Inés cayó en manos de Don Juan Sánchez ??? Que romántico todo ¡ ..uffff",
         "_deepnote_index_column": 105
        },
        {
         "lang": "es",
         "userid": "223d8277fe1f9895a83a385010218989",
         "tweet": "RT #USER#: Madrid será la tumba del Sanchismo. #URL#",
         "_deepnote_index_column": 106
        },
        {
         "lang": "es",
         "userid": "223d8277fe1f9895a83a385010218989",
         "tweet": "RT #USER#: \"Marlaska pasará a la Historia como el ministro que cedió ante ETA y humilló a las vícti…",
         "_deepnote_index_column": 107
        },
        {
         "lang": "es",
         "userid": "223d8277fe1f9895a83a385010218989",
         "tweet": "RT #USER#: Inés Arruinadas nos hizo creer que era una bella hada, pero al desprenderse del traje re…",
         "_deepnote_index_column": 108
        },
        {
         "lang": "es",
         "userid": "223d8277fe1f9895a83a385010218989",
         "tweet": "RT #USER#: ¿A cuánto cotiza el cargo de ministra de algo en mercados secundarios?",
         "_deepnote_index_column": 109
        },
        {
         "lang": "es",
         "userid": "223d8277fe1f9895a83a385010218989",
         "tweet": "#USER# #USER# #USER# No conoces a Teodoro ...",
         "_deepnote_index_column": 110
        },
        {
         "lang": "es",
         "userid": "223d8277fe1f9895a83a385010218989",
         "tweet": "RT #USER#: Sigamos caminando. España por encima de todo. #URL#",
         "_deepnote_index_column": 111
        },
        {
         "lang": "es",
         "userid": "223d8277fe1f9895a83a385010218989",
         "tweet": "RT #USER#: #USER# Claro, mira lo que piensa de su \"pareje\" #USER# #URL#",
         "_deepnote_index_column": 112
        },
        {
         "lang": "es",
         "userid": "223d8277fe1f9895a83a385010218989",
         "tweet": "RT #USER#: Querella contra el podemita Asens y el independentista Rufián por sus tuits sobre la Cor…",
         "_deepnote_index_column": 113
        },
        {
         "lang": "es",
         "userid": "223d8277fe1f9895a83a385010218989",
         "tweet": "#USER# #USER# Porque la mitad de ese partido POPULISTA vox, son arrepentidos izquierdistas...por es…",
         "_deepnote_index_column": 114
        },
        {
         "lang": "es",
         "userid": "223d8277fe1f9895a83a385010218989",
         "tweet": "#USER# #USER# No sé....no sé... Con el aliento de Aguado en la nuca ? Que miedito ¡",
         "_deepnote_index_column": 115
        },
        {
         "lang": "es",
         "userid": "223d8277fe1f9895a83a385010218989",
         "tweet": "RT #USER#: Ayuso desvela que diputados de Cs le han pedido que cuente con ellos «para seguir juntos…",
         "_deepnote_index_column": 116
        },
        {
         "lang": "es",
         "userid": "223d8277fe1f9895a83a385010218989",
         "tweet": "RT #USER#: El #USER# pregunta a Bruselas por la ayuda del Gobierno a una aerolínea conectada con el…",
         "_deepnote_index_column": 117
        },
        {
         "lang": "es",
         "userid": "223d8277fe1f9895a83a385010218989",
         "tweet": "RT #USER#: #USER# Siguen en C's y de comprados nada. Pero como tú no sabes lo que es defender un pa…",
         "_deepnote_index_column": 118
        },
        {
         "lang": "es",
         "userid": "223d8277fe1f9895a83a385010218989",
         "tweet": "#USER# #USER# Los traidores merecen salir escaldaos ¡¡",
         "_deepnote_index_column": 119
        },
        {
         "lang": "es",
         "userid": "223d8277fe1f9895a83a385010218989",
         "tweet": "RT #USER#: De seguir así, habrá que agrandarla. #HASHTAG# Es tu sitio. Lo sabes. España es lo prime…",
         "_deepnote_index_column": 120
        },
        {
         "lang": "es",
         "userid": "223d8277fe1f9895a83a385010218989",
         "tweet": "#USER# Uyyyyyy que mona ¡",
         "_deepnote_index_column": 121
        },
        {
         "lang": "es",
         "userid": "223d8277fe1f9895a83a385010218989",
         "tweet": "RT #USER#: #USER# #USER# Sabemos que no sabe leer decretos, pero pasa muchas horas en el gim.",
         "_deepnote_index_column": 122
        },
        {
         "lang": "es",
         "userid": "223d8277fe1f9895a83a385010218989",
         "tweet": "RT #USER#: La 'pillada' a Aguado en 'Al Rojo Vivo' sobre una propuesta del PSOE para una moción de …",
         "_deepnote_index_column": 123
        },
        {
         "lang": "es",
         "userid": "223d8277fe1f9895a83a385010218989",
         "tweet": "#USER# #USER# #USER# Mira lo que hace tu jefe en Murcia 😉👇👇👇👇 #URL#",
         "_deepnote_index_column": 124
        },
        {
         "lang": "es",
         "userid": "223d8277fe1f9895a83a385010218989",
         "tweet": "RT #USER#: Murcia y Madrid van a ser la tumba del Sanchismo. #URL#",
         "_deepnote_index_column": 125
        },
        {
         "lang": "es",
         "userid": "223d8277fe1f9895a83a385010218989",
         "tweet": "#USER# Todas las Rubias son tontas ? O se lo hacen ? Jajajaaa",
         "_deepnote_index_column": 126
        },
        {
         "lang": "es",
         "userid": "223d8277fe1f9895a83a385010218989",
         "tweet": "#USER# Esta Sonsoles es un poco boba...no ?..",
         "_deepnote_index_column": 127
        },
        {
         "lang": "es",
         "userid": "223d8277fe1f9895a83a385010218989",
         "tweet": "#USER# #USER# Sabemos que no sabe leer decretos, pero pasa muchas horas en el gim.",
         "_deepnote_index_column": 128
        },
        {
         "lang": "es",
         "userid": "223d8277fe1f9895a83a385010218989",
         "tweet": "RT #USER#: Marruecos acepta la vuelta de 80 ilegales a la semana pero obliga a Marlaska a llevársel…",
         "_deepnote_index_column": 129
        },
        {
         "lang": "es",
         "userid": "223d8277fe1f9895a83a385010218989",
         "tweet": "RT #USER#: Podemos abre la puerta a una moción de censura en Andalucía #URL#",
         "_deepnote_index_column": 130
        },
        {
         "lang": "es",
         "userid": "223d8277fe1f9895a83a385010218989",
         "tweet": "RT #USER#: #USER# Lo mejor es que ha quedado en evidencia el tipo de calaña que dirige Moncloa. No,…",
         "_deepnote_index_column": 131
        },
        {
         "lang": "es",
         "userid": "223d8277fe1f9895a83a385010218989",
         "tweet": "RT #USER#: Arrimadas hablando de “ética” es como oír a Sánchez pronunciar “Honestidad”",
         "_deepnote_index_column": 132
        },
        {
         "lang": "es",
         "userid": "223d8277fe1f9895a83a385010218989",
         "tweet": "RT #USER#: Joder como está la izquierda con lo de Murcia, parece que no les ha sentado bien #URL#",
         "_deepnote_index_column": 133
        },
        {
         "lang": "es",
         "userid": "223d8277fe1f9895a83a385010218989",
         "tweet": "RT #USER#: Segunda parte del artículo sobre el 17 aniversario del 11M. Gracias #URL#",
         "_deepnote_index_column": 134
        },
        {
         "lang": "es",
         "userid": "223d8277fe1f9895a83a385010218989",
         "tweet": "#USER# Desaparecer..España no paga traidores.",
         "_deepnote_index_column": 135
        },
        {
         "lang": "es",
         "userid": "223d8277fe1f9895a83a385010218989",
         "tweet": "Pero no se lo pareció en Cataluña .? Huyó Illa allí porque le daban ganador.. Je je je je je je #UR…",
         "_deepnote_index_column": 136
        },
        {
         "lang": "es",
         "userid": "223d8277fe1f9895a83a385010218989",
         "tweet": "#USER# Que bonitos por favor ¡¡",
         "_deepnote_index_column": 137
        },
        {
         "lang": "es",
         "userid": "223d8277fe1f9895a83a385010218989",
         "tweet": "RT #USER#: 👏🏼👏🏼 Así reciben al presidente #USER# en Palos de la Frontera. 💚 ¡Gracias Andalucía! #UR…",
         "_deepnote_index_column": 138
        },
        {
         "lang": "es",
         "userid": "223d8277fe1f9895a83a385010218989",
         "tweet": "#USER# Bueno eso por supuesto.",
         "_deepnote_index_column": 139
        },
        {
         "lang": "es",
         "userid": "223d8277fe1f9895a83a385010218989",
         "tweet": "#USER# #USER# Estás cuadrao ..",
         "_deepnote_index_column": 140
        },
        {
         "lang": "es",
         "userid": "223d8277fe1f9895a83a385010218989",
         "tweet": "RT #USER#: Socialismo o Libertad. #HASHTAG# #URL#",
         "_deepnote_index_column": 141
        },
        {
         "lang": "es",
         "userid": "223d8277fe1f9895a83a385010218989",
         "tweet": "RT #USER#: Toni Cantó ya piensa en abandonar Ciudadanos tras el ridículo de Arrimadas en Murcia #UR…",
         "_deepnote_index_column": 142
        },
        {
         "lang": "es",
         "userid": "223d8277fe1f9895a83a385010218989",
         "tweet": "RT #USER#: Japanese scat implanta la semana laboral de 4 días gracias a Errejón.",
         "_deepnote_index_column": 143
        },
        {
         "lang": "es",
         "userid": "223d8277fe1f9895a83a385010218989",
         "tweet": "RT #USER#: El juez del caso 'Neurona' reactiva la investigación de la Caja de Solidaridad al pedir …",
         "_deepnote_index_column": 144
        },
        {
         "lang": "es",
         "userid": "223d8277fe1f9895a83a385010218989",
         "tweet": "RT #USER#: El #USER# , tu mejor opción, enhorabuena #USER# , no solo es Murcia es España. #URL#",
         "_deepnote_index_column": 145
        },
        {
         "lang": "es",
         "userid": "223d8277fe1f9895a83a385010218989",
         "tweet": "#USER# #USER# Y está más amarillo . Problemas de odio ( afectan al hígado)",
         "_deepnote_index_column": 146
        },
        {
         "lang": "es",
         "userid": "223d8277fe1f9895a83a385010218989",
         "tweet": "RT #USER#: #USER# Y a mí observar cómo el paciente del Tamayazo cada vez tiene menos cuello #URL#",
         "_deepnote_index_column": 147
        },
        {
         "lang": "es",
         "userid": "223d8277fe1f9895a83a385010218989",
         "tweet": "RT #USER#: Yo que Inés Arrimadas dimitía ipso facto, Igea tiene más sentido común que tú, niña tont…",
         "_deepnote_index_column": 148
        },
        {
         "lang": "es",
         "userid": "223d8277fe1f9895a83a385010218989",
         "tweet": "#USER# Tamayazo ? Jajajaaajaaaaa El de Sánchez ( Moncloa) con la miserable ARIMADAS . Al mejor post…",
         "_deepnote_index_column": 149
        },
        {
         "lang": "es",
         "userid": "223d8277fe1f9895a83a385010218989",
         "tweet": "#USER# Pues entenderás bien el carácter de sus gentes ..no ?",
         "_deepnote_index_column": 150
        },
        {
         "lang": "es",
         "userid": "223d8277fe1f9895a83a385010218989",
         "tweet": "#USER# Cuidado que éllos no entienden de ironía y lo aprovechan 😉😉",
         "_deepnote_index_column": 151
        },
        {
         "lang": "es",
         "userid": "223d8277fe1f9895a83a385010218989",
         "tweet": "RT #USER#: Libertad por encima de todo. #HASHTAG# #URL#",
         "_deepnote_index_column": 152
        },
        {
         "lang": "es",
         "userid": "223d8277fe1f9895a83a385010218989",
         "tweet": "#USER# En Asturias vienen de raza minera ,he probado a algunos y son bastante violentos ...buffff",
         "_deepnote_index_column": 153
        },
        {
         "lang": "es",
         "userid": "223d8277fe1f9895a83a385010218989",
         "tweet": "RT #USER#: Iker Jiménez desvela todas las veces que Fernando Simón ha rechazado ir a su programa #U…",
         "_deepnote_index_column": 154
        },
        {
         "lang": "es",
         "userid": "223d8277fe1f9895a83a385010218989",
         "tweet": "#USER# No es lógico.. Eso es COMUNISMO",
         "_deepnote_index_column": 155
        },
        {
         "lang": "es",
         "userid": "223d8277fe1f9895a83a385010218989",
         "tweet": "RT #USER#: Esto es lo que trae el socialismo. #URL#",
         "_deepnote_index_column": 156
        },
        {
         "lang": "es",
         "userid": "223d8277fe1f9895a83a385010218989",
         "tweet": "#USER# Cuentan los mentideros que vox llama por redes a sus simpatizantes para luego llegar Abascal…",
         "_deepnote_index_column": 157
        },
        {
         "lang": "es",
         "userid": "223d8277fe1f9895a83a385010218989",
         "tweet": "RT #USER#: Bonita forma de convocar una rueda de prensa... si fuera malpensado creería que estaban …",
         "_deepnote_index_column": 158
        },
        {
         "lang": "es",
         "userid": "223d8277fe1f9895a83a385010218989",
         "tweet": "#USER# Un Murciano que conoce su COMUNIDAD y pelea por el bienestar de sus gentes.",
         "_deepnote_index_column": 159
        },
        {
         "lang": "es",
         "userid": "223d8277fe1f9895a83a385010218989",
         "tweet": "RT #USER#: Teodoro García-Egea acaba de quedar rehabilitado como estratega.",
         "_deepnote_index_column": 160
        },
        {
         "lang": "es",
         "userid": "223d8277fe1f9895a83a385010218989",
         "tweet": "RT #USER#: Buscaban debilitar al Partido Popular, pero hemos salido más reforzados. #HASHTAG# #URL#",
         "_deepnote_index_column": 161
        },
        {
         "lang": "es",
         "userid": "223d8277fe1f9895a83a385010218989",
         "tweet": "#USER# #USER# Las RUBIAS son todas tontas ??? O son Jetas ???",
         "_deepnote_index_column": 162
        },
        {
         "lang": "es",
         "userid": "223d8277fe1f9895a83a385010218989",
         "tweet": "#USER# Los COMUNISTAS son despreciables..",
         "_deepnote_index_column": 163
        },
        {
         "lang": "es",
         "userid": "223d8277fe1f9895a83a385010218989",
         "tweet": "RT #USER#: #USER# #USER# Es una doble espía Rusa-Americana ..y eso que no quería ser política la tía",
         "_deepnote_index_column": 164
        },
        {
         "lang": "es",
         "userid": "223d8277fe1f9895a83a385010218989",
         "tweet": "#USER# #USER# Es una doble espía Rusa-Americana ..y eso que no quería ser política la tía",
         "_deepnote_index_column": 165
        }
       ],
       "rows_bottom": [
        {
         "lang": "en",
         "userid": "e9f06b27f1108050bd27937cbacb1d5e",
         "tweet": "#USER# Because he doesn’t know where Texas is or where he is.",
         "_deepnote_index_column": 79833
        },
        {
         "lang": "en",
         "userid": "e9f06b27f1108050bd27937cbacb1d5e",
         "tweet": "#USER# #USER# lmao..true now days",
         "_deepnote_index_column": 79834
        },
        {
         "lang": "en",
         "userid": "e9f06b27f1108050bd27937cbacb1d5e",
         "tweet": "#USER# I so agree..it is shameful to ignore the disabled.They should be 1st in line. #URL#",
         "_deepnote_index_column": 79835
        },
        {
         "lang": "en",
         "userid": "e9f06b27f1108050bd27937cbacb1d5e",
         "tweet": "Thee best and funniest commercials along with Amazon Michael B. #URL#",
         "_deepnote_index_column": 79836
        },
        {
         "lang": "en",
         "userid": "e9f06b27f1108050bd27937cbacb1d5e",
         "tweet": "#HASHTAG# Voted for #HASHTAG# MVP because he was kind enough to give his #HASHTAG# jersey to #USER#…",
         "_deepnote_index_column": 79837
        },
        {
         "lang": "en",
         "userid": "e9f06b27f1108050bd27937cbacb1d5e",
         "tweet": "#USER# AP: Reporters spotted late night at grave sights in USA conversing with residents 6 ft below…",
         "_deepnote_index_column": 79838
        },
        {
         "lang": "en",
         "userid": "e9f06b27f1108050bd27937cbacb1d5e",
         "tweet": "#USER# and everyone wants filet mignon for dinner..yum yum",
         "_deepnote_index_column": 79839
        },
        {
         "lang": "en",
         "userid": "e9f06b27f1108050bd27937cbacb1d5e",
         "tweet": "right not fair...make this equal and fair...and please zero to inmates🙄🤬 #URL#",
         "_deepnote_index_column": 79840
        },
        {
         "lang": "en",
         "userid": "e9f06b27f1108050bd27937cbacb1d5e",
         "tweet": "RT #USER#: #USER# Yall said 2k. You used an image of a check with 2000 written on it. You said Imme…",
         "_deepnote_index_column": 79841
        },
        {
         "lang": "en",
         "userid": "e9f06b27f1108050bd27937cbacb1d5e",
         "tweet": "#USER# #USER# she be after that sucker",
         "_deepnote_index_column": 79842
        },
        {
         "lang": "en",
         "userid": "e9f06b27f1108050bd27937cbacb1d5e",
         "tweet": "#USER# the truth finally...refreshing to hear",
         "_deepnote_index_column": 79843
        },
        {
         "lang": "en",
         "userid": "e9f06b27f1108050bd27937cbacb1d5e",
         "tweet": "#USER# he wants everyone to be a hermit. and weird like him.his parents probably forbid him to play…",
         "_deepnote_index_column": 79844
        },
        {
         "lang": "en",
         "userid": "e9f06b27f1108050bd27937cbacb1d5e",
         "tweet": "#USER# wish she would’ve donated to Pfizer or J&amp;J",
         "_deepnote_index_column": 79845
        },
        {
         "lang": "en",
         "userid": "e9f06b27f1108050bd27937cbacb1d5e",
         "tweet": "#USER# wow his lips look swollen",
         "_deepnote_index_column": 79846
        },
        {
         "lang": "en",
         "userid": "e9f06b27f1108050bd27937cbacb1d5e",
         "tweet": "#USER# #USER# #USER# the problem he stole &amp; killed an innocent person and the courts will let h…",
         "_deepnote_index_column": 79847
        },
        {
         "lang": "en",
         "userid": "e9f06b27f1108050bd27937cbacb1d5e",
         "tweet": "RT #USER#: RT if we should Expel Nancy Pelosi &amp; Maxine Waters from Congress.",
         "_deepnote_index_column": 79848
        },
        {
         "lang": "en",
         "userid": "e9f06b27f1108050bd27937cbacb1d5e",
         "tweet": "and the DMV #URL#",
         "_deepnote_index_column": 79849
        },
        {
         "lang": "en",
         "userid": "e9f06b27f1108050bd27937cbacb1d5e",
         "tweet": "all seniors..another lie. they said 3veryone over 75..so many 90+ waiting to get the vaccine #URL#",
         "_deepnote_index_column": 79850
        },
        {
         "lang": "en",
         "userid": "e9f06b27f1108050bd27937cbacb1d5e",
         "tweet": "Wishy washy mayor and governor..smh #URL#",
         "_deepnote_index_column": 79851
        },
        {
         "lang": "en",
         "userid": "e9f06b27f1108050bd27937cbacb1d5e",
         "tweet": "#USER# #USER# Poor Ted Did you test for COVID since you were so afraid?",
         "_deepnote_index_column": 79852
        },
        {
         "lang": "en",
         "userid": "e9f06b27f1108050bd27937cbacb1d5e",
         "tweet": "another one of our loser politicians who thinks he knows something...SMH #URL#",
         "_deepnote_index_column": 79853
        },
        {
         "lang": "en",
         "userid": "e9f06b27f1108050bd27937cbacb1d5e",
         "tweet": "Maybe he’ll share a bit of his inheritance with us instead of just shelling out a measly $600?. #UR…",
         "_deepnote_index_column": 79854
        },
        {
         "lang": "en",
         "userid": "e9f06b27f1108050bd27937cbacb1d5e",
         "tweet": "don’t forget “before” #URL#",
         "_deepnote_index_column": 79855
        },
        {
         "lang": "en",
         "userid": "e9f06b27f1108050bd27937cbacb1d5e",
         "tweet": "#USER# #USER# #USER# another liberal who cannot see beyond their nose",
         "_deepnote_index_column": 79856
        },
        {
         "lang": "en",
         "userid": "e9f06b27f1108050bd27937cbacb1d5e",
         "tweet": "#USER# Oh well he probably forgot about you. better luck next time..maybe your new Pres will pardon…",
         "_deepnote_index_column": 79857
        },
        {
         "lang": "en",
         "userid": "e9f06b27f1108050bd27937cbacb1d5e",
         "tweet": "RT #USER#: #USER# Yes yes we know, America is going down the drain fast thanks to pedophile Biden.",
         "_deepnote_index_column": 79858
        },
        {
         "lang": "en",
         "userid": "e9f06b27f1108050bd27937cbacb1d5e",
         "tweet": "NO STUPID WE HAD AN EARTHQUAKE..AND YOU CALL YOURSELF A REPORTER?????? GOD HELP US #URL#",
         "_deepnote_index_column": 79859
        },
        {
         "lang": "en",
         "userid": "e9f06b27f1108050bd27937cbacb1d5e",
         "tweet": "oh yes...and next act the recall of the governor of California",
         "_deepnote_index_column": 79860
        },
        {
         "lang": "en",
         "userid": "e9f06b27f1108050bd27937cbacb1d5e",
         "tweet": "#USER# #USER# #USER# #USER# and will continue the next four....can you say communism?",
         "_deepnote_index_column": 79861
        },
        {
         "lang": "en",
         "userid": "e9f06b27f1108050bd27937cbacb1d5e",
         "tweet": "oh gawd now somebody doesn’t approve of the “L” in a signature..geez us stupid liberals go hide und…",
         "_deepnote_index_column": 79862
        },
        {
         "lang": "en",
         "userid": "e9f06b27f1108050bd27937cbacb1d5e",
         "tweet": "#USER# #USER# oh what do you know it’s Pe the little whimp of twitter #HASHTAG# #USER#",
         "_deepnote_index_column": 79863
        },
        {
         "lang": "en",
         "userid": "e9f06b27f1108050bd27937cbacb1d5e",
         "tweet": "#USER# Border who cares what happens in DC",
         "_deepnote_index_column": 79864
        },
        {
         "lang": "en",
         "userid": "e9f06b27f1108050bd27937cbacb1d5e",
         "tweet": "#USER# #USER# #USER# #USER# another blind liberal #USER#",
         "_deepnote_index_column": 79865
        },
        {
         "lang": "en",
         "userid": "e9f06b27f1108050bd27937cbacb1d5e",
         "tweet": "#USER# #USER# COVID ,which Democrats welcomed, caused negativity NOT PRESIDENT TRUMP #HASHTAG#",
         "_deepnote_index_column": 79866
        },
        {
         "lang": "en",
         "userid": "e9f06b27f1108050bd27937cbacb1d5e",
         "tweet": "#USER# BE SURE YOUR MOTHER LIKES the woman you marry and that the woman you choose is kind to your …",
         "_deepnote_index_column": 79867
        },
        {
         "lang": "en",
         "userid": "e9f06b27f1108050bd27937cbacb1d5e",
         "tweet": "#USER# Let’s remember old Dr. Jill and Trisha have alot in common #HASHTAG# Husbands be exact.",
         "_deepnote_index_column": 79868
        },
        {
         "lang": "en",
         "userid": "e9f06b27f1108050bd27937cbacb1d5e",
         "tweet": "achy breaky heart guy wouldn’t lower him self to play at this fake ignaug #URL#",
         "_deepnote_index_column": 79869
        },
        {
         "lang": "en",
         "userid": "e9f06b27f1108050bd27937cbacb1d5e",
         "tweet": "I like. Victoria! She is going to make a great Mom..she keeps that childish Sarah in line!! #HASHTA…",
         "_deepnote_index_column": 79870
        },
        {
         "lang": "en",
         "userid": "e9f06b27f1108050bd27937cbacb1d5e",
         "tweet": "Please dot not talk to Sarah..she has the fainting disease most drama queens get #HASHTAG#",
         "_deepnote_index_column": 79871
        },
        {
         "lang": "en",
         "userid": "e9f06b27f1108050bd27937cbacb1d5e",
         "tweet": "RT #USER#: Garth Brooks really does have “Friends In Low Places”.",
         "_deepnote_index_column": 79872
        },
        {
         "lang": "en",
         "userid": "e9f06b27f1108050bd27937cbacb1d5e",
         "tweet": "yes some definitely are it started with ObozoCare #URL#",
         "_deepnote_index_column": 79873
        },
        {
         "lang": "en",
         "userid": "e9f06b27f1108050bd27937cbacb1d5e",
         "tweet": "#USER# #USER# except for the crummy healthcare...the healthcare stories are frightening",
         "_deepnote_index_column": 79874
        },
        {
         "lang": "en",
         "userid": "e9f06b27f1108050bd27937cbacb1d5e",
         "tweet": "#USER# #USER# #USER# probably all illegals",
         "_deepnote_index_column": 79875
        },
        {
         "lang": "en",
         "userid": "e9f06b27f1108050bd27937cbacb1d5e",
         "tweet": "#USER# #USER# what a stupid ass comment..",
         "_deepnote_index_column": 79876
        },
        {
         "lang": "en",
         "userid": "e9f06b27f1108050bd27937cbacb1d5e",
         "tweet": "#USER# #USER# #USER# that’s what I was wondering. Liberal stupidity sydrome. THIS WAS ABOUT PHIL SP…",
         "_deepnote_index_column": 79877
        },
        {
         "lang": "en",
         "userid": "e9f06b27f1108050bd27937cbacb1d5e",
         "tweet": "Yea stupid..ask someone from Iran that lives in this country..they are scared shitless #URL#",
         "_deepnote_index_column": 79878
        },
        {
         "lang": "en",
         "userid": "e9f06b27f1108050bd27937cbacb1d5e",
         "tweet": "$5-6 in CA #URL#",
         "_deepnote_index_column": 79879
        },
        {
         "lang": "en",
         "userid": "e9f06b27f1108050bd27937cbacb1d5e",
         "tweet": "#USER# #USER# #USER# please go away and take the big guy with you...you are both disgusting🤮🤮🤮",
         "_deepnote_index_column": 79880
        },
        {
         "lang": "en",
         "userid": "e9f06b27f1108050bd27937cbacb1d5e",
         "tweet": "#USER# #USER# yep down the tubes",
         "_deepnote_index_column": 79881
        },
        {
         "lang": "en",
         "userid": "e9f06b27f1108050bd27937cbacb1d5e",
         "tweet": "#USER# #USER# Stupidity..just liberal stupidity",
         "_deepnote_index_column": 79882
        },
        {
         "lang": "en",
         "userid": "e9f06b27f1108050bd27937cbacb1d5e",
         "tweet": "#USER# Says one old cout to another",
         "_deepnote_index_column": 79883
        },
        {
         "lang": "en",
         "userid": "e9f06b27f1108050bd27937cbacb1d5e",
         "tweet": "#USER# #USER# What an awkward comment..You’ll see a real mess soon.",
         "_deepnote_index_column": 79884
        },
        {
         "lang": "en",
         "userid": "e9f06b27f1108050bd27937cbacb1d5e",
         "tweet": "There have been much worse crimes committed and the high profile murderers have walked...just sayin…",
         "_deepnote_index_column": 79885
        },
        {
         "lang": "en",
         "userid": "e9f06b27f1108050bd27937cbacb1d5e",
         "tweet": "#USER# Pence was a weakling from day one..never understood that pick and old Marsha...SMH",
         "_deepnote_index_column": 79886
        },
        {
         "lang": "en",
         "userid": "e9f06b27f1108050bd27937cbacb1d5e",
         "tweet": "#USER# #USER# NO and flags at halfmast or NO flag flying on that day",
         "_deepnote_index_column": 79887
        },
        {
         "lang": "en",
         "userid": "e9f06b27f1108050bd27937cbacb1d5e",
         "tweet": "isn’t she a gas🤣🤣🤣 #URL#",
         "_deepnote_index_column": 79888
        },
        {
         "lang": "en",
         "userid": "e9f06b27f1108050bd27937cbacb1d5e",
         "tweet": "#USER# camelharris is not well liked either is that “common man” guy",
         "_deepnote_index_column": 79889
        },
        {
         "lang": "en",
         "userid": "e9f06b27f1108050bd27937cbacb1d5e",
         "tweet": "#USER# #USER# #USER# 4 lame brains that i know did...exactly LAME BRAINS",
         "_deepnote_index_column": 79890
        },
        {
         "lang": "en",
         "userid": "e9f06b27f1108050bd27937cbacb1d5e",
         "tweet": "#USER# we the people are sad and #URL# have our country turn on us😪😪🇺🇸🇺🇸💔💔",
         "_deepnote_index_column": 79891
        },
        {
         "lang": "en",
         "userid": "e9f06b27f1108050bd27937cbacb1d5e",
         "tweet": "#USER# whatever happened to the missing people? guess they are not important.",
         "_deepnote_index_column": 79892
        },
        {
         "lang": "en",
         "userid": "e9f06b27f1108050bd27937cbacb1d5e",
         "tweet": "#USER# #USER# You are a loser..collapsing because of ignoramuses like yourself and your liberal Bid…",
         "_deepnote_index_column": 79893
        },
        {
         "lang": "en",
         "userid": "e9f06b27f1108050bd27937cbacb1d5e",
         "tweet": "#USER# #USER# #USER# oh my gawd hilarious!!!",
         "_deepnote_index_column": 79894
        },
        {
         "lang": "en",
         "userid": "e9f06b27f1108050bd27937cbacb1d5e",
         "tweet": "#USER# I’m just gonna tell everyone I got it...👍🏻👍🏻🤣🤣 who’s going to know better?",
         "_deepnote_index_column": 79895
        },
        {
         "lang": "en",
         "userid": "e9f06b27f1108050bd27937cbacb1d5e",
         "tweet": "#USER# #USER# Honey, how do we know it prevents COVID-19? Just wondering?",
         "_deepnote_index_column": 79896
        },
        {
         "lang": "en",
         "userid": "e9f06b27f1108050bd27937cbacb1d5e",
         "tweet": "#USER# #USER# And that is what we have been experiencing for 1 yr(or more). 2021-22 might not bring…",
         "_deepnote_index_column": 79897
        },
        {
         "lang": "en",
         "userid": "e9f06b27f1108050bd27937cbacb1d5e",
         "tweet": "#USER# #USER# #USER# now with the tribe that will take over...it will get much worse",
         "_deepnote_index_column": 79898
        },
        {
         "lang": "en",
         "userid": "e9f06b27f1108050bd27937cbacb1d5e",
         "tweet": "#USER# multi million dollar sales in California",
         "_deepnote_index_column": 79899
        },
        {
         "lang": "en",
         "userid": "e9f06b27f1108050bd27937cbacb1d5e",
         "tweet": "#USER# oh gawd can you liberals get anymore STUPID? Back under your rock please",
         "_deepnote_index_column": 79900
        },
        {
         "lang": "en",
         "userid": "e9f06b27f1108050bd27937cbacb1d5e",
         "tweet": "#USER# #USER# We all agree you are dumb as a rock...stick to the shoe biz",
         "_deepnote_index_column": 79901
        },
        {
         "lang": "en",
         "userid": "e9f06b27f1108050bd27937cbacb1d5e",
         "tweet": "#USER# #USER# #USER# yep the corrupt dems and their violent fraudulent politics",
         "_deepnote_index_column": 79902
        },
        {
         "lang": "en",
         "userid": "e9f06b27f1108050bd27937cbacb1d5e",
         "tweet": "#USER# #USER# #USER# #USER# clever little man aren’t you",
         "_deepnote_index_column": 79903
        },
        {
         "lang": "en",
         "userid": "e9f06b27f1108050bd27937cbacb1d5e",
         "tweet": "#USER# #USER# #USER# #USER# says you the brainless one",
         "_deepnote_index_column": 79904
        },
        {
         "lang": "en",
         "userid": "e9f06b27f1108050bd27937cbacb1d5e",
         "tweet": "#USER# I believe it sorry I dropped Kaiser and SCAN #URL#",
         "_deepnote_index_column": 79905
        },
        {
         "lang": "en",
         "userid": "e9f06b27f1108050bd27937cbacb1d5e",
         "tweet": "#USER# who’d want to go to that crappy fake inauguration?🤮🤮🤮💩💩#USER# #USER# #USER# #USER# #USER#",
         "_deepnote_index_column": 79906
        },
        {
         "lang": "en",
         "userid": "e9f06b27f1108050bd27937cbacb1d5e",
         "tweet": "That,s all we’ll be hearing for the next 4 yrs..if we still have a country. #URL#",
         "_deepnote_index_column": 79907
        },
        {
         "lang": "en",
         "userid": "e9f06b27f1108050bd27937cbacb1d5e",
         "tweet": "#USER# #USER# #USER# #USER# #USER# itake it you mean #USER# 💩💩",
         "_deepnote_index_column": 79908
        },
        {
         "lang": "en",
         "userid": "e9f06b27f1108050bd27937cbacb1d5e",
         "tweet": "#USER# #USER# #USER# #USER# go back to your cage at the zoo, ignoramus",
         "_deepnote_index_column": 79909
        },
        {
         "lang": "en",
         "userid": "e9f06b27f1108050bd27937cbacb1d5e",
         "tweet": "#USER# #USER# #USER# #USER# you are a perverted mess to talk to a young lady like this..you old blo…",
         "_deepnote_index_column": 79910
        },
        {
         "lang": "en",
         "userid": "e9f06b27f1108050bd27937cbacb1d5e",
         "tweet": "#USER# #USER# #USER# #USER# #USER# #USER# you fat awhole",
         "_deepnote_index_column": 79911
        },
        {
         "lang": "en",
         "userid": "e9f06b27f1108050bd27937cbacb1d5e",
         "tweet": "#USER# #USER# #USER# #USER# #USER# #USER# you are wrong and evil...STFU",
         "_deepnote_index_column": 79912
        },
        {
         "lang": "en",
         "userid": "e9f06b27f1108050bd27937cbacb1d5e",
         "tweet": "#USER# yes pretty much all the same. glad they are all free.",
         "_deepnote_index_column": 79913
        },
        {
         "lang": "en",
         "userid": "e9f06b27f1108050bd27937cbacb1d5e",
         "tweet": "#USER# #USER# who the f are you??? punk",
         "_deepnote_index_column": 79914
        },
        {
         "lang": "en",
         "userid": "e9f06b27f1108050bd27937cbacb1d5e",
         "tweet": "#USER# i’m NOT REGISTERING....After JB’s term, there will be no more America..sad",
         "_deepnote_index_column": 79915
        },
        {
         "lang": "en",
         "userid": "e9f06b27f1108050bd27937cbacb1d5e",
         "tweet": "Forgot TRULIA also a good one! #URL#",
         "_deepnote_index_column": 79916
        },
        {
         "lang": "en",
         "userid": "e9f06b27f1108050bd27937cbacb1d5e",
         "tweet": "#USER# #USER# #USER# #USER# Look up “corruption” in the dictionary...you need to be informed wake u…",
         "_deepnote_index_column": 79917
        },
        {
         "lang": "en",
         "userid": "e9f06b27f1108050bd27937cbacb1d5e",
         "tweet": "#USER# #USER# yep repeat, repeat",
         "_deepnote_index_column": 79918
        },
        {
         "lang": "en",
         "userid": "e9f06b27f1108050bd27937cbacb1d5e",
         "tweet": "#USER# #USER# we should have done that to her years ago.",
         "_deepnote_index_column": 79919
        },
        {
         "lang": "en",
         "userid": "e9f06b27f1108050bd27937cbacb1d5e",
         "tweet": "#USER# #USER# #USER# Oh you must be a new cabinet member...”Pussyman” Kamala’s squirrelly man",
         "_deepnote_index_column": 79920
        },
        {
         "lang": "en",
         "userid": "e9f06b27f1108050bd27937cbacb1d5e",
         "tweet": "#USER# #USER# what about BLM protests?? HOW QUICKLY YOU LIBERALS FORGET🤮🤮🤮🤮",
         "_deepnote_index_column": 79921
        },
        {
         "lang": "en",
         "userid": "e9f06b27f1108050bd27937cbacb1d5e",
         "tweet": "#USER# oh gawd please..Biden is so pathetic 🤮🤮🤮🤮🤮you should have been theSpeaker..this country is d…",
         "_deepnote_index_column": 79922
        },
        {
         "lang": "en",
         "userid": "e9f06b27f1108050bd27937cbacb1d5e",
         "tweet": "#USER# what were our children thinking when your liberal BLMers were protesting? kinda hypcritical,…",
         "_deepnote_index_column": 79923
        },
        {
         "lang": "en",
         "userid": "e9f06b27f1108050bd27937cbacb1d5e",
         "tweet": "Is he drunk?. he’s not making sense as usual #URL#",
         "_deepnote_index_column": 79924
        },
        {
         "lang": "en",
         "userid": "e9f06b27f1108050bd27937cbacb1d5e",
         "tweet": "#USER# just wait..why aren’t you on TV? All in the plan😡👹",
         "_deepnote_index_column": 79925
        },
        {
         "lang": "en",
         "userid": "e9f06b27f1108050bd27937cbacb1d5e",
         "tweet": "#USER# #USER# #USER# ..your poor Mother gave birth to an idiot moron.",
         "_deepnote_index_column": 79926
        },
        {
         "lang": "en",
         "userid": "e9f06b27f1108050bd27937cbacb1d5e",
         "tweet": "#USER# #USER# #USER# we don’t care about you either, ya old lib bag of wind",
         "_deepnote_index_column": 79927
        },
        {
         "lang": "en",
         "userid": "e9f06b27f1108050bd27937cbacb1d5e",
         "tweet": "#USER# Holy Jesus....the evil wrath we are going to be subjected to is beyond belief. The devil has…",
         "_deepnote_index_column": 79928
        },
        {
         "lang": "en",
         "userid": "e9f06b27f1108050bd27937cbacb1d5e",
         "tweet": "#USER# try it..i use all of them and like MOVOTO",
         "_deepnote_index_column": 79929
        },
        {
         "lang": "en",
         "userid": "e9f06b27f1108050bd27937cbacb1d5e",
         "tweet": "#USER# i sent a DM please reply.thx",
         "_deepnote_index_column": 79930
        },
        {
         "lang": "en",
         "userid": "e9f06b27f1108050bd27937cbacb1d5e",
         "tweet": "#USER# #USER# #USER# Don’t forget MOVOTO....⭐️😎",
         "_deepnote_index_column": 79931
        },
        {
         "lang": "en",
         "userid": "e9f06b27f1108050bd27937cbacb1d5e",
         "tweet": "#USER# #USER# #USER# #USER# Oh “man” you are part of the problem..obviously eyes still shut..smh",
         "_deepnote_index_column": 79932
        },
        {
         "lang": "en",
         "userid": "e9f06b27f1108050bd27937cbacb1d5e",
         "tweet": "#USER# #USER# #USER# He didn’t have to say anything..like most QBs when their coach is fired. Class…",
         "_deepnote_index_column": 79933
        },
        {
         "lang": "en",
         "userid": "e9f06b27f1108050bd27937cbacb1d5e",
         "tweet": "#USER# #USER# #USER# he’s an old blowhard",
         "_deepnote_index_column": 79934
        },
        {
         "lang": "en",
         "userid": "e9f06b27f1108050bd27937cbacb1d5e",
         "tweet": "#USER# #USER# or “Dr” Jill?",
         "_deepnote_index_column": 79935
        },
        {
         "lang": "en",
         "userid": "e9f06b27f1108050bd27937cbacb1d5e",
         "tweet": "#USER# never voting again except for the removal of Gov N",
         "_deepnote_index_column": 79936
        },
        {
         "lang": "en",
         "userid": "e9f06b27f1108050bd27937cbacb1d5e",
         "tweet": "#USER# ‘Don’t Let the Sun Catch (you cryin”)😪😪💔",
         "_deepnote_index_column": 79937
        },
        {
         "lang": "en",
         "userid": "e9f06b27f1108050bd27937cbacb1d5e",
         "tweet": "#USER# #USER# obviously not vote",
         "_deepnote_index_column": 79938
        },
        {
         "lang": "en",
         "userid": "e9f06b27f1108050bd27937cbacb1d5e",
         "tweet": "yes and then hurl the insults..lol #URL#",
         "_deepnote_index_column": 79939
        },
        {
         "lang": "en",
         "userid": "e9f06b27f1108050bd27937cbacb1d5e",
         "tweet": "#USER# #USER# #USER# #USER# You are awesome and thank you for your service in the US Military!WHAT …",
         "_deepnote_index_column": 79940
        },
        {
         "lang": "en",
         "userid": "e9f06b27f1108050bd27937cbacb1d5e",
         "tweet": "#USER# #USER# loved it! i’ve never watched masked singer, but really liked this! thank you!",
         "_deepnote_index_column": 79941
        },
        {
         "lang": "en",
         "userid": "e9f06b27f1108050bd27937cbacb1d5e",
         "tweet": "#USER# #USER# #USER# #USER# #USER# #USER# Happy Birthday, California boy!🎂🎉⭐️#USER#",
         "_deepnote_index_column": 79942
        },
        {
         "lang": "en",
         "userid": "e9f06b27f1108050bd27937cbacb1d5e",
         "tweet": "#USER# Love this man! He is a class act...HE’S OUR PRESIDENT FOREVER!!! 🇺🇸🌟💫❤️",
         "_deepnote_index_column": 79943
        },
        {
         "lang": "en",
         "userid": "e9f06b27f1108050bd27937cbacb1d5e",
         "tweet": "#USER# isn’t that where the kamel’s ancestors are from?",
         "_deepnote_index_column": 79944
        },
        {
         "lang": "en",
         "userid": "e9f06b27f1108050bd27937cbacb1d5e",
         "tweet": "#USER# smoke is heavy in north irvine, wind gusts also",
         "_deepnote_index_column": 79945
        },
        {
         "lang": "en",
         "userid": "e9f06b27f1108050bd27937cbacb1d5e",
         "tweet": "#USER# thank you, juanita..he is the biggest 💩",
         "_deepnote_index_column": 79946
        },
        {
         "lang": "en",
         "userid": "e9f06b27f1108050bd27937cbacb1d5e",
         "tweet": "don’t believe that for a minute..he is a liar #URL#",
         "_deepnote_index_column": 79947
        },
        {
         "lang": "en",
         "userid": "e9f06b27f1108050bd27937cbacb1d5e",
         "tweet": "#USER# #USER# #USER# #USER# #USER# where are the checks? My family is starving #URL#",
         "_deepnote_index_column": 79948
        },
        {
         "lang": "en",
         "userid": "e9f06b27f1108050bd27937cbacb1d5e",
         "tweet": "#USER# #USER# where is her mask and social distancing?🤮",
         "_deepnote_index_column": 79949
        },
        {
         "lang": "en",
         "userid": "e9f06b27f1108050bd27937cbacb1d5e",
         "tweet": "#USER# #USER# #USER# Biden &amp; son..HRC and crew should be on trial. FBI ignored.Just think how o…",
         "_deepnote_index_column": 79950
        },
        {
         "lang": "en",
         "userid": "e9f06b27f1108050bd27937cbacb1d5e",
         "tweet": "#USER# #USER# #USER# We all knew it and we knew Democrats are liars and cheats",
         "_deepnote_index_column": 79951
        },
        {
         "lang": "en",
         "userid": "e9f06b27f1108050bd27937cbacb1d5e",
         "tweet": "#USER# Yep me also in 2016...friends for 60yrs...i stand for Pres Trump",
         "_deepnote_index_column": 79952
        },
        {
         "lang": "en",
         "userid": "e9f06b27f1108050bd27937cbacb1d5e",
         "tweet": "yep and such a coincidence that only Trump’s cabinet tests positive for COVID #URL#",
         "_deepnote_index_column": 79953
        },
        {
         "lang": "en",
         "userid": "e9f06b27f1108050bd27937cbacb1d5e",
         "tweet": "#USER# #USER# #USER# Not over yet...they may be hitting the jail road",
         "_deepnote_index_column": 79954
        },
        {
         "lang": "en",
         "userid": "e9f06b27f1108050bd27937cbacb1d5e",
         "tweet": "yea I’m sure he donated millions to their “foundation” and to that blubbering idiot Biden too #USER…",
         "_deepnote_index_column": 79955
        },
        {
         "lang": "en",
         "userid": "e9f06b27f1108050bd27937cbacb1d5e",
         "tweet": "#USER# #USER# #USER# i’d say much worse..jmo #USER# #USER#",
         "_deepnote_index_column": 79956
        },
        {
         "lang": "en",
         "userid": "e9f06b27f1108050bd27937cbacb1d5e",
         "tweet": "#USER# #USER# Don’t tell me you are that stupid.",
         "_deepnote_index_column": 79957
        },
        {
         "lang": "en",
         "userid": "e9f06b27f1108050bd27937cbacb1d5e",
         "tweet": "#USER# he’s the biggestAH.He’s already embarrassing the USA",
         "_deepnote_index_column": 79958
        },
        {
         "lang": "en",
         "userid": "e9f06b27f1108050bd27937cbacb1d5e",
         "tweet": "#USER# love your background artwork! budding artist??#HASHTAG#",
         "_deepnote_index_column": 79959
        },
        {
         "lang": "en",
         "userid": "e9f06b27f1108050bd27937cbacb1d5e",
         "tweet": "#USER# so unfair to #HASHTAG#...MLB made a big mistake.#USER#",
         "_deepnote_index_column": 79960
        },
        {
         "lang": "en",
         "userid": "e9f06b27f1108050bd27937cbacb1d5e",
         "tweet": "#USER# #USER# SEALs...They would be more than happy to do their job",
         "_deepnote_index_column": 79961
        },
        {
         "lang": "en",
         "userid": "e9f06b27f1108050bd27937cbacb1d5e",
         "tweet": "#USER# oh now SD has infections? who dropped the vial this time?",
         "_deepnote_index_column": 79962
        },
        {
         "lang": "en",
         "userid": "e9f06b27f1108050bd27937cbacb1d5e",
         "tweet": "#USER# #USER# but why doesn’t he or Nancy follow these “recommendations”?",
         "_deepnote_index_column": 79963
        },
        {
         "lang": "en",
         "userid": "e9f06b27f1108050bd27937cbacb1d5e",
         "tweet": "#USER# #USER# #USER# tell that to old basement Joe 🤣🤣🤣🤣 #HASHTAG#",
         "_deepnote_index_column": 79964
        },
        {
         "lang": "en",
         "userid": "e9f06b27f1108050bd27937cbacb1d5e",
         "tweet": "#USER# #USER# #USER# go ahead pull the trigger #USER# anothermentally disturbed Biden supporter🤣🤣🤣🤣",
         "_deepnote_index_column": 79965
        },
        {
         "lang": "en",
         "userid": "e9f06b27f1108050bd27937cbacb1d5e",
         "tweet": "#USER# #USER# NEWPORT BEACH, CA also!! We love #USER#",
         "_deepnote_index_column": 79966
        },
        {
         "lang": "en",
         "userid": "e9f06b27f1108050bd27937cbacb1d5e",
         "tweet": "#USER# #USER# #USER# i know a lot of Repubs in SOCAL..we need an audit",
         "_deepnote_index_column": 79967
        },
        {
         "lang": "en",
         "userid": "e9f06b27f1108050bd27937cbacb1d5e",
         "tweet": "#USER# OMG yes!! I wish they’d audit California...they’ve cheated everything for years..WE WILL BE …",
         "_deepnote_index_column": 79968
        },
        {
         "lang": "en",
         "userid": "e9f06b27f1108050bd27937cbacb1d5e",
         "tweet": "#USER# #USER# The pope?🤣🤣🤣🤣they both are operating with 1/2 brain.#USER#",
         "_deepnote_index_column": 79969
        },
        {
         "lang": "en",
         "userid": "e9f06b27f1108050bd27937cbacb1d5e",
         "tweet": "#USER# #USER# YES massive fraud...shameful!",
         "_deepnote_index_column": 79970
        },
        {
         "lang": "en",
         "userid": "e9f06b27f1108050bd27937cbacb1d5e",
         "tweet": "#USER# #USER# #USER# 🤮can you get any uglier?#USER#",
         "_deepnote_index_column": 79971
        },
        {
         "lang": "en",
         "userid": "e9f06b27f1108050bd27937cbacb1d5e",
         "tweet": "mine barfed after he barked..ooh that old slobbering derelict..i have a brilliant dog.. #URL#",
         "_deepnote_index_column": 79972
        },
        {
         "lang": "en",
         "userid": "e9f06b27f1108050bd27937cbacb1d5e",
         "tweet": "Probably got a new house..no mortgage😤👹 #URL#",
         "_deepnote_index_column": 79973
        },
        {
         "lang": "en",
         "userid": "e9f06b27f1108050bd27937cbacb1d5e",
         "tweet": "#USER# #USER# #USER# #USER# Do you have world connections to the world? LMAO LMAO",
         "_deepnote_index_column": 79974
        },
        {
         "lang": "en",
         "userid": "e9f06b27f1108050bd27937cbacb1d5e",
         "tweet": "Both Canucks? ❤️Alex RIP #URL#",
         "_deepnote_index_column": 79975
        },
        {
         "lang": "en",
         "userid": "e9f06b27f1108050bd27937cbacb1d5e",
         "tweet": "#USER# They should...rights violated. This couple was almost killed!",
         "_deepnote_index_column": 79976
        },
        {
         "lang": "en",
         "userid": "e9f06b27f1108050bd27937cbacb1d5e",
         "tweet": "#USER# #USER# Yea we know where you live",
         "_deepnote_index_column": 79977
        },
        {
         "lang": "en",
         "userid": "e9f06b27f1108050bd27937cbacb1d5e",
         "tweet": "#USER# they will be exposed don’t underestimate us Trumplicans #URL#",
         "_deepnote_index_column": 79978
        },
        {
         "lang": "en",
         "userid": "e9f06b27f1108050bd27937cbacb1d5e",
         "tweet": "#USER# here ya go #URL#",
         "_deepnote_index_column": 79979
        },
        {
         "lang": "en",
         "userid": "e9f06b27f1108050bd27937cbacb1d5e",
         "tweet": "#USER# #USER# #USER# #USER# knucklehead you are the farthest thing from a patriot HIDE YOUR HEAD",
         "_deepnote_index_column": 79980
        },
        {
         "lang": "en",
         "userid": "e9f06b27f1108050bd27937cbacb1d5e",
         "tweet": "#USER# #USER# Gawd if I cared about #USER# I’d be in the psychiatric ‘s office daily..",
         "_deepnote_index_column": 79981
        },
        {
         "lang": "en",
         "userid": "e9f06b27f1108050bd27937cbacb1d5e",
         "tweet": "#USER# #USER# #USER# Afred Hitchcock’s ballot was found he’s releasing a 2021 version of the birds …",
         "_deepnote_index_column": 79982
        },
        {
         "lang": "en",
         "userid": "e9f06b27f1108050bd27937cbacb1d5e",
         "tweet": "#USER# #USER# she threw him in the basement and tossed the key..he did ignore her last night on sta…",
         "_deepnote_index_column": 79983
        },
        {
         "lang": "en",
         "userid": "e9f06b27f1108050bd27937cbacb1d5e",
         "tweet": "Register at county office with ID, get voucher with code, vote in person only with voucher #URL#",
         "_deepnote_index_column": 79984
        },
        {
         "lang": "en",
         "userid": "e9f06b27f1108050bd27937cbacb1d5e",
         "tweet": "nothing but 💩💩💩💩#HASHTAG# #URL#",
         "_deepnote_index_column": 79985
        },
        {
         "lang": "en",
         "userid": "e9f06b27f1108050bd27937cbacb1d5e",
         "tweet": "#USER# #USER# He’s such a clever guy, Man!",
         "_deepnote_index_column": 79986
        },
        {
         "lang": "en",
         "userid": "e9f06b27f1108050bd27937cbacb1d5e",
         "tweet": "a lot of us did mail-ins..thrown in the trash though..evil #URL#",
         "_deepnote_index_column": 79987
        },
        {
         "lang": "en",
         "userid": "e9f06b27f1108050bd27937cbacb1d5e",
         "tweet": "#USER# #USER# get your guns, hide your money cause you won’t have any and prepare for permanent loc…",
         "_deepnote_index_column": 79988
        },
        {
         "lang": "en",
         "userid": "e9f06b27f1108050bd27937cbacb1d5e",
         "tweet": "#USER# #USER#WeekendAM always been trash..remember Chris Burroughs?And his friend? 🤣🤣🤣🤣 #URL#",
         "_deepnote_index_column": 79989
        },
        {
         "lang": "en",
         "userid": "e9f06b27f1108050bd27937cbacb1d5e",
         "tweet": "#USER# maybe they’ll share it with the poor?💩🤣🤣💩💩#USER#",
         "_deepnote_index_column": 79990
        },
        {
         "lang": "en",
         "userid": "e9f06b27f1108050bd27937cbacb1d5e",
         "tweet": "Slime bags..sad times #URL#",
         "_deepnote_index_column": 79991
        },
        {
         "lang": "en",
         "userid": "e9f06b27f1108050bd27937cbacb1d5e",
         "tweet": "#USER# #USER# #USER# Crimes against true American Patriots...disgusting #USER# #USER# #USER#",
         "_deepnote_index_column": 79992
        },
        {
         "lang": "en",
         "userid": "e9f06b27f1108050bd27937cbacb1d5e",
         "tweet": "they’ve been trying since 2016..heathens #URL#",
         "_deepnote_index_column": 79993
        },
        {
         "lang": "en",
         "userid": "e9f06b27f1108050bd27937cbacb1d5e",
         "tweet": "RT #USER#: RT if you think it’s past time to CALL NORTH CAROLINA for Trump! This is getting complet…",
         "_deepnote_index_column": 79994
        },
        {
         "lang": "en",
         "userid": "e9f06b27f1108050bd27937cbacb1d5e",
         "tweet": "#USER# #USER# biden raises the dead again",
         "_deepnote_index_column": 79995
        },
        {
         "lang": "en",
         "userid": "e9f06b27f1108050bd27937cbacb1d5e",
         "tweet": "and has a ———-for a running mate🤮 America has lost morals and marbles #URL#",
         "_deepnote_index_column": 79996
        },
        {
         "lang": "en",
         "userid": "e9f06b27f1108050bd27937cbacb1d5e",
         "tweet": "#USER# should have been done ✅ fair and square voting, no fraud",
         "_deepnote_index_column": 79997
        },
        {
         "lang": "en",
         "userid": "e9f06b27f1108050bd27937cbacb1d5e",
         "tweet": "#USER# #USER# bullshit...they “found” them phony fake ballots..Democrats are evil",
         "_deepnote_index_column": 79998
        },
        {
         "lang": "en",
         "userid": "e9f06b27f1108050bd27937cbacb1d5e",
         "tweet": "#USER# horrible evil democrats",
         "_deepnote_index_column": 79999
        }
       ]
      },
      "text/plain": "      lang                            userid  \\\n0       es  223d8277fe1f9895a83a385010218989   \n1       es  223d8277fe1f9895a83a385010218989   \n2       es  223d8277fe1f9895a83a385010218989   \n3       es  223d8277fe1f9895a83a385010218989   \n4       es  223d8277fe1f9895a83a385010218989   \n...    ...                               ...   \n79995   en  e9f06b27f1108050bd27937cbacb1d5e   \n79996   en  e9f06b27f1108050bd27937cbacb1d5e   \n79997   en  e9f06b27f1108050bd27937cbacb1d5e   \n79998   en  e9f06b27f1108050bd27937cbacb1d5e   \n79999   en  e9f06b27f1108050bd27937cbacb1d5e   \n\n                                                   tweet  \n0      #USER# #USER# Me gusta la VALENCIANA, es mucha...  \n1      RT #USER#: La crítica de Pablo Echenique a Isa...  \n2      RT #USER#: Errejón se prepara la moción 😂😂😂😂😂😂...  \n3      #USER# #USER# #USER# #USER# #USER# Y esos insu...  \n4      RT #USER#: #USER# #USER# #USER# Sí Sí igual qu...  \n...                                                  ...  \n79995          #USER# #USER# biden raises the dead again  \n79996  and has a ———-for a running mate🤮 America has ...  \n79997  #USER# should have been done ✅ fair and square...  \n79998  #USER# #USER# bullshit...they “found” them pho...  \n79999                     #USER# horrible evil democrats  \n\n[80000 rows x 3 columns]",
      "text/html": "<div>\n<style scoped>\n    .dataframe tbody tr th:only-of-type {\n        vertical-align: middle;\n    }\n\n    .dataframe tbody tr th {\n        vertical-align: top;\n    }\n\n    .dataframe thead th {\n        text-align: right;\n    }\n</style>\n<table border=\"1\" class=\"dataframe\">\n  <thead>\n    <tr style=\"text-align: right;\">\n      <th></th>\n      <th>lang</th>\n      <th>userid</th>\n      <th>tweet</th>\n    </tr>\n  </thead>\n  <tbody>\n    <tr>\n      <th>0</th>\n      <td>es</td>\n      <td>223d8277fe1f9895a83a385010218989</td>\n      <td>#USER# #USER# Me gusta la VALENCIANA, es mucha...</td>\n    </tr>\n    <tr>\n      <th>1</th>\n      <td>es</td>\n      <td>223d8277fe1f9895a83a385010218989</td>\n      <td>RT #USER#: La crítica de Pablo Echenique a Isa...</td>\n    </tr>\n    <tr>\n      <th>2</th>\n      <td>es</td>\n      <td>223d8277fe1f9895a83a385010218989</td>\n      <td>RT #USER#: Errejón se prepara la moción 😂😂😂😂😂😂...</td>\n    </tr>\n    <tr>\n      <th>3</th>\n      <td>es</td>\n      <td>223d8277fe1f9895a83a385010218989</td>\n      <td>#USER# #USER# #USER# #USER# #USER# Y esos insu...</td>\n    </tr>\n    <tr>\n      <th>4</th>\n      <td>es</td>\n      <td>223d8277fe1f9895a83a385010218989</td>\n      <td>RT #USER#: #USER# #USER# #USER# Sí Sí igual qu...</td>\n    </tr>\n    <tr>\n      <th>...</th>\n      <td>...</td>\n      <td>...</td>\n      <td>...</td>\n    </tr>\n    <tr>\n      <th>79995</th>\n      <td>en</td>\n      <td>e9f06b27f1108050bd27937cbacb1d5e</td>\n      <td>#USER# #USER# biden raises the dead again</td>\n    </tr>\n    <tr>\n      <th>79996</th>\n      <td>en</td>\n      <td>e9f06b27f1108050bd27937cbacb1d5e</td>\n      <td>and has a ———-for a running mate🤮 America has ...</td>\n    </tr>\n    <tr>\n      <th>79997</th>\n      <td>en</td>\n      <td>e9f06b27f1108050bd27937cbacb1d5e</td>\n      <td>#USER# should have been done ✅ fair and square...</td>\n    </tr>\n    <tr>\n      <th>79998</th>\n      <td>en</td>\n      <td>e9f06b27f1108050bd27937cbacb1d5e</td>\n      <td>#USER# #USER# bullshit...they “found” them pho...</td>\n    </tr>\n    <tr>\n      <th>79999</th>\n      <td>en</td>\n      <td>e9f06b27f1108050bd27937cbacb1d5e</td>\n      <td>#USER# horrible evil democrats</td>\n    </tr>\n  </tbody>\n</table>\n<p>80000 rows × 3 columns</p>\n</div>"
     },
     "metadata": {}
    }
   ],
   "execution_count": 17
  },
  {
   "cell_type": "code",
   "metadata": {
    "tags": [],
    "deepnote_to_be_reexecuted": false,
    "source_hash": "71697975",
    "execution_start": 1637778129421,
    "execution_millis": 35,
    "cell_id": "00040-fad8cde2-f3fb-427c-a360-ca8edaf994f7",
    "deepnote_cell_type": "code"
   },
   "source": "truth",
   "outputs": [
    {
     "output_type": "execute_result",
     "execution_count": 18,
     "data": {
      "application/vnd.deepnote.dataframe.v2+json": {
       "row_count": 400,
       "column_count": 2,
       "columns": [
        {
         "name": "userid",
         "dtype": "object",
         "stats": {
          "unique_count": 400,
          "nan_count": 0,
          "categories": [
           {
            "name": "1a698d93874644625d83a76b206c7aa3",
            "count": 1
           },
           {
            "name": "b7200193802bde3769f4daa371b5305b",
            "count": 1
           },
           {
            "name": "398 others",
            "count": 398
           }
          ]
         }
        },
        {
         "name": "truth",
         "dtype": "int64",
         "stats": {
          "unique_count": 2,
          "nan_count": 0,
          "min": "0",
          "max": "1",
          "histogram": [
           {
            "bin_start": 0,
            "bin_end": 0.1,
            "count": 200
           },
           {
            "bin_start": 0.1,
            "bin_end": 0.2,
            "count": 0
           },
           {
            "bin_start": 0.2,
            "bin_end": 0.30000000000000004,
            "count": 0
           },
           {
            "bin_start": 0.30000000000000004,
            "bin_end": 0.4,
            "count": 0
           },
           {
            "bin_start": 0.4,
            "bin_end": 0.5,
            "count": 0
           },
           {
            "bin_start": 0.5,
            "bin_end": 0.6000000000000001,
            "count": 0
           },
           {
            "bin_start": 0.6000000000000001,
            "bin_end": 0.7000000000000001,
            "count": 0
           },
           {
            "bin_start": 0.7000000000000001,
            "bin_end": 0.8,
            "count": 0
           },
           {
            "bin_start": 0.8,
            "bin_end": 0.9,
            "count": 0
           },
           {
            "bin_start": 0.9,
            "bin_end": 1,
            "count": 200
           }
          ]
         }
        },
        {
         "name": "_deepnote_index_column",
         "dtype": "int64"
        }
       ],
       "rows_top": [
        {
         "userid": "1a698d93874644625d83a76b206c7aa3",
         "truth": 0,
         "_deepnote_index_column": 0
        },
        {
         "userid": "b7200193802bde3769f4daa371b5305b",
         "truth": 0,
         "_deepnote_index_column": 1
        },
        {
         "userid": "7ffb758291340303c2162fcee25e2780",
         "truth": 0,
         "_deepnote_index_column": 2
        },
        {
         "userid": "e309e9e2516824370310661c919dd5d8",
         "truth": 0,
         "_deepnote_index_column": 3
        },
        {
         "userid": "b523abc590889dfaf69a1c8470ef314d",
         "truth": 0,
         "_deepnote_index_column": 4
        },
        {
         "userid": "0d5bc439846845ca0282d30f26b92eee",
         "truth": 0,
         "_deepnote_index_column": 5
        },
        {
         "userid": "5a079a4ef5989015391fbb1b2ebc5145",
         "truth": 0,
         "_deepnote_index_column": 6
        },
        {
         "userid": "f558a21dd8e02f2f7d4e5d5c3ea24195",
         "truth": 0,
         "_deepnote_index_column": 7
        },
        {
         "userid": "18e97b887f9f73ebfc07e87e6f5748d8",
         "truth": 0,
         "_deepnote_index_column": 8
        },
        {
         "userid": "05637e07406ea8532afc02fb024f9301",
         "truth": 0,
         "_deepnote_index_column": 9
        },
        {
         "userid": "4ce8e0e81ba985fd28cea7cc0c578ef4",
         "truth": 0,
         "_deepnote_index_column": 10
        },
        {
         "userid": "f46ab3d2949d86b20afc5de5223370bd",
         "truth": 0,
         "_deepnote_index_column": 11
        },
        {
         "userid": "7f611faa4c6f261cf09f06bf04031bf5",
         "truth": 0,
         "_deepnote_index_column": 12
        },
        {
         "userid": "e9016dfcf52be3d6cb7ef3b90812bc60",
         "truth": 0,
         "_deepnote_index_column": 13
        },
        {
         "userid": "64a391a27ac7ff3b5dc9d51182fe4ceb",
         "truth": 0,
         "_deepnote_index_column": 14
        },
        {
         "userid": "4bfcb52ec1961cb695e6facb6f02a99f",
         "truth": 0,
         "_deepnote_index_column": 15
        },
        {
         "userid": "a674abae1b9f6875e88aab47281feee0",
         "truth": 0,
         "_deepnote_index_column": 16
        },
        {
         "userid": "295f7913f5238dc9c0c341d6d74437ef",
         "truth": 0,
         "_deepnote_index_column": 17
        },
        {
         "userid": "fa5be6e6c139255df5fabafa5812a062",
         "truth": 0,
         "_deepnote_index_column": 18
        },
        {
         "userid": "2ed31d51508fbfa1416c55508ab799ae",
         "truth": 0,
         "_deepnote_index_column": 19
        },
        {
         "userid": "aff0f4c434bf985b64c6ca051cdbe886",
         "truth": 0,
         "_deepnote_index_column": 20
        },
        {
         "userid": "49429290b9c03e657f6038884b0278ef",
         "truth": 0,
         "_deepnote_index_column": 21
        },
        {
         "userid": "ad67ab8fb7fc94a737bced7f92699801",
         "truth": 0,
         "_deepnote_index_column": 22
        },
        {
         "userid": "9901087f781c97976d8af765bb14f80e",
         "truth": 0,
         "_deepnote_index_column": 23
        },
        {
         "userid": "8930788ee9b491e35b53d55f688c829b",
         "truth": 0,
         "_deepnote_index_column": 24
        },
        {
         "userid": "55225a39f4d2affd7494625a26f7dab2",
         "truth": 0,
         "_deepnote_index_column": 25
        },
        {
         "userid": "31cf254cc1a3902a37a6da8312df4f34",
         "truth": 0,
         "_deepnote_index_column": 26
        },
        {
         "userid": "0e4a0376e41eb7d90b28cd08cdb4a844",
         "truth": 0,
         "_deepnote_index_column": 27
        },
        {
         "userid": "b335bf6f5f8eda9979c489f28c3f48bc",
         "truth": 0,
         "_deepnote_index_column": 28
        },
        {
         "userid": "6d76e63dae6216b762bfa67034586663",
         "truth": 0,
         "_deepnote_index_column": 29
        },
        {
         "userid": "55004f65c53197a646d25890ac99390f",
         "truth": 0,
         "_deepnote_index_column": 30
        },
        {
         "userid": "e8499000a6f5e3845ee4d99803704812",
         "truth": 0,
         "_deepnote_index_column": 31
        },
        {
         "userid": "420d42a731219b12356434547a67eee1",
         "truth": 0,
         "_deepnote_index_column": 32
        },
        {
         "userid": "e6204582e8bf04a62fbde859631c03c5",
         "truth": 0,
         "_deepnote_index_column": 33
        },
        {
         "userid": "7febf4c0b4c1d6f07be4caeb75e2250c",
         "truth": 0,
         "_deepnote_index_column": 34
        },
        {
         "userid": "eb011ed1867f1d2998060514d0812fe9",
         "truth": 0,
         "_deepnote_index_column": 35
        },
        {
         "userid": "3ceae5710cb0e6131842a3ad9b3ed5de",
         "truth": 0,
         "_deepnote_index_column": 36
        },
        {
         "userid": "dd7364fed881e5ecba9b0d2ec954384b",
         "truth": 0,
         "_deepnote_index_column": 37
        },
        {
         "userid": "ae006f842c3d2bfcd587dc62ae52a9f0",
         "truth": 0,
         "_deepnote_index_column": 38
        },
        {
         "userid": "8dd7929234ef21468bdb8fdbd2d411a1",
         "truth": 0,
         "_deepnote_index_column": 39
        },
        {
         "userid": "8e4e83695f93d385b31a2e50eb595085",
         "truth": 0,
         "_deepnote_index_column": 40
        },
        {
         "userid": "a802b5de3017f496053306f6d8be96b9",
         "truth": 0,
         "_deepnote_index_column": 41
        },
        {
         "userid": "a1033e16a58d5716cd6af3088aafe6fc",
         "truth": 0,
         "_deepnote_index_column": 42
        },
        {
         "userid": "42c8836203a6a63c4fa22ea2178ba921",
         "truth": 0,
         "_deepnote_index_column": 43
        },
        {
         "userid": "94f63650311828db7204124ac0c7e2d9",
         "truth": 0,
         "_deepnote_index_column": 44
        },
        {
         "userid": "26d6b9b7ea67c30f8c6c036b536d1d5c",
         "truth": 0,
         "_deepnote_index_column": 45
        },
        {
         "userid": "8f1c56571cd45149298c92ce5d0bdd01",
         "truth": 0,
         "_deepnote_index_column": 46
        },
        {
         "userid": "bf8e829c0f62af2f3463064247bd958e",
         "truth": 0,
         "_deepnote_index_column": 47
        },
        {
         "userid": "4adb592ec058997b0b2ce078b56693ad",
         "truth": 0,
         "_deepnote_index_column": 48
        },
        {
         "userid": "971739a1bddc1bb5af293780dcbf2fd2",
         "truth": 0,
         "_deepnote_index_column": 49
        },
        {
         "userid": "7e0567224eccdc6df3413468320c3037",
         "truth": 0,
         "_deepnote_index_column": 50
        },
        {
         "userid": "017dda89bbe1c2eac6fa75596b6a80f9",
         "truth": 0,
         "_deepnote_index_column": 51
        },
        {
         "userid": "461a5ba9ae0a8bb122bef9e6874f5359",
         "truth": 0,
         "_deepnote_index_column": 52
        },
        {
         "userid": "9d20fcf917f4a4ab258eecc16c1f22e4",
         "truth": 0,
         "_deepnote_index_column": 53
        },
        {
         "userid": "34e18cf8677b8314d44e5920c7c782c8",
         "truth": 0,
         "_deepnote_index_column": 54
        },
        {
         "userid": "d5b5ec610c61c3ab48c38e554c0b3d5a",
         "truth": 0,
         "_deepnote_index_column": 55
        },
        {
         "userid": "09243489278fefacecb071266d5786d3",
         "truth": 0,
         "_deepnote_index_column": 56
        },
        {
         "userid": "705a2897e2941ab1e325ea80d2db9454",
         "truth": 0,
         "_deepnote_index_column": 57
        },
        {
         "userid": "e630dc1bc8689950756686cf8e98d40e",
         "truth": 0,
         "_deepnote_index_column": 58
        },
        {
         "userid": "6a98247ce61e220044aca984feda1748",
         "truth": 0,
         "_deepnote_index_column": 59
        },
        {
         "userid": "730bf4b2f785c157b463084cd774a550",
         "truth": 0,
         "_deepnote_index_column": 60
        },
        {
         "userid": "46fa926d8095dabf75c2f834f999ce2d",
         "truth": 0,
         "_deepnote_index_column": 61
        },
        {
         "userid": "59cf4b5e71a135390f900eadd47a0602",
         "truth": 0,
         "_deepnote_index_column": 62
        },
        {
         "userid": "307665c82a5b2fd41acff99f81797fa1",
         "truth": 0,
         "_deepnote_index_column": 63
        },
        {
         "userid": "49ad53dd346c5212507b9c477eb53c03",
         "truth": 0,
         "_deepnote_index_column": 64
        },
        {
         "userid": "93a3150a057d6370dd9523893ae6350d",
         "truth": 0,
         "_deepnote_index_column": 65
        },
        {
         "userid": "e631eaccaa8f1834e3637c7235334b0f",
         "truth": 0,
         "_deepnote_index_column": 66
        },
        {
         "userid": "50d64f198ffd8ebae3c807dde67cbfc9",
         "truth": 0,
         "_deepnote_index_column": 67
        },
        {
         "userid": "e6bb7dfe02b95ed3c147e805b766a668",
         "truth": 0,
         "_deepnote_index_column": 68
        },
        {
         "userid": "fc88d965895e24ffd33ff9502dc514dd",
         "truth": 0,
         "_deepnote_index_column": 69
        },
        {
         "userid": "3c475c0d33a358873b88ed845e5e3039",
         "truth": 0,
         "_deepnote_index_column": 70
        },
        {
         "userid": "9b1797f34d009b6386823678a3af779a",
         "truth": 0,
         "_deepnote_index_column": 71
        },
        {
         "userid": "88cf4c881e19ba3a02c4e84521db65cc",
         "truth": 0,
         "_deepnote_index_column": 72
        },
        {
         "userid": "3513fd8fef887f0569151f9ce534acde",
         "truth": 0,
         "_deepnote_index_column": 73
        },
        {
         "userid": "76933bc2ed106b7c9a31019b7552a497",
         "truth": 0,
         "_deepnote_index_column": 74
        },
        {
         "userid": "9feeee31ecafcc67fe5b3ba58f263c25",
         "truth": 0,
         "_deepnote_index_column": 75
        },
        {
         "userid": "d668557dd589b71c9bda2c5ab2640f46",
         "truth": 0,
         "_deepnote_index_column": 76
        },
        {
         "userid": "59d66379e5c9b4a089c7d31e916a4c31",
         "truth": 0,
         "_deepnote_index_column": 77
        },
        {
         "userid": "a8e9707dc9d36def45ff551169c6a08b",
         "truth": 0,
         "_deepnote_index_column": 78
        },
        {
         "userid": "f1340d126e07a1ed062faabd917cbc8e",
         "truth": 0,
         "_deepnote_index_column": 79
        },
        {
         "userid": "0a15953f63e4f4ddd8ba43680b74bcc1",
         "truth": 0,
         "_deepnote_index_column": 80
        },
        {
         "userid": "fcbf05edac41e047fdb8d721065ec41f",
         "truth": 0,
         "_deepnote_index_column": 81
        },
        {
         "userid": "ca3d3b571a4f77d512a95afc96a27a4f",
         "truth": 0,
         "_deepnote_index_column": 82
        },
        {
         "userid": "f3e5358134f444eb81221292b36b8e43",
         "truth": 0,
         "_deepnote_index_column": 83
        },
        {
         "userid": "6939c1bcf2049fc190824a50dfc3dbbd",
         "truth": 0,
         "_deepnote_index_column": 84
        },
        {
         "userid": "0af3ad19d2571df4cbca1948aba1019e",
         "truth": 0,
         "_deepnote_index_column": 85
        },
        {
         "userid": "0035a3060d075506f5b9b978a910aa1f",
         "truth": 0,
         "_deepnote_index_column": 86
        },
        {
         "userid": "f435f5374a2f0e1554863203f33477ba",
         "truth": 0,
         "_deepnote_index_column": 87
        },
        {
         "userid": "f57200aa111b8f2c26ed8d3fed2d7ea3",
         "truth": 0,
         "_deepnote_index_column": 88
        },
        {
         "userid": "0619b86cbc76d49467e11abc75e87577",
         "truth": 0,
         "_deepnote_index_column": 89
        },
        {
         "userid": "bea28ee048c625c025e5955c2c03ecc1",
         "truth": 0,
         "_deepnote_index_column": 90
        },
        {
         "userid": "73f77721bb14a116951e65daa1bc1d4a",
         "truth": 0,
         "_deepnote_index_column": 91
        },
        {
         "userid": "3394b16b88fdf002c2fcaf68e6dde9e3",
         "truth": 0,
         "_deepnote_index_column": 92
        },
        {
         "userid": "4b0b48d4eb6dc35c2ae12f32e8609092",
         "truth": 0,
         "_deepnote_index_column": 93
        },
        {
         "userid": "4c4a40070a6976a7b122e721b492b135",
         "truth": 0,
         "_deepnote_index_column": 94
        },
        {
         "userid": "cf3ca531bb48f1f4aa47460ad925d3d0",
         "truth": 0,
         "_deepnote_index_column": 95
        },
        {
         "userid": "20485577456acd57453192424391aae3",
         "truth": 0,
         "_deepnote_index_column": 96
        },
        {
         "userid": "8defff9045e2b356100be0f13db575d5",
         "truth": 0,
         "_deepnote_index_column": 97
        },
        {
         "userid": "3039d2d4e419113e7e56136719ec8cab",
         "truth": 0,
         "_deepnote_index_column": 98
        },
        {
         "userid": "d81d5b91c4fcd6eacdb3b120d8fc3c51",
         "truth": 0,
         "_deepnote_index_column": 99
        },
        {
         "userid": "0be5629563e9fc50285e87303cd1d69d",
         "truth": 1,
         "_deepnote_index_column": 100
        },
        {
         "userid": "879a18d0695eef3d0bd1d691d1404eb4",
         "truth": 1,
         "_deepnote_index_column": 101
        },
        {
         "userid": "a0e9166d4ec462189d43fbab37c6e1c6",
         "truth": 1,
         "_deepnote_index_column": 102
        },
        {
         "userid": "00c1418fce0e39063eee22ec3e5179ec",
         "truth": 1,
         "_deepnote_index_column": 103
        },
        {
         "userid": "d2b61a2d9c94abe26d43df5ca6d86bd1",
         "truth": 1,
         "_deepnote_index_column": 104
        },
        {
         "userid": "0fab59fda6ff79ea1fea239e07549d58",
         "truth": 1,
         "_deepnote_index_column": 105
        },
        {
         "userid": "e530393548f20c56776bc27ae046e00c",
         "truth": 1,
         "_deepnote_index_column": 106
        },
        {
         "userid": "c67918dd9d3d9f271faf2ddc2622e1ce",
         "truth": 1,
         "_deepnote_index_column": 107
        },
        {
         "userid": "9f22eaf2ebebccca9f6ae4cf5ce4c4ea",
         "truth": 1,
         "_deepnote_index_column": 108
        },
        {
         "userid": "f1e3909ba33e6fa7d1be306a54372683",
         "truth": 1,
         "_deepnote_index_column": 109
        },
        {
         "userid": "941b247a51c8afb4bf29d68fe80a94cc",
         "truth": 1,
         "_deepnote_index_column": 110
        },
        {
         "userid": "2d61e7b93f988b3747bc50a8cea4de88",
         "truth": 1,
         "_deepnote_index_column": 111
        },
        {
         "userid": "2b46328a444365033d4522cf9a0b1a31",
         "truth": 1,
         "_deepnote_index_column": 112
        },
        {
         "userid": "c0a3be27e32c6ad08670e0f2467e0e4d",
         "truth": 1,
         "_deepnote_index_column": 113
        },
        {
         "userid": "c2b7483d4f86610b7230ba2bf090bfbf",
         "truth": 1,
         "_deepnote_index_column": 114
        },
        {
         "userid": "b82c9e4dbedde6c5a29b9bb9fe0e5550",
         "truth": 1,
         "_deepnote_index_column": 115
        },
        {
         "userid": "c48428ff4eb8b80656633d11d517390b",
         "truth": 1,
         "_deepnote_index_column": 116
        },
        {
         "userid": "b748036830a9cdedcc5df90060a00d3e",
         "truth": 1,
         "_deepnote_index_column": 117
        },
        {
         "userid": "47fb97d3f4972fe326ec8f20d0b32004",
         "truth": 1,
         "_deepnote_index_column": 118
        },
        {
         "userid": "e54a7c0617f45cf38ac0bff992a416e9",
         "truth": 1,
         "_deepnote_index_column": 119
        },
        {
         "userid": "4304a614d32b50110dfd1b5ba3b80997",
         "truth": 1,
         "_deepnote_index_column": 120
        },
        {
         "userid": "6291130776b4cab72300d22de8523a1f",
         "truth": 1,
         "_deepnote_index_column": 121
        },
        {
         "userid": "6e3b4f88ca38d04437d315e3ec6e691f",
         "truth": 1,
         "_deepnote_index_column": 122
        },
        {
         "userid": "84d119b97f2021e0aedd3a29befded9e",
         "truth": 1,
         "_deepnote_index_column": 123
        },
        {
         "userid": "52bb592ba4afc50f0d5deb9261067aec",
         "truth": 1,
         "_deepnote_index_column": 124
        },
        {
         "userid": "179e1711b154c1d5dc51113784ad8a6b",
         "truth": 1,
         "_deepnote_index_column": 125
        },
        {
         "userid": "9ba85813abc8a8e5ba071d33a9a619a5",
         "truth": 1,
         "_deepnote_index_column": 126
        },
        {
         "userid": "54633fd7ffbc02a7760ef06bf224f5ef",
         "truth": 1,
         "_deepnote_index_column": 127
        },
        {
         "userid": "409136cf62565da8a3fa385803dad035",
         "truth": 1,
         "_deepnote_index_column": 128
        },
        {
         "userid": "752b6da72c1f974110a617bd120f2f3c",
         "truth": 1,
         "_deepnote_index_column": 129
        },
        {
         "userid": "b1cc79d04a528350ead3b581b2ed0448",
         "truth": 1,
         "_deepnote_index_column": 130
        },
        {
         "userid": "77c1ed6e270c9190449749576d2836e9",
         "truth": 1,
         "_deepnote_index_column": 131
        },
        {
         "userid": "da8d566ba2356bc13a90f7275b53c061",
         "truth": 1,
         "_deepnote_index_column": 132
        },
        {
         "userid": "9de5c8845df952929ab20ff25ded25c3",
         "truth": 1,
         "_deepnote_index_column": 133
        },
        {
         "userid": "25db6e8e1673898d740e7fe89575ee70",
         "truth": 1,
         "_deepnote_index_column": 134
        },
        {
         "userid": "78fc78e23ce6bcb8adff23f1eb536e11",
         "truth": 1,
         "_deepnote_index_column": 135
        },
        {
         "userid": "e171cf0b048f2f96653b6a227cd28c54",
         "truth": 1,
         "_deepnote_index_column": 136
        },
        {
         "userid": "07ae51045380144ff1e887ce150153b6",
         "truth": 1,
         "_deepnote_index_column": 137
        },
        {
         "userid": "fa1a735295b654d2fceeead34dd71d96",
         "truth": 1,
         "_deepnote_index_column": 138
        },
        {
         "userid": "7775117dbeb75838fbb7a21d5bf56eac",
         "truth": 1,
         "_deepnote_index_column": 139
        },
        {
         "userid": "1f06b1ad7d08cab391d4b9d56e31093b",
         "truth": 1,
         "_deepnote_index_column": 140
        },
        {
         "userid": "61b8736bbe890d488f44058b64736228",
         "truth": 1,
         "_deepnote_index_column": 141
        },
        {
         "userid": "b64385c12fad39e73e7018da60161db6",
         "truth": 1,
         "_deepnote_index_column": 142
        },
        {
         "userid": "6c71f6ba9ae43136f4f751b9d291ba52",
         "truth": 1,
         "_deepnote_index_column": 143
        },
        {
         "userid": "974d8bc3ca83ce55823ce084fe58efd6",
         "truth": 1,
         "_deepnote_index_column": 144
        },
        {
         "userid": "0c9577ea74ca95b88bee2a0d546dcc9d",
         "truth": 1,
         "_deepnote_index_column": 145
        },
        {
         "userid": "166d1f039439a259ae50c9692f7b4b71",
         "truth": 1,
         "_deepnote_index_column": 146
        },
        {
         "userid": "51e66727cd5c9093078d39d911a2e902",
         "truth": 1,
         "_deepnote_index_column": 147
        },
        {
         "userid": "f8bb47823624cb93d3ee1faa0361e161",
         "truth": 1,
         "_deepnote_index_column": 148
        },
        {
         "userid": "d2f55b018c8dac971c33c8dcfc6b9b48",
         "truth": 1,
         "_deepnote_index_column": 149
        },
        {
         "userid": "66fb5f0dae58b3cdbb97791149f8b48f",
         "truth": 1,
         "_deepnote_index_column": 150
        },
        {
         "userid": "43a1b25e0fac45a86b5db1214e52fa28",
         "truth": 1,
         "_deepnote_index_column": 151
        },
        {
         "userid": "3141431f380d4bc42565585f89de0d57",
         "truth": 1,
         "_deepnote_index_column": 152
        },
        {
         "userid": "223d8277fe1f9895a83a385010218989",
         "truth": 1,
         "_deepnote_index_column": 153
        },
        {
         "userid": "d0feaf7314acfc9272b75f936e12de3c",
         "truth": 1,
         "_deepnote_index_column": 154
        },
        {
         "userid": "164fab19cb3590ed20557918f2be4cf6",
         "truth": 1,
         "_deepnote_index_column": 155
        },
        {
         "userid": "4346d89d5e4c5ff2bffc76ef1b543457",
         "truth": 1,
         "_deepnote_index_column": 156
        },
        {
         "userid": "d7607709b297012641a46c534790785f",
         "truth": 1,
         "_deepnote_index_column": 157
        },
        {
         "userid": "3f34d6c3ee1b69d617db2b7fd928f5d2",
         "truth": 1,
         "_deepnote_index_column": 158
        },
        {
         "userid": "db113da217a1b5245673e02297b758e5",
         "truth": 1,
         "_deepnote_index_column": 159
        },
        {
         "userid": "f64442357f9cdaacf93d5c29aca6088d",
         "truth": 1,
         "_deepnote_index_column": 160
        },
        {
         "userid": "3688ad73102afe52d9f4276dd6088982",
         "truth": 1,
         "_deepnote_index_column": 161
        },
        {
         "userid": "5c99a0013236d189a18ca6269ea75d10",
         "truth": 1,
         "_deepnote_index_column": 162
        },
        {
         "userid": "33d50f8630b76ae7655951449ee07b6b",
         "truth": 1,
         "_deepnote_index_column": 163
        },
        {
         "userid": "73d27667ca07f3857b495aed5282ec52",
         "truth": 1,
         "_deepnote_index_column": 164
        },
        {
         "userid": "fde1d7437a12068e0e39505af6948f99",
         "truth": 1,
         "_deepnote_index_column": 165
        },
        {
         "userid": "7fa21235e3d68aa94d4eda85115e3f3f",
         "truth": 1,
         "_deepnote_index_column": 166
        },
        {
         "userid": "b39f0bb112eff00b24767b2e0fcb8276",
         "truth": 1,
         "_deepnote_index_column": 167
        },
        {
         "userid": "0cc24f8fbc79eaf6dae74b1d42e365da",
         "truth": 1,
         "_deepnote_index_column": 168
        },
        {
         "userid": "1637f6e0249b47f2e8aa1ea5348fe4c4",
         "truth": 1,
         "_deepnote_index_column": 169
        },
        {
         "userid": "c69cd94c9f17dbeaf285b5bfe960c25d",
         "truth": 1,
         "_deepnote_index_column": 170
        },
        {
         "userid": "275c4b3937afb24a190af1f97f4e35d0",
         "truth": 1,
         "_deepnote_index_column": 171
        },
        {
         "userid": "3e08a019827cd80b6d0756bf96663065",
         "truth": 1,
         "_deepnote_index_column": 172
        },
        {
         "userid": "f06e89ee2aea324cd4bbf938b0f95c07",
         "truth": 1,
         "_deepnote_index_column": 173
        },
        {
         "userid": "5b3d83e869a72cee01128fc5a5970058",
         "truth": 1,
         "_deepnote_index_column": 174
        },
        {
         "userid": "6483bd3397306427d9e47497be2fedf0",
         "truth": 1,
         "_deepnote_index_column": 175
        },
        {
         "userid": "53c21fa5d21bbc926ffcf3ac87d27eac",
         "truth": 1,
         "_deepnote_index_column": 176
        },
        {
         "userid": "06579b519c2932ce09aa356b5f131931",
         "truth": 1,
         "_deepnote_index_column": 177
        },
        {
         "userid": "38b1490646422a7cce90c7d4e4f57658",
         "truth": 1,
         "_deepnote_index_column": 178
        },
        {
         "userid": "3aa4b834fe7b436ed6b11f3c31d34c28",
         "truth": 1,
         "_deepnote_index_column": 179
        },
        {
         "userid": "a0535c6e71eaeccc46c55eec2033c422",
         "truth": 1,
         "_deepnote_index_column": 180
        },
        {
         "userid": "33902a860918dd1b1ba9eaac62fd1e36",
         "truth": 1,
         "_deepnote_index_column": 181
        },
        {
         "userid": "337a3cbd935dcb200d397ba9ed8cbc2e",
         "truth": 1,
         "_deepnote_index_column": 182
        },
        {
         "userid": "9cdb7e11bec43dfda9091398bd9383b3",
         "truth": 1,
         "_deepnote_index_column": 183
        },
        {
         "userid": "6086bf45951e0b2f8501be9bc5121571",
         "truth": 1,
         "_deepnote_index_column": 184
        },
        {
         "userid": "52b6bbc517555761a04f80736adf3686",
         "truth": 1,
         "_deepnote_index_column": 185
        },
        {
         "userid": "4d928f8cab5ac168dc4ae0acf866f27e",
         "truth": 1,
         "_deepnote_index_column": 186
        },
        {
         "userid": "06892db25ad97ed54f63b3da81d03f51",
         "truth": 1,
         "_deepnote_index_column": 187
        },
        {
         "userid": "1bd8a56c0fed859219f7938487493e71",
         "truth": 1,
         "_deepnote_index_column": 188
        },
        {
         "userid": "9151a34f406a463711a1f5e61e80a219",
         "truth": 1,
         "_deepnote_index_column": 189
        },
        {
         "userid": "cbe629e3ff825964b16cef777492009d",
         "truth": 1,
         "_deepnote_index_column": 190
        },
        {
         "userid": "7fac4b2a0357eb17c50e8ff47b1b124a",
         "truth": 1,
         "_deepnote_index_column": 191
        },
        {
         "userid": "6d23c69b60b3c0dddf9f66875c0dce83",
         "truth": 1,
         "_deepnote_index_column": 192
        },
        {
         "userid": "40cc6540f20f2c777bf8dc8dadb9d285",
         "truth": 1,
         "_deepnote_index_column": 193
        },
        {
         "userid": "868685f77c0016f020a8c9304fd8d8ca",
         "truth": 1,
         "_deepnote_index_column": 194
        },
        {
         "userid": "f6e5aa0680067099eb98284c829b5e7d",
         "truth": 1,
         "_deepnote_index_column": 195
        },
        {
         "userid": "907d003e96df671789a5d3e87ae5f577",
         "truth": 1,
         "_deepnote_index_column": 196
        },
        {
         "userid": "a61fa7fce7da9661e9d927b78336e378",
         "truth": 1,
         "_deepnote_index_column": 197
        },
        {
         "userid": "5a941b52200e91c095064b9cc63a573a",
         "truth": 1,
         "_deepnote_index_column": 198
        },
        {
         "userid": "76615cdd3bb3cf263336b45b3d829828",
         "truth": 1,
         "_deepnote_index_column": 199
        },
        {
         "userid": "639b8e5e6a527d494c85d8f5704b1a01",
         "truth": 0,
         "_deepnote_index_column": 200
        },
        {
         "userid": "f2b1fc84c500c38a93522efbd422b559",
         "truth": 0,
         "_deepnote_index_column": 201
        },
        {
         "userid": "10b2d013382e1fb3c9414ea28329f258",
         "truth": 0,
         "_deepnote_index_column": 202
        },
        {
         "userid": "26644d1348fc1122e8c5ef45d6bc84fa",
         "truth": 0,
         "_deepnote_index_column": 203
        },
        {
         "userid": "4d4c5dcbfe38d0d33a0d1b1419952ca8",
         "truth": 0,
         "_deepnote_index_column": 204
        },
        {
         "userid": "86a7f84c2dd126dac46270b6c912952c",
         "truth": 0,
         "_deepnote_index_column": 205
        },
        {
         "userid": "88d8ac4ae2d91e681ee8a8d3b60fd911",
         "truth": 0,
         "_deepnote_index_column": 206
        },
        {
         "userid": "2a9776a2909ba5e27043faf2d57ba410",
         "truth": 0,
         "_deepnote_index_column": 207
        },
        {
         "userid": "fdb47a3f65091b9a5b989e1722c9fac4",
         "truth": 0,
         "_deepnote_index_column": 208
        },
        {
         "userid": "5625ca3bc44c89d763221b663f7c0987",
         "truth": 0,
         "_deepnote_index_column": 209
        },
        {
         "userid": "9d08913250938aadcf6c18d0c89a0d14",
         "truth": 0,
         "_deepnote_index_column": 210
        },
        {
         "userid": "5027d4e88fc5179e027a12872dfe6835",
         "truth": 0,
         "_deepnote_index_column": 211
        },
        {
         "userid": "e30577895cbb4d8f073e4dbb2f3be6d1",
         "truth": 0,
         "_deepnote_index_column": 212
        },
        {
         "userid": "06893abba0bb8f94fed7562350233ed7",
         "truth": 0,
         "_deepnote_index_column": 213
        },
        {
         "userid": "6fd5e2e31d6c2b2eb4b5dc07280636a7",
         "truth": 0,
         "_deepnote_index_column": 214
        },
        {
         "userid": "8b525999b04b19255b32365e49b281ac",
         "truth": 0,
         "_deepnote_index_column": 215
        },
        {
         "userid": "58584745632b5367da1c7a9af746222b",
         "truth": 0,
         "_deepnote_index_column": 216
        },
        {
         "userid": "9d58d6313bfb2fba9e1e45bb9d65cf0b",
         "truth": 0,
         "_deepnote_index_column": 217
        },
        {
         "userid": "e6e216a24993a72629629da7c182c3af",
         "truth": 0,
         "_deepnote_index_column": 218
        },
        {
         "userid": "94b5cb02328011bbecaf78d79d2c1ff5",
         "truth": 0,
         "_deepnote_index_column": 219
        },
        {
         "userid": "6d3988b400f07e05521f71b0ee8111e6",
         "truth": 0,
         "_deepnote_index_column": 220
        },
        {
         "userid": "78b27238932fc8e666c5bf84681b460e",
         "truth": 0,
         "_deepnote_index_column": 221
        },
        {
         "userid": "54f81e27af90ed7c1c9409c332f0ca37",
         "truth": 0,
         "_deepnote_index_column": 222
        },
        {
         "userid": "1785358a4976f921226d1a7604c57737",
         "truth": 0,
         "_deepnote_index_column": 223
        },
        {
         "userid": "a8e2397021acef98cc32729cbda96910",
         "truth": 0,
         "_deepnote_index_column": 224
        },
        {
         "userid": "efd470e6959c076c9c0456b33509e8bd",
         "truth": 0,
         "_deepnote_index_column": 225
        },
        {
         "userid": "27e3e134eb8a0069e220bc201cda8eb9",
         "truth": 0,
         "_deepnote_index_column": 226
        },
        {
         "userid": "7c18d72ba1eb9c787f166df788e1b521",
         "truth": 0,
         "_deepnote_index_column": 227
        },
        {
         "userid": "e46a97a03fd592113aa233d1637ed0fd",
         "truth": 0,
         "_deepnote_index_column": 228
        },
        {
         "userid": "d2e0f4f0244b9b8b3bbd8b1654be5b74",
         "truth": 0,
         "_deepnote_index_column": 229
        },
        {
         "userid": "7f269488a6576c9dc21085c1e2854142",
         "truth": 0,
         "_deepnote_index_column": 230
        },
        {
         "userid": "4ae4ddc8cb2774c92398e3102c3da5b2",
         "truth": 0,
         "_deepnote_index_column": 231
        },
        {
         "userid": "76e152a7732922e7a6da39880486107f",
         "truth": 0,
         "_deepnote_index_column": 232
        },
        {
         "userid": "5b50fcecc61c850e961ff307bdce67a0",
         "truth": 0,
         "_deepnote_index_column": 233
        },
        {
         "userid": "34e9918b10fe1fdd757855b62abc0efc",
         "truth": 0,
         "_deepnote_index_column": 234
        },
        {
         "userid": "4253c341c1069eded30b6efd2df89ddc",
         "truth": 0,
         "_deepnote_index_column": 235
        },
        {
         "userid": "95ccf1511784da6b392971bc1efbca19",
         "truth": 0,
         "_deepnote_index_column": 236
        },
        {
         "userid": "9cff4936f8479d53fcbb63f2524c5ad8",
         "truth": 0,
         "_deepnote_index_column": 237
        },
        {
         "userid": "da28bc4cb0849abd43cc116509b3485c",
         "truth": 0,
         "_deepnote_index_column": 238
        },
        {
         "userid": "b5fc924814e26ca9e4f64c42c3f6dd90",
         "truth": 0,
         "_deepnote_index_column": 239
        },
        {
         "userid": "aa917a8c5a4420b024274672667c7dc1",
         "truth": 0,
         "_deepnote_index_column": 240
        },
        {
         "userid": "365eb1e3abc5cd5394fec8fc162bfbc5",
         "truth": 0,
         "_deepnote_index_column": 241
        },
        {
         "userid": "8e5a604d6328d4b15d119b9601f5d3c2",
         "truth": 0,
         "_deepnote_index_column": 242
        },
        {
         "userid": "98b4a082eba0660ee1360aac24f162ef",
         "truth": 0,
         "_deepnote_index_column": 243
        },
        {
         "userid": "47af667ddc145dd68323c9bef1408e0d",
         "truth": 0,
         "_deepnote_index_column": 244
        },
        {
         "userid": "99cb2cd23f7cf613d394502d17dedad0",
         "truth": 0,
         "_deepnote_index_column": 245
        },
        {
         "userid": "98c59ff3e2cfc56b96ee3c49b3d46296",
         "truth": 0,
         "_deepnote_index_column": 246
        },
        {
         "userid": "4a1baf66990e0e540effd01f4b105f44",
         "truth": 0,
         "_deepnote_index_column": 247
        },
        {
         "userid": "3b2d9429387f770b388edbefd881fc38",
         "truth": 0,
         "_deepnote_index_column": 248
        },
        {
         "userid": "3770a07b212c1096c26e5a1f1556fbd1",
         "truth": 0,
         "_deepnote_index_column": 249
        },
        {
         "userid": "3de62c6202ee8e06c74c3a6d4833e068",
         "truth": 0,
         "_deepnote_index_column": 250
        },
        {
         "userid": "1005765475f523b3436d795b2e229174",
         "truth": 0,
         "_deepnote_index_column": 251
        },
        {
         "userid": "a887ec85088a87e550015e2770a6e309",
         "truth": 0,
         "_deepnote_index_column": 252
        },
        {
         "userid": "d9a3d6cfc4e58f3ea9e9e5959d0d0324",
         "truth": 0,
         "_deepnote_index_column": 253
        },
        {
         "userid": "4f496db1408c402eb21d29e536667205",
         "truth": 0,
         "_deepnote_index_column": 254
        },
        {
         "userid": "b4030e7f9f049a602defab723599fdeb",
         "truth": 0,
         "_deepnote_index_column": 255
        },
        {
         "userid": "d76b28431fa2c177afab54c4eeeb3eca",
         "truth": 0,
         "_deepnote_index_column": 256
        },
        {
         "userid": "0e86e9b6ba971cbc5a117c4af6fad9a2",
         "truth": 0,
         "_deepnote_index_column": 257
        },
        {
         "userid": "3df768933d03108ea4c6583d49c85c46",
         "truth": 0,
         "_deepnote_index_column": 258
        },
        {
         "userid": "192146b688c17b6b475dbe4235aa0a59",
         "truth": 0,
         "_deepnote_index_column": 259
        },
        {
         "userid": "d81a16601a13f675b49c986c3e6cb974",
         "truth": 0,
         "_deepnote_index_column": 260
        },
        {
         "userid": "135cc1b889864768b5c755eb6210d358",
         "truth": 0,
         "_deepnote_index_column": 261
        },
        {
         "userid": "30be488aa93e8000aadb952a9cd5143c",
         "truth": 0,
         "_deepnote_index_column": 262
        },
        {
         "userid": "f207e0510b20e6cb0e4485a9f9be7eb9",
         "truth": 0,
         "_deepnote_index_column": 263
        },
        {
         "userid": "258ba7b57bc38e4987f9f3cf23700ece",
         "truth": 0,
         "_deepnote_index_column": 264
        },
        {
         "userid": "ed940505af044f823b90d44d5ebad88e",
         "truth": 0,
         "_deepnote_index_column": 265
        },
        {
         "userid": "1df25475b1cb684b7937bd49afb79fc0",
         "truth": 0,
         "_deepnote_index_column": 266
        },
        {
         "userid": "f11ca441819610286438d812af4e5e52",
         "truth": 0,
         "_deepnote_index_column": 267
        },
        {
         "userid": "e8b833650d2e91d234d621f4dd0c1031",
         "truth": 0,
         "_deepnote_index_column": 268
        },
        {
         "userid": "fdef657f264ca50bc7b21574b24f82ab",
         "truth": 0,
         "_deepnote_index_column": 269
        },
        {
         "userid": "e4c296ef32aaf5ca9f293fa3a62a3694",
         "truth": 0,
         "_deepnote_index_column": 270
        },
        {
         "userid": "748c4b31797d62bcce99de35a681b484",
         "truth": 0,
         "_deepnote_index_column": 271
        },
        {
         "userid": "b8924a54bb6043c56969e20a328b76b3",
         "truth": 0,
         "_deepnote_index_column": 272
        },
        {
         "userid": "6fe4ed1ee7f13da10a62d3cd1a6cba07",
         "truth": 0,
         "_deepnote_index_column": 273
        },
        {
         "userid": "feab35da86bf5f84085fb670cb2866e4",
         "truth": 0,
         "_deepnote_index_column": 274
        },
        {
         "userid": "d0c3083a5ff95c520df956229dbd4423",
         "truth": 0,
         "_deepnote_index_column": 275
        },
        {
         "userid": "aa14b4634d37596c9ed9827f077194b9",
         "truth": 0,
         "_deepnote_index_column": 276
        },
        {
         "userid": "9618c0b40aab7e9be3297e333a6270b5",
         "truth": 0,
         "_deepnote_index_column": 277
        },
        {
         "userid": "f30abea44b6c4144c0690f98459428a6",
         "truth": 0,
         "_deepnote_index_column": 278
        },
        {
         "userid": "1e1e4967d09dd4928b2be2a3845cf604",
         "truth": 0,
         "_deepnote_index_column": 279
        },
        {
         "userid": "67292c0455e9f73c6c9531e53db14e70",
         "truth": 0,
         "_deepnote_index_column": 280
        },
        {
         "userid": "1a91d52030d1a433d35055fbeb6bdf3b",
         "truth": 0,
         "_deepnote_index_column": 281
        },
        {
         "userid": "45bb70e3f298f2c62d683e3971481552",
         "truth": 0,
         "_deepnote_index_column": 282
        },
        {
         "userid": "4ab73bdea1111e16bf6ef8b34e3f121b",
         "truth": 0,
         "_deepnote_index_column": 283
        },
        {
         "userid": "43641af5b9182e88190638f972eb97eb",
         "truth": 0,
         "_deepnote_index_column": 284
        },
        {
         "userid": "6711ef348ffcb3e45d2957396a4c8026",
         "truth": 0,
         "_deepnote_index_column": 285
        },
        {
         "userid": "562b522eacbcf4484566f658aed140aa",
         "truth": 0,
         "_deepnote_index_column": 286
        },
        {
         "userid": "f5f036b8acf96cd1273e7c08a1350adc",
         "truth": 0,
         "_deepnote_index_column": 287
        },
        {
         "userid": "b5c35f78bd8c275b97532cd63ccd6ad8",
         "truth": 0,
         "_deepnote_index_column": 288
        },
        {
         "userid": "41eff6afb1ced61ab38e4d86d56825e0",
         "truth": 0,
         "_deepnote_index_column": 289
        },
        {
         "userid": "e5f932198bf18fe7a51d131fceb81707",
         "truth": 0,
         "_deepnote_index_column": 290
        },
        {
         "userid": "d15ec49115f2e8febee7fda9d1893fa4",
         "truth": 0,
         "_deepnote_index_column": 291
        },
        {
         "userid": "4cbee4f8451fb69d309b7a6ccf7709f9",
         "truth": 0,
         "_deepnote_index_column": 292
        },
        {
         "userid": "f3eecd0eedab3b77558d93b1b92579a4",
         "truth": 0,
         "_deepnote_index_column": 293
        },
        {
         "userid": "4643c543b666aedb6157ae37e92ccc75",
         "truth": 0,
         "_deepnote_index_column": 294
        },
        {
         "userid": "b496caf332cb0ba97d2acefc44f153ac",
         "truth": 0,
         "_deepnote_index_column": 295
        },
        {
         "userid": "cdd7c2ee215205a4859a83c676750d05",
         "truth": 0,
         "_deepnote_index_column": 296
        },
        {
         "userid": "450d7d3b3873914d5ebf3fe4782d20bd",
         "truth": 0,
         "_deepnote_index_column": 297
        },
        {
         "userid": "bd0d6b9c924fdc0eb8274bbe7b7a6e2c",
         "truth": 0,
         "_deepnote_index_column": 298
        },
        {
         "userid": "91aef160991f1aec1b61550d6cd71abb",
         "truth": 0,
         "_deepnote_index_column": 299
        },
        {
         "userid": "f3124b62d50000cafbee9ce81f7c9e6d",
         "truth": 1,
         "_deepnote_index_column": 300
        },
        {
         "userid": "cc42228c1ba6c289b56acb78eccb0e7e",
         "truth": 1,
         "_deepnote_index_column": 301
        },
        {
         "userid": "043e2766cc6d22ae4e447ca5f2885a2a",
         "truth": 1,
         "_deepnote_index_column": 302
        },
        {
         "userid": "77822fc7312f39c95643c383702d9546",
         "truth": 1,
         "_deepnote_index_column": 303
        },
        {
         "userid": "b9a46d0b178f190985de7145d5854810",
         "truth": 1,
         "_deepnote_index_column": 304
        },
        {
         "userid": "241be75a5da1d1c6533cfde9657e829c",
         "truth": 1,
         "_deepnote_index_column": 305
        },
        {
         "userid": "bb824be390d6e87696fb803bbee77833",
         "truth": 1,
         "_deepnote_index_column": 306
        },
        {
         "userid": "6f14063ff747e2b6ed0d6b2faf3122e3",
         "truth": 1,
         "_deepnote_index_column": 307
        },
        {
         "userid": "a37a032f4a0c42bc3ba3663db6907bfb",
         "truth": 1,
         "_deepnote_index_column": 308
        },
        {
         "userid": "aba7a9ab2d9d07953cabcaf6793be635",
         "truth": 1,
         "_deepnote_index_column": 309
        },
        {
         "userid": "1b10072ed58f20f27d8fe35580ad26d4",
         "truth": 1,
         "_deepnote_index_column": 310
        },
        {
         "userid": "f91fa8ecdd2440eb163516769573f24a",
         "truth": 1,
         "_deepnote_index_column": 311
        },
        {
         "userid": "97649196de83fa52ecb9312beb7e50e9",
         "truth": 1,
         "_deepnote_index_column": 312
        },
        {
         "userid": "e07fa74c2ce94aaf2bc43b0b313d02da",
         "truth": 1,
         "_deepnote_index_column": 313
        },
        {
         "userid": "63a133c55e234d7ccb1f4ce9ded79f91",
         "truth": 1,
         "_deepnote_index_column": 314
        },
        {
         "userid": "56498bda31b85f3ed955dfb8ab47a909",
         "truth": 1,
         "_deepnote_index_column": 315
        },
        {
         "userid": "6ea97aacfeaa4684acc0fcbc30e998d6",
         "truth": 1,
         "_deepnote_index_column": 316
        },
        {
         "userid": "c50505ec1514ce8b7ed8e9bc92eb43b1",
         "truth": 1,
         "_deepnote_index_column": 317
        },
        {
         "userid": "5b5c08b665052e695064f2f2b04bdea7",
         "truth": 1,
         "_deepnote_index_column": 318
        },
        {
         "userid": "79e31985e8676475dddead19f3deaee6",
         "truth": 1,
         "_deepnote_index_column": 319
        },
        {
         "userid": "f6ccc99dd7a54cb2d692f4aa3049efc1",
         "truth": 1,
         "_deepnote_index_column": 320
        },
        {
         "userid": "2c38fc584f7566f7010d220c102d6b56",
         "truth": 1,
         "_deepnote_index_column": 321
        },
        {
         "userid": "0a6700c6023c6249bcc5820e2f5ee0de",
         "truth": 1,
         "_deepnote_index_column": 322
        },
        {
         "userid": "2e1bdf04f415dd3bf3ffcd950ad1c541",
         "truth": 1,
         "_deepnote_index_column": 323
        },
        {
         "userid": "b7f4ead8c975203082dcea622621d2c3",
         "truth": 1,
         "_deepnote_index_column": 324
        },
        {
         "userid": "c343cb70d741dc3ee88d26d0fc04be60",
         "truth": 1,
         "_deepnote_index_column": 325
        },
        {
         "userid": "a63fc743cd9e06a05bb6cc6fb2a577fa",
         "truth": 1,
         "_deepnote_index_column": 326
        },
        {
         "userid": "e8a408c9e9859d68a499324449b80c65",
         "truth": 1,
         "_deepnote_index_column": 327
        },
        {
         "userid": "6b6eb2370271fbf26dcc73195218edcb",
         "truth": 1,
         "_deepnote_index_column": 328
        },
        {
         "userid": "b34dcc081342bfadb3a82039d4e4eede",
         "truth": 1,
         "_deepnote_index_column": 329
        },
        {
         "userid": "f6f5aedf8282f8f7c00a7d7dc8df2232",
         "truth": 1,
         "_deepnote_index_column": 330
        },
        {
         "userid": "2f3e55e23c53a4572fe496d34109070a",
         "truth": 1,
         "_deepnote_index_column": 331
        },
        {
         "userid": "89866dca3febf2d6b97c796250528a8d",
         "truth": 1,
         "_deepnote_index_column": 332
        },
        {
         "userid": "b0010dd785bc4109ce40b94126a2811b",
         "truth": 1,
         "_deepnote_index_column": 333
        },
        {
         "userid": "5c8c5dde745f6b4d478f6fb619b24b95",
         "truth": 1,
         "_deepnote_index_column": 334
        },
        {
         "userid": "5d4a0908d433733c14c38261fc4f4250",
         "truth": 1,
         "_deepnote_index_column": 335
        },
        {
         "userid": "342a27905d2291b55486c257d77265b4",
         "truth": 1,
         "_deepnote_index_column": 336
        },
        {
         "userid": "5002d161db83e49e179af61703bccfc8",
         "truth": 1,
         "_deepnote_index_column": 337
        },
        {
         "userid": "b9174ee0c8db418fdcfae6e5aa55f71f",
         "truth": 1,
         "_deepnote_index_column": 338
        },
        {
         "userid": "69dd2e9ef1897355337376a7d574e882",
         "truth": 1,
         "_deepnote_index_column": 339
        },
        {
         "userid": "e30b87c8fa34a1ac077d7b286000bc06",
         "truth": 1,
         "_deepnote_index_column": 340
        },
        {
         "userid": "46df8a13b82d12b2d5f453cc63612298",
         "truth": 1,
         "_deepnote_index_column": 341
        },
        {
         "userid": "83509a9da9ef01b1255d826abd587a93",
         "truth": 1,
         "_deepnote_index_column": 342
        },
        {
         "userid": "5a9bd66e0c4b8f2ab3f495f1e0416218",
         "truth": 1,
         "_deepnote_index_column": 343
        },
        {
         "userid": "d2a222ef792ca0667f2af63dcd1baf34",
         "truth": 1,
         "_deepnote_index_column": 344
        },
        {
         "userid": "62a6b5a0c5f53790c114639c7ec0a3ab",
         "truth": 1,
         "_deepnote_index_column": 345
        },
        {
         "userid": "f6b4231dfadff637ebee124079bdce3e",
         "truth": 1,
         "_deepnote_index_column": 346
        },
        {
         "userid": "cc40716d2f9ca1b14b8ac542a5ac8eef",
         "truth": 1,
         "_deepnote_index_column": 347
        },
        {
         "userid": "e9f06b27f1108050bd27937cbacb1d5e",
         "truth": 1,
         "_deepnote_index_column": 348
        },
        {
         "userid": "0d02a3f644c9313315ecc6655ccfa3b9",
         "truth": 1,
         "_deepnote_index_column": 349
        },
        {
         "userid": "a41db55c14ec3878c055eb1ece4e5866",
         "truth": 1,
         "_deepnote_index_column": 350
        },
        {
         "userid": "4bde12da41b2ded3de456ce8f334039c",
         "truth": 1,
         "_deepnote_index_column": 351
        },
        {
         "userid": "ca1c941118dcde7855423d0101a637c6",
         "truth": 1,
         "_deepnote_index_column": 352
        },
        {
         "userid": "d28b60028cf7bcf8a9f145193e261ecf",
         "truth": 1,
         "_deepnote_index_column": 353
        },
        {
         "userid": "cb7b2b7612c3d7ca299387a47393f7e9",
         "truth": 1,
         "_deepnote_index_column": 354
        },
        {
         "userid": "3ee86d6c74ee383b280993044a70f3e5",
         "truth": 1,
         "_deepnote_index_column": 355
        },
        {
         "userid": "74234d3105c22f51e4ad3d133f5eb8ba",
         "truth": 1,
         "_deepnote_index_column": 356
        },
        {
         "userid": "c8006e782052410e43cdcdda668d11c4",
         "truth": 1,
         "_deepnote_index_column": 357
        },
        {
         "userid": "e1f66f003824f12344cf1ace242adf0e",
         "truth": 1,
         "_deepnote_index_column": 358
        },
        {
         "userid": "afe04507770754d25fcdaa901841d440",
         "truth": 1,
         "_deepnote_index_column": 359
        },
        {
         "userid": "f8c996ef2325dddab520230237fdfa80",
         "truth": 1,
         "_deepnote_index_column": 360
        },
        {
         "userid": "46dc7954a1dae6630bef96513f4684ec",
         "truth": 1,
         "_deepnote_index_column": 361
        },
        {
         "userid": "d47a4b83cd692b1c0c5e8444bf1bc2a5",
         "truth": 1,
         "_deepnote_index_column": 362
        },
        {
         "userid": "8b7608a503048538181399629fe67913",
         "truth": 1,
         "_deepnote_index_column": 363
        },
        {
         "userid": "b67d6746fefbe67981ca8454faa82988",
         "truth": 1,
         "_deepnote_index_column": 364
        },
        {
         "userid": "e886cf9468db977abd24c7a068234609",
         "truth": 1,
         "_deepnote_index_column": 365
        },
        {
         "userid": "78537787441ed0d11da43122f9b0520a",
         "truth": 1,
         "_deepnote_index_column": 366
        },
        {
         "userid": "fdb9f16899e3097e6db1f6a13d3572f8",
         "truth": 1,
         "_deepnote_index_column": 367
        },
        {
         "userid": "e7eac8cda5ce98bd3443c68006d8b9a7",
         "truth": 1,
         "_deepnote_index_column": 368
        },
        {
         "userid": "9e3b14eef764e6c0a2cd488a5ab2e2be",
         "truth": 1,
         "_deepnote_index_column": 369
        },
        {
         "userid": "16252bfc43f2facd313ce084d412b592",
         "truth": 1,
         "_deepnote_index_column": 370
        },
        {
         "userid": "1cb7af9f85f4cb41b33d105334173862",
         "truth": 1,
         "_deepnote_index_column": 371
        },
        {
         "userid": "f00627537c48b43bf2045b98b3508d94",
         "truth": 1,
         "_deepnote_index_column": 372
        },
        {
         "userid": "f902c0eaa0ff3818f6c22ebfae52ab43",
         "truth": 1,
         "_deepnote_index_column": 373
        },
        {
         "userid": "501a0adf8d2f2a8454d6273179d035c1",
         "truth": 1,
         "_deepnote_index_column": 374
        },
        {
         "userid": "ad7eaa2c1d5daa1aa71719be4357c428",
         "truth": 1,
         "_deepnote_index_column": 375
        },
        {
         "userid": "6f964e5458b4879513ebd14784180798",
         "truth": 1,
         "_deepnote_index_column": 376
        },
        {
         "userid": "bbd46b0659de5a173339aaebac2523fa",
         "truth": 1,
         "_deepnote_index_column": 377
        },
        {
         "userid": "84e5913dcdef5eba6bf97669fe47fa4e",
         "truth": 1,
         "_deepnote_index_column": 378
        },
        {
         "userid": "1e1b776e17efbdd65e93ce1d350e9d21",
         "truth": 1,
         "_deepnote_index_column": 379
        },
        {
         "userid": "44e25d1ec3f786a696e0eb5b33b8325b",
         "truth": 1,
         "_deepnote_index_column": 380
        },
        {
         "userid": "f8bce0042a6c8fcfdb585a052e998afb",
         "truth": 1,
         "_deepnote_index_column": 381
        },
        {
         "userid": "5e47f30caa62ab081b1a2dcb8d3caf30",
         "truth": 1,
         "_deepnote_index_column": 382
        },
        {
         "userid": "f63c22363b3db5f3d76db1f2417adb39",
         "truth": 1,
         "_deepnote_index_column": 383
        },
        {
         "userid": "c129b2cf075e1872a86ce8f7473819af",
         "truth": 1,
         "_deepnote_index_column": 384
        },
        {
         "userid": "0f1974d237ad2265fa0eb09193fa42f4",
         "truth": 1,
         "_deepnote_index_column": 385
        },
        {
         "userid": "6775fc8b35f0b4362f246bbc8348ee6e",
         "truth": 1,
         "_deepnote_index_column": 386
        },
        {
         "userid": "6f7077fae955df369bbc5f7673632dcd",
         "truth": 1,
         "_deepnote_index_column": 387
        },
        {
         "userid": "0a3ce42bea89e2a92a28f685735e605e",
         "truth": 1,
         "_deepnote_index_column": 388
        },
        {
         "userid": "98e4c6520892b0218ab13ca7369785be",
         "truth": 1,
         "_deepnote_index_column": 389
        },
        {
         "userid": "db83cb088416759db148c17b256a9652",
         "truth": 1,
         "_deepnote_index_column": 390
        },
        {
         "userid": "e5cc453c1de4371b8d668c3ab50126f1",
         "truth": 1,
         "_deepnote_index_column": 391
        },
        {
         "userid": "cecc9d84dbc069af5579b55577d0e83e",
         "truth": 1,
         "_deepnote_index_column": 392
        },
        {
         "userid": "65042b6a94addf20c6fafd782c5d4347",
         "truth": 1,
         "_deepnote_index_column": 393
        },
        {
         "userid": "b264ae3f49a660c4dbd63d654175471b",
         "truth": 1,
         "_deepnote_index_column": 394
        },
        {
         "userid": "833ffc26e9f1a81265e3e97513cefb86",
         "truth": 1,
         "_deepnote_index_column": 395
        },
        {
         "userid": "dead14502e55f545546f666ab6d91558",
         "truth": 1,
         "_deepnote_index_column": 396
        },
        {
         "userid": "e608b622e6a3085290fc279b55fa821c",
         "truth": 1,
         "_deepnote_index_column": 397
        },
        {
         "userid": "a7d4e6f2aa8543a448b5a07feab9fc49",
         "truth": 1,
         "_deepnote_index_column": 398
        },
        {
         "userid": "41501686277ace6b5fd7dcfe9284fe1d",
         "truth": 1,
         "_deepnote_index_column": 399
        }
       ],
       "rows_bottom": null
      },
      "text/plain": "                               userid  truth\n0    1a698d93874644625d83a76b206c7aa3      0\n1    b7200193802bde3769f4daa371b5305b      0\n2    7ffb758291340303c2162fcee25e2780      0\n3    e309e9e2516824370310661c919dd5d8      0\n4    b523abc590889dfaf69a1c8470ef314d      0\n..                                ...    ...\n395  833ffc26e9f1a81265e3e97513cefb86      1\n396  dead14502e55f545546f666ab6d91558      1\n397  e608b622e6a3085290fc279b55fa821c      1\n398  a7d4e6f2aa8543a448b5a07feab9fc49      1\n399  41501686277ace6b5fd7dcfe9284fe1d      1\n\n[400 rows x 2 columns]",
      "text/html": "<div>\n<style scoped>\n    .dataframe tbody tr th:only-of-type {\n        vertical-align: middle;\n    }\n\n    .dataframe tbody tr th {\n        vertical-align: top;\n    }\n\n    .dataframe thead th {\n        text-align: right;\n    }\n</style>\n<table border=\"1\" class=\"dataframe\">\n  <thead>\n    <tr style=\"text-align: right;\">\n      <th></th>\n      <th>userid</th>\n      <th>truth</th>\n    </tr>\n  </thead>\n  <tbody>\n    <tr>\n      <th>0</th>\n      <td>1a698d93874644625d83a76b206c7aa3</td>\n      <td>0</td>\n    </tr>\n    <tr>\n      <th>1</th>\n      <td>b7200193802bde3769f4daa371b5305b</td>\n      <td>0</td>\n    </tr>\n    <tr>\n      <th>2</th>\n      <td>7ffb758291340303c2162fcee25e2780</td>\n      <td>0</td>\n    </tr>\n    <tr>\n      <th>3</th>\n      <td>e309e9e2516824370310661c919dd5d8</td>\n      <td>0</td>\n    </tr>\n    <tr>\n      <th>4</th>\n      <td>b523abc590889dfaf69a1c8470ef314d</td>\n      <td>0</td>\n    </tr>\n    <tr>\n      <th>...</th>\n      <td>...</td>\n      <td>...</td>\n    </tr>\n    <tr>\n      <th>395</th>\n      <td>833ffc26e9f1a81265e3e97513cefb86</td>\n      <td>1</td>\n    </tr>\n    <tr>\n      <th>396</th>\n      <td>dead14502e55f545546f666ab6d91558</td>\n      <td>1</td>\n    </tr>\n    <tr>\n      <th>397</th>\n      <td>e608b622e6a3085290fc279b55fa821c</td>\n      <td>1</td>\n    </tr>\n    <tr>\n      <th>398</th>\n      <td>a7d4e6f2aa8543a448b5a07feab9fc49</td>\n      <td>1</td>\n    </tr>\n    <tr>\n      <th>399</th>\n      <td>41501686277ace6b5fd7dcfe9284fe1d</td>\n      <td>1</td>\n    </tr>\n  </tbody>\n</table>\n<p>400 rows × 2 columns</p>\n</div>"
     },
     "metadata": {}
    }
   ],
   "execution_count": 18
  },
  {
   "cell_type": "markdown",
   "source": "So we're having actually:\n* 2 languages (Spanish, English)\n* 200 authors per language\n* 200 tweets per author\n\nWhich equals:\n* 400 authors total\n* 80000 tweets total\n* 400 binary labels",
   "metadata": {
    "tags": [],
    "cell_id": "00042-770d9af1-83cf-4c0d-8e15-2d4f6c371fab",
    "deepnote_cell_type": "markdown"
   }
  },
  {
   "cell_type": "markdown",
   "source": "## Class balance",
   "metadata": {
    "tags": [],
    "is_collapsed": false,
    "cell_id": "00043-76219458-1f90-47ac-b83e-3fb6e255f00c",
    "deepnote_cell_type": "text-cell-h2"
   }
  },
  {
   "cell_type": "markdown",
   "source": "We have fairly balanced classes:",
   "metadata": {
    "tags": [],
    "cell_id": "00044-fc866a8e-ff7e-4938-8da7-e01fd6ccca8d",
    "deepnote_cell_type": "markdown"
   }
  },
  {
   "cell_type": "code",
   "metadata": {
    "tags": [],
    "deepnote_to_be_reexecuted": false,
    "source_hash": "1f6de27f",
    "execution_start": 1637778129490,
    "execution_millis": 198,
    "deepnote_output_heights": [
     388.984375
    ],
    "cell_id": "00045-585ab9e3-f369-4dfc-9a1c-58cdfbf4badc",
    "deepnote_cell_type": "code"
   },
   "source": "fig, ax = plt.subplots(figsize=(5,6))\n\nax = sns.countplot(x=\"truth\", data=truth)\nax.set_title(\"Class Balance\")\n\nplt.show()\n",
   "outputs": [
    {
     "data": {
      "text/plain": "<Figure size 360x432 with 1 Axes>",
      "image/png": "[encoded data removed]"
     },
     "metadata": {
      "needs_background": "light",
      "image/png": {
       "width": 333,
       "height": 387
      }
     },
     "output_type": "display_data"
    }
   ],
   "execution_count": 19
  },
  {
   "cell_type": "markdown",
   "source": "## Missing values",
   "metadata": {
    "tags": [],
    "is_collapsed": false,
    "cell_id": "00046-61db4f8a-4fe0-450e-8a99-1610053df34a",
    "deepnote_cell_type": "text-cell-h2"
   }
  },
  {
   "cell_type": "markdown",
   "source": "Check for missing values in `data`:",
   "metadata": {
    "tags": [],
    "cell_id": "00047-2f7f81a9-f2ea-4c1a-a069-b2a4ed999aad",
    "deepnote_cell_type": "markdown"
   }
  },
  {
   "cell_type": "code",
   "metadata": {
    "tags": [],
    "deepnote_to_be_reexecuted": false,
    "source_hash": "9630058e",
    "execution_start": 1637778129717,
    "execution_millis": 2,
    "deepnote_output_heights": [
     20.5
    ],
    "cell_id": "00048-dcdd4920-a59b-4a43-899f-437af76761f4",
    "deepnote_cell_type": "code"
   },
   "source": "data.isna().sum().sum()",
   "outputs": [
    {
     "output_type": "execute_result",
     "execution_count": 20,
     "data": {
      "text/plain": "0"
     },
     "metadata": {}
    }
   ],
   "execution_count": 20
  },
  {
   "cell_type": "markdown",
   "source": "Check for missing values in `truth`:",
   "metadata": {
    "tags": [],
    "cell_id": "00049-542aff0c-34c6-44a5-9aad-afef6e1f881d",
    "deepnote_cell_type": "markdown"
   }
  },
  {
   "cell_type": "code",
   "metadata": {
    "tags": [],
    "deepnote_to_be_reexecuted": false,
    "source_hash": "4cfcc813",
    "execution_start": 1637778129733,
    "execution_millis": 14,
    "deepnote_output_heights": [
     20.5
    ],
    "cell_id": "00050-97b155f0-ee9a-41ca-a6ab-b6c2532b50c7",
    "deepnote_cell_type": "code"
   },
   "source": "truth.isna().sum().sum()",
   "outputs": [
    {
     "output_type": "execute_result",
     "execution_count": 21,
     "data": {
      "text/plain": "0"
     },
     "metadata": {}
    }
   ],
   "execution_count": 21
  },
  {
   "cell_type": "markdown",
   "source": "Check for missing truth assignments (both directions):",
   "metadata": {
    "tags": [],
    "cell_id": "00051-862af327-c7fd-4c80-86f8-331d8db997b6",
    "deepnote_cell_type": "markdown"
   }
  },
  {
   "cell_type": "code",
   "metadata": {
    "tags": [],
    "deepnote_to_be_reexecuted": false,
    "source_hash": "3d07fa19",
    "execution_start": 1637778129733,
    "execution_millis": 59,
    "deepnote_output_heights": [
     20.5
    ],
    "cell_id": "00052-3ba6406a-943f-43fb-8917-d45b0c0465cf",
    "deepnote_cell_type": "code"
   },
   "source": "pd.merge(left=data, right=truth, how=\"left\", on=\"userid\").isna().sum().sum()",
   "outputs": [
    {
     "output_type": "execute_result",
     "execution_count": 22,
     "data": {
      "text/plain": "0"
     },
     "metadata": {}
    }
   ],
   "execution_count": 22
  },
  {
   "cell_type": "code",
   "metadata": {
    "tags": [],
    "deepnote_to_be_reexecuted": false,
    "source_hash": "fe63f33d",
    "execution_start": 1637778129791,
    "execution_millis": 62,
    "deepnote_output_heights": [
     20.5
    ],
    "cell_id": "00053-fff5eb02-a384-4e00-8140-10fbfbb8a7b1",
    "deepnote_cell_type": "code"
   },
   "source": "pd.merge(left=data, right=truth, how=\"right\", on=\"userid\").isna().sum().sum()",
   "outputs": [
    {
     "output_type": "execute_result",
     "execution_count": 23,
     "data": {
      "text/plain": "0"
     },
     "metadata": {}
    }
   ],
   "execution_count": 23
  },
  {
   "cell_type": "markdown",
   "source": "## Multiplicated tweets",
   "metadata": {
    "tags": [],
    "is_collapsed": false,
    "cell_id": "00054-8b83f86a-89e1-480a-b665-a2e195edba04",
    "deepnote_cell_type": "text-cell-h2"
   }
  },
  {
   "cell_type": "code",
   "metadata": {
    "tags": [],
    "deepnote_to_be_reexecuted": false,
    "source_hash": "22ac2358",
    "execution_start": 1637778129850,
    "execution_millis": 229,
    "deepnote_output_heights": [
     606.53125
    ],
    "cell_id": "00055-b2fd2d64-8a47-4c01-81bd-1f87799aba43",
    "deepnote_cell_type": "code"
   },
   "source": "# Check multiplicated tweets\nduplicates = data[\"tweet\"][data[\"tweet\"].duplicated(keep=False)].value_counts()\n\n#duplicates[\"count\"]=1\n\nduplicates.head(50)",
   "outputs": [
    {
     "output_type": "execute_result",
     "execution_count": 24,
     "data": {
      "text/plain": "one person followed me // automatically checked by #URL#                                                                      91\none person unfollowed me // automatically checked by #URL#                                                                    53\n2 people followed me // automatically checked by #URL#                                                                        46\nI posted a new video to Facebook #URL#                                                                                        43\none person followed me and one person unfollowed me // automatically checked by #URL#                                         33\n2 people followed me and one person unfollowed me // automatically checked by #URL#                                           23\n3 people followed me // automatically checked by #URL#                                                                        20\nFrom earlier today #URL#                                                                                                      19\n3 people followed me and one person unfollowed me // automatically checked by #URL#                                           18\nRetweet &amp; Share #URL#                                                                                                     14\n2 people followed me and 2 people unfollowed me // automatically checked by #URL#                                             14\n#USER# Carnival Cruises Must Drop George Lopez For Disgusting Call To Kill The President                                      14\n4 people followed me // automatically checked by #URL#                                                                        12\n2 people unfollowed me // automatically checked by #URL#                                                                      11\n#USER# El gran \"regenerador\" #USER#, que echó a Rajoy por corrupción, brinda su apoyo total a Iglesias y a sus corruptelas    11\nRT #USER#: “...tiene un problema moral.” #URL#                                                                                 9\n#USER# Muslims and Hispanics are taking over the USA with the help of Democrats. Vote Republican !!!                           9\nPolitical Cartoons - 2020 #URL#                                                                                                9\n#USER# More info on #HASHTAG# #URL#                                                                                            8\none person followed me and 2 people unfollowed me // automatically checked by #URL#                                            8\nPolitical Cartoons by AF Branco #URL#                                                                                          8\nBuenas noches y buen descanso #URL#                                                                                            8\nManufactured Home For Sale in El Cajon, CA #URL#                                                                               7\nRise &amp; Grind                                                                                                               7\n#USER# ¡Feliz cumpleaños! Que pases un día muy feliz. Un beso                                                                  7\n3 people followed me and 2 people unfollowed me // automatically checked by #URL#                                              7\nRT #USER#: Want to thank God for allowing me to see another day...                                                             7\nRT #USER#: You just had to be there #URL#                                                                                      7\n4 people followed me and one person unfollowed me // automatically checked by #URL#                                            6\nRT #USER#: Vox ha pedido que el movimiento antifascista sea declarado organización terrorista. RT si lo apoyas.                6\nRT #USER#: You had to be there #URL#                                                                                           6\n#USER# I said here I'm done, and this is where it ends. #URL#                                                                  6\nRT #USER#: ¿Que preferís? ❤ Echenique en la prisión 🔁 Echenique devuelto a Argentina                                           6\n#USER# RT que rico culo                                                                                                        6\nRT #USER#: Irene Montero explicándole a Marie Curie que si quiere puede ser científica. #URL#                                  6\nRT #USER#: Primeras multas de hasta 9.200 euros en Suiza por llevar burka #URL#                                                5\nRT #USER#: Zasca!!!!!!!!!!!!!! de #USER# a #USER# . Vía #USER# #URL#                                                           5\n#USER# This guy? #HASHTAG# #URL#                                                                                               5\n#USER# Nicole Arbour EXPOSES 🖕🏽BLM👺 in EPIC 2 min rant!! #URL# via #USER#                                                      5\n#USER# Buenos días Francisco 🇪🇦                                                                                                5\n#USER# Or better yet, read this article for a common sense perspective. #URL#                                                  5\n#USER# #USER# Here is some more info about an Article V Convention. #URL#                                                      5\n#USER# DECEITFUL NANCY🧟‍♀️PELOSI👺 CAN'T HIDE THIS EVIDENCE! #URL# via #USER#                                                   5\nRT #USER#: Podían haber destruido las armas ,antes de asesinar a mi hijo #URL#                                                 5\nRT #USER#: Muy grande la cantante Bebe. Así,Si. #URL#                                                                          5\nRT #USER#: 72Tj x GhostCrew - Marcelo Burlon Freestyle (Official Video) Shot By #USER#... #URL# via #USER#                     5\nRT #USER#: Aún queremos saber toda la verdad. #HASHTAG# #HASHTAG# #HASHTAG# #HASHTAG#                                          5\n#USER# Democrats are bringing Muslims and AntiSemites Into Congress Vote Republican. !!                                        5\n#USER# Muslims and Hispanics are taking over America With The Encouragement Of The Democrats                                   5\n#HASHTAG# ! Retweet &amp; Share #URL#                                                                                          5\nName: tweet, dtype: int64"
     },
     "metadata": {}
    }
   ],
   "execution_count": 24
  },
  {
   "cell_type": "markdown",
   "source": "### fllwrs tweets removal",
   "metadata": {
    "tags": [],
    "is_collapsed": false,
    "cell_id": "00056-e7e0281a-1ad7-4863-93f7-97eede205e3d",
    "deepnote_cell_type": "text-cell-h3"
   }
  },
  {
   "cell_type": "markdown",
   "source": "It is apparent that largest part of multiplicated tweets come from [fllwrs](http://fllwrs.com/) app, which checks for changes in user's Twitter followers over time. It records followers that have been added or lost.\n\nThese tweets don't come from the authors, so they carry no information for our project. I will now remove all tweets that match to certain regular expression and do multiplicative tweets re-check.",
   "metadata": {
    "tags": [],
    "cell_id": "00057-11c503b2-89cc-4989-8c91-002155d9859b",
    "deepnote_cell_type": "markdown"
   }
  },
  {
   "cell_type": "code",
   "metadata": {
    "tags": [],
    "deepnote_to_be_reexecuted": false,
    "source_hash": "3381d377",
    "execution_start": 1637778129898,
    "execution_millis": 0,
    "cell_id": "00058-caaa5212-1380-451a-81bc-0ebcd6919b86",
    "deepnote_cell_type": "code"
   },
   "source": "fllwrs_pattern = \"((one|[0-9]+){1} (person|people){1} (un)?followed me){1}( and (one|[0-9]+){1} (person|people){1} (un)?followed me){0,1} // automatically checked by #URL#\"",
   "outputs": [],
   "execution_count": 25
  },
  {
   "cell_type": "code",
   "metadata": {
    "tags": [],
    "deepnote_to_be_reexecuted": false,
    "source_hash": "895077a2",
    "execution_start": 1637778129899,
    "execution_millis": 180,
    "deepnote_output_heights": [
     594.578125
    ],
    "cell_id": "00059-87f275fa-3288-4f62-8eb9-c6ecd7ef3aaa",
    "deepnote_cell_type": "code"
   },
   "source": "data[data[\"tweet\"].str.match(fllwrs_pattern)].value_counts(\"tweet\")",
   "outputs": [
    {
     "output_type": "execute_result",
     "execution_count": 26,
     "data": {
      "text/plain": "tweet\none person followed me // automatically checked by #URL#                                 91\none person unfollowed me // automatically checked by #URL#                               53\n2 people followed me // automatically checked by #URL#                                   46\none person followed me and one person unfollowed me // automatically checked by #URL#    33\n2 people followed me and one person unfollowed me // automatically checked by #URL#      23\n3 people followed me // automatically checked by #URL#                                   20\n3 people followed me and one person unfollowed me // automatically checked by #URL#      18\n2 people followed me and 2 people unfollowed me // automatically checked by #URL#        14\n4 people followed me // automatically checked by #URL#                                   12\n2 people unfollowed me // automatically checked by #URL#                                 11\none person followed me and 2 people unfollowed me // automatically checked by #URL#       8\n3 people followed me and 2 people unfollowed me // automatically checked by #URL#         7\n4 people followed me and one person unfollowed me // automatically checked by #URL#       6\n2 people followed me and 3 people unfollowed me // automatically checked by #URL#         4\n3 people unfollowed me // automatically checked by #URL#                                  4\none person followed me and 3 people unfollowed me // automatically checked by #URL#       4\n5 people followed me and one person unfollowed me // automatically checked by #URL#       4\n6 people followed me // automatically checked by #URL#                                    2\n5 people followed me and 3 people unfollowed me // automatically checked by #URL#         2\none person followed me and 4 people unfollowed me // automatically checked by #URL#       1\n8 people followed me and 2 people unfollowed me // automatically checked by #URL#         1\none person followed me and 5 people unfollowed me // automatically checked by #URL#       1\n2 people followed me and 4 people unfollowed me // automatically checked by #URL#         1\n7 people followed me and one person unfollowed me // automatically checked by #URL#       1\n7 people followed me // automatically checked by #URL#                                    1\n6 people followed me and 2 people unfollowed me // automatically checked by #URL#         1\n5 people followed me and 2 people unfollowed me // automatically checked by #URL#         1\n4 people followed me and 2 people unfollowed me // automatically checked by #URL#         1\n3 people followed me and 4 people unfollowed me // automatically checked by #URL#         1\n5 people followed me and 4 people unfollowed me // automatically checked by #URL#         1\ndtype: int64"
     },
     "metadata": {}
    }
   ],
   "execution_count": 26
  },
  {
   "cell_type": "markdown",
   "source": "So I decided to mark the rows with flag value `\"fllwrs\"`:",
   "metadata": {
    "tags": [],
    "cell_id": "00060-1a2e6eef-834f-4a8c-9b18-24bd58e32a13",
    "deepnote_cell_type": "markdown"
   }
  },
  {
   "cell_type": "code",
   "metadata": {
    "tags": [],
    "deepnote_to_be_reexecuted": false,
    "source_hash": "f46828c4",
    "execution_start": 1637778129992,
    "execution_millis": 59,
    "cell_id": "00061-329010d7-53d2-43a4-aa82-0457c35c91d1",
    "deepnote_cell_type": "code"
   },
   "source": "data.loc[data[\"tweet\"].str.match(fllwrs_pattern), [\"flag\"]] = \"fllwrs\"",
   "outputs": [],
   "execution_count": 27
  },
  {
   "cell_type": "code",
   "metadata": {
    "tags": [],
    "deepnote_to_be_reexecuted": false,
    "source_hash": "3f265ff7",
    "execution_start": 1637778130104,
    "execution_millis": 5,
    "deepnote_output_heights": [
     39.03125
    ],
    "cell_id": "00062-6500f8ea-d960-41b9-bb0d-3cbf8354777b",
    "deepnote_cell_type": "code"
   },
   "source": "data[\"flag\"].value_counts()",
   "outputs": [
    {
     "output_type": "execute_result",
     "execution_count": 28,
     "data": {
      "text/plain": "fllwrs    373\nName: flag, dtype: int64"
     },
     "metadata": {}
    }
   ],
   "execution_count": 28
  },
  {
   "cell_type": "markdown",
   "source": "Now I'll re-check for multiplicated tweets, but I will omit the \"fllwrs\" flag now:",
   "metadata": {
    "tags": [],
    "cell_id": "00063-3feb3b45-329c-415d-aa3d-3c626dcfe942",
    "deepnote_cell_type": "markdown"
   }
  },
  {
   "cell_type": "code",
   "metadata": {
    "tags": [],
    "deepnote_to_be_reexecuted": false,
    "source_hash": "676ff7e5",
    "execution_start": 1637778130105,
    "execution_millis": 14,
    "deepnote_output_heights": [
     606.53125
    ],
    "cell_id": "00064-363a2894-92d7-4476-a1ec-2f0e7e9e7a70",
    "deepnote_cell_type": "code"
   },
   "source": "# Check multiplicated tweets\nduplicates = data[\"tweet\"][(data[\"tweet\"].duplicated(keep=False)) & (data[\"flag\"].isna())].value_counts()\n\n#duplicates[\"count\"]=1\n\nduplicates.head(60)",
   "outputs": [
    {
     "output_type": "execute_result",
     "execution_count": 29,
     "data": {
      "text/plain": "I posted a new video to Facebook #URL#                                                                                        43\nFrom earlier today #URL#                                                                                                      19\n#USER# Carnival Cruises Must Drop George Lopez For Disgusting Call To Kill The President                                      14\nRetweet &amp; Share #URL#                                                                                                     14\n#USER# El gran \"regenerador\" #USER#, que echó a Rajoy por corrupción, brinda su apoyo total a Iglesias y a sus corruptelas    11\n#USER# Muslims and Hispanics are taking over the USA with the help of Democrats. Vote Republican !!!                           9\nRT #USER#: “...tiene un problema moral.” #URL#                                                                                 9\nPolitical Cartoons - 2020 #URL#                                                                                                9\nPolitical Cartoons by AF Branco #URL#                                                                                          8\n#USER# More info on #HASHTAG# #URL#                                                                                            8\nBuenas noches y buen descanso #URL#                                                                                            8\nRT #USER#: You just had to be there #URL#                                                                                      7\nRise &amp; Grind                                                                                                               7\nManufactured Home For Sale in El Cajon, CA #URL#                                                                               7\n#USER# ¡Feliz cumpleaños! Que pases un día muy feliz. Un beso                                                                  7\nRT #USER#: Want to thank God for allowing me to see another day...                                                             7\nRT #USER#: ¿Que preferís? ❤ Echenique en la prisión 🔁 Echenique devuelto a Argentina                                           6\nRT #USER#: You had to be there #URL#                                                                                           6\nRT #USER#: Irene Montero explicándole a Marie Curie que si quiere puede ser científica. #URL#                                  6\n#USER# I said here I'm done, and this is where it ends. #URL#                                                                  6\n#USER# RT que rico culo                                                                                                        6\nRT #USER#: Vox ha pedido que el movimiento antifascista sea declarado organización terrorista. RT si lo apoyas.                6\n#HASHTAG# ! Retweet &amp; Share #URL#                                                                                          5\nRT #USER#: Muy grande la cantante Bebe. Así,Si. #URL#                                                                          5\n#USER# DECEITFUL NANCY🧟‍♀️PELOSI👺 CAN'T HIDE THIS EVIDENCE! #URL# via #USER#                                                   5\nRT #USER#: Zasca!!!!!!!!!!!!!! de #USER# a #USER# . Vía #USER# #URL#                                                           5\nRT #USER#: Aún queremos saber toda la verdad. #HASHTAG# #HASHTAG# #HASHTAG# #HASHTAG#                                          5\n#USER# Muslims and Hispanics are taking over America With The Encouragement Of The Democrats                                   5\n#USER# #USER# Here is some more info about an Article V Convention. #URL#                                                      5\nRT #USER#: Feminismo islámico. Lección 1. #URL#                                                                                5\nPolitical Cartoons by Pat Cross #URL#                                                                                          5\nRT #USER#: Primeras multas de hasta 9.200 euros en Suiza por llevar burka #URL#                                                5\n#USER# Nicole Arbour EXPOSES 🖕🏽BLM👺 in EPIC 2 min rant!! #URL# via #USER#                                                      5\n#USER# This guy? #HASHTAG# #URL#                                                                                               5\nRT #USER#: Podían haber destruido las armas ,antes de asesinar a mi hijo #URL#                                                 5\n#USER# Or better yet, read this article for a common sense perspective. #URL#                                                  5\nRT #USER#: 72Tj x GhostCrew - Marcelo Burlon Freestyle (Official Video) Shot By #USER#... #URL# via #USER#                     5\n#USER# Democrats are bringing Muslims and AntiSemites Into Congress Vote Republican. !!                                        5\n#USER# Buenos días Francisco 🇪🇦                                                                                                5\n#USER# #HASHTAG# #HASHTAG# Vote for the #USER# that supports #USER# #HASHTAG# #HASHTAG#                                        4\nI made a free Hollywood-style commercial with #HASHTAG#, check it out! #URL#                                                   4\n#USER# Biden Voters FLIP as Portland Leftists RIOT Over Policies!!! #URL# via #USER#                                           4\nRT #USER#: Maestros que usan a los niños como muñecos de ventrílocuo. #URL#                                                    4\n#USER# #USER# #USER# Thanks for supporting educators!                                                                          4\n#USER# I am searching more info , text on Bellary Raghava. your help would be highly appreciated.                              4\nRT #USER#: RT si quieres un pacto Isabel Díaz Ayuso y Rocío Monasterio en Madrid.                                              4\nPolitical Cartoons by Tom Stiglich #URL#                                                                                       4\n#USER# No me la contes                                                                                                         4\nRT #USER#: #USER# Do you support our POTUS? (Please help by retweeting and following before voting!)                           4\n#USER# #USER# YES BIDEN SAID N***** ON NATIONAL TV Hypocrisy Of The 😈Dems/Libs/Left👹 #URL# via #USER#                          4\nRT #USER#: ¿Consideras que PODEMOS debería de ilegalizarse? 🔄SÍ ❤️NO                                                           4\nisrael is an #HASHTAG# regime. Recognizing #HASHTAG# when you see it. #HASHTAG# #HASHTAG# #HASHTAG# #URL#                      4\nWho y’all got? 🥊 #HASHTAG#                                                                                                     4\nRT #USER#: #URL# Ghost Crew - On Da Block Wit It (Official Video) shot by #USER# 👻👥🌍🔥🔥📺 #URL#                                  4\nRT #USER#: President Trump: 75 million voters and I continue to support you!! #HASHTAG# #HASHTAG#                              4\nRT #USER#: Esto es brutal, 😄, pero ya no nos sorprende nada. Octubre 2019. Profeta. #URL#                                      4\nRT #USER#: Aperitivo, plato fuerte o macedonia socialdelincuente. #URL#                                                        4\nRT #USER#: Thanking God for allowing us to see another day 🙌🏾                                                                  4\nRT #USER#: Schedule Your Label Consultation for 2020! #HASHTAG# with #USER# #HASHTAG# #URL#                                    4\nRT #USER#: Estas son dos noticias que juntas se entienden mejor. #URL#                                                         4\nName: tweet, dtype: int64"
     },
     "metadata": {}
    }
   ],
   "execution_count": 29
  },
  {
   "cell_type": "markdown",
   "source": "### URL (re)posts",
   "metadata": {
    "tags": [],
    "is_collapsed": false,
    "cell_id": "00065-ca7b0d52-18b5-43f7-9fa6-df5cf70b6248",
    "deepnote_cell_type": "text-cell-h3"
   }
  },
  {
   "cell_type": "markdown",
   "source": "Looking at the next biggest clusters have similar idea - user posts and shares an #URL#.\n\nThere are some notable clusters:\n  * Facebook video re-posts (43 identical tweets: `\"I posted a new video to Facebook #URL#\"`), which might be a cross-post to Twitter after user uploaded a video to Facebook.\n  * Other re-posts or re-shares examples:\n    * `\"From earlier today #URL#\"`\n    * `\"Retweet &amp; Share #URL#`\n    * `\"#USER# More info on #HASHTAG# #URL#\"`\n    * `\"#HASHTAG# ! Retweet &amp; Share #URL#\"`\n\nThe tweets themselves doesn't provide any hate speech related information value as we don't know what kind of content was posted.\n\nEntire URL (re)posts cluster can be cleaned from the data.",
   "metadata": {
    "tags": [],
    "cell_id": "00066-e2cef84c-4d5e-4247-8287-0d31a8fc3989",
    "deepnote_cell_type": "markdown"
   }
  },
  {
   "cell_type": "markdown",
   "source": "__Facebook__:",
   "metadata": {
    "tags": [],
    "cell_id": "00067-d4ce74d0-2849-4117-af90-678163fe2b4b",
    "deepnote_cell_type": "markdown"
   }
  },
  {
   "cell_type": "code",
   "metadata": {
    "tags": [],
    "deepnote_to_be_reexecuted": false,
    "source_hash": "35d01071",
    "execution_start": 1637778130169,
    "execution_millis": 47,
    "deepnote_output_heights": [
     57.546875
    ],
    "cell_id": "00068-d303dd04-415d-48e0-965e-530109e373bd",
    "deepnote_cell_type": "code"
   },
   "source": "facebook_pattern = \"I posted a new video to Facebook #URL#\"\n\ndata.loc[data[\"tweet\"].str.match(facebook_pattern), [\"flag\"]] = \"facebook\"\n\ndata[\"flag\"].value_counts()",
   "outputs": [
    {
     "output_type": "execute_result",
     "execution_count": 30,
     "data": {
      "text/plain": "fllwrs      373\nfacebook     43\nName: flag, dtype: int64"
     },
     "metadata": {}
    }
   ],
   "execution_count": 30
  },
  {
   "cell_type": "markdown",
   "source": "__URL reposts__:",
   "metadata": {
    "tags": [],
    "cell_id": "00069-a0ecc8c6-a7d1-4146-951a-8ae402dec4e2",
    "deepnote_cell_type": "markdown"
   }
  },
  {
   "cell_type": "code",
   "metadata": {
    "tags": [],
    "deepnote_to_be_reexecuted": false,
    "source_hash": "617836c6",
    "execution_start": 1637778130258,
    "execution_millis": 68,
    "deepnote_output_heights": [
     76.0625
    ],
    "cell_id": "00070-4f7e4b19-acce-4d0b-8d30-41968d292807",
    "deepnote_cell_type": "code"
   },
   "source": "urlrepost_pattern = \"^(#USER# More info on #HASHTAG#|From earlier today|(#HASHTAG#)? ?.? ?Retweet &amp; Share) #URL#$\"\n\ndata.loc[data[\"tweet\"].str.match(urlrepost_pattern), [\"flag\"]] = \"url repost\"\n\ndata[\"flag\"].value_counts()",
   "outputs": [
    {
     "output_type": "execute_result",
     "execution_count": 31,
     "data": {
      "text/plain": "fllwrs        373\nurl repost     49\nfacebook       43\nName: flag, dtype: int64"
     },
     "metadata": {}
    }
   ],
   "execution_count": 31
  },
  {
   "cell_type": "code",
   "metadata": {
    "tags": [],
    "deepnote_to_be_reexecuted": false,
    "source_hash": "caaac1b0",
    "execution_start": 1637778130330,
    "execution_millis": 62,
    "deepnote_output_heights": [
     611
    ],
    "cell_id": "00071-bd911956-d2d9-4acf-b51a-5f1503de4732",
    "deepnote_cell_type": "code"
   },
   "source": "data[data[\"flag\"]==\"url repost\"]",
   "outputs": [
    {
     "output_type": "execute_result",
     "execution_count": 32,
     "data": {
      "application/vnd.deepnote.dataframe.v2+json": {
       "row_count": 49,
       "column_count": 4,
       "columns": [
        {
         "name": "lang",
         "dtype": "object",
         "stats": {
          "unique_count": 1,
          "nan_count": 0,
          "categories": [
           {
            "name": "en",
            "count": 49
           }
          ]
         }
        },
        {
         "name": "userid",
         "dtype": "object",
         "stats": {
          "unique_count": 3,
          "nan_count": 0,
          "categories": [
           {
            "name": "e4c296ef32aaf5ca9f293fa3a62a3694",
            "count": 22
           },
           {
            "name": "98c59ff3e2cfc56b96ee3c49b3d46296",
            "count": 19
           },
           {
            "name": "41eff6afb1ced61ab38e4d86d56825e0",
            "count": 8
           }
          ]
         }
        },
        {
         "name": "tweet",
         "dtype": "object",
         "stats": {
          "unique_count": 5,
          "nan_count": 0,
          "categories": [
           {
            "name": "From earlier today #URL#",
            "count": 19
           },
           {
            "name": "Retweet &amp; Share #URL#",
            "count": 14
           },
           {
            "name": "3 others",
            "count": 16
           }
          ]
         }
        },
        {
         "name": "flag",
         "dtype": "object",
         "stats": {
          "unique_count": 1,
          "nan_count": 0,
          "categories": [
           {
            "name": "url repost",
            "count": 49
           }
          ]
         }
        },
        {
         "name": "_deepnote_index_column",
         "dtype": "int64"
        }
       ],
       "rows_top": [
        {
         "lang": "en",
         "userid": "41eff6afb1ced61ab38e4d86d56825e0",
         "tweet": "#USER# More info on #HASHTAG# #URL#",
         "flag": "url repost",
         "_deepnote_index_column": 41941
        },
        {
         "lang": "en",
         "userid": "41eff6afb1ced61ab38e4d86d56825e0",
         "tweet": "#USER# More info on #HASHTAG# #URL#",
         "flag": "url repost",
         "_deepnote_index_column": 41942
        },
        {
         "lang": "en",
         "userid": "41eff6afb1ced61ab38e4d86d56825e0",
         "tweet": "#USER# More info on #HASHTAG# #URL#",
         "flag": "url repost",
         "_deepnote_index_column": 41943
        },
        {
         "lang": "en",
         "userid": "41eff6afb1ced61ab38e4d86d56825e0",
         "tweet": "#USER# More info on #HASHTAG# #URL#",
         "flag": "url repost",
         "_deepnote_index_column": 41944
        },
        {
         "lang": "en",
         "userid": "41eff6afb1ced61ab38e4d86d56825e0",
         "tweet": "#USER# More info on #HASHTAG# #URL#",
         "flag": "url repost",
         "_deepnote_index_column": 41945
        },
        {
         "lang": "en",
         "userid": "41eff6afb1ced61ab38e4d86d56825e0",
         "tweet": "#USER# More info on #HASHTAG# #URL#",
         "flag": "url repost",
         "_deepnote_index_column": 41946
        },
        {
         "lang": "en",
         "userid": "41eff6afb1ced61ab38e4d86d56825e0",
         "tweet": "#USER# More info on #HASHTAG# #URL#",
         "flag": "url repost",
         "_deepnote_index_column": 41947
        },
        {
         "lang": "en",
         "userid": "41eff6afb1ced61ab38e4d86d56825e0",
         "tweet": "#USER# More info on #HASHTAG# #URL#",
         "flag": "url repost",
         "_deepnote_index_column": 41957
        },
        {
         "lang": "en",
         "userid": "e4c296ef32aaf5ca9f293fa3a62a3694",
         "tweet": "Retweet &amp; Share #URL#",
         "flag": "url repost",
         "_deepnote_index_column": 65838
        },
        {
         "lang": "en",
         "userid": "e4c296ef32aaf5ca9f293fa3a62a3694",
         "tweet": "Retweet &amp; Share #URL#",
         "flag": "url repost",
         "_deepnote_index_column": 65839
        },
        {
         "lang": "en",
         "userid": "e4c296ef32aaf5ca9f293fa3a62a3694",
         "tweet": "Retweet &amp; Share #URL#",
         "flag": "url repost",
         "_deepnote_index_column": 65840
        },
        {
         "lang": "en",
         "userid": "e4c296ef32aaf5ca9f293fa3a62a3694",
         "tweet": "#HASHTAG# ! Retweet &amp; Share #URL#",
         "flag": "url repost",
         "_deepnote_index_column": 65859
        },
        {
         "lang": "en",
         "userid": "e4c296ef32aaf5ca9f293fa3a62a3694",
         "tweet": "#HASHTAG# Retweet &amp; Share #URL#",
         "flag": "url repost",
         "_deepnote_index_column": 65865
        },
        {
         "lang": "en",
         "userid": "e4c296ef32aaf5ca9f293fa3a62a3694",
         "tweet": "Retweet &amp; Share #URL#",
         "flag": "url repost",
         "_deepnote_index_column": 65868
        },
        {
         "lang": "en",
         "userid": "e4c296ef32aaf5ca9f293fa3a62a3694",
         "tweet": "Retweet &amp; Share #URL#",
         "flag": "url repost",
         "_deepnote_index_column": 65877
        },
        {
         "lang": "en",
         "userid": "e4c296ef32aaf5ca9f293fa3a62a3694",
         "tweet": "Retweet &amp; Share #URL#",
         "flag": "url repost",
         "_deepnote_index_column": 65879
        },
        {
         "lang": "en",
         "userid": "e4c296ef32aaf5ca9f293fa3a62a3694",
         "tweet": "Retweet &amp; Share #URL#",
         "flag": "url repost",
         "_deepnote_index_column": 65881
        },
        {
         "lang": "en",
         "userid": "e4c296ef32aaf5ca9f293fa3a62a3694",
         "tweet": "Retweet &amp; Share #URL#",
         "flag": "url repost",
         "_deepnote_index_column": 65883
        },
        {
         "lang": "en",
         "userid": "e4c296ef32aaf5ca9f293fa3a62a3694",
         "tweet": "Retweet &amp; Share #URL#",
         "flag": "url repost",
         "_deepnote_index_column": 65886
        },
        {
         "lang": "en",
         "userid": "e4c296ef32aaf5ca9f293fa3a62a3694",
         "tweet": "Retweet &amp; Share #URL#",
         "flag": "url repost",
         "_deepnote_index_column": 65887
        },
        {
         "lang": "en",
         "userid": "e4c296ef32aaf5ca9f293fa3a62a3694",
         "tweet": "#HASHTAG# ! Retweet &amp; Share #URL#",
         "flag": "url repost",
         "_deepnote_index_column": 65890
        },
        {
         "lang": "en",
         "userid": "e4c296ef32aaf5ca9f293fa3a62a3694",
         "tweet": "Retweet &amp; Share #URL#",
         "flag": "url repost",
         "_deepnote_index_column": 65896
        },
        {
         "lang": "en",
         "userid": "e4c296ef32aaf5ca9f293fa3a62a3694",
         "tweet": "#HASHTAG# Retweet &amp; Share #URL#",
         "flag": "url repost",
         "_deepnote_index_column": 65910
        },
        {
         "lang": "en",
         "userid": "e4c296ef32aaf5ca9f293fa3a62a3694",
         "tweet": "#HASHTAG# ! Retweet &amp; Share #URL#",
         "flag": "url repost",
         "_deepnote_index_column": 65911
        },
        {
         "lang": "en",
         "userid": "e4c296ef32aaf5ca9f293fa3a62a3694",
         "tweet": "#HASHTAG# ! Retweet &amp; Share #URL#",
         "flag": "url repost",
         "_deepnote_index_column": 65943
        },
        {
         "lang": "en",
         "userid": "e4c296ef32aaf5ca9f293fa3a62a3694",
         "tweet": "#HASHTAG# ! Retweet &amp; Share #URL#",
         "flag": "url repost",
         "_deepnote_index_column": 65944
        },
        {
         "lang": "en",
         "userid": "e4c296ef32aaf5ca9f293fa3a62a3694",
         "tweet": "Retweet &amp; Share #URL#",
         "flag": "url repost",
         "_deepnote_index_column": 65954
        },
        {
         "lang": "en",
         "userid": "e4c296ef32aaf5ca9f293fa3a62a3694",
         "tweet": "Retweet &amp; Share #URL#",
         "flag": "url repost",
         "_deepnote_index_column": 65956
        },
        {
         "lang": "en",
         "userid": "e4c296ef32aaf5ca9f293fa3a62a3694",
         "tweet": "#HASHTAG# Retweet &amp; Share #URL#",
         "flag": "url repost",
         "_deepnote_index_column": 65966
        },
        {
         "lang": "en",
         "userid": "e4c296ef32aaf5ca9f293fa3a62a3694",
         "tweet": "Retweet &amp; Share #URL#",
         "flag": "url repost",
         "_deepnote_index_column": 65974
        },
        {
         "lang": "en",
         "userid": "98c59ff3e2cfc56b96ee3c49b3d46296",
         "tweet": "From earlier today #URL#",
         "flag": "url repost",
         "_deepnote_index_column": 66218
        },
        {
         "lang": "en",
         "userid": "98c59ff3e2cfc56b96ee3c49b3d46296",
         "tweet": "From earlier today #URL#",
         "flag": "url repost",
         "_deepnote_index_column": 66226
        },
        {
         "lang": "en",
         "userid": "98c59ff3e2cfc56b96ee3c49b3d46296",
         "tweet": "From earlier today #URL#",
         "flag": "url repost",
         "_deepnote_index_column": 66253
        },
        {
         "lang": "en",
         "userid": "98c59ff3e2cfc56b96ee3c49b3d46296",
         "tweet": "From earlier today #URL#",
         "flag": "url repost",
         "_deepnote_index_column": 66280
        },
        {
         "lang": "en",
         "userid": "98c59ff3e2cfc56b96ee3c49b3d46296",
         "tweet": "From earlier today #URL#",
         "flag": "url repost",
         "_deepnote_index_column": 66322
        },
        {
         "lang": "en",
         "userid": "98c59ff3e2cfc56b96ee3c49b3d46296",
         "tweet": "From earlier today #URL#",
         "flag": "url repost",
         "_deepnote_index_column": 66323
        },
        {
         "lang": "en",
         "userid": "98c59ff3e2cfc56b96ee3c49b3d46296",
         "tweet": "From earlier today #URL#",
         "flag": "url repost",
         "_deepnote_index_column": 66324
        },
        {
         "lang": "en",
         "userid": "98c59ff3e2cfc56b96ee3c49b3d46296",
         "tweet": "From earlier today #URL#",
         "flag": "url repost",
         "_deepnote_index_column": 66328
        },
        {
         "lang": "en",
         "userid": "98c59ff3e2cfc56b96ee3c49b3d46296",
         "tweet": "From earlier today #URL#",
         "flag": "url repost",
         "_deepnote_index_column": 66329
        },
        {
         "lang": "en",
         "userid": "98c59ff3e2cfc56b96ee3c49b3d46296",
         "tweet": "From earlier today #URL#",
         "flag": "url repost",
         "_deepnote_index_column": 66330
        },
        {
         "lang": "en",
         "userid": "98c59ff3e2cfc56b96ee3c49b3d46296",
         "tweet": "From earlier today #URL#",
         "flag": "url repost",
         "_deepnote_index_column": 66331
        },
        {
         "lang": "en",
         "userid": "98c59ff3e2cfc56b96ee3c49b3d46296",
         "tweet": "From earlier today #URL#",
         "flag": "url repost",
         "_deepnote_index_column": 66332
        },
        {
         "lang": "en",
         "userid": "98c59ff3e2cfc56b96ee3c49b3d46296",
         "tweet": "From earlier today #URL#",
         "flag": "url repost",
         "_deepnote_index_column": 66333
        },
        {
         "lang": "en",
         "userid": "98c59ff3e2cfc56b96ee3c49b3d46296",
         "tweet": "From earlier today #URL#",
         "flag": "url repost",
         "_deepnote_index_column": 66334
        },
        {
         "lang": "en",
         "userid": "98c59ff3e2cfc56b96ee3c49b3d46296",
         "tweet": "From earlier today #URL#",
         "flag": "url repost",
         "_deepnote_index_column": 66335
        },
        {
         "lang": "en",
         "userid": "98c59ff3e2cfc56b96ee3c49b3d46296",
         "tweet": "From earlier today #URL#",
         "flag": "url repost",
         "_deepnote_index_column": 66336
        },
        {
         "lang": "en",
         "userid": "98c59ff3e2cfc56b96ee3c49b3d46296",
         "tweet": "From earlier today #URL#",
         "flag": "url repost",
         "_deepnote_index_column": 66337
        },
        {
         "lang": "en",
         "userid": "98c59ff3e2cfc56b96ee3c49b3d46296",
         "tweet": "From earlier today #URL#",
         "flag": "url repost",
         "_deepnote_index_column": 66338
        },
        {
         "lang": "en",
         "userid": "98c59ff3e2cfc56b96ee3c49b3d46296",
         "tweet": "From earlier today #URL#",
         "flag": "url repost",
         "_deepnote_index_column": 66341
        }
       ],
       "rows_bottom": null
      },
      "text/plain": "      lang                            userid  \\\n41941   en  41eff6afb1ced61ab38e4d86d56825e0   \n41942   en  41eff6afb1ced61ab38e4d86d56825e0   \n41943   en  41eff6afb1ced61ab38e4d86d56825e0   \n41944   en  41eff6afb1ced61ab38e4d86d56825e0   \n41945   en  41eff6afb1ced61ab38e4d86d56825e0   \n41946   en  41eff6afb1ced61ab38e4d86d56825e0   \n41947   en  41eff6afb1ced61ab38e4d86d56825e0   \n41957   en  41eff6afb1ced61ab38e4d86d56825e0   \n65838   en  e4c296ef32aaf5ca9f293fa3a62a3694   \n65839   en  e4c296ef32aaf5ca9f293fa3a62a3694   \n65840   en  e4c296ef32aaf5ca9f293fa3a62a3694   \n65859   en  e4c296ef32aaf5ca9f293fa3a62a3694   \n65865   en  e4c296ef32aaf5ca9f293fa3a62a3694   \n65868   en  e4c296ef32aaf5ca9f293fa3a62a3694   \n65877   en  e4c296ef32aaf5ca9f293fa3a62a3694   \n65879   en  e4c296ef32aaf5ca9f293fa3a62a3694   \n65881   en  e4c296ef32aaf5ca9f293fa3a62a3694   \n65883   en  e4c296ef32aaf5ca9f293fa3a62a3694   \n65886   en  e4c296ef32aaf5ca9f293fa3a62a3694   \n65887   en  e4c296ef32aaf5ca9f293fa3a62a3694   \n65890   en  e4c296ef32aaf5ca9f293fa3a62a3694   \n65896   en  e4c296ef32aaf5ca9f293fa3a62a3694   \n65910   en  e4c296ef32aaf5ca9f293fa3a62a3694   \n65911   en  e4c296ef32aaf5ca9f293fa3a62a3694   \n65943   en  e4c296ef32aaf5ca9f293fa3a62a3694   \n65944   en  e4c296ef32aaf5ca9f293fa3a62a3694   \n65954   en  e4c296ef32aaf5ca9f293fa3a62a3694   \n65956   en  e4c296ef32aaf5ca9f293fa3a62a3694   \n65966   en  e4c296ef32aaf5ca9f293fa3a62a3694   \n65974   en  e4c296ef32aaf5ca9f293fa3a62a3694   \n66218   en  98c59ff3e2cfc56b96ee3c49b3d46296   \n66226   en  98c59ff3e2cfc56b96ee3c49b3d46296   \n66253   en  98c59ff3e2cfc56b96ee3c49b3d46296   \n66280   en  98c59ff3e2cfc56b96ee3c49b3d46296   \n66322   en  98c59ff3e2cfc56b96ee3c49b3d46296   \n66323   en  98c59ff3e2cfc56b96ee3c49b3d46296   \n66324   en  98c59ff3e2cfc56b96ee3c49b3d46296   \n66328   en  98c59ff3e2cfc56b96ee3c49b3d46296   \n66329   en  98c59ff3e2cfc56b96ee3c49b3d46296   \n66330   en  98c59ff3e2cfc56b96ee3c49b3d46296   \n66331   en  98c59ff3e2cfc56b96ee3c49b3d46296   \n66332   en  98c59ff3e2cfc56b96ee3c49b3d46296   \n66333   en  98c59ff3e2cfc56b96ee3c49b3d46296   \n66334   en  98c59ff3e2cfc56b96ee3c49b3d46296   \n66335   en  98c59ff3e2cfc56b96ee3c49b3d46296   \n66336   en  98c59ff3e2cfc56b96ee3c49b3d46296   \n66337   en  98c59ff3e2cfc56b96ee3c49b3d46296   \n66338   en  98c59ff3e2cfc56b96ee3c49b3d46296   \n66341   en  98c59ff3e2cfc56b96ee3c49b3d46296   \n\n                                       tweet        flag  \n41941    #USER# More info on #HASHTAG# #URL#  url repost  \n41942    #USER# More info on #HASHTAG# #URL#  url repost  \n41943    #USER# More info on #HASHTAG# #URL#  url repost  \n41944    #USER# More info on #HASHTAG# #URL#  url repost  \n41945    #USER# More info on #HASHTAG# #URL#  url repost  \n41946    #USER# More info on #HASHTAG# #URL#  url repost  \n41947    #USER# More info on #HASHTAG# #URL#  url repost  \n41957    #USER# More info on #HASHTAG# #URL#  url repost  \n65838              Retweet &amp; Share #URL#  url repost  \n65839              Retweet &amp; Share #URL#  url repost  \n65840              Retweet &amp; Share #URL#  url repost  \n65859  #HASHTAG# ! Retweet &amp; Share #URL#  url repost  \n65865    #HASHTAG# Retweet &amp; Share #URL#  url repost  \n65868              Retweet &amp; Share #URL#  url repost  \n65877              Retweet &amp; Share #URL#  url repost  \n65879              Retweet &amp; Share #URL#  url repost  \n65881              Retweet &amp; Share #URL#  url repost  \n65883              Retweet &amp; Share #URL#  url repost  \n65886              Retweet &amp; Share #URL#  url repost  \n65887              Retweet &amp; Share #URL#  url repost  \n65890  #HASHTAG# ! Retweet &amp; Share #URL#  url repost  \n65896              Retweet &amp; Share #URL#  url repost  \n65910    #HASHTAG# Retweet &amp; Share #URL#  url repost  \n65911  #HASHTAG# ! Retweet &amp; Share #URL#  url repost  \n65943  #HASHTAG# ! Retweet &amp; Share #URL#  url repost  \n65944  #HASHTAG# ! Retweet &amp; Share #URL#  url repost  \n65954              Retweet &amp; Share #URL#  url repost  \n65956              Retweet &amp; Share #URL#  url repost  \n65966    #HASHTAG# Retweet &amp; Share #URL#  url repost  \n65974              Retweet &amp; Share #URL#  url repost  \n66218               From earlier today #URL#  url repost  \n66226               From earlier today #URL#  url repost  \n66253               From earlier today #URL#  url repost  \n66280               From earlier today #URL#  url repost  \n66322               From earlier today #URL#  url repost  \n66323               From earlier today #URL#  url repost  \n66324               From earlier today #URL#  url repost  \n66328               From earlier today #URL#  url repost  \n66329               From earlier today #URL#  url repost  \n66330               From earlier today #URL#  url repost  \n66331               From earlier today #URL#  url repost  \n66332               From earlier today #URL#  url repost  \n66333               From earlier today #URL#  url repost  \n66334               From earlier today #URL#  url repost  \n66335               From earlier today #URL#  url repost  \n66336               From earlier today #URL#  url repost  \n66337               From earlier today #URL#  url repost  \n66338               From earlier today #URL#  url repost  \n66341               From earlier today #URL#  url repost  ",
      "text/html": "<div>\n<style scoped>\n    .dataframe tbody tr th:only-of-type {\n        vertical-align: middle;\n    }\n\n    .dataframe tbody tr th {\n        vertical-align: top;\n    }\n\n    .dataframe thead th {\n        text-align: right;\n    }\n</style>\n<table border=\"1\" class=\"dataframe\">\n  <thead>\n    <tr style=\"text-align: right;\">\n      <th></th>\n      <th>lang</th>\n      <th>userid</th>\n      <th>tweet</th>\n      <th>flag</th>\n    </tr>\n  </thead>\n  <tbody>\n    <tr>\n      <th>41941</th>\n      <td>en</td>\n      <td>41eff6afb1ced61ab38e4d86d56825e0</td>\n      <td>#USER# More info on #HASHTAG# #URL#</td>\n      <td>url repost</td>\n    </tr>\n    <tr>\n      <th>41942</th>\n      <td>en</td>\n      <td>41eff6afb1ced61ab38e4d86d56825e0</td>\n      <td>#USER# More info on #HASHTAG# #URL#</td>\n      <td>url repost</td>\n    </tr>\n    <tr>\n      <th>41943</th>\n      <td>en</td>\n      <td>41eff6afb1ced61ab38e4d86d56825e0</td>\n      <td>#USER# More info on #HASHTAG# #URL#</td>\n      <td>url repost</td>\n    </tr>\n    <tr>\n      <th>41944</th>\n      <td>en</td>\n      <td>41eff6afb1ced61ab38e4d86d56825e0</td>\n      <td>#USER# More info on #HASHTAG# #URL#</td>\n      <td>url repost</td>\n    </tr>\n    <tr>\n      <th>41945</th>\n      <td>en</td>\n      <td>41eff6afb1ced61ab38e4d86d56825e0</td>\n      <td>#USER# More info on #HASHTAG# #URL#</td>\n      <td>url repost</td>\n    </tr>\n    <tr>\n      <th>41946</th>\n      <td>en</td>\n      <td>41eff6afb1ced61ab38e4d86d56825e0</td>\n      <td>#USER# More info on #HASHTAG# #URL#</td>\n      <td>url repost</td>\n    </tr>\n    <tr>\n      <th>41947</th>\n      <td>en</td>\n      <td>41eff6afb1ced61ab38e4d86d56825e0</td>\n      <td>#USER# More info on #HASHTAG# #URL#</td>\n      <td>url repost</td>\n    </tr>\n    <tr>\n      <th>41957</th>\n      <td>en</td>\n      <td>41eff6afb1ced61ab38e4d86d56825e0</td>\n      <td>#USER# More info on #HASHTAG# #URL#</td>\n      <td>url repost</td>\n    </tr>\n    <tr>\n      <th>65838</th>\n      <td>en</td>\n      <td>e4c296ef32aaf5ca9f293fa3a62a3694</td>\n      <td>Retweet &amp;amp; Share #URL#</td>\n      <td>url repost</td>\n    </tr>\n    <tr>\n      <th>65839</th>\n      <td>en</td>\n      <td>e4c296ef32aaf5ca9f293fa3a62a3694</td>\n      <td>Retweet &amp;amp; Share #URL#</td>\n      <td>url repost</td>\n    </tr>\n    <tr>\n      <th>65840</th>\n      <td>en</td>\n      <td>e4c296ef32aaf5ca9f293fa3a62a3694</td>\n      <td>Retweet &amp;amp; Share #URL#</td>\n      <td>url repost</td>\n    </tr>\n    <tr>\n      <th>65859</th>\n      <td>en</td>\n      <td>e4c296ef32aaf5ca9f293fa3a62a3694</td>\n      <td>#HASHTAG# ! Retweet &amp;amp; Share #URL#</td>\n      <td>url repost</td>\n    </tr>\n    <tr>\n      <th>65865</th>\n      <td>en</td>\n      <td>e4c296ef32aaf5ca9f293fa3a62a3694</td>\n      <td>#HASHTAG# Retweet &amp;amp; Share #URL#</td>\n      <td>url repost</td>\n    </tr>\n    <tr>\n      <th>65868</th>\n      <td>en</td>\n      <td>e4c296ef32aaf5ca9f293fa3a62a3694</td>\n      <td>Retweet &amp;amp; Share #URL#</td>\n      <td>url repost</td>\n    </tr>\n    <tr>\n      <th>65877</th>\n      <td>en</td>\n      <td>e4c296ef32aaf5ca9f293fa3a62a3694</td>\n      <td>Retweet &amp;amp; Share #URL#</td>\n      <td>url repost</td>\n    </tr>\n    <tr>\n      <th>65879</th>\n      <td>en</td>\n      <td>e4c296ef32aaf5ca9f293fa3a62a3694</td>\n      <td>Retweet &amp;amp; Share #URL#</td>\n      <td>url repost</td>\n    </tr>\n    <tr>\n      <th>65881</th>\n      <td>en</td>\n      <td>e4c296ef32aaf5ca9f293fa3a62a3694</td>\n      <td>Retweet &amp;amp; Share #URL#</td>\n      <td>url repost</td>\n    </tr>\n    <tr>\n      <th>65883</th>\n      <td>en</td>\n      <td>e4c296ef32aaf5ca9f293fa3a62a3694</td>\n      <td>Retweet &amp;amp; Share #URL#</td>\n      <td>url repost</td>\n    </tr>\n    <tr>\n      <th>65886</th>\n      <td>en</td>\n      <td>e4c296ef32aaf5ca9f293fa3a62a3694</td>\n      <td>Retweet &amp;amp; Share #URL#</td>\n      <td>url repost</td>\n    </tr>\n    <tr>\n      <th>65887</th>\n      <td>en</td>\n      <td>e4c296ef32aaf5ca9f293fa3a62a3694</td>\n      <td>Retweet &amp;amp; Share #URL#</td>\n      <td>url repost</td>\n    </tr>\n    <tr>\n      <th>65890</th>\n      <td>en</td>\n      <td>e4c296ef32aaf5ca9f293fa3a62a3694</td>\n      <td>#HASHTAG# ! Retweet &amp;amp; Share #URL#</td>\n      <td>url repost</td>\n    </tr>\n    <tr>\n      <th>65896</th>\n      <td>en</td>\n      <td>e4c296ef32aaf5ca9f293fa3a62a3694</td>\n      <td>Retweet &amp;amp; Share #URL#</td>\n      <td>url repost</td>\n    </tr>\n    <tr>\n      <th>65910</th>\n      <td>en</td>\n      <td>e4c296ef32aaf5ca9f293fa3a62a3694</td>\n      <td>#HASHTAG# Retweet &amp;amp; Share #URL#</td>\n      <td>url repost</td>\n    </tr>\n    <tr>\n      <th>65911</th>\n      <td>en</td>\n      <td>e4c296ef32aaf5ca9f293fa3a62a3694</td>\n      <td>#HASHTAG# ! Retweet &amp;amp; Share #URL#</td>\n      <td>url repost</td>\n    </tr>\n    <tr>\n      <th>65943</th>\n      <td>en</td>\n      <td>e4c296ef32aaf5ca9f293fa3a62a3694</td>\n      <td>#HASHTAG# ! Retweet &amp;amp; Share #URL#</td>\n      <td>url repost</td>\n    </tr>\n    <tr>\n      <th>65944</th>\n      <td>en</td>\n      <td>e4c296ef32aaf5ca9f293fa3a62a3694</td>\n      <td>#HASHTAG# ! Retweet &amp;amp; Share #URL#</td>\n      <td>url repost</td>\n    </tr>\n    <tr>\n      <th>65954</th>\n      <td>en</td>\n      <td>e4c296ef32aaf5ca9f293fa3a62a3694</td>\n      <td>Retweet &amp;amp; Share #URL#</td>\n      <td>url repost</td>\n    </tr>\n    <tr>\n      <th>65956</th>\n      <td>en</td>\n      <td>e4c296ef32aaf5ca9f293fa3a62a3694</td>\n      <td>Retweet &amp;amp; Share #URL#</td>\n      <td>url repost</td>\n    </tr>\n    <tr>\n      <th>65966</th>\n      <td>en</td>\n      <td>e4c296ef32aaf5ca9f293fa3a62a3694</td>\n      <td>#HASHTAG# Retweet &amp;amp; Share #URL#</td>\n      <td>url repost</td>\n    </tr>\n    <tr>\n      <th>65974</th>\n      <td>en</td>\n      <td>e4c296ef32aaf5ca9f293fa3a62a3694</td>\n      <td>Retweet &amp;amp; Share #URL#</td>\n      <td>url repost</td>\n    </tr>\n    <tr>\n      <th>66218</th>\n      <td>en</td>\n      <td>98c59ff3e2cfc56b96ee3c49b3d46296</td>\n      <td>From earlier today #URL#</td>\n      <td>url repost</td>\n    </tr>\n    <tr>\n      <th>66226</th>\n      <td>en</td>\n      <td>98c59ff3e2cfc56b96ee3c49b3d46296</td>\n      <td>From earlier today #URL#</td>\n      <td>url repost</td>\n    </tr>\n    <tr>\n      <th>66253</th>\n      <td>en</td>\n      <td>98c59ff3e2cfc56b96ee3c49b3d46296</td>\n      <td>From earlier today #URL#</td>\n      <td>url repost</td>\n    </tr>\n    <tr>\n      <th>66280</th>\n      <td>en</td>\n      <td>98c59ff3e2cfc56b96ee3c49b3d46296</td>\n      <td>From earlier today #URL#</td>\n      <td>url repost</td>\n    </tr>\n    <tr>\n      <th>66322</th>\n      <td>en</td>\n      <td>98c59ff3e2cfc56b96ee3c49b3d46296</td>\n      <td>From earlier today #URL#</td>\n      <td>url repost</td>\n    </tr>\n    <tr>\n      <th>66323</th>\n      <td>en</td>\n      <td>98c59ff3e2cfc56b96ee3c49b3d46296</td>\n      <td>From earlier today #URL#</td>\n      <td>url repost</td>\n    </tr>\n    <tr>\n      <th>66324</th>\n      <td>en</td>\n      <td>98c59ff3e2cfc56b96ee3c49b3d46296</td>\n      <td>From earlier today #URL#</td>\n      <td>url repost</td>\n    </tr>\n    <tr>\n      <th>66328</th>\n      <td>en</td>\n      <td>98c59ff3e2cfc56b96ee3c49b3d46296</td>\n      <td>From earlier today #URL#</td>\n      <td>url repost</td>\n    </tr>\n    <tr>\n      <th>66329</th>\n      <td>en</td>\n      <td>98c59ff3e2cfc56b96ee3c49b3d46296</td>\n      <td>From earlier today #URL#</td>\n      <td>url repost</td>\n    </tr>\n    <tr>\n      <th>66330</th>\n      <td>en</td>\n      <td>98c59ff3e2cfc56b96ee3c49b3d46296</td>\n      <td>From earlier today #URL#</td>\n      <td>url repost</td>\n    </tr>\n    <tr>\n      <th>66331</th>\n      <td>en</td>\n      <td>98c59ff3e2cfc56b96ee3c49b3d46296</td>\n      <td>From earlier today #URL#</td>\n      <td>url repost</td>\n    </tr>\n    <tr>\n      <th>66332</th>\n      <td>en</td>\n      <td>98c59ff3e2cfc56b96ee3c49b3d46296</td>\n      <td>From earlier today #URL#</td>\n      <td>url repost</td>\n    </tr>\n    <tr>\n      <th>66333</th>\n      <td>en</td>\n      <td>98c59ff3e2cfc56b96ee3c49b3d46296</td>\n      <td>From earlier today #URL#</td>\n      <td>url repost</td>\n    </tr>\n    <tr>\n      <th>66334</th>\n      <td>en</td>\n      <td>98c59ff3e2cfc56b96ee3c49b3d46296</td>\n      <td>From earlier today #URL#</td>\n      <td>url repost</td>\n    </tr>\n    <tr>\n      <th>66335</th>\n      <td>en</td>\n      <td>98c59ff3e2cfc56b96ee3c49b3d46296</td>\n      <td>From earlier today #URL#</td>\n      <td>url repost</td>\n    </tr>\n    <tr>\n      <th>66336</th>\n      <td>en</td>\n      <td>98c59ff3e2cfc56b96ee3c49b3d46296</td>\n      <td>From earlier today #URL#</td>\n      <td>url repost</td>\n    </tr>\n    <tr>\n      <th>66337</th>\n      <td>en</td>\n      <td>98c59ff3e2cfc56b96ee3c49b3d46296</td>\n      <td>From earlier today #URL#</td>\n      <td>url repost</td>\n    </tr>\n    <tr>\n      <th>66338</th>\n      <td>en</td>\n      <td>98c59ff3e2cfc56b96ee3c49b3d46296</td>\n      <td>From earlier today #URL#</td>\n      <td>url repost</td>\n    </tr>\n    <tr>\n      <th>66341</th>\n      <td>en</td>\n      <td>98c59ff3e2cfc56b96ee3c49b3d46296</td>\n      <td>From earlier today #URL#</td>\n      <td>url repost</td>\n    </tr>\n  </tbody>\n</table>\n</div>"
     },
     "metadata": {}
    }
   ],
   "execution_count": 32
  },
  {
   "cell_type": "markdown",
   "source": "# Data pre-processing",
   "metadata": {
    "tags": [],
    "is_collapsed": false,
    "cell_id": "00072-5e923c6e-e321-4a89-8aa9-290bfa397054",
    "deepnote_cell_type": "text-cell-h1"
   }
  },
  {
   "cell_type": "markdown",
   "source": "## Removing multiplicated tweets",
   "metadata": {
    "tags": [],
    "is_collapsed": false,
    "cell_id": "00073-6662ad48-bf03-4f55-a847-54028f6c425b",
    "deepnote_cell_type": "text-cell-h2"
   }
  },
  {
   "cell_type": "markdown",
   "source": "Next step in cleaning of the data is to create a copy of the dataframe where `data[\"flag\"].isna()`. The cleaning would be super easy now.",
   "metadata": {
    "tags": [],
    "cell_id": "00074-ad97911a-c553-4cbf-a203-47702036dcb0",
    "deepnote_cell_type": "markdown"
   }
  },
  {
   "cell_type": "code",
   "metadata": {
    "tags": [],
    "deepnote_to_be_reexecuted": false,
    "source_hash": "b19defc7",
    "execution_start": 1637778130389,
    "execution_millis": 51,
    "deepnote_output_heights": [
     576.0625
    ],
    "cell_id": "00075-583f61ce-1cd5-4da2-9899-663b766ef7d9",
    "deepnote_cell_type": "code"
   },
   "source": "# Cleaning data:\nclean_data = data[data[\"flag\"].isna()].copy()\n\n# Final multiplicates check:\nclean_data[\"tweet\"][clean_data[\"tweet\"].duplicated(keep=False)].value_counts().head(30)",
   "outputs": [
    {
     "output_type": "execute_result",
     "execution_count": 33,
     "data": {
      "text/plain": "#USER# Carnival Cruises Must Drop George Lopez For Disgusting Call To Kill The President                                      14\n#USER# El gran \"regenerador\" #USER#, que echó a Rajoy por corrupción, brinda su apoyo total a Iglesias y a sus corruptelas    11\nPolitical Cartoons - 2020 #URL#                                                                                                9\nRT #USER#: “...tiene un problema moral.” #URL#                                                                                 9\n#USER# Muslims and Hispanics are taking over the USA with the help of Democrats. Vote Republican !!!                           9\nPolitical Cartoons by AF Branco #URL#                                                                                          8\nBuenas noches y buen descanso #URL#                                                                                            8\nRT #USER#: Want to thank God for allowing me to see another day...                                                             7\nRise &amp; Grind                                                                                                               7\nRT #USER#: You just had to be there #URL#                                                                                      7\n#USER# ¡Feliz cumpleaños! Que pases un día muy feliz. Un beso                                                                  7\nManufactured Home For Sale in El Cajon, CA #URL#                                                                               7\n#USER# I said here I'm done, and this is where it ends. #URL#                                                                  6\nRT #USER#: You had to be there #URL#                                                                                           6\nRT #USER#: ¿Que preferís? ❤ Echenique en la prisión 🔁 Echenique devuelto a Argentina                                           6\n#USER# RT que rico culo                                                                                                        6\nRT #USER#: Irene Montero explicándole a Marie Curie que si quiere puede ser científica. #URL#                                  6\nRT #USER#: Vox ha pedido que el movimiento antifascista sea declarado organización terrorista. RT si lo apoyas.                6\n#USER# Or better yet, read this article for a common sense perspective. #URL#                                                  5\nRT #USER#: Zasca!!!!!!!!!!!!!! de #USER# a #USER# . Vía #USER# #URL#                                                           5\n#USER# Nicole Arbour EXPOSES 🖕🏽BLM👺 in EPIC 2 min rant!! #URL# via #USER#                                                      5\nRT #USER#: Feminismo islámico. Lección 1. #URL#                                                                                5\n#USER# #USER# Here is some more info about an Article V Convention. #URL#                                                      5\nRT #USER#: Muy grande la cantante Bebe. Así,Si. #URL#                                                                          5\nRT #USER#: Podían haber destruido las armas ,antes de asesinar a mi hijo #URL#                                                 5\n#USER# Buenos días Francisco 🇪🇦                                                                                                5\n#USER# Democrats are bringing Muslims and AntiSemites Into Congress Vote Republican. !!                                        5\n#USER# DECEITFUL NANCY🧟‍♀️PELOSI👺 CAN'T HIDE THIS EVIDENCE! #URL# via #USER#                                                   5\nPolitical Cartoons by Pat Cross #URL#                                                                                          5\nRT #USER#: Primeras multas de hasta 9.200 euros en Suiza por llevar burka #URL#                                                5\nName: tweet, dtype: int64"
     },
     "metadata": {}
    }
   ],
   "execution_count": 33
  },
  {
   "cell_type": "code",
   "metadata": {
    "tags": [],
    "deepnote_to_be_reexecuted": false,
    "source_hash": "70eef392",
    "execution_start": 1637778130447,
    "execution_millis": 9,
    "cell_id": "00076-133dbb8e-93b4-40ca-9c24-c077cd90d464",
    "deepnote_cell_type": "code"
   },
   "source": "# Flag column is not needed anymore\nclean_data.drop(columns=[\"flag\"], inplace=True)",
   "outputs": [],
   "execution_count": 34
  },
  {
   "cell_type": "code",
   "metadata": {
    "tags": [],
    "deepnote_to_be_reexecuted": false,
    "source_hash": "1f9f544",
    "execution_start": 1637778130457,
    "execution_millis": 32,
    "deepnote_output_heights": [
     20.5
    ],
    "cell_id": "00077-459558d6-06d4-4fc0-9409-aaf787bd9654",
    "deepnote_cell_type": "code"
   },
   "source": "data[~data[\"flag\"].isna()].shape",
   "outputs": [
    {
     "output_type": "execute_result",
     "execution_count": 35,
     "data": {
      "text/plain": "(465, 4)"
     },
     "metadata": {}
    }
   ],
   "execution_count": 35
  },
  {
   "cell_type": "code",
   "metadata": {
    "tags": [],
    "deepnote_to_be_reexecuted": false,
    "source_hash": "6018b1cc",
    "execution_start": 1637778130480,
    "execution_millis": 0,
    "deepnote_output_heights": [
     20.5
    ],
    "cell_id": "00078-69781abc-6d1e-4475-8409-7c1ad38fb7ba",
    "deepnote_cell_type": "code"
   },
   "source": "clean_data.shape",
   "outputs": [
    {
     "output_type": "execute_result",
     "execution_count": 36,
     "data": {
      "text/plain": "(79535, 3)"
     },
     "metadata": {}
    }
   ],
   "execution_count": 36
  },
  {
   "cell_type": "code",
   "metadata": {
    "tags": [],
    "deepnote_to_be_reexecuted": false,
    "source_hash": "6068888f",
    "execution_start": 1637778130506,
    "execution_millis": 18,
    "deepnote_output_heights": [
     20.5
    ],
    "cell_id": "00079-606eaac8-0ed2-47ec-93be-e2b5aec06dbf",
    "deepnote_cell_type": "code"
   },
   "source": "clean_data[\"tweet\"][clean_data[\"tweet\"].duplicated(keep=False)].shape",
   "outputs": [
    {
     "output_type": "execute_result",
     "execution_count": 37,
     "data": {
      "text/plain": "(2125,)"
     },
     "metadata": {}
    }
   ],
   "execution_count": 37
  },
  {
   "cell_type": "markdown",
   "source": "465 tweets have been removed from the original data, which is ~ 0.6% 🤦‍♂️\n\nThere are still 2125 tweets that are multiplied from many reasons. This is ~ 2.67% of the entire set post-cleaning.\n\nAnother chance to further clean the data will be after tokenization.",
   "metadata": {
    "tags": [],
    "cell_id": "00080-1db0d5b7-301b-4c05-8037-51dcf31a5b67",
    "deepnote_cell_type": "markdown"
   }
  },
  {
   "cell_type": "markdown",
   "source": "## Tokenization",
   "metadata": {
    "tags": [],
    "is_collapsed": false,
    "cell_id": "00081-06a0f8e2-3cbf-4c3b-9a8d-c8c704f8b03f",
    "deepnote_cell_type": "text-cell-h2"
   }
  },
  {
   "cell_type": "code",
   "metadata": {
    "tags": [],
    "deepnote_to_be_reexecuted": false,
    "source_hash": "c9cdae22",
    "execution_start": 1637778130542,
    "execution_millis": 17,
    "cell_id": "00082-fdf970d2-2399-4028-b5e2-53818ae7c562",
    "deepnote_cell_type": "code"
   },
   "source": "clean_data.sample(20)",
   "outputs": [
    {
     "output_type": "execute_result",
     "execution_count": 38,
     "data": {
      "application/vnd.deepnote.dataframe.v2+json": {
       "row_count": 20,
       "column_count": 3,
       "columns": [
        {
         "name": "lang",
         "dtype": "object",
         "stats": {
          "unique_count": 2,
          "nan_count": 0,
          "categories": [
           {
            "name": "es",
            "count": 14
           },
           {
            "name": "en",
            "count": 6
           }
          ]
         }
        },
        {
         "name": "userid",
         "dtype": "object",
         "stats": {
          "unique_count": 20,
          "nan_count": 0,
          "categories": [
           {
            "name": "fcbf05edac41e047fdb8d721065ec41f",
            "count": 1
           },
           {
            "name": "342a27905d2291b55486c257d77265b4",
            "count": 1
           },
           {
            "name": "18 others",
            "count": 18
           }
          ]
         }
        },
        {
         "name": "tweet",
         "dtype": "object",
         "stats": {
          "unique_count": 20,
          "nan_count": 0,
          "categories": [
           {
            "name": "#USER# #USER# Gracias Beily te queremos, a tu nobio no, luego te deposito cuando sea rica si",
            "count": 1
           },
           {
            "name": "#USER# The Wůhan was released by China intentionally as the final, literal \"Trump\" card to assist the DemonicRats in their theft.",
            "count": 1
           },
           {
            "name": "18 others",
            "count": 18
           }
          ]
         }
        },
        {
         "name": "_deepnote_index_column",
         "dtype": "int64"
        }
       ],
       "rows_top": [
        {
         "lang": "es",
         "userid": "fcbf05edac41e047fdb8d721065ec41f",
         "tweet": "#USER# #USER# Gracias Beily te queremos, a tu nobio no, luego te deposito cuando sea rica si",
         "_deepnote_index_column": 19523
        },
        {
         "lang": "en",
         "userid": "342a27905d2291b55486c257d77265b4",
         "tweet": "#USER# The Wůhan was released by China intentionally as the final, literal \"Trump\" card to assist t…",
         "_deepnote_index_column": 62915
        },
        {
         "lang": "es",
         "userid": "9ba85813abc8a8e5ba071d33a9a619a5",
         "tweet": "#USER# Jajajaja que rebanes más basuras va.",
         "_deepnote_index_column": 14332
        },
        {
         "lang": "es",
         "userid": "fa1a735295b654d2fceeead34dd71d96",
         "tweet": "#USER# Es más bien IGNORANCIA.",
         "_deepnote_index_column": 9638
        },
        {
         "lang": "es",
         "userid": "dd7364fed881e5ecba9b0d2ec954384b",
         "tweet": "A ver si esto vale para que traigan un central o mejor un centrocampista y Fali pase a central.",
         "_deepnote_index_column": 12535
        },
        {
         "lang": "es",
         "userid": "7fac4b2a0357eb17c50e8ff47b1b124a",
         "tweet": "Mi raza es blanca y muy orgulloso. Nadie va a conseguir que me avergüence de ello. #HASHTAG#",
         "_deepnote_index_column": 16569
        },
        {
         "lang": "es",
         "userid": "5c99a0013236d189a18ca6269ea75d10",
         "tweet": "#USER# #USER# #USER# #USER# Que les den a todos!! No creo que se refiera a que les den cerveza.",
         "_deepnote_index_column": 27884
        },
        {
         "lang": "es",
         "userid": "38b1490646422a7cce90c7d4e4f57658",
         "tweet": "#USER# Hay que preguntar si tiene novio y su signo del zodiaco, todo lo demás es machismo. 🤣",
         "_deepnote_index_column": 3067
        },
        {
         "lang": "es",
         "userid": "0e4a0376e41eb7d90b28cd08cdb4a844",
         "tweet": "El carrusel no se para sigue girando",
         "_deepnote_index_column": 16939
        },
        {
         "lang": "en",
         "userid": "c8006e782052410e43cdcdda668d11c4",
         "tweet": "Yes #USER# #USER# there is more to cricket than a duck however showing an Egret doesn't make much s…",
         "_deepnote_index_column": 75966
        },
        {
         "lang": "en",
         "userid": "562b522eacbcf4484566f658aed140aa",
         "tweet": "#USER# Encouraging words there!!! 😳",
         "_deepnote_index_column": 55444
        },
        {
         "lang": "es",
         "userid": "0d5bc439846845ca0282d30f26b92eee",
         "tweet": "Necesito estar unos días tirado en alguna playita y no de estacionamiento.",
         "_deepnote_index_column": 26813
        },
        {
         "lang": "en",
         "userid": "1b10072ed58f20f27d8fe35580ad26d4",
         "tweet": "I love getting cursed out🤣😂",
         "_deepnote_index_column": 61612
        },
        {
         "lang": "es",
         "userid": "7775117dbeb75838fbb7a21d5bf56eac",
         "tweet": "RT #USER#: Esto es para ponerlo en bucle. Inmenso #USER# esta mañana en el Congreso de los Diputado…",
         "_deepnote_index_column": 15620
        },
        {
         "lang": "es",
         "userid": "d5b5ec610c61c3ab48c38e554c0b3d5a",
         "tweet": "Acá el link del stream: #URL#",
         "_deepnote_index_column": 35564
        },
        {
         "lang": "es",
         "userid": "2ed31d51508fbfa1416c55508ab799ae",
         "tweet": "Que cosa linda ir a desayunar 💆🏻‍♀️",
         "_deepnote_index_column": 33441
        },
        {
         "lang": "es",
         "userid": "409136cf62565da8a3fa385803dad035",
         "tweet": "RT #USER#: Que España se vea envuelta en unas elecciones en Madrid por la tradición de Ciudadanos n…",
         "_deepnote_index_column": 12732
        },
        {
         "lang": "en",
         "userid": "bbd46b0659de5a173339aaebac2523fa",
         "tweet": "#USER# I don't like the way this vote is going. Can I vote for Bronson again?",
         "_deepnote_index_column": 74083
        },
        {
         "lang": "es",
         "userid": "461a5ba9ae0a8bb122bef9e6874f5359",
         "tweet": "#USER# yo creo q también igualmente naruto sigue estando arriba de todo pero aa",
         "_deepnote_index_column": 35160
        },
        {
         "lang": "en",
         "userid": "f6b4231dfadff637ebee124079bdce3e",
         "tweet": "#USER# They have nothing better to do.🤦🏼‍♀️",
         "_deepnote_index_column": 43565
        }
       ],
       "rows_bottom": null
      },
      "text/plain": "      lang                            userid  \\\n19523   es  fcbf05edac41e047fdb8d721065ec41f   \n62915   en  342a27905d2291b55486c257d77265b4   \n14332   es  9ba85813abc8a8e5ba071d33a9a619a5   \n9638    es  fa1a735295b654d2fceeead34dd71d96   \n12535   es  dd7364fed881e5ecba9b0d2ec954384b   \n16569   es  7fac4b2a0357eb17c50e8ff47b1b124a   \n27884   es  5c99a0013236d189a18ca6269ea75d10   \n3067    es  38b1490646422a7cce90c7d4e4f57658   \n16939   es  0e4a0376e41eb7d90b28cd08cdb4a844   \n75966   en  c8006e782052410e43cdcdda668d11c4   \n55444   en  562b522eacbcf4484566f658aed140aa   \n26813   es  0d5bc439846845ca0282d30f26b92eee   \n61612   en  1b10072ed58f20f27d8fe35580ad26d4   \n15620   es  7775117dbeb75838fbb7a21d5bf56eac   \n35564   es  d5b5ec610c61c3ab48c38e554c0b3d5a   \n33441   es  2ed31d51508fbfa1416c55508ab799ae   \n12732   es  409136cf62565da8a3fa385803dad035   \n74083   en  bbd46b0659de5a173339aaebac2523fa   \n35160   es  461a5ba9ae0a8bb122bef9e6874f5359   \n43565   en  f6b4231dfadff637ebee124079bdce3e   \n\n                                                   tweet  \n19523  #USER# #USER# Gracias Beily te queremos, a tu ...  \n62915  #USER# The Wůhan was released by China intenti...  \n14332        #USER# Jajajaja que rebanes más basuras va.  \n9638                      #USER# Es más bien IGNORANCIA.  \n12535  A ver si esto vale para que traigan un central...  \n16569  Mi raza es blanca y muy orgulloso. Nadie va a ...  \n27884  #USER# #USER# #USER# #USER# Que les den a todo...  \n3067   #USER# Hay que preguntar si tiene novio y su s...  \n16939               El carrusel no se para sigue girando  \n75966  Yes #USER# #USER# there is more to cricket tha...  \n55444                #USER# Encouraging words there!!! 😳  \n26813  Necesito estar unos días tirado en alguna play...  \n61612                        I love getting cursed out🤣😂  \n15620  RT #USER#: Esto es para ponerlo en bucle. Inme...  \n35564                      Acá el link del stream: #URL#  \n33441                Que cosa linda ir a desayunar 💆🏻‍♀️  \n12732  RT #USER#: Que España se vea envuelta en unas ...  \n74083  #USER# I don't like the way this vote is going...  \n35160  #USER# yo creo q también igualmente naruto sig...  \n43565        #USER# They have nothing better to do.🤦🏼‍♀️  ",
      "text/html": "<div>\n<style scoped>\n    .dataframe tbody tr th:only-of-type {\n        vertical-align: middle;\n    }\n\n    .dataframe tbody tr th {\n        vertical-align: top;\n    }\n\n    .dataframe thead th {\n        text-align: right;\n    }\n</style>\n<table border=\"1\" class=\"dataframe\">\n  <thead>\n    <tr style=\"text-align: right;\">\n      <th></th>\n      <th>lang</th>\n      <th>userid</th>\n      <th>tweet</th>\n    </tr>\n  </thead>\n  <tbody>\n    <tr>\n      <th>19523</th>\n      <td>es</td>\n      <td>fcbf05edac41e047fdb8d721065ec41f</td>\n      <td>#USER# #USER# Gracias Beily te queremos, a tu ...</td>\n    </tr>\n    <tr>\n      <th>62915</th>\n      <td>en</td>\n      <td>342a27905d2291b55486c257d77265b4</td>\n      <td>#USER# The Wůhan was released by China intenti...</td>\n    </tr>\n    <tr>\n      <th>14332</th>\n      <td>es</td>\n      <td>9ba85813abc8a8e5ba071d33a9a619a5</td>\n      <td>#USER# Jajajaja que rebanes más basuras va.</td>\n    </tr>\n    <tr>\n      <th>9638</th>\n      <td>es</td>\n      <td>fa1a735295b654d2fceeead34dd71d96</td>\n      <td>#USER# Es más bien IGNORANCIA.</td>\n    </tr>\n    <tr>\n      <th>12535</th>\n      <td>es</td>\n      <td>dd7364fed881e5ecba9b0d2ec954384b</td>\n      <td>A ver si esto vale para que traigan un central...</td>\n    </tr>\n    <tr>\n      <th>16569</th>\n      <td>es</td>\n      <td>7fac4b2a0357eb17c50e8ff47b1b124a</td>\n      <td>Mi raza es blanca y muy orgulloso. Nadie va a ...</td>\n    </tr>\n    <tr>\n      <th>27884</th>\n      <td>es</td>\n      <td>5c99a0013236d189a18ca6269ea75d10</td>\n      <td>#USER# #USER# #USER# #USER# Que les den a todo...</td>\n    </tr>\n    <tr>\n      <th>3067</th>\n      <td>es</td>\n      <td>38b1490646422a7cce90c7d4e4f57658</td>\n      <td>#USER# Hay que preguntar si tiene novio y su s...</td>\n    </tr>\n    <tr>\n      <th>16939</th>\n      <td>es</td>\n      <td>0e4a0376e41eb7d90b28cd08cdb4a844</td>\n      <td>El carrusel no se para sigue girando</td>\n    </tr>\n    <tr>\n      <th>75966</th>\n      <td>en</td>\n      <td>c8006e782052410e43cdcdda668d11c4</td>\n      <td>Yes #USER# #USER# there is more to cricket tha...</td>\n    </tr>\n    <tr>\n      <th>55444</th>\n      <td>en</td>\n      <td>562b522eacbcf4484566f658aed140aa</td>\n      <td>#USER# Encouraging words there!!! 😳</td>\n    </tr>\n    <tr>\n      <th>26813</th>\n      <td>es</td>\n      <td>0d5bc439846845ca0282d30f26b92eee</td>\n      <td>Necesito estar unos días tirado en alguna play...</td>\n    </tr>\n    <tr>\n      <th>61612</th>\n      <td>en</td>\n      <td>1b10072ed58f20f27d8fe35580ad26d4</td>\n      <td>I love getting cursed out🤣😂</td>\n    </tr>\n    <tr>\n      <th>15620</th>\n      <td>es</td>\n      <td>7775117dbeb75838fbb7a21d5bf56eac</td>\n      <td>RT #USER#: Esto es para ponerlo en bucle. Inme...</td>\n    </tr>\n    <tr>\n      <th>35564</th>\n      <td>es</td>\n      <td>d5b5ec610c61c3ab48c38e554c0b3d5a</td>\n      <td>Acá el link del stream: #URL#</td>\n    </tr>\n    <tr>\n      <th>33441</th>\n      <td>es</td>\n      <td>2ed31d51508fbfa1416c55508ab799ae</td>\n      <td>Que cosa linda ir a desayunar 💆🏻‍♀️</td>\n    </tr>\n    <tr>\n      <th>12732</th>\n      <td>es</td>\n      <td>409136cf62565da8a3fa385803dad035</td>\n      <td>RT #USER#: Que España se vea envuelta en unas ...</td>\n    </tr>\n    <tr>\n      <th>74083</th>\n      <td>en</td>\n      <td>bbd46b0659de5a173339aaebac2523fa</td>\n      <td>#USER# I don't like the way this vote is going...</td>\n    </tr>\n    <tr>\n      <th>35160</th>\n      <td>es</td>\n      <td>461a5ba9ae0a8bb122bef9e6874f5359</td>\n      <td>#USER# yo creo q también igualmente naruto sig...</td>\n    </tr>\n    <tr>\n      <th>43565</th>\n      <td>en</td>\n      <td>f6b4231dfadff637ebee124079bdce3e</td>\n      <td>#USER# They have nothing better to do.🤦🏼‍♀️</td>\n    </tr>\n  </tbody>\n</table>\n</div>"
     },
     "metadata": {}
    }
   ],
   "execution_count": 38
  },
  {
   "cell_type": "code",
   "metadata": {
    "tags": [],
    "deepnote_to_be_reexecuted": false,
    "source_hash": "f97ae692",
    "execution_start": 1637778130547,
    "execution_millis": 700,
    "cell_id": "00083-32f1c027-4dc9-4dff-a8b1-b05ba3f58b51",
    "deepnote_cell_type": "code"
   },
   "source": "# text cleaning\n\ndef clean_text(text):\n  # get rid of all unwanted punctuation and digits\n  text = text.replace(\"´\", \"'\")\n  # get rid of all hashtags\n  text = text.replace(\"RT #USER#:\", \"\")\n  text = re.sub( \"#[A-Z]*#\", \" \", text)\n\n  digi_punct = \"[^a-zA-Z'óúíáéñ ]\"  # óúí... are in the spanish alphabet\n  text = re.sub(digi_punct, \" \", text)\n\n  text = \" \".join(text.split())\n  text = text.lower()\n\n  return text\n\nclean_data['tweet_cleaned'] = clean_data['tweet'].apply(clean_text)",
   "outputs": [],
   "execution_count": 39
  },
  {
   "cell_type": "code",
   "metadata": {
    "tags": [],
    "deepnote_to_be_reexecuted": false,
    "source_hash": "c9cdae22",
    "execution_start": 1637778131260,
    "execution_millis": 123,
    "deepnote_output_heights": [
     606.53125
    ],
    "cell_id": "00084-e4044049-a1bd-441a-a355-1cfd719b5321",
    "deepnote_cell_type": "code"
   },
   "source": "clean_data.sample(20)",
   "outputs": [
    {
     "output_type": "execute_result",
     "execution_count": 40,
     "data": {
      "application/vnd.deepnote.dataframe.v2+json": {
       "row_count": 20,
       "column_count": 4,
       "columns": [
        {
         "name": "lang",
         "dtype": "object",
         "stats": {
          "unique_count": 2,
          "nan_count": 0,
          "categories": [
           {
            "name": "en",
            "count": 11
           },
           {
            "name": "es",
            "count": 9
           }
          ]
         }
        },
        {
         "name": "userid",
         "dtype": "object",
         "stats": {
          "unique_count": 19,
          "nan_count": 0,
          "categories": [
           {
            "name": "88cf4c881e19ba3a02c4e84521db65cc",
            "count": 2
           },
           {
            "name": "d0feaf7314acfc9272b75f936e12de3c",
            "count": 1
           },
           {
            "name": "17 others",
            "count": 17
           }
          ]
         }
        },
        {
         "name": "tweet",
         "dtype": "object",
         "stats": {
          "unique_count": 20,
          "nan_count": 0,
          "categories": [
           {
            "name": "#USER# Árbitro de la elegancia.",
            "count": 1
           },
           {
            "name": "RT #USER#: women in their 30’s be looking amazing so that gives me confirmation i’m only gonna get finer.",
            "count": 1
           },
           {
            "name": "18 others",
            "count": 18
           }
          ]
         }
        },
        {
         "name": "tweet_cleaned",
         "dtype": "object",
         "stats": {
          "unique_count": 20,
          "nan_count": 0,
          "categories": [
           {
            "name": "rbitro de la elegancia",
            "count": 1
           },
           {
            "name": "women in their s be looking amazing so that gives me confirmation i m only gonna get finer",
            "count": 1
           },
           {
            "name": "18 others",
            "count": 18
           }
          ]
         }
        },
        {
         "name": "_deepnote_index_column",
         "dtype": "int64"
        }
       ],
       "rows_top": [
        {
         "lang": "es",
         "userid": "d0feaf7314acfc9272b75f936e12de3c",
         "tweet": "#USER# Árbitro de la elegancia.",
         "tweet_cleaned": "rbitro de la elegancia",
         "_deepnote_index_column": 24884
        },
        {
         "lang": "en",
         "userid": "b7f4ead8c975203082dcea622621d2c3",
         "tweet": "RT #USER#: women in their 30’s be looking amazing so that gives me confirmation i’m only gonna get …",
         "tweet_cleaned": "women in their s be looking amazing so that gives me confirmation i m only gonna get finer",
         "_deepnote_index_column": 63932
        },
        {
         "lang": "es",
         "userid": "a0535c6e71eaeccc46c55eec2033c422",
         "tweet": "RT #USER#: Hacer una pintada en una carretera es fascismo y quemar las calles es antifascismo. ¿Es …",
         "tweet_cleaned": "hacer una pintada en una carretera es fascismo y quemar las calles es antifascismo es así no",
         "_deepnote_index_column": 26730
        },
        {
         "lang": "en",
         "userid": "99cb2cd23f7cf613d394502d17dedad0",
         "tweet": "RT #USER#: Bro you seen this man, that dog gunna be his best pal till he’s old and that fucking min…",
         "tweet_cleaned": "bro you seen this man that dog gunna be his best pal till he s old and that fucking mint",
         "_deepnote_index_column": 66139
        },
        {
         "lang": "es",
         "userid": "3513fd8fef887f0569151f9ce534acde",
         "tweet": "RT #USER#: palavecino ya es ídolo #URL#",
         "tweet_cleaned": "palavecino ya es ídolo",
         "_deepnote_index_column": 29458
        },
        {
         "lang": "es",
         "userid": "88cf4c881e19ba3a02c4e84521db65cc",
         "tweet": "#USER# D. E. P, Mi más sincero pésame 🙏🙏🙏",
         "tweet_cleaned": "d e p mi más sincero pésame",
         "_deepnote_index_column": 37095
        },
        {
         "lang": "en",
         "userid": "c8006e782052410e43cdcdda668d11c4",
         "tweet": "#USER# #USER# Postal ballots are open to fraud",
         "tweet_cleaned": "postal ballots are open to fraud",
         "_deepnote_index_column": 75902
        },
        {
         "lang": "en",
         "userid": "5b50fcecc61c850e961ff307bdce67a0",
         "tweet": "#HASHTAG# just me or does ch 9 soon not happy that storm won",
         "tweet_cleaned": "just me or does ch soon not happy that storm won",
         "_deepnote_index_column": 45531
        },
        {
         "lang": "en",
         "userid": "cb7b2b7612c3d7ca299387a47393f7e9",
         "tweet": "RT #USER#: #USER# As do we. #URL#",
         "tweet_cleaned": "as do we",
         "_deepnote_index_column": 64757
        },
        {
         "lang": "es",
         "userid": "88cf4c881e19ba3a02c4e84521db65cc",
         "tweet": "#USER# #USER# Yo he visto hasta amas de casa hacer la compra llevarla en el carro hasta casa y desp…",
         "tweet_cleaned": "yo he visto hasta amas de casa hacer la compra llevarla en el carro hasta casa y después dejarlo do…",
         "_deepnote_index_column": 37159
        },
        {
         "lang": "en",
         "userid": "fdb9f16899e3097e6db1f6a13d3572f8",
         "tweet": "RT #USER#: Ammunition sales in Va. skyrocket over growing concern of gun control, ammo shop says #U…",
         "tweet_cleaned": "ammunition sales in va skyrocket over growing concern of gun control ammo shop says",
         "_deepnote_index_column": 56091
        },
        {
         "lang": "en",
         "userid": "e07fa74c2ce94aaf2bc43b0b313d02da",
         "tweet": "#USER# #USER# Hey you stupid fuck shut the hell up! !",
         "tweet_cleaned": "hey you stupid fuck shut the hell up",
         "_deepnote_index_column": 67835
        },
        {
         "lang": "en",
         "userid": "e886cf9468db977abd24c7a068234609",
         "tweet": "RT #USER#: the fact that people respect the government is weird to me",
         "tweet_cleaned": "the fact that people respect the government is weird to me",
         "_deepnote_index_column": 64013
        },
        {
         "lang": "en",
         "userid": "54f81e27af90ed7c1c9409c332f0ca37",
         "tweet": "#USER# Glad to see such activity on this front.",
         "tweet_cleaned": "glad to see such activity on this front",
         "_deepnote_index_column": 66767
        },
        {
         "lang": "es",
         "userid": "53c21fa5d21bbc926ffcf3ac87d27eac",
         "tweet": "#USER# #USER# #USER# #USER# Ah, yo paso del tema..me la da igual, q me da lo mismo..🤸🏼‍♀️..",
         "tweet_cleaned": "ah yo paso del tema me la da igual q me da lo mismo",
         "_deepnote_index_column": 12943
        },
        {
         "lang": "es",
         "userid": "6d76e63dae6216b762bfa67034586663",
         "tweet": "Me flipa Civil Patrimonial pero es que es un tostonazo ... 🙄",
         "tweet_cleaned": "me flipa civil patrimonial pero es que es un tostonazo",
         "_deepnote_index_column": 29371
        },
        {
         "lang": "en",
         "userid": "83509a9da9ef01b1255d826abd587a93",
         "tweet": "FREE THIS MAN!! #URL#",
         "tweet_cleaned": "free this man",
         "_deepnote_index_column": 60309
        },
        {
         "lang": "es",
         "userid": "3ceae5710cb0e6131842a3ad9b3ed5de",
         "tweet": "reconocería esa boca en cualquier parte",
         "tweet_cleaned": "reconocería esa boca en cualquier parte",
         "_deepnote_index_column": 7333
        },
        {
         "lang": "en",
         "userid": "30be488aa93e8000aadb952a9cd5143c",
         "tweet": "RT #USER#: I got a job 😬 #URL#",
         "tweet_cleaned": "i got a job",
         "_deepnote_index_column": 78059
        },
        {
         "lang": "es",
         "userid": "5a941b52200e91c095064b9cc63a573a",
         "tweet": "#USER# #USER# #USER# vijila a tu mujer que te esta haciendo fraude con tu vecino le estan metiendo …",
         "tweet_cleaned": "vijila a tu mujer que te esta haciendo fraude con tu vecino le estan metiendo los votos validos",
         "_deepnote_index_column": 22531
        }
       ],
       "rows_bottom": null
      },
      "text/plain": "      lang                            userid  \\\n24884   es  d0feaf7314acfc9272b75f936e12de3c   \n63932   en  b7f4ead8c975203082dcea622621d2c3   \n26730   es  a0535c6e71eaeccc46c55eec2033c422   \n66139   en  99cb2cd23f7cf613d394502d17dedad0   \n29458   es  3513fd8fef887f0569151f9ce534acde   \n37095   es  88cf4c881e19ba3a02c4e84521db65cc   \n75902   en  c8006e782052410e43cdcdda668d11c4   \n45531   en  5b50fcecc61c850e961ff307bdce67a0   \n64757   en  cb7b2b7612c3d7ca299387a47393f7e9   \n37159   es  88cf4c881e19ba3a02c4e84521db65cc   \n56091   en  fdb9f16899e3097e6db1f6a13d3572f8   \n67835   en  e07fa74c2ce94aaf2bc43b0b313d02da   \n64013   en  e886cf9468db977abd24c7a068234609   \n66767   en  54f81e27af90ed7c1c9409c332f0ca37   \n12943   es  53c21fa5d21bbc926ffcf3ac87d27eac   \n29371   es  6d76e63dae6216b762bfa67034586663   \n60309   en  83509a9da9ef01b1255d826abd587a93   \n7333    es  3ceae5710cb0e6131842a3ad9b3ed5de   \n78059   en  30be488aa93e8000aadb952a9cd5143c   \n22531   es  5a941b52200e91c095064b9cc63a573a   \n\n                                                   tweet  \\\n24884                    #USER# Árbitro de la elegancia.   \n63932  RT #USER#: women in their 30’s be looking amaz...   \n26730  RT #USER#: Hacer una pintada en una carretera ...   \n66139  RT #USER#: Bro you seen this man, that dog gun...   \n29458            RT #USER#: palavecino ya es ídolo #URL#   \n37095          #USER# D. E. P, Mi más sincero pésame 🙏🙏🙏   \n75902     #USER# #USER# Postal ballots are open to fraud   \n45531  #HASHTAG# just me or does ch 9 soon not happy ...   \n64757                  RT #USER#: #USER# As do we. #URL#   \n37159  #USER# #USER# Yo he visto hasta amas de casa h...   \n56091  RT #USER#: Ammunition sales in Va. skyrocket o...   \n67835  #USER# #USER# Hey you stupid fuck shut the hel...   \n64013  RT #USER#: the fact that people respect the go...   \n66767    #USER# Glad to see such activity on this front.   \n12943  #USER# #USER# #USER# #USER# Ah, yo paso del te...   \n29371  Me flipa Civil Patrimonial pero es que es un t...   \n60309                              FREE THIS MAN!! #URL#   \n7333             reconocería esa boca en cualquier parte   \n78059                     RT #USER#: I got a job 😬 #URL#   \n22531  #USER# #USER# #USER# vijila a tu mujer que te ...   \n\n                                           tweet_cleaned  \n24884                             rbitro de la elegancia  \n63932  women in their s be looking amazing so that gi...  \n26730  hacer una pintada en una carretera es fascismo...  \n66139  bro you seen this man that dog gunna be his be...  \n29458                             palavecino ya es ídolo  \n37095                        d e p mi más sincero pésame  \n75902                   postal ballots are open to fraud  \n45531   just me or does ch soon not happy that storm won  \n64757                                           as do we  \n37159  yo he visto hasta amas de casa hacer la compra...  \n56091  ammunition sales in va skyrocket over growing ...  \n67835               hey you stupid fuck shut the hell up  \n64013  the fact that people respect the government is...  \n66767            glad to see such activity on this front  \n12943  ah yo paso del tema me la da igual q me da lo ...  \n29371  me flipa civil patrimonial pero es que es un t...  \n60309                                      free this man  \n7333             reconocería esa boca en cualquier parte  \n78059                                        i got a job  \n22531  vijila a tu mujer que te esta haciendo fraude ...  ",
      "text/html": "<div>\n<style scoped>\n    .dataframe tbody tr th:only-of-type {\n        vertical-align: middle;\n    }\n\n    .dataframe tbody tr th {\n        vertical-align: top;\n    }\n\n    .dataframe thead th {\n        text-align: right;\n    }\n</style>\n<table border=\"1\" class=\"dataframe\">\n  <thead>\n    <tr style=\"text-align: right;\">\n      <th></th>\n      <th>lang</th>\n      <th>userid</th>\n      <th>tweet</th>\n      <th>tweet_cleaned</th>\n    </tr>\n  </thead>\n  <tbody>\n    <tr>\n      <th>24884</th>\n      <td>es</td>\n      <td>d0feaf7314acfc9272b75f936e12de3c</td>\n      <td>#USER# Árbitro de la elegancia.</td>\n      <td>rbitro de la elegancia</td>\n    </tr>\n    <tr>\n      <th>63932</th>\n      <td>en</td>\n      <td>b7f4ead8c975203082dcea622621d2c3</td>\n      <td>RT #USER#: women in their 30’s be looking amaz...</td>\n      <td>women in their s be looking amazing so that gi...</td>\n    </tr>\n    <tr>\n      <th>26730</th>\n      <td>es</td>\n      <td>a0535c6e71eaeccc46c55eec2033c422</td>\n      <td>RT #USER#: Hacer una pintada en una carretera ...</td>\n      <td>hacer una pintada en una carretera es fascismo...</td>\n    </tr>\n    <tr>\n      <th>66139</th>\n      <td>en</td>\n      <td>99cb2cd23f7cf613d394502d17dedad0</td>\n      <td>RT #USER#: Bro you seen this man, that dog gun...</td>\n      <td>bro you seen this man that dog gunna be his be...</td>\n    </tr>\n    <tr>\n      <th>29458</th>\n      <td>es</td>\n      <td>3513fd8fef887f0569151f9ce534acde</td>\n      <td>RT #USER#: palavecino ya es ídolo #URL#</td>\n      <td>palavecino ya es ídolo</td>\n    </tr>\n    <tr>\n      <th>37095</th>\n      <td>es</td>\n      <td>88cf4c881e19ba3a02c4e84521db65cc</td>\n      <td>#USER# D. E. P, Mi más sincero pésame 🙏🙏🙏</td>\n      <td>d e p mi más sincero pésame</td>\n    </tr>\n    <tr>\n      <th>75902</th>\n      <td>en</td>\n      <td>c8006e782052410e43cdcdda668d11c4</td>\n      <td>#USER# #USER# Postal ballots are open to fraud</td>\n      <td>postal ballots are open to fraud</td>\n    </tr>\n    <tr>\n      <th>45531</th>\n      <td>en</td>\n      <td>5b50fcecc61c850e961ff307bdce67a0</td>\n      <td>#HASHTAG# just me or does ch 9 soon not happy ...</td>\n      <td>just me or does ch soon not happy that storm won</td>\n    </tr>\n    <tr>\n      <th>64757</th>\n      <td>en</td>\n      <td>cb7b2b7612c3d7ca299387a47393f7e9</td>\n      <td>RT #USER#: #USER# As do we. #URL#</td>\n      <td>as do we</td>\n    </tr>\n    <tr>\n      <th>37159</th>\n      <td>es</td>\n      <td>88cf4c881e19ba3a02c4e84521db65cc</td>\n      <td>#USER# #USER# Yo he visto hasta amas de casa h...</td>\n      <td>yo he visto hasta amas de casa hacer la compra...</td>\n    </tr>\n    <tr>\n      <th>56091</th>\n      <td>en</td>\n      <td>fdb9f16899e3097e6db1f6a13d3572f8</td>\n      <td>RT #USER#: Ammunition sales in Va. skyrocket o...</td>\n      <td>ammunition sales in va skyrocket over growing ...</td>\n    </tr>\n    <tr>\n      <th>67835</th>\n      <td>en</td>\n      <td>e07fa74c2ce94aaf2bc43b0b313d02da</td>\n      <td>#USER# #USER# Hey you stupid fuck shut the hel...</td>\n      <td>hey you stupid fuck shut the hell up</td>\n    </tr>\n    <tr>\n      <th>64013</th>\n      <td>en</td>\n      <td>e886cf9468db977abd24c7a068234609</td>\n      <td>RT #USER#: the fact that people respect the go...</td>\n      <td>the fact that people respect the government is...</td>\n    </tr>\n    <tr>\n      <th>66767</th>\n      <td>en</td>\n      <td>54f81e27af90ed7c1c9409c332f0ca37</td>\n      <td>#USER# Glad to see such activity on this front.</td>\n      <td>glad to see such activity on this front</td>\n    </tr>\n    <tr>\n      <th>12943</th>\n      <td>es</td>\n      <td>53c21fa5d21bbc926ffcf3ac87d27eac</td>\n      <td>#USER# #USER# #USER# #USER# Ah, yo paso del te...</td>\n      <td>ah yo paso del tema me la da igual q me da lo ...</td>\n    </tr>\n    <tr>\n      <th>29371</th>\n      <td>es</td>\n      <td>6d76e63dae6216b762bfa67034586663</td>\n      <td>Me flipa Civil Patrimonial pero es que es un t...</td>\n      <td>me flipa civil patrimonial pero es que es un t...</td>\n    </tr>\n    <tr>\n      <th>60309</th>\n      <td>en</td>\n      <td>83509a9da9ef01b1255d826abd587a93</td>\n      <td>FREE THIS MAN!! #URL#</td>\n      <td>free this man</td>\n    </tr>\n    <tr>\n      <th>7333</th>\n      <td>es</td>\n      <td>3ceae5710cb0e6131842a3ad9b3ed5de</td>\n      <td>reconocería esa boca en cualquier parte</td>\n      <td>reconocería esa boca en cualquier parte</td>\n    </tr>\n    <tr>\n      <th>78059</th>\n      <td>en</td>\n      <td>30be488aa93e8000aadb952a9cd5143c</td>\n      <td>RT #USER#: I got a job 😬 #URL#</td>\n      <td>i got a job</td>\n    </tr>\n    <tr>\n      <th>22531</th>\n      <td>es</td>\n      <td>5a941b52200e91c095064b9cc63a573a</td>\n      <td>#USER# #USER# #USER# vijila a tu mujer que te ...</td>\n      <td>vijila a tu mujer que te esta haciendo fraude ...</td>\n    </tr>\n  </tbody>\n</table>\n</div>"
     },
     "metadata": {}
    }
   ],
   "execution_count": 40
  },
  {
   "cell_type": "markdown",
   "source": "## Remove stopwords",
   "metadata": {
    "tags": [],
    "is_collapsed": false,
    "cell_id": "00086-eed1c377-f992-45de-ac5f-0389491573b6",
    "deepnote_cell_type": "text-cell-h2"
   }
  },
  {
   "cell_type": "code",
   "source": "import nltk\nnltk.download('stopwords')\nfrom nltk.corpus import stopwords\nprint(stopwords.words(\"english\"))\nprint(stopwords.words(\"spanish\"))",
   "metadata": {
    "tags": [],
    "cell_id": "00086-131a263c-2739-469b-b454-7bbd6d259320",
    "deepnote_to_be_reexecuted": false,
    "source_hash": "91ddf921",
    "execution_start": 1637778131353,
    "execution_millis": 694,
    "deepnote_cell_type": "code"
   },
   "outputs": [
    {
     "name": "stdout",
     "text": "['i', 'me', 'my', 'myself', 'we', 'our', 'ours', 'ourselves', 'you', \"you're\", \"you've\", \"you'll\", \"you'd\", 'your', 'yours', 'yourself', 'yourselves', 'he', 'him', 'his', 'himself', 'she', \"she's\", 'her', 'hers', 'herself', 'it', \"it's\", 'its', 'itself', 'they', 'them', 'their', 'theirs', 'themselves', 'what', 'which', 'who', 'whom', 'this', 'that', \"that'll\", 'these', 'those', 'am', 'is', 'are', 'was', 'were', 'be', 'been', 'being', 'have', 'has', 'had', 'having', 'do', 'does', 'did', 'doing', 'a', 'an', 'the', 'and', 'but', 'if', 'or', 'because', 'as', 'until', 'while', 'of', 'at', 'by', 'for', 'with', 'about', 'against', 'between', 'into', 'through', 'during', 'before', 'after', 'above', 'below', 'to', 'from', 'up', 'down', 'in', 'out', 'on', 'off', 'over', 'under', 'again', 'further', 'then', 'once', 'here', 'there', 'when', 'where', 'why', 'how', 'all', 'any', 'both', 'each', 'few', 'more', 'most', 'other', 'some', 'such', 'no', 'nor', 'not', 'only', 'own', 'same', 'so', 'than', 'too', 'very', 's', 't', 'can', 'will', 'just', 'don', \"don't\", 'should', \"should've\", 'now', 'd', 'll', 'm', 'o', 're', 've', 'y', 'ain', 'aren', \"aren't\", 'couldn', \"couldn't\", 'didn', \"didn't\", 'doesn', \"doesn't\", 'hadn', \"hadn't\", 'hasn', \"hasn't\", 'haven', \"haven't\", 'isn', \"isn't\", 'ma', 'mightn', \"mightn't\", 'mustn', \"mustn't\", 'needn', \"needn't\", 'shan', \"shan't\", 'shouldn', \"shouldn't\", 'wasn', \"wasn't\", 'weren', \"weren't\", 'won', \"won't\", 'wouldn', \"wouldn't\"]\n['de', 'la', 'que', 'el', 'en', 'y', 'a', 'los', 'del', 'se', 'las', 'por', 'un', 'para', 'con', 'no', 'una', 'su', 'al', 'lo', 'como', 'más', 'pero', 'sus', 'le', 'ya', 'o', 'este', 'sí', 'porque', 'esta', 'entre', 'cuando', 'muy', 'sin', 'sobre', 'también', 'me', 'hasta', 'hay', 'donde', 'quien', 'desde', 'todo', 'nos', 'durante', 'todos', 'uno', 'les', 'ni', 'contra', 'otros', 'ese', 'eso', 'ante', 'ellos', 'e', 'esto', 'mí', 'antes', 'algunos', 'qué', 'unos', 'yo', 'otro', 'otras', 'otra', 'él', 'tanto', 'esa', 'estos', 'mucho', 'quienes', 'nada', 'muchos', 'cual', 'poco', 'ella', 'estar', 'estas', 'algunas', 'algo', 'nosotros', 'mi', 'mis', 'tú', 'te', 'ti', 'tu', 'tus', 'ellas', 'nosotras', 'vosotros', 'vosotras', 'os', 'mío', 'mía', 'míos', 'mías', 'tuyo', 'tuya', 'tuyos', 'tuyas', 'suyo', 'suya', 'suyos', 'suyas', 'nuestro', 'nuestra', 'nuestros', 'nuestras', 'vuestro', 'vuestra', 'vuestros', 'vuestras', 'esos', 'esas', 'estoy', 'estás', 'está', 'estamos', 'estáis', 'están', 'esté', 'estés', 'estemos', 'estéis', 'estén', 'estaré', 'estarás', 'estará', 'estaremos', 'estaréis', 'estarán', 'estaría', 'estarías', 'estaríamos', 'estaríais', 'estarían', 'estaba', 'estabas', 'estábamos', 'estabais', 'estaban', 'estuve', 'estuviste', 'estuvo', 'estuvimos', 'estuvisteis', 'estuvieron', 'estuviera', 'estuvieras', 'estuviéramos', 'estuvierais', 'estuvieran', 'estuviese', 'estuvieses', 'estuviésemos', 'estuvieseis', 'estuviesen', 'estando', 'estado', 'estada', 'estados', 'estadas', 'estad', 'he', 'has', 'ha', 'hemos', 'habéis', 'han', 'haya', 'hayas', 'hayamos', 'hayáis', 'hayan', 'habré', 'habrás', 'habrá', 'habremos', 'habréis', 'habrán', 'habría', 'habrías', 'habríamos', 'habríais', 'habrían', 'había', 'habías', 'habíamos', 'habíais', 'habían', 'hube', 'hubiste', 'hubo', 'hubimos', 'hubisteis', 'hubieron', 'hubiera', 'hubieras', 'hubiéramos', 'hubierais', 'hubieran', 'hubiese', 'hubieses', 'hubiésemos', 'hubieseis', 'hubiesen', 'habiendo', 'habido', 'habida', 'habidos', 'habidas', 'soy', 'eres', 'es', 'somos', 'sois', 'son', 'sea', 'seas', 'seamos', 'seáis', 'sean', 'seré', 'serás', 'será', 'seremos', 'seréis', 'serán', 'sería', 'serías', 'seríamos', 'seríais', 'serían', 'era', 'eras', 'éramos', 'erais', 'eran', 'fui', 'fuiste', 'fue', 'fuimos', 'fuisteis', 'fueron', 'fuera', 'fueras', 'fuéramos', 'fuerais', 'fueran', 'fuese', 'fueses', 'fuésemos', 'fueseis', 'fuesen', 'sintiendo', 'sentido', 'sentida', 'sentidos', 'sentidas', 'siente', 'sentid', 'tengo', 'tienes', 'tiene', 'tenemos', 'tenéis', 'tienen', 'tenga', 'tengas', 'tengamos', 'tengáis', 'tengan', 'tendré', 'tendrás', 'tendrá', 'tendremos', 'tendréis', 'tendrán', 'tendría', 'tendrías', 'tendríamos', 'tendríais', 'tendrían', 'tenía', 'tenías', 'teníamos', 'teníais', 'tenían', 'tuve', 'tuviste', 'tuvo', 'tuvimos', 'tuvisteis', 'tuvieron', 'tuviera', 'tuvieras', 'tuviéramos', 'tuvierais', 'tuvieran', 'tuviese', 'tuvieses', 'tuviésemos', 'tuvieseis', 'tuviesen', 'teniendo', 'tenido', 'tenida', 'tenidos', 'tenidas', 'tened']\n[nltk_data] Downloading package stopwords to /root/nltk_data...\n[nltk_data]   Unzipping corpora/stopwords.zip.\n",
     "output_type": "stream"
    }
   ],
   "execution_count": 41
  },
  {
   "cell_type": "code",
   "source": "esen_stopwords = stopwords.words(\"english\") + stopwords.words(\"spanish\")\n\nclean_data[\"tweet_nostopw\"] = clean_data[\"tweet_cleaned\"].apply(\n    lambda text: \" \".join([word for word in text.split() if word not in esen_stopwords]))",
   "metadata": {
    "tags": [],
    "cell_id": "00088-1c1169a5-ab07-48fc-8a7f-9e090cd86f1c",
    "deepnote_to_be_reexecuted": false,
    "source_hash": "bda98e06",
    "execution_start": 1637778132065,
    "execution_millis": 5654,
    "deepnote_output_heights": [
     319.234375
    ],
    "is_code_hidden": false,
    "deepnote_cell_type": "code"
   },
   "outputs": [],
   "execution_count": 42
  },
  {
   "cell_type": "code",
   "source": "clean_data.sample(10)",
   "metadata": {
    "tags": [],
    "cell_id": "00089-0037b4a7-1903-42b6-b22f-7c22a7e96782",
    "deepnote_to_be_reexecuted": false,
    "source_hash": "2b35b334",
    "execution_start": 1637778137735,
    "execution_millis": 50,
    "deepnote_output_heights": [
     319.234375
    ],
    "deepnote_cell_type": "code"
   },
   "outputs": [
    {
     "output_type": "execute_result",
     "execution_count": 43,
     "data": {
      "application/vnd.deepnote.dataframe.v2+json": {
       "row_count": 10,
       "column_count": 5,
       "columns": [
        {
         "name": "lang",
         "dtype": "object",
         "stats": {
          "unique_count": 2,
          "nan_count": 0,
          "categories": [
           {
            "name": "en",
            "count": 5
           },
           {
            "name": "es",
            "count": 5
           }
          ]
         }
        },
        {
         "name": "userid",
         "dtype": "object",
         "stats": {
          "unique_count": 10,
          "nan_count": 0,
          "categories": [
           {
            "name": "f8bce0042a6c8fcfdb585a052e998afb",
            "count": 1
           },
           {
            "name": "f46ab3d2949d86b20afc5de5223370bd",
            "count": 1
           },
           {
            "name": "8 others",
            "count": 8
           }
          ]
         }
        },
        {
         "name": "tweet",
         "dtype": "object",
         "stats": {
          "unique_count": 10,
          "nan_count": 0,
          "categories": [
           {
            "name": "Patriarchy's ass kissers are boring me.",
            "count": 1
           },
           {
            "name": "RT #USER#: Altas ganas de gastarme toda la plata en ropa de Boca",
            "count": 1
           },
           {
            "name": "8 others",
            "count": 8
           }
          ]
         }
        },
        {
         "name": "tweet_cleaned",
         "dtype": "object",
         "stats": {
          "unique_count": 10,
          "nan_count": 0,
          "categories": [
           {
            "name": "patriarchy's ass kissers are boring me",
            "count": 1
           },
           {
            "name": "altas ganas de gastarme toda la plata en ropa de boca",
            "count": 1
           },
           {
            "name": "8 others",
            "count": 8
           }
          ]
         }
        },
        {
         "name": "tweet_nostopw",
         "dtype": "object",
         "stats": {
          "unique_count": 10,
          "nan_count": 0,
          "categories": [
           {
            "name": "patriarchy's ass kissers boring",
            "count": 1
           },
           {
            "name": "altas ganas gastarme toda plata ropa boca",
            "count": 1
           },
           {
            "name": "8 others",
            "count": 8
           }
          ]
         }
        },
        {
         "name": "_deepnote_index_column",
         "dtype": "int64"
        }
       ],
       "rows_top": [
        {
         "lang": "en",
         "userid": "f8bce0042a6c8fcfdb585a052e998afb",
         "tweet": "Patriarchy's ass kissers are boring me.",
         "tweet_cleaned": "patriarchy's ass kissers are boring me",
         "tweet_nostopw": "patriarchy's ass kissers boring",
         "_deepnote_index_column": 76519
        },
        {
         "lang": "es",
         "userid": "f46ab3d2949d86b20afc5de5223370bd",
         "tweet": "RT #USER#: Altas ganas de gastarme toda la plata en ropa de Boca",
         "tweet_cleaned": "altas ganas de gastarme toda la plata en ropa de boca",
         "tweet_nostopw": "altas ganas gastarme toda plata ropa boca",
         "_deepnote_index_column": 31030
        },
        {
         "lang": "es",
         "userid": "879a18d0695eef3d0bd1d691d1404eb4",
         "tweet": "#USER# ¿Imprimir? ¿Esto es una broma o qué? Y dicen que éste es también doctor en Economía. Válgame…",
         "tweet_cleaned": "imprimir esto es una broma o qué y dicen que éste es también doctor en economía válgame dios",
         "tweet_nostopw": "imprimir broma dicen éste doctor economía válgame dios",
         "_deepnote_index_column": 4540
        },
        {
         "lang": "en",
         "userid": "c129b2cf075e1872a86ce8f7473819af",
         "tweet": "#USER# #USER# Facts don't care about your feelings - Ben Shapiro. #USER#",
         "tweet_cleaned": "facts don't care about your feelings ben shapiro",
         "tweet_nostopw": "facts care feelings ben shapiro",
         "_deepnote_index_column": 65716
        },
        {
         "lang": "en",
         "userid": "0d02a3f644c9313315ecc6655ccfa3b9",
         "tweet": "#HASHTAG# So black history month is in August now and not February. OK then 💀💀💀💀",
         "tweet_cleaned": "so black history month is in august now and not february ok then",
         "tweet_nostopw": "black history month august february ok",
         "_deepnote_index_column": 72359
        },
        {
         "lang": "en",
         "userid": "98c59ff3e2cfc56b96ee3c49b3d46296",
         "tweet": "Dave an article for you #URL# #URL#",
         "tweet_cleaned": "dave an article for you",
         "tweet_nostopw": "dave article",
         "_deepnote_index_column": 66297
        },
        {
         "lang": "en",
         "userid": "e9f06b27f1108050bd27937cbacb1d5e",
         "tweet": "#USER# #USER# she be after that sucker",
         "tweet_cleaned": "she be after that sucker",
         "tweet_nostopw": "sucker",
         "_deepnote_index_column": 79842
        },
        {
         "lang": "es",
         "userid": "c69cd94c9f17dbeaf285b5bfe960c25d",
         "tweet": "RT #USER#: Ladrones. Roban dinero público para comprar aplausos a la infamia.",
         "tweet_cleaned": "ladrones roban dinero público para comprar aplausos a la infamia",
         "tweet_nostopw": "ladrones roban dinero público comprar aplausos infamia",
         "_deepnote_index_column": 14959
        },
        {
         "lang": "es",
         "userid": "d2f55b018c8dac971c33c8dcfc6b9b48",
         "tweet": "El nuevo Ford Mustang SUV #URL#",
         "tweet_cleaned": "el nuevo ford mustang suv",
         "tweet_nostopw": "nuevo ford mustang suv",
         "_deepnote_index_column": 36266
        },
        {
         "lang": "es",
         "userid": "00c1418fce0e39063eee22ec3e5179ec",
         "tweet": "RT #USER#: Algo habría hecho, todos sabemos que las mujeres son absolutamente incapaces de ejercer …",
         "tweet_cleaned": "algo habría hecho todos sabemos que las mujeres son absolutamente incapaces de ejercer cualquier ti…",
         "tweet_nostopw": "hecho sabemos mujeres absolutamente incapaces ejercer cualquier tipo violencia",
         "_deepnote_index_column": 32668
        }
       ],
       "rows_bottom": null
      },
      "text/plain": "      lang                            userid  \\\n76519   en  f8bce0042a6c8fcfdb585a052e998afb   \n31030   es  f46ab3d2949d86b20afc5de5223370bd   \n4540    es  879a18d0695eef3d0bd1d691d1404eb4   \n65716   en  c129b2cf075e1872a86ce8f7473819af   \n72359   en  0d02a3f644c9313315ecc6655ccfa3b9   \n66297   en  98c59ff3e2cfc56b96ee3c49b3d46296   \n79842   en  e9f06b27f1108050bd27937cbacb1d5e   \n14959   es  c69cd94c9f17dbeaf285b5bfe960c25d   \n36266   es  d2f55b018c8dac971c33c8dcfc6b9b48   \n32668   es  00c1418fce0e39063eee22ec3e5179ec   \n\n                                                   tweet  \\\n76519            Patriarchy's ass kissers are boring me.   \n31030  RT #USER#: Altas ganas de gastarme toda la pla...   \n4540   #USER# ¿Imprimir? ¿Esto es una broma o qué? Y ...   \n65716  #USER# #USER# Facts don't care about your feel...   \n72359  #HASHTAG# So black history month is in August ...   \n66297                Dave an article for you #URL# #URL#   \n79842             #USER# #USER# she be after that sucker   \n14959  RT #USER#: Ladrones. Roban dinero público para...   \n36266                    El nuevo Ford Mustang SUV #URL#   \n32668  RT #USER#: Algo habría hecho, todos sabemos qu...   \n\n                                           tweet_cleaned  \\\n76519             patriarchy's ass kissers are boring me   \n31030  altas ganas de gastarme toda la plata en ropa ...   \n4540   imprimir esto es una broma o qué y dicen que é...   \n65716   facts don't care about your feelings ben shapiro   \n72359  so black history month is in august now and no...   \n66297                            dave an article for you   \n79842                           she be after that sucker   \n14959  ladrones roban dinero público para comprar apl...   \n36266                          el nuevo ford mustang suv   \n32668  algo habría hecho todos sabemos que las mujere...   \n\n                                           tweet_nostopw  \n76519                    patriarchy's ass kissers boring  \n31030          altas ganas gastarme toda plata ropa boca  \n4540   imprimir broma dicen éste doctor economía válg...  \n65716                    facts care feelings ben shapiro  \n72359             black history month august february ok  \n66297                                       dave article  \n79842                                             sucker  \n14959  ladrones roban dinero público comprar aplausos...  \n36266                             nuevo ford mustang suv  \n32668  hecho sabemos mujeres absolutamente incapaces ...  ",
      "text/html": "<div>\n<style scoped>\n    .dataframe tbody tr th:only-of-type {\n        vertical-align: middle;\n    }\n\n    .dataframe tbody tr th {\n        vertical-align: top;\n    }\n\n    .dataframe thead th {\n        text-align: right;\n    }\n</style>\n<table border=\"1\" class=\"dataframe\">\n  <thead>\n    <tr style=\"text-align: right;\">\n      <th></th>\n      <th>lang</th>\n      <th>userid</th>\n      <th>tweet</th>\n      <th>tweet_cleaned</th>\n      <th>tweet_nostopw</th>\n    </tr>\n  </thead>\n  <tbody>\n    <tr>\n      <th>76519</th>\n      <td>en</td>\n      <td>f8bce0042a6c8fcfdb585a052e998afb</td>\n      <td>Patriarchy's ass kissers are boring me.</td>\n      <td>patriarchy's ass kissers are boring me</td>\n      <td>patriarchy's ass kissers boring</td>\n    </tr>\n    <tr>\n      <th>31030</th>\n      <td>es</td>\n      <td>f46ab3d2949d86b20afc5de5223370bd</td>\n      <td>RT #USER#: Altas ganas de gastarme toda la pla...</td>\n      <td>altas ganas de gastarme toda la plata en ropa ...</td>\n      <td>altas ganas gastarme toda plata ropa boca</td>\n    </tr>\n    <tr>\n      <th>4540</th>\n      <td>es</td>\n      <td>879a18d0695eef3d0bd1d691d1404eb4</td>\n      <td>#USER# ¿Imprimir? ¿Esto es una broma o qué? Y ...</td>\n      <td>imprimir esto es una broma o qué y dicen que é...</td>\n      <td>imprimir broma dicen éste doctor economía válg...</td>\n    </tr>\n    <tr>\n      <th>65716</th>\n      <td>en</td>\n      <td>c129b2cf075e1872a86ce8f7473819af</td>\n      <td>#USER# #USER# Facts don't care about your feel...</td>\n      <td>facts don't care about your feelings ben shapiro</td>\n      <td>facts care feelings ben shapiro</td>\n    </tr>\n    <tr>\n      <th>72359</th>\n      <td>en</td>\n      <td>0d02a3f644c9313315ecc6655ccfa3b9</td>\n      <td>#HASHTAG# So black history month is in August ...</td>\n      <td>so black history month is in august now and no...</td>\n      <td>black history month august february ok</td>\n    </tr>\n    <tr>\n      <th>66297</th>\n      <td>en</td>\n      <td>98c59ff3e2cfc56b96ee3c49b3d46296</td>\n      <td>Dave an article for you #URL# #URL#</td>\n      <td>dave an article for you</td>\n      <td>dave article</td>\n    </tr>\n    <tr>\n      <th>79842</th>\n      <td>en</td>\n      <td>e9f06b27f1108050bd27937cbacb1d5e</td>\n      <td>#USER# #USER# she be after that sucker</td>\n      <td>she be after that sucker</td>\n      <td>sucker</td>\n    </tr>\n    <tr>\n      <th>14959</th>\n      <td>es</td>\n      <td>c69cd94c9f17dbeaf285b5bfe960c25d</td>\n      <td>RT #USER#: Ladrones. Roban dinero público para...</td>\n      <td>ladrones roban dinero público para comprar apl...</td>\n      <td>ladrones roban dinero público comprar aplausos...</td>\n    </tr>\n    <tr>\n      <th>36266</th>\n      <td>es</td>\n      <td>d2f55b018c8dac971c33c8dcfc6b9b48</td>\n      <td>El nuevo Ford Mustang SUV #URL#</td>\n      <td>el nuevo ford mustang suv</td>\n      <td>nuevo ford mustang suv</td>\n    </tr>\n    <tr>\n      <th>32668</th>\n      <td>es</td>\n      <td>00c1418fce0e39063eee22ec3e5179ec</td>\n      <td>RT #USER#: Algo habría hecho, todos sabemos qu...</td>\n      <td>algo habría hecho todos sabemos que las mujere...</td>\n      <td>hecho sabemos mujeres absolutamente incapaces ...</td>\n    </tr>\n  </tbody>\n</table>\n</div>"
     },
     "metadata": {}
    }
   ],
   "execution_count": 43
  },
  {
   "cell_type": "markdown",
   "source": "## Lemmatization",
   "metadata": {
    "tags": [],
    "is_collapsed": false,
    "cell_id": "00090-c0644c48-e2b5-4eb2-b35c-d437a32f8132",
    "deepnote_cell_type": "text-cell-h2"
   }
  },
  {
   "cell_type": "code",
   "source": "!pip install -U spacy\n!python -m spacy download en_core_web_sm\n!python -m spacy download es_core_news_sm",
   "metadata": {
    "tags": [],
    "cell_id": "00091-ae10c186-0b5e-4b16-92d4-992e358971fc",
    "deepnote_to_be_reexecuted": false,
    "source_hash": "c77126b1",
    "execution_start": 1637778137785,
    "execution_millis": 28498,
    "output_cleared": false,
    "deepnote_cell_type": "code"
   },
   "outputs": [
    {
     "name": "stdout",
     "text": "Requirement already up-to-date: spacy in /shared-libs/python3.7/py/lib/python3.7/site-packages (3.2.0)\nRequirement already satisfied, skipping upgrade: catalogue<2.1.0,>=2.0.6 in /shared-libs/python3.7/py/lib/python3.7/site-packages (from spacy) (2.0.6)\nRequirement already satisfied, skipping upgrade: numpy>=1.15.0 in /shared-libs/python3.7/py/lib/python3.7/site-packages (from spacy) (1.19.5)\nRequirement already satisfied, skipping upgrade: blis<0.8.0,>=0.4.0 in /shared-libs/python3.7/py/lib/python3.7/site-packages (from spacy) (0.7.5)\nRequirement already satisfied, skipping upgrade: spacy-legacy<3.1.0,>=3.0.8 in /shared-libs/python3.7/py/lib/python3.7/site-packages (from spacy) (3.0.8)\nRequirement already satisfied, skipping upgrade: murmurhash<1.1.0,>=0.28.0 in /shared-libs/python3.7/py/lib/python3.7/site-packages (from spacy) (1.0.6)\nRequirement already satisfied, skipping upgrade: spacy-loggers<2.0.0,>=1.0.0 in /shared-libs/python3.7/py/lib/python3.7/site-packages (from spacy) (1.0.1)\nRequirement already satisfied, skipping upgrade: srsly<3.0.0,>=2.4.1 in /shared-libs/python3.7/py/lib/python3.7/site-packages (from spacy) (2.4.2)\nRequirement already satisfied, skipping upgrade: langcodes<4.0.0,>=3.2.0 in /shared-libs/python3.7/py/lib/python3.7/site-packages (from spacy) (3.3.0)\nRequirement already satisfied, skipping upgrade: typing-extensions<4.0.0.0,>=3.7.4; python_version < \"3.8\" in /shared-libs/python3.7/py-core/lib/python3.7/site-packages (from spacy) (3.10.0.2)\nRequirement already satisfied, skipping upgrade: pathy>=0.3.5 in /shared-libs/python3.7/py/lib/python3.7/site-packages (from spacy) (0.6.1)\nRequirement already satisfied, skipping upgrade: preshed<3.1.0,>=3.0.2 in /shared-libs/python3.7/py/lib/python3.7/site-packages (from spacy) (3.0.6)\nRequirement already satisfied, skipping upgrade: pydantic!=1.8,!=1.8.1,<1.9.0,>=1.7.4 in /shared-libs/python3.7/py/lib/python3.7/site-packages (from spacy) (1.8.2)\nRequirement already satisfied, skipping upgrade: setuptools in /root/venv/lib/python3.7/site-packages (from spacy) (47.1.0)\nRequirement already satisfied, skipping upgrade: packaging>=20.0 in /shared-libs/python3.7/py-core/lib/python3.7/site-packages (from spacy) (21.2)\nRequirement already satisfied, skipping upgrade: requests<3.0.0,>=2.13.0 in /shared-libs/python3.7/py/lib/python3.7/site-packages (from spacy) (2.26.0)\nRequirement already satisfied, skipping upgrade: typer<0.5.0,>=0.3.0 in /shared-libs/python3.7/py/lib/python3.7/site-packages (from spacy) (0.4.0)\nRequirement already satisfied, skipping upgrade: thinc<8.1.0,>=8.0.12 in /shared-libs/python3.7/py/lib/python3.7/site-packages (from spacy) (8.0.13)\nRequirement already satisfied, skipping upgrade: wasabi<1.1.0,>=0.8.1 in /shared-libs/python3.7/py/lib/python3.7/site-packages (from spacy) (0.8.2)\nRequirement already satisfied, skipping upgrade: jinja2 in /shared-libs/python3.7/py-core/lib/python3.7/site-packages (from spacy) (3.0.3)\nRequirement already satisfied, skipping upgrade: tqdm<5.0.0,>=4.38.0 in /shared-libs/python3.7/py/lib/python3.7/site-packages (from spacy) (4.62.3)\nRequirement already satisfied, skipping upgrade: cymem<2.1.0,>=2.0.2 in /shared-libs/python3.7/py/lib/python3.7/site-packages (from spacy) (2.0.6)\nRequirement already satisfied, skipping upgrade: zipp>=0.5; python_version < \"3.8\" in /shared-libs/python3.7/py-core/lib/python3.7/site-packages (from catalogue<2.1.0,>=2.0.6->spacy) (3.6.0)\nRequirement already satisfied, skipping upgrade: smart-open<6.0.0,>=5.0.0 in /shared-libs/python3.7/py/lib/python3.7/site-packages (from pathy>=0.3.5->spacy) (5.2.1)\nRequirement already satisfied, skipping upgrade: pyparsing<3,>=2.0.2 in /shared-libs/python3.7/py-core/lib/python3.7/site-packages (from packaging>=20.0->spacy) (2.4.7)\nRequirement already satisfied, skipping upgrade: charset-normalizer~=2.0.0; python_version >= \"3\" in /shared-libs/python3.7/py-core/lib/python3.7/site-packages (from requests<3.0.0,>=2.13.0->spacy) (2.0.7)\nRequirement already satisfied, skipping upgrade: certifi>=2017.4.17 in /shared-libs/python3.7/py/lib/python3.7/site-packages (from requests<3.0.0,>=2.13.0->spacy) (2021.10.8)\nRequirement already satisfied, skipping upgrade: idna<4,>=2.5; python_version >= \"3\" in /shared-libs/python3.7/py-core/lib/python3.7/site-packages (from requests<3.0.0,>=2.13.0->spacy) (3.3)\nRequirement already satisfied, skipping upgrade: urllib3<1.27,>=1.21.1 in /shared-libs/python3.7/py/lib/python3.7/site-packages (from requests<3.0.0,>=2.13.0->spacy) (1.26.7)\nRequirement already satisfied, skipping upgrade: click<9.0.0,>=7.1.1 in /shared-libs/python3.7/py/lib/python3.7/site-packages (from typer<0.5.0,>=0.3.0->spacy) (8.0.3)\nRequirement already satisfied, skipping upgrade: MarkupSafe>=2.0 in /shared-libs/python3.7/py-core/lib/python3.7/site-packages (from jinja2->spacy) (2.0.1)\nRequirement already satisfied, skipping upgrade: importlib-metadata; python_version < \"3.8\" in /shared-libs/python3.7/py-core/lib/python3.7/site-packages (from click<9.0.0,>=7.1.1->typer<0.5.0,>=0.3.0->spacy) (4.8.2)\n\u001b[33mWARNING: You are using pip version 20.1.1; however, version 21.3.1 is available.\nYou should consider upgrading via the '/root/venv/bin/python -m pip install --upgrade pip' command.\u001b[0m\n2021-11-24 18:22:24.938840: W tensorflow/stream_executor/platform/default/dso_loader.cc:60] Could not load dynamic library 'libcudart.so.11.0'; dlerror: libcudart.so.11.0: cannot open shared object file: No such file or directory\n2021-11-24 18:22:24.938897: I tensorflow/stream_executor/cuda/cudart_stub.cc:29] Ignore above cudart dlerror if you do not have a GPU set up on your machine.\nCollecting en-core-web-sm==3.2.0\n  Downloading https://github.com/explosion/spacy-models/releases/download/en_core_web_sm-3.2.0/en_core_web_sm-3.2.0-py3-none-any.whl (13.9 MB)\n\u001b[K     |████████████████████████████████| 13.9 MB 28.3 MB/s \n\u001b[?25hRequirement already satisfied: spacy<3.3.0,>=3.2.0 in /shared-libs/python3.7/py/lib/python3.7/site-packages (from en-core-web-sm==3.2.0) (3.2.0)\nRequirement already satisfied: pydantic!=1.8,!=1.8.1,<1.9.0,>=1.7.4 in /shared-libs/python3.7/py/lib/python3.7/site-packages (from spacy<3.3.0,>=3.2.0->en-core-web-sm==3.2.0) (1.8.2)\nRequirement already satisfied: murmurhash<1.1.0,>=0.28.0 in /shared-libs/python3.7/py/lib/python3.7/site-packages (from spacy<3.3.0,>=3.2.0->en-core-web-sm==3.2.0) (1.0.6)\nRequirement already satisfied: packaging>=20.0 in /shared-libs/python3.7/py-core/lib/python3.7/site-packages (from spacy<3.3.0,>=3.2.0->en-core-web-sm==3.2.0) (21.2)\nRequirement already satisfied: catalogue<2.1.0,>=2.0.6 in /shared-libs/python3.7/py/lib/python3.7/site-packages (from spacy<3.3.0,>=3.2.0->en-core-web-sm==3.2.0) (2.0.6)\nRequirement already satisfied: spacy-legacy<3.1.0,>=3.0.8 in /shared-libs/python3.7/py/lib/python3.7/site-packages (from spacy<3.3.0,>=3.2.0->en-core-web-sm==3.2.0) (3.0.8)\nRequirement already satisfied: typer<0.5.0,>=0.3.0 in /shared-libs/python3.7/py/lib/python3.7/site-packages (from spacy<3.3.0,>=3.2.0->en-core-web-sm==3.2.0) (0.4.0)\nRequirement already satisfied: requests<3.0.0,>=2.13.0 in /shared-libs/python3.7/py/lib/python3.7/site-packages (from spacy<3.3.0,>=3.2.0->en-core-web-sm==3.2.0) (2.26.0)\nRequirement already satisfied: typing-extensions<4.0.0.0,>=3.7.4; python_version < \"3.8\" in /shared-libs/python3.7/py-core/lib/python3.7/site-packages (from spacy<3.3.0,>=3.2.0->en-core-web-sm==3.2.0) (3.10.0.2)\nRequirement already satisfied: jinja2 in /shared-libs/python3.7/py-core/lib/python3.7/site-packages (from spacy<3.3.0,>=3.2.0->en-core-web-sm==3.2.0) (3.0.3)\nRequirement already satisfied: spacy-loggers<2.0.0,>=1.0.0 in /shared-libs/python3.7/py/lib/python3.7/site-packages (from spacy<3.3.0,>=3.2.0->en-core-web-sm==3.2.0) (1.0.1)\nRequirement already satisfied: preshed<3.1.0,>=3.0.2 in /shared-libs/python3.7/py/lib/python3.7/site-packages (from spacy<3.3.0,>=3.2.0->en-core-web-sm==3.2.0) (3.0.6)\nRequirement already satisfied: setuptools in /root/venv/lib/python3.7/site-packages (from spacy<3.3.0,>=3.2.0->en-core-web-sm==3.2.0) (47.1.0)\nRequirement already satisfied: srsly<3.0.0,>=2.4.1 in /shared-libs/python3.7/py/lib/python3.7/site-packages (from spacy<3.3.0,>=3.2.0->en-core-web-sm==3.2.0) (2.4.2)\nRequirement already satisfied: numpy>=1.15.0 in /shared-libs/python3.7/py/lib/python3.7/site-packages (from spacy<3.3.0,>=3.2.0->en-core-web-sm==3.2.0) (1.19.5)\nRequirement already satisfied: wasabi<1.1.0,>=0.8.1 in /shared-libs/python3.7/py/lib/python3.7/site-packages (from spacy<3.3.0,>=3.2.0->en-core-web-sm==3.2.0) (0.8.2)\nRequirement already satisfied: tqdm<5.0.0,>=4.38.0 in /shared-libs/python3.7/py/lib/python3.7/site-packages (from spacy<3.3.0,>=3.2.0->en-core-web-sm==3.2.0) (4.62.3)\nRequirement already satisfied: blis<0.8.0,>=0.4.0 in /shared-libs/python3.7/py/lib/python3.7/site-packages (from spacy<3.3.0,>=3.2.0->en-core-web-sm==3.2.0) (0.7.5)\nRequirement already satisfied: langcodes<4.0.0,>=3.2.0 in /shared-libs/python3.7/py/lib/python3.7/site-packages (from spacy<3.3.0,>=3.2.0->en-core-web-sm==3.2.0) (3.3.0)\nRequirement already satisfied: cymem<2.1.0,>=2.0.2 in /shared-libs/python3.7/py/lib/python3.7/site-packages (from spacy<3.3.0,>=3.2.0->en-core-web-sm==3.2.0) (2.0.6)\nRequirement already satisfied: thinc<8.1.0,>=8.0.12 in /shared-libs/python3.7/py/lib/python3.7/site-packages (from spacy<3.3.0,>=3.2.0->en-core-web-sm==3.2.0) (8.0.13)\nRequirement already satisfied: pathy>=0.3.5 in /shared-libs/python3.7/py/lib/python3.7/site-packages (from spacy<3.3.0,>=3.2.0->en-core-web-sm==3.2.0) (0.6.1)\nRequirement already satisfied: pyparsing<3,>=2.0.2 in /shared-libs/python3.7/py-core/lib/python3.7/site-packages (from packaging>=20.0->spacy<3.3.0,>=3.2.0->en-core-web-sm==3.2.0) (2.4.7)\nRequirement already satisfied: zipp>=0.5; python_version < \"3.8\" in /shared-libs/python3.7/py-core/lib/python3.7/site-packages (from catalogue<2.1.0,>=2.0.6->spacy<3.3.0,>=3.2.0->en-core-web-sm==3.2.0) (3.6.0)\nRequirement already satisfied: click<9.0.0,>=7.1.1 in /shared-libs/python3.7/py/lib/python3.7/site-packages (from typer<0.5.0,>=0.3.0->spacy<3.3.0,>=3.2.0->en-core-web-sm==3.2.0) (8.0.3)\nRequirement already satisfied: charset-normalizer~=2.0.0; python_version >= \"3\" in /shared-libs/python3.7/py-core/lib/python3.7/site-packages (from requests<3.0.0,>=2.13.0->spacy<3.3.0,>=3.2.0->en-core-web-sm==3.2.0) (2.0.7)\nRequirement already satisfied: idna<4,>=2.5; python_version >= \"3\" in /shared-libs/python3.7/py-core/lib/python3.7/site-packages (from requests<3.0.0,>=2.13.0->spacy<3.3.0,>=3.2.0->en-core-web-sm==3.2.0) (3.3)\nRequirement already satisfied: certifi>=2017.4.17 in /shared-libs/python3.7/py/lib/python3.7/site-packages (from requests<3.0.0,>=2.13.0->spacy<3.3.0,>=3.2.0->en-core-web-sm==3.2.0) (2021.10.8)\nRequirement already satisfied: urllib3<1.27,>=1.21.1 in /shared-libs/python3.7/py/lib/python3.7/site-packages (from requests<3.0.0,>=2.13.0->spacy<3.3.0,>=3.2.0->en-core-web-sm==3.2.0) (1.26.7)\nRequirement already satisfied: MarkupSafe>=2.0 in /shared-libs/python3.7/py-core/lib/python3.7/site-packages (from jinja2->spacy<3.3.0,>=3.2.0->en-core-web-sm==3.2.0) (2.0.1)\nRequirement already satisfied: smart-open<6.0.0,>=5.0.0 in /shared-libs/python3.7/py/lib/python3.7/site-packages (from pathy>=0.3.5->spacy<3.3.0,>=3.2.0->en-core-web-sm==3.2.0) (5.2.1)\nRequirement already satisfied: importlib-metadata; python_version < \"3.8\" in /shared-libs/python3.7/py-core/lib/python3.7/site-packages (from click<9.0.0,>=7.1.1->typer<0.5.0,>=0.3.0->spacy<3.3.0,>=3.2.0->en-core-web-sm==3.2.0) (4.8.2)\nInstalling collected packages: en-core-web-sm\nSuccessfully installed en-core-web-sm-3.2.0\n\u001b[33mWARNING: You are using pip version 20.1.1; however, version 21.3.1 is available.\nYou should consider upgrading via the '/root/venv/bin/python -m pip install --upgrade pip' command.\u001b[0m\n\u001b[38;5;2m✔ Download and installation successful\u001b[0m\nYou can now load the package via spacy.load('en_core_web_sm')\n2021-11-24 18:22:37.824715: W tensorflow/stream_executor/platform/default/dso_loader.cc:60] Could not load dynamic library 'libcudart.so.11.0'; dlerror: libcudart.so.11.0: cannot open shared object file: No such file or directory\n2021-11-24 18:22:37.824774: I tensorflow/stream_executor/cuda/cudart_stub.cc:29] Ignore above cudart dlerror if you do not have a GPU set up on your machine.\nCollecting es-core-news-sm==3.2.0\n  Downloading https://github.com/explosion/spacy-models/releases/download/es_core_news_sm-3.2.0/es_core_news_sm-3.2.0-py3-none-any.whl (14.0 MB)\n\u001b[K     |████████████████████████████████| 14.0 MB 16.4 MB/s \n\u001b[?25hRequirement already satisfied: spacy<3.3.0,>=3.2.0 in /shared-libs/python3.7/py/lib/python3.7/site-packages (from es-core-news-sm==3.2.0) (3.2.0)\nRequirement already satisfied: cymem<2.1.0,>=2.0.2 in /shared-libs/python3.7/py/lib/python3.7/site-packages (from spacy<3.3.0,>=3.2.0->es-core-news-sm==3.2.0) (2.0.6)\nRequirement already satisfied: numpy>=1.15.0 in /shared-libs/python3.7/py/lib/python3.7/site-packages (from spacy<3.3.0,>=3.2.0->es-core-news-sm==3.2.0) (1.19.5)\nRequirement already satisfied: setuptools in /root/venv/lib/python3.7/site-packages (from spacy<3.3.0,>=3.2.0->es-core-news-sm==3.2.0) (47.1.0)\nRequirement already satisfied: murmurhash<1.1.0,>=0.28.0 in /shared-libs/python3.7/py/lib/python3.7/site-packages (from spacy<3.3.0,>=3.2.0->es-core-news-sm==3.2.0) (1.0.6)\nRequirement already satisfied: packaging>=20.0 in /shared-libs/python3.7/py-core/lib/python3.7/site-packages (from spacy<3.3.0,>=3.2.0->es-core-news-sm==3.2.0) (21.2)\nRequirement already satisfied: spacy-legacy<3.1.0,>=3.0.8 in /shared-libs/python3.7/py/lib/python3.7/site-packages (from spacy<3.3.0,>=3.2.0->es-core-news-sm==3.2.0) (3.0.8)\nRequirement already satisfied: langcodes<4.0.0,>=3.2.0 in /shared-libs/python3.7/py/lib/python3.7/site-packages (from spacy<3.3.0,>=3.2.0->es-core-news-sm==3.2.0) (3.3.0)\nRequirement already satisfied: preshed<3.1.0,>=3.0.2 in /shared-libs/python3.7/py/lib/python3.7/site-packages (from spacy<3.3.0,>=3.2.0->es-core-news-sm==3.2.0) (3.0.6)\nRequirement already satisfied: srsly<3.0.0,>=2.4.1 in /shared-libs/python3.7/py/lib/python3.7/site-packages (from spacy<3.3.0,>=3.2.0->es-core-news-sm==3.2.0) (2.4.2)\nRequirement already satisfied: pydantic!=1.8,!=1.8.1,<1.9.0,>=1.7.4 in /shared-libs/python3.7/py/lib/python3.7/site-packages (from spacy<3.3.0,>=3.2.0->es-core-news-sm==3.2.0) (1.8.2)\nRequirement already satisfied: wasabi<1.1.0,>=0.8.1 in /shared-libs/python3.7/py/lib/python3.7/site-packages (from spacy<3.3.0,>=3.2.0->es-core-news-sm==3.2.0) (0.8.2)\nRequirement already satisfied: typer<0.5.0,>=0.3.0 in /shared-libs/python3.7/py/lib/python3.7/site-packages (from spacy<3.3.0,>=3.2.0->es-core-news-sm==3.2.0) (0.4.0)\nRequirement already satisfied: jinja2 in /shared-libs/python3.7/py-core/lib/python3.7/site-packages (from spacy<3.3.0,>=3.2.0->es-core-news-sm==3.2.0) (3.0.3)\nRequirement already satisfied: typing-extensions<4.0.0.0,>=3.7.4; python_version < \"3.8\" in /shared-libs/python3.7/py-core/lib/python3.7/site-packages (from spacy<3.3.0,>=3.2.0->es-core-news-sm==3.2.0) (3.10.0.2)\nRequirement already satisfied: pathy>=0.3.5 in /shared-libs/python3.7/py/lib/python3.7/site-packages (from spacy<3.3.0,>=3.2.0->es-core-news-sm==3.2.0) (0.6.1)\nRequirement already satisfied: catalogue<2.1.0,>=2.0.6 in /shared-libs/python3.7/py/lib/python3.7/site-packages (from spacy<3.3.0,>=3.2.0->es-core-news-sm==3.2.0) (2.0.6)\nRequirement already satisfied: blis<0.8.0,>=0.4.0 in /shared-libs/python3.7/py/lib/python3.7/site-packages (from spacy<3.3.0,>=3.2.0->es-core-news-sm==3.2.0) (0.7.5)\nRequirement already satisfied: spacy-loggers<2.0.0,>=1.0.0 in /shared-libs/python3.7/py/lib/python3.7/site-packages (from spacy<3.3.0,>=3.2.0->es-core-news-sm==3.2.0) (1.0.1)\nRequirement already satisfied: thinc<8.1.0,>=8.0.12 in /shared-libs/python3.7/py/lib/python3.7/site-packages (from spacy<3.3.0,>=3.2.0->es-core-news-sm==3.2.0) (8.0.13)\nRequirement already satisfied: requests<3.0.0,>=2.13.0 in /shared-libs/python3.7/py/lib/python3.7/site-packages (from spacy<3.3.0,>=3.2.0->es-core-news-sm==3.2.0) (2.26.0)\nRequirement already satisfied: tqdm<5.0.0,>=4.38.0 in /shared-libs/python3.7/py/lib/python3.7/site-packages (from spacy<3.3.0,>=3.2.0->es-core-news-sm==3.2.0) (4.62.3)\nRequirement already satisfied: pyparsing<3,>=2.0.2 in /shared-libs/python3.7/py-core/lib/python3.7/site-packages (from packaging>=20.0->spacy<3.3.0,>=3.2.0->es-core-news-sm==3.2.0) (2.4.7)\nRequirement already satisfied: click<9.0.0,>=7.1.1 in /shared-libs/python3.7/py/lib/python3.7/site-packages (from typer<0.5.0,>=0.3.0->spacy<3.3.0,>=3.2.0->es-core-news-sm==3.2.0) (8.0.3)\nRequirement already satisfied: MarkupSafe>=2.0 in /shared-libs/python3.7/py-core/lib/python3.7/site-packages (from jinja2->spacy<3.3.0,>=3.2.0->es-core-news-sm==3.2.0) (2.0.1)\nRequirement already satisfied: smart-open<6.0.0,>=5.0.0 in /shared-libs/python3.7/py/lib/python3.7/site-packages (from pathy>=0.3.5->spacy<3.3.0,>=3.2.0->es-core-news-sm==3.2.0) (5.2.1)\nRequirement already satisfied: zipp>=0.5; python_version < \"3.8\" in /shared-libs/python3.7/py-core/lib/python3.7/site-packages (from catalogue<2.1.0,>=2.0.6->spacy<3.3.0,>=3.2.0->es-core-news-sm==3.2.0) (3.6.0)\nRequirement already satisfied: certifi>=2017.4.17 in /shared-libs/python3.7/py/lib/python3.7/site-packages (from requests<3.0.0,>=2.13.0->spacy<3.3.0,>=3.2.0->es-core-news-sm==3.2.0) (2021.10.8)\nRequirement already satisfied: charset-normalizer~=2.0.0; python_version >= \"3\" in /shared-libs/python3.7/py-core/lib/python3.7/site-packages (from requests<3.0.0,>=2.13.0->spacy<3.3.0,>=3.2.0->es-core-news-sm==3.2.0) (2.0.7)\nRequirement already satisfied: urllib3<1.27,>=1.21.1 in /shared-libs/python3.7/py/lib/python3.7/site-packages (from requests<3.0.0,>=2.13.0->spacy<3.3.0,>=3.2.0->es-core-news-sm==3.2.0) (1.26.7)\nRequirement already satisfied: idna<4,>=2.5; python_version >= \"3\" in /shared-libs/python3.7/py-core/lib/python3.7/site-packages (from requests<3.0.0,>=2.13.0->spacy<3.3.0,>=3.2.0->es-core-news-sm==3.2.0) (3.3)\nRequirement already satisfied: importlib-metadata; python_version < \"3.8\" in /shared-libs/python3.7/py-core/lib/python3.7/site-packages (from click<9.0.0,>=7.1.1->typer<0.5.0,>=0.3.0->spacy<3.3.0,>=3.2.0->es-core-news-sm==3.2.0) (4.8.2)\nInstalling collected packages: es-core-news-sm\nSuccessfully installed es-core-news-sm-3.2.0\n\u001b[33mWARNING: You are using pip version 20.1.1; however, version 21.3.1 is available.\nYou should consider upgrading via the '/root/venv/bin/python -m pip install --upgrade pip' command.\u001b[0m\n\u001b[38;5;2m✔ Download and installation successful\u001b[0m\nYou can now load the package via spacy.load('es_core_news_sm')\n",
     "output_type": "stream"
    }
   ],
   "execution_count": 44
  },
  {
   "cell_type": "code",
   "source": "import spacy\nnlp_es = spacy.load('es_core_news_sm')\nnlp_en = spacy.load('en_core_web_sm')\n\ndef lemmatizer(text, nlp=nlp_en):  \n  doc = nlp(text)\n  return ' '.join([word.lemma_ for word in doc])\n\nclean_data['tweet_lemmatized'] = ''\n\nclean_data['tweet_lemmatized'][clean_data['lang']=='en'] = clean_data['tweet_nostopw'][clean_data['lang']=='en'].apply(lambda x: lemmatizer(x, nlp_en))\nclean_data['tweet_lemmatized'][clean_data['lang']=='es'] = clean_data['tweet_nostopw'][clean_data['lang']=='es'].apply(lambda x: lemmatizer(x, nlp_es))\n",
   "metadata": {
    "tags": [],
    "cell_id": "00090-68114fcb-7d53-48f6-b0d0-f22ba4cd0928",
    "deepnote_to_be_reexecuted": false,
    "source_hash": "48d79917",
    "execution_start": 1637778750142,
    "execution_millis": 623878,
    "deepnote_output_heights": [
     606.53125
    ],
    "deepnote_cell_type": "code"
   },
   "outputs": [],
   "execution_count": 46
  },
  {
   "cell_type": "code",
   "source": "clean_data.head(20)",
   "metadata": {
    "tags": [],
    "cell_id": "00092-c98fd746-ee81-4613-9e44-45f2a7b77f27",
    "deepnote_to_be_reexecuted": false,
    "source_hash": "6cd58930",
    "execution_start": 1637780275107,
    "execution_millis": 60,
    "deepnote_output_heights": [
     606.53125
    ],
    "deepnote_cell_type": "code"
   },
   "outputs": [
    {
     "output_type": "execute_result",
     "execution_count": 72,
     "data": {
      "application/vnd.deepnote.dataframe.v2+json": {
       "row_count": 20,
       "column_count": 7,
       "columns": [
        {
         "name": "Unnamed: 0",
         "dtype": "int64",
         "stats": {
          "unique_count": 20,
          "nan_count": 0,
          "min": "0",
          "max": "19",
          "histogram": [
           {
            "bin_start": 0,
            "bin_end": 1.9,
            "count": 2
           },
           {
            "bin_start": 1.9,
            "bin_end": 3.8,
            "count": 2
           },
           {
            "bin_start": 3.8,
            "bin_end": 5.699999999999999,
            "count": 2
           },
           {
            "bin_start": 5.699999999999999,
            "bin_end": 7.6,
            "count": 2
           },
           {
            "bin_start": 7.6,
            "bin_end": 9.5,
            "count": 2
           },
           {
            "bin_start": 9.5,
            "bin_end": 11.399999999999999,
            "count": 2
           },
           {
            "bin_start": 11.399999999999999,
            "bin_end": 13.299999999999999,
            "count": 2
           },
           {
            "bin_start": 13.299999999999999,
            "bin_end": 15.2,
            "count": 2
           },
           {
            "bin_start": 15.2,
            "bin_end": 17.099999999999998,
            "count": 2
           },
           {
            "bin_start": 17.099999999999998,
            "bin_end": 19,
            "count": 2
           }
          ]
         }
        },
        {
         "name": "lang",
         "dtype": "object",
         "stats": {
          "unique_count": 1,
          "nan_count": 0,
          "categories": [
           {
            "name": "es",
            "count": 20
           }
          ]
         }
        },
        {
         "name": "userid",
         "dtype": "object",
         "stats": {
          "unique_count": 1,
          "nan_count": 0,
          "categories": [
           {
            "name": "223d8277fe1f9895a83a385010218989",
            "count": 20
           }
          ]
         }
        },
        {
         "name": "tweet",
         "dtype": "object",
         "stats": {
          "unique_count": 20,
          "nan_count": 0,
          "categories": [
           {
            "name": "#USER# #USER# Me gusta la VALENCIANA, es mucha mujer ¡",
            "count": 1
           },
           {
            "name": "RT #USER#: La crítica de Pablo Echenique a Isabel Díaz Ayuso que se le ha vuelto en contra #URL#",
            "count": 1
           },
           {
            "name": "18 others",
            "count": 18
           }
          ]
         }
        },
        {
         "name": "tweet_cleaned",
         "dtype": "object",
         "stats": {
          "unique_count": 19,
          "nan_count": 0,
          "categories": [
           {
            "name": "errejón se prepara la moción",
            "count": 2
           },
           {
            "name": "me gusta la valenciana es mucha mujer",
            "count": 1
           },
           {
            "name": "17 others",
            "count": 17
           }
          ]
         }
        },
        {
         "name": "tweet_nostopw",
         "dtype": "object",
         "stats": {
          "unique_count": 19,
          "nan_count": 0,
          "categories": [
           {
            "name": "errejón prepara moción",
            "count": 2
           },
           {
            "name": "gusta valenciana mucha mujer",
            "count": 1
           },
           {
            "name": "17 others",
            "count": 17
           }
          ]
         }
        },
        {
         "name": "tweet_lemmatized",
         "dtype": "object",
         "stats": {
          "unique_count": 19,
          "nan_count": 0,
          "categories": [
           {
            "name": "errejón preparar moción",
            "count": 2
           },
           {
            "name": "gustar valenciano mucho mujer",
            "count": 1
           },
           {
            "name": "17 others",
            "count": 17
           }
          ]
         }
        },
        {
         "name": "_deepnote_index_column",
         "dtype": "int64"
        }
       ],
       "rows_top": [
        {
         "Unnamed: 0": 0,
         "lang": "es",
         "userid": "223d8277fe1f9895a83a385010218989",
         "tweet": "#USER# #USER# Me gusta la VALENCIANA, es mucha mujer ¡",
         "tweet_cleaned": "me gusta la valenciana es mucha mujer",
         "tweet_nostopw": "gusta valenciana mucha mujer",
         "tweet_lemmatized": "gustar valenciano mucho mujer",
         "_deepnote_index_column": 0
        },
        {
         "Unnamed: 0": 1,
         "lang": "es",
         "userid": "223d8277fe1f9895a83a385010218989",
         "tweet": "RT #USER#: La crítica de Pablo Echenique a Isabel Díaz Ayuso que se le ha vuelto en contra #URL#",
         "tweet_cleaned": "la crítica de pablo echenique a isabel díaz ayuso que se le ha vuelto en contra",
         "tweet_nostopw": "crítica pablo echenique isabel díaz ayuso vuelto",
         "tweet_lemmatized": "crítica pablo echenique isabel díaz ayuso vuelto",
         "_deepnote_index_column": 1
        },
        {
         "Unnamed: 0": 2,
         "lang": "es",
         "userid": "223d8277fe1f9895a83a385010218989",
         "tweet": "RT #USER#: Errejón se prepara la moción 😂😂😂😂😂😂😂 #URL#",
         "tweet_cleaned": "errejón se prepara la moción",
         "tweet_nostopw": "errejón prepara moción",
         "tweet_lemmatized": "errejón preparar moción",
         "_deepnote_index_column": 2
        },
        {
         "Unnamed: 0": 3,
         "lang": "es",
         "userid": "223d8277fe1f9895a83a385010218989",
         "tweet": "#USER# #USER# #USER# #USER# #USER# Y esos insultos ? Soy muchas cosas ,pero gili no.",
         "tweet_cleaned": "y esos insultos soy muchas cosas pero gili no",
         "tweet_nostopw": "insultos muchas cosas gili",
         "tweet_lemmatized": "insulto mucho cosa gili",
         "_deepnote_index_column": 3
        },
        {
         "Unnamed: 0": 4,
         "lang": "es",
         "userid": "223d8277fe1f9895a83a385010218989",
         "tweet": "RT #USER#: #USER# #USER# #USER# Sí Sí igual que en Madrid. No se dicen medias verdades. #URL#",
         "tweet_cleaned": "sí sí igual que en madrid no se dicen medias verdades",
         "tweet_nostopw": "igual madrid dicen medias verdades",
         "tweet_lemmatized": "igual madrid decir medio verdad",
         "_deepnote_index_column": 4
        },
        {
         "Unnamed: 0": 5,
         "lang": "es",
         "userid": "223d8277fe1f9895a83a385010218989",
         "tweet": "RT #USER#: Ves a la novia de Antonio Baños y entiendes su gusto por el sexo escatológico #URL#",
         "tweet_cleaned": "ves a la novia de antonio baños y entiendes su gusto por el sexo escatológico",
         "tweet_nostopw": "ves novia antonio baños entiendes gusto sexo escatológico",
         "tweet_lemmatized": "v novia antonio baño entiend gusto sexo escatológico",
         "_deepnote_index_column": 5
        },
        {
         "Unnamed: 0": 6,
         "lang": "es",
         "userid": "223d8277fe1f9895a83a385010218989",
         "tweet": "RT #USER#: #HASHTAG# | 27 millones de dólares pagará EE UU a la familia de George Floyd #URL#",
         "tweet_cleaned": "millones de dólares pagará ee uu a la familia de george floyd",
         "tweet_nostopw": "millones dólares pagará ee uu familia george floyd",
         "tweet_lemmatized": "millón dólares pagar ee uu familia george floyd",
         "_deepnote_index_column": 6
        },
        {
         "Unnamed: 0": 7,
         "lang": "es",
         "userid": "223d8277fe1f9895a83a385010218989",
         "tweet": "#USER# #USER# A mi me parece que no debería ser legal ..",
         "tweet_cleaned": "a mi me parece que no debería ser legal",
         "tweet_nostopw": "parece debería ser legal",
         "tweet_lemmatized": "parecer deber ser legal",
         "_deepnote_index_column": 7
        },
        {
         "Unnamed: 0": 8,
         "lang": "es",
         "userid": "223d8277fe1f9895a83a385010218989",
         "tweet": "RT #USER#: Interior acerca al País Vasco al asesino de Carpena y Portero #URL#",
         "tweet_cleaned": "interior acerca al país vasco al asesino de carpena y portero",
         "tweet_nostopw": "interior acerca país vasco asesino carpena portero",
         "tweet_lemmatized": "interior acerca país vasco asesino carpena portero",
         "_deepnote_index_column": 8
        },
        {
         "Unnamed: 0": 9,
         "lang": "es",
         "userid": "223d8277fe1f9895a83a385010218989",
         "tweet": "RT #USER#: Sánchez rescata con 53 millones de dinero Público Español a Chiringuito de Nicolás Madur…",
         "tweet_cleaned": "sánchez rescata con millones de dinero público español a chiringuito de nicolás maduro en españa",
         "tweet_nostopw": "sánchez rescata millones dinero público español chiringuito nicolás maduro españa",
         "tweet_lemmatized": "sánchez rescatar millón dinero público español chiringuito nicolás maduro españa",
         "_deepnote_index_column": 9
        },
        {
         "Unnamed: 0": 10,
         "lang": "es",
         "userid": "223d8277fe1f9895a83a385010218989",
         "tweet": "RT #USER#: #USER# Ya no quiere ser Fallera Mayor Infantil ? #URL#",
         "tweet_cleaned": "ya no quiere ser fallera mayor infantil",
         "tweet_nostopw": "quiere ser fallera mayor infantil",
         "tweet_lemmatized": "querer ser fallera mayor infantil",
         "_deepnote_index_column": 10
        },
        {
         "Unnamed: 0": 11,
         "lang": "es",
         "userid": "223d8277fe1f9895a83a385010218989",
         "tweet": "Errejón se prepara la moción 😂😂😂😂😂😂😂 #URL#",
         "tweet_cleaned": "errejón se prepara la moción",
         "tweet_nostopw": "errejón prepara moción",
         "tweet_lemmatized": "errejón preparar moción",
         "_deepnote_index_column": 11
        },
        {
         "Unnamed: 0": 12,
         "lang": "es",
         "userid": "223d8277fe1f9895a83a385010218989",
         "tweet": "Biden parece estar loco ,comenta Ian Miles Cheong #URL#",
         "tweet_cleaned": "biden parece estar loco comenta ian miles cheong",
         "tweet_nostopw": "biden parece loco comenta ian miles cheong",
         "tweet_lemmatized": "biden parecer loco comentar iar mil cheong",
         "_deepnote_index_column": 12
        },
        {
         "Unnamed: 0": 13,
         "lang": "es",
         "userid": "223d8277fe1f9895a83a385010218989",
         "tweet": "RT #USER#: Doña Inés cayó en manos de Don Juan Sánchez ??? Que romántico todo ¡ ..uffff #URL#",
         "tweet_cleaned": "doña inés cayó en manos de don juan sánchez que romántico todo uffff",
         "tweet_nostopw": "doña inés cayó manos juan sánchez romántico uffff",
         "tweet_lemmatized": "doña inés caer mano juan sánchez romántico uffff",
         "_deepnote_index_column": 13
        },
        {
         "Unnamed: 0": 14,
         "lang": "es",
         "userid": "223d8277fe1f9895a83a385010218989",
         "tweet": "RT #USER#: Es bastante agotador que Carlota Corredera nos quiera “educar” a todos en su mantra ideo…",
         "tweet_cleaned": "es bastante agotador que carlota corredera nos quiera educar a todos en su mantra ideológico",
         "tweet_nostopw": "bastante agotador carlota corredera quiera educar mantra ideológico",
         "tweet_lemmatized": "bastante agotador carlota corredero querer educar mantra ideológico",
         "_deepnote_index_column": 14
        },
        {
         "Unnamed: 0": 15,
         "lang": "es",
         "userid": "223d8277fe1f9895a83a385010218989",
         "tweet": "RT #USER#: Mañana va a dar gusto leer la prensa. #URL#",
         "tweet_cleaned": "mañana va a dar gusto leer la prensa",
         "tweet_nostopw": "mañana va dar gusto leer prensa",
         "tweet_lemmatized": "mañana ir dar gusto leer prensa",
         "_deepnote_index_column": 15
        },
        {
         "Unnamed: 0": 16,
         "lang": "es",
         "userid": "223d8277fe1f9895a83a385010218989",
         "tweet": "RT #USER#: Yo creo que hasta le van a votar",
         "tweet_cleaned": "yo creo que hasta le van a votar",
         "tweet_nostopw": "creo van votar",
         "tweet_lemmatized": "creer ir votar",
         "_deepnote_index_column": 16
        },
        {
         "Unnamed: 0": 17,
         "lang": "es",
         "userid": "223d8277fe1f9895a83a385010218989",
         "tweet": "#USER# Monasterio, vox Madrid , no ha dejado de obstaculizar la labor de Ayuso desde el principio.",
         "tweet_cleaned": "monasterio vox madrid no ha dejado de obstaculizar la labor de ayuso desde el principio",
         "tweet_nostopw": "monasterio vox madrid dejado obstaculizar labor ayuso principio",
         "tweet_lemmatized": "monasterio vox madrid dejado obstaculizar labor ayuso principio",
         "_deepnote_index_column": 17
        },
        {
         "Unnamed: 0": 18,
         "lang": "es",
         "userid": "223d8277fe1f9895a83a385010218989",
         "tweet": "#USER# A Bernardo ,como sigan así lo rematan ..",
         "tweet_cleaned": "a bernardo como sigan así lo rematan",
         "tweet_nostopw": "bernardo sigan así rematan",
         "tweet_lemmatized": "bernardo seguir así rematar",
         "_deepnote_index_column": 18
        },
        {
         "Unnamed: 0": 19,
         "lang": "es",
         "userid": "223d8277fe1f9895a83a385010218989",
         "tweet": "RT #USER#: A este dicen que lo han visto por Murcia. Por si cae algo... #URL#",
         "tweet_cleaned": "a este dicen que lo han visto por murcia por si cae algo",
         "tweet_nostopw": "dicen visto murcia si cae",
         "tweet_lemmatized": "decir visto murcia si caer",
         "_deepnote_index_column": 19
        }
       ],
       "rows_bottom": null
      },
      "text/plain": "    Unnamed: 0 lang                            userid  \\\n0            0   es  223d8277fe1f9895a83a385010218989   \n1            1   es  223d8277fe1f9895a83a385010218989   \n2            2   es  223d8277fe1f9895a83a385010218989   \n3            3   es  223d8277fe1f9895a83a385010218989   \n4            4   es  223d8277fe1f9895a83a385010218989   \n5            5   es  223d8277fe1f9895a83a385010218989   \n6            6   es  223d8277fe1f9895a83a385010218989   \n7            7   es  223d8277fe1f9895a83a385010218989   \n8            8   es  223d8277fe1f9895a83a385010218989   \n9            9   es  223d8277fe1f9895a83a385010218989   \n10          10   es  223d8277fe1f9895a83a385010218989   \n11          11   es  223d8277fe1f9895a83a385010218989   \n12          12   es  223d8277fe1f9895a83a385010218989   \n13          13   es  223d8277fe1f9895a83a385010218989   \n14          14   es  223d8277fe1f9895a83a385010218989   \n15          15   es  223d8277fe1f9895a83a385010218989   \n16          16   es  223d8277fe1f9895a83a385010218989   \n17          17   es  223d8277fe1f9895a83a385010218989   \n18          18   es  223d8277fe1f9895a83a385010218989   \n19          19   es  223d8277fe1f9895a83a385010218989   \n\n                                                tweet  \\\n0   #USER# #USER# Me gusta la VALENCIANA, es mucha...   \n1   RT #USER#: La crítica de Pablo Echenique a Isa...   \n2   RT #USER#: Errejón se prepara la moción 😂😂😂😂😂😂...   \n3   #USER# #USER# #USER# #USER# #USER# Y esos insu...   \n4   RT #USER#: #USER# #USER# #USER# Sí Sí igual qu...   \n5   RT #USER#: Ves a la novia de Antonio Baños y e...   \n6   RT #USER#: #HASHTAG# | 27 millones de dólares ...   \n7   #USER# #USER# A mi me parece que no debería se...   \n8   RT #USER#: Interior acerca al País Vasco al as...   \n9   RT #USER#: Sánchez rescata con 53 millones de ...   \n10  RT #USER#: #USER# Ya no quiere ser Fallera May...   \n11         Errejón se prepara la moción 😂😂😂😂😂😂😂 #URL#   \n12  Biden parece estar loco ,comenta Ian Miles Che...   \n13  RT #USER#: Doña Inés cayó en manos de Don Juan...   \n14  RT #USER#: Es bastante agotador que Carlota Co...   \n15  RT #USER#: Mañana va a dar gusto leer la prens...   \n16        RT #USER#: Yo creo que hasta le van a votar   \n17  #USER# Monasterio, vox Madrid , no ha dejado d...   \n18    #USER# A Bernardo ,como sigan así lo rematan ..   \n19  RT #USER#: A este dicen que lo han visto por M...   \n\n                                        tweet_cleaned  \\\n0               me gusta la valenciana es mucha mujer   \n1   la crítica de pablo echenique a isabel díaz ay...   \n2                        errejón se prepara la moción   \n3       y esos insultos soy muchas cosas pero gili no   \n4   sí sí igual que en madrid no se dicen medias v...   \n5   ves a la novia de antonio baños y entiendes su...   \n6   millones de dólares pagará ee uu a la familia ...   \n7             a mi me parece que no debería ser legal   \n8   interior acerca al país vasco al asesino de ca...   \n9   sánchez rescata con millones de dinero público...   \n10            ya no quiere ser fallera mayor infantil   \n11                       errejón se prepara la moción   \n12   biden parece estar loco comenta ian miles cheong   \n13  doña inés cayó en manos de don juan sánchez qu...   \n14  es bastante agotador que carlota corredera nos...   \n15               mañana va a dar gusto leer la prensa   \n16                   yo creo que hasta le van a votar   \n17  monasterio vox madrid no ha dejado de obstacul...   \n18               a bernardo como sigan así lo rematan   \n19  a este dicen que lo han visto por murcia por s...   \n\n                                        tweet_nostopw  \\\n0                        gusta valenciana mucha mujer   \n1    crítica pablo echenique isabel díaz ayuso vuelto   \n2                              errejón prepara moción   \n3                          insultos muchas cosas gili   \n4                  igual madrid dicen medias verdades   \n5   ves novia antonio baños entiendes gusto sexo e...   \n6   millones dólares pagará ee uu familia george f...   \n7                            parece debería ser legal   \n8   interior acerca país vasco asesino carpena por...   \n9   sánchez rescata millones dinero público españo...   \n10                  quiere ser fallera mayor infantil   \n11                             errejón prepara moción   \n12         biden parece loco comenta ian miles cheong   \n13  doña inés cayó manos juan sánchez romántico uffff   \n14  bastante agotador carlota corredera quiera edu...   \n15                    mañana va dar gusto leer prensa   \n16                                     creo van votar   \n17  monasterio vox madrid dejado obstaculizar labo...   \n18                         bernardo sigan así rematan   \n19                          dicen visto murcia si cae   \n\n                                     tweet_lemmatized  \n0                       gustar valenciano mucho mujer  \n1    crítica pablo echenique isabel díaz ayuso vuelto  \n2                             errejón preparar moción  \n3                             insulto mucho cosa gili  \n4                     igual madrid decir medio verdad  \n5   v novia antonio baño entiend gusto sexo escato...  \n6     millón dólares pagar ee uu familia george floyd  \n7                             parecer deber ser legal  \n8   interior acerca país vasco asesino carpena por...  \n9   sánchez rescatar millón dinero público español...  \n10                  querer ser fallera mayor infantil  \n11                            errejón preparar moción  \n12         biden parecer loco comentar iar mil cheong  \n13   doña inés caer mano juan sánchez romántico uffff  \n14  bastante agotador carlota corredero querer edu...  \n15                    mañana ir dar gusto leer prensa  \n16                                     creer ir votar  \n17  monasterio vox madrid dejado obstaculizar labo...  \n18                        bernardo seguir así rematar  \n19                         decir visto murcia si caer  ",
      "text/html": "<div>\n<style scoped>\n    .dataframe tbody tr th:only-of-type {\n        vertical-align: middle;\n    }\n\n    .dataframe tbody tr th {\n        vertical-align: top;\n    }\n\n    .dataframe thead th {\n        text-align: right;\n    }\n</style>\n<table border=\"1\" class=\"dataframe\">\n  <thead>\n    <tr style=\"text-align: right;\">\n      <th></th>\n      <th>Unnamed: 0</th>\n      <th>lang</th>\n      <th>userid</th>\n      <th>tweet</th>\n      <th>tweet_cleaned</th>\n      <th>tweet_nostopw</th>\n      <th>tweet_lemmatized</th>\n    </tr>\n  </thead>\n  <tbody>\n    <tr>\n      <th>0</th>\n      <td>0</td>\n      <td>es</td>\n      <td>223d8277fe1f9895a83a385010218989</td>\n      <td>#USER# #USER# Me gusta la VALENCIANA, es mucha...</td>\n      <td>me gusta la valenciana es mucha mujer</td>\n      <td>gusta valenciana mucha mujer</td>\n      <td>gustar valenciano mucho mujer</td>\n    </tr>\n    <tr>\n      <th>1</th>\n      <td>1</td>\n      <td>es</td>\n      <td>223d8277fe1f9895a83a385010218989</td>\n      <td>RT #USER#: La crítica de Pablo Echenique a Isa...</td>\n      <td>la crítica de pablo echenique a isabel díaz ay...</td>\n      <td>crítica pablo echenique isabel díaz ayuso vuelto</td>\n      <td>crítica pablo echenique isabel díaz ayuso vuelto</td>\n    </tr>\n    <tr>\n      <th>2</th>\n      <td>2</td>\n      <td>es</td>\n      <td>223d8277fe1f9895a83a385010218989</td>\n      <td>RT #USER#: Errejón se prepara la moción 😂😂😂😂😂😂...</td>\n      <td>errejón se prepara la moción</td>\n      <td>errejón prepara moción</td>\n      <td>errejón preparar moción</td>\n    </tr>\n    <tr>\n      <th>3</th>\n      <td>3</td>\n      <td>es</td>\n      <td>223d8277fe1f9895a83a385010218989</td>\n      <td>#USER# #USER# #USER# #USER# #USER# Y esos insu...</td>\n      <td>y esos insultos soy muchas cosas pero gili no</td>\n      <td>insultos muchas cosas gili</td>\n      <td>insulto mucho cosa gili</td>\n    </tr>\n    <tr>\n      <th>4</th>\n      <td>4</td>\n      <td>es</td>\n      <td>223d8277fe1f9895a83a385010218989</td>\n      <td>RT #USER#: #USER# #USER# #USER# Sí Sí igual qu...</td>\n      <td>sí sí igual que en madrid no se dicen medias v...</td>\n      <td>igual madrid dicen medias verdades</td>\n      <td>igual madrid decir medio verdad</td>\n    </tr>\n    <tr>\n      <th>5</th>\n      <td>5</td>\n      <td>es</td>\n      <td>223d8277fe1f9895a83a385010218989</td>\n      <td>RT #USER#: Ves a la novia de Antonio Baños y e...</td>\n      <td>ves a la novia de antonio baños y entiendes su...</td>\n      <td>ves novia antonio baños entiendes gusto sexo e...</td>\n      <td>v novia antonio baño entiend gusto sexo escato...</td>\n    </tr>\n    <tr>\n      <th>6</th>\n      <td>6</td>\n      <td>es</td>\n      <td>223d8277fe1f9895a83a385010218989</td>\n      <td>RT #USER#: #HASHTAG# | 27 millones de dólares ...</td>\n      <td>millones de dólares pagará ee uu a la familia ...</td>\n      <td>millones dólares pagará ee uu familia george f...</td>\n      <td>millón dólares pagar ee uu familia george floyd</td>\n    </tr>\n    <tr>\n      <th>7</th>\n      <td>7</td>\n      <td>es</td>\n      <td>223d8277fe1f9895a83a385010218989</td>\n      <td>#USER# #USER# A mi me parece que no debería se...</td>\n      <td>a mi me parece que no debería ser legal</td>\n      <td>parece debería ser legal</td>\n      <td>parecer deber ser legal</td>\n    </tr>\n    <tr>\n      <th>8</th>\n      <td>8</td>\n      <td>es</td>\n      <td>223d8277fe1f9895a83a385010218989</td>\n      <td>RT #USER#: Interior acerca al País Vasco al as...</td>\n      <td>interior acerca al país vasco al asesino de ca...</td>\n      <td>interior acerca país vasco asesino carpena por...</td>\n      <td>interior acerca país vasco asesino carpena por...</td>\n    </tr>\n    <tr>\n      <th>9</th>\n      <td>9</td>\n      <td>es</td>\n      <td>223d8277fe1f9895a83a385010218989</td>\n      <td>RT #USER#: Sánchez rescata con 53 millones de ...</td>\n      <td>sánchez rescata con millones de dinero público...</td>\n      <td>sánchez rescata millones dinero público españo...</td>\n      <td>sánchez rescatar millón dinero público español...</td>\n    </tr>\n    <tr>\n      <th>10</th>\n      <td>10</td>\n      <td>es</td>\n      <td>223d8277fe1f9895a83a385010218989</td>\n      <td>RT #USER#: #USER# Ya no quiere ser Fallera May...</td>\n      <td>ya no quiere ser fallera mayor infantil</td>\n      <td>quiere ser fallera mayor infantil</td>\n      <td>querer ser fallera mayor infantil</td>\n    </tr>\n    <tr>\n      <th>11</th>\n      <td>11</td>\n      <td>es</td>\n      <td>223d8277fe1f9895a83a385010218989</td>\n      <td>Errejón se prepara la moción 😂😂😂😂😂😂😂 #URL#</td>\n      <td>errejón se prepara la moción</td>\n      <td>errejón prepara moción</td>\n      <td>errejón preparar moción</td>\n    </tr>\n    <tr>\n      <th>12</th>\n      <td>12</td>\n      <td>es</td>\n      <td>223d8277fe1f9895a83a385010218989</td>\n      <td>Biden parece estar loco ,comenta Ian Miles Che...</td>\n      <td>biden parece estar loco comenta ian miles cheong</td>\n      <td>biden parece loco comenta ian miles cheong</td>\n      <td>biden parecer loco comentar iar mil cheong</td>\n    </tr>\n    <tr>\n      <th>13</th>\n      <td>13</td>\n      <td>es</td>\n      <td>223d8277fe1f9895a83a385010218989</td>\n      <td>RT #USER#: Doña Inés cayó en manos de Don Juan...</td>\n      <td>doña inés cayó en manos de don juan sánchez qu...</td>\n      <td>doña inés cayó manos juan sánchez romántico uffff</td>\n      <td>doña inés caer mano juan sánchez romántico uffff</td>\n    </tr>\n    <tr>\n      <th>14</th>\n      <td>14</td>\n      <td>es</td>\n      <td>223d8277fe1f9895a83a385010218989</td>\n      <td>RT #USER#: Es bastante agotador que Carlota Co...</td>\n      <td>es bastante agotador que carlota corredera nos...</td>\n      <td>bastante agotador carlota corredera quiera edu...</td>\n      <td>bastante agotador carlota corredero querer edu...</td>\n    </tr>\n    <tr>\n      <th>15</th>\n      <td>15</td>\n      <td>es</td>\n      <td>223d8277fe1f9895a83a385010218989</td>\n      <td>RT #USER#: Mañana va a dar gusto leer la prens...</td>\n      <td>mañana va a dar gusto leer la prensa</td>\n      <td>mañana va dar gusto leer prensa</td>\n      <td>mañana ir dar gusto leer prensa</td>\n    </tr>\n    <tr>\n      <th>16</th>\n      <td>16</td>\n      <td>es</td>\n      <td>223d8277fe1f9895a83a385010218989</td>\n      <td>RT #USER#: Yo creo que hasta le van a votar</td>\n      <td>yo creo que hasta le van a votar</td>\n      <td>creo van votar</td>\n      <td>creer ir votar</td>\n    </tr>\n    <tr>\n      <th>17</th>\n      <td>17</td>\n      <td>es</td>\n      <td>223d8277fe1f9895a83a385010218989</td>\n      <td>#USER# Monasterio, vox Madrid , no ha dejado d...</td>\n      <td>monasterio vox madrid no ha dejado de obstacul...</td>\n      <td>monasterio vox madrid dejado obstaculizar labo...</td>\n      <td>monasterio vox madrid dejado obstaculizar labo...</td>\n    </tr>\n    <tr>\n      <th>18</th>\n      <td>18</td>\n      <td>es</td>\n      <td>223d8277fe1f9895a83a385010218989</td>\n      <td>#USER# A Bernardo ,como sigan así lo rematan ..</td>\n      <td>a bernardo como sigan así lo rematan</td>\n      <td>bernardo sigan así rematan</td>\n      <td>bernardo seguir así rematar</td>\n    </tr>\n    <tr>\n      <th>19</th>\n      <td>19</td>\n      <td>es</td>\n      <td>223d8277fe1f9895a83a385010218989</td>\n      <td>RT #USER#: A este dicen que lo han visto por M...</td>\n      <td>a este dicen que lo han visto por murcia por s...</td>\n      <td>dicen visto murcia si cae</td>\n      <td>decir visto murcia si caer</td>\n    </tr>\n  </tbody>\n</table>\n</div>"
     },
     "metadata": {}
    }
   ],
   "execution_count": 72
  },
  {
   "cell_type": "code",
   "source": "#it is time to save the data frame in a file\nclean_data.to_csv('/work/clean_data.csv')",
   "metadata": {
    "tags": [],
    "cell_id": "00094-2eef0bdd-97c2-4983-a2b1-065805723010",
    "deepnote_to_be_reexecuted": true,
    "source_hash": "97c90352",
    "execution_start": 1637760614312,
    "execution_millis": 1119,
    "deepnote_cell_type": "code"
   },
   "outputs": [],
   "execution_count": null
  },
  {
   "cell_type": "code",
   "source": "clean_data = pd.read_csv('/work/clean_data.csv',index_col=False, )\nclean_data.drop('Unnamed: 0', axis=1, inplace=True)\nclean_data.info()",
   "metadata": {
    "tags": [],
    "cell_id": "00095-3812d521-5c44-45ae-bf8e-299496168420",
    "deepnote_to_be_reexecuted": false,
    "source_hash": "3094ca1e",
    "execution_start": 1637780619357,
    "execution_millis": 1110,
    "deepnote_cell_type": "code"
   },
   "outputs": [
    {
     "name": "stdout",
     "text": "<class 'pandas.core.frame.DataFrame'>\nRangeIndex: 79535 entries, 0 to 79534\nData columns (total 6 columns):\n #   Column            Non-Null Count  Dtype \n---  ------            --------------  ----- \n 0   lang              79535 non-null  object\n 1   userid            79535 non-null  object\n 2   tweet             79535 non-null  object\n 3   tweet_cleaned     79535 non-null  object\n 4   tweet_nostopw     79255 non-null  object\n 5   tweet_lemmatized  79255 non-null  object\ndtypes: object(6)\nmemory usage: 3.6+ MB\n",
     "output_type": "stream"
    }
   ],
   "execution_count": 84
  },
  {
   "cell_type": "code",
   "source": "# create data frame with aggregated tweets for the particular tweeters - i.e. concatenate all tweets for him/her\n# first strip the single tweets then attach a \" \" char to the end to keep them separated from the next tweet\nclean_data['tweet_lemmatized'] = clean_data['tweet_lemmatized'].apply(lambda text:str(text))\nclean_data['tweet_lemmatized'] = clean_data['tweet_lemmatized'].apply(lambda text:str.strip(text))\nclean_data['tweet_lemmatized'] = clean_data['tweet_lemmatized'].apply(lambda text:text+' ')\n\n# we want to keep the language information and the union of all tweets by a given tweeter\ndf1 = clean_data.groupby('userid').first()[['lang'] ]            # holds the language information for the tweeter\ndf2 = clean_data.groupby('userid').sum()[['tweet_lemmatized'] ]  # holds the text (words) of all tweets by tweeter\ndf3 = truth.copy()  # holds the 'truth' information, i.e. the tweeter is a hate speech spreader (1) or not(0)\ndf3.set_index('userid', inplace=True)\n\nagg_df = df1.copy()\nagg_df = agg_df.merge(df2, how='outer', left_index=True, right_index=True)\nagg_df = agg_df.merge(df3, how='outer', left_index=True, right_index=True)\n",
   "metadata": {
    "tags": [],
    "cell_id": "00096-da2699f7-e1ee-40f6-84d5-df9d07f0e4d9",
    "deepnote_to_be_reexecuted": false,
    "source_hash": "9d04a4a9",
    "execution_start": 1637780655957,
    "execution_millis": 834,
    "deepnote_output_heights": [
     20.5
    ],
    "output_cleared": false,
    "deepnote_cell_type": "code"
   },
   "outputs": [],
   "execution_count": 86
  },
  {
   "cell_type": "code",
   "source": "agg_df.sample(10)",
   "metadata": {
    "tags": [],
    "cell_id": "00097-65ff9c1f-7c5e-4bc4-9ee8-22f1565eb079",
    "deepnote_to_be_reexecuted": false,
    "source_hash": "6cc8bebb",
    "execution_start": 1637780656823,
    "execution_millis": 19,
    "deepnote_cell_type": "code"
   },
   "outputs": [
    {
     "output_type": "execute_result",
     "execution_count": 87,
     "data": {
      "application/vnd.deepnote.dataframe.v2+json": {
       "row_count": 10,
       "column_count": 3,
       "columns": [
        {
         "name": "lang",
         "dtype": "object",
         "stats": {
          "unique_count": 2,
          "nan_count": 0,
          "categories": [
           {
            "name": "en",
            "count": 7
           },
           {
            "name": "es",
            "count": 3
           }
          ]
         }
        },
        {
         "name": "tweet_lemmatized",
         "dtype": "object",
         "stats": {
          "unique_count": 10,
          "nan_count": 0,
          "categories": [
           {
            "name": "back life feel like weight lift shoulder drizzy run lemon pepper freestyle bad patiently wait american good last steph curry damian lillard backcourt fun watch flamethrower lillard clip extend curry lillard cp go brazy star game bouta full ycma niggas see rockin movement see late use sport surge let go conley clarissa shield fight come wake myplayer randomly delete xbox series x k fight tank listen nia long narrate gt gt gt wait week book come mail like day sober something would say peep try slip new actor layla dad say fuck nigga can not listen much leaf one day wanna drill nigga get opp splevia come soon nigga deion retard safe say boxing start become nd fav sport football agree think haney would toughest base skill alone can not forget guy tevin farmer hopefully get title back move get big name fight teo mandatory put either winner tank garcia haney loma shakur young really see flaw skill need see top tier competition shakur stevenson vs oscar valdez gary russell jr something wanna see loma amp devin haney need happen street need tank amp ryan garcia fuck shit everyday find money one pocket need new sister souljah book asap net game crazy shit wawa something burger fry karma spin block nowadays think every black person even go pretend know vanilla chai fucking wit mimosas rise amp grind daddy yankee canelo got perform lol nigga like super bowl sumn small risk high reward plus get separate ticket nba team win ko good either way see odds bro way go win money hope bet get ko nd min canelo go murder bul every skeleton closet alive may god bless parlay today many idea float thru head daily basis outside feel like da hoe lol know say one cause see go let go lavine get old soul fr caruso iq bean da one night miami good movie got to throw hot nigga back playlist culture need burger east coast niggas act crazy uber listen heavy metal life clearly important snow way judas black messiah defly must see catch later finna get drunk mom birthday get get guy know tune look forward fight tonight damn rock go puff playing ' time philadelphia good last wentz nigga tory live good life think look familiar get nigga tough nail reason job pay niggas get vaccine next week come fast enough american get top tier writer stress enough chinese store charge wood wawa seem illegal think people say anything new people hate hear certain thing certain people stop high expectation meet b simone say shit wrong woman hate hear truth hard times bill late got to make sumn shake promise fall sucka shit lol issue stuff jar inside sock hide everything else inside bag time lock back fuck nigga deion need playlist henny whispering bad bxtch course mountain ready sequel iconic book bro bro say moonrock around get heaven earth use shit fact act crazy lol say thing first jawn get taste pound yam goat meat back uber smelling like whole pound know smell nigga sound like suffocate lamelo fuck around star forget roty rise amp grind tom really come nfc run thru everybody route another ring idk consider goat never use right half drunk give thriller vibe red jacket game far chief got to get together asap gronk elite course fanduel wanna fuck soon decide put ticket ever sell capture quick profit hold dear life nobody know name song future currency earth flagrant ejection suspension we watch first return come life wood start morning dawg high look shit rn wtf wrong cat cat idiot somebody leak nude go viral moonrock air good morning twitter folk need another fight night asap net amp wizard look like aau game think I m a get drunk tn bloody tear niggas see year miss peer look da devil da face since fear mr charles em bag sis snow suppose start wind go catch assault charge ben baby compare bron need intensity every game take ben play bron show level aggression movie grip none open back yet twitter pure comedy arrest nigga trade free bradley beal know parent feel use change niece diaper wheel gram make instasnap smoke shit get old man leaf run black ice rise amp grind return cleveland first time two year lebron ball got to chill even roll peace bout start fire grown ass man sit sip hot chocolate reason cold technology get air conditioner double heater yet kevin king might well go head deactivate social medium tom brady get chance host home super bowl niggas bet em mad said troy aikman look like hov never unsee shit gm say morning need yeezy v fulton guy get rd round legendary damn bro henny glad bet net blood pressure ah thru roof rn work ready roll somebody pull get taste seafood outside wire could way well good mood today drive light extreme sport da gram press bitch bout mcm issa thousand dollar worth gram inside mcm rise amp grind tho need stop procrastinate outside wire amp american skin drop today lebron find james harden go net net finesse shit rocket real report brooklyn acquire houston james harden blockbuster deal source tell espn airplane mode philly rise amp grind keep howie promise cardinal fan next season start thanx everything doug really sell dog think rap cause look legit tryna please bitch almost make lose mind bro first qtr steeler lamar jackson run like got chase law life rise amp grind top amp easy classic think one morning twitter folk amazing much restraint police show want crazy enough smh country really bs rise amp grind blue story wawa sell wood start pretty ok say less rock last jawn heavy drop something new steph drop nfc east fuck division last decade surprised nigga expect anything less mean eagle throw game sure soon come good brother got to bless lock come lil sumn ln time put god first nigga saxe finally get ass prayer lose bro quiet tuning power time sour time ryan vs tank summer idk bro liver shot different think mind tell get body lol shot look legit great fight ryan earn get ",
            "count": 1
           },
           {
            "name": "hey jamal snicker uncontrollable want pfff lemonade idiot cotton come banger mean sarcasm good point consider underwhelme pandemic nick really compare homosexuality people shoot head protect america first let us go fear safety total refusal address problem nonwhite immigrant people notice take time think people prevent getting report fun anyone give woman writer attention like somehow suppose sunset tweet jewish hurt nightmare hate english class much anti straight man anti white ass class can not even get good grade tune know show start hour late use teach race realism school prove js anti american idk happen sudden he be much happy reading superchat get life reply guy nick fuente great reset survival race multiply fast mine miss reproduction due homosexuality die well there be ebonic bad people deserve like quote christ appreciate christianity degenerate opportunity change got purge coomer post ls online ask grandfather pretty nice right nick good attitude superchat many late got to love chat spamme judeo christian nick talk king say groyper storm capitol call we sick antisemite account clip got purge could end mudsharke communist reddit start they be try dilute message nonsense get background okay w conference cancel culture cancel crowd there be nothing wrong give event hard time realize purge would come soon rock goodness we be extremist awesome I 'll never forget time someone wear shirt school say I be jewish wanna check actually jewish yeah hour late car superchat guy want whitepill edit still super cool new comic hedgewik account lock atm I be going to become waiter pick base karen way god hope man want one thing half color find awesome picture favorite example look yt people twitter search americanism globalism they be use pandemic excuse even demographic displacement reddit peak lugenprasse acceptable term circle unoptical assume biden make legal whomever send superchat sure get money 's worth redditor mad iq what be new would even write anyone care wish grant love usa hit different day well electric shock eternal flame spam comment what be happen stonetoss today exactly nick fuente mass block want america keep cut stream I be glad back est post nick personally mention high court even main story tonight hello base department good superchat attitude long time tonight want hear want hear absorb wth nick right make good use time I 've read much bible button go crazy rn meet way get let know watch super bowl year year personal that be got to hit close home I 've hear way much bad translation lately like yeah mess mess viewer like unoptical would 've think africa need black okayyyyy tonight fundraise legal purpose effective dlive chat base cringe bang dog black person would degenerate nick say okayyyyy like minute ago exactly long start time last see homosexuality want force every single one violent invasive conversion therapy well start copy across think mean I be one step close able say know word go yearbook hindsight I be realize one first grade teacher gigachad platform say think easy way mexican get shoot walmart oooooooo know like new af lobby music well miss girl school like must degenerate I be hope french teacher right extreme right smartphone watch america first week keep get error remember championship game chief ' retweete negative garbage jaden mcneil last summer mainstream conservative right job loss new administration let us hope they be right racism early life check one realistic disgusting dude 's go spout conspiracy theory stick af cube error message peter early sign move far right could name con pro diversity social study hilarious thinking I be school nick shout illustration note today watch inauguration social study class know I be watch america first stream say jaden scott month ago americafirst live equipped stream inauguration come think birthrate get call dinner thinly veil hatred hate mayonnaise go attach picture would eat ribs dinner lip wreck good thing chapstick flavor go old yearbook insane much degenerate almost became find pretty glad there be live chat f dot live small computer take classmate answer make want fedpost turn picture represent event capitol that be put optical honest I 've tell people read fbi crime stat though I be see lobby music jump time time soon wayward brother realize well unironically even need firearm see lot people talk big much want fight k rittenhouse I be sure would beat fatso senseless troll non political account mine miss pence want redacted gay well follower count drop look like even hit least get triple digit go rewatche last night 's america first man talk consistently well long mind blow one else unironically unironically make really sad family yet would surprise start one mormon guy know marry mexican woman official report go say died capitol yesterday die covid wrong blm rioter ' charge drop get billion corporation acab except kill people disagree american people come first bro we be going to get much trouble charge drop guy catch call aged well outside circle they be panic future new background virtual school device crash like hell tweet might tell something true where be white gf look back I be realize they be sex addict base expect people get west florida include isle orleans get anything south lake pontchartrain america first compound look get know english class suck english class right take pretty dry lately day real excitement though support trump course platinum plan well alternative clue leftist make graphic though expect honesty we 'll punish unironically last year social study see prageru video unironically argue compromise anti racist one objective standard hawaii f tier louisiana consistent blue seal flag make new video reply nose know would complain obama one complain trump golfing ask journalist complain trump golfing take minute find non white ' terrible new edit clog search result next bobby jindal stonetoss nick fuente love alex jones say nick fwintez dude one be going to fight christmas unspoken rule never hear yes one good friend school one I be going to use image text hate group people get ten thousand like water shallow easy first stream watch actually show minute early wait hour free man talk long passionate rant middle superchat n fuente end america first bang definitely one latter moment hateful african appropriate meme wow nick 's streaming go see replay he be live morning man leftist really think madison cawthorn nazi proof optical still threaten hope he be rehab unfunny anti white merchant cringebag nurse private account least see face anymore obviously nothing happen they be still act like real check prone fedposting talk non white take europe enslave we well america firster would good job one else bleed satellite tv I be watch commercial break branch couple quick succession cool advertiser ngl glow comment that be china 's shaped tibet include angle bruh really know story take place look canada 's weak giving indian even long normal see something hour I be watch last night 's america first since guy think powerful get seem pretty average girl sc enough people would see time anyone know someone go go nh groyper find old screenshot invert blackpill graphic whitepill ",
            "count": 1
           },
           {
            "name": "8 others",
            "count": 8
           }
          ]
         }
        },
        {
         "name": "truth",
         "dtype": "int64",
         "stats": {
          "unique_count": 2,
          "nan_count": 0,
          "min": "0",
          "max": "1",
          "histogram": [
           {
            "bin_start": 0,
            "bin_end": 0.1,
            "count": 5
           },
           {
            "bin_start": 0.1,
            "bin_end": 0.2,
            "count": 0
           },
           {
            "bin_start": 0.2,
            "bin_end": 0.30000000000000004,
            "count": 0
           },
           {
            "bin_start": 0.30000000000000004,
            "bin_end": 0.4,
            "count": 0
           },
           {
            "bin_start": 0.4,
            "bin_end": 0.5,
            "count": 0
           },
           {
            "bin_start": 0.5,
            "bin_end": 0.6000000000000001,
            "count": 0
           },
           {
            "bin_start": 0.6000000000000001,
            "bin_end": 0.7000000000000001,
            "count": 0
           },
           {
            "bin_start": 0.7000000000000001,
            "bin_end": 0.8,
            "count": 0
           },
           {
            "bin_start": 0.8,
            "bin_end": 0.9,
            "count": 0
           },
           {
            "bin_start": 0.9,
            "bin_end": 1,
            "count": 5
           }
          ]
         }
        },
        {
         "name": "_deepnote_index_column",
         "dtype": "object"
        }
       ],
       "rows_top": [
        {
         "lang": "en",
         "tweet_lemmatized": "back life feel like weight lift shoulder drizzy run lemon pepper freestyle bad patiently wait ameri…",
         "truth": 1,
         "_deepnote_index_column": "63a133c55e234d7ccb1f4ce9ded79f91"
        },
        {
         "lang": "en",
         "tweet_lemmatized": "hey jamal snicker uncontrollable want pfff lemonade idiot cotton come banger mean sarcasm good poin…",
         "truth": 1,
         "_deepnote_index_column": "0a3ce42bea89e2a92a28f685735e605e"
        },
        {
         "lang": "en",
         "tweet_lemmatized": "shadow post early today medium today donald trump snl dave robin williams flag dave steve hilton co…",
         "truth": 0,
         "_deepnote_index_column": "98c59ff3e2cfc56b96ee3c49b3d46296"
        },
        {
         "lang": "es",
         "tweet_lemmatized": "indignación informe mongolio ' mansplaining ' político patético hombre gente mientras palmar votant…",
         "truth": 0,
         "_deepnote_index_column": "e6bb7dfe02b95ed3c147e805b766a668"
        },
        {
         "lang": "en",
         "tweet_lemmatized": "land alignment chart start new journey lord extremely hard well health hope nigga say deserve reall…",
         "truth": 0,
         "_deepnote_index_column": "1005765475f523b3436d795b2e229174"
        },
        {
         "lang": "en",
         "tweet_lemmatized": "mark hatfield republican white house ignore attack outrage partisan exclusive footage southern bord…",
         "truth": 1,
         "_deepnote_index_column": "f902c0eaa0ff3818f6c22ebfae52ab43"
        },
        {
         "lang": "en",
         "tweet_lemmatized": "get coke yer nose good ye good enough cunt hahahaha fuck pish facebook time least twitter ye get la…",
         "truth": 1,
         "_deepnote_index_column": "aba7a9ab2d9d07953cabcaf6793be635"
        },
        {
         "lang": "es",
         "tweet_lemmatized": "colmo colmos meghan markle arruine harry acabar dormir cajero manchester rotundamente poder hacer r…",
         "truth": 1,
         "_deepnote_index_column": "d0feaf7314acfc9272b75f936e12de3c"
        },
        {
         "lang": "es",
         "tweet_lemmatized": "chungar decir guant fumadora fumo casa terraza calle ocurrir bajo mascarilla coña ver dentro semana…",
         "truth": 0,
         "_deepnote_index_column": "88cf4c881e19ba3a02c4e84521db65cc"
        },
        {
         "lang": "en",
         "tweet_lemmatized": "go go go go go world dangerous place via world dangerous place via world dangerous place via world …",
         "truth": 0,
         "_deepnote_index_column": "d81a16601a13f675b49c986c3e6cb974"
        }
       ],
       "rows_bottom": null
      },
      "text/plain": "                                 lang  \\\nuserid                                  \n63a133c55e234d7ccb1f4ce9ded79f91   en   \n0a3ce42bea89e2a92a28f685735e605e   en   \n98c59ff3e2cfc56b96ee3c49b3d46296   en   \ne6bb7dfe02b95ed3c147e805b766a668   es   \n1005765475f523b3436d795b2e229174   en   \nf902c0eaa0ff3818f6c22ebfae52ab43   en   \naba7a9ab2d9d07953cabcaf6793be635   en   \nd0feaf7314acfc9272b75f936e12de3c   es   \n88cf4c881e19ba3a02c4e84521db65cc   es   \nd81a16601a13f675b49c986c3e6cb974   en   \n\n                                                                   tweet_lemmatized  \\\nuserid                                                                                \n63a133c55e234d7ccb1f4ce9ded79f91  back life feel like weight lift shoulder drizz...   \n0a3ce42bea89e2a92a28f685735e605e  hey jamal snicker uncontrollable want pfff lem...   \n98c59ff3e2cfc56b96ee3c49b3d46296  shadow post early today medium today donald tr...   \ne6bb7dfe02b95ed3c147e805b766a668  indignación informe mongolio ' mansplaining ' ...   \n1005765475f523b3436d795b2e229174  land alignment chart start new journey lord ex...   \nf902c0eaa0ff3818f6c22ebfae52ab43  mark hatfield republican white house ignore at...   \naba7a9ab2d9d07953cabcaf6793be635  get coke yer nose good ye good enough cunt hah...   \nd0feaf7314acfc9272b75f936e12de3c  colmo colmos meghan markle arruine harry acaba...   \n88cf4c881e19ba3a02c4e84521db65cc  chungar decir guant fumadora fumo casa terraza...   \nd81a16601a13f675b49c986c3e6cb974  go go go go go world dangerous place via world...   \n\n                                  truth  \nuserid                                   \n63a133c55e234d7ccb1f4ce9ded79f91      1  \n0a3ce42bea89e2a92a28f685735e605e      1  \n98c59ff3e2cfc56b96ee3c49b3d46296      0  \ne6bb7dfe02b95ed3c147e805b766a668      0  \n1005765475f523b3436d795b2e229174      0  \nf902c0eaa0ff3818f6c22ebfae52ab43      1  \naba7a9ab2d9d07953cabcaf6793be635      1  \nd0feaf7314acfc9272b75f936e12de3c      1  \n88cf4c881e19ba3a02c4e84521db65cc      0  \nd81a16601a13f675b49c986c3e6cb974      0  ",
      "text/html": "<div>\n<style scoped>\n    .dataframe tbody tr th:only-of-type {\n        vertical-align: middle;\n    }\n\n    .dataframe tbody tr th {\n        vertical-align: top;\n    }\n\n    .dataframe thead th {\n        text-align: right;\n    }\n</style>\n<table border=\"1\" class=\"dataframe\">\n  <thead>\n    <tr style=\"text-align: right;\">\n      <th></th>\n      <th>lang</th>\n      <th>tweet_lemmatized</th>\n      <th>truth</th>\n    </tr>\n    <tr>\n      <th>userid</th>\n      <th></th>\n      <th></th>\n      <th></th>\n    </tr>\n  </thead>\n  <tbody>\n    <tr>\n      <th>63a133c55e234d7ccb1f4ce9ded79f91</th>\n      <td>en</td>\n      <td>back life feel like weight lift shoulder drizz...</td>\n      <td>1</td>\n    </tr>\n    <tr>\n      <th>0a3ce42bea89e2a92a28f685735e605e</th>\n      <td>en</td>\n      <td>hey jamal snicker uncontrollable want pfff lem...</td>\n      <td>1</td>\n    </tr>\n    <tr>\n      <th>98c59ff3e2cfc56b96ee3c49b3d46296</th>\n      <td>en</td>\n      <td>shadow post early today medium today donald tr...</td>\n      <td>0</td>\n    </tr>\n    <tr>\n      <th>e6bb7dfe02b95ed3c147e805b766a668</th>\n      <td>es</td>\n      <td>indignación informe mongolio ' mansplaining ' ...</td>\n      <td>0</td>\n    </tr>\n    <tr>\n      <th>1005765475f523b3436d795b2e229174</th>\n      <td>en</td>\n      <td>land alignment chart start new journey lord ex...</td>\n      <td>0</td>\n    </tr>\n    <tr>\n      <th>f902c0eaa0ff3818f6c22ebfae52ab43</th>\n      <td>en</td>\n      <td>mark hatfield republican white house ignore at...</td>\n      <td>1</td>\n    </tr>\n    <tr>\n      <th>aba7a9ab2d9d07953cabcaf6793be635</th>\n      <td>en</td>\n      <td>get coke yer nose good ye good enough cunt hah...</td>\n      <td>1</td>\n    </tr>\n    <tr>\n      <th>d0feaf7314acfc9272b75f936e12de3c</th>\n      <td>es</td>\n      <td>colmo colmos meghan markle arruine harry acaba...</td>\n      <td>1</td>\n    </tr>\n    <tr>\n      <th>88cf4c881e19ba3a02c4e84521db65cc</th>\n      <td>es</td>\n      <td>chungar decir guant fumadora fumo casa terraza...</td>\n      <td>0</td>\n    </tr>\n    <tr>\n      <th>d81a16601a13f675b49c986c3e6cb974</th>\n      <td>en</td>\n      <td>go go go go go world dangerous place via world...</td>\n      <td>0</td>\n    </tr>\n  </tbody>\n</table>\n</div>"
     },
     "metadata": {}
    }
   ],
   "execution_count": 87
  },
  {
   "cell_type": "markdown",
   "source": "# Baseline model",
   "metadata": {
    "tags": [],
    "is_collapsed": false,
    "cell_id": "00087-a7c3d424-5ede-4a57-b284-073aaf5a07be",
    "deepnote_cell_type": "text-cell-h1"
   }
  },
  {
   "cell_type": "markdown",
   "source": "## Train/test split",
   "metadata": {
    "tags": [],
    "is_collapsed": false,
    "cell_id": "00097-82c74043-320a-4e76-95a5-ab8e7ecc300f",
    "deepnote_cell_type": "text-cell-h2"
   }
  },
  {
   "cell_type": "code",
   "source": "from sklearn.model_selection import train_test_split\n\nX_train, X_test, y_train, y_test = train_test_split(agg_df[\"tweet_lemmatized\"],\n                                                    agg_df[\"truth\"],\n                                                    test_size=0.2,\n                                                    random_state=63,\n                                                    stratify=agg_df[\"truth\"])\nprint(X_train.shape)\nprint(X_test.shape)\n\nplt.hist(y_train.astype(int), histtype=\"stepfilled\", label=\"train\")\nplt.hist(y_test.astype(int), histtype=\"stepfilled\", label=\"test\")\nplt.xticks([0, 1], [\"0 - non hater\", \"1 - hater\"])\nplt.xlabel(\"Truth\")\nplt.ylabel(\"# tweeters\")\nplt.legend(loc='upper center');",
   "metadata": {
    "tags": [],
    "cell_id": "00098-30f8d6f2-5e64-4523-bc76-53aaf73bab55",
    "deepnote_to_be_reexecuted": false,
    "source_hash": "cc64012a",
    "execution_start": 1637780656839,
    "execution_millis": 258,
    "deepnote_output_heights": [
     null,
     263.984375,
     253.984375
    ],
    "deepnote_cell_type": "code"
   },
   "outputs": [
    {
     "name": "stdout",
     "text": "(320,)\n(80,)\n",
     "output_type": "stream"
    },
    {
     "data": {
      "text/plain": "<Figure size 432x288 with 1 Axes>",
      "image/png": "[encoded data removed]"
     },
     "metadata": {
      "needs_background": "light",
      "image/png": {
       "width": 395,
       "height": 262
      }
     },
     "output_type": "display_data"
    }
   ],
   "execution_count": 88
  },
  {
   "cell_type": "markdown",
   "source": "## transform tweets into tfidf ",
   "metadata": {
    "tags": [],
    "is_collapsed": false,
    "cell_id": "00088-6cac8b1c-f0c8-4e0d-93a3-659478cc7e4b",
    "deepnote_cell_type": "text-cell-h2"
   }
  },
  {
   "cell_type": "markdown",
   "source": "Laszlo , possible steps: remove stop words, then lemmatization etc",
   "metadata": {
    "tags": [],
    "cell_id": "00089-9157d988-c620-470d-a48d-bc248338463f",
    "deepnote_cell_type": "markdown"
   }
  },
  {
   "cell_type": "code",
   "source": "from sklearn.feature_extraction.text import CountVectorizer, TfidfVectorizer\n\ntfidf_vectorizer = TfidfVectorizer()\ntfidf_matrix = tfidf_vectorizer.fit_transform(X_train)\nprint(tfidf_matrix.shape)",
   "metadata": {
    "tags": [],
    "cell_id": "00099-7cd4d808-bca6-4158-b1e8-3c534a53140f",
    "deepnote_to_be_reexecuted": false,
    "source_hash": "4a8ffad8",
    "execution_start": 1637780657119,
    "execution_millis": 485,
    "deepnote_cell_type": "code"
   },
   "outputs": [
    {
     "name": "stdout",
     "text": "(320, 42742)\n",
     "output_type": "stream"
    }
   ],
   "execution_count": 89
  },
  {
   "cell_type": "code",
   "source": "len(tfidf_vectorizer.get_feature_names_out())",
   "metadata": {
    "tags": [],
    "cell_id": "00107-4b86f06b-4212-441a-9695-276cf53f03c3",
    "deepnote_to_be_reexecuted": false,
    "source_hash": "466ca890",
    "execution_start": 1637780657657,
    "execution_millis": 3,
    "deepnote_output_heights": [
     20.5,
     20.5
    ],
    "deepnote_cell_type": "code"
   },
   "outputs": [
    {
     "output_type": "execute_result",
     "execution_count": 90,
     "data": {
      "text/plain": "42742"
     },
     "metadata": {}
    }
   ],
   "execution_count": 90
  },
  {
   "cell_type": "code",
   "source": "tfidf_vectorizer.vocabulary_[\"asshole\"]",
   "metadata": {
    "tags": [],
    "cell_id": "00100-ebdd98c3-bee6-4bc6-af15-7f369805de68",
    "deepnote_to_be_reexecuted": false,
    "source_hash": "f3fdbfd0",
    "execution_start": 1637780750498,
    "execution_millis": 2,
    "deepnote_output_heights": [
     20.5
    ],
    "deepnote_cell_type": "code"
   },
   "outputs": [
    {
     "output_type": "execute_result",
     "execution_count": 97,
     "data": {
      "text/plain": "2856"
     },
     "metadata": {}
    }
   ],
   "execution_count": 97
  },
  {
   "cell_type": "code",
   "source": "tfidf_vectorizer.get_feature_names_out()[2856] # which word has id 10476",
   "metadata": {
    "tags": [],
    "cell_id": "00102-806d0743-861a-4437-b420-a4766f1e63c5",
    "deepnote_to_be_reexecuted": false,
    "source_hash": "84ed00e1",
    "execution_start": 1637780773765,
    "execution_millis": 19,
    "deepnote_output_heights": [
     20.5,
     20.5
    ],
    "deepnote_cell_type": "code"
   },
   "outputs": [
    {
     "output_type": "execute_result",
     "execution_count": 98,
     "data": {
      "text/plain": "'asshole'"
     },
     "metadata": {}
    }
   ],
   "execution_count": 98
  },
  {
   "cell_type": "code",
   "source": "tfidf_matrix[:, 2856].count_nonzero()  # how often does the word \"asshole\" appear in the entire corpus",
   "metadata": {
    "tags": [],
    "cell_id": "00101-40d401c9-2124-4678-acc3-51e24deb1423",
    "deepnote_to_be_reexecuted": false,
    "source_hash": "9ee638c6",
    "execution_start": 1637780886705,
    "execution_millis": 9,
    "deepnote_output_heights": [
     20.5
    ],
    "deepnote_cell_type": "code"
   },
   "outputs": [
    {
     "output_type": "execute_result",
     "execution_count": 100,
     "data": {
      "text/plain": "15"
     },
     "metadata": {}
    }
   ],
   "execution_count": 100
  },
  {
   "cell_type": "markdown",
   "source": "## Predicting a binary classification",
   "metadata": {
    "tags": [],
    "is_collapsed": false,
    "cell_id": "00105-08366491-d72d-48e5-b59a-a72490b3d23e",
    "deepnote_cell_type": "text-cell-h2"
   }
  },
  {
   "cell_type": "code",
   "source": "from sklearn.model_selection import cross_val_score\nfrom sklearn.linear_model import LogisticRegression, RidgeClassifier\nfrom sklearn.ensemble import RandomForestClassifier, GradientBoostingClassifier\nfrom sklearn.pipeline import make_pipeline\n\npipe = make_pipeline(TfidfVectorizer(), RidgeClassifier())\ncross_val_score(pipe, X_train, y_train).mean()",
   "metadata": {
    "tags": [],
    "cell_id": "00105-33ee9a96-8b0b-4684-aa24-2af2c4e2b867",
    "deepnote_to_be_reexecuted": false,
    "source_hash": "2ecaade5",
    "execution_start": 1637780657755,
    "execution_millis": 2865,
    "deepnote_output_heights": [
     20.5
    ],
    "deepnote_cell_type": "code"
   },
   "outputs": [
    {
     "output_type": "execute_result",
     "execution_count": 94,
     "data": {
      "text/plain": "0.71875"
     },
     "metadata": {}
    }
   ],
   "execution_count": 94
  },
  {
   "cell_type": "code",
   "source": "from sklearn.metrics import plot_confusion_matrix\n\npipe.fit(X_train, y_train)\nplot_confusion_matrix(pipe, X_test, y_test, values_format=\"\")\nplt.title(\"Prediction of haters\");",
   "metadata": {
    "tags": [],
    "cell_id": "00107-cd8627b9-8005-4559-a6cc-65d16e06b42d",
    "deepnote_to_be_reexecuted": false,
    "source_hash": "c009e455",
    "execution_start": 1637780660631,
    "execution_millis": 977,
    "deepnote_output_heights": [
     null,
     279.984375
    ],
    "deepnote_cell_type": "code"
   },
   "outputs": [
    {
     "name": "stderr",
     "text": "/shared-libs/python3.7/py/lib/python3.7/site-packages/sklearn/utils/deprecation.py:87: FutureWarning: Function plot_confusion_matrix is deprecated; Function `plot_confusion_matrix` is deprecated in 1.0 and will be removed in 1.2. Use one of the class methods: ConfusionMatrixDisplay.from_predictions or ConfusionMatrixDisplay.from_estimator.\n  warnings.warn(msg, category=FutureWarning)\n",
     "output_type": "stream"
    },
    {
     "data": {
      "text/plain": "<Figure size 432x288 with 2 Axes>",
      "image/png": "[encoded data removed]"
     },
     "metadata": {
      "needs_background": "light",
      "image/png": {
       "width": 306,
       "height": 278
      }
     },
     "output_type": "display_data"
    }
   ],
   "execution_count": 95
  },
  {
   "cell_type": "markdown",
   "source": "## Setup RF ",
   "metadata": {
    "tags": [],
    "is_collapsed": false,
    "cell_id": "00090-268e2e77-eb1c-4569-8b19-ec3de70a1405",
    "deepnote_cell_type": "text-cell-h2"
   }
  },
  {
   "cell_type": "markdown",
   "source": "## run data through RF",
   "metadata": {
    "tags": [],
    "is_collapsed": false,
    "cell_id": "00091-f9a13253-be11-452f-a86b-4eac4d97ecaf",
    "deepnote_cell_type": "text-cell-h2"
   }
  },
  {
   "cell_type": "markdown",
   "source": "## analyse the outcomes",
   "metadata": {
    "tags": [],
    "is_collapsed": false,
    "cell_id": "00092-8631435a-1741-4779-b873-0a2d6c7af1d3",
    "deepnote_cell_type": "text-cell-h2"
   }
  },
  {
   "cell_type": "markdown",
   "source": "",
   "metadata": {
    "tags": [],
    "is_collapsed": false,
    "cell_id": "00093-d26a128a-19a0-4e93-b891-5acb8da1a473",
    "deepnote_cell_type": "text-cell-p"
   }
  },
  {
   "cell_type": "markdown",
   "source": "",
   "metadata": {
    "tags": [],
    "is_collapsed": false,
    "cell_id": "00094-5d098f79-89ba-4455-b1c8-e77b3f36c691",
    "deepnote_cell_type": "text-cell-p"
   }
  },
  {
   "cell_type": "markdown",
   "source": "![Picture title](image-20211124-095813.png)",
   "metadata": {
    "tags": [],
    "cell_id": "00086-cad38a0b-0b2a-4097-aad8-520c211b22ba",
    "deepnote_cell_type": "markdown"
   }
  },
  {
   "cell_type": "markdown",
   "source": "# LSTM model",
   "metadata": {
    "tags": [],
    "is_collapsed": false,
    "cell_id": "00095-9e269a34-5d54-4beb-b9d7-17ff9c0714cb",
    "deepnote_cell_type": "text-cell-h1"
   }
  },
  {
   "cell_type": "markdown",
   "source": "## build LSTM model",
   "metadata": {
    "tags": [],
    "is_collapsed": false,
    "cell_id": "00096-4aea70d1-ba04-4d7b-993d-2a55d27106c5",
    "deepnote_cell_type": "text-cell-h2"
   }
  },
  {
   "cell_type": "code",
   "metadata": {
    "tags": [],
    "deepnote_to_be_reexecuted": false,
    "source_hash": "d7ed881b",
    "execution_start": 1637780661626,
    "execution_millis": 441,
    "cell_id": "00097-6301ca51-39b1-4188-b331-9df41d783f95",
    "deepnote_cell_type": "code"
   },
   "source": "# DRAFT Ul this needs to be corrected\n# model = Sequential( )\n# embedding_neurons = 64\n# model.add(tensorflow.keras.layers.Embedding(input_dim= xxx, output_dim=embedding_neurons))  \n# LSTM_neurons = 250  # commonly used for GRU\n# model.add(tensorflow.keras.layers.LSTM(LSTM_neurons , return_sequences=True)) \n# dense_neurons = xxx    # how many untis???\n# model.add(tensorflow.keras.layers.TimeDistributed(tensorflow.keras.layers.Dense(dense_neurons, activation='softmax')))  \n\nimport tensorflow\n# Input for variable-length sequences of integers\ninputs = tensorflow.keras.Input(shape=(None,), dtype=\"int32\")\n# Embed each integer in a 128-dimensional vector\nx = tensorflow.keras.layers.Embedding(max_features, 128)(inputs)\n# Add 2 bidirectional LSTMs\nx = layers.Bidirectional(layers.LSTM(64, return_sequences=True))(x)\nx = layers.Bidirectional(layers.LSTM(64))(x)\n# Add a classifier\noutputs = layers.Dense(1, activation=\"sigmoid\")(x)\nmodel = keras.Model(inputs, outputs)\nmodel.summary()",
   "outputs": [
    {
     "output_type": "error",
     "ename": "NameError",
     "evalue": "name 'max_features' is not defined",
     "traceback": [
      "\u001b[0;31m---------------------------------------------------------------------------\u001b[0m",
      "\u001b[0;31mNameError\u001b[0m                                 Traceback (most recent call last)",
      "\u001b[0;32m<ipython-input-96-fa5d3fab4437>\u001b[0m in \u001b[0;36m<module>\u001b[0;34m\u001b[0m\n\u001b[1;32m     12\u001b[0m \u001b[0minputs\u001b[0m \u001b[0;34m=\u001b[0m \u001b[0mtensorflow\u001b[0m\u001b[0;34m.\u001b[0m\u001b[0mkeras\u001b[0m\u001b[0;34m.\u001b[0m\u001b[0mInput\u001b[0m\u001b[0;34m(\u001b[0m\u001b[0mshape\u001b[0m\u001b[0;34m=\u001b[0m\u001b[0;34m(\u001b[0m\u001b[0;32mNone\u001b[0m\u001b[0;34m,\u001b[0m\u001b[0;34m)\u001b[0m\u001b[0;34m,\u001b[0m \u001b[0mdtype\u001b[0m\u001b[0;34m=\u001b[0m\u001b[0;34m\"int32\"\u001b[0m\u001b[0;34m)\u001b[0m\u001b[0;34m\u001b[0m\u001b[0;34m\u001b[0m\u001b[0m\n\u001b[1;32m     13\u001b[0m \u001b[0;31m# Embed each integer in a 128-dimensional vector\u001b[0m\u001b[0;34m\u001b[0m\u001b[0;34m\u001b[0m\u001b[0;34m\u001b[0m\u001b[0m\n\u001b[0;32m---> 14\u001b[0;31m \u001b[0mx\u001b[0m \u001b[0;34m=\u001b[0m \u001b[0mtensorflow\u001b[0m\u001b[0;34m.\u001b[0m\u001b[0mkeras\u001b[0m\u001b[0;34m.\u001b[0m\u001b[0mlayers\u001b[0m\u001b[0;34m.\u001b[0m\u001b[0mEmbedding\u001b[0m\u001b[0;34m(\u001b[0m\u001b[0mmax_features\u001b[0m\u001b[0;34m,\u001b[0m \u001b[0;36m128\u001b[0m\u001b[0;34m)\u001b[0m\u001b[0;34m(\u001b[0m\u001b[0minputs\u001b[0m\u001b[0;34m)\u001b[0m\u001b[0;34m\u001b[0m\u001b[0;34m\u001b[0m\u001b[0m\n\u001b[0m\u001b[1;32m     15\u001b[0m \u001b[0;31m# Add 2 bidirectional LSTMs\u001b[0m\u001b[0;34m\u001b[0m\u001b[0;34m\u001b[0m\u001b[0;34m\u001b[0m\u001b[0m\n\u001b[1;32m     16\u001b[0m \u001b[0mx\u001b[0m \u001b[0;34m=\u001b[0m \u001b[0mlayers\u001b[0m\u001b[0;34m.\u001b[0m\u001b[0mBidirectional\u001b[0m\u001b[0;34m(\u001b[0m\u001b[0mlayers\u001b[0m\u001b[0;34m.\u001b[0m\u001b[0mLSTM\u001b[0m\u001b[0;34m(\u001b[0m\u001b[0;36m64\u001b[0m\u001b[0;34m,\u001b[0m \u001b[0mreturn_sequences\u001b[0m\u001b[0;34m=\u001b[0m\u001b[0;32mTrue\u001b[0m\u001b[0;34m)\u001b[0m\u001b[0;34m)\u001b[0m\u001b[0;34m(\u001b[0m\u001b[0mx\u001b[0m\u001b[0;34m)\u001b[0m\u001b[0;34m\u001b[0m\u001b[0;34m\u001b[0m\u001b[0m\n",
      "\u001b[0;31mNameError\u001b[0m: name 'max_features' is not defined"
     ]
    }
   ],
   "execution_count": 96
  },
  {
   "cell_type": "markdown",
   "source": "",
   "metadata": {
    "tags": [],
    "is_collapsed": false,
    "cell_id": "00098-96d262c1-6fb7-4084-a17a-2e02cc2a828d",
    "deepnote_cell_type": "text-cell-p"
   }
  },
  {
   "cell_type": "markdown",
   "source": "## run data through LSTM",
   "metadata": {
    "tags": [],
    "is_collapsed": false,
    "cell_id": "00099-e305f1a0-39cf-49a7-a734-3504dd6757e2",
    "deepnote_cell_type": "text-cell-h2"
   }
  },
  {
   "cell_type": "markdown",
   "source": "",
   "metadata": {
    "tags": [],
    "is_collapsed": false,
    "cell_id": "00100-30961d5f-54bc-4f4e-ae26-836179adda67",
    "deepnote_cell_type": "text-cell-p"
   }
  },
  {
   "cell_type": "markdown",
   "source": "## analyze the outcomes",
   "metadata": {
    "tags": [],
    "is_collapsed": false,
    "cell_id": "00101-9c8baa2b-e47a-4a2c-91ef-0b4820923257",
    "deepnote_cell_type": "text-cell-h2"
   }
  },
  {
   "cell_type": "markdown",
   "source": "",
   "metadata": {
    "tags": [],
    "is_collapsed": false,
    "cell_id": "00102-8cca5a5b-578b-4299-a8f7-da6d9a174347",
    "deepnote_cell_type": "text-cell-p"
   }
  },
  {
   "cell_type": "markdown",
   "source": "# Compare the results using F1 measure",
   "metadata": {
    "tags": [],
    "is_collapsed": false,
    "cell_id": "00103-99c41b76-c8d1-4b1c-8327-e79e8639d680",
    "deepnote_cell_type": "text-cell-h1"
   }
  },
  {
   "cell_type": "markdown",
   "source": "<a style='text-decoration:none;line-height:16px;display:flex;color:#5B5B62;padding:10px;justify-content:end;' href='https://deepnote.com?utm_source=created-in-deepnote-cell&projectId=d542cd96-5114-4360-b07a-18b11b986ecd' target=\"_blank\">\n<img alt='Created in deepnote.com' style='display:inline;max-height:16px;margin:0px;margin-right:7.5px;' src='data:image/svg+xml;base64,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' > </img>\nCreated in <span style='font-weight:600;margin-left:4px;'>Deepnote</span></a>",
   "metadata": {
    "tags": [],
    "created_in_deepnote_cell": true,
    "deepnote_cell_type": "markdown"
   }
  }
 ],
 "nbformat": 4,
 "nbformat_minor": 2,
 "metadata": {
  "orig_nbformat": 2,
  "deepnote": {
   "is_reactive": false
  },
  "deepnote_notebook_id": "2c6c458a-d43a-44b1-99d9-983d73d2a006",
  "deepnote_execution_queue": []
 }
}