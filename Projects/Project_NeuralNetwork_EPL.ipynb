{
 "cells": [
  {
   "cell_type": "markdown",
   "source": "# Credit Borrower Classification",
   "metadata": {
    "tags": [],
    "is_collapsed": false,
    "cell_id": "00000-e326e81f-a9b8-4c6b-ae93-b297ce73b2f7",
    "deepnote_cell_type": "text-cell-h1"
   }
  },
  {
   "cell_type": "markdown",
   "source": "## The HMEQ data set",
   "metadata": {
    "tags": [],
    "is_collapsed": false,
    "cell_id": "00001-1007e9f3-af5b-4331-a6f3-729c49101247",
    "deepnote_cell_type": "text-cell-h2"
   }
  },
  {
   "cell_type": "markdown",
   "source": "Our data set, called the  \"Home Equity\" or , in brief, HMEQ data set, is provided by www.creditriskanalytics.net. It comprises  information about a set of borrowers, which are categorized along demographic variables and variables concerning their business relationship with the lender. A binary target variable called 'BAD' is  provided and indicates whether a borrower has repaid her/his debt. You can think of the data as a standard use case of binary classification.\n\nYou obtain the data, together with other interesting finance data sets, directly from www.creditriskanalytics.net. The website also provides a brief description of the data set. Specifically, the data set consists of 5,960 observations and 13 features including the target variable. The variables are defined as follows:\n\n- BAD: the target variable, 1=default; 0=non-default \n- LOAN: amount of the loan request\n- MORTDUE: amount due on an existing mortgage\n- VALUE: value of current property\n- REASON: DebtCon=debt consolidation; HomeImp=home improvement\n- JOB: occupational categories\n- YOJ: years at present job\n- DEROG: number of major derogatory reports\n- DELINQ: number of delinquent credit lines\n- CLAGE: age of oldest credit line in months\n- NINQ: number of recent credit inquiries\n- CLNO: number of credit lines\n- DEBTINC: debt-to-income ratio\n\nAs you can see, the features aim at describing the financial situation of a borrower. It makes sense to familiarize yourself with the above features. Make sure you understand what type of information they provide and what this information might reveal about the risk of defaulting.  ",
   "metadata": {
    "id": "9aKIzwtBCHAA",
    "cell_id": "00002-2e16a4a9-e7a0-483d-8d74-f957038b9818",
    "deepnote_cell_type": "markdown"
   }
  },
  {
   "cell_type": "markdown",
   "source": "---",
   "metadata": {
    "id": "AufaDDQVCHAB",
    "cell_id": "00003-35ac7055-4ddd-4711-be44-0e149bf7933e",
    "deepnote_cell_type": "markdown"
   }
  },
  {
   "cell_type": "code",
   "metadata": {
    "id": "4M7GecRvCHAC",
    "deepnote_to_be_reexecuted": false,
    "source_hash": "ee16c929",
    "execution_start": 1636646287477,
    "execution_millis": 7800,
    "cell_id": "00004-5b9ca723-f9d2-4a14-8eb2-cd4fe09a5d9a",
    "deepnote_cell_type": "code"
   },
   "source": "import pandas as pd\nimport numpy as np\nfrom matplotlib import pyplot as plt\nimport seaborn as sns\nfrom sklearn.preprocessing import MinMaxScaler",
   "execution_count": 1,
   "outputs": []
  },
  {
   "cell_type": "code",
   "metadata": {
    "id": "fbNQ-CnDCHAE",
    "deepnote_to_be_reexecuted": false,
    "source_hash": "48bceeb5",
    "execution_start": 1636630879343,
    "execution_millis": 0,
    "cell_id": "00005-14b7fa2d-c62f-464f-abe0-1125d37eb05d",
    "deepnote_cell_type": "code"
   },
   "source": "# You have to update the code such that the variable file includes the correct path to the csv file on your computer\nfile = '/work/hmeq.csv'\ndf_raw = pd.read_csv(file)\n\ndf= df_raw.copy()",
   "execution_count": null,
   "outputs": []
  },
  {
   "cell_type": "code",
   "metadata": {
    "id": "HJ5LJ1QXCHAE",
    "outputId": "52a64bcf-8e36-4100-feff-a1b25deef389",
    "deepnote_to_be_reexecuted": false,
    "source_hash": "f804c160",
    "execution_start": 1636632209685,
    "execution_millis": 152,
    "cell_id": "00006-b9029429-16f6-466c-9ec0-e1fa901b1b50",
    "deepnote_cell_type": "code"
   },
   "source": "df",
   "execution_count": null,
   "outputs": [
    {
     "output_type": "execute_result",
     "execution_count": 35,
     "data": {
      "application/vnd.deepnote.dataframe.v2+json": {
       "row_count": 5960,
       "column_count": 13,
       "columns": [
        {
         "name": "BAD",
         "dtype": "int64",
         "stats": {
          "unique_count": 2,
          "nan_count": 0,
          "min": "0",
          "max": "1",
          "histogram": [
           {
            "bin_start": 0,
            "bin_end": 0.1,
            "count": 4771
           },
           {
            "bin_start": 0.1,
            "bin_end": 0.2,
            "count": 0
           },
           {
            "bin_start": 0.2,
            "bin_end": 0.30000000000000004,
            "count": 0
           },
           {
            "bin_start": 0.30000000000000004,
            "bin_end": 0.4,
            "count": 0
           },
           {
            "bin_start": 0.4,
            "bin_end": 0.5,
            "count": 0
           },
           {
            "bin_start": 0.5,
            "bin_end": 0.6000000000000001,
            "count": 0
           },
           {
            "bin_start": 0.6000000000000001,
            "bin_end": 0.7000000000000001,
            "count": 0
           },
           {
            "bin_start": 0.7000000000000001,
            "bin_end": 0.8,
            "count": 0
           },
           {
            "bin_start": 0.8,
            "bin_end": 0.9,
            "count": 0
           },
           {
            "bin_start": 0.9,
            "bin_end": 1,
            "count": 1189
           }
          ]
         }
        },
        {
         "name": "LOAN",
         "dtype": "int64",
         "stats": {
          "unique_count": 540,
          "nan_count": 0,
          "min": "1100",
          "max": "89900",
          "histogram": [
           {
            "bin_start": 1100,
            "bin_end": 9980,
            "count": 1130
           },
           {
            "bin_start": 9980,
            "bin_end": 18860,
            "count": 2455
           },
           {
            "bin_start": 18860,
            "bin_end": 27740,
            "count": 1584
           },
           {
            "bin_start": 27740,
            "bin_end": 36620,
            "count": 419
           },
           {
            "bin_start": 36620,
            "bin_end": 45500,
            "count": 184
           },
           {
            "bin_start": 45500,
            "bin_end": 54380,
            "count": 114
           },
           {
            "bin_start": 54380,
            "bin_end": 63260,
            "count": 18
           },
           {
            "bin_start": 63260,
            "bin_end": 72140,
            "count": 26
           },
           {
            "bin_start": 72140,
            "bin_end": 81020,
            "count": 13
           },
           {
            "bin_start": 81020,
            "bin_end": 89900,
            "count": 17
           }
          ]
         }
        },
        {
         "name": "MORTDUE",
         "dtype": "float64",
         "stats": {
          "unique_count": 5053,
          "nan_count": 518,
          "min": "2063.0",
          "max": "399550.0",
          "histogram": [
           {
            "bin_start": 2063,
            "bin_end": 41811.7,
            "count": 1095
           },
           {
            "bin_start": 41811.7,
            "bin_end": 81560.4,
            "count": 2566
           },
           {
            "bin_start": 81560.4,
            "bin_end": 121309.09999999999,
            "count": 1115
           },
           {
            "bin_start": 121309.09999999999,
            "bin_end": 161057.8,
            "count": 439
           },
           {
            "bin_start": 161057.8,
            "bin_end": 200806.5,
            "count": 120
           },
           {
            "bin_start": 200806.5,
            "bin_end": 240555.19999999998,
            "count": 83
           },
           {
            "bin_start": 240555.19999999998,
            "bin_end": 280303.89999999997,
            "count": 9
           },
           {
            "bin_start": 280303.89999999997,
            "bin_end": 320052.6,
            "count": 1
           },
           {
            "bin_start": 320052.6,
            "bin_end": 359801.3,
            "count": 1
           },
           {
            "bin_start": 359801.3,
            "bin_end": 399550,
            "count": 13
           }
          ]
         }
        },
        {
         "name": "VALUE",
         "dtype": "float64",
         "stats": {
          "unique_count": 5381,
          "nan_count": 112,
          "min": "8000.0",
          "max": "855909.0",
          "histogram": [
           {
            "bin_start": 8000,
            "bin_end": 92790.9,
            "count": 3141
           },
           {
            "bin_start": 92790.9,
            "bin_end": 177581.8,
            "count": 2155
           },
           {
            "bin_start": 177581.8,
            "bin_end": 262372.69999999995,
            "count": 440
           },
           {
            "bin_start": 262372.69999999995,
            "bin_end": 347163.6,
            "count": 94
           },
           {
            "bin_start": 347163.6,
            "bin_end": 431954.5,
            "count": 2
           },
           {
            "bin_start": 431954.5,
            "bin_end": 516745.39999999997,
            "count": 12
           },
           {
            "bin_start": 516745.39999999997,
            "bin_end": 601536.2999999999,
            "count": 0
           },
           {
            "bin_start": 601536.2999999999,
            "bin_end": 686327.2,
            "count": 0
           },
           {
            "bin_start": 686327.2,
            "bin_end": 771118.1,
            "count": 0
           },
           {
            "bin_start": 771118.1,
            "bin_end": 855909,
            "count": 4
           }
          ]
         }
        },
        {
         "name": "REASON",
         "dtype": "object",
         "stats": {
          "unique_count": 2,
          "nan_count": 252,
          "categories": [
           {
            "name": "DebtCon",
            "count": 3928
           },
           {
            "name": "HomeImp",
            "count": 1780
           },
           {
            "name": "Missing",
            "count": 252
           }
          ]
         }
        },
        {
         "name": "JOB",
         "dtype": "object",
         "stats": {
          "unique_count": 6,
          "nan_count": 279,
          "categories": [
           {
            "name": "Other",
            "count": 2388
           },
           {
            "name": "5 others",
            "count": 3293
           },
           {
            "name": "Missing",
            "count": 279
           }
          ]
         }
        },
        {
         "name": "YOJ",
         "dtype": "float64",
         "stats": {
          "unique_count": 99,
          "nan_count": 515,
          "min": "0.0",
          "max": "41.0",
          "histogram": [
           {
            "bin_start": 0,
            "bin_end": 4.1,
            "count": 1896
           },
           {
            "bin_start": 4.1,
            "bin_end": 8.2,
            "count": 1182
           },
           {
            "bin_start": 8.2,
            "bin_end": 12.299999999999999,
            "count": 913
           },
           {
            "bin_start": 12.299999999999999,
            "bin_end": 16.4,
            "count": 557
           },
           {
            "bin_start": 16.4,
            "bin_end": 20.5,
            "count": 340
           },
           {
            "bin_start": 20.5,
            "bin_end": 24.599999999999998,
            "count": 290
           },
           {
            "bin_start": 24.599999999999998,
            "bin_end": 28.699999999999996,
            "count": 177
           },
           {
            "bin_start": 28.699999999999996,
            "bin_end": 32.8,
            "count": 73
           },
           {
            "bin_start": 32.8,
            "bin_end": 36.9,
            "count": 14
           },
           {
            "bin_start": 36.9,
            "bin_end": 41,
            "count": 3
           }
          ]
         }
        },
        {
         "name": "DEROG",
         "dtype": "float64",
         "stats": {
          "unique_count": 11,
          "nan_count": 708,
          "min": "0.0",
          "max": "10.0",
          "histogram": [
           {
            "bin_start": 0,
            "bin_end": 1,
            "count": 4527
           },
           {
            "bin_start": 1,
            "bin_end": 2,
            "count": 435
           },
           {
            "bin_start": 2,
            "bin_end": 3,
            "count": 160
           },
           {
            "bin_start": 3,
            "bin_end": 4,
            "count": 58
           },
           {
            "bin_start": 4,
            "bin_end": 5,
            "count": 23
           },
           {
            "bin_start": 5,
            "bin_end": 6,
            "count": 15
           },
           {
            "bin_start": 6,
            "bin_end": 7,
            "count": 15
           },
           {
            "bin_start": 7,
            "bin_end": 8,
            "count": 8
           },
           {
            "bin_start": 8,
            "bin_end": 9,
            "count": 6
           },
           {
            "bin_start": 9,
            "bin_end": 10,
            "count": 5
           }
          ]
         }
        },
        {
         "name": "DELINQ",
         "dtype": "float64",
         "stats": {
          "unique_count": 14,
          "nan_count": 580,
          "min": "0.0",
          "max": "15.0",
          "histogram": [
           {
            "bin_start": 0,
            "bin_end": 1.5,
            "count": 4833
           },
           {
            "bin_start": 1.5,
            "bin_end": 3,
            "count": 250
           },
           {
            "bin_start": 3,
            "bin_end": 4.5,
            "count": 207
           },
           {
            "bin_start": 4.5,
            "bin_end": 6,
            "count": 38
           },
           {
            "bin_start": 6,
            "bin_end": 7.5,
            "count": 40
           },
           {
            "bin_start": 7.5,
            "bin_end": 9,
            "count": 5
           },
           {
            "bin_start": 9,
            "bin_end": 10.5,
            "count": 2
           },
           {
            "bin_start": 10.5,
            "bin_end": 12,
            "count": 2
           },
           {
            "bin_start": 12,
            "bin_end": 13.5,
            "count": 2
           },
           {
            "bin_start": 13.5,
            "bin_end": 15,
            "count": 1
           }
          ]
         }
        },
        {
         "name": "CLAGE",
         "dtype": "float64",
         "stats": {
          "unique_count": 5314,
          "nan_count": 308,
          "min": "0.0",
          "max": "1168.2335609",
          "histogram": [
           {
            "bin_start": 0,
            "bin_end": 116.82335608999999,
            "count": 1471
           },
           {
            "bin_start": 116.82335608999999,
            "bin_end": 233.64671217999998,
            "count": 2799
           },
           {
            "bin_start": 233.64671217999998,
            "bin_end": 350.47006826999996,
            "count": 1236
           },
           {
            "bin_start": 350.47006826999996,
            "bin_end": 467.29342435999996,
            "count": 117
           },
           {
            "bin_start": 467.29342435999996,
            "bin_end": 584.11678045,
            "count": 9
           },
           {
            "bin_start": 584.11678045,
            "bin_end": 700.9401365399999,
            "count": 18
           },
           {
            "bin_start": 700.9401365399999,
            "bin_end": 817.76349263,
            "count": 0
           },
           {
            "bin_start": 817.76349263,
            "bin_end": 934.5868487199999,
            "count": 0
           },
           {
            "bin_start": 934.5868487199999,
            "bin_end": 1051.4102048099999,
            "count": 0
           },
           {
            "bin_start": 1051.4102048099999,
            "bin_end": 1168.2335609,
            "count": 2
           }
          ]
         }
        },
        {
         "name": "NINQ",
         "dtype": "float64",
         "stats": {
          "unique_count": 16,
          "nan_count": 510,
          "min": "0.0",
          "max": "17.0",
          "histogram": [
           {
            "bin_start": 0,
            "bin_end": 1.7,
            "count": 3870
           },
           {
            "bin_start": 1.7,
            "bin_end": 3.4,
            "count": 1172
           },
           {
            "bin_start": 3.4,
            "bin_end": 5.1,
            "count": 231
           },
           {
            "bin_start": 5.1,
            "bin_end": 6.8,
            "count": 56
           },
           {
            "bin_start": 6.8,
            "bin_end": 8.5,
            "count": 66
           },
           {
            "bin_start": 8.5,
            "bin_end": 10.2,
            "count": 39
           },
           {
            "bin_start": 10.2,
            "bin_end": 11.9,
            "count": 10
           },
           {
            "bin_start": 11.9,
            "bin_end": 13.6,
            "count": 4
           },
           {
            "bin_start": 13.6,
            "bin_end": 15.299999999999999,
            "count": 1
           },
           {
            "bin_start": 15.299999999999999,
            "bin_end": 17,
            "count": 1
           }
          ]
         }
        },
        {
         "name": "CLNO",
         "dtype": "float64",
         "stats": {
          "unique_count": 62,
          "nan_count": 222,
          "min": "0.0",
          "max": "71.0",
          "histogram": [
           {
            "bin_start": 0,
            "bin_end": 7.1,
            "count": 342
           },
           {
            "bin_start": 7.1,
            "bin_end": 14.2,
            "count": 1092
           },
           {
            "bin_start": 14.2,
            "bin_end": 21.299999999999997,
            "count": 1741
           },
           {
            "bin_start": 21.299999999999997,
            "bin_end": 28.4,
            "count": 1399
           },
           {
            "bin_start": 28.4,
            "bin_end": 35.5,
            "count": 680
           },
           {
            "bin_start": 35.5,
            "bin_end": 42.599999999999994,
            "count": 265
           },
           {
            "bin_start": 42.599999999999994,
            "bin_end": 49.699999999999996,
            "count": 130
           },
           {
            "bin_start": 49.699999999999996,
            "bin_end": 56.8,
            "count": 74
           },
           {
            "bin_start": 56.8,
            "bin_end": 63.9,
            "count": 5
           },
           {
            "bin_start": 63.9,
            "bin_end": 71,
            "count": 10
           }
          ]
         }
        },
        {
         "name": "DEBTINC",
         "dtype": "float64",
         "stats": {
          "unique_count": 4693,
          "nan_count": 1267,
          "min": "0.5244992154",
          "max": "203.31214869",
          "histogram": [
           {
            "bin_start": 0.5244992154,
            "bin_end": 20.803264162859996,
            "count": 255
           },
           {
            "bin_start": 20.803264162859996,
            "bin_end": 41.08202911031999,
            "count": 3884
           },
           {
            "bin_start": 41.08202911031999,
            "bin_end": 61.36079405777999,
            "count": 529
           },
           {
            "bin_start": 61.36079405777999,
            "bin_end": 81.63955900523999,
            "count": 17
           },
           {
            "bin_start": 81.63955900523999,
            "bin_end": 101.91832395269998,
            "count": 3
           },
           {
            "bin_start": 101.91832395269998,
            "bin_end": 122.19708890015998,
            "count": 1
           },
           {
            "bin_start": 122.19708890015998,
            "bin_end": 142.47585384762,
            "count": 1
           },
           {
            "bin_start": 142.47585384762,
            "bin_end": 162.75461879507998,
            "count": 2
           },
           {
            "bin_start": 162.75461879507998,
            "bin_end": 183.03338374253997,
            "count": 0
           },
           {
            "bin_start": 183.03338374253997,
            "bin_end": 203.31214869,
            "count": 1
           }
          ]
         }
        },
        {
         "name": "_deepnote_index_column",
         "dtype": "int64"
        }
       ],
       "rows_top": [
        {
         "BAD": 1,
         "LOAN": 1100,
         "MORTDUE": 25860,
         "VALUE": 39025,
         "REASON": "HomeImp",
         "JOB": "Other",
         "YOJ": 10.5,
         "DEROG": 0,
         "DELINQ": 0,
         "CLAGE": 94.366666667,
         "NINQ": 1,
         "CLNO": 9,
         "DEBTINC": "nan",
         "_deepnote_index_column": 0
        },
        {
         "BAD": 1,
         "LOAN": 1300,
         "MORTDUE": 70053,
         "VALUE": 68400,
         "REASON": "HomeImp",
         "JOB": "Other",
         "YOJ": 7,
         "DEROG": 0,
         "DELINQ": 2,
         "CLAGE": 121.83333333,
         "NINQ": 0,
         "CLNO": 14,
         "DEBTINC": "nan",
         "_deepnote_index_column": 1
        },
        {
         "BAD": 1,
         "LOAN": 1500,
         "MORTDUE": 13500,
         "VALUE": 16700,
         "REASON": "HomeImp",
         "JOB": "Other",
         "YOJ": 4,
         "DEROG": 0,
         "DELINQ": 0,
         "CLAGE": 149.46666667,
         "NINQ": 1,
         "CLNO": 10,
         "DEBTINC": "nan",
         "_deepnote_index_column": 2
        },
        {
         "BAD": 1,
         "LOAN": 1500,
         "MORTDUE": "nan",
         "VALUE": "nan",
         "REASON": "nan",
         "JOB": "nan",
         "YOJ": "nan",
         "DEROG": "nan",
         "DELINQ": "nan",
         "CLAGE": "nan",
         "NINQ": "nan",
         "CLNO": "nan",
         "DEBTINC": "nan",
         "_deepnote_index_column": 3
        },
        {
         "BAD": 0,
         "LOAN": 1700,
         "MORTDUE": 97800,
         "VALUE": 112000,
         "REASON": "HomeImp",
         "JOB": "Office",
         "YOJ": 3,
         "DEROG": 0,
         "DELINQ": 0,
         "CLAGE": 93.333333333,
         "NINQ": 0,
         "CLNO": 14,
         "DEBTINC": "nan",
         "_deepnote_index_column": 4
        },
        {
         "BAD": 1,
         "LOAN": 1700,
         "MORTDUE": 30548,
         "VALUE": 40320,
         "REASON": "HomeImp",
         "JOB": "Other",
         "YOJ": 9,
         "DEROG": 0,
         "DELINQ": 0,
         "CLAGE": 101.46600191,
         "NINQ": 1,
         "CLNO": 8,
         "DEBTINC": 37.113613558,
         "_deepnote_index_column": 5
        },
        {
         "BAD": 1,
         "LOAN": 1800,
         "MORTDUE": 48649,
         "VALUE": 57037,
         "REASON": "HomeImp",
         "JOB": "Other",
         "YOJ": 5,
         "DEROG": 3,
         "DELINQ": 2,
         "CLAGE": 77.1,
         "NINQ": 1,
         "CLNO": 17,
         "DEBTINC": "nan",
         "_deepnote_index_column": 6
        },
        {
         "BAD": 1,
         "LOAN": 1800,
         "MORTDUE": 28502,
         "VALUE": 43034,
         "REASON": "HomeImp",
         "JOB": "Other",
         "YOJ": 11,
         "DEROG": 0,
         "DELINQ": 0,
         "CLAGE": 88.766029879,
         "NINQ": 0,
         "CLNO": 8,
         "DEBTINC": 36.884894093,
         "_deepnote_index_column": 7
        },
        {
         "BAD": 1,
         "LOAN": 2000,
         "MORTDUE": 32700,
         "VALUE": 46740,
         "REASON": "HomeImp",
         "JOB": "Other",
         "YOJ": 3,
         "DEROG": 0,
         "DELINQ": 2,
         "CLAGE": 216.93333333,
         "NINQ": 1,
         "CLNO": 12,
         "DEBTINC": "nan",
         "_deepnote_index_column": 8
        },
        {
         "BAD": 1,
         "LOAN": 2000,
         "MORTDUE": "nan",
         "VALUE": 62250,
         "REASON": "HomeImp",
         "JOB": "Sales",
         "YOJ": 16,
         "DEROG": 0,
         "DELINQ": 0,
         "CLAGE": 115.8,
         "NINQ": 0,
         "CLNO": 13,
         "DEBTINC": "nan",
         "_deepnote_index_column": 9
        },
        {
         "BAD": 1,
         "LOAN": 2000,
         "MORTDUE": 22608,
         "VALUE": "nan",
         "REASON": "nan",
         "JOB": "nan",
         "YOJ": 18,
         "DEROG": "nan",
         "DELINQ": "nan",
         "CLAGE": "nan",
         "NINQ": "nan",
         "CLNO": "nan",
         "DEBTINC": "nan",
         "_deepnote_index_column": 10
        },
        {
         "BAD": 1,
         "LOAN": 2000,
         "MORTDUE": 20627,
         "VALUE": 29800,
         "REASON": "HomeImp",
         "JOB": "Office",
         "YOJ": 11,
         "DEROG": 0,
         "DELINQ": 1,
         "CLAGE": 122.53333333,
         "NINQ": 1,
         "CLNO": 9,
         "DEBTINC": "nan",
         "_deepnote_index_column": 11
        },
        {
         "BAD": 1,
         "LOAN": 2000,
         "MORTDUE": 45000,
         "VALUE": 55000,
         "REASON": "HomeImp",
         "JOB": "Other",
         "YOJ": 3,
         "DEROG": 0,
         "DELINQ": 0,
         "CLAGE": 86.066666667,
         "NINQ": 2,
         "CLNO": 25,
         "DEBTINC": "nan",
         "_deepnote_index_column": 12
        },
        {
         "BAD": 0,
         "LOAN": 2000,
         "MORTDUE": 64536,
         "VALUE": 87400,
         "REASON": "nan",
         "JOB": "Mgr",
         "YOJ": 2.5,
         "DEROG": 0,
         "DELINQ": 0,
         "CLAGE": 147.13333333,
         "NINQ": 0,
         "CLNO": 24,
         "DEBTINC": "nan",
         "_deepnote_index_column": 13
        },
        {
         "BAD": 1,
         "LOAN": 2100,
         "MORTDUE": 71000,
         "VALUE": 83850,
         "REASON": "HomeImp",
         "JOB": "Other",
         "YOJ": 8,
         "DEROG": 0,
         "DELINQ": 1,
         "CLAGE": 123,
         "NINQ": 0,
         "CLNO": 16,
         "DEBTINC": "nan",
         "_deepnote_index_column": 14
        },
        {
         "BAD": 1,
         "LOAN": 2200,
         "MORTDUE": 24280,
         "VALUE": 34687,
         "REASON": "HomeImp",
         "JOB": "Other",
         "YOJ": "nan",
         "DEROG": 0,
         "DELINQ": 1,
         "CLAGE": 300.86666667,
         "NINQ": 0,
         "CLNO": 8,
         "DEBTINC": "nan",
         "_deepnote_index_column": 15
        },
        {
         "BAD": 1,
         "LOAN": 2200,
         "MORTDUE": 90957,
         "VALUE": 102600,
         "REASON": "HomeImp",
         "JOB": "Mgr",
         "YOJ": 7,
         "DEROG": 2,
         "DELINQ": 6,
         "CLAGE": 122.9,
         "NINQ": 1,
         "CLNO": 22,
         "DEBTINC": "nan",
         "_deepnote_index_column": 16
        },
        {
         "BAD": 1,
         "LOAN": 2200,
         "MORTDUE": 23030,
         "VALUE": "nan",
         "REASON": "nan",
         "JOB": "nan",
         "YOJ": 19,
         "DEROG": "nan",
         "DELINQ": "nan",
         "CLAGE": "nan",
         "NINQ": "nan",
         "CLNO": "nan",
         "DEBTINC": 3.7113122995,
         "_deepnote_index_column": 17
        },
        {
         "BAD": 1,
         "LOAN": 2300,
         "MORTDUE": 28192,
         "VALUE": 40150,
         "REASON": "HomeImp",
         "JOB": "Other",
         "YOJ": 4.5,
         "DEROG": 0,
         "DELINQ": 0,
         "CLAGE": 54.6,
         "NINQ": 1,
         "CLNO": 16,
         "DEBTINC": "nan",
         "_deepnote_index_column": 18
        },
        {
         "BAD": 0,
         "LOAN": 2300,
         "MORTDUE": 102370,
         "VALUE": 120953,
         "REASON": "HomeImp",
         "JOB": "Office",
         "YOJ": 2,
         "DEROG": 0,
         "DELINQ": 0,
         "CLAGE": 90.992533467,
         "NINQ": 0,
         "CLNO": 13,
         "DEBTINC": 31.588503178,
         "_deepnote_index_column": 19
        },
        {
         "BAD": 1,
         "LOAN": 2300,
         "MORTDUE": 37626,
         "VALUE": 46200,
         "REASON": "HomeImp",
         "JOB": "Other",
         "YOJ": 3,
         "DEROG": 0,
         "DELINQ": 1,
         "CLAGE": 122.26666667,
         "NINQ": 1,
         "CLNO": 14,
         "DEBTINC": "nan",
         "_deepnote_index_column": 20
        },
        {
         "BAD": 1,
         "LOAN": 2400,
         "MORTDUE": 50000,
         "VALUE": 73395,
         "REASON": "HomeImp",
         "JOB": "ProfExe",
         "YOJ": 5,
         "DEROG": 1,
         "DELINQ": 0,
         "CLAGE": "nan",
         "NINQ": 1,
         "CLNO": 0,
         "DEBTINC": "nan",
         "_deepnote_index_column": 21
        },
        {
         "BAD": 1,
         "LOAN": 2400,
         "MORTDUE": 28000,
         "VALUE": 40800,
         "REASON": "HomeImp",
         "JOB": "Mgr",
         "YOJ": 12,
         "DEROG": 0,
         "DELINQ": 0,
         "CLAGE": 67.2,
         "NINQ": 2,
         "CLNO": 22,
         "DEBTINC": "nan",
         "_deepnote_index_column": 22
        },
        {
         "BAD": 1,
         "LOAN": 2400,
         "MORTDUE": 18000,
         "VALUE": "nan",
         "REASON": "HomeImp",
         "JOB": "Mgr",
         "YOJ": 22,
         "DEROG": "nan",
         "DELINQ": 2,
         "CLAGE": 121.73333333,
         "NINQ": 0,
         "CLNO": 10,
         "DEBTINC": "nan",
         "_deepnote_index_column": 23
        },
        {
         "BAD": 1,
         "LOAN": 2400,
         "MORTDUE": "nan",
         "VALUE": 17180,
         "REASON": "HomeImp",
         "JOB": "Other",
         "YOJ": "nan",
         "DEROG": 0,
         "DELINQ": 0,
         "CLAGE": 14.566666667,
         "NINQ": 3,
         "CLNO": 4,
         "DEBTINC": "nan",
         "_deepnote_index_column": 24
        },
        {
         "BAD": 1,
         "LOAN": 2400,
         "MORTDUE": 34863,
         "VALUE": 47471,
         "REASON": "HomeImp",
         "JOB": "Mgr",
         "YOJ": 12,
         "DEROG": 0,
         "DELINQ": 0,
         "CLAGE": 70.491080032,
         "NINQ": 1,
         "CLNO": 21,
         "DEBTINC": 38.263600731,
         "_deepnote_index_column": 25
        },
        {
         "BAD": 0,
         "LOAN": 2400,
         "MORTDUE": 98449,
         "VALUE": 117195,
         "REASON": "HomeImp",
         "JOB": "Office",
         "YOJ": 4,
         "DEROG": 0,
         "DELINQ": 0,
         "CLAGE": 93.811774855,
         "NINQ": 0,
         "CLNO": 13,
         "DEBTINC": 29.681827045,
         "_deepnote_index_column": 26
        },
        {
         "BAD": 1,
         "LOAN": 2500,
         "MORTDUE": 15000,
         "VALUE": 20200,
         "REASON": "HomeImp",
         "JOB": "nan",
         "YOJ": 18,
         "DEROG": 0,
         "DELINQ": 0,
         "CLAGE": 136.06666667,
         "NINQ": 1,
         "CLNO": 19,
         "DEBTINC": "nan",
         "_deepnote_index_column": 27
        },
        {
         "BAD": 1,
         "LOAN": 2500,
         "MORTDUE": 25116,
         "VALUE": 36350,
         "REASON": "HomeImp",
         "JOB": "Other",
         "YOJ": 10,
         "DEROG": 1,
         "DELINQ": 2,
         "CLAGE": 276.96666667,
         "NINQ": 0,
         "CLNO": 9,
         "DEBTINC": "nan",
         "_deepnote_index_column": 28
        },
        {
         "BAD": 0,
         "LOAN": 2500,
         "MORTDUE": 7229,
         "VALUE": 44516,
         "REASON": "HomeImp",
         "JOB": "Self",
         "YOJ": "nan",
         "DEROG": 0,
         "DELINQ": 0,
         "CLAGE": 208,
         "NINQ": 0,
         "CLNO": 12,
         "DEBTINC": "nan",
         "_deepnote_index_column": 29
        },
        {
         "BAD": 0,
         "LOAN": 2500,
         "MORTDUE": 71408,
         "VALUE": 78600,
         "REASON": "HomeImp",
         "JOB": "ProfExe",
         "YOJ": 8,
         "DEROG": 0,
         "DELINQ": 0,
         "CLAGE": 255.73333333,
         "NINQ": 0,
         "CLNO": 12,
         "DEBTINC": "nan",
         "_deepnote_index_column": 30
        },
        {
         "BAD": 1,
         "LOAN": 2800,
         "MORTDUE": 50795,
         "VALUE": 63100,
         "REASON": "HomeImp",
         "JOB": "Self",
         "YOJ": 26,
         "DEROG": 2,
         "DELINQ": 15,
         "CLAGE": 145.63333333,
         "NINQ": 3,
         "CLNO": 45,
         "DEBTINC": "nan",
         "_deepnote_index_column": 31
        },
        {
         "BAD": 1,
         "LOAN": 2800,
         "MORTDUE": 4000,
         "VALUE": 60850,
         "REASON": "HomeImp",
         "JOB": "Other",
         "YOJ": 16,
         "DEROG": 4,
         "DELINQ": 0,
         "CLAGE": 112.63333333,
         "NINQ": 2,
         "CLNO": 9,
         "DEBTINC": "nan",
         "_deepnote_index_column": 32
        },
        {
         "BAD": 1,
         "LOAN": 2900,
         "MORTDUE": 78600,
         "VALUE": 113000,
         "REASON": "DebtCon",
         "JOB": "ProfExe",
         "YOJ": 6,
         "DEROG": 1,
         "DELINQ": 0,
         "CLAGE": 165.33333333,
         "NINQ": 2,
         "CLNO": 26,
         "DEBTINC": "nan",
         "_deepnote_index_column": 33
        },
        {
         "BAD": 0,
         "LOAN": 2900,
         "MORTDUE": 103949,
         "VALUE": 112505,
         "REASON": "HomeImp",
         "JOB": "Office",
         "YOJ": 1,
         "DEROG": 0,
         "DELINQ": 0,
         "CLAGE": 96.10232967,
         "NINQ": 0,
         "CLNO": 13,
         "DEBTINC": 30.051136286,
         "_deepnote_index_column": 34
        },
        {
         "BAD": 0,
         "LOAN": 2900,
         "MORTDUE": 104373,
         "VALUE": 120702,
         "REASON": "HomeImp",
         "JOB": "Office",
         "YOJ": 2,
         "DEROG": 0,
         "DELINQ": 0,
         "CLAGE": 101.54029753,
         "NINQ": 0,
         "CLNO": 13,
         "DEBTINC": 29.915859028,
         "_deepnote_index_column": 35
        },
        {
         "BAD": 1,
         "LOAN": 2900,
         "MORTDUE": 7750,
         "VALUE": 67996,
         "REASON": "HomeImp",
         "JOB": "Other",
         "YOJ": 16,
         "DEROG": 3,
         "DELINQ": 0,
         "CLAGE": 122.20466276,
         "NINQ": 2,
         "CLNO": 8,
         "DEBTINC": 36.211347998,
         "_deepnote_index_column": 36
        },
        {
         "BAD": 1,
         "LOAN": 2900,
         "MORTDUE": 61962,
         "VALUE": 70915,
         "REASON": "DebtCon",
         "JOB": "Mgr",
         "YOJ": 2,
         "DEROG": 0,
         "DELINQ": 0,
         "CLAGE": 282.80165924,
         "NINQ": 3,
         "CLNO": 37,
         "DEBTINC": 49.20639579,
         "_deepnote_index_column": 37
        }
       ],
       "rows_bottom": [
        {
         "BAD": 0,
         "LOAN": 69000,
         "MORTDUE": 197587,
         "VALUE": 295551,
         "REASON": "DebtCon",
         "JOB": "Self",
         "YOJ": 10,
         "DEROG": 0,
         "DELINQ": 0,
         "CLAGE": 211.77639117,
         "NINQ": 3,
         "CLNO": 24,
         "DEBTINC": 30.356856518,
         "_deepnote_index_column": 5922
        },
        {
         "BAD": 0,
         "LOAN": 69600,
         "MORTDUE": 198702,
         "VALUE": 293252,
         "REASON": "DebtCon",
         "JOB": "Self",
         "YOJ": 10,
         "DEROG": 0,
         "DELINQ": 0,
         "CLAGE": 208.29900684,
         "NINQ": 2,
         "CLNO": 24,
         "DEBTINC": 27.761644137,
         "_deepnote_index_column": 5923
        },
        {
         "BAD": 0,
         "LOAN": 69700,
         "MORTDUE": 192163,
         "VALUE": 293901,
         "REASON": "DebtCon",
         "JOB": "Self",
         "YOJ": 10,
         "DEROG": 0,
         "DELINQ": 0,
         "CLAGE": 222.14752562,
         "NINQ": 2,
         "CLNO": 24,
         "DEBTINC": 29.038235992,
         "_deepnote_index_column": 5924
        },
        {
         "BAD": 0,
         "LOAN": 69700,
         "MORTDUE": 191972,
         "VALUE": 294367,
         "REASON": "DebtCon",
         "JOB": "Self",
         "YOJ": 10,
         "DEROG": 0,
         "DELINQ": 0,
         "CLAGE": 230.70561338,
         "NINQ": 2,
         "CLNO": 25,
         "DEBTINC": 28.201870511,
         "_deepnote_index_column": 5925
        },
        {
         "BAD": 0,
         "LOAN": 70300,
         "MORTDUE": 197761,
         "VALUE": 294169,
         "REASON": "DebtCon",
         "JOB": "Self",
         "YOJ": 9,
         "DEROG": 0,
         "DELINQ": 0,
         "CLAGE": 212.23972489,
         "NINQ": 2,
         "CLNO": 24,
         "DEBTINC": 28.907073332,
         "_deepnote_index_column": 5926
        },
        {
         "BAD": 0,
         "LOAN": 70500,
         "MORTDUE": 196690,
         "VALUE": 288512,
         "REASON": "DebtCon",
         "JOB": "Self",
         "YOJ": 9,
         "DEROG": 0,
         "DELINQ": 0,
         "CLAGE": 227.02713568,
         "NINQ": 2,
         "CLNO": 24,
         "DEBTINC": 29.582300922,
         "_deepnote_index_column": 5927
        },
        {
         "BAD": 0,
         "LOAN": 70800,
         "MORTDUE": 192044,
         "VALUE": 292380,
         "REASON": "DebtCon",
         "JOB": "Self",
         "YOJ": 10,
         "DEROG": 0,
         "DELINQ": 0,
         "CLAGE": 221.60848575,
         "NINQ": 2,
         "CLNO": 25,
         "DEBTINC": 30.37854757,
         "_deepnote_index_column": 5928
        },
        {
         "BAD": 0,
         "LOAN": 71200,
         "MORTDUE": 196601,
         "VALUE": 289430,
         "REASON": "DebtCon",
         "JOB": "Self",
         "YOJ": 12,
         "DEROG": 0,
         "DELINQ": 0,
         "CLAGE": 226.91430725,
         "NINQ": 2,
         "CLNO": 25,
         "DEBTINC": 29.220351072,
         "_deepnote_index_column": 5929
        },
        {
         "BAD": 1,
         "LOAN": 72300,
         "MORTDUE": "nan",
         "VALUE": 85000,
         "REASON": "DebtCon",
         "JOB": "Other",
         "YOJ": 1,
         "DEROG": 0,
         "DELINQ": 0,
         "CLAGE": 117.16666667,
         "NINQ": 9,
         "CLNO": 23,
         "DEBTINC": "nan",
         "_deepnote_index_column": 5930
        },
        {
         "BAD": 1,
         "LOAN": 75400,
         "MORTDUE": "nan",
         "VALUE": 89609,
         "REASON": "DebtCon",
         "JOB": "Other",
         "YOJ": 1,
         "DEROG": 0,
         "DELINQ": 0,
         "CLAGE": 115.7635338,
         "NINQ": 9,
         "CLNO": 23,
         "DEBTINC": 41.105568833,
         "_deepnote_index_column": 5931
        },
        {
         "BAD": 1,
         "LOAN": 76500,
         "MORTDUE": 38206,
         "VALUE": 90000,
         "REASON": "DebtCon",
         "JOB": "Other",
         "YOJ": 12,
         "DEROG": 0,
         "DELINQ": 0,
         "CLAGE": 134.9,
         "NINQ": 0,
         "CLNO": 26,
         "DEBTINC": "nan",
         "_deepnote_index_column": 5932
        },
        {
         "BAD": 1,
         "LOAN": 77200,
         "MORTDUE": 83962,
         "VALUE": 215000,
         "REASON": "HomeImp",
         "JOB": "Self",
         "YOJ": 8,
         "DEROG": 1,
         "DELINQ": 2,
         "CLAGE": 71.533131923,
         "NINQ": 3,
         "CLNO": 14,
         "DEBTINC": "nan",
         "_deepnote_index_column": 5933
        },
        {
         "BAD": 1,
         "LOAN": 77400,
         "MORTDUE": 87651,
         "VALUE": 224630,
         "REASON": "HomeImp",
         "JOB": "Self",
         "YOJ": 9,
         "DEROG": 0,
         "DELINQ": 2,
         "CLAGE": 73.469630013,
         "NINQ": 3,
         "CLNO": 13,
         "DEBTINC": 40.929793264,
         "_deepnote_index_column": 5934
        },
        {
         "BAD": 0,
         "LOAN": 78400,
         "MORTDUE": 13900,
         "VALUE": 102910,
         "REASON": "HomeImp",
         "JOB": "nan",
         "YOJ": 27,
         "DEROG": 0,
         "DELINQ": 1,
         "CLAGE": 138,
         "NINQ": 0,
         "CLNO": 14,
         "DEBTINC": "nan",
         "_deepnote_index_column": 5935
        },
        {
         "BAD": 0,
         "LOAN": 78700,
         "MORTDUE": 22762,
         "VALUE": 102997,
         "REASON": "HomeImp",
         "JOB": "nan",
         "YOJ": 25,
         "DEROG": 0,
         "DELINQ": 0,
         "CLAGE": 146.63284161,
         "NINQ": 0,
         "CLNO": 13,
         "DEBTINC": 34.300201816,
         "_deepnote_index_column": 5936
        },
        {
         "BAD": 0,
         "LOAN": 79100,
         "MORTDUE": 23553,
         "VALUE": 103807,
         "REASON": "HomeImp",
         "JOB": "nan",
         "YOJ": 25,
         "DEROG": 0,
         "DELINQ": 1,
         "CLAGE": 142.19345794,
         "NINQ": 0,
         "CLNO": 13,
         "DEBTINC": 31.469937398,
         "_deepnote_index_column": 5937
        },
        {
         "BAD": 0,
         "LOAN": 79200,
         "MORTDUE": 21694,
         "VALUE": 103143,
         "REASON": "HomeImp",
         "JOB": "nan",
         "YOJ": 26,
         "DEROG": 0,
         "DELINQ": 1,
         "CLAGE": 139.93899893,
         "NINQ": 0,
         "CLNO": 14,
         "DEBTINC": 31.333684784,
         "_deepnote_index_column": 5938
        },
        {
         "BAD": 0,
         "LOAN": 79200,
         "MORTDUE": 22940,
         "VALUE": 110114,
         "REASON": "HomeImp",
         "JOB": "nan",
         "YOJ": 28,
         "DEROG": 0,
         "DELINQ": 1,
         "CLAGE": 144.61612625,
         "NINQ": 0,
         "CLNO": 13,
         "DEBTINC": 32.366511586,
         "_deepnote_index_column": 5939
        },
        {
         "BAD": 0,
         "LOAN": 79900,
         "MORTDUE": 18363,
         "VALUE": 109675,
         "REASON": "HomeImp",
         "JOB": "nan",
         "YOJ": 27,
         "DEROG": 0,
         "DELINQ": 1,
         "CLAGE": 132.76672403,
         "NINQ": 0,
         "CLNO": 13,
         "DEBTINC": 31.642335073,
         "_deepnote_index_column": 5940
        },
        {
         "BAD": 0,
         "LOAN": 80300,
         "MORTDUE": 20370,
         "VALUE": 109127,
         "REASON": "HomeImp",
         "JOB": "nan",
         "YOJ": 27,
         "DEROG": 0,
         "DELINQ": 1,
         "CLAGE": 142.17430035,
         "NINQ": 0,
         "CLNO": 13,
         "DEBTINC": 33.468763239,
         "_deepnote_index_column": 5941
        },
        {
         "BAD": 0,
         "LOAN": 80600,
         "MORTDUE": 16337,
         "VALUE": 109370,
         "REASON": "HomeImp",
         "JOB": "nan",
         "YOJ": 28,
         "DEROG": 0,
         "DELINQ": 0,
         "CLAGE": 137.43999135,
         "NINQ": 0,
         "CLNO": 14,
         "DEBTINC": 34.202005032,
         "_deepnote_index_column": 5942
        },
        {
         "BAD": 0,
         "LOAN": 81200,
         "MORTDUE": 18834,
         "VALUE": 108355,
         "REASON": "HomeImp",
         "JOB": "nan",
         "YOJ": 28,
         "DEROG": 0,
         "DELINQ": 0,
         "CLAGE": 139.136329,
         "NINQ": 0,
         "CLNO": 14,
         "DEBTINC": 34.042153174,
         "_deepnote_index_column": 5943
        },
        {
         "BAD": 0,
         "LOAN": 81400,
         "MORTDUE": 22344,
         "VALUE": 108280,
         "REASON": "HomeImp",
         "JOB": "nan",
         "YOJ": 25,
         "DEROG": 0,
         "DELINQ": 0,
         "CLAGE": 148.11499352,
         "NINQ": 0,
         "CLNO": 14,
         "DEBTINC": 34.285741432,
         "_deepnote_index_column": 5944
        },
        {
         "BAD": 0,
         "LOAN": 81400,
         "MORTDUE": 21041,
         "VALUE": 111304,
         "REASON": "HomeImp",
         "JOB": "nan",
         "YOJ": 26,
         "DEROG": 0,
         "DELINQ": 0,
         "CLAGE": 146.32278288,
         "NINQ": 0,
         "CLNO": 14,
         "DEBTINC": 32.131373125,
         "_deepnote_index_column": 5945
        },
        {
         "BAD": 0,
         "LOAN": 82200,
         "MORTDUE": 16097,
         "VALUE": 111287,
         "REASON": "HomeImp",
         "JOB": "nan",
         "YOJ": 26,
         "DEROG": 0,
         "DELINQ": 0,
         "CLAGE": 142.1199793,
         "NINQ": 0,
         "CLNO": 14,
         "DEBTINC": 31.743472096,
         "_deepnote_index_column": 5946
        },
        {
         "BAD": 0,
         "LOAN": 82200,
         "MORTDUE": 23197,
         "VALUE": 110481,
         "REASON": "HomeImp",
         "JOB": "nan",
         "YOJ": 26,
         "DEROG": 0,
         "DELINQ": 1,
         "CLAGE": 127.76758759,
         "NINQ": 0,
         "CLNO": 14,
         "DEBTINC": 30.942695109,
         "_deepnote_index_column": 5947
        },
        {
         "BAD": 0,
         "LOAN": 86000,
         "MORTDUE": 47355,
         "VALUE": 85000,
         "REASON": "DebtCon",
         "JOB": "Other",
         "YOJ": 15,
         "DEROG": 0,
         "DELINQ": 0,
         "CLAGE": 210.96666667,
         "NINQ": 0,
         "CLNO": 16,
         "DEBTINC": "nan",
         "_deepnote_index_column": 5948
        },
        {
         "BAD": 0,
         "LOAN": 87000,
         "MORTDUE": 48980,
         "VALUE": 89764,
         "REASON": "DebtCon",
         "JOB": "Other",
         "YOJ": 14,
         "DEROG": 0,
         "DELINQ": 0,
         "CLAGE": 209.04311656,
         "NINQ": 0,
         "CLNO": 16,
         "DEBTINC": 36.088037065,
         "_deepnote_index_column": 5949
        },
        {
         "BAD": 0,
         "LOAN": 87500,
         "MORTDUE": 55938,
         "VALUE": 86794,
         "REASON": "DebtCon",
         "JOB": "Other",
         "YOJ": 15,
         "DEROG": 0,
         "DELINQ": 0,
         "CLAGE": 223.88104,
         "NINQ": 0,
         "CLNO": 16,
         "DEBTINC": 36.753652674,
         "_deepnote_index_column": 5950
        },
        {
         "BAD": 0,
         "LOAN": 88300,
         "MORTDUE": 54004,
         "VALUE": 94838,
         "REASON": "DebtCon",
         "JOB": "Other",
         "YOJ": 16,
         "DEROG": 0,
         "DELINQ": 0,
         "CLAGE": 193.70205076,
         "NINQ": 0,
         "CLNO": 15,
         "DEBTINC": 36.262691334,
         "_deepnote_index_column": 5951
        },
        {
         "BAD": 0,
         "LOAN": 88500,
         "MORTDUE": 50240,
         "VALUE": 94687,
         "REASON": "DebtCon",
         "JOB": "Other",
         "YOJ": 16,
         "DEROG": 0,
         "DELINQ": 0,
         "CLAGE": 214.42620557,
         "NINQ": 0,
         "CLNO": 16,
         "DEBTINC": 34.751158347,
         "_deepnote_index_column": 5952
        },
        {
         "BAD": 0,
         "LOAN": 88800,
         "MORTDUE": 53307,
         "VALUE": 94058,
         "REASON": "DebtCon",
         "JOB": "Other",
         "YOJ": 16,
         "DEROG": 0,
         "DELINQ": 0,
         "CLAGE": 218.30497768,
         "NINQ": 0,
         "CLNO": 15,
         "DEBTINC": 34.24246473,
         "_deepnote_index_column": 5953
        },
        {
         "BAD": 0,
         "LOAN": 88900,
         "MORTDUE": 48919,
         "VALUE": 93371,
         "REASON": "DebtCon",
         "JOB": "Other",
         "YOJ": 15,
         "DEROG": 0,
         "DELINQ": 1,
         "CLAGE": 205.65015947,
         "NINQ": 0,
         "CLNO": 15,
         "DEBTINC": 34.818261819,
         "_deepnote_index_column": 5954
        },
        {
         "BAD": 0,
         "LOAN": 88900,
         "MORTDUE": 57264,
         "VALUE": 90185,
         "REASON": "DebtCon",
         "JOB": "Other",
         "YOJ": 16,
         "DEROG": 0,
         "DELINQ": 0,
         "CLAGE": 221.80871754,
         "NINQ": 0,
         "CLNO": 16,
         "DEBTINC": 36.112346519,
         "_deepnote_index_column": 5955
        },
        {
         "BAD": 0,
         "LOAN": 89000,
         "MORTDUE": 54576,
         "VALUE": 92937,
         "REASON": "DebtCon",
         "JOB": "Other",
         "YOJ": 16,
         "DEROG": 0,
         "DELINQ": 0,
         "CLAGE": 208.69206982,
         "NINQ": 0,
         "CLNO": 15,
         "DEBTINC": 35.859970681,
         "_deepnote_index_column": 5956
        },
        {
         "BAD": 0,
         "LOAN": 89200,
         "MORTDUE": 54045,
         "VALUE": 92924,
         "REASON": "DebtCon",
         "JOB": "Other",
         "YOJ": 15,
         "DEROG": 0,
         "DELINQ": 0,
         "CLAGE": 212.27969667,
         "NINQ": 0,
         "CLNO": 15,
         "DEBTINC": 35.55659049,
         "_deepnote_index_column": 5957
        },
        {
         "BAD": 0,
         "LOAN": 89800,
         "MORTDUE": 50370,
         "VALUE": 91861,
         "REASON": "DebtCon",
         "JOB": "Other",
         "YOJ": 14,
         "DEROG": 0,
         "DELINQ": 0,
         "CLAGE": 213.89270901,
         "NINQ": 0,
         "CLNO": 16,
         "DEBTINC": 34.340882368,
         "_deepnote_index_column": 5958
        },
        {
         "BAD": 0,
         "LOAN": 89900,
         "MORTDUE": 48811,
         "VALUE": 88934,
         "REASON": "DebtCon",
         "JOB": "Other",
         "YOJ": 15,
         "DEROG": 0,
         "DELINQ": 0,
         "CLAGE": 219.60100218,
         "NINQ": 0,
         "CLNO": 16,
         "DEBTINC": 34.571519125,
         "_deepnote_index_column": 5959
        }
       ]
      },
      "text/plain": "      BAD   LOAN  MORTDUE     VALUE   REASON     JOB   YOJ  DEROG  DELINQ  \\\n0       1   1100  25860.0   39025.0  HomeImp   Other  10.5    0.0     0.0   \n1       1   1300  70053.0   68400.0  HomeImp   Other   7.0    0.0     2.0   \n2       1   1500  13500.0   16700.0  HomeImp   Other   4.0    0.0     0.0   \n3       1   1500      NaN       NaN      NaN     NaN   NaN    NaN     NaN   \n4       0   1700  97800.0  112000.0  HomeImp  Office   3.0    0.0     0.0   \n...   ...    ...      ...       ...      ...     ...   ...    ...     ...   \n5955    0  88900  57264.0   90185.0  DebtCon   Other  16.0    0.0     0.0   \n5956    0  89000  54576.0   92937.0  DebtCon   Other  16.0    0.0     0.0   \n5957    0  89200  54045.0   92924.0  DebtCon   Other  15.0    0.0     0.0   \n5958    0  89800  50370.0   91861.0  DebtCon   Other  14.0    0.0     0.0   \n5959    0  89900  48811.0   88934.0  DebtCon   Other  15.0    0.0     0.0   \n\n           CLAGE  NINQ  CLNO    DEBTINC  \n0      94.366667   1.0   9.0        NaN  \n1     121.833333   0.0  14.0        NaN  \n2     149.466667   1.0  10.0        NaN  \n3            NaN   NaN   NaN        NaN  \n4      93.333333   0.0  14.0        NaN  \n...          ...   ...   ...        ...  \n5955  221.808718   0.0  16.0  36.112347  \n5956  208.692070   0.0  15.0  35.859971  \n5957  212.279697   0.0  15.0  35.556590  \n5958  213.892709   0.0  16.0  34.340882  \n5959  219.601002   0.0  16.0  34.571519  \n\n[5960 rows x 13 columns]",
      "text/html": "<div>\n<style scoped>\n    .dataframe tbody tr th:only-of-type {\n        vertical-align: middle;\n    }\n\n    .dataframe tbody tr th {\n        vertical-align: top;\n    }\n\n    .dataframe thead th {\n        text-align: right;\n    }\n</style>\n<table border=\"1\" class=\"dataframe\">\n  <thead>\n    <tr style=\"text-align: right;\">\n      <th></th>\n      <th>BAD</th>\n      <th>LOAN</th>\n      <th>MORTDUE</th>\n      <th>VALUE</th>\n      <th>REASON</th>\n      <th>JOB</th>\n      <th>YOJ</th>\n      <th>DEROG</th>\n      <th>DELINQ</th>\n      <th>CLAGE</th>\n      <th>NINQ</th>\n      <th>CLNO</th>\n      <th>DEBTINC</th>\n    </tr>\n  </thead>\n  <tbody>\n    <tr>\n      <th>0</th>\n      <td>1</td>\n      <td>1100</td>\n      <td>25860.0</td>\n      <td>39025.0</td>\n      <td>HomeImp</td>\n      <td>Other</td>\n      <td>10.5</td>\n      <td>0.0</td>\n      <td>0.0</td>\n      <td>94.366667</td>\n      <td>1.0</td>\n      <td>9.0</td>\n      <td>NaN</td>\n    </tr>\n    <tr>\n      <th>1</th>\n      <td>1</td>\n      <td>1300</td>\n      <td>70053.0</td>\n      <td>68400.0</td>\n      <td>HomeImp</td>\n      <td>Other</td>\n      <td>7.0</td>\n      <td>0.0</td>\n      <td>2.0</td>\n      <td>121.833333</td>\n      <td>0.0</td>\n      <td>14.0</td>\n      <td>NaN</td>\n    </tr>\n    <tr>\n      <th>2</th>\n      <td>1</td>\n      <td>1500</td>\n      <td>13500.0</td>\n      <td>16700.0</td>\n      <td>HomeImp</td>\n      <td>Other</td>\n      <td>4.0</td>\n      <td>0.0</td>\n      <td>0.0</td>\n      <td>149.466667</td>\n      <td>1.0</td>\n      <td>10.0</td>\n      <td>NaN</td>\n    </tr>\n    <tr>\n      <th>3</th>\n      <td>1</td>\n      <td>1500</td>\n      <td>NaN</td>\n      <td>NaN</td>\n      <td>NaN</td>\n      <td>NaN</td>\n      <td>NaN</td>\n      <td>NaN</td>\n      <td>NaN</td>\n      <td>NaN</td>\n      <td>NaN</td>\n      <td>NaN</td>\n      <td>NaN</td>\n    </tr>\n    <tr>\n      <th>4</th>\n      <td>0</td>\n      <td>1700</td>\n      <td>97800.0</td>\n      <td>112000.0</td>\n      <td>HomeImp</td>\n      <td>Office</td>\n      <td>3.0</td>\n      <td>0.0</td>\n      <td>0.0</td>\n      <td>93.333333</td>\n      <td>0.0</td>\n      <td>14.0</td>\n      <td>NaN</td>\n    </tr>\n    <tr>\n      <th>...</th>\n      <td>...</td>\n      <td>...</td>\n      <td>...</td>\n      <td>...</td>\n      <td>...</td>\n      <td>...</td>\n      <td>...</td>\n      <td>...</td>\n      <td>...</td>\n      <td>...</td>\n      <td>...</td>\n      <td>...</td>\n      <td>...</td>\n    </tr>\n    <tr>\n      <th>5955</th>\n      <td>0</td>\n      <td>88900</td>\n      <td>57264.0</td>\n      <td>90185.0</td>\n      <td>DebtCon</td>\n      <td>Other</td>\n      <td>16.0</td>\n      <td>0.0</td>\n      <td>0.0</td>\n      <td>221.808718</td>\n      <td>0.0</td>\n      <td>16.0</td>\n      <td>36.112347</td>\n    </tr>\n    <tr>\n      <th>5956</th>\n      <td>0</td>\n      <td>89000</td>\n      <td>54576.0</td>\n      <td>92937.0</td>\n      <td>DebtCon</td>\n      <td>Other</td>\n      <td>16.0</td>\n      <td>0.0</td>\n      <td>0.0</td>\n      <td>208.692070</td>\n      <td>0.0</td>\n      <td>15.0</td>\n      <td>35.859971</td>\n    </tr>\n    <tr>\n      <th>5957</th>\n      <td>0</td>\n      <td>89200</td>\n      <td>54045.0</td>\n      <td>92924.0</td>\n      <td>DebtCon</td>\n      <td>Other</td>\n      <td>15.0</td>\n      <td>0.0</td>\n      <td>0.0</td>\n      <td>212.279697</td>\n      <td>0.0</td>\n      <td>15.0</td>\n      <td>35.556590</td>\n    </tr>\n    <tr>\n      <th>5958</th>\n      <td>0</td>\n      <td>89800</td>\n      <td>50370.0</td>\n      <td>91861.0</td>\n      <td>DebtCon</td>\n      <td>Other</td>\n      <td>14.0</td>\n      <td>0.0</td>\n      <td>0.0</td>\n      <td>213.892709</td>\n      <td>0.0</td>\n      <td>16.0</td>\n      <td>34.340882</td>\n    </tr>\n    <tr>\n      <th>5959</th>\n      <td>0</td>\n      <td>89900</td>\n      <td>48811.0</td>\n      <td>88934.0</td>\n      <td>DebtCon</td>\n      <td>Other</td>\n      <td>15.0</td>\n      <td>0.0</td>\n      <td>0.0</td>\n      <td>219.601002</td>\n      <td>0.0</td>\n      <td>16.0</td>\n      <td>34.571519</td>\n    </tr>\n  </tbody>\n</table>\n<p>5960 rows × 13 columns</p>\n</div>"
     },
     "metadata": {}
    }
   ]
  },
  {
   "cell_type": "markdown",
   "source": "# Mission",
   "metadata": {
    "tags": [],
    "is_collapsed": false,
    "cell_id": "00007-805cd695-ae85-4c4b-9390-bc866bf70531",
    "deepnote_cell_type": "text-cell-h1"
   }
  },
  {
   "cell_type": "markdown",
   "source": "The final objective is to build a classifier that can distinguish good from bad borrowers. \nTo do that, the following tasks need to be accomplished:\n1. Understand the content that is available in the dataset. Spend soem time on Explanatory data analysis (EDA).\n2. Pre-process the data. Careful you will find missing values as well as different data types (categorical and numerical). \n\n3. NN model\n\n    a. Build a NN classifier to classify the borrowers based on the available borrower information. \n    \n    b. Analyze the outcomes.\n\n4. Benchmark: ML models\n\n    a. Build a benchmark model, such as LR, SVM, RF to compare the NN performance\n\n    b. Report the top 5 most predictive features based on RF feature importance and or interpret the LR coefficients to get some interpretability and understand which features were most predictive\n\n    c. Analyze the outcomes.\n\n6. Use the different packages of visualization to visualize findings from both approaches.\n7. Compare the results from all models by using the appropriate measures. Think about which measures are important for this task, AUC, F1, Recall or Sensitivity? Justify your choice. Eventually do some Post Processing",
   "metadata": {
    "id": "3QPxYVTLY5NX",
    "cell_id": "00008-ee13045c-85eb-4b89-8a09-7f8efaba8dc7",
    "deepnote_cell_type": "markdown"
   }
  },
  {
   "cell_type": "markdown",
   "source": "# Explanatory Data Analysis",
   "metadata": {
    "tags": [],
    "is_collapsed": false,
    "cell_id": "00009-a3246619-3af5-4f9d-93be-16d4f312903e",
    "deepnote_cell_type": "text-cell-h1"
   }
  },
  {
   "cell_type": "code",
   "metadata": {
    "tags": [],
    "deepnote_to_be_reexecuted": false,
    "source_hash": "3926b48",
    "execution_start": 1636632427338,
    "execution_millis": 11,
    "cell_id": "00010-7b0a9b79-e201-4f97-8c87-57fceccbb321",
    "deepnote_cell_type": "code"
   },
   "source": "df.duplicated().value_counts()  # there are no duplicates in the data set",
   "execution_count": null,
   "outputs": [
    {
     "output_type": "execute_result",
     "execution_count": 41,
     "data": {
      "text/plain": "False    5960\ndtype: int64"
     },
     "metadata": {}
    }
   ]
  },
  {
   "cell_type": "code",
   "metadata": {
    "tags": [],
    "deepnote_to_be_reexecuted": false,
    "source_hash": "16173734",
    "execution_start": 1636630896523,
    "execution_millis": 1,
    "cell_id": "00011-4944b285-7fa8-4859-93d7-2479e62d7537",
    "deepnote_cell_type": "code"
   },
   "source": "df[\"BAD\"].value_counts()   # the data set is imbalanced, i.e. there are 4 times less 'BAD' data points than 'NOT BAD's",
   "execution_count": null,
   "outputs": [
    {
     "output_type": "execute_result",
     "execution_count": 4,
     "data": {
      "text/plain": "0    4771\n1    1189\nName: BAD, dtype: int64"
     },
     "metadata": {}
    }
   ]
  },
  {
   "cell_type": "markdown",
   "source": "## Data exploration",
   "metadata": {
    "tags": [],
    "is_collapsed": false,
    "cell_id": "00012-0245a3cd-05b3-45b5-826d-cb1ffb2969b8",
    "deepnote_cell_type": "text-cell-h2"
   }
  },
  {
   "cell_type": "markdown",
   "source": "There are numerous `NaN` entries in the dataset.\n\nWe would like to deal with them by removing the data-points that contain more than 2 `NaN` values in the array of the features.",
   "metadata": {
    "tags": [],
    "cell_id": "00013-9e90eac4-9b10-490e-aba2-d2392b90a16c",
    "deepnote_cell_type": "markdown"
   }
  },
  {
   "cell_type": "code",
   "metadata": {
    "tags": [],
    "deepnote_to_be_reexecuted": false,
    "source_hash": "8704a05d",
    "execution_start": 1636630920691,
    "execution_millis": 13,
    "cell_id": "00014-8a14edb6-382d-45a2-b866-f1c13e97c1e5",
    "deepnote_cell_type": "code"
   },
   "source": "# there are missing values in the most columns!!!\ndf.isna().sum()",
   "execution_count": null,
   "outputs": [
    {
     "output_type": "execute_result",
     "execution_count": 5,
     "data": {
      "text/plain": "BAD           0\nLOAN          0\nMORTDUE     518\nVALUE       112\nREASON      252\nJOB         279\nYOJ         515\nDEROG       708\nDELINQ      580\nCLAGE       308\nNINQ        510\nCLNO        222\nDEBTINC    1267\ndtype: int64"
     },
     "metadata": {}
    }
   ]
  },
  {
   "cell_type": "code",
   "metadata": {
    "tags": [],
    "deepnote_to_be_reexecuted": false,
    "source_hash": "431de2a6",
    "execution_start": 1636630925280,
    "execution_millis": 9,
    "cell_id": "00015-54d8056e-a043-4db4-9839-c66bf96a7eb8",
    "deepnote_cell_type": "code"
   },
   "source": "df.isna().any(axis=1,).sum()  # it gives the number of rows in which there are NaNs",
   "execution_count": null,
   "outputs": [
    {
     "output_type": "execute_result",
     "execution_count": 6,
     "data": {
      "text/plain": "2596"
     },
     "metadata": {}
    }
   ]
  },
  {
   "cell_type": "code",
   "metadata": {
    "tags": [],
    "deepnote_to_be_reexecuted": false,
    "source_hash": "d746a404",
    "execution_start": 1636630927922,
    "execution_millis": 10,
    "cell_id": "00016-1bf04071-8c0b-4dd9-a6f3-ad2b6be2b430",
    "deepnote_cell_type": "code"
   },
   "source": "# create a series indexed by the original row indices having the number of nans as values, sorted in descending order\ns_nans = df.isna().sum(axis=1).sort_values(ascending=False)\ns_nans",
   "execution_count": null,
   "outputs": [
    {
     "output_type": "execute_result",
     "execution_count": 7,
     "data": {
      "text/plain": "3       11\n1405    11\n1959    10\n2303    10\n1897    10\n        ..\n2710     0\n2711     0\n2712     0\n2713     0\n5959     0\nLength: 5960, dtype: int64"
     },
     "metadata": {}
    }
   ]
  },
  {
   "cell_type": "code",
   "metadata": {
    "tags": [],
    "deepnote_to_be_reexecuted": false,
    "source_hash": "91236f24",
    "execution_start": 1636630932452,
    "execution_millis": 14,
    "cell_id": "00017-4ab772a1-163b-4989-b440-f83155fa9993",
    "deepnote_cell_type": "code"
   },
   "source": "# let's see how many rows have a greater number of NaNs than a threshold. Do it in a loop with threshold values running from 0..10\n# after that we can decide if we drop some of that rows from the data set \n\nfor i in range (11):\n    idx = list(s_nans[s_nans.values>i].index.values)\n    print(f\"number of rows having more NaNs than {i}: \",len(idx))",
   "execution_count": null,
   "outputs": [
    {
     "name": "stdout",
     "text": "number of rows having more NaNs than 0:  2596\nnumber of rows having more NaNs than 1:  1007\nnumber of rows having more NaNs than 2:  558\nnumber of rows having more NaNs than 3:  339\nnumber of rows having more NaNs than 4:  275\nnumber of rows having more NaNs than 5:  192\nnumber of rows having more NaNs than 6:  126\nnumber of rows having more NaNs than 7:  101\nnumber of rows having more NaNs than 8:  62\nnumber of rows having more NaNs than 9:  13\nnumber of rows having more NaNs than 10:  2\n",
     "output_type": "stream"
    }
   ]
  },
  {
   "cell_type": "code",
   "metadata": {
    "tags": [],
    "deepnote_to_be_reexecuted": false,
    "source_hash": "3cf52321",
    "execution_start": 1636631209403,
    "execution_millis": 0,
    "cell_id": "00018-6ff29e6b-1564-47f3-b777-be6faa6fd8f5",
    "deepnote_cell_type": "code"
   },
   "source": "# let's say we drop all rows with more than 3 NaNs - there are 339 such rows\n# create list with indices of those rows\n\nindices_nan2 = list(s_nans[s_nans.values>3].index.values)\nindices_nan2[0:10], len(indices_nan2)\n\ndf_ = df.drop(index=indices_nan2, axis=0)",
   "execution_count": null,
   "outputs": []
  },
  {
   "cell_type": "markdown",
   "source": "We have effectively removed all data-points that contained more than three missing values among the features.\n\nNow we'll take more sensible care for the rest of the data points, i.e. we will fill the missing values.",
   "metadata": {
    "tags": [],
    "cell_id": "00019-54843097-1b2d-4cfc-bcd6-1f8107f9892f",
    "deepnote_cell_type": "markdown"
   }
  },
  {
   "cell_type": "code",
   "metadata": {
    "tags": [],
    "deepnote_to_be_reexecuted": false,
    "source_hash": "85d48a62",
    "execution_start": 1636631218143,
    "execution_millis": 2,
    "output_cleared": false,
    "cell_id": "00020-98c71fbe-76d1-4358-b21e-6e513f9c7a1b",
    "deepnote_cell_type": "code"
   },
   "source": "# there are still NaNs but at most 3 NaNs per row\n\ndf_.isna().sum()",
   "execution_count": null,
   "outputs": [
    {
     "output_type": "execute_result",
     "execution_count": 12,
     "data": {
      "text/plain": "BAD           0\nLOAN          0\nMORTDUE     343\nVALUE        84\nREASON      138\nJOB         127\nYOJ         327\nDEROG       415\nDELINQ      265\nCLAGE        72\nNINQ        199\nCLNO          0\nDEBTINC    1174\ndtype: int64"
     },
     "metadata": {}
    }
   ]
  },
  {
   "cell_type": "code",
   "metadata": {
    "tags": [],
    "deepnote_to_be_reexecuted": false,
    "source_hash": "a907c438",
    "execution_start": 1636631234484,
    "execution_millis": 9,
    "cell_id": "00021-81d7595b-7eb4-4bc7-879d-bedf87e67d38",
    "deepnote_cell_type": "code"
   },
   "source": "# The ratio of BAD values (0.252) remained almost the same (0.249) after dropping out the rows.\n# We can go on with it.\ndf_['BAD'].value_counts()",
   "execution_count": null,
   "outputs": [
    {
     "output_type": "execute_result",
     "execution_count": 13,
     "data": {
      "text/plain": "0    4496\n1    1125\nName: BAD, dtype: int64"
     },
     "metadata": {}
    }
   ]
  },
  {
   "cell_type": "markdown",
   "source": "Now as we removed the sparse rows, we will fill the rest of the gaps in missing data with following assumptions:\n  1. `MORTDUE` missing values may be all 0's (just not entered in the data set) rather than a sloppiness during data collection. This assumption based on the fact that the least entered value is > 2000 and on the distribution of the data.\n  2. `VALUE` missing values may be all 0's (just not entered in the data set) rather than a sloppiness during data collection. This assumption based on the facts that the least entered value is > 8000 and the target value for all those cases is 'BAD'.",
   "metadata": {
    "tags": [],
    "cell_id": "00022-f6561a0a-3ac6-4da4-8d1b-12cf5fb32614",
    "deepnote_cell_type": "markdown"
   }
  },
  {
   "cell_type": "code",
   "metadata": {
    "tags": [],
    "deepnote_to_be_reexecuted": false,
    "source_hash": "44402274",
    "execution_start": 1636631356726,
    "execution_millis": 562,
    "cell_id": "00023-544e2aee-085a-497d-978c-5a098962d7c4",
    "deepnote_cell_type": "code"
   },
   "source": "fig, ax = plt.subplots(figsize=(12,4))\nsns.histplot(data=df, x=\"MORTDUE\", ax=ax)\nax.set_title(\"Distribution of due mortgage debts\")\nplt.show()\n\n# Observe that there are NO entries that have NO mortgage.\n# We know that there are 343 borrowers with MORTDUE = NaN.\n# The assumption is these have 0 mortgage debt.",
   "execution_count": null,
   "outputs": [
    {
     "data": {
      "text/plain": "<Figure size 864x288 with 1 Axes>",
      "image/png": "[encoded data removed]"
     },
     "metadata": {
      "needs_background": "light",
      "image/png": {
       "width": 724,
       "height": 278
      }
     },
     "output_type": "display_data"
    }
   ]
  },
  {
   "cell_type": "code",
   "metadata": {
    "tags": [],
    "deepnote_to_be_reexecuted": false,
    "source_hash": "82521a18",
    "execution_start": 1636631365928,
    "execution_millis": 6,
    "cell_id": "00024-915dc75c-78dd-4335-b168-152e61a5d82f",
    "deepnote_cell_type": "code"
   },
   "source": "# The smallest MORTDUE value is 2063, so we suppose all the NaNs mean no due mortgage (MORTDUE = 0)\ndf[\"MORTDUE\"].min()",
   "execution_count": null,
   "outputs": [
    {
     "output_type": "execute_result",
     "execution_count": 16,
     "data": {
      "text/plain": "2063.0"
     },
     "metadata": {}
    }
   ]
  },
  {
   "cell_type": "code",
   "metadata": {
    "tags": [],
    "deepnote_to_be_reexecuted": false,
    "source_hash": "f378ca99",
    "execution_start": 1636631476173,
    "execution_millis": 15,
    "cell_id": "00025-a3b7691d-7717-485c-887b-0d078cff8489",
    "deepnote_cell_type": "code"
   },
   "source": "# What is the BAD value for all the people with VALUE = NaN?\ndf[df[\"VALUE\"].isna()][\"BAD\"].value_counts()\n\n# 105 people with VALUE = NaN ended in default (Bad debt)\n# 7 people with VALUE = NaN paid their debts",
   "execution_count": null,
   "outputs": [
    {
     "output_type": "execute_result",
     "execution_count": 21,
     "data": {
      "text/plain": "1    105\n0      7\nName: BAD, dtype: int64"
     },
     "metadata": {}
    }
   ]
  },
  {
   "cell_type": "code",
   "metadata": {
    "tags": [],
    "deepnote_to_be_reexecuted": false,
    "source_hash": "e22da65a",
    "execution_start": 1636631410701,
    "execution_millis": 11,
    "cell_id": "00026-2a83fb01-fe1b-412d-8b48-b9d0c3147b78",
    "deepnote_cell_type": "code"
   },
   "source": "# Smallest VALUE value is 8000\ndf[\"VALUE\"].min()",
   "execution_count": null,
   "outputs": [
    {
     "output_type": "execute_result",
     "execution_count": 18,
     "data": {
      "text/plain": "8000.0"
     },
     "metadata": {}
    }
   ]
  },
  {
   "cell_type": "code",
   "metadata": {
    "tags": [],
    "deepnote_to_be_reexecuted": false,
    "source_hash": "2ee3d582",
    "execution_start": 1636631418227,
    "execution_millis": 306,
    "cell_id": "00027-ca90615c-97b3-420c-a7e2-8be412b6ed7b",
    "deepnote_cell_type": "code"
   },
   "source": "df[\"DELINQ\"].hist()",
   "execution_count": null,
   "outputs": [
    {
     "output_type": "execute_result",
     "execution_count": 19,
     "data": {
      "text/plain": "<AxesSubplot:>"
     },
     "metadata": {}
    },
    {
     "data": {
      "text/plain": "<Figure size 432x288 with 1 Axes>",
      "image/png": "[encoded data removed]"
     },
     "metadata": {
      "needs_background": "light",
      "image/png": {
       "width": 381,
       "height": 249
      }
     },
     "output_type": "display_data"
    }
   ]
  },
  {
   "cell_type": "code",
   "metadata": {
    "tags": [],
    "deepnote_to_be_reexecuted": false,
    "source_hash": "6982cd26",
    "execution_start": 1636631484160,
    "execution_millis": 2,
    "cell_id": "00028-a09e3ace-2dd9-4b8a-8963-ec26d9659631",
    "deepnote_cell_type": "code"
   },
   "source": "df[\"DELINQ\"].median()",
   "execution_count": null,
   "outputs": [
    {
     "output_type": "execute_result",
     "execution_count": 22,
     "data": {
      "text/plain": "0.0"
     },
     "metadata": {}
    }
   ]
  },
  {
   "cell_type": "code",
   "metadata": {
    "tags": [],
    "deepnote_to_be_reexecuted": false,
    "source_hash": "c590a305",
    "execution_start": 1636631515476,
    "execution_millis": 279,
    "cell_id": "00029-f6b9e667-ee47-4a3c-9652-1a5b34ccc2bd",
    "deepnote_cell_type": "code"
   },
   "source": "df[\"NINQ\"].hist()",
   "execution_count": null,
   "outputs": [
    {
     "output_type": "execute_result",
     "execution_count": 23,
     "data": {
      "text/plain": "<AxesSubplot:>"
     },
     "metadata": {}
    },
    {
     "data": {
      "text/plain": "<Figure size 432x288 with 1 Axes>",
      "image/png": "[encoded data removed]"
     },
     "metadata": {
      "needs_background": "light",
      "image/png": {
       "width": 386,
       "height": 249
      }
     },
     "output_type": "display_data"
    }
   ]
  },
  {
   "cell_type": "code",
   "metadata": {
    "tags": [],
    "deepnote_to_be_reexecuted": false,
    "source_hash": "6ed2f7b2",
    "execution_start": 1636631520923,
    "execution_millis": 2,
    "cell_id": "00030-44444385-0c7c-48ff-9835-5f0a77000128",
    "deepnote_cell_type": "code"
   },
   "source": "df[\"NINQ\"].median()",
   "execution_count": null,
   "outputs": [
    {
     "output_type": "execute_result",
     "execution_count": 24,
     "data": {
      "text/plain": "1.0"
     },
     "metadata": {}
    }
   ]
  },
  {
   "cell_type": "code",
   "metadata": {
    "tags": [],
    "deepnote_to_be_reexecuted": false,
    "source_hash": "7831c9a7",
    "execution_start": 1636631524037,
    "execution_millis": 478,
    "cell_id": "00031-9cefccd8-050f-4642-9847-3b5eee0cbcc3",
    "deepnote_cell_type": "code"
   },
   "source": "df[\"DEBTINC\"].hist(bins=100)",
   "execution_count": null,
   "outputs": [
    {
     "output_type": "execute_result",
     "execution_count": 25,
     "data": {
      "text/plain": "<AxesSubplot:>"
     },
     "metadata": {}
    },
    {
     "data": {
      "text/plain": "<Figure size 432x288 with 1 Axes>",
      "image/png": "[encoded data removed]"
     },
     "metadata": {
      "needs_background": "light",
      "image/png": {
       "width": 375,
       "height": 248
      }
     },
     "output_type": "display_data"
    }
   ]
  },
  {
   "cell_type": "code",
   "metadata": {
    "tags": [],
    "deepnote_to_be_reexecuted": false,
    "source_hash": "cba98e1d",
    "execution_start": 1636631528754,
    "execution_millis": 3,
    "cell_id": "00032-5addb9d8-897b-4673-ad98-a692b1642108",
    "deepnote_cell_type": "code"
   },
   "source": "df[\"DEBTINC\"].median()",
   "execution_count": null,
   "outputs": [
    {
     "output_type": "execute_result",
     "execution_count": 26,
     "data": {
      "text/plain": "34.818261819"
     },
     "metadata": {}
    }
   ]
  },
  {
   "cell_type": "code",
   "metadata": {
    "tags": [],
    "deepnote_to_be_reexecuted": false,
    "source_hash": "7d005ec8",
    "execution_start": 1636631536569,
    "execution_millis": 13,
    "cell_id": "00033-e7391932-69d0-4627-a150-05db95696c6b",
    "deepnote_cell_type": "code"
   },
   "source": "#df[df[\"MORTDUE\"]<=30000][\"MORTDUE\"]\ndf[df[\"VALUE\"]<=30000][\"VALUE\"]",
   "execution_count": null,
   "outputs": [
    {
     "output_type": "execute_result",
     "execution_count": 27,
     "data": {
      "text/plain": "2       16700.0\n11      29800.0\n24      17180.0\n27      20200.0\n39      20300.0\n         ...   \n4284    22399.0\n4334    24811.0\n4563    26500.0\n4649    28900.0\n5223    29512.0\nName: VALUE, Length: 105, dtype: float64"
     },
     "metadata": {}
    }
   ]
  },
  {
   "cell_type": "code",
   "metadata": {
    "tags": [],
    "deepnote_to_be_reexecuted": false,
    "source_hash": "7a207fff",
    "execution_start": 1636631541891,
    "execution_millis": 660,
    "cell_id": "00034-ccd99052-3a25-49dc-ac3a-c1a84b07a6b8",
    "deepnote_cell_type": "code"
   },
   "source": "feat = 'NINQ'\ndf[feat].hist(bins=100, figsize=(12,6))  # data set has missing values\n#df1[feat].hist(bins=100, figsize=(12,6))",
   "execution_count": null,
   "outputs": [
    {
     "output_type": "execute_result",
     "execution_count": 28,
     "data": {
      "text/plain": "<AxesSubplot:>"
     },
     "metadata": {}
    },
    {
     "data": {
      "text/plain": "<Figure size 864x432 with 1 Axes>",
      "image/png": "[encoded data removed]"
     },
     "metadata": {
      "needs_background": "light",
      "image/png": {
       "width": 716,
       "height": 357
      }
     },
     "output_type": "display_data"
    }
   ]
  },
  {
   "cell_type": "markdown",
   "source": "## Data Preprocessing",
   "metadata": {
    "tags": [],
    "is_collapsed": false,
    "cell_id": "00035-04681c36-a305-4508-be4c-1b12c6e6529e",
    "deepnote_cell_type": "text-cell-h2"
   }
  },
  {
   "cell_type": "markdown",
   "source": "### Creating data transformation function",
   "metadata": {
    "tags": [],
    "is_collapsed": false,
    "cell_id": "00036-b04b9610-bbc2-41e7-9bfa-63c355af9122",
    "deepnote_cell_type": "text-cell-h3"
   }
  },
  {
   "cell_type": "markdown",
   "source": "Following code implements a function that would transform an entry pandas DataFrame into the form\nthat is ready for `train_test_split`:",
   "metadata": {
    "tags": [],
    "cell_id": "00037-950f9e54-4efa-405b-818a-9620a9cd9e82",
    "deepnote_cell_type": "markdown"
   }
  },
  {
   "cell_type": "code",
   "metadata": {
    "tags": [],
    "deepnote_to_be_reexecuted": false,
    "source_hash": "dcddcef6",
    "execution_start": 1636633274531,
    "execution_millis": 1,
    "cell_id": "00038-babd85ad-6849-4399-9860-dc0eb29dd88f",
    "deepnote_cell_type": "code"
   },
   "source": "# This thing does all the DATA CLEANING\ndef clean_data(df, nan_threshold=2):\n\n    features_to_unknown = [\"REASON\", \"JOB\"]\n    features_to_zero    = [\"MORTDUE\", \"VALUE\", \"DEROG\", \"DELINQ\", \"CLNO\"]\n    features_to_median  = [\"YOJ\", \"NINQ\", \"DEBTINC\"]\n\n    # Some info upfront:\n    print(f\"Input DataFrame shape ... {df.shape}\")\n\n    # First create a copy of the dataframe\n    print(f\"Making a copy of the dataframe ... \", end=\"\")\n    df_out = df.copy()\n    print(f\"done.\")\n\n\n    # Counting all NaNs by columns:\n    print(f\"Removing all rows having > {nan_threshold} NaN values in them... \", end=\"\")\n    \n    # s_nans  = series that contains indices and counts of NaNs in that particular row\n    # nan_idx = list of indices of all rows having more than <nan_threshold> NaNs in them\n    s_nans = df.isna().sum(axis=1)\n    nan_idx = list(s_nans[s_nans.values>nan_threshold].index.values)\n\n    # Dropping all rows using the `nan_idx` list\n    df_out.drop(index=nan_idx, axis=0, inplace=True)\n    print(f\"done.\")\n    print(f\"Number of rows dropped... {len(nan_idx)}.\")\n\n    # Check:\n    print(f\"Resulting DataFrame shape ... {df_out.shape}\")\n\n    # Filling NaNs for categorical features:\n    for feature in features_to_unknown:\n        print(f\"Filling {df_out[feature].isna().sum()} values in feature [{feature}] with \\\"Unknown\\\" ... \", end=\"\")\n        df_out[feature].fillna(\"Unknown\", inplace=True)\n        print(f\"done.\")\n\n    # Filling NaNs in numerical features with 0:\n    for feature in features_to_zero:\n        print(f\"Filling {df_out[feature].isna().sum()} values in feature [{feature}] with 0 ... \", end=\"\")\n        df_out[feature].fillna(0, inplace=True)\n        print(f\"done.\")\n\n    # Filling NaNs in numerical features with their median:\n    for feature in features_to_median:\n        print(f\"Filling {df_out[feature].isna().sum()} values in feature [{feature}] with its median ({df_out[feature].median()}) ... \", end=\"\")\n        df_out[feature].fillna(df_out[feature].median(), inplace=True)\n        print(f\"done.\")\n\n    # Special treatment for CLAGE:\n    # CLAGE = median when CLNO > 0\n    print(f\"Filling {df_out.loc[(df_out['CLAGE'].isna()) & (df_out['CLNO']>0),['CLAGE']].shape[0]} values in feature [CLAGE] with its median ({df_out['CLAGE'].median()}) ... \", end=\"\")\n    df_out.loc[(df_out[\"CLAGE\"].isna()) & (df_out[\"CLNO\"]>0),                 [\"CLAGE\"]] = df_out[\"CLAGE\"].median()\n    print(f\"done.\")\n\n    # CLAGE = 0 when CLNO = 0\n    print(f\"Filling {df_out.loc[(df_out['CLAGE'].isna()) & (df_out['CLNO'].isin([np.nan, 0])), ['CLAGE']].shape[0]} values in feature [CLAGE] with 0 ... \", end=\"\")\n    df_out.loc[(df_out[\"CLAGE\"].isna()) & (df_out[\"CLNO\"].isin([np.nan, 0])), [\"CLAGE\"]] = 0\n    print(f\"done.\")\n\n    # Post-cleaning check:\n    print(f\"NaNs now:\")\n    print(df_out.isna().sum())\n\n    #finally convert some features to type int:\n    features_to_int =  ['DEROG',   # number of major derogatory reports\n                        'DELINQ',  # number of delinquent credit lines\n                        'CLAGE',   # age of oldest credit line in months\n                        'NINQ',    # number of recent credit inquiries\n                        'CLNO']    # number of credit lines\n\n    print(f\"Convert some features to type int: {features_to_int} ...\", end=\"\")\n    df_out[features_to_int] = df_out[features_to_int].astype(int)\n    print(f\"done.\")\n    \n    return df_out",
   "execution_count": null,
   "outputs": []
  },
  {
   "cell_type": "code",
   "metadata": {
    "tags": [],
    "deepnote_to_be_reexecuted": false,
    "source_hash": "b605b609",
    "execution_start": 1636631740771,
    "execution_millis": 7,
    "cell_id": "00039-e2415a71-ea22-4954-a9ec-9b076c6742f7",
    "deepnote_cell_type": "code"
   },
   "source": "# This is a test to get number of records which need to be filled by 0 (CLNO = 0 or NaN`)\ndf.loc[(df['CLAGE'].isna()) & (df['CLNO'].isin([np.nan, 0])), ['CLAGE']].shape[0]",
   "execution_count": null,
   "outputs": [
    {
     "output_type": "execute_result",
     "execution_count": 30,
     "data": {
      "text/plain": "282"
     },
     "metadata": {}
    }
   ]
  },
  {
   "cell_type": "code",
   "metadata": {
    "tags": [],
    "deepnote_to_be_reexecuted": false,
    "source_hash": "6f0fc5b5",
    "execution_start": 1636633286018,
    "execution_millis": 221,
    "cell_id": "00040-8fb13190-345a-4b5f-adf0-793a725f9593",
    "deepnote_cell_type": "code"
   },
   "source": "# clean_data function test run\nclean_data(df)\n\n# Normally you would store the transformed df in some object (variable)\n# df_cleaned = clean_data(df)",
   "execution_count": null,
   "outputs": [
    {
     "name": "stdout",
     "text": "Input DataFrame shape ... (5960, 13)\nMaking a copy of the dataframe ... done.\nRemoving all rows having > 2 NaN values in them... done.\nNumber of rows dropped... 558.\nResulting DataFrame shape ... (5402, 13)\nFilling 116 values in feature [REASON] with \"Unknown\" ... done.\nFilling 98 values in feature [JOB] with \"Unknown\" ... done.\nFilling 270 values in feature [MORTDUE] with 0 ... done.\nFilling 69 values in feature [VALUE] with 0 ... done.\nFilling 267 values in feature [DEROG] with 0 ... done.\nFilling 127 values in feature [DELINQ] with 0 ... done.\nFilling 0 values in feature [CLNO] with 0 ... done.\nFilling 286 values in feature [YOJ] with its median (7.0) ... done.\nFilling 79 values in feature [NINQ] with its median (1.0) ... done.\nFilling 1115 values in feature [DEBTINC] with its median (35.127874351) ... done.\nFilling 24 values in feature [CLAGE] with its median (174.574533925) ... done.\nFilling 36 values in feature [CLAGE] with 0 ... done.\nNaNs now:\nBAD        0\nLOAN       0\nMORTDUE    0\nVALUE      0\nREASON     0\nJOB        0\nYOJ        0\nDEROG      0\nDELINQ     0\nCLAGE      0\nNINQ       0\nCLNO       0\nDEBTINC    0\ndtype: int64\nConvert some features to type int: ['DEROG', 'DELINQ', 'CLAGE', 'NINQ', 'CLNO'] ...done.\n",
     "output_type": "stream"
    },
    {
     "output_type": "execute_result",
     "execution_count": 49,
     "data": {
      "application/vnd.deepnote.dataframe.v2+json": {
       "row_count": 5402,
       "column_count": 13,
       "columns": [
        {
         "name": "BAD",
         "dtype": "int64",
         "stats": {
          "unique_count": 2,
          "nan_count": 0,
          "min": "0",
          "max": "1",
          "histogram": [
           {
            "bin_start": 0,
            "bin_end": 0.1,
            "count": 4316
           },
           {
            "bin_start": 0.1,
            "bin_end": 0.2,
            "count": 0
           },
           {
            "bin_start": 0.2,
            "bin_end": 0.30000000000000004,
            "count": 0
           },
           {
            "bin_start": 0.30000000000000004,
            "bin_end": 0.4,
            "count": 0
           },
           {
            "bin_start": 0.4,
            "bin_end": 0.5,
            "count": 0
           },
           {
            "bin_start": 0.5,
            "bin_end": 0.6000000000000001,
            "count": 0
           },
           {
            "bin_start": 0.6000000000000001,
            "bin_end": 0.7000000000000001,
            "count": 0
           },
           {
            "bin_start": 0.7000000000000001,
            "bin_end": 0.8,
            "count": 0
           },
           {
            "bin_start": 0.8,
            "bin_end": 0.9,
            "count": 0
           },
           {
            "bin_start": 0.9,
            "bin_end": 1,
            "count": 1086
           }
          ]
         }
        },
        {
         "name": "LOAN",
         "dtype": "int64",
         "stats": {
          "unique_count": 538,
          "nan_count": 0,
          "min": "1100",
          "max": "89900",
          "histogram": [
           {
            "bin_start": 1100,
            "bin_end": 9980,
            "count": 964
           },
           {
            "bin_start": 9980,
            "bin_end": 18860,
            "count": 2257
           },
           {
            "bin_start": 18860,
            "bin_end": 27740,
            "count": 1444
           },
           {
            "bin_start": 27740,
            "bin_end": 36620,
            "count": 381
           },
           {
            "bin_start": 36620,
            "bin_end": 45500,
            "count": 170
           },
           {
            "bin_start": 45500,
            "bin_end": 54380,
            "count": 112
           },
           {
            "bin_start": 54380,
            "bin_end": 63260,
            "count": 18
           },
           {
            "bin_start": 63260,
            "bin_end": 72140,
            "count": 26
           },
           {
            "bin_start": 72140,
            "bin_end": 81020,
            "count": 13
           },
           {
            "bin_start": 81020,
            "bin_end": 89900,
            "count": 17
           }
          ]
         }
        },
        {
         "name": "MORTDUE",
         "dtype": "float64",
         "stats": {
          "unique_count": 4786,
          "nan_count": 0,
          "min": "0.0",
          "max": "399550.0",
          "histogram": [
           {
            "bin_start": 0,
            "bin_end": 39955,
            "count": 1216
           },
           {
            "bin_start": 39955,
            "bin_end": 79910,
            "count": 2431
           },
           {
            "bin_start": 79910,
            "bin_end": 119865,
            "count": 1099
           },
           {
            "bin_start": 119865,
            "bin_end": 159820,
            "count": 431
           },
           {
            "bin_start": 159820,
            "bin_end": 199775,
            "count": 119
           },
           {
            "bin_start": 199775,
            "bin_end": 239730,
            "count": 80
           },
           {
            "bin_start": 239730,
            "bin_end": 279685,
            "count": 11
           },
           {
            "bin_start": 279685,
            "bin_end": 319640,
            "count": 1
           },
           {
            "bin_start": 319640,
            "bin_end": 359595,
            "count": 1
           },
           {
            "bin_start": 359595,
            "bin_end": 399550,
            "count": 13
           }
          ]
         }
        },
        {
         "name": "VALUE",
         "dtype": "float64",
         "stats": {
          "unique_count": 4927,
          "nan_count": 0,
          "min": "0.0",
          "max": "855909.0",
          "histogram": [
           {
            "bin_start": 0,
            "bin_end": 85590.9,
            "count": 2394
           },
           {
            "bin_start": 85590.9,
            "bin_end": 171181.8,
            "count": 2395
           },
           {
            "bin_start": 171181.8,
            "bin_end": 256772.69999999998,
            "count": 494
           },
           {
            "bin_start": 256772.69999999998,
            "bin_end": 342363.6,
            "count": 101
           },
           {
            "bin_start": 342363.6,
            "bin_end": 427954.5,
            "count": 2
           },
           {
            "bin_start": 427954.5,
            "bin_end": 513545.39999999997,
            "count": 12
           },
           {
            "bin_start": 513545.39999999997,
            "bin_end": 599136.2999999999,
            "count": 0
           },
           {
            "bin_start": 599136.2999999999,
            "bin_end": 684727.2,
            "count": 0
           },
           {
            "bin_start": 684727.2,
            "bin_end": 770318.1,
            "count": 0
           },
           {
            "bin_start": 770318.1,
            "bin_end": 855909,
            "count": 4
           }
          ]
         }
        },
        {
         "name": "REASON",
         "dtype": "object",
         "stats": {
          "unique_count": 3,
          "nan_count": 0,
          "categories": [
           {
            "name": "DebtCon",
            "count": 3656
           },
           {
            "name": "HomeImp",
            "count": 1630
           },
           {
            "name": "Unknown",
            "count": 116
           }
          ]
         }
        },
        {
         "name": "JOB",
         "dtype": "object",
         "stats": {
          "unique_count": 7,
          "nan_count": 0,
          "categories": [
           {
            "name": "Other",
            "count": 2154
           },
           {
            "name": "ProfExe",
            "count": 1239
           },
           {
            "name": "5 others",
            "count": 2009
           }
          ]
         }
        },
        {
         "name": "YOJ",
         "dtype": "float64",
         "stats": {
          "unique_count": 98,
          "nan_count": 0,
          "min": "0.0",
          "max": "41.0",
          "histogram": [
           {
            "bin_start": 0,
            "bin_end": 4.1,
            "count": 1773
           },
           {
            "bin_start": 4.1,
            "bin_end": 8.2,
            "count": 1363
           },
           {
            "bin_start": 8.2,
            "bin_end": 12.299999999999999,
            "count": 849
           },
           {
            "bin_start": 12.299999999999999,
            "bin_end": 16.4,
            "count": 538
           },
           {
            "bin_start": 16.4,
            "bin_end": 20.5,
            "count": 332
           },
           {
            "bin_start": 20.5,
            "bin_end": 24.599999999999998,
            "count": 282
           },
           {
            "bin_start": 24.599999999999998,
            "bin_end": 28.699999999999996,
            "count": 175
           },
           {
            "bin_start": 28.699999999999996,
            "bin_end": 32.8,
            "count": 73
           },
           {
            "bin_start": 32.8,
            "bin_end": 36.9,
            "count": 14
           },
           {
            "bin_start": 36.9,
            "bin_end": 41,
            "count": 3
           }
          ]
         }
        },
        {
         "name": "DEROG",
         "dtype": "int64",
         "stats": {
          "unique_count": 11,
          "nan_count": 0,
          "min": "0",
          "max": "10",
          "histogram": [
           {
            "bin_start": 0,
            "bin_end": 1,
            "count": 4723
           },
           {
            "bin_start": 1,
            "bin_end": 2,
            "count": 411
           },
           {
            "bin_start": 2,
            "bin_end": 3,
            "count": 155
           },
           {
            "bin_start": 3,
            "bin_end": 4,
            "count": 58
           },
           {
            "bin_start": 4,
            "bin_end": 5,
            "count": 22
           },
           {
            "bin_start": 5,
            "bin_end": 6,
            "count": 6
           },
           {
            "bin_start": 6,
            "bin_end": 7,
            "count": 9
           },
           {
            "bin_start": 7,
            "bin_end": 8,
            "count": 7
           },
           {
            "bin_start": 8,
            "bin_end": 9,
            "count": 6
           },
           {
            "bin_start": 9,
            "bin_end": 10,
            "count": 5
           }
          ]
         }
        },
        {
         "name": "DELINQ",
         "dtype": "int64",
         "stats": {
          "unique_count": 13,
          "nan_count": 0,
          "min": "0",
          "max": "15",
          "histogram": [
           {
            "bin_start": 0,
            "bin_end": 1.5,
            "count": 4880
           },
           {
            "bin_start": 1.5,
            "bin_end": 3,
            "count": 241
           },
           {
            "bin_start": 3,
            "bin_end": 4.5,
            "count": 199
           },
           {
            "bin_start": 4.5,
            "bin_end": 6,
            "count": 34
           },
           {
            "bin_start": 6,
            "bin_end": 7.5,
            "count": 38
           },
           {
            "bin_start": 7.5,
            "bin_end": 9,
            "count": 4
           },
           {
            "bin_start": 9,
            "bin_end": 10.5,
            "count": 2
           },
           {
            "bin_start": 10.5,
            "bin_end": 12,
            "count": 2
           },
           {
            "bin_start": 12,
            "bin_end": 13.5,
            "count": 1
           },
           {
            "bin_start": 13.5,
            "bin_end": 15,
            "count": 1
           }
          ]
         }
        },
        {
         "name": "CLAGE",
         "dtype": "int64",
         "stats": {
          "unique_count": 417,
          "nan_count": 0,
          "min": "0",
          "max": "1168",
          "histogram": [
           {
            "bin_start": 0,
            "bin_end": 116.8,
            "count": 1388
           },
           {
            "bin_start": 116.8,
            "bin_end": 233.6,
            "count": 2700
           },
           {
            "bin_start": 233.6,
            "bin_end": 350.4,
            "count": 1181
           },
           {
            "bin_start": 350.4,
            "bin_end": 467.2,
            "count": 105
           },
           {
            "bin_start": 467.2,
            "bin_end": 584,
            "count": 8
           },
           {
            "bin_start": 584,
            "bin_end": 700.8,
            "count": 18
           },
           {
            "bin_start": 700.8,
            "bin_end": 817.6,
            "count": 0
           },
           {
            "bin_start": 817.6,
            "bin_end": 934.4,
            "count": 0
           },
           {
            "bin_start": 934.4,
            "bin_end": 1051.2,
            "count": 0
           },
           {
            "bin_start": 1051.2,
            "bin_end": 1168,
            "count": 2
           }
          ]
         }
        },
        {
         "name": "NINQ",
         "dtype": "int64",
         "stats": {
          "unique_count": 16,
          "nan_count": 0,
          "min": "0",
          "max": "17",
          "histogram": [
           {
            "bin_start": 0,
            "bin_end": 1.7,
            "count": 3857
           },
           {
            "bin_start": 1.7,
            "bin_end": 3.4,
            "count": 1148
           },
           {
            "bin_start": 3.4,
            "bin_end": 5.1,
            "count": 226
           },
           {
            "bin_start": 5.1,
            "bin_end": 6.8,
            "count": 56
           },
           {
            "bin_start": 6.8,
            "bin_end": 8.5,
            "count": 65
           },
           {
            "bin_start": 8.5,
            "bin_end": 10.2,
            "count": 35
           },
           {
            "bin_start": 10.2,
            "bin_end": 11.9,
            "count": 9
           },
           {
            "bin_start": 11.9,
            "bin_end": 13.6,
            "count": 4
           },
           {
            "bin_start": 13.6,
            "bin_end": 15.299999999999999,
            "count": 1
           },
           {
            "bin_start": 15.299999999999999,
            "bin_end": 17,
            "count": 1
           }
          ]
         }
        },
        {
         "name": "CLNO",
         "dtype": "int64",
         "stats": {
          "unique_count": 62,
          "nan_count": 0,
          "min": "0",
          "max": "71",
          "histogram": [
           {
            "bin_start": 0,
            "bin_end": 7.1,
            "count": 306
           },
           {
            "bin_start": 7.1,
            "bin_end": 14.2,
            "count": 987
           },
           {
            "bin_start": 14.2,
            "bin_end": 21.299999999999997,
            "count": 1647
           },
           {
            "bin_start": 21.299999999999997,
            "bin_end": 28.4,
            "count": 1335
           },
           {
            "bin_start": 28.4,
            "bin_end": 35.5,
            "count": 665
           },
           {
            "bin_start": 35.5,
            "bin_end": 42.599999999999994,
            "count": 249
           },
           {
            "bin_start": 42.599999999999994,
            "bin_end": 49.699999999999996,
            "count": 128
           },
           {
            "bin_start": 49.699999999999996,
            "bin_end": 56.8,
            "count": 70
           },
           {
            "bin_start": 56.8,
            "bin_end": 63.9,
            "count": 5
           },
           {
            "bin_start": 63.9,
            "bin_end": 71,
            "count": 10
           }
          ]
         }
        },
        {
         "name": "DEBTINC",
         "dtype": "float64",
         "stats": {
          "unique_count": 4287,
          "nan_count": 0,
          "min": "0.5244992154",
          "max": "203.31214869",
          "histogram": [
           {
            "bin_start": 0.5244992154,
            "bin_end": 20.803264162859996,
            "count": 200
           },
           {
            "bin_start": 20.803264162859996,
            "bin_end": 41.08202911031999,
            "count": 4662
           },
           {
            "bin_start": 41.08202911031999,
            "bin_end": 61.36079405777999,
            "count": 515
           },
           {
            "bin_start": 61.36079405777999,
            "bin_end": 81.63955900523999,
            "count": 17
           },
           {
            "bin_start": 81.63955900523999,
            "bin_end": 101.91832395269998,
            "count": 3
           },
           {
            "bin_start": 101.91832395269998,
            "bin_end": 122.19708890015998,
            "count": 1
           },
           {
            "bin_start": 122.19708890015998,
            "bin_end": 142.47585384762,
            "count": 1
           },
           {
            "bin_start": 142.47585384762,
            "bin_end": 162.75461879507998,
            "count": 2
           },
           {
            "bin_start": 162.75461879507998,
            "bin_end": 183.03338374253997,
            "count": 0
           },
           {
            "bin_start": 183.03338374253997,
            "bin_end": 203.31214869,
            "count": 1
           }
          ]
         }
        },
        {
         "name": "_deepnote_index_column",
         "dtype": "int64"
        }
       ],
       "rows_top": [
        {
         "BAD": 1,
         "LOAN": 1100,
         "MORTDUE": 25860,
         "VALUE": 39025,
         "REASON": "HomeImp",
         "JOB": "Other",
         "YOJ": 10.5,
         "DEROG": 0,
         "DELINQ": 0,
         "CLAGE": 94,
         "NINQ": 1,
         "CLNO": 9,
         "DEBTINC": 35.127874351,
         "_deepnote_index_column": 0
        },
        {
         "BAD": 1,
         "LOAN": 1300,
         "MORTDUE": 70053,
         "VALUE": 68400,
         "REASON": "HomeImp",
         "JOB": "Other",
         "YOJ": 7,
         "DEROG": 0,
         "DELINQ": 2,
         "CLAGE": 121,
         "NINQ": 0,
         "CLNO": 14,
         "DEBTINC": 35.127874351,
         "_deepnote_index_column": 1
        },
        {
         "BAD": 1,
         "LOAN": 1500,
         "MORTDUE": 13500,
         "VALUE": 16700,
         "REASON": "HomeImp",
         "JOB": "Other",
         "YOJ": 4,
         "DEROG": 0,
         "DELINQ": 0,
         "CLAGE": 149,
         "NINQ": 1,
         "CLNO": 10,
         "DEBTINC": 35.127874351,
         "_deepnote_index_column": 2
        },
        {
         "BAD": 0,
         "LOAN": 1700,
         "MORTDUE": 97800,
         "VALUE": 112000,
         "REASON": "HomeImp",
         "JOB": "Office",
         "YOJ": 3,
         "DEROG": 0,
         "DELINQ": 0,
         "CLAGE": 93,
         "NINQ": 0,
         "CLNO": 14,
         "DEBTINC": 35.127874351,
         "_deepnote_index_column": 4
        },
        {
         "BAD": 1,
         "LOAN": 1700,
         "MORTDUE": 30548,
         "VALUE": 40320,
         "REASON": "HomeImp",
         "JOB": "Other",
         "YOJ": 9,
         "DEROG": 0,
         "DELINQ": 0,
         "CLAGE": 101,
         "NINQ": 1,
         "CLNO": 8,
         "DEBTINC": 37.113613558,
         "_deepnote_index_column": 5
        },
        {
         "BAD": 1,
         "LOAN": 1800,
         "MORTDUE": 48649,
         "VALUE": 57037,
         "REASON": "HomeImp",
         "JOB": "Other",
         "YOJ": 5,
         "DEROG": 3,
         "DELINQ": 2,
         "CLAGE": 77,
         "NINQ": 1,
         "CLNO": 17,
         "DEBTINC": 35.127874351,
         "_deepnote_index_column": 6
        },
        {
         "BAD": 1,
         "LOAN": 1800,
         "MORTDUE": 28502,
         "VALUE": 43034,
         "REASON": "HomeImp",
         "JOB": "Other",
         "YOJ": 11,
         "DEROG": 0,
         "DELINQ": 0,
         "CLAGE": 88,
         "NINQ": 0,
         "CLNO": 8,
         "DEBTINC": 36.884894093,
         "_deepnote_index_column": 7
        },
        {
         "BAD": 1,
         "LOAN": 2000,
         "MORTDUE": 32700,
         "VALUE": 46740,
         "REASON": "HomeImp",
         "JOB": "Other",
         "YOJ": 3,
         "DEROG": 0,
         "DELINQ": 2,
         "CLAGE": 216,
         "NINQ": 1,
         "CLNO": 12,
         "DEBTINC": 35.127874351,
         "_deepnote_index_column": 8
        },
        {
         "BAD": 1,
         "LOAN": 2000,
         "MORTDUE": 0,
         "VALUE": 62250,
         "REASON": "HomeImp",
         "JOB": "Sales",
         "YOJ": 16,
         "DEROG": 0,
         "DELINQ": 0,
         "CLAGE": 115,
         "NINQ": 0,
         "CLNO": 13,
         "DEBTINC": 35.127874351,
         "_deepnote_index_column": 9
        },
        {
         "BAD": 1,
         "LOAN": 2000,
         "MORTDUE": 20627,
         "VALUE": 29800,
         "REASON": "HomeImp",
         "JOB": "Office",
         "YOJ": 11,
         "DEROG": 0,
         "DELINQ": 1,
         "CLAGE": 122,
         "NINQ": 1,
         "CLNO": 9,
         "DEBTINC": 35.127874351,
         "_deepnote_index_column": 11
        },
        {
         "BAD": 1,
         "LOAN": 2000,
         "MORTDUE": 45000,
         "VALUE": 55000,
         "REASON": "HomeImp",
         "JOB": "Other",
         "YOJ": 3,
         "DEROG": 0,
         "DELINQ": 0,
         "CLAGE": 86,
         "NINQ": 2,
         "CLNO": 25,
         "DEBTINC": 35.127874351,
         "_deepnote_index_column": 12
        },
        {
         "BAD": 0,
         "LOAN": 2000,
         "MORTDUE": 64536,
         "VALUE": 87400,
         "REASON": "Unknown",
         "JOB": "Mgr",
         "YOJ": 2.5,
         "DEROG": 0,
         "DELINQ": 0,
         "CLAGE": 147,
         "NINQ": 0,
         "CLNO": 24,
         "DEBTINC": 35.127874351,
         "_deepnote_index_column": 13
        },
        {
         "BAD": 1,
         "LOAN": 2100,
         "MORTDUE": 71000,
         "VALUE": 83850,
         "REASON": "HomeImp",
         "JOB": "Other",
         "YOJ": 8,
         "DEROG": 0,
         "DELINQ": 1,
         "CLAGE": 123,
         "NINQ": 0,
         "CLNO": 16,
         "DEBTINC": 35.127874351,
         "_deepnote_index_column": 14
        },
        {
         "BAD": 1,
         "LOAN": 2200,
         "MORTDUE": 24280,
         "VALUE": 34687,
         "REASON": "HomeImp",
         "JOB": "Other",
         "YOJ": 7,
         "DEROG": 0,
         "DELINQ": 1,
         "CLAGE": 300,
         "NINQ": 0,
         "CLNO": 8,
         "DEBTINC": 35.127874351,
         "_deepnote_index_column": 15
        },
        {
         "BAD": 1,
         "LOAN": 2200,
         "MORTDUE": 90957,
         "VALUE": 102600,
         "REASON": "HomeImp",
         "JOB": "Mgr",
         "YOJ": 7,
         "DEROG": 2,
         "DELINQ": 6,
         "CLAGE": 122,
         "NINQ": 1,
         "CLNO": 22,
         "DEBTINC": 35.127874351,
         "_deepnote_index_column": 16
        },
        {
         "BAD": 1,
         "LOAN": 2300,
         "MORTDUE": 28192,
         "VALUE": 40150,
         "REASON": "HomeImp",
         "JOB": "Other",
         "YOJ": 4.5,
         "DEROG": 0,
         "DELINQ": 0,
         "CLAGE": 54,
         "NINQ": 1,
         "CLNO": 16,
         "DEBTINC": 35.127874351,
         "_deepnote_index_column": 18
        },
        {
         "BAD": 0,
         "LOAN": 2300,
         "MORTDUE": 102370,
         "VALUE": 120953,
         "REASON": "HomeImp",
         "JOB": "Office",
         "YOJ": 2,
         "DEROG": 0,
         "DELINQ": 0,
         "CLAGE": 90,
         "NINQ": 0,
         "CLNO": 13,
         "DEBTINC": 31.588503178,
         "_deepnote_index_column": 19
        },
        {
         "BAD": 1,
         "LOAN": 2300,
         "MORTDUE": 37626,
         "VALUE": 46200,
         "REASON": "HomeImp",
         "JOB": "Other",
         "YOJ": 3,
         "DEROG": 0,
         "DELINQ": 1,
         "CLAGE": 122,
         "NINQ": 1,
         "CLNO": 14,
         "DEBTINC": 35.127874351,
         "_deepnote_index_column": 20
        },
        {
         "BAD": 1,
         "LOAN": 2400,
         "MORTDUE": 50000,
         "VALUE": 73395,
         "REASON": "HomeImp",
         "JOB": "ProfExe",
         "YOJ": 5,
         "DEROG": 1,
         "DELINQ": 0,
         "CLAGE": 0,
         "NINQ": 1,
         "CLNO": 0,
         "DEBTINC": 35.127874351,
         "_deepnote_index_column": 21
        },
        {
         "BAD": 1,
         "LOAN": 2400,
         "MORTDUE": 28000,
         "VALUE": 40800,
         "REASON": "HomeImp",
         "JOB": "Mgr",
         "YOJ": 12,
         "DEROG": 0,
         "DELINQ": 0,
         "CLAGE": 67,
         "NINQ": 2,
         "CLNO": 22,
         "DEBTINC": 35.127874351,
         "_deepnote_index_column": 22
        },
        {
         "BAD": 1,
         "LOAN": 2400,
         "MORTDUE": 34863,
         "VALUE": 47471,
         "REASON": "HomeImp",
         "JOB": "Mgr",
         "YOJ": 12,
         "DEROG": 0,
         "DELINQ": 0,
         "CLAGE": 70,
         "NINQ": 1,
         "CLNO": 21,
         "DEBTINC": 38.263600731,
         "_deepnote_index_column": 25
        },
        {
         "BAD": 0,
         "LOAN": 2400,
         "MORTDUE": 98449,
         "VALUE": 117195,
         "REASON": "HomeImp",
         "JOB": "Office",
         "YOJ": 4,
         "DEROG": 0,
         "DELINQ": 0,
         "CLAGE": 93,
         "NINQ": 0,
         "CLNO": 13,
         "DEBTINC": 29.681827045,
         "_deepnote_index_column": 26
        },
        {
         "BAD": 1,
         "LOAN": 2500,
         "MORTDUE": 15000,
         "VALUE": 20200,
         "REASON": "HomeImp",
         "JOB": "Unknown",
         "YOJ": 18,
         "DEROG": 0,
         "DELINQ": 0,
         "CLAGE": 136,
         "NINQ": 1,
         "CLNO": 19,
         "DEBTINC": 35.127874351,
         "_deepnote_index_column": 27
        },
        {
         "BAD": 1,
         "LOAN": 2500,
         "MORTDUE": 25116,
         "VALUE": 36350,
         "REASON": "HomeImp",
         "JOB": "Other",
         "YOJ": 10,
         "DEROG": 1,
         "DELINQ": 2,
         "CLAGE": 276,
         "NINQ": 0,
         "CLNO": 9,
         "DEBTINC": 35.127874351,
         "_deepnote_index_column": 28
        },
        {
         "BAD": 0,
         "LOAN": 2500,
         "MORTDUE": 7229,
         "VALUE": 44516,
         "REASON": "HomeImp",
         "JOB": "Self",
         "YOJ": 7,
         "DEROG": 0,
         "DELINQ": 0,
         "CLAGE": 208,
         "NINQ": 0,
         "CLNO": 12,
         "DEBTINC": 35.127874351,
         "_deepnote_index_column": 29
        },
        {
         "BAD": 0,
         "LOAN": 2500,
         "MORTDUE": 71408,
         "VALUE": 78600,
         "REASON": "HomeImp",
         "JOB": "ProfExe",
         "YOJ": 8,
         "DEROG": 0,
         "DELINQ": 0,
         "CLAGE": 255,
         "NINQ": 0,
         "CLNO": 12,
         "DEBTINC": 35.127874351,
         "_deepnote_index_column": 30
        },
        {
         "BAD": 1,
         "LOAN": 2800,
         "MORTDUE": 50795,
         "VALUE": 63100,
         "REASON": "HomeImp",
         "JOB": "Self",
         "YOJ": 26,
         "DEROG": 2,
         "DELINQ": 15,
         "CLAGE": 145,
         "NINQ": 3,
         "CLNO": 45,
         "DEBTINC": 35.127874351,
         "_deepnote_index_column": 31
        },
        {
         "BAD": 1,
         "LOAN": 2800,
         "MORTDUE": 4000,
         "VALUE": 60850,
         "REASON": "HomeImp",
         "JOB": "Other",
         "YOJ": 16,
         "DEROG": 4,
         "DELINQ": 0,
         "CLAGE": 112,
         "NINQ": 2,
         "CLNO": 9,
         "DEBTINC": 35.127874351,
         "_deepnote_index_column": 32
        },
        {
         "BAD": 1,
         "LOAN": 2900,
         "MORTDUE": 78600,
         "VALUE": 113000,
         "REASON": "DebtCon",
         "JOB": "ProfExe",
         "YOJ": 6,
         "DEROG": 1,
         "DELINQ": 0,
         "CLAGE": 165,
         "NINQ": 2,
         "CLNO": 26,
         "DEBTINC": 35.127874351,
         "_deepnote_index_column": 33
        },
        {
         "BAD": 0,
         "LOAN": 2900,
         "MORTDUE": 103949,
         "VALUE": 112505,
         "REASON": "HomeImp",
         "JOB": "Office",
         "YOJ": 1,
         "DEROG": 0,
         "DELINQ": 0,
         "CLAGE": 96,
         "NINQ": 0,
         "CLNO": 13,
         "DEBTINC": 30.051136286,
         "_deepnote_index_column": 34
        },
        {
         "BAD": 0,
         "LOAN": 2900,
         "MORTDUE": 104373,
         "VALUE": 120702,
         "REASON": "HomeImp",
         "JOB": "Office",
         "YOJ": 2,
         "DEROG": 0,
         "DELINQ": 0,
         "CLAGE": 101,
         "NINQ": 0,
         "CLNO": 13,
         "DEBTINC": 29.915859028,
         "_deepnote_index_column": 35
        },
        {
         "BAD": 1,
         "LOAN": 2900,
         "MORTDUE": 7750,
         "VALUE": 67996,
         "REASON": "HomeImp",
         "JOB": "Other",
         "YOJ": 16,
         "DEROG": 3,
         "DELINQ": 0,
         "CLAGE": 122,
         "NINQ": 2,
         "CLNO": 8,
         "DEBTINC": 36.211347998,
         "_deepnote_index_column": 36
        },
        {
         "BAD": 1,
         "LOAN": 2900,
         "MORTDUE": 61962,
         "VALUE": 70915,
         "REASON": "DebtCon",
         "JOB": "Mgr",
         "YOJ": 2,
         "DEROG": 0,
         "DELINQ": 0,
         "CLAGE": 282,
         "NINQ": 3,
         "CLNO": 37,
         "DEBTINC": 49.20639579,
         "_deepnote_index_column": 37
        },
        {
         "BAD": 0,
         "LOAN": 3000,
         "MORTDUE": 104570,
         "VALUE": 121729,
         "REASON": "HomeImp",
         "JOB": "Office",
         "YOJ": 2,
         "DEROG": 0,
         "DELINQ": 0,
         "CLAGE": 85,
         "NINQ": 0,
         "CLNO": 14,
         "DEBTINC": 32.059783267,
         "_deepnote_index_column": 38
        },
        {
         "BAD": 1,
         "LOAN": 3000,
         "MORTDUE": 7000,
         "VALUE": 20300,
         "REASON": "HomeImp",
         "JOB": "Other",
         "YOJ": 3,
         "DEROG": 0,
         "DELINQ": 0,
         "CLAGE": 50,
         "NINQ": 5,
         "CLNO": 9,
         "DEBTINC": 35.127874351,
         "_deepnote_index_column": 39
        },
        {
         "BAD": 1,
         "LOAN": 3000,
         "MORTDUE": 0,
         "VALUE": 8800,
         "REASON": "HomeImp",
         "JOB": "Other",
         "YOJ": 2,
         "DEROG": 0,
         "DELINQ": 1,
         "CLAGE": 77,
         "NINQ": 0,
         "CLNO": 3,
         "DEBTINC": 35.127874351,
         "_deepnote_index_column": 40
        },
        {
         "BAD": 1,
         "LOAN": 3000,
         "MORTDUE": 0,
         "VALUE": 33000,
         "REASON": "HomeImp",
         "JOB": "Other",
         "YOJ": 1,
         "DEROG": 0,
         "DELINQ": 1,
         "CLAGE": 23,
         "NINQ": 1,
         "CLNO": 2,
         "DEBTINC": 35.127874351,
         "_deepnote_index_column": 41
        },
        {
         "BAD": 1,
         "LOAN": 3000,
         "MORTDUE": 119826,
         "VALUE": 193500,
         "REASON": "HomeImp",
         "JOB": "Other",
         "YOJ": 8,
         "DEROG": 0,
         "DELINQ": 0,
         "CLAGE": 130,
         "NINQ": 0,
         "CLNO": 27,
         "DEBTINC": 35.127874351,
         "_deepnote_index_column": 42
        }
       ],
       "rows_bottom": [
        {
         "BAD": 0,
         "LOAN": 69000,
         "MORTDUE": 197587,
         "VALUE": 295551,
         "REASON": "DebtCon",
         "JOB": "Self",
         "YOJ": 10,
         "DEROG": 0,
         "DELINQ": 0,
         "CLAGE": 211,
         "NINQ": 3,
         "CLNO": 24,
         "DEBTINC": 30.356856518,
         "_deepnote_index_column": 5922
        },
        {
         "BAD": 0,
         "LOAN": 69600,
         "MORTDUE": 198702,
         "VALUE": 293252,
         "REASON": "DebtCon",
         "JOB": "Self",
         "YOJ": 10,
         "DEROG": 0,
         "DELINQ": 0,
         "CLAGE": 208,
         "NINQ": 2,
         "CLNO": 24,
         "DEBTINC": 27.761644137,
         "_deepnote_index_column": 5923
        },
        {
         "BAD": 0,
         "LOAN": 69700,
         "MORTDUE": 192163,
         "VALUE": 293901,
         "REASON": "DebtCon",
         "JOB": "Self",
         "YOJ": 10,
         "DEROG": 0,
         "DELINQ": 0,
         "CLAGE": 222,
         "NINQ": 2,
         "CLNO": 24,
         "DEBTINC": 29.038235992,
         "_deepnote_index_column": 5924
        },
        {
         "BAD": 0,
         "LOAN": 69700,
         "MORTDUE": 191972,
         "VALUE": 294367,
         "REASON": "DebtCon",
         "JOB": "Self",
         "YOJ": 10,
         "DEROG": 0,
         "DELINQ": 0,
         "CLAGE": 230,
         "NINQ": 2,
         "CLNO": 25,
         "DEBTINC": 28.201870511,
         "_deepnote_index_column": 5925
        },
        {
         "BAD": 0,
         "LOAN": 70300,
         "MORTDUE": 197761,
         "VALUE": 294169,
         "REASON": "DebtCon",
         "JOB": "Self",
         "YOJ": 9,
         "DEROG": 0,
         "DELINQ": 0,
         "CLAGE": 212,
         "NINQ": 2,
         "CLNO": 24,
         "DEBTINC": 28.907073332,
         "_deepnote_index_column": 5926
        },
        {
         "BAD": 0,
         "LOAN": 70500,
         "MORTDUE": 196690,
         "VALUE": 288512,
         "REASON": "DebtCon",
         "JOB": "Self",
         "YOJ": 9,
         "DEROG": 0,
         "DELINQ": 0,
         "CLAGE": 227,
         "NINQ": 2,
         "CLNO": 24,
         "DEBTINC": 29.582300922,
         "_deepnote_index_column": 5927
        },
        {
         "BAD": 0,
         "LOAN": 70800,
         "MORTDUE": 192044,
         "VALUE": 292380,
         "REASON": "DebtCon",
         "JOB": "Self",
         "YOJ": 10,
         "DEROG": 0,
         "DELINQ": 0,
         "CLAGE": 221,
         "NINQ": 2,
         "CLNO": 25,
         "DEBTINC": 30.37854757,
         "_deepnote_index_column": 5928
        },
        {
         "BAD": 0,
         "LOAN": 71200,
         "MORTDUE": 196601,
         "VALUE": 289430,
         "REASON": "DebtCon",
         "JOB": "Self",
         "YOJ": 12,
         "DEROG": 0,
         "DELINQ": 0,
         "CLAGE": 226,
         "NINQ": 2,
         "CLNO": 25,
         "DEBTINC": 29.220351072,
         "_deepnote_index_column": 5929
        },
        {
         "BAD": 1,
         "LOAN": 72300,
         "MORTDUE": 0,
         "VALUE": 85000,
         "REASON": "DebtCon",
         "JOB": "Other",
         "YOJ": 1,
         "DEROG": 0,
         "DELINQ": 0,
         "CLAGE": 117,
         "NINQ": 9,
         "CLNO": 23,
         "DEBTINC": 35.127874351,
         "_deepnote_index_column": 5930
        },
        {
         "BAD": 1,
         "LOAN": 75400,
         "MORTDUE": 0,
         "VALUE": 89609,
         "REASON": "DebtCon",
         "JOB": "Other",
         "YOJ": 1,
         "DEROG": 0,
         "DELINQ": 0,
         "CLAGE": 115,
         "NINQ": 9,
         "CLNO": 23,
         "DEBTINC": 41.105568833,
         "_deepnote_index_column": 5931
        },
        {
         "BAD": 1,
         "LOAN": 76500,
         "MORTDUE": 38206,
         "VALUE": 90000,
         "REASON": "DebtCon",
         "JOB": "Other",
         "YOJ": 12,
         "DEROG": 0,
         "DELINQ": 0,
         "CLAGE": 134,
         "NINQ": 0,
         "CLNO": 26,
         "DEBTINC": 35.127874351,
         "_deepnote_index_column": 5932
        },
        {
         "BAD": 1,
         "LOAN": 77200,
         "MORTDUE": 83962,
         "VALUE": 215000,
         "REASON": "HomeImp",
         "JOB": "Self",
         "YOJ": 8,
         "DEROG": 1,
         "DELINQ": 2,
         "CLAGE": 71,
         "NINQ": 3,
         "CLNO": 14,
         "DEBTINC": 35.127874351,
         "_deepnote_index_column": 5933
        },
        {
         "BAD": 1,
         "LOAN": 77400,
         "MORTDUE": 87651,
         "VALUE": 224630,
         "REASON": "HomeImp",
         "JOB": "Self",
         "YOJ": 9,
         "DEROG": 0,
         "DELINQ": 2,
         "CLAGE": 73,
         "NINQ": 3,
         "CLNO": 13,
         "DEBTINC": 40.929793264,
         "_deepnote_index_column": 5934
        },
        {
         "BAD": 0,
         "LOAN": 78400,
         "MORTDUE": 13900,
         "VALUE": 102910,
         "REASON": "HomeImp",
         "JOB": "Unknown",
         "YOJ": 27,
         "DEROG": 0,
         "DELINQ": 1,
         "CLAGE": 138,
         "NINQ": 0,
         "CLNO": 14,
         "DEBTINC": 35.127874351,
         "_deepnote_index_column": 5935
        },
        {
         "BAD": 0,
         "LOAN": 78700,
         "MORTDUE": 22762,
         "VALUE": 102997,
         "REASON": "HomeImp",
         "JOB": "Unknown",
         "YOJ": 25,
         "DEROG": 0,
         "DELINQ": 0,
         "CLAGE": 146,
         "NINQ": 0,
         "CLNO": 13,
         "DEBTINC": 34.300201816,
         "_deepnote_index_column": 5936
        },
        {
         "BAD": 0,
         "LOAN": 79100,
         "MORTDUE": 23553,
         "VALUE": 103807,
         "REASON": "HomeImp",
         "JOB": "Unknown",
         "YOJ": 25,
         "DEROG": 0,
         "DELINQ": 1,
         "CLAGE": 142,
         "NINQ": 0,
         "CLNO": 13,
         "DEBTINC": 31.469937398,
         "_deepnote_index_column": 5937
        },
        {
         "BAD": 0,
         "LOAN": 79200,
         "MORTDUE": 21694,
         "VALUE": 103143,
         "REASON": "HomeImp",
         "JOB": "Unknown",
         "YOJ": 26,
         "DEROG": 0,
         "DELINQ": 1,
         "CLAGE": 139,
         "NINQ": 0,
         "CLNO": 14,
         "DEBTINC": 31.333684784,
         "_deepnote_index_column": 5938
        },
        {
         "BAD": 0,
         "LOAN": 79200,
         "MORTDUE": 22940,
         "VALUE": 110114,
         "REASON": "HomeImp",
         "JOB": "Unknown",
         "YOJ": 28,
         "DEROG": 0,
         "DELINQ": 1,
         "CLAGE": 144,
         "NINQ": 0,
         "CLNO": 13,
         "DEBTINC": 32.366511586,
         "_deepnote_index_column": 5939
        },
        {
         "BAD": 0,
         "LOAN": 79900,
         "MORTDUE": 18363,
         "VALUE": 109675,
         "REASON": "HomeImp",
         "JOB": "Unknown",
         "YOJ": 27,
         "DEROG": 0,
         "DELINQ": 1,
         "CLAGE": 132,
         "NINQ": 0,
         "CLNO": 13,
         "DEBTINC": 31.642335073,
         "_deepnote_index_column": 5940
        },
        {
         "BAD": 0,
         "LOAN": 80300,
         "MORTDUE": 20370,
         "VALUE": 109127,
         "REASON": "HomeImp",
         "JOB": "Unknown",
         "YOJ": 27,
         "DEROG": 0,
         "DELINQ": 1,
         "CLAGE": 142,
         "NINQ": 0,
         "CLNO": 13,
         "DEBTINC": 33.468763239,
         "_deepnote_index_column": 5941
        },
        {
         "BAD": 0,
         "LOAN": 80600,
         "MORTDUE": 16337,
         "VALUE": 109370,
         "REASON": "HomeImp",
         "JOB": "Unknown",
         "YOJ": 28,
         "DEROG": 0,
         "DELINQ": 0,
         "CLAGE": 137,
         "NINQ": 0,
         "CLNO": 14,
         "DEBTINC": 34.202005032,
         "_deepnote_index_column": 5942
        },
        {
         "BAD": 0,
         "LOAN": 81200,
         "MORTDUE": 18834,
         "VALUE": 108355,
         "REASON": "HomeImp",
         "JOB": "Unknown",
         "YOJ": 28,
         "DEROG": 0,
         "DELINQ": 0,
         "CLAGE": 139,
         "NINQ": 0,
         "CLNO": 14,
         "DEBTINC": 34.042153174,
         "_deepnote_index_column": 5943
        },
        {
         "BAD": 0,
         "LOAN": 81400,
         "MORTDUE": 22344,
         "VALUE": 108280,
         "REASON": "HomeImp",
         "JOB": "Unknown",
         "YOJ": 25,
         "DEROG": 0,
         "DELINQ": 0,
         "CLAGE": 148,
         "NINQ": 0,
         "CLNO": 14,
         "DEBTINC": 34.285741432,
         "_deepnote_index_column": 5944
        },
        {
         "BAD": 0,
         "LOAN": 81400,
         "MORTDUE": 21041,
         "VALUE": 111304,
         "REASON": "HomeImp",
         "JOB": "Unknown",
         "YOJ": 26,
         "DEROG": 0,
         "DELINQ": 0,
         "CLAGE": 146,
         "NINQ": 0,
         "CLNO": 14,
         "DEBTINC": 32.131373125,
         "_deepnote_index_column": 5945
        },
        {
         "BAD": 0,
         "LOAN": 82200,
         "MORTDUE": 16097,
         "VALUE": 111287,
         "REASON": "HomeImp",
         "JOB": "Unknown",
         "YOJ": 26,
         "DEROG": 0,
         "DELINQ": 0,
         "CLAGE": 142,
         "NINQ": 0,
         "CLNO": 14,
         "DEBTINC": 31.743472096,
         "_deepnote_index_column": 5946
        },
        {
         "BAD": 0,
         "LOAN": 82200,
         "MORTDUE": 23197,
         "VALUE": 110481,
         "REASON": "HomeImp",
         "JOB": "Unknown",
         "YOJ": 26,
         "DEROG": 0,
         "DELINQ": 1,
         "CLAGE": 127,
         "NINQ": 0,
         "CLNO": 14,
         "DEBTINC": 30.942695109,
         "_deepnote_index_column": 5947
        },
        {
         "BAD": 0,
         "LOAN": 86000,
         "MORTDUE": 47355,
         "VALUE": 85000,
         "REASON": "DebtCon",
         "JOB": "Other",
         "YOJ": 15,
         "DEROG": 0,
         "DELINQ": 0,
         "CLAGE": 210,
         "NINQ": 0,
         "CLNO": 16,
         "DEBTINC": 35.127874351,
         "_deepnote_index_column": 5948
        },
        {
         "BAD": 0,
         "LOAN": 87000,
         "MORTDUE": 48980,
         "VALUE": 89764,
         "REASON": "DebtCon",
         "JOB": "Other",
         "YOJ": 14,
         "DEROG": 0,
         "DELINQ": 0,
         "CLAGE": 209,
         "NINQ": 0,
         "CLNO": 16,
         "DEBTINC": 36.088037065,
         "_deepnote_index_column": 5949
        },
        {
         "BAD": 0,
         "LOAN": 87500,
         "MORTDUE": 55938,
         "VALUE": 86794,
         "REASON": "DebtCon",
         "JOB": "Other",
         "YOJ": 15,
         "DEROG": 0,
         "DELINQ": 0,
         "CLAGE": 223,
         "NINQ": 0,
         "CLNO": 16,
         "DEBTINC": 36.753652674,
         "_deepnote_index_column": 5950
        },
        {
         "BAD": 0,
         "LOAN": 88300,
         "MORTDUE": 54004,
         "VALUE": 94838,
         "REASON": "DebtCon",
         "JOB": "Other",
         "YOJ": 16,
         "DEROG": 0,
         "DELINQ": 0,
         "CLAGE": 193,
         "NINQ": 0,
         "CLNO": 15,
         "DEBTINC": 36.262691334,
         "_deepnote_index_column": 5951
        },
        {
         "BAD": 0,
         "LOAN": 88500,
         "MORTDUE": 50240,
         "VALUE": 94687,
         "REASON": "DebtCon",
         "JOB": "Other",
         "YOJ": 16,
         "DEROG": 0,
         "DELINQ": 0,
         "CLAGE": 214,
         "NINQ": 0,
         "CLNO": 16,
         "DEBTINC": 34.751158347,
         "_deepnote_index_column": 5952
        },
        {
         "BAD": 0,
         "LOAN": 88800,
         "MORTDUE": 53307,
         "VALUE": 94058,
         "REASON": "DebtCon",
         "JOB": "Other",
         "YOJ": 16,
         "DEROG": 0,
         "DELINQ": 0,
         "CLAGE": 218,
         "NINQ": 0,
         "CLNO": 15,
         "DEBTINC": 34.24246473,
         "_deepnote_index_column": 5953
        },
        {
         "BAD": 0,
         "LOAN": 88900,
         "MORTDUE": 48919,
         "VALUE": 93371,
         "REASON": "DebtCon",
         "JOB": "Other",
         "YOJ": 15,
         "DEROG": 0,
         "DELINQ": 1,
         "CLAGE": 205,
         "NINQ": 0,
         "CLNO": 15,
         "DEBTINC": 34.818261819,
         "_deepnote_index_column": 5954
        },
        {
         "BAD": 0,
         "LOAN": 88900,
         "MORTDUE": 57264,
         "VALUE": 90185,
         "REASON": "DebtCon",
         "JOB": "Other",
         "YOJ": 16,
         "DEROG": 0,
         "DELINQ": 0,
         "CLAGE": 221,
         "NINQ": 0,
         "CLNO": 16,
         "DEBTINC": 36.112346519,
         "_deepnote_index_column": 5955
        },
        {
         "BAD": 0,
         "LOAN": 89000,
         "MORTDUE": 54576,
         "VALUE": 92937,
         "REASON": "DebtCon",
         "JOB": "Other",
         "YOJ": 16,
         "DEROG": 0,
         "DELINQ": 0,
         "CLAGE": 208,
         "NINQ": 0,
         "CLNO": 15,
         "DEBTINC": 35.859970681,
         "_deepnote_index_column": 5956
        },
        {
         "BAD": 0,
         "LOAN": 89200,
         "MORTDUE": 54045,
         "VALUE": 92924,
         "REASON": "DebtCon",
         "JOB": "Other",
         "YOJ": 15,
         "DEROG": 0,
         "DELINQ": 0,
         "CLAGE": 212,
         "NINQ": 0,
         "CLNO": 15,
         "DEBTINC": 35.55659049,
         "_deepnote_index_column": 5957
        },
        {
         "BAD": 0,
         "LOAN": 89800,
         "MORTDUE": 50370,
         "VALUE": 91861,
         "REASON": "DebtCon",
         "JOB": "Other",
         "YOJ": 14,
         "DEROG": 0,
         "DELINQ": 0,
         "CLAGE": 213,
         "NINQ": 0,
         "CLNO": 16,
         "DEBTINC": 34.340882368,
         "_deepnote_index_column": 5958
        },
        {
         "BAD": 0,
         "LOAN": 89900,
         "MORTDUE": 48811,
         "VALUE": 88934,
         "REASON": "DebtCon",
         "JOB": "Other",
         "YOJ": 15,
         "DEROG": 0,
         "DELINQ": 0,
         "CLAGE": 219,
         "NINQ": 0,
         "CLNO": 16,
         "DEBTINC": 34.571519125,
         "_deepnote_index_column": 5959
        }
       ]
      },
      "text/plain": "      BAD   LOAN  MORTDUE     VALUE   REASON     JOB   YOJ  DEROG  DELINQ  \\\n0       1   1100  25860.0   39025.0  HomeImp   Other  10.5      0       0   \n1       1   1300  70053.0   68400.0  HomeImp   Other   7.0      0       2   \n2       1   1500  13500.0   16700.0  HomeImp   Other   4.0      0       0   \n4       0   1700  97800.0  112000.0  HomeImp  Office   3.0      0       0   \n5       1   1700  30548.0   40320.0  HomeImp   Other   9.0      0       0   \n...   ...    ...      ...       ...      ...     ...   ...    ...     ...   \n5955    0  88900  57264.0   90185.0  DebtCon   Other  16.0      0       0   \n5956    0  89000  54576.0   92937.0  DebtCon   Other  16.0      0       0   \n5957    0  89200  54045.0   92924.0  DebtCon   Other  15.0      0       0   \n5958    0  89800  50370.0   91861.0  DebtCon   Other  14.0      0       0   \n5959    0  89900  48811.0   88934.0  DebtCon   Other  15.0      0       0   \n\n      CLAGE  NINQ  CLNO    DEBTINC  \n0        94     1     9  35.127874  \n1       121     0    14  35.127874  \n2       149     1    10  35.127874  \n4        93     0    14  35.127874  \n5       101     1     8  37.113614  \n...     ...   ...   ...        ...  \n5955    221     0    16  36.112347  \n5956    208     0    15  35.859971  \n5957    212     0    15  35.556590  \n5958    213     0    16  34.340882  \n5959    219     0    16  34.571519  \n\n[5402 rows x 13 columns]",
      "text/html": "<div>\n<style scoped>\n    .dataframe tbody tr th:only-of-type {\n        vertical-align: middle;\n    }\n\n    .dataframe tbody tr th {\n        vertical-align: top;\n    }\n\n    .dataframe thead th {\n        text-align: right;\n    }\n</style>\n<table border=\"1\" class=\"dataframe\">\n  <thead>\n    <tr style=\"text-align: right;\">\n      <th></th>\n      <th>BAD</th>\n      <th>LOAN</th>\n      <th>MORTDUE</th>\n      <th>VALUE</th>\n      <th>REASON</th>\n      <th>JOB</th>\n      <th>YOJ</th>\n      <th>DEROG</th>\n      <th>DELINQ</th>\n      <th>CLAGE</th>\n      <th>NINQ</th>\n      <th>CLNO</th>\n      <th>DEBTINC</th>\n    </tr>\n  </thead>\n  <tbody>\n    <tr>\n      <th>0</th>\n      <td>1</td>\n      <td>1100</td>\n      <td>25860.0</td>\n      <td>39025.0</td>\n      <td>HomeImp</td>\n      <td>Other</td>\n      <td>10.5</td>\n      <td>0</td>\n      <td>0</td>\n      <td>94</td>\n      <td>1</td>\n      <td>9</td>\n      <td>35.127874</td>\n    </tr>\n    <tr>\n      <th>1</th>\n      <td>1</td>\n      <td>1300</td>\n      <td>70053.0</td>\n      <td>68400.0</td>\n      <td>HomeImp</td>\n      <td>Other</td>\n      <td>7.0</td>\n      <td>0</td>\n      <td>2</td>\n      <td>121</td>\n      <td>0</td>\n      <td>14</td>\n      <td>35.127874</td>\n    </tr>\n    <tr>\n      <th>2</th>\n      <td>1</td>\n      <td>1500</td>\n      <td>13500.0</td>\n      <td>16700.0</td>\n      <td>HomeImp</td>\n      <td>Other</td>\n      <td>4.0</td>\n      <td>0</td>\n      <td>0</td>\n      <td>149</td>\n      <td>1</td>\n      <td>10</td>\n      <td>35.127874</td>\n    </tr>\n    <tr>\n      <th>4</th>\n      <td>0</td>\n      <td>1700</td>\n      <td>97800.0</td>\n      <td>112000.0</td>\n      <td>HomeImp</td>\n      <td>Office</td>\n      <td>3.0</td>\n      <td>0</td>\n      <td>0</td>\n      <td>93</td>\n      <td>0</td>\n      <td>14</td>\n      <td>35.127874</td>\n    </tr>\n    <tr>\n      <th>5</th>\n      <td>1</td>\n      <td>1700</td>\n      <td>30548.0</td>\n      <td>40320.0</td>\n      <td>HomeImp</td>\n      <td>Other</td>\n      <td>9.0</td>\n      <td>0</td>\n      <td>0</td>\n      <td>101</td>\n      <td>1</td>\n      <td>8</td>\n      <td>37.113614</td>\n    </tr>\n    <tr>\n      <th>...</th>\n      <td>...</td>\n      <td>...</td>\n      <td>...</td>\n      <td>...</td>\n      <td>...</td>\n      <td>...</td>\n      <td>...</td>\n      <td>...</td>\n      <td>...</td>\n      <td>...</td>\n      <td>...</td>\n      <td>...</td>\n      <td>...</td>\n    </tr>\n    <tr>\n      <th>5955</th>\n      <td>0</td>\n      <td>88900</td>\n      <td>57264.0</td>\n      <td>90185.0</td>\n      <td>DebtCon</td>\n      <td>Other</td>\n      <td>16.0</td>\n      <td>0</td>\n      <td>0</td>\n      <td>221</td>\n      <td>0</td>\n      <td>16</td>\n      <td>36.112347</td>\n    </tr>\n    <tr>\n      <th>5956</th>\n      <td>0</td>\n      <td>89000</td>\n      <td>54576.0</td>\n      <td>92937.0</td>\n      <td>DebtCon</td>\n      <td>Other</td>\n      <td>16.0</td>\n      <td>0</td>\n      <td>0</td>\n      <td>208</td>\n      <td>0</td>\n      <td>15</td>\n      <td>35.859971</td>\n    </tr>\n    <tr>\n      <th>5957</th>\n      <td>0</td>\n      <td>89200</td>\n      <td>54045.0</td>\n      <td>92924.0</td>\n      <td>DebtCon</td>\n      <td>Other</td>\n      <td>15.0</td>\n      <td>0</td>\n      <td>0</td>\n      <td>212</td>\n      <td>0</td>\n      <td>15</td>\n      <td>35.556590</td>\n    </tr>\n    <tr>\n      <th>5958</th>\n      <td>0</td>\n      <td>89800</td>\n      <td>50370.0</td>\n      <td>91861.0</td>\n      <td>DebtCon</td>\n      <td>Other</td>\n      <td>14.0</td>\n      <td>0</td>\n      <td>0</td>\n      <td>213</td>\n      <td>0</td>\n      <td>16</td>\n      <td>34.340882</td>\n    </tr>\n    <tr>\n      <th>5959</th>\n      <td>0</td>\n      <td>89900</td>\n      <td>48811.0</td>\n      <td>88934.0</td>\n      <td>DebtCon</td>\n      <td>Other</td>\n      <td>15.0</td>\n      <td>0</td>\n      <td>0</td>\n      <td>219</td>\n      <td>0</td>\n      <td>16</td>\n      <td>34.571519</td>\n    </tr>\n  </tbody>\n</table>\n<p>5402 rows × 13 columns</p>\n</div>"
     },
     "metadata": {}
    }
   ]
  },
  {
   "cell_type": "markdown",
   "source": "### Creating data encoding function",
   "metadata": {
    "tags": [],
    "is_collapsed": false,
    "cell_id": "00041-1b721d3d-0872-445a-89cd-ad1c9632a5f7",
    "deepnote_cell_type": "text-cell-h3"
   }
  },
  {
   "cell_type": "code",
   "metadata": {
    "tags": [],
    "deepnote_to_be_reexecuted": false,
    "source_hash": "565bac18",
    "execution_start": 1636631829775,
    "execution_millis": 1,
    "cell_id": "00042-cebaf411-bcce-4217-ab67-b438b7e3a4b7",
    "deepnote_cell_type": "code"
   },
   "source": "def encode_data(df):\n\n    # Some info upfront:\n    print(f\"Input DataFrame shape ... {df.shape}\")\n\n    # First create a copy of the dataframe\n    print(f\"Making a copy of the dataframe ... \", end=\"\")\n    df_out = df.copy()\n    print(f\"done.\")\n\n    # We will first one-hot-encode categorical features\n    categ_features = [\"REASON\", \"JOB\"]\n    minmax_features = [\n        \"LOAN\",\n        \"MORTDUE\",\n        \"VALUE\",\n        \"YOJ\",\n        \"DEROG\",\n        \"DELINQ\",\n        \"CLAGE\",\n        \"NINQ\",\n        \"CLNO\",\n        \"DEBTINC\",\n    ]\n\n    # One-hot encoding using Laszlo's approach\n    print(f\"One-hot encoding {categ_features} ... \", end=\"\")\n    df_out = pd.get_dummies(df_out, columns=categ_features)\n    print(f\"done.\")\n\n    # Print out resulting shape:\n    print(f\"Resulting DataFrame shape ... {df_out.shape}\")\n\n    # MinMax scaling\n    for feature in minmax_features:\n        scaler = MinMaxScaler()\n        print(f\"Min-max scaling [{feature}]. Before = <{df_out[feature].min()}, {df_out[feature].max()}> ... \", end=\"\")\n        df_out[feature] = scaler.fit_transform(df_out[[feature]])\n        print(f\"done. After = <{df_out[feature].min()}, {df_out[feature].max()}>.\")\n\n    return df_out\n",
   "execution_count": null,
   "outputs": []
  },
  {
   "cell_type": "markdown",
   "source": "\n## Data pipeline construction revisited\nHere is a sample of how your data preparation process should look. This can however vary depending on the data with which you are working and the goal of your model. In general, you may at least want to follow these steps:\n\n1) Basic cleaning of null values, duplicates and outliers\n\nThese values will have a big impact on how Python runs and how models are calculated. When it comes to NaN values and outliers, there are several approaches to deal with them. You could remove them, replace them with another value (indicator value, mode, mean, max, min, etc), use a mini-model to impute them among other options. \n\n2) Encode variables in the most appropriate way\n\nCheck your dataframe using the method .info() . Are your continuous variables encoded as integers or floats? If they are type object then the column may need to be checked again for null values. It is good practice to change any categorical variables to the category data type as it increases processing time. Once you have confirmed that you will finalize the model with a categorical variable, it can be good to use one-hot encoding.\n\n\n3) Ensure variables fit statistical assumptions/model requirements\n\nThe next steps are a bit more complex and will depend on which model you need to use. Your goal is to make sure your data will be accurately processed by your model. Note that a lot of statistical assumptions depend on normal distribution and scaling. \nIn this step, you may also want to remove features which are highly correlated to one another.\nGenerally for NN you will not need to check for correlated values as the network should be able to learn itself the important features and weights. \n\n",
   "metadata": {
    "id": "CcOS1_JlPMBG",
    "cell_id": "00043-5011f9dd-3507-4075-a37b-3689e59732b1",
    "deepnote_cell_type": "markdown"
   }
  },
  {
   "cell_type": "code",
   "metadata": {
    "tags": [],
    "deepnote_to_be_reexecuted": false,
    "source_hash": "1b2b61c7",
    "execution_start": 1636633298334,
    "execution_millis": 97,
    "cell_id": "00044-bbcadacb-a458-404e-abcb-20a5872cd53e",
    "deepnote_cell_type": "code"
   },
   "source": "df1 = encode_data(clean_data(df,3))  # create the final data frame which will be the input of the NN model",
   "execution_count": null,
   "outputs": [
    {
     "name": "stdout",
     "text": "Input DataFrame shape ... (5960, 13)\nMaking a copy of the dataframe ... done.\nRemoving all rows having > 3 NaN values in them... done.\nNumber of rows dropped... 339.\nResulting DataFrame shape ... (5621, 13)\nFilling 138 values in feature [REASON] with \"Unknown\" ... done.\nFilling 127 values in feature [JOB] with \"Unknown\" ... done.\nFilling 343 values in feature [MORTDUE] with 0 ... done.\nFilling 84 values in feature [VALUE] with 0 ... done.\nFilling 415 values in feature [DEROG] with 0 ... done.\nFilling 265 values in feature [DELINQ] with 0 ... done.\nFilling 0 values in feature [CLNO] with 0 ... done.\nFilling 327 values in feature [YOJ] with its median (7.0) ... done.\nFilling 199 values in feature [NINQ] with its median (1.0) ... done.\nFilling 1174 values in feature [DEBTINC] with its median (35.020885785) ... done.\nFilling 25 values in feature [CLAGE] with its median (173.62528427) ... done.\nFilling 47 values in feature [CLAGE] with 0 ... done.\nNaNs now:\nBAD        0\nLOAN       0\nMORTDUE    0\nVALUE      0\nREASON     0\nJOB        0\nYOJ        0\nDEROG      0\nDELINQ     0\nCLAGE      0\nNINQ       0\nCLNO       0\nDEBTINC    0\ndtype: int64\nConvert some features to type int: ['DEROG', 'DELINQ', 'CLAGE', 'NINQ', 'CLNO'] ...done.\nInput DataFrame shape ... (5621, 13)\nMaking a copy of the dataframe ... done.\nOne-hot encoding ['REASON', 'JOB'] ... done.\nResulting DataFrame shape ... (5621, 21)\nMin-max scaling [LOAN]. Before = <1100, 89900> ... done. After = <0.0, 1.0>.\nMin-max scaling [MORTDUE]. Before = <0.0, 399550.0> ... done. After = <0.0, 1.0>.\nMin-max scaling [VALUE]. Before = <0.0, 855909.0> ... done. After = <0.0, 0.9999999999999999>.\nMin-max scaling [YOJ]. Before = <0.0, 41.0> ... done. After = <0.0, 1.0>.\nMin-max scaling [DEROG]. Before = <0, 10> ... done. After = <0.0, 1.0>.\nMin-max scaling [DELINQ]. Before = <0, 15> ... done. After = <0.0, 1.0>.\nMin-max scaling [CLAGE]. Before = <0, 1168> ... done. After = <0.0, 1.0>.\nMin-max scaling [NINQ]. Before = <0, 17> ... done. After = <0.0, 1.0>.\nMin-max scaling [CLNO]. Before = <0, 71> ... done. After = <0.0, 1.0>.\nMin-max scaling [DEBTINC]. Before = <0.5244992154, 203.31214869> ... done. After = <0.0, 1.0>.\n",
     "output_type": "stream"
    }
   ]
  },
  {
   "cell_type": "code",
   "metadata": {
    "tags": [],
    "deepnote_to_be_reexecuted": false,
    "source_hash": "a281dd21",
    "execution_start": 1636633311761,
    "execution_millis": 24,
    "cell_id": "00045-913f4962-55a0-4653-9dfa-d8e41d75c54f",
    "deepnote_cell_type": "code"
   },
   "source": "df1.info()",
   "execution_count": null,
   "outputs": [
    {
     "name": "stdout",
     "text": "<class 'pandas.core.frame.DataFrame'>\nInt64Index: 5621 entries, 0 to 5959\nData columns (total 21 columns):\n #   Column          Non-Null Count  Dtype  \n---  ------          --------------  -----  \n 0   BAD             5621 non-null   int64  \n 1   LOAN            5621 non-null   float64\n 2   MORTDUE         5621 non-null   float64\n 3   VALUE           5621 non-null   float64\n 4   YOJ             5621 non-null   float64\n 5   DEROG           5621 non-null   float64\n 6   DELINQ          5621 non-null   float64\n 7   CLAGE           5621 non-null   float64\n 8   NINQ            5621 non-null   float64\n 9   CLNO            5621 non-null   float64\n 10  DEBTINC         5621 non-null   float64\n 11  REASON_DebtCon  5621 non-null   uint8  \n 12  REASON_HomeImp  5621 non-null   uint8  \n 13  REASON_Unknown  5621 non-null   uint8  \n 14  JOB_Mgr         5621 non-null   uint8  \n 15  JOB_Office      5621 non-null   uint8  \n 16  JOB_Other       5621 non-null   uint8  \n 17  JOB_ProfExe     5621 non-null   uint8  \n 18  JOB_Sales       5621 non-null   uint8  \n 19  JOB_Self        5621 non-null   uint8  \n 20  JOB_Unknown     5621 non-null   uint8  \ndtypes: float64(10), int64(1), uint8(10)\nmemory usage: 581.9 KB\n",
     "output_type": "stream"
    }
   ]
  },
  {
   "cell_type": "markdown",
   "source": "# Build and run NN model",
   "metadata": {
    "tags": [],
    "is_collapsed": false,
    "cell_id": "00046-344f9b50-9639-43b1-9396-8191beb849ee",
    "deepnote_cell_type": "text-cell-h1"
   }
  },
  {
   "cell_type": "markdown",
   "source": "## Train-test split",
   "metadata": {
    "tags": [],
    "is_collapsed": false,
    "cell_id": "00047-c81d60bf-14d8-4511-9f54-cdc5cbc0d543",
    "deepnote_cell_type": "text-cell-h2"
   }
  },
  {
   "cell_type": "code",
   "metadata": {
    "tags": [],
    "deepnote_to_be_reexecuted": false,
    "source_hash": "3959c0ca",
    "execution_start": 1636633552131,
    "execution_millis": 1,
    "cell_id": "00048-b267423a-d307-4588-80d6-76f0f919f17f",
    "deepnote_cell_type": "code"
   },
   "source": "#train-test split of data set\nfrom sklearn.model_selection import train_test_split\n\nX = df1.drop('BAD', axis = 1).to_numpy()\ny = df1['BAD'].to_numpy()\n\nX_train, X_test, y_train, y_test = train_test_split(X,y, test_size=0.2, random_state=42)\n\nX.shape, y.shape, X_train.shape, y_train.shape, X_test.shape, y_test.shape",
   "execution_count": null,
   "outputs": [
    {
     "output_type": "execute_result",
     "execution_count": 54,
     "data": {
      "text/plain": "((5621, 20), (5621,), (4496, 20), (4496,), (1125, 20), (1125,))"
     },
     "metadata": {}
    }
   ]
  },
  {
   "cell_type": "markdown",
   "source": "## Build the model",
   "metadata": {
    "tags": [],
    "is_collapsed": false,
    "cell_id": "00049-cca78fa7-5455-4337-9a60-4b1d2adf2426",
    "deepnote_cell_type": "text-cell-h2"
   }
  },
  {
   "cell_type": "code",
   "metadata": {
    "tags": [],
    "deepnote_to_be_reexecuted": false,
    "source_hash": "5b748297",
    "execution_start": 1636639573431,
    "execution_millis": 0,
    "cell_id": "00050-09dbf0ed-2fc7-444a-b044-2cf8f6afee45",
    "deepnote_cell_type": "code"
   },
   "source": "from tensorflow import keras\nfrom tensorflow.keras.models import Sequential\nfrom tensorflow.keras.layers import Dense, Dropout\nfrom tensorflow.keras.metrics import Accuracy, Recall, Precision, AUC, BinaryAccuracy\nfrom sklearn.metrics import ConfusionMatrixDisplay, confusion_matrix\nfrom sklearn.metrics import roc_auc_score, accuracy_score, roc_curve\n",
   "execution_count": null,
   "outputs": []
  },
  {
   "cell_type": "code",
   "metadata": {
    "tags": [],
    "deepnote_to_be_reexecuted": false,
    "source_hash": "ab5267c8",
    "execution_start": 1636638535410,
    "execution_millis": 7,
    "cell_id": "00051-4108bf6f-068a-4905-981c-febc5aca979e",
    "deepnote_cell_type": "code"
   },
   "source": "def basic_model(input_dim, dl1=128, dl2=64):\n    model = Sequential()\n    # first hidden layer, defines also the input layer\n    model.add(Dense(dl1, input_dim=input_dim, activation='relu', kernel_initializer=keras.initializers.he_normal(seed=0),\n                    bias_initializer='zeros'))\n    model.add(Dense(dl2,  activation='relu', kernel_initializer=keras.initializers.he_normal(seed=0),\n                    bias_initializer='zeros'))\n    # output layer\n    model.add(Dense(1, activation='sigmoid', kernel_initializer=keras.initializers.he_normal(seed=0),\n                    bias_initializer='zeros'))\n    return model\n",
   "execution_count": null,
   "outputs": []
  },
  {
   "cell_type": "code",
   "metadata": {
    "tags": [],
    "deepnote_to_be_reexecuted": false,
    "source_hash": "7f3dca55",
    "execution_start": 1636642743611,
    "execution_millis": 4,
    "cell_id": "00052-6695df72-aa11-40fe-ac23-0c6d95f00a27",
    "deepnote_cell_type": "code"
   },
   "source": "def dropout_model(input_dim, dl1=128, dl2=64):\n    model = Sequential()\n    # first hidden layer, defines also the input layer\n    model.add(Dense(dl1, input_dim=input_dim, activation='relu', kernel_initializer=keras.initializers.he_normal(seed=0),\n                    bias_initializer='zeros'))\n    model.add(Dropout(0.5, seed=0))\n    model.add(Dense(dl2,  activation='relu', kernel_initializer=keras.initializers.he_normal(seed=0),\n                    bias_initializer='zeros'))\n    model.add(Dropout(0.5, seed=0))\n    # output layer\n    model.add(Dense(1, activation='sigmoid', kernel_initializer=keras.initializers.he_normal(seed=0),\n                    bias_initializer='zeros'))\n    return model",
   "execution_count": null,
   "outputs": []
  },
  {
   "cell_type": "markdown",
   "source": "## Run the model",
   "metadata": {
    "tags": [],
    "is_collapsed": false,
    "cell_id": "00053-38d9a2fa-9bff-4192-8085-eb18e28f2c26",
    "deepnote_cell_type": "text-cell-h2"
   }
  },
  {
   "cell_type": "code",
   "metadata": {
    "tags": [],
    "deepnote_to_be_reexecuted": false,
    "source_hash": "6bb87069",
    "execution_start": 1636638631872,
    "execution_millis": 89167,
    "cell_id": "00054-c74b9b11-b330-4590-9b4b-605178865df8",
    "deepnote_cell_type": "code"
   },
   "source": "model = basic_model(X_train.shape[1], dl1=64, dl2=64)\nmodel.compile(loss='binary_crossentropy', optimizer='adam', metrics=[BinaryAccuracy(), Recall(), Precision(), AUC()])\n\nHistory = model.fit(X_train, y_train, epochs=200, batch_size=32, validation_split=0.2, verbose=1)",
   "execution_count": null,
   "outputs": [
    {
     "name": "stdout",
     "text": "Epoch 1/200\n113/113 [==============================] - 3s 9ms/step - loss: 0.5612 - binary_accuracy: 0.7200 - recall_2: 0.1364 - precision_2: 0.2107 - auc_2: 0.5464 - val_loss: 0.4677 - val_binary_accuracy: 0.8000 - val_recall_2: 0.0000e+00 - val_precision_2: 0.0000e+00 - val_auc_2: 0.7021\nEpoch 2/200\n113/113 [==============================] - 0s 3ms/step - loss: 0.4693 - binary_accuracy: 0.7955 - recall_2: 0.0182 - precision_2: 0.8747 - auc_2: 0.7117 - val_loss: 0.4384 - val_binary_accuracy: 0.8056 - val_recall_2: 0.0278 - val_precision_2: 1.0000 - val_auc_2: 0.7751\nEpoch 3/200\n113/113 [==============================] - 0s 3ms/step - loss: 0.4363 - binary_accuracy: 0.8135 - recall_2: 0.1273 - precision_2: 0.8720 - auc_2: 0.7720 - val_loss: 0.4122 - val_binary_accuracy: 0.8211 - val_recall_2: 0.1389 - val_precision_2: 0.8065 - val_auc_2: 0.7973\nEpoch 4/200\n113/113 [==============================] - 0s 3ms/step - loss: 0.3846 - binary_accuracy: 0.8440 - recall_2: 0.2303 - precision_2: 0.8111 - auc_2: 0.7920 - val_loss: 0.3895 - val_binary_accuracy: 0.8300 - val_recall_2: 0.2444 - val_precision_2: 0.7213 - val_auc_2: 0.8217\nEpoch 5/200\n113/113 [==============================] - 0s 3ms/step - loss: 0.3826 - binary_accuracy: 0.8371 - recall_2: 0.2841 - precision_2: 0.7645 - auc_2: 0.8215 - val_loss: 0.3799 - val_binary_accuracy: 0.8300 - val_recall_2: 0.2667 - val_precision_2: 0.6957 - val_auc_2: 0.8296\nEpoch 6/200\n113/113 [==============================] - 0s 2ms/step - loss: 0.3609 - binary_accuracy: 0.8491 - recall_2: 0.3171 - precision_2: 0.7539 - auc_2: 0.8308 - val_loss: 0.3760 - val_binary_accuracy: 0.8311 - val_recall_2: 0.2778 - val_precision_2: 0.6944 - val_auc_2: 0.8291\nEpoch 7/200\n113/113 [==============================] - 0s 3ms/step - loss: 0.3743 - binary_accuracy: 0.8422 - recall_2: 0.3684 - precision_2: 0.7771 - auc_2: 0.8350 - val_loss: 0.3729 - val_binary_accuracy: 0.8378 - val_recall_2: 0.3333 - val_precision_2: 0.6977 - val_auc_2: 0.8307\nEpoch 8/200\n113/113 [==============================] - 0s 3ms/step - loss: 0.3539 - binary_accuracy: 0.8528 - recall_2: 0.3804 - precision_2: 0.7764 - auc_2: 0.8457 - val_loss: 0.3697 - val_binary_accuracy: 0.8378 - val_recall_2: 0.3500 - val_precision_2: 0.6848 - val_auc_2: 0.8302\nEpoch 9/200\n113/113 [==============================] - 0s 3ms/step - loss: 0.3524 - binary_accuracy: 0.8555 - recall_2: 0.4093 - precision_2: 0.7634 - auc_2: 0.8403 - val_loss: 0.3700 - val_binary_accuracy: 0.8422 - val_recall_2: 0.3833 - val_precision_2: 0.6900 - val_auc_2: 0.8247\nEpoch 10/200\n113/113 [==============================] - 0s 3ms/step - loss: 0.3496 - binary_accuracy: 0.8589 - recall_2: 0.4274 - precision_2: 0.7690 - auc_2: 0.8435 - val_loss: 0.3613 - val_binary_accuracy: 0.8422 - val_recall_2: 0.3722 - val_precision_2: 0.6979 - val_auc_2: 0.8432\nEpoch 11/200\n113/113 [==============================] - 0s 3ms/step - loss: 0.3388 - binary_accuracy: 0.8648 - recall_2: 0.3879 - precision_2: 0.7597 - auc_2: 0.8400 - val_loss: 0.3596 - val_binary_accuracy: 0.8433 - val_recall_2: 0.3722 - val_precision_2: 0.7053 - val_auc_2: 0.8440\nEpoch 12/200\n113/113 [==============================] - 0s 3ms/step - loss: 0.3292 - binary_accuracy: 0.8594 - recall_2: 0.4272 - precision_2: 0.7534 - auc_2: 0.8658 - val_loss: 0.3555 - val_binary_accuracy: 0.8489 - val_recall_2: 0.3778 - val_precision_2: 0.7391 - val_auc_2: 0.8488\nEpoch 13/200\n113/113 [==============================] - 0s 4ms/step - loss: 0.3300 - binary_accuracy: 0.8657 - recall_2: 0.4226 - precision_2: 0.8159 - auc_2: 0.8651 - val_loss: 0.3557 - val_binary_accuracy: 0.8478 - val_recall_2: 0.3722 - val_precision_2: 0.7363 - val_auc_2: 0.8519\nEpoch 14/200\n113/113 [==============================] - 0s 4ms/step - loss: 0.3385 - binary_accuracy: 0.8618 - recall_2: 0.4710 - precision_2: 0.8020 - auc_2: 0.8688 - val_loss: 0.3714 - val_binary_accuracy: 0.8400 - val_recall_2: 0.2611 - val_precision_2: 0.8103 - val_auc_2: 0.8526\nEpoch 15/200\n113/113 [==============================] - 1s 5ms/step - loss: 0.3415 - binary_accuracy: 0.8572 - recall_2: 0.4259 - precision_2: 0.7951 - auc_2: 0.8612 - val_loss: 0.3512 - val_binary_accuracy: 0.8533 - val_recall_2: 0.4333 - val_precision_2: 0.7222 - val_auc_2: 0.8510\nEpoch 16/200\n113/113 [==============================] - 1s 5ms/step - loss: 0.3131 - binary_accuracy: 0.8767 - recall_2: 0.4516 - precision_2: 0.8248 - auc_2: 0.8647 - val_loss: 0.3506 - val_binary_accuracy: 0.8511 - val_recall_2: 0.3722 - val_precision_2: 0.7614 - val_auc_2: 0.8560\nEpoch 17/200\n113/113 [==============================] - 0s 3ms/step - loss: 0.3195 - binary_accuracy: 0.8700 - recall_2: 0.4241 - precision_2: 0.8084 - auc_2: 0.8613 - val_loss: 0.3457 - val_binary_accuracy: 0.8522 - val_recall_2: 0.4167 - val_precision_2: 0.7282 - val_auc_2: 0.8578\nEpoch 18/200\n113/113 [==============================] - 0s 3ms/step - loss: 0.3373 - binary_accuracy: 0.8610 - recall_2: 0.4467 - precision_2: 0.8063 - auc_2: 0.8658 - val_loss: 0.3471 - val_binary_accuracy: 0.8544 - val_recall_2: 0.3611 - val_precision_2: 0.8025 - val_auc_2: 0.8618\nEpoch 19/200\n113/113 [==============================] - 0s 3ms/step - loss: 0.3152 - binary_accuracy: 0.8707 - recall_2: 0.4974 - precision_2: 0.8026 - auc_2: 0.8796 - val_loss: 0.3504 - val_binary_accuracy: 0.8489 - val_recall_2: 0.3333 - val_precision_2: 0.7895 - val_auc_2: 0.8599\nEpoch 20/200\n113/113 [==============================] - 0s 3ms/step - loss: 0.3250 - binary_accuracy: 0.8706 - recall_2: 0.4928 - precision_2: 0.8322 - auc_2: 0.8713 - val_loss: 0.3394 - val_binary_accuracy: 0.8556 - val_recall_2: 0.3944 - val_precision_2: 0.7717 - val_auc_2: 0.8635\nEpoch 21/200\n113/113 [==============================] - 0s 3ms/step - loss: 0.2984 - binary_accuracy: 0.8805 - recall_2: 0.4831 - precision_2: 0.8350 - auc_2: 0.8902 - val_loss: 0.3371 - val_binary_accuracy: 0.8600 - val_recall_2: 0.4278 - val_precision_2: 0.7700 - val_auc_2: 0.8642\nEpoch 22/200\n113/113 [==============================] - 0s 3ms/step - loss: 0.3022 - binary_accuracy: 0.8872 - recall_2: 0.5179 - precision_2: 0.8537 - auc_2: 0.8818 - val_loss: 0.3356 - val_binary_accuracy: 0.8600 - val_recall_2: 0.4444 - val_precision_2: 0.7547 - val_auc_2: 0.8668\nEpoch 23/200\n113/113 [==============================] - 0s 3ms/step - loss: 0.3083 - binary_accuracy: 0.8702 - recall_2: 0.4609 - precision_2: 0.8317 - auc_2: 0.8860 - val_loss: 0.3336 - val_binary_accuracy: 0.8656 - val_recall_2: 0.5111 - val_precision_2: 0.7360 - val_auc_2: 0.8698\nEpoch 24/200\n113/113 [==============================] - 0s 3ms/step - loss: 0.2917 - binary_accuracy: 0.8816 - recall_2: 0.5121 - precision_2: 0.8309 - auc_2: 0.8961 - val_loss: 0.3283 - val_binary_accuracy: 0.8611 - val_recall_2: 0.4333 - val_precision_2: 0.7723 - val_auc_2: 0.8710\nEpoch 25/200\n113/113 [==============================] - 0s 3ms/step - loss: 0.2906 - binary_accuracy: 0.8870 - recall_2: 0.5126 - precision_2: 0.8538 - auc_2: 0.8954 - val_loss: 0.3351 - val_binary_accuracy: 0.8689 - val_recall_2: 0.5556 - val_precision_2: 0.7246 - val_auc_2: 0.8653\nEpoch 26/200\n113/113 [==============================] - 0s 4ms/step - loss: 0.2971 - binary_accuracy: 0.8869 - recall_2: 0.5360 - precision_2: 0.8648 - auc_2: 0.8911 - val_loss: 0.3261 - val_binary_accuracy: 0.8644 - val_recall_2: 0.5000 - val_precision_2: 0.7377 - val_auc_2: 0.8741\nEpoch 27/200\n113/113 [==============================] - 0s 3ms/step - loss: 0.2910 - binary_accuracy: 0.8869 - recall_2: 0.5136 - precision_2: 0.8401 - auc_2: 0.8904 - val_loss: 0.3305 - val_binary_accuracy: 0.8633 - val_recall_2: 0.4778 - val_precision_2: 0.7478 - val_auc_2: 0.8678\nEpoch 28/200\n113/113 [==============================] - 0s 3ms/step - loss: 0.2933 - binary_accuracy: 0.8901 - recall_2: 0.5350 - precision_2: 0.8569 - auc_2: 0.8896 - val_loss: 0.3211 - val_binary_accuracy: 0.8600 - val_recall_2: 0.4222 - val_precision_2: 0.7755 - val_auc_2: 0.8788\nEpoch 29/200\n113/113 [==============================] - 0s 3ms/step - loss: 0.2924 - binary_accuracy: 0.8870 - recall_2: 0.5236 - precision_2: 0.8599 - auc_2: 0.8904 - val_loss: 0.3235 - val_binary_accuracy: 0.8567 - val_recall_2: 0.4111 - val_precision_2: 0.7629 - val_auc_2: 0.8759\nEpoch 30/200\n113/113 [==============================] - 0s 3ms/step - loss: 0.2833 - binary_accuracy: 0.8913 - recall_2: 0.5382 - precision_2: 0.8768 - auc_2: 0.9019 - val_loss: 0.3219 - val_binary_accuracy: 0.8744 - val_recall_2: 0.5167 - val_precision_2: 0.7815 - val_auc_2: 0.8735\nEpoch 31/200\n113/113 [==============================] - 0s 3ms/step - loss: 0.2792 - binary_accuracy: 0.8973 - recall_2: 0.5766 - precision_2: 0.8816 - auc_2: 0.9043 - val_loss: 0.3162 - val_binary_accuracy: 0.8700 - val_recall_2: 0.4833 - val_precision_2: 0.7838 - val_auc_2: 0.8819\nEpoch 32/200\n113/113 [==============================] - 0s 3ms/step - loss: 0.2858 - binary_accuracy: 0.8885 - recall_2: 0.5521 - precision_2: 0.8481 - auc_2: 0.8978 - val_loss: 0.3140 - val_binary_accuracy: 0.8644 - val_recall_2: 0.4444 - val_precision_2: 0.7843 - val_auc_2: 0.8859\nEpoch 33/200\n113/113 [==============================] - 0s 3ms/step - loss: 0.2776 - binary_accuracy: 0.8923 - recall_2: 0.5056 - precision_2: 0.8656 - auc_2: 0.8971 - val_loss: 0.3191 - val_binary_accuracy: 0.8600 - val_recall_2: 0.4056 - val_precision_2: 0.7935 - val_auc_2: 0.8800\nEpoch 34/200\n113/113 [==============================] - 0s 3ms/step - loss: 0.2681 - binary_accuracy: 0.9002 - recall_2: 0.5633 - precision_2: 0.8931 - auc_2: 0.9057 - val_loss: 0.3119 - val_binary_accuracy: 0.8722 - val_recall_2: 0.4778 - val_precision_2: 0.8037 - val_auc_2: 0.8847\nEpoch 35/200\n113/113 [==============================] - 0s 3ms/step - loss: 0.2781 - binary_accuracy: 0.8948 - recall_2: 0.5839 - precision_2: 0.8584 - auc_2: 0.9038 - val_loss: 0.3164 - val_binary_accuracy: 0.8744 - val_recall_2: 0.5556 - val_precision_2: 0.7519 - val_auc_2: 0.8800\nEpoch 36/200\n113/113 [==============================] - 0s 3ms/step - loss: 0.2765 - binary_accuracy: 0.8919 - recall_2: 0.5773 - precision_2: 0.8416 - auc_2: 0.9065 - val_loss: 0.3073 - val_binary_accuracy: 0.8756 - val_recall_2: 0.5111 - val_precision_2: 0.7931 - val_auc_2: 0.8877\nEpoch 37/200\n113/113 [==============================] - 0s 3ms/step - loss: 0.2581 - binary_accuracy: 0.9015 - recall_2: 0.5763 - precision_2: 0.8881 - auc_2: 0.9154 - val_loss: 0.3093 - val_binary_accuracy: 0.8789 - val_recall_2: 0.5500 - val_precision_2: 0.7795 - val_auc_2: 0.8859\nEpoch 38/200\n113/113 [==============================] - 0s 3ms/step - loss: 0.2549 - binary_accuracy: 0.9019 - recall_2: 0.5934 - precision_2: 0.8788 - auc_2: 0.9188 - val_loss: 0.3157 - val_binary_accuracy: 0.8733 - val_recall_2: 0.4333 - val_precision_2: 0.8667 - val_auc_2: 0.8855\nEpoch 39/200\n113/113 [==============================] - 0s 3ms/step - loss: 0.2675 - binary_accuracy: 0.8981 - recall_2: 0.5643 - precision_2: 0.8856 - auc_2: 0.9095 - val_loss: 0.3054 - val_binary_accuracy: 0.8744 - val_recall_2: 0.5056 - val_precision_2: 0.7913 - val_auc_2: 0.8884\nEpoch 40/200\n113/113 [==============================] - 0s 4ms/step - loss: 0.2732 - binary_accuracy: 0.8952 - recall_2: 0.5676 - precision_2: 0.8694 - auc_2: 0.9047 - val_loss: 0.3005 - val_binary_accuracy: 0.8833 - val_recall_2: 0.5444 - val_precision_2: 0.8099 - val_auc_2: 0.8912\nEpoch 41/200\n113/113 [==============================] - 0s 3ms/step - loss: 0.2599 - binary_accuracy: 0.9027 - recall_2: 0.5934 - precision_2: 0.8827 - auc_2: 0.9170 - val_loss: 0.3003 - val_binary_accuracy: 0.8789 - val_recall_2: 0.5278 - val_precision_2: 0.7983 - val_auc_2: 0.8928\nEpoch 42/200\n113/113 [==============================] - 0s 4ms/step - loss: 0.2794 - binary_accuracy: 0.8933 - recall_2: 0.5817 - precision_2: 0.8572 - auc_2: 0.9030 - val_loss: 0.3117 - val_binary_accuracy: 0.8833 - val_recall_2: 0.6111 - val_precision_2: 0.7586 - val_auc_2: 0.8859\nEpoch 43/200\n113/113 [==============================] - 0s 4ms/step - loss: 0.2647 - binary_accuracy: 0.9026 - recall_2: 0.6117 - precision_2: 0.8810 - auc_2: 0.9169 - val_loss: 0.3074 - val_binary_accuracy: 0.8822 - val_recall_2: 0.5889 - val_precision_2: 0.7681 - val_auc_2: 0.8859\nEpoch 44/200\n113/113 [==============================] - 0s 3ms/step - loss: 0.2520 - binary_accuracy: 0.9086 - recall_2: 0.6238 - precision_2: 0.8908 - auc_2: 0.9190 - val_loss: 0.3021 - val_binary_accuracy: 0.8789 - val_recall_2: 0.4944 - val_precision_2: 0.8318 - val_auc_2: 0.8914\nEpoch 45/200\n113/113 [==============================] - 0s 4ms/step - loss: 0.2523 - binary_accuracy: 0.9062 - recall_2: 0.6100 - precision_2: 0.8799 - auc_2: 0.9209 - val_loss: 0.3004 - val_binary_accuracy: 0.8844 - val_recall_2: 0.5722 - val_precision_2: 0.7923 - val_auc_2: 0.8894\nEpoch 46/200\n113/113 [==============================] - 0s 3ms/step - loss: 0.2573 - binary_accuracy: 0.9033 - recall_2: 0.6266 - precision_2: 0.8711 - auc_2: 0.9175 - val_loss: 0.3106 - val_binary_accuracy: 0.8711 - val_recall_2: 0.4278 - val_precision_2: 0.8556 - val_auc_2: 0.8937\nEpoch 47/200\n113/113 [==============================] - 0s 3ms/step - loss: 0.2551 - binary_accuracy: 0.9055 - recall_2: 0.5893 - precision_2: 0.9171 - auc_2: 0.9196 - val_loss: 0.3167 - val_binary_accuracy: 0.8789 - val_recall_2: 0.6444 - val_precision_2: 0.7205 - val_auc_2: 0.8880\nEpoch 48/200\n113/113 [==============================] - 0s 3ms/step - loss: 0.2453 - binary_accuracy: 0.9106 - recall_2: 0.6496 - precision_2: 0.8749 - auc_2: 0.9272 - val_loss: 0.3019 - val_binary_accuracy: 0.8878 - val_recall_2: 0.6111 - val_precision_2: 0.7801 - val_auc_2: 0.8894\nEpoch 49/200\n113/113 [==============================] - 0s 3ms/step - loss: 0.2379 - binary_accuracy: 0.9154 - recall_2: 0.6174 - precision_2: 0.9027 - auc_2: 0.9208 - val_loss: 0.3043 - val_binary_accuracy: 0.8756 - val_recall_2: 0.4667 - val_precision_2: 0.8400 - val_auc_2: 0.8923\nEpoch 50/200\n113/113 [==============================] - 0s 3ms/step - loss: 0.2442 - binary_accuracy: 0.9122 - recall_2: 0.6344 - precision_2: 0.9105 - auc_2: 0.9241 - val_loss: 0.2957 - val_binary_accuracy: 0.8867 - val_recall_2: 0.5389 - val_precision_2: 0.8362 - val_auc_2: 0.8944\nEpoch 51/200\n113/113 [==============================] - 0s 3ms/step - loss: 0.2331 - binary_accuracy: 0.9095 - recall_2: 0.6027 - precision_2: 0.9014 - auc_2: 0.9335 - val_loss: 0.2954 - val_binary_accuracy: 0.8900 - val_recall_2: 0.5389 - val_precision_2: 0.8584 - val_auc_2: 0.8932\nEpoch 52/200\n113/113 [==============================] - 0s 3ms/step - loss: 0.2350 - binary_accuracy: 0.9142 - recall_2: 0.6397 - precision_2: 0.9057 - auc_2: 0.9304 - val_loss: 0.2938 - val_binary_accuracy: 0.8878 - val_recall_2: 0.5611 - val_precision_2: 0.8211 - val_auc_2: 0.8950\nEpoch 53/200\n113/113 [==============================] - 0s 4ms/step - loss: 0.2529 - binary_accuracy: 0.8999 - recall_2: 0.6163 - precision_2: 0.8695 - auc_2: 0.9247 - val_loss: 0.2941 - val_binary_accuracy: 0.8889 - val_recall_2: 0.5444 - val_precision_2: 0.8448 - val_auc_2: 0.8962\nEpoch 54/200\n113/113 [==============================] - 0s 3ms/step - loss: 0.2323 - binary_accuracy: 0.9067 - recall_2: 0.6093 - precision_2: 0.8852 - auc_2: 0.9345 - val_loss: 0.2962 - val_binary_accuracy: 0.8911 - val_recall_2: 0.5667 - val_precision_2: 0.8361 - val_auc_2: 0.8943\nEpoch 55/200\n113/113 [==============================] - 0s 3ms/step - loss: 0.2286 - binary_accuracy: 0.9148 - recall_2: 0.6491 - precision_2: 0.9091 - auc_2: 0.9371 - val_loss: 0.2954 - val_binary_accuracy: 0.8900 - val_recall_2: 0.5444 - val_precision_2: 0.8522 - val_auc_2: 0.8961\nEpoch 56/200\n113/113 [==============================] - 0s 3ms/step - loss: 0.2452 - binary_accuracy: 0.9033 - recall_2: 0.6125 - precision_2: 0.8776 - auc_2: 0.9278 - val_loss: 0.3005 - val_binary_accuracy: 0.8811 - val_recall_2: 0.6167 - val_precision_2: 0.7450 - val_auc_2: 0.8926\nEpoch 57/200\n113/113 [==============================] - 0s 3ms/step - loss: 0.2502 - binary_accuracy: 0.9087 - recall_2: 0.6333 - precision_2: 0.8938 - auc_2: 0.9191 - val_loss: 0.2899 - val_binary_accuracy: 0.8889 - val_recall_2: 0.5833 - val_precision_2: 0.8077 - val_auc_2: 0.8935\nEpoch 58/200\n113/113 [==============================] - 0s 3ms/step - loss: 0.2277 - binary_accuracy: 0.9113 - recall_2: 0.6373 - precision_2: 0.8826 - auc_2: 0.9326 - val_loss: 0.2835 - val_binary_accuracy: 0.8944 - val_recall_2: 0.5944 - val_precision_2: 0.8295 - val_auc_2: 0.9004\nEpoch 59/200\n113/113 [==============================] - 0s 3ms/step - loss: 0.2289 - binary_accuracy: 0.9152 - recall_2: 0.6538 - precision_2: 0.9156 - auc_2: 0.9367 - val_loss: 0.2904 - val_binary_accuracy: 0.8933 - val_recall_2: 0.5500 - val_precision_2: 0.8684 - val_auc_2: 0.8945\nEpoch 60/200\n113/113 [==============================] - 0s 3ms/step - loss: 0.2194 - binary_accuracy: 0.9193 - recall_2: 0.6734 - precision_2: 0.8977 - auc_2: 0.9359 - val_loss: 0.3003 - val_binary_accuracy: 0.8789 - val_recall_2: 0.6556 - val_precision_2: 0.7152 - val_auc_2: 0.8970\nEpoch 61/200\n113/113 [==============================] - 0s 4ms/step - loss: 0.2311 - binary_accuracy: 0.9158 - recall_2: 0.6618 - precision_2: 0.8878 - auc_2: 0.9346 - val_loss: 0.2934 - val_binary_accuracy: 0.8856 - val_recall_2: 0.5167 - val_precision_2: 0.8532 - val_auc_2: 0.8993\nEpoch 62/200\n113/113 [==============================] - 0s 3ms/step - loss: 0.2306 - binary_accuracy: 0.9106 - recall_2: 0.6264 - precision_2: 0.8767 - auc_2: 0.9312 - val_loss: 0.2891 - val_binary_accuracy: 0.8911 - val_recall_2: 0.5722 - val_precision_2: 0.8306 - val_auc_2: 0.8957\nEpoch 63/200\n113/113 [==============================] - 0s 3ms/step - loss: 0.2317 - binary_accuracy: 0.9118 - recall_2: 0.6479 - precision_2: 0.8774 - auc_2: 0.9319 - val_loss: 0.2916 - val_binary_accuracy: 0.8900 - val_recall_2: 0.5778 - val_precision_2: 0.8189 - val_auc_2: 0.8933\nEpoch 64/200\n113/113 [==============================] - 1s 5ms/step - loss: 0.2310 - binary_accuracy: 0.9195 - recall_2: 0.6585 - precision_2: 0.9093 - auc_2: 0.9273 - val_loss: 0.2813 - val_binary_accuracy: 0.8989 - val_recall_2: 0.6222 - val_precision_2: 0.8296 - val_auc_2: 0.9042\nEpoch 65/200\n113/113 [==============================] - 0s 3ms/step - loss: 0.2158 - binary_accuracy: 0.9217 - recall_2: 0.6565 - precision_2: 0.9208 - auc_2: 0.9383 - val_loss: 0.2828 - val_binary_accuracy: 0.8967 - val_recall_2: 0.5778 - val_precision_2: 0.8595 - val_auc_2: 0.9011\nEpoch 66/200\n113/113 [==============================] - 0s 4ms/step - loss: 0.2194 - binary_accuracy: 0.9177 - recall_2: 0.6651 - precision_2: 0.9129 - auc_2: 0.9404 - val_loss: 0.2844 - val_binary_accuracy: 0.8922 - val_recall_2: 0.5833 - val_precision_2: 0.8268 - val_auc_2: 0.8995\nEpoch 67/200\n113/113 [==============================] - 0s 4ms/step - loss: 0.2164 - binary_accuracy: 0.9228 - recall_2: 0.6744 - precision_2: 0.9227 - auc_2: 0.9423 - val_loss: 0.2811 - val_binary_accuracy: 0.8956 - val_recall_2: 0.5778 - val_precision_2: 0.8525 - val_auc_2: 0.8997\nEpoch 68/200\n113/113 [==============================] - 0s 4ms/step - loss: 0.2340 - binary_accuracy: 0.9088 - recall_2: 0.6391 - precision_2: 0.8943 - auc_2: 0.9351 - val_loss: 0.2935 - val_binary_accuracy: 0.8900 - val_recall_2: 0.5389 - val_precision_2: 0.8584 - val_auc_2: 0.8978\nEpoch 69/200\n113/113 [==============================] - 0s 4ms/step - loss: 0.2415 - binary_accuracy: 0.9109 - recall_2: 0.6177 - precision_2: 0.9184 - auc_2: 0.9269 - val_loss: 0.2857 - val_binary_accuracy: 0.8933 - val_recall_2: 0.5833 - val_precision_2: 0.8333 - val_auc_2: 0.8969\nEpoch 70/200\n113/113 [==============================] - 0s 3ms/step - loss: 0.2243 - binary_accuracy: 0.9179 - recall_2: 0.6793 - precision_2: 0.8910 - auc_2: 0.9371 - val_loss: 0.2890 - val_binary_accuracy: 0.8967 - val_recall_2: 0.6000 - val_precision_2: 0.8372 - val_auc_2: 0.8957\nEpoch 71/200\n113/113 [==============================] - 0s 3ms/step - loss: 0.2215 - binary_accuracy: 0.9159 - recall_2: 0.6527 - precision_2: 0.9102 - auc_2: 0.9385 - val_loss: 0.2785 - val_binary_accuracy: 0.8889 - val_recall_2: 0.5611 - val_precision_2: 0.8279 - val_auc_2: 0.9035\nEpoch 72/200\n113/113 [==============================] - 0s 3ms/step - loss: 0.2004 - binary_accuracy: 0.9259 - recall_2: 0.6617 - precision_2: 0.9372 - auc_2: 0.9449 - val_loss: 0.2916 - val_binary_accuracy: 0.8878 - val_recall_2: 0.5944 - val_precision_2: 0.7926 - val_auc_2: 0.8913\nEpoch 73/200\n113/113 [==============================] - 0s 3ms/step - loss: 0.2152 - binary_accuracy: 0.9199 - recall_2: 0.6688 - precision_2: 0.9033 - auc_2: 0.9389 - val_loss: 0.2788 - val_binary_accuracy: 0.8967 - val_recall_2: 0.5778 - val_precision_2: 0.8595 - val_auc_2: 0.9069\nEpoch 74/200\n113/113 [==============================] - 0s 3ms/step - loss: 0.2080 - binary_accuracy: 0.9214 - recall_2: 0.6672 - precision_2: 0.9110 - auc_2: 0.9456 - val_loss: 0.2932 - val_binary_accuracy: 0.8867 - val_recall_2: 0.5389 - val_precision_2: 0.8362 - val_auc_2: 0.8972\nEpoch 75/200\n113/113 [==============================] - 0s 3ms/step - loss: 0.2052 - binary_accuracy: 0.9226 - recall_2: 0.6715 - precision_2: 0.9182 - auc_2: 0.9451 - val_loss: 0.2824 - val_binary_accuracy: 0.8933 - val_recall_2: 0.6167 - val_precision_2: 0.8043 - val_auc_2: 0.8964\nEpoch 76/200\n113/113 [==============================] - 0s 3ms/step - loss: 0.2008 - binary_accuracy: 0.9300 - recall_2: 0.7061 - precision_2: 0.9216 - auc_2: 0.9471 - val_loss: 0.2853 - val_binary_accuracy: 0.8911 - val_recall_2: 0.5611 - val_precision_2: 0.8417 - val_auc_2: 0.8996\nEpoch 77/200\n113/113 [==============================] - 0s 4ms/step - loss: 0.2104 - binary_accuracy: 0.9223 - recall_2: 0.6896 - precision_2: 0.9097 - auc_2: 0.9468 - val_loss: 0.2750 - val_binary_accuracy: 0.9000 - val_recall_2: 0.6444 - val_precision_2: 0.8169 - val_auc_2: 0.9035\nEpoch 78/200\n113/113 [==============================] - 0s 3ms/step - loss: 0.1996 - binary_accuracy: 0.9206 - recall_2: 0.7006 - precision_2: 0.9127 - auc_2: 0.9543 - val_loss: 0.2801 - val_binary_accuracy: 0.8967 - val_recall_2: 0.5667 - val_precision_2: 0.8718 - val_auc_2: 0.8989\nEpoch 79/200\n113/113 [==============================] - 1s 6ms/step - loss: 0.2015 - binary_accuracy: 0.9321 - recall_2: 0.6968 - precision_2: 0.9559 - auc_2: 0.9467 - val_loss: 0.2887 - val_binary_accuracy: 0.8878 - val_recall_2: 0.5444 - val_precision_2: 0.8376 - val_auc_2: 0.8960\nEpoch 80/200\n113/113 [==============================] - 1s 5ms/step - loss: 0.2016 - binary_accuracy: 0.9243 - recall_2: 0.6880 - precision_2: 0.9212 - auc_2: 0.9487 - val_loss: 0.2725 - val_binary_accuracy: 0.8967 - val_recall_2: 0.6222 - val_precision_2: 0.8175 - val_auc_2: 0.9038\nEpoch 81/200\n113/113 [==============================] - 1s 5ms/step - loss: 0.2007 - binary_accuracy: 0.9235 - recall_2: 0.6906 - precision_2: 0.9012 - auc_2: 0.9499 - val_loss: 0.2833 - val_binary_accuracy: 0.9000 - val_recall_2: 0.5611 - val_precision_2: 0.9018 - val_auc_2: 0.8964\nEpoch 82/200\n113/113 [==============================] - 1s 5ms/step - loss: 0.1899 - binary_accuracy: 0.9288 - recall_2: 0.7000 - precision_2: 0.9210 - auc_2: 0.9547 - val_loss: 0.2716 - val_binary_accuracy: 0.8967 - val_recall_2: 0.6111 - val_precision_2: 0.8271 - val_auc_2: 0.9055\nEpoch 83/200\n113/113 [==============================] - 0s 4ms/step - loss: 0.2026 - binary_accuracy: 0.9276 - recall_2: 0.6889 - precision_2: 0.9310 - auc_2: 0.9477 - val_loss: 0.3258 - val_binary_accuracy: 0.8856 - val_recall_2: 0.4444 - val_precision_2: 0.9639 - val_auc_2: 0.9021\nEpoch 84/200\n113/113 [==============================] - 1s 5ms/step - loss: 0.2063 - binary_accuracy: 0.9250 - recall_2: 0.6880 - precision_2: 0.9276 - auc_2: 0.9445 - val_loss: 0.2753 - val_binary_accuracy: 0.8967 - val_recall_2: 0.5833 - val_precision_2: 0.8537 - val_auc_2: 0.9056\nEpoch 85/200\n113/113 [==============================] - 0s 3ms/step - loss: 0.1928 - binary_accuracy: 0.9267 - recall_2: 0.6946 - precision_2: 0.9133 - auc_2: 0.9528 - val_loss: 0.2770 - val_binary_accuracy: 0.8933 - val_recall_2: 0.5944 - val_precision_2: 0.8231 - val_auc_2: 0.9016\nEpoch 86/200\n113/113 [==============================] - 0s 3ms/step - loss: 0.1931 - binary_accuracy: 0.9253 - recall_2: 0.6952 - precision_2: 0.9350 - auc_2: 0.9564 - val_loss: 0.2713 - val_binary_accuracy: 0.8967 - val_recall_2: 0.5722 - val_precision_2: 0.8655 - val_auc_2: 0.9060\nEpoch 87/200\n113/113 [==============================] - 0s 3ms/step - loss: 0.1970 - binary_accuracy: 0.9298 - recall_2: 0.6948 - precision_2: 0.9325 - auc_2: 0.9486 - val_loss: 0.2693 - val_binary_accuracy: 0.9033 - val_recall_2: 0.6111 - val_precision_2: 0.8661 - val_auc_2: 0.9049\nEpoch 88/200\n113/113 [==============================] - 0s 3ms/step - loss: 0.1958 - binary_accuracy: 0.9279 - recall_2: 0.7069 - precision_2: 0.9325 - auc_2: 0.9538 - val_loss: 0.2931 - val_binary_accuracy: 0.8933 - val_recall_2: 0.5056 - val_precision_2: 0.9286 - val_auc_2: 0.9037\nEpoch 89/200\n113/113 [==============================] - 0s 3ms/step - loss: 0.1947 - binary_accuracy: 0.9291 - recall_2: 0.6836 - precision_2: 0.9479 - auc_2: 0.9517 - val_loss: 0.2704 - val_binary_accuracy: 0.9056 - val_recall_2: 0.6222 - val_precision_2: 0.8682 - val_auc_2: 0.9041\nEpoch 90/200\n113/113 [==============================] - 1s 6ms/step - loss: 0.1943 - binary_accuracy: 0.9362 - recall_2: 0.7087 - precision_2: 0.9366 - auc_2: 0.9440 - val_loss: 0.2717 - val_binary_accuracy: 0.9067 - val_recall_2: 0.6333 - val_precision_2: 0.8636 - val_auc_2: 0.9033\nEpoch 91/200\n113/113 [==============================] - 1s 7ms/step - loss: 0.1865 - binary_accuracy: 0.9281 - recall_2: 0.7332 - precision_2: 0.8888 - auc_2: 0.9566 - val_loss: 0.2678 - val_binary_accuracy: 0.8978 - val_recall_2: 0.6000 - val_precision_2: 0.8438 - val_auc_2: 0.9076\nEpoch 92/200\n113/113 [==============================] - 1s 6ms/step - loss: 0.1848 - binary_accuracy: 0.9289 - recall_2: 0.7002 - precision_2: 0.9245 - auc_2: 0.9588 - val_loss: 0.2767 - val_binary_accuracy: 0.9022 - val_recall_2: 0.6167 - val_precision_2: 0.8538 - val_auc_2: 0.8963\nEpoch 93/200\n113/113 [==============================] - 1s 5ms/step - loss: 0.1771 - binary_accuracy: 0.9377 - recall_2: 0.7531 - precision_2: 0.9300 - auc_2: 0.9589 - val_loss: 0.2896 - val_binary_accuracy: 0.9011 - val_recall_2: 0.5500 - val_precision_2: 0.9252 - val_auc_2: 0.8933\nEpoch 94/200\n113/113 [==============================] - 1s 4ms/step - loss: 0.1965 - binary_accuracy: 0.9353 - recall_2: 0.7139 - precision_2: 0.9587 - auc_2: 0.9485 - val_loss: 0.2751 - val_binary_accuracy: 0.9056 - val_recall_2: 0.5778 - val_precision_2: 0.9204 - val_auc_2: 0.9073\nEpoch 95/200\n113/113 [==============================] - 1s 6ms/step - loss: 0.1828 - binary_accuracy: 0.9352 - recall_2: 0.7319 - precision_2: 0.9379 - auc_2: 0.9578 - val_loss: 0.2712 - val_binary_accuracy: 0.9022 - val_recall_2: 0.5944 - val_precision_2: 0.8770 - val_auc_2: 0.9024\nEpoch 96/200\n113/113 [==============================] - 1s 5ms/step - loss: 0.1754 - binary_accuracy: 0.9347 - recall_2: 0.7329 - precision_2: 0.9295 - auc_2: 0.9618 - val_loss: 0.2729 - val_binary_accuracy: 0.9044 - val_recall_2: 0.6000 - val_precision_2: 0.8852 - val_auc_2: 0.9059\nEpoch 97/200\n113/113 [==============================] - 1s 5ms/step - loss: 0.1822 - binary_accuracy: 0.9322 - recall_2: 0.7211 - precision_2: 0.9371 - auc_2: 0.9600 - val_loss: 0.2655 - val_binary_accuracy: 0.9078 - val_recall_2: 0.6000 - val_precision_2: 0.9076 - val_auc_2: 0.9080\nEpoch 98/200\n113/113 [==============================] - 1s 7ms/step - loss: 0.1841 - binary_accuracy: 0.9314 - recall_2: 0.7229 - precision_2: 0.9445 - auc_2: 0.9606 - val_loss: 0.2985 - val_binary_accuracy: 0.8911 - val_recall_2: 0.4722 - val_precision_2: 0.9659 - val_auc_2: 0.9089\nEpoch 99/200\n113/113 [==============================] - 1s 5ms/step - loss: 0.1858 - binary_accuracy: 0.9325 - recall_2: 0.7226 - precision_2: 0.9388 - auc_2: 0.9577 - val_loss: 0.2677 - val_binary_accuracy: 0.9011 - val_recall_2: 0.5944 - val_precision_2: 0.8699 - val_auc_2: 0.9084\nEpoch 100/200\n113/113 [==============================] - 1s 5ms/step - loss: 0.1731 - binary_accuracy: 0.9348 - recall_2: 0.7356 - precision_2: 0.9274 - auc_2: 0.9633 - val_loss: 0.2780 - val_binary_accuracy: 0.8978 - val_recall_2: 0.5778 - val_precision_2: 0.8667 - val_auc_2: 0.9014\nEpoch 101/200\n113/113 [==============================] - 1s 6ms/step - loss: 0.1868 - binary_accuracy: 0.9293 - recall_2: 0.7116 - precision_2: 0.9211 - auc_2: 0.9566 - val_loss: 0.2749 - val_binary_accuracy: 0.9078 - val_recall_2: 0.5833 - val_precision_2: 0.9292 - val_auc_2: 0.9071\nEpoch 102/200\n113/113 [==============================] - 1s 5ms/step - loss: 0.1835 - binary_accuracy: 0.9295 - recall_2: 0.6919 - precision_2: 0.9089 - auc_2: 0.9567 - val_loss: 0.2854 - val_binary_accuracy: 0.8933 - val_recall_2: 0.5000 - val_precision_2: 0.9375 - val_auc_2: 0.9092\nEpoch 103/200\n113/113 [==============================] - 1s 6ms/step - loss: 0.1791 - binary_accuracy: 0.9328 - recall_2: 0.6949 - precision_2: 0.9447 - auc_2: 0.9583 - val_loss: 0.2757 - val_binary_accuracy: 0.9078 - val_recall_2: 0.5833 - val_precision_2: 0.9292 - val_auc_2: 0.9032\nEpoch 104/200\n113/113 [==============================] - 1s 6ms/step - loss: 0.1787 - binary_accuracy: 0.9364 - recall_2: 0.7290 - precision_2: 0.9475 - auc_2: 0.9596 - val_loss: 0.2608 - val_binary_accuracy: 0.9033 - val_recall_2: 0.6556 - val_precision_2: 0.8252 - val_auc_2: 0.9109\nEpoch 105/200\n113/113 [==============================] - 1s 5ms/step - loss: 0.1839 - binary_accuracy: 0.9321 - recall_2: 0.7422 - precision_2: 0.9171 - auc_2: 0.9604 - val_loss: 0.2805 - val_binary_accuracy: 0.9022 - val_recall_2: 0.5278 - val_precision_2: 0.9694 - val_auc_2: 0.9086\nEpoch 106/200\n113/113 [==============================] - 1s 6ms/step - loss: 0.1767 - binary_accuracy: 0.9298 - recall_2: 0.7121 - precision_2: 0.9490 - auc_2: 0.9670 - val_loss: 0.2838 - val_binary_accuracy: 0.9078 - val_recall_2: 0.5722 - val_precision_2: 0.9450 - val_auc_2: 0.9009\nEpoch 107/200\n113/113 [==============================] - 1s 6ms/step - loss: 0.1771 - binary_accuracy: 0.9366 - recall_2: 0.7252 - precision_2: 0.9498 - auc_2: 0.9620 - val_loss: 0.2656 - val_binary_accuracy: 0.9133 - val_recall_2: 0.6167 - val_precision_2: 0.9250 - val_auc_2: 0.9089\nEpoch 108/200\n113/113 [==============================] - 1s 6ms/step - loss: 0.1729 - binary_accuracy: 0.9337 - recall_2: 0.7342 - precision_2: 0.9322 - auc_2: 0.9636 - val_loss: 0.2675 - val_binary_accuracy: 0.9089 - val_recall_2: 0.6167 - val_precision_2: 0.8952 - val_auc_2: 0.9054\nEpoch 109/200\n113/113 [==============================] - 1s 6ms/step - loss: 0.1589 - binary_accuracy: 0.9434 - recall_2: 0.7637 - precision_2: 0.9467 - auc_2: 0.9677 - val_loss: 0.2562 - val_binary_accuracy: 0.9156 - val_recall_2: 0.6778 - val_precision_2: 0.8714 - val_auc_2: 0.9101\nEpoch 110/200\n113/113 [==============================] - 1s 5ms/step - loss: 0.1634 - binary_accuracy: 0.9422 - recall_2: 0.7429 - precision_2: 0.9445 - auc_2: 0.9655 - val_loss: 0.2601 - val_binary_accuracy: 0.9089 - val_recall_2: 0.6222 - val_precision_2: 0.8889 - val_auc_2: 0.9112\nEpoch 111/200\n113/113 [==============================] - 1s 6ms/step - loss: 0.1736 - binary_accuracy: 0.9391 - recall_2: 0.7503 - precision_2: 0.9442 - auc_2: 0.9583 - val_loss: 0.2767 - val_binary_accuracy: 0.9111 - val_recall_2: 0.5889 - val_precision_2: 0.9464 - val_auc_2: 0.9075\nEpoch 112/200\n113/113 [==============================] - 1s 6ms/step - loss: 0.1828 - binary_accuracy: 0.9357 - recall_2: 0.7340 - precision_2: 0.9486 - auc_2: 0.9587 - val_loss: 0.2561 - val_binary_accuracy: 0.9100 - val_recall_2: 0.6500 - val_precision_2: 0.8667 - val_auc_2: 0.9140\nEpoch 113/200\n113/113 [==============================] - 1s 6ms/step - loss: 0.1643 - binary_accuracy: 0.9406 - recall_2: 0.7603 - precision_2: 0.9346 - auc_2: 0.9650 - val_loss: 0.2748 - val_binary_accuracy: 0.8967 - val_recall_2: 0.5889 - val_precision_2: 0.8480 - val_auc_2: 0.9064\nEpoch 114/200\n113/113 [==============================] - 1s 5ms/step - loss: 0.1652 - binary_accuracy: 0.9443 - recall_2: 0.7716 - precision_2: 0.9386 - auc_2: 0.9637 - val_loss: 0.2629 - val_binary_accuracy: 0.9111 - val_recall_2: 0.6056 - val_precision_2: 0.9237 - val_auc_2: 0.9098\nEpoch 115/200\n113/113 [==============================] - 1s 5ms/step - loss: 0.1654 - binary_accuracy: 0.9416 - recall_2: 0.7440 - precision_2: 0.9572 - auc_2: 0.9635 - val_loss: 0.2566 - val_binary_accuracy: 0.9178 - val_recall_2: 0.6556 - val_precision_2: 0.9077 - val_auc_2: 0.9136\nEpoch 116/200\n113/113 [==============================] - 1s 5ms/step - loss: 0.1616 - binary_accuracy: 0.9450 - recall_2: 0.7630 - precision_2: 0.9501 - auc_2: 0.9651 - val_loss: 0.2716 - val_binary_accuracy: 0.9067 - val_recall_2: 0.7278 - val_precision_2: 0.7892 - val_auc_2: 0.9117\nEpoch 117/200\n113/113 [==============================] - 1s 5ms/step - loss: 0.1692 - binary_accuracy: 0.9430 - recall_2: 0.7614 - precision_2: 0.9517 - auc_2: 0.9616 - val_loss: 0.2708 - val_binary_accuracy: 0.9111 - val_recall_2: 0.6000 - val_precision_2: 0.9310 - val_auc_2: 0.9129\nEpoch 118/200\n113/113 [==============================] - 1s 6ms/step - loss: 0.1659 - binary_accuracy: 0.9399 - recall_2: 0.7360 - precision_2: 0.9519 - auc_2: 0.9641 - val_loss: 0.2707 - val_binary_accuracy: 0.9111 - val_recall_2: 0.5944 - val_precision_2: 0.9386 - val_auc_2: 0.9070\nEpoch 119/200\n113/113 [==============================] - 1s 7ms/step - loss: 0.1686 - binary_accuracy: 0.9407 - recall_2: 0.7389 - precision_2: 0.9657 - auc_2: 0.9635 - val_loss: 0.2653 - val_binary_accuracy: 0.9144 - val_recall_2: 0.6111 - val_precision_2: 0.9402 - val_auc_2: 0.9105\nEpoch 120/200\n113/113 [==============================] - 1s 5ms/step - loss: 0.1531 - binary_accuracy: 0.9481 - recall_2: 0.7842 - precision_2: 0.9494 - auc_2: 0.9694 - val_loss: 0.2544 - val_binary_accuracy: 0.9167 - val_recall_2: 0.6333 - val_precision_2: 0.9268 - val_auc_2: 0.9148\nEpoch 121/200\n113/113 [==============================] - 1s 6ms/step - loss: 0.1527 - binary_accuracy: 0.9481 - recall_2: 0.7788 - precision_2: 0.9527 - auc_2: 0.9698 - val_loss: 0.2761 - val_binary_accuracy: 0.9089 - val_recall_2: 0.5667 - val_precision_2: 0.9623 - val_auc_2: 0.9133\nEpoch 122/200\n113/113 [==============================] - 1s 5ms/step - loss: 0.1568 - binary_accuracy: 0.9433 - recall_2: 0.7562 - precision_2: 0.9582 - auc_2: 0.9696 - val_loss: 0.2617 - val_binary_accuracy: 0.9178 - val_recall_2: 0.6389 - val_precision_2: 0.9274 - val_auc_2: 0.9108\nEpoch 123/200\n113/113 [==============================] - 1s 5ms/step - loss: 0.1477 - binary_accuracy: 0.9481 - recall_2: 0.7721 - precision_2: 0.9574 - auc_2: 0.9711 - val_loss: 0.2634 - val_binary_accuracy: 0.9156 - val_recall_2: 0.6278 - val_precision_2: 0.9262 - val_auc_2: 0.9153\nEpoch 124/200\n113/113 [==============================] - 0s 3ms/step - loss: 0.1584 - binary_accuracy: 0.9431 - recall_2: 0.7464 - precision_2: 0.9494 - auc_2: 0.9658 - val_loss: 0.2698 - val_binary_accuracy: 0.9122 - val_recall_2: 0.6222 - val_precision_2: 0.9106 - val_auc_2: 0.9116\nEpoch 125/200\n113/113 [==============================] - 0s 3ms/step - loss: 0.1592 - binary_accuracy: 0.9460 - recall_2: 0.7713 - precision_2: 0.9605 - auc_2: 0.9702 - val_loss: 0.2595 - val_binary_accuracy: 0.9200 - val_recall_2: 0.6556 - val_precision_2: 0.9219 - val_auc_2: 0.9091\nEpoch 126/200\n113/113 [==============================] - 0s 3ms/step - loss: 0.1679 - binary_accuracy: 0.9443 - recall_2: 0.7710 - precision_2: 0.9569 - auc_2: 0.9640 - val_loss: 0.2779 - val_binary_accuracy: 0.9056 - val_recall_2: 0.5667 - val_precision_2: 0.9358 - val_auc_2: 0.9132\nEpoch 127/200\n113/113 [==============================] - 0s 3ms/step - loss: 0.1564 - binary_accuracy: 0.9466 - recall_2: 0.7850 - precision_2: 0.9506 - auc_2: 0.9698 - val_loss: 0.2509 - val_binary_accuracy: 0.9189 - val_recall_2: 0.6500 - val_precision_2: 0.9213 - val_auc_2: 0.9172\nEpoch 128/200\n113/113 [==============================] - 0s 3ms/step - loss: 0.1565 - binary_accuracy: 0.9433 - recall_2: 0.7507 - precision_2: 0.9488 - auc_2: 0.9675 - val_loss: 0.2628 - val_binary_accuracy: 0.9144 - val_recall_2: 0.6111 - val_precision_2: 0.9402 - val_auc_2: 0.9105\nEpoch 129/200\n113/113 [==============================] - 1s 5ms/step - loss: 0.1571 - binary_accuracy: 0.9428 - recall_2: 0.7527 - precision_2: 0.9459 - auc_2: 0.9686 - val_loss: 0.2725 - val_binary_accuracy: 0.9178 - val_recall_2: 0.6222 - val_precision_2: 0.9492 - val_auc_2: 0.9130\nEpoch 130/200\n113/113 [==============================] - 0s 3ms/step - loss: 0.1507 - binary_accuracy: 0.9474 - recall_2: 0.7792 - precision_2: 0.9533 - auc_2: 0.9735 - val_loss: 0.2825 - val_binary_accuracy: 0.9178 - val_recall_2: 0.6167 - val_precision_2: 0.9569 - val_auc_2: 0.9049\nEpoch 131/200\n113/113 [==============================] - 0s 3ms/step - loss: 0.1684 - binary_accuracy: 0.9408 - recall_2: 0.7732 - precision_2: 0.9343 - auc_2: 0.9650 - val_loss: 0.2585 - val_binary_accuracy: 0.9200 - val_recall_2: 0.6389 - val_precision_2: 0.9426 - val_auc_2: 0.9144\nEpoch 132/200\n113/113 [==============================] - 1s 5ms/step - loss: 0.1495 - binary_accuracy: 0.9439 - recall_2: 0.7510 - precision_2: 0.9620 - auc_2: 0.9738 - val_loss: 0.2600 - val_binary_accuracy: 0.9156 - val_recall_2: 0.7056 - val_precision_2: 0.8467 - val_auc_2: 0.9143\nEpoch 133/200\n113/113 [==============================] - 1s 6ms/step - loss: 0.1581 - binary_accuracy: 0.9437 - recall_2: 0.7750 - precision_2: 0.9378 - auc_2: 0.9681 - val_loss: 0.2621 - val_binary_accuracy: 0.9200 - val_recall_2: 0.6389 - val_precision_2: 0.9426 - val_auc_2: 0.9138\nEpoch 134/200\n113/113 [==============================] - 1s 9ms/step - loss: 0.1398 - binary_accuracy: 0.9518 - recall_2: 0.8036 - precision_2: 0.9599 - auc_2: 0.9763 - val_loss: 0.2641 - val_binary_accuracy: 0.9211 - val_recall_2: 0.6278 - val_precision_2: 0.9658 - val_auc_2: 0.9134\nEpoch 135/200\n113/113 [==============================] - 1s 5ms/step - loss: 0.1457 - binary_accuracy: 0.9471 - recall_2: 0.7762 - precision_2: 0.9601 - auc_2: 0.9768 - val_loss: 0.2709 - val_binary_accuracy: 0.9189 - val_recall_2: 0.6389 - val_precision_2: 0.9350 - val_auc_2: 0.9108\nEpoch 136/200\n113/113 [==============================] - 0s 3ms/step - loss: 0.1511 - binary_accuracy: 0.9493 - recall_2: 0.7856 - precision_2: 0.9594 - auc_2: 0.9717 - val_loss: 0.2782 - val_binary_accuracy: 0.9144 - val_recall_2: 0.6056 - val_precision_2: 0.9478 - val_auc_2: 0.9119\nEpoch 137/200\n113/113 [==============================] - 0s 4ms/step - loss: 0.1442 - binary_accuracy: 0.9543 - recall_2: 0.7963 - precision_2: 0.9667 - auc_2: 0.9724 - val_loss: 0.2511 - val_binary_accuracy: 0.9178 - val_recall_2: 0.6333 - val_precision_2: 0.9344 - val_auc_2: 0.9172\nEpoch 138/200\n113/113 [==============================] - 1s 4ms/step - loss: 0.1414 - binary_accuracy: 0.9534 - recall_2: 0.7905 - precision_2: 0.9735 - auc_2: 0.9749 - val_loss: 0.3024 - val_binary_accuracy: 0.9022 - val_recall_2: 0.5444 - val_precision_2: 0.9423 - val_auc_2: 0.9064\nEpoch 139/200\n113/113 [==============================] - 0s 3ms/step - loss: 0.1504 - binary_accuracy: 0.9480 - recall_2: 0.7879 - precision_2: 0.9506 - auc_2: 0.9714 - val_loss: 0.2742 - val_binary_accuracy: 0.9133 - val_recall_2: 0.6000 - val_precision_2: 0.9474 - val_auc_2: 0.9135\nEpoch 140/200\n113/113 [==============================] - 0s 3ms/step - loss: 0.1429 - binary_accuracy: 0.9479 - recall_2: 0.7699 - precision_2: 0.9639 - auc_2: 0.9742 - val_loss: 0.2814 - val_binary_accuracy: 0.9167 - val_recall_2: 0.6056 - val_precision_2: 0.9646 - val_auc_2: 0.9103\nEpoch 141/200\n113/113 [==============================] - 0s 3ms/step - loss: 0.1409 - binary_accuracy: 0.9509 - recall_2: 0.7803 - precision_2: 0.9707 - auc_2: 0.9757 - val_loss: 0.2516 - val_binary_accuracy: 0.9233 - val_recall_2: 0.6778 - val_precision_2: 0.9173 - val_auc_2: 0.9197\nEpoch 142/200\n113/113 [==============================] - 0s 4ms/step - loss: 0.1418 - binary_accuracy: 0.9511 - recall_2: 0.7943 - precision_2: 0.9507 - auc_2: 0.9736 - val_loss: 0.2553 - val_binary_accuracy: 0.9244 - val_recall_2: 0.7000 - val_precision_2: 0.9000 - val_auc_2: 0.9170\nEpoch 143/200\n113/113 [==============================] - 0s 4ms/step - loss: 0.1492 - binary_accuracy: 0.9448 - recall_2: 0.7714 - precision_2: 0.9492 - auc_2: 0.9724 - val_loss: 0.2690 - val_binary_accuracy: 0.9089 - val_recall_2: 0.6722 - val_precision_2: 0.8403 - val_auc_2: 0.9130\nEpoch 144/200\n113/113 [==============================] - 0s 3ms/step - loss: 0.1466 - binary_accuracy: 0.9491 - recall_2: 0.7889 - precision_2: 0.9410 - auc_2: 0.9688 - val_loss: 0.2543 - val_binary_accuracy: 0.9211 - val_recall_2: 0.6722 - val_precision_2: 0.9098 - val_auc_2: 0.9182\nEpoch 145/200\n113/113 [==============================] - 0s 3ms/step - loss: 0.1463 - binary_accuracy: 0.9509 - recall_2: 0.7852 - precision_2: 0.9688 - auc_2: 0.9731 - val_loss: 0.2584 - val_binary_accuracy: 0.9211 - val_recall_2: 0.6778 - val_precision_2: 0.9037 - val_auc_2: 0.9150\nEpoch 146/200\n113/113 [==============================] - 0s 3ms/step - loss: 0.1417 - binary_accuracy: 0.9503 - recall_2: 0.7790 - precision_2: 0.9626 - auc_2: 0.9742 - val_loss: 0.2812 - val_binary_accuracy: 0.9111 - val_recall_2: 0.6778 - val_precision_2: 0.8472 - val_auc_2: 0.9100\nEpoch 147/200\n113/113 [==============================] - 0s 4ms/step - loss: 0.1305 - binary_accuracy: 0.9555 - recall_2: 0.8219 - precision_2: 0.9437 - auc_2: 0.9758 - val_loss: 0.2895 - val_binary_accuracy: 0.9133 - val_recall_2: 0.5833 - val_precision_2: 0.9722 - val_auc_2: 0.9145\nEpoch 148/200\n113/113 [==============================] - 0s 3ms/step - loss: 0.1376 - binary_accuracy: 0.9492 - recall_2: 0.7820 - precision_2: 0.9562 - auc_2: 0.9770 - val_loss: 0.2652 - val_binary_accuracy: 0.9222 - val_recall_2: 0.6444 - val_precision_2: 0.9508 - val_auc_2: 0.9134\nEpoch 149/200\n113/113 [==============================] - 0s 3ms/step - loss: 0.1419 - binary_accuracy: 0.9536 - recall_2: 0.7996 - precision_2: 0.9634 - auc_2: 0.9733 - val_loss: 0.2578 - val_binary_accuracy: 0.9233 - val_recall_2: 0.6556 - val_precision_2: 0.9440 - val_auc_2: 0.9148\nEpoch 150/200\n113/113 [==============================] - 0s 3ms/step - loss: 0.1417 - binary_accuracy: 0.9530 - recall_2: 0.7962 - precision_2: 0.9666 - auc_2: 0.9723 - val_loss: 0.2844 - val_binary_accuracy: 0.9178 - val_recall_2: 0.6222 - val_precision_2: 0.9492 - val_auc_2: 0.9092\nEpoch 151/200\n113/113 [==============================] - 0s 3ms/step - loss: 0.1474 - binary_accuracy: 0.9461 - recall_2: 0.7795 - precision_2: 0.9462 - auc_2: 0.9738 - val_loss: 0.2780 - val_binary_accuracy: 0.9167 - val_recall_2: 0.6056 - val_precision_2: 0.9646 - val_auc_2: 0.9098\nEpoch 152/200\n113/113 [==============================] - 0s 3ms/step - loss: 0.1408 - binary_accuracy: 0.9544 - recall_2: 0.7926 - precision_2: 0.9658 - auc_2: 0.9715 - val_loss: 0.2604 - val_binary_accuracy: 0.9267 - val_recall_2: 0.6833 - val_precision_2: 0.9318 - val_auc_2: 0.9156\nEpoch 153/200\n113/113 [==============================] - 0s 4ms/step - loss: 0.1319 - binary_accuracy: 0.9542 - recall_2: 0.8148 - precision_2: 0.9548 - auc_2: 0.9790 - val_loss: 0.2668 - val_binary_accuracy: 0.9167 - val_recall_2: 0.6556 - val_precision_2: 0.9008 - val_auc_2: 0.9150\nEpoch 154/200\n113/113 [==============================] - 0s 3ms/step - loss: 0.1343 - binary_accuracy: 0.9550 - recall_2: 0.8103 - precision_2: 0.9586 - auc_2: 0.9782 - val_loss: 0.2657 - val_binary_accuracy: 0.9189 - val_recall_2: 0.7222 - val_precision_2: 0.8497 - val_auc_2: 0.9117\nEpoch 155/200\n113/113 [==============================] - 0s 4ms/step - loss: 0.1382 - binary_accuracy: 0.9508 - recall_2: 0.8109 - precision_2: 0.9553 - auc_2: 0.9770 - val_loss: 0.2743 - val_binary_accuracy: 0.9122 - val_recall_2: 0.6111 - val_precision_2: 0.9244 - val_auc_2: 0.9165\nEpoch 156/200\n113/113 [==============================] - 0s 4ms/step - loss: 0.1335 - binary_accuracy: 0.9530 - recall_2: 0.8016 - precision_2: 0.9649 - auc_2: 0.9776 - val_loss: 0.2533 - val_binary_accuracy: 0.9300 - val_recall_2: 0.7000 - val_precision_2: 0.9333 - val_auc_2: 0.9165\nEpoch 157/200\n113/113 [==============================] - 0s 3ms/step - loss: 0.1291 - binary_accuracy: 0.9545 - recall_2: 0.8293 - precision_2: 0.9544 - auc_2: 0.9805 - val_loss: 0.2630 - val_binary_accuracy: 0.9244 - val_recall_2: 0.7056 - val_precision_2: 0.8944 - val_auc_2: 0.9129\nEpoch 158/200\n113/113 [==============================] - 0s 4ms/step - loss: 0.1323 - binary_accuracy: 0.9550 - recall_2: 0.8205 - precision_2: 0.9610 - auc_2: 0.9788 - val_loss: 0.2813 - val_binary_accuracy: 0.9211 - val_recall_2: 0.6389 - val_precision_2: 0.9504 - val_auc_2: 0.9099\nEpoch 159/200\n113/113 [==============================] - 0s 3ms/step - loss: 0.1273 - binary_accuracy: 0.9588 - recall_2: 0.8179 - precision_2: 0.9793 - auc_2: 0.9799 - val_loss: 0.2684 - val_binary_accuracy: 0.9211 - val_recall_2: 0.6667 - val_precision_2: 0.9160 - val_auc_2: 0.9166\nEpoch 160/200\n113/113 [==============================] - 0s 3ms/step - loss: 0.1256 - binary_accuracy: 0.9580 - recall_2: 0.8188 - precision_2: 0.9648 - auc_2: 0.9806 - val_loss: 0.2746 - val_binary_accuracy: 0.9233 - val_recall_2: 0.6389 - val_precision_2: 0.9664 - val_auc_2: 0.9121\nEpoch 161/200\n113/113 [==============================] - 0s 3ms/step - loss: 0.1364 - binary_accuracy: 0.9538 - recall_2: 0.7949 - precision_2: 0.9638 - auc_2: 0.9759 - val_loss: 0.2752 - val_binary_accuracy: 0.9189 - val_recall_2: 0.6333 - val_precision_2: 0.9421 - val_auc_2: 0.9143\nEpoch 162/200\n113/113 [==============================] - 0s 4ms/step - loss: 0.1201 - binary_accuracy: 0.9590 - recall_2: 0.8259 - precision_2: 0.9685 - auc_2: 0.9834 - val_loss: 0.3056 - val_binary_accuracy: 0.9089 - val_recall_2: 0.5611 - val_precision_2: 0.9712 - val_auc_2: 0.9105\nEpoch 163/200\n113/113 [==============================] - 1s 6ms/step - loss: 0.1405 - binary_accuracy: 0.9510 - recall_2: 0.7901 - precision_2: 0.9626 - auc_2: 0.9761 - val_loss: 0.2633 - val_binary_accuracy: 0.9256 - val_recall_2: 0.6722 - val_precision_2: 0.9380 - val_auc_2: 0.9121\nEpoch 164/200\n113/113 [==============================] - 1s 5ms/step - loss: 0.1120 - binary_accuracy: 0.9638 - recall_2: 0.8475 - precision_2: 0.9729 - auc_2: 0.9846 - val_loss: 0.2574 - val_binary_accuracy: 0.9222 - val_recall_2: 0.6833 - val_precision_2: 0.9044 - val_auc_2: 0.9166\nEpoch 165/200\n113/113 [==============================] - 0s 3ms/step - loss: 0.1234 - binary_accuracy: 0.9569 - recall_2: 0.8133 - precision_2: 0.9641 - auc_2: 0.9800 - val_loss: 0.2739 - val_binary_accuracy: 0.9178 - val_recall_2: 0.6333 - val_precision_2: 0.9344 - val_auc_2: 0.9095\nEpoch 166/200\n113/113 [==============================] - 0s 4ms/step - loss: 0.1229 - binary_accuracy: 0.9622 - recall_2: 0.8194 - precision_2: 0.9828 - auc_2: 0.9804 - val_loss: 0.2753 - val_binary_accuracy: 0.9178 - val_recall_2: 0.6333 - val_precision_2: 0.9344 - val_auc_2: 0.9110\nEpoch 167/200\n113/113 [==============================] - 0s 3ms/step - loss: 0.1232 - binary_accuracy: 0.9557 - recall_2: 0.8081 - precision_2: 0.9583 - auc_2: 0.9826 - val_loss: 0.2811 - val_binary_accuracy: 0.9200 - val_recall_2: 0.6333 - val_precision_2: 0.9500 - val_auc_2: 0.9154\nEpoch 168/200\n113/113 [==============================] - 1s 4ms/step - loss: 0.1242 - binary_accuracy: 0.9561 - recall_2: 0.8177 - precision_2: 0.9670 - auc_2: 0.9824 - val_loss: 0.2615 - val_binary_accuracy: 0.9233 - val_recall_2: 0.6667 - val_precision_2: 0.9302 - val_auc_2: 0.9177\nEpoch 169/200\n113/113 [==============================] - 0s 3ms/step - loss: 0.1334 - binary_accuracy: 0.9527 - recall_2: 0.8045 - precision_2: 0.9583 - auc_2: 0.9772 - val_loss: 0.2796 - val_binary_accuracy: 0.9167 - val_recall_2: 0.6167 - val_precision_2: 0.9487 - val_auc_2: 0.9131\nEpoch 170/200\n113/113 [==============================] - 0s 3ms/step - loss: 0.1201 - binary_accuracy: 0.9577 - recall_2: 0.8176 - precision_2: 0.9602 - auc_2: 0.9820 - val_loss: 0.2693 - val_binary_accuracy: 0.9233 - val_recall_2: 0.6778 - val_precision_2: 0.9173 - val_auc_2: 0.9151\nEpoch 171/200\n113/113 [==============================] - 0s 3ms/step - loss: 0.1259 - binary_accuracy: 0.9556 - recall_2: 0.8215 - precision_2: 0.9536 - auc_2: 0.9824 - val_loss: 0.2644 - val_binary_accuracy: 0.9278 - val_recall_2: 0.6833 - val_precision_2: 0.9389 - val_auc_2: 0.9157\nEpoch 172/200\n113/113 [==============================] - 0s 3ms/step - loss: 0.1178 - binary_accuracy: 0.9600 - recall_2: 0.8166 - precision_2: 0.9685 - auc_2: 0.9817 - val_loss: 0.2700 - val_binary_accuracy: 0.9211 - val_recall_2: 0.6556 - val_precision_2: 0.9291 - val_auc_2: 0.9144\nEpoch 173/200\n113/113 [==============================] - 0s 3ms/step - loss: 0.1214 - binary_accuracy: 0.9602 - recall_2: 0.8278 - precision_2: 0.9675 - auc_2: 0.9816 - val_loss: 0.2781 - val_binary_accuracy: 0.9233 - val_recall_2: 0.6500 - val_precision_2: 0.9512 - val_auc_2: 0.9113\nEpoch 174/200\n113/113 [==============================] - 0s 3ms/step - loss: 0.1132 - binary_accuracy: 0.9654 - recall_2: 0.8427 - precision_2: 0.9869 - auc_2: 0.9835 - val_loss: 0.2803 - val_binary_accuracy: 0.9211 - val_recall_2: 0.6389 - val_precision_2: 0.9504 - val_auc_2: 0.9138\nEpoch 175/200\n113/113 [==============================] - 0s 4ms/step - loss: 0.1261 - binary_accuracy: 0.9584 - recall_2: 0.8120 - precision_2: 0.9610 - auc_2: 0.9786 - val_loss: 0.3243 - val_binary_accuracy: 0.9022 - val_recall_2: 0.5333 - val_precision_2: 0.9600 - val_auc_2: 0.9147\nEpoch 176/200\n113/113 [==============================] - 0s 3ms/step - loss: 0.1255 - binary_accuracy: 0.9551 - recall_2: 0.8278 - precision_2: 0.9581 - auc_2: 0.9813 - val_loss: 0.2698 - val_binary_accuracy: 0.9211 - val_recall_2: 0.6722 - val_precision_2: 0.9098 - val_auc_2: 0.9114\nEpoch 177/200\n113/113 [==============================] - 0s 3ms/step - loss: 0.1173 - binary_accuracy: 0.9606 - recall_2: 0.8380 - precision_2: 0.9645 - auc_2: 0.9835 - val_loss: 0.2984 - val_binary_accuracy: 0.9156 - val_recall_2: 0.6000 - val_precision_2: 0.9643 - val_auc_2: 0.9127\nEpoch 178/200\n113/113 [==============================] - 0s 3ms/step - loss: 0.1225 - binary_accuracy: 0.9535 - recall_2: 0.8162 - precision_2: 0.9468 - auc_2: 0.9836 - val_loss: 0.2594 - val_binary_accuracy: 0.9244 - val_recall_2: 0.6833 - val_precision_2: 0.9179 - val_auc_2: 0.9196\nEpoch 179/200\n113/113 [==============================] - 0s 2ms/step - loss: 0.1111 - binary_accuracy: 0.9619 - recall_2: 0.8344 - precision_2: 0.9725 - auc_2: 0.9861 - val_loss: 0.2724 - val_binary_accuracy: 0.9222 - val_recall_2: 0.6611 - val_precision_2: 0.9297 - val_auc_2: 0.9121\nEpoch 180/200\n113/113 [==============================] - 0s 4ms/step - loss: 0.1136 - binary_accuracy: 0.9608 - recall_2: 0.8286 - precision_2: 0.9630 - auc_2: 0.9851 - val_loss: 0.2553 - val_binary_accuracy: 0.9200 - val_recall_2: 0.6833 - val_precision_2: 0.8913 - val_auc_2: 0.9189\nEpoch 181/200\n113/113 [==============================] - 0s 4ms/step - loss: 0.1247 - binary_accuracy: 0.9581 - recall_2: 0.8174 - precision_2: 0.9666 - auc_2: 0.9810 - val_loss: 0.2646 - val_binary_accuracy: 0.9233 - val_recall_2: 0.6722 - val_precision_2: 0.9237 - val_auc_2: 0.9145\nEpoch 182/200\n113/113 [==============================] - 0s 3ms/step - loss: 0.1028 - binary_accuracy: 0.9647 - recall_2: 0.8522 - precision_2: 0.9715 - auc_2: 0.9897 - val_loss: 0.2681 - val_binary_accuracy: 0.9256 - val_recall_2: 0.6722 - val_precision_2: 0.9380 - val_auc_2: 0.9157\nEpoch 183/200\n113/113 [==============================] - 0s 3ms/step - loss: 0.1195 - binary_accuracy: 0.9583 - recall_2: 0.8302 - precision_2: 0.9611 - auc_2: 0.9837 - val_loss: 0.2688 - val_binary_accuracy: 0.9233 - val_recall_2: 0.6500 - val_precision_2: 0.9512 - val_auc_2: 0.9169\nEpoch 184/200\n113/113 [==============================] - 0s 3ms/step - loss: 0.1195 - binary_accuracy: 0.9594 - recall_2: 0.8231 - precision_2: 0.9741 - auc_2: 0.9826 - val_loss: 0.2615 - val_binary_accuracy: 0.9289 - val_recall_2: 0.7111 - val_precision_2: 0.9143 - val_auc_2: 0.9173\nEpoch 185/200\n113/113 [==============================] - 0s 3ms/step - loss: 0.1075 - binary_accuracy: 0.9639 - recall_2: 0.8458 - precision_2: 0.9732 - auc_2: 0.9872 - val_loss: 0.2932 - val_binary_accuracy: 0.9167 - val_recall_2: 0.6222 - val_precision_2: 0.9412 - val_auc_2: 0.9086\nEpoch 186/200\n113/113 [==============================] - 0s 3ms/step - loss: 0.1079 - binary_accuracy: 0.9586 - recall_2: 0.8340 - precision_2: 0.9637 - auc_2: 0.9868 - val_loss: 0.2967 - val_binary_accuracy: 0.9133 - val_recall_2: 0.5833 - val_precision_2: 0.9722 - val_auc_2: 0.9168\nEpoch 187/200\n113/113 [==============================] - 0s 3ms/step - loss: 0.1167 - binary_accuracy: 0.9570 - recall_2: 0.8227 - precision_2: 0.9704 - auc_2: 0.9854 - val_loss: 0.3216 - val_binary_accuracy: 0.9100 - val_recall_2: 0.5611 - val_precision_2: 0.9806 - val_auc_2: 0.9180\nEpoch 188/200\n113/113 [==============================] - 0s 4ms/step - loss: 0.1154 - binary_accuracy: 0.9582 - recall_2: 0.8273 - precision_2: 0.9725 - auc_2: 0.9869 - val_loss: 0.3048 - val_binary_accuracy: 0.9189 - val_recall_2: 0.6111 - val_precision_2: 0.9735 - val_auc_2: 0.9200\nEpoch 189/200\n113/113 [==============================] - 0s 3ms/step - loss: 0.1224 - binary_accuracy: 0.9614 - recall_2: 0.8139 - precision_2: 0.9870 - auc_2: 0.9803 - val_loss: 0.2678 - val_binary_accuracy: 0.9278 - val_recall_2: 0.7000 - val_precision_2: 0.9197 - val_auc_2: 0.9152\nEpoch 190/200\n113/113 [==============================] - 0s 2ms/step - loss: 0.1113 - binary_accuracy: 0.9650 - recall_2: 0.8600 - precision_2: 0.9631 - auc_2: 0.9860 - val_loss: 0.2649 - val_binary_accuracy: 0.9278 - val_recall_2: 0.7167 - val_precision_2: 0.9021 - val_auc_2: 0.9173\nEpoch 191/200\n113/113 [==============================] - 0s 4ms/step - loss: 0.1097 - binary_accuracy: 0.9640 - recall_2: 0.8603 - precision_2: 0.9683 - auc_2: 0.9862 - val_loss: 0.2812 - val_binary_accuracy: 0.9200 - val_recall_2: 0.6389 - val_precision_2: 0.9426 - val_auc_2: 0.9143\nEpoch 192/200\n113/113 [==============================] - 0s 3ms/step - loss: 0.1051 - binary_accuracy: 0.9635 - recall_2: 0.8350 - precision_2: 0.9784 - auc_2: 0.9861 - val_loss: 0.2633 - val_binary_accuracy: 0.9233 - val_recall_2: 0.6722 - val_precision_2: 0.9237 - val_auc_2: 0.9159\nEpoch 193/200\n113/113 [==============================] - 0s 4ms/step - loss: 0.1073 - binary_accuracy: 0.9615 - recall_2: 0.8336 - precision_2: 0.9664 - auc_2: 0.9875 - val_loss: 0.2671 - val_binary_accuracy: 0.9233 - val_recall_2: 0.6500 - val_precision_2: 0.9512 - val_auc_2: 0.9184\nEpoch 194/200\n113/113 [==============================] - 0s 3ms/step - loss: 0.1137 - binary_accuracy: 0.9610 - recall_2: 0.8344 - precision_2: 0.9695 - auc_2: 0.9851 - val_loss: 0.2701 - val_binary_accuracy: 0.9244 - val_recall_2: 0.6722 - val_precision_2: 0.9308 - val_auc_2: 0.9194\nEpoch 195/200\n113/113 [==============================] - 1s 5ms/step - loss: 0.0978 - binary_accuracy: 0.9676 - recall_2: 0.8622 - precision_2: 0.9674 - auc_2: 0.9895 - val_loss: 0.2835 - val_binary_accuracy: 0.9222 - val_recall_2: 0.6833 - val_precision_2: 0.9044 - val_auc_2: 0.9165\nEpoch 196/200\n113/113 [==============================] - 0s 4ms/step - loss: 0.1071 - binary_accuracy: 0.9648 - recall_2: 0.8565 - precision_2: 0.9691 - auc_2: 0.9879 - val_loss: 0.2795 - val_binary_accuracy: 0.9233 - val_recall_2: 0.6500 - val_precision_2: 0.9512 - val_auc_2: 0.9154\nEpoch 197/200\n113/113 [==============================] - 0s 4ms/step - loss: 0.1040 - binary_accuracy: 0.9629 - recall_2: 0.8309 - precision_2: 0.9779 - auc_2: 0.9881 - val_loss: 0.2649 - val_binary_accuracy: 0.9222 - val_recall_2: 0.6500 - val_precision_2: 0.9435 - val_auc_2: 0.9182\nEpoch 198/200\n113/113 [==============================] - 0s 4ms/step - loss: 0.0984 - binary_accuracy: 0.9660 - recall_2: 0.8588 - precision_2: 0.9721 - auc_2: 0.9912 - val_loss: 0.2775 - val_binary_accuracy: 0.9233 - val_recall_2: 0.6444 - val_precision_2: 0.9587 - val_auc_2: 0.9186\nEpoch 199/200\n113/113 [==============================] - 0s 3ms/step - loss: 0.1052 - binary_accuracy: 0.9624 - recall_2: 0.8204 - precision_2: 0.9887 - auc_2: 0.9881 - val_loss: 0.2848 - val_binary_accuracy: 0.9189 - val_recall_2: 0.6167 - val_precision_2: 0.9652 - val_auc_2: 0.9179\nEpoch 200/200\n113/113 [==============================] - 0s 3ms/step - loss: 0.0930 - binary_accuracy: 0.9703 - recall_2: 0.8537 - precision_2: 0.9815 - auc_2: 0.9871 - val_loss: 0.2689 - val_binary_accuracy: 0.9233 - val_recall_2: 0.6611 - val_precision_2: 0.9370 - val_auc_2: 0.9165\n",
     "output_type": "stream"
    }
   ]
  },
  {
   "cell_type": "code",
   "metadata": {
    "tags": [],
    "deepnote_to_be_reexecuted": false,
    "source_hash": "eb5e5ac6",
    "execution_start": 1636643055270,
    "execution_millis": 80448,
    "cell_id": "00055-c2c813ef-e708-49dc-ac2d-2a8d99612785",
    "deepnote_cell_type": "code"
   },
   "source": "model2 = basic_model(X_train.shape[1], dl1=64, dl2=64)\nmodel2.compile(loss='binary_crossentropy', optimizer='adam', metrics=[BinaryAccuracy(), Recall(), Precision(), AUC()])\n\nhistory2 = model2.fit(X_train, y_train, epochs=200, batch_size=32, validation_split=0.2, verbose=1)",
   "execution_count": null,
   "outputs": [
    {
     "name": "stdout",
     "text": "Epoch 1/200\n113/113 [==============================] - 3s 14ms/step - loss: 0.5555 - binary_accuracy: 0.7278 - recall_4: 0.1726 - precision_4: 0.2850 - auc_4: 0.5714 - val_loss: 0.4656 - val_binary_accuracy: 0.8000 - val_recall_4: 0.0000e+00 - val_precision_4: 0.0000e+00 - val_auc_4: 0.7117\nEpoch 2/200\n113/113 [==============================] - 0s 4ms/step - loss: 0.4560 - binary_accuracy: 0.8059 - recall_4: 0.0366 - precision_4: 0.9429 - auc_4: 0.7155 - val_loss: 0.4359 - val_binary_accuracy: 0.8078 - val_recall_4: 0.0389 - val_precision_4: 1.0000 - val_auc_4: 0.7884\nEpoch 3/200\n113/113 [==============================] - 0s 4ms/step - loss: 0.4166 - binary_accuracy: 0.8231 - recall_4: 0.1431 - precision_4: 0.8509 - auc_4: 0.7897 - val_loss: 0.4124 - val_binary_accuracy: 0.8167 - val_recall_4: 0.1167 - val_precision_4: 0.7778 - val_auc_4: 0.8065\nEpoch 4/200\n113/113 [==============================] - 0s 4ms/step - loss: 0.4025 - binary_accuracy: 0.8362 - recall_4: 0.2457 - precision_4: 0.8511 - auc_4: 0.8014 - val_loss: 0.3903 - val_binary_accuracy: 0.8289 - val_recall_4: 0.2556 - val_precision_4: 0.6970 - val_auc_4: 0.8156\nEpoch 5/200\n113/113 [==============================] - 0s 4ms/step - loss: 0.3819 - binary_accuracy: 0.8405 - recall_4: 0.3056 - precision_4: 0.7758 - auc_4: 0.8187 - val_loss: 0.3795 - val_binary_accuracy: 0.8322 - val_recall_4: 0.2667 - val_precision_4: 0.7164 - val_auc_4: 0.8300\nEpoch 6/200\n113/113 [==============================] - 0s 4ms/step - loss: 0.3524 - binary_accuracy: 0.8558 - recall_4: 0.3583 - precision_4: 0.7793 - auc_4: 0.8408 - val_loss: 0.3737 - val_binary_accuracy: 0.8333 - val_recall_4: 0.3111 - val_precision_4: 0.6829 - val_auc_4: 0.8353\nEpoch 7/200\n113/113 [==============================] - 0s 3ms/step - loss: 0.3578 - binary_accuracy: 0.8589 - recall_4: 0.3560 - precision_4: 0.8060 - auc_4: 0.8223 - val_loss: 0.3694 - val_binary_accuracy: 0.8389 - val_recall_4: 0.3444 - val_precision_4: 0.6966 - val_auc_4: 0.8362\nEpoch 8/200\n113/113 [==============================] - 0s 4ms/step - loss: 0.3485 - binary_accuracy: 0.8604 - recall_4: 0.4184 - precision_4: 0.7809 - auc_4: 0.8457 - val_loss: 0.3681 - val_binary_accuracy: 0.8378 - val_recall_4: 0.3722 - val_precision_4: 0.6700 - val_auc_4: 0.8380\nEpoch 9/200\n113/113 [==============================] - 0s 3ms/step - loss: 0.3498 - binary_accuracy: 0.8530 - recall_4: 0.3865 - precision_4: 0.7738 - auc_4: 0.8456 - val_loss: 0.3653 - val_binary_accuracy: 0.8433 - val_recall_4: 0.3222 - val_precision_4: 0.7532 - val_auc_4: 0.8425\nEpoch 10/200\n113/113 [==============================] - 0s 3ms/step - loss: 0.3435 - binary_accuracy: 0.8566 - recall_4: 0.3988 - precision_4: 0.7914 - auc_4: 0.8540 - val_loss: 0.3645 - val_binary_accuracy: 0.8433 - val_recall_4: 0.3167 - val_precision_4: 0.7600 - val_auc_4: 0.8413\nEpoch 11/200\n113/113 [==============================] - 0s 3ms/step - loss: 0.3560 - binary_accuracy: 0.8489 - recall_4: 0.3971 - precision_4: 0.7904 - auc_4: 0.8501 - val_loss: 0.3598 - val_binary_accuracy: 0.8422 - val_recall_4: 0.4056 - val_precision_4: 0.6759 - val_auc_4: 0.8443\nEpoch 12/200\n113/113 [==============================] - 0s 3ms/step - loss: 0.3383 - binary_accuracy: 0.8663 - recall_4: 0.4331 - precision_4: 0.8186 - auc_4: 0.8535 - val_loss: 0.3563 - val_binary_accuracy: 0.8533 - val_recall_4: 0.4167 - val_precision_4: 0.7353 - val_auc_4: 0.8460\nEpoch 13/200\n113/113 [==============================] - 0s 3ms/step - loss: 0.3305 - binary_accuracy: 0.8681 - recall_4: 0.4393 - precision_4: 0.8266 - auc_4: 0.8644 - val_loss: 0.3540 - val_binary_accuracy: 0.8467 - val_recall_4: 0.4167 - val_precision_4: 0.6944 - val_auc_4: 0.8494\nEpoch 14/200\n113/113 [==============================] - 0s 4ms/step - loss: 0.3180 - binary_accuracy: 0.8695 - recall_4: 0.4434 - precision_4: 0.7655 - auc_4: 0.8628 - val_loss: 0.3501 - val_binary_accuracy: 0.8511 - val_recall_4: 0.4111 - val_precision_4: 0.7255 - val_auc_4: 0.8504\nEpoch 15/200\n113/113 [==============================] - 0s 3ms/step - loss: 0.3182 - binary_accuracy: 0.8741 - recall_4: 0.4684 - precision_4: 0.8363 - auc_4: 0.8754 - val_loss: 0.3548 - val_binary_accuracy: 0.8489 - val_recall_4: 0.3333 - val_precision_4: 0.7895 - val_auc_4: 0.8530\nEpoch 16/200\n113/113 [==============================] - 0s 4ms/step - loss: 0.3455 - binary_accuracy: 0.8527 - recall_4: 0.4442 - precision_4: 0.7863 - auc_4: 0.8620 - val_loss: 0.3515 - val_binary_accuracy: 0.8489 - val_recall_4: 0.3500 - val_precision_4: 0.7683 - val_auc_4: 0.8545\nEpoch 17/200\n113/113 [==============================] - 0s 3ms/step - loss: 0.3492 - binary_accuracy: 0.8603 - recall_4: 0.4273 - precision_4: 0.8236 - auc_4: 0.8484 - val_loss: 0.3515 - val_binary_accuracy: 0.8444 - val_recall_4: 0.3167 - val_precision_4: 0.7703 - val_auc_4: 0.8537\nEpoch 18/200\n113/113 [==============================] - 0s 2ms/step - loss: 0.3171 - binary_accuracy: 0.8735 - recall_4: 0.4761 - precision_4: 0.8423 - auc_4: 0.8751 - val_loss: 0.3457 - val_binary_accuracy: 0.8556 - val_recall_4: 0.3944 - val_precision_4: 0.7717 - val_auc_4: 0.8520\nEpoch 19/200\n113/113 [==============================] - 0s 4ms/step - loss: 0.3164 - binary_accuracy: 0.8683 - recall_4: 0.4373 - precision_4: 0.8120 - auc_4: 0.8779 - val_loss: 0.3400 - val_binary_accuracy: 0.8544 - val_recall_4: 0.4278 - val_precision_4: 0.7333 - val_auc_4: 0.8632\nEpoch 20/200\n113/113 [==============================] - 0s 4ms/step - loss: 0.2938 - binary_accuracy: 0.8826 - recall_4: 0.5118 - precision_4: 0.7984 - auc_4: 0.8879 - val_loss: 0.3392 - val_binary_accuracy: 0.8544 - val_recall_4: 0.4222 - val_precision_4: 0.7379 - val_auc_4: 0.8613\nEpoch 21/200\n113/113 [==============================] - 0s 3ms/step - loss: 0.3179 - binary_accuracy: 0.8682 - recall_4: 0.4699 - precision_4: 0.8245 - auc_4: 0.8791 - val_loss: 0.3420 - val_binary_accuracy: 0.8589 - val_recall_4: 0.3833 - val_precision_4: 0.8118 - val_auc_4: 0.8608\nEpoch 22/200\n113/113 [==============================] - 0s 3ms/step - loss: 0.3172 - binary_accuracy: 0.8672 - recall_4: 0.4614 - precision_4: 0.7986 - auc_4: 0.8799 - val_loss: 0.3398 - val_binary_accuracy: 0.8578 - val_recall_4: 0.3889 - val_precision_4: 0.7955 - val_auc_4: 0.8629\nEpoch 23/200\n113/113 [==============================] - 0s 3ms/step - loss: 0.2946 - binary_accuracy: 0.8756 - recall_4: 0.4763 - precision_4: 0.8188 - auc_4: 0.8925 - val_loss: 0.3322 - val_binary_accuracy: 0.8600 - val_recall_4: 0.4722 - val_precision_4: 0.7328 - val_auc_4: 0.8698\nEpoch 24/200\n113/113 [==============================] - 0s 4ms/step - loss: 0.2958 - binary_accuracy: 0.8812 - recall_4: 0.4892 - precision_4: 0.8284 - auc_4: 0.8904 - val_loss: 0.3333 - val_binary_accuracy: 0.8656 - val_recall_4: 0.4222 - val_precision_4: 0.8172 - val_auc_4: 0.8659\nEpoch 25/200\n113/113 [==============================] - 0s 3ms/step - loss: 0.2991 - binary_accuracy: 0.8815 - recall_4: 0.5016 - precision_4: 0.8659 - auc_4: 0.8921 - val_loss: 0.3357 - val_binary_accuracy: 0.8633 - val_recall_4: 0.4667 - val_precision_4: 0.7568 - val_auc_4: 0.8596\nEpoch 26/200\n113/113 [==============================] - 0s 4ms/step - loss: 0.2924 - binary_accuracy: 0.8816 - recall_4: 0.5199 - precision_4: 0.8378 - auc_4: 0.8969 - val_loss: 0.3270 - val_binary_accuracy: 0.8622 - val_recall_4: 0.4222 - val_precision_4: 0.7917 - val_auc_4: 0.8749\nEpoch 27/200\n113/113 [==============================] - 0s 3ms/step - loss: 0.3017 - binary_accuracy: 0.8820 - recall_4: 0.5077 - precision_4: 0.8377 - auc_4: 0.8871 - val_loss: 0.3339 - val_binary_accuracy: 0.8611 - val_recall_4: 0.3611 - val_precision_4: 0.8667 - val_auc_4: 0.8750\nEpoch 28/200\n113/113 [==============================] - 0s 4ms/step - loss: 0.2850 - binary_accuracy: 0.8900 - recall_4: 0.5378 - precision_4: 0.8678 - auc_4: 0.9000 - val_loss: 0.3219 - val_binary_accuracy: 0.8689 - val_recall_4: 0.4944 - val_precision_4: 0.7672 - val_auc_4: 0.8765\nEpoch 29/200\n113/113 [==============================] - 0s 4ms/step - loss: 0.2852 - binary_accuracy: 0.8860 - recall_4: 0.5394 - precision_4: 0.8523 - auc_4: 0.9063 - val_loss: 0.3233 - val_binary_accuracy: 0.8700 - val_recall_4: 0.4722 - val_precision_4: 0.7944 - val_auc_4: 0.8729\nEpoch 30/200\n113/113 [==============================] - 0s 3ms/step - loss: 0.2908 - binary_accuracy: 0.8827 - recall_4: 0.5421 - precision_4: 0.8419 - auc_4: 0.8983 - val_loss: 0.3227 - val_binary_accuracy: 0.8656 - val_recall_4: 0.4611 - val_precision_4: 0.7757 - val_auc_4: 0.8754\nEpoch 31/200\n113/113 [==============================] - 0s 4ms/step - loss: 0.2783 - binary_accuracy: 0.8933 - recall_4: 0.5558 - precision_4: 0.8716 - auc_4: 0.9024 - val_loss: 0.3201 - val_binary_accuracy: 0.8722 - val_recall_4: 0.5444 - val_precision_4: 0.7481 - val_auc_4: 0.8780\nEpoch 32/200\n113/113 [==============================] - 0s 3ms/step - loss: 0.2792 - binary_accuracy: 0.8953 - recall_4: 0.5300 - precision_4: 0.8610 - auc_4: 0.8904 - val_loss: 0.3178 - val_binary_accuracy: 0.8722 - val_recall_4: 0.5389 - val_precision_4: 0.7519 - val_auc_4: 0.8780\nEpoch 33/200\n113/113 [==============================] - 0s 3ms/step - loss: 0.2882 - binary_accuracy: 0.8926 - recall_4: 0.5623 - precision_4: 0.8636 - auc_4: 0.8956 - val_loss: 0.3205 - val_binary_accuracy: 0.8644 - val_recall_4: 0.4111 - val_precision_4: 0.8222 - val_auc_4: 0.8789\nEpoch 34/200\n113/113 [==============================] - 0s 3ms/step - loss: 0.2886 - binary_accuracy: 0.8871 - recall_4: 0.5207 - precision_4: 0.8614 - auc_4: 0.8914 - val_loss: 0.3287 - val_binary_accuracy: 0.8622 - val_recall_4: 0.3833 - val_precision_4: 0.8415 - val_auc_4: 0.8841\nEpoch 35/200\n113/113 [==============================] - 0s 4ms/step - loss: 0.2636 - binary_accuracy: 0.8882 - recall_4: 0.5518 - precision_4: 0.8716 - auc_4: 0.9236 - val_loss: 0.3147 - val_binary_accuracy: 0.8878 - val_recall_4: 0.5611 - val_precision_4: 0.8211 - val_auc_4: 0.8766\nEpoch 36/200\n113/113 [==============================] - 0s 3ms/step - loss: 0.2640 - binary_accuracy: 0.8975 - recall_4: 0.5566 - precision_4: 0.8659 - auc_4: 0.9113 - val_loss: 0.3308 - val_binary_accuracy: 0.8656 - val_recall_4: 0.3722 - val_precision_4: 0.8933 - val_auc_4: 0.8837\nEpoch 37/200\n113/113 [==============================] - 0s 3ms/step - loss: 0.2844 - binary_accuracy: 0.8890 - recall_4: 0.5397 - precision_4: 0.8809 - auc_4: 0.9025 - val_loss: 0.3157 - val_binary_accuracy: 0.8700 - val_recall_4: 0.4611 - val_precision_4: 0.8058 - val_auc_4: 0.8850\nEpoch 38/200\n113/113 [==============================] - 0s 3ms/step - loss: 0.2787 - binary_accuracy: 0.8946 - recall_4: 0.5680 - precision_4: 0.8791 - auc_4: 0.9058 - val_loss: 0.3192 - val_binary_accuracy: 0.8778 - val_recall_4: 0.6167 - val_precision_4: 0.7303 - val_auc_4: 0.8795\nEpoch 39/200\n113/113 [==============================] - 0s 3ms/step - loss: 0.2746 - binary_accuracy: 0.8887 - recall_4: 0.5468 - precision_4: 0.8217 - auc_4: 0.9069 - val_loss: 0.3101 - val_binary_accuracy: 0.8756 - val_recall_4: 0.5611 - val_precision_4: 0.7537 - val_auc_4: 0.8840\nEpoch 40/200\n113/113 [==============================] - 0s 3ms/step - loss: 0.2652 - binary_accuracy: 0.8977 - recall_4: 0.5777 - precision_4: 0.8709 - auc_4: 0.9122 - val_loss: 0.3098 - val_binary_accuracy: 0.8811 - val_recall_4: 0.5667 - val_precision_4: 0.7786 - val_auc_4: 0.8832\nEpoch 41/200\n113/113 [==============================] - 0s 3ms/step - loss: 0.2721 - binary_accuracy: 0.8919 - recall_4: 0.5787 - precision_4: 0.8626 - auc_4: 0.9105 - val_loss: 0.3086 - val_binary_accuracy: 0.8778 - val_recall_4: 0.5500 - val_precision_4: 0.7734 - val_auc_4: 0.8851\nEpoch 42/200\n113/113 [==============================] - 0s 3ms/step - loss: 0.2673 - binary_accuracy: 0.8985 - recall_4: 0.5728 - precision_4: 0.8841 - auc_4: 0.9103 - val_loss: 0.3076 - val_binary_accuracy: 0.8844 - val_recall_4: 0.5167 - val_precision_4: 0.8455 - val_auc_4: 0.8863\nEpoch 43/200\n113/113 [==============================] - 0s 3ms/step - loss: 0.2576 - binary_accuracy: 0.9011 - recall_4: 0.5666 - precision_4: 0.8717 - auc_4: 0.9149 - val_loss: 0.3082 - val_binary_accuracy: 0.8844 - val_recall_4: 0.5278 - val_precision_4: 0.8333 - val_auc_4: 0.8863\nEpoch 44/200\n113/113 [==============================] - 0s 4ms/step - loss: 0.2561 - binary_accuracy: 0.9043 - recall_4: 0.5860 - precision_4: 0.8821 - auc_4: 0.9142 - val_loss: 0.3220 - val_binary_accuracy: 0.8689 - val_recall_4: 0.6222 - val_precision_4: 0.6914 - val_auc_4: 0.8860\nEpoch 45/200\n113/113 [==============================] - 0s 3ms/step - loss: 0.2576 - binary_accuracy: 0.9020 - recall_4: 0.6205 - precision_4: 0.8854 - auc_4: 0.9240 - val_loss: 0.3037 - val_binary_accuracy: 0.8889 - val_recall_4: 0.5222 - val_precision_4: 0.8704 - val_auc_4: 0.8871\nEpoch 46/200\n113/113 [==============================] - 0s 3ms/step - loss: 0.2623 - binary_accuracy: 0.9029 - recall_4: 0.5810 - precision_4: 0.8761 - auc_4: 0.9059 - val_loss: 0.3061 - val_binary_accuracy: 0.8800 - val_recall_4: 0.5833 - val_precision_4: 0.7609 - val_auc_4: 0.8854\nEpoch 47/200\n113/113 [==============================] - 0s 3ms/step - loss: 0.2697 - binary_accuracy: 0.8960 - recall_4: 0.6022 - precision_4: 0.8702 - auc_4: 0.9133 - val_loss: 0.3055 - val_binary_accuracy: 0.8733 - val_recall_4: 0.4833 - val_precision_4: 0.8056 - val_auc_4: 0.8901\nEpoch 48/200\n113/113 [==============================] - 0s 3ms/step - loss: 0.2540 - binary_accuracy: 0.9042 - recall_4: 0.6158 - precision_4: 0.8945 - auc_4: 0.9197 - val_loss: 0.2984 - val_binary_accuracy: 0.8833 - val_recall_4: 0.5278 - val_precision_4: 0.8261 - val_auc_4: 0.8917\nEpoch 49/200\n113/113 [==============================] - 0s 3ms/step - loss: 0.2455 - binary_accuracy: 0.9095 - recall_4: 0.6326 - precision_4: 0.8780 - auc_4: 0.9223 - val_loss: 0.3026 - val_binary_accuracy: 0.8856 - val_recall_4: 0.5222 - val_precision_4: 0.8468 - val_auc_4: 0.8836\nEpoch 50/200\n113/113 [==============================] - 0s 3ms/step - loss: 0.2451 - binary_accuracy: 0.9097 - recall_4: 0.5969 - precision_4: 0.9044 - auc_4: 0.9229 - val_loss: 0.3061 - val_binary_accuracy: 0.8800 - val_recall_4: 0.4889 - val_precision_4: 0.8462 - val_auc_4: 0.8896\nEpoch 51/200\n113/113 [==============================] - 0s 3ms/step - loss: 0.2353 - binary_accuracy: 0.9111 - recall_4: 0.6435 - precision_4: 0.9059 - auc_4: 0.9350 - val_loss: 0.3038 - val_binary_accuracy: 0.8789 - val_recall_4: 0.5556 - val_precision_4: 0.7752 - val_auc_4: 0.8883\nEpoch 52/200\n113/113 [==============================] - 0s 3ms/step - loss: 0.2550 - binary_accuracy: 0.9110 - recall_4: 0.6540 - precision_4: 0.8963 - auc_4: 0.9175 - val_loss: 0.2963 - val_binary_accuracy: 0.8967 - val_recall_4: 0.5889 - val_precision_4: 0.8480 - val_auc_4: 0.8882\nEpoch 53/200\n113/113 [==============================] - 0s 3ms/step - loss: 0.2400 - binary_accuracy: 0.9149 - recall_4: 0.6541 - precision_4: 0.9117 - auc_4: 0.9277 - val_loss: 0.3085 - val_binary_accuracy: 0.8822 - val_recall_4: 0.4667 - val_precision_4: 0.8936 - val_auc_4: 0.8922\nEpoch 54/200\n113/113 [==============================] - 1s 5ms/step - loss: 0.2484 - binary_accuracy: 0.9025 - recall_4: 0.5982 - precision_4: 0.8952 - auc_4: 0.9266 - val_loss: 0.2984 - val_binary_accuracy: 0.8889 - val_recall_4: 0.5167 - val_precision_4: 0.8774 - val_auc_4: 0.8899\nEpoch 55/200\n113/113 [==============================] - 0s 4ms/step - loss: 0.2407 - binary_accuracy: 0.9065 - recall_4: 0.6219 - precision_4: 0.8884 - auc_4: 0.9287 - val_loss: 0.3030 - val_binary_accuracy: 0.8800 - val_recall_4: 0.4889 - val_precision_4: 0.8462 - val_auc_4: 0.8899\nEpoch 56/200\n113/113 [==============================] - 0s 3ms/step - loss: 0.2412 - binary_accuracy: 0.9107 - recall_4: 0.6498 - precision_4: 0.8833 - auc_4: 0.9260 - val_loss: 0.3046 - val_binary_accuracy: 0.8856 - val_recall_4: 0.4944 - val_precision_4: 0.8812 - val_auc_4: 0.8934\nEpoch 57/200\n113/113 [==============================] - 0s 4ms/step - loss: 0.2360 - binary_accuracy: 0.9088 - recall_4: 0.6236 - precision_4: 0.8933 - auc_4: 0.9329 - val_loss: 0.2979 - val_binary_accuracy: 0.8878 - val_recall_4: 0.5889 - val_precision_4: 0.7970 - val_auc_4: 0.8886\nEpoch 58/200\n113/113 [==============================] - 0s 3ms/step - loss: 0.2284 - binary_accuracy: 0.9126 - recall_4: 0.6209 - precision_4: 0.9006 - auc_4: 0.9340 - val_loss: 0.2949 - val_binary_accuracy: 0.8900 - val_recall_4: 0.5611 - val_precision_4: 0.8347 - val_auc_4: 0.8901\nEpoch 59/200\n113/113 [==============================] - 0s 3ms/step - loss: 0.2314 - binary_accuracy: 0.9112 - recall_4: 0.6404 - precision_4: 0.9020 - auc_4: 0.9369 - val_loss: 0.2984 - val_binary_accuracy: 0.8800 - val_recall_4: 0.4889 - val_precision_4: 0.8462 - val_auc_4: 0.8938\nEpoch 60/200\n113/113 [==============================] - 0s 3ms/step - loss: 0.2228 - binary_accuracy: 0.9184 - recall_4: 0.6499 - precision_4: 0.9204 - auc_4: 0.9388 - val_loss: 0.2959 - val_binary_accuracy: 0.8844 - val_recall_4: 0.5111 - val_precision_4: 0.8519 - val_auc_4: 0.8901\nEpoch 61/200\n113/113 [==============================] - 0s 3ms/step - loss: 0.2348 - binary_accuracy: 0.9167 - recall_4: 0.6389 - precision_4: 0.9128 - auc_4: 0.9277 - val_loss: 0.3013 - val_binary_accuracy: 0.8911 - val_recall_4: 0.6333 - val_precision_4: 0.7808 - val_auc_4: 0.8864\nEpoch 62/200\n113/113 [==============================] - 0s 4ms/step - loss: 0.2170 - binary_accuracy: 0.9225 - recall_4: 0.6748 - precision_4: 0.9146 - auc_4: 0.9389 - val_loss: 0.2908 - val_binary_accuracy: 0.8978 - val_recall_4: 0.6056 - val_precision_4: 0.8385 - val_auc_4: 0.8916\nEpoch 63/200\n113/113 [==============================] - 0s 4ms/step - loss: 0.2300 - binary_accuracy: 0.9129 - recall_4: 0.6367 - precision_4: 0.9040 - auc_4: 0.9331 - val_loss: 0.2901 - val_binary_accuracy: 0.8922 - val_recall_4: 0.5667 - val_precision_4: 0.8430 - val_auc_4: 0.8922\nEpoch 64/200\n113/113 [==============================] - 0s 3ms/step - loss: 0.2175 - binary_accuracy: 0.9192 - recall_4: 0.6714 - precision_4: 0.9133 - auc_4: 0.9420 - val_loss: 0.3054 - val_binary_accuracy: 0.8889 - val_recall_4: 0.5056 - val_precision_4: 0.8922 - val_auc_4: 0.8866\nEpoch 65/200\n113/113 [==============================] - 0s 4ms/step - loss: 0.2222 - binary_accuracy: 0.9215 - recall_4: 0.6649 - precision_4: 0.9280 - auc_4: 0.9347 - val_loss: 0.2989 - val_binary_accuracy: 0.8878 - val_recall_4: 0.5444 - val_precision_4: 0.8376 - val_auc_4: 0.8911\nEpoch 66/200\n113/113 [==============================] - 0s 4ms/step - loss: 0.2207 - binary_accuracy: 0.9182 - recall_4: 0.6644 - precision_4: 0.9232 - auc_4: 0.9412 - val_loss: 0.2937 - val_binary_accuracy: 0.8889 - val_recall_4: 0.5278 - val_precision_4: 0.8636 - val_auc_4: 0.8922\nEpoch 67/200\n113/113 [==============================] - 0s 4ms/step - loss: 0.2056 - binary_accuracy: 0.9230 - recall_4: 0.6659 - precision_4: 0.9296 - auc_4: 0.9490 - val_loss: 0.2912 - val_binary_accuracy: 0.8889 - val_recall_4: 0.5444 - val_precision_4: 0.8448 - val_auc_4: 0.8970\nEpoch 68/200\n113/113 [==============================] - 0s 3ms/step - loss: 0.2236 - binary_accuracy: 0.9110 - recall_4: 0.6306 - precision_4: 0.8908 - auc_4: 0.9376 - val_loss: 0.3092 - val_binary_accuracy: 0.8878 - val_recall_4: 0.5056 - val_precision_4: 0.8835 - val_auc_4: 0.8889\nEpoch 69/200\n113/113 [==============================] - 0s 3ms/step - loss: 0.2181 - binary_accuracy: 0.9208 - recall_4: 0.6566 - precision_4: 0.9385 - auc_4: 0.9413 - val_loss: 0.3027 - val_binary_accuracy: 0.8889 - val_recall_4: 0.5278 - val_precision_4: 0.8636 - val_auc_4: 0.8864\nEpoch 70/200\n113/113 [==============================] - 0s 3ms/step - loss: 0.2255 - binary_accuracy: 0.9160 - recall_4: 0.6725 - precision_4: 0.8906 - auc_4: 0.9367 - val_loss: 0.3045 - val_binary_accuracy: 0.8900 - val_recall_4: 0.5167 - val_precision_4: 0.8857 - val_auc_4: 0.8910\nEpoch 71/200\n113/113 [==============================] - 0s 3ms/step - loss: 0.2152 - binary_accuracy: 0.9294 - recall_4: 0.6981 - precision_4: 0.9409 - auc_4: 0.9399 - val_loss: 0.2966 - val_binary_accuracy: 0.8944 - val_recall_4: 0.5444 - val_precision_4: 0.8829 - val_auc_4: 0.8964\nEpoch 72/200\n113/113 [==============================] - 0s 3ms/step - loss: 0.1921 - binary_accuracy: 0.9294 - recall_4: 0.6829 - precision_4: 0.9348 - auc_4: 0.9543 - val_loss: 0.2885 - val_binary_accuracy: 0.8967 - val_recall_4: 0.5889 - val_precision_4: 0.8480 - val_auc_4: 0.8955\nEpoch 73/200\n113/113 [==============================] - 0s 3ms/step - loss: 0.2144 - binary_accuracy: 0.9191 - recall_4: 0.6671 - precision_4: 0.9011 - auc_4: 0.9456 - val_loss: 0.2933 - val_binary_accuracy: 0.8833 - val_recall_4: 0.5278 - val_precision_4: 0.8261 - val_auc_4: 0.8938\nEpoch 74/200\n113/113 [==============================] - 0s 4ms/step - loss: 0.2076 - binary_accuracy: 0.9228 - recall_4: 0.6774 - precision_4: 0.9112 - auc_4: 0.9457 - val_loss: 0.2871 - val_binary_accuracy: 0.8978 - val_recall_4: 0.5833 - val_precision_4: 0.8607 - val_auc_4: 0.8929\nEpoch 75/200\n113/113 [==============================] - 0s 3ms/step - loss: 0.2089 - binary_accuracy: 0.9206 - recall_4: 0.6658 - precision_4: 0.9156 - auc_4: 0.9476 - val_loss: 0.2841 - val_binary_accuracy: 0.9000 - val_recall_4: 0.5944 - val_precision_4: 0.8629 - val_auc_4: 0.8954\nEpoch 76/200\n113/113 [==============================] - 0s 4ms/step - loss: 0.2069 - binary_accuracy: 0.9221 - recall_4: 0.6954 - precision_4: 0.9105 - auc_4: 0.9484 - val_loss: 0.2919 - val_binary_accuracy: 0.8944 - val_recall_4: 0.5444 - val_precision_4: 0.8829 - val_auc_4: 0.8972\nEpoch 77/200\n113/113 [==============================] - 0s 3ms/step - loss: 0.2138 - binary_accuracy: 0.9255 - recall_4: 0.6929 - precision_4: 0.9253 - auc_4: 0.9413 - val_loss: 0.2824 - val_binary_accuracy: 0.8933 - val_recall_4: 0.6167 - val_precision_4: 0.8043 - val_auc_4: 0.9004\nEpoch 78/200\n113/113 [==============================] - 1s 11ms/step - loss: 0.1885 - binary_accuracy: 0.9363 - recall_4: 0.7271 - precision_4: 0.9400 - auc_4: 0.9538 - val_loss: 0.2875 - val_binary_accuracy: 0.8944 - val_recall_4: 0.5833 - val_precision_4: 0.8400 - val_auc_4: 0.8978\nEpoch 79/200\n113/113 [==============================] - 0s 3ms/step - loss: 0.2126 - binary_accuracy: 0.9243 - recall_4: 0.6933 - precision_4: 0.9289 - auc_4: 0.9458 - val_loss: 0.2833 - val_binary_accuracy: 0.8944 - val_recall_4: 0.6111 - val_precision_4: 0.8148 - val_auc_4: 0.8964\nEpoch 80/200\n113/113 [==============================] - 0s 3ms/step - loss: 0.2021 - binary_accuracy: 0.9245 - recall_4: 0.6841 - precision_4: 0.9273 - auc_4: 0.9502 - val_loss: 0.2891 - val_binary_accuracy: 0.9044 - val_recall_4: 0.6167 - val_precision_4: 0.8672 - val_auc_4: 0.8894\nEpoch 81/200\n113/113 [==============================] - 0s 3ms/step - loss: 0.2166 - binary_accuracy: 0.9239 - recall_4: 0.6963 - precision_4: 0.9303 - auc_4: 0.9403 - val_loss: 0.2896 - val_binary_accuracy: 0.8978 - val_recall_4: 0.5556 - val_precision_4: 0.8929 - val_auc_4: 0.8949\nEpoch 82/200\n113/113 [==============================] - 0s 3ms/step - loss: 0.2043 - binary_accuracy: 0.9228 - recall_4: 0.6716 - precision_4: 0.9194 - auc_4: 0.9484 - val_loss: 0.2911 - val_binary_accuracy: 0.9000 - val_recall_4: 0.5944 - val_precision_4: 0.8629 - val_auc_4: 0.8924\nEpoch 83/200\n113/113 [==============================] - 0s 4ms/step - loss: 0.2009 - binary_accuracy: 0.9267 - recall_4: 0.6919 - precision_4: 0.9197 - auc_4: 0.9493 - val_loss: 0.2902 - val_binary_accuracy: 0.8933 - val_recall_4: 0.6500 - val_precision_4: 0.7800 - val_auc_4: 0.8919\nEpoch 84/200\n113/113 [==============================] - 0s 3ms/step - loss: 0.2003 - binary_accuracy: 0.9293 - recall_4: 0.7013 - precision_4: 0.9168 - auc_4: 0.9475 - val_loss: 0.3013 - val_binary_accuracy: 0.8978 - val_recall_4: 0.5944 - val_precision_4: 0.8492 - val_auc_4: 0.8849\nEpoch 85/200\n113/113 [==============================] - 0s 3ms/step - loss: 0.1987 - binary_accuracy: 0.9282 - recall_4: 0.7124 - precision_4: 0.9059 - auc_4: 0.9471 - val_loss: 0.2983 - val_binary_accuracy: 0.8944 - val_recall_4: 0.5167 - val_precision_4: 0.9208 - val_auc_4: 0.9016\nEpoch 86/200\n113/113 [==============================] - 0s 4ms/step - loss: 0.1874 - binary_accuracy: 0.9323 - recall_4: 0.6982 - precision_4: 0.9298 - auc_4: 0.9536 - val_loss: 0.2855 - val_binary_accuracy: 0.8978 - val_recall_4: 0.6944 - val_precision_4: 0.7716 - val_auc_4: 0.9020\nEpoch 87/200\n113/113 [==============================] - 0s 3ms/step - loss: 0.2063 - binary_accuracy: 0.9268 - recall_4: 0.7056 - precision_4: 0.9080 - auc_4: 0.9447 - val_loss: 0.2826 - val_binary_accuracy: 0.9022 - val_recall_4: 0.5889 - val_precision_4: 0.8833 - val_auc_4: 0.9006\nEpoch 88/200\n113/113 [==============================] - 0s 3ms/step - loss: 0.1871 - binary_accuracy: 0.9324 - recall_4: 0.7255 - precision_4: 0.9172 - auc_4: 0.9543 - val_loss: 0.2808 - val_binary_accuracy: 0.9033 - val_recall_4: 0.6111 - val_precision_4: 0.8661 - val_auc_4: 0.8992\nEpoch 89/200\n113/113 [==============================] - 0s 3ms/step - loss: 0.1893 - binary_accuracy: 0.9282 - recall_4: 0.7084 - precision_4: 0.9235 - auc_4: 0.9586 - val_loss: 0.2805 - val_binary_accuracy: 0.8989 - val_recall_4: 0.6056 - val_precision_4: 0.8450 - val_auc_4: 0.9014\nEpoch 90/200\n113/113 [==============================] - 0s 4ms/step - loss: 0.1862 - binary_accuracy: 0.9366 - recall_4: 0.7442 - precision_4: 0.9278 - auc_4: 0.9558 - val_loss: 0.2879 - val_binary_accuracy: 0.9022 - val_recall_4: 0.6111 - val_precision_4: 0.8594 - val_auc_4: 0.8936\nEpoch 91/200\n113/113 [==============================] - 0s 3ms/step - loss: 0.1926 - binary_accuracy: 0.9256 - recall_4: 0.7151 - precision_4: 0.9159 - auc_4: 0.9547 - val_loss: 0.3058 - val_binary_accuracy: 0.8844 - val_recall_4: 0.5278 - val_precision_4: 0.8333 - val_auc_4: 0.8958\nEpoch 92/200\n113/113 [==============================] - 0s 3ms/step - loss: 0.1902 - binary_accuracy: 0.9278 - recall_4: 0.6880 - precision_4: 0.9048 - auc_4: 0.9511 - val_loss: 0.2814 - val_binary_accuracy: 0.8944 - val_recall_4: 0.5889 - val_precision_4: 0.8346 - val_auc_4: 0.9013\nEpoch 93/200\n113/113 [==============================] - 0s 3ms/step - loss: 0.1860 - binary_accuracy: 0.9309 - recall_4: 0.7123 - precision_4: 0.9099 - auc_4: 0.9530 - val_loss: 0.2968 - val_binary_accuracy: 0.9022 - val_recall_4: 0.7056 - val_precision_4: 0.7840 - val_auc_4: 0.8916\nEpoch 94/200\n113/113 [==============================] - 0s 3ms/step - loss: 0.1966 - binary_accuracy: 0.9303 - recall_4: 0.7050 - precision_4: 0.9247 - auc_4: 0.9485 - val_loss: 0.2881 - val_binary_accuracy: 0.8889 - val_recall_4: 0.5611 - val_precision_4: 0.8279 - val_auc_4: 0.9018\nEpoch 95/200\n113/113 [==============================] - 0s 3ms/step - loss: 0.1934 - binary_accuracy: 0.9254 - recall_4: 0.7084 - precision_4: 0.9037 - auc_4: 0.9539 - val_loss: 0.2883 - val_binary_accuracy: 0.9000 - val_recall_4: 0.6500 - val_precision_4: 0.8125 - val_auc_4: 0.9006\nEpoch 96/200\n113/113 [==============================] - 0s 4ms/step - loss: 0.1798 - binary_accuracy: 0.9391 - recall_4: 0.7509 - precision_4: 0.9382 - auc_4: 0.9596 - val_loss: 0.2972 - val_binary_accuracy: 0.8967 - val_recall_4: 0.5389 - val_precision_4: 0.9065 - val_auc_4: 0.8942\nEpoch 97/200\n113/113 [==============================] - 0s 3ms/step - loss: 0.1908 - binary_accuracy: 0.9332 - recall_4: 0.6909 - precision_4: 0.9499 - auc_4: 0.9534 - val_loss: 0.2914 - val_binary_accuracy: 0.9033 - val_recall_4: 0.6056 - val_precision_4: 0.8720 - val_auc_4: 0.8943\nEpoch 98/200\n113/113 [==============================] - 0s 3ms/step - loss: 0.1909 - binary_accuracy: 0.9284 - recall_4: 0.7198 - precision_4: 0.9263 - auc_4: 0.9543 - val_loss: 0.2894 - val_binary_accuracy: 0.9056 - val_recall_4: 0.6444 - val_precision_4: 0.8467 - val_auc_4: 0.8968\nEpoch 99/200\n113/113 [==============================] - 0s 3ms/step - loss: 0.1817 - binary_accuracy: 0.9409 - recall_4: 0.7589 - precision_4: 0.9382 - auc_4: 0.9574 - val_loss: 0.2909 - val_binary_accuracy: 0.8944 - val_recall_4: 0.5833 - val_precision_4: 0.8400 - val_auc_4: 0.9000\nEpoch 100/200\n113/113 [==============================] - 0s 3ms/step - loss: 0.1726 - binary_accuracy: 0.9372 - recall_4: 0.7392 - precision_4: 0.9481 - auc_4: 0.9648 - val_loss: 0.2901 - val_binary_accuracy: 0.8956 - val_recall_4: 0.5667 - val_precision_4: 0.8644 - val_auc_4: 0.8997\nEpoch 101/200\n113/113 [==============================] - 0s 3ms/step - loss: 0.1688 - binary_accuracy: 0.9388 - recall_4: 0.7478 - precision_4: 0.9402 - auc_4: 0.9633 - val_loss: 0.3052 - val_binary_accuracy: 0.8944 - val_recall_4: 0.5278 - val_precision_4: 0.9048 - val_auc_4: 0.8920\nEpoch 102/200\n113/113 [==============================] - 0s 4ms/step - loss: 0.1932 - binary_accuracy: 0.9274 - recall_4: 0.7026 - precision_4: 0.9315 - auc_4: 0.9547 - val_loss: 0.2927 - val_binary_accuracy: 0.9044 - val_recall_4: 0.5778 - val_precision_4: 0.9123 - val_auc_4: 0.9006\nEpoch 103/200\n113/113 [==============================] - 0s 4ms/step - loss: 0.1836 - binary_accuracy: 0.9290 - recall_4: 0.7058 - precision_4: 0.9274 - auc_4: 0.9559 - val_loss: 0.3033 - val_binary_accuracy: 0.8933 - val_recall_4: 0.5056 - val_precision_4: 0.9286 - val_auc_4: 0.8993\nEpoch 104/200\n113/113 [==============================] - 0s 3ms/step - loss: 0.1856 - binary_accuracy: 0.9335 - recall_4: 0.7222 - precision_4: 0.9387 - auc_4: 0.9554 - val_loss: 0.2928 - val_binary_accuracy: 0.9056 - val_recall_4: 0.6444 - val_precision_4: 0.8467 - val_auc_4: 0.8960\nEpoch 105/200\n113/113 [==============================] - 0s 4ms/step - loss: 0.1806 - binary_accuracy: 0.9349 - recall_4: 0.7626 - precision_4: 0.9130 - auc_4: 0.9600 - val_loss: 0.2783 - val_binary_accuracy: 0.9078 - val_recall_4: 0.6444 - val_precision_4: 0.8593 - val_auc_4: 0.9023\nEpoch 106/200\n113/113 [==============================] - 0s 4ms/step - loss: 0.1765 - binary_accuracy: 0.9381 - recall_4: 0.7389 - precision_4: 0.9469 - auc_4: 0.9625 - val_loss: 0.2991 - val_binary_accuracy: 0.8967 - val_recall_4: 0.5444 - val_precision_4: 0.8991 - val_auc_4: 0.8995\nEpoch 107/200\n113/113 [==============================] - 0s 4ms/step - loss: 0.1758 - binary_accuracy: 0.9358 - recall_4: 0.7232 - precision_4: 0.9410 - auc_4: 0.9613 - val_loss: 0.2808 - val_binary_accuracy: 0.9056 - val_recall_4: 0.6111 - val_precision_4: 0.8800 - val_auc_4: 0.9018\nEpoch 108/200\n113/113 [==============================] - 0s 3ms/step - loss: 0.1706 - binary_accuracy: 0.9383 - recall_4: 0.7300 - precision_4: 0.9549 - auc_4: 0.9617 - val_loss: 0.2885 - val_binary_accuracy: 0.8989 - val_recall_4: 0.5556 - val_precision_4: 0.9009 - val_auc_4: 0.9005\nEpoch 109/200\n113/113 [==============================] - 0s 3ms/step - loss: 0.1621 - binary_accuracy: 0.9427 - recall_4: 0.7556 - precision_4: 0.9487 - auc_4: 0.9662 - val_loss: 0.2911 - val_binary_accuracy: 0.9000 - val_recall_4: 0.5833 - val_precision_4: 0.8750 - val_auc_4: 0.9025\nEpoch 110/200\n113/113 [==============================] - 0s 3ms/step - loss: 0.1720 - binary_accuracy: 0.9354 - recall_4: 0.7303 - precision_4: 0.9364 - auc_4: 0.9632 - val_loss: 0.2780 - val_binary_accuracy: 0.9067 - val_recall_4: 0.6333 - val_precision_4: 0.8636 - val_auc_4: 0.9041\nEpoch 111/200\n113/113 [==============================] - 0s 3ms/step - loss: 0.1873 - binary_accuracy: 0.9319 - recall_4: 0.7290 - precision_4: 0.9226 - auc_4: 0.9553 - val_loss: 0.3182 - val_binary_accuracy: 0.8911 - val_recall_4: 0.5167 - val_precision_4: 0.8942 - val_auc_4: 0.8996\nEpoch 112/200\n113/113 [==============================] - 0s 4ms/step - loss: 0.1655 - binary_accuracy: 0.9437 - recall_4: 0.7563 - precision_4: 0.9560 - auc_4: 0.9658 - val_loss: 0.2919 - val_binary_accuracy: 0.8967 - val_recall_4: 0.5889 - val_precision_4: 0.8480 - val_auc_4: 0.9004\nEpoch 113/200\n113/113 [==============================] - 0s 3ms/step - loss: 0.1710 - binary_accuracy: 0.9397 - recall_4: 0.7450 - precision_4: 0.9295 - auc_4: 0.9610 - val_loss: 0.2943 - val_binary_accuracy: 0.9022 - val_recall_4: 0.5667 - val_precision_4: 0.9107 - val_auc_4: 0.9022\nEpoch 114/200\n113/113 [==============================] - 0s 4ms/step - loss: 0.1635 - binary_accuracy: 0.9439 - recall_4: 0.7678 - precision_4: 0.9546 - auc_4: 0.9665 - val_loss: 0.3061 - val_binary_accuracy: 0.8922 - val_recall_4: 0.5167 - val_precision_4: 0.9029 - val_auc_4: 0.8966\nEpoch 115/200\n113/113 [==============================] - 0s 4ms/step - loss: 0.1629 - binary_accuracy: 0.9402 - recall_4: 0.7421 - precision_4: 0.9284 - auc_4: 0.9649 - val_loss: 0.2855 - val_binary_accuracy: 0.9022 - val_recall_4: 0.6500 - val_precision_4: 0.8239 - val_auc_4: 0.9016\nEpoch 116/200\n113/113 [==============================] - 0s 4ms/step - loss: 0.1696 - binary_accuracy: 0.9384 - recall_4: 0.7672 - precision_4: 0.9111 - auc_4: 0.9638 - val_loss: 0.2941 - val_binary_accuracy: 0.9022 - val_recall_4: 0.5833 - val_precision_4: 0.8898 - val_auc_4: 0.8944\nEpoch 117/200\n113/113 [==============================] - 0s 3ms/step - loss: 0.1634 - binary_accuracy: 0.9400 - recall_4: 0.7542 - precision_4: 0.9300 - auc_4: 0.9662 - val_loss: 0.2850 - val_binary_accuracy: 0.9056 - val_recall_4: 0.6500 - val_precision_4: 0.8417 - val_auc_4: 0.9021\nEpoch 118/200\n113/113 [==============================] - 0s 3ms/step - loss: 0.1714 - binary_accuracy: 0.9352 - recall_4: 0.7299 - precision_4: 0.9219 - auc_4: 0.9626 - val_loss: 0.3043 - val_binary_accuracy: 0.8989 - val_recall_4: 0.5611 - val_precision_4: 0.8938 - val_auc_4: 0.8927\nEpoch 119/200\n113/113 [==============================] - 0s 3ms/step - loss: 0.1733 - binary_accuracy: 0.9409 - recall_4: 0.7629 - precision_4: 0.9456 - auc_4: 0.9640 - val_loss: 0.2999 - val_binary_accuracy: 0.8978 - val_recall_4: 0.5500 - val_precision_4: 0.9000 - val_auc_4: 0.9033\nEpoch 120/200\n113/113 [==============================] - 0s 4ms/step - loss: 0.1638 - binary_accuracy: 0.9382 - recall_4: 0.7543 - precision_4: 0.9393 - auc_4: 0.9696 - val_loss: 0.2934 - val_binary_accuracy: 0.9056 - val_recall_4: 0.7222 - val_precision_4: 0.7879 - val_auc_4: 0.9016\nEpoch 121/200\n113/113 [==============================] - 0s 3ms/step - loss: 0.1471 - binary_accuracy: 0.9474 - recall_4: 0.8023 - precision_4: 0.9255 - auc_4: 0.9735 - val_loss: 0.2934 - val_binary_accuracy: 0.9000 - val_recall_4: 0.6611 - val_precision_4: 0.8041 - val_auc_4: 0.9020\nEpoch 122/200\n113/113 [==============================] - 0s 3ms/step - loss: 0.1631 - binary_accuracy: 0.9378 - recall_4: 0.7654 - precision_4: 0.9158 - auc_4: 0.9670 - val_loss: 0.2900 - val_binary_accuracy: 0.8989 - val_recall_4: 0.5889 - val_precision_4: 0.8618 - val_auc_4: 0.8998\nEpoch 123/200\n113/113 [==============================] - 0s 3ms/step - loss: 0.1603 - binary_accuracy: 0.9415 - recall_4: 0.7648 - precision_4: 0.9381 - auc_4: 0.9681 - val_loss: 0.2988 - val_binary_accuracy: 0.9044 - val_recall_4: 0.5667 - val_precision_4: 0.9273 - val_auc_4: 0.9003\nEpoch 124/200\n113/113 [==============================] - 0s 3ms/step - loss: 0.1591 - binary_accuracy: 0.9399 - recall_4: 0.7437 - precision_4: 0.9433 - auc_4: 0.9688 - val_loss: 0.2953 - val_binary_accuracy: 0.9056 - val_recall_4: 0.5778 - val_precision_4: 0.9204 - val_auc_4: 0.9032\nEpoch 125/200\n113/113 [==============================] - 0s 3ms/step - loss: 0.1606 - binary_accuracy: 0.9423 - recall_4: 0.7564 - precision_4: 0.9525 - auc_4: 0.9669 - val_loss: 0.2815 - val_binary_accuracy: 0.9022 - val_recall_4: 0.6000 - val_precision_4: 0.8710 - val_auc_4: 0.9060\nEpoch 126/200\n113/113 [==============================] - 0s 3ms/step - loss: 0.1585 - binary_accuracy: 0.9457 - recall_4: 0.7709 - precision_4: 0.9450 - auc_4: 0.9670 - val_loss: 0.2965 - val_binary_accuracy: 0.9067 - val_recall_4: 0.5722 - val_precision_4: 0.9364 - val_auc_4: 0.9001\nEpoch 127/200\n113/113 [==============================] - 0s 4ms/step - loss: 0.1550 - binary_accuracy: 0.9447 - recall_4: 0.7588 - precision_4: 0.9508 - auc_4: 0.9712 - val_loss: 0.2874 - val_binary_accuracy: 0.9033 - val_recall_4: 0.6444 - val_precision_4: 0.8345 - val_auc_4: 0.8996\nEpoch 128/200\n113/113 [==============================] - 0s 4ms/step - loss: 0.1477 - binary_accuracy: 0.9541 - recall_4: 0.8055 - precision_4: 0.9612 - auc_4: 0.9741 - val_loss: 0.2913 - val_binary_accuracy: 0.8989 - val_recall_4: 0.6500 - val_precision_4: 0.8069 - val_auc_4: 0.9000\nEpoch 129/200\n113/113 [==============================] - 0s 3ms/step - loss: 0.1539 - binary_accuracy: 0.9491 - recall_4: 0.7885 - precision_4: 0.9569 - auc_4: 0.9706 - val_loss: 0.2813 - val_binary_accuracy: 0.9100 - val_recall_4: 0.6556 - val_precision_4: 0.8613 - val_auc_4: 0.9043\nEpoch 130/200\n113/113 [==============================] - 0s 4ms/step - loss: 0.1704 - binary_accuracy: 0.9368 - recall_4: 0.7640 - precision_4: 0.9211 - auc_4: 0.9634 - val_loss: 0.2833 - val_binary_accuracy: 0.9022 - val_recall_4: 0.6056 - val_precision_4: 0.8651 - val_auc_4: 0.9062\nEpoch 131/200\n113/113 [==============================] - 0s 4ms/step - loss: 0.1435 - binary_accuracy: 0.9484 - recall_4: 0.7834 - precision_4: 0.9456 - auc_4: 0.9744 - val_loss: 0.2799 - val_binary_accuracy: 0.9133 - val_recall_4: 0.6389 - val_precision_4: 0.8984 - val_auc_4: 0.9048\nEpoch 132/200\n113/113 [==============================] - 0s 3ms/step - loss: 0.1439 - binary_accuracy: 0.9477 - recall_4: 0.7830 - precision_4: 0.9518 - auc_4: 0.9737 - val_loss: 0.2989 - val_binary_accuracy: 0.9044 - val_recall_4: 0.6500 - val_precision_4: 0.8357 - val_auc_4: 0.8925\nEpoch 133/200\n113/113 [==============================] - 0s 4ms/step - loss: 0.1546 - binary_accuracy: 0.9437 - recall_4: 0.7703 - precision_4: 0.9408 - auc_4: 0.9699 - val_loss: 0.2881 - val_binary_accuracy: 0.9078 - val_recall_4: 0.6333 - val_precision_4: 0.8702 - val_auc_4: 0.8986\nEpoch 134/200\n113/113 [==============================] - 0s 4ms/step - loss: 0.1419 - binary_accuracy: 0.9470 - recall_4: 0.7751 - precision_4: 0.9359 - auc_4: 0.9735 - val_loss: 0.2905 - val_binary_accuracy: 0.9022 - val_recall_4: 0.6167 - val_precision_4: 0.8538 - val_auc_4: 0.9031\nEpoch 135/200\n113/113 [==============================] - 0s 3ms/step - loss: 0.1508 - binary_accuracy: 0.9456 - recall_4: 0.7700 - precision_4: 0.9339 - auc_4: 0.9710 - val_loss: 0.2922 - val_binary_accuracy: 0.9044 - val_recall_4: 0.6556 - val_precision_4: 0.8310 - val_auc_4: 0.9031\nEpoch 136/200\n113/113 [==============================] - 0s 3ms/step - loss: 0.1535 - binary_accuracy: 0.9459 - recall_4: 0.7923 - precision_4: 0.9381 - auc_4: 0.9717 - val_loss: 0.2917 - val_binary_accuracy: 0.9044 - val_recall_4: 0.6500 - val_precision_4: 0.8357 - val_auc_4: 0.9005\nEpoch 137/200\n113/113 [==============================] - 0s 4ms/step - loss: 0.1548 - binary_accuracy: 0.9445 - recall_4: 0.7748 - precision_4: 0.9375 - auc_4: 0.9695 - val_loss: 0.2840 - val_binary_accuracy: 0.9167 - val_recall_4: 0.6556 - val_precision_4: 0.9008 - val_auc_4: 0.9005\nEpoch 138/200\n113/113 [==============================] - 0s 3ms/step - loss: 0.1562 - binary_accuracy: 0.9425 - recall_4: 0.7718 - precision_4: 0.9451 - auc_4: 0.9703 - val_loss: 0.2960 - val_binary_accuracy: 0.9133 - val_recall_4: 0.6222 - val_precision_4: 0.9180 - val_auc_4: 0.9018\nEpoch 139/200\n113/113 [==============================] - 0s 4ms/step - loss: 0.1453 - binary_accuracy: 0.9506 - recall_4: 0.7971 - precision_4: 0.9545 - auc_4: 0.9749 - val_loss: 0.2863 - val_binary_accuracy: 0.9167 - val_recall_4: 0.6222 - val_precision_4: 0.9412 - val_auc_4: 0.9032\nEpoch 140/200\n113/113 [==============================] - 0s 3ms/step - loss: 0.1358 - binary_accuracy: 0.9516 - recall_4: 0.7898 - precision_4: 0.9570 - auc_4: 0.9762 - val_loss: 0.3253 - val_binary_accuracy: 0.9011 - val_recall_4: 0.5389 - val_precision_4: 0.9417 - val_auc_4: 0.8946\nEpoch 141/200\n113/113 [==============================] - 0s 4ms/step - loss: 0.1602 - binary_accuracy: 0.9436 - recall_4: 0.7623 - precision_4: 0.9557 - auc_4: 0.9684 - val_loss: 0.2955 - val_binary_accuracy: 0.9100 - val_recall_4: 0.6167 - val_precision_4: 0.9024 - val_auc_4: 0.9003\nEpoch 142/200\n113/113 [==============================] - 0s 3ms/step - loss: 0.1504 - binary_accuracy: 0.9493 - recall_4: 0.7942 - precision_4: 0.9554 - auc_4: 0.9728 - val_loss: 0.3042 - val_binary_accuracy: 0.9056 - val_recall_4: 0.5500 - val_precision_4: 0.9612 - val_auc_4: 0.9037\nEpoch 143/200\n113/113 [==============================] - 0s 3ms/step - loss: 0.1498 - binary_accuracy: 0.9450 - recall_4: 0.7691 - precision_4: 0.9521 - auc_4: 0.9737 - val_loss: 0.2853 - val_binary_accuracy: 0.9122 - val_recall_4: 0.6500 - val_precision_4: 0.8797 - val_auc_4: 0.9023\nEpoch 144/200\n113/113 [==============================] - 0s 3ms/step - loss: 0.1612 - binary_accuracy: 0.9425 - recall_4: 0.7761 - precision_4: 0.9294 - auc_4: 0.9655 - val_loss: 0.2921 - val_binary_accuracy: 0.9044 - val_recall_4: 0.6611 - val_precision_4: 0.8264 - val_auc_4: 0.9026\nEpoch 145/200\n113/113 [==============================] - 0s 3ms/step - loss: 0.1467 - binary_accuracy: 0.9474 - recall_4: 0.8031 - precision_4: 0.9322 - auc_4: 0.9731 - val_loss: 0.3002 - val_binary_accuracy: 0.9111 - val_recall_4: 0.5944 - val_precision_4: 0.9386 - val_auc_4: 0.9034\nEpoch 146/200\n113/113 [==============================] - 0s 3ms/step - loss: 0.1383 - binary_accuracy: 0.9509 - recall_4: 0.8046 - precision_4: 0.9505 - auc_4: 0.9761 - val_loss: 0.2898 - val_binary_accuracy: 0.9144 - val_recall_4: 0.6167 - val_precision_4: 0.9328 - val_auc_4: 0.9018\nEpoch 147/200\n113/113 [==============================] - 0s 3ms/step - loss: 0.1516 - binary_accuracy: 0.9469 - recall_4: 0.7839 - precision_4: 0.9385 - auc_4: 0.9690 - val_loss: 0.3067 - val_binary_accuracy: 0.9111 - val_recall_4: 0.5889 - val_precision_4: 0.9464 - val_auc_4: 0.8985\nEpoch 148/200\n113/113 [==============================] - 0s 3ms/step - loss: 0.1422 - binary_accuracy: 0.9478 - recall_4: 0.7746 - precision_4: 0.9477 - auc_4: 0.9736 - val_loss: 0.2956 - val_binary_accuracy: 0.9111 - val_recall_4: 0.6222 - val_precision_4: 0.9032 - val_auc_4: 0.9015\nEpoch 149/200\n113/113 [==============================] - 0s 3ms/step - loss: 0.1494 - binary_accuracy: 0.9486 - recall_4: 0.7787 - precision_4: 0.9506 - auc_4: 0.9703 - val_loss: 0.2893 - val_binary_accuracy: 0.9178 - val_recall_4: 0.6278 - val_precision_4: 0.9417 - val_auc_4: 0.9009\nEpoch 150/200\n113/113 [==============================] - 0s 3ms/step - loss: 0.1412 - binary_accuracy: 0.9484 - recall_4: 0.7670 - precision_4: 0.9518 - auc_4: 0.9757 - val_loss: 0.3230 - val_binary_accuracy: 0.9022 - val_recall_4: 0.5556 - val_precision_4: 0.9259 - val_auc_4: 0.9015\nEpoch 151/200\n113/113 [==============================] - 0s 3ms/step - loss: 0.1434 - binary_accuracy: 0.9493 - recall_4: 0.7963 - precision_4: 0.9459 - auc_4: 0.9741 - val_loss: 0.3024 - val_binary_accuracy: 0.9111 - val_recall_4: 0.5889 - val_precision_4: 0.9464 - val_auc_4: 0.9002\nEpoch 152/200\n113/113 [==============================] - 0s 4ms/step - loss: 0.1341 - binary_accuracy: 0.9555 - recall_4: 0.8082 - precision_4: 0.9703 - auc_4: 0.9792 - val_loss: 0.3042 - val_binary_accuracy: 0.9089 - val_recall_4: 0.5944 - val_precision_4: 0.9224 - val_auc_4: 0.9017\nEpoch 153/200\n113/113 [==============================] - 0s 4ms/step - loss: 0.1388 - binary_accuracy: 0.9516 - recall_4: 0.8103 - precision_4: 0.9509 - auc_4: 0.9777 - val_loss: 0.2976 - val_binary_accuracy: 0.9144 - val_recall_4: 0.6167 - val_precision_4: 0.9328 - val_auc_4: 0.9020\nEpoch 154/200\n113/113 [==============================] - 0s 3ms/step - loss: 0.1358 - binary_accuracy: 0.9548 - recall_4: 0.8077 - precision_4: 0.9682 - auc_4: 0.9776 - val_loss: 0.2991 - val_binary_accuracy: 0.9133 - val_recall_4: 0.6111 - val_precision_4: 0.9322 - val_auc_4: 0.9014\nEpoch 155/200\n113/113 [==============================] - 0s 3ms/step - loss: 0.1314 - binary_accuracy: 0.9532 - recall_4: 0.7982 - precision_4: 0.9636 - auc_4: 0.9806 - val_loss: 0.3154 - val_binary_accuracy: 0.9100 - val_recall_4: 0.5778 - val_precision_4: 0.9541 - val_auc_4: 0.9015\nEpoch 156/200\n113/113 [==============================] - 0s 3ms/step - loss: 0.1426 - binary_accuracy: 0.9492 - recall_4: 0.7846 - precision_4: 0.9544 - auc_4: 0.9746 - val_loss: 0.3094 - val_binary_accuracy: 0.9100 - val_recall_4: 0.6167 - val_precision_4: 0.9024 - val_auc_4: 0.8957\nEpoch 157/200\n113/113 [==============================] - 0s 4ms/step - loss: 0.1295 - binary_accuracy: 0.9548 - recall_4: 0.8066 - precision_4: 0.9543 - auc_4: 0.9783 - val_loss: 0.2975 - val_binary_accuracy: 0.9144 - val_recall_4: 0.6111 - val_precision_4: 0.9402 - val_auc_4: 0.9040\nEpoch 158/200\n113/113 [==============================] - 0s 3ms/step - loss: 0.1425 - binary_accuracy: 0.9513 - recall_4: 0.7779 - precision_4: 0.9685 - auc_4: 0.9715 - val_loss: 0.3060 - val_binary_accuracy: 0.9056 - val_recall_4: 0.6222 - val_precision_4: 0.8682 - val_auc_4: 0.8999\nEpoch 159/200\n113/113 [==============================] - 0s 3ms/step - loss: 0.1327 - binary_accuracy: 0.9549 - recall_4: 0.8285 - precision_4: 0.9407 - auc_4: 0.9791 - val_loss: 0.2902 - val_binary_accuracy: 0.9178 - val_recall_4: 0.6722 - val_precision_4: 0.8897 - val_auc_4: 0.9034\nEpoch 160/200\n113/113 [==============================] - 0s 3ms/step - loss: 0.1353 - binary_accuracy: 0.9512 - recall_4: 0.8003 - precision_4: 0.9560 - auc_4: 0.9795 - val_loss: 0.3169 - val_binary_accuracy: 0.9111 - val_recall_4: 0.5833 - val_precision_4: 0.9545 - val_auc_4: 0.9018\nEpoch 161/200\n113/113 [==============================] - 0s 4ms/step - loss: 0.1372 - binary_accuracy: 0.9478 - recall_4: 0.7861 - precision_4: 0.9400 - auc_4: 0.9769 - val_loss: 0.3007 - val_binary_accuracy: 0.9111 - val_recall_4: 0.6056 - val_precision_4: 0.9237 - val_auc_4: 0.9062\nEpoch 162/200\n113/113 [==============================] - 0s 4ms/step - loss: 0.1386 - binary_accuracy: 0.9565 - recall_4: 0.7886 - precision_4: 0.9730 - auc_4: 0.9713 - val_loss: 0.2969 - val_binary_accuracy: 0.9189 - val_recall_4: 0.6722 - val_precision_4: 0.8963 - val_auc_4: 0.9035\nEpoch 163/200\n113/113 [==============================] - 0s 3ms/step - loss: 0.1378 - binary_accuracy: 0.9489 - recall_4: 0.8044 - precision_4: 0.9336 - auc_4: 0.9767 - val_loss: 0.3081 - val_binary_accuracy: 0.9144 - val_recall_4: 0.6000 - val_precision_4: 0.9558 - val_auc_4: 0.9016\nEpoch 164/200\n113/113 [==============================] - 0s 3ms/step - loss: 0.1391 - binary_accuracy: 0.9569 - recall_4: 0.8208 - precision_4: 0.9665 - auc_4: 0.9742 - val_loss: 0.2986 - val_binary_accuracy: 0.9122 - val_recall_4: 0.6778 - val_precision_4: 0.8531 - val_auc_4: 0.9024\nEpoch 165/200\n113/113 [==============================] - 0s 3ms/step - loss: 0.1512 - binary_accuracy: 0.9485 - recall_4: 0.7912 - precision_4: 0.9535 - auc_4: 0.9704 - val_loss: 0.2939 - val_binary_accuracy: 0.9156 - val_recall_4: 0.6333 - val_precision_4: 0.9194 - val_auc_4: 0.9039\nEpoch 166/200\n113/113 [==============================] - 0s 4ms/step - loss: 0.1271 - binary_accuracy: 0.9618 - recall_4: 0.8356 - precision_4: 0.9653 - auc_4: 0.9781 - val_loss: 0.2892 - val_binary_accuracy: 0.9178 - val_recall_4: 0.6833 - val_precision_4: 0.8786 - val_auc_4: 0.9059\nEpoch 167/200\n113/113 [==============================] - 0s 3ms/step - loss: 0.1477 - binary_accuracy: 0.9468 - recall_4: 0.8001 - precision_4: 0.9333 - auc_4: 0.9723 - val_loss: 0.2950 - val_binary_accuracy: 0.9178 - val_recall_4: 0.6333 - val_precision_4: 0.9344 - val_auc_4: 0.9043\nEpoch 168/200\n113/113 [==============================] - 0s 3ms/step - loss: 0.1419 - binary_accuracy: 0.9483 - recall_4: 0.8003 - precision_4: 0.9511 - auc_4: 0.9768 - val_loss: 0.2970 - val_binary_accuracy: 0.9156 - val_recall_4: 0.6389 - val_precision_4: 0.9127 - val_auc_4: 0.9014\nEpoch 169/200\n113/113 [==============================] - 1s 5ms/step - loss: 0.1224 - binary_accuracy: 0.9580 - recall_4: 0.8339 - precision_4: 0.9600 - auc_4: 0.9818 - val_loss: 0.2930 - val_binary_accuracy: 0.9156 - val_recall_4: 0.6278 - val_precision_4: 0.9262 - val_auc_4: 0.9085\nEpoch 170/200\n113/113 [==============================] - 0s 3ms/step - loss: 0.1197 - binary_accuracy: 0.9558 - recall_4: 0.8162 - precision_4: 0.9658 - auc_4: 0.9860 - val_loss: 0.3025 - val_binary_accuracy: 0.9178 - val_recall_4: 0.6278 - val_precision_4: 0.9417 - val_auc_4: 0.9039\nEpoch 171/200\n113/113 [==============================] - 0s 3ms/step - loss: 0.1260 - binary_accuracy: 0.9590 - recall_4: 0.8308 - precision_4: 0.9647 - auc_4: 0.9809 - val_loss: 0.3047 - val_binary_accuracy: 0.9189 - val_recall_4: 0.6611 - val_precision_4: 0.9084 - val_auc_4: 0.9052\nEpoch 172/200\n113/113 [==============================] - 0s 3ms/step - loss: 0.1129 - binary_accuracy: 0.9629 - recall_4: 0.8392 - precision_4: 0.9678 - auc_4: 0.9830 - val_loss: 0.3049 - val_binary_accuracy: 0.9111 - val_recall_4: 0.6333 - val_precision_4: 0.8906 - val_auc_4: 0.9073\nEpoch 173/200\n113/113 [==============================] - 1s 5ms/step - loss: 0.1332 - binary_accuracy: 0.9525 - recall_4: 0.8048 - precision_4: 0.9477 - auc_4: 0.9786 - val_loss: 0.3099 - val_binary_accuracy: 0.9156 - val_recall_4: 0.6056 - val_precision_4: 0.9561 - val_auc_4: 0.9062\nEpoch 174/200\n113/113 [==============================] - 0s 3ms/step - loss: 0.1394 - binary_accuracy: 0.9498 - recall_4: 0.7953 - precision_4: 0.9574 - auc_4: 0.9769 - val_loss: 0.3090 - val_binary_accuracy: 0.9144 - val_recall_4: 0.6222 - val_precision_4: 0.9256 - val_auc_4: 0.9084\nEpoch 175/200\n113/113 [==============================] - 0s 4ms/step - loss: 0.1204 - binary_accuracy: 0.9575 - recall_4: 0.8066 - precision_4: 0.9726 - auc_4: 0.9833 - val_loss: 0.3009 - val_binary_accuracy: 0.9133 - val_recall_4: 0.6667 - val_precision_4: 0.8696 - val_auc_4: 0.9065\nEpoch 176/200\n113/113 [==============================] - 0s 3ms/step - loss: 0.1248 - binary_accuracy: 0.9569 - recall_4: 0.8370 - precision_4: 0.9449 - auc_4: 0.9817 - val_loss: 0.2950 - val_binary_accuracy: 0.9167 - val_recall_4: 0.6833 - val_precision_4: 0.8723 - val_auc_4: 0.9072\nEpoch 177/200\n113/113 [==============================] - 0s 2ms/step - loss: 0.1205 - binary_accuracy: 0.9602 - recall_4: 0.8275 - precision_4: 0.9666 - auc_4: 0.9818 - val_loss: 0.3016 - val_binary_accuracy: 0.9200 - val_recall_4: 0.6444 - val_precision_4: 0.9355 - val_auc_4: 0.9115\nEpoch 178/200\n113/113 [==============================] - 0s 4ms/step - loss: 0.1193 - binary_accuracy: 0.9553 - recall_4: 0.8243 - precision_4: 0.9473 - auc_4: 0.9845 - val_loss: 0.3144 - val_binary_accuracy: 0.9144 - val_recall_4: 0.6222 - val_precision_4: 0.9256 - val_auc_4: 0.9032\nEpoch 179/200\n113/113 [==============================] - 0s 3ms/step - loss: 0.1348 - binary_accuracy: 0.9528 - recall_4: 0.7906 - precision_4: 0.9734 - auc_4: 0.9778 - val_loss: 0.2979 - val_binary_accuracy: 0.9200 - val_recall_4: 0.6389 - val_precision_4: 0.9426 - val_auc_4: 0.9100\nEpoch 180/200\n113/113 [==============================] - 0s 3ms/step - loss: 0.1225 - binary_accuracy: 0.9624 - recall_4: 0.8474 - precision_4: 0.9692 - auc_4: 0.9820 - val_loss: 0.3237 - val_binary_accuracy: 0.9122 - val_recall_4: 0.6167 - val_precision_4: 0.9174 - val_auc_4: 0.9023\nEpoch 181/200\n113/113 [==============================] - 0s 3ms/step - loss: 0.1192 - binary_accuracy: 0.9611 - recall_4: 0.8336 - precision_4: 0.9724 - auc_4: 0.9817 - val_loss: 0.3318 - val_binary_accuracy: 0.9100 - val_recall_4: 0.5833 - val_precision_4: 0.9459 - val_auc_4: 0.9046\nEpoch 182/200\n113/113 [==============================] - 0s 2ms/step - loss: 0.1291 - binary_accuracy: 0.9579 - recall_4: 0.8183 - precision_4: 0.9721 - auc_4: 0.9817 - val_loss: 0.3220 - val_binary_accuracy: 0.9156 - val_recall_4: 0.6000 - val_precision_4: 0.9643 - val_auc_4: 0.9088\nEpoch 183/200\n113/113 [==============================] - 1s 5ms/step - loss: 0.1242 - binary_accuracy: 0.9528 - recall_4: 0.8067 - precision_4: 0.9507 - auc_4: 0.9831 - val_loss: 0.3141 - val_binary_accuracy: 0.9156 - val_recall_4: 0.6500 - val_precision_4: 0.9000 - val_auc_4: 0.9022\nEpoch 184/200\n113/113 [==============================] - 0s 4ms/step - loss: 0.1152 - binary_accuracy: 0.9594 - recall_4: 0.8190 - precision_4: 0.9781 - auc_4: 0.9854 - val_loss: 0.3005 - val_binary_accuracy: 0.9167 - val_recall_4: 0.6333 - val_precision_4: 0.9268 - val_auc_4: 0.9133\nEpoch 185/200\n113/113 [==============================] - 0s 3ms/step - loss: 0.1155 - binary_accuracy: 0.9569 - recall_4: 0.8186 - precision_4: 0.9569 - auc_4: 0.9848 - val_loss: 0.3138 - val_binary_accuracy: 0.9178 - val_recall_4: 0.6111 - val_precision_4: 0.9649 - val_auc_4: 0.9098\nEpoch 186/200\n113/113 [==============================] - 0s 3ms/step - loss: 0.1072 - binary_accuracy: 0.9638 - recall_4: 0.8471 - precision_4: 0.9662 - auc_4: 0.9860 - val_loss: 0.3006 - val_binary_accuracy: 0.9200 - val_recall_4: 0.6722 - val_precision_4: 0.9030 - val_auc_4: 0.9086\nEpoch 187/200\n113/113 [==============================] - 0s 3ms/step - loss: 0.1252 - binary_accuracy: 0.9574 - recall_4: 0.8356 - precision_4: 0.9582 - auc_4: 0.9821 - val_loss: 0.3029 - val_binary_accuracy: 0.9233 - val_recall_4: 0.6833 - val_precision_4: 0.9111 - val_auc_4: 0.9051\nEpoch 188/200\n113/113 [==============================] - 0s 3ms/step - loss: 0.1173 - binary_accuracy: 0.9587 - recall_4: 0.8265 - precision_4: 0.9675 - auc_4: 0.9841 - val_loss: 0.3084 - val_binary_accuracy: 0.9167 - val_recall_4: 0.6333 - val_precision_4: 0.9268 - val_auc_4: 0.9046\nEpoch 189/200\n113/113 [==============================] - 0s 3ms/step - loss: 0.1261 - binary_accuracy: 0.9539 - recall_4: 0.8100 - precision_4: 0.9611 - auc_4: 0.9836 - val_loss: 0.3066 - val_binary_accuracy: 0.9111 - val_recall_4: 0.6611 - val_precision_4: 0.8623 - val_auc_4: 0.9076\nEpoch 190/200\n113/113 [==============================] - 0s 3ms/step - loss: 0.1258 - binary_accuracy: 0.9546 - recall_4: 0.8234 - precision_4: 0.9568 - auc_4: 0.9816 - val_loss: 0.3189 - val_binary_accuracy: 0.9133 - val_recall_4: 0.6444 - val_precision_4: 0.8923 - val_auc_4: 0.9057\nEpoch 191/200\n113/113 [==============================] - 0s 3ms/step - loss: 0.1251 - binary_accuracy: 0.9561 - recall_4: 0.8317 - precision_4: 0.9526 - auc_4: 0.9830 - val_loss: 0.3217 - val_binary_accuracy: 0.9178 - val_recall_4: 0.6333 - val_precision_4: 0.9344 - val_auc_4: 0.9044\nEpoch 192/200\n113/113 [==============================] - 0s 3ms/step - loss: 0.1068 - binary_accuracy: 0.9662 - recall_4: 0.8472 - precision_4: 0.9756 - auc_4: 0.9870 - val_loss: 0.3057 - val_binary_accuracy: 0.9200 - val_recall_4: 0.6889 - val_precision_4: 0.8857 - val_auc_4: 0.9064\nEpoch 193/200\n113/113 [==============================] - 0s 3ms/step - loss: 0.1213 - binary_accuracy: 0.9603 - recall_4: 0.8316 - precision_4: 0.9721 - auc_4: 0.9841 - val_loss: 0.3290 - val_binary_accuracy: 0.9089 - val_recall_4: 0.5833 - val_precision_4: 0.9375 - val_auc_4: 0.9078\nEpoch 194/200\n113/113 [==============================] - 0s 3ms/step - loss: 0.1161 - binary_accuracy: 0.9584 - recall_4: 0.8260 - precision_4: 0.9661 - auc_4: 0.9858 - val_loss: 0.3078 - val_binary_accuracy: 0.9178 - val_recall_4: 0.6333 - val_precision_4: 0.9344 - val_auc_4: 0.9110\nEpoch 195/200\n113/113 [==============================] - 0s 3ms/step - loss: 0.1188 - binary_accuracy: 0.9619 - recall_4: 0.8372 - precision_4: 0.9650 - auc_4: 0.9823 - val_loss: 0.2972 - val_binary_accuracy: 0.9256 - val_recall_4: 0.7111 - val_precision_4: 0.8951 - val_auc_4: 0.9126\nEpoch 196/200\n113/113 [==============================] - 0s 3ms/step - loss: 0.1182 - binary_accuracy: 0.9547 - recall_4: 0.8198 - precision_4: 0.9342 - auc_4: 0.9830 - val_loss: 0.3045 - val_binary_accuracy: 0.9211 - val_recall_4: 0.6611 - val_precision_4: 0.9225 - val_auc_4: 0.9111\nEpoch 197/200\n113/113 [==============================] - 0s 3ms/step - loss: 0.1082 - binary_accuracy: 0.9656 - recall_4: 0.8463 - precision_4: 0.9743 - auc_4: 0.9848 - val_loss: 0.3273 - val_binary_accuracy: 0.9067 - val_recall_4: 0.6056 - val_precision_4: 0.8934 - val_auc_4: 0.9097\nEpoch 198/200\n113/113 [==============================] - 0s 3ms/step - loss: 0.1035 - binary_accuracy: 0.9675 - recall_4: 0.8651 - precision_4: 0.9743 - auc_4: 0.9880 - val_loss: 0.3057 - val_binary_accuracy: 0.9200 - val_recall_4: 0.7000 - val_precision_4: 0.8750 - val_auc_4: 0.9097\nEpoch 199/200\n113/113 [==============================] - 1s 6ms/step - loss: 0.1137 - binary_accuracy: 0.9599 - recall_4: 0.8419 - precision_4: 0.9638 - auc_4: 0.9866 - val_loss: 0.3284 - val_binary_accuracy: 0.9133 - val_recall_4: 0.6056 - val_precision_4: 0.9397 - val_auc_4: 0.9069\nEpoch 200/200\n113/113 [==============================] - 1s 4ms/step - loss: 0.1047 - binary_accuracy: 0.9598 - recall_4: 0.8216 - precision_4: 0.9744 - auc_4: 0.9891 - val_loss: 0.3008 - val_binary_accuracy: 0.9222 - val_recall_4: 0.7111 - val_precision_4: 0.8767 - val_auc_4: 0.9114\n",
     "output_type": "stream"
    }
   ]
  },
  {
   "cell_type": "markdown",
   "source": "## Evaluate the model",
   "metadata": {
    "tags": [],
    "is_collapsed": false,
    "cell_id": "00056-98ab4947-3ca7-429e-b494-5680e367001b",
    "deepnote_cell_type": "text-cell-h2"
   }
  },
  {
   "cell_type": "code",
   "metadata": {
    "tags": [],
    "deepnote_to_be_reexecuted": false,
    "source_hash": "56a3e309",
    "execution_start": 1636638729252,
    "execution_millis": 625,
    "cell_id": "00057-8cbc13ee-6ca3-4ec9-b916-20fbeb95b722",
    "deepnote_cell_type": "code"
   },
   "source": "scores = model.evaluate(X_test, y_test, verbose=1, batch_size=y_test.shape[0])\n#print('MSE: %.4f' % (mse))\n\nscores",
   "execution_count": null,
   "outputs": [
    {
     "name": "stdout",
     "text": "1/1 [==============================] - 1s 580ms/step - loss: 0.2624 - binary_accuracy: 0.9298 - recall_2: 0.7078 - precision_2: 0.9118 - auc_2: 0.9139\n",
     "output_type": "stream"
    },
    {
     "output_type": "execute_result",
     "execution_count": 83,
     "data": {
      "text/plain": "[0.26235270500183105,\n 0.9297778010368347,\n 0.7077625393867493,\n 0.9117646813392639,\n 0.9139375686645508]"
     },
     "metadata": {}
    }
   ]
  },
  {
   "cell_type": "code",
   "metadata": {
    "tags": [],
    "deepnote_to_be_reexecuted": false,
    "source_hash": "d5140abb",
    "execution_start": 1636643164538,
    "execution_millis": 718,
    "cell_id": "00058-e7d27000-3778-4d21-9637-e69063413ab4",
    "deepnote_cell_type": "code"
   },
   "source": "scores2 = model2.evaluate(X_test, y_test, verbose=1, batch_size=y_test.shape[0])\n#print('MSE: %.4f' % (mse))\n\nscores2",
   "execution_count": null,
   "outputs": [
    {
     "name": "stdout",
     "text": "1/1 [==============================] - 1s 676ms/step - loss: 0.2750 - binary_accuracy: 0.9289 - recall_4: 0.7717 - precision_4: 0.8492 - auc_4: 0.9147\n",
     "output_type": "stream"
    },
    {
     "output_type": "execute_result",
     "execution_count": 138,
     "data": {
      "text/plain": "[0.2750239074230194,\n 0.9288889169692993,\n 0.7716894745826721,\n 0.8492462038993835,\n 0.9147137403488159]"
     },
     "metadata": {}
    }
   ]
  },
  {
   "cell_type": "markdown",
   "source": "### show_history function",
   "metadata": {
    "tags": [],
    "is_collapsed": false,
    "cell_id": "00059-06a8912c-7cb4-4fca-9fd8-94807024a17a",
    "deepnote_cell_type": "text-cell-h3"
   }
  },
  {
   "cell_type": "code",
   "metadata": {
    "tags": [],
    "deepnote_to_be_reexecuted": false,
    "source_hash": "a3aee65",
    "execution_start": 1636634748690,
    "execution_millis": 7,
    "cell_id": "00060-170fb69e-73e5-4377-bf0d-63c1ec79be14",
    "deepnote_cell_type": "code"
   },
   "source": "# This function will retrieve and plot all observed model performance metrics\n\ndef show_history(s, scale = \"linear\"):\n    \n    # Automatically retrieve list of all metrics from history\n    metrics = list(s.history.keys())[:len(list(s.history.keys()))//2]\n\n    # Calculate amount of metrics\n    nrows = len(metrics)\n\n    # Set figure size to 12 x N*5 (where N is number of metrics [nrows])\n    fig, axs = plt.subplots(nrows=nrows, ncols=1, figsize=(12, 5 * nrows))\n\n    index = -1\n\n    for metric in metrics:\n        index+=1\n\n        axs[index].plot(s.history[metric], label=metric)\n        axs[index].plot(s.history[\"val_\"+metric], label=\"val_\"+metric)\n        axs[index].set_yscale(scale)\n        axs[index].legend()\n        axs[index].grid(b=True, which=\"major\", axis=\"y\")\n        axs[index].set_title(\"Observed \"+metric)\n    \n    plt.show()\n    plt.close()",
   "execution_count": null,
   "outputs": []
  },
  {
   "cell_type": "code",
   "metadata": {
    "tags": [],
    "deepnote_to_be_reexecuted": false,
    "source_hash": "ee7a0891",
    "execution_start": 1636638781811,
    "execution_millis": 1648,
    "cell_id": "00061-2cb52d6f-0b10-471b-8074-5f8f9768a90a",
    "deepnote_cell_type": "code"
   },
   "source": "show_history(History)",
   "execution_count": null,
   "outputs": [
    {
     "data": {
      "text/plain": "<Figure size 864x1800 with 5 Axes>",
      "image/png": "[encoded data removed]"
     },
     "metadata": {
      "needs_background": "light",
      "image/png": {
       "width": 719,
       "height": 1406
      }
     },
     "output_type": "display_data"
    }
   ]
  },
  {
   "cell_type": "code",
   "metadata": {
    "tags": [],
    "deepnote_to_be_reexecuted": false,
    "source_hash": "63a091f",
    "execution_start": 1636643186305,
    "execution_millis": 1682,
    "cell_id": "00062-d8ae44b3-b671-4419-905f-6d944dbf7f54",
    "deepnote_cell_type": "code"
   },
   "source": "show_history(history2)",
   "execution_count": null,
   "outputs": [
    {
     "data": {
      "text/plain": "<Figure size 864x1800 with 5 Axes>",
      "image/png": "[encoded data removed]"
     },
     "metadata": {
      "needs_background": "light",
      "image/png": {
       "width": 719,
       "height": 1406
      }
     },
     "output_type": "display_data"
    }
   ]
  },
  {
   "cell_type": "code",
   "metadata": {
    "tags": [],
    "deepnote_to_be_reexecuted": false,
    "source_hash": "2e66f404",
    "execution_start": 1636638866174,
    "execution_millis": 100,
    "cell_id": "00063-ae9cc781-a418-4f57-9e0c-0b7367ac0e2f",
    "deepnote_cell_type": "code"
   },
   "source": "from sklearn.metrics import confusion_matrix\nyhat = model.predict(X_test)  # it gives probabilities, has to be converted to labels (zeros or ones)\n\nfor n in range(len(yhat)):\n    if yhat[n] > 0.5:\n        yhat[n] = 1\n    else:\n        yhat[n] = 0\n\nconfusion_matrix(y_test, yhat)",
   "execution_count": null,
   "outputs": [
    {
     "output_type": "execute_result",
     "execution_count": 85,
     "data": {
      "text/plain": "array([[891,  15],\n       [ 64, 155]])"
     },
     "metadata": {}
    }
   ]
  },
  {
   "cell_type": "code",
   "metadata": {
    "tags": [],
    "deepnote_to_be_reexecuted": false,
    "source_hash": "fea7b6a6",
    "execution_start": 1636635412003,
    "execution_millis": 8,
    "cell_id": "00064-a86ab0fa-1173-4fe6-8b6f-b8a645154f07",
    "deepnote_cell_type": "code"
   },
   "source": "yhat",
   "execution_count": null,
   "outputs": [
    {
     "output_type": "execute_result",
     "execution_count": 72,
     "data": {
      "text/plain": "array([[0.],\n       [0.],\n       [1.],\n       ...,\n       [0.],\n       [1.],\n       [0.]], dtype=float32)"
     },
     "metadata": {}
    }
   ]
  },
  {
   "cell_type": "code",
   "metadata": {
    "tags": [],
    "deepnote_to_be_reexecuted": false,
    "source_hash": "a682b452",
    "execution_start": 1636638876289,
    "execution_millis": 281,
    "cell_id": "00065-d9294d9f-929b-4b05-a061-b12cdbd5521d",
    "deepnote_cell_type": "code"
   },
   "source": "fig, ax = plt.subplots(figsize=(8,6))\nConfusionMatrixDisplay.from_predictions(y_test, yhat, ax=ax)\nplt.show()",
   "execution_count": null,
   "outputs": [
    {
     "data": {
      "text/plain": "<Figure size 576x432 with 2 Axes>",
      "image/png": "[encoded data removed]"
     },
     "metadata": {
      "needs_background": "light",
      "image/png": {
       "width": 432,
       "height": 371
      }
     },
     "output_type": "display_data"
    }
   ]
  },
  {
   "cell_type": "code",
   "metadata": {
    "tags": [],
    "deepnote_to_be_reexecuted": false,
    "source_hash": "11ced09d",
    "execution_start": 1636639915583,
    "execution_millis": 2,
    "cell_id": "00066-e1217c14-e450-461c-870b-4326d20f5378",
    "deepnote_cell_type": "code"
   },
   "source": "y_test.shape[0]",
   "execution_count": null,
   "outputs": [
    {
     "output_type": "execute_result",
     "execution_count": 90,
     "data": {
      "text/plain": "1125"
     },
     "metadata": {}
    }
   ]
  },
  {
   "cell_type": "code",
   "metadata": {
    "tags": [],
    "deepnote_to_be_reexecuted": false,
    "source_hash": "4e3627cb",
    "execution_start": 1636639975884,
    "execution_millis": 1,
    "cell_id": "00067-d5e07877-fa90-409d-9904-f972bd9838e5",
    "deepnote_cell_type": "code"
   },
   "source": "# FPR = FP / (FP + TP)\n15 / (891 + 15)",
   "execution_count": null,
   "outputs": [
    {
     "output_type": "execute_result",
     "execution_count": 91,
     "data": {
      "text/plain": "0.016556291390728478"
     },
     "metadata": {}
    }
   ]
  },
  {
   "cell_type": "markdown",
   "source": "Now we're going to tinkle with cutoff threshold.",
   "metadata": {
    "tags": [],
    "cell_id": "00068-7c70ab7f-c88d-4433-955c-3a8bd3966ddd",
    "deepnote_cell_type": "markdown"
   }
  },
  {
   "cell_type": "code",
   "metadata": {
    "tags": [],
    "deepnote_to_be_reexecuted": false,
    "source_hash": "714f91b4",
    "execution_start": 1636643281322,
    "execution_millis": 144,
    "cell_id": "00069-24f30d28-3e53-4bf3-9e11-873ebc99753d",
    "deepnote_cell_type": "code"
   },
   "source": "# fpr = False Positive rate\n# tpr = True Positive rate\nyhat = model.predict(X_test)\nyhat2 = model2.predict(X_test)\nfpr , tpr , thresholds = roc_curve(y_test , yhat2)",
   "execution_count": null,
   "outputs": []
  },
  {
   "cell_type": "code",
   "metadata": {
    "tags": [],
    "deepnote_to_be_reexecuted": false,
    "source_hash": "ce9a978d",
    "execution_start": 1636643314838,
    "execution_millis": 217,
    "cell_id": "00070-6ab54a5e-bf74-4f33-ae55-131efb47db47",
    "deepnote_cell_type": "code"
   },
   "source": "def plot_roc_curve(fpr,tpr): \n  plt.plot(fpr,tpr) \n  #plt.axis([0,1,0,1]) \n  plt.xlabel('False Positive Rate') \n  plt.ylabel('True Positive Rate')\n  plt.title('ROC curve of NN model')\n  plt.plot([0, 1], [0, 1], \"r--\");  # the random benchmark we need to add manually  \n  plt.show()    \n  \nplot_roc_curve (fpr,tpr)",
   "execution_count": null,
   "outputs": [
    {
     "data": {
      "text/plain": "<Figure size 432x288 with 1 Axes>",
      "image/png": "[encoded data removed]"
     },
     "metadata": {
      "needs_background": "light",
      "image/png": {
       "width": 386,
       "height": 278
      }
     },
     "output_type": "display_data"
    }
   ]
  },
  {
   "cell_type": "code",
   "metadata": {
    "tags": [],
    "deepnote_to_be_reexecuted": false,
    "source_hash": "3b82851a",
    "execution_start": 1636643348008,
    "execution_millis": 6,
    "cell_id": "00071-fd8ac5ac-40ef-4455-a9ec-12e053a32e2b",
    "deepnote_cell_type": "code"
   },
   "source": "# get the best threshold for the NN model\nJ = tpr - fpr\nix = np.argmax(J)\nbest_thresh = thresholds[ix]\nprint('Best Threshold NN model=%f' % (best_thresh))\n\n# Last model -> Best Threshold NN model=0.167334\n",
   "execution_count": null,
   "outputs": [
    {
     "name": "stdout",
     "text": "Best Threshold NN model=0.299682\n",
     "output_type": "stream"
    }
   ]
  },
  {
   "cell_type": "code",
   "metadata": {
    "tags": [],
    "deepnote_to_be_reexecuted": false,
    "source_hash": "a572673a",
    "execution_start": 1636643362270,
    "execution_millis": 289,
    "cell_id": "00072-d5c9ae44-a226-4085-8b04-c167ab254dbd",
    "deepnote_cell_type": "code"
   },
   "source": "plt.plot(tpr)\nplt.plot(fpr, color=\"red\")\nplt.plot([ix, ix], [0, 1], \"k--\")",
   "execution_count": null,
   "outputs": [
    {
     "output_type": "execute_result",
     "execution_count": 143,
     "data": {
      "text/plain": "[<matplotlib.lines.Line2D at 0x7f3c012a9410>]"
     },
     "metadata": {}
    },
    {
     "data": {
      "text/plain": "<Figure size 432x288 with 1 Axes>",
      "image/png": "[encoded data removed]"
     },
     "metadata": {
      "needs_background": "light",
      "image/png": {
       "width": 372,
       "height": 248
      }
     },
     "output_type": "display_data"
    }
   ]
  },
  {
   "cell_type": "code",
   "metadata": {
    "tags": [],
    "deepnote_to_be_reexecuted": false,
    "source_hash": "706d997b",
    "execution_start": 1636642071305,
    "execution_millis": 6,
    "cell_id": "00073-ab9a5c11-f5e8-4747-8515-5c70891376a5",
    "deepnote_cell_type": "code"
   },
   "source": "print(J[50:54])\nprint(thresholds[50:54])",
   "execution_count": null,
   "outputs": [
    {
     "name": "stdout",
     "text": "[0.74008891 0.73677765 0.74134386 0.73141008]\n[0.18023789 0.17199796 0.16733408 0.15925556]\n",
     "output_type": "stream"
    }
   ]
  },
  {
   "cell_type": "code",
   "metadata": {
    "tags": [],
    "deepnote_to_be_reexecuted": false,
    "source_hash": "eb8c1109",
    "execution_start": 1636643377950,
    "execution_millis": 237,
    "cell_id": "00074-f3fb6c78-56d9-4324-a29d-8e2c9ffafa49",
    "deepnote_cell_type": "code"
   },
   "source": "plt.plot(J)\nplt.plot(thresholds, color=\"green\")\nplt.plot([ix, ix], [0, 2], \"k--\")\nplt.plot()",
   "execution_count": null,
   "outputs": [
    {
     "output_type": "execute_result",
     "execution_count": 144,
     "data": {
      "text/plain": "[]"
     },
     "metadata": {}
    },
    {
     "data": {
      "text/plain": "<Figure size 432x288 with 1 Axes>",
      "image/png": "[encoded data removed]"
     },
     "metadata": {
      "needs_background": "light",
      "image/png": {
       "width": 379,
       "height": 248
      }
     },
     "output_type": "display_data"
    }
   ]
  },
  {
   "cell_type": "code",
   "metadata": {
    "tags": [],
    "deepnote_to_be_reexecuted": false,
    "source_hash": "8e85b603",
    "execution_start": 1636641012755,
    "execution_millis": 1,
    "cell_id": "00075-2b921571-6a35-4a90-ab3c-8da371e26ff8",
    "deepnote_cell_type": "code"
   },
   "source": "yhat_optimal = yhat > best_thresh\nyhat_suboptimal = yhat > 0.5",
   "execution_count": null,
   "outputs": []
  },
  {
   "cell_type": "code",
   "metadata": {
    "tags": [],
    "deepnote_to_be_reexecuted": false,
    "source_hash": "cfb3a0b2",
    "execution_start": 1636643411512,
    "execution_millis": 1,
    "cell_id": "00076-466bf752-09ed-469d-853a-60aaea28e4a8",
    "deepnote_cell_type": "code"
   },
   "source": "yhat2_optimal = yhat2 > best_thresh\nyhat2_suboptimal = yhat2 > 0.5",
   "execution_count": null,
   "outputs": []
  },
  {
   "cell_type": "code",
   "metadata": {
    "tags": [],
    "deepnote_to_be_reexecuted": false,
    "source_hash": "a0f65a83",
    "execution_start": 1636641283874,
    "execution_millis": 528,
    "cell_id": "00077-6145469f-166b-402c-8562-17328e2aaa63",
    "deepnote_cell_type": "code"
   },
   "source": "fig, axs = plt.subplots(nrows=1, ncols=2, figsize=(12,6))\nConfusionMatrixDisplay.from_predictions(y_test, yhat_suboptimal, ax=axs[0])\naxs[0].set_title(\"0.5 cutoff threshold\")\nConfusionMatrixDisplay.from_predictions(y_test, yhat_optimal, ax=axs[1])\naxs[1].set_title(\"Optimal cutoff threshold\")\nplt.show()",
   "execution_count": null,
   "outputs": [
    {
     "data": {
      "text/plain": "<Figure size 864x432 with 4 Axes>",
      "image/png": "[encoded data removed]"
     },
     "metadata": {
      "needs_background": "light",
      "image/png": {
       "width": 707,
       "height": 340
      }
     },
     "output_type": "display_data"
    }
   ]
  },
  {
   "cell_type": "code",
   "metadata": {
    "tags": [],
    "deepnote_to_be_reexecuted": false,
    "source_hash": "28a746d7",
    "execution_start": 1636643440799,
    "execution_millis": 575,
    "cell_id": "00078-2eecbbe7-3bee-46eb-b941-a04b46f15f3c",
    "deepnote_cell_type": "code"
   },
   "source": "fig, axs = plt.subplots(nrows=1, ncols=2, figsize=(12,6))\nConfusionMatrixDisplay.from_predictions(y_test, yhat2_suboptimal, ax=axs[0])\naxs[0].set_title(\"0.5 cutoff threshold\")\nConfusionMatrixDisplay.from_predictions(y_test, yhat2_optimal, ax=axs[1])\naxs[1].set_title(\"Optimal cutoff threshold\")\nplt.show()",
   "execution_count": null,
   "outputs": [
    {
     "data": {
      "text/plain": "<Figure size 864x432 with 4 Axes>",
      "image/png": "[encoded data removed]"
     },
     "metadata": {
      "needs_background": "light",
      "image/png": {
       "width": 707,
       "height": 340
      }
     },
     "output_type": "display_data"
    }
   ]
  },
  {
   "cell_type": "markdown",
   "source": "<a style='text-decoration:none;line-height:16px;display:flex;color:#5B5B62;padding:10px;justify-content:end;' href='https://deepnote.com?utm_source=created-in-deepnote-cell&projectId=a109ea11-a7da-42aa-8af0-3a0cdafc917e' target=\"_blank\">\n<img alt='Created in deepnote.com' style='display:inline;max-height:16px;margin:0px;margin-right:7.5px;' src='data:image/svg+xml;base64,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' > </img>\nCreated in <span style='font-weight:600;margin-left:4px;'>Deepnote</span></a>",
   "metadata": {
    "tags": [],
    "created_in_deepnote_cell": true,
    "deepnote_cell_type": "markdown"
   }
  }
 ],
 "nbformat": 4,
 "nbformat_minor": 0,
 "metadata": {
  "kernelspec": {
   "display_name": "PyCharm (adams)",
   "language": "python",
   "name": "pycharm-feb95198"
  },
  "language_info": {
   "codemirror_mode": {
    "name": "ipython",
    "version": 3
   },
   "file_extension": ".py",
   "mimetype": "text/x-python",
   "name": "python",
   "nbconvert_exporter": "python",
   "pygments_lexer": "ipython3",
   "version": "3.7.6"
  },
  "colab": {
   "name": "Project_NeuralNetwork.ipynb",
   "provenance": []
  },
  "deepnote_notebook_id": "cb5cf638-740e-412c-9878-ba5681d8f71e",
  "deepnote": {},
  "deepnote_execution_queue": []
 }
}
